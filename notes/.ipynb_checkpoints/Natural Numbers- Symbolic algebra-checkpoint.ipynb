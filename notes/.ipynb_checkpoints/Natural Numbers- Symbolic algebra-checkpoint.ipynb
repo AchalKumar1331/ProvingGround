{
 "cells": [
  {
   "cell_type": "code",
   "execution_count": 1,
   "metadata": {
    "collapsed": false
   },
   "outputs": [
    {
     "data": {
      "text/plain": []
     },
     "metadata": {},
     "output_type": "display_data"
    }
   ],
   "source": [
    "load.jar(\"/home/gadgil/code/ProvingGround/core/.jvm/target/scala-2.11/ProvingGround-Core-assembly-0.8.jar\")"
   ]
  },
  {
   "cell_type": "markdown",
   "metadata": {},
   "source": [
    "## Symbolic Algebra for natural numbers\n",
    "\n",
    "To efficiently manipulate expressions in natural numbers, or more generally rings (and fields), proving-ground has special HoTT types wrapping scala types that are Rings, Rigs, Fields etc in the _spire_ library. As a consequence:\n",
    "\n",
    "* Symbolic expressions that are equal become _definitionally_ equal, i.e., equal as scala objects.\n",
    "* We define recursion which expands for (sums with) literals\n",
    "* Expressions involving literals and variables are simplified as much as possible.\n"
   ]
  },
  {
   "cell_type": "markdown",
   "metadata": {},
   "source": [
    "The ring of natural numbers is an object NatRing. This has\n",
    "\n",
    "* a HoTT type _NatTyp_, \n",
    "* a scala type _Nat_\n",
    "* a scala representation\n",
    "* a (spire) ring structure on the underlying terms."
   ]
  },
  {
   "cell_type": "code",
   "execution_count": 2,
   "metadata": {
    "collapsed": false
   },
   "outputs": [
    {
     "data": {
      "text/plain": [
       "\u001b[32mimport \u001b[36mprovingground._\u001b[0m\n",
       "\u001b[32mimport \u001b[36mNatRing._\u001b[0m"
      ]
     },
     "metadata": {},
     "output_type": "display_data"
    }
   ],
   "source": [
    "import provingground._\n",
    "import NatRing._"
   ]
  },
  {
   "cell_type": "code",
   "execution_count": 3,
   "metadata": {
    "collapsed": false
   },
   "outputs": [
    {
     "data": {
      "text/plain": [
       "\u001b[36mn\u001b[0m: \u001b[32mRepTerm\u001b[0m[\u001b[32mspire\u001b[0m.\u001b[32mmath\u001b[0m.\u001b[32mSafeLong\u001b[0m] with \u001b[32mHoTT\u001b[0m.\u001b[32mSubs\u001b[0m[\u001b[32mRepTerm\u001b[0m[\u001b[32mspire\u001b[0m.\u001b[32mmath\u001b[0m.\u001b[32mSafeLong\u001b[0m]] = n : (Nat.Typ)\n",
       "\u001b[36mm\u001b[0m: \u001b[32mRepTerm\u001b[0m[\u001b[32mspire\u001b[0m.\u001b[32mmath\u001b[0m.\u001b[32mSafeLong\u001b[0m] with \u001b[32mHoTT\u001b[0m.\u001b[32mSubs\u001b[0m[\u001b[32mRepTerm\u001b[0m[\u001b[32mspire\u001b[0m.\u001b[32mmath\u001b[0m.\u001b[32mSafeLong\u001b[0m]] = m : (Nat.Typ)\n",
       "\u001b[36mk\u001b[0m: \u001b[32mRepTerm\u001b[0m[\u001b[32mspire\u001b[0m.\u001b[32mmath\u001b[0m.\u001b[32mSafeLong\u001b[0m] with \u001b[32mHoTT\u001b[0m.\u001b[32mSubs\u001b[0m[\u001b[32mRepTerm\u001b[0m[\u001b[32mspire\u001b[0m.\u001b[32mmath\u001b[0m.\u001b[32mSafeLong\u001b[0m]] = k : (Nat.Typ)"
      ]
     },
     "metadata": {},
     "output_type": "display_data"
    }
   ],
   "source": [
    "val n = \"n\" :: NatTyp\n",
    "val m = \"m\" :: NatTyp\n",
    "val k = \"k\" :: NatTyp"
   ]
  },
  {
   "cell_type": "markdown",
   "metadata": {},
   "source": [
    "Spire implicits let us use the addition and multiplication operations."
   ]
  },
  {
   "cell_type": "code",
   "execution_count": 4,
   "metadata": {
    "collapsed": false
   },
   "outputs": [
    {
     "data": {
      "text/plain": [
       "\u001b[32mimport \u001b[36mspire.math._\u001b[0m\n",
       "\u001b[32mimport \u001b[36mspire.algebra._\u001b[0m\n",
       "\u001b[32mimport \u001b[36mspire.implicits._\u001b[0m"
      ]
     },
     "metadata": {},
     "output_type": "display_data"
    }
   ],
   "source": [
    "import spire.math._\n",
    "import spire.algebra._\n",
    "import spire.implicits._"
   ]
  },
  {
   "cell_type": "markdown",
   "metadata": {},
   "source": [
    "### Addition and multiplication\n",
    "\n",
    "A sum gives a SigmaTerm, which only stores  a set of terms being added."
   ]
  },
  {
   "cell_type": "code",
   "execution_count": 5,
   "metadata": {
    "collapsed": false
   },
   "outputs": [
    {
     "data": {
      "text/plain": [
       "\u001b[36mres4\u001b[0m: \u001b[32mLocalTerm\u001b[0m = SigmaTerm(Set(n : (Nat.Typ), m : (Nat.Typ)))"
      ]
     },
     "metadata": {},
     "output_type": "display_data"
    }
   ],
   "source": [
    "n + m"
   ]
  },
  {
   "cell_type": "code",
   "execution_count": 6,
   "metadata": {
    "collapsed": false
   },
   "outputs": [
    {
     "data": {
      "text/plain": [
       "\u001b[36mres5\u001b[0m: \u001b[32mLocalTerm\u001b[0m = SigmaTerm(Set(m : (Nat.Typ), ((prod) (ScalaSymbol(2) : (Nat.Typ)) : ((Nat.Typ) → (Nat.Typ))) (n : (Nat.Typ)) : (Nat.Typ)))"
      ]
     },
     "metadata": {},
     "output_type": "display_data"
    }
   ],
   "source": [
    "(n + m) + n"
   ]
  },
  {
   "cell_type": "markdown",
   "metadata": {},
   "source": [
    "Addition is commutative and associative, even when it involves repeated terms."
   ]
  },
  {
   "cell_type": "code",
   "execution_count": 7,
   "metadata": {
    "collapsed": false
   },
   "outputs": [
    {
     "data": {
      "text/plain": [
       "\u001b[36mres6_0\u001b[0m: \u001b[32mBoolean\u001b[0m = true\n",
       "\u001b[36mres6_1\u001b[0m: \u001b[32mBoolean\u001b[0m = true"
      ]
     },
     "metadata": {},
     "output_type": "display_data"
    }
   ],
   "source": [
    "n + m == m + n\n",
    "(n + m) + k == n + (m + k)"
   ]
  },
  {
   "cell_type": "code",
   "execution_count": 8,
   "metadata": {
    "collapsed": false
   },
   "outputs": [
    {
     "data": {
      "text/plain": [
       "\u001b[36mres7\u001b[0m: \u001b[32mBoolean\u001b[0m = true"
      ]
     },
     "metadata": {},
     "output_type": "display_data"
    }
   ],
   "source": [
    "(n + n) + m == (n + m) + n"
   ]
  },
  {
   "cell_type": "markdown",
   "metadata": {},
   "source": [
    "Similarly, multiplication is commutative and associative, and  distributes over addition. Multiplication gives Pi-terms with parameter a map to exponents."
   ]
  },
  {
   "cell_type": "code",
   "execution_count": 9,
   "metadata": {
    "collapsed": false
   },
   "outputs": [
    {
     "data": {
      "text/plain": [
       "\u001b[36mres8\u001b[0m: \u001b[32mBoolean\u001b[0m = true"
      ]
     },
     "metadata": {},
     "output_type": "display_data"
    }
   ],
   "source": [
    "n * m == m * n"
   ]
  },
  {
   "cell_type": "code",
   "execution_count": 10,
   "metadata": {
    "collapsed": false
   },
   "outputs": [
    {
     "data": {
      "text/plain": [
       "\u001b[36mres9\u001b[0m: \u001b[32mLocalTerm\u001b[0m = PiTerm(Map(m : (Nat.Typ) -> 1, k : (Nat.Typ) -> 1, n : (Nat.Typ) -> 1))"
      ]
     },
     "metadata": {},
     "output_type": "display_data"
    }
   ],
   "source": [
    "n * (m * k)"
   ]
  },
  {
   "cell_type": "code",
   "execution_count": 11,
   "metadata": {
    "collapsed": false
   },
   "outputs": [
    {
     "data": {
      "text/plain": [
       "\u001b[36mres10\u001b[0m: \u001b[32mLocalTerm\u001b[0m = PiTerm(Map(k : (Nat.Typ) -> 1, n : (Nat.Typ) -> 1, m : (Nat.Typ) -> 1))"
      ]
     },
     "metadata": {},
     "output_type": "display_data"
    }
   ],
   "source": [
    "(n * m) * k"
   ]
  },
  {
   "cell_type": "code",
   "execution_count": 12,
   "metadata": {
    "collapsed": false
   },
   "outputs": [
    {
     "data": {
      "text/plain": [
       "\u001b[36mres11\u001b[0m: \u001b[32mLocalTerm\u001b[0m = SigmaTerm(Set(PiTerm(Map(n : (Nat.Typ) -> 1, m : (Nat.Typ) -> 1)), PiTerm(Map(n : (Nat.Typ) -> 1, k : (Nat.Typ) -> 1))))"
      ]
     },
     "metadata": {},
     "output_type": "display_data"
    }
   ],
   "source": [
    "n * (m + k)"
   ]
  },
  {
   "cell_type": "code",
   "execution_count": 13,
   "metadata": {
    "collapsed": false
   },
   "outputs": [
    {
     "data": {
      "text/plain": [
       "\u001b[36mres12\u001b[0m: \u001b[32mBoolean\u001b[0m = true"
      ]
     },
     "metadata": {},
     "output_type": "display_data"
    }
   ],
   "source": [
    "n *(m + k) == (n * m) + (n * k)"
   ]
  },
  {
   "cell_type": "code",
   "execution_count": 14,
   "metadata": {
    "collapsed": false
   },
   "outputs": [
    {
     "data": {
      "text/plain": [
       "\u001b[36mres13\u001b[0m: \u001b[32mLocalTerm\u001b[0m = ((sum) (ScalaSymbol(1) : (Nat.Typ)) : ((Nat.Typ) → (Nat.Typ))) (n : (Nat.Typ)) : (Nat.Typ)"
      ]
     },
     "metadata": {},
     "output_type": "display_data"
    }
   ],
   "source": [
    "n + 1"
   ]
  },
  {
   "cell_type": "code",
   "execution_count": 15,
   "metadata": {
    "collapsed": false
   },
   "outputs": [
    {
     "data": {
      "text/plain": [
       "\u001b[36mres14\u001b[0m: \u001b[32mRepTerm\u001b[0m[\u001b[32mSafeLong\u001b[0m] with \u001b[32mHoTT\u001b[0m.\u001b[32mSubs\u001b[0m[\u001b[32mRepTerm\u001b[0m[\u001b[32mSafeLong\u001b[0m]] = ((sum) (ScalaSymbol(1) : (Nat.Typ)) : ((Nat.Typ) → (Nat.Typ))) (n : (Nat.Typ)) : (Nat.Typ)"
      ]
     },
     "metadata": {},
     "output_type": "display_data"
    }
   ],
   "source": [
    "1 + n"
   ]
  },
  {
   "cell_type": "code",
   "execution_count": 16,
   "metadata": {
    "collapsed": false
   },
   "outputs": [
    {
     "data": {
      "text/plain": [
       "\u001b[36mres15\u001b[0m: \u001b[32mLocalTerm\u001b[0m = ((sum) (ScalaSymbol(3) : (Nat.Typ)) : ((Nat.Typ) → (Nat.Typ))) (n : (Nat.Typ)) : (Nat.Typ)"
      ]
     },
     "metadata": {},
     "output_type": "display_data"
    }
   ],
   "source": [
    "(1 + n) + 2"
   ]
  },
  {
   "cell_type": "code",
   "execution_count": 17,
   "metadata": {
    "collapsed": false
   },
   "outputs": [
    {
     "data": {
      "text/plain": [
       "\u001b[36mres16\u001b[0m: \u001b[32mLocalTerm\u001b[0m = PiTerm(Map(n : (Nat.Typ) -> 2))"
      ]
     },
     "metadata": {},
     "output_type": "display_data"
    }
   ],
   "source": [
    "n * n"
   ]
  },
  {
   "cell_type": "markdown",
   "metadata": {},
   "source": [
    "### Symbolic definitions\n",
    "\n",
    "We can use the expressions from these functions in lambdas. For this we need correct substitution."
   ]
  },
  {
   "cell_type": "code",
   "execution_count": 18,
   "metadata": {
    "collapsed": false
   },
   "outputs": [
    {
     "data": {
      "text/plain": [
       "\u001b[32mimport \u001b[36mHoTT._\u001b[0m\n",
       "\u001b[36mfn\u001b[0m: \u001b[32mHoTT\u001b[0m.\u001b[32mFunc\u001b[0m[\u001b[32mRepTerm\u001b[0m[\u001b[32mSafeLong\u001b[0m] with \u001b[32mHoTT\u001b[0m.\u001b[32mSubs\u001b[0m[\u001b[32mRepTerm\u001b[0m[\u001b[32mSafeLong\u001b[0m]], \u001b[32mLocalTerm\u001b[0m] = (n : (Nat.Typ)) ↦ (PiTerm(Map(n : (Nat.Typ) -> 2)))"
      ]
     },
     "metadata": {},
     "output_type": "display_data"
    }
   ],
   "source": [
    "import HoTT._\n",
    "val fn = lmbda(n)(n * n)"
   ]
  },
  {
   "cell_type": "code",
   "execution_count": 19,
   "metadata": {
    "collapsed": false
   },
   "outputs": [
    {
     "data": {
      "text/plain": [
       "\u001b[36mres18\u001b[0m: \u001b[32mLocalTerm\u001b[0m = ScalaSymbol(9) : (Nat.Typ)"
      ]
     },
     "metadata": {},
     "output_type": "display_data"
    }
   ],
   "source": [
    "fn(3)"
   ]
  },
  {
   "cell_type": "code",
   "execution_count": 20,
   "metadata": {
    "collapsed": false
   },
   "outputs": [
    {
     "data": {
      "text/plain": [
       "\u001b[36mres19\u001b[0m: \u001b[32mLocalTerm\u001b[0m = PiTerm(Map(k : (Nat.Typ) -> 2))"
      ]
     },
     "metadata": {},
     "output_type": "display_data"
    }
   ],
   "source": [
    "fn(k)"
   ]
  },
  {
   "cell_type": "markdown",
   "metadata": {},
   "source": [
    "### Recursive definitions\n",
    "\n",
    "We can define a function f recursively on natural numbers, given the value f(0) and given f(n+1) as a (curryed) function of (n+1) and f(n). This expands  for literals."
   ]
  },
  {
   "cell_type": "code",
   "execution_count": 21,
   "metadata": {
    "collapsed": false
   },
   "outputs": [
    {
     "data": {
      "text/plain": [
       "\u001b[36mm\u001b[0m: \u001b[32mFunc\u001b[0m[\u001b[32mRepTerm\u001b[0m[\u001b[32mSafeLong\u001b[0m] with \u001b[32mSubs\u001b[0m[\u001b[32mRepTerm\u001b[0m[\u001b[32mSafeLong\u001b[0m]], \u001b[32mFunc\u001b[0m[\u001b[32mLocalTerm\u001b[0m, \u001b[32mLocalTerm\u001b[0m]] = (n : (Nat.Typ)) ↦ ((provingground.HoTT$Typ$newname$2$@6d9955a5 : (Nat.Typ)) ↦ (SigmaTerm(Set(provingground.HoTT$Typ$newname$2$@6d9955a5 : (Nat.Typ), PiTerm(Map(n : (Nat.Typ) -> 1, provingground.HoTT$Typ$newname$2$@6d9955a5 : (Nat.Typ) -> 1))))))\n",
       "\u001b[36mfactorial\u001b[0m: \u001b[32mRec\u001b[0m[\u001b[32mLocalTerm\u001b[0m] = \u001b[33mRec\u001b[0m(\n",
       "  ScalaSymbol(1) : (Nat.Typ),\n",
       "  (n : (Nat.Typ)) ↦ ((provingground.HoTT$Typ$newname$2$@6d9955a5 : (Nat.Typ)) ↦ (SigmaTerm(Set(provingground.HoTT$Typ$newname$2$@6d9955a5 : (Nat.Typ), PiTerm(Map(n : (Nat.Typ) -> 1, provingground.HoTT$Typ$newname$2$@6d9955a5 : (Nat.Typ) -> 1))))))\n",
       ")"
      ]
     },
     "metadata": {},
     "output_type": "display_data"
    }
   ],
   "source": [
    "val m = lmbda(n)(prod(n + 1))\n",
    "val factorial = Rec(1: Nat, m)"
   ]
  },
  {
   "cell_type": "code",
   "execution_count": 22,
   "metadata": {
    "collapsed": false
   },
   "outputs": [
    {
     "data": {
      "text/plain": [
       "\u001b[36mres21\u001b[0m: \u001b[32mLocalTerm\u001b[0m = ScalaSymbol(6) : (Nat.Typ)"
      ]
     },
     "metadata": {},
     "output_type": "display_data"
    }
   ],
   "source": [
    "factorial(3)"
   ]
  },
  {
   "cell_type": "code",
   "execution_count": 23,
   "metadata": {
    "collapsed": false
   },
   "outputs": [
    {
     "data": {
      "text/plain": [
       "\u001b[36mres22\u001b[0m: \u001b[32mLocalTerm\u001b[0m = ScalaSymbol(120) : (Nat.Typ)"
      ]
     },
     "metadata": {},
     "output_type": "display_data"
    }
   ],
   "source": [
    "factorial(5)"
   ]
  },
  {
   "cell_type": "code",
   "execution_count": 24,
   "metadata": {
    "collapsed": false
   },
   "outputs": [
    {
     "data": {
      "text/plain": [
       "\u001b[36mres23\u001b[0m: \u001b[32mLocalTerm\u001b[0m = (<function1>) (n : (Nat.Typ)) : (Nat.Typ)"
      ]
     },
     "metadata": {},
     "output_type": "display_data"
    }
   ],
   "source": [
    "factorial(n)"
   ]
  },
  {
   "cell_type": "code",
   "execution_count": 25,
   "metadata": {
    "collapsed": false
   },
   "outputs": [
    {
     "data": {
      "text/plain": [
       "\u001b[36mg\u001b[0m: \u001b[32mFunc\u001b[0m[\u001b[32mRepTerm\u001b[0m[\u001b[32mSafeLong\u001b[0m] with \u001b[32mSubs\u001b[0m[\u001b[32mRepTerm\u001b[0m[\u001b[32mSafeLong\u001b[0m]], \u001b[32mLocalTerm\u001b[0m] = (k : (Nat.Typ)) ↦ ((<function1>) (PiTerm(Map(k : (Nat.Typ) -> 2))) : (Nat.Typ))"
      ]
     },
     "metadata": {},
     "output_type": "display_data"
    }
   ],
   "source": [
    "val g = lmbda(k)(factorial(k * k))"
   ]
  },
  {
   "cell_type": "code",
   "execution_count": 26,
   "metadata": {
    "collapsed": false
   },
   "outputs": [
    {
     "data": {
      "text/plain": [
       "\u001b[36mres25\u001b[0m: \u001b[32mLocalTerm\u001b[0m = ScalaSymbol(362880) : (Nat.Typ)"
      ]
     },
     "metadata": {},
     "output_type": "display_data"
    }
   ],
   "source": [
    "g(3)"
   ]
  },
  {
   "cell_type": "code",
   "execution_count": 27,
   "metadata": {
    "collapsed": false
   },
   "outputs": [
    {
     "data": {
      "text/plain": [
       "\u001b[36mres26\u001b[0m: \u001b[32mLocalTerm\u001b[0m = ScalaSymbol(362880) : (Nat.Typ)"
      ]
     },
     "metadata": {},
     "output_type": "display_data"
    }
   ],
   "source": [
    "factorial(9)"
   ]
  },
  {
   "cell_type": "markdown",
   "metadata": {},
   "source": [
    "### Simplifying recursive functions\n",
    "\n",
    "If we apply a recursive function to a sum n+k with k a literal (say k = 2), then the result simplifies as much as possible by expanding tail recursively in the literal."
   ]
  },
  {
   "cell_type": "code",
   "execution_count": 28,
   "metadata": {
    "collapsed": false
   },
   "outputs": [
    {
     "data": {
      "text/plain": [
       "\u001b[36mres27\u001b[0m: \u001b[32mLocalTerm\u001b[0m = SigmaTerm(Set((<function1>) (n : (Nat.Typ)) : (Nat.Typ), PiTerm(Map(n : (Nat.Typ) -> 1, (<function1>) (n : (Nat.Typ)) : (Nat.Typ) -> 1))))"
      ]
     },
     "metadata": {},
     "output_type": "display_data"
    }
   ],
   "source": [
    "factorial(n + 1)"
   ]
  },
  {
   "cell_type": "code",
   "execution_count": 29,
   "metadata": {
    "collapsed": false
   },
   "outputs": [
    {
     "data": {
      "text/plain": [
       "\u001b[36mfn\u001b[0m: \u001b[32mFunc\u001b[0m[\u001b[32mRepTerm\u001b[0m[\u001b[32mSafeLong\u001b[0m] with \u001b[32mSubs\u001b[0m[\u001b[32mRepTerm\u001b[0m[\u001b[32mSafeLong\u001b[0m]], \u001b[32mLocalTerm\u001b[0m] = (n : (Nat.Typ)) ↦ (SigmaTerm(Set((<function1>) (n : (Nat.Typ)) : (Nat.Typ), PiTerm(Map(n : (Nat.Typ) -> 1, (<function1>) (n : (Nat.Typ)) : (Nat.Typ) -> 1)))))"
      ]
     },
     "metadata": {},
     "output_type": "display_data"
    }
   ],
   "source": [
    "val fn = lmbda(n)(factorial(n + 1))"
   ]
  },
  {
   "cell_type": "code",
   "execution_count": 30,
   "metadata": {
    "collapsed": false
   },
   "outputs": [
    {
     "data": {
      "text/plain": [
       "\u001b[36mres29\u001b[0m: \u001b[32mLocalTerm\u001b[0m = ScalaSymbol(2) : (Nat.Typ)"
      ]
     },
     "metadata": {},
     "output_type": "display_data"
    }
   ],
   "source": [
    "fn(1)"
   ]
  },
  {
   "cell_type": "code",
   "execution_count": 31,
   "metadata": {
    "collapsed": false
   },
   "outputs": [
    {
     "data": {
      "text/plain": [
       "\u001b[36mres30\u001b[0m: \u001b[32mLocalTerm\u001b[0m = ScalaSymbol(120) : (Nat.Typ)"
      ]
     },
     "metadata": {},
     "output_type": "display_data"
    }
   ],
   "source": [
    "fn(4)"
   ]
  },
  {
   "cell_type": "code",
   "execution_count": 32,
   "metadata": {
    "collapsed": false
   },
   "outputs": [
    {
     "data": {
      "text/plain": [
       "\u001b[36mres31\u001b[0m: \u001b[32mLocalTerm\u001b[0m = ((sum) (ScalaSymbol(2) : (Nat.Typ)) : ((Nat.Typ) → (Nat.Typ))) (SigmaTerm(Set(PiTerm(Map(n : (Nat.Typ) -> 2)), ((prod) (ScalaSymbol(3) : (Nat.Typ)) : ((Nat.Typ) → (Nat.Typ))) (n : (Nat.Typ)) : (Nat.Typ)))) : (Nat.Typ)"
      ]
     },
     "metadata": {},
     "output_type": "display_data"
    }
   ],
   "source": [
    "(n + 2) * (n + 1)"
   ]
  },
  {
   "cell_type": "code",
   "execution_count": 33,
   "metadata": {
    "collapsed": false
   },
   "outputs": [
    {
     "data": {
      "text/plain": [
       "\u001b[36mres32\u001b[0m: \u001b[32mLocalTerm\u001b[0m = ((prod) (ScalaSymbol(3) : (Nat.Typ)) : ((Nat.Typ) → (Nat.Typ))) (PiTerm(Map(n : (Nat.Typ) -> 2))) : (Nat.Typ)"
      ]
     },
     "metadata": {},
     "output_type": "display_data"
    }
   ],
   "source": [
    "(3 * n) * n"
   ]
  },
  {
   "cell_type": "code",
   "execution_count": 34,
   "metadata": {
    "collapsed": false
   },
   "outputs": [
    {
     "data": {
      "text/plain": [
       "\u001b[36mres33\u001b[0m: \u001b[32mLocalTerm\u001b[0m = PiTerm(Map(n : (Nat.Typ) -> 3))"
      ]
     },
     "metadata": {},
     "output_type": "display_data"
    }
   ],
   "source": [
    "n * (n * n)"
   ]
  },
  {
   "cell_type": "code",
   "execution_count": 35,
   "metadata": {
    "collapsed": false
   },
   "outputs": [
    {
     "data": {
      "text/plain": [
       "\u001b[36mres34\u001b[0m: \u001b[32mLocalTerm\u001b[0m = PiTerm(Map(k : (Nat.Typ) -> 2, n : (Nat.Typ) -> 1))"
      ]
     },
     "metadata": {},
     "output_type": "display_data"
    }
   ],
   "source": [
    "(n * k) * k"
   ]
  },
  {
   "cell_type": "code",
   "execution_count": 36,
   "metadata": {
    "collapsed": false
   },
   "outputs": [
    {
     "data": {
      "text/plain": [
       "\u001b[36mres35\u001b[0m: \u001b[32mLocalTerm\u001b[0m = PiTerm(Map(n : (Nat.Typ) -> 1, k : (Nat.Typ) -> 2))"
      ]
     },
     "metadata": {},
     "output_type": "display_data"
    }
   ],
   "source": [
    "k * (n * k)"
   ]
  },
  {
   "cell_type": "code",
   "execution_count": 37,
   "metadata": {
    "collapsed": false
   },
   "outputs": [
    {
     "data": {
      "text/plain": [
       "\u001b[36mres36\u001b[0m: \u001b[32mLocalTerm\u001b[0m = PiTerm(Map(n : (Nat.Typ) -> 3))"
      ]
     },
     "metadata": {},
     "output_type": "display_data"
    }
   ],
   "source": [
    "(n * n) * n"
   ]
  },
  {
   "cell_type": "code",
   "execution_count": 38,
   "metadata": {
    "collapsed": false
   },
   "outputs": [
    {
     "data": {
      "text/plain": [
       "\u001b[36mres37\u001b[0m: \u001b[32mLocalTerm\u001b[0m = SigmaTerm(Set(((prod) (ScalaSymbol(2) : (Nat.Typ)) : ((Nat.Typ) → (Nat.Typ))) ((<function1>) (n : (Nat.Typ)) : (Nat.Typ)) : (Nat.Typ), ((prod) (ScalaSymbol(3) : (Nat.Typ)) : ((Nat.Typ) → (Nat.Typ))) (PiTerm(Map(n : (Nat.Typ) -> 1, (<function1>) (n : (Nat.Typ)) : (Nat.Typ) -> 1))) : (Nat.Typ), PiTerm(Map(n : (Nat.Typ) -> 2, (<function1>) (n : (Nat.Typ)) : (Nat.Typ) -> 1))))"
      ]
     },
     "metadata": {},
     "output_type": "display_data"
    }
   ],
   "source": [
    "factorial(n + 2)"
   ]
  },
  {
   "cell_type": "markdown",
   "metadata": {},
   "source": [
    "**Recursive expansion:** We see an example of expansion as much as possible."
   ]
  },
  {
   "cell_type": "code",
   "execution_count": 39,
   "metadata": {
    "collapsed": false
   },
   "outputs": [
    {
     "data": {
      "text/plain": [
       "\u001b[36mfunc\u001b[0m: \u001b[32mFunc\u001b[0m[\u001b[32mRepTerm\u001b[0m[\u001b[32mSafeLong\u001b[0m] with \u001b[32mSubs\u001b[0m[\u001b[32mRepTerm\u001b[0m[\u001b[32mSafeLong\u001b[0m]], \u001b[32mLocalTerm\u001b[0m] = (n : (Nat.Typ)) ↦ (SigmaTerm(Set(((prod) (ScalaSymbol(3) : (Nat.Typ)) : ((Nat.Typ) → (Nat.Typ))) (PiTerm(Map(n : (Nat.Typ) -> 1, (<function1>) (n : (Nat.Typ)) : (Nat.Typ) -> 1))) : (Nat.Typ), PiTerm(Map(n : (Nat.Typ) -> 2, (<function1>) (n : (Nat.Typ)) : (Nat.Typ) -> 1)), ((prod) (ScalaSymbol(2) : (Nat.Typ)) : ((Nat.Typ) → (Nat.Typ))) ((<function1>) (n : (Nat.Typ)) : (Nat.Typ)) : (Nat.Typ))))\n",
       "\u001b[36mres38_1\u001b[0m: \u001b[32mLocalTerm\u001b[0m = ScalaSymbol(120) : (Nat.Typ)"
      ]
     },
     "metadata": {},
     "output_type": "display_data"
    }
   ],
   "source": [
    "val func = lmbda(n)(factorial(n+ 2))\n",
    "func(3)"
   ]
  },
  {
   "cell_type": "code",
   "execution_count": 40,
   "metadata": {
    "collapsed": false
   },
   "outputs": [
    {
     "data": {
      "text/plain": [
       "\u001b[36mres39\u001b[0m: \u001b[32mBoolean\u001b[0m = true"
      ]
     },
     "metadata": {},
     "output_type": "display_data"
    }
   ],
   "source": [
    "func(k) == factorial(k) * (k + 2) * (k + 1)"
   ]
  },
  {
   "cell_type": "code",
   "execution_count": null,
   "metadata": {
    "collapsed": true
   },
   "outputs": [],
   "source": []
  }
 ],
 "metadata": {
  "kernelspec": {
   "display_name": "Scala 2.11",
   "language": "scala211",
   "name": "scala211"
  },
  "language_info": {
   "codemirror_mode": "text/x-scala",
   "file_extension": ".scala",
   "mimetype": "text/x-scala",
   "name": "scala211",
   "pygments_lexer": "scala",
   "version": "2.11.6"
  }
 },
 "nbformat": 4,
 "nbformat_minor": 0
}
