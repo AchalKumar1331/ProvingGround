{
 "cells": [
  {
   "cell_type": "markdown",
   "metadata": {},
   "source": [
    "# Recursively defined probability distributions\n",
    "\n",
    "We consider the probability distributions generated from some set using some functions and operations with weights, with identity being one of the operations. \n",
    "\n",
    "A simple example is the geometic distribution, with a random variable X being:\n",
    "\n",
    "* X = 0 with probability p.\n",
    "* X = (new X) + 1 with probability (1 - p)\n",
    "\n",
    "Such distributions are infinite. There are two traits that are used to handle these.\n",
    "\n",
    "* Probability Distributions: allow one to pick a random value.\n",
    "* Truncated Distributions: roughly give finite distributions of values with probability above a cutoff. However, in the case of sums each term is truncated at the cutoff, so sums crossing the cutoff with small components are ignored.\n"
   ]
  }
 ],
 "metadata": {
  "kernelspec": {
   "display_name": "Scala 2.11",
   "language": "scala211",
   "name": "scala211"
  },
  "language_info": {
   "codemirror_mode": "text/x-scala",
   "file_extension": ".scala",
   "mimetype": "text/x-scala",
   "name": "scala211",
   "pygments_lexer": "scala",
   "version": "2.11.6"
  }
 },
 "nbformat": 4,
 "nbformat_minor": 0
}
