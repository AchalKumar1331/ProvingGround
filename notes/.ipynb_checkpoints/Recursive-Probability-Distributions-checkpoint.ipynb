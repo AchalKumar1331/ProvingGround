{
 "cells": [
  {
   "cell_type": "markdown",
   "metadata": {},
   "source": [
    "# Recursively defined probability distributions\n",
    "\n",
    "We consider the probability distributions generated from some set using some functions and operations with weights, with identity being one of the operations. This is used in dynamics (including learning) and also for \n",
    "\n",
    "A simple example is the geometic distribution, with a random variable X being:\n",
    "\n",
    "* X = 0 with probability p.\n",
    "* X = (new X) + 1 with probability (1 - p)\n",
    "\n",
    "Such distributions are infinite. There are two traits that are used to handle these.\n",
    "\n",
    "* Probability Distributions: allow one to pick a random value.\n",
    "* Truncated Distributions: roughly give finite distributions of values with probability above a cutoff. However, in the case of sums each term is truncated at the cutoff, so sums crossing the cutoff with small components are ignored.\n"
   ]
  },
  {
   "cell_type": "code",
   "execution_count": 4,
   "metadata": {
    "collapsed": false
   },
   "outputs": [
    {
     "data": {
      "text/plain": []
     },
     "metadata": {},
     "output_type": "display_data"
    }
   ],
   "source": [
    "load.jar(\"/home/gadgil/code/ProvingGround/core/.jvm/target/scala-2.11/ProvingGround-Core-assembly-0.8.jar\")"
   ]
  },
  {
   "cell_type": "code",
   "execution_count": 5,
   "metadata": {
    "collapsed": false
   },
   "outputs": [
    {
     "data": {
      "text/plain": [
       "\u001b[32mimport \u001b[36mprovingground.{ProbabilityDistribution => PD, FiniteDistribution => FD, TruncatedDistribution => TD, _}\u001b[0m"
      ]
     },
     "metadata": {},
     "output_type": "display_data"
    }
   ],
   "source": [
    "import provingground.{ProbabilityDistribution => PD, FiniteDistribution => FD, TruncatedDistribution => TD, _}"
   ]
  },
  {
   "cell_type": "markdown",
   "metadata": {},
   "source": [
    "## Probability distribution for Geometric:\n",
    "\n",
    "We recursively define the probability distribution by mixing in cases, defaulting to the first one."
   ]
  },
  {
   "cell_type": "code",
   "execution_count": 7,
   "metadata": {
    "collapsed": false
   },
   "outputs": [
    {
     "data": {
      "text/plain": [
       "\u001b[36mgeom\u001b[0m: \u001b[32mProbabilityDistribution\u001b[0m[\u001b[32mInt\u001b[0m] = provingground.ProbabilityDistribution$Mixin@23e33de"
      ]
     },
     "metadata": {},
     "output_type": "display_data"
    }
   ],
   "source": [
    "val geom : PD[Int] = FD.unif(0) <+> ((geom map ((x) => x + 1)), 0.7)"
   ]
  },
  {
   "cell_type": "markdown",
   "metadata": {},
   "source": [
    "We can sample from probability distributions recursively."
   ]
  },
  {
   "cell_type": "code",
   "execution_count": 9,
   "metadata": {
    "collapsed": false
   },
   "outputs": [
    {
     "data": {
      "text/plain": [
       "\u001b[36msamp\u001b[0m: \u001b[32mFiniteDistribution\u001b[0m[\u001b[32mInt\u001b[0m] = \u001b[33mFiniteDistribution\u001b[0m(\n",
       "  \u001b[33mVector\u001b[0m(\n",
       "    \u001b[33mWeighted\u001b[0m(\u001b[32m0\u001b[0m, \u001b[32m0.36000000000000015\u001b[0m),\n",
       "    \u001b[33mWeighted\u001b[0m(\u001b[32m5\u001b[0m, \u001b[32m0.05\u001b[0m),\n",
       "    \u001b[33mWeighted\u001b[0m(\u001b[32m10\u001b[0m, \u001b[32m0.01\u001b[0m),\n",
       "    \u001b[33mWeighted\u001b[0m(\u001b[32m1\u001b[0m, \u001b[32m0.15\u001b[0m),\n",
       "    \u001b[33mWeighted\u001b[0m(\u001b[32m6\u001b[0m, \u001b[32m0.060000000000000005\u001b[0m),\n",
       "    \u001b[33mWeighted\u001b[0m(\u001b[32m2\u001b[0m, \u001b[32m0.15\u001b[0m),\n",
       "    \u001b[33mWeighted\u001b[0m(\u001b[32m12\u001b[0m, \u001b[32m0.01\u001b[0m),\n",
       "    \u001b[33mWeighted\u001b[0m(\u001b[32m7\u001b[0m, \u001b[32m0.04\u001b[0m),\n",
       "    \u001b[33mWeighted\u001b[0m(\u001b[32m3\u001b[0m, \u001b[32m0.08\u001b[0m),\n",
       "    \u001b[33mWeighted\u001b[0m(\u001b[32m8\u001b[0m, \u001b[32m0.02\u001b[0m),\n",
       "    \u001b[33mWeighted\u001b[0m(\u001b[32m4\u001b[0m, \u001b[32m0.07\u001b[0m)\n",
       "  )\n",
       ")"
      ]
     },
     "metadata": {},
     "output_type": "display_data"
    }
   ],
   "source": [
    "val samp = geom.sample(100)"
   ]
  },
  {
   "cell_type": "code",
   "execution_count": 11,
   "metadata": {
    "collapsed": false
   },
   "outputs": [
    {
     "data": {
      "text/plain": [
       "\u001b[36mres7\u001b[0m: \u001b[32mList\u001b[0m[\u001b[32mWeighted\u001b[0m[\u001b[32mString\u001b[0m]] = \u001b[33mList\u001b[0m(\n",
       "  \u001b[33mWeighted\u001b[0m(\u001b[32m\"0\"\u001b[0m, \u001b[32m1.4739311883324118\u001b[0m),\n",
       "  \u001b[33mWeighted\u001b[0m(\u001b[32m\"1\"\u001b[0m, \u001b[32m2.736965594166206\u001b[0m),\n",
       "  \u001b[33mWeighted\u001b[0m(\u001b[32m\"2\"\u001b[0m, \u001b[32m2.736965594166206\u001b[0m),\n",
       "  \u001b[33mWeighted\u001b[0m(\u001b[32m\"3\"\u001b[0m, \u001b[32m3.6438561897747253\u001b[0m),\n",
       "  \u001b[33mWeighted\u001b[0m(\u001b[32m\"4\"\u001b[0m, \u001b[32m3.8365012677171206\u001b[0m),\n",
       "  \u001b[33mWeighted\u001b[0m(\u001b[32m\"6\"\u001b[0m, \u001b[32m4.058893689053568\u001b[0m),\n",
       "  \u001b[33mWeighted\u001b[0m(\u001b[32m\"5\"\u001b[0m, \u001b[32m4.321928094887363\u001b[0m),\n",
       "  \u001b[33mWeighted\u001b[0m(\u001b[32m\"7\"\u001b[0m, \u001b[32m4.643856189774724\u001b[0m),\n",
       "  \u001b[33mWeighted\u001b[0m(\u001b[32m\"8\"\u001b[0m, \u001b[32m5.643856189774724\u001b[0m),\n",
       "  \u001b[33mWeighted\u001b[0m(\u001b[32m\"10\"\u001b[0m, \u001b[32m6.643856189774724\u001b[0m),\n",
       "  \u001b[33mWeighted\u001b[0m(\u001b[32m\"12\"\u001b[0m, \u001b[32m6.643856189774724\u001b[0m)\n",
       ")"
      ]
     },
     "metadata": {},
     "output_type": "display_data"
    }
   ],
   "source": [
    "samp.entropyView"
   ]
  },
  {
   "cell_type": "code",
   "execution_count": 13,
   "metadata": {
    "collapsed": false
   },
   "outputs": [
    {
     "data": {
      "text/plain": [
       "\u001b[36ms\u001b[0m: \u001b[32mFiniteDistribution\u001b[0m[\u001b[32mInt\u001b[0m] = \u001b[33mFiniteDistribution\u001b[0m(\n",
       "  \u001b[33mVector\u001b[0m(\n",
       "    \u001b[33mWeighted\u001b[0m(\u001b[32m0\u001b[0m, \u001b[32m0.2910000000000002\u001b[0m),\n",
       "    \u001b[33mWeighted\u001b[0m(\u001b[32m5\u001b[0m, \u001b[32m0.04400000000000003\u001b[0m),\n",
       "    \u001b[33mWeighted\u001b[0m(\u001b[32m10\u001b[0m, \u001b[32m0.009000000000000001\u001b[0m),\n",
       "    \u001b[33mWeighted\u001b[0m(\u001b[32m25\u001b[0m, \u001b[32m0.001\u001b[0m),\n",
       "    \u001b[33mWeighted\u001b[0m(\u001b[32m14\u001b[0m, \u001b[32m0.001\u001b[0m),\n",
       "    \u001b[33mWeighted\u001b[0m(\u001b[32m20\u001b[0m, \u001b[32m0.001\u001b[0m),\n",
       "    \u001b[33mWeighted\u001b[0m(\u001b[32m1\u001b[0m, \u001b[32m0.20900000000000016\u001b[0m),\n",
       "    \u001b[33mWeighted\u001b[0m(\u001b[32m6\u001b[0m, \u001b[32m0.03200000000000002\u001b[0m),\n",
       "    \u001b[33mWeighted\u001b[0m(\u001b[32m9\u001b[0m, \u001b[32m0.013000000000000005\u001b[0m),\n",
       "    \u001b[33mWeighted\u001b[0m(\u001b[32m13\u001b[0m, \u001b[32m0.002\u001b[0m),\n",
       "    \u001b[33mWeighted\u001b[0m(\u001b[32m2\u001b[0m, \u001b[32m0.1360000000000001\u001b[0m),\n",
       "    \u001b[33mWeighted\u001b[0m(\u001b[32m17\u001b[0m, \u001b[32m0.001\u001b[0m),\n",
       "    \u001b[33mWeighted\u001b[0m(\u001b[32m22\u001b[0m, \u001b[32m0.001\u001b[0m),\n",
       "\u001b[33m...\u001b[0m"
      ]
     },
     "metadata": {},
     "output_type": "display_data"
    }
   ],
   "source": [
    "val s = geom.sample(1000)"
   ]
  },
  {
   "cell_type": "code",
   "execution_count": 14,
   "metadata": {
    "collapsed": false
   },
   "outputs": [
    {
     "data": {
      "text/plain": [
       "\u001b[36mres9\u001b[0m: \u001b[32mList\u001b[0m[\u001b[32mWeighted\u001b[0m[\u001b[32mString\u001b[0m]] = \u001b[33mList\u001b[0m(\n",
       "  \u001b[33mWeighted\u001b[0m(\u001b[32m\"0\"\u001b[0m, \u001b[32m1.7809089417538022\u001b[0m),\n",
       "  \u001b[33mWeighted\u001b[0m(\u001b[32m\"1\"\u001b[0m, \u001b[32m2.258425152581203\u001b[0m),\n",
       "  \u001b[33mWeighted\u001b[0m(\u001b[32m\"2\"\u001b[0m, \u001b[32m2.878321443411747\u001b[0m),\n",
       "  \u001b[33mWeighted\u001b[0m(\u001b[32m\"3\"\u001b[0m, \u001b[32m3.1844245711374266\u001b[0m),\n",
       "  \u001b[33mWeighted\u001b[0m(\u001b[32m\"4\"\u001b[0m, \u001b[32m3.490050853695688\u001b[0m),\n",
       "  \u001b[33mWeighted\u001b[0m(\u001b[32m\"5\"\u001b[0m, \u001b[32m4.506352666024789\u001b[0m),\n",
       "  \u001b[33mWeighted\u001b[0m(\u001b[32m\"6\"\u001b[0m, \u001b[32m4.965784284662086\u001b[0m),\n",
       "  \u001b[33mWeighted\u001b[0m(\u001b[32m\"7\"\u001b[0m, \u001b[32m5.38082178394093\u001b[0m),\n",
       "  \u001b[33mWeighted\u001b[0m(\u001b[32m\"8\"\u001b[0m, \u001b[32m6.058893689053567\u001b[0m),\n",
       "  \u001b[33mWeighted\u001b[0m(\u001b[32m\"9\"\u001b[0m, \u001b[32m6.265344566520994\u001b[0m),\n",
       "  \u001b[33mWeighted\u001b[0m(\u001b[32m\"10\"\u001b[0m, \u001b[32m6.795859283219775\u001b[0m),\n",
       "  \u001b[33mWeighted\u001b[0m(\u001b[32m\"11\"\u001b[0m, \u001b[32m7.158429362604482\u001b[0m),\n",
       "  \u001b[33mWeighted\u001b[0m(\u001b[32m\"12\"\u001b[0m, \u001b[32m7.643856189774724\u001b[0m),\n",
       "  \u001b[33mWeighted\u001b[0m(\u001b[32m\"16\"\u001b[0m, \u001b[32m8.380821783940931\u001b[0m),\n",
       "\u001b[33m...\u001b[0m"
      ]
     },
     "metadata": {},
     "output_type": "display_data"
    }
   ],
   "source": [
    "s.entropyView"
   ]
  },
  {
   "cell_type": "markdown",
   "metadata": {},
   "source": [
    "## Optional recursion\n",
    "\n",
    "We can also mix in an optional probability distribution, i.e., one that takes optional values. Any `None` generated is ignored and one defaults to the previous distribution. We do this for the geometric distribution."
   ]
  },
  {
   "cell_type": "code",
   "execution_count": 21,
   "metadata": {
    "collapsed": false
   },
   "outputs": [
    {
     "data": {
      "text/plain": [
       "\u001b[36mrand\u001b[0m: \u001b[32mutil\u001b[0m.\u001b[32mRandom\u001b[0m.type = scala.util.Random$@fd355dd\n",
       "defined \u001b[32mfunction \u001b[36mnextOpt\u001b[0m"
      ]
     },
     "metadata": {},
     "output_type": "display_data"
    }
   ],
   "source": [
    "val rand = scala.util.Random\n",
    "def nextOpt(x: Int) = if (rand.nextDouble < 7.0/8) Some(x + 1) else None"
   ]
  },
  {
   "cell_type": "code",
   "execution_count": 22,
   "metadata": {
    "collapsed": false
   },
   "outputs": [
    {
     "data": {
      "text/plain": [
       "\u001b[36mgeomOpt\u001b[0m: \u001b[32mProbabilityDistribution\u001b[0m[\u001b[32mInt\u001b[0m] = provingground.ProbabilityDistribution$MixinOpt@725241d5"
      ]
     },
     "metadata": {},
     "output_type": "display_data"
    }
   ],
   "source": [
    "val geomOpt: PD[Int] = FD.unif(0) <+?> (geomOpt map (nextOpt), 0.8)"
   ]
  },
  {
   "cell_type": "code",
   "execution_count": 23,
   "metadata": {
    "collapsed": false
   },
   "outputs": [
    {
     "data": {
      "text/plain": [
       "\u001b[36mres18\u001b[0m: \u001b[32mFiniteDistribution\u001b[0m[\u001b[32mInt\u001b[0m] = \u001b[33mFiniteDistribution\u001b[0m(\n",
       "  \u001b[33mVector\u001b[0m(\n",
       "    \u001b[33mWeighted\u001b[0m(\u001b[32m0\u001b[0m, \u001b[32m0.30000000000000004\u001b[0m),\n",
       "    \u001b[33mWeighted\u001b[0m(\u001b[32m1\u001b[0m, \u001b[32m0.1\u001b[0m),\n",
       "    \u001b[33mWeighted\u001b[0m(\u001b[32m7\u001b[0m, \u001b[32m0.1\u001b[0m),\n",
       "    \u001b[33mWeighted\u001b[0m(\u001b[32m3\u001b[0m, \u001b[32m0.30000000000000004\u001b[0m),\n",
       "    \u001b[33mWeighted\u001b[0m(\u001b[32m4\u001b[0m, \u001b[32m0.2\u001b[0m)\n",
       "  )\n",
       ")"
      ]
     },
     "metadata": {},
     "output_type": "display_data"
    }
   ],
   "source": [
    "geomOpt.sample(10)"
   ]
  },
  {
   "cell_type": "code",
   "execution_count": 25,
   "metadata": {
    "collapsed": false
   },
   "outputs": [
    {
     "data": {
      "text/plain": [
       "\u001b[36msamp\u001b[0m: \u001b[32mFiniteDistribution\u001b[0m[\u001b[32mInt\u001b[0m] = \u001b[33mFiniteDistribution\u001b[0m(\n",
       "  \u001b[33mVector\u001b[0m(\n",
       "    \u001b[33mWeighted\u001b[0m(\u001b[32m0\u001b[0m, \u001b[32m0.31900000000000023\u001b[0m),\n",
       "    \u001b[33mWeighted\u001b[0m(\u001b[32m5\u001b[0m, \u001b[32m0.05000000000000004\u001b[0m),\n",
       "    \u001b[33mWeighted\u001b[0m(\u001b[32m10\u001b[0m, \u001b[32m0.007\u001b[0m),\n",
       "    \u001b[33mWeighted\u001b[0m(\u001b[32m14\u001b[0m, \u001b[32m0.002\u001b[0m),\n",
       "    \u001b[33mWeighted\u001b[0m(\u001b[32m1\u001b[0m, \u001b[32m0.19800000000000015\u001b[0m),\n",
       "    \u001b[33mWeighted\u001b[0m(\u001b[32m6\u001b[0m, \u001b[32m0.036000000000000025\u001b[0m),\n",
       "    \u001b[33mWeighted\u001b[0m(\u001b[32m9\u001b[0m, \u001b[32m0.014000000000000005\u001b[0m),\n",
       "    \u001b[33mWeighted\u001b[0m(\u001b[32m13\u001b[0m, \u001b[32m0.004\u001b[0m),\n",
       "    \u001b[33mWeighted\u001b[0m(\u001b[32m2\u001b[0m, \u001b[32m0.1510000000000001\u001b[0m),\n",
       "    \u001b[33mWeighted\u001b[0m(\u001b[32m12\u001b[0m, \u001b[32m0.005\u001b[0m),\n",
       "    \u001b[33mWeighted\u001b[0m(\u001b[32m7\u001b[0m, \u001b[32m0.014000000000000005\u001b[0m),\n",
       "    \u001b[33mWeighted\u001b[0m(\u001b[32m3\u001b[0m, \u001b[32m0.09400000000000007\u001b[0m),\n",
       "    \u001b[33mWeighted\u001b[0m(\u001b[32m16\u001b[0m, \u001b[32m0.004\u001b[0m),\n",
       "\u001b[33m...\u001b[0m"
      ]
     },
     "metadata": {},
     "output_type": "display_data"
    }
   ],
   "source": [
    "val samp = geomOpt.sample(1000)"
   ]
  },
  {
   "cell_type": "code",
   "execution_count": 26,
   "metadata": {
    "collapsed": false
   },
   "outputs": [
    {
     "data": {
      "text/plain": [
       "\u001b[36mres21\u001b[0m: \u001b[32mList\u001b[0m[\u001b[32mWeighted\u001b[0m[\u001b[32mString\u001b[0m]] = \u001b[33mList\u001b[0m(\n",
       "  \u001b[33mWeighted\u001b[0m(\u001b[32m\"0\"\u001b[0m, \u001b[32m1.6483716708972167\u001b[0m),\n",
       "  \u001b[33mWeighted\u001b[0m(\u001b[32m\"1\"\u001b[0m, \u001b[32m2.336427664582476\u001b[0m),\n",
       "  \u001b[33mWeighted\u001b[0m(\u001b[32m\"2\"\u001b[0m, \u001b[32m2.727379545337007\u001b[0m),\n",
       "  \u001b[33mWeighted\u001b[0m(\u001b[32m\"3\"\u001b[0m, \u001b[32m3.411195432984449\u001b[0m),\n",
       "  \u001b[33mWeighted\u001b[0m(\u001b[32m\"4\"\u001b[0m, \u001b[32m3.7563309190331364\u001b[0m),\n",
       "  \u001b[33mWeighted\u001b[0m(\u001b[32m\"5\"\u001b[0m, \u001b[32m4.321928094887362\u001b[0m),\n",
       "  \u001b[33mWeighted\u001b[0m(\u001b[32m\"6\"\u001b[0m, \u001b[32m4.795859283219774\u001b[0m),\n",
       "  \u001b[33mWeighted\u001b[0m(\u001b[32m\"8\"\u001b[0m, \u001b[32m5.573466861883326\u001b[0m),\n",
       "  \u001b[33mWeighted\u001b[0m(\u001b[32m\"9\"\u001b[0m, \u001b[32m6.158429362604482\u001b[0m),\n",
       "  \u001b[33mWeighted\u001b[0m(\u001b[32m\"7\"\u001b[0m, \u001b[32m6.158429362604482\u001b[0m),\n",
       "  \u001b[33mWeighted\u001b[0m(\u001b[32m\"10\"\u001b[0m, \u001b[32m7.158429362604482\u001b[0m),\n",
       "  \u001b[33mWeighted\u001b[0m(\u001b[32m\"12\"\u001b[0m, \u001b[32m7.643856189774724\u001b[0m),\n",
       "  \u001b[33mWeighted\u001b[0m(\u001b[32m\"11\"\u001b[0m, \u001b[32m7.643856189774724\u001b[0m),\n",
       "  \u001b[33mWeighted\u001b[0m(\u001b[32m\"13\"\u001b[0m, \u001b[32m7.965784284662087\u001b[0m),\n",
       "\u001b[33m...\u001b[0m"
      ]
     },
     "metadata": {},
     "output_type": "display_data"
    }
   ],
   "source": [
    "samp.entropyView"
   ]
  },
  {
   "cell_type": "markdown",
   "metadata": {},
   "source": [
    "## Truncated distrbitions : Geometric\n",
    "\n",
    "These are cut-off at some point, but combinations effectively are cut off at lower values. We define the geometric distribution this way."
   ]
  },
  {
   "cell_type": "code",
   "execution_count": 35,
   "metadata": {
    "collapsed": false
   },
   "outputs": [
    {
     "data": {
      "text/plain": [
       "\u001b[36mgt\u001b[0m: \u001b[32mTruncatedDistribution\u001b[0m[\u001b[32mInt\u001b[0m] = provingground.TruncatedDistribution$Sum@53fc7eb6"
      ]
     },
     "metadata": {},
     "output_type": "display_data"
    }
   ],
   "source": [
    "val gt: TD[Int] = (TD.OptAtom(Some(0)) <*> 0.3)<+> ((gt map ((x: Int) => x + 1)) <*> 0.7)"
   ]
  },
  {
   "cell_type": "code",
   "execution_count": 36,
   "metadata": {
    "collapsed": false
   },
   "outputs": [
    {
     "data": {
      "text/plain": [
       "\u001b[36mres28\u001b[0m: \u001b[32mOption\u001b[0m[\u001b[32mFiniteDistribution\u001b[0m[\u001b[32mInt\u001b[0m]] = Some([0 : 0.3, 1 : 0.21, 2 : 0.147, 3 : 0.10289999999999999])"
      ]
     },
     "metadata": {},
     "output_type": "display_data"
    }
   ],
   "source": [
    "gt.getFD(1.0/10)"
   ]
  },
  {
   "cell_type": "code",
   "execution_count": 37,
   "metadata": {
    "collapsed": false
   },
   "outputs": [
    {
     "data": {
      "text/plain": [
       "\u001b[36mfd\u001b[0m: \u001b[32mFiniteDistribution\u001b[0m[\u001b[32mInt\u001b[0m] = \u001b[33mFiniteDistribution\u001b[0m(\n",
       "  \u001b[33mVector\u001b[0m(\n",
       "    \u001b[33mWeighted\u001b[0m(\u001b[32m0\u001b[0m, \u001b[32m0.3\u001b[0m),\n",
       "    \u001b[33mWeighted\u001b[0m(\u001b[32m5\u001b[0m, \u001b[32m0.05042099999999999\u001b[0m),\n",
       "    \u001b[33mWeighted\u001b[0m(\u001b[32m10\u001b[0m, \u001b[32m0.008474257469999996\u001b[0m),\n",
       "    \u001b[33mWeighted\u001b[0m(\u001b[32m14\u001b[0m, \u001b[32m0.0020346692185469984\u001b[0m),\n",
       "    \u001b[33mWeighted\u001b[0m(\u001b[32m1\u001b[0m, \u001b[32m0.21\u001b[0m),\n",
       "    \u001b[33mWeighted\u001b[0m(\u001b[32m6\u001b[0m, \u001b[32m0.03529469999999999\u001b[0m),\n",
       "    \u001b[33mWeighted\u001b[0m(\u001b[32m9\u001b[0m, \u001b[32m0.012106082099999995\u001b[0m),\n",
       "    \u001b[33mWeighted\u001b[0m(\u001b[32m13\u001b[0m, \u001b[32m0.002906670312209998\u001b[0m),\n",
       "    \u001b[33mWeighted\u001b[0m(\u001b[32m2\u001b[0m, \u001b[32m0.147\u001b[0m),\n",
       "    \u001b[33mWeighted\u001b[0m(\u001b[32m12\u001b[0m, \u001b[32m0.004152386160299997\u001b[0m),\n",
       "    \u001b[33mWeighted\u001b[0m(\u001b[32m7\u001b[0m, \u001b[32m0.024706289999999992\u001b[0m),\n",
       "    \u001b[33mWeighted\u001b[0m(\u001b[32m3\u001b[0m, \u001b[32m0.10289999999999999\u001b[0m),\n",
       "    \u001b[33mWeighted\u001b[0m(\u001b[32m11\u001b[0m, \u001b[32m0.005931980228999997\u001b[0m),\n",
       "\u001b[33m...\u001b[0m"
      ]
     },
     "metadata": {},
     "output_type": "display_data"
    }
   ],
   "source": [
    "val fd = gt.getFD(1.0/1000).get"
   ]
  },
  {
   "cell_type": "code",
   "execution_count": 38,
   "metadata": {
    "collapsed": false
   },
   "outputs": [
    {
     "data": {
      "text/plain": [
       "\u001b[36mres30\u001b[0m: \u001b[32mList\u001b[0m[\u001b[32mWeighted\u001b[0m[\u001b[32mString\u001b[0m]] = \u001b[33mList\u001b[0m(\n",
       "  \u001b[33mWeighted\u001b[0m(\u001b[32m\"0\"\u001b[0m, \u001b[32m1.7369655941662063\u001b[0m),\n",
       "  \u001b[33mWeighted\u001b[0m(\u001b[32m\"1\"\u001b[0m, \u001b[32m2.2515387669959646\u001b[0m),\n",
       "  \u001b[33mWeighted\u001b[0m(\u001b[32m\"2\"\u001b[0m, \u001b[32m2.766111939825723\u001b[0m),\n",
       "  \u001b[33mWeighted\u001b[0m(\u001b[32m\"3\"\u001b[0m, \u001b[32m3.280685112655481\u001b[0m),\n",
       "  \u001b[33mWeighted\u001b[0m(\u001b[32m\"4\"\u001b[0m, \u001b[32m3.7952582854852395\u001b[0m),\n",
       "  \u001b[33mWeighted\u001b[0m(\u001b[32m\"5\"\u001b[0m, \u001b[32m4.3098314583149975\u001b[0m),\n",
       "  \u001b[33mWeighted\u001b[0m(\u001b[32m\"6\"\u001b[0m, \u001b[32m4.824404631144756\u001b[0m),\n",
       "  \u001b[33mWeighted\u001b[0m(\u001b[32m\"7\"\u001b[0m, \u001b[32m5.338977803974514\u001b[0m),\n",
       "  \u001b[33mWeighted\u001b[0m(\u001b[32m\"8\"\u001b[0m, \u001b[32m5.853550976804273\u001b[0m),\n",
       "  \u001b[33mWeighted\u001b[0m(\u001b[32m\"9\"\u001b[0m, \u001b[32m6.368124149634031\u001b[0m),\n",
       "  \u001b[33mWeighted\u001b[0m(\u001b[32m\"10\"\u001b[0m, \u001b[32m6.882697322463789\u001b[0m),\n",
       "  \u001b[33mWeighted\u001b[0m(\u001b[32m\"11\"\u001b[0m, \u001b[32m7.397270495293548\u001b[0m),\n",
       "  \u001b[33mWeighted\u001b[0m(\u001b[32m\"12\"\u001b[0m, \u001b[32m7.911843668123306\u001b[0m),\n",
       "  \u001b[33mWeighted\u001b[0m(\u001b[32m\"13\"\u001b[0m, \u001b[32m8.426416840953065\u001b[0m),\n",
       "\u001b[33m...\u001b[0m"
      ]
     },
     "metadata": {},
     "output_type": "display_data"
    }
   ],
   "source": [
    "fd.entropyView"
   ]
  },
  {
   "cell_type": "code",
   "execution_count": 39,
   "metadata": {
    "collapsed": false
   },
   "outputs": [
    {
     "data": {
      "text/plain": [
       "\u001b[36mres31\u001b[0m: \u001b[32mInt\u001b[0m = \u001b[32m16\u001b[0m"
      ]
     },
     "metadata": {},
     "output_type": "display_data"
    }
   ],
   "source": [
    "fd.supp.size"
   ]
  },
  {
   "cell_type": "code",
   "execution_count": null,
   "metadata": {
    "collapsed": true
   },
   "outputs": [],
   "source": []
  }
 ],
 "metadata": {
  "kernelspec": {
   "display_name": "Scala 2.11",
   "language": "scala211",
   "name": "scala211"
  },
  "language_info": {
   "codemirror_mode": "text/x-scala",
   "file_extension": ".scala",
   "mimetype": "text/x-scala",
   "name": "scala211",
   "pygments_lexer": "scala",
   "version": "2.11.6"
  }
 },
 "nbformat": 4,
 "nbformat_minor": 0
}
