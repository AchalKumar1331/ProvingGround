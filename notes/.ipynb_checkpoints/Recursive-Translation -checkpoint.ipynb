{
 "cells": [
  {
   "cell_type": "markdown",
   "metadata": {},
   "source": [
    "# Recursive translation\n",
    "\n",
    "A translation takes an input of type `X` and gives an optional output of type `Option[Y]`. This is frequently built from\n",
    "\n",
    "* pattern matching on `X` to get a combination of tuples, lists etc of `X`.\n",
    "* translating each of these, and flattening to get a tuple etc. of `Y`.\n",
    "* applying an optional builder to these.\n",
    "\n",
    "For these we have appropriate abstractions: Functors which are natural with respect to the Option Functor."
   ]
  }
 ],
 "metadata": {
  "kernelspec": {
   "display_name": "Scala 2.11",
   "language": "scala211",
   "name": "scala211"
  },
  "language_info": {
   "codemirror_mode": "text/x-scala",
   "file_extension": ".scala",
   "mimetype": "text/x-scala",
   "name": "scala211",
   "pygments_lexer": "scala",
   "version": "2.11.6"
  }
 },
 "nbformat": 4,
 "nbformat_minor": 0
}
