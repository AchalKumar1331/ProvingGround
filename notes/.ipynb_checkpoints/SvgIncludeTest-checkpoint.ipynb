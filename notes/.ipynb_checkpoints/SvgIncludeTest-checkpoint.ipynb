{
 "cells": [
  {
   "cell_type": "code",
   "execution_count": 35,
   "metadata": {
    "collapsed": false,
    "scrolled": false
   },
   "outputs": [
    {
     "data": {
      "text/plain": [
       "\u001b[36mtest\u001b[0m: \u001b[32mString\u001b[0m = \u001b[32m\"\"\"\n",
       "<div>\n",
       "    <style>\n",
       "      .labl {\n",
       "        display: none;\n",
       "      }\n",
       "      .labelled:hover + .labl {\n",
       "        display: inline;\n",
       "      }\n",
       "    </style>\n",
       "    <div class=\"labelled\"> This has a label\n",
       "    </div>\n",
       "    <div class=\"labl\">\n",
       "      first\n",
       "    </div>\n",
       "    <div class=\"labelled\">\n",
       "      This too has a label\n",
       "    </div>\n",
       "    <div class=\"labl\">\n",
       "      second\n",
       "\u001b[33m...\u001b[0m"
      ]
     },
     "metadata": {},
     "output_type": "display_data"
    }
   ],
   "source": [
    "val test = \"\"\"<div>\n",
    "    <style>\n",
    "      .labl {\n",
    "        display: none;\n",
    "      }\n",
    "      .labelled:hover + .labl {\n",
    "        display: inline;\n",
    "      }\n",
    "    </style>\n",
    "    <div class=\"labelled\"> This has a label\n",
    "    </div>\n",
    "    <div class=\"labl\">\n",
    "      first\n",
    "    </div>\n",
    "    <div class=\"labelled\">\n",
    "      This too has a label\n",
    "    </div>\n",
    "    <div class=\"labl\">\n",
    "      second\n",
    "    </div>\n",
    "\n",
    "    <svg version=\"1.1\"\n",
    "     baseProfile=\"full\"\n",
    "     width=\"600\" height=\"400\"\n",
    "     xmlns=\"http://www.w3.org/2000/svg\">\n",
    "\n",
    "  <rect width=\"100%\" height=\"100%\" fill=\"lightgrey\" />\n",
    "\n",
    "  <circle cx=\"150.5\" cy=\"100.3\" r=\"80\" fill=\"green\" class = \"labelled\"/>\n",
    "\n",
    "  <text x=\"150\" y=\"100\" font-size=\"12\" text-anchor=\"start\" class = \"labl\">SVG</text>\n",
    "\n",
    "</svg></div>\n",
    "  \n",
    "\"\"\""
   ]
  },
  {
   "cell_type": "code",
   "execution_count": 36,
   "metadata": {
    "collapsed": false
   },
   "outputs": [
    {
     "data": {
      "text/html": [
       "<div>\n",
       "    <style>\n",
       "      .labl {\n",
       "        display: none;\n",
       "      }\n",
       "      .labelled:hover + .labl {\n",
       "        display: inline;\n",
       "      }\n",
       "    </style>\n",
       "    <div class=\"labelled\"> This has a label\n",
       "    </div>\n",
       "    <div class=\"labl\">\n",
       "      first\n",
       "    </div>\n",
       "    <div class=\"labelled\">\n",
       "      This too has a label\n",
       "    </div>\n",
       "    <div class=\"labl\">\n",
       "      second\n",
       "    </div>\n",
       "\n",
       "    <svg version=\"1.1\"\n",
       "     baseProfile=\"full\"\n",
       "     width=\"600\" height=\"400\"\n",
       "     xmlns=\"http://www.w3.org/2000/svg\">\n",
       "\n",
       "  <rect width=\"100%\" height=\"100%\" fill=\"lightgrey\" />\n",
       "\n",
       "  <circle cx=\"150.5\" cy=\"100.3\" r=\"80\" fill=\"green\" class = \"labelled\"/>\n",
       "\n",
       "  <text x=\"150\" y=\"100\" font-size=\"12\" text-anchor=\"start\" class = \"labl\">SVG</text>\n",
       "\n",
       "</svg></div>\n",
       "  \n"
      ]
     },
     "metadata": {},
     "output_type": "display_data"
    },
    {
     "data": {
      "text/plain": []
     },
     "metadata": {},
     "output_type": "display_data"
    }
   ],
   "source": [
    "display.html(test)"
   ]
  },
  {
   "cell_type": "code",
   "execution_count": 37,
   "metadata": {
    "collapsed": false,
    "scrolled": true
   },
   "outputs": [
    {
     "name": "stdout",
     "output_type": "stream",
     "text": [
      "\u001b[32m\"\"\"\n",
      "<div>\n",
      "    <style>\n",
      "      .labl {\n",
      "        display: none;\n",
      "      }\n",
      "      .labelled:hover + .labl {\n",
      "        display: inline;\n",
      "      }\n",
      "    </style>\n",
      "    <div class=\"labelled\"> This has a label\n",
      "    </div>\n",
      "    <div class=\"labl\">\n",
      "      first\n",
      "    </div>\n",
      "    <div class=\"labelled\">\n",
      "      This too has a label\n",
      "    </div>\n",
      "    <div class=\"labl\">\n",
      "      second\n",
      "    </div>\n",
      "\n",
      "    <svg version=\"1.1\"\n",
      "     baseProfile=\"full\"\n",
      "     width=\"600\" height=\"400\"\n",
      "     xmlns=\"http://www.w3.org/2000/svg\">\n",
      "\n",
      "  <rect width=\"100%\" height=\"100%\" fill=\"lightgrey\" />\n",
      "\n",
      "  <circle cx=\"150.5\" cy=\"100.3\" r=\"80\" fill=\"green\" class = \"labelled\"/>\n",
      "\n",
      "  <text x=\"150\" y=\"100\" font-size=\"12\" text-anchor=\"start\" class = \"labl\">SVG</text>\n",
      "\n",
      "</svg></div>\n",
      "  \n",
      "\n",
      "\"\"\"\u001b[0m"
     ]
    },
    {
     "data": {
      "text/plain": []
     },
     "metadata": {},
     "output_type": "display_data"
    }
   ],
   "source": [
    "show(test)"
   ]
  },
  {
   "cell_type": "code",
   "execution_count": 38,
   "metadata": {
    "collapsed": false
   },
   "outputs": [
    {
     "data": {
      "text/plain": [
       "\u001b[36mres37\u001b[0m: \u001b[32mBoolean\u001b[0m = \u001b[32mtrue\u001b[0m"
      ]
     },
     "metadata": {},
     "output_type": "display_data"
    }
   ],
   "source": [
    "\"a\" < \"b\""
   ]
  },
  {
   "cell_type": "code",
   "execution_count": 46,
   "metadata": {
    "collapsed": false
   },
   "outputs": [
    {
     "data": {
      "text/plain": [
       "\u001b[36mfromRepl\u001b[0m: \u001b[32mString\u001b[0m = \u001b[32m\"\"\"\n",
       "\n",
       "           <div>\n",
       "      \n",
       "    <svg version=\"1.1\"\n",
       "   baseProfile=\"full\"\n",
       "   width=\"600\" height=\"400\"\n",
       "   xmlns=\"http://www.w3.org/2000/svg\">\n",
       "\n",
       "   <rect width=\"100%\" height=\"100%\" fill=\"lightgrey\" />\n",
       "    \n",
       "      \n",
       "    <circle cx=\"0.0\" cy=\"400.0\" r=\"3.0\" fill=\"blue\" class = \"labelled\"/>\n",
       "    <text x=\"6.0\" y=\"400.0\" font-size=\"12\" text-anchor=\"start\" class = \"labl\">1</text>\n",
       "    \n",
       "\n",
       "    <circle cx=\"60.0\" cy=\"389.09090909090907\" r=\"3.0\" fill=\"blue\" class = \"labelled\"/>\n",
       "    <text x=\"66.0\" y=\"389.09090909090907\" font-size=\"12\" text-anchor=\"start\" cla\u001b[33m...\u001b[0m"
      ]
     },
     "metadata": {},
     "output_type": "display_data"
    }
   ],
   "source": [
    "val fromRepl = \"\"\"\n",
    "           <div>\n",
    "      \n",
    "    <svg version=\"1.1\"\n",
    "   baseProfile=\"full\"\n",
    "   width=\"600\" height=\"400\"\n",
    "   xmlns=\"http://www.w3.org/2000/svg\">\n",
    "\n",
    "   <rect width=\"100%\" height=\"100%\" fill=\"lightgrey\" />\n",
    "    \n",
    "      \n",
    "    <circle cx=\"0.0\" cy=\"400.0\" r=\"3.0\" fill=\"blue\" class = \"labelled\"/>\n",
    "    <text x=\"6.0\" y=\"400.0\" font-size=\"12\" text-anchor=\"start\" class = \"labl\">1</text>\n",
    "    \n",
    "\n",
    "    <circle cx=\"60.0\" cy=\"389.09090909090907\" r=\"3.0\" fill=\"blue\" class = \"labelled\"/>\n",
    "    <text x=\"66.0\" y=\"389.09090909090907\" font-size=\"12\" text-anchor=\"start\" class = \"labl\">2</text>\n",
    "    \n",
    "\n",
    "    <circle cx=\"120.0\" cy=\"370.90909090909093\" r=\"3.0\" fill=\"blue\" class = \"labelled\"/>\n",
    "    <text x=\"126.0\" y=\"370.90909090909093\" font-size=\"12\" text-anchor=\"start\" class = \"labl\">3</text>\n",
    "    \n",
    "\n",
    "    <circle cx=\"180.0\" cy=\"345.45454545454544\" r=\"3.0\" fill=\"blue\" class = \"labelled\"/>\n",
    "    <text x=\"186.0\" y=\"345.45454545454544\" font-size=\"12\" text-anchor=\"start\" class = \"labl\">4</text>\n",
    "    \n",
    "\n",
    "    <circle cx=\"240.0\" cy=\"312.72727272727275\" r=\"3.0\" fill=\"blue\" class = \"labelled\"/>\n",
    "    <text x=\"246.0\" y=\"312.72727272727275\" font-size=\"12\" text-anchor=\"start\" class = \"labl\">5</text>\n",
    "    \n",
    "\n",
    "    <circle cx=\"300.0\" cy=\"272.72727272727275\" r=\"3.0\" fill=\"blue\" class = \"labelled\"/>\n",
    "    <text x=\"306.0\" y=\"272.72727272727275\" font-size=\"12\" text-anchor=\"start\" class = \"labl\">6</text>\n",
    "    \n",
    "\n",
    "    <circle cx=\"360.0\" cy=\"225.45454545454544\" r=\"3.0\" fill=\"blue\" class = \"labelled\"/>\n",
    "    <text x=\"366.0\" y=\"225.45454545454544\" font-size=\"12\" text-anchor=\"start\" class = \"labl\">7</text>\n",
    "    \n",
    "\n",
    "    <circle cx=\"420.0\" cy=\"170.9090909090909\" r=\"3.0\" fill=\"blue\" class = \"labelled\"/>\n",
    "    <text x=\"426.0\" y=\"170.9090909090909\" font-size=\"12\" text-anchor=\"start\" class = \"labl\">8</text>\n",
    "    \n",
    "\n",
    "    <circle cx=\"480.0\" cy=\"109.09090909090912\" r=\"3.0\" fill=\"blue\" class = \"labelled\"/>\n",
    "    <text x=\"486.0\" y=\"109.09090909090912\" font-size=\"12\" text-anchor=\"start\" class = \"labl\">9</text>\n",
    "    \n",
    "\n",
    "    <circle cx=\"540.0\" cy=\"40.0\" r=\"3.0\" fill=\"blue\" class = \"labelled\"/>\n",
    "    <text x=\"546.0\" y=\"40.0\" font-size=\"12\" text-anchor=\"start\" class = \"labl\">10</text>\n",
    "    \n",
    "      </div>\n",
    "\n",
    "\n",
    "\"\"\""
   ]
  },
  {
   "cell_type": "code",
   "execution_count": 45,
   "metadata": {
    "collapsed": false,
    "scrolled": false
   },
   "outputs": [
    {
     "data": {
      "text/html": [
       "\n",
       "        <div>\n",
       "      \n",
       "      <svg version=\"1.1\"\n",
       "     baseProfile=\"full\"\n",
       "     width=\"600\" height=\"400\"\n",
       "     xmlns=\"http://www.w3.org/2000/svg\">\n",
       "\n",
       "     <rect width=\"100%\" height=\"100%\" fill=\"lightgrey\" />\n",
       "      \n",
       "      \n",
       "    <circle cx=\"0.0\" cy=\"400.0\" r=\"3.0\" fill=\"blue\" class = \"labelled\"/>\n",
       "    <text x=\"6.0\" y=\"400.0\" font-size=\"12\" text-anchor=\"start\" class = \"labl\">1</text>\n",
       "    \n",
       "\n",
       "    <circle cx=\"60.0\" cy=\"389.09090909090907\" r=\"3.0\" fill=\"blue\" class = \"labelled\"/>\n",
       "    <text x=\"66.0\" y=\"389.09090909090907\" font-size=\"12\" text-anchor=\"start\" class = \"labl\">2</text>\n",
       "    \n",
       "\n",
       "    <circle cx=\"120.0\" cy=\"370.90909090909093\" r=\"3.0\" fill=\"blue\" class = \"labelled\"/>\n",
       "    <text x=\"126.0\" y=\"370.90909090909093\" font-size=\"12\" text-anchor=\"start\" class = \"labl\">3</text>\n",
       "    \n",
       "\n",
       "    <circle cx=\"180.0\" cy=\"345.45454545454544\" r=\"3.0\" fill=\"blue\" class = \"labelled\"/>\n",
       "    <text x=\"186.0\" y=\"345.45454545454544\" font-size=\"12\" text-anchor=\"start\" class = \"labl\">4</text>\n",
       "    \n",
       "\n",
       "    <circle cx=\"240.0\" cy=\"312.72727272727275\" r=\"3.0\" fill=\"blue\" class = \"labelled\"/>\n",
       "    <text x=\"246.0\" y=\"312.72727272727275\" font-size=\"12\" text-anchor=\"start\" class = \"labl\">5</text>\n",
       "    \n",
       "\n",
       "    <circle cx=\"300.0\" cy=\"272.72727272727275\" r=\"3.0\" fill=\"blue\" class = \"labelled\"/>\n",
       "    <text x=\"306.0\" y=\"272.72727272727275\" font-size=\"12\" text-anchor=\"start\" class = \"labl\">6</text>\n",
       "    \n",
       "\n",
       "    <circle cx=\"360.0\" cy=\"225.45454545454544\" r=\"3.0\" fill=\"blue\" class = \"labelled\"/>\n",
       "    <text x=\"366.0\" y=\"225.45454545454544\" font-size=\"12\" text-anchor=\"start\" class = \"labl\">7</text>\n",
       "    \n",
       "\n",
       "    <circle cx=\"420.0\" cy=\"170.9090909090909\" r=\"3.0\" fill=\"blue\" class = \"labelled\"/>\n",
       "    <text x=\"426.0\" y=\"170.9090909090909\" font-size=\"12\" text-anchor=\"start\" class = \"labl\">8</text>\n",
       "    \n",
       "\n",
       "    <circle cx=\"480.0\" cy=\"109.09090909090912\" r=\"3.0\" fill=\"blue\" class = \"labelled\"/>\n",
       "    <text x=\"486.0\" y=\"109.09090909090912\" font-size=\"12\" text-anchor=\"start\" class = \"labl\">9</text>\n",
       "    \n",
       "\n",
       "    <circle cx=\"540.0\" cy=\"40.0\" r=\"3.0\" fill=\"blue\" class = \"labelled\"/>\n",
       "    <text x=\"546.0\" y=\"40.0\" font-size=\"12\" text-anchor=\"start\" class = \"labl\">10</text>\n",
       "    \n",
       "      </div>\n",
       "      \n",
       "\n"
      ]
     },
     "metadata": {},
     "output_type": "display_data"
    },
    {
     "data": {
      "text/plain": []
     },
     "metadata": {},
     "output_type": "display_data"
    }
   ],
   "source": [
    "display.html(fromRepl)"
   ]
  },
  {
   "cell_type": "code",
   "execution_count": 41,
   "metadata": {
    "collapsed": false,
    "scrolled": true
   },
   "outputs": [
    {
     "name": "stdout",
     "output_type": "stream",
     "text": [
      "\u001b[32m\"\"\"\n",
      "\n",
      "<div>\n",
      "      \n",
      "      <svg version=\"1.1\"\n",
      "     baseProfile=\"full\"\n",
      "     width=\"600\" height=\"400\"\n",
      "     xmlns=\"http://www.w3.org/2000/svg\">\n",
      "\n",
      "     <rect width=\"100%\" height=\"90%\" fill=\"lightgrey\" />\n",
      "      \n",
      "      \n",
      "    <circle cx=\"60.0\" cy=\"355.55555555555554\" r=\"3.0\" fill=\"blue\" class = \"labelled\"/>\n",
      "    <text x=\"66.0\" y=\"355.55555555555554\" font-size=\"12\" text-anchor=\"start\" class = \"labl\">1</text>\n",
      "    \n",
      "\n",
      "    <circle cx=\"120.0\" cy=\"311.1111111111111\" r=\"3.0\" fill=\"blue\" class = \"labelled\"/>\n",
      "    <text x=\"126.0\" y=\"311.1111111111111\" font-size=\"12\" text-anchor=\"start\" class = \"labl\">2</text>\n",
      "    \n",
      "\n",
      "    <circle cx=\"180.0\" cy=\"266.6666666666667\" r=\"3.0\" fill=\"blue\" class = \"labelled\"/>\n",
      "    <text x=\"186.0\" y=\"266.6666666666667\" font-size=\"12\" text-anchor=\"start\" class = \"labl\">3</text>\n",
      "    \n",
      "\n",
      "    <circle cx=\"240.0\" cy=\"222.22222222222223\" r=\"3.0\" fill=\"blue\" class = \"labelled\"/>\n",
      "    <text x=\"246.0\" y=\"222.22222222222223\" font-size=\"12\" text-anchor=\"start\" class = \"labl\">4</text>\n",
      "    \n",
      "\n",
      "    <circle cx=\"300.0\" cy=\"177.77777777777777\" r=\"3.0\" fill=\"blue\" class = \"labelled\"/>\n",
      "    <text x=\"306.0\" y=\"177.77777777777777\" font-size=\"12\" text-anchor=\"start\" class = \"labl\">5</text>\n",
      "    \n",
      "\n",
      "    <circle cx=\"360.0\" cy=\"133.33333333333337\" r=\"3.0\" fill=\"blue\" class = \"labelled\"/>\n",
      "    <text x=\"366.0\" y=\"133.33333333333337\" font-size=\"12\" text-anchor=\"start\" class = \"labl\">6</text>\n",
      "    \n",
      "\n",
      "    <circle cx=\"420.0\" cy=\"88.88888888888891\" r=\"3.0\" fill=\"blue\" class = \"labelled\"/>\n",
      "    <text x=\"426.0\" y=\"88.88888888888891\" font-size=\"12\" text-anchor=\"start\" class = \"labl\">7</text>\n",
      "    \n",
      "\n",
      "    <circle cx=\"480.0\" cy=\"44.44444444444446\" r=\"3.0\" fill=\"blue\" class = \"labelled\"/>\n",
      "    <text x=\"486.0\" y=\"44.44444444444446\" font-size=\"12\" text-anchor=\"start\" class = \"labl\">8</text>\n",
      "    \n",
      "\n",
      "    <circle cx=\"540.0\" cy=\"0.0\" r=\"3.0\" fill=\"blue\" class = \"labelled\"/>\n",
      "    <text x=\"546.0\" y=\"0.0\" font-size=\"12\" text-anchor=\"start\" class = \"labl\">9</text>\n",
      "    \n",
      "\n",
      "    <circle cx=\"600.0\" cy=\"-44.44444444444446\" r=\"3.0\" fill=\"blue\" class = \"labelled\"/>\n",
      "    <text x=\"606.0\" y=\"-44.44444444444446\" font-size=\"12\" text-anchor=\"start\" class = \"labl\">10</text>\n",
      "    \n",
      "      </div>\n",
      "\n",
      "\"\"\"\u001b[0m"
     ]
    },
    {
     "data": {
      "text/plain": []
     },
     "metadata": {},
     "output_type": "display_data"
    }
   ],
   "source": [
    "show(fromRepl)"
   ]
  },
  {
   "cell_type": "code",
   "execution_count": 47,
   "metadata": {
    "collapsed": false
   },
   "outputs": [
    {
     "data": {
      "text/plain": []
     },
     "metadata": {},
     "output_type": "display_data"
    }
   ],
   "source": [
    "classpath.addPath(\"/home/gadgil/code/ProvingGround/deepwalk/target/scala-2.11/deepwalk4s_2.11-0.8.jar\")"
   ]
  },
  {
   "cell_type": "code",
   "execution_count": 48,
   "metadata": {
    "collapsed": false
   },
   "outputs": [
    {
     "data": {
      "text/plain": [
       "\u001b[32mimport \u001b[36mdeepwalk4s._\u001b[0m"
      ]
     },
     "metadata": {},
     "output_type": "display_data"
    }
   ],
   "source": [
    "import deepwalk4s._"
   ]
  },
  {
   "cell_type": "code",
   "execution_count": 49,
   "metadata": {
    "collapsed": false
   },
   "outputs": [
    {
     "data": {
      "text/plain": [
       "\u001b[32mimport \u001b[36mSvgGraphs._\u001b[0m"
      ]
     },
     "metadata": {},
     "output_type": "display_data"
    }
   ],
   "source": [
    "import SvgGraphs._"
   ]
  },
  {
   "cell_type": "code",
   "execution_count": 50,
   "metadata": {
    "collapsed": false
   },
   "outputs": [
    {
     "data": {
      "text/plain": [
       "\u001b[36mpts\u001b[0m: \u001b[32mcollection\u001b[0m.\u001b[32mimmutable\u001b[0m.\u001b[32mIndexedSeq\u001b[0m[(\u001b[32mDouble\u001b[0m, \u001b[32mDouble\u001b[0m, \u001b[32mString\u001b[0m)] = \u001b[33mVector\u001b[0m(\n",
       "  \u001b[33m\u001b[0m(\u001b[32m1.0\u001b[0m, \u001b[32m0.2\u001b[0m, \u001b[32m\"1\"\u001b[0m),\n",
       "  \u001b[33m\u001b[0m(\u001b[32m2.0\u001b[0m, \u001b[32m0.8\u001b[0m, \u001b[32m\"2\"\u001b[0m),\n",
       "  \u001b[33m\u001b[0m(\u001b[32m3.0\u001b[0m, \u001b[32m1.8\u001b[0m, \u001b[32m\"3\"\u001b[0m),\n",
       "  \u001b[33m\u001b[0m(\u001b[32m4.0\u001b[0m, \u001b[32m3.2\u001b[0m, \u001b[32m\"4\"\u001b[0m),\n",
       "  \u001b[33m\u001b[0m(\u001b[32m5.0\u001b[0m, \u001b[32m5.0\u001b[0m, \u001b[32m\"5\"\u001b[0m),\n",
       "  \u001b[33m\u001b[0m(\u001b[32m6.0\u001b[0m, \u001b[32m7.2\u001b[0m, \u001b[32m\"6\"\u001b[0m),\n",
       "  \u001b[33m\u001b[0m(\u001b[32m7.0\u001b[0m, \u001b[32m9.8\u001b[0m, \u001b[32m\"7\"\u001b[0m),\n",
       "  \u001b[33m\u001b[0m(\u001b[32m8.0\u001b[0m, \u001b[32m12.8\u001b[0m, \u001b[32m\"8\"\u001b[0m),\n",
       "  \u001b[33m\u001b[0m(\u001b[32m9.0\u001b[0m, \u001b[32m16.2\u001b[0m, \u001b[32m\"9\"\u001b[0m),\n",
       "  \u001b[33m\u001b[0m(\u001b[32m10.0\u001b[0m, \u001b[32m20.0\u001b[0m, \u001b[32m\"10\"\u001b[0m)\n",
       ")"
      ]
     },
     "metadata": {},
     "output_type": "display_data"
    }
   ],
   "source": [
    "val pts = (1 to 10) map ((n) => (n: Double, (n * n.toDouble)/5 : Double, n.toString))"
   ]
  },
  {
   "cell_type": "code",
   "execution_count": 51,
   "metadata": {
    "collapsed": false
   },
   "outputs": [
    {
     "data": {
      "text/plain": [
       "\u001b[36mpic\u001b[0m: \u001b[32mString\u001b[0m = \u001b[32m\"\"\"\n",
       "\n",
       "      <div>\n",
       "      \n",
       "    <svg version=\"1.1\"\n",
       "   baseProfile=\"full\"\n",
       "   width=\"600\" height=\"400\"\n",
       "   xmlns=\"http://www.w3.org/2000/svg\">\n",
       "\n",
       "   <rect width=\"100%\" height=\"100%\" fill=\"lightgrey\" />\n",
       "    \n",
       "      \n",
       "    <circle cx=\"0.0\" cy=\"400.0\" r=\"3.0\" fill=\"blue\" class = \"labelled\"/>\n",
       "    <text x=\"6.0\" y=\"400.0\" font-size=\"12\" text-anchor=\"start\" class = \"labl\">1</text>\n",
       "    \n",
       "\n",
       "    <circle cx=\"60.0\" cy=\"389.09090909090907\" r=\"3.0\" fill=\"blue\" class = \"labelled\"/>\n",
       "    <text x=\"66.0\" y=\"389.09090909090907\" font-size=\"12\" text-anchor=\"start\" cla\u001b[33m...\u001b[0m"
      ]
     },
     "metadata": {},
     "output_type": "display_data"
    }
   ],
   "source": [
    "val pic = scatterDiv(pts.toVector)"
   ]
  },
  {
   "cell_type": "code",
   "execution_count": 52,
   "metadata": {
    "collapsed": false
   },
   "outputs": [
    {
     "data": {
      "text/html": [
       "\n",
       "      <div>\n",
       "      \n",
       "    <svg version=\"1.1\"\n",
       "   baseProfile=\"full\"\n",
       "   width=\"600\" height=\"400\"\n",
       "   xmlns=\"http://www.w3.org/2000/svg\">\n",
       "\n",
       "   <rect width=\"100%\" height=\"100%\" fill=\"lightgrey\" />\n",
       "    \n",
       "      \n",
       "    <circle cx=\"0.0\" cy=\"400.0\" r=\"3.0\" fill=\"blue\" class = \"labelled\"/>\n",
       "    <text x=\"6.0\" y=\"400.0\" font-size=\"12\" text-anchor=\"start\" class = \"labl\">1</text>\n",
       "    \n",
       "\n",
       "    <circle cx=\"60.0\" cy=\"389.09090909090907\" r=\"3.0\" fill=\"blue\" class = \"labelled\"/>\n",
       "    <text x=\"66.0\" y=\"389.09090909090907\" font-size=\"12\" text-anchor=\"start\" class = \"labl\">2</text>\n",
       "    \n",
       "\n",
       "    <circle cx=\"120.0\" cy=\"370.90909090909093\" r=\"3.0\" fill=\"blue\" class = \"labelled\"/>\n",
       "    <text x=\"126.0\" y=\"370.90909090909093\" font-size=\"12\" text-anchor=\"start\" class = \"labl\">3</text>\n",
       "    \n",
       "\n",
       "    <circle cx=\"180.0\" cy=\"345.45454545454544\" r=\"3.0\" fill=\"blue\" class = \"labelled\"/>\n",
       "    <text x=\"186.0\" y=\"345.45454545454544\" font-size=\"12\" text-anchor=\"start\" class = \"labl\">4</text>\n",
       "    \n",
       "\n",
       "    <circle cx=\"240.0\" cy=\"312.72727272727275\" r=\"3.0\" fill=\"blue\" class = \"labelled\"/>\n",
       "    <text x=\"246.0\" y=\"312.72727272727275\" font-size=\"12\" text-anchor=\"start\" class = \"labl\">5</text>\n",
       "    \n",
       "\n",
       "    <circle cx=\"300.0\" cy=\"272.72727272727275\" r=\"3.0\" fill=\"blue\" class = \"labelled\"/>\n",
       "    <text x=\"306.0\" y=\"272.72727272727275\" font-size=\"12\" text-anchor=\"start\" class = \"labl\">6</text>\n",
       "    \n",
       "\n",
       "    <circle cx=\"360.0\" cy=\"225.45454545454544\" r=\"3.0\" fill=\"blue\" class = \"labelled\"/>\n",
       "    <text x=\"366.0\" y=\"225.45454545454544\" font-size=\"12\" text-anchor=\"start\" class = \"labl\">7</text>\n",
       "    \n",
       "\n",
       "    <circle cx=\"420.0\" cy=\"170.9090909090909\" r=\"3.0\" fill=\"blue\" class = \"labelled\"/>\n",
       "    <text x=\"426.0\" y=\"170.9090909090909\" font-size=\"12\" text-anchor=\"start\" class = \"labl\">8</text>\n",
       "    \n",
       "\n",
       "    <circle cx=\"480.0\" cy=\"109.09090909090912\" r=\"3.0\" fill=\"blue\" class = \"labelled\"/>\n",
       "    <text x=\"486.0\" y=\"109.09090909090912\" font-size=\"12\" text-anchor=\"start\" class = \"labl\">9</text>\n",
       "    \n",
       "\n",
       "    <circle cx=\"540.0\" cy=\"40.0\" r=\"3.0\" fill=\"blue\" class = \"labelled\"/>\n",
       "    <text x=\"546.0\" y=\"40.0\" font-size=\"12\" text-anchor=\"start\" class = \"labl\">10</text>\n",
       "    \n",
       "      </div>\n",
       "      "
      ]
     },
     "metadata": {},
     "output_type": "display_data"
    },
    {
     "data": {
      "text/plain": []
     },
     "metadata": {},
     "output_type": "display_data"
    }
   ],
   "source": [
    "display.html(pic)"
   ]
  },
  {
   "cell_type": "code",
   "execution_count": null,
   "metadata": {
    "collapsed": true
   },
   "outputs": [],
   "source": []
  }
 ],
 "metadata": {
  "kernelspec": {
   "display_name": "Scala 2.11",
   "language": "scala211",
   "name": "scala211"
  },
  "language_info": {
   "codemirror_mode": "text/x-scala",
   "file_extension": ".scala",
   "mimetype": "text/x-scala",
   "name": "scala211",
   "pygments_lexer": "scala",
   "version": "2.11.8"
  }
 },
 "nbformat": 4,
 "nbformat_minor": 0
}
