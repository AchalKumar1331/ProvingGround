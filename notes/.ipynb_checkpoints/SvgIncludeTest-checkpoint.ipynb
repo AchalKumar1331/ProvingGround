{
 "cells": [
  {
   "cell_type": "code",
   "execution_count": 11,
   "metadata": {
    "collapsed": false
   },
   "outputs": [
    {
     "data": {
      "text/plain": [
       "\u001b[36mtest\u001b[0m: \u001b[32mString\u001b[0m = \u001b[32m\"\"\"\n",
       "\n",
       "    <style>\n",
       "      .label {\n",
       "        display: none;\n",
       "      }\n",
       "      .labelled:hover + .label {\n",
       "        display: inline;\n",
       "      }\n",
       "    </style>\n",
       "    <div class=\"labelled\"> This has a label\n",
       "    </div>\n",
       "    <div class=\"label\">\n",
       "      first\n",
       "    </div>\n",
       "    <div class=\"labelled\">\n",
       "      This too has a label\n",
       "    </div>\n",
       "    <div class=\"label\">\n",
       "      second\n",
       "\u001b[33m...\u001b[0m"
      ]
     },
     "metadata": {},
     "output_type": "display_data"
    }
   ],
   "source": [
    "val test = \"\"\"\n",
    "    <style>\n",
    "      .label {\n",
    "        display: none;\n",
    "      }\n",
    "      .labelled:hover + .label {\n",
    "        display: inline;\n",
    "      }\n",
    "    </style>\n",
    "    <div class=\"labelled\"> This has a label\n",
    "    </div>\n",
    "    <div class=\"label\">\n",
    "      first\n",
    "    </div>\n",
    "    <div class=\"labelled\">\n",
    "      This too has a label\n",
    "    </div>\n",
    "    <div class=\"label\">\n",
    "      second\n",
    "    </div>\n",
    "\n",
    "    <svg version=\"1.1\"\n",
    "     baseProfile=\"full\"\n",
    "     width=\"300\" height=\"200\"\n",
    "     xmlns=\"http://www.w3.org/2000/svg\">\n",
    "\n",
    "  <rect width=\"100%\" height=\"100%\" fill=\"red\" />\n",
    "\n",
    "  <circle cx=\"150\" cy=\"100\" r=\"80\" fill=\"green\" class = \"labelled\"/>\n",
    "\n",
    "  <text x=\"150\" y=\"125\" font-size=\"60\" text-anchor=\"middle\" fill=\"white\" class = \"label\">SVG</text>\n",
    "\n",
    "</svg>\n",
    "  \n",
    "\"\"\""
   ]
  },
  {
   "cell_type": "code",
   "execution_count": 12,
   "metadata": {
    "collapsed": false
   },
   "outputs": [
    {
     "data": {
      "text/html": [
       "\n",
       "    <style>\n",
       "      .label {\n",
       "        display: none;\n",
       "      }\n",
       "      .labelled:hover + .label {\n",
       "        display: inline;\n",
       "      }\n",
       "    </style>\n",
       "    <div class=\"labelled\"> This has a label\n",
       "    </div>\n",
       "    <div class=\"label\">\n",
       "      first\n",
       "    </div>\n",
       "    <div class=\"labelled\">\n",
       "      This too has a label\n",
       "    </div>\n",
       "    <div class=\"label\">\n",
       "      second\n",
       "    </div>\n",
       "\n",
       "    <svg version=\"1.1\"\n",
       "     baseProfile=\"full\"\n",
       "     width=\"300\" height=\"200\"\n",
       "     xmlns=\"http://www.w3.org/2000/svg\">\n",
       "\n",
       "  <rect width=\"100%\" height=\"100%\" fill=\"red\" />\n",
       "\n",
       "  <circle cx=\"150\" cy=\"100\" r=\"80\" fill=\"green\" class = \"labelled\"/>\n",
       "\n",
       "  <text x=\"150\" y=\"125\" font-size=\"60\" text-anchor=\"middle\" fill=\"white\" class = \"label\">SVG</text>\n",
       "\n",
       "</svg>\n",
       "  \n"
      ]
     },
     "metadata": {},
     "output_type": "display_data"
    },
    {
     "data": {
      "text/plain": []
     },
     "metadata": {},
     "output_type": "display_data"
    }
   ],
   "source": [
    "display.html(test)"
   ]
  },
  {
   "cell_type": "code",
   "execution_count": null,
   "metadata": {
    "collapsed": true
   },
   "outputs": [],
   "source": []
  }
 ],
 "metadata": {
  "kernelspec": {
   "display_name": "Scala 2.11",
   "language": "scala211",
   "name": "scala211"
  },
  "language_info": {
   "codemirror_mode": "text/x-scala",
   "file_extension": ".scala",
   "mimetype": "text/x-scala",
   "name": "scala211",
   "pygments_lexer": "scala",
   "version": "2.11.8"
  }
 },
 "nbformat": 4,
 "nbformat_minor": 0
}
