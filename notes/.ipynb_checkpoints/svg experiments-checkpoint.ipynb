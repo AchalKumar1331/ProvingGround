{
 "cells": [
  {
   "cell_type": "code",
   "execution_count": 1,
   "metadata": {
    "collapsed": false
   },
   "outputs": [
    {
     "data": {
      "text/html": [
       "<div> Hello World </div>"
      ]
     },
     "metadata": {},
     "output_type": "display_data"
    },
    {
     "data": {
      "text/plain": []
     },
     "metadata": {},
     "output_type": "display_data"
    }
   ],
   "source": [
    "display.html(<div> Hello World </div>)"
   ]
  },
  {
   "cell_type": "code",
   "execution_count": 2,
   "metadata": {
    "collapsed": false
   },
   "outputs": [
    {
     "data": {
      "text/html": [
       "<div><i> In Quotes </i> </div>"
      ]
     },
     "metadata": {},
     "output_type": "display_data"
    },
    {
     "data": {
      "text/plain": []
     },
     "metadata": {},
     "output_type": "display_data"
    }
   ],
   "source": [
    "display.html(\"<div><i> In Quotes </i> </div>\")"
   ]
  },
  {
   "cell_type": "code",
   "execution_count": 3,
   "metadata": {
    "collapsed": false
   },
   "outputs": [
    {
     "data": {
      "text/plain": [
       "\u001b[36msvg\u001b[0m: \u001b[32mString\u001b[0m = \u001b[32m\"\"\"\n",
       "<svg version=\"1.1\"\n",
       "     baseProfile=\"full\"\n",
       "     width=\"300\" height=\"200\"\n",
       "     xmlns=\"http://www.w3.org/2000/svg\">\n",
       "\n",
       "  <rect width=\"100%\" height=\"100%\" fill=\"red\" />\n",
       "\n",
       "  <circle cx=\"150\" cy=\"100\" r=\"80\" fill=\"green\" />\n",
       "\n",
       "  <text x=\"150\" y=\"125\" font-size=\"60\" text-anchor=\"middle\" fill=\"white\">SVG</text>\n",
       "\n",
       "</svg>\n",
       "\"\"\"\u001b[0m"
      ]
     },
     "metadata": {},
     "output_type": "display_data"
    }
   ],
   "source": [
    "val svg = \"\"\"<svg version=\"1.1\"\n",
    "     baseProfile=\"full\"\n",
    "     width=\"300\" height=\"200\"\n",
    "     xmlns=\"http://www.w3.org/2000/svg\">\n",
    "\n",
    "  <rect width=\"100%\" height=\"100%\" fill=\"red\" />\n",
    "\n",
    "  <circle cx=\"150\" cy=\"100\" r=\"80\" fill=\"green\" />\n",
    "\n",
    "  <text x=\"150\" y=\"125\" font-size=\"60\" text-anchor=\"middle\" fill=\"white\">SVG</text>\n",
    "\n",
    "</svg>\"\"\""
   ]
  },
  {
   "cell_type": "code",
   "execution_count": 4,
   "metadata": {
    "collapsed": false
   },
   "outputs": [
    {
     "data": {
      "text/html": [
       "<svg version=\"1.1\"\n",
       "     baseProfile=\"full\"\n",
       "     width=\"300\" height=\"200\"\n",
       "     xmlns=\"http://www.w3.org/2000/svg\">\n",
       "\n",
       "  <rect width=\"100%\" height=\"100%\" fill=\"red\" />\n",
       "\n",
       "  <circle cx=\"150\" cy=\"100\" r=\"80\" fill=\"green\" />\n",
       "\n",
       "  <text x=\"150\" y=\"125\" font-size=\"60\" text-anchor=\"middle\" fill=\"white\">SVG</text>\n",
       "\n",
       "</svg>"
      ]
     },
     "metadata": {},
     "output_type": "display_data"
    },
    {
     "data": {
      "text/plain": []
     },
     "metadata": {},
     "output_type": "display_data"
    }
   ],
   "source": [
    "display.html(svg)"
   ]
  },
  {
   "cell_type": "code",
   "execution_count": 5,
   "metadata": {
    "collapsed": false
   },
   "outputs": [
    {
     "data": {
      "image/svg+xml": [
       "<svg version=\"1.1\"\n",
       "     baseProfile=\"full\"\n",
       "     width=\"300\" height=\"200\"\n",
       "     xmlns=\"http://www.w3.org/2000/svg\">\n",
       "\n",
       "  <rect width=\"100%\" height=\"100%\" fill=\"red\" />\n",
       "\n",
       "  <circle cx=\"150\" cy=\"100\" r=\"80\" fill=\"green\" />\n",
       "\n",
       "  <text x=\"150\" y=\"125\" font-size=\"60\" text-anchor=\"middle\" fill=\"white\">SVG</text>\n",
       "\n",
       "</svg>"
      ]
     },
     "metadata": {},
     "output_type": "display_data"
    },
    {
     "data": {
      "text/plain": []
     },
     "metadata": {},
     "output_type": "display_data"
    }
   ],
   "source": [
    "display.svg(svg)"
   ]
  },
  {
   "cell_type": "code",
   "execution_count": 6,
   "metadata": {
    "collapsed": false
   },
   "outputs": [
    {
     "data": {
      "text/latex": [
       "x^2 + y^2 = 1"
      ]
     },
     "metadata": {},
     "output_type": "display_data"
    },
    {
     "data": {
      "text/plain": []
     },
     "metadata": {},
     "output_type": "display_data"
    }
   ],
   "source": [
    "display.latex(\"x^2 + y^2 = 1\")"
   ]
  },
  {
   "cell_type": "code",
   "execution_count": 7,
   "metadata": {
    "collapsed": false
   },
   "outputs": [
    {
     "data": {
      "text/plain": []
     },
     "metadata": {},
     "output_type": "display_data"
    }
   ],
   "source": [
    "load.jar(\"/home/gadgil/code/ProvingGround/core/.jvm/target/scala-2.11/ProvingGround-Core-assembly-0.8.jar\")"
   ]
  },
  {
   "cell_type": "code",
   "execution_count": 8,
   "metadata": {
    "collapsed": false
   },
   "outputs": [
    {
     "data": {
      "text/plain": [
       "\u001b[32mimport \u001b[36mprovingground._\u001b[0m"
      ]
     },
     "metadata": {},
     "output_type": "display_data"
    }
   ],
   "source": [
    "import provingground._"
   ]
  },
  {
   "cell_type": "code",
   "execution_count": 9,
   "metadata": {
    "collapsed": false
   },
   "outputs": [
    {
     "data": {
      "text/plain": [
       "\u001b[36mplot\u001b[0m: \u001b[32mSvgPlot\u001b[0m = provingground.SvgPlot@78a2c2a3"
      ]
     },
     "metadata": {},
     "output_type": "display_data"
    }
   ],
   "source": [
    "val plot = new SvgPlot(400, 200)"
   ]
  },
  {
   "cell_type": "code",
   "execution_count": 10,
   "metadata": {
    "collapsed": false
   },
   "outputs": [
    {
     "data": {
      "text/plain": [
       "\u001b[36mp\u001b[0m: \u001b[32mxml\u001b[0m.\u001b[32mElem\u001b[0m = \u001b[33mElem\u001b[0m(\n",
       "  <svg width=\"400\" height=\"200\"><line x1=\"0\" y1=\"100\" x2=\"400\" y2=\"100\" stroke=\"blue\" stroke-width=\"2\"/><line x1=\"200\" y1=\"200\" x2=\"200\" y2=\"0\" stroke=\"blue\" stroke-width=\"2\"/></svg>\n",
       ")"
      ]
     },
     "metadata": {},
     "output_type": "display_data"
    }
   ],
   "source": [
    "val p = plot.plot(plot.axes)"
   ]
  },
  {
   "cell_type": "code",
   "execution_count": 11,
   "metadata": {
    "collapsed": false
   },
   "outputs": [
    {
     "data": {
      "text/html": [
       "<svg width=\"400\" height=\"200\"><line x1=\"0\" y1=\"100\" x2=\"400\" y2=\"100\" stroke=\"blue\" stroke-width=\"2\"/><line x1=\"200\" y1=\"200\" x2=\"200\" y2=\"0\" stroke=\"blue\" stroke-width=\"2\"/></svg>"
      ]
     },
     "metadata": {},
     "output_type": "display_data"
    },
    {
     "data": {
      "text/plain": []
     },
     "metadata": {},
     "output_type": "display_data"
    }
   ],
   "source": [
    "display.html(p)"
   ]
  },
  {
   "cell_type": "code",
   "execution_count": 12,
   "metadata": {
    "collapsed": false
   },
   "outputs": [
    {
     "data": {
      "image/svg+xml": [
       "<svg width=\"400\" height=\"200\"><line x1=\"0\" y1=\"100\" x2=\"400\" y2=\"100\" stroke=\"blue\" stroke-width=\"2\"/><line x1=\"200\" y1=\"200\" x2=\"200\" y2=\"0\" stroke=\"blue\" stroke-width=\"2\"/></svg>"
      ]
     },
     "metadata": {},
     "output_type": "display_data"
    },
    {
     "data": {
      "text/plain": []
     },
     "metadata": {},
     "output_type": "display_data"
    }
   ],
   "source": [
    "display.svg(p.toString)"
   ]
  },
  {
   "cell_type": "code",
   "execution_count": 13,
   "metadata": {
    "collapsed": false
   },
   "outputs": [
    {
     "data": {
      "text/plain": [
       "\u001b[36mres12\u001b[0m: \u001b[32mInt\u001b[0m = \u001b[32m100\u001b[0m"
      ]
     },
     "metadata": {},
     "output_type": "display_data"
    }
   ],
   "source": [
    "plot.yval(0)"
   ]
  },
  {
   "cell_type": "code",
   "execution_count": 14,
   "metadata": {
    "collapsed": false
   },
   "outputs": [
    {
     "data": {
      "text/plain": [
       "\u001b[36mres13\u001b[0m: \u001b[32mList\u001b[0m[\u001b[32mxml\u001b[0m.\u001b[32mElem\u001b[0m] = \u001b[33mList\u001b[0m(\n",
       "  \u001b[33mElem\u001b[0m(<line x1=\"0\" y1=\"100\" x2=\"400\" y2=\"100\" stroke=\"blue\" stroke-width=\"2\"/>),\n",
       "  \u001b[33mElem\u001b[0m(<line x1=\"200\" y1=\"200\" x2=\"200\" y2=\"0\" stroke=\"blue\" stroke-width=\"2\"/>)\n",
       ")"
      ]
     },
     "metadata": {},
     "output_type": "display_data"
    }
   ],
   "source": [
    "plot.axes"
   ]
  },
  {
   "cell_type": "code",
   "execution_count": null,
   "metadata": {
    "collapsed": true
   },
   "outputs": [],
   "source": []
  }
 ],
 "metadata": {
  "kernelspec": {
   "display_name": "Scala 2.11",
   "language": "scala211",
   "name": "scala211"
  },
  "language_info": {
   "codemirror_mode": "text/x-scala",
   "file_extension": ".scala",
   "mimetype": "text/x-scala",
   "name": "scala211",
   "pygments_lexer": "scala",
   "version": "2.11.6"
  }
 },
 "nbformat": 4,
 "nbformat_minor": 0
}
