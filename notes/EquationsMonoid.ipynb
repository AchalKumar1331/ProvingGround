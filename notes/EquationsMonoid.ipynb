{
 "cells": [
  {
   "cell_type": "markdown",
   "metadata": {},
   "source": [
    "## Generating Equations\n",
    "Mainly to test correctness of equations generated along with forward evolution"
   ]
  },
  {
   "cell_type": "code",
   "execution_count": 1,
   "metadata": {},
   "outputs": [
    {
     "data": {
      "text/plain": [
       "\u001b[32mimport \u001b[39m\u001b[36m$ivy.$                                       \u001b[39m"
      ]
     },
     "execution_count": 1,
     "metadata": {},
     "output_type": "execute_result"
    }
   ],
   "source": [
    "import $ivy.`in.ac.iisc.math::core-jvm:0.1-SNAPSHOT`"
   ]
  },
  {
   "cell_type": "code",
   "execution_count": 2,
   "metadata": {},
   "outputs": [
    {
     "data": {
      "text/plain": [
       "\u001b[32mimport \u001b[39m\u001b[36mprovingground._ , interface._, HoTT._\n",
       "\u001b[39m\n",
       "\u001b[32mimport \u001b[39m\u001b[36mlearning._\n",
       "\u001b[39m\n",
       "\u001b[32mimport \u001b[39m\u001b[36mlibrary._, MonoidSimple._\u001b[39m"
      ]
     },
     "execution_count": 2,
     "metadata": {},
     "output_type": "execute_result"
    }
   ],
   "source": [
    "import provingground._ , interface._, HoTT._\n",
    "import learning._\n",
    "import library._, MonoidSimple._"
   ]
  },
  {
   "cell_type": "code",
   "execution_count": 3,
   "metadata": {},
   "outputs": [],
   "source": [
    "repl.pprinter.bind(translation.FansiShow.fansiPrint)"
   ]
  },
  {
   "cell_type": "code",
   "execution_count": 4,
   "metadata": {},
   "outputs": [
    {
     "data": {
      "text/plain": [
       "\u001b[36mtg\u001b[39m: \u001b[32mTermGenParams\u001b[39m = \u001b[33mTermGenParams\u001b[39m(\u001b[32m0.1\u001b[39m, \u001b[32m0.1\u001b[39m, \u001b[32m0.1\u001b[39m, \u001b[32m0.1\u001b[39m, \u001b[32m0.1\u001b[39m, \u001b[32m0.05\u001b[39m, \u001b[32m0.05\u001b[39m, \u001b[32m0.05\u001b[39m, \u001b[32m0.3\u001b[39m, \u001b[32m0.5\u001b[39m, \u001b[32m0.5\u001b[39m)\n",
       "\u001b[36mres3_1\u001b[39m: \u001b[32mNodeCoeffSeq\u001b[39m[\u001b[32mTermState\u001b[39m, \u001b[32mTerm\u001b[39m, \u001b[32mDouble\u001b[39m] = \u001b[33mCons\u001b[39m(\n",
       "  \u001b[33mBaseCons\u001b[39m(\n",
       "    \u001b[33mBasePi\u001b[39m(provingground.learning.RandomVarFamily$$Lambda$3402/2028744486@2023afe6, FuncsWithDomain),\n",
       "    \u001b[32m0.55\u001b[39m,\n",
       "    \u001b[33mBaseCons\u001b[39m(\n",
       "      \u001b[33mBasePi\u001b[39m(provingground.learning.GeneratorNode$$Lambda$3405/1874243961@57db2535, FuncsWithDomain),\n",
       "      \u001b[32m0.1\u001b[39m,\n",
       "      \u001b[33mBaseCons\u001b[39m(\n",
       "        \u001b[33mBasePi\u001b[39m(\n",
       "          provingground.learning.GeneratorNode$$Lambda$3405/1874243961@4df05f66,\n",
       "          FuncsWithDomain\n",
       "        ),\n",
       "        \u001b[32m0.1\u001b[39m,\n",
       "        \u001b[33mBaseCons\u001b[39m(\n",
       "          \u001b[33mBasePi\u001b[39m(\n",
       "            provingground.learning.GeneratorNode$$Lambda$3405/1874243961@53504b99,\n",
       "            FuncsWithDomain\n",
       "          ),\n",
       "          \u001b[32m0.1\u001b[39m,\n",
       "          \u001b[33mBaseCons\u001b[39m(\n",
       "            \u001b[33mBasePi\u001b[39m(\n",
       "              provingground.learning.TermGeneratorNodes$$Lambda$3394/973556496@42b6a737,\n",
       "              FuncsWithDomain\n",
       "            ),\n",
       "            \u001b[32m0.1\u001b[39m,\n",
       "            \u001b[33mTarget\u001b[39m(FuncsWithDomain)\n",
       "          )\n",
       "        )\n",
       "      )\n",
       "    )\n",
       "  ),\n",
       "  \u001b[33mCons\u001b[39m(\n",
       "    \u001b[33mBaseCons\u001b[39m(\n",
       "      \u001b[33mMap\u001b[39m(\n",
       "        provingground.learning.TermRandomVars$TargetTyps$$$Lambda$3408/1940675451@3a31b346,\n",
       "        Goals,\n",
       "        TargetTyps\n",
       "      ),\n",
       "      \u001b[32m0.5\u001b[39m,\n",
       "      \u001b[33mBaseCons\u001b[39m(\n",
       "        \u001b[33mMap\u001b[39m(\n",
       "          provingground.learning.TermRandomVars$TargetTyps$$$Lambda$3409/1727989813@39f6050e,\n",
       "          Typs,\n",
       "          TargetTyps\n",
       "        ),\n",
       "        \u001b[32m0.5\u001b[39m,\n",
       "        \u001b[33mTarget\u001b[39m(TargetTyps)\n",
       "..."
      ]
     },
     "execution_count": 4,
     "metadata": {},
     "output_type": "execute_result"
    }
   ],
   "source": [
    "val tg = TermGenParams()\n",
    "tg.nodeCoeffSeq"
   ]
  },
  {
   "cell_type": "code",
   "execution_count": 5,
   "metadata": {},
   "outputs": [
    {
     "data": {
      "text/plain": [
       "\u001b[36mmfd\u001b[39m: \u001b[32mMonixFiniteDistributionEq\u001b[39m[\u001b[32mTermState\u001b[39m, \u001b[32mTerm\u001b[39m] = \u001b[33mMonixFiniteDistributionEq\u001b[39m(\n",
       "  \u001b[33mCons\u001b[39m(\n",
       "    \u001b[33mBaseCons\u001b[39m(\n",
       "      \u001b[33mBasePi\u001b[39m(\n",
       "        provingground.learning.RandomVarFamily$$Lambda$3402/2028744486@2023afe6,\n",
       "        FuncsWithDomain\n",
       "      ),\n",
       "      \u001b[32m0.55\u001b[39m,\n",
       "      \u001b[33mBaseCons\u001b[39m(\n",
       "        \u001b[33mBasePi\u001b[39m(\n",
       "          provingground.learning.GeneratorNode$$Lambda$3405/1874243961@57db2535,\n",
       "          FuncsWithDomain\n",
       "        ),\n",
       "        \u001b[32m0.1\u001b[39m,\n",
       "        \u001b[33mBaseCons\u001b[39m(\n",
       "          \u001b[33mBasePi\u001b[39m(\n",
       "            provingground.learning.GeneratorNode$$Lambda$3405/1874243961@4df05f66,\n",
       "            FuncsWithDomain\n",
       "          ),\n",
       "          \u001b[32m0.1\u001b[39m,\n",
       "          \u001b[33mBaseCons\u001b[39m(\n",
       "            \u001b[33mBasePi\u001b[39m(\n",
       "              provingground.learning.GeneratorNode$$Lambda$3405/1874243961@53504b99,\n",
       "              FuncsWithDomain\n",
       "            ),\n",
       "            \u001b[32m0.1\u001b[39m,\n",
       "            \u001b[33mBaseCons\u001b[39m(\n",
       "              \u001b[33mBasePi\u001b[39m(\n",
       "                provingground.learning.TermGeneratorNodes$$Lambda$3394/973556496@42b6a737,\n",
       "                FuncsWithDomain\n",
       "              ),\n",
       "              \u001b[32m0.1\u001b[39m,\n",
       "              \u001b[33mTarget\u001b[39m(FuncsWithDomain)\n",
       "            )\n",
       "          )\n",
       "        )\n",
       "      )\n",
       "    ),\n",
       "    \u001b[33mCons\u001b[39m(\n",
       "      \u001b[33mBaseCons\u001b[39m(\n",
       "        \u001b[33mMap\u001b[39m(\n",
       "          provingground.learning.TermRandomVars$TargetTyps$$$Lambda$3408/1940675451@3a31b346,\n",
       "          Goals,\n",
       "          TargetTyps\n",
       "        ),\n",
       "        \u001b[32m0.5\u001b[39m,\n",
       "        \u001b[33mBaseCons\u001b[39m(\n",
       "          \u001b[33mMap\u001b[39m(\n",
       "            provingground.learning.TermRandomVars$TargetTyps$$$Lambda$3409/1727989813@39f6050e,\n",
       "...\n",
       "\u001b[36mts\u001b[39m: \u001b[32mTermState\u001b[39m = \u001b[33mTermState\u001b[39m(\n",
       "  \u001b[33mFiniteDistribution\u001b[39m(\n",
       "    \u001b[33mVector\u001b[39m(\n",
       "      \u001b[33mWeighted\u001b[39m(\u001b[32me_l\u001b[39m, \u001b[32m0.047619047619047616\u001b[39m),\n",
       "      \u001b[33mWeighted\u001b[39m(\u001b[32me_r\u001b[39m, \u001b[32m0.047619047619047616\u001b[39m),\n",
       "      \u001b[33mWeighted\u001b[39m(\u001b[32mmul\u001b[39m, \u001b[32m0.047619047619047616\u001b[39m),\n",
       "      \u001b[33mWeighted\u001b[39m(\u001b[32meqM\u001b[39m, \u001b[32m0.047619047619047616\u001b[39m),\n",
       "      \u001b[33mWeighted\u001b[39m(\u001b[32maxiom_{eqM(a)(a)}\u001b[39m, \u001b[32m0.047619047619047616\u001b[39m),\n",
       "      \u001b[33mWeighted\u001b[39m(\u001b[32maxiom_{(eqM(a)(b) \\to eqM(b)(a))}\u001b[39m, \u001b[32m0.047619047619047616\u001b[39m),\n",
       "      \u001b[33mWeighted\u001b[39m(\u001b[32maxiom_{(eqM(a)(b) \\to (eqM(b)(c) \\to eqM(a)(c)))}\u001b[39m, \u001b[32m0.047619047619047616\u001b[39m),\n",
       "      \u001b[33mWeighted\u001b[39m(\u001b[32maxiom_{eqM(mul(e_l)(a))(a)}\u001b[39m, \u001b[32m0.047619047619047616\u001b[39m),\n",
       "      \u001b[33mWeighted\u001b[39m(\u001b[32maxiom_{eqM(mul(a)(e_r))(a)}\u001b[39m, \u001b[32m0.047619047619047616\u001b[39m),\n",
       "      \u001b[33mWeighted\u001b[39m(\u001b[32meqM\u001b[39m, \u001b[32m0.2857142857142857\u001b[39m),\n",
       "      \u001b[33mWeighted\u001b[39m(\u001b[32mmul\u001b[39m, \u001b[32m0.2857142857142857\u001b[39m)\n",
       "    )\n",
       "  ),\n",
       "  \u001b[33mFiniteDistribution\u001b[39m(\n",
       "    \u001b[33mVector\u001b[39m(\n",
       "      \u001b[33mWeighted\u001b[39m(\u001b[32mM\u001b[39m, \u001b[32m0.047619047619047616\u001b[39m),\n",
       "      \u001b[33mWeighted\u001b[39m(\u001b[32mM\u001b[39m, \u001b[32m0.047619047619047616\u001b[39m),\n",
       "      \u001b[33mWeighted\u001b[39m(\u001b[32m(M → (M → M))\u001b[39m, \u001b[32m0.047619047619047616\u001b[39m),\n",
       "      \u001b[33mWeighted\u001b[39m(\u001b[32m(M → (M → 𝒰 ))\u001b[39m, \u001b[32m0.047619047619047616\u001b[39m),\n",
       "      \u001b[33mWeighted\u001b[39m(\u001b[32m∏(a : M){ eqM(a)(a) }\u001b[39m, \u001b[32m0.047619047619047616\u001b[39m),\n",
       "      \u001b[33mWeighted\u001b[39m(\u001b[32m∏(a : M){ ∏(b : M){ (eqM(a)(b) → eqM(b)(a)) } }\u001b[39m, \u001b[32m0.047619047619047616\u001b[39m),\n",
       "      \u001b[33mWeighted\u001b[39m(\n",
       "        \u001b[32m∏(a : M){ ∏(b : M){ ∏(c : M){ (eqM(a)(b) → (eqM(b)(c) → eqM(a)(c))) } } }\u001b[39m,\n",
       "        \u001b[32m0.047619047619047616\u001b[39m\n",
       "      ),\n",
       "      \u001b[33mWeighted\u001b[39m(\u001b[32m∏(a : M){ eqM(mul(e_l)(a))(a) }\u001b[39m, \u001b[32m0.047619047619047616\u001b[39m),\n",
       "      \u001b[33mWeighted\u001b[39m(\u001b[32m∏(a : M){ eqM(mul(a)(e_r))(a) }\u001b[39m, \u001b[32m0.047619047619047616\u001b[39m),\n",
       "      \u001b[33mWeighted\u001b[39m(\u001b[32m(M → (M → 𝒰 ))\u001b[39m, \u001b[32m0.2857142857142857\u001b[39m),\n",
       "      \u001b[33mWeighted\u001b[39m(\u001b[32m(M → (M → M))\u001b[39m, \u001b[32m0.2857142857142857\u001b[39m)\n",
       "    )\n",
       "  ),\n",
       "  \u001b[33mVector\u001b[39m(),\n",
       "  \u001b[33mFiniteDistribution\u001b[39m(\u001b[33mVector\u001b[39m()),\n",
       "  \u001b[33mFiniteDistribution\u001b[39m(\u001b[33mVector\u001b[39m()),\n",
       "  Empty\n",
       ")"
      ]
     },
     "execution_count": 5,
     "metadata": {},
     "output_type": "execute_result"
    }
   ],
   "source": [
    "val mfd = MonixFiniteDistributionEq(tg.nodeCoeffSeq)\n",
    "val ts = TermState(dist1, dist1.map(_.typ))"
   ]
  },
  {
   "cell_type": "code",
   "execution_count": 6,
   "metadata": {},
   "outputs": [
    {
     "data": {
      "text/plain": [
       "\u001b[32mimport \u001b[39m\u001b[36mTermRandomVars._\n",
       "\u001b[39m\n",
       "\u001b[36mtsk\u001b[39m: \u001b[32mmonix\u001b[39m.\u001b[32meval\u001b[39m.\u001b[32mTask\u001b[39m[(\u001b[32mFiniteDistribution\u001b[39m[\u001b[32mTerm\u001b[39m], \u001b[32mSet\u001b[39m[\u001b[32mGeneratorVariables\u001b[39m.\u001b[32mEquationTerm\u001b[39m])] = \u001b[33mFlatMap\u001b[39m(\n",
       "  \u001b[33mAsync\u001b[39m(<function2>, true, true, true),\n",
       "  monix.eval.Task$$Lambda$3636/408395626@7a13127d\n",
       ")\n",
       "\u001b[32mimport \u001b[39m\u001b[36mmonix.execution.Scheduler.Implicits.global\u001b[39m"
      ]
     },
     "execution_count": 6,
     "metadata": {},
     "output_type": "execute_result"
    }
   ],
   "source": [
    "import TermRandomVars._\n",
    "val tsk = mfd.varDist(ts)(Terms, 0.001)\n",
    "import monix.execution.Scheduler.Implicits.global"
   ]
  },
  {
   "cell_type": "code",
   "execution_count": 7,
   "metadata": {},
   "outputs": [
    {
     "data": {
      "text/plain": [
       "\u001b[36mrp\u001b[39m: (\u001b[32mFiniteDistribution\u001b[39m[\u001b[32mTerm\u001b[39m], \u001b[32mSet\u001b[39m[\u001b[32mGeneratorVariables\u001b[39m.\u001b[32mEquationTerm\u001b[39m]) = (\n",
       "  \u001b[33mFiniteDistribution\u001b[39m(\n",
       "    \u001b[33mVector\u001b[39m(\n",
       "      \u001b[33mWeighted\u001b[39m(\u001b[32maxiom_{(eqM(a)(b) \\to eqM(b)(a))}\u001b[39m, \u001b[32m0.03157952492251252\u001b[39m),\n",
       "      \u001b[33mWeighted\u001b[39m(\u001b[32mmul(e_r)(e_l)\u001b[39m, \u001b[32m0.005243029344677113\u001b[39m),\n",
       "      \u001b[33mWeighted\u001b[39m(\u001b[32m(@a : M) ↦ mul(@a)\u001b[39m, \u001b[32m0.00921069476906615\u001b[39m),\n",
       "      \u001b[33mWeighted\u001b[39m(\u001b[32meqM(e_r)(e_r)\u001b[39m, \u001b[32m0.005243029344677113\u001b[39m),\n",
       "      \u001b[33mWeighted\u001b[39m(\u001b[32meqM(e_r)(e_l)\u001b[39m, \u001b[32m0.005243029344677113\u001b[39m),\n",
       "      \u001b[33mWeighted\u001b[39m(\u001b[32mmul(e_r)\u001b[39m, \u001b[32m0.024098682493894734\u001b[39m),\n",
       "      \u001b[33mWeighted\u001b[39m(\u001b[32maxiom_{(eqM(a)(b) \\to (eqM(b)(c) \\to eqM(a)(c)))}\u001b[39m, \u001b[32m0.03157952492251252\u001b[39m),\n",
       "      \u001b[33mWeighted\u001b[39m(\u001b[32m(@a : ∏(a : M){ eqM(mul(e_l)(a))(a) }) ↦ @a\u001b[39m, \u001b[32m0.0013642354766525413\u001b[39m),\n",
       "      \u001b[33mWeighted\u001b[39m(\u001b[32m(@a : (M → (M → 𝒰 ))) ↦ @a(e_r)\u001b[39m, \u001b[32m0.0022932112842090043\u001b[39m),\n",
       "      \u001b[33mWeighted\u001b[39m(\u001b[32meqM(e_l)(e_l)\u001b[39m, \u001b[32m0.005243029344677113\u001b[39m),\n",
       "      \u001b[33mWeighted\u001b[39m(\u001b[32m(@a : M) ↦ eqM(@a)\u001b[39m, \u001b[32m0.00921069476906615\u001b[39m),\n",
       "      \u001b[33mWeighted\u001b[39m(\u001b[32m(@a : (M → (M → 𝒰 ))) ↦ @a(e_l)\u001b[39m, \u001b[32m0.0022932112842090043\u001b[39m),\n",
       "      \u001b[33mWeighted\u001b[39m(\u001b[32maxiom_{eqM(mul(a)(e_r))(a)}(e_r)\u001b[39m, \u001b[32m0.0034426689276992476\u001b[39m),\n",
       "      \u001b[33mWeighted\u001b[39m(\u001b[32maxiom_{eqM(mul(e_l)(a))(a)}\u001b[39m, \u001b[32m0.03157952492251252\u001b[39m),\n",
       "      \u001b[33mWeighted\u001b[39m(\u001b[32mmul\u001b[39m, \u001b[32m0.2617446559193975\u001b[39m),\n",
       "      \u001b[33mWeighted\u001b[39m(\u001b[32meqM(e_r)\u001b[39m, \u001b[32m0.024098682493894734\u001b[39m),\n",
       "      \u001b[33mWeighted\u001b[39m(\n",
       "        \u001b[32m(@a : ∏(a : M){ ∏(b : M){ ∏(c : M){ (eqM(a)(b) → (eqM(b)(c) → eqM(a)(c))) } } }) ↦ @a\u001b[39m,\n",
       "        \u001b[32m0.001364235476652541\u001b[39m\n",
       "      ),\n",
       "      \u001b[33mWeighted\u001b[39m(\u001b[32m(_ : (M → (M → 𝒰 ))) ↦ eqM\u001b[39m, \u001b[32m0.006284811298424956\u001b[39m),\n",
       "      \u001b[33mWeighted\u001b[39m(\u001b[32maxiom_{eqM(a)(a)}(e_r)\u001b[39m, \u001b[32m0.0034426689276992476\u001b[39m),\n",
       "      \u001b[33mWeighted\u001b[39m(\u001b[32m(@a : M) ↦ @a\u001b[39m, \u001b[32m0.0027284709533050826\u001b[39m),\n",
       "      \u001b[33mWeighted\u001b[39m(\u001b[32maxiom_{(eqM(a)(b) \\to (eqM(b)(c) \\to eqM(a)(c)))}(e_l)\u001b[39m, \u001b[32m0.0034426689276992476\u001b[39m),\n",
       "      \u001b[33mWeighted\u001b[39m(\u001b[32m(@a : (M → (M → 𝒰 ))) ↦ @a\u001b[39m, \u001b[32m0.008080471669403518\u001b[39m),\n",
       "      \u001b[33mWeighted\u001b[39m(\u001b[32m(@a : ∏(a : M){ eqM(a)(a) }) ↦ @a\u001b[39m, \u001b[32m0.0013642354766525413\u001b[39m),\n",
       "      \u001b[33mWeighted\u001b[39m(\u001b[32maxiom_{eqM(mul(a)(e_r))(a)}\u001b[39m, \u001b[32m0.03157952492251252\u001b[39m),\n",
       "      \u001b[33mWeighted\u001b[39m(\u001b[32me_l\u001b[39m, \u001b[32m0.03157952492251252\u001b[39m),\n",
       "      \u001b[33mWeighted\u001b[39m(\u001b[32maxiom_{eqM(a)(a)}\u001b[39m, \u001b[32m0.03157952492251252\u001b[39m),\n",
       "      \u001b[33mWeighted\u001b[39m(\u001b[32m(@a : (M → (M → M))) ↦ @a(e_l)\u001b[39m, \u001b[32m0.0022932112842090043\u001b[39m),\n",
       "      \u001b[33mWeighted\u001b[39m(\u001b[32meqM(e_l)(e_r)\u001b[39m, \u001b[32m0.005243029344677113\u001b[39m),\n",
       "      \u001b[33mWeighted\u001b[39m(\u001b[32m(@a : ∏(a : M){ eqM(mul(a)(e_r))(a) }) ↦ @a\u001b[39m, \u001b[32m0.0013642354766525413\u001b[39m),\n",
       "      \u001b[33mWeighted\u001b[39m(\u001b[32m(_ : (M → (M → M))) ↦ mul\u001b[39m, \u001b[32m0.006284811298424955\u001b[39m),\n",
       "      \u001b[33mWeighted\u001b[39m(\u001b[32m(_ : (M → (M → 𝒰 ))) ↦ mul\u001b[39m, \u001b[32m0.006284811298424956\u001b[39m),\n",
       "      \u001b[33mWeighted\u001b[39m(\u001b[32mmul(e_l)(e_r)\u001b[39m, \u001b[32m0.005243029344677113\u001b[39m),\n",
       "      \u001b[33mWeighted\u001b[39m(\u001b[32meqM\u001b[39m, \u001b[32m0.2617446559193975\u001b[39m),\n",
       "      \u001b[33mWeighted\u001b[39m(\u001b[32maxiom_{eqM(mul(e_l)(a))(a)}(e_r)\u001b[39m, \u001b[32m0.0034426689276992476\u001b[39m),\n",
       "      \u001b[33mWeighted\u001b[39m(\u001b[32mmul(e_l)(e_l)\u001b[39m, \u001b[32m0.005243029344677113\u001b[39m),\n",
       "      \u001b[33mWeighted\u001b[39m(\u001b[32m(@a : (M → (M → M))) ↦ @a(e_r)\u001b[39m, \u001b[32m0.0022932112842090043\u001b[39m),\n",
       "      \u001b[33mWeighted\u001b[39m(\u001b[32maxiom_{(eqM(a)(b) \\to eqM(b)(a))}(e_l)\u001b[39m, \u001b[32m0.0034426689276992476\u001b[39m),\n",
       "      \u001b[33mWeighted\u001b[39m(\u001b[32m(@a : ∏(a : M){ ∏(b : M){ (eqM(a)(b) → eqM(b)(a)) } }) ↦ @a\u001b[39m, \u001b[32m0.001364235476652541\u001b[39m),\n",
       "      \u001b[33mWeighted\u001b[39m(\u001b[32maxiom_{(eqM(a)(b) \\to (eqM(b)(c) \\to eqM(a)(c)))}(e_r)\u001b[39m, \u001b[32m0.0034426689276992476\u001b[39m),\n",
       "      \u001b[33mWeighted\u001b[39m(\u001b[32me_r\u001b[39m, \u001b[32m0.03157952492251252\u001b[39m),\n",
       "      \u001b[33mWeighted\u001b[39m(\u001b[32maxiom_{eqM(mul(e_l)(a))(a)}(e_l)\u001b[39m, \u001b[32m0.0034426689276992476\u001b[39m),\n",
       "      \u001b[33mWeighted\u001b[39m(\u001b[32maxiom_{eqM(a)(a)}(e_l)\u001b[39m, \u001b[32m0.0034426689276992476\u001b[39m),\n",
       "      \u001b[33mWeighted\u001b[39m(\u001b[32m(_ : M) ↦ eqM\u001b[39m, \u001b[32m0.002122144074792842\u001b[39m),\n",
       "...\n",
       "\u001b[36meqs\u001b[39m: \u001b[32mSet\u001b[39m[\u001b[32mGeneratorVariables\u001b[39m.\u001b[32mEquationTerm\u001b[39m] = \u001b[33mSet\u001b[39m(\n",
       "  \u001b[33mEquationTerm\u001b[39m(\n",
       "    \u001b[33mFinalVal\u001b[39m(\u001b[33mElem\u001b[39m(\u001b[33mWrap\u001b[39m(\u001b[32meqM(e_r)\u001b[39m), Funcs)),\n",
       "    \u001b[33mProduct\u001b[39m(\n",
       "      \u001b[33mCoeff\u001b[39m(\u001b[33mZipMapOpt\u001b[39m(<function2>, Funcs, Terms, Terms), Terms),\n",
       "      \u001b[33mProduct\u001b[39m(\n",
       "        \u001b[33mCoeff\u001b[39m(\n",
       "          \u001b[33mBaseThenCondition\u001b[39m(\u001b[33mZipMapOpt\u001b[39m(<function2>, Funcs, Terms, Terms), Funcs, \u001b[33mRestrict\u001b[39m(FuncOpt)),\n",
       "          Funcs\n",
       "        ),\n",
       "        \u001b[33mQuotient\u001b[39m(\u001b[33mFinalVal\u001b[39m(\u001b[33mElem\u001b[39m(\u001b[32meqM(e_r)\u001b[39m, Terms)), \u001b[33mFinalVal\u001b[39m(\u001b[33mEvent\u001b[39m(Terms, \u001b[33mRestrict\u001b[39m(FuncOpt))))\n",
       "      )\n",
       "    )\n",
       "  ),\n",
       "  \u001b[33mEquationTerm\u001b[39m(\n",
       "    \u001b[33mFinalVal\u001b[39m(\n",
       "      \u001b[33mInIsle\u001b[39m(\n",
       "        \u001b[33mElem\u001b[39m(\u001b[32maxiom_{eqM(a)(a)}(e_l)\u001b[39m, Terms),\n",
       "        \u001b[32m@a\u001b[39m,\n",
       "        \u001b[33mIsland\u001b[39m(Terms, \u001b[33mCRV\u001b[39m(Terms), \u001b[33mAddVar\u001b[39m(\u001b[32m(M → (M → M))\u001b[39m, \u001b[32m0.3\u001b[39m), Lambda, InIsle)\n",
       "      )\n",
       "    ),\n",
       "    \u001b[33mProduct\u001b[39m(\n",
       "      \u001b[33mCoeff\u001b[39m(\n",
       "        \u001b[33mFlatMap\u001b[39m(\n",
       "          Typs,\n",
       "          provingground.learning.TermGeneratorNodes$$Lambda$3391/1078960522@1b8e201d,\n",
       "          Terms\n",
       "        ),\n",
       "        Terms\n",
       "      ),\n",
       "      \u001b[33mProduct\u001b[39m(\n",
       "        \u001b[33mCoeff\u001b[39m(\u001b[33mZipMapOpt\u001b[39m(<function2>, Funcs, Terms, Terms), Terms),\n",
       "        \u001b[33mProduct\u001b[39m(\n",
       "          \u001b[33mFinalVal\u001b[39m(\n",
       "            \u001b[33mInIsle\u001b[39m(\n",
       "              \u001b[33mElem\u001b[39m(\u001b[33mWrap\u001b[39m(\u001b[32maxiom_{eqM(a)(a)}\u001b[39m), Funcs),\n",
       "              \u001b[32m@a\u001b[39m,\n",
       "              \u001b[33mIsland\u001b[39m(Terms, \u001b[33mCRV\u001b[39m(Terms), \u001b[33mAddVar\u001b[39m(\u001b[32m(M → (M → M))\u001b[39m, \u001b[32m0.3\u001b[39m), Lambda, InIsle)\n",
       "            )\n",
       "          ),\n",
       "          \u001b[33mFinalVal\u001b[39m(\n",
       "            \u001b[33mInIsle\u001b[39m(\n",
       "              \u001b[33mElem\u001b[39m(\u001b[33mWrap\u001b[39m(\u001b[32maxiom_{eqM(a)(a)}\u001b[39m), Terms),\n",
       "              \u001b[32m@a\u001b[39m,\n",
       "              \u001b[33mIsland\u001b[39m(Terms, \u001b[33mCRV\u001b[39m(Terms), \u001b[33mAddVar\u001b[39m(\u001b[32m(M → (M → M))\u001b[39m, \u001b[32m0.3\u001b[39m), Lambda, InIsle)\n",
       "            )\n",
       "          )\n",
       "        )\n",
       "..."
      ]
     },
     "execution_count": 7,
     "metadata": {},
     "output_type": "execute_result"
    }
   ],
   "source": [
    "val rp = tsk.runSyncUnsafe()\n",
    "val eqs = rp._2"
   ]
  },
  {
   "cell_type": "code",
   "execution_count": 8,
   "metadata": {},
   "outputs": [
    {
     "data": {
      "text/plain": [
       "\u001b[36mres7\u001b[39m: \u001b[32mSet\u001b[39m[\u001b[32mGeneratorVariables\u001b[39m.\u001b[32mEquationTerm\u001b[39m] = \u001b[33mSet\u001b[39m(\n",
       "  \u001b[33mEquationTerm\u001b[39m(\n",
       "    \u001b[33mFinalVal\u001b[39m(\u001b[33mElem\u001b[39m(\u001b[33mWrap\u001b[39m(\u001b[32meqM(e_r)\u001b[39m), Funcs)),\n",
       "    \u001b[33mProduct\u001b[39m(\n",
       "      \u001b[33mCoeff\u001b[39m(\u001b[33mZipMapOpt\u001b[39m(<function2>, Funcs, Terms, Terms), Terms),\n",
       "      \u001b[33mProduct\u001b[39m(\n",
       "        \u001b[33mCoeff\u001b[39m(\n",
       "          \u001b[33mBaseThenCondition\u001b[39m(\u001b[33mZipMapOpt\u001b[39m(<function2>, Funcs, Terms, Terms), Funcs, \u001b[33mRestrict\u001b[39m(FuncOpt)),\n",
       "          Funcs\n",
       "        ),\n",
       "        \u001b[33mQuotient\u001b[39m(\u001b[33mFinalVal\u001b[39m(\u001b[33mElem\u001b[39m(\u001b[32meqM(e_r)\u001b[39m, Terms)), \u001b[33mFinalVal\u001b[39m(\u001b[33mEvent\u001b[39m(Terms, \u001b[33mRestrict\u001b[39m(FuncOpt))))\n",
       "      )\n",
       "    )\n",
       "  ),\n",
       "  \u001b[33mEquationTerm\u001b[39m(\n",
       "    \u001b[33mFinalVal\u001b[39m(\n",
       "      \u001b[33mInIsle\u001b[39m(\n",
       "        \u001b[33mElem\u001b[39m(\u001b[32maxiom_{eqM(a)(a)}(e_l)\u001b[39m, Terms),\n",
       "        \u001b[32m@a\u001b[39m,\n",
       "        \u001b[33mIsland\u001b[39m(Terms, \u001b[33mCRV\u001b[39m(Terms), \u001b[33mAddVar\u001b[39m(\u001b[32m(M → (M → M))\u001b[39m, \u001b[32m0.3\u001b[39m), Lambda, InIsle)\n",
       "      )\n",
       "    ),\n",
       "    \u001b[33mProduct\u001b[39m(\n",
       "      \u001b[33mCoeff\u001b[39m(\n",
       "        \u001b[33mFlatMap\u001b[39m(\n",
       "          Typs,\n",
       "          provingground.learning.TermGeneratorNodes$$Lambda$3391/1078960522@1b8e201d,\n",
       "          Terms\n",
       "        ),\n",
       "        Terms\n",
       "      ),\n",
       "      \u001b[33mProduct\u001b[39m(\n",
       "        \u001b[33mCoeff\u001b[39m(\u001b[33mZipMapOpt\u001b[39m(<function2>, Funcs, Terms, Terms), Terms),\n",
       "        \u001b[33mProduct\u001b[39m(\n",
       "          \u001b[33mFinalVal\u001b[39m(\n",
       "            \u001b[33mInIsle\u001b[39m(\n",
       "              \u001b[33mElem\u001b[39m(\u001b[33mWrap\u001b[39m(\u001b[32maxiom_{eqM(a)(a)}\u001b[39m), Funcs),\n",
       "              \u001b[32m@a\u001b[39m,\n",
       "              \u001b[33mIsland\u001b[39m(Terms, \u001b[33mCRV\u001b[39m(Terms), \u001b[33mAddVar\u001b[39m(\u001b[32m(M → (M → M))\u001b[39m, \u001b[32m0.3\u001b[39m), Lambda, InIsle)\n",
       "            )\n",
       "          ),\n",
       "          \u001b[33mFinalVal\u001b[39m(\n",
       "            \u001b[33mInIsle\u001b[39m(\n",
       "              \u001b[33mElem\u001b[39m(\u001b[33mWrap\u001b[39m(\u001b[32maxiom_{eqM(a)(a)}\u001b[39m), Terms),\n",
       "              \u001b[32m@a\u001b[39m,\n",
       "              \u001b[33mIsland\u001b[39m(Terms, \u001b[33mCRV\u001b[39m(Terms), \u001b[33mAddVar\u001b[39m(\u001b[32m(M → (M → M))\u001b[39m, \u001b[32m0.3\u001b[39m), Lambda, InIsle)\n",
       "            )\n",
       "          )\n",
       "        )\n",
       "..."
      ]
     },
     "execution_count": 8,
     "metadata": {},
     "output_type": "execute_result"
    }
   ],
   "source": [
    "eqs"
   ]
  },
  {
   "cell_type": "code",
   "execution_count": 9,
   "metadata": {},
   "outputs": [
    {
     "data": {
      "text/plain": [
       "\u001b[36mlefts\u001b[39m: \u001b[32mSet\u001b[39m[\u001b[32mGeneratorVariables\u001b[39m.\u001b[32mExpression\u001b[39m] = \u001b[33mSet\u001b[39m(\n",
       "  \u001b[33mInitialVal\u001b[39m(\n",
       "    \u001b[33mInIsle\u001b[39m(\n",
       "      \u001b[33mElem\u001b[39m(\u001b[33mWrap\u001b[39m(\u001b[32meqM\u001b[39m), Funcs),\n",
       "      \u001b[32m@a\u001b[39m,\n",
       "      \u001b[33mIsland\u001b[39m(\n",
       "        \u001b[33mAtCoord\u001b[39m(TermsWithTyp, \u001b[32m(M → (M → 𝒰 ))\u001b[39m :: HNil),\n",
       "        \u001b[33mCRV\u001b[39m(\u001b[33mAtCoord\u001b[39m(TermsWithTyp, \u001b[32m(M → 𝒰 )\u001b[39m :: HNil)),\n",
       "        \u001b[33mAddVar\u001b[39m(\u001b[32mM\u001b[39m, \u001b[32m0.3\u001b[39m),\n",
       "        Lambda,\n",
       "        InIsle\n",
       "      )\n",
       "    )\n",
       "  ),\n",
       "  \u001b[33mFinalVal\u001b[39m(\u001b[33mElem\u001b[39m(\u001b[32m(@a : ∏(a : M){ eqM(mul(a)(e_r))(a) }) ↦ @a\u001b[39m, Terms)),\n",
       "  \u001b[33mFinalVal\u001b[39m(\n",
       "    \u001b[33mInIsle\u001b[39m(\n",
       "      \u001b[33mElem\u001b[39m(\u001b[32maxiom_{(eqM(a)(b) \\to (eqM(b)(c) \\to eqM(a)(c)))}(e_l)\u001b[39m, Terms),\n",
       "      \u001b[32m@a\u001b[39m,\n",
       "      \u001b[33mIsland\u001b[39m(\n",
       "        \u001b[33mAtCoord\u001b[39m(TermsWithTyp, \u001b[32m(M → (M → 𝒰 ))\u001b[39m :: HNil),\n",
       "        \u001b[33mCRV\u001b[39m(\u001b[33mAtCoord\u001b[39m(TermsWithTyp, \u001b[32m(M → 𝒰 )\u001b[39m :: HNil)),\n",
       "        \u001b[33mAddVar\u001b[39m(\u001b[32mM\u001b[39m, \u001b[32m0.3\u001b[39m),\n",
       "        Lambda,\n",
       "        InIsle\n",
       "      )\n",
       "    )\n",
       "  ),\n",
       "  \u001b[33mInitialVal\u001b[39m(\n",
       "    \u001b[33mInIsle\u001b[39m(\n",
       "      \u001b[33mElem\u001b[39m(\u001b[33mWrap\u001b[39m(\u001b[32maxiom_{(eqM(a)(b) \\to (eqM(b)(c) \\to eqM(a)(c)))}\u001b[39m), Funcs),\n",
       "      \u001b[32m@a\u001b[39m,\n",
       "      \u001b[33mIsland\u001b[39m(Terms, \u001b[33mCRV\u001b[39m(Terms), \u001b[33mAddVar\u001b[39m(\u001b[32m(M → (M → M))\u001b[39m, \u001b[32m0.3\u001b[39m), Lambda, InIsle)\n",
       "    )\n",
       "  ),\n",
       "  \u001b[33mInitialVal\u001b[39m(\n",
       "    \u001b[33mInIsle\u001b[39m(\n",
       "      \u001b[33mElem\u001b[39m(\u001b[32maxiom_{eqM(mul(a)(e_r))(a)}\u001b[39m, Terms),\n",
       "      \u001b[32m@a\u001b[39m,\n",
       "      \u001b[33mIsland\u001b[39m(\n",
       "        Terms,\n",
       "        \u001b[33mCRV\u001b[39m(Terms),\n",
       "        \u001b[33mAddVar\u001b[39m(\u001b[32m∏(a : M){ ∏(b : M){ (eqM(a)(b) → eqM(b)(a)) } }\u001b[39m, \u001b[32m0.3\u001b[39m),\n",
       "        Lambda,\n",
       "        InIsle\n",
       "      )\n",
       "    )\n",
       "  ),\n",
       "  \u001b[33mFinalVal\u001b[39m(\n",
       "...\n",
       "\u001b[36mres8_1\u001b[39m: \u001b[32mInt\u001b[39m = \u001b[32m455\u001b[39m"
      ]
     },
     "execution_count": 9,
     "metadata": {},
     "output_type": "execute_result"
    }
   ],
   "source": [
    "val lefts = eqs.map(_.lhs)\n",
    "lefts.size"
   ]
  },
  {
   "cell_type": "code",
   "execution_count": 10,
   "metadata": {},
   "outputs": [
    {
     "data": {
      "text/plain": [
       "\u001b[32mimport \u001b[39m\u001b[36mGeneratorVariables._\n",
       "\u001b[39m\n",
       "\u001b[36meqgs\u001b[39m: \u001b[32mSet\u001b[39m[\u001b[32mEquation\u001b[39m] = \u001b[33mSet\u001b[39m(\n",
       "  \u001b[33mEquation\u001b[39m(\n",
       "    \u001b[33mInitialVal\u001b[39m(\n",
       "      \u001b[33mInIsle\u001b[39m(\n",
       "        \u001b[33mElem\u001b[39m(\u001b[32mmul\u001b[39m, Terms),\n",
       "        \u001b[32m@a\u001b[39m,\n",
       "        \u001b[33mIsland\u001b[39m(\n",
       "          Terms,\n",
       "          \u001b[33mCRV\u001b[39m(Terms),\n",
       "          \u001b[33mAddVar\u001b[39m(\u001b[32m∏(a : M){ ∏(b : M){ (eqM(a)(b) → eqM(b)(a)) } }\u001b[39m, \u001b[32m0.3\u001b[39m),\n",
       "          Lambda,\n",
       "          InIsle\n",
       "        )\n",
       "      )\n",
       "    ),\n",
       "    \u001b[33mProduct\u001b[39m(\n",
       "      \u001b[33mCoeff\u001b[39m(\n",
       "        \u001b[33mFlatMap\u001b[39m(\n",
       "          Typs,\n",
       "          provingground.learning.TermGeneratorNodes$$Lambda$3391/1078960522@1b8e201d,\n",
       "          Terms\n",
       "        ),\n",
       "        Terms\n",
       "      ),\n",
       "      \u001b[33mProduct\u001b[39m(\n",
       "        \u001b[33mCoeff\u001b[39m(\u001b[33mInit\u001b[39m(Terms), Terms),\n",
       "        \u001b[33mFinalVal\u001b[39m(\n",
       "          \u001b[33mInIsle\u001b[39m(\n",
       "            \u001b[33mElem\u001b[39m(\u001b[32mmul\u001b[39m, Terms),\n",
       "            \u001b[32m@a\u001b[39m,\n",
       "            \u001b[33mIsland\u001b[39m(\n",
       "              Terms,\n",
       "              \u001b[33mCRV\u001b[39m(Terms),\n",
       "              \u001b[33mAddVar\u001b[39m(\u001b[32m∏(a : M){ ∏(b : M){ (eqM(a)(b) → eqM(b)(a)) } }\u001b[39m, \u001b[32m0.3\u001b[39m),\n",
       "              Lambda,\n",
       "              InIsle\n",
       "            )\n",
       "          )\n",
       "        )\n",
       "      )\n",
       "    )\n",
       "  ),\n",
       "  \u001b[33mEquation\u001b[39m(\n",
       "    \u001b[33mInitialVal\u001b[39m(\n",
       "      \u001b[33mInIsle\u001b[39m(\n",
       "        \u001b[33mElem\u001b[39m(\u001b[32meqM\u001b[39m, Terms),\n",
       "        \u001b[32m@a\u001b[39m,\n",
       "        \u001b[33mIsland\u001b[39m(Terms, \u001b[33mCRV\u001b[39m(Terms), \u001b[33mAddVar\u001b[39m(\u001b[32m∏(a : M){ eqM(mul(a)(e_r))(a) }\u001b[39m, \u001b[32m0.3\u001b[39m), Lambda, InIsle)\n",
       "      )\n",
       "..."
      ]
     },
     "execution_count": 10,
     "metadata": {},
     "output_type": "execute_result"
    }
   ],
   "source": [
    "import GeneratorVariables._\n",
    "val eqgs = groupEquations(eqs)"
   ]
  },
  {
   "cell_type": "code",
   "execution_count": 11,
   "metadata": {},
   "outputs": [
    {
     "data": {
      "text/plain": [
       "\u001b[36mres10_0\u001b[39m: \u001b[32mInt\u001b[39m = \u001b[32m455\u001b[39m\n",
       "\u001b[36mres10_1\u001b[39m: \u001b[32mInt\u001b[39m = \u001b[32m1241\u001b[39m"
      ]
     },
     "execution_count": 11,
     "metadata": {},
     "output_type": "execute_result"
    }
   ],
   "source": [
    "eqgs.size\n",
    "eqs.size"
   ]
  },
  {
   "cell_type": "code",
   "execution_count": 12,
   "metadata": {},
   "outputs": [
    {
     "data": {
      "text/plain": [
       "\u001b[36mres11\u001b[39m: \u001b[32mEquation\u001b[39m = \u001b[33mEquation\u001b[39m(\n",
       "  \u001b[33mInitialVal\u001b[39m(\n",
       "    \u001b[33mInIsle\u001b[39m(\n",
       "      \u001b[33mElem\u001b[39m(\u001b[32mmul\u001b[39m, Terms),\n",
       "      \u001b[32m@a\u001b[39m,\n",
       "      \u001b[33mIsland\u001b[39m(\n",
       "        Terms,\n",
       "        \u001b[33mCRV\u001b[39m(Terms),\n",
       "        \u001b[33mAddVar\u001b[39m(\u001b[32m∏(a : M){ ∏(b : M){ (eqM(a)(b) → eqM(b)(a)) } }\u001b[39m, \u001b[32m0.3\u001b[39m),\n",
       "        Lambda,\n",
       "        InIsle\n",
       "      )\n",
       "    )\n",
       "  ),\n",
       "  \u001b[33mProduct\u001b[39m(\n",
       "    \u001b[33mCoeff\u001b[39m(\n",
       "      \u001b[33mFlatMap\u001b[39m(\n",
       "        Typs,\n",
       "        provingground.learning.TermGeneratorNodes$$Lambda$3391/1078960522@1b8e201d,\n",
       "        Terms\n",
       "      ),\n",
       "      Terms\n",
       "    ),\n",
       "    \u001b[33mProduct\u001b[39m(\n",
       "      \u001b[33mCoeff\u001b[39m(\u001b[33mInit\u001b[39m(Terms), Terms),\n",
       "      \u001b[33mFinalVal\u001b[39m(\n",
       "        \u001b[33mInIsle\u001b[39m(\n",
       "          \u001b[33mElem\u001b[39m(\u001b[32mmul\u001b[39m, Terms),\n",
       "          \u001b[32m@a\u001b[39m,\n",
       "          \u001b[33mIsland\u001b[39m(\n",
       "            Terms,\n",
       "            \u001b[33mCRV\u001b[39m(Terms),\n",
       "            \u001b[33mAddVar\u001b[39m(\u001b[32m∏(a : M){ ∏(b : M){ (eqM(a)(b) → eqM(b)(a)) } }\u001b[39m, \u001b[32m0.3\u001b[39m),\n",
       "            Lambda,\n",
       "            InIsle\n",
       "          )\n",
       "        )\n",
       "      )\n",
       "    )\n",
       "  )\n",
       ")"
      ]
     },
     "execution_count": 12,
     "metadata": {},
     "output_type": "execute_result"
    }
   ],
   "source": [
    "eqgs.head"
   ]
  },
  {
   "cell_type": "code",
   "execution_count": 13,
   "metadata": {},
   "outputs": [
    {
     "data": {
      "text/plain": [
       "\u001b[36mres12\u001b[39m: \u001b[32mSet\u001b[39m[\u001b[32mExpression\u001b[39m] = \u001b[33mSet\u001b[39m(\n",
       "  \u001b[33mProduct\u001b[39m(\n",
       "    \u001b[33mCoeff\u001b[39m(\n",
       "      \u001b[33mZipFlatMap\u001b[39m(\n",
       "        TargetTyps,\n",
       "        provingground.learning.TermGeneratorNodes$$Lambda$3400/668613781@1d774b7,\n",
       "        provingground.learning.TermGeneratorNodes$$Lambda$3401/1186122685@1f8d407d,\n",
       "        Terms\n",
       "      ),\n",
       "      Terms\n",
       "    ),\n",
       "    \u001b[33mProduct\u001b[39m(\n",
       "      \u001b[33mCoeff\u001b[39m(\u001b[33mInit\u001b[39m(Terms), Terms),\n",
       "      \u001b[33mFinalVal\u001b[39m(\n",
       "        \u001b[33mInIsle\u001b[39m(\n",
       "          \u001b[33mElem\u001b[39m(\u001b[32maxiom_{(eqM(a)(b) \\to eqM(b)(a))}\u001b[39m, Terms),\n",
       "          \u001b[32m@a\u001b[39m,\n",
       "          \u001b[33mIsland\u001b[39m(\n",
       "            \u001b[33mAtCoord\u001b[39m(TermsWithTyp, \u001b[32m(M → (M → 𝒰 ))\u001b[39m :: HNil),\n",
       "            \u001b[33mCRV\u001b[39m(\u001b[33mAtCoord\u001b[39m(TermsWithTyp, \u001b[32m(M → 𝒰 )\u001b[39m :: HNil)),\n",
       "            \u001b[33mAddVar\u001b[39m(\u001b[32mM\u001b[39m, \u001b[32m0.3\u001b[39m),\n",
       "            Lambda,\n",
       "            InIsle\n",
       "          )\n",
       "        )\n",
       "      )\n",
       "    )\n",
       "  ),\n",
       "  \u001b[33mProduct\u001b[39m(\n",
       "    \u001b[33mCoeff\u001b[39m(\n",
       "      \u001b[33mZipFlatMap\u001b[39m(\n",
       "        TargetTyps,\n",
       "        provingground.learning.TermGeneratorNodes$$Lambda$3400/668613781@1d774b7,\n",
       "        provingground.learning.TermGeneratorNodes$$Lambda$3401/1186122685@1f8d407d,\n",
       "        Terms\n",
       "      ),\n",
       "      Terms\n",
       "    ),\n",
       "    \u001b[33mProduct\u001b[39m(\n",
       "      \u001b[33mCoeff\u001b[39m(\u001b[33mInit\u001b[39m(Funcs), Funcs),\n",
       "      \u001b[33mFinalVal\u001b[39m(\n",
       "        \u001b[33mInIsle\u001b[39m(\n",
       "          \u001b[33mElem\u001b[39m(\u001b[33mWrap\u001b[39m(\u001b[32maxiom_{(eqM(a)(b) \\to (eqM(b)(c) \\to eqM(a)(c)))}\u001b[39m), Funcs),\n",
       "          \u001b[32m@a\u001b[39m,\n",
       "          \u001b[33mIsland\u001b[39m(\n",
       "            \u001b[33mAtCoord\u001b[39m(TermsWithTyp, \u001b[32m(M → (M → 𝒰 ))\u001b[39m :: HNil),\n",
       "            \u001b[33mCRV\u001b[39m(\u001b[33mAtCoord\u001b[39m(TermsWithTyp, \u001b[32m(M → 𝒰 )\u001b[39m :: HNil)),\n",
       "            \u001b[33mAddVar\u001b[39m(\u001b[32mM\u001b[39m, \u001b[32m0.3\u001b[39m),\n",
       "            Lambda,\n",
       "..."
      ]
     },
     "execution_count": 13,
     "metadata": {},
     "output_type": "execute_result"
    }
   ],
   "source": [
    "eqgs.map(_.rhs)"
   ]
  },
  {
   "cell_type": "code",
   "execution_count": 14,
   "metadata": {},
   "outputs": [
    {
     "data": {
      "text/plain": [
       "\u001b[36mrights\u001b[39m: \u001b[32mSet\u001b[39m[\u001b[32mVarVal\u001b[39m[\u001b[32m_\u001b[39m]] = \u001b[33mSet\u001b[39m(\n",
       "  \u001b[33mFinalVal\u001b[39m(\n",
       "    \u001b[33mInIsle\u001b[39m(\n",
       "      \u001b[33mElem\u001b[39m(\u001b[33mWrap\u001b[39m(\u001b[32meqM\u001b[39m), Funcs),\n",
       "      \u001b[32m@a\u001b[39m,\n",
       "      \u001b[33mIsland\u001b[39m(\n",
       "        \u001b[33mAtCoord\u001b[39m(TermsWithTyp, \u001b[32m(M → (M → 𝒰 ))\u001b[39m :: HNil),\n",
       "        \u001b[33mCRV\u001b[39m(\u001b[33mAtCoord\u001b[39m(TermsWithTyp, \u001b[32m(M → 𝒰 )\u001b[39m :: HNil)),\n",
       "        \u001b[33mAddVar\u001b[39m(\u001b[32mM\u001b[39m, \u001b[32m0.3\u001b[39m),\n",
       "        Lambda,\n",
       "        InIsle\n",
       "      )\n",
       "    )\n",
       "  ),\n",
       "  \u001b[33mFinalVal\u001b[39m(\u001b[33mElem\u001b[39m(\u001b[32m(@a : ∏(a : M){ eqM(mul(a)(e_r))(a) }) ↦ @a\u001b[39m, Terms)),\n",
       "  \u001b[33mFinalVal\u001b[39m(\n",
       "    \u001b[33mInIsle\u001b[39m(\n",
       "      \u001b[33mElem\u001b[39m(\u001b[33mWrap\u001b[39m(\u001b[32maxiom_{(eqM(a)(b) \\to (eqM(b)(c) \\to eqM(a)(c)))}\u001b[39m), Funcs),\n",
       "      \u001b[32m@a\u001b[39m,\n",
       "      \u001b[33mIsland\u001b[39m(Terms, \u001b[33mCRV\u001b[39m(Terms), \u001b[33mAddVar\u001b[39m(\u001b[32m(M → (M → M))\u001b[39m, \u001b[32m0.3\u001b[39m), Lambda, InIsle)\n",
       "    )\n",
       "  ),\n",
       "  \u001b[33mFinalVal\u001b[39m(\n",
       "    \u001b[33mInIsle\u001b[39m(\n",
       "      \u001b[33mElem\u001b[39m(\u001b[32maxiom_{eqM(mul(a)(e_r))(a)}\u001b[39m, Terms),\n",
       "      \u001b[32m@a\u001b[39m,\n",
       "      \u001b[33mIsland\u001b[39m(\n",
       "        Terms,\n",
       "        \u001b[33mCRV\u001b[39m(Terms),\n",
       "        \u001b[33mAddVar\u001b[39m(\u001b[32m∏(a : M){ ∏(b : M){ (eqM(a)(b) → eqM(b)(a)) } }\u001b[39m, \u001b[32m0.3\u001b[39m),\n",
       "        Lambda,\n",
       "        InIsle\n",
       "      )\n",
       "    )\n",
       "  ),\n",
       "  \u001b[33mFinalVal\u001b[39m(\n",
       "    \u001b[33mInIsle\u001b[39m(\n",
       "      \u001b[33mElem\u001b[39m(\u001b[32me_l\u001b[39m, Terms),\n",
       "      \u001b[32m@a\u001b[39m,\n",
       "      \u001b[33mIsland\u001b[39m(\n",
       "        \u001b[33mAtCoord\u001b[39m(FuncsWithDomain, \u001b[32m(M → (M → 𝒰 ))\u001b[39m :: HNil),\n",
       "        \u001b[33mCRV\u001b[39m(Terms),\n",
       "        \u001b[33mAddVar\u001b[39m(\u001b[32m(M → (M → 𝒰 ))\u001b[39m, \u001b[32m0.3\u001b[39m),\n",
       "        Lambda,\n",
       "        InIsle\n",
       "      )\n",
       "    )\n",
       "  ),\n",
       "  \u001b[33mFinalVal\u001b[39m(\n",
       "..."
      ]
     },
     "execution_count": 14,
     "metadata": {},
     "output_type": "execute_result"
    }
   ],
   "source": [
    "val rights = eqgs.map(_.rhs).flatMap(GeneratorVariables.Expression.varVals)"
   ]
  },
  {
   "cell_type": "code",
   "execution_count": 15,
   "metadata": {},
   "outputs": [
    {
     "data": {
      "text/plain": [
       "\u001b[36mextras\u001b[39m: \u001b[32mSet\u001b[39m[\u001b[32mVarVal\u001b[39m[\u001b[32m_\u001b[39m]] = \u001b[33mSet\u001b[39m(\n",
       "  \u001b[33mFinalVal\u001b[39m(\n",
       "    \u001b[33mInIsle\u001b[39m(\n",
       "      \u001b[33mElem\u001b[39m(\u001b[33mWrap\u001b[39m(\u001b[32meqM\u001b[39m), Funcs),\n",
       "      \u001b[32m@a\u001b[39m,\n",
       "      \u001b[33mIsland\u001b[39m(\n",
       "        \u001b[33mAtCoord\u001b[39m(TermsWithTyp, \u001b[32m(M → (M → 𝒰 ))\u001b[39m :: HNil),\n",
       "        \u001b[33mCRV\u001b[39m(\u001b[33mAtCoord\u001b[39m(TermsWithTyp, \u001b[32m(M → 𝒰 )\u001b[39m :: HNil)),\n",
       "        \u001b[33mAddVar\u001b[39m(\u001b[32mM\u001b[39m, \u001b[32m0.3\u001b[39m),\n",
       "        Lambda,\n",
       "        InIsle\n",
       "      )\n",
       "    )\n",
       "  ),\n",
       "  \u001b[33mFinalVal\u001b[39m(\n",
       "    \u001b[33mInIsle\u001b[39m(\n",
       "      \u001b[33mElem\u001b[39m(\u001b[33mWrap\u001b[39m(\u001b[32maxiom_{(eqM(a)(b) \\to (eqM(b)(c) \\to eqM(a)(c)))}\u001b[39m), Funcs),\n",
       "      \u001b[32m@a\u001b[39m,\n",
       "      \u001b[33mIsland\u001b[39m(Terms, \u001b[33mCRV\u001b[39m(Terms), \u001b[33mAddVar\u001b[39m(\u001b[32m(M → (M → M))\u001b[39m, \u001b[32m0.3\u001b[39m), Lambda, InIsle)\n",
       "    )\n",
       "  ),\n",
       "  \u001b[33mFinalVal\u001b[39m(\n",
       "    \u001b[33mInIsle\u001b[39m(\n",
       "      \u001b[33mElem\u001b[39m(\u001b[32maxiom_{eqM(mul(a)(e_r))(a)}\u001b[39m, Terms),\n",
       "      \u001b[32m@a\u001b[39m,\n",
       "      \u001b[33mIsland\u001b[39m(\n",
       "        Terms,\n",
       "        \u001b[33mCRV\u001b[39m(Terms),\n",
       "        \u001b[33mAddVar\u001b[39m(\u001b[32m∏(a : M){ ∏(b : M){ (eqM(a)(b) → eqM(b)(a)) } }\u001b[39m, \u001b[32m0.3\u001b[39m),\n",
       "        Lambda,\n",
       "        InIsle\n",
       "      )\n",
       "    )\n",
       "  ),\n",
       "  \u001b[33mFinalVal\u001b[39m(\n",
       "    \u001b[33mInIsle\u001b[39m(\n",
       "      \u001b[33mElem\u001b[39m(\u001b[32me_l\u001b[39m, Terms),\n",
       "      \u001b[32m@a\u001b[39m,\n",
       "      \u001b[33mIsland\u001b[39m(\n",
       "        \u001b[33mAtCoord\u001b[39m(FuncsWithDomain, \u001b[32m(M → (M → 𝒰 ))\u001b[39m :: HNil),\n",
       "        \u001b[33mCRV\u001b[39m(Terms),\n",
       "        \u001b[33mAddVar\u001b[39m(\u001b[32m(M → (M → 𝒰 ))\u001b[39m, \u001b[32m0.3\u001b[39m),\n",
       "        Lambda,\n",
       "        InIsle\n",
       "      )\n",
       "    )\n",
       "  ),\n",
       "  \u001b[33mFinalVal\u001b[39m(\u001b[33mElem\u001b[39m(\u001b[33mWrap\u001b[39m(\u001b[32mmul\u001b[39m), Terms)),\n",
       "  \u001b[33mFinalVal\u001b[39m(\n",
       "..."
      ]
     },
     "execution_count": 15,
     "metadata": {},
     "output_type": "execute_result"
    }
   ],
   "source": [
    "val extras = rights -- lefts.flatMap(GeneratorVariables.Expression.varVals)"
   ]
  },
  {
   "cell_type": "code",
   "execution_count": 16,
   "metadata": {},
   "outputs": [
    {
     "data": {
      "text/plain": [
       "\u001b[36mres15\u001b[39m: \u001b[32mInt\u001b[39m = \u001b[32m288\u001b[39m"
      ]
     },
     "execution_count": 16,
     "metadata": {},
     "output_type": "execute_result"
    }
   ],
   "source": [
    "extras.size"
   ]
  },
  {
   "cell_type": "code",
   "execution_count": 17,
   "metadata": {},
   "outputs": [
    {
     "data": {
      "text/plain": [
       "\u001b[36mres16_0\u001b[39m: \u001b[32mInt\u001b[39m = \u001b[32m455\u001b[39m\n",
       "\u001b[36mres16_1\u001b[39m: \u001b[32mInt\u001b[39m = \u001b[32m365\u001b[39m"
      ]
     },
     "execution_count": 17,
     "metadata": {},
     "output_type": "execute_result"
    }
   ],
   "source": [
    "lefts.size\n",
    "rights.size"
   ]
  },
  {
   "cell_type": "code",
   "execution_count": 18,
   "metadata": {},
   "outputs": [
    {
     "data": {
      "text/plain": [
       "\u001b[36mres17\u001b[39m: \u001b[32mSet\u001b[39m[\u001b[32mExpression\u001b[39m] = \u001b[33mSet\u001b[39m(\n",
       "  \u001b[33mInitialVal\u001b[39m(\n",
       "    \u001b[33mInIsle\u001b[39m(\n",
       "      \u001b[33mElem\u001b[39m(\u001b[33mWrap\u001b[39m(\u001b[32meqM\u001b[39m), Funcs),\n",
       "      \u001b[32m@a\u001b[39m,\n",
       "      \u001b[33mIsland\u001b[39m(\n",
       "        \u001b[33mAtCoord\u001b[39m(TermsWithTyp, \u001b[32m(M → (M → 𝒰 ))\u001b[39m :: HNil),\n",
       "        \u001b[33mCRV\u001b[39m(\u001b[33mAtCoord\u001b[39m(TermsWithTyp, \u001b[32m(M → 𝒰 )\u001b[39m :: HNil)),\n",
       "        \u001b[33mAddVar\u001b[39m(\u001b[32mM\u001b[39m, \u001b[32m0.3\u001b[39m),\n",
       "        Lambda,\n",
       "        InIsle\n",
       "      )\n",
       "    )\n",
       "  ),\n",
       "  \u001b[33mFinalVal\u001b[39m(\u001b[33mElem\u001b[39m(\u001b[32m(@a : ∏(a : M){ eqM(mul(a)(e_r))(a) }) ↦ @a\u001b[39m, Terms)),\n",
       "  \u001b[33mFinalVal\u001b[39m(\n",
       "    \u001b[33mInIsle\u001b[39m(\n",
       "      \u001b[33mElem\u001b[39m(\u001b[32maxiom_{(eqM(a)(b) \\to (eqM(b)(c) \\to eqM(a)(c)))}(e_l)\u001b[39m, Terms),\n",
       "      \u001b[32m@a\u001b[39m,\n",
       "      \u001b[33mIsland\u001b[39m(\n",
       "        \u001b[33mAtCoord\u001b[39m(TermsWithTyp, \u001b[32m(M → (M → 𝒰 ))\u001b[39m :: HNil),\n",
       "        \u001b[33mCRV\u001b[39m(\u001b[33mAtCoord\u001b[39m(TermsWithTyp, \u001b[32m(M → 𝒰 )\u001b[39m :: HNil)),\n",
       "        \u001b[33mAddVar\u001b[39m(\u001b[32mM\u001b[39m, \u001b[32m0.3\u001b[39m),\n",
       "        Lambda,\n",
       "        InIsle\n",
       "      )\n",
       "    )\n",
       "  ),\n",
       "  \u001b[33mInitialVal\u001b[39m(\n",
       "    \u001b[33mInIsle\u001b[39m(\n",
       "      \u001b[33mElem\u001b[39m(\u001b[33mWrap\u001b[39m(\u001b[32maxiom_{(eqM(a)(b) \\to (eqM(b)(c) \\to eqM(a)(c)))}\u001b[39m), Funcs),\n",
       "      \u001b[32m@a\u001b[39m,\n",
       "      \u001b[33mIsland\u001b[39m(Terms, \u001b[33mCRV\u001b[39m(Terms), \u001b[33mAddVar\u001b[39m(\u001b[32m(M → (M → M))\u001b[39m, \u001b[32m0.3\u001b[39m), Lambda, InIsle)\n",
       "    )\n",
       "  ),\n",
       "  \u001b[33mInitialVal\u001b[39m(\n",
       "    \u001b[33mInIsle\u001b[39m(\n",
       "      \u001b[33mElem\u001b[39m(\u001b[32maxiom_{eqM(mul(a)(e_r))(a)}\u001b[39m, Terms),\n",
       "      \u001b[32m@a\u001b[39m,\n",
       "      \u001b[33mIsland\u001b[39m(\n",
       "        Terms,\n",
       "        \u001b[33mCRV\u001b[39m(Terms),\n",
       "        \u001b[33mAddVar\u001b[39m(\u001b[32m∏(a : M){ ∏(b : M){ (eqM(a)(b) → eqM(b)(a)) } }\u001b[39m, \u001b[32m0.3\u001b[39m),\n",
       "        Lambda,\n",
       "        InIsle\n",
       "      )\n",
       "    )\n",
       "  ),\n",
       "  \u001b[33mFinalVal\u001b[39m(\n",
       "..."
      ]
     },
     "execution_count": 18,
     "metadata": {},
     "output_type": "execute_result"
    }
   ],
   "source": [
    "lefts.take(20)"
   ]
  },
  {
   "cell_type": "code",
   "execution_count": 21,
   "metadata": {},
   "outputs": [
    {
     "data": {
      "text/plain": [
       "\u001b[32mimport \u001b[39m\u001b[36mGeneratorVariables.Expression.varVals\n",
       "\u001b[39m\n",
       "\u001b[36megEq\u001b[39m: \u001b[32mOption\u001b[39m[\u001b[32mEquation\u001b[39m] = \u001b[33mSome\u001b[39m(\n",
       "  \u001b[33mEquation\u001b[39m(\n",
       "    \u001b[33mInitialVal\u001b[39m(\n",
       "      \u001b[33mInIsle\u001b[39m(\n",
       "        \u001b[33mElem\u001b[39m(\u001b[32mmul\u001b[39m, Terms),\n",
       "        \u001b[32m@a\u001b[39m,\n",
       "        \u001b[33mIsland\u001b[39m(\n",
       "          Terms,\n",
       "          \u001b[33mCRV\u001b[39m(Terms),\n",
       "          \u001b[33mAddVar\u001b[39m(\u001b[32m∏(a : M){ ∏(b : M){ (eqM(a)(b) → eqM(b)(a)) } }\u001b[39m, \u001b[32m0.3\u001b[39m),\n",
       "          Lambda,\n",
       "          InIsle\n",
       "        )\n",
       "      )\n",
       "    ),\n",
       "    \u001b[33mProduct\u001b[39m(\n",
       "      \u001b[33mCoeff\u001b[39m(\n",
       "        \u001b[33mFlatMap\u001b[39m(\n",
       "          Typs,\n",
       "          provingground.learning.TermGeneratorNodes$$Lambda$3391/1078960522@1b8e201d,\n",
       "          Terms\n",
       "        ),\n",
       "        Terms\n",
       "      ),\n",
       "      \u001b[33mProduct\u001b[39m(\n",
       "        \u001b[33mCoeff\u001b[39m(\u001b[33mInit\u001b[39m(Terms), Terms),\n",
       "        \u001b[33mFinalVal\u001b[39m(\n",
       "          \u001b[33mInIsle\u001b[39m(\n",
       "            \u001b[33mElem\u001b[39m(\u001b[32mmul\u001b[39m, Terms),\n",
       "            \u001b[32m@a\u001b[39m,\n",
       "            \u001b[33mIsland\u001b[39m(\n",
       "              Terms,\n",
       "              \u001b[33mCRV\u001b[39m(Terms),\n",
       "              \u001b[33mAddVar\u001b[39m(\u001b[32m∏(a : M){ ∏(b : M){ (eqM(a)(b) → eqM(b)(a)) } }\u001b[39m, \u001b[32m0.3\u001b[39m),\n",
       "              Lambda,\n",
       "              InIsle\n",
       "            )\n",
       "          )\n",
       "        )\n",
       "      )\n",
       "    )\n",
       "  )\n",
       ")"
      ]
     },
     "execution_count": 21,
     "metadata": {},
     "output_type": "execute_result"
    }
   ],
   "source": [
    "import GeneratorVariables.Expression.varVals\n",
    "val egEq = eqgs.find(eq => varVals(eq.rhs).intersect(extras).nonEmpty)"
   ]
  },
  {
   "cell_type": "code",
   "execution_count": 22,
   "metadata": {},
   "outputs": [
    {
     "data": {
      "text/plain": [
       "\u001b[36mres21\u001b[39m: \u001b[32mExpression\u001b[39m = \u001b[33mInitialVal\u001b[39m(\n",
       "  \u001b[33mInIsle\u001b[39m(\n",
       "    \u001b[33mElem\u001b[39m(\u001b[32mmul\u001b[39m, Terms),\n",
       "    \u001b[32m@a\u001b[39m,\n",
       "    \u001b[33mIsland\u001b[39m(\n",
       "      Terms,\n",
       "      \u001b[33mCRV\u001b[39m(Terms),\n",
       "      \u001b[33mAddVar\u001b[39m(\u001b[32m∏(a : M){ ∏(b : M){ (eqM(a)(b) → eqM(b)(a)) } }\u001b[39m, \u001b[32m0.3\u001b[39m),\n",
       "      Lambda,\n",
       "      InIsle\n",
       "    )\n",
       "  )\n",
       ")"
      ]
     },
     "execution_count": 22,
     "metadata": {},
     "output_type": "execute_result"
    }
   ],
   "source": [
    "egEq.get.lhs"
   ]
  }
 ],
 "metadata": {
  "kernelspec": {
   "display_name": "Scala",
   "language": "scala",
   "name": "scala"
  },
  "language_info": {
   "codemirror_mode": "text/x-scala",
   "file_extension": ".scala",
   "mimetype": "text/x-scala",
   "name": "scala",
   "nbconvert_exporter": "script",
   "version": "2.12.8"
  }
 },
 "nbformat": 4,
 "nbformat_minor": 2
}
