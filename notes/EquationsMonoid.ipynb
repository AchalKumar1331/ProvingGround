{
 "cells": [
  {
   "cell_type": "markdown",
   "metadata": {},
   "source": [
    "## Generating Equations\n",
    "Mainly to test correctness of equations generated along with forward evolution"
   ]
  },
  {
   "cell_type": "code",
   "execution_count": 1,
   "metadata": {},
   "outputs": [
    {
     "data": {
      "text/plain": [
       "\u001b[32mimport \u001b[39m\u001b[36m$ivy.$                                       \u001b[39m"
      ]
     },
     "execution_count": 1,
     "metadata": {},
     "output_type": "execute_result"
    }
   ],
   "source": [
    "import $ivy.`in.ac.iisc.math::core-jvm:0.1-SNAPSHOT`"
   ]
  },
  {
   "cell_type": "code",
   "execution_count": 2,
   "metadata": {},
   "outputs": [
    {
     "data": {
      "text/plain": [
       "\u001b[32mimport \u001b[39m\u001b[36mprovingground._ , interface._, HoTT._\n",
       "\u001b[39m\n",
       "\u001b[32mimport \u001b[39m\u001b[36mlearning._\n",
       "\u001b[39m\n",
       "\u001b[32mimport \u001b[39m\u001b[36mlibrary._, MonoidSimple._\u001b[39m"
      ]
     },
     "execution_count": 2,
     "metadata": {},
     "output_type": "execute_result"
    }
   ],
   "source": [
    "import provingground._ , interface._, HoTT._\n",
    "import learning._\n",
    "import library._, MonoidSimple._"
   ]
  },
  {
   "cell_type": "code",
   "execution_count": null,
   "metadata": {},
   "outputs": [],
   "source": []
  },
  {
   "cell_type": "code",
   "execution_count": 3,
   "metadata": {},
   "outputs": [],
   "source": [
    "repl.pprinter.bind(translation.FansiShow.fansiPrint)"
   ]
  },
  {
   "cell_type": "code",
   "execution_count": 4,
   "metadata": {},
   "outputs": [
    {
     "data": {
      "text/plain": [
       "\u001b[36mtg\u001b[39m: \u001b[32mTermGenParams\u001b[39m = \u001b[33mTermGenParams\u001b[39m(\u001b[32m0.1\u001b[39m, \u001b[32m0.1\u001b[39m, \u001b[32m0.1\u001b[39m, \u001b[32m0.1\u001b[39m, \u001b[32m0.1\u001b[39m, \u001b[32m0.05\u001b[39m, \u001b[32m0.05\u001b[39m, \u001b[32m0.05\u001b[39m, \u001b[32m0.3\u001b[39m, \u001b[32m0.7\u001b[39m, \u001b[32m0.5\u001b[39m)\n",
       "\u001b[36mres3_1\u001b[39m: \u001b[32mNodeCoeffSeq\u001b[39m[\u001b[32mTermState\u001b[39m, \u001b[32mTerm\u001b[39m, \u001b[32mDouble\u001b[39m] = \u001b[33mCons\u001b[39m(\n",
       "  \u001b[33mBaseCons\u001b[39m(\n",
       "    \u001b[33mBasePi\u001b[39m(provingground.learning.RandomVarFamily$$Lambda$3691/849309789@41554733, FuncsWithDomain),\n",
       "    \u001b[32m0.55\u001b[39m,\n",
       "    \u001b[33mBaseCons\u001b[39m(\n",
       "      \u001b[33mBasePi\u001b[39m(provingground.learning.GeneratorNode$$Lambda$3694/513923789@f070467, FuncsWithDomain),\n",
       "      \u001b[32m0.1\u001b[39m,\n",
       "      \u001b[33mBaseCons\u001b[39m(\n",
       "        \u001b[33mBasePi\u001b[39m(\n",
       "          provingground.learning.GeneratorNode$$Lambda$3694/513923789@2454af06,\n",
       "          FuncsWithDomain\n",
       "        ),\n",
       "        \u001b[32m0.1\u001b[39m,\n",
       "        \u001b[33mBaseCons\u001b[39m(\n",
       "          \u001b[33mBasePi\u001b[39m(\n",
       "            provingground.learning.GeneratorNode$$Lambda$3694/513923789@6e336712,\n",
       "            FuncsWithDomain\n",
       "          ),\n",
       "          \u001b[32m0.1\u001b[39m,\n",
       "          \u001b[33mBaseCons\u001b[39m(\n",
       "            \u001b[33mBasePi\u001b[39m(\n",
       "              provingground.learning.TermGeneratorNodes$$Lambda$3685/826265978@166b0eea,\n",
       "              FuncsWithDomain\n",
       "            ),\n",
       "            \u001b[32m0.1\u001b[39m,\n",
       "            \u001b[33mTarget\u001b[39m(FuncsWithDomain)\n",
       "          )\n",
       "        )\n",
       "      )\n",
       "    )\n",
       "  ),\n",
       "  \u001b[33mCons\u001b[39m(\n",
       "    \u001b[33mBaseCons\u001b[39m(\n",
       "      \u001b[33mMap\u001b[39m(\n",
       "        provingground.learning.TermRandomVars$TargetTyps$$$Lambda$3697/25115646@7f8d99a9,\n",
       "        Goals,\n",
       "        TargetTyps\n",
       "      ),\n",
       "      \u001b[32m0.7\u001b[39m,\n",
       "      \u001b[33mBaseCons\u001b[39m(\n",
       "        \u001b[33mMap\u001b[39m(\n",
       "          provingground.learning.TermRandomVars$TargetTyps$$$Lambda$3698/199764138@731cf192,\n",
       "          Typs,\n",
       "          TargetTyps\n",
       "        ),\n",
       "        \u001b[32m0.30000000000000004\u001b[39m,\n",
       "        \u001b[33mTarget\u001b[39m(TargetTyps)\n",
       "      )\n",
       "    ),\n",
       "..."
      ]
     },
     "execution_count": 4,
     "metadata": {},
     "output_type": "execute_result"
    }
   ],
   "source": [
    "val tg = TermGenParams()\n",
    "tg.nodeCoeffSeq"
   ]
  },
  {
   "cell_type": "code",
   "execution_count": 5,
   "metadata": {},
   "outputs": [
    {
     "data": {
      "text/plain": [
       "\u001b[36mmfd\u001b[39m: \u001b[32mMonixFiniteDistributionEq\u001b[39m[\u001b[32mTermState\u001b[39m, \u001b[32mTerm\u001b[39m] = \u001b[33mMonixFiniteDistributionEq\u001b[39m(\n",
       "  \u001b[33mCons\u001b[39m(\n",
       "    \u001b[33mBaseCons\u001b[39m(\n",
       "      \u001b[33mBasePi\u001b[39m(\n",
       "        provingground.learning.RandomVarFamily$$Lambda$3691/849309789@41554733,\n",
       "        FuncsWithDomain\n",
       "      ),\n",
       "      \u001b[32m0.55\u001b[39m,\n",
       "      \u001b[33mBaseCons\u001b[39m(\n",
       "        \u001b[33mBasePi\u001b[39m(provingground.learning.GeneratorNode$$Lambda$3694/513923789@f070467, FuncsWithDomain),\n",
       "        \u001b[32m0.1\u001b[39m,\n",
       "        \u001b[33mBaseCons\u001b[39m(\n",
       "          \u001b[33mBasePi\u001b[39m(\n",
       "            provingground.learning.GeneratorNode$$Lambda$3694/513923789@2454af06,\n",
       "            FuncsWithDomain\n",
       "          ),\n",
       "          \u001b[32m0.1\u001b[39m,\n",
       "          \u001b[33mBaseCons\u001b[39m(\n",
       "            \u001b[33mBasePi\u001b[39m(\n",
       "              provingground.learning.GeneratorNode$$Lambda$3694/513923789@6e336712,\n",
       "              FuncsWithDomain\n",
       "            ),\n",
       "            \u001b[32m0.1\u001b[39m,\n",
       "            \u001b[33mBaseCons\u001b[39m(\n",
       "              \u001b[33mBasePi\u001b[39m(\n",
       "                provingground.learning.TermGeneratorNodes$$Lambda$3685/826265978@166b0eea,\n",
       "                FuncsWithDomain\n",
       "              ),\n",
       "              \u001b[32m0.1\u001b[39m,\n",
       "              \u001b[33mTarget\u001b[39m(FuncsWithDomain)\n",
       "            )\n",
       "          )\n",
       "        )\n",
       "      )\n",
       "    ),\n",
       "    \u001b[33mCons\u001b[39m(\n",
       "      \u001b[33mBaseCons\u001b[39m(\n",
       "        \u001b[33mMap\u001b[39m(\n",
       "          provingground.learning.TermRandomVars$TargetTyps$$$Lambda$3697/25115646@7f8d99a9,\n",
       "          Goals,\n",
       "          TargetTyps\n",
       "        ),\n",
       "        \u001b[32m0.7\u001b[39m,\n",
       "        \u001b[33mBaseCons\u001b[39m(\n",
       "          \u001b[33mMap\u001b[39m(\n",
       "            provingground.learning.TermRandomVars$TargetTyps$$$Lambda$3698/199764138@731cf192,\n",
       "            Typs,\n",
       "            TargetTyps\n",
       "...\n",
       "\u001b[36mts\u001b[39m: \u001b[32mTermState\u001b[39m = \u001b[33mTermState\u001b[39m(\n",
       "  \u001b[33mFiniteDistribution\u001b[39m(\n",
       "    \u001b[33mVector\u001b[39m(\n",
       "      \u001b[33mWeighted\u001b[39m(\u001b[32me_l\u001b[39m, \u001b[32m0.047619047619047616\u001b[39m),\n",
       "      \u001b[33mWeighted\u001b[39m(\u001b[32me_r\u001b[39m, \u001b[32m0.047619047619047616\u001b[39m),\n",
       "      \u001b[33mWeighted\u001b[39m(\u001b[32mmul\u001b[39m, \u001b[32m0.047619047619047616\u001b[39m),\n",
       "      \u001b[33mWeighted\u001b[39m(\u001b[32meqM\u001b[39m, \u001b[32m0.047619047619047616\u001b[39m),\n",
       "      \u001b[33mWeighted\u001b[39m(\u001b[32maxiom_{eqM(a)(a)}\u001b[39m, \u001b[32m0.047619047619047616\u001b[39m),\n",
       "      \u001b[33mWeighted\u001b[39m(\u001b[32maxiom_{(eqM(a)(b) \\to eqM(b)(a))}\u001b[39m, \u001b[32m0.047619047619047616\u001b[39m),\n",
       "      \u001b[33mWeighted\u001b[39m(\u001b[32maxiom_{(eqM(a)(b) \\to (eqM(b)(c) \\to eqM(a)(c)))}\u001b[39m, \u001b[32m0.047619047619047616\u001b[39m),\n",
       "      \u001b[33mWeighted\u001b[39m(\u001b[32maxiom_{eqM(mul(e_l)(a))(a)}\u001b[39m, \u001b[32m0.047619047619047616\u001b[39m),\n",
       "      \u001b[33mWeighted\u001b[39m(\u001b[32maxiom_{eqM(mul(a)(e_r))(a)}\u001b[39m, \u001b[32m0.047619047619047616\u001b[39m),\n",
       "      \u001b[33mWeighted\u001b[39m(\u001b[32meqM\u001b[39m, \u001b[32m0.2857142857142857\u001b[39m),\n",
       "      \u001b[33mWeighted\u001b[39m(\u001b[32mmul\u001b[39m, \u001b[32m0.2857142857142857\u001b[39m)\n",
       "    )\n",
       "  ),\n",
       "  \u001b[33mFiniteDistribution\u001b[39m(\n",
       "    \u001b[33mVector\u001b[39m(\n",
       "      \u001b[33mWeighted\u001b[39m(\u001b[32mM\u001b[39m, \u001b[32m0.047619047619047616\u001b[39m),\n",
       "      \u001b[33mWeighted\u001b[39m(\u001b[32mM\u001b[39m, \u001b[32m0.047619047619047616\u001b[39m),\n",
       "      \u001b[33mWeighted\u001b[39m(\u001b[32m(M → (M → M))\u001b[39m, \u001b[32m0.047619047619047616\u001b[39m),\n",
       "      \u001b[33mWeighted\u001b[39m(\u001b[32m(M → (M → 𝒰 ))\u001b[39m, \u001b[32m0.047619047619047616\u001b[39m),\n",
       "      \u001b[33mWeighted\u001b[39m(\u001b[32m∏(a : M){ eqM(a)(a) }\u001b[39m, \u001b[32m0.047619047619047616\u001b[39m),\n",
       "      \u001b[33mWeighted\u001b[39m(\u001b[32m∏(a : M){ ∏(b : M){ (eqM(a)(b) → eqM(b)(a)) } }\u001b[39m, \u001b[32m0.047619047619047616\u001b[39m),\n",
       "      \u001b[33mWeighted\u001b[39m(\n",
       "        \u001b[32m∏(a : M){ ∏(b : M){ ∏(c : M){ (eqM(a)(b) → (eqM(b)(c) → eqM(a)(c))) } } }\u001b[39m,\n",
       "        \u001b[32m0.047619047619047616\u001b[39m\n",
       "      ),\n",
       "      \u001b[33mWeighted\u001b[39m(\u001b[32m∏(a : M){ eqM(mul(e_l)(a))(a) }\u001b[39m, \u001b[32m0.047619047619047616\u001b[39m),\n",
       "      \u001b[33mWeighted\u001b[39m(\u001b[32m∏(a : M){ eqM(mul(a)(e_r))(a) }\u001b[39m, \u001b[32m0.047619047619047616\u001b[39m),\n",
       "      \u001b[33mWeighted\u001b[39m(\u001b[32m(M → (M → 𝒰 ))\u001b[39m, \u001b[32m0.2857142857142857\u001b[39m),\n",
       "      \u001b[33mWeighted\u001b[39m(\u001b[32m(M → (M → M))\u001b[39m, \u001b[32m0.2857142857142857\u001b[39m)\n",
       "    )\n",
       "  ),\n",
       "  \u001b[33mVector\u001b[39m(),\n",
       "  \u001b[33mFiniteDistribution\u001b[39m(\u001b[33mVector\u001b[39m()),\n",
       "  \u001b[33mFiniteDistribution\u001b[39m(\u001b[33mVector\u001b[39m()),\n",
       "  Empty\n",
       ")"
      ]
     },
     "execution_count": 5,
     "metadata": {},
     "output_type": "execute_result"
    }
   ],
   "source": [
    "val mfd = MonixFiniteDistributionEq(tg.nodeCoeffSeq)\n",
    "val ts = TermState(dist1, dist1.map(_.typ))"
   ]
  },
  {
   "cell_type": "code",
   "execution_count": 6,
   "metadata": {},
   "outputs": [
    {
     "data": {
      "text/plain": [
       "\u001b[32mimport \u001b[39m\u001b[36mTermRandomVars._\n",
       "\u001b[39m\n",
       "\u001b[36mtsk\u001b[39m: \u001b[32mmonix\u001b[39m.\u001b[32meval\u001b[39m.\u001b[32mTask\u001b[39m[(\u001b[32mFiniteDistribution\u001b[39m[\u001b[32mTerm\u001b[39m], \u001b[32mSet\u001b[39m[\u001b[32mGeneratorVariables\u001b[39m.\u001b[32mEquationTerm\u001b[39m])] = \u001b[33mFlatMap\u001b[39m(\n",
       "  \u001b[33mAsync\u001b[39m(<function2>, true, true, true),\n",
       "  monix.eval.Task$$Lambda$3925/1282376486@76dd7359\n",
       ")\n",
       "\u001b[32mimport \u001b[39m\u001b[36mmonix.execution.Scheduler.Implicits.global\u001b[39m"
      ]
     },
     "execution_count": 6,
     "metadata": {},
     "output_type": "execute_result"
    }
   ],
   "source": [
    "import TermRandomVars._\n",
    "val tsk = mfd.varDist(ts)(Terms, 0.001)\n",
    "import monix.execution.Scheduler.Implicits.global"
   ]
  },
  {
   "cell_type": "code",
   "execution_count": 7,
   "metadata": {},
   "outputs": [
    {
     "data": {
      "text/plain": [
       "\u001b[36mrp\u001b[39m: (\u001b[32mFiniteDistribution\u001b[39m[\u001b[32mTerm\u001b[39m], \u001b[32mSet\u001b[39m[\u001b[32mGeneratorVariables\u001b[39m.\u001b[32mEquationTerm\u001b[39m]) = (\n",
       "  \u001b[33mFiniteDistribution\u001b[39m(\n",
       "    \u001b[33mVector\u001b[39m(\n",
       "      \u001b[33mWeighted\u001b[39m(\u001b[32maxiom_{(eqM(a)(b) \\to eqM(b)(a))}\u001b[39m, \u001b[32m0.029778252577854582\u001b[39m),\n",
       "      \u001b[33mWeighted\u001b[39m(\u001b[32mmul(e_r)(e_l)\u001b[39m, \u001b[32m0.0053934227946860315\u001b[39m),\n",
       "      \u001b[33mWeighted\u001b[39m(\u001b[32meqM(e_r)(e_r)\u001b[39m, \u001b[32m0.0053934227946860315\u001b[39m),\n",
       "      \u001b[33mWeighted\u001b[39m(\u001b[32m(_ : ∏(a : M){ ∏(b : M){ (eqM(a)(b) → eqM(b)(a)) } }) ↦ eqM\u001b[39m, \u001b[32m0.0011761943024481748\u001b[39m),\n",
       "      \u001b[33mWeighted\u001b[39m(\u001b[32m(_ : (M → (M → M))) ↦ axiom_{eqM(mul(e_l)(a))(a)}\u001b[39m, \u001b[32m0.0011761943024481746\u001b[39m),\n",
       "      \u001b[33mWeighted\u001b[39m(\u001b[32m(_ : ∏(a : M){ eqM(a)(a) }) ↦ mul\u001b[39m, \u001b[32m0.0011761943024481748\u001b[39m),\n",
       "      \u001b[33mWeighted\u001b[39m(\u001b[32meqM(e_r)(e_l)\u001b[39m, \u001b[32m0.0053934227946860315\u001b[39m),\n",
       "      \u001b[33mWeighted\u001b[39m(\u001b[32m(_ : (M → (M → 𝒰 ))) ↦ axiom_{eqM(mul(a)(e_r))(a)}\u001b[39m, \u001b[32m0.0011761943024481746\u001b[39m),\n",
       "      \u001b[33mWeighted\u001b[39m(\u001b[32mmul(e_r)\u001b[39m, \u001b[32m0.02478994011666693\u001b[39m),\n",
       "      \u001b[33mWeighted\u001b[39m(\u001b[32maxiom_{(eqM(a)(b) \\to (eqM(b)(c) \\to eqM(a)(c)))}\u001b[39m, \u001b[32m0.029778252577854582\u001b[39m),\n",
       "      \u001b[33mWeighted\u001b[39m(\u001b[32m(_ : ∏(a : M){ eqM(mul(a)(e_r))(a) }) ↦ mul\u001b[39m, \u001b[32m0.0011761943024481748\u001b[39m),\n",
       "      \u001b[33mWeighted\u001b[39m(\u001b[32m(@a : ∏(a : M){ eqM(mul(e_l)(a))(a) }) ↦ @a\u001b[39m, \u001b[32m0.0015122498174333678\u001b[39m),\n",
       "      \u001b[33mWeighted\u001b[39m(\u001b[32m(@a : (M → (M → 𝒰 ))) ↦ @a(e_r)\u001b[39m, \u001b[32m0.0023589908047798197\u001b[39m),\n",
       "      \u001b[33mWeighted\u001b[39m(\u001b[32m(_ : (M → (M → 𝒰 ))) ↦ e_l\u001b[39m, \u001b[32m0.0011761943024481746\u001b[39m),\n",
       "      \u001b[33mWeighted\u001b[39m(\u001b[32meqM(e_l)(e_l)\u001b[39m, \u001b[32m0.0053934227946860315\u001b[39m),\n",
       "      \u001b[33mWeighted\u001b[39m(\n",
       "        \u001b[32m(_ : (M → (M → 𝒰 ))) ↦ axiom_{(eqM(a)(b) \\to (eqM(b)(c) \\to eqM(a)(c)))}\u001b[39m,\n",
       "        \u001b[32m0.0011761943024481746\u001b[39m\n",
       "      ),\n",
       "      \u001b[33mWeighted\u001b[39m(\u001b[32m(@a : (M → (M → 𝒰 ))) ↦ @a(e_l)\u001b[39m, \u001b[32m0.0023589908047798197\u001b[39m),\n",
       "      \u001b[33mWeighted\u001b[39m(\u001b[32maxiom_{eqM(mul(a)(e_r))(a)}(e_r)\u001b[39m, \u001b[32m0.003541420016666704\u001b[39m),\n",
       "      \u001b[33mWeighted\u001b[39m(\u001b[32maxiom_{eqM(mul(e_l)(a))(a)}\u001b[39m, \u001b[32m0.029778252577854582\u001b[39m),\n",
       "      \u001b[33mWeighted\u001b[39m(\n",
       "        \u001b[32m(_ : ∏(a : M){ ∏(b : M){ ∏(c : M){ (eqM(a)(b) → (eqM(b)(c) → eqM(a)(c))) } } }) ↦ mul\u001b[39m,\n",
       "        \u001b[32m0.0011761943024481748\u001b[39m\n",
       "      ),\n",
       "      \u001b[33mWeighted\u001b[39m(\u001b[32mmul\u001b[39m, \u001b[32m0.24983231236562614\u001b[39m),\n",
       "      \u001b[33mWeighted\u001b[39m(\u001b[32meqM(e_r)\u001b[39m, \u001b[32m0.02478994011666693\u001b[39m),\n",
       "      \u001b[33mWeighted\u001b[39m(\n",
       "        \u001b[32m(@a : ∏(a : M){ ∏(b : M){ ∏(c : M){ (eqM(a)(b) → (eqM(b)(c) → eqM(a)(c))) } } }) ↦ @a\u001b[39m,\n",
       "        \u001b[32m0.0015122498174333675\u001b[39m\n",
       "      ),\n",
       "      \u001b[33mWeighted\u001b[39m(\u001b[32m(_ : (M → (M → 𝒰 ))) ↦ eqM\u001b[39m, \u001b[32m0.008233360117137222\u001b[39m),\n",
       "      \u001b[33mWeighted\u001b[39m(\u001b[32maxiom_{eqM(a)(a)}(e_r)\u001b[39m, \u001b[32m0.003541420016666704\u001b[39m),\n",
       "      \u001b[33mWeighted\u001b[39m(\n",
       "        \u001b[32m(_ : ∏(a : M){ ∏(b : M){ ∏(c : M){ (eqM(a)(b) → (eqM(b)(c) → eqM(a)(c))) } } }) ↦ eqM\u001b[39m,\n",
       "        \u001b[32m0.0011761943024481748\u001b[39m\n",
       "      ),\n",
       "      \u001b[33mWeighted\u001b[39m(\u001b[32m(@a : M) ↦ @a\u001b[39m, \u001b[32m0.0030244996348667355\u001b[39m),\n",
       "      \u001b[33mWeighted\u001b[39m(\u001b[32maxiom_{(eqM(a)(b) \\to (eqM(b)(c) \\to eqM(a)(c)))}(e_l)\u001b[39m, \u001b[32m0.003541420016666704\u001b[39m),\n",
       "      \u001b[33mWeighted\u001b[39m(\u001b[32m(@a : (M → (M → 𝒰 ))) ↦ @a\u001b[39m, \u001b[32m0.010585748722033573\u001b[39m),\n",
       "      \u001b[33mWeighted\u001b[39m(\u001b[32m(@a : ∏(a : M){ eqM(a)(a) }) ↦ @a\u001b[39m, \u001b[32m0.0015122498174333678\u001b[39m),\n",
       "      \u001b[33mWeighted\u001b[39m(\u001b[32m(_ : (M → (M → M))) ↦ axiom_{(eqM(a)(b) \\to eqM(b)(a))}\u001b[39m, \u001b[32m0.0011761943024481746\u001b[39m),\n",
       "      \u001b[33mWeighted\u001b[39m(\u001b[32maxiom_{eqM(mul(a)(e_r))(a)}\u001b[39m, \u001b[32m0.029778252577854582\u001b[39m),\n",
       "      \u001b[33mWeighted\u001b[39m(\u001b[32me_l\u001b[39m, \u001b[32m0.033331339533166776\u001b[39m),\n",
       "      \u001b[33mWeighted\u001b[39m(\u001b[32maxiom_{eqM(a)(a)}\u001b[39m, \u001b[32m0.029778252577854582\u001b[39m),\n",
       "...\n",
       "\u001b[36meqs\u001b[39m: \u001b[32mSet\u001b[39m[\u001b[32mGeneratorVariables\u001b[39m.\u001b[32mEquationTerm\u001b[39m] = \u001b[33mSet\u001b[39m(\n",
       "  \u001b[33mEquationTerm\u001b[39m(\n",
       "    \u001b[33mFinalVal\u001b[39m(\n",
       "      \u001b[33mElem\u001b[39m(\n",
       "        \u001b[33mWrap\u001b[39m(\u001b[32m(_ : (M → (M → M))) ↦ axiom_{eqM(mul(a)(e_r))(a)}\u001b[39m),\n",
       "        \u001b[33mAtCoord\u001b[39m(FuncsWithDomain, \u001b[32m(M → (M → M))\u001b[39m :: HNil)\n",
       "      )\n",
       "    ),\n",
       "    \u001b[33mProduct\u001b[39m(\n",
       "      \u001b[33mCoeff\u001b[39m(\n",
       "        \u001b[33mIsland\u001b[39m(\n",
       "          \u001b[33mAtCoord\u001b[39m(FuncsWithDomain, \u001b[32m(M → (M → M))\u001b[39m :: HNil),\n",
       "          \u001b[33mCRV\u001b[39m(Terms),\n",
       "          \u001b[33mAddVar\u001b[39m(\u001b[32m(M → (M → M))\u001b[39m, \u001b[32m0.3\u001b[39m),\n",
       "          Lambda,\n",
       "          InIsle\n",
       "        ),\n",
       "        \u001b[33mAtCoord\u001b[39m(FuncsWithDomain, \u001b[32m(M → (M → M))\u001b[39m :: HNil)\n",
       "      ),\n",
       "      \u001b[33mFinalVal\u001b[39m(\n",
       "        \u001b[33mInIsle\u001b[39m(\n",
       "          \u001b[33mElem\u001b[39m(\u001b[32maxiom_{eqM(mul(a)(e_r))(a)}\u001b[39m, Terms),\n",
       "          \u001b[32m@a\u001b[39m,\n",
       "          \u001b[33mIsland\u001b[39m(\n",
       "            \u001b[33mAtCoord\u001b[39m(FuncsWithDomain, \u001b[32m(M → (M → M))\u001b[39m :: HNil),\n",
       "            \u001b[33mCRV\u001b[39m(Terms),\n",
       "            \u001b[33mAddVar\u001b[39m(\u001b[32m(M → (M → M))\u001b[39m, \u001b[32m0.3\u001b[39m),\n",
       "            Lambda,\n",
       "            InIsle\n",
       "          )\n",
       "        )\n",
       "      )\n",
       "    )\n",
       "  ),\n",
       "  \u001b[33mEquationTerm\u001b[39m(\n",
       "    \u001b[33mFinalVal\u001b[39m(\u001b[33mElem\u001b[39m(\u001b[32m(@a : (M → (M → M))) ↦ @a\u001b[39m, Terms)),\n",
       "    \u001b[33mProduct\u001b[39m(\n",
       "      \u001b[33mCoeff\u001b[39m(\u001b[33mFlatMap\u001b[39m(Typs, LambdaIsle, Terms), Terms),\n",
       "      \u001b[33mFinalVal\u001b[39m(\n",
       "        \u001b[33mInIsle\u001b[39m(\n",
       "          \u001b[33mElem\u001b[39m(\u001b[32m@a\u001b[39m, Terms),\n",
       "          \u001b[32m@a\u001b[39m,\n",
       "          \u001b[33mIsland\u001b[39m(Terms, \u001b[33mCRV\u001b[39m(Terms), \u001b[33mAddVar\u001b[39m(\u001b[32m(M → (M → M))\u001b[39m, \u001b[32m0.3\u001b[39m), Lambda, InIsle)\n",
       "        )\n",
       "      )\n",
       "    )\n",
       "  ),\n",
       "  \u001b[33mEquationTerm\u001b[39m(\n",
       "    \u001b[33mFinalVal\u001b[39m(\n",
       "..."
      ]
     },
     "execution_count": 7,
     "metadata": {},
     "output_type": "execute_result"
    }
   ],
   "source": [
    "val rp = tsk.runSyncUnsafe()\n",
    "val eqs = rp._2"
   ]
  },
  {
   "cell_type": "code",
   "execution_count": 8,
   "metadata": {},
   "outputs": [
    {
     "data": {
      "text/plain": [
       "\u001b[36mres7\u001b[39m: \u001b[32mSet\u001b[39m[\u001b[32mGeneratorVariables\u001b[39m.\u001b[32mEquationTerm\u001b[39m] = \u001b[33mSet\u001b[39m(\n",
       "  \u001b[33mEquationTerm\u001b[39m(\n",
       "    \u001b[33mFinalVal\u001b[39m(\n",
       "      \u001b[33mElem\u001b[39m(\n",
       "        \u001b[33mWrap\u001b[39m(\u001b[32m(_ : (M → (M → M))) ↦ axiom_{eqM(mul(a)(e_r))(a)}\u001b[39m),\n",
       "        \u001b[33mAtCoord\u001b[39m(FuncsWithDomain, \u001b[32m(M → (M → M))\u001b[39m :: HNil)\n",
       "      )\n",
       "    ),\n",
       "    \u001b[33mProduct\u001b[39m(\n",
       "      \u001b[33mCoeff\u001b[39m(\n",
       "        \u001b[33mIsland\u001b[39m(\n",
       "          \u001b[33mAtCoord\u001b[39m(FuncsWithDomain, \u001b[32m(M → (M → M))\u001b[39m :: HNil),\n",
       "          \u001b[33mCRV\u001b[39m(Terms),\n",
       "          \u001b[33mAddVar\u001b[39m(\u001b[32m(M → (M → M))\u001b[39m, \u001b[32m0.3\u001b[39m),\n",
       "          Lambda,\n",
       "          InIsle\n",
       "        ),\n",
       "        \u001b[33mAtCoord\u001b[39m(FuncsWithDomain, \u001b[32m(M → (M → M))\u001b[39m :: HNil)\n",
       "      ),\n",
       "      \u001b[33mFinalVal\u001b[39m(\n",
       "        \u001b[33mInIsle\u001b[39m(\n",
       "          \u001b[33mElem\u001b[39m(\u001b[32maxiom_{eqM(mul(a)(e_r))(a)}\u001b[39m, Terms),\n",
       "          \u001b[32m@a\u001b[39m,\n",
       "          \u001b[33mIsland\u001b[39m(\n",
       "            \u001b[33mAtCoord\u001b[39m(FuncsWithDomain, \u001b[32m(M → (M → M))\u001b[39m :: HNil),\n",
       "            \u001b[33mCRV\u001b[39m(Terms),\n",
       "            \u001b[33mAddVar\u001b[39m(\u001b[32m(M → (M → M))\u001b[39m, \u001b[32m0.3\u001b[39m),\n",
       "            Lambda,\n",
       "            InIsle\n",
       "          )\n",
       "        )\n",
       "      )\n",
       "    )\n",
       "  ),\n",
       "  \u001b[33mEquationTerm\u001b[39m(\n",
       "    \u001b[33mFinalVal\u001b[39m(\u001b[33mElem\u001b[39m(\u001b[32m(@a : (M → (M → M))) ↦ @a\u001b[39m, Terms)),\n",
       "    \u001b[33mProduct\u001b[39m(\n",
       "      \u001b[33mCoeff\u001b[39m(\u001b[33mFlatMap\u001b[39m(Typs, LambdaIsle, Terms), Terms),\n",
       "      \u001b[33mFinalVal\u001b[39m(\n",
       "        \u001b[33mInIsle\u001b[39m(\n",
       "          \u001b[33mElem\u001b[39m(\u001b[32m@a\u001b[39m, Terms),\n",
       "          \u001b[32m@a\u001b[39m,\n",
       "          \u001b[33mIsland\u001b[39m(Terms, \u001b[33mCRV\u001b[39m(Terms), \u001b[33mAddVar\u001b[39m(\u001b[32m(M → (M → M))\u001b[39m, \u001b[32m0.3\u001b[39m), Lambda, InIsle)\n",
       "        )\n",
       "      )\n",
       "    )\n",
       "  ),\n",
       "  \u001b[33mEquationTerm\u001b[39m(\n",
       "    \u001b[33mFinalVal\u001b[39m(\n",
       "..."
      ]
     },
     "execution_count": 8,
     "metadata": {},
     "output_type": "execute_result"
    }
   ],
   "source": [
    "eqs"
   ]
  },
  {
   "cell_type": "code",
   "execution_count": 9,
   "metadata": {},
   "outputs": [
    {
     "data": {
      "text/plain": [
       "\u001b[36mlefts\u001b[39m: \u001b[32mSet\u001b[39m[\u001b[32mGeneratorVariables\u001b[39m.\u001b[32mExpression\u001b[39m] = \u001b[33mSet\u001b[39m(\n",
       "  \u001b[33mFinalVal\u001b[39m(\u001b[33mElem\u001b[39m(\u001b[32m(@a : ∏(a : M){ eqM(mul(a)(e_r))(a) }) ↦ @a\u001b[39m, Terms)),\n",
       "  \u001b[33mFinalVal\u001b[39m(\n",
       "    \u001b[33mInIsle\u001b[39m(\n",
       "      \u001b[33mElem\u001b[39m(\u001b[33mWrap\u001b[39m(\u001b[32maxiom_{(eqM(a)(b) \\to (eqM(b)(c) \\to eqM(a)(c)))}\u001b[39m), Funcs),\n",
       "      \u001b[32m@a\u001b[39m,\n",
       "      \u001b[33mIsland\u001b[39m(Terms, \u001b[33mCRV\u001b[39m(Terms), \u001b[33mAddVar\u001b[39m(\u001b[32m(M → (M → M))\u001b[39m, \u001b[32m0.3\u001b[39m), Lambda, InIsle)\n",
       "    )\n",
       "  ),\n",
       "  \u001b[33mInitialVal\u001b[39m(\n",
       "    \u001b[33mInIsle\u001b[39m(\n",
       "      \u001b[33mElem\u001b[39m(\u001b[33mWrap\u001b[39m(\u001b[32maxiom_{(eqM(a)(b) \\to (eqM(b)(c) \\to eqM(a)(c)))}\u001b[39m), Funcs),\n",
       "      \u001b[32m@a\u001b[39m,\n",
       "      \u001b[33mIsland\u001b[39m(Terms, \u001b[33mCRV\u001b[39m(Terms), \u001b[33mAddVar\u001b[39m(\u001b[32m(M → (M → M))\u001b[39m, \u001b[32m0.3\u001b[39m), Lambda, InIsle)\n",
       "    )\n",
       "  ),\n",
       "  \u001b[33mInitialVal\u001b[39m(\n",
       "    \u001b[33mInIsle\u001b[39m(\n",
       "      \u001b[33mElem\u001b[39m(\u001b[32maxiom_{eqM(mul(a)(e_r))(a)}\u001b[39m, Terms),\n",
       "      \u001b[32m@a\u001b[39m,\n",
       "      \u001b[33mIsland\u001b[39m(\n",
       "        Terms,\n",
       "        \u001b[33mCRV\u001b[39m(Terms),\n",
       "        \u001b[33mAddVar\u001b[39m(\u001b[32m∏(a : M){ ∏(b : M){ (eqM(a)(b) → eqM(b)(a)) } }\u001b[39m, \u001b[32m0.3\u001b[39m),\n",
       "        Lambda,\n",
       "        InIsle\n",
       "      )\n",
       "    )\n",
       "  ),\n",
       "  \u001b[33mFinalVal\u001b[39m(\n",
       "    \u001b[33mInIsle\u001b[39m(\n",
       "      \u001b[33mElem\u001b[39m(\u001b[32maxiom_{eqM(mul(a)(e_r))(a)}\u001b[39m, Terms),\n",
       "      \u001b[32m@a\u001b[39m,\n",
       "      \u001b[33mIsland\u001b[39m(\n",
       "        Terms,\n",
       "        \u001b[33mCRV\u001b[39m(Terms),\n",
       "        \u001b[33mAddVar\u001b[39m(\u001b[32m∏(a : M){ ∏(b : M){ (eqM(a)(b) → eqM(b)(a)) } }\u001b[39m, \u001b[32m0.3\u001b[39m),\n",
       "        Lambda,\n",
       "        InIsle\n",
       "      )\n",
       "    )\n",
       "  ),\n",
       "  \u001b[33mFinalVal\u001b[39m(\n",
       "    \u001b[33mElem\u001b[39m(\n",
       "      \u001b[32m((M → (M → M)) → ∏(a : M){ ∏(b : M){ ∏(c : M){ (eqM(a)(b) → (eqM(b)(c) → eqM(a)(c))) } } })\u001b[39m,\n",
       "      Typs\n",
       "    )\n",
       "  ),\n",
       "  \u001b[33mFinalVal\u001b[39m(\n",
       "...\n",
       "\u001b[36mres8_1\u001b[39m: \u001b[32mInt\u001b[39m = \u001b[32m585\u001b[39m"
      ]
     },
     "execution_count": 9,
     "metadata": {},
     "output_type": "execute_result"
    }
   ],
   "source": [
    "val lefts = eqs.map(_.lhs)\n",
    "lefts.size"
   ]
  },
  {
   "cell_type": "code",
   "execution_count": 10,
   "metadata": {},
   "outputs": [
    {
     "data": {
      "text/plain": [
       "\u001b[32mimport \u001b[39m\u001b[36mGeneratorVariables._\n",
       "\u001b[39m\n",
       "\u001b[36meqgs\u001b[39m: \u001b[32mSet\u001b[39m[\u001b[32mEquation\u001b[39m] = \u001b[33mSet\u001b[39m(\n",
       "  \u001b[33mEquation\u001b[39m(\n",
       "    \u001b[33mFinalVal\u001b[39m(\n",
       "      \u001b[33mElem\u001b[39m(\n",
       "        \u001b[33mWrap\u001b[39m(\u001b[32m(_ : (M → (M → M))) ↦ axiom_{eqM(mul(a)(e_r))(a)}\u001b[39m),\n",
       "        \u001b[33mAtCoord\u001b[39m(FuncsWithDomain, \u001b[32m(M → (M → M))\u001b[39m :: HNil)\n",
       "      )\n",
       "    ),\n",
       "    \u001b[33mProduct\u001b[39m(\n",
       "      \u001b[33mCoeff\u001b[39m(\n",
       "        \u001b[33mIsland\u001b[39m(\n",
       "          \u001b[33mAtCoord\u001b[39m(FuncsWithDomain, \u001b[32m(M → (M → M))\u001b[39m :: HNil),\n",
       "          \u001b[33mCRV\u001b[39m(Terms),\n",
       "          \u001b[33mAddVar\u001b[39m(\u001b[32m(M → (M → M))\u001b[39m, \u001b[32m0.3\u001b[39m),\n",
       "          Lambda,\n",
       "          InIsle\n",
       "        ),\n",
       "        \u001b[33mAtCoord\u001b[39m(FuncsWithDomain, \u001b[32m(M → (M → M))\u001b[39m :: HNil)\n",
       "      ),\n",
       "      \u001b[33mFinalVal\u001b[39m(\n",
       "        \u001b[33mInIsle\u001b[39m(\n",
       "          \u001b[33mElem\u001b[39m(\u001b[32maxiom_{eqM(mul(a)(e_r))(a)}\u001b[39m, Terms),\n",
       "          \u001b[32m@a\u001b[39m,\n",
       "          \u001b[33mIsland\u001b[39m(\n",
       "            \u001b[33mAtCoord\u001b[39m(FuncsWithDomain, \u001b[32m(M → (M → M))\u001b[39m :: HNil),\n",
       "            \u001b[33mCRV\u001b[39m(Terms),\n",
       "            \u001b[33mAddVar\u001b[39m(\u001b[32m(M → (M → M))\u001b[39m, \u001b[32m0.3\u001b[39m),\n",
       "            Lambda,\n",
       "            InIsle\n",
       "          )\n",
       "        )\n",
       "      )\n",
       "    )\n",
       "  ),\n",
       "  \u001b[33mEquation\u001b[39m(\n",
       "    \u001b[33mFinalVal\u001b[39m(\n",
       "      \u001b[33mInIsle\u001b[39m(\n",
       "        \u001b[33mElem\u001b[39m(\u001b[32mmul\u001b[39m, Terms),\n",
       "        \u001b[32m@a\u001b[39m,\n",
       "        \u001b[33mIsland\u001b[39m(\n",
       "          Terms,\n",
       "          \u001b[33mCRV\u001b[39m(Terms),\n",
       "          \u001b[33mAddVar\u001b[39m(\u001b[32m∏(a : M){ ∏(b : M){ ∏(c : M){ (eqM(a)(b) → (eqM(b)(c) → eqM(a)(c))) } } }\u001b[39m, \u001b[32m0.3\u001b[39m),\n",
       "          Lambda,\n",
       "          InIsle\n",
       "        )\n",
       "      )\n",
       "    ),\n",
       "    \u001b[33mProduct\u001b[39m(\n",
       "..."
      ]
     },
     "execution_count": 10,
     "metadata": {},
     "output_type": "execute_result"
    }
   ],
   "source": [
    "import GeneratorVariables._\n",
    "val eqgs = groupEquations(eqs)"
   ]
  },
  {
   "cell_type": "code",
   "execution_count": 11,
   "metadata": {},
   "outputs": [
    {
     "data": {
      "text/plain": [
       "\u001b[36mres10_0\u001b[39m: \u001b[32mInt\u001b[39m = \u001b[32m585\u001b[39m\n",
       "\u001b[36mres10_1\u001b[39m: \u001b[32mInt\u001b[39m = \u001b[32m809\u001b[39m"
      ]
     },
     "execution_count": 11,
     "metadata": {},
     "output_type": "execute_result"
    }
   ],
   "source": [
    "eqgs.size\n",
    "eqs.size"
   ]
  },
  {
   "cell_type": "code",
   "execution_count": 12,
   "metadata": {},
   "outputs": [
    {
     "data": {
      "text/plain": [
       "\u001b[36mres11\u001b[39m: \u001b[32mEquation\u001b[39m = \u001b[33mEquation\u001b[39m(\n",
       "  \u001b[33mFinalVal\u001b[39m(\n",
       "    \u001b[33mElem\u001b[39m(\n",
       "      \u001b[33mWrap\u001b[39m(\u001b[32m(_ : (M → (M → M))) ↦ axiom_{eqM(mul(a)(e_r))(a)}\u001b[39m),\n",
       "      \u001b[33mAtCoord\u001b[39m(FuncsWithDomain, \u001b[32m(M → (M → M))\u001b[39m :: HNil)\n",
       "    )\n",
       "  ),\n",
       "  \u001b[33mProduct\u001b[39m(\n",
       "    \u001b[33mCoeff\u001b[39m(\n",
       "      \u001b[33mIsland\u001b[39m(\n",
       "        \u001b[33mAtCoord\u001b[39m(FuncsWithDomain, \u001b[32m(M → (M → M))\u001b[39m :: HNil),\n",
       "        \u001b[33mCRV\u001b[39m(Terms),\n",
       "        \u001b[33mAddVar\u001b[39m(\u001b[32m(M → (M → M))\u001b[39m, \u001b[32m0.3\u001b[39m),\n",
       "        Lambda,\n",
       "        InIsle\n",
       "      ),\n",
       "      \u001b[33mAtCoord\u001b[39m(FuncsWithDomain, \u001b[32m(M → (M → M))\u001b[39m :: HNil)\n",
       "    ),\n",
       "    \u001b[33mFinalVal\u001b[39m(\n",
       "      \u001b[33mInIsle\u001b[39m(\n",
       "        \u001b[33mElem\u001b[39m(\u001b[32maxiom_{eqM(mul(a)(e_r))(a)}\u001b[39m, Terms),\n",
       "        \u001b[32m@a\u001b[39m,\n",
       "        \u001b[33mIsland\u001b[39m(\n",
       "          \u001b[33mAtCoord\u001b[39m(FuncsWithDomain, \u001b[32m(M → (M → M))\u001b[39m :: HNil),\n",
       "          \u001b[33mCRV\u001b[39m(Terms),\n",
       "          \u001b[33mAddVar\u001b[39m(\u001b[32m(M → (M → M))\u001b[39m, \u001b[32m0.3\u001b[39m),\n",
       "          Lambda,\n",
       "          InIsle\n",
       "        )\n",
       "      )\n",
       "    )\n",
       "  )\n",
       ")"
      ]
     },
     "execution_count": 12,
     "metadata": {},
     "output_type": "execute_result"
    }
   ],
   "source": [
    "eqgs.head"
   ]
  },
  {
   "cell_type": "code",
   "execution_count": 13,
   "metadata": {},
   "outputs": [
    {
     "data": {
      "text/plain": [
       "\u001b[36mres12\u001b[39m: \u001b[32mSet\u001b[39m[\u001b[32mExpression\u001b[39m] = \u001b[33mSet\u001b[39m(\n",
       "  \u001b[33mSum\u001b[39m(\n",
       "    \u001b[33mSum\u001b[39m(\n",
       "      \u001b[33mProduct\u001b[39m(\n",
       "        \u001b[33mProduct\u001b[39m(\u001b[33mCoeff\u001b[39m(\u001b[33mFlatMap\u001b[39m(Typs, LambdaIsle, Terms), Terms), \u001b[33mFinalVal\u001b[39m(\u001b[33mElem\u001b[39m(\u001b[32m(M → (M → M))\u001b[39m, Typs))),\n",
       "        \u001b[33mFinalVal\u001b[39m(\u001b[33mElem\u001b[39m(\u001b[32m(_ : (M → (M → M))) ↦ axiom_{eqM(mul(a)(e_r))(a)}\u001b[39m, Terms))\n",
       "      ),\n",
       "      \u001b[33mProduct\u001b[39m(\n",
       "        \u001b[33mCoeff\u001b[39m(\u001b[33mFlatMap\u001b[39m(Typs, LambdaIsle, Terms), Terms),\n",
       "        \u001b[33mFinalVal\u001b[39m(\n",
       "          \u001b[33mInIsle\u001b[39m(\n",
       "            \u001b[33mElem\u001b[39m(\u001b[32maxiom_{eqM(mul(a)(e_r))(a)}\u001b[39m, Terms),\n",
       "            \u001b[32m@a\u001b[39m,\n",
       "            \u001b[33mIsland\u001b[39m(Terms, \u001b[33mCRV\u001b[39m(Terms), \u001b[33mAddVar\u001b[39m(\u001b[32m(M → (M → M))\u001b[39m, \u001b[32m0.3\u001b[39m), Lambda, InIsle)\n",
       "          )\n",
       "        )\n",
       "      )\n",
       "    ),\n",
       "    \u001b[33mProduct\u001b[39m(\n",
       "      \u001b[33mCoeff\u001b[39m(\u001b[33mBaseThenCondition\u001b[39m(\u001b[33mFlatMap\u001b[39m(Typs, LambdaIsle, Terms), Funcs, \u001b[33mRestrict\u001b[39m(FuncOpt)), Funcs),\n",
       "      \u001b[33mFinalVal\u001b[39m(\n",
       "        \u001b[33mInIsle\u001b[39m(\n",
       "          \u001b[33mElem\u001b[39m(\u001b[32maxiom_{eqM(mul(a)(e_r))(a)}\u001b[39m, Terms),\n",
       "          \u001b[32m@a\u001b[39m,\n",
       "          \u001b[33mIsland\u001b[39m(Terms, \u001b[33mCRV\u001b[39m(Terms), \u001b[33mAddVar\u001b[39m(\u001b[32m(M → (M → M))\u001b[39m, \u001b[32m0.3\u001b[39m), Lambda, InIsle)\n",
       "        )\n",
       "      )\n",
       "    )\n",
       "  ),\n",
       "  \u001b[33mProduct\u001b[39m(\n",
       "    \u001b[33mCoeff\u001b[39m(\u001b[33mInit\u001b[39m(Terms), Terms),\n",
       "    \u001b[33mInitialVal\u001b[39m(\n",
       "      \u001b[33mInIsle\u001b[39m(\n",
       "        \u001b[33mElem\u001b[39m(\u001b[32m@a\u001b[39m, Terms),\n",
       "        \u001b[32m@a\u001b[39m,\n",
       "        \u001b[33mIsland\u001b[39m(Terms, \u001b[33mCRV\u001b[39m(Terms), \u001b[33mAddVar\u001b[39m(\u001b[32m(M → (M → M))\u001b[39m, \u001b[32m0.3\u001b[39m), Lambda, InIsle)\n",
       "      )\n",
       "    )\n",
       "  ),\n",
       "  \u001b[33mProduct\u001b[39m(\u001b[33mIsleScale\u001b[39m(\u001b[32m@a\u001b[39m, \u001b[33mElem\u001b[39m(\u001b[32m(M → (M → M))\u001b[39m, Typs)), \u001b[33mInitialVal\u001b[39m(\u001b[33mElem\u001b[39m(\u001b[32m(M → (M → M))\u001b[39m, Typs))),\n",
       "  \u001b[33mProduct\u001b[39m(\n",
       "    \u001b[33mCoeff\u001b[39m(\n",
       "      \u001b[33mIsland\u001b[39m(\n",
       "        \u001b[33mAtCoord\u001b[39m(FuncsWithDomain, \u001b[32m(M → (M → M))\u001b[39m :: HNil),\n",
       "        \u001b[33mCRV\u001b[39m(Terms),\n",
       "        \u001b[33mAddVar\u001b[39m(\u001b[32m(M → (M → M))\u001b[39m, \u001b[32m0.3\u001b[39m),\n",
       "        Lambda,\n",
       "        InIsle\n",
       "..."
      ]
     },
     "execution_count": 13,
     "metadata": {},
     "output_type": "execute_result"
    }
   ],
   "source": [
    "eqgs.map(_.rhs)"
   ]
  },
  {
   "cell_type": "code",
   "execution_count": 14,
   "metadata": {},
   "outputs": [
    {
     "data": {
      "text/plain": [
       "\u001b[36mrights\u001b[39m: \u001b[32mSet\u001b[39m[\u001b[32mVarVal\u001b[39m[\u001b[32m_\u001b[39m]] = \u001b[33mSet\u001b[39m(\n",
       "  \u001b[33mFinalVal\u001b[39m(\u001b[33mElem\u001b[39m(\u001b[32m(@a : ∏(a : M){ eqM(mul(a)(e_r))(a) }) ↦ @a\u001b[39m, Terms)),\n",
       "  \u001b[33mInitialVal\u001b[39m(\n",
       "    \u001b[33mInIsle\u001b[39m(\n",
       "      \u001b[33mElem\u001b[39m(\u001b[33mWrap\u001b[39m(\u001b[32maxiom_{(eqM(a)(b) \\to (eqM(b)(c) \\to eqM(a)(c)))}\u001b[39m), Funcs),\n",
       "      \u001b[32m@a\u001b[39m,\n",
       "      \u001b[33mIsland\u001b[39m(Terms, \u001b[33mCRV\u001b[39m(Terms), \u001b[33mAddVar\u001b[39m(\u001b[32m(M → (M → M))\u001b[39m, \u001b[32m0.3\u001b[39m), Lambda, InIsle)\n",
       "    )\n",
       "  ),\n",
       "  \u001b[33mFinalVal\u001b[39m(\n",
       "    \u001b[33mInIsle\u001b[39m(\n",
       "      \u001b[33mElem\u001b[39m(\u001b[33mWrap\u001b[39m(\u001b[32maxiom_{(eqM(a)(b) \\to (eqM(b)(c) \\to eqM(a)(c)))}\u001b[39m), Funcs),\n",
       "      \u001b[32m@a\u001b[39m,\n",
       "      \u001b[33mIsland\u001b[39m(Terms, \u001b[33mCRV\u001b[39m(Terms), \u001b[33mAddVar\u001b[39m(\u001b[32m(M → (M → M))\u001b[39m, \u001b[32m0.3\u001b[39m), Lambda, InIsle)\n",
       "    )\n",
       "  ),\n",
       "  \u001b[33mFinalVal\u001b[39m(\n",
       "    \u001b[33mInIsle\u001b[39m(\n",
       "      \u001b[33mElem\u001b[39m(\u001b[32maxiom_{eqM(mul(a)(e_r))(a)}\u001b[39m, Terms),\n",
       "      \u001b[32m@a\u001b[39m,\n",
       "      \u001b[33mIsland\u001b[39m(\n",
       "        Terms,\n",
       "        \u001b[33mCRV\u001b[39m(Terms),\n",
       "        \u001b[33mAddVar\u001b[39m(\u001b[32m∏(a : M){ ∏(b : M){ (eqM(a)(b) → eqM(b)(a)) } }\u001b[39m, \u001b[32m0.3\u001b[39m),\n",
       "        Lambda,\n",
       "        InIsle\n",
       "      )\n",
       "    )\n",
       "  ),\n",
       "  \u001b[33mInitialVal\u001b[39m(\n",
       "    \u001b[33mInIsle\u001b[39m(\n",
       "      \u001b[33mElem\u001b[39m(\u001b[32maxiom_{eqM(mul(a)(e_r))(a)}\u001b[39m, Terms),\n",
       "      \u001b[32m@a\u001b[39m,\n",
       "      \u001b[33mIsland\u001b[39m(\n",
       "        Terms,\n",
       "        \u001b[33mCRV\u001b[39m(Terms),\n",
       "        \u001b[33mAddVar\u001b[39m(\u001b[32m∏(a : M){ ∏(b : M){ (eqM(a)(b) → eqM(b)(a)) } }\u001b[39m, \u001b[32m0.3\u001b[39m),\n",
       "        Lambda,\n",
       "        InIsle\n",
       "      )\n",
       "    )\n",
       "  ),\n",
       "  \u001b[33mInitialVal\u001b[39m(\n",
       "    \u001b[33mInIsle\u001b[39m(\n",
       "      \u001b[33mElem\u001b[39m(\u001b[32me_l\u001b[39m, Terms),\n",
       "      \u001b[32m@a\u001b[39m,\n",
       "      \u001b[33mIsland\u001b[39m(\n",
       "        \u001b[33mAtCoord\u001b[39m(FuncsWithDomain, \u001b[32m(M → (M → 𝒰 ))\u001b[39m :: HNil),\n",
       "        \u001b[33mCRV\u001b[39m(Terms),\n",
       "..."
      ]
     },
     "execution_count": 14,
     "metadata": {},
     "output_type": "execute_result"
    }
   ],
   "source": [
    "val rights = eqgs.map(_.rhs).flatMap(GeneratorVariables.Expression.varVals)"
   ]
  },
  {
   "cell_type": "code",
   "execution_count": 15,
   "metadata": {},
   "outputs": [
    {
     "data": {
      "text/plain": [
       "\u001b[36mextras\u001b[39m: \u001b[32mSet\u001b[39m[\u001b[32mVarVal\u001b[39m[\u001b[32m_\u001b[39m]] = \u001b[33mSet\u001b[39m(\n",
       "  \u001b[33mInitialVal\u001b[39m(\u001b[33mElem\u001b[39m(\u001b[32mmul\u001b[39m, Terms)),\n",
       "  \u001b[33mInitialVal\u001b[39m(\u001b[33mElem\u001b[39m(\u001b[32me_r\u001b[39m, Terms)),\n",
       "  \u001b[33mInitialVal\u001b[39m(\u001b[33mElem\u001b[39m(\u001b[32maxiom_{eqM(a)(a)}\u001b[39m, Terms)),\n",
       "  \u001b[33mInitialVal\u001b[39m(\n",
       "    \u001b[33mElem\u001b[39m(\n",
       "      \u001b[33mWrap\u001b[39m(\u001b[32maxiom_{(eqM(a)(b) \\to (eqM(b)(c) \\to eqM(a)(c)))}\u001b[39m),\n",
       "      \u001b[33mAtCoord\u001b[39m(FuncsWithDomain, \u001b[32mM\u001b[39m :: HNil)\n",
       "    )\n",
       "  ),\n",
       "  \u001b[33mInitialVal\u001b[39m(\u001b[33mElem\u001b[39m(\u001b[32maxiom_{(eqM(a)(b) \\to eqM(b)(a))}\u001b[39m, Terms)),\n",
       "  \u001b[33mInitialVal\u001b[39m(\u001b[33mElem\u001b[39m(\u001b[33mWrap\u001b[39m(\u001b[32maxiom_{eqM(mul(e_l)(a))(a)}\u001b[39m), \u001b[33mAtCoord\u001b[39m(FuncsWithDomain, \u001b[32mM\u001b[39m :: HNil))),\n",
       "  \u001b[33mInitialVal\u001b[39m(\u001b[33mElem\u001b[39m(\u001b[32meqM\u001b[39m, \u001b[33mAtCoord\u001b[39m(TermsWithTyp, \u001b[32m(M → (M → 𝒰 ))\u001b[39m :: HNil))),\n",
       "  \u001b[33mInitialVal\u001b[39m(\u001b[33mElem\u001b[39m(\u001b[33mWrap\u001b[39m(\u001b[32maxiom_{eqM(a)(a)}\u001b[39m), Funcs)),\n",
       "  \u001b[33mInitialVal\u001b[39m(\u001b[33mElem\u001b[39m(\u001b[32maxiom_{(eqM(a)(b) \\to (eqM(b)(c) \\to eqM(a)(c)))}\u001b[39m, Terms)),\n",
       "  \u001b[33mInitialVal\u001b[39m(\u001b[33mElem\u001b[39m(\u001b[32m∏(a : M){ eqM(mul(e_l)(a))(a) }\u001b[39m, Typs)),\n",
       "  \u001b[33mInitialVal\u001b[39m(\u001b[33mElem\u001b[39m(\u001b[33mWrap\u001b[39m(\u001b[32maxiom_{(eqM(a)(b) \\to eqM(b)(a))}\u001b[39m), \u001b[33mAtCoord\u001b[39m(FuncsWithDomain, \u001b[32mM\u001b[39m :: HNil))),\n",
       "  \u001b[33mInitialVal\u001b[39m(\u001b[33mElem\u001b[39m(\u001b[32m∏(a : M){ ∏(b : M){ ∏(c : M){ (eqM(a)(b) → (eqM(b)(c) → eqM(a)(c))) } } }\u001b[39m, Typs)),\n",
       "  \u001b[33mInitialVal\u001b[39m(\u001b[33mElem\u001b[39m(\u001b[33mWrap\u001b[39m(\u001b[32maxiom_{eqM(mul(a)(e_r))(a)}\u001b[39m), \u001b[33mAtCoord\u001b[39m(FuncsWithDomain, \u001b[32mM\u001b[39m :: HNil))),\n",
       "  \u001b[33mInitialVal\u001b[39m(\u001b[33mElem\u001b[39m(\u001b[32m@a\u001b[39m, Terms)),\n",
       "  \u001b[33mInitialVal\u001b[39m(\u001b[33mElem\u001b[39m(\u001b[32m(M → (M → M))\u001b[39m, Typs)),\n",
       "  \u001b[33mInitialVal\u001b[39m(\u001b[33mElem\u001b[39m(\u001b[32meqM\u001b[39m, Terms)),\n",
       "  \u001b[33mInitialVal\u001b[39m(\u001b[33mElem\u001b[39m(\u001b[32m∏(a : M){ eqM(mul(a)(e_r))(a) }\u001b[39m, Typs)),\n",
       "  \u001b[33mInitialVal\u001b[39m(\u001b[33mElem\u001b[39m(\u001b[33mWrap\u001b[39m(\u001b[32maxiom_{(eqM(a)(b) \\to (eqM(b)(c) \\to eqM(a)(c)))}\u001b[39m), Funcs)),\n",
       "  \u001b[33mInitialVal\u001b[39m(\u001b[33mElem\u001b[39m(\u001b[33mWrap\u001b[39m(\u001b[32maxiom_{eqM(mul(e_l)(a))(a)}\u001b[39m), Funcs)),\n",
       "  \u001b[33mInitialVal\u001b[39m(\u001b[33mElem\u001b[39m(\u001b[33mWrap\u001b[39m(\u001b[32meqM\u001b[39m), Funcs)),\n",
       "  \u001b[33mInitialVal\u001b[39m(\u001b[33mElem\u001b[39m(\u001b[32m@a\u001b[39m, Terms)),\n",
       "  \u001b[33mInitialVal\u001b[39m(\u001b[33mElem\u001b[39m(\u001b[32m∏(a : M){ ∏(b : M){ (eqM(a)(b) → eqM(b)(a)) } }\u001b[39m, Typs)),\n",
       "  \u001b[33mInitialVal\u001b[39m(\u001b[33mElem\u001b[39m(\u001b[32mM\u001b[39m, Typs)),\n",
       "  \u001b[33mInitialVal\u001b[39m(\u001b[33mElem\u001b[39m(\u001b[33mWrap\u001b[39m(\u001b[32maxiom_{eqM(a)(a)}\u001b[39m), \u001b[33mAtCoord\u001b[39m(FuncsWithDomain, \u001b[32mM\u001b[39m :: HNil))),\n",
       "  \u001b[33mInitialVal\u001b[39m(\u001b[33mElem\u001b[39m(\u001b[33mWrap\u001b[39m(\u001b[32maxiom_{eqM(mul(a)(e_r))(a)}\u001b[39m), Funcs)),\n",
       "  \u001b[33mInitialVal\u001b[39m(\u001b[33mElem\u001b[39m(\u001b[32m@a\u001b[39m, Terms)),\n",
       "  \u001b[33mInitialVal\u001b[39m(\u001b[33mElem\u001b[39m(\u001b[33mWrap\u001b[39m(\u001b[32m@a\u001b[39m), Funcs)),\n",
       "  \u001b[33mInitialVal\u001b[39m(\u001b[33mElem\u001b[39m(\u001b[32m@a\u001b[39m, Terms)),\n",
       "  \u001b[33mInitialVal\u001b[39m(\u001b[33mElem\u001b[39m(\u001b[32m@a\u001b[39m, Terms)),\n",
       "  \u001b[33mInitialVal\u001b[39m(\u001b[33mElem\u001b[39m(\u001b[32m@a\u001b[39m, Terms)),\n",
       "  \u001b[33mInitialVal\u001b[39m(\u001b[33mElem\u001b[39m(\u001b[33mWrap\u001b[39m(\u001b[32mmul\u001b[39m), Funcs)),\n",
       "  \u001b[33mInitialVal\u001b[39m(\u001b[33mElem\u001b[39m(\u001b[33mWrap\u001b[39m(\u001b[32m@a\u001b[39m), Funcs)),\n",
       "  \u001b[33mInitialVal\u001b[39m(\u001b[33mElem\u001b[39m(\u001b[32maxiom_{eqM(mul(e_l)(a))(a)}\u001b[39m, Terms)),\n",
       "  \u001b[33mInitialVal\u001b[39m(\u001b[33mElem\u001b[39m(\u001b[33mWrap\u001b[39m(\u001b[32mmul\u001b[39m), \u001b[33mAtCoord\u001b[39m(FuncsWithDomain, \u001b[32mM\u001b[39m :: HNil))),\n",
       "  \u001b[33mInitialVal\u001b[39m(\u001b[33mElem\u001b[39m(\u001b[33mWrap\u001b[39m(\u001b[32maxiom_{(eqM(a)(b) \\to eqM(b)(a))}\u001b[39m), Funcs)),\n",
       "  \u001b[33mInitialVal\u001b[39m(\u001b[33mElem\u001b[39m(\u001b[32m@a\u001b[39m, Terms)),\n",
       "  \u001b[33mInitialVal\u001b[39m(\u001b[33mElem\u001b[39m(\u001b[32m∏(a : M){ eqM(a)(a) }\u001b[39m, Typs)),\n",
       "  \u001b[33mInitialVal\u001b[39m(\u001b[33mElem\u001b[39m(\u001b[32me_r\u001b[39m, \u001b[33mAtCoord\u001b[39m(TermsWithTyp, \u001b[32mM\u001b[39m :: HNil))),\n",
       "  \u001b[33mInitialVal\u001b[39m(\u001b[33mElem\u001b[39m(\u001b[32mmul\u001b[39m, \u001b[33mAtCoord\u001b[39m(TermsWithTyp, \u001b[32m(M → (M → M))\u001b[39m :: HNil))),\n",
       "  \u001b[33mInitialVal\u001b[39m(\u001b[33mElem\u001b[39m(\u001b[32m(M → (M → 𝒰 ))\u001b[39m, Typs)),\n",
       "  \u001b[33mInitialVal\u001b[39m(\u001b[33mElem\u001b[39m(\u001b[32me_l\u001b[39m, \u001b[33mAtCoord\u001b[39m(TermsWithTyp, \u001b[32mM\u001b[39m :: HNil))),\n",
       "  \u001b[33mInitialVal\u001b[39m(\u001b[33mElem\u001b[39m(\u001b[32m@a\u001b[39m, Terms)),\n",
       "  \u001b[33mInitialVal\u001b[39m(\u001b[33mElem\u001b[39m(\u001b[32maxiom_{eqM(mul(a)(e_r))(a)}\u001b[39m, Terms)),\n",
       "..."
      ]
     },
     "execution_count": 15,
     "metadata": {},
     "output_type": "execute_result"
    }
   ],
   "source": [
    "val extras = rights -- lefts.flatMap(GeneratorVariables.Expression.varVals)"
   ]
  },
  {
   "cell_type": "code",
   "execution_count": 16,
   "metadata": {},
   "outputs": [
    {
     "data": {
      "text/plain": [
       "\u001b[36mres15\u001b[39m: \u001b[32mInt\u001b[39m = \u001b[32m46\u001b[39m"
      ]
     },
     "execution_count": 16,
     "metadata": {},
     "output_type": "execute_result"
    }
   ],
   "source": [
    "extras.size"
   ]
  },
  {
   "cell_type": "code",
   "execution_count": 17,
   "metadata": {},
   "outputs": [
    {
     "data": {
      "text/plain": [
       "\u001b[36mres16_0\u001b[39m: \u001b[32mInt\u001b[39m = \u001b[32m585\u001b[39m\n",
       "\u001b[36mres16_1\u001b[39m: \u001b[32mInt\u001b[39m = \u001b[32m459\u001b[39m"
      ]
     },
     "execution_count": 17,
     "metadata": {},
     "output_type": "execute_result"
    }
   ],
   "source": [
    "lefts.size\n",
    "rights.size"
   ]
  },
  {
   "cell_type": "code",
   "execution_count": 18,
   "metadata": {},
   "outputs": [
    {
     "data": {
      "text/plain": [
       "\u001b[36mres17\u001b[39m: \u001b[32mSet\u001b[39m[\u001b[32mExpression\u001b[39m] = \u001b[33mSet\u001b[39m(\n",
       "  \u001b[33mFinalVal\u001b[39m(\u001b[33mElem\u001b[39m(\u001b[32m(@a : ∏(a : M){ eqM(mul(a)(e_r))(a) }) ↦ @a\u001b[39m, Terms)),\n",
       "  \u001b[33mFinalVal\u001b[39m(\n",
       "    \u001b[33mInIsle\u001b[39m(\n",
       "      \u001b[33mElem\u001b[39m(\u001b[33mWrap\u001b[39m(\u001b[32maxiom_{(eqM(a)(b) \\to (eqM(b)(c) \\to eqM(a)(c)))}\u001b[39m), Funcs),\n",
       "      \u001b[32m@a\u001b[39m,\n",
       "      \u001b[33mIsland\u001b[39m(Terms, \u001b[33mCRV\u001b[39m(Terms), \u001b[33mAddVar\u001b[39m(\u001b[32m(M → (M → M))\u001b[39m, \u001b[32m0.3\u001b[39m), Lambda, InIsle)\n",
       "    )\n",
       "  ),\n",
       "  \u001b[33mInitialVal\u001b[39m(\n",
       "    \u001b[33mInIsle\u001b[39m(\n",
       "      \u001b[33mElem\u001b[39m(\u001b[33mWrap\u001b[39m(\u001b[32maxiom_{(eqM(a)(b) \\to (eqM(b)(c) \\to eqM(a)(c)))}\u001b[39m), Funcs),\n",
       "      \u001b[32m@a\u001b[39m,\n",
       "      \u001b[33mIsland\u001b[39m(Terms, \u001b[33mCRV\u001b[39m(Terms), \u001b[33mAddVar\u001b[39m(\u001b[32m(M → (M → M))\u001b[39m, \u001b[32m0.3\u001b[39m), Lambda, InIsle)\n",
       "    )\n",
       "  ),\n",
       "  \u001b[33mInitialVal\u001b[39m(\n",
       "    \u001b[33mInIsle\u001b[39m(\n",
       "      \u001b[33mElem\u001b[39m(\u001b[32maxiom_{eqM(mul(a)(e_r))(a)}\u001b[39m, Terms),\n",
       "      \u001b[32m@a\u001b[39m,\n",
       "      \u001b[33mIsland\u001b[39m(\n",
       "        Terms,\n",
       "        \u001b[33mCRV\u001b[39m(Terms),\n",
       "        \u001b[33mAddVar\u001b[39m(\u001b[32m∏(a : M){ ∏(b : M){ (eqM(a)(b) → eqM(b)(a)) } }\u001b[39m, \u001b[32m0.3\u001b[39m),\n",
       "        Lambda,\n",
       "        InIsle\n",
       "      )\n",
       "    )\n",
       "  ),\n",
       "  \u001b[33mFinalVal\u001b[39m(\n",
       "    \u001b[33mInIsle\u001b[39m(\n",
       "      \u001b[33mElem\u001b[39m(\u001b[32maxiom_{eqM(mul(a)(e_r))(a)}\u001b[39m, Terms),\n",
       "      \u001b[32m@a\u001b[39m,\n",
       "      \u001b[33mIsland\u001b[39m(\n",
       "        Terms,\n",
       "        \u001b[33mCRV\u001b[39m(Terms),\n",
       "        \u001b[33mAddVar\u001b[39m(\u001b[32m∏(a : M){ ∏(b : M){ (eqM(a)(b) → eqM(b)(a)) } }\u001b[39m, \u001b[32m0.3\u001b[39m),\n",
       "        Lambda,\n",
       "        InIsle\n",
       "      )\n",
       "    )\n",
       "  ),\n",
       "  \u001b[33mFinalVal\u001b[39m(\n",
       "    \u001b[33mElem\u001b[39m(\n",
       "      \u001b[32m((M → (M → M)) → ∏(a : M){ ∏(b : M){ ∏(c : M){ (eqM(a)(b) → (eqM(b)(c) → eqM(a)(c))) } } })\u001b[39m,\n",
       "      Typs\n",
       "    )\n",
       "  ),\n",
       "  \u001b[33mFinalVal\u001b[39m(\n",
       "..."
      ]
     },
     "execution_count": 18,
     "metadata": {},
     "output_type": "execute_result"
    }
   ],
   "source": [
    "lefts.take(20)"
   ]
  },
  {
   "cell_type": "code",
   "execution_count": 19,
   "metadata": {},
   "outputs": [
    {
     "data": {
      "text/plain": [
       "\u001b[32mimport \u001b[39m\u001b[36mGeneratorVariables.Expression.varVals\n",
       "\u001b[39m\n",
       "\u001b[36megEq\u001b[39m: \u001b[32mOption\u001b[39m[\u001b[32mEquation\u001b[39m] = \u001b[33mSome\u001b[39m(\n",
       "  \u001b[33mEquation\u001b[39m(\n",
       "    \u001b[33mInitialVal\u001b[39m(\n",
       "      \u001b[33mInIsle\u001b[39m(\n",
       "        \u001b[33mElem\u001b[39m(\u001b[32m∏(a : M){ eqM(mul(e_l)(a))(a) }\u001b[39m, Typs),\n",
       "        \u001b[32m@a\u001b[39m,\n",
       "        \u001b[33mIsland\u001b[39m(Typs, \u001b[33mCRV\u001b[39m(Typs), \u001b[33mAddVar\u001b[39m(\u001b[32m(M → (M → M))\u001b[39m, \u001b[32m0.3\u001b[39m), Sigma, InIsle)\n",
       "      )\n",
       "    ),\n",
       "    \u001b[33mProduct\u001b[39m(\n",
       "      \u001b[33mIsleScale\u001b[39m(\u001b[32m@a\u001b[39m, \u001b[33mElem\u001b[39m(\u001b[32m∏(a : M){ eqM(mul(e_l)(a))(a) }\u001b[39m, Typs)),\n",
       "      \u001b[33mInitialVal\u001b[39m(\u001b[33mElem\u001b[39m(\u001b[32m∏(a : M){ eqM(mul(e_l)(a))(a) }\u001b[39m, Typs))\n",
       "    )\n",
       "  )\n",
       ")"
      ]
     },
     "execution_count": 19,
     "metadata": {},
     "output_type": "execute_result"
    }
   ],
   "source": [
    "import GeneratorVariables.Expression.varVals\n",
    "val egEq = eqgs.find(eq => varVals(eq.rhs).intersect(extras).nonEmpty)"
   ]
  },
  {
   "cell_type": "code",
   "execution_count": 20,
   "metadata": {},
   "outputs": [
    {
     "data": {
      "text/plain": [
       "\u001b[36mres19\u001b[39m: \u001b[32mExpression\u001b[39m = \u001b[33mInitialVal\u001b[39m(\n",
       "  \u001b[33mInIsle\u001b[39m(\n",
       "    \u001b[33mElem\u001b[39m(\u001b[32m∏(a : M){ eqM(mul(e_l)(a))(a) }\u001b[39m, Typs),\n",
       "    \u001b[32m@a\u001b[39m,\n",
       "    \u001b[33mIsland\u001b[39m(Typs, \u001b[33mCRV\u001b[39m(Typs), \u001b[33mAddVar\u001b[39m(\u001b[32m(M → (M → M))\u001b[39m, \u001b[32m0.3\u001b[39m), Sigma, InIsle)\n",
       "  )\n",
       ")"
      ]
     },
     "execution_count": 20,
     "metadata": {},
     "output_type": "execute_result"
    }
   ],
   "source": [
    "egEq.get.lhs"
   ]
  },
  {
   "cell_type": "code",
   "execution_count": 21,
   "metadata": {},
   "outputs": [
    {
     "data": {
      "text/plain": [
       "\u001b[36mres20\u001b[39m: \u001b[32mString\u001b[39m = \u001b[32m\"(P\\u2080(InIsle((a : M ) ~> (((eqM) (((mul) (e_l)) (a))) (a)) \\u2208 Typs,@a,Island(Typs,Typs,AddVar,Sigma,InIsle)))) == ((IsleScale(@a,(a : M ) ~> (((eqM) (((mul) (e_l)) (a))) (a)) \\u2208 Typs)) * (P\\u2080((a : M ) ~> (((eqM) (((mul) (e_l)) (a))) (a)) \\u2208 Typs)))\"\u001b[39m"
      ]
     },
     "execution_count": 21,
     "metadata": {},
     "output_type": "execute_result"
    }
   ],
   "source": [
    "egEq.get.toString"
   ]
  },
  {
   "cell_type": "code",
   "execution_count": 22,
   "metadata": {},
   "outputs": [
    {
     "data": {
      "text/plain": [
       "\u001b[36mres21_0\u001b[39m: \u001b[32mSet\u001b[39m[\u001b[32mVarVal\u001b[39m[\u001b[32m_\u001b[39m]] = \u001b[33mSet\u001b[39m(\u001b[33mInitialVal\u001b[39m(\u001b[33mElem\u001b[39m(\u001b[32m∏(a : M){ eqM(mul(e_l)(a))(a) }\u001b[39m, Typs)))\n",
       "\u001b[36mres21_1\u001b[39m: \u001b[32mSet\u001b[39m[\u001b[32mVarVal\u001b[39m[\u001b[32m_\u001b[39m]] = \u001b[33mSet\u001b[39m(\u001b[33mInitialVal\u001b[39m(\u001b[33mElem\u001b[39m(\u001b[32m∏(a : M){ eqM(mul(e_l)(a))(a) }\u001b[39m, Typs)))"
      ]
     },
     "execution_count": 22,
     "metadata": {},
     "output_type": "execute_result"
    }
   ],
   "source": [
    "varVals(egEq.get.rhs)\n",
    "varVals(egEq.get.rhs).intersect(extras)"
   ]
  },
  {
   "cell_type": "markdown",
   "metadata": {},
   "source": [
    "__Note:__ This may not be an error as we may simply have too low cutoff to get any terms on the rhs.\n",
    "\n",
    "As we see below (which will change after a corrections), most of the extras are initial values in islands, which should be paired with those outside."
   ]
  },
  {
   "cell_type": "code",
   "execution_count": 23,
   "metadata": {},
   "outputs": [
    {
     "data": {
      "text/plain": [
       "\u001b[36minitExtras\u001b[39m: \u001b[32mSet\u001b[39m[\u001b[32mVarVal\u001b[39m[\u001b[32m_\u001b[39m]] = \u001b[33mSet\u001b[39m(\n",
       "  \u001b[33mInitialVal\u001b[39m(\u001b[33mElem\u001b[39m(\u001b[32mmul\u001b[39m, Terms)),\n",
       "  \u001b[33mInitialVal\u001b[39m(\u001b[33mElem\u001b[39m(\u001b[32me_r\u001b[39m, Terms)),\n",
       "  \u001b[33mInitialVal\u001b[39m(\u001b[33mElem\u001b[39m(\u001b[32maxiom_{eqM(a)(a)}\u001b[39m, Terms)),\n",
       "  \u001b[33mInitialVal\u001b[39m(\n",
       "    \u001b[33mElem\u001b[39m(\n",
       "      \u001b[33mWrap\u001b[39m(\u001b[32maxiom_{(eqM(a)(b) \\to (eqM(b)(c) \\to eqM(a)(c)))}\u001b[39m),\n",
       "      \u001b[33mAtCoord\u001b[39m(FuncsWithDomain, \u001b[32mM\u001b[39m :: HNil)\n",
       "    )\n",
       "  ),\n",
       "  \u001b[33mInitialVal\u001b[39m(\u001b[33mElem\u001b[39m(\u001b[32maxiom_{(eqM(a)(b) \\to eqM(b)(a))}\u001b[39m, Terms)),\n",
       "  \u001b[33mInitialVal\u001b[39m(\u001b[33mElem\u001b[39m(\u001b[33mWrap\u001b[39m(\u001b[32maxiom_{eqM(mul(e_l)(a))(a)}\u001b[39m), \u001b[33mAtCoord\u001b[39m(FuncsWithDomain, \u001b[32mM\u001b[39m :: HNil))),\n",
       "  \u001b[33mInitialVal\u001b[39m(\u001b[33mElem\u001b[39m(\u001b[32meqM\u001b[39m, \u001b[33mAtCoord\u001b[39m(TermsWithTyp, \u001b[32m(M → (M → 𝒰 ))\u001b[39m :: HNil))),\n",
       "  \u001b[33mInitialVal\u001b[39m(\u001b[33mElem\u001b[39m(\u001b[33mWrap\u001b[39m(\u001b[32maxiom_{eqM(a)(a)}\u001b[39m), Funcs)),\n",
       "  \u001b[33mInitialVal\u001b[39m(\u001b[33mElem\u001b[39m(\u001b[32maxiom_{(eqM(a)(b) \\to (eqM(b)(c) \\to eqM(a)(c)))}\u001b[39m, Terms)),\n",
       "  \u001b[33mInitialVal\u001b[39m(\u001b[33mElem\u001b[39m(\u001b[32m∏(a : M){ eqM(mul(e_l)(a))(a) }\u001b[39m, Typs)),\n",
       "  \u001b[33mInitialVal\u001b[39m(\u001b[33mElem\u001b[39m(\u001b[33mWrap\u001b[39m(\u001b[32maxiom_{(eqM(a)(b) \\to eqM(b)(a))}\u001b[39m), \u001b[33mAtCoord\u001b[39m(FuncsWithDomain, \u001b[32mM\u001b[39m :: HNil))),\n",
       "  \u001b[33mInitialVal\u001b[39m(\u001b[33mElem\u001b[39m(\u001b[32m∏(a : M){ ∏(b : M){ ∏(c : M){ (eqM(a)(b) → (eqM(b)(c) → eqM(a)(c))) } } }\u001b[39m, Typs)),\n",
       "  \u001b[33mInitialVal\u001b[39m(\u001b[33mElem\u001b[39m(\u001b[33mWrap\u001b[39m(\u001b[32maxiom_{eqM(mul(a)(e_r))(a)}\u001b[39m), \u001b[33mAtCoord\u001b[39m(FuncsWithDomain, \u001b[32mM\u001b[39m :: HNil))),\n",
       "  \u001b[33mInitialVal\u001b[39m(\u001b[33mElem\u001b[39m(\u001b[32m@a\u001b[39m, Terms)),\n",
       "  \u001b[33mInitialVal\u001b[39m(\u001b[33mElem\u001b[39m(\u001b[32m(M → (M → M))\u001b[39m, Typs)),\n",
       "  \u001b[33mInitialVal\u001b[39m(\u001b[33mElem\u001b[39m(\u001b[32meqM\u001b[39m, Terms)),\n",
       "  \u001b[33mInitialVal\u001b[39m(\u001b[33mElem\u001b[39m(\u001b[32m∏(a : M){ eqM(mul(a)(e_r))(a) }\u001b[39m, Typs)),\n",
       "  \u001b[33mInitialVal\u001b[39m(\u001b[33mElem\u001b[39m(\u001b[33mWrap\u001b[39m(\u001b[32maxiom_{(eqM(a)(b) \\to (eqM(b)(c) \\to eqM(a)(c)))}\u001b[39m), Funcs)),\n",
       "  \u001b[33mInitialVal\u001b[39m(\u001b[33mElem\u001b[39m(\u001b[33mWrap\u001b[39m(\u001b[32maxiom_{eqM(mul(e_l)(a))(a)}\u001b[39m), Funcs)),\n",
       "  \u001b[33mInitialVal\u001b[39m(\u001b[33mElem\u001b[39m(\u001b[33mWrap\u001b[39m(\u001b[32meqM\u001b[39m), Funcs)),\n",
       "  \u001b[33mInitialVal\u001b[39m(\u001b[33mElem\u001b[39m(\u001b[32m@a\u001b[39m, Terms)),\n",
       "  \u001b[33mInitialVal\u001b[39m(\u001b[33mElem\u001b[39m(\u001b[32m∏(a : M){ ∏(b : M){ (eqM(a)(b) → eqM(b)(a)) } }\u001b[39m, Typs)),\n",
       "  \u001b[33mInitialVal\u001b[39m(\u001b[33mElem\u001b[39m(\u001b[32mM\u001b[39m, Typs)),\n",
       "  \u001b[33mInitialVal\u001b[39m(\u001b[33mElem\u001b[39m(\u001b[33mWrap\u001b[39m(\u001b[32maxiom_{eqM(a)(a)}\u001b[39m), \u001b[33mAtCoord\u001b[39m(FuncsWithDomain, \u001b[32mM\u001b[39m :: HNil))),\n",
       "  \u001b[33mInitialVal\u001b[39m(\u001b[33mElem\u001b[39m(\u001b[33mWrap\u001b[39m(\u001b[32maxiom_{eqM(mul(a)(e_r))(a)}\u001b[39m), Funcs)),\n",
       "  \u001b[33mInitialVal\u001b[39m(\u001b[33mElem\u001b[39m(\u001b[32m@a\u001b[39m, Terms)),\n",
       "  \u001b[33mInitialVal\u001b[39m(\u001b[33mElem\u001b[39m(\u001b[33mWrap\u001b[39m(\u001b[32m@a\u001b[39m), Funcs)),\n",
       "  \u001b[33mInitialVal\u001b[39m(\u001b[33mElem\u001b[39m(\u001b[32m@a\u001b[39m, Terms)),\n",
       "  \u001b[33mInitialVal\u001b[39m(\u001b[33mElem\u001b[39m(\u001b[32m@a\u001b[39m, Terms)),\n",
       "  \u001b[33mInitialVal\u001b[39m(\u001b[33mElem\u001b[39m(\u001b[32m@a\u001b[39m, Terms)),\n",
       "  \u001b[33mInitialVal\u001b[39m(\u001b[33mElem\u001b[39m(\u001b[33mWrap\u001b[39m(\u001b[32mmul\u001b[39m), Funcs)),\n",
       "  \u001b[33mInitialVal\u001b[39m(\u001b[33mElem\u001b[39m(\u001b[33mWrap\u001b[39m(\u001b[32m@a\u001b[39m), Funcs)),\n",
       "  \u001b[33mInitialVal\u001b[39m(\u001b[33mElem\u001b[39m(\u001b[32maxiom_{eqM(mul(e_l)(a))(a)}\u001b[39m, Terms)),\n",
       "  \u001b[33mInitialVal\u001b[39m(\u001b[33mElem\u001b[39m(\u001b[33mWrap\u001b[39m(\u001b[32mmul\u001b[39m), \u001b[33mAtCoord\u001b[39m(FuncsWithDomain, \u001b[32mM\u001b[39m :: HNil))),\n",
       "  \u001b[33mInitialVal\u001b[39m(\u001b[33mElem\u001b[39m(\u001b[33mWrap\u001b[39m(\u001b[32maxiom_{(eqM(a)(b) \\to eqM(b)(a))}\u001b[39m), Funcs)),\n",
       "  \u001b[33mInitialVal\u001b[39m(\u001b[33mElem\u001b[39m(\u001b[32m@a\u001b[39m, Terms)),\n",
       "  \u001b[33mInitialVal\u001b[39m(\u001b[33mElem\u001b[39m(\u001b[32m∏(a : M){ eqM(a)(a) }\u001b[39m, Typs)),\n",
       "  \u001b[33mInitialVal\u001b[39m(\u001b[33mElem\u001b[39m(\u001b[32me_r\u001b[39m, \u001b[33mAtCoord\u001b[39m(TermsWithTyp, \u001b[32mM\u001b[39m :: HNil))),\n",
       "  \u001b[33mInitialVal\u001b[39m(\u001b[33mElem\u001b[39m(\u001b[32mmul\u001b[39m, \u001b[33mAtCoord\u001b[39m(TermsWithTyp, \u001b[32m(M → (M → M))\u001b[39m :: HNil))),\n",
       "  \u001b[33mInitialVal\u001b[39m(\u001b[33mElem\u001b[39m(\u001b[32m(M → (M → 𝒰 ))\u001b[39m, Typs)),\n",
       "  \u001b[33mInitialVal\u001b[39m(\u001b[33mElem\u001b[39m(\u001b[32me_l\u001b[39m, \u001b[33mAtCoord\u001b[39m(TermsWithTyp, \u001b[32mM\u001b[39m :: HNil))),\n",
       "  \u001b[33mInitialVal\u001b[39m(\u001b[33mElem\u001b[39m(\u001b[32m@a\u001b[39m, Terms)),\n",
       "  \u001b[33mInitialVal\u001b[39m(\u001b[33mElem\u001b[39m(\u001b[32maxiom_{eqM(mul(a)(e_r))(a)}\u001b[39m, Terms)),\n",
       "..."
      ]
     },
     "execution_count": 23,
     "metadata": {},
     "output_type": "execute_result"
    }
   ],
   "source": [
    "val initExtras = extras.filter(_.isInstanceOf[InitialVal[_]])"
   ]
  },
  {
   "cell_type": "code",
   "execution_count": 24,
   "metadata": {},
   "outputs": [
    {
     "data": {
      "text/plain": [
       "\u001b[36mres23\u001b[39m: \u001b[32mInt\u001b[39m = \u001b[32m46\u001b[39m"
      ]
     },
     "execution_count": 24,
     "metadata": {},
     "output_type": "execute_result"
    }
   ],
   "source": [
    "initExtras.size"
   ]
  },
  {
   "cell_type": "code",
   "execution_count": 25,
   "metadata": {},
   "outputs": [
    {
     "data": {
      "text/plain": [
       "\u001b[36mres24\u001b[39m: \u001b[32mInt\u001b[39m = \u001b[32m46\u001b[39m"
      ]
     },
     "execution_count": 25,
     "metadata": {},
     "output_type": "execute_result"
    }
   ],
   "source": [
    "extras.size"
   ]
  },
  {
   "cell_type": "code",
   "execution_count": 26,
   "metadata": {},
   "outputs": [
    {
     "data": {
      "text/plain": [
       "\u001b[36mres25\u001b[39m: \u001b[32mSet\u001b[39m[\u001b[32mExpression\u001b[39m] = \u001b[33mSet\u001b[39m(\n",
       "  \u001b[33mInitialVal\u001b[39m(\n",
       "    \u001b[33mInIsle\u001b[39m(\n",
       "      \u001b[33mElem\u001b[39m(\u001b[33mWrap\u001b[39m(\u001b[32maxiom_{(eqM(a)(b) \\to (eqM(b)(c) \\to eqM(a)(c)))}\u001b[39m), Funcs),\n",
       "      \u001b[32m@a\u001b[39m,\n",
       "      \u001b[33mIsland\u001b[39m(Terms, \u001b[33mCRV\u001b[39m(Terms), \u001b[33mAddVar\u001b[39m(\u001b[32m(M → (M → M))\u001b[39m, \u001b[32m0.3\u001b[39m), Lambda, InIsle)\n",
       "    )\n",
       "  ),\n",
       "  \u001b[33mInitialVal\u001b[39m(\n",
       "    \u001b[33mInIsle\u001b[39m(\n",
       "      \u001b[33mElem\u001b[39m(\u001b[32maxiom_{eqM(mul(a)(e_r))(a)}\u001b[39m, Terms),\n",
       "      \u001b[32m@a\u001b[39m,\n",
       "      \u001b[33mIsland\u001b[39m(\n",
       "        Terms,\n",
       "        \u001b[33mCRV\u001b[39m(Terms),\n",
       "        \u001b[33mAddVar\u001b[39m(\u001b[32m∏(a : M){ ∏(b : M){ (eqM(a)(b) → eqM(b)(a)) } }\u001b[39m, \u001b[32m0.3\u001b[39m),\n",
       "        Lambda,\n",
       "        InIsle\n",
       "      )\n",
       "    )\n",
       "  ),\n",
       "  \u001b[33mInitialVal\u001b[39m(\n",
       "    \u001b[33mInIsle\u001b[39m(\n",
       "      \u001b[33mElem\u001b[39m(\u001b[32me_l\u001b[39m, Terms),\n",
       "      \u001b[32m@a\u001b[39m,\n",
       "      \u001b[33mIsland\u001b[39m(\n",
       "        \u001b[33mAtCoord\u001b[39m(FuncsWithDomain, \u001b[32m(M → (M → 𝒰 ))\u001b[39m :: HNil),\n",
       "        \u001b[33mCRV\u001b[39m(Terms),\n",
       "        \u001b[33mAddVar\u001b[39m(\u001b[32m(M → (M → 𝒰 ))\u001b[39m, \u001b[32m0.3\u001b[39m),\n",
       "        Lambda,\n",
       "        InIsle\n",
       "      )\n",
       "    )\n",
       "  ),\n",
       "  \u001b[33mInitialVal\u001b[39m(\n",
       "    \u001b[33mInIsle\u001b[39m(\n",
       "      \u001b[33mElem\u001b[39m(\u001b[33mWrap\u001b[39m(\u001b[32m@a\u001b[39m), Funcs),\n",
       "      \u001b[32m@a\u001b[39m,\n",
       "      \u001b[33mIsland\u001b[39m(Terms, \u001b[33mCRV\u001b[39m(Terms), \u001b[33mAddVar\u001b[39m(\u001b[32m(M → (M → M))\u001b[39m, \u001b[32m0.3\u001b[39m), Lambda, InIsle)\n",
       "    )\n",
       "  ),\n",
       "  \u001b[33mInitialVal\u001b[39m(\n",
       "    \u001b[33mInIsle\u001b[39m(\n",
       "      \u001b[33mElem\u001b[39m(\u001b[32me_r\u001b[39m, Terms),\n",
       "      \u001b[32m@a\u001b[39m,\n",
       "      \u001b[33mIsland\u001b[39m(Terms, \u001b[33mCRV\u001b[39m(Terms), \u001b[33mAddVar\u001b[39m(\u001b[32m∏(a : M){ eqM(a)(a) }\u001b[39m, \u001b[32m0.3\u001b[39m), Lambda, InIsle)\n",
       "    )\n",
       "  ),\n",
       "  \u001b[33mInitialVal\u001b[39m(\n",
       "..."
      ]
     },
     "execution_count": 26,
     "metadata": {},
     "output_type": "execute_result"
    }
   ],
   "source": [
    "lefts.filter(_.isInstanceOf[InitialVal[_]])"
   ]
  },
  {
   "cell_type": "code",
   "execution_count": 27,
   "metadata": {},
   "outputs": [
    {
     "data": {
      "text/plain": [
       "\u001b[36mlinits\u001b[39m: \u001b[32mSet\u001b[39m[\u001b[32mEquation\u001b[39m] = \u001b[33mSet\u001b[39m(\n",
       "  \u001b[33mEquation\u001b[39m(\n",
       "    \u001b[33mInitialVal\u001b[39m(\n",
       "      \u001b[33mInIsle\u001b[39m(\n",
       "        \u001b[33mElem\u001b[39m(\u001b[32m∏(a : M){ eqM(mul(e_l)(a))(a) }\u001b[39m, Typs),\n",
       "        \u001b[32m@a\u001b[39m,\n",
       "        \u001b[33mIsland\u001b[39m(Typs, \u001b[33mCRV\u001b[39m(Typs), \u001b[33mAddVar\u001b[39m(\u001b[32m(M → (M → M))\u001b[39m, \u001b[32m0.3\u001b[39m), Sigma, InIsle)\n",
       "      )\n",
       "    ),\n",
       "    \u001b[33mProduct\u001b[39m(\n",
       "      \u001b[33mIsleScale\u001b[39m(\u001b[32m@a\u001b[39m, \u001b[33mElem\u001b[39m(\u001b[32m∏(a : M){ eqM(mul(e_l)(a))(a) }\u001b[39m, Typs)),\n",
       "      \u001b[33mInitialVal\u001b[39m(\u001b[33mElem\u001b[39m(\u001b[32m∏(a : M){ eqM(mul(e_l)(a))(a) }\u001b[39m, Typs))\n",
       "    )\n",
       "  ),\n",
       "  \u001b[33mEquation\u001b[39m(\n",
       "    \u001b[33mInitialVal\u001b[39m(\n",
       "      \u001b[33mInIsle\u001b[39m(\n",
       "        \u001b[33mElem\u001b[39m(\u001b[32me_r\u001b[39m, Terms),\n",
       "        \u001b[32m@a\u001b[39m,\n",
       "        \u001b[33mIsland\u001b[39m(\n",
       "          \u001b[33mAtCoord\u001b[39m(FuncsWithDomain, \u001b[32m(M → (M → M))\u001b[39m :: HNil),\n",
       "          \u001b[33mCRV\u001b[39m(Terms),\n",
       "          \u001b[33mAddVar\u001b[39m(\u001b[32m(M → (M → M))\u001b[39m, \u001b[32m0.3\u001b[39m),\n",
       "          Lambda,\n",
       "          InIsle\n",
       "        )\n",
       "      )\n",
       "    ),\n",
       "    \u001b[33mProduct\u001b[39m(\u001b[33mIsleScale\u001b[39m(\u001b[32m@a\u001b[39m, \u001b[33mElem\u001b[39m(\u001b[32me_r\u001b[39m, Terms)), \u001b[33mInitialVal\u001b[39m(\u001b[33mElem\u001b[39m(\u001b[32me_r\u001b[39m, Terms)))\n",
       "  ),\n",
       "  \u001b[33mEquation\u001b[39m(\n",
       "    \u001b[33mInitialVal\u001b[39m(\n",
       "      \u001b[33mInIsle\u001b[39m(\n",
       "        \u001b[33mElem\u001b[39m(\u001b[32mmul\u001b[39m, Terms),\n",
       "        \u001b[32m@a\u001b[39m,\n",
       "        \u001b[33mIsland\u001b[39m(\n",
       "          \u001b[33mAtCoord\u001b[39m(FuncsWithDomain, \u001b[32m(M → (M → M))\u001b[39m :: HNil),\n",
       "          \u001b[33mCRV\u001b[39m(Terms),\n",
       "          \u001b[33mAddVar\u001b[39m(\u001b[32m(M → (M → M))\u001b[39m, \u001b[32m0.3\u001b[39m),\n",
       "          Lambda,\n",
       "          InIsle\n",
       "        )\n",
       "      )\n",
       "    ),\n",
       "    \u001b[33mProduct\u001b[39m(\u001b[33mIsleScale\u001b[39m(\u001b[32m@a\u001b[39m, \u001b[33mElem\u001b[39m(\u001b[32mmul\u001b[39m, Terms)), \u001b[33mInitialVal\u001b[39m(\u001b[33mElem\u001b[39m(\u001b[32mmul\u001b[39m, Terms)))\n",
       "  ),\n",
       "  \u001b[33mEquation\u001b[39m(\n",
       "    \u001b[33mInitialVal\u001b[39m(\n",
       "      \u001b[33mInIsle\u001b[39m(\n",
       "..."
      ]
     },
     "execution_count": 27,
     "metadata": {},
     "output_type": "execute_result"
    }
   ],
   "source": [
    "val linits = eqgs.filter(_.lhs.isInstanceOf[InitialVal[_]])"
   ]
  },
  {
   "cell_type": "code",
   "execution_count": 28,
   "metadata": {},
   "outputs": [
    {
     "data": {
      "text/plain": [
       "\u001b[36mres27\u001b[39m: \u001b[32mInt\u001b[39m = \u001b[32m164\u001b[39m"
      ]
     },
     "execution_count": 28,
     "metadata": {},
     "output_type": "execute_result"
    }
   ],
   "source": [
    "linits.size"
   ]
  },
  {
   "cell_type": "code",
   "execution_count": 29,
   "metadata": {},
   "outputs": [
    {
     "data": {
      "text/plain": [
       "\u001b[36mres28\u001b[39m: \u001b[32mString\u001b[39m = \u001b[32m\"(P\\u2080(InIsle((a : M ) ~> (((eqM) (((mul) (e_l)) (a))) (a)) \\u2208 Typs,@a,Island(Typs,Typs,AddVar,Sigma,InIsle)))) == ((IsleScale(@a,(a : M ) ~> (((eqM) (((mul) (e_l)) (a))) (a)) \\u2208 Typs)) * (P\\u2080((a : M ) ~> (((eqM) (((mul) (e_l)) (a))) (a)) \\u2208 Typs)))\"\u001b[39m"
      ]
     },
     "execution_count": 29,
     "metadata": {},
     "output_type": "execute_result"
    }
   ],
   "source": [
    "linits.head.toString"
   ]
  },
  {
   "cell_type": "code",
   "execution_count": 30,
   "metadata": {},
   "outputs": [
    {
     "data": {
      "text/plain": [
       "\u001b[36mres29\u001b[39m: \u001b[32mExpression\u001b[39m = \u001b[33mProduct\u001b[39m(\n",
       "  \u001b[33mIsleScale\u001b[39m(\u001b[32m@a\u001b[39m, \u001b[33mElem\u001b[39m(\u001b[32m∏(a : M){ eqM(mul(e_l)(a))(a) }\u001b[39m, Typs)),\n",
       "  \u001b[33mInitialVal\u001b[39m(\u001b[33mElem\u001b[39m(\u001b[32m∏(a : M){ eqM(mul(e_l)(a))(a) }\u001b[39m, Typs))\n",
       ")"
      ]
     },
     "execution_count": 30,
     "metadata": {},
     "output_type": "execute_result"
    }
   ],
   "source": [
    "linits.head.rhs"
   ]
  },
  {
   "cell_type": "code",
   "execution_count": 31,
   "metadata": {},
   "outputs": [
    {
     "data": {
      "text/plain": [
       "\u001b[36mres30\u001b[39m: \u001b[32mExpression\u001b[39m = \u001b[33mInitialVal\u001b[39m(\n",
       "  \u001b[33mInIsle\u001b[39m(\n",
       "    \u001b[33mElem\u001b[39m(\u001b[32m∏(a : M){ eqM(mul(e_l)(a))(a) }\u001b[39m, Typs),\n",
       "    \u001b[32m@a\u001b[39m,\n",
       "    \u001b[33mIsland\u001b[39m(Typs, \u001b[33mCRV\u001b[39m(Typs), \u001b[33mAddVar\u001b[39m(\u001b[32m(M → (M → M))\u001b[39m, \u001b[32m0.3\u001b[39m), Sigma, InIsle)\n",
       "  )\n",
       ")"
      ]
     },
     "execution_count": 31,
     "metadata": {},
     "output_type": "execute_result"
    }
   ],
   "source": [
    "linits.head.lhs"
   ]
  },
  {
   "cell_type": "code",
   "execution_count": 32,
   "metadata": {},
   "outputs": [
    {
     "data": {
      "text/plain": [
       "\u001b[36mtermEqs\u001b[39m: \u001b[32mSet\u001b[39m[(\u001b[32mTerm\u001b[39m, \u001b[32mExpression\u001b[39m)] = \u001b[33mSet\u001b[39m(\n",
       "  (\n",
       "    \u001b[32m(_ : ∏(a : M){ eqM(mul(e_l)(a))(a) }) ↦ eqM\u001b[39m,\n",
       "    \u001b[33mSum\u001b[39m(\n",
       "      \u001b[33mProduct\u001b[39m(\n",
       "        \u001b[33mProduct\u001b[39m(\n",
       "          \u001b[33mCoeff\u001b[39m(\u001b[33mFlatMap\u001b[39m(Typs, LambdaIsle, Terms), Terms),\n",
       "          \u001b[33mFinalVal\u001b[39m(\u001b[33mElem\u001b[39m(\u001b[32m∏(a : M){ eqM(mul(e_l)(a))(a) }\u001b[39m, Typs))\n",
       "        ),\n",
       "        \u001b[33mFinalVal\u001b[39m(\u001b[33mElem\u001b[39m(\u001b[32m(_ : ∏(a : M){ eqM(mul(e_l)(a))(a) }) ↦ eqM\u001b[39m, Terms))\n",
       "      ),\n",
       "      \u001b[33mProduct\u001b[39m(\n",
       "        \u001b[33mCoeff\u001b[39m(\u001b[33mFlatMap\u001b[39m(Typs, LambdaIsle, Terms), Terms),\n",
       "        \u001b[33mFinalVal\u001b[39m(\n",
       "          \u001b[33mInIsle\u001b[39m(\n",
       "            \u001b[33mElem\u001b[39m(\u001b[32meqM\u001b[39m, Terms),\n",
       "            \u001b[32m@a\u001b[39m,\n",
       "            \u001b[33mIsland\u001b[39m(Terms, \u001b[33mCRV\u001b[39m(Terms), \u001b[33mAddVar\u001b[39m(\u001b[32m∏(a : M){ eqM(mul(e_l)(a))(a) }\u001b[39m, \u001b[32m0.3\u001b[39m), Lambda, InIsle)\n",
       "          )\n",
       "        )\n",
       "      )\n",
       "    )\n",
       "  ),\n",
       "  (\n",
       "    \u001b[32mmul(e_r)(e_r)\u001b[39m,\n",
       "    \u001b[33mSum\u001b[39m(\n",
       "      \u001b[33mProduct\u001b[39m(\n",
       "        \u001b[33mProduct\u001b[39m(\n",
       "          \u001b[33mCoeff\u001b[39m(\u001b[33mFiberProductMap\u001b[39m(domOf, TermsWithTyp, Appln, Funcs, Terms), Terms),\n",
       "          \u001b[33mFinalVal\u001b[39m(\u001b[33mElem\u001b[39m(\u001b[33mWrap\u001b[39m(\u001b[32mmul(e_r)\u001b[39m), Funcs))\n",
       "        ),\n",
       "        \u001b[33mFinalVal\u001b[39m(\u001b[33mElem\u001b[39m(\u001b[32me_r\u001b[39m, \u001b[33mAtCoord\u001b[39m(TermsWithTyp, \u001b[32mM\u001b[39m :: HNil)))\n",
       "      ),\n",
       "      \u001b[33mProduct\u001b[39m(\n",
       "        \u001b[33mProduct\u001b[39m(\n",
       "          \u001b[33mCoeff\u001b[39m(\u001b[33mZipMapOpt\u001b[39m(UnifApplnOpt, Funcs, Terms, Terms), Terms),\n",
       "          \u001b[33mFinalVal\u001b[39m(\u001b[33mElem\u001b[39m(\u001b[33mWrap\u001b[39m(\u001b[32mmul(e_r)\u001b[39m), Funcs))\n",
       "        ),\n",
       "        \u001b[33mFinalVal\u001b[39m(\u001b[33mElem\u001b[39m(\u001b[32me_r\u001b[39m, Terms))\n",
       "      )\n",
       "    )\n",
       "  ),\n",
       "  (\n",
       "    \u001b[32maxiom_{(eqM(a)(b) \\to eqM(b)(a))}(e_r)(e_r)(axiom_{eqM(a)(a)}(e_r))\u001b[39m,\n",
       "    \u001b[33mProduct\u001b[39m(\n",
       "      \u001b[33mProduct\u001b[39m(\n",
       "        \u001b[33mCoeff\u001b[39m(\u001b[33mZipMapOpt\u001b[39m(UnifApplnOpt, Funcs, Terms, Terms), Terms),\n",
       "        \u001b[33mFinalVal\u001b[39m(\u001b[33mElem\u001b[39m(\u001b[33mWrap\u001b[39m(\u001b[32maxiom_{(eqM(a)(b) \\to eqM(b)(a))}\u001b[39m), Funcs))\n",
       "      ),\n",
       "..."
      ]
     },
     "execution_count": 32,
     "metadata": {},
     "output_type": "execute_result"
    }
   ],
   "source": [
    "val termEqs = eqgs.collect{case Equation(FinalVal(Elem(t : Term, Terms)), rhs) => t -> rhs}"
   ]
  },
  {
   "cell_type": "code",
   "execution_count": 33,
   "metadata": {},
   "outputs": [
    {
     "data": {
      "text/plain": [
       "\u001b[36mres32\u001b[39m: \u001b[32mInt\u001b[39m = \u001b[32m127\u001b[39m"
      ]
     },
     "execution_count": 33,
     "metadata": {},
     "output_type": "execute_result"
    }
   ],
   "source": [
    "termEqs.size"
   ]
  },
  {
   "cell_type": "code",
   "execution_count": 34,
   "metadata": {},
   "outputs": [
    {
     "data": {
      "text/plain": [
       "\u001b[36mres33\u001b[39m: \u001b[32mSet\u001b[39m[\u001b[32mTerm\u001b[39m] = \u001b[33mSet\u001b[39m(\n",
       "  \u001b[32maxiom_{(eqM(a)(b) \\to eqM(b)(a))}(mul(e_l)(e_r))(e_l)(axiom_{eqM(mul(a)(e_r))(a)}(e_l))\u001b[39m,\n",
       "  \u001b[32maxiom_{(eqM(a)(b) \\to eqM(b)(a))}\u001b[39m,\n",
       "  \u001b[32mmul(e_r)(e_l)\u001b[39m,\n",
       "  \u001b[32meqM(e_r)(e_r)\u001b[39m,\n",
       "  \u001b[32m(_ : M) ↦ e_r\u001b[39m,\n",
       "  \u001b[32m(_ : ∏(a : M){ ∏(b : M){ (eqM(a)(b) → eqM(b)(a)) } }) ↦ eqM\u001b[39m,\n",
       "  \u001b[32m(_ : (M → (M → M))) ↦ axiom_{eqM(mul(e_l)(a))(a)}\u001b[39m,\n",
       "  \u001b[32m(_ : ∏(a : M){ eqM(mul(e_l)(a))(a) }) ↦ axiom_{eqM(mul(a)(e_r))(a)}\u001b[39m,\n",
       "  \u001b[32m(_ : ∏(a : M){ ∏(b : M){ ∏(c : M){ (eqM(a)(b) → (eqM(b)(c) → eqM(a)(c))) } } }) ↦ e_l\u001b[39m,\n",
       "  \u001b[32m(_ : ∏(a : M){ eqM(a)(a) }) ↦ mul\u001b[39m,\n",
       "  \u001b[32m(_ : ∏(a : M){ eqM(mul(a)(e_r))(a) }) ↦ axiom_{eqM(mul(a)(e_r))(a)}\u001b[39m,\n",
       "  \u001b[32m(_ : ∏(a : M){ eqM(mul(a)(e_r))(a) }) ↦ e_l\u001b[39m,\n",
       "  \u001b[32meqM(e_r)(e_l)\u001b[39m,\n",
       "  \u001b[32m(_ : (M → (M → 𝒰 ))) ↦ axiom_{eqM(mul(a)(e_r))(a)}\u001b[39m,\n",
       "  \u001b[32mmul(e_r)\u001b[39m,\n",
       "  \u001b[32maxiom_{(eqM(a)(b) \\to (eqM(b)(c) \\to eqM(a)(c)))}\u001b[39m,\n",
       "  \u001b[32m(_ : ∏(a : M){ eqM(mul(a)(e_r))(a) }) ↦ mul\u001b[39m,\n",
       "  \u001b[32m(@a : ∏(a : M){ eqM(mul(e_l)(a))(a) }) ↦ @a\u001b[39m,\n",
       "  \u001b[32m(@a : (M → (M → 𝒰 ))) ↦ @a(e_r)\u001b[39m,\n",
       "  \u001b[32m(_ : (M → (M → 𝒰 ))) ↦ e_l\u001b[39m,\n",
       "  \u001b[32meqM(e_l)(e_l)\u001b[39m,\n",
       "  \u001b[32m(_ : ∏(a : M){ eqM(mul(e_l)(a))(a) }) ↦ axiom_{eqM(mul(e_l)(a))(a)}\u001b[39m,\n",
       "  \u001b[32m(_ : (M → (M → 𝒰 ))) ↦ axiom_{(eqM(a)(b) \\to (eqM(b)(c) \\to eqM(a)(c)))}\u001b[39m,\n",
       "  \u001b[32m(_ : ∏(a : M){ ∏(b : M){ ∏(c : M){ (eqM(a)(b) → (eqM(b)(c) → eqM(a)(c))) } } }) ↦ axiom_{eqM(mul(a)(e_r))(a)}\u001b[39m,\n",
       "  \u001b[32m(@a : (M → (M → 𝒰 ))) ↦ @a(e_l)\u001b[39m,\n",
       "  \u001b[32m(_ : ∏(a : M){ ∏(b : M){ (eqM(a)(b) → eqM(b)(a)) } }) ↦ axiom_{(eqM(a)(b) \\to (eqM(b)(c) \\to eqM(a)(c)))}\u001b[39m,\n",
       "  \u001b[32m(_ : ∏(a : M){ ∏(b : M){ ∏(c : M){ (eqM(a)(b) → (eqM(b)(c) → eqM(a)(c))) } } }) ↦ axiom_{(eqM(a)(b) \\to eqM(b)(a))}\u001b[39m,\n",
       "  \u001b[32m(_ : ∏(a : M){ eqM(a)(a) }) ↦ axiom_{eqM(a)(a)}\u001b[39m,\n",
       "  \u001b[32maxiom_{eqM(mul(a)(e_r))(a)}(e_r)\u001b[39m,\n",
       "  \u001b[32maxiom_{eqM(mul(e_l)(a))(a)}\u001b[39m,\n",
       "  \u001b[32m(_ : ∏(a : M){ ∏(b : M){ ∏(c : M){ (eqM(a)(b) → (eqM(b)(c) → eqM(a)(c))) } } }) ↦ mul\u001b[39m,\n",
       "  \u001b[32mmul\u001b[39m,\n",
       "  \u001b[32meqM(e_r)\u001b[39m,\n",
       "  \u001b[32m(@a : ∏(a : M){ ∏(b : M){ ∏(c : M){ (eqM(a)(b) → (eqM(b)(c) → eqM(a)(c))) } } }) ↦ @a\u001b[39m,\n",
       "  \u001b[32m(_ : ∏(a : M){ eqM(a)(a) }) ↦ axiom_{(eqM(a)(b) \\to (eqM(b)(c) \\to eqM(a)(c)))}\u001b[39m,\n",
       "  \u001b[32m(_ : (M → (M → 𝒰 ))) ↦ eqM\u001b[39m,\n",
       "  \u001b[32maxiom_{eqM(a)(a)}(e_r)\u001b[39m,\n",
       "  \u001b[32m(_ : ∏(a : M){ ∏(b : M){ ∏(c : M){ (eqM(a)(b) → (eqM(b)(c) → eqM(a)(c))) } } }) ↦ eqM\u001b[39m,\n",
       "  \u001b[32m($tfk : M) ↦ axiom_{(eqM(a)(b) \\to (eqM(b)(c) \\to eqM(a)(c)))}(mul(e_l)(e_r))(e_l)($tfk)(axiom_{eqM(mul(a)(e_r))(a)}(e_l))\u001b[39m,\n",
       "  \u001b[32m(@a : M) ↦ @a\u001b[39m,\n",
       "  \u001b[32m($sum : M) ↦ axiom_{(eqM(a)(b) \\to (eqM(b)(c) \\to eqM(a)(c)))}(e_r)(e_r)($sum)(axiom_{eqM(a)(a)}(e_r))\u001b[39m,\n",
       "  \u001b[32maxiom_{(eqM(a)(b) \\to (eqM(b)(c) \\to eqM(a)(c)))}(e_l)\u001b[39m,\n",
       "  \u001b[32m(_ : ∏(a : M){ eqM(mul(a)(e_r))(a) }) ↦ axiom_{(eqM(a)(b) \\to (eqM(b)(c) \\to eqM(a)(c)))}\u001b[39m,\n",
       "..."
      ]
     },
     "execution_count": 34,
     "metadata": {},
     "output_type": "execute_result"
    }
   ],
   "source": [
    "termEqs.map(_._1)"
   ]
  },
  {
   "cell_type": "code",
   "execution_count": 35,
   "metadata": {},
   "outputs": [
    {
     "data": {
      "text/plain": [
       "\u001b[36mres34\u001b[39m: \u001b[32mSet\u001b[39m[\u001b[32mTyp\u001b[39m[\u001b[32mU\u001b[39m] forSome { type \u001b[32mU\u001b[39m >: \u001b[32mx$1\u001b[39m.\u001b[32m_1\u001b[39m.type <: \u001b[32mTerm\u001b[39m with \u001b[32mSubs\u001b[39m[\u001b[32mU\u001b[39m]; val \u001b[32mx$1\u001b[39m: (\u001b[32mTerm\u001b[39m, \u001b[32mExpression\u001b[39m) }] = \u001b[33mSet\u001b[39m(\n",
       "  \u001b[32m∏($tai : M){ (eqM(e_l)($tai) → eqM(mul(e_l)(e_l))($tai)) }\u001b[39m,\n",
       "  \u001b[32meqM(e_r)(e_r)\u001b[39m,\n",
       "  \u001b[32meqM(mul(e_l)(e_r))(e_l)\u001b[39m,\n",
       "  \u001b[32m(∏(a : M){ eqM(mul(e_l)(a))(a) } → ∏(a : M){ eqM(mul(e_l)(a))(a) })\u001b[39m,\n",
       "  \u001b[32m(∏(a : M){ ∏(b : M){ ∏(c : M){ (eqM(a)(b) → (eqM(b)(c) → eqM(a)(c))) } } } → ∏(a : M){ eqM(mul(e_l)(a))(a) })\u001b[39m,\n",
       "  \u001b[32m(∏(a : M){ ∏(b : M){ (eqM(a)(b) → eqM(b)(a)) } } → ∏(a : M){ eqM(mul(e_l)(a))(a) })\u001b[39m,\n",
       "  \u001b[32m(∏(a : M){ eqM(a)(a) } → ∏(a : M){ eqM(mul(e_l)(a))(a) })\u001b[39m,\n",
       "  \u001b[32m(M → ∏(a : M){ eqM(mul(e_l)(a))(a) })\u001b[39m,\n",
       "  \u001b[32m(∏(a : M){ eqM(mul(a)(e_r))(a) } → ∏(a : M){ eqM(mul(e_l)(a))(a) })\u001b[39m,\n",
       "  \u001b[32m((M → (M → M)) → ∏(a : M){ eqM(mul(e_l)(a))(a) })\u001b[39m,\n",
       "  \u001b[32m((M → (M → 𝒰 )) → ∏(a : M){ eqM(mul(e_l)(a))(a) })\u001b[39m,\n",
       "  \u001b[32meqM(e_l)(e_l)\u001b[39m,\n",
       "  \u001b[32m∏(a : M){ eqM(mul(e_l)(a))(a) }\u001b[39m,\n",
       "  \u001b[32m(∏(a : M){ ∏(b : M){ (eqM(a)(b) → eqM(b)(a)) } } → M)\u001b[39m,\n",
       "  \u001b[32m(M → M)\u001b[39m,\n",
       "  \u001b[32m(∏(a : M){ eqM(mul(a)(e_r))(a) } → M)\u001b[39m,\n",
       "  \u001b[32m(∏(a : M){ eqM(mul(e_l)(a))(a) } → M)\u001b[39m,\n",
       "  \u001b[32m(∏(a : M){ ∏(b : M){ ∏(c : M){ (eqM(a)(b) → (eqM(b)(c) → eqM(a)(c))) } } } → M)\u001b[39m,\n",
       "  \u001b[32m(∏(a : M){ eqM(a)(a) } → M)\u001b[39m,\n",
       "  \u001b[32m((M → (M → M)) → M)\u001b[39m,\n",
       "  \u001b[32m((M → (M → 𝒰 )) → M)\u001b[39m,\n",
       "  \u001b[32meqM(mul(e_l)(e_l))(e_l)\u001b[39m,\n",
       "  \u001b[32m((M → (M → M)) → (M → (M → M)))\u001b[39m,\n",
       "  \u001b[32m(∏(a : M){ eqM(mul(a)(e_r))(a) } → (M → (M → M)))\u001b[39m,\n",
       "  \u001b[32m(M → (M → (M → M)))\u001b[39m,\n",
       "  \u001b[32m(∏(a : M){ eqM(a)(a) } → (M → (M → M)))\u001b[39m,\n",
       "  \u001b[32m((M → (M → 𝒰 )) → (M → (M → M)))\u001b[39m,\n",
       "  \u001b[32m(∏(a : M){ ∏(b : M){ (eqM(a)(b) → eqM(b)(a)) } } → (M → (M → M)))\u001b[39m,\n",
       "  \u001b[32m(∏(a : M){ ∏(b : M){ ∏(c : M){ (eqM(a)(b) → (eqM(b)(c) → eqM(a)(c))) } } } → (M → (M → M)))\u001b[39m,\n",
       "  \u001b[32m(∏(a : M){ eqM(mul(e_l)(a))(a) } → (M → (M → M)))\u001b[39m,\n",
       "  \u001b[32m(∏(a : M){ ∏(b : M){ ∏(c : M){ (eqM(a)(b) → (eqM(b)(c) → eqM(a)(c))) } } } → ∏(a : M){ eqM(mul(a)(e_r))(a) })\u001b[39m,\n",
       "  \u001b[32m(∏(a : M){ eqM(mul(a)(e_r))(a) } → ∏(a : M){ eqM(mul(a)(e_r))(a) })\u001b[39m,\n",
       "  \u001b[32m(∏(a : M){ ∏(b : M){ (eqM(a)(b) → eqM(b)(a)) } } → ∏(a : M){ eqM(mul(a)(e_r))(a) })\u001b[39m,\n",
       "  \u001b[32m(∏(a : M){ eqM(a)(a) } → ∏(a : M){ eqM(mul(a)(e_r))(a) })\u001b[39m,\n",
       "  \u001b[32m((M → (M → M)) → ∏(a : M){ eqM(mul(a)(e_r))(a) })\u001b[39m,\n",
       "  \u001b[32m((M → (M → 𝒰 )) → ∏(a : M){ eqM(mul(a)(e_r))(a) })\u001b[39m,\n",
       "  \u001b[32m(M → ∏(a : M){ eqM(mul(a)(e_r))(a) })\u001b[39m,\n",
       "  \u001b[32m(∏(a : M){ eqM(mul(e_l)(a))(a) } → ∏(a : M){ eqM(mul(a)(e_r))(a) })\u001b[39m,\n",
       "  \u001b[32m∏($sxe : M){ (eqM(e_r)($sxe) → eqM(mul(e_l)(e_r))($sxe)) }\u001b[39m,\n",
       "  \u001b[32m∏($tfk : M){ (eqM(e_l)($tfk) → eqM(mul(e_l)(e_r))($tfk)) }\u001b[39m,\n",
       "  \u001b[32mM\u001b[39m,\n",
       "  \u001b[32meqM(e_l)(mul(e_l)(e_r))\u001b[39m,\n",
       "  \u001b[32m((M → (M → M)) → (M → M))\u001b[39m,\n",
       "  \u001b[32m(M → (M → M))\u001b[39m,\n",
       "  \u001b[32m∏(a : M){ ∏(b : M){ ∏(c : M){ (eqM(a)(b) → (eqM(b)(c) → eqM(a)(c))) } } }\u001b[39m,\n",
       "..."
      ]
     },
     "execution_count": 35,
     "metadata": {},
     "output_type": "execute_result"
    }
   ],
   "source": [
    "termEqs.map(_._1.typ).filter(tp => !isUniv(tp))"
   ]
  },
  {
   "cell_type": "code",
   "execution_count": 36,
   "metadata": {},
   "outputs": [
    {
     "data": {
      "text/plain": [
       "\u001b[36meqid\u001b[39m: \u001b[32mOption\u001b[39m[(\u001b[32mTerm\u001b[39m, \u001b[32mExpression\u001b[39m)] = \u001b[33mSome\u001b[39m(\n",
       "  (\n",
       "    \u001b[32maxiom_{(eqM(a)(b) \\to eqM(b)(a))}(mul(e_l)(e_r))(e_l)(axiom_{eqM(mul(a)(e_r))(a)}(e_l))\u001b[39m,\n",
       "    \u001b[33mProduct\u001b[39m(\n",
       "      \u001b[33mProduct\u001b[39m(\n",
       "        \u001b[33mCoeff\u001b[39m(\u001b[33mZipMapOpt\u001b[39m(UnifApplnOpt, Funcs, Terms, Terms), Terms),\n",
       "        \u001b[33mFinalVal\u001b[39m(\u001b[33mElem\u001b[39m(\u001b[33mWrap\u001b[39m(\u001b[32maxiom_{(eqM(a)(b) \\to eqM(b)(a))}\u001b[39m), Funcs))\n",
       "      ),\n",
       "      \u001b[33mFinalVal\u001b[39m(\u001b[33mElem\u001b[39m(\u001b[32maxiom_{eqM(mul(a)(e_r))(a)}(e_l)\u001b[39m, Terms))\n",
       "    )\n",
       "  )\n",
       ")"
      ]
     },
     "execution_count": 36,
     "metadata": {},
     "output_type": "execute_result"
    }
   ],
   "source": [
    "val eqid = termEqs.find(_._1.typ == eqM(l)(op(l)(r)))"
   ]
  },
  {
   "cell_type": "markdown",
   "metadata": {},
   "source": [
    "This is a case of symmetry being applied, and presumably the equation is passed on too."
   ]
  },
  {
   "cell_type": "code",
   "execution_count": 37,
   "metadata": {},
   "outputs": [
    {
     "data": {
      "text/plain": [
       "\u001b[36meqid0\u001b[39m: \u001b[32mOption\u001b[39m[(\u001b[32mTerm\u001b[39m, \u001b[32mExpression\u001b[39m)] = \u001b[33mSome\u001b[39m(\n",
       "  (\n",
       "    \u001b[32maxiom_{eqM(mul(a)(e_r))(a)}(e_l)\u001b[39m,\n",
       "    \u001b[33mSum\u001b[39m(\n",
       "      \u001b[33mSum\u001b[39m(\n",
       "        \u001b[33mSum\u001b[39m(\n",
       "          \u001b[33mSum\u001b[39m(\n",
       "            \u001b[33mSum\u001b[39m(\n",
       "              \u001b[33mSum\u001b[39m(\n",
       "                \u001b[33mSum\u001b[39m(\n",
       "                  \u001b[33mSum\u001b[39m(\n",
       "                    \u001b[33mSum\u001b[39m(\n",
       "                      \u001b[33mSum\u001b[39m(\n",
       "                        \u001b[33mProduct\u001b[39m(\n",
       "                          \u001b[33mProduct\u001b[39m(\n",
       "                            \u001b[33mCoeff\u001b[39m(\n",
       "                              \u001b[33mBaseThenCondition\u001b[39m(\n",
       "                                \u001b[33mZipMapOpt\u001b[39m(UnifApplnOpt, Funcs, Terms, Terms),\n",
       "                                \u001b[33mAtCoord\u001b[39m(TermsWithTyp, \u001b[32m(M → (M → 𝒰 ))\u001b[39m :: HNil),\n",
       "                                \u001b[33mFilter\u001b[39m(\u001b[33mWithTyp\u001b[39m(\u001b[32m(M → (M → 𝒰 ))\u001b[39m))\n",
       "                              ),\n",
       "                              \u001b[33mAtCoord\u001b[39m(TermsWithTyp, \u001b[32m(M → (M → 𝒰 ))\u001b[39m :: HNil)\n",
       "                            ),\n",
       "                            \u001b[33mFinalVal\u001b[39m(\u001b[33mElem\u001b[39m(\u001b[33mWrap\u001b[39m(\u001b[32maxiom_{eqM(mul(a)(e_r))(a)}\u001b[39m), Funcs))\n",
       "                          ),\n",
       "                          \u001b[33mFinalVal\u001b[39m(\u001b[33mElem\u001b[39m(\u001b[32me_l\u001b[39m, Terms))\n",
       "                        ),\n",
       "                        \u001b[33mProduct\u001b[39m(\n",
       "                          \u001b[33mProduct\u001b[39m(\n",
       "                            \u001b[33mCoeff\u001b[39m(\n",
       "                              \u001b[33mBaseThenCondition\u001b[39m(\n",
       "                                \u001b[33mFiberProductMap\u001b[39m(domOf, TermsWithTyp, Appln, Funcs, Terms),\n",
       "                                \u001b[33mAtCoord\u001b[39m(TermsWithTyp, \u001b[32mM\u001b[39m :: HNil),\n",
       "                                \u001b[33mFilter\u001b[39m(\u001b[33mWithTyp\u001b[39m(\u001b[32mM\u001b[39m))\n",
       "                              ),\n",
       "                              \u001b[33mAtCoord\u001b[39m(TermsWithTyp, \u001b[32mM\u001b[39m :: HNil)\n",
       "                            ),\n",
       "                            \u001b[33mFinalVal\u001b[39m(\u001b[33mElem\u001b[39m(\u001b[33mWrap\u001b[39m(\u001b[32maxiom_{eqM(mul(a)(e_r))(a)}\u001b[39m), Funcs))\n",
       "                          ),\n",
       "                          \u001b[33mFinalVal\u001b[39m(\u001b[33mElem\u001b[39m(\u001b[32me_l\u001b[39m, \u001b[33mAtCoord\u001b[39m(TermsWithTyp, \u001b[32mM\u001b[39m :: HNil)))\n",
       "                        )\n",
       "                      ),\n",
       "                      \u001b[33mProduct\u001b[39m(\n",
       "                        \u001b[33mProduct\u001b[39m(\n",
       "                          \u001b[33mCoeff\u001b[39m(\n",
       "                            \u001b[33mBaseThenCondition\u001b[39m(\n",
       "                              \u001b[33mFiberProductMap\u001b[39m(domOf, TermsWithTyp, Appln, Funcs, Terms),\n",
       "                              Funcs,\n",
       "                              \u001b[33mRestrict\u001b[39m(FuncOpt)\n",
       "..."
      ]
     },
     "execution_count": 37,
     "metadata": {},
     "output_type": "execute_result"
    }
   ],
   "source": [
    "val eqid0 = termEqs.find(_._1.typ == eqM(op(l)(r))(l))"
   ]
  },
  {
   "cell_type": "code",
   "execution_count": 38,
   "metadata": {},
   "outputs": [
    {
     "data": {
      "text/plain": [
       "\u001b[36mres37\u001b[39m: \u001b[32mOption\u001b[39m[\u001b[32mEquation\u001b[39m] = \u001b[33mSome\u001b[39m(\n",
       "  \u001b[33mEquation\u001b[39m(\n",
       "    \u001b[33mInitialVal\u001b[39m(\n",
       "      \u001b[33mInIsle\u001b[39m(\n",
       "        \u001b[33mElem\u001b[39m(\u001b[32m∏(a : M){ eqM(mul(e_l)(a))(a) }\u001b[39m, Typs),\n",
       "        \u001b[32m@a\u001b[39m,\n",
       "        \u001b[33mIsland\u001b[39m(Typs, \u001b[33mCRV\u001b[39m(Typs), \u001b[33mAddVar\u001b[39m(\u001b[32m(M → (M → M))\u001b[39m, \u001b[32m0.3\u001b[39m), Sigma, InIsle)\n",
       "      )\n",
       "    ),\n",
       "    \u001b[33mProduct\u001b[39m(\n",
       "      \u001b[33mIsleScale\u001b[39m(\u001b[32m@a\u001b[39m, \u001b[33mElem\u001b[39m(\u001b[32m∏(a : M){ eqM(mul(e_l)(a))(a) }\u001b[39m, Typs)),\n",
       "      \u001b[33mInitialVal\u001b[39m(\u001b[33mElem\u001b[39m(\u001b[32m∏(a : M){ eqM(mul(e_l)(a))(a) }\u001b[39m, Typs))\n",
       "    )\n",
       "  )\n",
       ")"
      ]
     },
     "execution_count": 38,
     "metadata": {},
     "output_type": "execute_result"
    }
   ],
   "source": [
    "eqgs.find(eq => varVals(eq.rhs).intersect(extras).nonEmpty)"
   ]
  },
  {
   "cell_type": "code",
   "execution_count": 39,
   "metadata": {},
   "outputs": [
    {
     "data": {
      "text/plain": [
       "\u001b[36mfinExtras\u001b[39m: \u001b[32mSet\u001b[39m[\u001b[32mVarVal\u001b[39m[\u001b[32m_\u001b[39m]] = \u001b[33mSet\u001b[39m()"
      ]
     },
     "execution_count": 39,
     "metadata": {},
     "output_type": "execute_result"
    }
   ],
   "source": [
    "val finExtras = extras -- initExtras"
   ]
  },
  {
   "cell_type": "code",
   "execution_count": 40,
   "metadata": {},
   "outputs": [
    {
     "data": {
      "text/plain": [
       "\u001b[36mres39\u001b[39m: \u001b[32mInt\u001b[39m = \u001b[32m0\u001b[39m"
      ]
     },
     "execution_count": 40,
     "metadata": {},
     "output_type": "execute_result"
    }
   ],
   "source": [
    "finExtras.size"
   ]
  },
  {
   "cell_type": "code",
   "execution_count": 41,
   "metadata": {},
   "outputs": [
    {
     "data": {
      "text/plain": [
       "\u001b[36mats\u001b[39m: \u001b[32mSet\u001b[39m[\u001b[32mExpression\u001b[39m] = \u001b[33mSet\u001b[39m(\n",
       "  \u001b[33mFinalVal\u001b[39m(\u001b[33mElem\u001b[39m(\u001b[32m(@a : ∏(a : M){ eqM(mul(a)(e_r))(a) }) ↦ @a\u001b[39m, Terms)),\n",
       "  \u001b[33mInitialVal\u001b[39m(\n",
       "    \u001b[33mInIsle\u001b[39m(\n",
       "      \u001b[33mElem\u001b[39m(\u001b[33mWrap\u001b[39m(\u001b[32maxiom_{(eqM(a)(b) \\to (eqM(b)(c) \\to eqM(a)(c)))}\u001b[39m), Funcs),\n",
       "      \u001b[32m@a\u001b[39m,\n",
       "      \u001b[33mIsland\u001b[39m(Terms, \u001b[33mCRV\u001b[39m(Terms), \u001b[33mAddVar\u001b[39m(\u001b[32m(M → (M → M))\u001b[39m, \u001b[32m0.3\u001b[39m), Lambda, InIsle)\n",
       "    )\n",
       "  ),\n",
       "  \u001b[33mFinalVal\u001b[39m(\n",
       "    \u001b[33mInIsle\u001b[39m(\n",
       "      \u001b[33mElem\u001b[39m(\u001b[33mWrap\u001b[39m(\u001b[32maxiom_{(eqM(a)(b) \\to (eqM(b)(c) \\to eqM(a)(c)))}\u001b[39m), Funcs),\n",
       "      \u001b[32m@a\u001b[39m,\n",
       "      \u001b[33mIsland\u001b[39m(Terms, \u001b[33mCRV\u001b[39m(Terms), \u001b[33mAddVar\u001b[39m(\u001b[32m(M → (M → M))\u001b[39m, \u001b[32m0.3\u001b[39m), Lambda, InIsle)\n",
       "    )\n",
       "  ),\n",
       "  \u001b[33mFinalVal\u001b[39m(\n",
       "    \u001b[33mInIsle\u001b[39m(\n",
       "      \u001b[33mElem\u001b[39m(\u001b[32maxiom_{eqM(mul(a)(e_r))(a)}\u001b[39m, Terms),\n",
       "      \u001b[32m@a\u001b[39m,\n",
       "      \u001b[33mIsland\u001b[39m(\n",
       "        Terms,\n",
       "        \u001b[33mCRV\u001b[39m(Terms),\n",
       "        \u001b[33mAddVar\u001b[39m(\u001b[32m∏(a : M){ ∏(b : M){ (eqM(a)(b) → eqM(b)(a)) } }\u001b[39m, \u001b[32m0.3\u001b[39m),\n",
       "        Lambda,\n",
       "        InIsle\n",
       "      )\n",
       "    )\n",
       "  ),\n",
       "  \u001b[33mInitialVal\u001b[39m(\n",
       "    \u001b[33mInIsle\u001b[39m(\n",
       "      \u001b[33mElem\u001b[39m(\u001b[32maxiom_{eqM(mul(a)(e_r))(a)}\u001b[39m, Terms),\n",
       "      \u001b[32m@a\u001b[39m,\n",
       "      \u001b[33mIsland\u001b[39m(\n",
       "        Terms,\n",
       "        \u001b[33mCRV\u001b[39m(Terms),\n",
       "        \u001b[33mAddVar\u001b[39m(\u001b[32m∏(a : M){ ∏(b : M){ (eqM(a)(b) → eqM(b)(a)) } }\u001b[39m, \u001b[32m0.3\u001b[39m),\n",
       "        Lambda,\n",
       "        InIsle\n",
       "      )\n",
       "    )\n",
       "  ),\n",
       "  \u001b[33mInitialVal\u001b[39m(\n",
       "    \u001b[33mInIsle\u001b[39m(\n",
       "      \u001b[33mElem\u001b[39m(\u001b[32me_l\u001b[39m, Terms),\n",
       "      \u001b[32m@a\u001b[39m,\n",
       "      \u001b[33mIsland\u001b[39m(\n",
       "        \u001b[33mAtCoord\u001b[39m(FuncsWithDomain, \u001b[32m(M → (M → 𝒰 ))\u001b[39m :: HNil),\n",
       "        \u001b[33mCRV\u001b[39m(Terms),\n",
       "..."
      ]
     },
     "execution_count": 41,
     "metadata": {},
     "output_type": "execute_result"
    }
   ],
   "source": [
    "val ats = eqs.map(_.rhs).flatMap(Expression.atoms)"
   ]
  },
  {
   "cell_type": "code",
   "execution_count": 42,
   "metadata": {},
   "outputs": [
    {
     "data": {
      "text/plain": [
       "\u001b[36mcoeffs\u001b[39m: \u001b[32mSet\u001b[39m[\u001b[32mCoeff\u001b[39m[\u001b[32mAny\u001b[39m]] = \u001b[33mSet\u001b[39m(\n",
       "  \u001b[33mCoeff\u001b[39m(\n",
       "    \u001b[33mBaseThenCondition\u001b[39m(\n",
       "      \u001b[33mZipMapOpt\u001b[39m(UnifApplnOpt, Funcs, Terms, Terms),\n",
       "      \u001b[33mAtCoord\u001b[39m(TermsWithTyp, \u001b[32m(M → (M → M))\u001b[39m :: HNil),\n",
       "      \u001b[33mFilter\u001b[39m(\u001b[33mWithTyp\u001b[39m(\u001b[32m(M → (M → M))\u001b[39m))\n",
       "    ),\n",
       "    \u001b[33mAtCoord\u001b[39m(TermsWithTyp, \u001b[32m(M → (M → M))\u001b[39m :: HNil)\n",
       "  ),\n",
       "  \u001b[33mCoeff\u001b[39m(\n",
       "    \u001b[33mBaseThenCondition\u001b[39m(\u001b[33mZipMapOpt\u001b[39m(UnifApplnOpt, TypFamilies, Terms, Terms), Typs, \u001b[33mRestrict\u001b[39m(TypOpt)),\n",
       "    Typs\n",
       "  ),\n",
       "  \u001b[33mCoeff\u001b[39m(\n",
       "    \u001b[33mBaseThenCondition\u001b[39m(\n",
       "      \u001b[33mFiberProductMap\u001b[39m(domOf, TermsWithTyp, Appln, Funcs, Terms),\n",
       "      \u001b[33mAtCoord\u001b[39m(TermsWithTyp, \u001b[32mM\u001b[39m :: HNil),\n",
       "      \u001b[33mFilter\u001b[39m(\u001b[33mWithTyp\u001b[39m(\u001b[32mM\u001b[39m))\n",
       "    ),\n",
       "    \u001b[33mAtCoord\u001b[39m(TermsWithTyp, \u001b[32mM\u001b[39m :: HNil)\n",
       "  ),\n",
       "  \u001b[33mCoeff\u001b[39m(\u001b[33mBaseThenCondition\u001b[39m(\u001b[33mFlatMap\u001b[39m(Typs, LambdaIsle, Terms), Funcs, \u001b[33mRestrict\u001b[39m(FuncOpt)), Funcs),\n",
       "  \u001b[33mCoeff\u001b[39m(\u001b[33mZipFlatMap\u001b[39m(TargetTyps, TermsWithTyp, Proj2, Terms), Terms),\n",
       "  \u001b[33mCoeff\u001b[39m(\n",
       "    \u001b[33mMap\u001b[39m(\n",
       "      provingground.learning.TermRandomVars$TargetTyps$$$Lambda$3698/199764138@731cf192,\n",
       "      Typs,\n",
       "      TargetTyps\n",
       "    ),\n",
       "    TargetTyps\n",
       "  ),\n",
       "  \u001b[33mCoeff\u001b[39m(\n",
       "    \u001b[33mIsland\u001b[39m(\n",
       "      \u001b[33mAtCoord\u001b[39m(FuncsWithDomain, \u001b[32m(M → (M → M))\u001b[39m :: HNil),\n",
       "      \u001b[33mCRV\u001b[39m(Terms),\n",
       "      \u001b[33mAddVar\u001b[39m(\u001b[32m(M → (M → M))\u001b[39m, \u001b[32m0.3\u001b[39m),\n",
       "      Lambda,\n",
       "      InIsle\n",
       "    ),\n",
       "    \u001b[33mAtCoord\u001b[39m(FuncsWithDomain, \u001b[32m(M → (M → M))\u001b[39m :: HNil)\n",
       "  ),\n",
       "  \u001b[33mCoeff\u001b[39m(\n",
       "    \u001b[33mBaseThenCondition\u001b[39m(\n",
       "      \u001b[33mFiberProductMap\u001b[39m(domOf, TermsWithTyp, Appln, Funcs, Terms),\n",
       "      Funcs,\n",
       "      \u001b[33mRestrict\u001b[39m(FuncOpt)\n",
       "    ),\n",
       "    Funcs\n",
       "  ),\n",
       "..."
      ]
     },
     "execution_count": 42,
     "metadata": {},
     "output_type": "execute_result"
    }
   ],
   "source": [
    "val coeffs = ats.collect{case coeff @ Coeff(_, _) => coeff}"
   ]
  },
  {
   "cell_type": "code",
   "execution_count": 43,
   "metadata": {},
   "outputs": [
    {
     "data": {
      "text/plain": [
       "\u001b[36mcs\u001b[39m: \u001b[32mVector\u001b[39m[(\u001b[32mOption\u001b[39m[\u001b[32mDouble\u001b[39m], \u001b[32mRandomVar\u001b[39m[\u001b[32mAny\u001b[39m])] = \u001b[33mVector\u001b[39m(\n",
       "  (\u001b[33mSome\u001b[39m(\u001b[32m0.1\u001b[39m), \u001b[33mAtCoord\u001b[39m(TermsWithTyp, \u001b[32m(M → (M → M))\u001b[39m :: HNil)),\n",
       "  (\u001b[33mSome\u001b[39m(\u001b[32m0.1\u001b[39m), Typs),\n",
       "  (\u001b[33mSome\u001b[39m(\u001b[32m0.1\u001b[39m), \u001b[33mAtCoord\u001b[39m(TermsWithTyp, \u001b[32mM\u001b[39m :: HNil)),\n",
       "  (\u001b[33mSome\u001b[39m(\u001b[32m0.1\u001b[39m), Funcs),\n",
       "  (\u001b[33mSome\u001b[39m(\u001b[32m0.05\u001b[39m), Terms),\n",
       "  (\u001b[33mSome\u001b[39m(\u001b[32m0.30000000000000004\u001b[39m), TargetTyps),\n",
       "  (\u001b[33mSome\u001b[39m(\u001b[32m0.1\u001b[39m), \u001b[33mAtCoord\u001b[39m(FuncsWithDomain, \u001b[32m(M → (M → M))\u001b[39m :: HNil)),\n",
       "  (\u001b[33mSome\u001b[39m(\u001b[32m0.1\u001b[39m), Funcs),\n",
       "  (\u001b[33mSome\u001b[39m(\u001b[32m0.16500000000000004\u001b[39m), \u001b[33mAtCoord\u001b[39m(TermsWithTyp, \u001b[32m(M → (M → M))\u001b[39m :: HNil)),\n",
       "  (\u001b[33mSome\u001b[39m(\u001b[32m0.1\u001b[39m), \u001b[33mAtCoord\u001b[39m(FuncsWithDomain, \u001b[32m(M → (M → 𝒰 ))\u001b[39m :: HNil)),\n",
       "  (\u001b[33mSome\u001b[39m(\u001b[32m0.1\u001b[39m), \u001b[33mAtCoord\u001b[39m(TermsWithTyp, \u001b[32mM\u001b[39m :: HNil)),\n",
       "  (\u001b[33mSome\u001b[39m(\u001b[32m0.1\u001b[39m), Typs),\n",
       "  (\u001b[33mSome\u001b[39m(\u001b[32m0.1\u001b[39m), Terms),\n",
       "  (\u001b[33mSome\u001b[39m(\u001b[32m0.1\u001b[39m), Terms),\n",
       "  (\u001b[33mSome\u001b[39m(\u001b[32m0.55\u001b[39m), Terms),\n",
       "  (\u001b[33mSome\u001b[39m(\u001b[32m0.16500000000000004\u001b[39m), \u001b[33mAtCoord\u001b[39m(TermsWithTyp, \u001b[32mM\u001b[39m :: HNil)),\n",
       "  (\u001b[33mSome\u001b[39m(\u001b[32m0.55\u001b[39m), TypFamilies),\n",
       "  (\u001b[33mSome\u001b[39m(\u001b[32m0.1\u001b[39m), Terms),\n",
       "  (\u001b[33mSome\u001b[39m(\u001b[32m0.1\u001b[39m), \u001b[33mAtCoord\u001b[39m(FuncsWithDomain, \u001b[32m(M → (M → 𝒰 ))\u001b[39m :: HNil)),\n",
       "  (\u001b[33mSome\u001b[39m(\u001b[32m0.1\u001b[39m), Typs),\n",
       "  (\u001b[33mSome\u001b[39m(\u001b[32m0.1\u001b[39m), \u001b[33mAtCoord\u001b[39m(TermsWithTyp, \u001b[32m(M → (M → 𝒰 ))\u001b[39m :: HNil)),\n",
       "  (\u001b[33mSome\u001b[39m(\u001b[32m0.55\u001b[39m), \u001b[33mAtCoord\u001b[39m(FuncsWithDomain, \u001b[32mM\u001b[39m :: HNil)),\n",
       "  (\u001b[33mSome\u001b[39m(\u001b[32m0.1\u001b[39m), Terms),\n",
       "  (\u001b[33mSome\u001b[39m(\u001b[32m0.1\u001b[39m), \u001b[33mAtCoord\u001b[39m(FuncsWithDomain, \u001b[32m(M → (M → M))\u001b[39m :: HNil)),\n",
       "  (\u001b[33mSome\u001b[39m(\u001b[32m0.1\u001b[39m), Funcs),\n",
       "  (\u001b[33mSome\u001b[39m(\u001b[32m0.55\u001b[39m), Funcs),\n",
       "  (\u001b[33mSome\u001b[39m(\u001b[32m0.05\u001b[39m), Typs),\n",
       "  (\u001b[33mSome\u001b[39m(\u001b[32m0.6\u001b[39m), Typs),\n",
       "  (\u001b[33mSome\u001b[39m(\u001b[32m0.16500000000000004\u001b[39m), \u001b[33mAtCoord\u001b[39m(TermsWithTyp, \u001b[32m(M → (M → 𝒰 ))\u001b[39m :: HNil))\n",
       ")"
      ]
     },
     "execution_count": 43,
     "metadata": {},
     "output_type": "execute_result"
    }
   ],
   "source": [
    "val cs =  coeffs.toVector.map(c => c.get(tg.nodeCoeffSeq) -> c.rv)"
   ]
  },
  {
   "cell_type": "code",
   "execution_count": 44,
   "metadata": {},
   "outputs": [
    {
     "data": {
      "text/plain": [
       "\u001b[36minitEls\u001b[39m: \u001b[32mSet\u001b[39m[\u001b[32mInitialVal\u001b[39m[\u001b[32mAny\u001b[39m]] = \u001b[33mSet\u001b[39m(\n",
       "  \u001b[33mInitialVal\u001b[39m(\u001b[33mElem\u001b[39m(\u001b[32mmul\u001b[39m, Terms)),\n",
       "  \u001b[33mInitialVal\u001b[39m(\u001b[33mElem\u001b[39m(\u001b[32me_r\u001b[39m, Terms)),\n",
       "  \u001b[33mInitialVal\u001b[39m(\u001b[33mElem\u001b[39m(\u001b[32maxiom_{eqM(a)(a)}\u001b[39m, Terms)),\n",
       "  \u001b[33mInitialVal\u001b[39m(\n",
       "    \u001b[33mElem\u001b[39m(\n",
       "      \u001b[33mWrap\u001b[39m(\u001b[32maxiom_{(eqM(a)(b) \\to (eqM(b)(c) \\to eqM(a)(c)))}\u001b[39m),\n",
       "      \u001b[33mAtCoord\u001b[39m(FuncsWithDomain, \u001b[32mM\u001b[39m :: HNil)\n",
       "    )\n",
       "  ),\n",
       "  \u001b[33mInitialVal\u001b[39m(\u001b[33mElem\u001b[39m(\u001b[32maxiom_{(eqM(a)(b) \\to eqM(b)(a))}\u001b[39m, Terms)),\n",
       "  \u001b[33mInitialVal\u001b[39m(\u001b[33mElem\u001b[39m(\u001b[33mWrap\u001b[39m(\u001b[32maxiom_{eqM(mul(e_l)(a))(a)}\u001b[39m), \u001b[33mAtCoord\u001b[39m(FuncsWithDomain, \u001b[32mM\u001b[39m :: HNil))),\n",
       "  \u001b[33mInitialVal\u001b[39m(\u001b[33mElem\u001b[39m(\u001b[32meqM\u001b[39m, \u001b[33mAtCoord\u001b[39m(TermsWithTyp, \u001b[32m(M → (M → 𝒰 ))\u001b[39m :: HNil))),\n",
       "  \u001b[33mInitialVal\u001b[39m(\u001b[33mElem\u001b[39m(\u001b[33mWrap\u001b[39m(\u001b[32maxiom_{eqM(a)(a)}\u001b[39m), Funcs)),\n",
       "  \u001b[33mInitialVal\u001b[39m(\u001b[33mElem\u001b[39m(\u001b[32maxiom_{(eqM(a)(b) \\to (eqM(b)(c) \\to eqM(a)(c)))}\u001b[39m, Terms)),\n",
       "  \u001b[33mInitialVal\u001b[39m(\u001b[33mElem\u001b[39m(\u001b[32m∏(a : M){ eqM(mul(e_l)(a))(a) }\u001b[39m, Typs)),\n",
       "  \u001b[33mInitialVal\u001b[39m(\u001b[33mElem\u001b[39m(\u001b[33mWrap\u001b[39m(\u001b[32maxiom_{(eqM(a)(b) \\to eqM(b)(a))}\u001b[39m), \u001b[33mAtCoord\u001b[39m(FuncsWithDomain, \u001b[32mM\u001b[39m :: HNil))),\n",
       "  \u001b[33mInitialVal\u001b[39m(\u001b[33mElem\u001b[39m(\u001b[32m∏(a : M){ ∏(b : M){ ∏(c : M){ (eqM(a)(b) → (eqM(b)(c) → eqM(a)(c))) } } }\u001b[39m, Typs)),\n",
       "  \u001b[33mInitialVal\u001b[39m(\u001b[33mElem\u001b[39m(\u001b[33mWrap\u001b[39m(\u001b[32maxiom_{eqM(mul(a)(e_r))(a)}\u001b[39m), \u001b[33mAtCoord\u001b[39m(FuncsWithDomain, \u001b[32mM\u001b[39m :: HNil))),\n",
       "  \u001b[33mInitialVal\u001b[39m(\u001b[33mElem\u001b[39m(\u001b[32m@a\u001b[39m, Terms)),\n",
       "  \u001b[33mInitialVal\u001b[39m(\u001b[33mElem\u001b[39m(\u001b[32m(M → (M → M))\u001b[39m, Typs)),\n",
       "  \u001b[33mInitialVal\u001b[39m(\u001b[33mElem\u001b[39m(\u001b[32meqM\u001b[39m, Terms)),\n",
       "  \u001b[33mInitialVal\u001b[39m(\u001b[33mElem\u001b[39m(\u001b[32m∏(a : M){ eqM(mul(a)(e_r))(a) }\u001b[39m, Typs)),\n",
       "  \u001b[33mInitialVal\u001b[39m(\u001b[33mElem\u001b[39m(\u001b[33mWrap\u001b[39m(\u001b[32maxiom_{(eqM(a)(b) \\to (eqM(b)(c) \\to eqM(a)(c)))}\u001b[39m), Funcs)),\n",
       "  \u001b[33mInitialVal\u001b[39m(\u001b[33mElem\u001b[39m(\u001b[33mWrap\u001b[39m(\u001b[32maxiom_{eqM(mul(e_l)(a))(a)}\u001b[39m), Funcs)),\n",
       "  \u001b[33mInitialVal\u001b[39m(\u001b[33mElem\u001b[39m(\u001b[33mWrap\u001b[39m(\u001b[32meqM\u001b[39m), Funcs)),\n",
       "  \u001b[33mInitialVal\u001b[39m(\u001b[33mElem\u001b[39m(\u001b[32m@a\u001b[39m, Terms)),\n",
       "  \u001b[33mInitialVal\u001b[39m(\u001b[33mElem\u001b[39m(\u001b[32m∏(a : M){ ∏(b : M){ (eqM(a)(b) → eqM(b)(a)) } }\u001b[39m, Typs)),\n",
       "  \u001b[33mInitialVal\u001b[39m(\u001b[33mElem\u001b[39m(\u001b[32mM\u001b[39m, Typs)),\n",
       "  \u001b[33mInitialVal\u001b[39m(\u001b[33mElem\u001b[39m(\u001b[33mWrap\u001b[39m(\u001b[32maxiom_{eqM(a)(a)}\u001b[39m), \u001b[33mAtCoord\u001b[39m(FuncsWithDomain, \u001b[32mM\u001b[39m :: HNil))),\n",
       "  \u001b[33mInitialVal\u001b[39m(\u001b[33mElem\u001b[39m(\u001b[33mWrap\u001b[39m(\u001b[32maxiom_{eqM(mul(a)(e_r))(a)}\u001b[39m), Funcs)),\n",
       "  \u001b[33mInitialVal\u001b[39m(\u001b[33mElem\u001b[39m(\u001b[32m@a\u001b[39m, Terms)),\n",
       "  \u001b[33mInitialVal\u001b[39m(\u001b[33mElem\u001b[39m(\u001b[33mWrap\u001b[39m(\u001b[32m@a\u001b[39m), Funcs)),\n",
       "  \u001b[33mInitialVal\u001b[39m(\u001b[33mElem\u001b[39m(\u001b[32m@a\u001b[39m, Terms)),\n",
       "  \u001b[33mInitialVal\u001b[39m(\u001b[33mElem\u001b[39m(\u001b[32m@a\u001b[39m, Terms)),\n",
       "  \u001b[33mInitialVal\u001b[39m(\u001b[33mElem\u001b[39m(\u001b[32m@a\u001b[39m, Terms)),\n",
       "  \u001b[33mInitialVal\u001b[39m(\u001b[33mElem\u001b[39m(\u001b[33mWrap\u001b[39m(\u001b[32mmul\u001b[39m), Funcs)),\n",
       "  \u001b[33mInitialVal\u001b[39m(\u001b[33mElem\u001b[39m(\u001b[33mWrap\u001b[39m(\u001b[32m@a\u001b[39m), Funcs)),\n",
       "  \u001b[33mInitialVal\u001b[39m(\u001b[33mElem\u001b[39m(\u001b[32maxiom_{eqM(mul(e_l)(a))(a)}\u001b[39m, Terms)),\n",
       "  \u001b[33mInitialVal\u001b[39m(\u001b[33mElem\u001b[39m(\u001b[33mWrap\u001b[39m(\u001b[32mmul\u001b[39m), \u001b[33mAtCoord\u001b[39m(FuncsWithDomain, \u001b[32mM\u001b[39m :: HNil))),\n",
       "  \u001b[33mInitialVal\u001b[39m(\u001b[33mElem\u001b[39m(\u001b[33mWrap\u001b[39m(\u001b[32maxiom_{(eqM(a)(b) \\to eqM(b)(a))}\u001b[39m), Funcs)),\n",
       "  \u001b[33mInitialVal\u001b[39m(\u001b[33mElem\u001b[39m(\u001b[32m@a\u001b[39m, Terms)),\n",
       "  \u001b[33mInitialVal\u001b[39m(\u001b[33mElem\u001b[39m(\u001b[32m∏(a : M){ eqM(a)(a) }\u001b[39m, Typs)),\n",
       "  \u001b[33mInitialVal\u001b[39m(\u001b[33mElem\u001b[39m(\u001b[32me_r\u001b[39m, \u001b[33mAtCoord\u001b[39m(TermsWithTyp, \u001b[32mM\u001b[39m :: HNil))),\n",
       "  \u001b[33mInitialVal\u001b[39m(\u001b[33mElem\u001b[39m(\u001b[32mmul\u001b[39m, \u001b[33mAtCoord\u001b[39m(TermsWithTyp, \u001b[32m(M → (M → M))\u001b[39m :: HNil))),\n",
       "  \u001b[33mInitialVal\u001b[39m(\u001b[33mElem\u001b[39m(\u001b[32m(M → (M → 𝒰 ))\u001b[39m, Typs)),\n",
       "  \u001b[33mInitialVal\u001b[39m(\u001b[33mElem\u001b[39m(\u001b[32me_l\u001b[39m, \u001b[33mAtCoord\u001b[39m(TermsWithTyp, \u001b[32mM\u001b[39m :: HNil))),\n",
       "  \u001b[33mInitialVal\u001b[39m(\u001b[33mElem\u001b[39m(\u001b[32m@a\u001b[39m, Terms)),\n",
       "  \u001b[33mInitialVal\u001b[39m(\u001b[33mElem\u001b[39m(\u001b[32maxiom_{eqM(mul(a)(e_r))(a)}\u001b[39m, Terms)),\n",
       "..."
      ]
     },
     "execution_count": 44,
     "metadata": {},
     "output_type": "execute_result"
    }
   ],
   "source": [
    "val initEls = extras.collect{case el @ InitialVal(Elem(_, _)) => el}"
   ]
  },
  {
   "cell_type": "code",
   "execution_count": 45,
   "metadata": {},
   "outputs": [
    {
     "data": {
      "text/plain": [
       "\u001b[36mres44\u001b[39m: \u001b[32mSet\u001b[39m[\u001b[32mVarVal\u001b[39m[\u001b[32m_\u001b[39m]] = \u001b[33mSet\u001b[39m()"
      ]
     },
     "execution_count": 45,
     "metadata": {},
     "output_type": "execute_result"
    }
   ],
   "source": [
    "extras -- initEls"
   ]
  },
  {
   "cell_type": "code",
   "execution_count": 46,
   "metadata": {},
   "outputs": [
    {
     "data": {
      "text/plain": [
       "\u001b[36msd\u001b[39m: \u001b[32mStateDistribution\u001b[39m[\u001b[32mTermState\u001b[39m, \u001b[32mFiniteDistribution\u001b[39m] = provingground.learning.TermState$$anon$1@43aa7281"
      ]
     },
     "execution_count": 46,
     "metadata": {},
     "output_type": "execute_result"
    }
   ],
   "source": [
    "val sd = implicitly[StateDistribution[TermState, FiniteDistribution]]"
   ]
  },
  {
   "cell_type": "code",
   "execution_count": 47,
   "metadata": {},
   "outputs": [
    {
     "data": {
      "text/plain": [
       "\u001b[36mzeroVals\u001b[39m: \u001b[32mSet\u001b[39m[\u001b[32mInitialVal\u001b[39m[\u001b[32mAny\u001b[39m]] = \u001b[33mSet\u001b[39m(\n",
       "  \u001b[33mInitialVal\u001b[39m(\u001b[33mElem\u001b[39m(\u001b[32m@a\u001b[39m, Terms)),\n",
       "  \u001b[33mInitialVal\u001b[39m(\u001b[33mElem\u001b[39m(\u001b[32m@a\u001b[39m, Terms)),\n",
       "  \u001b[33mInitialVal\u001b[39m(\u001b[33mElem\u001b[39m(\u001b[32m@a\u001b[39m, Terms)),\n",
       "  \u001b[33mInitialVal\u001b[39m(\u001b[33mElem\u001b[39m(\u001b[33mWrap\u001b[39m(\u001b[32m@a\u001b[39m), Funcs)),\n",
       "  \u001b[33mInitialVal\u001b[39m(\u001b[33mElem\u001b[39m(\u001b[32m@a\u001b[39m, Terms)),\n",
       "  \u001b[33mInitialVal\u001b[39m(\u001b[33mElem\u001b[39m(\u001b[32m@a\u001b[39m, Terms)),\n",
       "  \u001b[33mInitialVal\u001b[39m(\u001b[33mElem\u001b[39m(\u001b[32m@a\u001b[39m, Terms)),\n",
       "  \u001b[33mInitialVal\u001b[39m(\u001b[33mElem\u001b[39m(\u001b[33mWrap\u001b[39m(\u001b[32m@a\u001b[39m), Funcs)),\n",
       "  \u001b[33mInitialVal\u001b[39m(\u001b[33mElem\u001b[39m(\u001b[32m@a\u001b[39m, Terms)),\n",
       "  \u001b[33mInitialVal\u001b[39m(\u001b[33mElem\u001b[39m(\u001b[32m@a\u001b[39m, Terms))\n",
       ")"
      ]
     },
     "execution_count": 47,
     "metadata": {},
     "output_type": "execute_result"
    }
   ],
   "source": [
    "val zeroVals =  initEls.filter{case InitialVal(Elem(x, rv)) => sd.value(ts)(rv)(x) == 0}"
   ]
  },
  {
   "cell_type": "code",
   "execution_count": 48,
   "metadata": {},
   "outputs": [
    {
     "data": {
      "text/plain": [
       "\u001b[36mwithZero\u001b[39m: \u001b[32mSet\u001b[39m[\u001b[32mEquationTerm\u001b[39m] = \u001b[33mSet\u001b[39m(\n",
       "  \u001b[33mEquationTerm\u001b[39m(\n",
       "    \u001b[33mInitialVal\u001b[39m(\n",
       "      \u001b[33mInIsle\u001b[39m(\n",
       "        \u001b[33mElem\u001b[39m(\u001b[32m@a\u001b[39m, Terms),\n",
       "        \u001b[32m@a\u001b[39m,\n",
       "        \u001b[33mIsland\u001b[39m(Terms, \u001b[33mCRV\u001b[39m(Terms), \u001b[33mAddVar\u001b[39m(\u001b[32m(M → (M → M))\u001b[39m, \u001b[32m0.3\u001b[39m), Lambda, InIsle)\n",
       "      )\n",
       "    ),\n",
       "    \u001b[33mProduct\u001b[39m(\u001b[33mIsleScale\u001b[39m(\u001b[32m@a\u001b[39m, \u001b[33mElem\u001b[39m(\u001b[32m@a\u001b[39m, Terms)), \u001b[33mInitialVal\u001b[39m(\u001b[33mElem\u001b[39m(\u001b[32m@a\u001b[39m, Terms)))\n",
       "  ),\n",
       "  \u001b[33mEquationTerm\u001b[39m(\n",
       "    \u001b[33mInitialVal\u001b[39m(\n",
       "      \u001b[33mInIsle\u001b[39m(\u001b[33mElem\u001b[39m(\u001b[32m@a\u001b[39m, Terms), \u001b[32m@a\u001b[39m, \u001b[33mIsland\u001b[39m(Terms, \u001b[33mCRV\u001b[39m(Terms), \u001b[33mAddVar\u001b[39m(\u001b[32mM\u001b[39m, \u001b[32m0.3\u001b[39m), Lambda, InIsle))\n",
       "    ),\n",
       "    \u001b[33mProduct\u001b[39m(\u001b[33mIsleScale\u001b[39m(\u001b[32m@a\u001b[39m, \u001b[33mElem\u001b[39m(\u001b[32m@a\u001b[39m, Terms)), \u001b[33mInitialVal\u001b[39m(\u001b[33mElem\u001b[39m(\u001b[32m@a\u001b[39m, Terms)))\n",
       "  ),\n",
       "  \u001b[33mEquationTerm\u001b[39m(\n",
       "    \u001b[33mInitialVal\u001b[39m(\n",
       "      \u001b[33mInIsle\u001b[39m(\n",
       "        \u001b[33mElem\u001b[39m(\u001b[32m@a\u001b[39m, Terms),\n",
       "        \u001b[32m@a\u001b[39m,\n",
       "        \u001b[33mIsland\u001b[39m(Terms, \u001b[33mCRV\u001b[39m(Terms), \u001b[33mAddVar\u001b[39m(\u001b[32m(M → (M → 𝒰 ))\u001b[39m, \u001b[32m0.3\u001b[39m), Lambda, InIsle)\n",
       "      )\n",
       "    ),\n",
       "    \u001b[33mProduct\u001b[39m(\u001b[33mIsleScale\u001b[39m(\u001b[32m@a\u001b[39m, \u001b[33mElem\u001b[39m(\u001b[32m@a\u001b[39m, Terms)), \u001b[33mInitialVal\u001b[39m(\u001b[33mElem\u001b[39m(\u001b[32m@a\u001b[39m, Terms)))\n",
       "  ),\n",
       "  \u001b[33mEquationTerm\u001b[39m(\n",
       "    \u001b[33mInitialVal\u001b[39m(\n",
       "      \u001b[33mInIsle\u001b[39m(\n",
       "        \u001b[33mElem\u001b[39m(\u001b[32m@a\u001b[39m, Terms),\n",
       "        \u001b[32m@a\u001b[39m,\n",
       "        \u001b[33mIsland\u001b[39m(Terms, \u001b[33mCRV\u001b[39m(Terms), \u001b[33mAddVar\u001b[39m(\u001b[32m∏(a : M){ eqM(mul(e_l)(a))(a) }\u001b[39m, \u001b[32m0.3\u001b[39m), Lambda, InIsle)\n",
       "      )\n",
       "    ),\n",
       "    \u001b[33mProduct\u001b[39m(\u001b[33mIsleScale\u001b[39m(\u001b[32m@a\u001b[39m, \u001b[33mElem\u001b[39m(\u001b[32m@a\u001b[39m, Terms)), \u001b[33mInitialVal\u001b[39m(\u001b[33mElem\u001b[39m(\u001b[32m@a\u001b[39m, Terms)))\n",
       "  ),\n",
       "  \u001b[33mEquationTerm\u001b[39m(\n",
       "    \u001b[33mInitialVal\u001b[39m(\n",
       "      \u001b[33mInIsle\u001b[39m(\n",
       "        \u001b[33mElem\u001b[39m(\u001b[32m@a\u001b[39m, Terms),\n",
       "        \u001b[32m@a\u001b[39m,\n",
       "        \u001b[33mIsland\u001b[39m(\n",
       "          \u001b[33mAtCoord\u001b[39m(FuncsWithDomain, \u001b[32m(M → (M → 𝒰 ))\u001b[39m :: HNil),\n",
       "          \u001b[33mCRV\u001b[39m(Terms),\n",
       "          \u001b[33mAddVar\u001b[39m(\u001b[32m(M → (M → 𝒰 ))\u001b[39m, \u001b[32m0.3\u001b[39m),\n",
       "          Lambda,\n",
       "          InIsle\n",
       "        )\n",
       "..."
      ]
     },
     "execution_count": 48,
     "metadata": {},
     "output_type": "execute_result"
    }
   ],
   "source": [
    "val withZero = eqs.filter(eq => varVals(eq.rhs).intersect(zeroVals.map(x => x : VarVal[_])).nonEmpty)"
   ]
  },
  {
   "cell_type": "code",
   "execution_count": 49,
   "metadata": {},
   "outputs": [
    {
     "data": {
      "text/plain": [
       "\u001b[36matoms\u001b[39m: \u001b[32mSet\u001b[39m[\u001b[32mExpression\u001b[39m] = \u001b[33mSet\u001b[39m(\n",
       "  \u001b[33mFinalVal\u001b[39m(\u001b[33mElem\u001b[39m(\u001b[32m(@a : ∏(a : M){ eqM(mul(a)(e_r))(a) }) ↦ @a\u001b[39m, Terms)),\n",
       "  \u001b[33mInitialVal\u001b[39m(\n",
       "    \u001b[33mInIsle\u001b[39m(\n",
       "      \u001b[33mElem\u001b[39m(\u001b[33mWrap\u001b[39m(\u001b[32maxiom_{(eqM(a)(b) \\to (eqM(b)(c) \\to eqM(a)(c)))}\u001b[39m), Funcs),\n",
       "      \u001b[32m@a\u001b[39m,\n",
       "      \u001b[33mIsland\u001b[39m(Terms, \u001b[33mCRV\u001b[39m(Terms), \u001b[33mAddVar\u001b[39m(\u001b[32m(M → (M → M))\u001b[39m, \u001b[32m0.3\u001b[39m), Lambda, InIsle)\n",
       "    )\n",
       "  ),\n",
       "  \u001b[33mFinalVal\u001b[39m(\n",
       "    \u001b[33mInIsle\u001b[39m(\n",
       "      \u001b[33mElem\u001b[39m(\u001b[33mWrap\u001b[39m(\u001b[32maxiom_{(eqM(a)(b) \\to (eqM(b)(c) \\to eqM(a)(c)))}\u001b[39m), Funcs),\n",
       "      \u001b[32m@a\u001b[39m,\n",
       "      \u001b[33mIsland\u001b[39m(Terms, \u001b[33mCRV\u001b[39m(Terms), \u001b[33mAddVar\u001b[39m(\u001b[32m(M → (M → M))\u001b[39m, \u001b[32m0.3\u001b[39m), Lambda, InIsle)\n",
       "    )\n",
       "  ),\n",
       "  \u001b[33mFinalVal\u001b[39m(\n",
       "    \u001b[33mInIsle\u001b[39m(\n",
       "      \u001b[33mElem\u001b[39m(\u001b[32maxiom_{eqM(mul(a)(e_r))(a)}\u001b[39m, Terms),\n",
       "      \u001b[32m@a\u001b[39m,\n",
       "      \u001b[33mIsland\u001b[39m(\n",
       "        Terms,\n",
       "        \u001b[33mCRV\u001b[39m(Terms),\n",
       "        \u001b[33mAddVar\u001b[39m(\u001b[32m∏(a : M){ ∏(b : M){ (eqM(a)(b) → eqM(b)(a)) } }\u001b[39m, \u001b[32m0.3\u001b[39m),\n",
       "        Lambda,\n",
       "        InIsle\n",
       "      )\n",
       "    )\n",
       "  ),\n",
       "  \u001b[33mInitialVal\u001b[39m(\n",
       "    \u001b[33mInIsle\u001b[39m(\n",
       "      \u001b[33mElem\u001b[39m(\u001b[32maxiom_{eqM(mul(a)(e_r))(a)}\u001b[39m, Terms),\n",
       "      \u001b[32m@a\u001b[39m,\n",
       "      \u001b[33mIsland\u001b[39m(\n",
       "        Terms,\n",
       "        \u001b[33mCRV\u001b[39m(Terms),\n",
       "        \u001b[33mAddVar\u001b[39m(\u001b[32m∏(a : M){ ∏(b : M){ (eqM(a)(b) → eqM(b)(a)) } }\u001b[39m, \u001b[32m0.3\u001b[39m),\n",
       "        Lambda,\n",
       "        InIsle\n",
       "      )\n",
       "    )\n",
       "  ),\n",
       "  \u001b[33mFinalVal\u001b[39m(\n",
       "    \u001b[33mElem\u001b[39m(\n",
       "      \u001b[32m((M → (M → M)) → ∏(a : M){ ∏(b : M){ ∏(c : M){ (eqM(a)(b) → (eqM(b)(c) → eqM(a)(c))) } } })\u001b[39m,\n",
       "      Typs\n",
       "    )\n",
       "  ),\n",
       "  \u001b[33mFinalVal\u001b[39m(\n",
       "..."
      ]
     },
     "execution_count": 49,
     "metadata": {},
     "output_type": "execute_result"
    }
   ],
   "source": [
    "val atoms = ats.union(lefts)"
   ]
  },
  {
   "cell_type": "code",
   "execution_count": 50,
   "metadata": {},
   "outputs": [
    {
     "data": {
      "text/plain": [
       "\u001b[32mimport \u001b[39m\u001b[36mExpressionEval._\u001b[39m"
      ]
     },
     "execution_count": 50,
     "metadata": {},
     "output_type": "execute_result"
    }
   ],
   "source": [
    "import ExpressionEval._"
   ]
  },
  {
   "cell_type": "code",
   "execution_count": 51,
   "metadata": {},
   "outputs": [
    {
     "data": {
      "text/plain": [
       "\u001b[36minit\u001b[39m: \u001b[32mMap\u001b[39m[\u001b[32mExpression\u001b[39m, \u001b[32mDouble\u001b[39m] = \u001b[33mMap\u001b[39m(\n",
       "  \u001b[33mIsleScale\u001b[39m(\u001b[32m@a\u001b[39m, \u001b[33mElem\u001b[39m(\u001b[32mmul\u001b[39m, Terms)) -> \u001b[32m0.7\u001b[39m,\n",
       "  \u001b[33mInitialVal\u001b[39m(\u001b[33mElem\u001b[39m(\u001b[32mmul\u001b[39m, Terms)) -> \u001b[32m0.3333333333333333\u001b[39m,\n",
       "  \u001b[33mInitialVal\u001b[39m(\u001b[33mElem\u001b[39m(\u001b[32me_r\u001b[39m, Terms)) -> \u001b[32m0.047619047619047616\u001b[39m,\n",
       "  \u001b[33mIsleScale\u001b[39m(\u001b[32m@a\u001b[39m, \u001b[33mElem\u001b[39m(\u001b[33mWrap\u001b[39m(\u001b[32maxiom_{eqM(mul(e_l)(a))(a)}\u001b[39m), Funcs)) -> \u001b[32m0.7\u001b[39m,\n",
       "  \u001b[33mCoeff\u001b[39m(\n",
       "    \u001b[33mBaseThenCondition\u001b[39m(\n",
       "      \u001b[33mZipMapOpt\u001b[39m(UnifApplnOpt, Funcs, Terms, Terms),\n",
       "      \u001b[33mAtCoord\u001b[39m(TermsWithTyp, \u001b[32m(M → (M → M))\u001b[39m :: HNil),\n",
       "      \u001b[33mFilter\u001b[39m(\u001b[33mWithTyp\u001b[39m(\u001b[32m(M → (M → M))\u001b[39m))\n",
       "    ),\n",
       "    \u001b[33mAtCoord\u001b[39m(TermsWithTyp, \u001b[32m(M → (M → M))\u001b[39m :: HNil)\n",
       "  ) -> \u001b[32m0.1\u001b[39m,\n",
       "  \u001b[33mCoeff\u001b[39m(\n",
       "    \u001b[33mBaseThenCondition\u001b[39m(\u001b[33mZipMapOpt\u001b[39m(UnifApplnOpt, TypFamilies, Terms, Terms), Typs, \u001b[33mRestrict\u001b[39m(TypOpt)),\n",
       "    Typs\n",
       "  ) -> \u001b[32m0.1\u001b[39m,\n",
       "  \u001b[33mInitialVal\u001b[39m(\u001b[33mElem\u001b[39m(\u001b[32maxiom_{eqM(a)(a)}\u001b[39m, Terms)) -> \u001b[32m0.047619047619047616\u001b[39m,\n",
       "  \u001b[33mInitialVal\u001b[39m(\n",
       "    \u001b[33mElem\u001b[39m(\n",
       "      \u001b[33mWrap\u001b[39m(\u001b[32maxiom_{(eqM(a)(b) \\to (eqM(b)(c) \\to eqM(a)(c)))}\u001b[39m),\n",
       "      \u001b[33mAtCoord\u001b[39m(FuncsWithDomain, \u001b[32mM\u001b[39m :: HNil)\n",
       "    )\n",
       "  ) -> \u001b[32m0.052631578947368425\u001b[39m,\n",
       "  \u001b[33mIsleScale\u001b[39m(\u001b[32m@a\u001b[39m, \u001b[33mElem\u001b[39m(\u001b[33mWrap\u001b[39m(\u001b[32maxiom_{(eqM(a)(b) \\to eqM(b)(a))}\u001b[39m), Funcs)) -> \u001b[32m0.7\u001b[39m,\n",
       "  \u001b[33mInitialVal\u001b[39m(\u001b[33mElem\u001b[39m(\u001b[32maxiom_{(eqM(a)(b) \\to eqM(b)(a))}\u001b[39m, Terms)) -> \u001b[32m0.047619047619047616\u001b[39m,\n",
       "  \u001b[33mCoeff\u001b[39m(\n",
       "    \u001b[33mBaseThenCondition\u001b[39m(\n",
       "      \u001b[33mFiberProductMap\u001b[39m(domOf, TermsWithTyp, Appln, Funcs, Terms),\n",
       "      \u001b[33mAtCoord\u001b[39m(TermsWithTyp, \u001b[32mM\u001b[39m :: HNil),\n",
       "      \u001b[33mFilter\u001b[39m(\u001b[33mWithTyp\u001b[39m(\u001b[32mM\u001b[39m))\n",
       "    ),\n",
       "    \u001b[33mAtCoord\u001b[39m(TermsWithTyp, \u001b[32mM\u001b[39m :: HNil)\n",
       "  ) -> \u001b[32m0.1\u001b[39m,\n",
       "  \u001b[33mCoeff\u001b[39m(\u001b[33mBaseThenCondition\u001b[39m(\u001b[33mFlatMap\u001b[39m(Typs, LambdaIsle, Terms), Funcs, \u001b[33mRestrict\u001b[39m(FuncOpt)), Funcs) -> \u001b[32m0.1\u001b[39m,\n",
       "  \u001b[33mIsleScale\u001b[39m(\u001b[32m@a\u001b[39m, \u001b[33mElem\u001b[39m(\u001b[32me_l\u001b[39m, Terms)) -> \u001b[32m0.7\u001b[39m,\n",
       "  \u001b[33mIsleScale\u001b[39m(\u001b[32m@a\u001b[39m, \u001b[33mElem\u001b[39m(\u001b[32meqM\u001b[39m, Terms)) -> \u001b[32m0.7\u001b[39m,\n",
       "  \u001b[33mIsleScale\u001b[39m(\u001b[32m@a\u001b[39m, \u001b[33mElem\u001b[39m(\u001b[32m∏(a : M){ ∏(b : M){ (eqM(a)(b) → eqM(b)(a)) } }\u001b[39m, Typs)) -> \u001b[32m0.7\u001b[39m,\n",
       "  \u001b[33mIsleScale\u001b[39m(\u001b[32m@a\u001b[39m, \u001b[33mElem\u001b[39m(\u001b[32m∏(a : M){ eqM(mul(e_l)(a))(a) }\u001b[39m, Typs)) -> \u001b[32m0.7\u001b[39m,\n",
       "  \u001b[33mIsleScale\u001b[39m(\u001b[32m@a\u001b[39m, \u001b[33mElem\u001b[39m(\u001b[32maxiom_{(eqM(a)(b) \\to eqM(b)(a))}\u001b[39m, Terms)) -> \u001b[32m0.7\u001b[39m,\n",
       "  \u001b[33mInitialVal\u001b[39m(\u001b[33mElem\u001b[39m(\u001b[33mWrap\u001b[39m(\u001b[32maxiom_{eqM(mul(e_l)(a))(a)}\u001b[39m), \u001b[33mAtCoord\u001b[39m(FuncsWithDomain, \u001b[32mM\u001b[39m :: HNil))) -> \u001b[32m0.052631578947368425\u001b[39m,\n",
       "  \u001b[33mIsleScale\u001b[39m(\u001b[32m@a\u001b[39m, \u001b[33mElem\u001b[39m(\u001b[32maxiom_{(eqM(a)(b) \\to eqM(b)(a))}\u001b[39m, Terms)) -> \u001b[32m0.7\u001b[39m,\n",
       "  \u001b[33mInitialVal\u001b[39m(\u001b[33mElem\u001b[39m(\u001b[32meqM\u001b[39m, \u001b[33mAtCoord\u001b[39m(TermsWithTyp, \u001b[32m(M → (M → 𝒰 ))\u001b[39m :: HNil))) -> \u001b[32m1.0\u001b[39m,\n",
       "  \u001b[33mIsleScale\u001b[39m(\u001b[32m@a\u001b[39m, \u001b[33mElem\u001b[39m(\u001b[32maxiom_{eqM(mul(a)(e_r))(a)}\u001b[39m, Terms)) -> \u001b[32m0.7\u001b[39m,\n",
       "  \u001b[33mInitialVal\u001b[39m(\u001b[33mElem\u001b[39m(\u001b[33mWrap\u001b[39m(\u001b[32maxiom_{eqM(a)(a)}\u001b[39m), Funcs)) -> \u001b[32m0.05263157894736841\u001b[39m,\n",
       "  \u001b[33mInitialVal\u001b[39m(\u001b[33mElem\u001b[39m(\u001b[32maxiom_{(eqM(a)(b) \\to (eqM(b)(c) \\to eqM(a)(c)))}\u001b[39m, Terms)) -> \u001b[32m0.047619047619047616\u001b[39m,\n",
       "..."
      ]
     },
     "execution_count": 51,
     "metadata": {},
     "output_type": "execute_result"
    }
   ],
   "source": [
    "val init = initMap(atoms, tg, ts)"
   ]
  },
  {
   "cell_type": "code",
   "execution_count": 52,
   "metadata": {},
   "outputs": [
    {
     "data": {
      "text/plain": [
       "\u001b[36mres51\u001b[39m: \u001b[32mInt\u001b[39m = \u001b[32m187\u001b[39m"
      ]
     },
     "execution_count": 52,
     "metadata": {},
     "output_type": "execute_result"
    }
   ],
   "source": [
    "init.size"
   ]
  },
  {
   "cell_type": "code",
   "execution_count": 53,
   "metadata": {},
   "outputs": [
    {
     "data": {
      "text/plain": [
       "\u001b[36mm2\u001b[39m: \u001b[32mMap\u001b[39m[\u001b[32mExpression\u001b[39m, \u001b[32mDouble\u001b[39m] = \u001b[33mMap\u001b[39m(\n",
       "  \u001b[33mFinalVal\u001b[39m(\u001b[33mElem\u001b[39m(\u001b[32m(@a : ∏(a : M){ eqM(mul(a)(e_r))(a) }) ↦ @a\u001b[39m, Terms)) -> \u001b[32m0.0\u001b[39m,\n",
       "  \u001b[33mFinalVal\u001b[39m(\n",
       "    \u001b[33mInIsle\u001b[39m(\n",
       "      \u001b[33mElem\u001b[39m(\u001b[33mWrap\u001b[39m(\u001b[32maxiom_{(eqM(a)(b) \\to (eqM(b)(c) \\to eqM(a)(c)))}\u001b[39m), Funcs),\n",
       "      \u001b[32m@a\u001b[39m,\n",
       "      \u001b[33mIsland\u001b[39m(Terms, \u001b[33mCRV\u001b[39m(Terms), \u001b[33mAddVar\u001b[39m(\u001b[32m(M → (M → M))\u001b[39m, \u001b[32m0.3\u001b[39m), Lambda, InIsle)\n",
       "    )\n",
       "  ) -> \u001b[32m0.0\u001b[39m,\n",
       "  \u001b[33mInitialVal\u001b[39m(\n",
       "    \u001b[33mInIsle\u001b[39m(\n",
       "      \u001b[33mElem\u001b[39m(\u001b[33mWrap\u001b[39m(\u001b[32maxiom_{(eqM(a)(b) \\to (eqM(b)(c) \\to eqM(a)(c)))}\u001b[39m), Funcs),\n",
       "      \u001b[32m@a\u001b[39m,\n",
       "      \u001b[33mIsland\u001b[39m(Terms, \u001b[33mCRV\u001b[39m(Terms), \u001b[33mAddVar\u001b[39m(\u001b[32m(M → (M → M))\u001b[39m, \u001b[32m0.3\u001b[39m), Lambda, InIsle)\n",
       "    )\n",
       "  ) -> \u001b[32m0.036842105263157884\u001b[39m,\n",
       "  \u001b[33mInitialVal\u001b[39m(\n",
       "    \u001b[33mInIsle\u001b[39m(\n",
       "      \u001b[33mElem\u001b[39m(\u001b[32maxiom_{eqM(mul(a)(e_r))(a)}\u001b[39m, Terms),\n",
       "      \u001b[32m@a\u001b[39m,\n",
       "      \u001b[33mIsland\u001b[39m(\n",
       "        Terms,\n",
       "        \u001b[33mCRV\u001b[39m(Terms),\n",
       "        \u001b[33mAddVar\u001b[39m(\u001b[32m∏(a : M){ ∏(b : M){ (eqM(a)(b) → eqM(b)(a)) } }\u001b[39m, \u001b[32m0.3\u001b[39m),\n",
       "        Lambda,\n",
       "        InIsle\n",
       "      )\n",
       "    )\n",
       "  ) -> \u001b[32m0.033333333333333326\u001b[39m,\n",
       "  \u001b[33mFinalVal\u001b[39m(\n",
       "    \u001b[33mInIsle\u001b[39m(\n",
       "      \u001b[33mElem\u001b[39m(\u001b[32maxiom_{eqM(mul(a)(e_r))(a)}\u001b[39m, Terms),\n",
       "      \u001b[32m@a\u001b[39m,\n",
       "      \u001b[33mIsland\u001b[39m(\n",
       "        Terms,\n",
       "        \u001b[33mCRV\u001b[39m(Terms),\n",
       "        \u001b[33mAddVar\u001b[39m(\u001b[32m∏(a : M){ ∏(b : M){ (eqM(a)(b) → eqM(b)(a)) } }\u001b[39m, \u001b[32m0.3\u001b[39m),\n",
       "        Lambda,\n",
       "        InIsle\n",
       "      )\n",
       "    )\n",
       "  ) -> \u001b[32m0.0\u001b[39m,\n",
       "  \u001b[33mFinalVal\u001b[39m(\n",
       "    \u001b[33mElem\u001b[39m(\n",
       "      \u001b[32m((M → (M → M)) → ∏(a : M){ ∏(b : M){ ∏(c : M){ (eqM(a)(b) → (eqM(b)(c) → eqM(a)(c))) } } })\u001b[39m,\n",
       "      Typs\n",
       "    )\n",
       "  ) -> \u001b[32m0.0\u001b[39m,\n",
       "  \u001b[33mFinalVal\u001b[39m(\n",
       "..."
      ]
     },
     "execution_count": 53,
     "metadata": {},
     "output_type": "execute_result"
    }
   ],
   "source": [
    "val m2 = nextMap(init, eqgs)"
   ]
  },
  {
   "cell_type": "code",
   "execution_count": 54,
   "metadata": {},
   "outputs": [
    {
     "data": {
      "text/plain": [
       "\u001b[36mres53\u001b[39m: \u001b[32mInt\u001b[39m = \u001b[32m772\u001b[39m"
      ]
     },
     "execution_count": 54,
     "metadata": {},
     "output_type": "execute_result"
    }
   ],
   "source": [
    "m2.size"
   ]
  },
  {
   "cell_type": "code",
   "execution_count": 55,
   "metadata": {},
   "outputs": [
    {
     "data": {
      "text/plain": [
       "\u001b[36mm3\u001b[39m: \u001b[32mMap\u001b[39m[\u001b[32mExpression\u001b[39m, \u001b[32mDouble\u001b[39m] = \u001b[33mMap\u001b[39m(\n",
       "  \u001b[33mFinalVal\u001b[39m(\u001b[33mElem\u001b[39m(\u001b[32m(@a : ∏(a : M){ eqM(mul(a)(e_r))(a) }) ↦ @a\u001b[39m, Terms)) -> \u001b[32m0.0\u001b[39m,\n",
       "  \u001b[33mInitialVal\u001b[39m(\n",
       "    \u001b[33mInIsle\u001b[39m(\n",
       "      \u001b[33mElem\u001b[39m(\u001b[33mWrap\u001b[39m(\u001b[32maxiom_{(eqM(a)(b) \\to (eqM(b)(c) \\to eqM(a)(c)))}\u001b[39m), Funcs),\n",
       "      \u001b[32m@a\u001b[39m,\n",
       "      \u001b[33mIsland\u001b[39m(Terms, \u001b[33mCRV\u001b[39m(Terms), \u001b[33mAddVar\u001b[39m(\u001b[32m(M → (M → M))\u001b[39m, \u001b[32m0.3\u001b[39m), Lambda, InIsle)\n",
       "    )\n",
       "  ) -> \u001b[32m0.036842105263157884\u001b[39m,\n",
       "  \u001b[33mFinalVal\u001b[39m(\n",
       "    \u001b[33mInIsle\u001b[39m(\n",
       "      \u001b[33mElem\u001b[39m(\u001b[33mWrap\u001b[39m(\u001b[32maxiom_{(eqM(a)(b) \\to (eqM(b)(c) \\to eqM(a)(c)))}\u001b[39m), Funcs),\n",
       "      \u001b[32m@a\u001b[39m,\n",
       "      \u001b[33mIsland\u001b[39m(Terms, \u001b[33mCRV\u001b[39m(Terms), \u001b[33mAddVar\u001b[39m(\u001b[32m(M → (M → M))\u001b[39m, \u001b[32m0.3\u001b[39m), Lambda, InIsle)\n",
       "    )\n",
       "  ) -> \u001b[32m0.020263157894736837\u001b[39m,\n",
       "  \u001b[33mFinalVal\u001b[39m(\n",
       "    \u001b[33mInIsle\u001b[39m(\n",
       "      \u001b[33mElem\u001b[39m(\u001b[32maxiom_{eqM(mul(a)(e_r))(a)}\u001b[39m, Terms),\n",
       "      \u001b[32m@a\u001b[39m,\n",
       "      \u001b[33mIsland\u001b[39m(\n",
       "        Terms,\n",
       "        \u001b[33mCRV\u001b[39m(Terms),\n",
       "        \u001b[33mAddVar\u001b[39m(\u001b[32m∏(a : M){ ∏(b : M){ (eqM(a)(b) → eqM(b)(a)) } }\u001b[39m, \u001b[32m0.3\u001b[39m),\n",
       "        Lambda,\n",
       "        InIsle\n",
       "      )\n",
       "    )\n",
       "  ) -> \u001b[32m0.01833333333333333\u001b[39m,\n",
       "  \u001b[33mInitialVal\u001b[39m(\n",
       "    \u001b[33mInIsle\u001b[39m(\n",
       "      \u001b[33mElem\u001b[39m(\u001b[32maxiom_{eqM(mul(a)(e_r))(a)}\u001b[39m, Terms),\n",
       "      \u001b[32m@a\u001b[39m,\n",
       "      \u001b[33mIsland\u001b[39m(\n",
       "        Terms,\n",
       "        \u001b[33mCRV\u001b[39m(Terms),\n",
       "        \u001b[33mAddVar\u001b[39m(\u001b[32m∏(a : M){ ∏(b : M){ (eqM(a)(b) → eqM(b)(a)) } }\u001b[39m, \u001b[32m0.3\u001b[39m),\n",
       "        Lambda,\n",
       "        InIsle\n",
       "      )\n",
       "    )\n",
       "  ) -> \u001b[32m0.033333333333333326\u001b[39m,\n",
       "  \u001b[33mFinalVal\u001b[39m(\n",
       "    \u001b[33mElem\u001b[39m(\n",
       "      \u001b[32m((M → (M → M)) → ∏(a : M){ ∏(b : M){ ∏(c : M){ (eqM(a)(b) → (eqM(b)(c) → eqM(a)(c))) } } })\u001b[39m,\n",
       "      Typs\n",
       "    )\n",
       "  ) -> \u001b[32m0.0\u001b[39m,\n",
       "  \u001b[33mFinalVal\u001b[39m(\n",
       "..."
      ]
     },
     "execution_count": 55,
     "metadata": {},
     "output_type": "execute_result"
    }
   ],
   "source": [
    "val m3 = nextMap(m2, eqgs)"
   ]
  },
  {
   "cell_type": "code",
   "execution_count": 56,
   "metadata": {},
   "outputs": [
    {
     "data": {
      "text/plain": [
       "\u001b[36mres55\u001b[39m: \u001b[32mInt\u001b[39m = \u001b[32m772\u001b[39m"
      ]
     },
     "execution_count": 56,
     "metadata": {},
     "output_type": "execute_result"
    }
   ],
   "source": [
    "m3.size"
   ]
  },
  {
   "cell_type": "code",
   "execution_count": 57,
   "metadata": {},
   "outputs": [
    {
     "data": {
      "text/plain": [
       "\u001b[36mres56\u001b[39m: \u001b[32mInt\u001b[39m = \u001b[32m772\u001b[39m"
      ]
     },
     "execution_count": 57,
     "metadata": {},
     "output_type": "execute_result"
    }
   ],
   "source": [
    "atoms.size"
   ]
  },
  {
   "cell_type": "code",
   "execution_count": 58,
   "metadata": {},
   "outputs": [
    {
     "data": {
      "text/plain": [
       "\u001b[36mres57\u001b[39m: \u001b[32mSet\u001b[39m[\u001b[32mExpression\u001b[39m] = \u001b[33mSet\u001b[39m()"
      ]
     },
     "execution_count": 58,
     "metadata": {},
     "output_type": "execute_result"
    }
   ],
   "source": [
    "atoms -- m3.keys"
   ]
  },
  {
   "cell_type": "code",
   "execution_count": 59,
   "metadata": {},
   "outputs": [
    {
     "data": {
      "text/plain": [
       "\u001b[36mres58\u001b[39m: \u001b[32mSet\u001b[39m[\u001b[32mDouble\u001b[39m] = \u001b[33mSet\u001b[39m(\n",
       "  \u001b[32m0.057142857142857134\u001b[39m,\n",
       "  \u001b[32m0.0\u001b[39m,\n",
       "  \u001b[32m0.028947368421052635\u001b[39m,\n",
       "  \u001b[32m0.16500000000000004\u001b[39m,\n",
       "  \u001b[32m0.3\u001b[39m,\n",
       "  \u001b[32m0.6\u001b[39m,\n",
       "  \u001b[32m0.028571428571428567\u001b[39m,\n",
       "  \u001b[32m1.0\u001b[39m,\n",
       "  \u001b[32m0.09523809523809523\u001b[39m,\n",
       "  \u001b[32m0.033333333333333326\u001b[39m,\n",
       "  \u001b[32m0.06666666666666665\u001b[39m,\n",
       "  \u001b[32m0.052631578947368425\u001b[39m,\n",
       "  \u001b[32m0.047619047619047616\u001b[39m,\n",
       "  \u001b[32m0.3333333333333333\u001b[39m,\n",
       "  \u001b[32m0.08250000000000002\u001b[39m,\n",
       "  \u001b[32m0.7\u001b[39m,\n",
       "  \u001b[32m0.05\u001b[39m,\n",
       "  \u001b[32m0.1\u001b[39m,\n",
       "  \u001b[32m0.5\u001b[39m,\n",
       "  \u001b[32m0.18333333333333335\u001b[39m,\n",
       "  \u001b[32m0.36842105263157887\u001b[39m,\n",
       "  \u001b[32m0.19999999999999998\u001b[39m,\n",
       "  \u001b[32m0.55\u001b[39m,\n",
       "  \u001b[32m0.028947368421052628\u001b[39m,\n",
       "  \u001b[32m0.05263157894736841\u001b[39m,\n",
       "  \u001b[32m0.20263157894736838\u001b[39m,\n",
       "  \u001b[32m0.2578947368421052\u001b[39m,\n",
       "  \u001b[32m0.036842105263157884\u001b[39m,\n",
       "  \u001b[32m0.2333333333333333\u001b[39m,\n",
       "  \u001b[32m0.4285714285714286\u001b[39m,\n",
       "  \u001b[32m0.3684210526315789\u001b[39m,\n",
       "  \u001b[32m0.2026315789473684\u001b[39m,\n",
       "  \u001b[32m0.02619047619047619\u001b[39m,\n",
       "  \u001b[32m0.30000000000000004\u001b[39m\n",
       ")"
      ]
     },
     "execution_count": 59,
     "metadata": {},
     "output_type": "execute_result"
    }
   ],
   "source": [
    "m2.values.toSet"
   ]
  },
  {
   "cell_type": "code",
   "execution_count": 60,
   "metadata": {},
   "outputs": [
    {
     "data": {
      "text/plain": [
       "\u001b[36mres59\u001b[39m: \u001b[32mMap\u001b[39m[\u001b[32mExpression\u001b[39m, \u001b[32mDouble\u001b[39m] = \u001b[33mMap\u001b[39m(\n",
       "  \u001b[33mCoeff\u001b[39m(\n",
       "    \u001b[33mBaseThenCondition\u001b[39m(\n",
       "      \u001b[33mZipMapOpt\u001b[39m(UnifApplnOpt, Funcs, Terms, Terms),\n",
       "      \u001b[33mAtCoord\u001b[39m(TermsWithTyp, \u001b[32m(M → (M → M))\u001b[39m :: HNil),\n",
       "      \u001b[33mFilter\u001b[39m(\u001b[33mWithTyp\u001b[39m(\u001b[32m(M → (M → M))\u001b[39m))\n",
       "    ),\n",
       "    \u001b[33mAtCoord\u001b[39m(TermsWithTyp, \u001b[32m(M → (M → M))\u001b[39m :: HNil)\n",
       "  ) -> \u001b[32m0.1\u001b[39m,\n",
       "  \u001b[33mCoeff\u001b[39m(\n",
       "    \u001b[33mBaseThenCondition\u001b[39m(\u001b[33mZipMapOpt\u001b[39m(UnifApplnOpt, TypFamilies, Terms, Terms), Typs, \u001b[33mRestrict\u001b[39m(TypOpt)),\n",
       "    Typs\n",
       "  ) -> \u001b[32m0.1\u001b[39m,\n",
       "  \u001b[33mCoeff\u001b[39m(\n",
       "    \u001b[33mBaseThenCondition\u001b[39m(\n",
       "      \u001b[33mFiberProductMap\u001b[39m(domOf, TermsWithTyp, Appln, Funcs, Terms),\n",
       "      \u001b[33mAtCoord\u001b[39m(TermsWithTyp, \u001b[32mM\u001b[39m :: HNil),\n",
       "      \u001b[33mFilter\u001b[39m(\u001b[33mWithTyp\u001b[39m(\u001b[32mM\u001b[39m))\n",
       "    ),\n",
       "    \u001b[33mAtCoord\u001b[39m(TermsWithTyp, \u001b[32mM\u001b[39m :: HNil)\n",
       "  ) -> \u001b[32m0.1\u001b[39m,\n",
       "  \u001b[33mCoeff\u001b[39m(\u001b[33mBaseThenCondition\u001b[39m(\u001b[33mFlatMap\u001b[39m(Typs, LambdaIsle, Terms), Funcs, \u001b[33mRestrict\u001b[39m(FuncOpt)), Funcs) -> \u001b[32m0.1\u001b[39m,\n",
       "  \u001b[33mCoeff\u001b[39m(\u001b[33mZipFlatMap\u001b[39m(TargetTyps, TermsWithTyp, Proj2, Terms), Terms) -> \u001b[32m0.05\u001b[39m,\n",
       "  \u001b[33mCoeff\u001b[39m(\n",
       "    \u001b[33mMap\u001b[39m(\n",
       "      provingground.learning.TermRandomVars$TargetTyps$$$Lambda$3698/199764138@731cf192,\n",
       "      Typs,\n",
       "      TargetTyps\n",
       "    ),\n",
       "    TargetTyps\n",
       "  ) -> \u001b[32m0.30000000000000004\u001b[39m,\n",
       "  \u001b[33mCoeff\u001b[39m(\n",
       "    \u001b[33mIsland\u001b[39m(\n",
       "      \u001b[33mAtCoord\u001b[39m(FuncsWithDomain, \u001b[32m(M → (M → M))\u001b[39m :: HNil),\n",
       "      \u001b[33mCRV\u001b[39m(Terms),\n",
       "      \u001b[33mAddVar\u001b[39m(\u001b[32m(M → (M → M))\u001b[39m, \u001b[32m0.3\u001b[39m),\n",
       "      Lambda,\n",
       "      InIsle\n",
       "    ),\n",
       "    \u001b[33mAtCoord\u001b[39m(FuncsWithDomain, \u001b[32m(M → (M → M))\u001b[39m :: HNil)\n",
       "  ) -> \u001b[32m0.1\u001b[39m,\n",
       "  \u001b[33mCoeff\u001b[39m(\n",
       "    \u001b[33mBaseThenCondition\u001b[39m(\n",
       "      \u001b[33mFiberProductMap\u001b[39m(domOf, TermsWithTyp, Appln, Funcs, Terms),\n",
       "      Funcs,\n",
       "      \u001b[33mRestrict\u001b[39m(FuncOpt)\n",
       "    ),\n",
       "    Funcs\n",
       "..."
      ]
     },
     "execution_count": 60,
     "metadata": {},
     "output_type": "execute_result"
    }
   ],
   "source": [
    "init.filter(_._1.isInstanceOf[Coeff[_]])"
   ]
  },
  {
   "cell_type": "code",
   "execution_count": null,
   "metadata": {},
   "outputs": [],
   "source": []
  }
 ],
 "metadata": {
  "kernelspec": {
   "display_name": "Scala",
   "language": "scala",
   "name": "scala"
  },
  "language_info": {
   "codemirror_mode": "text/x-scala",
   "file_extension": ".scala",
   "mimetype": "text/x-scala",
   "name": "scala",
   "nbconvert_exporter": "script",
   "version": "2.12.8"
  }
 },
 "nbformat": 4,
 "nbformat_minor": 2
}
