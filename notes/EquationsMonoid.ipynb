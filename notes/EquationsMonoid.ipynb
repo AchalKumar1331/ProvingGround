{
 "cells": [
  {
   "cell_type": "markdown",
   "metadata": {},
   "source": [
    "## Generating Equations\n",
    "Mainly to test correctness of equations generated along with forward evolution"
   ]
  },
  {
   "cell_type": "code",
   "execution_count": 1,
   "metadata": {},
   "outputs": [
    {
     "data": {
      "text/plain": [
       "\u001b[32mimport \u001b[39m\u001b[36m$ivy.$                                       \u001b[39m"
      ]
     },
     "execution_count": 1,
     "metadata": {},
     "output_type": "execute_result"
    }
   ],
   "source": [
    "import $ivy.`in.ac.iisc.math::core-jvm:0.1-SNAPSHOT`"
   ]
  },
  {
   "cell_type": "code",
   "execution_count": 2,
   "metadata": {},
   "outputs": [
    {
     "data": {
      "text/plain": [
       "\u001b[32mimport \u001b[39m\u001b[36mprovingground._ , interface._, HoTT._\n",
       "\u001b[39m\n",
       "\u001b[32mimport \u001b[39m\u001b[36mlearning._\n",
       "\u001b[39m\n",
       "\u001b[32mimport \u001b[39m\u001b[36mlibrary._, MonoidSimple._\u001b[39m"
      ]
     },
     "execution_count": 2,
     "metadata": {},
     "output_type": "execute_result"
    }
   ],
   "source": [
    "import provingground._ , interface._, HoTT._\n",
    "import learning._\n",
    "import library._, MonoidSimple._"
   ]
  },
  {
   "cell_type": "code",
   "execution_count": null,
   "metadata": {},
   "outputs": [],
   "source": []
  },
  {
   "cell_type": "code",
   "execution_count": 3,
   "metadata": {},
   "outputs": [],
   "source": [
    "repl.pprinter.bind(translation.FansiShow.fansiPrint)"
   ]
  },
  {
   "cell_type": "code",
   "execution_count": 4,
   "metadata": {},
   "outputs": [
    {
     "data": {
      "text/plain": [
       "\u001b[36mtg\u001b[39m: \u001b[32mTermGenParams\u001b[39m = \u001b[33mTermGenParams\u001b[39m(\u001b[32m0.1\u001b[39m, \u001b[32m0.1\u001b[39m, \u001b[32m0.1\u001b[39m, \u001b[32m0.1\u001b[39m, \u001b[32m0.1\u001b[39m, \u001b[32m0.05\u001b[39m, \u001b[32m0.05\u001b[39m, \u001b[32m0.05\u001b[39m, \u001b[32m0.3\u001b[39m, \u001b[32m0.5\u001b[39m, \u001b[32m0.5\u001b[39m)\n",
       "\u001b[36mres3_1\u001b[39m: \u001b[32mNodeCoeffSeq\u001b[39m[\u001b[32mTermState\u001b[39m, \u001b[32mTerm\u001b[39m, \u001b[32mDouble\u001b[39m] = \u001b[33mCons\u001b[39m(\n",
       "  \u001b[33mBaseCons\u001b[39m(\n",
       "    \u001b[33mBasePi\u001b[39m(provingground.learning.RandomVarFamily$$Lambda$3743/1696252643@19f99222, FuncsWithDomain),\n",
       "    \u001b[32m0.55\u001b[39m,\n",
       "    \u001b[33mBaseCons\u001b[39m(\n",
       "      \u001b[33mBasePi\u001b[39m(provingground.learning.GeneratorNode$$Lambda$3746/578500341@1459a639, FuncsWithDomain),\n",
       "      \u001b[32m0.1\u001b[39m,\n",
       "      \u001b[33mBaseCons\u001b[39m(\n",
       "        \u001b[33mBasePi\u001b[39m(\n",
       "          provingground.learning.GeneratorNode$$Lambda$3746/578500341@4a096895,\n",
       "          FuncsWithDomain\n",
       "        ),\n",
       "        \u001b[32m0.1\u001b[39m,\n",
       "        \u001b[33mBaseCons\u001b[39m(\n",
       "          \u001b[33mBasePi\u001b[39m(\n",
       "            provingground.learning.GeneratorNode$$Lambda$3746/578500341@f46e04c,\n",
       "            FuncsWithDomain\n",
       "          ),\n",
       "          \u001b[32m0.1\u001b[39m,\n",
       "          \u001b[33mBaseCons\u001b[39m(\n",
       "            \u001b[33mBasePi\u001b[39m(\n",
       "              provingground.learning.TermGeneratorNodes$$Lambda$3735/760965419@23b5c30b,\n",
       "              FuncsWithDomain\n",
       "            ),\n",
       "            \u001b[32m0.1\u001b[39m,\n",
       "            \u001b[33mTarget\u001b[39m(FuncsWithDomain)\n",
       "          )\n",
       "        )\n",
       "      )\n",
       "    )\n",
       "  ),\n",
       "  \u001b[33mCons\u001b[39m(\n",
       "    \u001b[33mBaseCons\u001b[39m(\n",
       "      \u001b[33mMap\u001b[39m(\n",
       "        provingground.learning.TermRandomVars$TargetTyps$$$Lambda$3749/1708728537@41ea9b8f,\n",
       "        Goals,\n",
       "        TargetTyps\n",
       "      ),\n",
       "      \u001b[32m0.5\u001b[39m,\n",
       "      \u001b[33mBaseCons\u001b[39m(\n",
       "        \u001b[33mMap\u001b[39m(\n",
       "          provingground.learning.TermRandomVars$TargetTyps$$$Lambda$3750/1569915682@b1305c4,\n",
       "          Typs,\n",
       "          TargetTyps\n",
       "        ),\n",
       "        \u001b[32m0.5\u001b[39m,\n",
       "        \u001b[33mTarget\u001b[39m(TargetTyps)\n",
       "      )\n",
       "..."
      ]
     },
     "execution_count": 4,
     "metadata": {},
     "output_type": "execute_result"
    }
   ],
   "source": [
    "val tg = TermGenParams()\n",
    "tg.nodeCoeffSeq"
   ]
  },
  {
   "cell_type": "code",
   "execution_count": 5,
   "metadata": {},
   "outputs": [
    {
     "data": {
      "text/plain": [
       "\u001b[36mmfd\u001b[39m: \u001b[32mMonixFiniteDistributionEq\u001b[39m[\u001b[32mTermState\u001b[39m, \u001b[32mTerm\u001b[39m] = \u001b[33mMonixFiniteDistributionEq\u001b[39m(\n",
       "  \u001b[33mCons\u001b[39m(\n",
       "    \u001b[33mBaseCons\u001b[39m(\n",
       "      \u001b[33mBasePi\u001b[39m(\n",
       "        provingground.learning.RandomVarFamily$$Lambda$3743/1696252643@19f99222,\n",
       "        FuncsWithDomain\n",
       "      ),\n",
       "      \u001b[32m0.55\u001b[39m,\n",
       "      \u001b[33mBaseCons\u001b[39m(\n",
       "        \u001b[33mBasePi\u001b[39m(\n",
       "          provingground.learning.GeneratorNode$$Lambda$3746/578500341@1459a639,\n",
       "          FuncsWithDomain\n",
       "        ),\n",
       "        \u001b[32m0.1\u001b[39m,\n",
       "        \u001b[33mBaseCons\u001b[39m(\n",
       "          \u001b[33mBasePi\u001b[39m(\n",
       "            provingground.learning.GeneratorNode$$Lambda$3746/578500341@4a096895,\n",
       "            FuncsWithDomain\n",
       "          ),\n",
       "          \u001b[32m0.1\u001b[39m,\n",
       "          \u001b[33mBaseCons\u001b[39m(\n",
       "            \u001b[33mBasePi\u001b[39m(\n",
       "              provingground.learning.GeneratorNode$$Lambda$3746/578500341@f46e04c,\n",
       "              FuncsWithDomain\n",
       "            ),\n",
       "            \u001b[32m0.1\u001b[39m,\n",
       "            \u001b[33mBaseCons\u001b[39m(\n",
       "              \u001b[33mBasePi\u001b[39m(\n",
       "                provingground.learning.TermGeneratorNodes$$Lambda$3735/760965419@23b5c30b,\n",
       "                FuncsWithDomain\n",
       "              ),\n",
       "              \u001b[32m0.1\u001b[39m,\n",
       "              \u001b[33mTarget\u001b[39m(FuncsWithDomain)\n",
       "            )\n",
       "          )\n",
       "        )\n",
       "      )\n",
       "    ),\n",
       "    \u001b[33mCons\u001b[39m(\n",
       "      \u001b[33mBaseCons\u001b[39m(\n",
       "        \u001b[33mMap\u001b[39m(\n",
       "          provingground.learning.TermRandomVars$TargetTyps$$$Lambda$3749/1708728537@41ea9b8f,\n",
       "          Goals,\n",
       "          TargetTyps\n",
       "        ),\n",
       "        \u001b[32m0.5\u001b[39m,\n",
       "        \u001b[33mBaseCons\u001b[39m(\n",
       "          \u001b[33mMap\u001b[39m(\n",
       "            provingground.learning.TermRandomVars$TargetTyps$$$Lambda$3750/1569915682@b1305c4,\n",
       "...\n",
       "\u001b[36mts\u001b[39m: \u001b[32mTermState\u001b[39m = \u001b[33mTermState\u001b[39m(\n",
       "  \u001b[33mFiniteDistribution\u001b[39m(\n",
       "    \u001b[33mVector\u001b[39m(\n",
       "      \u001b[33mWeighted\u001b[39m(\u001b[32me_l\u001b[39m, \u001b[32m0.047619047619047616\u001b[39m),\n",
       "      \u001b[33mWeighted\u001b[39m(\u001b[32me_r\u001b[39m, \u001b[32m0.047619047619047616\u001b[39m),\n",
       "      \u001b[33mWeighted\u001b[39m(\u001b[32mmul\u001b[39m, \u001b[32m0.047619047619047616\u001b[39m),\n",
       "      \u001b[33mWeighted\u001b[39m(\u001b[32meqM\u001b[39m, \u001b[32m0.047619047619047616\u001b[39m),\n",
       "      \u001b[33mWeighted\u001b[39m(\u001b[32maxiom_{eqM(a)(a)}\u001b[39m, \u001b[32m0.047619047619047616\u001b[39m),\n",
       "      \u001b[33mWeighted\u001b[39m(\u001b[32maxiom_{(eqM(a)(b) \\to eqM(b)(a))}\u001b[39m, \u001b[32m0.047619047619047616\u001b[39m),\n",
       "      \u001b[33mWeighted\u001b[39m(\u001b[32maxiom_{(eqM(a)(b) \\to (eqM(b)(c) \\to eqM(a)(c)))}\u001b[39m, \u001b[32m0.047619047619047616\u001b[39m),\n",
       "      \u001b[33mWeighted\u001b[39m(\u001b[32maxiom_{eqM(mul(e_l)(a))(a)}\u001b[39m, \u001b[32m0.047619047619047616\u001b[39m),\n",
       "      \u001b[33mWeighted\u001b[39m(\u001b[32maxiom_{eqM(mul(a)(e_r))(a)}\u001b[39m, \u001b[32m0.047619047619047616\u001b[39m),\n",
       "      \u001b[33mWeighted\u001b[39m(\u001b[32meqM\u001b[39m, \u001b[32m0.2857142857142857\u001b[39m),\n",
       "      \u001b[33mWeighted\u001b[39m(\u001b[32mmul\u001b[39m, \u001b[32m0.2857142857142857\u001b[39m)\n",
       "    )\n",
       "  ),\n",
       "  \u001b[33mFiniteDistribution\u001b[39m(\n",
       "    \u001b[33mVector\u001b[39m(\n",
       "      \u001b[33mWeighted\u001b[39m(\u001b[32mM\u001b[39m, \u001b[32m0.047619047619047616\u001b[39m),\n",
       "      \u001b[33mWeighted\u001b[39m(\u001b[32mM\u001b[39m, \u001b[32m0.047619047619047616\u001b[39m),\n",
       "      \u001b[33mWeighted\u001b[39m(\u001b[32m(M → (M → M))\u001b[39m, \u001b[32m0.047619047619047616\u001b[39m),\n",
       "      \u001b[33mWeighted\u001b[39m(\u001b[32m(M → (M → 𝒰 ))\u001b[39m, \u001b[32m0.047619047619047616\u001b[39m),\n",
       "      \u001b[33mWeighted\u001b[39m(\u001b[32m∏(a : M){ eqM(a)(a) }\u001b[39m, \u001b[32m0.047619047619047616\u001b[39m),\n",
       "      \u001b[33mWeighted\u001b[39m(\u001b[32m∏(a : M){ ∏(b : M){ (eqM(a)(b) → eqM(b)(a)) } }\u001b[39m, \u001b[32m0.047619047619047616\u001b[39m),\n",
       "      \u001b[33mWeighted\u001b[39m(\n",
       "        \u001b[32m∏(a : M){ ∏(b : M){ ∏(c : M){ (eqM(a)(b) → (eqM(b)(c) → eqM(a)(c))) } } }\u001b[39m,\n",
       "        \u001b[32m0.047619047619047616\u001b[39m\n",
       "      ),\n",
       "      \u001b[33mWeighted\u001b[39m(\u001b[32m∏(a : M){ eqM(mul(e_l)(a))(a) }\u001b[39m, \u001b[32m0.047619047619047616\u001b[39m),\n",
       "      \u001b[33mWeighted\u001b[39m(\u001b[32m∏(a : M){ eqM(mul(a)(e_r))(a) }\u001b[39m, \u001b[32m0.047619047619047616\u001b[39m),\n",
       "      \u001b[33mWeighted\u001b[39m(\u001b[32m(M → (M → 𝒰 ))\u001b[39m, \u001b[32m0.2857142857142857\u001b[39m),\n",
       "      \u001b[33mWeighted\u001b[39m(\u001b[32m(M → (M → M))\u001b[39m, \u001b[32m0.2857142857142857\u001b[39m)\n",
       "    )\n",
       "  ),\n",
       "  \u001b[33mVector\u001b[39m(),\n",
       "  \u001b[33mFiniteDistribution\u001b[39m(\u001b[33mVector\u001b[39m()),\n",
       "  \u001b[33mFiniteDistribution\u001b[39m(\u001b[33mVector\u001b[39m()),\n",
       "  Empty\n",
       ")"
      ]
     },
     "execution_count": 5,
     "metadata": {},
     "output_type": "execute_result"
    }
   ],
   "source": [
    "val mfd = MonixFiniteDistributionEq(tg.nodeCoeffSeq)\n",
    "val ts = TermState(dist1, dist1.map(_.typ))"
   ]
  },
  {
   "cell_type": "code",
   "execution_count": 6,
   "metadata": {},
   "outputs": [
    {
     "data": {
      "text/plain": [
       "\u001b[32mimport \u001b[39m\u001b[36mTermRandomVars._\n",
       "\u001b[39m\n",
       "\u001b[36mtsk\u001b[39m: \u001b[32mmonix\u001b[39m.\u001b[32meval\u001b[39m.\u001b[32mTask\u001b[39m[(\u001b[32mFiniteDistribution\u001b[39m[\u001b[32mTerm\u001b[39m], \u001b[32mSet\u001b[39m[\u001b[32mGeneratorVariables\u001b[39m.\u001b[32mEquationTerm\u001b[39m])] = \u001b[33mFlatMap\u001b[39m(\n",
       "  \u001b[33mAsync\u001b[39m(<function2>, true, true, true),\n",
       "  monix.eval.Task$$Lambda$3977/1859016899@2e1f0d33\n",
       ")\n",
       "\u001b[32mimport \u001b[39m\u001b[36mmonix.execution.Scheduler.Implicits.global\u001b[39m"
      ]
     },
     "execution_count": 6,
     "metadata": {},
     "output_type": "execute_result"
    }
   ],
   "source": [
    "import TermRandomVars._\n",
    "val tsk = mfd.varDist(ts)(Terms, 0.001)\n",
    "import monix.execution.Scheduler.Implicits.global"
   ]
  },
  {
   "cell_type": "code",
   "execution_count": 7,
   "metadata": {},
   "outputs": [
    {
     "data": {
      "text/plain": [
       "\u001b[36mrp\u001b[39m: (\u001b[32mFiniteDistribution\u001b[39m[\u001b[32mTerm\u001b[39m], \u001b[32mSet\u001b[39m[\u001b[32mGeneratorVariables\u001b[39m.\u001b[32mEquationTerm\u001b[39m]) = (\n",
       "  \u001b[33mFiniteDistribution\u001b[39m(\n",
       "    \u001b[33mVector\u001b[39m(\n",
       "      \u001b[33mWeighted\u001b[39m(\u001b[32maxiom_{(eqM(a)(b) \\to eqM(b)(a))}\u001b[39m, \u001b[32m0.03157952492251252\u001b[39m),\n",
       "      \u001b[33mWeighted\u001b[39m(\u001b[32mmul(e_r)(e_l)\u001b[39m, \u001b[32m0.005243029344677113\u001b[39m),\n",
       "      \u001b[33mWeighted\u001b[39m(\u001b[32m(@a : M) ↦ mul(@a)\u001b[39m, \u001b[32m0.00921069476906615\u001b[39m),\n",
       "      \u001b[33mWeighted\u001b[39m(\u001b[32meqM(e_r)(e_r)\u001b[39m, \u001b[32m0.005243029344677113\u001b[39m),\n",
       "      \u001b[33mWeighted\u001b[39m(\u001b[32meqM(e_r)(e_l)\u001b[39m, \u001b[32m0.005243029344677113\u001b[39m),\n",
       "      \u001b[33mWeighted\u001b[39m(\u001b[32mmul(e_r)\u001b[39m, \u001b[32m0.024098682493894734\u001b[39m),\n",
       "      \u001b[33mWeighted\u001b[39m(\u001b[32maxiom_{(eqM(a)(b) \\to (eqM(b)(c) \\to eqM(a)(c)))}\u001b[39m, \u001b[32m0.03157952492251252\u001b[39m),\n",
       "      \u001b[33mWeighted\u001b[39m(\u001b[32m(@a : ∏(a : M){ eqM(mul(e_l)(a))(a) }) ↦ @a\u001b[39m, \u001b[32m0.0013642354766525413\u001b[39m),\n",
       "      \u001b[33mWeighted\u001b[39m(\u001b[32m(@a : (M → (M → 𝒰 ))) ↦ @a(e_r)\u001b[39m, \u001b[32m0.0022932112842090043\u001b[39m),\n",
       "      \u001b[33mWeighted\u001b[39m(\u001b[32meqM(e_l)(e_l)\u001b[39m, \u001b[32m0.005243029344677113\u001b[39m),\n",
       "      \u001b[33mWeighted\u001b[39m(\u001b[32m(@a : M) ↦ eqM(@a)\u001b[39m, \u001b[32m0.00921069476906615\u001b[39m),\n",
       "      \u001b[33mWeighted\u001b[39m(\u001b[32m(@a : (M → (M → 𝒰 ))) ↦ @a(e_l)\u001b[39m, \u001b[32m0.0022932112842090043\u001b[39m),\n",
       "      \u001b[33mWeighted\u001b[39m(\u001b[32maxiom_{eqM(mul(a)(e_r))(a)}(e_r)\u001b[39m, \u001b[32m0.0034426689276992476\u001b[39m),\n",
       "      \u001b[33mWeighted\u001b[39m(\u001b[32maxiom_{eqM(mul(e_l)(a))(a)}\u001b[39m, \u001b[32m0.03157952492251252\u001b[39m),\n",
       "      \u001b[33mWeighted\u001b[39m(\u001b[32mmul\u001b[39m, \u001b[32m0.2617446559193975\u001b[39m),\n",
       "      \u001b[33mWeighted\u001b[39m(\u001b[32meqM(e_r)\u001b[39m, \u001b[32m0.024098682493894734\u001b[39m),\n",
       "      \u001b[33mWeighted\u001b[39m(\n",
       "        \u001b[32m(@a : ∏(a : M){ ∏(b : M){ ∏(c : M){ (eqM(a)(b) → (eqM(b)(c) → eqM(a)(c))) } } }) ↦ @a\u001b[39m,\n",
       "        \u001b[32m0.001364235476652541\u001b[39m\n",
       "      ),\n",
       "      \u001b[33mWeighted\u001b[39m(\u001b[32m(_ : (M → (M → 𝒰 ))) ↦ eqM\u001b[39m, \u001b[32m0.006284811298424956\u001b[39m),\n",
       "      \u001b[33mWeighted\u001b[39m(\u001b[32maxiom_{eqM(a)(a)}(e_r)\u001b[39m, \u001b[32m0.0034426689276992476\u001b[39m),\n",
       "      \u001b[33mWeighted\u001b[39m(\u001b[32m(@a : M) ↦ @a\u001b[39m, \u001b[32m0.0027284709533050826\u001b[39m),\n",
       "      \u001b[33mWeighted\u001b[39m(\u001b[32maxiom_{(eqM(a)(b) \\to (eqM(b)(c) \\to eqM(a)(c)))}(e_l)\u001b[39m, \u001b[32m0.0034426689276992476\u001b[39m),\n",
       "      \u001b[33mWeighted\u001b[39m(\u001b[32m(@a : (M → (M → 𝒰 ))) ↦ @a\u001b[39m, \u001b[32m0.008080471669403518\u001b[39m),\n",
       "      \u001b[33mWeighted\u001b[39m(\u001b[32m(@a : ∏(a : M){ eqM(a)(a) }) ↦ @a\u001b[39m, \u001b[32m0.0013642354766525413\u001b[39m),\n",
       "      \u001b[33mWeighted\u001b[39m(\u001b[32maxiom_{eqM(mul(a)(e_r))(a)}\u001b[39m, \u001b[32m0.03157952492251252\u001b[39m),\n",
       "      \u001b[33mWeighted\u001b[39m(\u001b[32me_l\u001b[39m, \u001b[32m0.03157952492251252\u001b[39m),\n",
       "      \u001b[33mWeighted\u001b[39m(\u001b[32maxiom_{eqM(a)(a)}\u001b[39m, \u001b[32m0.03157952492251252\u001b[39m),\n",
       "      \u001b[33mWeighted\u001b[39m(\u001b[32m(@a : (M → (M → M))) ↦ @a(e_l)\u001b[39m, \u001b[32m0.0022932112842090043\u001b[39m),\n",
       "      \u001b[33mWeighted\u001b[39m(\u001b[32meqM(e_l)(e_r)\u001b[39m, \u001b[32m0.005243029344677113\u001b[39m),\n",
       "      \u001b[33mWeighted\u001b[39m(\u001b[32m(@a : ∏(a : M){ eqM(mul(a)(e_r))(a) }) ↦ @a\u001b[39m, \u001b[32m0.0013642354766525413\u001b[39m),\n",
       "      \u001b[33mWeighted\u001b[39m(\u001b[32m(_ : (M → (M → M))) ↦ mul\u001b[39m, \u001b[32m0.006284811298424955\u001b[39m),\n",
       "      \u001b[33mWeighted\u001b[39m(\u001b[32m(_ : (M → (M → 𝒰 ))) ↦ mul\u001b[39m, \u001b[32m0.006284811298424956\u001b[39m),\n",
       "      \u001b[33mWeighted\u001b[39m(\u001b[32mmul(e_l)(e_r)\u001b[39m, \u001b[32m0.005243029344677113\u001b[39m),\n",
       "      \u001b[33mWeighted\u001b[39m(\u001b[32meqM\u001b[39m, \u001b[32m0.2617446559193975\u001b[39m),\n",
       "      \u001b[33mWeighted\u001b[39m(\u001b[32maxiom_{eqM(mul(e_l)(a))(a)}(e_r)\u001b[39m, \u001b[32m0.0034426689276992476\u001b[39m),\n",
       "      \u001b[33mWeighted\u001b[39m(\u001b[32mmul(e_l)(e_l)\u001b[39m, \u001b[32m0.005243029344677113\u001b[39m),\n",
       "      \u001b[33mWeighted\u001b[39m(\u001b[32m(@a : (M → (M → M))) ↦ @a(e_r)\u001b[39m, \u001b[32m0.0022932112842090043\u001b[39m),\n",
       "      \u001b[33mWeighted\u001b[39m(\u001b[32maxiom_{(eqM(a)(b) \\to eqM(b)(a))}(e_l)\u001b[39m, \u001b[32m0.0034426689276992476\u001b[39m),\n",
       "      \u001b[33mWeighted\u001b[39m(\u001b[32m(@a : ∏(a : M){ ∏(b : M){ (eqM(a)(b) → eqM(b)(a)) } }) ↦ @a\u001b[39m, \u001b[32m0.001364235476652541\u001b[39m),\n",
       "      \u001b[33mWeighted\u001b[39m(\u001b[32maxiom_{(eqM(a)(b) \\to (eqM(b)(c) \\to eqM(a)(c)))}(e_r)\u001b[39m, \u001b[32m0.0034426689276992476\u001b[39m),\n",
       "      \u001b[33mWeighted\u001b[39m(\u001b[32me_r\u001b[39m, \u001b[32m0.03157952492251252\u001b[39m),\n",
       "      \u001b[33mWeighted\u001b[39m(\u001b[32maxiom_{eqM(mul(e_l)(a))(a)}(e_l)\u001b[39m, \u001b[32m0.0034426689276992476\u001b[39m),\n",
       "      \u001b[33mWeighted\u001b[39m(\u001b[32maxiom_{eqM(a)(a)}(e_l)\u001b[39m, \u001b[32m0.0034426689276992476\u001b[39m),\n",
       "      \u001b[33mWeighted\u001b[39m(\u001b[32m(_ : M) ↦ eqM\u001b[39m, \u001b[32m0.002122144074792842\u001b[39m),\n",
       "...\n",
       "\u001b[36meqs\u001b[39m: \u001b[32mSet\u001b[39m[\u001b[32mGeneratorVariables\u001b[39m.\u001b[32mEquationTerm\u001b[39m] = \u001b[33mSet\u001b[39m(\n",
       "  \u001b[33mEquationTerm\u001b[39m(\n",
       "    \u001b[33mFinalVal\u001b[39m(\u001b[33mElem\u001b[39m(\u001b[32maxiom_{(eqM(a)(b) \\to eqM(b)(a))}(e_l)\u001b[39m, Terms)),\n",
       "    \u001b[33mProduct\u001b[39m(\n",
       "      \u001b[33mCoeff\u001b[39m(\u001b[33mZipMapOpt\u001b[39m(<function2>, Funcs, Terms, Terms), Terms),\n",
       "      \u001b[33mProduct\u001b[39m(\n",
       "        \u001b[33mCoeff\u001b[39m(\u001b[33mZipMapOpt\u001b[39m(<function2>, Funcs, Terms, Terms), Terms),\n",
       "        \u001b[33mProduct\u001b[39m(\n",
       "          \u001b[33mFinalVal\u001b[39m(\u001b[33mElem\u001b[39m(\u001b[33mWrap\u001b[39m(\u001b[32maxiom_{(eqM(a)(b) \\to eqM(b)(a))}\u001b[39m), Funcs)),\n",
       "          \u001b[33mFinalVal\u001b[39m(\u001b[33mElem\u001b[39m(\u001b[33mWrap\u001b[39m(\u001b[32maxiom_{(eqM(a)(b) \\to eqM(b)(a))}\u001b[39m), Terms))\n",
       "        )\n",
       "      )\n",
       "    )\n",
       "  ),\n",
       "  \u001b[33mEquationTerm\u001b[39m(\n",
       "    \u001b[33mFinalVal\u001b[39m(\n",
       "      \u001b[33mInIsle\u001b[39m(\n",
       "        \u001b[33mElem\u001b[39m(\u001b[32maxiom_{eqM(mul(e_l)(a))(a)}(@a)\u001b[39m, Terms),\n",
       "        \u001b[32m@a\u001b[39m,\n",
       "        \u001b[33mIsland\u001b[39m(\n",
       "          \u001b[33mAtCoord\u001b[39m(TermsWithTyp, \u001b[32m(M → (M → 𝒰 ))\u001b[39m :: HNil),\n",
       "          \u001b[33mCRV\u001b[39m(\u001b[33mAtCoord\u001b[39m(TermsWithTyp, \u001b[32m(M → 𝒰 )\u001b[39m :: HNil)),\n",
       "          \u001b[33mAddVar\u001b[39m(\u001b[32mM\u001b[39m, \u001b[32m0.3\u001b[39m),\n",
       "          Lambda,\n",
       "          InIsle\n",
       "        )\n",
       "      )\n",
       "    ),\n",
       "    \u001b[33mProduct\u001b[39m(\n",
       "      \u001b[33mCoeff\u001b[39m(\n",
       "        \u001b[33mZipFlatMap\u001b[39m(\n",
       "          TargetTyps,\n",
       "          provingground.learning.TermGeneratorNodes$$Lambda$3741/628432005@41414481,\n",
       "          provingground.learning.TermGeneratorNodes$$Lambda$3742/1931839351@1c3170b0,\n",
       "          Terms\n",
       "        ),\n",
       "        Terms\n",
       "      ),\n",
       "      \u001b[33mProduct\u001b[39m(\n",
       "        \u001b[33mFinalVal\u001b[39m(\n",
       "          \u001b[33mInIsle\u001b[39m(\n",
       "            \u001b[33mElem\u001b[39m(\u001b[33mWrap\u001b[39m(\u001b[32maxiom_{eqM(mul(e_l)(a))(a)}\u001b[39m), Funcs),\n",
       "            \u001b[32m@a\u001b[39m,\n",
       "            \u001b[33mIsland\u001b[39m(\n",
       "              \u001b[33mAtCoord\u001b[39m(TermsWithTyp, \u001b[32m(M → (M → 𝒰 ))\u001b[39m :: HNil),\n",
       "              \u001b[33mCRV\u001b[39m(\u001b[33mAtCoord\u001b[39m(TermsWithTyp, \u001b[32m(M → 𝒰 )\u001b[39m :: HNil)),\n",
       "              \u001b[33mAddVar\u001b[39m(\u001b[32mM\u001b[39m, \u001b[32m0.3\u001b[39m),\n",
       "              Lambda,\n",
       "              InIsle\n",
       "..."
      ]
     },
     "execution_count": 7,
     "metadata": {},
     "output_type": "execute_result"
    }
   ],
   "source": [
    "val rp = tsk.runSyncUnsafe()\n",
    "val eqs = rp._2"
   ]
  },
  {
   "cell_type": "code",
   "execution_count": 8,
   "metadata": {},
   "outputs": [
    {
     "data": {
      "text/plain": [
       "\u001b[36mres7\u001b[39m: \u001b[32mSet\u001b[39m[\u001b[32mGeneratorVariables\u001b[39m.\u001b[32mEquationTerm\u001b[39m] = \u001b[33mSet\u001b[39m(\n",
       "  \u001b[33mEquationTerm\u001b[39m(\n",
       "    \u001b[33mFinalVal\u001b[39m(\u001b[33mElem\u001b[39m(\u001b[32maxiom_{(eqM(a)(b) \\to eqM(b)(a))}(e_l)\u001b[39m, Terms)),\n",
       "    \u001b[33mProduct\u001b[39m(\n",
       "      \u001b[33mCoeff\u001b[39m(\u001b[33mZipMapOpt\u001b[39m(<function2>, Funcs, Terms, Terms), Terms),\n",
       "      \u001b[33mProduct\u001b[39m(\n",
       "        \u001b[33mCoeff\u001b[39m(\u001b[33mZipMapOpt\u001b[39m(<function2>, Funcs, Terms, Terms), Terms),\n",
       "        \u001b[33mProduct\u001b[39m(\n",
       "          \u001b[33mFinalVal\u001b[39m(\u001b[33mElem\u001b[39m(\u001b[33mWrap\u001b[39m(\u001b[32maxiom_{(eqM(a)(b) \\to eqM(b)(a))}\u001b[39m), Funcs)),\n",
       "          \u001b[33mFinalVal\u001b[39m(\u001b[33mElem\u001b[39m(\u001b[33mWrap\u001b[39m(\u001b[32maxiom_{(eqM(a)(b) \\to eqM(b)(a))}\u001b[39m), Terms))\n",
       "        )\n",
       "      )\n",
       "    )\n",
       "  ),\n",
       "  \u001b[33mEquationTerm\u001b[39m(\n",
       "    \u001b[33mFinalVal\u001b[39m(\n",
       "      \u001b[33mInIsle\u001b[39m(\n",
       "        \u001b[33mElem\u001b[39m(\u001b[32maxiom_{eqM(mul(e_l)(a))(a)}(@a)\u001b[39m, Terms),\n",
       "        \u001b[32m@a\u001b[39m,\n",
       "        \u001b[33mIsland\u001b[39m(\n",
       "          \u001b[33mAtCoord\u001b[39m(TermsWithTyp, \u001b[32m(M → (M → 𝒰 ))\u001b[39m :: HNil),\n",
       "          \u001b[33mCRV\u001b[39m(\u001b[33mAtCoord\u001b[39m(TermsWithTyp, \u001b[32m(M → 𝒰 )\u001b[39m :: HNil)),\n",
       "          \u001b[33mAddVar\u001b[39m(\u001b[32mM\u001b[39m, \u001b[32m0.3\u001b[39m),\n",
       "          Lambda,\n",
       "          InIsle\n",
       "        )\n",
       "      )\n",
       "    ),\n",
       "    \u001b[33mProduct\u001b[39m(\n",
       "      \u001b[33mCoeff\u001b[39m(\n",
       "        \u001b[33mZipFlatMap\u001b[39m(\n",
       "          TargetTyps,\n",
       "          provingground.learning.TermGeneratorNodes$$Lambda$3741/628432005@41414481,\n",
       "          provingground.learning.TermGeneratorNodes$$Lambda$3742/1931839351@1c3170b0,\n",
       "          Terms\n",
       "        ),\n",
       "        Terms\n",
       "      ),\n",
       "      \u001b[33mProduct\u001b[39m(\n",
       "        \u001b[33mFinalVal\u001b[39m(\n",
       "          \u001b[33mInIsle\u001b[39m(\n",
       "            \u001b[33mElem\u001b[39m(\u001b[33mWrap\u001b[39m(\u001b[32maxiom_{eqM(mul(e_l)(a))(a)}\u001b[39m), Funcs),\n",
       "            \u001b[32m@a\u001b[39m,\n",
       "            \u001b[33mIsland\u001b[39m(\n",
       "              \u001b[33mAtCoord\u001b[39m(TermsWithTyp, \u001b[32m(M → (M → 𝒰 ))\u001b[39m :: HNil),\n",
       "              \u001b[33mCRV\u001b[39m(\u001b[33mAtCoord\u001b[39m(TermsWithTyp, \u001b[32m(M → 𝒰 )\u001b[39m :: HNil)),\n",
       "              \u001b[33mAddVar\u001b[39m(\u001b[32mM\u001b[39m, \u001b[32m0.3\u001b[39m),\n",
       "              Lambda,\n",
       "              InIsle\n",
       "..."
      ]
     },
     "execution_count": 8,
     "metadata": {},
     "output_type": "execute_result"
    }
   ],
   "source": [
    "eqs"
   ]
  },
  {
   "cell_type": "code",
   "execution_count": 9,
   "metadata": {},
   "outputs": [
    {
     "data": {
      "text/plain": [
       "\u001b[36mlefts\u001b[39m: \u001b[32mSet\u001b[39m[\u001b[32mGeneratorVariables\u001b[39m.\u001b[32mExpression\u001b[39m] = \u001b[33mSet\u001b[39m(\n",
       "  \u001b[33mFinalVal\u001b[39m(\n",
       "    \u001b[33mInIsle\u001b[39m(\n",
       "      \u001b[33mElem\u001b[39m(\u001b[33mWrap\u001b[39m(\u001b[32meqM\u001b[39m), Funcs),\n",
       "      \u001b[32m@a\u001b[39m,\n",
       "      \u001b[33mIsland\u001b[39m(\n",
       "        \u001b[33mAtCoord\u001b[39m(TermsWithTyp, \u001b[32m(M → (M → 𝒰 ))\u001b[39m :: HNil),\n",
       "        \u001b[33mCRV\u001b[39m(\u001b[33mAtCoord\u001b[39m(TermsWithTyp, \u001b[32m(M → 𝒰 )\u001b[39m :: HNil)),\n",
       "        \u001b[33mAddVar\u001b[39m(\u001b[32mM\u001b[39m, \u001b[32m0.3\u001b[39m),\n",
       "        Lambda,\n",
       "        InIsle\n",
       "      )\n",
       "    )\n",
       "  ),\n",
       "  \u001b[33mFinalVal\u001b[39m(\u001b[33mElem\u001b[39m(\u001b[32m(@a : ∏(a : M){ eqM(mul(a)(e_r))(a) }) ↦ @a\u001b[39m, Terms)),\n",
       "  \u001b[33mFinalVal\u001b[39m(\n",
       "    \u001b[33mInIsle\u001b[39m(\n",
       "      \u001b[33mElem\u001b[39m(\u001b[32maxiom_{(eqM(a)(b) \\to (eqM(b)(c) \\to eqM(a)(c)))}(e_l)\u001b[39m, Terms),\n",
       "      \u001b[32m@a\u001b[39m,\n",
       "      \u001b[33mIsland\u001b[39m(\n",
       "        \u001b[33mAtCoord\u001b[39m(TermsWithTyp, \u001b[32m(M → (M → 𝒰 ))\u001b[39m :: HNil),\n",
       "        \u001b[33mCRV\u001b[39m(\u001b[33mAtCoord\u001b[39m(TermsWithTyp, \u001b[32m(M → 𝒰 )\u001b[39m :: HNil)),\n",
       "        \u001b[33mAddVar\u001b[39m(\u001b[32mM\u001b[39m, \u001b[32m0.3\u001b[39m),\n",
       "        Lambda,\n",
       "        InIsle\n",
       "      )\n",
       "    )\n",
       "  ),\n",
       "  \u001b[33mFinalVal\u001b[39m(\n",
       "    \u001b[33mInIsle\u001b[39m(\n",
       "      \u001b[33mElem\u001b[39m(\u001b[33mWrap\u001b[39m(\u001b[32maxiom_{(eqM(a)(b) \\to (eqM(b)(c) \\to eqM(a)(c)))}\u001b[39m), Funcs),\n",
       "      \u001b[32m@a\u001b[39m,\n",
       "      \u001b[33mIsland\u001b[39m(Terms, \u001b[33mCRV\u001b[39m(Terms), \u001b[33mAddVar\u001b[39m(\u001b[32m(M → (M → M))\u001b[39m, \u001b[32m0.3\u001b[39m), Lambda, InIsle)\n",
       "    )\n",
       "  ),\n",
       "  \u001b[33mFinalVal\u001b[39m(\n",
       "    \u001b[33mInIsle\u001b[39m(\n",
       "      \u001b[33mElem\u001b[39m(\u001b[32maxiom_{eqM(mul(a)(e_r))(a)}\u001b[39m, Terms),\n",
       "      \u001b[32m@a\u001b[39m,\n",
       "      \u001b[33mIsland\u001b[39m(\n",
       "        Terms,\n",
       "        \u001b[33mCRV\u001b[39m(Terms),\n",
       "        \u001b[33mAddVar\u001b[39m(\u001b[32m∏(a : M){ ∏(b : M){ (eqM(a)(b) → eqM(b)(a)) } }\u001b[39m, \u001b[32m0.3\u001b[39m),\n",
       "        Lambda,\n",
       "        InIsle\n",
       "      )\n",
       "    )\n",
       "  ),\n",
       "  \u001b[33mFinalVal\u001b[39m(\n",
       "...\n",
       "\u001b[36mres8_1\u001b[39m: \u001b[32mInt\u001b[39m = \u001b[32m446\u001b[39m"
      ]
     },
     "execution_count": 9,
     "metadata": {},
     "output_type": "execute_result"
    }
   ],
   "source": [
    "val lefts = eqs.map(_.lhs)\n",
    "lefts.size"
   ]
  },
  {
   "cell_type": "code",
   "execution_count": 10,
   "metadata": {},
   "outputs": [
    {
     "data": {
      "text/plain": [
       "\u001b[32mimport \u001b[39m\u001b[36mGeneratorVariables._\n",
       "\u001b[39m\n",
       "\u001b[36meqgs\u001b[39m: \u001b[32mSet\u001b[39m[\u001b[32mEquation\u001b[39m] = \u001b[33mSet\u001b[39m(\n",
       "  \u001b[33mEquation\u001b[39m(\n",
       "    \u001b[33mFinalVal\u001b[39m(\u001b[33mElem\u001b[39m(\u001b[32m(@a : (M → (M → 𝒰 ))) ↦ @a\u001b[39m, Terms)),\n",
       "    \u001b[33mSum\u001b[39m(\n",
       "      \u001b[33mSum\u001b[39m(\n",
       "        \u001b[33mProduct\u001b[39m(\n",
       "          \u001b[33mCoeff\u001b[39m(\n",
       "            \u001b[33mFlatMap\u001b[39m(\n",
       "              Typs,\n",
       "              provingground.learning.TermGeneratorNodes$$Lambda$3732/929789582@3e7bf9dd,\n",
       "              Terms\n",
       "            ),\n",
       "            Terms\n",
       "          ),\n",
       "          \u001b[33mProduct\u001b[39m(\n",
       "            \u001b[33mFinalVal\u001b[39m(\u001b[33mElem\u001b[39m(\u001b[32m(M → (M → 𝒰 ))\u001b[39m, Typs)),\n",
       "            \u001b[33mFinalVal\u001b[39m(\u001b[33mElem\u001b[39m(\u001b[32m(@a : (M → (M → 𝒰 ))) ↦ @a\u001b[39m, Terms))\n",
       "          )\n",
       "        ),\n",
       "        \u001b[33mProduct\u001b[39m(\n",
       "          \u001b[33mCoeff\u001b[39m(\u001b[33mZipMapOpt\u001b[39m(<function2>, Funcs, Terms, Terms), Terms),\n",
       "          \u001b[33mProduct\u001b[39m(\n",
       "            \u001b[33mCoeff\u001b[39m(\n",
       "              \u001b[33mFlatMap\u001b[39m(\n",
       "                Typs,\n",
       "                provingground.learning.TermGeneratorNodes$$Lambda$3732/929789582@3e7bf9dd,\n",
       "                Terms\n",
       "              ),\n",
       "              Terms\n",
       "            ),\n",
       "            \u001b[33mProduct\u001b[39m(\n",
       "              \u001b[33mFinalVal\u001b[39m(\u001b[33mElem\u001b[39m(\u001b[32m(M → (M → 𝒰 ))\u001b[39m, Typs)),\n",
       "              \u001b[33mFinalVal\u001b[39m(\u001b[33mElem\u001b[39m(\u001b[32m(@a : (M → (M → 𝒰 ))) ↦ @a\u001b[39m, Terms))\n",
       "            )\n",
       "          )\n",
       "        )\n",
       "      ),\n",
       "      \u001b[33mProduct\u001b[39m(\n",
       "        \u001b[33mCoeff\u001b[39m(\u001b[33mZipMapOpt\u001b[39m(<function2>, Funcs, Terms, Terms), Terms),\n",
       "        \u001b[33mProduct\u001b[39m(\n",
       "          \u001b[33mCoeff\u001b[39m(\n",
       "            \u001b[33mBaseThenCondition\u001b[39m(\n",
       "              \u001b[33mFlatMap\u001b[39m(\n",
       "                Typs,\n",
       "                provingground.learning.TermGeneratorNodes$$Lambda$3732/929789582@3e7bf9dd,\n",
       "                Terms\n",
       "              ),\n",
       "              Funcs,\n",
       "              \u001b[33mRestrict\u001b[39m(FuncOpt)\n",
       "..."
      ]
     },
     "execution_count": 10,
     "metadata": {},
     "output_type": "execute_result"
    }
   ],
   "source": [
    "import GeneratorVariables._\n",
    "val eqgs = groupEquations(eqs)"
   ]
  },
  {
   "cell_type": "code",
   "execution_count": 11,
   "metadata": {},
   "outputs": [
    {
     "data": {
      "text/plain": [
       "\u001b[36mres10_0\u001b[39m: \u001b[32mInt\u001b[39m = \u001b[32m446\u001b[39m\n",
       "\u001b[36mres10_1\u001b[39m: \u001b[32mInt\u001b[39m = \u001b[32m1241\u001b[39m"
      ]
     },
     "execution_count": 11,
     "metadata": {},
     "output_type": "execute_result"
    }
   ],
   "source": [
    "eqgs.size\n",
    "eqs.size"
   ]
  },
  {
   "cell_type": "code",
   "execution_count": 12,
   "metadata": {},
   "outputs": [
    {
     "data": {
      "text/plain": [
       "\u001b[36mres11\u001b[39m: \u001b[32mEquation\u001b[39m = \u001b[33mEquation\u001b[39m(\n",
       "  \u001b[33mFinalVal\u001b[39m(\u001b[33mElem\u001b[39m(\u001b[32m(@a : (M → (M → 𝒰 ))) ↦ @a\u001b[39m, Terms)),\n",
       "  \u001b[33mSum\u001b[39m(\n",
       "    \u001b[33mSum\u001b[39m(\n",
       "      \u001b[33mProduct\u001b[39m(\n",
       "        \u001b[33mCoeff\u001b[39m(\n",
       "          \u001b[33mFlatMap\u001b[39m(\n",
       "            Typs,\n",
       "            provingground.learning.TermGeneratorNodes$$Lambda$3732/929789582@3e7bf9dd,\n",
       "            Terms\n",
       "          ),\n",
       "          Terms\n",
       "        ),\n",
       "        \u001b[33mProduct\u001b[39m(\n",
       "          \u001b[33mFinalVal\u001b[39m(\u001b[33mElem\u001b[39m(\u001b[32m(M → (M → 𝒰 ))\u001b[39m, Typs)),\n",
       "          \u001b[33mFinalVal\u001b[39m(\u001b[33mElem\u001b[39m(\u001b[32m(@a : (M → (M → 𝒰 ))) ↦ @a\u001b[39m, Terms))\n",
       "        )\n",
       "      ),\n",
       "      \u001b[33mProduct\u001b[39m(\n",
       "        \u001b[33mCoeff\u001b[39m(\u001b[33mZipMapOpt\u001b[39m(<function2>, Funcs, Terms, Terms), Terms),\n",
       "        \u001b[33mProduct\u001b[39m(\n",
       "          \u001b[33mCoeff\u001b[39m(\n",
       "            \u001b[33mFlatMap\u001b[39m(\n",
       "              Typs,\n",
       "              provingground.learning.TermGeneratorNodes$$Lambda$3732/929789582@3e7bf9dd,\n",
       "              Terms\n",
       "            ),\n",
       "            Terms\n",
       "          ),\n",
       "          \u001b[33mProduct\u001b[39m(\n",
       "            \u001b[33mFinalVal\u001b[39m(\u001b[33mElem\u001b[39m(\u001b[32m(M → (M → 𝒰 ))\u001b[39m, Typs)),\n",
       "            \u001b[33mFinalVal\u001b[39m(\u001b[33mElem\u001b[39m(\u001b[32m(@a : (M → (M → 𝒰 ))) ↦ @a\u001b[39m, Terms))\n",
       "          )\n",
       "        )\n",
       "      )\n",
       "    ),\n",
       "    \u001b[33mProduct\u001b[39m(\n",
       "      \u001b[33mCoeff\u001b[39m(\u001b[33mZipMapOpt\u001b[39m(<function2>, Funcs, Terms, Terms), Terms),\n",
       "      \u001b[33mProduct\u001b[39m(\n",
       "        \u001b[33mCoeff\u001b[39m(\n",
       "          \u001b[33mBaseThenCondition\u001b[39m(\n",
       "            \u001b[33mFlatMap\u001b[39m(\n",
       "              Typs,\n",
       "              provingground.learning.TermGeneratorNodes$$Lambda$3732/929789582@3e7bf9dd,\n",
       "              Terms\n",
       "            ),\n",
       "            Funcs,\n",
       "            \u001b[33mRestrict\u001b[39m(FuncOpt)\n",
       "          ),\n",
       "..."
      ]
     },
     "execution_count": 12,
     "metadata": {},
     "output_type": "execute_result"
    }
   ],
   "source": [
    "eqgs.head"
   ]
  },
  {
   "cell_type": "code",
   "execution_count": 13,
   "metadata": {},
   "outputs": [
    {
     "data": {
      "text/plain": [
       "\u001b[36mres12\u001b[39m: \u001b[32mSet\u001b[39m[\u001b[32mExpression\u001b[39m] = \u001b[33mSet\u001b[39m(\n",
       "  \u001b[33mProduct\u001b[39m(\n",
       "    \u001b[33mCoeff\u001b[39m(\n",
       "      \u001b[33mZipFlatMap\u001b[39m(\n",
       "        TargetTyps,\n",
       "        provingground.learning.TermGeneratorNodes$$Lambda$3741/628432005@41414481,\n",
       "        provingground.learning.TermGeneratorNodes$$Lambda$3742/1931839351@1c3170b0,\n",
       "        Terms\n",
       "      ),\n",
       "      Terms\n",
       "    ),\n",
       "    \u001b[33mQuotient\u001b[39m(\n",
       "      \u001b[33mFinalVal\u001b[39m(\n",
       "        \u001b[33mInIsle\u001b[39m(\n",
       "          \u001b[33mElem\u001b[39m(\u001b[32mmul(e_r)\u001b[39m, Terms),\n",
       "          \u001b[32m@a\u001b[39m,\n",
       "          \u001b[33mIsland\u001b[39m(\n",
       "            \u001b[33mAtCoord\u001b[39m(TermsWithTyp, \u001b[32m(M → (M → M))\u001b[39m :: HNil),\n",
       "            \u001b[33mCRV\u001b[39m(\u001b[33mAtCoord\u001b[39m(TermsWithTyp, \u001b[32m(M → M)\u001b[39m :: HNil)),\n",
       "            \u001b[33mAddVar\u001b[39m(\u001b[32mM\u001b[39m, \u001b[32m0.3\u001b[39m),\n",
       "            Lambda,\n",
       "            InIsle\n",
       "          )\n",
       "        )\n",
       "      ),\n",
       "      \u001b[33mFinalVal\u001b[39m(\n",
       "        \u001b[33mInIsle\u001b[39m(\n",
       "          \u001b[33mEvent\u001b[39m(Terms, \u001b[33mFilter\u001b[39m(\u001b[33mWithTyp\u001b[39m(\u001b[32m(M → M)\u001b[39m))),\n",
       "          \u001b[32m@a\u001b[39m,\n",
       "          \u001b[33mIsland\u001b[39m(\n",
       "            \u001b[33mAtCoord\u001b[39m(TermsWithTyp, \u001b[32m(M → (M → M))\u001b[39m :: HNil),\n",
       "            \u001b[33mCRV\u001b[39m(\u001b[33mAtCoord\u001b[39m(TermsWithTyp, \u001b[32m(M → M)\u001b[39m :: HNil)),\n",
       "            \u001b[33mAddVar\u001b[39m(\u001b[32mM\u001b[39m, \u001b[32m0.3\u001b[39m),\n",
       "            Lambda,\n",
       "            InIsle\n",
       "          )\n",
       "        )\n",
       "      )\n",
       "    )\n",
       "  ),\n",
       "  \u001b[33mSum\u001b[39m(\n",
       "    \u001b[33mProduct\u001b[39m(\n",
       "      \u001b[33mCoeff\u001b[39m(\n",
       "        \u001b[33mFiberProductMap\u001b[39m(\n",
       "          provingground.learning.TermGeneratorNodes$$Lambda$3729/2061322088@720f7085,\n",
       "          provingground.learning.TermGeneratorNodes$$Lambda$3730/2138518790@39a15709,\n",
       "          provingground.learning.TermGeneratorNodes$$Lambda$3731/137499533@2e82047d,\n",
       "          Terms,\n",
       "          Terms\n",
       "..."
      ]
     },
     "execution_count": 13,
     "metadata": {},
     "output_type": "execute_result"
    }
   ],
   "source": [
    "eqgs.map(_.rhs)"
   ]
  },
  {
   "cell_type": "code",
   "execution_count": 14,
   "metadata": {},
   "outputs": [
    {
     "data": {
      "text/plain": [
       "\u001b[36mrights\u001b[39m: \u001b[32mSet\u001b[39m[\u001b[32mVarVal\u001b[39m[\u001b[32m_\u001b[39m]] = \u001b[33mSet\u001b[39m(\n",
       "  \u001b[33mFinalVal\u001b[39m(\n",
       "    \u001b[33mInIsle\u001b[39m(\n",
       "      \u001b[33mElem\u001b[39m(\u001b[33mWrap\u001b[39m(\u001b[32meqM\u001b[39m), Funcs),\n",
       "      \u001b[32m@a\u001b[39m,\n",
       "      \u001b[33mIsland\u001b[39m(\n",
       "        \u001b[33mAtCoord\u001b[39m(TermsWithTyp, \u001b[32m(M → (M → 𝒰 ))\u001b[39m :: HNil),\n",
       "        \u001b[33mCRV\u001b[39m(\u001b[33mAtCoord\u001b[39m(TermsWithTyp, \u001b[32m(M → 𝒰 )\u001b[39m :: HNil)),\n",
       "        \u001b[33mAddVar\u001b[39m(\u001b[32mM\u001b[39m, \u001b[32m0.3\u001b[39m),\n",
       "        Lambda,\n",
       "        InIsle\n",
       "      )\n",
       "    )\n",
       "  ),\n",
       "  \u001b[33mInitialVal\u001b[39m(\n",
       "    \u001b[33mInIsle\u001b[39m(\n",
       "      \u001b[33mElem\u001b[39m(\u001b[33mWrap\u001b[39m(\u001b[32meqM\u001b[39m), Funcs),\n",
       "      \u001b[32m@a\u001b[39m,\n",
       "      \u001b[33mIsland\u001b[39m(\n",
       "        \u001b[33mAtCoord\u001b[39m(TermsWithTyp, \u001b[32m(M → (M → 𝒰 ))\u001b[39m :: HNil),\n",
       "        \u001b[33mCRV\u001b[39m(\u001b[33mAtCoord\u001b[39m(TermsWithTyp, \u001b[32m(M → 𝒰 )\u001b[39m :: HNil)),\n",
       "        \u001b[33mAddVar\u001b[39m(\u001b[32mM\u001b[39m, \u001b[32m0.3\u001b[39m),\n",
       "        Lambda,\n",
       "        InIsle\n",
       "      )\n",
       "    )\n",
       "  ),\n",
       "  \u001b[33mFinalVal\u001b[39m(\u001b[33mElem\u001b[39m(\u001b[32m(@a : ∏(a : M){ eqM(mul(a)(e_r))(a) }) ↦ @a\u001b[39m, Terms)),\n",
       "  \u001b[33mFinalVal\u001b[39m(\n",
       "    \u001b[33mInIsle\u001b[39m(\n",
       "      \u001b[33mElem\u001b[39m(\u001b[33mWrap\u001b[39m(\u001b[32maxiom_{(eqM(a)(b) \\to (eqM(b)(c) \\to eqM(a)(c)))}\u001b[39m), Funcs),\n",
       "      \u001b[32m@a\u001b[39m,\n",
       "      \u001b[33mIsland\u001b[39m(Terms, \u001b[33mCRV\u001b[39m(Terms), \u001b[33mAddVar\u001b[39m(\u001b[32m(M → (M → M))\u001b[39m, \u001b[32m0.3\u001b[39m), Lambda, InIsle)\n",
       "    )\n",
       "  ),\n",
       "  \u001b[33mInitialVal\u001b[39m(\n",
       "    \u001b[33mInIsle\u001b[39m(\n",
       "      \u001b[33mElem\u001b[39m(\u001b[33mWrap\u001b[39m(\u001b[32maxiom_{(eqM(a)(b) \\to (eqM(b)(c) \\to eqM(a)(c)))}\u001b[39m), Funcs),\n",
       "      \u001b[32m@a\u001b[39m,\n",
       "      \u001b[33mIsland\u001b[39m(Terms, \u001b[33mCRV\u001b[39m(Terms), \u001b[33mAddVar\u001b[39m(\u001b[32m(M → (M → M))\u001b[39m, \u001b[32m0.3\u001b[39m), Lambda, InIsle)\n",
       "    )\n",
       "  ),\n",
       "  \u001b[33mFinalVal\u001b[39m(\n",
       "    \u001b[33mInIsle\u001b[39m(\n",
       "      \u001b[33mElem\u001b[39m(\u001b[32maxiom_{eqM(mul(a)(e_r))(a)}\u001b[39m, Terms),\n",
       "      \u001b[32m@a\u001b[39m,\n",
       "      \u001b[33mIsland\u001b[39m(\n",
       "        Terms,\n",
       "        \u001b[33mCRV\u001b[39m(Terms),\n",
       "..."
      ]
     },
     "execution_count": 14,
     "metadata": {},
     "output_type": "execute_result"
    }
   ],
   "source": [
    "val rights = eqgs.map(_.rhs).flatMap(GeneratorVariables.Expression.varVals)"
   ]
  },
  {
   "cell_type": "code",
   "execution_count": 15,
   "metadata": {},
   "outputs": [
    {
     "data": {
      "text/plain": [
       "\u001b[36mextras\u001b[39m: \u001b[32mSet\u001b[39m[\u001b[32mVarVal\u001b[39m[\u001b[32m_\u001b[39m]] = \u001b[33mSet\u001b[39m(\n",
       "  \u001b[33mInitialVal\u001b[39m(\n",
       "    \u001b[33mInIsle\u001b[39m(\n",
       "      \u001b[33mElem\u001b[39m(\u001b[33mWrap\u001b[39m(\u001b[32meqM\u001b[39m), Funcs),\n",
       "      \u001b[32m@a\u001b[39m,\n",
       "      \u001b[33mIsland\u001b[39m(\n",
       "        \u001b[33mAtCoord\u001b[39m(TermsWithTyp, \u001b[32m(M → (M → 𝒰 ))\u001b[39m :: HNil),\n",
       "        \u001b[33mCRV\u001b[39m(\u001b[33mAtCoord\u001b[39m(TermsWithTyp, \u001b[32m(M → 𝒰 )\u001b[39m :: HNil)),\n",
       "        \u001b[33mAddVar\u001b[39m(\u001b[32mM\u001b[39m, \u001b[32m0.3\u001b[39m),\n",
       "        Lambda,\n",
       "        InIsle\n",
       "      )\n",
       "    )\n",
       "  ),\n",
       "  \u001b[33mInitialVal\u001b[39m(\n",
       "    \u001b[33mInIsle\u001b[39m(\n",
       "      \u001b[33mElem\u001b[39m(\u001b[33mWrap\u001b[39m(\u001b[32maxiom_{(eqM(a)(b) \\to (eqM(b)(c) \\to eqM(a)(c)))}\u001b[39m), Funcs),\n",
       "      \u001b[32m@a\u001b[39m,\n",
       "      \u001b[33mIsland\u001b[39m(Terms, \u001b[33mCRV\u001b[39m(Terms), \u001b[33mAddVar\u001b[39m(\u001b[32m(M → (M → M))\u001b[39m, \u001b[32m0.3\u001b[39m), Lambda, InIsle)\n",
       "    )\n",
       "  ),\n",
       "  \u001b[33mInitialVal\u001b[39m(\n",
       "    \u001b[33mInIsle\u001b[39m(\n",
       "      \u001b[33mElem\u001b[39m(\u001b[32maxiom_{eqM(mul(a)(e_r))(a)}\u001b[39m, Terms),\n",
       "      \u001b[32m@a\u001b[39m,\n",
       "      \u001b[33mIsland\u001b[39m(\n",
       "        Terms,\n",
       "        \u001b[33mCRV\u001b[39m(Terms),\n",
       "        \u001b[33mAddVar\u001b[39m(\u001b[32m∏(a : M){ ∏(b : M){ (eqM(a)(b) → eqM(b)(a)) } }\u001b[39m, \u001b[32m0.3\u001b[39m),\n",
       "        Lambda,\n",
       "        InIsle\n",
       "      )\n",
       "    )\n",
       "  ),\n",
       "  \u001b[33mInitialVal\u001b[39m(\n",
       "    \u001b[33mInIsle\u001b[39m(\n",
       "      \u001b[33mElem\u001b[39m(\u001b[32me_l\u001b[39m, Terms),\n",
       "      \u001b[32m@a\u001b[39m,\n",
       "      \u001b[33mIsland\u001b[39m(\n",
       "        \u001b[33mAtCoord\u001b[39m(FuncsWithDomain, \u001b[32m(M → (M → 𝒰 ))\u001b[39m :: HNil),\n",
       "        \u001b[33mCRV\u001b[39m(Terms),\n",
       "        \u001b[33mAddVar\u001b[39m(\u001b[32m(M → (M → 𝒰 ))\u001b[39m, \u001b[32m0.3\u001b[39m),\n",
       "        Lambda,\n",
       "        InIsle\n",
       "      )\n",
       "    )\n",
       "  ),\n",
       "  \u001b[33mFinalVal\u001b[39m(\u001b[33mElem\u001b[39m(\u001b[33mWrap\u001b[39m(\u001b[32mmul\u001b[39m), Terms)),\n",
       "  \u001b[33mInitialVal\u001b[39m(\u001b[33mElem\u001b[39m(\u001b[32mmul\u001b[39m, Terms)),\n",
       "..."
      ]
     },
     "execution_count": 15,
     "metadata": {},
     "output_type": "execute_result"
    }
   ],
   "source": [
    "val extras = rights -- lefts.flatMap(GeneratorVariables.Expression.varVals)"
   ]
  },
  {
   "cell_type": "code",
   "execution_count": 16,
   "metadata": {},
   "outputs": [
    {
     "data": {
      "text/plain": [
       "\u001b[36mres15\u001b[39m: \u001b[32mInt\u001b[39m = \u001b[32m297\u001b[39m"
      ]
     },
     "execution_count": 16,
     "metadata": {},
     "output_type": "execute_result"
    }
   ],
   "source": [
    "extras.size"
   ]
  },
  {
   "cell_type": "code",
   "execution_count": 17,
   "metadata": {},
   "outputs": [
    {
     "data": {
      "text/plain": [
       "\u001b[36mres16_0\u001b[39m: \u001b[32mInt\u001b[39m = \u001b[32m446\u001b[39m\n",
       "\u001b[36mres16_1\u001b[39m: \u001b[32mInt\u001b[39m = \u001b[32m566\u001b[39m"
      ]
     },
     "execution_count": 17,
     "metadata": {},
     "output_type": "execute_result"
    }
   ],
   "source": [
    "lefts.size\n",
    "rights.size"
   ]
  },
  {
   "cell_type": "code",
   "execution_count": 18,
   "metadata": {},
   "outputs": [
    {
     "data": {
      "text/plain": [
       "\u001b[36mres17\u001b[39m: \u001b[32mSet\u001b[39m[\u001b[32mExpression\u001b[39m] = \u001b[33mSet\u001b[39m(\n",
       "  \u001b[33mFinalVal\u001b[39m(\n",
       "    \u001b[33mInIsle\u001b[39m(\n",
       "      \u001b[33mElem\u001b[39m(\u001b[33mWrap\u001b[39m(\u001b[32meqM\u001b[39m), Funcs),\n",
       "      \u001b[32m@a\u001b[39m,\n",
       "      \u001b[33mIsland\u001b[39m(\n",
       "        \u001b[33mAtCoord\u001b[39m(TermsWithTyp, \u001b[32m(M → (M → 𝒰 ))\u001b[39m :: HNil),\n",
       "        \u001b[33mCRV\u001b[39m(\u001b[33mAtCoord\u001b[39m(TermsWithTyp, \u001b[32m(M → 𝒰 )\u001b[39m :: HNil)),\n",
       "        \u001b[33mAddVar\u001b[39m(\u001b[32mM\u001b[39m, \u001b[32m0.3\u001b[39m),\n",
       "        Lambda,\n",
       "        InIsle\n",
       "      )\n",
       "    )\n",
       "  ),\n",
       "  \u001b[33mFinalVal\u001b[39m(\u001b[33mElem\u001b[39m(\u001b[32m(@a : ∏(a : M){ eqM(mul(a)(e_r))(a) }) ↦ @a\u001b[39m, Terms)),\n",
       "  \u001b[33mFinalVal\u001b[39m(\n",
       "    \u001b[33mInIsle\u001b[39m(\n",
       "      \u001b[33mElem\u001b[39m(\u001b[32maxiom_{(eqM(a)(b) \\to (eqM(b)(c) \\to eqM(a)(c)))}(e_l)\u001b[39m, Terms),\n",
       "      \u001b[32m@a\u001b[39m,\n",
       "      \u001b[33mIsland\u001b[39m(\n",
       "        \u001b[33mAtCoord\u001b[39m(TermsWithTyp, \u001b[32m(M → (M → 𝒰 ))\u001b[39m :: HNil),\n",
       "        \u001b[33mCRV\u001b[39m(\u001b[33mAtCoord\u001b[39m(TermsWithTyp, \u001b[32m(M → 𝒰 )\u001b[39m :: HNil)),\n",
       "        \u001b[33mAddVar\u001b[39m(\u001b[32mM\u001b[39m, \u001b[32m0.3\u001b[39m),\n",
       "        Lambda,\n",
       "        InIsle\n",
       "      )\n",
       "    )\n",
       "  ),\n",
       "  \u001b[33mFinalVal\u001b[39m(\n",
       "    \u001b[33mInIsle\u001b[39m(\n",
       "      \u001b[33mElem\u001b[39m(\u001b[33mWrap\u001b[39m(\u001b[32maxiom_{(eqM(a)(b) \\to (eqM(b)(c) \\to eqM(a)(c)))}\u001b[39m), Funcs),\n",
       "      \u001b[32m@a\u001b[39m,\n",
       "      \u001b[33mIsland\u001b[39m(Terms, \u001b[33mCRV\u001b[39m(Terms), \u001b[33mAddVar\u001b[39m(\u001b[32m(M → (M → M))\u001b[39m, \u001b[32m0.3\u001b[39m), Lambda, InIsle)\n",
       "    )\n",
       "  ),\n",
       "  \u001b[33mFinalVal\u001b[39m(\n",
       "    \u001b[33mInIsle\u001b[39m(\n",
       "      \u001b[33mElem\u001b[39m(\u001b[32maxiom_{eqM(mul(a)(e_r))(a)}\u001b[39m, Terms),\n",
       "      \u001b[32m@a\u001b[39m,\n",
       "      \u001b[33mIsland\u001b[39m(\n",
       "        Terms,\n",
       "        \u001b[33mCRV\u001b[39m(Terms),\n",
       "        \u001b[33mAddVar\u001b[39m(\u001b[32m∏(a : M){ ∏(b : M){ (eqM(a)(b) → eqM(b)(a)) } }\u001b[39m, \u001b[32m0.3\u001b[39m),\n",
       "        Lambda,\n",
       "        InIsle\n",
       "      )\n",
       "    )\n",
       "  ),\n",
       "  \u001b[33mFinalVal\u001b[39m(\n",
       "..."
      ]
     },
     "execution_count": 18,
     "metadata": {},
     "output_type": "execute_result"
    }
   ],
   "source": [
    "lefts.take(20)"
   ]
  },
  {
   "cell_type": "code",
   "execution_count": 19,
   "metadata": {},
   "outputs": [
    {
     "data": {
      "text/plain": [
       "\u001b[32mimport \u001b[39m\u001b[36mGeneratorVariables.Expression.varVals\n",
       "\u001b[39m\n",
       "\u001b[36megEq\u001b[39m: \u001b[32mOption\u001b[39m[\u001b[32mEquation\u001b[39m] = \u001b[33mSome\u001b[39m(\n",
       "  \u001b[33mEquation\u001b[39m(\n",
       "    \u001b[33mFinalVal\u001b[39m(\u001b[33mElem\u001b[39m(\u001b[32m(@a : (M → (M → 𝒰 ))) ↦ @a\u001b[39m, Terms)),\n",
       "    \u001b[33mSum\u001b[39m(\n",
       "      \u001b[33mSum\u001b[39m(\n",
       "        \u001b[33mProduct\u001b[39m(\n",
       "          \u001b[33mCoeff\u001b[39m(\n",
       "            \u001b[33mFlatMap\u001b[39m(\n",
       "              Typs,\n",
       "              provingground.learning.TermGeneratorNodes$$Lambda$3732/929789582@3e7bf9dd,\n",
       "              Terms\n",
       "            ),\n",
       "            Terms\n",
       "          ),\n",
       "          \u001b[33mProduct\u001b[39m(\n",
       "            \u001b[33mFinalVal\u001b[39m(\u001b[33mElem\u001b[39m(\u001b[32m(M → (M → 𝒰 ))\u001b[39m, Typs)),\n",
       "            \u001b[33mFinalVal\u001b[39m(\u001b[33mElem\u001b[39m(\u001b[32m(@a : (M → (M → 𝒰 ))) ↦ @a\u001b[39m, Terms))\n",
       "          )\n",
       "        ),\n",
       "        \u001b[33mProduct\u001b[39m(\n",
       "          \u001b[33mCoeff\u001b[39m(\u001b[33mZipMapOpt\u001b[39m(<function2>, Funcs, Terms, Terms), Terms),\n",
       "          \u001b[33mProduct\u001b[39m(\n",
       "            \u001b[33mCoeff\u001b[39m(\n",
       "              \u001b[33mFlatMap\u001b[39m(\n",
       "                Typs,\n",
       "                provingground.learning.TermGeneratorNodes$$Lambda$3732/929789582@3e7bf9dd,\n",
       "                Terms\n",
       "              ),\n",
       "              Terms\n",
       "            ),\n",
       "            \u001b[33mProduct\u001b[39m(\n",
       "              \u001b[33mFinalVal\u001b[39m(\u001b[33mElem\u001b[39m(\u001b[32m(M → (M → 𝒰 ))\u001b[39m, Typs)),\n",
       "              \u001b[33mFinalVal\u001b[39m(\u001b[33mElem\u001b[39m(\u001b[32m(@a : (M → (M → 𝒰 ))) ↦ @a\u001b[39m, Terms))\n",
       "            )\n",
       "          )\n",
       "        )\n",
       "      ),\n",
       "      \u001b[33mProduct\u001b[39m(\n",
       "        \u001b[33mCoeff\u001b[39m(\u001b[33mZipMapOpt\u001b[39m(<function2>, Funcs, Terms, Terms), Terms),\n",
       "        \u001b[33mProduct\u001b[39m(\n",
       "          \u001b[33mCoeff\u001b[39m(\n",
       "            \u001b[33mBaseThenCondition\u001b[39m(\n",
       "              \u001b[33mFlatMap\u001b[39m(\n",
       "                Typs,\n",
       "                provingground.learning.TermGeneratorNodes$$Lambda$3732/929789582@3e7bf9dd,\n",
       "                Terms\n",
       "              ),\n",
       "              Funcs,\n",
       "              \u001b[33mRestrict\u001b[39m(FuncOpt)\n",
       "..."
      ]
     },
     "execution_count": 19,
     "metadata": {},
     "output_type": "execute_result"
    }
   ],
   "source": [
    "import GeneratorVariables.Expression.varVals\n",
    "val egEq = eqgs.find(eq => varVals(eq.rhs).intersect(extras).nonEmpty)"
   ]
  },
  {
   "cell_type": "code",
   "execution_count": 20,
   "metadata": {},
   "outputs": [
    {
     "data": {
      "text/plain": [
       "\u001b[36mres19\u001b[39m: \u001b[32mExpression\u001b[39m = \u001b[33mFinalVal\u001b[39m(\u001b[33mElem\u001b[39m(\u001b[32m(@a : (M → (M → 𝒰 ))) ↦ @a\u001b[39m, Terms))"
      ]
     },
     "execution_count": 20,
     "metadata": {},
     "output_type": "execute_result"
    }
   ],
   "source": [
    "egEq.get.lhs"
   ]
  },
  {
   "cell_type": "code",
   "execution_count": 21,
   "metadata": {},
   "outputs": [
    {
     "data": {
      "text/plain": [
       "\u001b[36mres20\u001b[39m: \u001b[32mString\u001b[39m = \u001b[32m\"(P\\u2081((@a :  (M) \\u2192 ((M) \\u2192 (\\ud835\\udcb0 _0))) \\u21a6 (@a) \\u2208 Terms)) == ((((Coeff(FlatMap(Typs,provingground.learning.TermGeneratorNodes$$Lambda$3732/929789582@3e7bf9dd,Terms),Terms)) * ((P\\u2081((M) \\u2192 ((M) \\u2192 (\\ud835\\udcb0 _0)) \\u2208 Typs)) * (P\\u2081((@a :  (M) \\u2192 ((M) \\u2192 (\\ud835\\udcb0 _0))) \\u21a6 (@a) \\u2208 Terms)))) + ((Coeff(ZipMapOpt(<function2>,Funcs,Terms,Terms),Terms)) * ((Coeff(FlatMap(Typs,provingground.learning.TermGeneratorNodes$$Lambda$3732/929789582@3e7bf9dd,Terms),Terms)) * ((P\\u2081((M) \\u2192 ((M) \\u2192 (\\ud835\\udcb0 _0)) \\u2208 Typs)) * (P\\u2081((@a :  (M) \\u2192 ((M) \\u2192 (\\ud835\\udcb0 _0))) \\u21a6 (@a) \\u2208 Terms)))))) + ((Coeff(ZipMapOpt(<function2>,Funcs,Terms,Terms),Terms)) * ((Coeff(BaseThenCondition(FlatMap(Typs,provingground.learning.TermGeneratorNodes$$Lambda$3732/929789582@3e7bf9dd,Terms),Funcs,Restrict(FuncOpt)),Funcs)) * ((P\\u2081((M) \\u2192 ((M) \\u2192 (\\ud835\\udcb0 _0)) \\u2208 Typs)) * (P\\u2081((@a :  (M) \\u2192 ((M) \\u2192 (\\ud835\\udcb0 _0))) \\u21a6 (@a) \\u2208 Terms))))))\"\u001b[39m"
      ]
     },
     "execution_count": 21,
     "metadata": {},
     "output_type": "execute_result"
    }
   ],
   "source": [
    "egEq.get.toString"
   ]
  },
  {
   "cell_type": "code",
   "execution_count": 22,
   "metadata": {},
   "outputs": [
    {
     "data": {
      "text/plain": [
       "\u001b[36mres21_0\u001b[39m: \u001b[32mSet\u001b[39m[\u001b[32mVarVal\u001b[39m[\u001b[32m_\u001b[39m]] = \u001b[33mSet\u001b[39m(\n",
       "  \u001b[33mFinalVal\u001b[39m(\u001b[33mElem\u001b[39m(\u001b[32m(M → (M → 𝒰 ))\u001b[39m, Typs)),\n",
       "  \u001b[33mFinalVal\u001b[39m(\u001b[33mElem\u001b[39m(\u001b[32m(@a : (M → (M → 𝒰 ))) ↦ @a\u001b[39m, Terms))\n",
       ")\n",
       "\u001b[36mres21_1\u001b[39m: \u001b[32mSet\u001b[39m[\u001b[32mVarVal\u001b[39m[\u001b[32m_\u001b[39m]] = \u001b[33mSet\u001b[39m(\u001b[33mFinalVal\u001b[39m(\u001b[33mElem\u001b[39m(\u001b[32m(M → (M → 𝒰 ))\u001b[39m, Typs)))"
      ]
     },
     "execution_count": 22,
     "metadata": {},
     "output_type": "execute_result"
    }
   ],
   "source": [
    "varVals(egEq.get.rhs)\n",
    "varVals(egEq.get.rhs).intersect(extras)"
   ]
  },
  {
   "cell_type": "markdown",
   "metadata": {},
   "source": [
    "__Note:__ This may not be an error as we may simply have too low cutoff to get any terms on the rhs.\n",
    "\n",
    "As we see below (which will change after a corrections), most of the extras are initial values in islands, which should be paired with those outside."
   ]
  },
  {
   "cell_type": "code",
   "execution_count": 23,
   "metadata": {},
   "outputs": [
    {
     "data": {
      "text/plain": [
       "\u001b[36minitExtras\u001b[39m: \u001b[32mSet\u001b[39m[\u001b[32mVarVal\u001b[39m[\u001b[32m_\u001b[39m]] = \u001b[33mSet\u001b[39m(\n",
       "  \u001b[33mInitialVal\u001b[39m(\n",
       "    \u001b[33mInIsle\u001b[39m(\n",
       "      \u001b[33mElem\u001b[39m(\u001b[33mWrap\u001b[39m(\u001b[32meqM\u001b[39m), Funcs),\n",
       "      \u001b[32m@a\u001b[39m,\n",
       "      \u001b[33mIsland\u001b[39m(\n",
       "        \u001b[33mAtCoord\u001b[39m(TermsWithTyp, \u001b[32m(M → (M → 𝒰 ))\u001b[39m :: HNil),\n",
       "        \u001b[33mCRV\u001b[39m(\u001b[33mAtCoord\u001b[39m(TermsWithTyp, \u001b[32m(M → 𝒰 )\u001b[39m :: HNil)),\n",
       "        \u001b[33mAddVar\u001b[39m(\u001b[32mM\u001b[39m, \u001b[32m0.3\u001b[39m),\n",
       "        Lambda,\n",
       "        InIsle\n",
       "      )\n",
       "    )\n",
       "  ),\n",
       "  \u001b[33mInitialVal\u001b[39m(\n",
       "    \u001b[33mInIsle\u001b[39m(\n",
       "      \u001b[33mElem\u001b[39m(\u001b[33mWrap\u001b[39m(\u001b[32maxiom_{(eqM(a)(b) \\to (eqM(b)(c) \\to eqM(a)(c)))}\u001b[39m), Funcs),\n",
       "      \u001b[32m@a\u001b[39m,\n",
       "      \u001b[33mIsland\u001b[39m(Terms, \u001b[33mCRV\u001b[39m(Terms), \u001b[33mAddVar\u001b[39m(\u001b[32m(M → (M → M))\u001b[39m, \u001b[32m0.3\u001b[39m), Lambda, InIsle)\n",
       "    )\n",
       "  ),\n",
       "  \u001b[33mInitialVal\u001b[39m(\n",
       "    \u001b[33mInIsle\u001b[39m(\n",
       "      \u001b[33mElem\u001b[39m(\u001b[32maxiom_{eqM(mul(a)(e_r))(a)}\u001b[39m, Terms),\n",
       "      \u001b[32m@a\u001b[39m,\n",
       "      \u001b[33mIsland\u001b[39m(\n",
       "        Terms,\n",
       "        \u001b[33mCRV\u001b[39m(Terms),\n",
       "        \u001b[33mAddVar\u001b[39m(\u001b[32m∏(a : M){ ∏(b : M){ (eqM(a)(b) → eqM(b)(a)) } }\u001b[39m, \u001b[32m0.3\u001b[39m),\n",
       "        Lambda,\n",
       "        InIsle\n",
       "      )\n",
       "    )\n",
       "  ),\n",
       "  \u001b[33mInitialVal\u001b[39m(\n",
       "    \u001b[33mInIsle\u001b[39m(\n",
       "      \u001b[33mElem\u001b[39m(\u001b[32me_l\u001b[39m, Terms),\n",
       "      \u001b[32m@a\u001b[39m,\n",
       "      \u001b[33mIsland\u001b[39m(\n",
       "        \u001b[33mAtCoord\u001b[39m(FuncsWithDomain, \u001b[32m(M → (M → 𝒰 ))\u001b[39m :: HNil),\n",
       "        \u001b[33mCRV\u001b[39m(Terms),\n",
       "        \u001b[33mAddVar\u001b[39m(\u001b[32m(M → (M → 𝒰 ))\u001b[39m, \u001b[32m0.3\u001b[39m),\n",
       "        Lambda,\n",
       "        InIsle\n",
       "      )\n",
       "    )\n",
       "  ),\n",
       "  \u001b[33mInitialVal\u001b[39m(\u001b[33mElem\u001b[39m(\u001b[32mmul\u001b[39m, Terms)),\n",
       "  \u001b[33mInitialVal\u001b[39m(\n",
       "..."
      ]
     },
     "execution_count": 23,
     "metadata": {},
     "output_type": "execute_result"
    }
   ],
   "source": [
    "val initExtras = extras.filter(_.isInstanceOf[InitialVal[_]])"
   ]
  },
  {
   "cell_type": "code",
   "execution_count": 24,
   "metadata": {},
   "outputs": [
    {
     "data": {
      "text/plain": [
       "\u001b[36mres23\u001b[39m: \u001b[32mInt\u001b[39m = \u001b[32m226\u001b[39m"
      ]
     },
     "execution_count": 24,
     "metadata": {},
     "output_type": "execute_result"
    }
   ],
   "source": [
    "initExtras.size"
   ]
  },
  {
   "cell_type": "code",
   "execution_count": 25,
   "metadata": {},
   "outputs": [
    {
     "data": {
      "text/plain": [
       "\u001b[36mres24\u001b[39m: \u001b[32mInt\u001b[39m = \u001b[32m297\u001b[39m"
      ]
     },
     "execution_count": 25,
     "metadata": {},
     "output_type": "execute_result"
    }
   ],
   "source": [
    "extras.size"
   ]
  }
 ],
 "metadata": {
  "kernelspec": {
   "display_name": "Scala",
   "language": "scala",
   "name": "scala"
  },
  "language_info": {
   "codemirror_mode": "text/x-scala",
   "file_extension": ".scala",
   "mimetype": "text/x-scala",
   "name": "scala",
   "nbconvert_exporter": "script",
   "version": "2.12.8"
  }
 },
 "nbformat": 4,
 "nbformat_minor": 2
}
