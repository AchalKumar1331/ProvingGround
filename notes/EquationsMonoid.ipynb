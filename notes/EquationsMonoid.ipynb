{
 "cells": [
  {
   "cell_type": "markdown",
   "metadata": {},
   "source": [
    "## Generating Equations\n",
    "Mainly to test correctness of equations generated along with forward evolution"
   ]
  },
  {
   "cell_type": "code",
   "execution_count": 1,
   "metadata": {},
   "outputs": [
    {
     "data": {
      "text/plain": [
       "\u001b[32mimport \u001b[39m\u001b[36m$ivy.$                                       \u001b[39m"
      ]
     },
     "execution_count": 1,
     "metadata": {},
     "output_type": "execute_result"
    }
   ],
   "source": [
    "import $ivy.`in.ac.iisc.math::core-jvm:0.1-SNAPSHOT`"
   ]
  },
  {
   "cell_type": "code",
   "execution_count": 2,
   "metadata": {},
   "outputs": [
    {
     "data": {
      "text/plain": [
       "\u001b[32mimport \u001b[39m\u001b[36mprovingground._ , interface._, HoTT._\n",
       "\u001b[39m\n",
       "\u001b[32mimport \u001b[39m\u001b[36mlearning._\n",
       "\u001b[39m\n",
       "\u001b[32mimport \u001b[39m\u001b[36mlibrary._, MonoidSimple._\u001b[39m"
      ]
     },
     "execution_count": 2,
     "metadata": {},
     "output_type": "execute_result"
    }
   ],
   "source": [
    "import provingground._ , interface._, HoTT._\n",
    "import learning._\n",
    "import library._, MonoidSimple._"
   ]
  },
  {
   "cell_type": "code",
   "execution_count": null,
   "metadata": {},
   "outputs": [],
   "source": []
  },
  {
   "cell_type": "code",
   "execution_count": 3,
   "metadata": {},
   "outputs": [],
   "source": [
    "repl.pprinter.bind(translation.FansiShow.fansiPrint)"
   ]
  },
  {
   "cell_type": "code",
   "execution_count": 4,
   "metadata": {},
   "outputs": [
    {
     "data": {
      "text/plain": [
       "\u001b[36mtg\u001b[39m: \u001b[32mTermGenParams\u001b[39m = \u001b[33mTermGenParams\u001b[39m(\u001b[32m0.1\u001b[39m, \u001b[32m0.1\u001b[39m, \u001b[32m0.1\u001b[39m, \u001b[32m0.1\u001b[39m, \u001b[32m0.1\u001b[39m, \u001b[32m0.05\u001b[39m, \u001b[32m0.05\u001b[39m, \u001b[32m0.05\u001b[39m, \u001b[32m0.3\u001b[39m, \u001b[32m0.5\u001b[39m, \u001b[32m0.5\u001b[39m)\n",
       "\u001b[36mres3_1\u001b[39m: \u001b[32mNodeCoeffSeq\u001b[39m[\u001b[32mTermState\u001b[39m, \u001b[32mTerm\u001b[39m, \u001b[32mDouble\u001b[39m] = \u001b[33mCons\u001b[39m(\n",
       "  \u001b[33mBaseCons\u001b[39m(\n",
       "    \u001b[33mBasePi\u001b[39m(provingground.learning.RandomVarFamily$$Lambda$3446/91597822@18a1b2a7, FuncsWithDomain),\n",
       "    \u001b[32m0.55\u001b[39m,\n",
       "    \u001b[33mBaseCons\u001b[39m(\n",
       "      \u001b[33mBasePi\u001b[39m(provingground.learning.GeneratorNode$$Lambda$3449/1263631624@6211f4d1, FuncsWithDomain),\n",
       "      \u001b[32m0.1\u001b[39m,\n",
       "      \u001b[33mBaseCons\u001b[39m(\n",
       "        \u001b[33mBasePi\u001b[39m(\n",
       "          provingground.learning.GeneratorNode$$Lambda$3449/1263631624@1138b0cd,\n",
       "          FuncsWithDomain\n",
       "        ),\n",
       "        \u001b[32m0.1\u001b[39m,\n",
       "        \u001b[33mBaseCons\u001b[39m(\n",
       "          \u001b[33mBasePi\u001b[39m(\n",
       "            provingground.learning.GeneratorNode$$Lambda$3449/1263631624@6aa8fb8,\n",
       "            FuncsWithDomain\n",
       "          ),\n",
       "          \u001b[32m0.1\u001b[39m,\n",
       "          \u001b[33mBaseCons\u001b[39m(\n",
       "            \u001b[33mBasePi\u001b[39m(\n",
       "              provingground.learning.TermGeneratorNodes$$Lambda$3438/43854388@274ba034,\n",
       "              FuncsWithDomain\n",
       "            ),\n",
       "            \u001b[32m0.1\u001b[39m,\n",
       "            \u001b[33mTarget\u001b[39m(FuncsWithDomain)\n",
       "          )\n",
       "        )\n",
       "      )\n",
       "    )\n",
       "  ),\n",
       "  \u001b[33mCons\u001b[39m(\n",
       "    \u001b[33mBaseCons\u001b[39m(\n",
       "      \u001b[33mMap\u001b[39m(\n",
       "        provingground.learning.TermRandomVars$TargetTyps$$$Lambda$3452/1100745630@2681eb3a,\n",
       "        Goals,\n",
       "        TargetTyps\n",
       "      ),\n",
       "      \u001b[32m0.5\u001b[39m,\n",
       "      \u001b[33mBaseCons\u001b[39m(\n",
       "        \u001b[33mMap\u001b[39m(\n",
       "          provingground.learning.TermRandomVars$TargetTyps$$$Lambda$3453/483490442@579d14f,\n",
       "          Typs,\n",
       "          TargetTyps\n",
       "        ),\n",
       "        \u001b[32m0.5\u001b[39m,\n",
       "        \u001b[33mTarget\u001b[39m(TargetTyps)\n",
       "      )\n",
       "..."
      ]
     },
     "execution_count": 4,
     "metadata": {},
     "output_type": "execute_result"
    }
   ],
   "source": [
    "val tg = TermGenParams()\n",
    "tg.nodeCoeffSeq"
   ]
  },
  {
   "cell_type": "code",
   "execution_count": 5,
   "metadata": {},
   "outputs": [
    {
     "data": {
      "text/plain": [
       "\u001b[36mmfd\u001b[39m: \u001b[32mMonixFiniteDistributionEq\u001b[39m[\u001b[32mTermState\u001b[39m, \u001b[32mTerm\u001b[39m] = \u001b[33mMonixFiniteDistributionEq\u001b[39m(\n",
       "  \u001b[33mCons\u001b[39m(\n",
       "    \u001b[33mBaseCons\u001b[39m(\n",
       "      \u001b[33mBasePi\u001b[39m(provingground.learning.RandomVarFamily$$Lambda$3446/91597822@18a1b2a7, FuncsWithDomain),\n",
       "      \u001b[32m0.55\u001b[39m,\n",
       "      \u001b[33mBaseCons\u001b[39m(\n",
       "        \u001b[33mBasePi\u001b[39m(\n",
       "          provingground.learning.GeneratorNode$$Lambda$3449/1263631624@6211f4d1,\n",
       "          FuncsWithDomain\n",
       "        ),\n",
       "        \u001b[32m0.1\u001b[39m,\n",
       "        \u001b[33mBaseCons\u001b[39m(\n",
       "          \u001b[33mBasePi\u001b[39m(\n",
       "            provingground.learning.GeneratorNode$$Lambda$3449/1263631624@1138b0cd,\n",
       "            FuncsWithDomain\n",
       "          ),\n",
       "          \u001b[32m0.1\u001b[39m,\n",
       "          \u001b[33mBaseCons\u001b[39m(\n",
       "            \u001b[33mBasePi\u001b[39m(\n",
       "              provingground.learning.GeneratorNode$$Lambda$3449/1263631624@6aa8fb8,\n",
       "              FuncsWithDomain\n",
       "            ),\n",
       "            \u001b[32m0.1\u001b[39m,\n",
       "            \u001b[33mBaseCons\u001b[39m(\n",
       "              \u001b[33mBasePi\u001b[39m(\n",
       "                provingground.learning.TermGeneratorNodes$$Lambda$3438/43854388@274ba034,\n",
       "                FuncsWithDomain\n",
       "              ),\n",
       "              \u001b[32m0.1\u001b[39m,\n",
       "              \u001b[33mTarget\u001b[39m(FuncsWithDomain)\n",
       "            )\n",
       "          )\n",
       "        )\n",
       "      )\n",
       "    ),\n",
       "    \u001b[33mCons\u001b[39m(\n",
       "      \u001b[33mBaseCons\u001b[39m(\n",
       "        \u001b[33mMap\u001b[39m(\n",
       "          provingground.learning.TermRandomVars$TargetTyps$$$Lambda$3452/1100745630@2681eb3a,\n",
       "          Goals,\n",
       "          TargetTyps\n",
       "        ),\n",
       "        \u001b[32m0.5\u001b[39m,\n",
       "        \u001b[33mBaseCons\u001b[39m(\n",
       "          \u001b[33mMap\u001b[39m(\n",
       "            provingground.learning.TermRandomVars$TargetTyps$$$Lambda$3453/483490442@579d14f,\n",
       "            Typs,\n",
       "            TargetTyps\n",
       "...\n",
       "\u001b[36mts\u001b[39m: \u001b[32mTermState\u001b[39m = \u001b[33mTermState\u001b[39m(\n",
       "  \u001b[33mFiniteDistribution\u001b[39m(\n",
       "    \u001b[33mVector\u001b[39m(\n",
       "      \u001b[33mWeighted\u001b[39m(\u001b[32me_l\u001b[39m, \u001b[32m0.047619047619047616\u001b[39m),\n",
       "      \u001b[33mWeighted\u001b[39m(\u001b[32me_r\u001b[39m, \u001b[32m0.047619047619047616\u001b[39m),\n",
       "      \u001b[33mWeighted\u001b[39m(\u001b[32mmul\u001b[39m, \u001b[32m0.047619047619047616\u001b[39m),\n",
       "      \u001b[33mWeighted\u001b[39m(\u001b[32meqM\u001b[39m, \u001b[32m0.047619047619047616\u001b[39m),\n",
       "      \u001b[33mWeighted\u001b[39m(\u001b[32maxiom_{eqM(a)(a)}\u001b[39m, \u001b[32m0.047619047619047616\u001b[39m),\n",
       "      \u001b[33mWeighted\u001b[39m(\u001b[32maxiom_{(eqM(a)(b) \\to eqM(b)(a))}\u001b[39m, \u001b[32m0.047619047619047616\u001b[39m),\n",
       "      \u001b[33mWeighted\u001b[39m(\u001b[32maxiom_{(eqM(a)(b) \\to (eqM(b)(c) \\to eqM(a)(c)))}\u001b[39m, \u001b[32m0.047619047619047616\u001b[39m),\n",
       "      \u001b[33mWeighted\u001b[39m(\u001b[32maxiom_{eqM(mul(e_l)(a))(a)}\u001b[39m, \u001b[32m0.047619047619047616\u001b[39m),\n",
       "      \u001b[33mWeighted\u001b[39m(\u001b[32maxiom_{eqM(mul(a)(e_r))(a)}\u001b[39m, \u001b[32m0.047619047619047616\u001b[39m),\n",
       "      \u001b[33mWeighted\u001b[39m(\u001b[32meqM\u001b[39m, \u001b[32m0.2857142857142857\u001b[39m),\n",
       "      \u001b[33mWeighted\u001b[39m(\u001b[32mmul\u001b[39m, \u001b[32m0.2857142857142857\u001b[39m)\n",
       "    )\n",
       "  ),\n",
       "  \u001b[33mFiniteDistribution\u001b[39m(\n",
       "    \u001b[33mVector\u001b[39m(\n",
       "      \u001b[33mWeighted\u001b[39m(\u001b[32mM\u001b[39m, \u001b[32m0.047619047619047616\u001b[39m),\n",
       "      \u001b[33mWeighted\u001b[39m(\u001b[32mM\u001b[39m, \u001b[32m0.047619047619047616\u001b[39m),\n",
       "      \u001b[33mWeighted\u001b[39m(\u001b[32m(M → (M → M))\u001b[39m, \u001b[32m0.047619047619047616\u001b[39m),\n",
       "      \u001b[33mWeighted\u001b[39m(\u001b[32m(M → (M → 𝒰 ))\u001b[39m, \u001b[32m0.047619047619047616\u001b[39m),\n",
       "      \u001b[33mWeighted\u001b[39m(\u001b[32m∏(a : M){ eqM(a)(a) }\u001b[39m, \u001b[32m0.047619047619047616\u001b[39m),\n",
       "      \u001b[33mWeighted\u001b[39m(\u001b[32m∏(a : M){ ∏(b : M){ (eqM(a)(b) → eqM(b)(a)) } }\u001b[39m, \u001b[32m0.047619047619047616\u001b[39m),\n",
       "      \u001b[33mWeighted\u001b[39m(\n",
       "        \u001b[32m∏(a : M){ ∏(b : M){ ∏(c : M){ (eqM(a)(b) → (eqM(b)(c) → eqM(a)(c))) } } }\u001b[39m,\n",
       "        \u001b[32m0.047619047619047616\u001b[39m\n",
       "      ),\n",
       "      \u001b[33mWeighted\u001b[39m(\u001b[32m∏(a : M){ eqM(mul(e_l)(a))(a) }\u001b[39m, \u001b[32m0.047619047619047616\u001b[39m),\n",
       "      \u001b[33mWeighted\u001b[39m(\u001b[32m∏(a : M){ eqM(mul(a)(e_r))(a) }\u001b[39m, \u001b[32m0.047619047619047616\u001b[39m),\n",
       "      \u001b[33mWeighted\u001b[39m(\u001b[32m(M → (M → 𝒰 ))\u001b[39m, \u001b[32m0.2857142857142857\u001b[39m),\n",
       "      \u001b[33mWeighted\u001b[39m(\u001b[32m(M → (M → M))\u001b[39m, \u001b[32m0.2857142857142857\u001b[39m)\n",
       "    )\n",
       "  ),\n",
       "  \u001b[33mVector\u001b[39m(),\n",
       "  \u001b[33mFiniteDistribution\u001b[39m(\u001b[33mVector\u001b[39m()),\n",
       "  \u001b[33mFiniteDistribution\u001b[39m(\u001b[33mVector\u001b[39m()),\n",
       "  Empty\n",
       ")"
      ]
     },
     "execution_count": 5,
     "metadata": {},
     "output_type": "execute_result"
    }
   ],
   "source": [
    "val mfd = MonixFiniteDistributionEq(tg.nodeCoeffSeq, TermState.islePairs)\n",
    "val ts = TermState(dist1, dist1.map(_.typ))"
   ]
  },
  {
   "cell_type": "code",
   "execution_count": 6,
   "metadata": {},
   "outputs": [
    {
     "data": {
      "text/plain": [
       "\u001b[32mimport \u001b[39m\u001b[36mTermRandomVars._\n",
       "\u001b[39m\n",
       "\u001b[36mtsk\u001b[39m: \u001b[32mmonix\u001b[39m.\u001b[32meval\u001b[39m.\u001b[32mTask\u001b[39m[(\u001b[32mFiniteDistribution\u001b[39m[\u001b[32mTerm\u001b[39m], \u001b[32mSet\u001b[39m[\u001b[32mGeneratorVariables\u001b[39m.\u001b[32mEquationTerm\u001b[39m])] = \u001b[33mFlatMap\u001b[39m(\n",
       "  \u001b[33mAsync\u001b[39m(<function2>, true, true, true),\n",
       "  monix.eval.Task$$Lambda$3684/573997418@84c2255\n",
       ")\n",
       "\u001b[32mimport \u001b[39m\u001b[36mmonix.execution.Scheduler.Implicits.global\u001b[39m"
      ]
     },
     "execution_count": 6,
     "metadata": {},
     "output_type": "execute_result"
    }
   ],
   "source": [
    "import TermRandomVars._\n",
    "val tsk = mfd.varDist(ts)(Terms, 0.001)\n",
    "import monix.execution.Scheduler.Implicits.global"
   ]
  },
  {
   "cell_type": "code",
   "execution_count": 7,
   "metadata": {},
   "outputs": [
    {
     "name": "stdout",
     "output_type": "stream",
     "text": [
      "\u001b[35mprovingground\u001b[39m.\u001b[35mlearning\u001b[39m.\u001b[35mMonixFiniteDistributionEq\u001b[39m#\u001b[35mnodeDist\u001b[39m:\u001b[32m472\u001b[39m \u001b[36misleIn.size\u001b[39m: \u001b[32m0\u001b[39m\n",
      "\u001b[35mprovingground\u001b[39m.\u001b[35mlearning\u001b[39m.\u001b[35mMonixFiniteDistributionEq\u001b[39m#\u001b[35mnodeDist\u001b[39m:\u001b[32m472\u001b[39m \u001b[36misleIn.size\u001b[39m: \u001b[32m0\u001b[39m\n",
      "\u001b[35mprovingground\u001b[39m.\u001b[35mlearning\u001b[39m.\u001b[35mMonixFiniteDistributionEq\u001b[39m#\u001b[35mnodeDist\u001b[39m:\u001b[32m472\u001b[39m \u001b[36misleIn.size\u001b[39m: \u001b[32m10\u001b[39m\n",
      "\u001b[35mprovingground\u001b[39m.\u001b[35mlearning\u001b[39m.\u001b[35mMonixFiniteDistributionEq\u001b[39m#\u001b[35mnodeDist\u001b[39m:\u001b[32m472\u001b[39m \u001b[36misleIn.size\u001b[39m: \u001b[32m10\u001b[39m\n",
      "\u001b[35mprovingground\u001b[39m.\u001b[35mlearning\u001b[39m.\u001b[35mMonixFiniteDistributionEq\u001b[39m#\u001b[35mnodeDist\u001b[39m:\u001b[32m472\u001b[39m \u001b[36misleIn.size\u001b[39m: \u001b[32m0\u001b[39m\n",
      "\u001b[35mprovingground\u001b[39m.\u001b[35mlearning\u001b[39m.\u001b[35mMonixFiniteDistributionEq\u001b[39m#\u001b[35mnodeDist\u001b[39m:\u001b[32m472\u001b[39m \u001b[36misleIn.size\u001b[39m: \u001b[32m0\u001b[39m\n",
      "\u001b[35mprovingground\u001b[39m.\u001b[35mlearning\u001b[39m.\u001b[35mMonixFiniteDistributionEq\u001b[39m#\u001b[35mnodeDist\u001b[39m:\u001b[32m472\u001b[39m \u001b[36misleIn.size\u001b[39m: \u001b[32m0\u001b[39m\n",
      "\u001b[35mprovingground\u001b[39m.\u001b[35mlearning\u001b[39m.\u001b[35mMonixFiniteDistributionEq\u001b[39m#\u001b[35mnodeDist\u001b[39m:\u001b[32m472\u001b[39m \u001b[36misleIn.size\u001b[39m: \u001b[32m0\u001b[39m\n",
      "\u001b[35mprovingground\u001b[39m.\u001b[35mlearning\u001b[39m.\u001b[35mMonixFiniteDistributionEq\u001b[39m#\u001b[35mnodeDist\u001b[39m:\u001b[32m472\u001b[39m \u001b[36misleIn.size\u001b[39m: \u001b[32m0\u001b[39m\n",
      "\u001b[35mprovingground\u001b[39m.\u001b[35mlearning\u001b[39m.\u001b[35mMonixFiniteDistributionEq\u001b[39m#\u001b[35mnodeDist\u001b[39m:\u001b[32m472\u001b[39m \u001b[36misleIn.size\u001b[39m: \u001b[32m0\u001b[39m\n",
      "\u001b[35mprovingground\u001b[39m.\u001b[35mlearning\u001b[39m.\u001b[35mMonixFiniteDistributionEq\u001b[39m#\u001b[35mnodeDist\u001b[39m:\u001b[32m472\u001b[39m \u001b[36misleIn.size\u001b[39m: \u001b[32m0\u001b[39m\n",
      "\u001b[35mprovingground\u001b[39m.\u001b[35mlearning\u001b[39m.\u001b[35mMonixFiniteDistributionEq\u001b[39m#\u001b[35mnodeDist\u001b[39m:\u001b[32m472\u001b[39m \u001b[36misleIn.size\u001b[39m: \u001b[32m0\u001b[39m\n",
      "\u001b[35mprovingground\u001b[39m.\u001b[35mlearning\u001b[39m.\u001b[35mMonixFiniteDistributionEq\u001b[39m#\u001b[35mnodeDist\u001b[39m:\u001b[32m472\u001b[39m \u001b[36misleIn.size\u001b[39m: \u001b[32m0\u001b[39m\n",
      "\u001b[35mprovingground\u001b[39m.\u001b[35mlearning\u001b[39m.\u001b[35mMonixFiniteDistributionEq\u001b[39m#\u001b[35mnodeDist\u001b[39m:\u001b[32m472\u001b[39m \u001b[36misleIn.size\u001b[39m: \u001b[32m0\u001b[39m\n",
      "\u001b[35mprovingground\u001b[39m.\u001b[35mlearning\u001b[39m.\u001b[35mMonixFiniteDistributionEq\u001b[39m#\u001b[35mnodeDist\u001b[39m:\u001b[32m472\u001b[39m \u001b[36misleIn.size\u001b[39m: \u001b[32m0\u001b[39m\n",
      "\u001b[35mprovingground\u001b[39m.\u001b[35mlearning\u001b[39m.\u001b[35mMonixFiniteDistributionEq\u001b[39m#\u001b[35mnodeDist\u001b[39m:\u001b[32m472\u001b[39m \u001b[36misleIn.size\u001b[39m: \u001b[32m0\u001b[39m\n",
      "\u001b[35mprovingground\u001b[39m.\u001b[35mlearning\u001b[39m.\u001b[35mMonixFiniteDistributionEq\u001b[39m#\u001b[35mnodeDist\u001b[39m:\u001b[32m472\u001b[39m \u001b[36misleIn.size\u001b[39m: \u001b[32m10\u001b[39m\n",
      "\u001b[35mprovingground\u001b[39m.\u001b[35mlearning\u001b[39m.\u001b[35mMonixFiniteDistributionEq\u001b[39m#\u001b[35mnodeDist\u001b[39m:\u001b[32m472\u001b[39m \u001b[36misleIn.size\u001b[39m: \u001b[32m10\u001b[39m\n",
      "\u001b[35mprovingground\u001b[39m.\u001b[35mlearning\u001b[39m.\u001b[35mMonixFiniteDistributionEq\u001b[39m#\u001b[35mnodeDist\u001b[39m:\u001b[32m472\u001b[39m \u001b[36misleIn.size\u001b[39m: \u001b[32m0\u001b[39m\n",
      "\u001b[35mprovingground\u001b[39m.\u001b[35mlearning\u001b[39m.\u001b[35mMonixFiniteDistributionEq\u001b[39m#\u001b[35mnodeDist\u001b[39m:\u001b[32m472\u001b[39m \u001b[36misleIn.size\u001b[39m: \u001b[32m0\u001b[39m\n",
      "\u001b[35mprovingground\u001b[39m.\u001b[35mlearning\u001b[39m.\u001b[35mMonixFiniteDistributionEq\u001b[39m#\u001b[35mnodeDist\u001b[39m:\u001b[32m472\u001b[39m \u001b[36misleIn.size\u001b[39m: \u001b[32m0\u001b[39m\n",
      "\u001b[35mprovingground\u001b[39m.\u001b[35mlearning\u001b[39m.\u001b[35mMonixFiniteDistributionEq\u001b[39m#\u001b[35mnodeDist\u001b[39m:\u001b[32m472\u001b[39m \u001b[36misleIn.size\u001b[39m: \u001b[32m0\u001b[39m\n",
      "\u001b[35mprovingground\u001b[39m.\u001b[35mlearning\u001b[39m.\u001b[35mMonixFiniteDistributionEq\u001b[39m#\u001b[35mnodeDist\u001b[39m:\u001b[32m472\u001b[39m \u001b[36misleIn.size\u001b[39m: \u001b[32m10\u001b[39m\n",
      "\u001b[35mprovingground\u001b[39m.\u001b[35mlearning\u001b[39m.\u001b[35mMonixFiniteDistributionEq\u001b[39m#\u001b[35mnodeDist\u001b[39m:\u001b[32m472\u001b[39m \u001b[36misleIn.size\u001b[39m: \u001b[32m10\u001b[39m\n",
      "\u001b[35mprovingground\u001b[39m.\u001b[35mlearning\u001b[39m.\u001b[35mMonixFiniteDistributionEq\u001b[39m#\u001b[35mnodeDist\u001b[39m:\u001b[32m472\u001b[39m \u001b[36misleIn.size\u001b[39m: \u001b[32m10\u001b[39m\n",
      "\u001b[35mprovingground\u001b[39m.\u001b[35mlearning\u001b[39m.\u001b[35mMonixFiniteDistributionEq\u001b[39m#\u001b[35mnodeDist\u001b[39m:\u001b[32m472\u001b[39m \u001b[36misleIn.size\u001b[39m: \u001b[32m10\u001b[39m\n",
      "\u001b[35mprovingground\u001b[39m.\u001b[35mlearning\u001b[39m.\u001b[35mMonixFiniteDistributionEq\u001b[39m#\u001b[35mnodeDist\u001b[39m:\u001b[32m472\u001b[39m \u001b[36misleIn.size\u001b[39m: \u001b[32m0\u001b[39m\n",
      "\u001b[35mprovingground\u001b[39m.\u001b[35mlearning\u001b[39m.\u001b[35mMonixFiniteDistributionEq\u001b[39m#\u001b[35mnodeDist\u001b[39m:\u001b[32m472\u001b[39m \u001b[36misleIn.size\u001b[39m: \u001b[32m0\u001b[39m\n",
      "\u001b[35mprovingground\u001b[39m.\u001b[35mlearning\u001b[39m.\u001b[35mMonixFiniteDistributionEq\u001b[39m#\u001b[35mnodeDist\u001b[39m:\u001b[32m472\u001b[39m \u001b[36misleIn.size\u001b[39m: \u001b[32m10\u001b[39m\n",
      "\u001b[35mprovingground\u001b[39m.\u001b[35mlearning\u001b[39m.\u001b[35mMonixFiniteDistributionEq\u001b[39m#\u001b[35mnodeDist\u001b[39m:\u001b[32m472\u001b[39m \u001b[36misleIn.size\u001b[39m: \u001b[32m10\u001b[39m\n",
      "\u001b[35mprovingground\u001b[39m.\u001b[35mlearning\u001b[39m.\u001b[35mMonixFiniteDistributionEq\u001b[39m#\u001b[35mnodeDist\u001b[39m:\u001b[32m472\u001b[39m \u001b[36misleIn.size\u001b[39m: \u001b[32m0\u001b[39m\n",
      "\u001b[35mprovingground\u001b[39m.\u001b[35mlearning\u001b[39m.\u001b[35mMonixFiniteDistributionEq\u001b[39m#\u001b[35mnodeDist\u001b[39m:\u001b[32m472\u001b[39m \u001b[36misleIn.size\u001b[39m: \u001b[32m0\u001b[39m\n",
      "\u001b[35mprovingground\u001b[39m.\u001b[35mlearning\u001b[39m.\u001b[35mMonixFiniteDistributionEq\u001b[39m#\u001b[35mnodeDist\u001b[39m:\u001b[32m472\u001b[39m \u001b[36misleIn.size\u001b[39m: \u001b[32m0\u001b[39m\n",
      "\u001b[35mprovingground\u001b[39m.\u001b[35mlearning\u001b[39m.\u001b[35mMonixFiniteDistributionEq\u001b[39m#\u001b[35mnodeDist\u001b[39m:\u001b[32m472\u001b[39m \u001b[36misleIn.size\u001b[39m: \u001b[32m0\u001b[39m\n",
      "\u001b[35mprovingground\u001b[39m.\u001b[35mlearning\u001b[39m.\u001b[35mMonixFiniteDistributionEq\u001b[39m#\u001b[35mnodeDist\u001b[39m:\u001b[32m472\u001b[39m \u001b[36misleIn.size\u001b[39m: \u001b[32m0\u001b[39m\n",
      "\u001b[35mprovingground\u001b[39m.\u001b[35mlearning\u001b[39m.\u001b[35mMonixFiniteDistributionEq\u001b[39m#\u001b[35mnodeDist\u001b[39m:\u001b[32m472\u001b[39m \u001b[36misleIn.size\u001b[39m: \u001b[32m10\u001b[39m\n",
      "\u001b[35mprovingground\u001b[39m.\u001b[35mlearning\u001b[39m.\u001b[35mMonixFiniteDistributionEq\u001b[39m#\u001b[35mnodeDist\u001b[39m:\u001b[32m472\u001b[39m \u001b[36misleIn.size\u001b[39m: \u001b[32m10\u001b[39m\n",
      "\u001b[35mprovingground\u001b[39m.\u001b[35mlearning\u001b[39m.\u001b[35mMonixFiniteDistributionEq\u001b[39m#\u001b[35mnodeDist\u001b[39m:\u001b[32m472\u001b[39m \u001b[36misleIn.size\u001b[39m: \u001b[32m10\u001b[39m\n",
      "\u001b[35mprovingground\u001b[39m.\u001b[35mlearning\u001b[39m.\u001b[35mMonixFiniteDistributionEq\u001b[39m#\u001b[35mnodeDist\u001b[39m:\u001b[32m472\u001b[39m \u001b[36misleIn.size\u001b[39m: \u001b[32m10\u001b[39m\n",
      "\u001b[35mprovingground\u001b[39m.\u001b[35mlearning\u001b[39m.\u001b[35mMonixFiniteDistributionEq\u001b[39m#\u001b[35mnodeDist\u001b[39m:\u001b[32m472\u001b[39m \u001b[36misleIn.size\u001b[39m: \u001b[32m10\u001b[39m\n",
      "\u001b[35mprovingground\u001b[39m.\u001b[35mlearning\u001b[39m.\u001b[35mMonixFiniteDistributionEq\u001b[39m#\u001b[35mnodeDist\u001b[39m:\u001b[32m472\u001b[39m \u001b[36misleIn.size\u001b[39m: \u001b[32m8\u001b[39m\n",
      "\u001b[35mprovingground\u001b[39m.\u001b[35mlearning\u001b[39m.\u001b[35mMonixFiniteDistributionEq\u001b[39m#\u001b[35mnodeDist\u001b[39m:\u001b[32m472\u001b[39m \u001b[36misleIn.size\u001b[39m: \u001b[32m8\u001b[39m\n",
      "\u001b[35mprovingground\u001b[39m.\u001b[35mlearning\u001b[39m.\u001b[35mMonixFiniteDistributionEq\u001b[39m#\u001b[35mnodeDist\u001b[39m:\u001b[32m472\u001b[39m \u001b[36misleIn.size\u001b[39m: \u001b[32m8\u001b[39m\n",
      "\u001b[35mprovingground\u001b[39m.\u001b[35mlearning\u001b[39m.\u001b[35mMonixFiniteDistributionEq\u001b[39m#\u001b[35mnodeDist\u001b[39m:\u001b[32m472\u001b[39m \u001b[36misleIn.size\u001b[39m: \u001b[32m8\u001b[39m\n",
      "\u001b[35mprovingground\u001b[39m.\u001b[35mlearning\u001b[39m.\u001b[35mMonixFiniteDistributionEq\u001b[39m#\u001b[35mnodeDist\u001b[39m:\u001b[32m472\u001b[39m \u001b[36misleIn.size\u001b[39m: \u001b[32m0\u001b[39m\n",
      "\u001b[35mprovingground\u001b[39m.\u001b[35mlearning\u001b[39m.\u001b[35mMonixFiniteDistributionEq\u001b[39m#\u001b[35mnodeDist\u001b[39m:\u001b[32m472\u001b[39m \u001b[36misleIn.size\u001b[39m: \u001b[32m0\u001b[39m\n",
      "\u001b[35mprovingground\u001b[39m.\u001b[35mlearning\u001b[39m.\u001b[35mMonixFiniteDistributionEq\u001b[39m#\u001b[35mnodeDist\u001b[39m:\u001b[32m472\u001b[39m \u001b[36misleIn.size\u001b[39m: \u001b[32m0\u001b[39m\n",
      "\u001b[35mprovingground\u001b[39m.\u001b[35mlearning\u001b[39m.\u001b[35mMonixFiniteDistributionEq\u001b[39m#\u001b[35mnodeDist\u001b[39m:\u001b[32m472\u001b[39m \u001b[36misleIn.size\u001b[39m: \u001b[32m10\u001b[39m\n",
      "\u001b[35mprovingground\u001b[39m.\u001b[35mlearning\u001b[39m.\u001b[35mMonixFiniteDistributionEq\u001b[39m#\u001b[35mnodeDist\u001b[39m:\u001b[32m472\u001b[39m \u001b[36misleIn.size\u001b[39m: \u001b[32m10\u001b[39m\n",
      "\u001b[35mprovingground\u001b[39m.\u001b[35mlearning\u001b[39m.\u001b[35mMonixFiniteDistributionEq\u001b[39m#\u001b[35mnodeDist\u001b[39m:\u001b[32m472\u001b[39m \u001b[36misleIn.size\u001b[39m: \u001b[32m0\u001b[39m\n",
      "\u001b[35mprovingground\u001b[39m.\u001b[35mlearning\u001b[39m.\u001b[35mMonixFiniteDistributionEq\u001b[39m#\u001b[35mnodeDist\u001b[39m:\u001b[32m472\u001b[39m \u001b[36misleIn.size\u001b[39m: \u001b[32m0\u001b[39m\n",
      "\u001b[35mprovingground\u001b[39m.\u001b[35mlearning\u001b[39m.\u001b[35mMonixFiniteDistributionEq\u001b[39m#\u001b[35mnodeDist\u001b[39m:\u001b[32m472\u001b[39m \u001b[36misleIn.size\u001b[39m: \u001b[32m10\u001b[39m\n",
      "\u001b[35mprovingground\u001b[39m.\u001b[35mlearning\u001b[39m.\u001b[35mMonixFiniteDistributionEq\u001b[39m#\u001b[35mnodeDist\u001b[39m:\u001b[32m472\u001b[39m \u001b[36misleIn.size\u001b[39m: \u001b[32m0\u001b[39m\n",
      "\u001b[35mprovingground\u001b[39m.\u001b[35mlearning\u001b[39m.\u001b[35mMonixFiniteDistributionEq\u001b[39m#\u001b[35mnodeDist\u001b[39m:\u001b[32m472\u001b[39m \u001b[36misleIn.size\u001b[39m: \u001b[32m10\u001b[39m\n",
      "\u001b[35mprovingground\u001b[39m.\u001b[35mlearning\u001b[39m.\u001b[35mMonixFiniteDistributionEq\u001b[39m#\u001b[35mnodeDist\u001b[39m:\u001b[32m472\u001b[39m \u001b[36misleIn.size\u001b[39m: \u001b[32m0\u001b[39m\n",
      "\u001b[35mprovingground\u001b[39m.\u001b[35mlearning\u001b[39m.\u001b[35mMonixFiniteDistributionEq\u001b[39m#\u001b[35mnodeDist\u001b[39m:\u001b[32m472\u001b[39m \u001b[36misleIn.size\u001b[39m: \u001b[32m0\u001b[39m\n",
      "\u001b[35mprovingground\u001b[39m.\u001b[35mlearning\u001b[39m.\u001b[35mMonixFiniteDistributionEq\u001b[39m#\u001b[35mnodeDist\u001b[39m:\u001b[32m472\u001b[39m \u001b[36misleIn.size\u001b[39m: \u001b[32m10\u001b[39m\n",
      "\u001b[35mprovingground\u001b[39m.\u001b[35mlearning\u001b[39m.\u001b[35mMonixFiniteDistributionEq\u001b[39m#\u001b[35mnodeDist\u001b[39m:\u001b[32m472\u001b[39m \u001b[36misleIn.size\u001b[39m: \u001b[32m10\u001b[39m\n",
      "\u001b[35mprovingground\u001b[39m.\u001b[35mlearning\u001b[39m.\u001b[35mMonixFiniteDistributionEq\u001b[39m#\u001b[35mnodeDist\u001b[39m:\u001b[32m472\u001b[39m \u001b[36misleIn.size\u001b[39m: \u001b[32m28\u001b[39m\n",
      "\u001b[35mprovingground\u001b[39m.\u001b[35mlearning\u001b[39m.\u001b[35mMonixFiniteDistributionEq\u001b[39m#\u001b[35mnodeDist\u001b[39m:\u001b[32m472\u001b[39m \u001b[36misleIn.size\u001b[39m: \u001b[32m28\u001b[39m\n",
      "\u001b[35mprovingground\u001b[39m.\u001b[35mlearning\u001b[39m.\u001b[35mMonixFiniteDistributionEq\u001b[39m#\u001b[35mnodeDist\u001b[39m:\u001b[32m472\u001b[39m \u001b[36misleIn.size\u001b[39m: \u001b[32m4\u001b[39m\n",
      "\u001b[35mprovingground\u001b[39m.\u001b[35mlearning\u001b[39m.\u001b[35mMonixFiniteDistributionEq\u001b[39m#\u001b[35mnodeDist\u001b[39m:\u001b[32m472\u001b[39m \u001b[36misleIn.size\u001b[39m: \u001b[32m0\u001b[39m\n",
      "\u001b[35mprovingground\u001b[39m.\u001b[35mlearning\u001b[39m.\u001b[35mMonixFiniteDistributionEq\u001b[39m#\u001b[35mnodeDist\u001b[39m:\u001b[32m472\u001b[39m \u001b[36misleIn.size\u001b[39m: \u001b[32m21\u001b[39m\n",
      "\u001b[35mprovingground\u001b[39m.\u001b[35mlearning\u001b[39m.\u001b[35mMonixFiniteDistributionEq\u001b[39m#\u001b[35mnodeDist\u001b[39m:\u001b[32m472\u001b[39m \u001b[36misleIn.size\u001b[39m: \u001b[32m20\u001b[39m\n"
     ]
    },
    {
     "data": {
      "text/plain": [
       "\u001b[36mrp\u001b[39m: (\u001b[32mFiniteDistribution\u001b[39m[\u001b[32mTerm\u001b[39m], \u001b[32mSet\u001b[39m[\u001b[32mGeneratorVariables\u001b[39m.\u001b[32mEquationTerm\u001b[39m]) = (\n",
       "  \u001b[33mFiniteDistribution\u001b[39m(\n",
       "    \u001b[33mVector\u001b[39m(\n",
       "      \u001b[33mWeighted\u001b[39m(\u001b[32maxiom_{(eqM(a)(b) \\to eqM(b)(a))}\u001b[39m, \u001b[32m0.03157952492251252\u001b[39m),\n",
       "      \u001b[33mWeighted\u001b[39m(\u001b[32mmul(e_r)(e_l)\u001b[39m, \u001b[32m0.005243029344677113\u001b[39m),\n",
       "      \u001b[33mWeighted\u001b[39m(\u001b[32m(@a : M) ↦ mul(@a)\u001b[39m, \u001b[32m0.00921069476906615\u001b[39m),\n",
       "      \u001b[33mWeighted\u001b[39m(\u001b[32meqM(e_r)(e_r)\u001b[39m, \u001b[32m0.005243029344677113\u001b[39m),\n",
       "      \u001b[33mWeighted\u001b[39m(\u001b[32meqM(e_r)(e_l)\u001b[39m, \u001b[32m0.005243029344677113\u001b[39m),\n",
       "      \u001b[33mWeighted\u001b[39m(\u001b[32mmul(e_r)\u001b[39m, \u001b[32m0.024098682493894734\u001b[39m),\n",
       "      \u001b[33mWeighted\u001b[39m(\u001b[32maxiom_{(eqM(a)(b) \\to (eqM(b)(c) \\to eqM(a)(c)))}\u001b[39m, \u001b[32m0.03157952492251252\u001b[39m),\n",
       "      \u001b[33mWeighted\u001b[39m(\u001b[32m(@a : ∏(a : M){ eqM(mul(e_l)(a))(a) }) ↦ @a\u001b[39m, \u001b[32m0.0013642354766525413\u001b[39m),\n",
       "      \u001b[33mWeighted\u001b[39m(\u001b[32m(@a : (M → (M → 𝒰 ))) ↦ @a(e_r)\u001b[39m, \u001b[32m0.0022932112842090043\u001b[39m),\n",
       "      \u001b[33mWeighted\u001b[39m(\u001b[32meqM(e_l)(e_l)\u001b[39m, \u001b[32m0.005243029344677113\u001b[39m),\n",
       "      \u001b[33mWeighted\u001b[39m(\u001b[32m(@a : M) ↦ eqM(@a)\u001b[39m, \u001b[32m0.00921069476906615\u001b[39m),\n",
       "      \u001b[33mWeighted\u001b[39m(\u001b[32m(@a : (M → (M → 𝒰 ))) ↦ @a(e_l)\u001b[39m, \u001b[32m0.0022932112842090043\u001b[39m),\n",
       "      \u001b[33mWeighted\u001b[39m(\u001b[32maxiom_{eqM(mul(a)(e_r))(a)}(e_r)\u001b[39m, \u001b[32m0.0034426689276992476\u001b[39m),\n",
       "      \u001b[33mWeighted\u001b[39m(\u001b[32maxiom_{eqM(mul(e_l)(a))(a)}\u001b[39m, \u001b[32m0.03157952492251252\u001b[39m),\n",
       "      \u001b[33mWeighted\u001b[39m(\u001b[32mmul\u001b[39m, \u001b[32m0.2617446559193975\u001b[39m),\n",
       "      \u001b[33mWeighted\u001b[39m(\u001b[32meqM(e_r)\u001b[39m, \u001b[32m0.024098682493894734\u001b[39m),\n",
       "      \u001b[33mWeighted\u001b[39m(\n",
       "        \u001b[32m(@a : ∏(a : M){ ∏(b : M){ ∏(c : M){ (eqM(a)(b) → (eqM(b)(c) → eqM(a)(c))) } } }) ↦ @a\u001b[39m,\n",
       "        \u001b[32m0.001364235476652541\u001b[39m\n",
       "      ),\n",
       "      \u001b[33mWeighted\u001b[39m(\u001b[32m(_ : (M → (M → 𝒰 ))) ↦ eqM\u001b[39m, \u001b[32m0.006284811298424956\u001b[39m),\n",
       "      \u001b[33mWeighted\u001b[39m(\u001b[32maxiom_{eqM(a)(a)}(e_r)\u001b[39m, \u001b[32m0.0034426689276992476\u001b[39m),\n",
       "      \u001b[33mWeighted\u001b[39m(\u001b[32m(@a : M) ↦ @a\u001b[39m, \u001b[32m0.0027284709533050826\u001b[39m),\n",
       "      \u001b[33mWeighted\u001b[39m(\u001b[32maxiom_{(eqM(a)(b) \\to (eqM(b)(c) \\to eqM(a)(c)))}(e_l)\u001b[39m, \u001b[32m0.0034426689276992476\u001b[39m),\n",
       "      \u001b[33mWeighted\u001b[39m(\u001b[32m(@a : (M → (M → 𝒰 ))) ↦ @a\u001b[39m, \u001b[32m0.008080471669403518\u001b[39m),\n",
       "      \u001b[33mWeighted\u001b[39m(\u001b[32m(@a : ∏(a : M){ eqM(a)(a) }) ↦ @a\u001b[39m, \u001b[32m0.0013642354766525413\u001b[39m),\n",
       "      \u001b[33mWeighted\u001b[39m(\u001b[32maxiom_{eqM(mul(a)(e_r))(a)}\u001b[39m, \u001b[32m0.03157952492251252\u001b[39m),\n",
       "      \u001b[33mWeighted\u001b[39m(\u001b[32me_l\u001b[39m, \u001b[32m0.03157952492251252\u001b[39m),\n",
       "      \u001b[33mWeighted\u001b[39m(\u001b[32maxiom_{eqM(a)(a)}\u001b[39m, \u001b[32m0.03157952492251252\u001b[39m),\n",
       "      \u001b[33mWeighted\u001b[39m(\u001b[32m(@a : (M → (M → M))) ↦ @a(e_l)\u001b[39m, \u001b[32m0.0022932112842090043\u001b[39m),\n",
       "      \u001b[33mWeighted\u001b[39m(\u001b[32meqM(e_l)(e_r)\u001b[39m, \u001b[32m0.005243029344677113\u001b[39m),\n",
       "      \u001b[33mWeighted\u001b[39m(\u001b[32m(@a : ∏(a : M){ eqM(mul(a)(e_r))(a) }) ↦ @a\u001b[39m, \u001b[32m0.0013642354766525413\u001b[39m),\n",
       "      \u001b[33mWeighted\u001b[39m(\u001b[32m(_ : (M → (M → M))) ↦ mul\u001b[39m, \u001b[32m0.006284811298424955\u001b[39m),\n",
       "      \u001b[33mWeighted\u001b[39m(\u001b[32m(_ : (M → (M → 𝒰 ))) ↦ mul\u001b[39m, \u001b[32m0.006284811298424956\u001b[39m),\n",
       "      \u001b[33mWeighted\u001b[39m(\u001b[32mmul(e_l)(e_r)\u001b[39m, \u001b[32m0.005243029344677113\u001b[39m),\n",
       "      \u001b[33mWeighted\u001b[39m(\u001b[32meqM\u001b[39m, \u001b[32m0.2617446559193975\u001b[39m),\n",
       "      \u001b[33mWeighted\u001b[39m(\u001b[32maxiom_{eqM(mul(e_l)(a))(a)}(e_r)\u001b[39m, \u001b[32m0.0034426689276992476\u001b[39m),\n",
       "      \u001b[33mWeighted\u001b[39m(\u001b[32mmul(e_l)(e_l)\u001b[39m, \u001b[32m0.005243029344677113\u001b[39m),\n",
       "      \u001b[33mWeighted\u001b[39m(\u001b[32m(@a : (M → (M → M))) ↦ @a(e_r)\u001b[39m, \u001b[32m0.0022932112842090043\u001b[39m),\n",
       "      \u001b[33mWeighted\u001b[39m(\u001b[32maxiom_{(eqM(a)(b) \\to eqM(b)(a))}(e_l)\u001b[39m, \u001b[32m0.0034426689276992476\u001b[39m),\n",
       "      \u001b[33mWeighted\u001b[39m(\u001b[32m(@a : ∏(a : M){ ∏(b : M){ (eqM(a)(b) → eqM(b)(a)) } }) ↦ @a\u001b[39m, \u001b[32m0.001364235476652541\u001b[39m),\n",
       "      \u001b[33mWeighted\u001b[39m(\u001b[32maxiom_{(eqM(a)(b) \\to (eqM(b)(c) \\to eqM(a)(c)))}(e_r)\u001b[39m, \u001b[32m0.0034426689276992476\u001b[39m),\n",
       "      \u001b[33mWeighted\u001b[39m(\u001b[32me_r\u001b[39m, \u001b[32m0.03157952492251252\u001b[39m),\n",
       "      \u001b[33mWeighted\u001b[39m(\u001b[32maxiom_{eqM(mul(e_l)(a))(a)}(e_l)\u001b[39m, \u001b[32m0.0034426689276992476\u001b[39m),\n",
       "      \u001b[33mWeighted\u001b[39m(\u001b[32maxiom_{eqM(a)(a)}(e_l)\u001b[39m, \u001b[32m0.0034426689276992476\u001b[39m),\n",
       "      \u001b[33mWeighted\u001b[39m(\u001b[32m(_ : M) ↦ eqM\u001b[39m, \u001b[32m0.002122144074792842\u001b[39m),\n",
       "...\n",
       "\u001b[36meqs\u001b[39m: \u001b[32mSet\u001b[39m[\u001b[32mGeneratorVariables\u001b[39m.\u001b[32mEquationTerm\u001b[39m] = \u001b[33mSet\u001b[39m(\n",
       "  \u001b[33mEquationTerm\u001b[39m(\n",
       "    \u001b[33mFinalVal\u001b[39m(\u001b[33mElem\u001b[39m(\u001b[32meqM\u001b[39m, Terms)),\n",
       "    \u001b[33mProduct\u001b[39m(\n",
       "      \u001b[33mCoeff\u001b[39m(\u001b[33mZipMapOpt\u001b[39m(<function2>, Funcs, Terms, Terms), Terms),\n",
       "      \u001b[33mProduct\u001b[39m(\n",
       "        \u001b[33mCoeff\u001b[39m(\n",
       "          \u001b[33mBaseThenCondition\u001b[39m(\n",
       "            \u001b[33mFlatMap\u001b[39m(\n",
       "              Typs,\n",
       "              provingground.learning.TermGeneratorNodes$$Lambda$3435/169059441@4d9ee781,\n",
       "              Terms\n",
       "            ),\n",
       "            Funcs,\n",
       "            \u001b[33mRestrict\u001b[39m(FuncOpt)\n",
       "          ),\n",
       "          Funcs\n",
       "        ),\n",
       "        \u001b[33mFinalVal\u001b[39m(\n",
       "          \u001b[33mInIsle\u001b[39m(\n",
       "            \u001b[33mElem\u001b[39m(\u001b[32meqM\u001b[39m, Terms),\n",
       "            \u001b[32m@a\u001b[39m,\n",
       "            \u001b[33mIsland\u001b[39m(Terms, \u001b[33mCRV\u001b[39m(Terms), \u001b[33mAddVar\u001b[39m(\u001b[32m(M → (M → M))\u001b[39m, \u001b[32m0.3\u001b[39m), Lambda, InIsle)\n",
       "          )\n",
       "        )\n",
       "      )\n",
       "    )\n",
       "  ),\n",
       "  \u001b[33mEquationTerm\u001b[39m(\n",
       "    \u001b[33mFinalVal\u001b[39m(\u001b[33mElem\u001b[39m(\u001b[32maxiom_{(eqM(a)(b) \\to (eqM(b)(c) \\to eqM(a)(c)))}(e_l)\u001b[39m, Terms)),\n",
       "    \u001b[33mProduct\u001b[39m(\n",
       "      \u001b[33mCoeff\u001b[39m(\n",
       "        \u001b[33mFlatMap\u001b[39m(\n",
       "          Typs,\n",
       "          provingground.learning.TermGeneratorNodes$$Lambda$3435/169059441@4d9ee781,\n",
       "          Terms\n",
       "        ),\n",
       "        Terms\n",
       "      ),\n",
       "      \u001b[33mFinalVal\u001b[39m(\n",
       "        \u001b[33mInIsle\u001b[39m(\n",
       "          \u001b[33mElem\u001b[39m(\u001b[32maxiom_{(eqM(a)(b) \\to (eqM(b)(c) \\to eqM(a)(c)))}(e_l)\u001b[39m, Terms),\n",
       "          \u001b[32m@a\u001b[39m,\n",
       "          \u001b[33mIsland\u001b[39m(Terms, \u001b[33mCRV\u001b[39m(Terms), \u001b[33mAddVar\u001b[39m(\u001b[32m(M → (M → 𝒰 ))\u001b[39m, \u001b[32m0.3\u001b[39m), Lambda, InIsle)\n",
       "        )\n",
       "      )\n",
       "    )\n",
       "  ),\n",
       "  \u001b[33mEquationTerm\u001b[39m(\n",
       "..."
      ]
     },
     "execution_count": 7,
     "metadata": {},
     "output_type": "execute_result"
    }
   ],
   "source": [
    "val rp = tsk.runSyncUnsafe()\n",
    "val eqs = rp._2"
   ]
  },
  {
   "cell_type": "code",
   "execution_count": 8,
   "metadata": {},
   "outputs": [
    {
     "data": {
      "text/plain": [
       "\u001b[36mres7\u001b[39m: \u001b[32mSet\u001b[39m[\u001b[32mGeneratorVariables\u001b[39m.\u001b[32mEquationTerm\u001b[39m] = \u001b[33mSet\u001b[39m(\n",
       "  \u001b[33mEquationTerm\u001b[39m(\n",
       "    \u001b[33mFinalVal\u001b[39m(\u001b[33mElem\u001b[39m(\u001b[32meqM\u001b[39m, Terms)),\n",
       "    \u001b[33mProduct\u001b[39m(\n",
       "      \u001b[33mCoeff\u001b[39m(\u001b[33mZipMapOpt\u001b[39m(<function2>, Funcs, Terms, Terms), Terms),\n",
       "      \u001b[33mProduct\u001b[39m(\n",
       "        \u001b[33mCoeff\u001b[39m(\n",
       "          \u001b[33mBaseThenCondition\u001b[39m(\n",
       "            \u001b[33mFlatMap\u001b[39m(\n",
       "              Typs,\n",
       "              provingground.learning.TermGeneratorNodes$$Lambda$3435/169059441@4d9ee781,\n",
       "              Terms\n",
       "            ),\n",
       "            Funcs,\n",
       "            \u001b[33mRestrict\u001b[39m(FuncOpt)\n",
       "          ),\n",
       "          Funcs\n",
       "        ),\n",
       "        \u001b[33mFinalVal\u001b[39m(\n",
       "          \u001b[33mInIsle\u001b[39m(\n",
       "            \u001b[33mElem\u001b[39m(\u001b[32meqM\u001b[39m, Terms),\n",
       "            \u001b[32m@a\u001b[39m,\n",
       "            \u001b[33mIsland\u001b[39m(Terms, \u001b[33mCRV\u001b[39m(Terms), \u001b[33mAddVar\u001b[39m(\u001b[32m(M → (M → M))\u001b[39m, \u001b[32m0.3\u001b[39m), Lambda, InIsle)\n",
       "          )\n",
       "        )\n",
       "      )\n",
       "    )\n",
       "  ),\n",
       "  \u001b[33mEquationTerm\u001b[39m(\n",
       "    \u001b[33mFinalVal\u001b[39m(\u001b[33mElem\u001b[39m(\u001b[32maxiom_{(eqM(a)(b) \\to (eqM(b)(c) \\to eqM(a)(c)))}(e_l)\u001b[39m, Terms)),\n",
       "    \u001b[33mProduct\u001b[39m(\n",
       "      \u001b[33mCoeff\u001b[39m(\n",
       "        \u001b[33mFlatMap\u001b[39m(\n",
       "          Typs,\n",
       "          provingground.learning.TermGeneratorNodes$$Lambda$3435/169059441@4d9ee781,\n",
       "          Terms\n",
       "        ),\n",
       "        Terms\n",
       "      ),\n",
       "      \u001b[33mFinalVal\u001b[39m(\n",
       "        \u001b[33mInIsle\u001b[39m(\n",
       "          \u001b[33mElem\u001b[39m(\u001b[32maxiom_{(eqM(a)(b) \\to (eqM(b)(c) \\to eqM(a)(c)))}(e_l)\u001b[39m, Terms),\n",
       "          \u001b[32m@a\u001b[39m,\n",
       "          \u001b[33mIsland\u001b[39m(Terms, \u001b[33mCRV\u001b[39m(Terms), \u001b[33mAddVar\u001b[39m(\u001b[32m(M → (M → 𝒰 ))\u001b[39m, \u001b[32m0.3\u001b[39m), Lambda, InIsle)\n",
       "        )\n",
       "      )\n",
       "    )\n",
       "  ),\n",
       "  \u001b[33mEquationTerm\u001b[39m(\n",
       "..."
      ]
     },
     "execution_count": 8,
     "metadata": {},
     "output_type": "execute_result"
    }
   ],
   "source": [
    "eqs"
   ]
  },
  {
   "cell_type": "code",
   "execution_count": 9,
   "metadata": {},
   "outputs": [
    {
     "data": {
      "text/plain": [
       "\u001b[36mlefts\u001b[39m: \u001b[32mSet\u001b[39m[\u001b[32mGeneratorVariables\u001b[39m.\u001b[32mExpression\u001b[39m] = \u001b[33mSet\u001b[39m(\n",
       "  \u001b[33mFinalVal\u001b[39m(\n",
       "    \u001b[33mInIsle\u001b[39m(\n",
       "      \u001b[33mElem\u001b[39m(\u001b[33mWrap\u001b[39m(\u001b[32meqM\u001b[39m), Funcs),\n",
       "      \u001b[32m@a\u001b[39m,\n",
       "      \u001b[33mIsland\u001b[39m(\n",
       "        \u001b[33mAtCoord\u001b[39m(TermsWithTyp, \u001b[32m(M → (M → 𝒰 ))\u001b[39m :: HNil),\n",
       "        \u001b[33mCRV\u001b[39m(\u001b[33mAtCoord\u001b[39m(TermsWithTyp, \u001b[32m(M → 𝒰 )\u001b[39m :: HNil)),\n",
       "        \u001b[33mAddVar\u001b[39m(\u001b[32mM\u001b[39m, \u001b[32m0.3\u001b[39m),\n",
       "        Lambda,\n",
       "        InIsle\n",
       "      )\n",
       "    )\n",
       "  ),\n",
       "  \u001b[33mInitialVal\u001b[39m(\n",
       "    \u001b[33mInIsle\u001b[39m(\n",
       "      \u001b[33mElem\u001b[39m(\u001b[33mWrap\u001b[39m(\u001b[32meqM\u001b[39m), Funcs),\n",
       "      \u001b[32m@a\u001b[39m,\n",
       "      \u001b[33mIsland\u001b[39m(\n",
       "        \u001b[33mAtCoord\u001b[39m(TermsWithTyp, \u001b[32m(M → (M → 𝒰 ))\u001b[39m :: HNil),\n",
       "        \u001b[33mCRV\u001b[39m(\u001b[33mAtCoord\u001b[39m(TermsWithTyp, \u001b[32m(M → 𝒰 )\u001b[39m :: HNil)),\n",
       "        \u001b[33mAddVar\u001b[39m(\u001b[32mM\u001b[39m, \u001b[32m0.3\u001b[39m),\n",
       "        Lambda,\n",
       "        InIsle\n",
       "      )\n",
       "    )\n",
       "  ),\n",
       "  \u001b[33mFinalVal\u001b[39m(\u001b[33mElem\u001b[39m(\u001b[32m(@a : ∏(a : M){ eqM(mul(a)(e_r))(a) }) ↦ @a\u001b[39m, Terms)),\n",
       "  \u001b[33mFinalVal\u001b[39m(\n",
       "    \u001b[33mInIsle\u001b[39m(\n",
       "      \u001b[33mElem\u001b[39m(\u001b[32maxiom_{(eqM(a)(b) \\to (eqM(b)(c) \\to eqM(a)(c)))}(e_l)\u001b[39m, Terms),\n",
       "      \u001b[32m@a\u001b[39m,\n",
       "      \u001b[33mIsland\u001b[39m(\n",
       "        \u001b[33mAtCoord\u001b[39m(TermsWithTyp, \u001b[32m(M → (M → 𝒰 ))\u001b[39m :: HNil),\n",
       "        \u001b[33mCRV\u001b[39m(\u001b[33mAtCoord\u001b[39m(TermsWithTyp, \u001b[32m(M → 𝒰 )\u001b[39m :: HNil)),\n",
       "        \u001b[33mAddVar\u001b[39m(\u001b[32mM\u001b[39m, \u001b[32m0.3\u001b[39m),\n",
       "        Lambda,\n",
       "        InIsle\n",
       "      )\n",
       "    )\n",
       "  ),\n",
       "  \u001b[33mFinalVal\u001b[39m(\n",
       "    \u001b[33mInIsle\u001b[39m(\n",
       "      \u001b[33mElem\u001b[39m(\u001b[33mWrap\u001b[39m(\u001b[32maxiom_{(eqM(a)(b) \\to (eqM(b)(c) \\to eqM(a)(c)))}\u001b[39m), Funcs),\n",
       "      \u001b[32m@a\u001b[39m,\n",
       "      \u001b[33mIsland\u001b[39m(Terms, \u001b[33mCRV\u001b[39m(Terms), \u001b[33mAddVar\u001b[39m(\u001b[32m(M → (M → M))\u001b[39m, \u001b[32m0.3\u001b[39m), Lambda, InIsle)\n",
       "    )\n",
       "  ),\n",
       "  \u001b[33mInitialVal\u001b[39m(\n",
       "...\n",
       "\u001b[36mres8_1\u001b[39m: \u001b[32mInt\u001b[39m = \u001b[32m762\u001b[39m"
      ]
     },
     "execution_count": 9,
     "metadata": {},
     "output_type": "execute_result"
    }
   ],
   "source": [
    "val lefts = eqs.map(_.lhs)\n",
    "lefts.size"
   ]
  },
  {
   "cell_type": "code",
   "execution_count": 10,
   "metadata": {},
   "outputs": [
    {
     "data": {
      "text/plain": [
       "\u001b[32mimport \u001b[39m\u001b[36mGeneratorVariables._\n",
       "\u001b[39m\n",
       "\u001b[36meqgs\u001b[39m: \u001b[32mSet\u001b[39m[\u001b[32mEquation\u001b[39m] = \u001b[33mSet\u001b[39m(\n",
       "  \u001b[33mEquation\u001b[39m(\n",
       "    \u001b[33mFinalVal\u001b[39m(\n",
       "      \u001b[33mInIsle\u001b[39m(\n",
       "        \u001b[33mElem\u001b[39m(\u001b[32meqM(e_r)\u001b[39m, Terms),\n",
       "        \u001b[32m@a\u001b[39m,\n",
       "        \u001b[33mIsland\u001b[39m(\n",
       "          \u001b[33mAtCoord\u001b[39m(TermsWithTyp, \u001b[32m(M → (M → 𝒰 ))\u001b[39m :: HNil),\n",
       "          \u001b[33mCRV\u001b[39m(\u001b[33mAtCoord\u001b[39m(TermsWithTyp, \u001b[32m(M → 𝒰 )\u001b[39m :: HNil)),\n",
       "          \u001b[33mAddVar\u001b[39m(\u001b[32mM\u001b[39m, \u001b[32m0.3\u001b[39m),\n",
       "          Lambda,\n",
       "          InIsle\n",
       "        )\n",
       "      )\n",
       "    ),\n",
       "    \u001b[33mSum\u001b[39m(\n",
       "      \u001b[33mProduct\u001b[39m(\n",
       "        \u001b[33mCoeff\u001b[39m(\n",
       "          \u001b[33mZipFlatMap\u001b[39m(\n",
       "            TargetTyps,\n",
       "            provingground.learning.TermGeneratorNodes$$Lambda$3444/1052460798@15cdf2a4,\n",
       "            provingground.learning.TermGeneratorNodes$$Lambda$3445/1353788304@58c0e3e6,\n",
       "            Terms\n",
       "          ),\n",
       "          Terms\n",
       "        ),\n",
       "        \u001b[33mProduct\u001b[39m(\n",
       "          \u001b[33mFinalVal\u001b[39m(\n",
       "            \u001b[33mInIsle\u001b[39m(\n",
       "              \u001b[33mElem\u001b[39m(\u001b[33mWrap\u001b[39m(\u001b[32meqM\u001b[39m), Funcs),\n",
       "              \u001b[32m@a\u001b[39m,\n",
       "              \u001b[33mIsland\u001b[39m(\n",
       "                \u001b[33mAtCoord\u001b[39m(TermsWithTyp, \u001b[32m(M → (M → 𝒰 ))\u001b[39m :: HNil),\n",
       "                \u001b[33mCRV\u001b[39m(\u001b[33mAtCoord\u001b[39m(TermsWithTyp, \u001b[32m(M → 𝒰 )\u001b[39m :: HNil)),\n",
       "                \u001b[33mAddVar\u001b[39m(\u001b[32mM\u001b[39m, \u001b[32m0.3\u001b[39m),\n",
       "                Lambda,\n",
       "                InIsle\n",
       "              )\n",
       "            )\n",
       "          ),\n",
       "          \u001b[33mFinalVal\u001b[39m(\n",
       "            \u001b[33mInIsle\u001b[39m(\n",
       "              \u001b[33mElem\u001b[39m(\u001b[32me_r\u001b[39m, \u001b[33mAtCoord\u001b[39m(TermsWithTyp, \u001b[32mM\u001b[39m :: HNil)),\n",
       "              \u001b[32m@a\u001b[39m,\n",
       "              \u001b[33mIsland\u001b[39m(\n",
       "                \u001b[33mAtCoord\u001b[39m(TermsWithTyp, \u001b[32m(M → (M → 𝒰 ))\u001b[39m :: HNil),\n",
       "                \u001b[33mCRV\u001b[39m(\u001b[33mAtCoord\u001b[39m(TermsWithTyp, \u001b[32m(M → 𝒰 )\u001b[39m :: HNil)),\n",
       "                \u001b[33mAddVar\u001b[39m(\u001b[32mM\u001b[39m, \u001b[32m0.3\u001b[39m),\n",
       "                Lambda,\n",
       "..."
      ]
     },
     "execution_count": 10,
     "metadata": {},
     "output_type": "execute_result"
    }
   ],
   "source": [
    "import GeneratorVariables._\n",
    "val eqgs = groupEquations(eqs)"
   ]
  },
  {
   "cell_type": "code",
   "execution_count": 11,
   "metadata": {},
   "outputs": [
    {
     "data": {
      "text/plain": [
       "\u001b[36mres10_0\u001b[39m: \u001b[32mInt\u001b[39m = \u001b[32m762\u001b[39m\n",
       "\u001b[36mres10_1\u001b[39m: \u001b[32mInt\u001b[39m = \u001b[32m1873\u001b[39m"
      ]
     },
     "execution_count": 11,
     "metadata": {},
     "output_type": "execute_result"
    }
   ],
   "source": [
    "eqgs.size\n",
    "eqs.size"
   ]
  },
  {
   "cell_type": "code",
   "execution_count": 12,
   "metadata": {},
   "outputs": [
    {
     "data": {
      "text/plain": [
       "\u001b[36mres11\u001b[39m: \u001b[32mEquation\u001b[39m = \u001b[33mEquation\u001b[39m(\n",
       "  \u001b[33mFinalVal\u001b[39m(\n",
       "    \u001b[33mInIsle\u001b[39m(\n",
       "      \u001b[33mElem\u001b[39m(\u001b[32meqM(e_r)\u001b[39m, Terms),\n",
       "      \u001b[32m@a\u001b[39m,\n",
       "      \u001b[33mIsland\u001b[39m(\n",
       "        \u001b[33mAtCoord\u001b[39m(TermsWithTyp, \u001b[32m(M → (M → 𝒰 ))\u001b[39m :: HNil),\n",
       "        \u001b[33mCRV\u001b[39m(\u001b[33mAtCoord\u001b[39m(TermsWithTyp, \u001b[32m(M → 𝒰 )\u001b[39m :: HNil)),\n",
       "        \u001b[33mAddVar\u001b[39m(\u001b[32mM\u001b[39m, \u001b[32m0.3\u001b[39m),\n",
       "        Lambda,\n",
       "        InIsle\n",
       "      )\n",
       "    )\n",
       "  ),\n",
       "  \u001b[33mSum\u001b[39m(\n",
       "    \u001b[33mProduct\u001b[39m(\n",
       "      \u001b[33mCoeff\u001b[39m(\n",
       "        \u001b[33mZipFlatMap\u001b[39m(\n",
       "          TargetTyps,\n",
       "          provingground.learning.TermGeneratorNodes$$Lambda$3444/1052460798@15cdf2a4,\n",
       "          provingground.learning.TermGeneratorNodes$$Lambda$3445/1353788304@58c0e3e6,\n",
       "          Terms\n",
       "        ),\n",
       "        Terms\n",
       "      ),\n",
       "      \u001b[33mProduct\u001b[39m(\n",
       "        \u001b[33mFinalVal\u001b[39m(\n",
       "          \u001b[33mInIsle\u001b[39m(\n",
       "            \u001b[33mElem\u001b[39m(\u001b[33mWrap\u001b[39m(\u001b[32meqM\u001b[39m), Funcs),\n",
       "            \u001b[32m@a\u001b[39m,\n",
       "            \u001b[33mIsland\u001b[39m(\n",
       "              \u001b[33mAtCoord\u001b[39m(TermsWithTyp, \u001b[32m(M → (M → 𝒰 ))\u001b[39m :: HNil),\n",
       "              \u001b[33mCRV\u001b[39m(\u001b[33mAtCoord\u001b[39m(TermsWithTyp, \u001b[32m(M → 𝒰 )\u001b[39m :: HNil)),\n",
       "              \u001b[33mAddVar\u001b[39m(\u001b[32mM\u001b[39m, \u001b[32m0.3\u001b[39m),\n",
       "              Lambda,\n",
       "              InIsle\n",
       "            )\n",
       "          )\n",
       "        ),\n",
       "        \u001b[33mFinalVal\u001b[39m(\n",
       "          \u001b[33mInIsle\u001b[39m(\n",
       "            \u001b[33mElem\u001b[39m(\u001b[32me_r\u001b[39m, \u001b[33mAtCoord\u001b[39m(TermsWithTyp, \u001b[32mM\u001b[39m :: HNil)),\n",
       "            \u001b[32m@a\u001b[39m,\n",
       "            \u001b[33mIsland\u001b[39m(\n",
       "              \u001b[33mAtCoord\u001b[39m(TermsWithTyp, \u001b[32m(M → (M → 𝒰 ))\u001b[39m :: HNil),\n",
       "              \u001b[33mCRV\u001b[39m(\u001b[33mAtCoord\u001b[39m(TermsWithTyp, \u001b[32m(M → 𝒰 )\u001b[39m :: HNil)),\n",
       "              \u001b[33mAddVar\u001b[39m(\u001b[32mM\u001b[39m, \u001b[32m0.3\u001b[39m),\n",
       "              Lambda,\n",
       "              InIsle\n",
       "..."
      ]
     },
     "execution_count": 12,
     "metadata": {},
     "output_type": "execute_result"
    }
   ],
   "source": [
    "eqgs.head"
   ]
  },
  {
   "cell_type": "code",
   "execution_count": 13,
   "metadata": {},
   "outputs": [
    {
     "data": {
      "text/plain": [
       "\u001b[36mres12\u001b[39m: \u001b[32mSet\u001b[39m[\u001b[32mExpression\u001b[39m] = \u001b[33mSet\u001b[39m(\n",
       "  \u001b[33mSum\u001b[39m(\n",
       "    \u001b[33mProduct\u001b[39m(\n",
       "      \u001b[33mCoeff\u001b[39m(\n",
       "        \u001b[33mFlatMap\u001b[39m(\n",
       "          Typs,\n",
       "          provingground.learning.TermGeneratorNodes$$Lambda$3435/169059441@4d9ee781,\n",
       "          Terms\n",
       "        ),\n",
       "        Terms\n",
       "      ),\n",
       "      \u001b[33mProduct\u001b[39m(\n",
       "        \u001b[33mCoeff\u001b[39m(\n",
       "          \u001b[33mFlatMap\u001b[39m(\n",
       "            TypFamilies,\n",
       "            provingground.learning.TermGeneratorNodes$$Lambda$3441/1688267403@3d3be45,\n",
       "            Typs\n",
       "          ),\n",
       "          Typs\n",
       "        ),\n",
       "        \u001b[33mProduct\u001b[39m(\u001b[33mFinalVal\u001b[39m(\u001b[33mElem\u001b[39m(\u001b[33mWrap\u001b[39m(\u001b[32meqM\u001b[39m), TypFamilies)), \u001b[33mFinalVal\u001b[39m(\u001b[33mElem\u001b[39m(\u001b[32meqM(e_r)(e_r)\u001b[39m, Typs)))\n",
       "      )\n",
       "    ),\n",
       "    \u001b[33mProduct\u001b[39m(\n",
       "      \u001b[33mCoeff\u001b[39m(\n",
       "        \u001b[33mFlatMap\u001b[39m(\n",
       "          Typs,\n",
       "          provingground.learning.TermGeneratorNodes$$Lambda$3435/169059441@4d9ee781,\n",
       "          Terms\n",
       "        ),\n",
       "        Terms\n",
       "      ),\n",
       "      \u001b[33mProduct\u001b[39m(\n",
       "        \u001b[33mCoeff\u001b[39m(\n",
       "          \u001b[33mFlatMap\u001b[39m(\n",
       "            TypFamilies,\n",
       "            provingground.learning.TermGeneratorNodes$$Lambda$3441/1688267403@3d3be45,\n",
       "            Typs\n",
       "          ),\n",
       "          Typs\n",
       "        ),\n",
       "        \u001b[33mProduct\u001b[39m(\n",
       "          \u001b[33mFinalVal\u001b[39m(\u001b[33mElem\u001b[39m(\u001b[32me_r\u001b[39m, \u001b[33mAtCoord\u001b[39m(TermsWithTyp, \u001b[32mM\u001b[39m :: HNil))),\n",
       "          \u001b[33mFinalVal\u001b[39m(\u001b[33mElem\u001b[39m(\u001b[32meqM(e_r)(e_r)\u001b[39m, Typs))\n",
       "        )\n",
       "      )\n",
       "    )\n",
       "  ),\n",
       "  \u001b[33mProduct\u001b[39m(\n",
       "..."
      ]
     },
     "execution_count": 13,
     "metadata": {},
     "output_type": "execute_result"
    }
   ],
   "source": [
    "eqgs.map(_.rhs)"
   ]
  },
  {
   "cell_type": "code",
   "execution_count": 14,
   "metadata": {},
   "outputs": [
    {
     "data": {
      "text/plain": [
       "\u001b[36mrights\u001b[39m: \u001b[32mSet\u001b[39m[\u001b[32mVarVal\u001b[39m[\u001b[32m_\u001b[39m]] = \u001b[33mSet\u001b[39m(\n",
       "  \u001b[33mInitialVal\u001b[39m(\n",
       "    \u001b[33mInIsle\u001b[39m(\n",
       "      \u001b[33mElem\u001b[39m(\u001b[33mWrap\u001b[39m(\u001b[32meqM\u001b[39m), Funcs),\n",
       "      \u001b[32m@a\u001b[39m,\n",
       "      \u001b[33mIsland\u001b[39m(\n",
       "        \u001b[33mAtCoord\u001b[39m(TermsWithTyp, \u001b[32m(M → (M → 𝒰 ))\u001b[39m :: HNil),\n",
       "        \u001b[33mCRV\u001b[39m(\u001b[33mAtCoord\u001b[39m(TermsWithTyp, \u001b[32m(M → 𝒰 )\u001b[39m :: HNil)),\n",
       "        \u001b[33mAddVar\u001b[39m(\u001b[32mM\u001b[39m, \u001b[32m0.3\u001b[39m),\n",
       "        Lambda,\n",
       "        InIsle\n",
       "      )\n",
       "    )\n",
       "  ),\n",
       "  \u001b[33mFinalVal\u001b[39m(\n",
       "    \u001b[33mInIsle\u001b[39m(\n",
       "      \u001b[33mElem\u001b[39m(\u001b[33mWrap\u001b[39m(\u001b[32meqM\u001b[39m), Funcs),\n",
       "      \u001b[32m@a\u001b[39m,\n",
       "      \u001b[33mIsland\u001b[39m(\n",
       "        \u001b[33mAtCoord\u001b[39m(TermsWithTyp, \u001b[32m(M → (M → 𝒰 ))\u001b[39m :: HNil),\n",
       "        \u001b[33mCRV\u001b[39m(\u001b[33mAtCoord\u001b[39m(TermsWithTyp, \u001b[32m(M → 𝒰 )\u001b[39m :: HNil)),\n",
       "        \u001b[33mAddVar\u001b[39m(\u001b[32mM\u001b[39m, \u001b[32m0.3\u001b[39m),\n",
       "        Lambda,\n",
       "        InIsle\n",
       "      )\n",
       "    )\n",
       "  ),\n",
       "  \u001b[33mFinalVal\u001b[39m(\u001b[33mElem\u001b[39m(\u001b[32m(@a : ∏(a : M){ eqM(mul(a)(e_r))(a) }) ↦ @a\u001b[39m, Terms)),\n",
       "  \u001b[33mFinalVal\u001b[39m(\n",
       "    \u001b[33mInIsle\u001b[39m(\n",
       "      \u001b[33mElem\u001b[39m(\u001b[33mWrap\u001b[39m(\u001b[32maxiom_{(eqM(a)(b) \\to (eqM(b)(c) \\to eqM(a)(c)))}\u001b[39m), Funcs),\n",
       "      \u001b[32m@a\u001b[39m,\n",
       "      \u001b[33mIsland\u001b[39m(Terms, \u001b[33mCRV\u001b[39m(Terms), \u001b[33mAddVar\u001b[39m(\u001b[32m(M → (M → M))\u001b[39m, \u001b[32m0.3\u001b[39m), Lambda, InIsle)\n",
       "    )\n",
       "  ),\n",
       "  \u001b[33mInitialVal\u001b[39m(\n",
       "    \u001b[33mInIsle\u001b[39m(\n",
       "      \u001b[33mElem\u001b[39m(\u001b[33mWrap\u001b[39m(\u001b[32maxiom_{(eqM(a)(b) \\to (eqM(b)(c) \\to eqM(a)(c)))}\u001b[39m), Funcs),\n",
       "      \u001b[32m@a\u001b[39m,\n",
       "      \u001b[33mIsland\u001b[39m(Terms, \u001b[33mCRV\u001b[39m(Terms), \u001b[33mAddVar\u001b[39m(\u001b[32m(M → (M → M))\u001b[39m, \u001b[32m0.3\u001b[39m), Lambda, InIsle)\n",
       "    )\n",
       "  ),\n",
       "  \u001b[33mInitialVal\u001b[39m(\n",
       "    \u001b[33mInIsle\u001b[39m(\n",
       "      \u001b[33mElem\u001b[39m(\u001b[32maxiom_{eqM(mul(a)(e_r))(a)}\u001b[39m, Terms),\n",
       "      \u001b[32m@a\u001b[39m,\n",
       "      \u001b[33mIsland\u001b[39m(\n",
       "        Terms,\n",
       "        \u001b[33mCRV\u001b[39m(Terms),\n",
       "..."
      ]
     },
     "execution_count": 14,
     "metadata": {},
     "output_type": "execute_result"
    }
   ],
   "source": [
    "val rights = eqgs.map(_.rhs).flatMap(GeneratorVariables.Expression.varVals)"
   ]
  },
  {
   "cell_type": "code",
   "execution_count": 15,
   "metadata": {},
   "outputs": [
    {
     "data": {
      "text/plain": [
       "\u001b[36mextras\u001b[39m: \u001b[32mSet\u001b[39m[\u001b[32mVarVal\u001b[39m[\u001b[32m_\u001b[39m]] = \u001b[33mSet\u001b[39m(\n",
       "  \u001b[33mInitialVal\u001b[39m(\u001b[33mElem\u001b[39m(\u001b[32mmul\u001b[39m, Terms)),\n",
       "  \u001b[33mInitialVal\u001b[39m(\u001b[33mElem\u001b[39m(\u001b[32me_r\u001b[39m, Terms)),\n",
       "  \u001b[33mInitialVal\u001b[39m(\u001b[33mElem\u001b[39m(\u001b[32maxiom_{eqM(a)(a)}\u001b[39m, Terms)),\n",
       "  \u001b[33mInitialVal\u001b[39m(\n",
       "    \u001b[33mElem\u001b[39m(\n",
       "      \u001b[33mWrap\u001b[39m(\u001b[32maxiom_{(eqM(a)(b) \\to (eqM(b)(c) \\to eqM(a)(c)))}\u001b[39m),\n",
       "      \u001b[33mAtCoord\u001b[39m(FuncsWithDomain, \u001b[32mM\u001b[39m :: HNil)\n",
       "    )\n",
       "  ),\n",
       "  \u001b[33mInitialVal\u001b[39m(\u001b[33mElem\u001b[39m(\u001b[32maxiom_{(eqM(a)(b) \\to eqM(b)(a))}\u001b[39m, Terms)),\n",
       "  \u001b[33mInitialVal\u001b[39m(\u001b[33mElem\u001b[39m(\u001b[32m@b\u001b[39m, \u001b[33mAtCoord\u001b[39m(TermsWithTyp, \u001b[32mM\u001b[39m :: HNil))),\n",
       "  \u001b[33mFinalVal\u001b[39m(\n",
       "    \u001b[33mElem\u001b[39m(\u001b[33mWrap\u001b[39m(\u001b[32m(@a : (M → (M → 𝒰 ))) ↦ @a\u001b[39m), \u001b[33mAtCoord\u001b[39m(FuncsWithDomain, \u001b[32m(M → (M → 𝒰 ))\u001b[39m :: HNil))\n",
       "  ),\n",
       "  \u001b[33mInitialVal\u001b[39m(\u001b[33mElem\u001b[39m(\u001b[32maxiom_{eqM(a)(a)}\u001b[39m, \u001b[33mAtCoord\u001b[39m(TermsWithTyp, \u001b[32m∏(a : M){ eqM(a)(a) }\u001b[39m :: HNil))),\n",
       "  \u001b[33mInitialVal\u001b[39m(\u001b[33mElem\u001b[39m(\u001b[33mWrap\u001b[39m(\u001b[32maxiom_{eqM(mul(e_l)(a))(a)}\u001b[39m), \u001b[33mAtCoord\u001b[39m(FuncsWithDomain, \u001b[32mM\u001b[39m :: HNil))),\n",
       "  \u001b[33mInitialVal\u001b[39m(\u001b[33mElem\u001b[39m(\u001b[32meqM\u001b[39m, \u001b[33mAtCoord\u001b[39m(TermsWithTyp, \u001b[32m(M → (M → 𝒰 ))\u001b[39m :: HNil))),\n",
       "  \u001b[33mInitialVal\u001b[39m(\u001b[33mElem\u001b[39m(\u001b[33mWrap\u001b[39m(\u001b[32maxiom_{eqM(a)(a)}\u001b[39m), Funcs)),\n",
       "  \u001b[33mInitialVal\u001b[39m(\u001b[33mElem\u001b[39m(\u001b[32maxiom_{(eqM(a)(b) \\to (eqM(b)(c) \\to eqM(a)(c)))}\u001b[39m, Terms)),\n",
       "  \u001b[33mInitialVal\u001b[39m(\u001b[33mElem\u001b[39m(\u001b[32m∏(a : M){ eqM(mul(e_l)(a))(a) }\u001b[39m, Typs)),\n",
       "  \u001b[33mInitialVal\u001b[39m(\u001b[33mElem\u001b[39m(\u001b[33mWrap\u001b[39m(\u001b[32maxiom_{(eqM(a)(b) \\to eqM(b)(a))}\u001b[39m), \u001b[33mAtCoord\u001b[39m(FuncsWithDomain, \u001b[32mM\u001b[39m :: HNil))),\n",
       "  \u001b[33mInitialVal\u001b[39m(\u001b[33mElem\u001b[39m(\u001b[32m∏(a : M){ ∏(b : M){ ∏(c : M){ (eqM(a)(b) → (eqM(b)(c) → eqM(a)(c))) } } }\u001b[39m, Typs)),\n",
       "  \u001b[33mFinalVal\u001b[39m(\u001b[33mElem\u001b[39m(\u001b[32m(@a : M) ↦ eqM(@a)\u001b[39m, \u001b[33mAtCoord\u001b[39m(TermsWithTyp, \u001b[32m(M → (M → 𝒰 ))\u001b[39m :: HNil))),\n",
       "  \u001b[33mInitialVal\u001b[39m(\u001b[33mElem\u001b[39m(\u001b[33mWrap\u001b[39m(\u001b[32maxiom_{eqM(mul(a)(e_r))(a)}\u001b[39m), \u001b[33mAtCoord\u001b[39m(FuncsWithDomain, \u001b[32mM\u001b[39m :: HNil))),\n",
       "  \u001b[33mFinalVal\u001b[39m(\u001b[33mElem\u001b[39m(\u001b[33mWrap\u001b[39m(\u001b[32m(_ : (M → (M → M))) ↦ mul\u001b[39m), \u001b[33mAtCoord\u001b[39m(FuncsWithDomain, \u001b[32m(M → (M → M))\u001b[39m :: HNil))),\n",
       "  \u001b[33mInitialVal\u001b[39m(\u001b[33mElem\u001b[39m(\u001b[32m@a\u001b[39m, Terms)),\n",
       "  \u001b[33mInitialVal\u001b[39m(\n",
       "    \u001b[33mElem\u001b[39m(\n",
       "      \u001b[32maxiom_{eqM(mul(e_l)(a))(a)}\u001b[39m,\n",
       "      \u001b[33mAtCoord\u001b[39m(TermsWithTyp, \u001b[32m∏(a : M){ eqM(mul(e_l)(a))(a) }\u001b[39m :: HNil)\n",
       "    )\n",
       "  ),\n",
       "  \u001b[33mFinalVal\u001b[39m(\n",
       "    \u001b[33mElem\u001b[39m(\u001b[33mWrap\u001b[39m(\u001b[32m(_ : (M → (M → 𝒰 ))) ↦ mul\u001b[39m), \u001b[33mAtCoord\u001b[39m(FuncsWithDomain, \u001b[32m(M → (M → 𝒰 ))\u001b[39m :: HNil))\n",
       "  ),\n",
       "  \u001b[33mInitialVal\u001b[39m(\u001b[33mElem\u001b[39m(\u001b[32m(M → (M → M))\u001b[39m, Typs)),\n",
       "  \u001b[33mInitialVal\u001b[39m(\u001b[33mElem\u001b[39m(\u001b[32meqM\u001b[39m, Terms)),\n",
       "  \u001b[33mInitialVal\u001b[39m(\u001b[33mElem\u001b[39m(\u001b[32m∏(a : M){ eqM(mul(a)(e_r))(a) }\u001b[39m, Typs)),\n",
       "  \u001b[33mInitialVal\u001b[39m(\u001b[33mElem\u001b[39m(\u001b[32m@a\u001b[39m, Terms)),\n",
       "  \u001b[33mInitialVal\u001b[39m(\u001b[33mElem\u001b[39m(\u001b[32m@a\u001b[39m, \u001b[33mAtCoord\u001b[39m(TermsWithTyp, \u001b[32mM\u001b[39m :: HNil))),\n",
       "  \u001b[33mInitialVal\u001b[39m(\u001b[33mElem\u001b[39m(\u001b[33mWrap\u001b[39m(\u001b[32maxiom_{(eqM(a)(b) \\to (eqM(b)(c) \\to eqM(a)(c)))}\u001b[39m), Funcs)),\n",
       "  \u001b[33mInitialVal\u001b[39m(\u001b[33mElem\u001b[39m(\u001b[33mWrap\u001b[39m(\u001b[32maxiom_{eqM(mul(e_l)(a))(a)}\u001b[39m), Funcs)),\n",
       "  \u001b[33mInitialVal\u001b[39m(\u001b[33mElem\u001b[39m(\u001b[33mWrap\u001b[39m(\u001b[32meqM\u001b[39m), Funcs)),\n",
       "  \u001b[33mInitialVal\u001b[39m(\u001b[33mElem\u001b[39m(\u001b[32m@a\u001b[39m, Terms)),\n",
       "  \u001b[33mInitialVal\u001b[39m(\u001b[33mElem\u001b[39m(\u001b[32m∏(a : M){ ∏(b : M){ (eqM(a)(b) → eqM(b)(a)) } }\u001b[39m, Typs)),\n",
       "  \u001b[33mInitialVal\u001b[39m(\u001b[33mElem\u001b[39m(\u001b[32mM\u001b[39m, Typs)),\n",
       "  \u001b[33mInitialVal\u001b[39m(\u001b[33mElem\u001b[39m(\u001b[33mWrap\u001b[39m(\u001b[32maxiom_{eqM(a)(a)}\u001b[39m), \u001b[33mAtCoord\u001b[39m(FuncsWithDomain, \u001b[32mM\u001b[39m :: HNil))),\n",
       "  \u001b[33mInitialVal\u001b[39m(\u001b[33mElem\u001b[39m(\u001b[33mWrap\u001b[39m(\u001b[32maxiom_{eqM(mul(a)(e_r))(a)}\u001b[39m), Funcs)),\n",
       "..."
      ]
     },
     "execution_count": 15,
     "metadata": {},
     "output_type": "execute_result"
    }
   ],
   "source": [
    "val extras = rights -- lefts.flatMap(GeneratorVariables.Expression.varVals)"
   ]
  },
  {
   "cell_type": "code",
   "execution_count": 16,
   "metadata": {},
   "outputs": [
    {
     "data": {
      "text/plain": [
       "\u001b[36mres15\u001b[39m: \u001b[32mInt\u001b[39m = \u001b[32m67\u001b[39m"
      ]
     },
     "execution_count": 16,
     "metadata": {},
     "output_type": "execute_result"
    }
   ],
   "source": [
    "extras.size"
   ]
  },
  {
   "cell_type": "code",
   "execution_count": 17,
   "metadata": {},
   "outputs": [
    {
     "data": {
      "text/plain": [
       "\u001b[36mres16_0\u001b[39m: \u001b[32mInt\u001b[39m = \u001b[32m762\u001b[39m\n",
       "\u001b[36mres16_1\u001b[39m: \u001b[32mInt\u001b[39m = \u001b[32m648\u001b[39m"
      ]
     },
     "execution_count": 17,
     "metadata": {},
     "output_type": "execute_result"
    }
   ],
   "source": [
    "lefts.size\n",
    "rights.size"
   ]
  },
  {
   "cell_type": "code",
   "execution_count": 18,
   "metadata": {},
   "outputs": [
    {
     "data": {
      "text/plain": [
       "\u001b[36mres17\u001b[39m: \u001b[32mSet\u001b[39m[\u001b[32mExpression\u001b[39m] = \u001b[33mSet\u001b[39m(\n",
       "  \u001b[33mFinalVal\u001b[39m(\n",
       "    \u001b[33mInIsle\u001b[39m(\n",
       "      \u001b[33mElem\u001b[39m(\u001b[33mWrap\u001b[39m(\u001b[32meqM\u001b[39m), Funcs),\n",
       "      \u001b[32m@a\u001b[39m,\n",
       "      \u001b[33mIsland\u001b[39m(\n",
       "        \u001b[33mAtCoord\u001b[39m(TermsWithTyp, \u001b[32m(M → (M → 𝒰 ))\u001b[39m :: HNil),\n",
       "        \u001b[33mCRV\u001b[39m(\u001b[33mAtCoord\u001b[39m(TermsWithTyp, \u001b[32m(M → 𝒰 )\u001b[39m :: HNil)),\n",
       "        \u001b[33mAddVar\u001b[39m(\u001b[32mM\u001b[39m, \u001b[32m0.3\u001b[39m),\n",
       "        Lambda,\n",
       "        InIsle\n",
       "      )\n",
       "    )\n",
       "  ),\n",
       "  \u001b[33mInitialVal\u001b[39m(\n",
       "    \u001b[33mInIsle\u001b[39m(\n",
       "      \u001b[33mElem\u001b[39m(\u001b[33mWrap\u001b[39m(\u001b[32meqM\u001b[39m), Funcs),\n",
       "      \u001b[32m@a\u001b[39m,\n",
       "      \u001b[33mIsland\u001b[39m(\n",
       "        \u001b[33mAtCoord\u001b[39m(TermsWithTyp, \u001b[32m(M → (M → 𝒰 ))\u001b[39m :: HNil),\n",
       "        \u001b[33mCRV\u001b[39m(\u001b[33mAtCoord\u001b[39m(TermsWithTyp, \u001b[32m(M → 𝒰 )\u001b[39m :: HNil)),\n",
       "        \u001b[33mAddVar\u001b[39m(\u001b[32mM\u001b[39m, \u001b[32m0.3\u001b[39m),\n",
       "        Lambda,\n",
       "        InIsle\n",
       "      )\n",
       "    )\n",
       "  ),\n",
       "  \u001b[33mFinalVal\u001b[39m(\u001b[33mElem\u001b[39m(\u001b[32m(@a : ∏(a : M){ eqM(mul(a)(e_r))(a) }) ↦ @a\u001b[39m, Terms)),\n",
       "  \u001b[33mFinalVal\u001b[39m(\n",
       "    \u001b[33mInIsle\u001b[39m(\n",
       "      \u001b[33mElem\u001b[39m(\u001b[32maxiom_{(eqM(a)(b) \\to (eqM(b)(c) \\to eqM(a)(c)))}(e_l)\u001b[39m, Terms),\n",
       "      \u001b[32m@a\u001b[39m,\n",
       "      \u001b[33mIsland\u001b[39m(\n",
       "        \u001b[33mAtCoord\u001b[39m(TermsWithTyp, \u001b[32m(M → (M → 𝒰 ))\u001b[39m :: HNil),\n",
       "        \u001b[33mCRV\u001b[39m(\u001b[33mAtCoord\u001b[39m(TermsWithTyp, \u001b[32m(M → 𝒰 )\u001b[39m :: HNil)),\n",
       "        \u001b[33mAddVar\u001b[39m(\u001b[32mM\u001b[39m, \u001b[32m0.3\u001b[39m),\n",
       "        Lambda,\n",
       "        InIsle\n",
       "      )\n",
       "    )\n",
       "  ),\n",
       "  \u001b[33mFinalVal\u001b[39m(\n",
       "    \u001b[33mInIsle\u001b[39m(\n",
       "      \u001b[33mElem\u001b[39m(\u001b[33mWrap\u001b[39m(\u001b[32maxiom_{(eqM(a)(b) \\to (eqM(b)(c) \\to eqM(a)(c)))}\u001b[39m), Funcs),\n",
       "      \u001b[32m@a\u001b[39m,\n",
       "      \u001b[33mIsland\u001b[39m(Terms, \u001b[33mCRV\u001b[39m(Terms), \u001b[33mAddVar\u001b[39m(\u001b[32m(M → (M → M))\u001b[39m, \u001b[32m0.3\u001b[39m), Lambda, InIsle)\n",
       "    )\n",
       "  ),\n",
       "  \u001b[33mInitialVal\u001b[39m(\n",
       "..."
      ]
     },
     "execution_count": 18,
     "metadata": {},
     "output_type": "execute_result"
    }
   ],
   "source": [
    "lefts.take(20)"
   ]
  },
  {
   "cell_type": "code",
   "execution_count": 19,
   "metadata": {},
   "outputs": [
    {
     "data": {
      "text/plain": [
       "\u001b[32mimport \u001b[39m\u001b[36mGeneratorVariables.Expression.varVals\n",
       "\u001b[39m\n",
       "\u001b[36megEq\u001b[39m: \u001b[32mOption\u001b[39m[\u001b[32mEquation\u001b[39m] = \u001b[33mSome\u001b[39m(\n",
       "  \u001b[33mEquation\u001b[39m(\n",
       "    \u001b[33mInitialVal\u001b[39m(\n",
       "      \u001b[33mInIsle\u001b[39m(\n",
       "        \u001b[33mElem\u001b[39m(\u001b[32meqM\u001b[39m, Terms),\n",
       "        \u001b[32m@a\u001b[39m,\n",
       "        \u001b[33mIsland\u001b[39m(Terms, \u001b[33mCRV\u001b[39m(Terms), \u001b[33mAddVar\u001b[39m(\u001b[32m∏(a : M){ eqM(a)(a) }\u001b[39m, \u001b[32m0.3\u001b[39m), Lambda, InIsle)\n",
       "      )\n",
       "    ),\n",
       "    \u001b[33mProduct\u001b[39m(\n",
       "      \u001b[33mCoeff\u001b[39m(\n",
       "        \u001b[33mFlatMap\u001b[39m(\n",
       "          Typs,\n",
       "          provingground.learning.TermGeneratorNodes$$Lambda$3435/169059441@4d9ee781,\n",
       "          Terms\n",
       "        ),\n",
       "        Terms\n",
       "      ),\n",
       "      \u001b[33mProduct\u001b[39m(\u001b[33mIsleScale\u001b[39m(\u001b[32m@a\u001b[39m, \u001b[33mElem\u001b[39m(\u001b[32meqM\u001b[39m, Terms)), \u001b[33mInitialVal\u001b[39m(\u001b[33mElem\u001b[39m(\u001b[32meqM\u001b[39m, Terms)))\n",
       "    )\n",
       "  )\n",
       ")"
      ]
     },
     "execution_count": 19,
     "metadata": {},
     "output_type": "execute_result"
    }
   ],
   "source": [
    "import GeneratorVariables.Expression.varVals\n",
    "val egEq = eqgs.find(eq => varVals(eq.rhs).intersect(extras).nonEmpty)"
   ]
  },
  {
   "cell_type": "code",
   "execution_count": 20,
   "metadata": {},
   "outputs": [
    {
     "data": {
      "text/plain": [
       "\u001b[36mres19\u001b[39m: \u001b[32mExpression\u001b[39m = \u001b[33mInitialVal\u001b[39m(\n",
       "  \u001b[33mInIsle\u001b[39m(\n",
       "    \u001b[33mElem\u001b[39m(\u001b[32meqM\u001b[39m, Terms),\n",
       "    \u001b[32m@a\u001b[39m,\n",
       "    \u001b[33mIsland\u001b[39m(Terms, \u001b[33mCRV\u001b[39m(Terms), \u001b[33mAddVar\u001b[39m(\u001b[32m∏(a : M){ eqM(a)(a) }\u001b[39m, \u001b[32m0.3\u001b[39m), Lambda, InIsle)\n",
       "  )\n",
       ")"
      ]
     },
     "execution_count": 20,
     "metadata": {},
     "output_type": "execute_result"
    }
   ],
   "source": [
    "egEq.get.lhs"
   ]
  },
  {
   "cell_type": "code",
   "execution_count": 21,
   "metadata": {},
   "outputs": [
    {
     "data": {
      "text/plain": [
       "\u001b[36mres20\u001b[39m: \u001b[32mString\u001b[39m = \u001b[32m\"(P\\u2080(InIsle(eqM \\u2208 Terms,@a,Island(Terms,Terms,AddVar,Lambda,InIsle)))) == ((Coeff(FlatMap(Typs,provingground.learning.TermGeneratorNodes$$Lambda$3435/169059441@4d9ee781,Terms),Terms)) * ((IsleScale(@a,eqM \\u2208 Terms)) * (P\\u2080(eqM \\u2208 Terms))))\"\u001b[39m"
      ]
     },
     "execution_count": 21,
     "metadata": {},
     "output_type": "execute_result"
    }
   ],
   "source": [
    "egEq.get.toString"
   ]
  },
  {
   "cell_type": "code",
   "execution_count": 22,
   "metadata": {},
   "outputs": [
    {
     "data": {
      "text/plain": [
       "\u001b[36mres21_0\u001b[39m: \u001b[32mSet\u001b[39m[\u001b[32mVarVal\u001b[39m[\u001b[32m_\u001b[39m]] = \u001b[33mSet\u001b[39m(\u001b[33mInitialVal\u001b[39m(\u001b[33mElem\u001b[39m(\u001b[32meqM\u001b[39m, Terms)))\n",
       "\u001b[36mres21_1\u001b[39m: \u001b[32mSet\u001b[39m[\u001b[32mVarVal\u001b[39m[\u001b[32m_\u001b[39m]] = \u001b[33mSet\u001b[39m(\u001b[33mInitialVal\u001b[39m(\u001b[33mElem\u001b[39m(\u001b[32meqM\u001b[39m, Terms)))"
      ]
     },
     "execution_count": 22,
     "metadata": {},
     "output_type": "execute_result"
    }
   ],
   "source": [
    "varVals(egEq.get.rhs)\n",
    "varVals(egEq.get.rhs).intersect(extras)"
   ]
  },
  {
   "cell_type": "markdown",
   "metadata": {},
   "source": [
    "__Note:__ This may not be an error as we may simply have too low cutoff to get any terms on the rhs.\n",
    "\n",
    "As we see below (which will change after a corrections), most of the extras are initial values in islands, which should be paired with those outside."
   ]
  },
  {
   "cell_type": "code",
   "execution_count": 23,
   "metadata": {},
   "outputs": [
    {
     "data": {
      "text/plain": [
       "\u001b[36minitExtras\u001b[39m: \u001b[32mSet\u001b[39m[\u001b[32mVarVal\u001b[39m[\u001b[32m_\u001b[39m]] = \u001b[33mSet\u001b[39m(\n",
       "  \u001b[33mInitialVal\u001b[39m(\u001b[33mElem\u001b[39m(\u001b[32mmul\u001b[39m, Terms)),\n",
       "  \u001b[33mInitialVal\u001b[39m(\u001b[33mElem\u001b[39m(\u001b[32me_r\u001b[39m, Terms)),\n",
       "  \u001b[33mInitialVal\u001b[39m(\u001b[33mElem\u001b[39m(\u001b[32maxiom_{eqM(a)(a)}\u001b[39m, Terms)),\n",
       "  \u001b[33mInitialVal\u001b[39m(\n",
       "    \u001b[33mElem\u001b[39m(\n",
       "      \u001b[33mWrap\u001b[39m(\u001b[32maxiom_{(eqM(a)(b) \\to (eqM(b)(c) \\to eqM(a)(c)))}\u001b[39m),\n",
       "      \u001b[33mAtCoord\u001b[39m(FuncsWithDomain, \u001b[32mM\u001b[39m :: HNil)\n",
       "    )\n",
       "  ),\n",
       "  \u001b[33mInitialVal\u001b[39m(\u001b[33mElem\u001b[39m(\u001b[32maxiom_{(eqM(a)(b) \\to eqM(b)(a))}\u001b[39m, Terms)),\n",
       "  \u001b[33mInitialVal\u001b[39m(\u001b[33mElem\u001b[39m(\u001b[32m@b\u001b[39m, \u001b[33mAtCoord\u001b[39m(TermsWithTyp, \u001b[32mM\u001b[39m :: HNil))),\n",
       "  \u001b[33mInitialVal\u001b[39m(\u001b[33mElem\u001b[39m(\u001b[32maxiom_{eqM(a)(a)}\u001b[39m, \u001b[33mAtCoord\u001b[39m(TermsWithTyp, \u001b[32m∏(a : M){ eqM(a)(a) }\u001b[39m :: HNil))),\n",
       "  \u001b[33mInitialVal\u001b[39m(\u001b[33mElem\u001b[39m(\u001b[33mWrap\u001b[39m(\u001b[32maxiom_{eqM(mul(e_l)(a))(a)}\u001b[39m), \u001b[33mAtCoord\u001b[39m(FuncsWithDomain, \u001b[32mM\u001b[39m :: HNil))),\n",
       "  \u001b[33mInitialVal\u001b[39m(\u001b[33mElem\u001b[39m(\u001b[32meqM\u001b[39m, \u001b[33mAtCoord\u001b[39m(TermsWithTyp, \u001b[32m(M → (M → 𝒰 ))\u001b[39m :: HNil))),\n",
       "  \u001b[33mInitialVal\u001b[39m(\u001b[33mElem\u001b[39m(\u001b[33mWrap\u001b[39m(\u001b[32maxiom_{eqM(a)(a)}\u001b[39m), Funcs)),\n",
       "  \u001b[33mInitialVal\u001b[39m(\u001b[33mElem\u001b[39m(\u001b[32maxiom_{(eqM(a)(b) \\to (eqM(b)(c) \\to eqM(a)(c)))}\u001b[39m, Terms)),\n",
       "  \u001b[33mInitialVal\u001b[39m(\u001b[33mElem\u001b[39m(\u001b[32m∏(a : M){ eqM(mul(e_l)(a))(a) }\u001b[39m, Typs)),\n",
       "  \u001b[33mInitialVal\u001b[39m(\u001b[33mElem\u001b[39m(\u001b[33mWrap\u001b[39m(\u001b[32maxiom_{(eqM(a)(b) \\to eqM(b)(a))}\u001b[39m), \u001b[33mAtCoord\u001b[39m(FuncsWithDomain, \u001b[32mM\u001b[39m :: HNil))),\n",
       "  \u001b[33mInitialVal\u001b[39m(\u001b[33mElem\u001b[39m(\u001b[32m∏(a : M){ ∏(b : M){ ∏(c : M){ (eqM(a)(b) → (eqM(b)(c) → eqM(a)(c))) } } }\u001b[39m, Typs)),\n",
       "  \u001b[33mInitialVal\u001b[39m(\u001b[33mElem\u001b[39m(\u001b[33mWrap\u001b[39m(\u001b[32maxiom_{eqM(mul(a)(e_r))(a)}\u001b[39m), \u001b[33mAtCoord\u001b[39m(FuncsWithDomain, \u001b[32mM\u001b[39m :: HNil))),\n",
       "  \u001b[33mInitialVal\u001b[39m(\u001b[33mElem\u001b[39m(\u001b[32m@a\u001b[39m, Terms)),\n",
       "  \u001b[33mInitialVal\u001b[39m(\n",
       "    \u001b[33mElem\u001b[39m(\n",
       "      \u001b[32maxiom_{eqM(mul(e_l)(a))(a)}\u001b[39m,\n",
       "      \u001b[33mAtCoord\u001b[39m(TermsWithTyp, \u001b[32m∏(a : M){ eqM(mul(e_l)(a))(a) }\u001b[39m :: HNil)\n",
       "    )\n",
       "  ),\n",
       "  \u001b[33mInitialVal\u001b[39m(\u001b[33mElem\u001b[39m(\u001b[32m(M → (M → M))\u001b[39m, Typs)),\n",
       "  \u001b[33mInitialVal\u001b[39m(\u001b[33mElem\u001b[39m(\u001b[32meqM\u001b[39m, Terms)),\n",
       "  \u001b[33mInitialVal\u001b[39m(\u001b[33mElem\u001b[39m(\u001b[32m∏(a : M){ eqM(mul(a)(e_r))(a) }\u001b[39m, Typs)),\n",
       "  \u001b[33mInitialVal\u001b[39m(\u001b[33mElem\u001b[39m(\u001b[32m@a\u001b[39m, Terms)),\n",
       "  \u001b[33mInitialVal\u001b[39m(\u001b[33mElem\u001b[39m(\u001b[32m@a\u001b[39m, \u001b[33mAtCoord\u001b[39m(TermsWithTyp, \u001b[32mM\u001b[39m :: HNil))),\n",
       "  \u001b[33mInitialVal\u001b[39m(\u001b[33mElem\u001b[39m(\u001b[33mWrap\u001b[39m(\u001b[32maxiom_{(eqM(a)(b) \\to (eqM(b)(c) \\to eqM(a)(c)))}\u001b[39m), Funcs)),\n",
       "  \u001b[33mInitialVal\u001b[39m(\u001b[33mElem\u001b[39m(\u001b[33mWrap\u001b[39m(\u001b[32maxiom_{eqM(mul(e_l)(a))(a)}\u001b[39m), Funcs)),\n",
       "  \u001b[33mInitialVal\u001b[39m(\u001b[33mElem\u001b[39m(\u001b[33mWrap\u001b[39m(\u001b[32meqM\u001b[39m), Funcs)),\n",
       "  \u001b[33mInitialVal\u001b[39m(\u001b[33mElem\u001b[39m(\u001b[32m@a\u001b[39m, Terms)),\n",
       "  \u001b[33mInitialVal\u001b[39m(\u001b[33mElem\u001b[39m(\u001b[32m∏(a : M){ ∏(b : M){ (eqM(a)(b) → eqM(b)(a)) } }\u001b[39m, Typs)),\n",
       "  \u001b[33mInitialVal\u001b[39m(\u001b[33mElem\u001b[39m(\u001b[32mM\u001b[39m, Typs)),\n",
       "  \u001b[33mInitialVal\u001b[39m(\u001b[33mElem\u001b[39m(\u001b[33mWrap\u001b[39m(\u001b[32maxiom_{eqM(a)(a)}\u001b[39m), \u001b[33mAtCoord\u001b[39m(FuncsWithDomain, \u001b[32mM\u001b[39m :: HNil))),\n",
       "  \u001b[33mInitialVal\u001b[39m(\u001b[33mElem\u001b[39m(\u001b[33mWrap\u001b[39m(\u001b[32maxiom_{eqM(mul(a)(e_r))(a)}\u001b[39m), Funcs)),\n",
       "  \u001b[33mInitialVal\u001b[39m(\u001b[33mElem\u001b[39m(\u001b[32m@a\u001b[39m, Terms)),\n",
       "  \u001b[33mInitialVal\u001b[39m(\u001b[33mElem\u001b[39m(\u001b[33mWrap\u001b[39m(\u001b[32m@a\u001b[39m), Funcs)),\n",
       "  \u001b[33mInitialVal\u001b[39m(\u001b[33mElem\u001b[39m(\u001b[32m@a\u001b[39m, Terms)),\n",
       "  \u001b[33mInitialVal\u001b[39m(\u001b[33mElem\u001b[39m(\u001b[32m@a\u001b[39m, Terms)),\n",
       "  \u001b[33mInitialVal\u001b[39m(\u001b[33mElem\u001b[39m(\u001b[32m@a\u001b[39m, Terms)),\n",
       "  \u001b[33mInitialVal\u001b[39m(\u001b[33mElem\u001b[39m(\u001b[33mWrap\u001b[39m(\u001b[32mmul\u001b[39m), Funcs)),\n",
       "  \u001b[33mInitialVal\u001b[39m(\u001b[33mElem\u001b[39m(\u001b[33mWrap\u001b[39m(\u001b[32m@a\u001b[39m), Funcs)),\n",
       "  \u001b[33mInitialVal\u001b[39m(\n",
       "..."
      ]
     },
     "execution_count": 23,
     "metadata": {},
     "output_type": "execute_result"
    }
   ],
   "source": [
    "val initExtras = extras.filter(_.isInstanceOf[InitialVal[_]])"
   ]
  },
  {
   "cell_type": "code",
   "execution_count": 24,
   "metadata": {},
   "outputs": [
    {
     "data": {
      "text/plain": [
       "\u001b[36mres23\u001b[39m: \u001b[32mInt\u001b[39m = \u001b[32m55\u001b[39m"
      ]
     },
     "execution_count": 24,
     "metadata": {},
     "output_type": "execute_result"
    }
   ],
   "source": [
    "initExtras.size"
   ]
  },
  {
   "cell_type": "code",
   "execution_count": 25,
   "metadata": {},
   "outputs": [
    {
     "data": {
      "text/plain": [
       "\u001b[36mres24\u001b[39m: \u001b[32mInt\u001b[39m = \u001b[32m67\u001b[39m"
      ]
     },
     "execution_count": 25,
     "metadata": {},
     "output_type": "execute_result"
    }
   ],
   "source": [
    "extras.size"
   ]
  },
  {
   "cell_type": "code",
   "execution_count": 26,
   "metadata": {},
   "outputs": [
    {
     "data": {
      "text/plain": [
       "\u001b[36mres25\u001b[39m: \u001b[32mSet\u001b[39m[\u001b[32mExpression\u001b[39m] = \u001b[33mSet\u001b[39m(\n",
       "  \u001b[33mInitialVal\u001b[39m(\n",
       "    \u001b[33mInIsle\u001b[39m(\n",
       "      \u001b[33mElem\u001b[39m(\u001b[33mWrap\u001b[39m(\u001b[32meqM\u001b[39m), Funcs),\n",
       "      \u001b[32m@a\u001b[39m,\n",
       "      \u001b[33mIsland\u001b[39m(\n",
       "        \u001b[33mAtCoord\u001b[39m(TermsWithTyp, \u001b[32m(M → (M → 𝒰 ))\u001b[39m :: HNil),\n",
       "        \u001b[33mCRV\u001b[39m(\u001b[33mAtCoord\u001b[39m(TermsWithTyp, \u001b[32m(M → 𝒰 )\u001b[39m :: HNil)),\n",
       "        \u001b[33mAddVar\u001b[39m(\u001b[32mM\u001b[39m, \u001b[32m0.3\u001b[39m),\n",
       "        Lambda,\n",
       "        InIsle\n",
       "      )\n",
       "    )\n",
       "  ),\n",
       "  \u001b[33mInitialVal\u001b[39m(\n",
       "    \u001b[33mInIsle\u001b[39m(\n",
       "      \u001b[33mElem\u001b[39m(\u001b[33mWrap\u001b[39m(\u001b[32maxiom_{(eqM(a)(b) \\to (eqM(b)(c) \\to eqM(a)(c)))}\u001b[39m), Funcs),\n",
       "      \u001b[32m@a\u001b[39m,\n",
       "      \u001b[33mIsland\u001b[39m(Terms, \u001b[33mCRV\u001b[39m(Terms), \u001b[33mAddVar\u001b[39m(\u001b[32m(M → (M → M))\u001b[39m, \u001b[32m0.3\u001b[39m), Lambda, InIsle)\n",
       "    )\n",
       "  ),\n",
       "  \u001b[33mInitialVal\u001b[39m(\n",
       "    \u001b[33mInIsle\u001b[39m(\n",
       "      \u001b[33mElem\u001b[39m(\u001b[32maxiom_{eqM(mul(a)(e_r))(a)}\u001b[39m, Terms),\n",
       "      \u001b[32m@a\u001b[39m,\n",
       "      \u001b[33mIsland\u001b[39m(\n",
       "        Terms,\n",
       "        \u001b[33mCRV\u001b[39m(Terms),\n",
       "        \u001b[33mAddVar\u001b[39m(\u001b[32m∏(a : M){ ∏(b : M){ (eqM(a)(b) → eqM(b)(a)) } }\u001b[39m, \u001b[32m0.3\u001b[39m),\n",
       "        Lambda,\n",
       "        InIsle\n",
       "      )\n",
       "    )\n",
       "  ),\n",
       "  \u001b[33mInitialVal\u001b[39m(\n",
       "    \u001b[33mInIsle\u001b[39m(\n",
       "      \u001b[33mElem\u001b[39m(\u001b[32me_l\u001b[39m, Terms),\n",
       "      \u001b[32m@a\u001b[39m,\n",
       "      \u001b[33mIsland\u001b[39m(\n",
       "        \u001b[33mAtCoord\u001b[39m(FuncsWithDomain, \u001b[32m(M → (M → 𝒰 ))\u001b[39m :: HNil),\n",
       "        \u001b[33mCRV\u001b[39m(Terms),\n",
       "        \u001b[33mAddVar\u001b[39m(\u001b[32m(M → (M → 𝒰 ))\u001b[39m, \u001b[32m0.3\u001b[39m),\n",
       "        Lambda,\n",
       "        InIsle\n",
       "      )\n",
       "    )\n",
       "  ),\n",
       "  \u001b[33mInitialVal\u001b[39m(\n",
       "    \u001b[33mInIsle\u001b[39m(\n",
       "..."
      ]
     },
     "execution_count": 26,
     "metadata": {},
     "output_type": "execute_result"
    }
   ],
   "source": [
    "lefts.filter(_.isInstanceOf[InitialVal[_]])"
   ]
  },
  {
   "cell_type": "code",
   "execution_count": 27,
   "metadata": {},
   "outputs": [
    {
     "data": {
      "text/plain": [
       "\u001b[36mlinits\u001b[39m: \u001b[32mSet\u001b[39m[\u001b[32mEquation\u001b[39m] = \u001b[33mSet\u001b[39m(\n",
       "  \u001b[33mEquation\u001b[39m(\n",
       "    \u001b[33mInitialVal\u001b[39m(\n",
       "      \u001b[33mInIsle\u001b[39m(\n",
       "        \u001b[33mElem\u001b[39m(\u001b[32meqM\u001b[39m, Terms),\n",
       "        \u001b[32m@a\u001b[39m,\n",
       "        \u001b[33mIsland\u001b[39m(Terms, \u001b[33mCRV\u001b[39m(Terms), \u001b[33mAddVar\u001b[39m(\u001b[32m∏(a : M){ eqM(a)(a) }\u001b[39m, \u001b[32m0.3\u001b[39m), Lambda, InIsle)\n",
       "      )\n",
       "    ),\n",
       "    \u001b[33mProduct\u001b[39m(\n",
       "      \u001b[33mCoeff\u001b[39m(\n",
       "        \u001b[33mFlatMap\u001b[39m(\n",
       "          Typs,\n",
       "          provingground.learning.TermGeneratorNodes$$Lambda$3435/169059441@4d9ee781,\n",
       "          Terms\n",
       "        ),\n",
       "        Terms\n",
       "      ),\n",
       "      \u001b[33mProduct\u001b[39m(\u001b[33mIsleScale\u001b[39m(\u001b[32m@a\u001b[39m, \u001b[33mElem\u001b[39m(\u001b[32meqM\u001b[39m, Terms)), \u001b[33mInitialVal\u001b[39m(\u001b[33mElem\u001b[39m(\u001b[32meqM\u001b[39m, Terms)))\n",
       "    )\n",
       "  ),\n",
       "  \u001b[33mEquation\u001b[39m(\n",
       "    \u001b[33mInitialVal\u001b[39m(\n",
       "      \u001b[33mInIsle\u001b[39m(\n",
       "        \u001b[33mElem\u001b[39m(\u001b[32m@a\u001b[39m, Terms),\n",
       "        \u001b[32m@a\u001b[39m,\n",
       "        \u001b[33mIsland\u001b[39m(\n",
       "          Terms,\n",
       "          \u001b[33mCRV\u001b[39m(Terms),\n",
       "          \u001b[33mAddVar\u001b[39m(\u001b[32m∏(a : M){ ∏(b : M){ (eqM(a)(b) → eqM(b)(a)) } }\u001b[39m, \u001b[32m0.3\u001b[39m),\n",
       "          Lambda,\n",
       "          InIsle\n",
       "        )\n",
       "      )\n",
       "    ),\n",
       "    \u001b[33mProduct\u001b[39m(\n",
       "      \u001b[33mCoeff\u001b[39m(\n",
       "        \u001b[33mFlatMap\u001b[39m(\n",
       "          Typs,\n",
       "          provingground.learning.TermGeneratorNodes$$Lambda$3435/169059441@4d9ee781,\n",
       "          Terms\n",
       "        ),\n",
       "        Terms\n",
       "      ),\n",
       "      \u001b[33mProduct\u001b[39m(\u001b[33mIsleScale\u001b[39m(\u001b[32m@a\u001b[39m, \u001b[33mElem\u001b[39m(\u001b[32m@a\u001b[39m, Terms)), \u001b[33mInitialVal\u001b[39m(\u001b[33mElem\u001b[39m(\u001b[32m@a\u001b[39m, Terms)))\n",
       "    )\n",
       "  ),\n",
       "  \u001b[33mEquation\u001b[39m(\n",
       "    \u001b[33mInitialVal\u001b[39m(\n",
       "..."
      ]
     },
     "execution_count": 27,
     "metadata": {},
     "output_type": "execute_result"
    }
   ],
   "source": [
    "val linits = eqgs.filter(_.lhs.isInstanceOf[InitialVal[_]])"
   ]
  },
  {
   "cell_type": "code",
   "execution_count": 28,
   "metadata": {},
   "outputs": [
    {
     "data": {
      "text/plain": [
       "\u001b[36mres27\u001b[39m: \u001b[32mInt\u001b[39m = \u001b[32m243\u001b[39m"
      ]
     },
     "execution_count": 28,
     "metadata": {},
     "output_type": "execute_result"
    }
   ],
   "source": [
    "linits.size"
   ]
  },
  {
   "cell_type": "code",
   "execution_count": 29,
   "metadata": {},
   "outputs": [
    {
     "data": {
      "text/plain": [
       "\u001b[36mres28\u001b[39m: \u001b[32mString\u001b[39m = \u001b[32m\"(P\\u2080(InIsle(eqM \\u2208 Terms,@a,Island(Terms,Terms,AddVar,Lambda,InIsle)))) == ((Coeff(FlatMap(Typs,provingground.learning.TermGeneratorNodes$$Lambda$3435/169059441@4d9ee781,Terms),Terms)) * ((IsleScale(@a,eqM \\u2208 Terms)) * (P\\u2080(eqM \\u2208 Terms))))\"\u001b[39m"
      ]
     },
     "execution_count": 29,
     "metadata": {},
     "output_type": "execute_result"
    }
   ],
   "source": [
    "linits.head.toString"
   ]
  },
  {
   "cell_type": "code",
   "execution_count": 30,
   "metadata": {},
   "outputs": [
    {
     "data": {
      "text/plain": [
       "\u001b[36mres29\u001b[39m: \u001b[32mExpression\u001b[39m = \u001b[33mProduct\u001b[39m(\n",
       "  \u001b[33mCoeff\u001b[39m(\n",
       "    \u001b[33mFlatMap\u001b[39m(Typs, provingground.learning.TermGeneratorNodes$$Lambda$3435/169059441@4d9ee781, Terms),\n",
       "    Terms\n",
       "  ),\n",
       "  \u001b[33mProduct\u001b[39m(\u001b[33mIsleScale\u001b[39m(\u001b[32m@a\u001b[39m, \u001b[33mElem\u001b[39m(\u001b[32meqM\u001b[39m, Terms)), \u001b[33mInitialVal\u001b[39m(\u001b[33mElem\u001b[39m(\u001b[32meqM\u001b[39m, Terms)))\n",
       ")"
      ]
     },
     "execution_count": 30,
     "metadata": {},
     "output_type": "execute_result"
    }
   ],
   "source": [
    "linits.head.rhs"
   ]
  },
  {
   "cell_type": "code",
   "execution_count": 31,
   "metadata": {},
   "outputs": [
    {
     "data": {
      "text/plain": [
       "\u001b[36mres30\u001b[39m: \u001b[32mExpression\u001b[39m = \u001b[33mInitialVal\u001b[39m(\n",
       "  \u001b[33mInIsle\u001b[39m(\n",
       "    \u001b[33mElem\u001b[39m(\u001b[32meqM\u001b[39m, Terms),\n",
       "    \u001b[32m@a\u001b[39m,\n",
       "    \u001b[33mIsland\u001b[39m(Terms, \u001b[33mCRV\u001b[39m(Terms), \u001b[33mAddVar\u001b[39m(\u001b[32m∏(a : M){ eqM(a)(a) }\u001b[39m, \u001b[32m0.3\u001b[39m), Lambda, InIsle)\n",
       "  )\n",
       ")"
      ]
     },
     "execution_count": 31,
     "metadata": {},
     "output_type": "execute_result"
    }
   ],
   "source": [
    "linits.head.lhs"
   ]
  },
  {
   "cell_type": "code",
   "execution_count": 32,
   "metadata": {},
   "outputs": [
    {
     "data": {
      "text/plain": [
       "\u001b[36mtermEqs\u001b[39m: \u001b[32mSet\u001b[39m[(\u001b[32mTerm\u001b[39m, \u001b[32mExpression\u001b[39m)] = \u001b[33mSet\u001b[39m(\n",
       "  (\n",
       "    \u001b[32m(@a : (M → (M → M))) ↦ @a(e_r)\u001b[39m,\n",
       "    \u001b[33mProduct\u001b[39m(\n",
       "      \u001b[33mCoeff\u001b[39m(\u001b[33mZipMapOpt\u001b[39m(<function2>, Funcs, Terms, Terms), Terms),\n",
       "      \u001b[33mProduct\u001b[39m(\u001b[33mFinalVal\u001b[39m(\u001b[33mElem\u001b[39m(\u001b[33mWrap\u001b[39m(\u001b[32m(@a : (M → (M → M))) ↦ @a\u001b[39m), Funcs)), \u001b[33mFinalVal\u001b[39m(\u001b[33mElem\u001b[39m(\u001b[32me_r\u001b[39m, Terms)))\n",
       "    )\n",
       "  ),\n",
       "  (\n",
       "    \u001b[32m(_ : (M → (M → 𝒰 ))) ↦ eqM\u001b[39m,\n",
       "    \u001b[33mProduct\u001b[39m(\n",
       "      \u001b[33mCoeff\u001b[39m(\n",
       "        \u001b[33mFlatMap\u001b[39m(\n",
       "          Typs,\n",
       "          provingground.learning.TermGeneratorNodes$$Lambda$3435/169059441@4d9ee781,\n",
       "          Terms\n",
       "        ),\n",
       "        Terms\n",
       "      ),\n",
       "      \u001b[33mProduct\u001b[39m(\n",
       "        \u001b[33mFinalVal\u001b[39m(\u001b[33mElem\u001b[39m(\u001b[32m(M → (M → 𝒰 ))\u001b[39m, Typs)),\n",
       "        \u001b[33mFinalVal\u001b[39m(\u001b[33mElem\u001b[39m(\u001b[32m(_ : (M → (M → 𝒰 ))) ↦ eqM\u001b[39m, Terms))\n",
       "      )\n",
       "    )\n",
       "  ),\n",
       "  (\n",
       "    \u001b[32meqM(e_l)\u001b[39m,\n",
       "    \u001b[33mSum\u001b[39m(\n",
       "      \u001b[33mSum\u001b[39m(\n",
       "        \u001b[33mSum\u001b[39m(\n",
       "          \u001b[33mSum\u001b[39m(\n",
       "            \u001b[33mSum\u001b[39m(\n",
       "              \u001b[33mSum\u001b[39m(\n",
       "                \u001b[33mSum\u001b[39m(\n",
       "                  \u001b[33mSum\u001b[39m(\n",
       "                    \u001b[33mSum\u001b[39m(\n",
       "                      \u001b[33mSum\u001b[39m(\n",
       "                        \u001b[33mSum\u001b[39m(\n",
       "                          \u001b[33mSum\u001b[39m(\n",
       "                            \u001b[33mSum\u001b[39m(\n",
       "                              \u001b[33mSum\u001b[39m(\n",
       "                                \u001b[33mSum\u001b[39m(\n",
       "                                  \u001b[33mSum\u001b[39m(\n",
       "                                    \u001b[33mSum\u001b[39m(\n",
       "                                      \u001b[33mSum\u001b[39m(\n",
       "                                        \u001b[33mSum\u001b[39m(\n",
       "                                          \u001b[33mSum\u001b[39m(\n",
       "                                            \u001b[33mSum\u001b[39m(\n",
       "                                              \u001b[33mSum\u001b[39m(\n",
       "..."
      ]
     },
     "execution_count": 32,
     "metadata": {},
     "output_type": "execute_result"
    }
   ],
   "source": [
    "val termEqs = eqgs.collect{case Equation(FinalVal(Elem(t : Term, Terms)), rhs) => t -> rhs}"
   ]
  },
  {
   "cell_type": "code",
   "execution_count": 33,
   "metadata": {},
   "outputs": [
    {
     "data": {
      "text/plain": [
       "\u001b[36mres32\u001b[39m: \u001b[32mInt\u001b[39m = \u001b[32m75\u001b[39m"
      ]
     },
     "execution_count": 33,
     "metadata": {},
     "output_type": "execute_result"
    }
   ],
   "source": [
    "termEqs.size"
   ]
  },
  {
   "cell_type": "code",
   "execution_count": 34,
   "metadata": {},
   "outputs": [
    {
     "data": {
      "text/plain": [
       "\u001b[36mres33\u001b[39m: \u001b[32mSet\u001b[39m[\u001b[32mTerm\u001b[39m] = \u001b[33mSet\u001b[39m(\n",
       "  \u001b[32maxiom_{(eqM(a)(b) \\to eqM(b)(a))}(mul(e_l)(e_r))(e_l)(axiom_{eqM(mul(a)(e_r))(a)}(e_l))\u001b[39m,\n",
       "  \u001b[32maxiom_{(eqM(a)(b) \\to eqM(b)(a))}\u001b[39m,\n",
       "  \u001b[32mmul(e_r)(e_l)\u001b[39m,\n",
       "  \u001b[32m(@a : M) ↦ mul(@a)\u001b[39m,\n",
       "  \u001b[32m@a\u001b[39m,\n",
       "  \u001b[32meqM(e_r)(e_r)\u001b[39m,\n",
       "  \u001b[32meqM(e_r)(e_l)\u001b[39m,\n",
       "  \u001b[32m@a\u001b[39m,\n",
       "  \u001b[32mmul(e_r)\u001b[39m,\n",
       "  \u001b[32maxiom_{(eqM(a)(b) \\to (eqM(b)(c) \\to eqM(a)(c)))}\u001b[39m,\n",
       "  \u001b[32m(@a : ∏(a : M){ eqM(mul(e_l)(a))(a) }) ↦ @a\u001b[39m,\n",
       "  \u001b[32m(@a : (M → (M → 𝒰 ))) ↦ @a(e_r)\u001b[39m,\n",
       "  \u001b[32meqM(e_l)(e_l)\u001b[39m,\n",
       "  \u001b[32m(@a : M) ↦ eqM(@a)\u001b[39m,\n",
       "  \u001b[32m@a\u001b[39m,\n",
       "  \u001b[32m(@a : (M → (M → 𝒰 ))) ↦ @a(e_l)\u001b[39m,\n",
       "  \u001b[32m@a(e_r)\u001b[39m,\n",
       "  \u001b[32maxiom_{eqM(mul(a)(e_r))(a)}(e_r)\u001b[39m,\n",
       "  \u001b[32maxiom_{eqM(mul(e_l)(a))(a)}\u001b[39m,\n",
       "  \u001b[32mmul\u001b[39m,\n",
       "  \u001b[32meqM(e_r)\u001b[39m,\n",
       "  \u001b[32m(@a : ∏(a : M){ ∏(b : M){ ∏(c : M){ (eqM(a)(b) → (eqM(b)(c) → eqM(a)(c))) } } }) ↦ @a\u001b[39m,\n",
       "  \u001b[32m@a\u001b[39m,\n",
       "  \u001b[32m(_ : (M → (M → 𝒰 ))) ↦ eqM\u001b[39m,\n",
       "  \u001b[32maxiom_{eqM(a)(a)}(e_r)\u001b[39m,\n",
       "  \u001b[32m@a(e_l)\u001b[39m,\n",
       "  \u001b[32m($bofe : M) ↦ axiom_{(eqM(a)(b) \\to (eqM(b)(c) \\to eqM(a)(c)))}(mul(e_l)(e_r))(e_l)($bofe)(axiom_{eqM(mul(a)(e_r))(a)}(e_l))\u001b[39m,\n",
       "  \u001b[32m(@a : M) ↦ @a\u001b[39m,\n",
       "  \u001b[32m($aeoy : M) ↦ axiom_{(eqM(a)(b) \\to (eqM(b)(c) \\to eqM(a)(c)))}(e_r)(e_r)($aeoy)(axiom_{eqM(a)(a)}(e_r))\u001b[39m,\n",
       "  \u001b[32m@a\u001b[39m,\n",
       "  \u001b[32maxiom_{(eqM(a)(b) \\to (eqM(b)(c) \\to eqM(a)(c)))}(e_l)\u001b[39m,\n",
       "  \u001b[32m(@a : (M → (M → 𝒰 ))) ↦ @a\u001b[39m,\n",
       "  \u001b[32m(@a : ∏(a : M){ eqM(a)(a) }) ↦ @a\u001b[39m,\n",
       "  \u001b[32maxiom_{(eqM(a)(b) \\to eqM(b)(a))}(e_r)(e_r)(axiom_{eqM(a)(a)}(e_r))\u001b[39m,\n",
       "  \u001b[32maxiom_{(eqM(a)(b) \\to eqM(b)(a))}(mul(e_l)(e_l))(e_l)(axiom_{eqM(mul(e_l)(a))(a)}(e_l))\u001b[39m,\n",
       "  \u001b[32maxiom_{eqM(mul(a)(e_r))(a)}\u001b[39m,\n",
       "  \u001b[32me_l\u001b[39m,\n",
       "  \u001b[32maxiom_{eqM(a)(a)}\u001b[39m,\n",
       "  \u001b[32m(@a : (M → (M → M))) ↦ @a(e_l)\u001b[39m,\n",
       "  \u001b[32m($bnwy : M) ↦ axiom_{(eqM(a)(b) \\to (eqM(b)(c) \\to eqM(a)(c)))}(mul(e_l)(e_r))(e_r)($bnwy)(axiom_{eqM(mul(e_l)(a))(a)}(e_r))\u001b[39m,\n",
       "  \u001b[32m@a\u001b[39m,\n",
       "  \u001b[32meqM(e_l)(e_r)\u001b[39m,\n",
       "  \u001b[32m(@a : ∏(a : M){ eqM(mul(a)(e_r))(a) }) ↦ @a\u001b[39m,\n",
       "  \u001b[32m($aelp : M) ↦ axiom_{(eqM(a)(b) \\to (eqM(b)(c) \\to eqM(a)(c)))}(mul(e_r)(e_r))(e_r)($aelp)(axiom_{eqM(mul(a)(e_r))(a)}(e_r))\u001b[39m,\n",
       "..."
      ]
     },
     "execution_count": 34,
     "metadata": {},
     "output_type": "execute_result"
    }
   ],
   "source": [
    "termEqs.map(_._1)"
   ]
  },
  {
   "cell_type": "code",
   "execution_count": 35,
   "metadata": {},
   "outputs": [
    {
     "data": {
      "text/plain": [
       "\u001b[36mres34\u001b[39m: \u001b[32mSet\u001b[39m[\u001b[32mTyp\u001b[39m[\u001b[32mU\u001b[39m] forSome { type \u001b[32mU\u001b[39m >: \u001b[32mx$1\u001b[39m.\u001b[32m_1\u001b[39m.type <: \u001b[32mTerm\u001b[39m with \u001b[32mSubs\u001b[39m[\u001b[32mU\u001b[39m]; val \u001b[32mx$1\u001b[39m: (\u001b[32mTerm\u001b[39m, \u001b[32mExpression\u001b[39m) }] = \u001b[33mSet\u001b[39m(\n",
       "  \u001b[32m∏($aeup : M){ (eqM(e_l)($aeup) → eqM(mul(e_l)(e_l))($aeup)) }\u001b[39m,\n",
       "  \u001b[32meqM(e_r)(e_r)\u001b[39m,\n",
       "  \u001b[32meqM(mul(e_l)(e_r))(e_l)\u001b[39m,\n",
       "  \u001b[32m(∏(a : M){ eqM(mul(e_l)(a))(a) } → ∏(a : M){ eqM(mul(e_l)(a))(a) })\u001b[39m,\n",
       "  \u001b[32meqM(e_l)(e_l)\u001b[39m,\n",
       "  \u001b[32m∏(a : M){ eqM(mul(e_l)(a))(a) }\u001b[39m,\n",
       "  \u001b[32m(M → M)\u001b[39m,\n",
       "  \u001b[32meqM(mul(e_l)(e_l))(e_l)\u001b[39m,\n",
       "  \u001b[32m(M → (M → (M → M)))\u001b[39m,\n",
       "  \u001b[32m((M → (M → M)) → (M → (M → M)))\u001b[39m,\n",
       "  \u001b[32m((M → (M → 𝒰 )) → (M → (M → M)))\u001b[39m,\n",
       "  \u001b[32m(∏(a : M){ eqM(mul(a)(e_r))(a) } → ∏(a : M){ eqM(mul(a)(e_r))(a) })\u001b[39m,\n",
       "  \u001b[32m∏($bofe : M){ (eqM(e_l)($bofe) → eqM(mul(e_l)(e_r))($bofe)) }\u001b[39m,\n",
       "  \u001b[32m∏($bnwy : M){ (eqM(e_r)($bnwy) → eqM(mul(e_l)(e_r))($bnwy)) }\u001b[39m,\n",
       "  \u001b[32mM\u001b[39m,\n",
       "  \u001b[32meqM(e_l)(mul(e_l)(e_r))\u001b[39m,\n",
       "  \u001b[32m((M → (M → M)) → (M → M))\u001b[39m,\n",
       "  \u001b[32m(M → (M → M))\u001b[39m,\n",
       "  \u001b[32m∏(a : M){ ∏(b : M){ ∏(c : M){ (eqM(a)(b) → (eqM(b)(c) → eqM(a)(c))) } } }\u001b[39m,\n",
       "  \u001b[32m∏(a : M){ ∏(b : M){ (eqM(a)(b) → eqM(b)(a)) } }\u001b[39m,\n",
       "  \u001b[32m∏($aeoy : M){ (eqM(e_r)($aeoy) → eqM(e_r)($aeoy)) }\u001b[39m,\n",
       "  \u001b[32m∏(b : M){ (eqM(e_l)(b) → eqM(b)(e_l)) }\u001b[39m,\n",
       "  \u001b[32m∏($aexj : M){ (eqM(e_l)($aexj) → eqM(e_l)($aexj)) }\u001b[39m,\n",
       "  \u001b[32m∏(a : M){ eqM(a)(a) }\u001b[39m,\n",
       "  \u001b[32m(∏(a : M){ ∏(b : M){ ∏(c : M){ (eqM(a)(b) → (eqM(b)(c) → eqM(a)(c))) } } } → ∏(a : M){ ∏(b : M){ ∏(c : M){ (eqM(a)(b) → (eqM(b)(c) → eqM(a)(c))) } } })\u001b[39m,\n",
       "  \u001b[32m(∏(a : M){ ∏(b : M){ (eqM(a)(b) → eqM(b)(a)) } } → ∏(a : M){ ∏(b : M){ (eqM(a)(b) → eqM(b)(a)) } })\u001b[39m,\n",
       "  \u001b[32m∏(a : M){ eqM(mul(a)(e_r))(a) }\u001b[39m,\n",
       "  \u001b[32m(∏(a : M){ eqM(a)(a) } → ∏(a : M){ eqM(a)(a) })\u001b[39m,\n",
       "  \u001b[32m(M → 𝒰 )\u001b[39m,\n",
       "  \u001b[32m∏(b : M){ (eqM(e_r)(b) → eqM(b)(e_r)) }\u001b[39m,\n",
       "  \u001b[32m(M → (M → 𝒰 ))\u001b[39m,\n",
       "  \u001b[32m((M → (M → 𝒰 )) → (M → 𝒰 ))\u001b[39m,\n",
       "  \u001b[32meqM(e_l)(mul(e_l)(e_l))\u001b[39m,\n",
       "  \u001b[32m((M → (M → 𝒰 )) → (M → (M → 𝒰 )))\u001b[39m,\n",
       "  \u001b[32m(M → (M → (M → 𝒰 )))\u001b[39m,\n",
       "  \u001b[32m((M → (M → M)) → (M → (M → 𝒰 )))\u001b[39m,\n",
       "  \u001b[32meqM(mul(e_l)(e_r))(e_r)\u001b[39m,\n",
       "  \u001b[32meqM(mul(e_r)(e_r))(e_r)\u001b[39m,\n",
       "  \u001b[32m∏($aelp : M){ (eqM(e_r)($aelp) → eqM(mul(e_r)(e_r))($aelp)) }\u001b[39m,\n",
       "  \u001b[32meqM(e_r)(mul(e_l)(e_r))\u001b[39m,\n",
       "  \u001b[32meqM(e_r)(mul(e_r)(e_r))\u001b[39m,\n",
       "  \u001b[32m∏(b : M){ ∏(c : M){ (eqM(e_l)(b) → (eqM(b)(c) → eqM(e_l)(c))) } }\u001b[39m,\n",
       "  \u001b[32m∏(b : M){ ∏(c : M){ (eqM(e_r)(b) → (eqM(b)(c) → eqM(e_r)(c))) } }\u001b[39m\n",
       ")"
      ]
     },
     "execution_count": 35,
     "metadata": {},
     "output_type": "execute_result"
    }
   ],
   "source": [
    "termEqs.map(_._1.typ).filter(tp => !isUniv(tp))"
   ]
  },
  {
   "cell_type": "code",
   "execution_count": 36,
   "metadata": {},
   "outputs": [
    {
     "data": {
      "text/plain": [
       "\u001b[36meqid\u001b[39m: \u001b[32mOption\u001b[39m[(\u001b[32mTerm\u001b[39m, \u001b[32mExpression\u001b[39m)] = \u001b[33mSome\u001b[39m(\n",
       "  (\n",
       "    \u001b[32maxiom_{(eqM(a)(b) \\to eqM(b)(a))}(mul(e_l)(e_r))(e_l)(axiom_{eqM(mul(a)(e_r))(a)}(e_l))\u001b[39m,\n",
       "    \u001b[33mSum\u001b[39m(\n",
       "      \u001b[33mProduct\u001b[39m(\n",
       "        \u001b[33mCoeff\u001b[39m(\n",
       "          \u001b[33mFiberProductMap\u001b[39m(\n",
       "            provingground.learning.TermGeneratorNodes$$Lambda$3428/1800272150@589c587f,\n",
       "            provingground.learning.TermGeneratorNodes$$Lambda$3429/551626141@7b773d10,\n",
       "            <function2>,\n",
       "            Funcs,\n",
       "            Terms\n",
       "          ),\n",
       "          Terms\n",
       "        ),\n",
       "        \u001b[33mProduct\u001b[39m(\n",
       "          \u001b[33mFinalVal\u001b[39m(\u001b[33mElem\u001b[39m(\u001b[33mWrap\u001b[39m(\u001b[32maxiom_{(eqM(a)(b) \\to eqM(b)(a))}\u001b[39m), Funcs)),\n",
       "          \u001b[33mFinalVal\u001b[39m(\u001b[33mElem\u001b[39m(\u001b[32maxiom_{eqM(mul(a)(e_r))(a)}(e_l)\u001b[39m, Terms))\n",
       "        )\n",
       "      ),\n",
       "      \u001b[33mProduct\u001b[39m(\n",
       "        \u001b[33mCoeff\u001b[39m(\u001b[33mZipMapOpt\u001b[39m(<function2>, Funcs, Terms, Terms), Terms),\n",
       "        \u001b[33mProduct\u001b[39m(\n",
       "          \u001b[33mFinalVal\u001b[39m(\u001b[33mElem\u001b[39m(\u001b[33mWrap\u001b[39m(\u001b[32maxiom_{(eqM(a)(b) \\to eqM(b)(a))}\u001b[39m), Funcs)),\n",
       "          \u001b[33mFinalVal\u001b[39m(\u001b[33mElem\u001b[39m(\u001b[32maxiom_{eqM(mul(a)(e_r))(a)}(e_l)\u001b[39m, Terms))\n",
       "        )\n",
       "      )\n",
       "    )\n",
       "  )\n",
       ")"
      ]
     },
     "execution_count": 36,
     "metadata": {},
     "output_type": "execute_result"
    }
   ],
   "source": [
    "val eqid = termEqs.find(_._1.typ == eqM(l)(op(l)(r)))"
   ]
  },
  {
   "cell_type": "markdown",
   "metadata": {},
   "source": [
    "This is a case of symmetry being applied, and presumably the equation is passed on too."
   ]
  },
  {
   "cell_type": "code",
   "execution_count": 37,
   "metadata": {},
   "outputs": [
    {
     "data": {
      "text/plain": [
       "\u001b[36meqid0\u001b[39m: \u001b[32mOption\u001b[39m[(\u001b[32mTerm\u001b[39m, \u001b[32mExpression\u001b[39m)] = \u001b[33mSome\u001b[39m(\n",
       "  (\n",
       "    \u001b[32maxiom_{eqM(mul(a)(e_r))(a)}(e_l)\u001b[39m,\n",
       "    \u001b[33mSum\u001b[39m(\n",
       "      \u001b[33mSum\u001b[39m(\n",
       "        \u001b[33mSum\u001b[39m(\n",
       "          \u001b[33mSum\u001b[39m(\n",
       "            \u001b[33mSum\u001b[39m(\n",
       "              \u001b[33mSum\u001b[39m(\n",
       "                \u001b[33mSum\u001b[39m(\n",
       "                  \u001b[33mSum\u001b[39m(\n",
       "                    \u001b[33mSum\u001b[39m(\n",
       "                      \u001b[33mSum\u001b[39m(\n",
       "                        \u001b[33mSum\u001b[39m(\n",
       "                          \u001b[33mSum\u001b[39m(\n",
       "                            \u001b[33mSum\u001b[39m(\n",
       "                              \u001b[33mSum\u001b[39m(\n",
       "                                \u001b[33mSum\u001b[39m(\n",
       "                                  \u001b[33mSum\u001b[39m(\n",
       "                                    \u001b[33mSum\u001b[39m(\n",
       "                                      \u001b[33mSum\u001b[39m(\n",
       "                                        \u001b[33mSum\u001b[39m(\n",
       "                                          \u001b[33mSum\u001b[39m(\n",
       "                                            \u001b[33mSum\u001b[39m(\n",
       "                                              \u001b[33mSum\u001b[39m(\n",
       "                                                \u001b[33mSum\u001b[39m(\n",
       "                                                  \u001b[33mSum\u001b[39m(\n",
       "                                                    \u001b[33mProduct\u001b[39m(\n",
       "                                                      \u001b[33mCoeff\u001b[39m(\n",
       "                                                        \u001b[33mFiberProductMap\u001b[39m(\n",
       "                                                          provingground.learning.TermGeneratorNodes$$Lambda$3428/1800272150@589c587f,\n",
       "                                                          provingground.learning.TermGeneratorNodes$$Lambda$3429/551626141@7b773d10,\n",
       "                                                          <function2>,\n",
       "                                                          Funcs,\n",
       "                                                          Terms\n",
       "                                                        ),\n",
       "                                                        Terms\n",
       "                                                      ),\n",
       "                                                      \u001b[33mProduct\u001b[39m(\n",
       "                                                        \u001b[33mFinalVal\u001b[39m(\u001b[33mElem\u001b[39m(\u001b[32me_l\u001b[39m, Terms)),\n",
       "                                                        \u001b[33mFinalVal\u001b[39m(\n",
       "                                                          \u001b[33mElem\u001b[39m(\n",
       "                                                            \u001b[33mWrap\u001b[39m(\u001b[32maxiom_{eqM(mul(a)(e_r))(a)}\u001b[39m),\n",
       "                                                            \u001b[33mAtCoord\u001b[39m(FuncsWithDomain, \u001b[32mM\u001b[39m :: HNil)\n",
       "                                                          )\n",
       "                                                        )\n",
       "                                                      )\n",
       "..."
      ]
     },
     "execution_count": 37,
     "metadata": {},
     "output_type": "execute_result"
    }
   ],
   "source": [
    "val eqid0 = termEqs.find(_._1.typ == eqM(op(l)(r))(l))"
   ]
  },
  {
   "cell_type": "code",
   "execution_count": null,
   "metadata": {},
   "outputs": [],
   "source": []
  }
 ],
 "metadata": {
  "kernelspec": {
   "display_name": "Scala",
   "language": "scala",
   "name": "scala"
  },
  "language_info": {
   "codemirror_mode": "text/x-scala",
   "file_extension": ".scala",
   "mimetype": "text/x-scala",
   "name": "scala",
   "nbconvert_exporter": "script",
   "version": "2.12.8"
  }
 },
 "nbformat": 4,
 "nbformat_minor": 2
}
