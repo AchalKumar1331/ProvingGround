{
 "cells": [
  {
   "cell_type": "markdown",
   "metadata": {},
   "source": [
    "# Expression Language\n",
    "\n",
    "This is a typeclass that separates the basic structure of expressions in a _propositions as types_ view from details of implementation, as well as definitions of inductive types.\n",
    "\n",
    "An expression language type-class on `E` consists of operations that optionally give elements of E by combining or transforming elements of `E` or even constant elements. This is used by:\n",
    "\n",
    "* translating from external formats, especially __natural language__, using this typeclass to define the target.\n",
    "* implementing such a type class for Term\n",
    "* allowing translation from Term to `E` provided this class is implemented and there are pre-defined values.\n",
    "* Having a formal language having this type-class for pickling.\n",
    "\n",
    "Certain related traits are separated from the core type class, such as having a vocabulary and pattern matching with pairs."
   ]
  }
 ],
 "metadata": {
  "kernelspec": {
   "display_name": "Scala 2.11",
   "language": "scala211",
   "name": "scala211"
  },
  "language_info": {
   "codemirror_mode": "text/x-scala",
   "file_extension": ".scala",
   "mimetype": "text/x-scala",
   "name": "scala211",
   "pygments_lexer": "scala",
   "version": "2.11.6"
  }
 },
 "nbformat": 4,
 "nbformat_minor": 0
}
