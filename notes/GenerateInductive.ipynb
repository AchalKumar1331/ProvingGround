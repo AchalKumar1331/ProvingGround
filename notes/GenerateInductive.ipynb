{
 "cells": [
  {
   "cell_type": "code",
   "execution_count": 1,
   "metadata": {},
   "outputs": [
    {
     "data": {
      "text/plain": [
       "\u001b[32mimport \u001b[39m\u001b[36m$ivy.$                                       \u001b[39m"
      ]
     },
     "execution_count": 1,
     "metadata": {},
     "output_type": "execute_result"
    }
   ],
   "source": [
    "import $ivy.`in.ac.iisc.math::core-jvm:0.1-SNAPSHOT`"
   ]
  },
  {
   "cell_type": "code",
   "execution_count": 2,
   "metadata": {},
   "outputs": [
    {
     "data": {
      "text/plain": [
       "\u001b[32mimport \u001b[39m\u001b[36mprovingground._ , interface._, HoTT._\n",
       "\u001b[39m\n",
       "\u001b[32mimport \u001b[39m\u001b[36mprovingground.{FiniteDistribution => FD}\n",
       "\u001b[39m\n",
       "\u001b[32mimport \u001b[39m\u001b[36mlearning._\u001b[39m"
      ]
     },
     "execution_count": 2,
     "metadata": {},
     "output_type": "execute_result"
    }
   ],
   "source": [
    "import provingground._ , interface._, HoTT._\n",
    "import provingground.{FiniteDistribution => FD}\n",
    "import learning._"
   ]
  },
  {
   "cell_type": "code",
   "execution_count": 3,
   "metadata": {},
   "outputs": [
    {
     "data": {
      "text/plain": [
       "\u001b[36mNat\u001b[39m: \u001b[32mTyp\u001b[39m[\u001b[32mTerm\u001b[39m] = \u001b[33mSymbTyp\u001b[39m(\u001b[33mName\u001b[39m(\u001b[32m\"Nat\"\u001b[39m), \u001b[32m0\u001b[39m)\n",
       "\u001b[36mzero\u001b[39m: \u001b[32mTerm\u001b[39m = \u001b[33mSymbObj\u001b[39m(\u001b[33mName\u001b[39m(\u001b[32m\"zero\"\u001b[39m), \u001b[33mSymbTyp\u001b[39m(\u001b[33mName\u001b[39m(\u001b[32m\"Nat\"\u001b[39m), \u001b[32m0\u001b[39m))\n",
       "\u001b[36msucc\u001b[39m: \u001b[32mFunc\u001b[39m[\u001b[32mTerm\u001b[39m, \u001b[32mTerm\u001b[39m] = \u001b[33mSymbolicFunc\u001b[39m(\n",
       "  \u001b[33mName\u001b[39m(\u001b[32m\"succ\"\u001b[39m),\n",
       "  \u001b[33mSymbTyp\u001b[39m(\u001b[33mName\u001b[39m(\u001b[32m\"Nat\"\u001b[39m), \u001b[32m0\u001b[39m),\n",
       "  \u001b[33mSymbTyp\u001b[39m(\u001b[33mName\u001b[39m(\u001b[32m\"Nat\"\u001b[39m), \u001b[32m0\u001b[39m)\n",
       ")"
      ]
     },
     "execution_count": 3,
     "metadata": {},
     "output_type": "execute_result"
    }
   ],
   "source": [
    "val Nat = Type.sym\n",
    "val zero = Nat.sym\n",
    "val succ = (Nat ->: Nat).sym"
   ]
  },
  {
   "cell_type": "code",
   "execution_count": 4,
   "metadata": {},
   "outputs": [
    {
     "data": {
      "text/plain": [
       "\u001b[32mimport \u001b[39m\u001b[36minduction._\n",
       "\u001b[39m\n",
       "\u001b[36mnatStr\u001b[39m: \u001b[32mExstInducStrucs\u001b[39m = \u001b[33mConsSeqExst\u001b[39m(\n",
       "  \u001b[33mConstructorSeqTL\u001b[39m(\n",
       "    \u001b[33mCons\u001b[39m(\n",
       "      \u001b[33mName\u001b[39m(\u001b[32m\"zero\"\u001b[39m),\n",
       "      IdShape(),\n",
       "      \u001b[33mCons\u001b[39m(\u001b[33mName\u001b[39m(\u001b[32m\"succ\"\u001b[39m), \u001b[33mFuncConsShape\u001b[39m(IdIterShape(), IdShape()), Empty())\n",
       "    ),\n",
       "    \u001b[33mSymbTyp\u001b[39m(\u001b[33mName\u001b[39m(\u001b[32m\"Nat\"\u001b[39m), \u001b[32m0\u001b[39m)\n",
       "  ),\n",
       "  \u001b[33mVector\u001b[39m(\n",
       "    \u001b[33mSymbObj\u001b[39m(\u001b[33mName\u001b[39m(\u001b[32m\"zero\"\u001b[39m), \u001b[33mSymbTyp\u001b[39m(\u001b[33mName\u001b[39m(\u001b[32m\"Nat\"\u001b[39m), \u001b[32m0\u001b[39m)),\n",
       "    \u001b[33mSymbolicFunc\u001b[39m(\u001b[33mName\u001b[39m(\u001b[32m\"succ\"\u001b[39m), \u001b[33mSymbTyp\u001b[39m(\u001b[33mName\u001b[39m(\u001b[32m\"Nat\"\u001b[39m), \u001b[32m0\u001b[39m), \u001b[33mSymbTyp\u001b[39m(\u001b[33mName\u001b[39m(\u001b[32m\"Nat\"\u001b[39m), \u001b[32m0\u001b[39m))\n",
       "  )\n",
       ")"
      ]
     },
     "execution_count": 4,
     "metadata": {},
     "output_type": "execute_result"
    }
   ],
   "source": [
    "import induction._\n",
    "val natStr = provingground.induction.ExstInducStrucs.get(Nat, Vector(zero, succ))"
   ]
  },
  {
   "cell_type": "code",
   "execution_count": 5,
   "metadata": {},
   "outputs": [
    {
     "data": {
      "text/plain": [
       "\u001b[36mnatDef\u001b[39m: \u001b[32mExstInducDefn\u001b[39m = \u001b[33mExstInducDefn\u001b[39m(\n",
       "  \u001b[33mSymbTyp\u001b[39m(\u001b[33mName\u001b[39m(\u001b[32m\"Nat\"\u001b[39m), \u001b[32m0\u001b[39m),\n",
       "  \u001b[33mVector\u001b[39m(\n",
       "    \u001b[33mSymbObj\u001b[39m(\u001b[33mName\u001b[39m(\u001b[32m\"zero\"\u001b[39m), \u001b[33mSymbTyp\u001b[39m(\u001b[33mName\u001b[39m(\u001b[32m\"Nat\"\u001b[39m), \u001b[32m0\u001b[39m)),\n",
       "    \u001b[33mSymbolicFunc\u001b[39m(\u001b[33mName\u001b[39m(\u001b[32m\"succ\"\u001b[39m), \u001b[33mSymbTyp\u001b[39m(\u001b[33mName\u001b[39m(\u001b[32m\"Nat\"\u001b[39m), \u001b[32m0\u001b[39m), \u001b[33mSymbTyp\u001b[39m(\u001b[33mName\u001b[39m(\u001b[32m\"Nat\"\u001b[39m), \u001b[32m0\u001b[39m))\n",
       "  ),\n",
       "  \u001b[33mConsSeqExst\u001b[39m(\n",
       "    \u001b[33mConstructorSeqTL\u001b[39m(\n",
       "      \u001b[33mCons\u001b[39m(\n",
       "        \u001b[33mName\u001b[39m(\u001b[32m\"zero\"\u001b[39m),\n",
       "        IdShape(),\n",
       "        \u001b[33mCons\u001b[39m(\u001b[33mName\u001b[39m(\u001b[32m\"succ\"\u001b[39m), \u001b[33mFuncConsShape\u001b[39m(IdIterShape(), IdShape()), Empty())\n",
       "      ),\n",
       "      \u001b[33mSymbTyp\u001b[39m(\u001b[33mName\u001b[39m(\u001b[32m\"Nat\"\u001b[39m), \u001b[32m0\u001b[39m)\n",
       "    ),\n",
       "    \u001b[33mVector\u001b[39m(\n",
       "      \u001b[33mSymbObj\u001b[39m(\u001b[33mName\u001b[39m(\u001b[32m\"zero\"\u001b[39m), \u001b[33mSymbTyp\u001b[39m(\u001b[33mName\u001b[39m(\u001b[32m\"Nat\"\u001b[39m), \u001b[32m0\u001b[39m)),\n",
       "      \u001b[33mSymbolicFunc\u001b[39m(\n",
       "        \u001b[33mName\u001b[39m(\u001b[32m\"succ\"\u001b[39m),\n",
       "        \u001b[33mSymbTyp\u001b[39m(\u001b[33mName\u001b[39m(\u001b[32m\"Nat\"\u001b[39m), \u001b[32m0\u001b[39m),\n",
       "        \u001b[33mSymbTyp\u001b[39m(\u001b[33mName\u001b[39m(\u001b[32m\"Nat\"\u001b[39m), \u001b[32m0\u001b[39m)\n",
       "      )\n",
       "    )\n",
       "  ),\n",
       "  \u001b[33mVector\u001b[39m()\n",
       ")"
      ]
     },
     "execution_count": 5,
     "metadata": {},
     "output_type": "execute_result"
    }
   ],
   "source": [
    "val natDef = ExstInducDefn(Nat, Vector(zero, succ), natStr, Vector())"
   ]
  },
  {
   "cell_type": "code",
   "execution_count": 6,
   "metadata": {},
   "outputs": [
    {
     "data": {
      "text/plain": [
       "\u001b[36mts\u001b[39m: \u001b[32mTermState\u001b[39m = \u001b[33mTermState\u001b[39m(\n",
       "  \u001b[33mFiniteDistribution\u001b[39m(\n",
       "    \u001b[33mVector\u001b[39m(\n",
       "      \u001b[33mWeighted\u001b[39m(\u001b[33mSymbTyp\u001b[39m(\u001b[33mName\u001b[39m(\u001b[32m\"Nat\"\u001b[39m), \u001b[32m0\u001b[39m), \u001b[32m0.3333333333333333\u001b[39m),\n",
       "      \u001b[33mWeighted\u001b[39m(\n",
       "        \u001b[33mSymbObj\u001b[39m(\u001b[33mName\u001b[39m(\u001b[32m\"zero\"\u001b[39m), \u001b[33mSymbTyp\u001b[39m(\u001b[33mName\u001b[39m(\u001b[32m\"Nat\"\u001b[39m), \u001b[32m0\u001b[39m)),\n",
       "        \u001b[32m0.3333333333333333\u001b[39m\n",
       "      ),\n",
       "      \u001b[33mWeighted\u001b[39m(\n",
       "        \u001b[33mSymbolicFunc\u001b[39m(\n",
       "          \u001b[33mName\u001b[39m(\u001b[32m\"succ\"\u001b[39m),\n",
       "          \u001b[33mSymbTyp\u001b[39m(\u001b[33mName\u001b[39m(\u001b[32m\"Nat\"\u001b[39m), \u001b[32m0\u001b[39m),\n",
       "          \u001b[33mSymbTyp\u001b[39m(\u001b[33mName\u001b[39m(\u001b[32m\"Nat\"\u001b[39m), \u001b[32m0\u001b[39m)\n",
       "        ),\n",
       "        \u001b[32m0.3333333333333333\u001b[39m\n",
       "      )\n",
       "    )\n",
       "  ),\n",
       "  \u001b[33mFiniteDistribution\u001b[39m(\n",
       "    \u001b[33mVector\u001b[39m(\u001b[33mWeighted\u001b[39m(\u001b[33mSymbTyp\u001b[39m(\u001b[33mName\u001b[39m(\u001b[32m\"Nat\"\u001b[39m), \u001b[32m0\u001b[39m), \u001b[32m0.5\u001b[39m), \u001b[33mWeighted\u001b[39m(\u001b[33mUniverse\u001b[39m(\u001b[32m0\u001b[39m), \u001b[32m0.5\u001b[39m))\n",
       "  ),\n",
       "  \u001b[33mVector\u001b[39m(),\n",
       "  \u001b[33mFiniteDistribution\u001b[39m(\n",
       "    \u001b[33mVector\u001b[39m(\n",
       "      \u001b[33mWeighted\u001b[39m(\n",
       "        \u001b[33mExstInducDefn\u001b[39m(\n",
       "          \u001b[33mSymbTyp\u001b[39m(\u001b[33mName\u001b[39m(\u001b[32m\"Nat\"\u001b[39m), \u001b[32m0\u001b[39m),\n",
       "          \u001b[33mVector\u001b[39m(\n",
       "            \u001b[33mSymbObj\u001b[39m(\u001b[33mName\u001b[39m(\u001b[32m\"zero\"\u001b[39m), \u001b[33mSymbTyp\u001b[39m(\u001b[33mName\u001b[39m(\u001b[32m\"Nat\"\u001b[39m), \u001b[32m0\u001b[39m)),\n",
       "            \u001b[33mSymbolicFunc\u001b[39m(\n",
       "              \u001b[33mName\u001b[39m(\u001b[32m\"succ\"\u001b[39m),\n",
       "              \u001b[33mSymbTyp\u001b[39m(\u001b[33mName\u001b[39m(\u001b[32m\"Nat\"\u001b[39m), \u001b[32m0\u001b[39m),\n",
       "              \u001b[33mSymbTyp\u001b[39m(\u001b[33mName\u001b[39m(\u001b[32m\"Nat\"\u001b[39m), \u001b[32m0\u001b[39m)\n",
       "            )\n",
       "          ),\n",
       "          \u001b[33mConsSeqExst\u001b[39m(\n",
       "            \u001b[33mConstructorSeqTL\u001b[39m(\n",
       "              \u001b[33mCons\u001b[39m(\n",
       "                \u001b[33mName\u001b[39m(\u001b[32m\"zero\"\u001b[39m),\n",
       "...\n",
       "\u001b[36mtg\u001b[39m: \u001b[32mTermGenParams\u001b[39m = \u001b[33mTermGenParams\u001b[39m(\n",
       "  \u001b[32m0.1\u001b[39m,\n",
       "  \u001b[32m0.1\u001b[39m,\n",
       "  \u001b[32m0.1\u001b[39m,\n",
       "  \u001b[32m0.1\u001b[39m,\n",
       "  \u001b[32m0.1\u001b[39m,\n",
       "  \u001b[32m0.05\u001b[39m,\n",
       "  \u001b[32m0.05\u001b[39m,\n",
       "  \u001b[32m0.05\u001b[39m,\n",
       "  \u001b[32m0.3\u001b[39m,\n",
       "  \u001b[32m0.7\u001b[39m,\n",
       "  \u001b[32m0.5\u001b[39m\n",
       ")"
      ]
     },
     "execution_count": 6,
     "metadata": {},
     "output_type": "execute_result"
    }
   ],
   "source": [
    "val ts = TermState(FD.unif(Nat, zero, succ), FD.unif(Nat, Type), inds = FD.unif(natDef))\n",
    "val tg = TermGenParams()"
   ]
  },
  {
   "cell_type": "code",
   "execution_count": 7,
   "metadata": {},
   "outputs": [
    {
     "data": {
      "text/plain": [
       "\u001b[36mmfd\u001b[39m: \u001b[32mMonixFiniteDistribution\u001b[39m[\u001b[32mTermState\u001b[39m, \u001b[32mTerm\u001b[39m] = \u001b[33mMonixFiniteDistribution\u001b[39m(\n",
       "  \u001b[33mCons\u001b[39m(\n",
       "    \u001b[33mBaseCons\u001b[39m(\n",
       "      \u001b[33mBasePi\u001b[39m(\n",
       "        provingground.learning.RandomVarFamily$$Lambda$3676/670957374@3c61c650,\n",
       "        FuncsWithDomain\n",
       "      ),\n",
       "      \u001b[32m0.55\u001b[39m,\n",
       "      \u001b[33mBaseCons\u001b[39m(\n",
       "        \u001b[33mBasePi\u001b[39m(\n",
       "          provingground.learning.GeneratorNode$$Lambda$3679/1058669329@4a4ed00,\n",
       "          FuncsWithDomain\n",
       "        ),\n",
       "        \u001b[32m0.1\u001b[39m,\n",
       "        \u001b[33mBaseCons\u001b[39m(\n",
       "          \u001b[33mBasePi\u001b[39m(\n",
       "            provingground.learning.GeneratorNode$$Lambda$3679/1058669329@6f199d19,\n",
       "            FuncsWithDomain\n",
       "          ),\n",
       "          \u001b[32m0.1\u001b[39m,\n",
       "          \u001b[33mBaseCons\u001b[39m(\n",
       "            \u001b[33mBasePi\u001b[39m(\n",
       "              provingground.learning.GeneratorNode$$Lambda$3679/1058669329@5a378ec4,\n",
       "              FuncsWithDomain\n",
       "            ),\n",
       "            \u001b[32m0.1\u001b[39m,\n",
       "            \u001b[33mBaseCons\u001b[39m(\n",
       "              \u001b[33mBasePi\u001b[39m(\n",
       "                provingground.learning.TermGeneratorNodes$$Lambda$3664/1386361874@564dd602,\n",
       "                FuncsWithDomain\n",
       "              ),\n",
       "              \u001b[32m0.1\u001b[39m,\n",
       "              \u001b[33mTarget\u001b[39m(FuncsWithDomain)\n",
       "            )\n",
       "          )\n",
       "        )\n",
       "..."
      ]
     },
     "execution_count": 7,
     "metadata": {},
     "output_type": "execute_result"
    }
   ],
   "source": [
    "val mfd = tg.monixFD"
   ]
  },
  {
   "cell_type": "code",
   "execution_count": 8,
   "metadata": {},
   "outputs": [
    {
     "data": {
      "text/plain": [
       "\u001b[32mimport \u001b[39m\u001b[36mTermRandomVars._\n",
       "\u001b[39m\n",
       "\u001b[36midT\u001b[39m: \u001b[32mmonix\u001b[39m.\u001b[32meval\u001b[39m.\u001b[32mTask\u001b[39m[\u001b[32mFiniteDistribution\u001b[39m[\u001b[32mExstInducDefn\u001b[39m]] = \u001b[33mFlatMap\u001b[39m(\n",
       "  \u001b[33mAsync\u001b[39m(<function2>, true, true, true),\n",
       "  monix.eval.Task$$Lambda$3727/213944886@13af4726\n",
       ")"
      ]
     },
     "execution_count": 8,
     "metadata": {},
     "output_type": "execute_result"
    }
   ],
   "source": [
    "import TermRandomVars._\n",
    "val idT = mfd.varDist(ts)(InducDefns, 0.1)"
   ]
  },
  {
   "cell_type": "code",
   "execution_count": 9,
   "metadata": {},
   "outputs": [
    {
     "data": {
      "text/plain": [
       "\u001b[32mimport \u001b[39m\u001b[36mmonix.execution.Scheduler.Implicits.global \n",
       "\u001b[39m\n",
       "\u001b[36minducFD\u001b[39m: \u001b[32mFiniteDistribution\u001b[39m[\u001b[32mExstInducDefn\u001b[39m] = \u001b[33mFiniteDistribution\u001b[39m(\n",
       "  \u001b[33mVector\u001b[39m(\n",
       "    \u001b[33mWeighted\u001b[39m(\n",
       "      \u001b[33mExstInducDefn\u001b[39m(\n",
       "        \u001b[32mNat\u001b[39m,\n",
       "        \u001b[33mVector\u001b[39m(\u001b[32mzero\u001b[39m, \u001b[32msucc\u001b[39m),\n",
       "        \u001b[33mConsSeqExst\u001b[39m(\n",
       "          \u001b[33mConstructorSeqTL\u001b[39m(\n",
       "            \u001b[33mCons\u001b[39m(\u001b[32mzero\u001b[39m, IdShape(), \u001b[33mCons\u001b[39m(\u001b[32msucc\u001b[39m, \u001b[33mFuncConsShape\u001b[39m(IdIterShape(), IdShape()), Empty())),\n",
       "            \u001b[32mNat\u001b[39m\n",
       "          ),\n",
       "          \u001b[33mVector\u001b[39m(\u001b[32mzero\u001b[39m, \u001b[32msucc\u001b[39m)\n",
       "        ),\n",
       "        \u001b[33mVector\u001b[39m()\n",
       "      ),\n",
       "      \u001b[32m1.0\u001b[39m\n",
       "    )\n",
       "  )\n",
       ")"
      ]
     },
     "execution_count": 9,
     "metadata": {},
     "output_type": "execute_result"
    }
   ],
   "source": [
    "import monix.execution.Scheduler.Implicits.global \n",
    "repl.pprinter.bind(translation.FansiShow.fansiPrint)\n",
    "\n",
    "val inducFD = idT.runSyncUnsafe()"
   ]
  },
  {
   "cell_type": "code",
   "execution_count": 10,
   "metadata": {},
   "outputs": [
    {
     "data": {
      "text/plain": [
       "\u001b[36mdomT\u001b[39m: \u001b[32mmonix\u001b[39m.\u001b[32meval\u001b[39m.\u001b[32mTask\u001b[39m[\u001b[32mFiniteDistribution\u001b[39m[\u001b[32mTerm\u001b[39m]] = \u001b[33mFlatMap\u001b[39m(\n",
       "  \u001b[33mAsync\u001b[39m(<function2>, true, true, true),\n",
       "  monix.eval.Task$$Lambda$3727/213944886@4493f339\n",
       ")"
      ]
     },
     "execution_count": 10,
     "metadata": {},
     "output_type": "execute_result"
    }
   ],
   "source": [
    "val domT = mfd.varDist(ts)(domForInduc(natDef), 0.1)"
   ]
  },
  {
   "cell_type": "code",
   "execution_count": 11,
   "metadata": {},
   "outputs": [
    {
     "data": {
      "text/plain": [
       "\u001b[36mdomFD\u001b[39m: \u001b[32mFiniteDistribution\u001b[39m[\u001b[32mTerm\u001b[39m] = \u001b[33mFiniteDistribution\u001b[39m(\u001b[33mVector\u001b[39m(\u001b[33mWeighted\u001b[39m(\u001b[32mNat\u001b[39m, \u001b[32m1.0\u001b[39m)))"
      ]
     },
     "execution_count": 11,
     "metadata": {},
     "output_type": "execute_result"
    }
   ],
   "source": [
    "val domFD = domT.runSyncUnsafe()"
   ]
  },
  {
   "cell_type": "code",
   "execution_count": 12,
   "metadata": {},
   "outputs": [
    {
     "data": {
      "text/plain": [
       "\u001b[36mndT\u001b[39m: \u001b[32mmonix\u001b[39m.\u001b[32meval\u001b[39m.\u001b[32mTask\u001b[39m[\u001b[32mFiniteDistribution\u001b[39m[\u001b[32mTerm\u001b[39m]] = \u001b[33mFlatMap\u001b[39m(\n",
       "  \u001b[33mMap\u001b[39m(\n",
       "    \u001b[33mFlatMap\u001b[39m(\u001b[33mAsync\u001b[39m(<function2>, true, true, true), monix.eval.Task$$Lambda$3727/213944886@39f58036),\n",
       "    provingground.learning.MonixFiniteDistribution$$Lambda$3831/925584372@25403e0e,\n",
       "    \u001b[32m0\u001b[39m\n",
       "  ),\n",
       "  provingground.learning.MonixFiniteDistribution$$Lambda$3832/1141356024@4e6ef80f\n",
       ")"
      ]
     },
     "execution_count": 12,
     "metadata": {},
     "output_type": "execute_result"
    }
   ],
   "source": [
    "val ndT = mfd.nodeDist(ts)(tg.Gen.recFuncFoldedNode, 0.001)"
   ]
  },
  {
   "cell_type": "code",
   "execution_count": 13,
   "metadata": {},
   "outputs": [
    {
     "data": {
      "text/plain": [
       "\u001b[36mnfd\u001b[39m: \u001b[32mFiniteDistribution\u001b[39m[\u001b[32mTerm\u001b[39m] = \u001b[33mFiniteDistribution\u001b[39m(\n",
       "  \u001b[33mVector\u001b[39m(\n",
       "    \u001b[33mWeighted\u001b[39m(\u001b[32mrec_{ Nat ; Nat }(succ(zero))((_ : Nat) ↦ (_ : Nat) ↦ zero)\u001b[39m, \u001b[32m0.007694285640620071\u001b[39m),\n",
       "    \u001b[33mWeighted\u001b[39m(\n",
       "      \u001b[32mrec_{ Nat ; Nat }(succ(succ(zero)))((_ : Nat) ↦ (_ : Nat) ↦ zero)\u001b[39m,\n",
       "      \u001b[32m0.006344070519242263\u001b[39m\n",
       "    ),\n",
       "    \u001b[33mWeighted\u001b[39m(\u001b[32mrec_{ Nat ; Nat }(succ(zero))((_ : Nat) ↦ succ)\u001b[39m, \u001b[32m0.09515789996358705\u001b[39m),\n",
       "    \u001b[33mWeighted\u001b[39m(\u001b[32mrec_{ Nat ; Nat }(succ(succ(zero)))((_ : Nat) ↦ (@b : Nat) ↦ @b)\u001b[39m, \u001b[32m0.011652374423098036\u001b[39m),\n",
       "    \u001b[33mWeighted\u001b[39m(\u001b[32mrec_{ Nat ; Nat }(succ(succ(zero)))((@a : Nat) ↦ (_ : Nat) ↦ @a)\u001b[39m, \u001b[32m0.008156662096168625\u001b[39m),\n",
       "    \u001b[33mWeighted\u001b[39m(\u001b[32mrec_{ Nat ; Nat }(zero)((@a : Nat) ↦ (_ : Nat) ↦ @a)\u001b[39m, \u001b[32m0.008270906578558813\u001b[39m),\n",
       "    \u001b[33mWeighted\u001b[39m(\u001b[32mrec_{ Nat ; Nat }(zero)((_ : Nat) ↦ (@b : Nat) ↦ @b)\u001b[39m, \u001b[32m0.011815580826512592\u001b[39m),\n",
       "    \u001b[33mWeighted\u001b[39m(\n",
       "      \u001b[32mrec_{ Nat ; Nat }(succ(zero))((_ : Nat) ↦ (_ : Nat) ↦ succ(zero))\u001b[39m,\n",
       "      \u001b[32m0.015388571281240142\u001b[39m\n",
       "    ),\n",
       "    \u001b[33mWeighted\u001b[39m(\u001b[32mrec_{ Nat ; Nat }(zero)((_ : Nat) ↦ (@b : Nat) ↦ succ(@b))\u001b[39m, \u001b[32m0.026519414743950483\u001b[39m),\n",
       "    \u001b[33mWeighted\u001b[39m(\u001b[32mrec_{ Nat ; Nat }(succ(zero))((@a : Nat) ↦ (_ : Nat) ↦ @a)\u001b[39m, \u001b[32m0.009892652966511524\u001b[39m),\n",
       "    \u001b[33mWeighted\u001b[39m(\u001b[32mrec_{ Nat ; Nat }(succ(zero))((_ : Nat) ↦ (@b : Nat) ↦ @b)\u001b[39m, \u001b[32m0.014132361380730747\u001b[39m),\n",
       "    \u001b[33mWeighted\u001b[39m(\u001b[32mrec_{ Nat ; Nat }(succ(zero))((@a : Nat) ↦ (_ : Nat) ↦ succ(@a))\u001b[39m, \u001b[32m0.019785305933023047\u001b[39m),\n",
       "    \u001b[33mWeighted\u001b[39m(\u001b[32mrec_{ Nat ; Nat }(succ(zero))((_ : Nat) ↦ (@b : Nat) ↦ succ(@b))\u001b[39m, \u001b[32m0.028264722761461494\u001b[39m),\n",
       "    \u001b[33mWeighted\u001b[39m(\u001b[32mrec_{ Nat ; Nat }(zero)((_ : Nat) ↦ succ)\u001b[39m, \u001b[32m0.053038829487900965\u001b[39m),\n",
       "    \u001b[33mWeighted\u001b[39m(\u001b[32mrec_{ Nat ; 𝒰  }(Nat)((_ : Nat) ↦ (@a : 𝒰 ) ↦ @a)\u001b[39m, \u001b[32m0.27473350526106977\u001b[39m),\n",
       "    \u001b[33mWeighted\u001b[39m(\u001b[32mrec_{ Nat ; Nat }(zero)((_ : Nat) ↦ (_ : Nat) ↦ zero)\u001b[39m, \u001b[32m0.0064329273388790765\u001b[39m),\n",
       "    \u001b[33mWeighted\u001b[39m(\u001b[32mrec_{ Nat ; 𝒰  }(Nat)((_ : Nat) ↦ (_ : 𝒰 ) ↦ Nat)\u001b[39m, \u001b[32m0.14957713064213796\u001b[39m),\n",
       "    \u001b[33mWeighted\u001b[39m(\u001b[32mrec_{ Nat ; Nat }(succ(succ(zero)))((_ : Nat) ↦ succ)\u001b[39m, \u001b[32m0.06395858850011588\u001b[39m),\n",
       "    \u001b[33mWeighted\u001b[39m(\n",
       "      \u001b[32mrec_{ Nat ; Nat }(succ(succ(zero)))((_ : Nat) ↦ (@b : Nat) ↦ succ(@b))\u001b[39m,\n",
       "      \u001b[32m0.037805481461606956\u001b[39m\n",
       "    )\n",
       "  )\n",
       ")"
      ]
     },
     "execution_count": 13,
     "metadata": {},
     "output_type": "execute_result"
    }
   ],
   "source": [
    "val nfd = ndT.runSyncUnsafe()"
   ]
  },
  {
   "cell_type": "code",
   "execution_count": 14,
   "metadata": {},
   "outputs": [
    {
     "data": {
      "text/plain": [
       "\u001b[36mnnT\u001b[39m: \u001b[32mmonix\u001b[39m.\u001b[32meval\u001b[39m.\u001b[32mTask\u001b[39m[\u001b[32mFiniteDistribution\u001b[39m[\u001b[32mTerm\u001b[39m]] = \u001b[33mFlatMap\u001b[39m(\n",
       "  \u001b[33mAsync\u001b[39m(<function2>, true, true, true),\n",
       "  monix.eval.Task$$Lambda$3727/213944886@3a76d836\n",
       ")"
      ]
     },
     "execution_count": 14,
     "metadata": {},
     "output_type": "execute_result"
    }
   ],
   "source": [
    "val nnT = mfd.varDist(ts)(termsWithTyp(Nat ->: Nat), 0.1)"
   ]
  },
  {
   "cell_type": "code",
   "execution_count": 15,
   "metadata": {},
   "outputs": [
    {
     "data": {
      "text/plain": [
       "\u001b[36mnnD\u001b[39m: \u001b[32mFiniteDistribution\u001b[39m[\u001b[32mTerm\u001b[39m] = \u001b[33mFiniteDistribution\u001b[39m(\u001b[33mVector\u001b[39m(\u001b[33mWeighted\u001b[39m(\u001b[32msucc\u001b[39m, \u001b[32m1.0\u001b[39m)))"
      ]
     },
     "execution_count": 15,
     "metadata": {},
     "output_type": "execute_result"
    }
   ],
   "source": [
    "val nnD = nnT.runSyncUnsafe()"
   ]
  },
  {
   "cell_type": "code",
   "execution_count": 16,
   "metadata": {},
   "outputs": [
    {
     "data": {
      "text/plain": [
       "\u001b[36mrf\u001b[39m: \u001b[32mTerm\u001b[39m = \u001b[32m(RecDataSym(zero) : Nat) ↦ (RecDataSym(succ) : (Nat → (Nat → Nat))) ↦ rec_{ Nat ; Nat }(RecDataSym(zero))(RecDataSym(succ))\u001b[39m"
      ]
     },
     "execution_count": 16,
     "metadata": {},
     "output_type": "execute_result"
    }
   ],
   "source": [
    "val rf = natStr.recOpt(Nat, Nat).get"
   ]
  },
  {
   "cell_type": "code",
   "execution_count": 17,
   "metadata": {},
   "outputs": [
    {
     "data": {
      "text/plain": [
       "\u001b[32mimport \u001b[39m\u001b[36mFold._\n",
       "\u001b[39m\n",
       "\u001b[36mres16_1\u001b[39m: \u001b[32mTyp\u001b[39m[\u001b[32mU\u001b[39m] = \u001b[32m(Nat → ((Nat → (Nat → Nat)) → (Nat → Nat)))\u001b[39m"
      ]
     },
     "execution_count": 17,
     "metadata": {},
     "output_type": "execute_result"
    }
   ],
   "source": [
    "import Fold._\n",
    "rf.typ"
   ]
  },
  {
   "cell_type": "code",
   "execution_count": 18,
   "metadata": {},
   "outputs": [
    {
     "data": {
      "text/plain": [
       "\u001b[36mn\u001b[39m: \u001b[32mTerm\u001b[39m = \u001b[32mn\u001b[39m\n",
       "\u001b[36mm\u001b[39m: \u001b[32mTerm\u001b[39m = \u001b[32mm\u001b[39m\n",
       "\u001b[36mfn\u001b[39m: \u001b[32mTerm\u001b[39m = \u001b[32mrec_{ Nat ; Nat }(succ(zero))((_ : Nat) ↦ (m : Nat) ↦ succ(m))\u001b[39m"
      ]
     },
     "execution_count": 18,
     "metadata": {},
     "output_type": "execute_result"
    }
   ],
   "source": [
    "val n = Nat.sym\n",
    "val m = Nat.sym\n",
    "val fn = rf(succ(zero))(n :-> (m :-> succ(m)))"
   ]
  },
  {
   "cell_type": "code",
   "execution_count": 19,
   "metadata": {},
   "outputs": [
    {
     "data": {
      "text/plain": [
       "\u001b[36mres18\u001b[39m: \u001b[32mTerm\u001b[39m = \u001b[32msucc(succ(zero))\u001b[39m"
      ]
     },
     "execution_count": 19,
     "metadata": {},
     "output_type": "execute_result"
    }
   ],
   "source": [
    "fn(succ(zero))"
   ]
  },
  {
   "cell_type": "code",
   "execution_count": 20,
   "metadata": {},
   "outputs": [
    {
     "data": {
      "text/plain": [
       "\u001b[36mnnnT\u001b[39m: \u001b[32mmonix\u001b[39m.\u001b[32meval\u001b[39m.\u001b[32mTask\u001b[39m[\u001b[32mFiniteDistribution\u001b[39m[\u001b[32mTerm\u001b[39m]] = \u001b[33mFlatMap\u001b[39m(\n",
       "  \u001b[33mAsync\u001b[39m(<function2>, true, true, true),\n",
       "  monix.eval.Task$$Lambda$3727/213944886@630f5702\n",
       ")\n",
       "\u001b[36mnnnD\u001b[39m: \u001b[32mFiniteDistribution\u001b[39m[\u001b[32mTerm\u001b[39m] = \u001b[33mFiniteDistribution\u001b[39m(\n",
       "  \u001b[33mVector\u001b[39m(\n",
       "    \u001b[33mWeighted\u001b[39m(\u001b[32m(_ : Nat) ↦ (_ : Nat) ↦ zero\u001b[39m, \u001b[32m0.030321782178217817\u001b[39m),\n",
       "    \u001b[33mWeighted\u001b[39m(\u001b[32m(_ : Nat) ↦ (_ : Nat) ↦ succ(zero)\u001b[39m, \u001b[32m0.0692919933792824\u001b[39m),\n",
       "    \u001b[33mWeighted\u001b[39m(\u001b[32m(@a : Nat) ↦ (_ : Nat) ↦ @a\u001b[39m, \u001b[32m0.038985148514851485\u001b[39m),\n",
       "    \u001b[33mWeighted\u001b[39m(\u001b[32m(_ : Nat) ↦ (@b : Nat) ↦ @b\u001b[39m, \u001b[32m0.055693069306930694\u001b[39m),\n",
       "    \u001b[33mWeighted\u001b[39m(\u001b[32m(_ : Nat) ↦ (@b : Nat) ↦ succ(succ(@b))\u001b[39m, \u001b[32m0.08934729259969296\u001b[39m),\n",
       "    \u001b[33mWeighted\u001b[39m(\u001b[32m(_ : Nat) ↦ (@b : Nat) ↦ succ(@b)\u001b[39m, \u001b[32m0.12727100824766158\u001b[39m),\n",
       "    \u001b[33mWeighted\u001b[39m(\u001b[32m(@a : Nat) ↦ (_ : Nat) ↦ succ(@a)\u001b[39m, \u001b[32m0.0890897057733631\u001b[39m),\n",
       "    \u001b[33mWeighted\u001b[39m(\u001b[32m(_ : Nat) ↦ succ\u001b[39m, \u001b[32m0.5\u001b[39m)\n",
       "  )\n",
       ")"
      ]
     },
     "execution_count": 20,
     "metadata": {},
     "output_type": "execute_result"
    }
   ],
   "source": [
    "val nnnT = mfd.varDist(ts)(termsWithTyp(Nat ->: (Nat ->: Nat)), 0.001)\n",
    "val nnnD = nnnT.runSyncUnsafe()"
   ]
  },
  {
   "cell_type": "code",
   "execution_count": 21,
   "metadata": {},
   "outputs": [
    {
     "data": {
      "text/plain": [
       "\u001b[36mres20\u001b[39m: \u001b[32mFiniteDistribution\u001b[39m[\u001b[32mTyp\u001b[39m[\u001b[32mU\u001b[39m] forSome { type \u001b[32mU\u001b[39m >: \u001b[32mx$1\u001b[39m <: \u001b[32mTerm\u001b[39m with \u001b[32mSubs\u001b[39m[\u001b[32mU\u001b[39m]; val \u001b[32mx$1\u001b[39m: \u001b[32mTerm\u001b[39m }] = \u001b[33mFiniteDistribution\u001b[39m(\n",
       "  \u001b[33mVector\u001b[39m(\u001b[33mWeighted\u001b[39m(\u001b[32m(Nat → 𝒰 )\u001b[39m, \u001b[32m0.4243106359032077\u001b[39m), \u001b[33mWeighted\u001b[39m(\u001b[32m(Nat → Nat)\u001b[39m, \u001b[32m0.42431063590320767\u001b[39m))\n",
       ")"
      ]
     },
     "execution_count": 21,
     "metadata": {},
     "output_type": "execute_result"
    }
   ],
   "source": [
    "nfd.map(_.typ).flatten"
   ]
  },
  {
   "cell_type": "code",
   "execution_count": 22,
   "metadata": {},
   "outputs": [
    {
     "data": {
      "text/plain": [
       "\u001b[36mnidT\u001b[39m: \u001b[32mmonix\u001b[39m.\u001b[32meval\u001b[39m.\u001b[32mTask\u001b[39m[\u001b[32mFiniteDistribution\u001b[39m[\u001b[32mTerm\u001b[39m]] = \u001b[33mFlatMap\u001b[39m(\n",
       "  \u001b[33mMap\u001b[39m(\n",
       "    \u001b[33mFlatMap\u001b[39m(\u001b[33mAsync\u001b[39m(<function2>, true, true, true), monix.eval.Task$$Lambda$3727/213944886@afaf5bf),\n",
       "    provingground.learning.MonixFiniteDistribution$$Lambda$3831/925584372@25403e0e,\n",
       "    \u001b[32m0\u001b[39m\n",
       "  ),\n",
       "  provingground.learning.MonixFiniteDistribution$$Lambda$3832/1141356024@3c2ab6df\n",
       ")"
      ]
     },
     "execution_count": 22,
     "metadata": {},
     "output_type": "execute_result"
    }
   ],
   "source": [
    "val nidT = mfd.nodeDist(ts)(tg.Gen.inducFuncFoldedNode, 0.00001)"
   ]
  },
  {
   "cell_type": "code",
   "execution_count": 23,
   "metadata": {},
   "outputs": [
    {
     "data": {
      "text/plain": [
       "\u001b[36mnifd\u001b[39m: \u001b[32mFiniteDistribution\u001b[39m[\u001b[32mTerm\u001b[39m] = \u001b[33mFiniteDistribution\u001b[39m(\n",
       "  \u001b[33mVector\u001b[39m(\n",
       "    \u001b[33mWeighted\u001b[39m(\n",
       "      \u001b[32minduc_{ Nat ; (_ : Nat) ↦ Nat }(succ(succ(zero)))((_ : Nat) ↦ (@b : Nat) ↦ succ(succ(succ(@b))))\u001b[39m,\n",
       "      \u001b[32m0.0023818496077421827\u001b[39m\n",
       "    ),\n",
       "    \u001b[33mWeighted\u001b[39m(\n",
       "      \u001b[32minduc_{ Nat ; (_ : Nat) ↦ Nat }(succ(succ(zero)))((@a : Nat) ↦ (_ : Nat) ↦ succ(succ(succ(@a))))\u001b[39m,\n",
       "      \u001b[32m0.0016672947254195282\u001b[39m\n",
       "    ),\n",
       "    \u001b[33mWeighted\u001b[39m(\n",
       "      \u001b[32minduc_{ Nat ; (_ : Nat) ↦ Nat }(succ(succ(succ(succ(zero)))))((_ : Nat) ↦ (_ : Nat) ↦ succ(succ(zero)))\u001b[39m,\n",
       "      \u001b[32m0.0014088768310103873\u001b[39m\n",
       "    ),\n",
       "    \u001b[33mWeighted\u001b[39m(\n",
       "      \u001b[32minduc_{ Nat ; (_ : Nat) ↦ Nat }(succ(succ(zero)))((@a : Nat) ↦ (_ : Nat) ↦ succ(@a))\u001b[39m,\n",
       "      \u001b[32m0.003827612378330869\u001b[39m\n",
       "    ),\n",
       "    \u001b[33mWeighted\u001b[39m(\n",
       "      \u001b[32minduc_{ Nat ; (_ : Nat) ↦ Nat }(succ(succ(zero)))((_ : Nat) ↦ (@b : Nat) ↦ succ(@b))\u001b[39m,\n",
       "      \u001b[32m0.005618820785853711\u001b[39m\n",
       "    ),\n",
       "    \u001b[33mWeighted\u001b[39m(\n",
       "      \u001b[32minduc_{ Nat ; (_ : Nat) ↦ Nat }(succ(zero))((@a : Nat) ↦ (_ : Nat) ↦ succ(@a))\u001b[39m,\n",
       "      \u001b[32m0.0030392922085904412\u001b[39m\n",
       "    ),\n",
       "    \u001b[33mWeighted\u001b[39m(\n",
       "      \u001b[32minduc_{ Nat ; (_ : Nat) ↦ Nat }(succ(zero))((_ : Nat) ↦ (@b : Nat) ↦ succ(@b))\u001b[39m,\n",
       "      \u001b[32m0.004943166447340813\u001b[39m\n",
       "    ),\n",
       "    \u001b[33mWeighted\u001b[39m(\n",
       "      \u001b[32minduc_{ Nat ; (_ : Nat) ↦ Nat }(succ(succ(zero)))((_ : Nat) ↦ (_ : Nat) ↦ succ(succ(zero)))\u001b[39m,\n",
       "      \u001b[32m0.0017671892134790885\u001b[39m\n",
       "    ),\n",
       "    \u001b[33mWeighted\u001b[39m(\n",
       "      \u001b[32minduc_{ Nat ; (_ : Nat) ↦ Nat }(succ(succ(succ(succ(zero)))))((_ : Nat) ↦ (@b : Nat) ↦ succ(succ(@b)))\u001b[39m,\n",
       "      \u001b[32m0.002693083607075716\u001b[39m\n",
       "    ),\n",
       "    \u001b[33mWeighted\u001b[39m(\n",
       "      \u001b[32minduc_{ Nat ; (_ : Nat) ↦ Nat }(succ(succ(succ(succ(zero)))))((@a : Nat) ↦ (_ : Nat) ↦ succ(succ(@a)))\u001b[39m,\n",
       "      \u001b[32m0.0018114130684419266\u001b[39m\n",
       "    ),\n",
       "    \u001b[33mWeighted\u001b[39m(\n",
       "      \u001b[32minduc_{ Nat ; (_ : Nat) ↦ Nat }(succ(zero))((_ : Nat) ↦ (_ : Nat) ↦ succ(zero))\u001b[39m,\n",
       "..."
      ]
     },
     "execution_count": 23,
     "metadata": {},
     "output_type": "execute_result"
    }
   ],
   "source": [
    "val nifd = nidT.runSyncUnsafe()"
   ]
  },
  {
   "cell_type": "code",
   "execution_count": 24,
   "metadata": {},
   "outputs": [
    {
     "data": {
      "text/plain": [
       "\u001b[36mres23\u001b[39m: \u001b[32mFiniteDistribution\u001b[39m[\u001b[32mTyp\u001b[39m[\u001b[32mU\u001b[39m] forSome { type \u001b[32mU\u001b[39m >: \u001b[32mx$1\u001b[39m <: \u001b[32mTerm\u001b[39m with \u001b[32mSubs\u001b[39m[\u001b[32mU\u001b[39m]; val \u001b[32mx$1\u001b[39m: \u001b[32mTerm\u001b[39m }] = \u001b[33mFiniteDistribution\u001b[39m(\n",
       "  \u001b[33mVector\u001b[39m(\u001b[33mWeighted\u001b[39m(\u001b[32m∏(_ : Nat){ Nat }\u001b[39m, \u001b[32m1.0\u001b[39m))\n",
       ")"
      ]
     },
     "execution_count": 24,
     "metadata": {},
     "output_type": "execute_result"
    }
   ],
   "source": [
    "nifd.map(_.typ).flatten"
   ]
  },
  {
   "cell_type": "code",
   "execution_count": 25,
   "metadata": {},
   "outputs": [
    {
     "data": {
      "text/plain": [
       "\u001b[36mres24_0\u001b[39m: \u001b[32mRandomVar\u001b[39m[\u001b[32mTerm\u001b[39m] = \u001b[33mAtCoord\u001b[39m(TermsWithTyp, \u001b[32m(Nat → 𝒰 )\u001b[39m :: HNil)\n",
       "\u001b[36mtfT\u001b[39m: \u001b[32mmonix\u001b[39m.\u001b[32meval\u001b[39m.\u001b[32mTask\u001b[39m[\u001b[32mFiniteDistribution\u001b[39m[\u001b[32mTerm\u001b[39m]] = \u001b[33mFlatMap\u001b[39m(\n",
       "  \u001b[33mAsync\u001b[39m(<function2>, true, true, true),\n",
       "  monix.eval.Task$$Lambda$3727/213944886@31e9a538\n",
       ")"
      ]
     },
     "execution_count": 25,
     "metadata": {},
     "output_type": "execute_result"
    }
   ],
   "source": [
    "termsWithTyp(typFamilyTarget(Nat).get)\n",
    "val tfT = mfd.varDist(ts)(termsWithTyp(typFamilyTarget(Nat).get), 0.001)"
   ]
  },
  {
   "cell_type": "code",
   "execution_count": 26,
   "metadata": {},
   "outputs": [
    {
     "data": {
      "text/plain": [
       "\u001b[36mtfD\u001b[39m: \u001b[32mFiniteDistribution\u001b[39m[\u001b[32mTerm\u001b[39m] = \u001b[33mFiniteDistribution\u001b[39m(\u001b[33mVector\u001b[39m(\u001b[33mWeighted\u001b[39m(\u001b[32m(_ : Nat) ↦ Nat\u001b[39m, \u001b[32m1.0\u001b[39m)))"
      ]
     },
     "execution_count": 26,
     "metadata": {},
     "output_type": "execute_result"
    }
   ],
   "source": [
    "val tfD = tfT.runSyncUnsafe()"
   ]
  },
  {
   "cell_type": "code",
   "execution_count": 27,
   "metadata": {},
   "outputs": [
    {
     "data": {
      "text/plain": [
       "\u001b[36mres26\u001b[39m: \u001b[32mUniv\u001b[39m = \u001b[32m𝒰 \u001b[39m"
      ]
     },
     "execution_count": 27,
     "metadata": {},
     "output_type": "execute_result"
    }
   ],
   "source": [
    "Nat.typ"
   ]
  },
  {
   "cell_type": "code",
   "execution_count": 28,
   "metadata": {},
   "outputs": [
    {
     "data": {
      "text/plain": [
       "\u001b[36mres27\u001b[39m: \u001b[32mBoolean\u001b[39m = false"
      ]
     },
     "execution_count": 28,
     "metadata": {},
     "output_type": "execute_result"
    }
   ],
   "source": [
    "Type.typ == Nat.typ"
   ]
  },
  {
   "cell_type": "code",
   "execution_count": 29,
   "metadata": {},
   "outputs": [
    {
     "data": {
      "text/plain": [
       "\u001b[36mrel\u001b[39m: \u001b[32mFunc\u001b[39m[\u001b[32mTerm\u001b[39m, \u001b[32mTyp\u001b[39m[\u001b[32mTerm\u001b[39m]] = \u001b[32mrel\u001b[39m\n",
       "\u001b[36mres28_1\u001b[39m: \u001b[32mTermState\u001b[39m = \u001b[33mTermState\u001b[39m(\n",
       "  \u001b[33mFiniteDistribution\u001b[39m(\n",
       "    \u001b[33mVector\u001b[39m(\n",
       "      \u001b[33mWeighted\u001b[39m(\u001b[32mNat\u001b[39m, \u001b[32m0.3333333333333333\u001b[39m),\n",
       "      \u001b[33mWeighted\u001b[39m(\u001b[32mzero\u001b[39m, \u001b[32m0.3333333333333333\u001b[39m),\n",
       "      \u001b[33mWeighted\u001b[39m(\u001b[32msucc\u001b[39m, \u001b[32m0.3333333333333333\u001b[39m)\n",
       "    )\n",
       "  ),\n",
       "  \u001b[33mFiniteDistribution\u001b[39m(\u001b[33mVector\u001b[39m(\u001b[33mWeighted\u001b[39m(\u001b[32mNat\u001b[39m, \u001b[32m0.5\u001b[39m), \u001b[33mWeighted\u001b[39m(\u001b[32m𝒰 \u001b[39m, \u001b[32m0.5\u001b[39m))),\n",
       "  \u001b[33mVector\u001b[39m(),\n",
       "  \u001b[33mFiniteDistribution\u001b[39m(\n",
       "    \u001b[33mVector\u001b[39m(\n",
       "      \u001b[33mWeighted\u001b[39m(\n",
       "        \u001b[33mExstInducDefn\u001b[39m(\n",
       "          \u001b[32mNat\u001b[39m,\n",
       "          \u001b[33mVector\u001b[39m(\u001b[32mzero\u001b[39m, \u001b[32msucc\u001b[39m),\n",
       "          \u001b[33mConsSeqExst\u001b[39m(\n",
       "            \u001b[33mConstructorSeqTL\u001b[39m(\n",
       "              \u001b[33mCons\u001b[39m(\u001b[32mzero\u001b[39m, IdShape(), \u001b[33mCons\u001b[39m(\u001b[32msucc\u001b[39m, \u001b[33mFuncConsShape\u001b[39m(IdIterShape(), IdShape()), Empty())),\n",
       "              \u001b[32mNat\u001b[39m\n",
       "            ),\n",
       "            \u001b[33mVector\u001b[39m(\u001b[32mzero\u001b[39m, \u001b[32msucc\u001b[39m)\n",
       "          ),\n",
       "          \u001b[33mVector\u001b[39m()\n",
       "        ),\n",
       "        \u001b[32m1.0\u001b[39m\n",
       "      )\n",
       "    )\n",
       "  ),\n",
       "  \u001b[33mFiniteDistribution\u001b[39m(\u001b[33mVector\u001b[39m()),\n",
       "  Empty\n",
       ")"
      ]
     },
     "execution_count": 29,
     "metadata": {},
     "output_type": "execute_result"
    }
   ],
   "source": [
    "val rel = (Nat ->: Type).sym\n",
    "ts"
   ]
  },
  {
   "cell_type": "code",
   "execution_count": 43,
   "metadata": {},
   "outputs": [
    {
     "data": {
      "text/plain": [
       "\u001b[36mallRel\u001b[39m: \u001b[32mFuncLike\u001b[39m[\u001b[32mTerm\u001b[39m, \u001b[32mTerm\u001b[39m] = \u001b[32mallRel\u001b[39m\n",
       "\u001b[36mts1\u001b[39m: \u001b[32mTermState\u001b[39m = \u001b[33mTermState\u001b[39m(\n",
       "  \u001b[33mFiniteDistribution\u001b[39m(\n",
       "    \u001b[33mVector\u001b[39m(\n",
       "      \u001b[33mWeighted\u001b[39m(\u001b[32mallRel\u001b[39m, \u001b[32m0.2\u001b[39m),\n",
       "      \u001b[33mWeighted\u001b[39m(\u001b[32msucc\u001b[39m, \u001b[32m0.2\u001b[39m),\n",
       "      \u001b[33mWeighted\u001b[39m(\u001b[32mNat\u001b[39m, \u001b[32m0.2\u001b[39m),\n",
       "      \u001b[33mWeighted\u001b[39m(\u001b[32mzero\u001b[39m, \u001b[32m0.2\u001b[39m),\n",
       "      \u001b[33mWeighted\u001b[39m(\u001b[32mrel\u001b[39m, \u001b[32m0.2\u001b[39m)\n",
       "    )\n",
       "  ),\n",
       "  \u001b[33mFiniteDistribution\u001b[39m(\u001b[33mVector\u001b[39m(\u001b[33mWeighted\u001b[39m(\u001b[32mNat\u001b[39m, \u001b[32m0.5\u001b[39m), \u001b[33mWeighted\u001b[39m(\u001b[32m𝒰 \u001b[39m, \u001b[32m0.5\u001b[39m))),\n",
       "  \u001b[33mVector\u001b[39m(),\n",
       "  \u001b[33mFiniteDistribution\u001b[39m(\n",
       "    \u001b[33mVector\u001b[39m(\n",
       "      \u001b[33mWeighted\u001b[39m(\n",
       "        \u001b[33mExstInducDefn\u001b[39m(\n",
       "          \u001b[32mNat\u001b[39m,\n",
       "          \u001b[33mVector\u001b[39m(\u001b[32mzero\u001b[39m, \u001b[32msucc\u001b[39m),\n",
       "          \u001b[33mConsSeqExst\u001b[39m(\n",
       "            \u001b[33mConstructorSeqTL\u001b[39m(\n",
       "              \u001b[33mCons\u001b[39m(\u001b[32mzero\u001b[39m, IdShape(), \u001b[33mCons\u001b[39m(\u001b[32msucc\u001b[39m, \u001b[33mFuncConsShape\u001b[39m(IdIterShape(), IdShape()), Empty())),\n",
       "              \u001b[32mNat\u001b[39m\n",
       "            ),\n",
       "            \u001b[33mVector\u001b[39m(\u001b[32mzero\u001b[39m, \u001b[32msucc\u001b[39m)\n",
       "          ),\n",
       "          \u001b[33mVector\u001b[39m()\n",
       "        ),\n",
       "        \u001b[32m1.0\u001b[39m\n",
       "      )\n",
       "    )\n",
       "  ),\n",
       "  \u001b[33mFiniteDistribution\u001b[39m(\u001b[33mVector\u001b[39m()),\n",
       "  Empty\n",
       ")"
      ]
     },
     "execution_count": 43,
     "metadata": {},
     "output_type": "execute_result"
    }
   ],
   "source": [
    "val allRel = (n ~>: rel(n)).sym\n",
    "val ts1 = TermState(FD.unif(Nat, zero, succ, rel, allRel), FD.unif(Nat, Type), inds = FD.unif(natDef))"
   ]
  },
  {
   "cell_type": "code",
   "execution_count": 44,
   "metadata": {},
   "outputs": [
    {
     "data": {
      "text/plain": [
       "\u001b[36mtfT1\u001b[39m: \u001b[32mmonix\u001b[39m.\u001b[32meval\u001b[39m.\u001b[32mTask\u001b[39m[\u001b[32mFiniteDistribution\u001b[39m[\u001b[32mTerm\u001b[39m]] = \u001b[33mFlatMap\u001b[39m(\n",
       "  \u001b[33mAsync\u001b[39m(<function2>, true, true, true),\n",
       "  monix.eval.Task$$Lambda$3727/213944886@19f4c770\n",
       ")"
      ]
     },
     "execution_count": 44,
     "metadata": {},
     "output_type": "execute_result"
    }
   ],
   "source": [
    "val tfT1 = mfd.varDist(ts1)(termsWithTyp(typFamilyTarget(Nat).get), 0.001)"
   ]
  },
  {
   "cell_type": "code",
   "execution_count": 45,
   "metadata": {},
   "outputs": [
    {
     "data": {
      "text/plain": [
       "\u001b[36mtfD1\u001b[39m: \u001b[32mFiniteDistribution\u001b[39m[\u001b[32mTerm\u001b[39m] = \u001b[33mFiniteDistribution\u001b[39m(\n",
       "  \u001b[33mVector\u001b[39m(\n",
       "    \u001b[33mWeighted\u001b[39m(\u001b[32m(_ : Nat) ↦ rel(succ(zero))\u001b[39m, \u001b[32m0.013313167618019765\u001b[39m),\n",
       "    \u001b[33mWeighted\u001b[39m(\u001b[32m(_ : Nat) ↦ rel(zero)\u001b[39m, \u001b[32m0.08308884161040503\u001b[39m),\n",
       "    \u001b[33mWeighted\u001b[39m(\u001b[32m(@a : Nat) ↦ rel(succ(@a))\u001b[39m, \u001b[32m0.10002632120794946\u001b[39m),\n",
       "    \u001b[33mWeighted\u001b[39m(\u001b[32mrel\u001b[39m, \u001b[32m0.5\u001b[39m),\n",
       "    \u001b[33mWeighted\u001b[39m(\u001b[32m(_ : Nat) ↦ Nat\u001b[39m, \u001b[32m0.12552415182704352\u001b[39m),\n",
       "    \u001b[33mWeighted\u001b[39m(\u001b[32m(@a : Nat) ↦ rel(@a)\u001b[39m, \u001b[32m0.1780475177365822\u001b[39m)\n",
       "  )\n",
       ")"
      ]
     },
     "execution_count": 45,
     "metadata": {},
     "output_type": "execute_result"
    }
   ],
   "source": [
    "val tfD1 = tfT1.runSyncUnsafe()"
   ]
  },
  {
   "cell_type": "code",
   "execution_count": 46,
   "metadata": {},
   "outputs": [
    {
     "data": {
      "text/plain": [
       "\u001b[36mnidT1\u001b[39m: \u001b[32mmonix\u001b[39m.\u001b[32meval\u001b[39m.\u001b[32mTask\u001b[39m[\u001b[32mFiniteDistribution\u001b[39m[\u001b[32mTerm\u001b[39m]] = \u001b[33mFlatMap\u001b[39m(\n",
       "  \u001b[33mMap\u001b[39m(\n",
       "    \u001b[33mFlatMap\u001b[39m(\u001b[33mAsync\u001b[39m(<function2>, true, true, true), monix.eval.Task$$Lambda$3727/213944886@b9bd852),\n",
       "    provingground.learning.MonixFiniteDistribution$$Lambda$3831/925584372@25403e0e,\n",
       "    \u001b[32m0\u001b[39m\n",
       "  ),\n",
       "  provingground.learning.MonixFiniteDistribution$$Lambda$3832/1141356024@74ead80c\n",
       ")\n",
       "\u001b[36mnifd1\u001b[39m: \u001b[32mFiniteDistribution\u001b[39m[\u001b[32mTerm\u001b[39m] = \u001b[33mFiniteDistribution\u001b[39m(\n",
       "  \u001b[33mVector\u001b[39m(\n",
       "    \u001b[33mWeighted\u001b[39m(\n",
       "      \u001b[32minduc_{ Nat ; (_ : Nat) ↦ Nat }(succ(succ(zero)))((@a : Nat) ↦ (_ : Nat) ↦ succ(@a))\u001b[39m,\n",
       "      \u001b[32m0.00103737820226554\u001b[39m\n",
       "    ),\n",
       "    \u001b[33mWeighted\u001b[39m(\n",
       "      \u001b[32minduc_{ Nat ; (_ : Nat) ↦ Nat }(succ(succ(zero)))((_ : Nat) ↦ (@b : Nat) ↦ succ(@b))\u001b[39m,\n",
       "      \u001b[32m0.0016448077301823537\u001b[39m\n",
       "    ),\n",
       "    \u001b[33mWeighted\u001b[39m(\n",
       "      \u001b[32minduc_{ Nat ; (_ : Nat) ↦ Nat }(succ(zero))((_ : Nat) ↦ (@b : Nat) ↦ succ(@b))\u001b[39m,\n",
       "      \u001b[32m0.0010637623519178623\u001b[39m\n",
       "    ),\n",
       "    \u001b[33mWeighted\u001b[39m(\n",
       "      \u001b[32minduc_{ Nat ; (_ : Nat) ↦ Nat }(succ(zero))((@a : Nat) ↦ (_ : Nat) ↦ succ(@a))\u001b[39m,\n",
       "      \u001b[32m7.446336463425035E-4\u001b[39m\n",
       "    ),\n",
       "    \u001b[33mWeighted\u001b[39m(\n",
       "      \u001b[32minduc_{ Nat ; (_ : Nat) ↦ Nat }(succ(succ(zero)))((_ : Nat) ↦ (_ : Nat) ↦ succ(succ(zero)))\u001b[39m,\n",
       "      \u001b[32m1.2580564431652976E-4\u001b[39m\n",
       "    ),\n",
       "    \u001b[33mWeighted\u001b[39m(\n",
       "      \u001b[32minduc_{ Nat ; (_ : Nat) ↦ rel(zero) }(allRel(zero))((_ : Nat) ↦ (_ : rel(zero)) ↦ allRel(zero))\u001b[39m,\n",
       "      \u001b[32m0.009177109832656355\u001b[39m\n",
       "    ),\n",
       "    \u001b[33mWeighted\u001b[39m(\n",
       "      \u001b[32minduc_{ Nat ; (_ : Nat) ↦ Nat }(succ(zero))((_ : Nat) ↦ (_ : Nat) ↦ succ(zero))\u001b[39m,\n",
       "      \u001b[32m3.309061314077909E-4\u001b[39m\n",
       "    ),\n",
       "    \u001b[33mWeighted\u001b[39m(\n",
       "      \u001b[32minduc_{ Nat ; (_ : Nat) ↦ Nat }(succ(zero))((@a : Nat) ↦ (_ : Nat) ↦ succ(succ(@a)))\u001b[39m,\n",
       "      \u001b[32m4.8514802748513203E-4\u001b[39m\n",
       "    ),\n",
       "    \u001b[33mWeighted\u001b[39m(\n",
       "      \u001b[32minduc_{ Nat ; (_ : Nat) ↦ Nat }(succ(zero))((_ : Nat) ↦ (@b : Nat) ↦ succ(succ(@b)))\u001b[39m,\n",
       "      \u001b[32m6.930686106930457E-4\u001b[39m\n",
       "    ),\n",
       "    \u001b[33mWeighted\u001b[39m(\n",
       "      \u001b[32minduc_{ Nat ; (_ : Nat) ↦ Nat }(succ(zero))((_ : Nat) ↦ (_ : Nat) ↦ zero)\u001b[39m,\n",
       "      \u001b[32m6.031788674726328E-4\u001b[39m\n",
       "    ),\n",
       "    \u001b[33mWeighted\u001b[39m(\n",
       "      \u001b[32minduc_{ Nat ; ($drfyx : Nat) ↦ rel($drfyx) }(allRel(zero))((@a : Nat) ↦ (_ : rel(@a)) ↦ allRel(succ(@a)))\u001b[39m,\n",
       "      \u001b[32m0.8136105259883466\u001b[39m\n",
       "    ),\n",
       "    \u001b[33mWeighted\u001b[39m(\u001b[32minduc_{ Nat ; (_ : Nat) ↦ Nat }(zero)((_ : Nat) ↦ succ)\u001b[39m, \u001b[32m0.03707852791170968\u001b[39m),\n",
       "..."
      ]
     },
     "execution_count": 46,
     "metadata": {},
     "output_type": "execute_result"
    }
   ],
   "source": [
    "val nidT1 = mfd.nodeDist(ts1)(tg.Gen.inducFuncFoldedNode, 0.000005)\n",
    "val nifd1 = nidT1.runSyncUnsafe()"
   ]
  },
  {
   "cell_type": "code",
   "execution_count": 47,
   "metadata": {},
   "outputs": [
    {
     "data": {
      "text/plain": [
       "\u001b[36mres46\u001b[39m: \u001b[32mFiniteDistribution\u001b[39m[\u001b[32mTyp\u001b[39m[\u001b[32mU\u001b[39m] forSome { type \u001b[32mU\u001b[39m >: \u001b[32mx$1\u001b[39m <: \u001b[32mTerm\u001b[39m with \u001b[32mSubs\u001b[39m[\u001b[32mU\u001b[39m]; val \u001b[32mx$1\u001b[39m: \u001b[32mTerm\u001b[39m }] = \u001b[33mFiniteDistribution\u001b[39m(\n",
       "  \u001b[33mVector\u001b[39m(\n",
       "    \u001b[33mWeighted\u001b[39m(\u001b[32m∏(_ : Nat){ rel(zero) }\u001b[39m, \u001b[32m0.03269327959759812\u001b[39m),\n",
       "    \u001b[33mWeighted\u001b[39m(\u001b[32m∏(_ : Nat){ rel(succ(zero)) }\u001b[39m, \u001b[32m0.009367215216334544\u001b[39m),\n",
       "    \u001b[33mWeighted\u001b[39m(\u001b[32m∏($drfyx : Nat){ rel($drfyx) }\u001b[39m, \u001b[32m0.8136105259883466\u001b[39m),\n",
       "    \u001b[33mWeighted\u001b[39m(\u001b[32m∏(_ : Nat){ Nat }\u001b[39m, \u001b[32m0.11250087767279501\u001b[39m)\n",
       "  )\n",
       ")"
      ]
     },
     "execution_count": 47,
     "metadata": {},
     "output_type": "execute_result"
    }
   ],
   "source": [
    "nifd1.map(_.typ).flatten"
   ]
  },
  {
   "cell_type": "code",
   "execution_count": 37,
   "metadata": {},
   "outputs": [
    {
     "data": {
      "text/plain": [
       "\u001b[36mindF\u001b[39m: \u001b[32mTerm\u001b[39m = \u001b[32m(InducDataSym(zero) : rel(zero)) ↦ (InducDataSym(succ) : ∏($bonxh : Nat){ (rel($bonxh) → rel(succ($bonxh))) }) ↦ induc_{ Nat ; ($bonvx : Nat) ↦ rel($bonvx) }(InducDataSym(zero))(InducDataSym(succ))\u001b[39m"
      ]
     },
     "execution_count": 37,
     "metadata": {},
     "output_type": "execute_result"
    }
   ],
   "source": [
    "val indF = natStr.inducOpt(Nat, n :-> rel(n)).get"
   ]
  },
  {
   "cell_type": "code",
   "execution_count": 38,
   "metadata": {},
   "outputs": [
    {
     "data": {
      "text/plain": [
       "\u001b[36mres37\u001b[39m: \u001b[32mTyp\u001b[39m[\u001b[32mU\u001b[39m] = \u001b[32m(rel(zero) → (∏($bonxh : Nat){ (rel($bonxh) → rel(succ($bonxh))) } → ∏($bonvx : Nat){ rel($bonvx) }))\u001b[39m"
      ]
     },
     "execution_count": 38,
     "metadata": {},
     "output_type": "execute_result"
    }
   ],
   "source": [
    "indF.typ"
   ]
  },
  {
   "cell_type": "code",
   "execution_count": 41,
   "metadata": {},
   "outputs": [
    {
     "data": {
      "text/plain": [
       "\u001b[36mtfStep\u001b[39m: \u001b[32mmonix\u001b[39m.\u001b[32meval\u001b[39m.\u001b[32mTask\u001b[39m[\u001b[32mFiniteDistribution\u001b[39m[\u001b[32mTerm\u001b[39m]] = \u001b[33mFlatMap\u001b[39m(\n",
       "  \u001b[33mAsync\u001b[39m(<function2>, true, true, true),\n",
       "  monix.eval.Task$$Lambda$3727/213944886@34f91c7d\n",
       ")"
      ]
     },
     "execution_count": 41,
     "metadata": {},
     "output_type": "execute_result"
    }
   ],
   "source": [
    "val tfStep = mfd.varDist(ts1)(termsWithTyp(n ~>: (rel(n) ->: rel(succ(n)) )), 0.00001)"
   ]
  },
  {
   "cell_type": "code",
   "execution_count": 42,
   "metadata": {},
   "outputs": [
    {
     "data": {
      "text/plain": [
       "\u001b[36mtdStep\u001b[39m: \u001b[32mFiniteDistribution\u001b[39m[\u001b[32mTerm\u001b[39m] = \u001b[33mFiniteDistribution\u001b[39m(\u001b[33mVector\u001b[39m())"
      ]
     },
     "execution_count": 42,
     "metadata": {},
     "output_type": "execute_result"
    }
   ],
   "source": [
    "val tdStep = tfStep.runSyncUnsafe()"
   ]
  },
  {
   "cell_type": "code",
   "execution_count": 50,
   "metadata": {},
   "outputs": [
    {
     "data": {
      "text/plain": [
       "\u001b[36mres49\u001b[39m: \u001b[32mFiniteDistribution\u001b[39m[\u001b[32mTerm\u001b[39m] = \u001b[33mFiniteDistribution\u001b[39m(\n",
       "  \u001b[33mVector\u001b[39m(\n",
       "    \u001b[33mWeighted\u001b[39m(\n",
       "      \u001b[32minduc_{ Nat ; ($drfyx : Nat) ↦ rel($drfyx) }(allRel(zero))((@a : Nat) ↦ (_ : rel(@a)) ↦ allRel(succ(@a)))\u001b[39m,\n",
       "      \u001b[32m0.8136105259883466\u001b[39m\n",
       "    )\n",
       "  )\n",
       ")"
      ]
     },
     "execution_count": 50,
     "metadata": {},
     "output_type": "execute_result"
    }
   ],
   "source": [
    "nifd1.filter(_.typ == n ~>: rel(n))"
   ]
  },
  {
   "cell_type": "code",
   "execution_count": null,
   "metadata": {},
   "outputs": [],
   "source": []
  }
 ],
 "metadata": {
  "kernelspec": {
   "display_name": "Scala",
   "language": "scala",
   "name": "scala"
  },
  "language_info": {
   "codemirror_mode": "text/x-scala",
   "file_extension": ".scala",
   "mimetype": "text/x-scala",
   "name": "scala",
   "nbconvert_exporter": "script",
   "version": "2.12.8"
  }
 },
 "nbformat": 4,
 "nbformat_minor": 2
}
