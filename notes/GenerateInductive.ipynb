{
 "cells": [
  {
   "cell_type": "markdown",
   "metadata": {},
   "source": [
    "## Testing generation of inductive functions for non-parametrized, non-inductive definitions\n",
    "\n",
    "We directly test the nodes for generating terms by recursive and inductive definitions on natural numbers, obtained by choosing codomain/target family and filling in recursion data."
   ]
  },
  {
   "cell_type": "code",
   "execution_count": 1,
   "metadata": {},
   "outputs": [
    {
     "data": {
      "text/plain": [
       "\u001b[32mimport \u001b[39m\u001b[36m$ivy.$                                       \u001b[39m"
      ]
     },
     "execution_count": 1,
     "metadata": {},
     "output_type": "execute_result"
    }
   ],
   "source": [
    "import $ivy.`in.ac.iisc.math::core-jvm:0.1-SNAPSHOT`"
   ]
  },
  {
   "cell_type": "code",
   "execution_count": 2,
   "metadata": {},
   "outputs": [
    {
     "data": {
      "text/plain": [
       "\u001b[32mimport \u001b[39m\u001b[36mprovingground._ , interface._, HoTT._\n",
       "\u001b[39m\n",
       "\u001b[32mimport \u001b[39m\u001b[36mprovingground.{FiniteDistribution => FD}\n",
       "\u001b[39m\n",
       "\u001b[32mimport \u001b[39m\u001b[36mlearning._\u001b[39m"
      ]
     },
     "execution_count": 2,
     "metadata": {},
     "output_type": "execute_result"
    }
   ],
   "source": [
    "import provingground._ , interface._, HoTT._\n",
    "import provingground.{FiniteDistribution => FD}\n",
    "import learning._"
   ]
  },
  {
   "cell_type": "markdown",
   "metadata": {},
   "source": [
    "We define the inductive structure on the natural numbers."
   ]
  },
  {
   "cell_type": "code",
   "execution_count": 3,
   "metadata": {},
   "outputs": [
    {
     "data": {
      "text/plain": [
       "\u001b[36mNat\u001b[39m: \u001b[32mTyp\u001b[39m[\u001b[32mTerm\u001b[39m] = \u001b[33mSymbTyp\u001b[39m(\u001b[33mName\u001b[39m(\u001b[32m\"Nat\"\u001b[39m), \u001b[32m0\u001b[39m)\n",
       "\u001b[36mzero\u001b[39m: \u001b[32mTerm\u001b[39m = \u001b[33mSymbObj\u001b[39m(\u001b[33mName\u001b[39m(\u001b[32m\"zero\"\u001b[39m), \u001b[33mSymbTyp\u001b[39m(\u001b[33mName\u001b[39m(\u001b[32m\"Nat\"\u001b[39m), \u001b[32m0\u001b[39m))\n",
       "\u001b[36msucc\u001b[39m: \u001b[32mFunc\u001b[39m[\u001b[32mTerm\u001b[39m, \u001b[32mTerm\u001b[39m] = \u001b[33mSymbolicFunc\u001b[39m(\n",
       "  \u001b[33mName\u001b[39m(\u001b[32m\"succ\"\u001b[39m),\n",
       "  \u001b[33mSymbTyp\u001b[39m(\u001b[33mName\u001b[39m(\u001b[32m\"Nat\"\u001b[39m), \u001b[32m0\u001b[39m),\n",
       "  \u001b[33mSymbTyp\u001b[39m(\u001b[33mName\u001b[39m(\u001b[32m\"Nat\"\u001b[39m), \u001b[32m0\u001b[39m)\n",
       ")\n",
       "\u001b[36mnatIntros\u001b[39m: \u001b[32mVector\u001b[39m[\u001b[32mTerm\u001b[39m] = \u001b[33mVector\u001b[39m(\n",
       "  \u001b[33mSymbObj\u001b[39m(\u001b[33mName\u001b[39m(\u001b[32m\"zero\"\u001b[39m), \u001b[33mSymbTyp\u001b[39m(\u001b[33mName\u001b[39m(\u001b[32m\"Nat\"\u001b[39m), \u001b[32m0\u001b[39m)),\n",
       "  \u001b[33mSymbolicFunc\u001b[39m(\u001b[33mName\u001b[39m(\u001b[32m\"succ\"\u001b[39m), \u001b[33mSymbTyp\u001b[39m(\u001b[33mName\u001b[39m(\u001b[32m\"Nat\"\u001b[39m), \u001b[32m0\u001b[39m), \u001b[33mSymbTyp\u001b[39m(\u001b[33mName\u001b[39m(\u001b[32m\"Nat\"\u001b[39m), \u001b[32m0\u001b[39m))\n",
       ")"
      ]
     },
     "execution_count": 3,
     "metadata": {},
     "output_type": "execute_result"
    }
   ],
   "source": [
    "val Nat = Type.sym\n",
    "val zero = Nat.sym\n",
    "val succ = (Nat ->: Nat).sym\n",
    "val natIntros = Vector(zero, succ)"
   ]
  },
  {
   "cell_type": "code",
   "execution_count": 4,
   "metadata": {},
   "outputs": [
    {
     "data": {
      "text/plain": [
       "\u001b[32mimport \u001b[39m\u001b[36minduction._\n",
       "\u001b[39m\n",
       "\u001b[36mnatStr\u001b[39m: \u001b[32mExstInducStrucs\u001b[39m = \u001b[33mConsSeqExst\u001b[39m(\n",
       "  \u001b[33mConstructorSeqTL\u001b[39m(\n",
       "    \u001b[33mCons\u001b[39m(\n",
       "      \u001b[33mName\u001b[39m(\u001b[32m\"zero\"\u001b[39m),\n",
       "      IdShape(),\n",
       "      \u001b[33mCons\u001b[39m(\u001b[33mName\u001b[39m(\u001b[32m\"succ\"\u001b[39m), \u001b[33mFuncConsShape\u001b[39m(IdIterShape(), IdShape()), Empty())\n",
       "    ),\n",
       "    \u001b[33mSymbTyp\u001b[39m(\u001b[33mName\u001b[39m(\u001b[32m\"Nat\"\u001b[39m), \u001b[32m0\u001b[39m)\n",
       "  ),\n",
       "  \u001b[33mVector\u001b[39m(\n",
       "    \u001b[33mSymbObj\u001b[39m(\u001b[33mName\u001b[39m(\u001b[32m\"zero\"\u001b[39m), \u001b[33mSymbTyp\u001b[39m(\u001b[33mName\u001b[39m(\u001b[32m\"Nat\"\u001b[39m), \u001b[32m0\u001b[39m)),\n",
       "    \u001b[33mSymbolicFunc\u001b[39m(\u001b[33mName\u001b[39m(\u001b[32m\"succ\"\u001b[39m), \u001b[33mSymbTyp\u001b[39m(\u001b[33mName\u001b[39m(\u001b[32m\"Nat\"\u001b[39m), \u001b[32m0\u001b[39m), \u001b[33mSymbTyp\u001b[39m(\u001b[33mName\u001b[39m(\u001b[32m\"Nat\"\u001b[39m), \u001b[32m0\u001b[39m))\n",
       "  )\n",
       ")"
      ]
     },
     "execution_count": 4,
     "metadata": {},
     "output_type": "execute_result"
    }
   ],
   "source": [
    "import induction._\n",
    "val natStr = provingground.induction.ExstInducStrucs.get(Nat, natIntros)"
   ]
  },
  {
   "cell_type": "code",
   "execution_count": 5,
   "metadata": {},
   "outputs": [
    {
     "data": {
      "text/plain": [
       "\u001b[36mnatDef\u001b[39m: \u001b[32mExstInducDefn\u001b[39m = \u001b[33mExstInducDefn\u001b[39m(\n",
       "  \u001b[33mSymbTyp\u001b[39m(\u001b[33mName\u001b[39m(\u001b[32m\"Nat\"\u001b[39m), \u001b[32m0\u001b[39m),\n",
       "  \u001b[33mVector\u001b[39m(\n",
       "    \u001b[33mSymbObj\u001b[39m(\u001b[33mName\u001b[39m(\u001b[32m\"zero\"\u001b[39m), \u001b[33mSymbTyp\u001b[39m(\u001b[33mName\u001b[39m(\u001b[32m\"Nat\"\u001b[39m), \u001b[32m0\u001b[39m)),\n",
       "    \u001b[33mSymbolicFunc\u001b[39m(\u001b[33mName\u001b[39m(\u001b[32m\"succ\"\u001b[39m), \u001b[33mSymbTyp\u001b[39m(\u001b[33mName\u001b[39m(\u001b[32m\"Nat\"\u001b[39m), \u001b[32m0\u001b[39m), \u001b[33mSymbTyp\u001b[39m(\u001b[33mName\u001b[39m(\u001b[32m\"Nat\"\u001b[39m), \u001b[32m0\u001b[39m))\n",
       "  ),\n",
       "  \u001b[33mConsSeqExst\u001b[39m(\n",
       "    \u001b[33mConstructorSeqTL\u001b[39m(\n",
       "      \u001b[33mCons\u001b[39m(\n",
       "        \u001b[33mName\u001b[39m(\u001b[32m\"zero\"\u001b[39m),\n",
       "        IdShape(),\n",
       "        \u001b[33mCons\u001b[39m(\u001b[33mName\u001b[39m(\u001b[32m\"succ\"\u001b[39m), \u001b[33mFuncConsShape\u001b[39m(IdIterShape(), IdShape()), Empty())\n",
       "      ),\n",
       "      \u001b[33mSymbTyp\u001b[39m(\u001b[33mName\u001b[39m(\u001b[32m\"Nat\"\u001b[39m), \u001b[32m0\u001b[39m)\n",
       "    ),\n",
       "    \u001b[33mVector\u001b[39m(\n",
       "      \u001b[33mSymbObj\u001b[39m(\u001b[33mName\u001b[39m(\u001b[32m\"zero\"\u001b[39m), \u001b[33mSymbTyp\u001b[39m(\u001b[33mName\u001b[39m(\u001b[32m\"Nat\"\u001b[39m), \u001b[32m0\u001b[39m)),\n",
       "      \u001b[33mSymbolicFunc\u001b[39m(\n",
       "        \u001b[33mName\u001b[39m(\u001b[32m\"succ\"\u001b[39m),\n",
       "        \u001b[33mSymbTyp\u001b[39m(\u001b[33mName\u001b[39m(\u001b[32m\"Nat\"\u001b[39m), \u001b[32m0\u001b[39m),\n",
       "        \u001b[33mSymbTyp\u001b[39m(\u001b[33mName\u001b[39m(\u001b[32m\"Nat\"\u001b[39m), \u001b[32m0\u001b[39m)\n",
       "      )\n",
       "    )\n",
       "  ),\n",
       "  \u001b[33mVector\u001b[39m()\n",
       ")"
      ]
     },
     "execution_count": 5,
     "metadata": {},
     "output_type": "execute_result"
    }
   ],
   "source": [
    "val natDef = ExstInducDefn(Nat, natIntros, natStr, Vector())"
   ]
  },
  {
   "cell_type": "markdown",
   "metadata": {},
   "source": [
    "Next, we set up for generation"
   ]
  },
  {
   "cell_type": "code",
   "execution_count": 6,
   "metadata": {},
   "outputs": [
    {
     "data": {
      "text/plain": [
       "\u001b[36mts\u001b[39m: \u001b[32mTermState\u001b[39m = \u001b[33mTermState\u001b[39m(\n",
       "  \u001b[33mFiniteDistribution\u001b[39m(\n",
       "    \u001b[33mVector\u001b[39m(\n",
       "      \u001b[33mWeighted\u001b[39m(\u001b[33mSymbTyp\u001b[39m(\u001b[33mName\u001b[39m(\u001b[32m\"Nat\"\u001b[39m), \u001b[32m0\u001b[39m), \u001b[32m0.3333333333333333\u001b[39m),\n",
       "      \u001b[33mWeighted\u001b[39m(\n",
       "        \u001b[33mSymbObj\u001b[39m(\u001b[33mName\u001b[39m(\u001b[32m\"zero\"\u001b[39m), \u001b[33mSymbTyp\u001b[39m(\u001b[33mName\u001b[39m(\u001b[32m\"Nat\"\u001b[39m), \u001b[32m0\u001b[39m)),\n",
       "        \u001b[32m0.3333333333333333\u001b[39m\n",
       "      ),\n",
       "      \u001b[33mWeighted\u001b[39m(\n",
       "        \u001b[33mSymbolicFunc\u001b[39m(\n",
       "          \u001b[33mName\u001b[39m(\u001b[32m\"succ\"\u001b[39m),\n",
       "          \u001b[33mSymbTyp\u001b[39m(\u001b[33mName\u001b[39m(\u001b[32m\"Nat\"\u001b[39m), \u001b[32m0\u001b[39m),\n",
       "          \u001b[33mSymbTyp\u001b[39m(\u001b[33mName\u001b[39m(\u001b[32m\"Nat\"\u001b[39m), \u001b[32m0\u001b[39m)\n",
       "        ),\n",
       "        \u001b[32m0.3333333333333333\u001b[39m\n",
       "      )\n",
       "    )\n",
       "  ),\n",
       "  \u001b[33mFiniteDistribution\u001b[39m(\n",
       "    \u001b[33mVector\u001b[39m(\u001b[33mWeighted\u001b[39m(\u001b[33mSymbTyp\u001b[39m(\u001b[33mName\u001b[39m(\u001b[32m\"Nat\"\u001b[39m), \u001b[32m0\u001b[39m), \u001b[32m0.5\u001b[39m), \u001b[33mWeighted\u001b[39m(\u001b[33mUniverse\u001b[39m(\u001b[32m0\u001b[39m), \u001b[32m0.5\u001b[39m))\n",
       "  ),\n",
       "  \u001b[33mVector\u001b[39m(),\n",
       "  \u001b[33mFiniteDistribution\u001b[39m(\n",
       "    \u001b[33mVector\u001b[39m(\n",
       "      \u001b[33mWeighted\u001b[39m(\n",
       "        \u001b[33mExstInducDefn\u001b[39m(\n",
       "          \u001b[33mSymbTyp\u001b[39m(\u001b[33mName\u001b[39m(\u001b[32m\"Nat\"\u001b[39m), \u001b[32m0\u001b[39m),\n",
       "          \u001b[33mVector\u001b[39m(\n",
       "            \u001b[33mSymbObj\u001b[39m(\u001b[33mName\u001b[39m(\u001b[32m\"zero\"\u001b[39m), \u001b[33mSymbTyp\u001b[39m(\u001b[33mName\u001b[39m(\u001b[32m\"Nat\"\u001b[39m), \u001b[32m0\u001b[39m)),\n",
       "            \u001b[33mSymbolicFunc\u001b[39m(\n",
       "              \u001b[33mName\u001b[39m(\u001b[32m\"succ\"\u001b[39m),\n",
       "              \u001b[33mSymbTyp\u001b[39m(\u001b[33mName\u001b[39m(\u001b[32m\"Nat\"\u001b[39m), \u001b[32m0\u001b[39m),\n",
       "              \u001b[33mSymbTyp\u001b[39m(\u001b[33mName\u001b[39m(\u001b[32m\"Nat\"\u001b[39m), \u001b[32m0\u001b[39m)\n",
       "            )\n",
       "          ),\n",
       "          \u001b[33mConsSeqExst\u001b[39m(\n",
       "            \u001b[33mConstructorSeqTL\u001b[39m(\n",
       "              \u001b[33mCons\u001b[39m(\n",
       "                \u001b[33mName\u001b[39m(\u001b[32m\"zero\"\u001b[39m),\n",
       "...\n",
       "\u001b[36mtg\u001b[39m: \u001b[32mTermGenParams\u001b[39m = \u001b[33mTermGenParams\u001b[39m(\n",
       "  \u001b[32m0.1\u001b[39m,\n",
       "  \u001b[32m0.1\u001b[39m,\n",
       "  \u001b[32m0.1\u001b[39m,\n",
       "  \u001b[32m0.1\u001b[39m,\n",
       "  \u001b[32m0.1\u001b[39m,\n",
       "  \u001b[32m0.05\u001b[39m,\n",
       "  \u001b[32m0.05\u001b[39m,\n",
       "  \u001b[32m0.05\u001b[39m,\n",
       "  \u001b[32m0.3\u001b[39m,\n",
       "  \u001b[32m0.7\u001b[39m,\n",
       "  \u001b[32m0.5\u001b[39m\n",
       ")"
      ]
     },
     "execution_count": 6,
     "metadata": {},
     "output_type": "execute_result"
    }
   ],
   "source": [
    "val ts = TermState(FD.unif(Nat, zero, succ), FD.unif(Nat, Type), inds = FD.unif(natDef))\n",
    "val tg = TermGenParams()"
   ]
  },
  {
   "cell_type": "code",
   "execution_count": 7,
   "metadata": {},
   "outputs": [
    {
     "data": {
      "text/plain": [
       "\u001b[36mmfd\u001b[39m: \u001b[32mMonixFiniteDistribution\u001b[39m[\u001b[32mTermState\u001b[39m, \u001b[32mTerm\u001b[39m] = \u001b[33mMonixFiniteDistribution\u001b[39m(\n",
       "  \u001b[33mCons\u001b[39m(\n",
       "    \u001b[33mBaseCons\u001b[39m(\n",
       "      \u001b[33mBasePi\u001b[39m(\n",
       "        provingground.learning.RandomVarFamily$$Lambda$3702/1463303791@3077d49c,\n",
       "        FuncsWithDomain\n",
       "      ),\n",
       "      \u001b[32m0.55\u001b[39m,\n",
       "      \u001b[33mBaseCons\u001b[39m(\n",
       "        \u001b[33mBasePi\u001b[39m(\n",
       "          provingground.learning.GeneratorNode$$Lambda$3705/951754523@7e5b621b,\n",
       "          FuncsWithDomain\n",
       "        ),\n",
       "        \u001b[32m0.1\u001b[39m,\n",
       "        \u001b[33mBaseCons\u001b[39m(\n",
       "          \u001b[33mBasePi\u001b[39m(\n",
       "            provingground.learning.GeneratorNode$$Lambda$3705/951754523@3773eca4,\n",
       "            FuncsWithDomain\n",
       "          ),\n",
       "          \u001b[32m0.1\u001b[39m,\n",
       "          \u001b[33mBaseCons\u001b[39m(\n",
       "            \u001b[33mBasePi\u001b[39m(\n",
       "              provingground.learning.GeneratorNode$$Lambda$3705/951754523@643355e1,\n",
       "              FuncsWithDomain\n",
       "            ),\n",
       "            \u001b[32m0.1\u001b[39m,\n",
       "            \u001b[33mBaseCons\u001b[39m(\n",
       "              \u001b[33mBasePi\u001b[39m(\n",
       "                provingground.learning.TermGeneratorNodes$$Lambda$3690/442189446@19fae317,\n",
       "                FuncsWithDomain\n",
       "              ),\n",
       "              \u001b[32m0.1\u001b[39m,\n",
       "              \u001b[33mTarget\u001b[39m(FuncsWithDomain)\n",
       "            )\n",
       "          )\n",
       "        )\n",
       "..."
      ]
     },
     "execution_count": 7,
     "metadata": {},
     "output_type": "execute_result"
    }
   ],
   "source": [
    "val mfd = tg.monixFD"
   ]
  },
  {
   "cell_type": "markdown",
   "metadata": {},
   "source": [
    "A check that inductive types are picked up from the initial distribution."
   ]
  },
  {
   "cell_type": "code",
   "execution_count": 8,
   "metadata": {},
   "outputs": [
    {
     "data": {
      "text/plain": [
       "\u001b[32mimport \u001b[39m\u001b[36mTermRandomVars._\n",
       "\u001b[39m\n",
       "\u001b[36midT\u001b[39m: \u001b[32mmonix\u001b[39m.\u001b[32meval\u001b[39m.\u001b[32mTask\u001b[39m[\u001b[32mFiniteDistribution\u001b[39m[\u001b[32mExstInducDefn\u001b[39m]] = \u001b[33mFlatMap\u001b[39m(\n",
       "  \u001b[33mAsync\u001b[39m(<function2>, true, true, true),\n",
       "  monix.eval.Task$$Lambda$3753/120127494@c01a107\n",
       ")"
      ]
     },
     "execution_count": 8,
     "metadata": {},
     "output_type": "execute_result"
    }
   ],
   "source": [
    "import TermRandomVars._\n",
    "val idT = mfd.varDist(ts)(InducDefns, 0.1)"
   ]
  },
  {
   "cell_type": "code",
   "execution_count": 9,
   "metadata": {},
   "outputs": [
    {
     "data": {
      "text/plain": [
       "\u001b[32mimport \u001b[39m\u001b[36mmonix.execution.Scheduler.Implicits.global \n",
       "\u001b[39m\n",
       "\u001b[36minducFD\u001b[39m: \u001b[32mFiniteDistribution\u001b[39m[\u001b[32mExstInducDefn\u001b[39m] = \u001b[33mFiniteDistribution\u001b[39m(\n",
       "  \u001b[33mVector\u001b[39m(\n",
       "    \u001b[33mWeighted\u001b[39m(\n",
       "      \u001b[33mExstInducDefn\u001b[39m(\n",
       "        \u001b[32mNat\u001b[39m,\n",
       "        \u001b[33mVector\u001b[39m(\u001b[32mzero\u001b[39m, \u001b[32msucc\u001b[39m),\n",
       "        \u001b[33mConsSeqExst\u001b[39m(\n",
       "          \u001b[33mConstructorSeqTL\u001b[39m(\n",
       "            \u001b[33mCons\u001b[39m(\u001b[32mzero\u001b[39m, IdShape(), \u001b[33mCons\u001b[39m(\u001b[32msucc\u001b[39m, \u001b[33mFuncConsShape\u001b[39m(IdIterShape(), IdShape()), Empty())),\n",
       "            \u001b[32mNat\u001b[39m\n",
       "          ),\n",
       "          \u001b[33mVector\u001b[39m(\u001b[32mzero\u001b[39m, \u001b[32msucc\u001b[39m)\n",
       "        ),\n",
       "        \u001b[33mVector\u001b[39m()\n",
       "      ),\n",
       "      \u001b[32m1.0\u001b[39m\n",
       "    )\n",
       "  )\n",
       ")"
      ]
     },
     "execution_count": 9,
     "metadata": {},
     "output_type": "execute_result"
    }
   ],
   "source": [
    "import monix.execution.Scheduler.Implicits.global \n",
    "repl.pprinter.bind(translation.FansiShow.fansiPrint)\n",
    "\n",
    "val inducFD = idT.runSyncUnsafe()"
   ]
  },
  {
   "cell_type": "markdown",
   "metadata": {},
   "source": [
    "### Domain\n",
    "\n",
    "We generate the domain from the inductive type. Nothing to do in the simple case."
   ]
  },
  {
   "cell_type": "code",
   "execution_count": 10,
   "metadata": {},
   "outputs": [
    {
     "data": {
      "text/plain": [
       "\u001b[36mdomT\u001b[39m: \u001b[32mmonix\u001b[39m.\u001b[32meval\u001b[39m.\u001b[32mTask\u001b[39m[\u001b[32mFiniteDistribution\u001b[39m[\u001b[32mTerm\u001b[39m]] = \u001b[33mFlatMap\u001b[39m(\n",
       "  \u001b[33mAsync\u001b[39m(<function2>, true, true, true),\n",
       "  monix.eval.Task$$Lambda$3753/120127494@1a773a\n",
       ")"
      ]
     },
     "execution_count": 10,
     "metadata": {},
     "output_type": "execute_result"
    }
   ],
   "source": [
    "val domT = mfd.varDist(ts)(domForInduc(natDef), 0.1)"
   ]
  },
  {
   "cell_type": "code",
   "execution_count": 11,
   "metadata": {},
   "outputs": [
    {
     "data": {
      "text/plain": [
       "\u001b[36mdomFD\u001b[39m: \u001b[32mFiniteDistribution\u001b[39m[\u001b[32mTerm\u001b[39m] = \u001b[33mFiniteDistribution\u001b[39m(\u001b[33mVector\u001b[39m(\u001b[33mWeighted\u001b[39m(\u001b[32mNat\u001b[39m, \u001b[32m1.0\u001b[39m)))"
      ]
     },
     "execution_count": 11,
     "metadata": {},
     "output_type": "execute_result"
    }
   ],
   "source": [
    "val domFD = domT.runSyncUnsafe()"
   ]
  },
  {
   "cell_type": "markdown",
   "metadata": {},
   "source": [
    "### Recursive definitions\n",
    "\n",
    "We next define functions recursively"
   ]
  },
  {
   "cell_type": "code",
   "execution_count": 12,
   "metadata": {},
   "outputs": [
    {
     "data": {
      "text/plain": [
       "\u001b[36mndT\u001b[39m: \u001b[32mmonix\u001b[39m.\u001b[32meval\u001b[39m.\u001b[32mTask\u001b[39m[\u001b[32mFiniteDistribution\u001b[39m[\u001b[32mTerm\u001b[39m]] = \u001b[33mFlatMap\u001b[39m(\n",
       "  \u001b[33mMap\u001b[39m(\n",
       "    \u001b[33mFlatMap\u001b[39m(\u001b[33mAsync\u001b[39m(<function2>, true, true, true), monix.eval.Task$$Lambda$3753/120127494@3c542d95),\n",
       "    provingground.learning.MonixFiniteDistribution$$Lambda$3857/1282319266@53d78809,\n",
       "    \u001b[32m0\u001b[39m\n",
       "  ),\n",
       "  provingground.learning.MonixFiniteDistribution$$Lambda$3858/1919529312@6959a897\n",
       ")"
      ]
     },
     "execution_count": 12,
     "metadata": {},
     "output_type": "execute_result"
    }
   ],
   "source": [
    "val ndT = mfd.nodeDist(ts)(tg.Gen.recFuncFoldedNode, 0.001)"
   ]
  },
  {
   "cell_type": "code",
   "execution_count": 13,
   "metadata": {},
   "outputs": [
    {
     "data": {
      "text/plain": [
       "\u001b[36mnfd\u001b[39m: \u001b[32mFiniteDistribution\u001b[39m[\u001b[32mTerm\u001b[39m] = \u001b[33mFiniteDistribution\u001b[39m(\n",
       "  \u001b[33mVector\u001b[39m(\n",
       "    \u001b[33mWeighted\u001b[39m(\u001b[32mrec_{ Nat ; Nat }(succ(zero))((_ : Nat) ↦ (_ : Nat) ↦ zero)\u001b[39m, \u001b[32m0.007694285640620071\u001b[39m),\n",
       "    \u001b[33mWeighted\u001b[39m(\n",
       "      \u001b[32mrec_{ Nat ; Nat }(succ(succ(zero)))((_ : Nat) ↦ (_ : Nat) ↦ zero)\u001b[39m,\n",
       "      \u001b[32m0.006344070519242263\u001b[39m\n",
       "    ),\n",
       "    \u001b[33mWeighted\u001b[39m(\u001b[32mrec_{ Nat ; Nat }(succ(zero))((_ : Nat) ↦ succ)\u001b[39m, \u001b[32m0.09515789996358705\u001b[39m),\n",
       "    \u001b[33mWeighted\u001b[39m(\u001b[32mrec_{ Nat ; Nat }(succ(succ(zero)))((_ : Nat) ↦ (@b : Nat) ↦ @b)\u001b[39m, \u001b[32m0.011652374423098036\u001b[39m),\n",
       "    \u001b[33mWeighted\u001b[39m(\u001b[32mrec_{ Nat ; Nat }(succ(succ(zero)))((@a : Nat) ↦ (_ : Nat) ↦ @a)\u001b[39m, \u001b[32m0.008156662096168625\u001b[39m),\n",
       "    \u001b[33mWeighted\u001b[39m(\u001b[32mrec_{ Nat ; Nat }(zero)((@a : Nat) ↦ (_ : Nat) ↦ @a)\u001b[39m, \u001b[32m0.008270906578558813\u001b[39m),\n",
       "    \u001b[33mWeighted\u001b[39m(\u001b[32mrec_{ Nat ; Nat }(zero)((_ : Nat) ↦ (@b : Nat) ↦ @b)\u001b[39m, \u001b[32m0.011815580826512592\u001b[39m),\n",
       "    \u001b[33mWeighted\u001b[39m(\n",
       "      \u001b[32mrec_{ Nat ; Nat }(succ(zero))((_ : Nat) ↦ (_ : Nat) ↦ succ(zero))\u001b[39m,\n",
       "      \u001b[32m0.015388571281240142\u001b[39m\n",
       "    ),\n",
       "    \u001b[33mWeighted\u001b[39m(\u001b[32mrec_{ Nat ; Nat }(zero)((_ : Nat) ↦ (@b : Nat) ↦ succ(@b))\u001b[39m, \u001b[32m0.026519414743950483\u001b[39m),\n",
       "    \u001b[33mWeighted\u001b[39m(\u001b[32mrec_{ Nat ; Nat }(succ(zero))((@a : Nat) ↦ (_ : Nat) ↦ @a)\u001b[39m, \u001b[32m0.009892652966511524\u001b[39m),\n",
       "    \u001b[33mWeighted\u001b[39m(\u001b[32mrec_{ Nat ; Nat }(succ(zero))((_ : Nat) ↦ (@b : Nat) ↦ @b)\u001b[39m, \u001b[32m0.014132361380730747\u001b[39m),\n",
       "    \u001b[33mWeighted\u001b[39m(\u001b[32mrec_{ Nat ; Nat }(succ(zero))((@a : Nat) ↦ (_ : Nat) ↦ succ(@a))\u001b[39m, \u001b[32m0.019785305933023047\u001b[39m),\n",
       "    \u001b[33mWeighted\u001b[39m(\u001b[32mrec_{ Nat ; Nat }(succ(zero))((_ : Nat) ↦ (@b : Nat) ↦ succ(@b))\u001b[39m, \u001b[32m0.028264722761461494\u001b[39m),\n",
       "    \u001b[33mWeighted\u001b[39m(\u001b[32mrec_{ Nat ; Nat }(zero)((_ : Nat) ↦ succ)\u001b[39m, \u001b[32m0.053038829487900965\u001b[39m),\n",
       "    \u001b[33mWeighted\u001b[39m(\u001b[32mrec_{ Nat ; 𝒰  }(Nat)((_ : Nat) ↦ (@a : 𝒰 ) ↦ @a)\u001b[39m, \u001b[32m0.27473350526106977\u001b[39m),\n",
       "    \u001b[33mWeighted\u001b[39m(\u001b[32mrec_{ Nat ; Nat }(zero)((_ : Nat) ↦ (_ : Nat) ↦ zero)\u001b[39m, \u001b[32m0.0064329273388790765\u001b[39m),\n",
       "    \u001b[33mWeighted\u001b[39m(\u001b[32mrec_{ Nat ; 𝒰  }(Nat)((_ : Nat) ↦ (_ : 𝒰 ) ↦ Nat)\u001b[39m, \u001b[32m0.14957713064213796\u001b[39m),\n",
       "    \u001b[33mWeighted\u001b[39m(\u001b[32mrec_{ Nat ; Nat }(succ(succ(zero)))((_ : Nat) ↦ succ)\u001b[39m, \u001b[32m0.06395858850011588\u001b[39m),\n",
       "    \u001b[33mWeighted\u001b[39m(\n",
       "      \u001b[32mrec_{ Nat ; Nat }(succ(succ(zero)))((_ : Nat) ↦ (@b : Nat) ↦ succ(@b))\u001b[39m,\n",
       "      \u001b[32m0.037805481461606956\u001b[39m\n",
       "    )\n",
       "  )\n",
       ")"
      ]
     },
     "execution_count": 13,
     "metadata": {},
     "output_type": "execute_result"
    }
   ],
   "source": [
    "val nfd = ndT.runSyncUnsafe()"
   ]
  },
  {
   "cell_type": "code",
   "execution_count": 14,
   "metadata": {},
   "outputs": [
    {
     "data": {
      "text/plain": [
       "\u001b[36mnnT\u001b[39m: \u001b[32mmonix\u001b[39m.\u001b[32meval\u001b[39m.\u001b[32mTask\u001b[39m[\u001b[32mFiniteDistribution\u001b[39m[\u001b[32mTerm\u001b[39m]] = \u001b[33mFlatMap\u001b[39m(\n",
       "  \u001b[33mAsync\u001b[39m(<function2>, true, true, true),\n",
       "  monix.eval.Task$$Lambda$3753/120127494@e3b4bf4\n",
       ")"
      ]
     },
     "execution_count": 14,
     "metadata": {},
     "output_type": "execute_result"
    }
   ],
   "source": [
    "val nnT = mfd.varDist(ts)(termsWithTyp(Nat ->: Nat), 0.1)"
   ]
  },
  {
   "cell_type": "code",
   "execution_count": 15,
   "metadata": {},
   "outputs": [
    {
     "data": {
      "text/plain": [
       "\u001b[36mnnD\u001b[39m: \u001b[32mFiniteDistribution\u001b[39m[\u001b[32mTerm\u001b[39m] = \u001b[33mFiniteDistribution\u001b[39m(\u001b[33mVector\u001b[39m(\u001b[33mWeighted\u001b[39m(\u001b[32msucc\u001b[39m, \u001b[32m1.0\u001b[39m)))"
      ]
     },
     "execution_count": 15,
     "metadata": {},
     "output_type": "execute_result"
    }
   ],
   "source": [
    "val nnD = nnT.runSyncUnsafe()"
   ]
  },
  {
   "cell_type": "code",
   "execution_count": 16,
   "metadata": {},
   "outputs": [
    {
     "data": {
      "text/plain": [
       "\u001b[36mres15\u001b[39m: \u001b[32mFiniteDistribution\u001b[39m[\u001b[32mTyp\u001b[39m[\u001b[32mU\u001b[39m] forSome { type \u001b[32mU\u001b[39m >: \u001b[32mx$1\u001b[39m <: \u001b[32mTerm\u001b[39m with \u001b[32mSubs\u001b[39m[\u001b[32mU\u001b[39m]; val \u001b[32mx$1\u001b[39m: \u001b[32mTerm\u001b[39m }] = \u001b[33mFiniteDistribution\u001b[39m(\n",
       "  \u001b[33mVector\u001b[39m(\u001b[33mWeighted\u001b[39m(\u001b[32m(Nat → 𝒰 )\u001b[39m, \u001b[32m0.4243106359032077\u001b[39m), \u001b[33mWeighted\u001b[39m(\u001b[32m(Nat → Nat)\u001b[39m, \u001b[32m0.42431063590320767\u001b[39m))\n",
       ")"
      ]
     },
     "execution_count": 16,
     "metadata": {},
     "output_type": "execute_result"
    }
   ],
   "source": [
    "nfd.map(_.typ).flatten"
   ]
  },
  {
   "cell_type": "markdown",
   "metadata": {},
   "source": [
    "### Inductive definitions\n",
    "\n",
    "We make our first attempt at inductive definitions. We get some, but of only one type. We verify that this is because of the lack of richness in our initial state."
   ]
  },
  {
   "cell_type": "code",
   "execution_count": 17,
   "metadata": {},
   "outputs": [
    {
     "data": {
      "text/plain": [
       "\u001b[36mnidT\u001b[39m: \u001b[32mmonix\u001b[39m.\u001b[32meval\u001b[39m.\u001b[32mTask\u001b[39m[\u001b[32mFiniteDistribution\u001b[39m[\u001b[32mTerm\u001b[39m]] = \u001b[33mFlatMap\u001b[39m(\n",
       "  \u001b[33mMap\u001b[39m(\n",
       "    \u001b[33mFlatMap\u001b[39m(\u001b[33mAsync\u001b[39m(<function2>, true, true, true), monix.eval.Task$$Lambda$3753/120127494@10aef5dd),\n",
       "    provingground.learning.MonixFiniteDistribution$$Lambda$3857/1282319266@53d78809,\n",
       "    \u001b[32m0\u001b[39m\n",
       "  ),\n",
       "  provingground.learning.MonixFiniteDistribution$$Lambda$3858/1919529312@339e3715\n",
       ")"
      ]
     },
     "execution_count": 17,
     "metadata": {},
     "output_type": "execute_result"
    }
   ],
   "source": [
    "val nidT = mfd.nodeDist(ts)(tg.Gen.inducFuncFoldedNode, 0.00001)"
   ]
  },
  {
   "cell_type": "code",
   "execution_count": 18,
   "metadata": {},
   "outputs": [
    {
     "data": {
      "text/plain": [
       "\u001b[36mnifd\u001b[39m: \u001b[32mFiniteDistribution\u001b[39m[\u001b[32mTerm\u001b[39m] = \u001b[33mFiniteDistribution\u001b[39m(\n",
       "  \u001b[33mVector\u001b[39m(\n",
       "    \u001b[33mWeighted\u001b[39m(\n",
       "      \u001b[32minduc_{ Nat ; (_ : Nat) ↦ Nat }(succ(succ(zero)))((_ : Nat) ↦ (@b : Nat) ↦ succ(succ(succ(@b))))\u001b[39m,\n",
       "      \u001b[32m0.0023818496077421827\u001b[39m\n",
       "    ),\n",
       "    \u001b[33mWeighted\u001b[39m(\n",
       "      \u001b[32minduc_{ Nat ; (_ : Nat) ↦ Nat }(succ(succ(zero)))((@a : Nat) ↦ (_ : Nat) ↦ succ(succ(succ(@a))))\u001b[39m,\n",
       "      \u001b[32m0.0016672947254195282\u001b[39m\n",
       "    ),\n",
       "    \u001b[33mWeighted\u001b[39m(\n",
       "      \u001b[32minduc_{ Nat ; (_ : Nat) ↦ Nat }(succ(succ(succ(succ(zero)))))((_ : Nat) ↦ (_ : Nat) ↦ succ(succ(zero)))\u001b[39m,\n",
       "      \u001b[32m0.0014088768310103873\u001b[39m\n",
       "    ),\n",
       "    \u001b[33mWeighted\u001b[39m(\n",
       "      \u001b[32minduc_{ Nat ; (_ : Nat) ↦ Nat }(succ(succ(zero)))((@a : Nat) ↦ (_ : Nat) ↦ succ(@a))\u001b[39m,\n",
       "      \u001b[32m0.003827612378330869\u001b[39m\n",
       "    ),\n",
       "    \u001b[33mWeighted\u001b[39m(\n",
       "      \u001b[32minduc_{ Nat ; (_ : Nat) ↦ Nat }(succ(succ(zero)))((_ : Nat) ↦ (@b : Nat) ↦ succ(@b))\u001b[39m,\n",
       "      \u001b[32m0.005618820785853711\u001b[39m\n",
       "    ),\n",
       "    \u001b[33mWeighted\u001b[39m(\n",
       "      \u001b[32minduc_{ Nat ; (_ : Nat) ↦ Nat }(succ(zero))((@a : Nat) ↦ (_ : Nat) ↦ succ(@a))\u001b[39m,\n",
       "      \u001b[32m0.0030392922085904412\u001b[39m\n",
       "    ),\n",
       "    \u001b[33mWeighted\u001b[39m(\n",
       "      \u001b[32minduc_{ Nat ; (_ : Nat) ↦ Nat }(succ(zero))((_ : Nat) ↦ (@b : Nat) ↦ succ(@b))\u001b[39m,\n",
       "      \u001b[32m0.004943166447340813\u001b[39m\n",
       "    ),\n",
       "    \u001b[33mWeighted\u001b[39m(\n",
       "      \u001b[32minduc_{ Nat ; (_ : Nat) ↦ Nat }(succ(succ(zero)))((_ : Nat) ↦ (_ : Nat) ↦ succ(succ(zero)))\u001b[39m,\n",
       "      \u001b[32m0.0017671892134790885\u001b[39m\n",
       "    ),\n",
       "    \u001b[33mWeighted\u001b[39m(\n",
       "      \u001b[32minduc_{ Nat ; (_ : Nat) ↦ Nat }(succ(succ(succ(succ(zero)))))((_ : Nat) ↦ (@b : Nat) ↦ succ(succ(@b)))\u001b[39m,\n",
       "      \u001b[32m0.002693083607075716\u001b[39m\n",
       "    ),\n",
       "    \u001b[33mWeighted\u001b[39m(\n",
       "      \u001b[32minduc_{ Nat ; (_ : Nat) ↦ Nat }(succ(succ(succ(succ(zero)))))((@a : Nat) ↦ (_ : Nat) ↦ succ(succ(@a)))\u001b[39m,\n",
       "      \u001b[32m0.0018114130684419266\u001b[39m\n",
       "    ),\n",
       "    \u001b[33mWeighted\u001b[39m(\n",
       "      \u001b[32minduc_{ Nat ; (_ : Nat) ↦ Nat }(succ(zero))((_ : Nat) ↦ (_ : Nat) ↦ succ(zero))\u001b[39m,\n",
       "..."
      ]
     },
     "execution_count": 18,
     "metadata": {},
     "output_type": "execute_result"
    }
   ],
   "source": [
    "val nifd = nidT.runSyncUnsafe()"
   ]
  },
  {
   "cell_type": "code",
   "execution_count": 19,
   "metadata": {},
   "outputs": [
    {
     "data": {
      "text/plain": [
       "\u001b[36mres18\u001b[39m: \u001b[32mFiniteDistribution\u001b[39m[\u001b[32mTyp\u001b[39m[\u001b[32mU\u001b[39m] forSome { type \u001b[32mU\u001b[39m >: \u001b[32mx$1\u001b[39m <: \u001b[32mTerm\u001b[39m with \u001b[32mSubs\u001b[39m[\u001b[32mU\u001b[39m]; val \u001b[32mx$1\u001b[39m: \u001b[32mTerm\u001b[39m }] = \u001b[33mFiniteDistribution\u001b[39m(\n",
       "  \u001b[33mVector\u001b[39m(\u001b[33mWeighted\u001b[39m(\u001b[32m∏(_ : Nat){ Nat }\u001b[39m, \u001b[32m1.0\u001b[39m))\n",
       ")"
      ]
     },
     "execution_count": 19,
     "metadata": {},
     "output_type": "execute_result"
    }
   ],
   "source": [
    "nifd.map(_.typ).flatten"
   ]
  },
  {
   "cell_type": "code",
   "execution_count": 20,
   "metadata": {},
   "outputs": [
    {
     "data": {
      "text/plain": [
       "\u001b[36mres19_0\u001b[39m: \u001b[32mRandomVar\u001b[39m[\u001b[32mTerm\u001b[39m] = \u001b[33mAtCoord\u001b[39m(TermsWithTyp, \u001b[32m(Nat → 𝒰 )\u001b[39m :: HNil)\n",
       "\u001b[36mtfT\u001b[39m: \u001b[32mmonix\u001b[39m.\u001b[32meval\u001b[39m.\u001b[32mTask\u001b[39m[\u001b[32mFiniteDistribution\u001b[39m[\u001b[32mTerm\u001b[39m]] = \u001b[33mFlatMap\u001b[39m(\n",
       "  \u001b[33mAsync\u001b[39m(<function2>, true, true, true),\n",
       "  monix.eval.Task$$Lambda$3753/120127494@692b4810\n",
       ")"
      ]
     },
     "execution_count": 20,
     "metadata": {},
     "output_type": "execute_result"
    }
   ],
   "source": [
    "termsWithTyp(typFamilyTarget(Nat).get)\n",
    "val tfT = mfd.varDist(ts)(termsWithTyp(typFamilyTarget(Nat).get), 0.001)"
   ]
  },
  {
   "cell_type": "code",
   "execution_count": 21,
   "metadata": {},
   "outputs": [
    {
     "data": {
      "text/plain": [
       "\u001b[36mtfD\u001b[39m: \u001b[32mFiniteDistribution\u001b[39m[\u001b[32mTerm\u001b[39m] = \u001b[33mFiniteDistribution\u001b[39m(\u001b[33mVector\u001b[39m(\u001b[33mWeighted\u001b[39m(\u001b[32m(_ : Nat) ↦ Nat\u001b[39m, \u001b[32m1.0\u001b[39m)))"
      ]
     },
     "execution_count": 21,
     "metadata": {},
     "output_type": "execute_result"
    }
   ],
   "source": [
    "val tfD = tfT.runSyncUnsafe()"
   ]
  },
  {
   "cell_type": "markdown",
   "metadata": {},
   "source": [
    "### More inductive definitions\n",
    "\n",
    "We now enhance our generation state and see that we get inductive definitions including a simple _proof_."
   ]
  },
  {
   "cell_type": "code",
   "execution_count": 22,
   "metadata": {},
   "outputs": [
    {
     "data": {
      "text/plain": [
       "\u001b[36mn\u001b[39m: \u001b[32mTerm\u001b[39m = \u001b[32mn\u001b[39m\n",
       "\u001b[36mrel\u001b[39m: \u001b[32mFunc\u001b[39m[\u001b[32mTerm\u001b[39m, \u001b[32mTyp\u001b[39m[\u001b[32mTerm\u001b[39m]] = \u001b[32mrel\u001b[39m\n",
       "\u001b[36mallRel\u001b[39m: \u001b[32mFuncLike\u001b[39m[\u001b[32mTerm\u001b[39m, \u001b[32mTerm\u001b[39m] = \u001b[32mallRel\u001b[39m\n",
       "\u001b[36mts1\u001b[39m: \u001b[32mTermState\u001b[39m = \u001b[33mTermState\u001b[39m(\n",
       "  \u001b[33mFiniteDistribution\u001b[39m(\n",
       "    \u001b[33mVector\u001b[39m(\n",
       "      \u001b[33mWeighted\u001b[39m(\u001b[32mallRel\u001b[39m, \u001b[32m0.2\u001b[39m),\n",
       "      \u001b[33mWeighted\u001b[39m(\u001b[32msucc\u001b[39m, \u001b[32m0.2\u001b[39m),\n",
       "      \u001b[33mWeighted\u001b[39m(\u001b[32mNat\u001b[39m, \u001b[32m0.2\u001b[39m),\n",
       "      \u001b[33mWeighted\u001b[39m(\u001b[32mzero\u001b[39m, \u001b[32m0.2\u001b[39m),\n",
       "      \u001b[33mWeighted\u001b[39m(\u001b[32mrel\u001b[39m, \u001b[32m0.2\u001b[39m)\n",
       "    )\n",
       "  ),\n",
       "  \u001b[33mFiniteDistribution\u001b[39m(\u001b[33mVector\u001b[39m(\u001b[33mWeighted\u001b[39m(\u001b[32mNat\u001b[39m, \u001b[32m0.5\u001b[39m), \u001b[33mWeighted\u001b[39m(\u001b[32m𝒰 \u001b[39m, \u001b[32m0.5\u001b[39m))),\n",
       "  \u001b[33mVector\u001b[39m(),\n",
       "  \u001b[33mFiniteDistribution\u001b[39m(\n",
       "    \u001b[33mVector\u001b[39m(\n",
       "      \u001b[33mWeighted\u001b[39m(\n",
       "        \u001b[33mExstInducDefn\u001b[39m(\n",
       "          \u001b[32mNat\u001b[39m,\n",
       "          \u001b[33mVector\u001b[39m(\u001b[32mzero\u001b[39m, \u001b[32msucc\u001b[39m),\n",
       "          \u001b[33mConsSeqExst\u001b[39m(\n",
       "            \u001b[33mConstructorSeqTL\u001b[39m(\n",
       "              \u001b[33mCons\u001b[39m(\u001b[32mzero\u001b[39m, IdShape(), \u001b[33mCons\u001b[39m(\u001b[32msucc\u001b[39m, \u001b[33mFuncConsShape\u001b[39m(IdIterShape(), IdShape()), Empty())),\n",
       "              \u001b[32mNat\u001b[39m\n",
       "            ),\n",
       "            \u001b[33mVector\u001b[39m(\u001b[32mzero\u001b[39m, \u001b[32msucc\u001b[39m)\n",
       "          ),\n",
       "          \u001b[33mVector\u001b[39m()\n",
       "        ),\n",
       "        \u001b[32m1.0\u001b[39m\n",
       "      )\n",
       "    )\n",
       "  ),\n",
       "  \u001b[33mFiniteDistribution\u001b[39m(\u001b[33mVector\u001b[39m()),\n",
       "  Empty\n",
       ")"
      ]
     },
     "execution_count": 22,
     "metadata": {},
     "output_type": "execute_result"
    }
   ],
   "source": [
    "val n = Nat.sym\n",
    "val rel = (Nat ->: Type).sym\n",
    "val allRel = (n ~>: rel(n)).sym\n",
    "val ts1 = TermState(FD.unif(Nat, zero, succ, rel, allRel), FD.unif(Nat, Type), inds = FD.unif(natDef))"
   ]
  },
  {
   "cell_type": "code",
   "execution_count": 23,
   "metadata": {},
   "outputs": [
    {
     "data": {
      "text/plain": [
       "\u001b[36mtfT1\u001b[39m: \u001b[32mmonix\u001b[39m.\u001b[32meval\u001b[39m.\u001b[32mTask\u001b[39m[\u001b[32mFiniteDistribution\u001b[39m[\u001b[32mTerm\u001b[39m]] = \u001b[33mFlatMap\u001b[39m(\n",
       "  \u001b[33mAsync\u001b[39m(<function2>, true, true, true),\n",
       "  monix.eval.Task$$Lambda$3753/120127494@53f4c5e9\n",
       ")"
      ]
     },
     "execution_count": 23,
     "metadata": {},
     "output_type": "execute_result"
    }
   ],
   "source": [
    "val tfT1 = mfd.varDist(ts1)(termsWithTyp(typFamilyTarget(Nat).get), 0.001)"
   ]
  },
  {
   "cell_type": "code",
   "execution_count": 24,
   "metadata": {},
   "outputs": [
    {
     "data": {
      "text/plain": [
       "\u001b[36mtfD1\u001b[39m: \u001b[32mFiniteDistribution\u001b[39m[\u001b[32mTerm\u001b[39m] = \u001b[33mFiniteDistribution\u001b[39m(\n",
       "  \u001b[33mVector\u001b[39m(\n",
       "    \u001b[33mWeighted\u001b[39m(\u001b[32m(_ : Nat) ↦ rel(succ(zero))\u001b[39m, \u001b[32m0.013313167618019765\u001b[39m),\n",
       "    \u001b[33mWeighted\u001b[39m(\u001b[32m(_ : Nat) ↦ rel(zero)\u001b[39m, \u001b[32m0.08308884161040503\u001b[39m),\n",
       "    \u001b[33mWeighted\u001b[39m(\u001b[32m(@a : Nat) ↦ rel(succ(@a))\u001b[39m, \u001b[32m0.10002632120794946\u001b[39m),\n",
       "    \u001b[33mWeighted\u001b[39m(\u001b[32mrel\u001b[39m, \u001b[32m0.5\u001b[39m),\n",
       "    \u001b[33mWeighted\u001b[39m(\u001b[32m(_ : Nat) ↦ Nat\u001b[39m, \u001b[32m0.12552415182704352\u001b[39m),\n",
       "    \u001b[33mWeighted\u001b[39m(\u001b[32m(@a : Nat) ↦ rel(@a)\u001b[39m, \u001b[32m0.1780475177365822\u001b[39m)\n",
       "  )\n",
       ")"
      ]
     },
     "execution_count": 24,
     "metadata": {},
     "output_type": "execute_result"
    }
   ],
   "source": [
    "val tfD1 = tfT1.runSyncUnsafe()"
   ]
  },
  {
   "cell_type": "code",
   "execution_count": 25,
   "metadata": {},
   "outputs": [
    {
     "data": {
      "text/plain": [
       "\u001b[36mnidT1\u001b[39m: \u001b[32mmonix\u001b[39m.\u001b[32meval\u001b[39m.\u001b[32mTask\u001b[39m[\u001b[32mFiniteDistribution\u001b[39m[\u001b[32mTerm\u001b[39m]] = \u001b[33mFlatMap\u001b[39m(\n",
       "  \u001b[33mMap\u001b[39m(\n",
       "    \u001b[33mFlatMap\u001b[39m(\u001b[33mAsync\u001b[39m(<function2>, true, true, true), monix.eval.Task$$Lambda$3753/120127494@5af37ab2),\n",
       "    provingground.learning.MonixFiniteDistribution$$Lambda$3857/1282319266@53d78809,\n",
       "    \u001b[32m0\u001b[39m\n",
       "  ),\n",
       "  provingground.learning.MonixFiniteDistribution$$Lambda$3858/1919529312@7e588022\n",
       ")\n",
       "\u001b[36mnifd1\u001b[39m: \u001b[32mFiniteDistribution\u001b[39m[\u001b[32mTerm\u001b[39m] = \u001b[33mFiniteDistribution\u001b[39m(\n",
       "  \u001b[33mVector\u001b[39m(\n",
       "    \u001b[33mWeighted\u001b[39m(\n",
       "      \u001b[32minduc_{ Nat ; (_ : Nat) ↦ Nat }(succ(succ(zero)))((@a : Nat) ↦ (_ : Nat) ↦ succ(@a))\u001b[39m,\n",
       "      \u001b[32m0.00103737820226554\u001b[39m\n",
       "    ),\n",
       "    \u001b[33mWeighted\u001b[39m(\n",
       "      \u001b[32minduc_{ Nat ; (_ : Nat) ↦ Nat }(succ(succ(zero)))((_ : Nat) ↦ (@b : Nat) ↦ succ(@b))\u001b[39m,\n",
       "      \u001b[32m0.0016448077301823537\u001b[39m\n",
       "    ),\n",
       "    \u001b[33mWeighted\u001b[39m(\n",
       "      \u001b[32minduc_{ Nat ; (_ : Nat) ↦ Nat }(succ(zero))((_ : Nat) ↦ (@b : Nat) ↦ succ(@b))\u001b[39m,\n",
       "      \u001b[32m0.0010637623519178623\u001b[39m\n",
       "    ),\n",
       "    \u001b[33mWeighted\u001b[39m(\n",
       "      \u001b[32minduc_{ Nat ; (_ : Nat) ↦ Nat }(succ(zero))((@a : Nat) ↦ (_ : Nat) ↦ succ(@a))\u001b[39m,\n",
       "      \u001b[32m7.446336463425035E-4\u001b[39m\n",
       "    ),\n",
       "    \u001b[33mWeighted\u001b[39m(\n",
       "      \u001b[32minduc_{ Nat ; (_ : Nat) ↦ Nat }(succ(succ(zero)))((_ : Nat) ↦ (_ : Nat) ↦ succ(succ(zero)))\u001b[39m,\n",
       "      \u001b[32m1.2580564431652976E-4\u001b[39m\n",
       "    ),\n",
       "    \u001b[33mWeighted\u001b[39m(\n",
       "      \u001b[32minduc_{ Nat ; (_ : Nat) ↦ rel(zero) }(allRel(zero))((_ : Nat) ↦ (_ : rel(zero)) ↦ allRel(zero))\u001b[39m,\n",
       "      \u001b[32m0.009177109832656355\u001b[39m\n",
       "    ),\n",
       "    \u001b[33mWeighted\u001b[39m(\n",
       "      \u001b[32minduc_{ Nat ; (_ : Nat) ↦ Nat }(succ(zero))((_ : Nat) ↦ (_ : Nat) ↦ succ(zero))\u001b[39m,\n",
       "      \u001b[32m3.309061314077909E-4\u001b[39m\n",
       "    ),\n",
       "    \u001b[33mWeighted\u001b[39m(\n",
       "      \u001b[32minduc_{ Nat ; (_ : Nat) ↦ Nat }(succ(zero))((@a : Nat) ↦ (_ : Nat) ↦ succ(succ(@a)))\u001b[39m,\n",
       "      \u001b[32m4.8514802748513203E-4\u001b[39m\n",
       "    ),\n",
       "    \u001b[33mWeighted\u001b[39m(\n",
       "      \u001b[32minduc_{ Nat ; (_ : Nat) ↦ Nat }(succ(zero))((_ : Nat) ↦ (@b : Nat) ↦ succ(succ(@b)))\u001b[39m,\n",
       "      \u001b[32m6.930686106930457E-4\u001b[39m\n",
       "    ),\n",
       "    \u001b[33mWeighted\u001b[39m(\n",
       "      \u001b[32minduc_{ Nat ; (_ : Nat) ↦ Nat }(succ(zero))((_ : Nat) ↦ (_ : Nat) ↦ zero)\u001b[39m,\n",
       "      \u001b[32m6.031788674726328E-4\u001b[39m\n",
       "    ),\n",
       "    \u001b[33mWeighted\u001b[39m(\n",
       "      \u001b[32minduc_{ Nat ; ($bencr : Nat) ↦ rel($bencr) }(allRel(zero))((@a : Nat) ↦ (_ : rel(@a)) ↦ allRel(succ(@a)))\u001b[39m,\n",
       "      \u001b[32m0.8136105259883466\u001b[39m\n",
       "    ),\n",
       "    \u001b[33mWeighted\u001b[39m(\u001b[32minduc_{ Nat ; (_ : Nat) ↦ Nat }(zero)((_ : Nat) ↦ succ)\u001b[39m, \u001b[32m0.03707852791170968\u001b[39m),\n",
       "..."
      ]
     },
     "execution_count": 25,
     "metadata": {},
     "output_type": "execute_result"
    }
   ],
   "source": [
    "val nidT1 = mfd.nodeDist(ts1)(tg.Gen.inducFuncFoldedNode, 0.000005)\n",
    "val nifd1 = nidT1.runSyncUnsafe()"
   ]
  },
  {
   "cell_type": "code",
   "execution_count": 26,
   "metadata": {},
   "outputs": [
    {
     "data": {
      "text/plain": [
       "\u001b[36mres25\u001b[39m: \u001b[32mFiniteDistribution\u001b[39m[\u001b[32mTyp\u001b[39m[\u001b[32mU\u001b[39m] forSome { type \u001b[32mU\u001b[39m >: \u001b[32mx$1\u001b[39m <: \u001b[32mTerm\u001b[39m with \u001b[32mSubs\u001b[39m[\u001b[32mU\u001b[39m]; val \u001b[32mx$1\u001b[39m: \u001b[32mTerm\u001b[39m }] = \u001b[33mFiniteDistribution\u001b[39m(\n",
       "  \u001b[33mVector\u001b[39m(\n",
       "    \u001b[33mWeighted\u001b[39m(\u001b[32m∏(_ : Nat){ rel(zero) }\u001b[39m, \u001b[32m0.03269327959759812\u001b[39m),\n",
       "    \u001b[33mWeighted\u001b[39m(\u001b[32m∏(_ : Nat){ rel(succ(zero)) }\u001b[39m, \u001b[32m0.009367215216334544\u001b[39m),\n",
       "    \u001b[33mWeighted\u001b[39m(\u001b[32m∏($bencr : Nat){ rel($bencr) }\u001b[39m, \u001b[32m0.8136105259883466\u001b[39m),\n",
       "    \u001b[33mWeighted\u001b[39m(\u001b[32m∏(_ : Nat){ Nat }\u001b[39m, \u001b[32m0.11250087767279501\u001b[39m)\n",
       "  )\n",
       ")"
      ]
     },
     "execution_count": 26,
     "metadata": {},
     "output_type": "execute_result"
    }
   ],
   "source": [
    "nifd1.map(_.typ).flatten"
   ]
  },
  {
   "cell_type": "code",
   "execution_count": 27,
   "metadata": {},
   "outputs": [
    {
     "data": {
      "text/plain": [
       "\u001b[36mindF\u001b[39m: \u001b[32mTerm\u001b[39m = \u001b[32m(InducDataSym(zero) : rel(zero)) ↦ (InducDataSym(succ) : ∏($dotbp : Nat){ (rel($dotbp) → rel(succ($dotbp))) }) ↦ induc_{ Nat ; ($dotaf : Nat) ↦ rel($dotaf) }(InducDataSym(zero))(InducDataSym(succ))\u001b[39m"
      ]
     },
     "execution_count": 27,
     "metadata": {},
     "output_type": "execute_result"
    }
   ],
   "source": [
    "val indF = natStr.inducOpt(Nat, n :-> rel(n)).get"
   ]
  },
  {
   "cell_type": "code",
   "execution_count": 28,
   "metadata": {},
   "outputs": [
    {
     "data": {
      "text/plain": [
       "\u001b[36mres27\u001b[39m: \u001b[32mTyp\u001b[39m[\u001b[32mU\u001b[39m] = \u001b[32m(rel(zero) → (∏($dotbp : Nat){ (rel($dotbp) → rel(succ($dotbp))) } → ∏($dotaf : Nat){ rel($dotaf) }))\u001b[39m"
      ]
     },
     "execution_count": 28,
     "metadata": {},
     "output_type": "execute_result"
    }
   ],
   "source": [
    "indF.typ"
   ]
  },
  {
   "cell_type": "code",
   "execution_count": 29,
   "metadata": {},
   "outputs": [
    {
     "data": {
      "text/plain": [
       "\u001b[36mres28\u001b[39m: \u001b[32mFiniteDistribution\u001b[39m[\u001b[32mTerm\u001b[39m] = \u001b[33mFiniteDistribution\u001b[39m(\n",
       "  \u001b[33mVector\u001b[39m(\n",
       "    \u001b[33mWeighted\u001b[39m(\n",
       "      \u001b[32minduc_{ Nat ; ($bencr : Nat) ↦ rel($bencr) }(allRel(zero))((@a : Nat) ↦ (_ : rel(@a)) ↦ allRel(succ(@a)))\u001b[39m,\n",
       "      \u001b[32m0.8136105259883466\u001b[39m\n",
       "    )\n",
       "  )\n",
       ")"
      ]
     },
     "execution_count": 29,
     "metadata": {},
     "output_type": "execute_result"
    }
   ],
   "source": [
    "nifd1.filter(_.typ == n ~>: rel(n))"
   ]
  },
  {
   "cell_type": "code",
   "execution_count": 30,
   "metadata": {},
   "outputs": [
    {
     "data": {
      "text/plain": [
       "\u001b[36mA\u001b[39m: \u001b[32mTyp\u001b[39m[\u001b[32mTerm\u001b[39m] = \u001b[32mA\u001b[39m\n",
       "\u001b[36mList\u001b[39m: \u001b[32mFunc\u001b[39m[\u001b[32mTyp\u001b[39m[\u001b[32mTerm\u001b[39m], \u001b[32mTyp\u001b[39m[\u001b[32mTerm\u001b[39m]] = \u001b[32mList\u001b[39m\n",
       "\u001b[36mnil\u001b[39m: \u001b[32mFuncLike\u001b[39m[\u001b[32mTyp\u001b[39m[\u001b[32mTerm\u001b[39m], \u001b[32mTerm\u001b[39m] = \u001b[32mnil\u001b[39m\n",
       "\u001b[36mcons\u001b[39m: \u001b[32mFuncLike\u001b[39m[\u001b[32mTyp\u001b[39m[\u001b[32mTerm\u001b[39m], \u001b[32mFunc\u001b[39m[\u001b[32mTerm\u001b[39m, \u001b[32mFunc\u001b[39m[\u001b[32mTerm\u001b[39m, \u001b[32mTerm\u001b[39m]]] = \u001b[32mcons\u001b[39m"
      ]
     },
     "execution_count": 30,
     "metadata": {},
     "output_type": "execute_result"
    }
   ],
   "source": [
    "val A = \"A\" :: Type\n",
    "val List = \"List\" :: Type ->: Type\n",
    "val nil = \"nil\" :: (A ~>: List(A))\n",
    "val cons = \"cons\" :: A ~>: (A ->: List(A) ->: List(A))"
   ]
  },
  {
   "cell_type": "code",
   "execution_count": 31,
   "metadata": {},
   "outputs": [
    {
     "data": {
      "text/plain": [
       "\u001b[36mlistAIntros\u001b[39m: \u001b[32mVector\u001b[39m[\u001b[32mTerm\u001b[39m] = \u001b[33mVector\u001b[39m(\u001b[32mnil(A)\u001b[39m, \u001b[32mcons(A)\u001b[39m)\n",
       "\u001b[36mlistAStr\u001b[39m: \u001b[32mExstInducStrucs\u001b[39m = \u001b[33mConsSeqExst\u001b[39m(\n",
       "  \u001b[33mConstructorSeqTL\u001b[39m(\n",
       "    \u001b[33mCons\u001b[39m(\n",
       "      \u001b[32m(nil) (A)\u001b[39m,\n",
       "      IdShape(),\n",
       "      \u001b[33mCons\u001b[39m(\u001b[32m(cons) (A)\u001b[39m, \u001b[33mCnstFuncConsShape\u001b[39m(\u001b[32mA\u001b[39m, \u001b[33mFuncConsShape\u001b[39m(IdIterShape(), IdShape())), Empty())\n",
       "    ),\n",
       "    \u001b[32mList(A)\u001b[39m\n",
       "  ),\n",
       "  \u001b[33mVector\u001b[39m(\u001b[32mnil(A)\u001b[39m, \u001b[32mcons(A)\u001b[39m)\n",
       ")"
      ]
     },
     "execution_count": 31,
     "metadata": {},
     "output_type": "execute_result"
    }
   ],
   "source": [
    "val listAIntros = Vector(nil(A), cons(A))\n",
    "val listAStr = ExstInducStrucs.get(List(A), listAIntros)"
   ]
  },
  {
   "cell_type": "code",
   "execution_count": 32,
   "metadata": {},
   "outputs": [
    {
     "data": {
      "text/plain": [
       "\u001b[36mlistStr\u001b[39m: \u001b[32mExstInducStrucs\u001b[39m.\u001b[32mLambdaInduc\u001b[39m = \u001b[33mLambdaInduc\u001b[39m(\n",
       "  \u001b[32mA\u001b[39m,\n",
       "  \u001b[33mConsSeqExst\u001b[39m(\n",
       "    \u001b[33mConstructorSeqTL\u001b[39m(\n",
       "      \u001b[33mCons\u001b[39m(\n",
       "        \u001b[32m(nil) (A)\u001b[39m,\n",
       "        IdShape(),\n",
       "        \u001b[33mCons\u001b[39m(\u001b[32m(cons) (A)\u001b[39m, \u001b[33mCnstFuncConsShape\u001b[39m(\u001b[32mA\u001b[39m, \u001b[33mFuncConsShape\u001b[39m(IdIterShape(), IdShape())), Empty())\n",
       "      ),\n",
       "      \u001b[32mList(A)\u001b[39m\n",
       "    ),\n",
       "    \u001b[33mVector\u001b[39m(\u001b[32mnil(A)\u001b[39m, \u001b[32mcons(A)\u001b[39m)\n",
       "  )\n",
       ")"
      ]
     },
     "execution_count": 32,
     "metadata": {},
     "output_type": "execute_result"
    }
   ],
   "source": [
    "val listStr = ExstInducStrucs.LambdaInduc(A, listAStr)"
   ]
  },
  {
   "cell_type": "code",
   "execution_count": 33,
   "metadata": {},
   "outputs": [
    {
     "data": {
      "text/plain": [
       "\u001b[36mlistDef\u001b[39m: \u001b[32mExstInducDefn\u001b[39m = \u001b[33mExstInducDefn\u001b[39m(\n",
       "  \u001b[32mList\u001b[39m,\n",
       "  \u001b[33mVector\u001b[39m(\u001b[32mnil\u001b[39m, \u001b[32mcons\u001b[39m),\n",
       "  \u001b[33mLambdaInduc\u001b[39m(\n",
       "    \u001b[32mA\u001b[39m,\n",
       "    \u001b[33mConsSeqExst\u001b[39m(\n",
       "      \u001b[33mConstructorSeqTL\u001b[39m(\n",
       "        \u001b[33mCons\u001b[39m(\n",
       "          \u001b[32m(nil) (A)\u001b[39m,\n",
       "          IdShape(),\n",
       "          \u001b[33mCons\u001b[39m(\u001b[32m(cons) (A)\u001b[39m, \u001b[33mCnstFuncConsShape\u001b[39m(\u001b[32mA\u001b[39m, \u001b[33mFuncConsShape\u001b[39m(IdIterShape(), IdShape())), Empty())\n",
       "        ),\n",
       "        \u001b[32mList(A)\u001b[39m\n",
       "      ),\n",
       "      \u001b[33mVector\u001b[39m(\u001b[32mnil(A)\u001b[39m, \u001b[32mcons(A)\u001b[39m)\n",
       "    )\n",
       "  ),\n",
       "  \u001b[33mVector\u001b[39m()\n",
       ")"
      ]
     },
     "execution_count": 33,
     "metadata": {},
     "output_type": "execute_result"
    }
   ],
   "source": [
    "val listDef = ExstInducDefn(List, Vector(nil, cons) ,listStr, Vector())"
   ]
  },
  {
   "cell_type": "code",
   "execution_count": 34,
   "metadata": {},
   "outputs": [
    {
     "data": {
      "text/plain": [
       "\u001b[36mtsL\u001b[39m: \u001b[32mTermState\u001b[39m = \u001b[33mTermState\u001b[39m(\n",
       "  \u001b[33mFiniteDistribution\u001b[39m(\n",
       "    \u001b[33mVector\u001b[39m(\n",
       "      \u001b[33mWeighted\u001b[39m(\u001b[32mnil\u001b[39m, \u001b[32m0.16666666666666666\u001b[39m),\n",
       "      \u001b[33mWeighted\u001b[39m(\u001b[32mzero\u001b[39m, \u001b[32m0.16666666666666666\u001b[39m),\n",
       "      \u001b[33mWeighted\u001b[39m(\u001b[32mcons\u001b[39m, \u001b[32m0.16666666666666666\u001b[39m),\n",
       "      \u001b[33mWeighted\u001b[39m(\u001b[32mNat\u001b[39m, \u001b[32m0.16666666666666666\u001b[39m),\n",
       "      \u001b[33mWeighted\u001b[39m(\u001b[32mList\u001b[39m, \u001b[32m0.16666666666666666\u001b[39m),\n",
       "      \u001b[33mWeighted\u001b[39m(\u001b[32msucc\u001b[39m, \u001b[32m0.16666666666666666\u001b[39m)\n",
       "    )\n",
       "  ),\n",
       "  \u001b[33mFiniteDistribution\u001b[39m(\u001b[33mVector\u001b[39m(\u001b[33mWeighted\u001b[39m(\u001b[32mNat\u001b[39m, \u001b[32m0.5\u001b[39m), \u001b[33mWeighted\u001b[39m(\u001b[32m𝒰 \u001b[39m, \u001b[32m0.5\u001b[39m))),\n",
       "  \u001b[33mVector\u001b[39m(),\n",
       "  \u001b[33mFiniteDistribution\u001b[39m(\n",
       "    \u001b[33mVector\u001b[39m(\n",
       "      \u001b[33mWeighted\u001b[39m(\n",
       "        \u001b[33mExstInducDefn\u001b[39m(\n",
       "          \u001b[32mNat\u001b[39m,\n",
       "          \u001b[33mVector\u001b[39m(\u001b[32mzero\u001b[39m, \u001b[32msucc\u001b[39m),\n",
       "          \u001b[33mConsSeqExst\u001b[39m(\n",
       "            \u001b[33mConstructorSeqTL\u001b[39m(\n",
       "              \u001b[33mCons\u001b[39m(\u001b[32mzero\u001b[39m, IdShape(), \u001b[33mCons\u001b[39m(\u001b[32msucc\u001b[39m, \u001b[33mFuncConsShape\u001b[39m(IdIterShape(), IdShape()), Empty())),\n",
       "              \u001b[32mNat\u001b[39m\n",
       "            ),\n",
       "            \u001b[33mVector\u001b[39m(\u001b[32mzero\u001b[39m, \u001b[32msucc\u001b[39m)\n",
       "          ),\n",
       "          \u001b[33mVector\u001b[39m()\n",
       "        ),\n",
       "        \u001b[32m0.5\u001b[39m\n",
       "      ),\n",
       "      \u001b[33mWeighted\u001b[39m(\n",
       "        \u001b[33mExstInducDefn\u001b[39m(\n",
       "          \u001b[32mList\u001b[39m,\n",
       "          \u001b[33mVector\u001b[39m(\u001b[32mnil\u001b[39m, \u001b[32mcons\u001b[39m),\n",
       "          \u001b[33mLambdaInduc\u001b[39m(\n",
       "            \u001b[32mA\u001b[39m,\n",
       "            \u001b[33mConsSeqExst\u001b[39m(\n",
       "              \u001b[33mConstructorSeqTL\u001b[39m(\n",
       "                \u001b[33mCons\u001b[39m(\n",
       "                  \u001b[32m(nil) (A)\u001b[39m,\n",
       "                  IdShape(),\n",
       "                  \u001b[33mCons\u001b[39m(\n",
       "                    \u001b[32m(cons) (A)\u001b[39m,\n",
       "                    \u001b[33mCnstFuncConsShape\u001b[39m(\u001b[32mA\u001b[39m, \u001b[33mFuncConsShape\u001b[39m(IdIterShape(), IdShape())),\n",
       "                    Empty()\n",
       "                  )\n",
       "                ),\n",
       "                \u001b[32mList(A)\u001b[39m\n",
       "              ),\n",
       "..."
      ]
     },
     "execution_count": 34,
     "metadata": {},
     "output_type": "execute_result"
    }
   ],
   "source": [
    "val tsL = TermState(FD.unif(Nat, zero, succ, List, nil, cons), FD.unif(Nat, Type), inds = FD.unif(natDef, listDef))"
   ]
  },
  {
   "cell_type": "code",
   "execution_count": 35,
   "metadata": {},
   "outputs": [
    {
     "data": {
      "text/plain": [
       "\u001b[36mdomLT\u001b[39m: \u001b[32mmonix\u001b[39m.\u001b[32meval\u001b[39m.\u001b[32mTask\u001b[39m[\u001b[32mFiniteDistribution\u001b[39m[\u001b[32mTerm\u001b[39m]] = \u001b[33mFlatMap\u001b[39m(\n",
       "  \u001b[33mAsync\u001b[39m(<function2>, true, true, true),\n",
       "  monix.eval.Task$$Lambda$3753/120127494@51fb2e61\n",
       ")"
      ]
     },
     "execution_count": 35,
     "metadata": {},
     "output_type": "execute_result"
    }
   ],
   "source": [
    "val domLT = mfd.varDist(ts)(domForInduc(listDef), 0.00001)"
   ]
  },
  {
   "cell_type": "code",
   "execution_count": 36,
   "metadata": {},
   "outputs": [
    {
     "data": {
      "text/plain": [
       "\u001b[36mdomLD\u001b[39m: \u001b[32mFiniteDistribution\u001b[39m[\u001b[32mTerm\u001b[39m] = \u001b[33mFiniteDistribution\u001b[39m(\n",
       "  \u001b[33mVector\u001b[39m(\u001b[33mWeighted\u001b[39m(\u001b[32mList((Nat → Nat))\u001b[39m, \u001b[32m9.567012510526363E-4\u001b[39m), \u001b[33mWeighted\u001b[39m(\u001b[32mList(Nat)\u001b[39m, \u001b[32m0.9990432987489474\u001b[39m))\n",
       ")"
      ]
     },
     "execution_count": 36,
     "metadata": {},
     "output_type": "execute_result"
    }
   ],
   "source": [
    "val domLD = domLT.runSyncUnsafe()"
   ]
  },
  {
   "cell_type": "code",
   "execution_count": 37,
   "metadata": {},
   "outputs": [
    {
     "data": {
      "text/plain": [
       "\u001b[36mndLT\u001b[39m: \u001b[32mmonix\u001b[39m.\u001b[32meval\u001b[39m.\u001b[32mTask\u001b[39m[\u001b[32mFiniteDistribution\u001b[39m[\u001b[32mTerm\u001b[39m]] = \u001b[33mFlatMap\u001b[39m(\n",
       "  \u001b[33mMap\u001b[39m(\n",
       "    \u001b[33mFlatMap\u001b[39m(\u001b[33mAsync\u001b[39m(<function2>, true, true, true), monix.eval.Task$$Lambda$3753/120127494@3717be80),\n",
       "    provingground.learning.MonixFiniteDistribution$$Lambda$3857/1282319266@53d78809,\n",
       "    \u001b[32m0\u001b[39m\n",
       "  ),\n",
       "  provingground.learning.MonixFiniteDistribution$$Lambda$3858/1919529312@4475e532\n",
       ")"
      ]
     },
     "execution_count": 37,
     "metadata": {},
     "output_type": "execute_result"
    }
   ],
   "source": [
    "val ndLT = mfd.nodeDist(tsL)(tg.Gen.recFuncFoldedNode, 0.0001)"
   ]
  },
  {
   "cell_type": "code",
   "execution_count": 38,
   "metadata": {},
   "outputs": [
    {
     "data": {
      "text/plain": [
       "\u001b[36mndLD\u001b[39m: \u001b[32mFiniteDistribution\u001b[39m[\u001b[32mTerm\u001b[39m] = \u001b[33mFiniteDistribution\u001b[39m(\n",
       "  \u001b[33mVector\u001b[39m(\n",
       "    \u001b[33mWeighted\u001b[39m(\n",
       "      \u001b[32mrec_{ List(List(List(Nat))) ; 𝒰  }(List(Nat))((_ : List(List(Nat))) ↦ (_ : List(List(List(Nat)))) ↦ (@a : 𝒰 ) ↦ @a)\u001b[39m,\n",
       "      \u001b[32m0.011876025054261429\u001b[39m\n",
       "    ),\n",
       "    \u001b[33mWeighted\u001b[39m(\n",
       "      \u001b[32mrec_{ List(Nat) ; 𝒰  }(List(Nat))((_ : Nat) ↦ (_ : List(Nat)) ↦ List)\u001b[39m,\n",
       "      \u001b[32m0.024838099482446346\u001b[39m\n",
       "    ),\n",
       "    \u001b[33mWeighted\u001b[39m(\n",
       "      \u001b[32mrec_{ List(List(Nat)) ; Nat }(zero)((_ : List(Nat)) ↦ (_ : List(List(Nat))) ↦ (@a : Nat) ↦ @a)\u001b[39m,\n",
       "      \u001b[32m0.005371146116496761\u001b[39m\n",
       "    ),\n",
       "    \u001b[33mWeighted\u001b[39m(\n",
       "      \u001b[32mrec_{ List(List(List(Nat))) ; 𝒰  }(Nat)((_ : List(List(Nat))) ↦ (_ : List(List(List(Nat)))) ↦ List)\u001b[39m,\n",
       "      \u001b[32m0.004713022535422637\u001b[39m\n",
       "    ),\n",
       "    \u001b[33mWeighted\u001b[39m(\n",
       "      \u001b[32mrec_{ List(List(List(Nat))) ; Nat }(zero)((_ : List(List(Nat))) ↦ (_ : List(List(List(Nat)))) ↦ succ)\u001b[39m,\n",
       "      \u001b[32m0.004713022535422637\u001b[39m\n",
       "    ),\n",
       "    \u001b[33mWeighted\u001b[39m(\u001b[32mrec_{ List(Nat) ; 𝒰  }(Nat)((_ : Nat) ↦ (_ : List(Nat)) ↦ List)\u001b[39m, \u001b[32m0.008279366494148782\u001b[39m),\n",
       "    \u001b[33mWeighted\u001b[39m(\n",
       "      \u001b[32mrec_{ List(Nat) ; Nat }(succ(zero))((@a : Nat) ↦ (_ : List(Nat)) ↦ (_ : Nat) ↦ succ(@a))\u001b[39m,\n",
       "      \u001b[32m0.002517136577673004\u001b[39m\n",
       "    ),\n",
       "    \u001b[33mWeighted\u001b[39m(\n",
       "      \u001b[32mrec_{ List(Nat) ; Nat }(succ(zero))((_ : Nat) ↦ (_ : List(Nat)) ↦ (@b : Nat) ↦ succ(@b))\u001b[39m,\n",
       "      \u001b[32m0.013770049872190753\u001b[39m\n",
       "    ),\n",
       "    \u001b[33mWeighted\u001b[39m(\n",
       "      \u001b[32mrec_{ List(List(List(Nat))) ; 𝒰  }(Nat)((_ : List(List(Nat))) ↦ (_ : List(List(List(Nat)))) ↦ (_ : 𝒰 ) ↦ Nat)\u001b[39m,\n",
       "      \u001b[32m7.543475173354943E-4\u001b[39m\n",
       "    ),\n",
       "    \u001b[33mWeighted\u001b[39m(\n",
       "      \u001b[32mrec_{ List(Nat) ; Nat }(succ(zero))((_ : Nat) ↦ (_ : List(Nat)) ↦ succ)\u001b[39m,\n",
       "      \u001b[32m0.02492022289823205\u001b[39m\n",
       "    ),\n",
       "    \u001b[33mWeighted\u001b[39m(\n",
       "      \u001b[32mrec_{ List(List(Nat)) ; Nat }(succ(zero))((_ : List(Nat)) ↦ (_ : List(List(Nat))) ↦ succ)\u001b[39m,\n",
       "      \u001b[32m0.019183943546087597\u001b[39m\n",
       "    ),\n",
       "..."
      ]
     },
     "execution_count": 38,
     "metadata": {},
     "output_type": "execute_result"
    }
   ],
   "source": [
    "val ndLD = ndLT.runSyncUnsafe()"
   ]
  },
  {
   "cell_type": "code",
   "execution_count": 39,
   "metadata": {},
   "outputs": [
    {
     "data": {
      "text/plain": [
       "\u001b[36mres38\u001b[39m: \u001b[32mFiniteDistribution\u001b[39m[\u001b[32mTyp\u001b[39m[\u001b[32mU\u001b[39m] forSome { type \u001b[32mU\u001b[39m >: \u001b[32mx$1\u001b[39m <: \u001b[32mTerm\u001b[39m with \u001b[32mSubs\u001b[39m[\u001b[32mU\u001b[39m]; val \u001b[32mx$1\u001b[39m: \u001b[32mTerm\u001b[39m }] = \u001b[33mFiniteDistribution\u001b[39m(\n",
       "  \u001b[33mVector\u001b[39m(\n",
       "    \u001b[33mWeighted\u001b[39m(\u001b[32m(Nat → (List(Nat) → Nat))\u001b[39m, \u001b[32m0.0038234979779664816\u001b[39m),\n",
       "    \u001b[33mWeighted\u001b[39m(\u001b[32m(Nat → (𝒰  → Nat))\u001b[39m, \u001b[32m0.003355421330769112\u001b[39m),\n",
       "    \u001b[33mWeighted\u001b[39m(\u001b[32m(List(Nat) → List(Nat))\u001b[39m, \u001b[32m0.022873118360534392\u001b[39m),\n",
       "    \u001b[33mWeighted\u001b[39m(\u001b[32m(List(List(Nat)) → List(Nat))\u001b[39m, \u001b[32m0.02209525361376903\u001b[39m),\n",
       "    \u001b[33mWeighted\u001b[39m(\u001b[32m(List(List(List(Nat))) → List(Nat))\u001b[39m, \u001b[32m0.0167018088689114\u001b[39m),\n",
       "    \u001b[33mWeighted\u001b[39m(\u001b[32m(Nat → List(Nat))\u001b[39m, \u001b[32m0.05340219573467698\u001b[39m),\n",
       "    \u001b[33mWeighted\u001b[39m(\u001b[32m(List(List(Nat)) → Nat)\u001b[39m, \u001b[32m0.05115718278956693\u001b[39m),\n",
       "    \u001b[33mWeighted\u001b[39m(\u001b[32m(List(List(List(Nat))) → Nat)\u001b[39m, \u001b[32m0.0377041802833811\u001b[39m),\n",
       "    \u001b[33mWeighted\u001b[39m(\u001b[32m(List(Nat) → Nat)\u001b[39m, \u001b[32m0.0664539277286188\u001b[39m),\n",
       "    \u001b[33mWeighted\u001b[39m(\u001b[32m(Nat → Nat)\u001b[39m, \u001b[32m0.15430368002512065\u001b[39m),\n",
       "    \u001b[33mWeighted\u001b[39m(\u001b[32m(List(List(List(Nat))) → 𝒰 )\u001b[39m, \u001b[32m0.03770418028338109\u001b[39m),\n",
       "    \u001b[33mWeighted\u001b[39m(\u001b[32m(List(Nat) → 𝒰 )\u001b[39m, \u001b[32m0.06623493195319026\u001b[39m),\n",
       "    \u001b[33mWeighted\u001b[39m(\u001b[32m(List(List(Nat)) → 𝒰 )\u001b[39m, \u001b[32m0.050963433793644444\u001b[39m),\n",
       "    \u001b[33mWeighted\u001b[39m(\u001b[32m(Nat → 𝒰 )\u001b[39m, \u001b[32m0.1538045651997658\u001b[39m),\n",
       "    \u001b[33mWeighted\u001b[39m(\u001b[32m(Nat → (List(Nat) → List(Nat)))\u001b[39m, \u001b[32m0.0031862483149720684\u001b[39m),\n",
       "    \u001b[33mWeighted\u001b[39m(\u001b[32m(Nat → (Nat → 𝒰 ))\u001b[39m, \u001b[32m0.004553786091758079\u001b[39m),\n",
       "    \u001b[33mWeighted\u001b[39m(\u001b[32m(Nat → (List(Nat) → 𝒰 ))\u001b[39m, \u001b[32m0.0038234979779664816\u001b[39m),\n",
       "    \u001b[33mWeighted\u001b[39m(\u001b[32m(Nat → ∏(@a : 𝒰 ){ List(@a) })\u001b[39m, \u001b[32m0.0028760754263735255\u001b[39m)\n",
       "  )\n",
       ")"
      ]
     },
     "execution_count": 39,
     "metadata": {},
     "output_type": "execute_result"
    }
   ],
   "source": [
    "ndLD.map(_.typ).flatten"
   ]
  },
  {
   "cell_type": "code",
   "execution_count": 40,
   "metadata": {},
   "outputs": [
    {
     "data": {
      "text/plain": [
       "\u001b[36mres39\u001b[39m: \u001b[32mInt\u001b[39m = \u001b[32m93\u001b[39m"
      ]
     },
     "execution_count": 40,
     "metadata": {},
     "output_type": "execute_result"
    }
   ],
   "source": [
    "ndLD.support.size"
   ]
  },
  {
   "cell_type": "code",
   "execution_count": 41,
   "metadata": {},
   "outputs": [
    {
     "data": {
      "text/plain": [
       "\u001b[36mfns\u001b[39m: \u001b[32mMap\u001b[39m[\u001b[32mTyp\u001b[39m[\u001b[32mU\u001b[39m] forSome { type \u001b[32mU\u001b[39m >: \u001b[32mx$1\u001b[39m <: \u001b[32mTerm\u001b[39m with \u001b[32mSubs\u001b[39m[\u001b[32mU\u001b[39m]; val \u001b[32mx$1\u001b[39m: \u001b[32mTerm\u001b[39m }, \u001b[32mSet\u001b[39m[\u001b[32mTerm\u001b[39m]] = \u001b[33mMap\u001b[39m(\n",
       "  \u001b[32m(Nat → (List(Nat) → Nat))\u001b[39m -> \u001b[33mSet\u001b[39m(\n",
       "    \u001b[32mrec_{ Nat ; (List(Nat) → Nat) }((_ : List(Nat)) ↦ zero)((_ : Nat) ↦ (@a : (List(Nat) → Nat)) ↦ @a)\u001b[39m\n",
       "  ),\n",
       "  \u001b[32m(Nat → (𝒰  → Nat))\u001b[39m -> \u001b[33mSet\u001b[39m(\n",
       "    \u001b[32mrec_{ Nat ; (𝒰  → Nat) }((_ : 𝒰 ) ↦ zero)((_ : Nat) ↦ (@a : (𝒰  → Nat)) ↦ @a)\u001b[39m\n",
       "  ),\n",
       "  \u001b[32m(List(List(List(Nat))) → List(Nat))\u001b[39m -> \u001b[33mSet\u001b[39m(\n",
       "    \u001b[32mrec_{ List(List(List(Nat))) ; List(Nat) }(nil(Nat))((_ : List(List(Nat))) ↦ (_ : List(List(List(Nat)))) ↦ (@a : List(Nat)) ↦ @a)\u001b[39m\n",
       "  ),\n",
       "  \u001b[32m(List(List(Nat)) → List(Nat))\u001b[39m -> \u001b[33mSet\u001b[39m(\n",
       "    \u001b[32mrec_{ List(List(Nat)) ; List(Nat) }(nil(Nat))((@a : List(Nat)) ↦ (_ : List(List(Nat))) ↦ (_ : List(Nat)) ↦ @a)\u001b[39m,\n",
       "    \u001b[32mrec_{ List(List(Nat)) ; List(Nat) }(nil(Nat))((_ : List(Nat)) ↦ (_ : List(List(Nat))) ↦ (@b : List(Nat)) ↦ @b)\u001b[39m\n",
       "  ),\n",
       "  \u001b[32m(Nat → List(Nat))\u001b[39m -> \u001b[33mSet\u001b[39m(\n",
       "    \u001b[32mrec_{ Nat ; List(Nat) }(nil(Nat))((@a : Nat) ↦ cons(Nat)(@a))\u001b[39m,\n",
       "    \u001b[32mrec_{ Nat ; List(Nat) }(nil(Nat))(cons(Nat))\u001b[39m,\n",
       "    \u001b[32mrec_{ Nat ; List(Nat) }(nil(Nat))((_ : Nat) ↦ cons(Nat)(zero))\u001b[39m,\n",
       "    \u001b[32mrec_{ Nat ; List(Nat) }(nil(Nat))((_ : Nat) ↦ (@a : List(Nat)) ↦ @a)\u001b[39m,\n",
       "    \u001b[32mrec_{ Nat ; List(Nat) }(nil(Nat))((_ : Nat) ↦ (_ : List(Nat)) ↦ nil(Nat))\u001b[39m\n",
       "  ),\n",
       "  \u001b[32m(List(Nat) → List(Nat))\u001b[39m -> \u001b[33mSet\u001b[39m(\n",
       "    \u001b[32mrec_{ List(Nat) ; List(Nat) }(nil(Nat))((_ : Nat) ↦ (@a : List(Nat)) ↦ (_ : List(Nat)) ↦ @a)\u001b[39m,\n",
       "    \u001b[32mrec_{ List(Nat) ; List(Nat) }(nil(Nat))((_ : Nat) ↦ (_ : List(Nat)) ↦ (@b : List(Nat)) ↦ @b)\u001b[39m\n",
       "  ),\n",
       "  \u001b[32m(Nat → Nat)\u001b[39m -> \u001b[33mSet\u001b[39m(\n",
       "    \u001b[32mrec_{ Nat ; Nat }(succ(zero))((_ : Nat) ↦ (_ : Nat) ↦ zero)\u001b[39m,\n",
       "    \u001b[32mrec_{ Nat ; Nat }(succ(succ(zero)))((_ : Nat) ↦ (_ : Nat) ↦ zero)\u001b[39m,\n",
       "    \u001b[32mrec_{ Nat ; Nat }(succ(zero))((_ : Nat) ↦ succ)\u001b[39m,\n",
       "    \u001b[32mrec_{ Nat ; Nat }(succ(succ(zero)))((_ : Nat) ↦ (@b : Nat) ↦ @b)\u001b[39m,\n",
       "    \u001b[32mrec_{ Nat ; Nat }(succ(succ(zero)))((@a : Nat) ↦ (_ : Nat) ↦ @a)\u001b[39m,\n",
       "    \u001b[32mrec_{ Nat ; Nat }(zero)((@a : Nat) ↦ (_ : Nat) ↦ @a)\u001b[39m,\n",
       "    \u001b[32mrec_{ Nat ; Nat }(zero)((_ : Nat) ↦ (@b : Nat) ↦ @b)\u001b[39m,\n",
       "    \u001b[32mrec_{ Nat ; Nat }(succ(zero))((_ : Nat) ↦ (_ : Nat) ↦ succ(zero))\u001b[39m,\n",
       "    \u001b[32mrec_{ Nat ; Nat }(zero)((_ : Nat) ↦ (@b : Nat) ↦ succ(@b))\u001b[39m,\n",
       "    \u001b[32mrec_{ Nat ; Nat }(zero)((@a : Nat) ↦ (_ : Nat) ↦ succ(@a))\u001b[39m,\n",
       "    \u001b[32mrec_{ Nat ; Nat }(succ(zero))((@a : Nat) ↦ (_ : Nat) ↦ @a)\u001b[39m,\n",
       "    \u001b[32mrec_{ Nat ; Nat }(succ(zero))((_ : Nat) ↦ (@b : Nat) ↦ @b)\u001b[39m,\n",
       "    \u001b[32mrec_{ Nat ; Nat }(succ(zero))((_ : Nat) ↦ (@b : Nat) ↦ succ(@b))\u001b[39m,\n",
       "    \u001b[32mrec_{ Nat ; Nat }(succ(zero))((@a : Nat) ↦ (_ : Nat) ↦ succ(@a))\u001b[39m,\n",
       "    \u001b[32mrec_{ Nat ; Nat }(zero)((_ : Nat) ↦ succ)\u001b[39m,\n",
       "    \u001b[32mrec_{ Nat ; Nat }(zero)((_ : Nat) ↦ (_ : Nat) ↦ zero)\u001b[39m,\n",
       "    \u001b[32mrec_{ Nat ; Nat }(zero)((_ : Nat) ↦ (_ : Nat) ↦ succ(zero))\u001b[39m,\n",
       "    \u001b[32mrec_{ Nat ; Nat }(succ(succ(zero)))((_ : Nat) ↦ succ)\u001b[39m,\n",
       "    \u001b[32mrec_{ Nat ; Nat }(succ(succ(zero)))((_ : Nat) ↦ (@b : Nat) ↦ succ(@b))\u001b[39m,\n",
       "..."
      ]
     },
     "execution_count": 41,
     "metadata": {},
     "output_type": "execute_result"
    }
   ],
   "source": [
    "val fns = ndLD.support.groupBy(_.typ)"
   ]
  },
  {
   "cell_type": "code",
   "execution_count": 42,
   "metadata": {},
   "outputs": [
    {
     "data": {
      "text/plain": [
       "\u001b[36mlToL\u001b[39m: \u001b[32mSet\u001b[39m[\u001b[32mTerm\u001b[39m] = \u001b[33mSet\u001b[39m(\n",
       "  \u001b[32mrec_{ List(Nat) ; List(Nat) }(nil(Nat))((_ : Nat) ↦ (@a : List(Nat)) ↦ (_ : List(Nat)) ↦ @a)\u001b[39m,\n",
       "  \u001b[32mrec_{ List(Nat) ; List(Nat) }(nil(Nat))((_ : Nat) ↦ (_ : List(Nat)) ↦ (@b : List(Nat)) ↦ @b)\u001b[39m\n",
       ")"
      ]
     },
     "execution_count": 42,
     "metadata": {},
     "output_type": "execute_result"
    }
   ],
   "source": [
    "val lToL = fns(List(Nat) ->: List(Nat))"
   ]
  },
  {
   "cell_type": "code",
   "execution_count": 43,
   "metadata": {},
   "outputs": [
    {
     "data": {
      "text/plain": [
       "\u001b[36mres42_0\u001b[39m: \u001b[32mTyp\u001b[39m[\u001b[32mU\u001b[39m] = \u001b[32mList(Nat)\u001b[39m\n",
       "\u001b[36mres42_1\u001b[39m: \u001b[32mTyp\u001b[39m[\u001b[32mFunc\u001b[39m[\u001b[32mTerm\u001b[39m, \u001b[32mFunc\u001b[39m[\u001b[32mTerm\u001b[39m, \u001b[32mTerm\u001b[39m]]] = \u001b[32m(Nat → (List(Nat) → List(Nat)))\u001b[39m"
      ]
     },
     "execution_count": 43,
     "metadata": {},
     "output_type": "execute_result"
    }
   ],
   "source": [
    "nil(Nat).typ\n",
    "cons(Nat).typ"
   ]
  },
  {
   "cell_type": "code",
   "execution_count": 44,
   "metadata": {},
   "outputs": [
    {
     "data": {
      "text/plain": [
       "\u001b[36ml0\u001b[39m: \u001b[32mTerm\u001b[39m = \u001b[32mcons(Nat)(zero)(nil(Nat))\u001b[39m"
      ]
     },
     "execution_count": 44,
     "metadata": {},
     "output_type": "execute_result"
    }
   ],
   "source": [
    "val l0 = cons(Nat)(zero)(nil(Nat))"
   ]
  },
  {
   "cell_type": "code",
   "execution_count": 45,
   "metadata": {},
   "outputs": [
    {
     "data": {
      "text/plain": [
       "\u001b[36ml1\u001b[39m: \u001b[32mTerm\u001b[39m = \u001b[32mcons(Nat)(succ(zero))(cons(Nat)(zero)(nil(Nat)))\u001b[39m"
      ]
     },
     "execution_count": 45,
     "metadata": {},
     "output_type": "execute_result"
    }
   ],
   "source": [
    "val l1 = cons(Nat)(succ(zero))(l0)"
   ]
  },
  {
   "cell_type": "code",
   "execution_count": 46,
   "metadata": {},
   "outputs": [
    {
     "data": {
      "text/plain": [
       "\u001b[32mimport \u001b[39m\u001b[36mFold._\n",
       "\u001b[39m\n",
       "\u001b[36mres45_1\u001b[39m: \u001b[32mSet\u001b[39m[\u001b[32mTerm\u001b[39m] = \u001b[33mSet\u001b[39m(\u001b[32mnil(Nat)\u001b[39m, \u001b[32mcons(Nat)(zero)(nil(Nat))\u001b[39m)"
      ]
     },
     "execution_count": 46,
     "metadata": {},
     "output_type": "execute_result"
    }
   ],
   "source": [
    "import Fold._\n",
    "lToL.map(fn => fn(l1))"
   ]
  },
  {
   "cell_type": "code",
   "execution_count": null,
   "metadata": {},
   "outputs": [],
   "source": []
  }
 ],
 "metadata": {
  "kernelspec": {
   "display_name": "Scala",
   "language": "scala",
   "name": "scala"
  },
  "language_info": {
   "codemirror_mode": "text/x-scala",
   "file_extension": ".scala",
   "mimetype": "text/x-scala",
   "name": "scala",
   "nbconvert_exporter": "script",
   "version": "2.12.8"
  }
 },
 "nbformat": 4,
 "nbformat_minor": 2
}
