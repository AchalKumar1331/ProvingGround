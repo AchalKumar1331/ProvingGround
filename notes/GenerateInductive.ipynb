{
 "cells": [
  {
   "cell_type": "markdown",
   "metadata": {},
   "source": [
    "## Testing generation of inductive functions for non-parametrized, non-inductive definitions\n",
    "\n",
    "We directly test the nodes for generating terms by recursive and inductive definitions on natural numbers, obtained by choosing codomain/target family and filling in recursion data."
   ]
  },
  {
   "cell_type": "code",
   "execution_count": 1,
   "metadata": {},
   "outputs": [
    {
     "data": {
      "text/plain": [
       "\u001b[32mimport \u001b[39m\u001b[36m$ivy.$                                       \u001b[39m"
      ]
     },
     "execution_count": 1,
     "metadata": {},
     "output_type": "execute_result"
    }
   ],
   "source": [
    "import $ivy.`io.github.siddhartha-gadgil::core-jvm:0.1.0`"
   ]
  },
  {
   "cell_type": "code",
   "execution_count": 2,
   "metadata": {},
   "outputs": [
    {
     "data": {
      "text/plain": [
       "\u001b[32mimport \u001b[39m\u001b[36mprovingground._ , interface._, HoTT._\n",
       "\u001b[39m\n",
       "\u001b[32mimport \u001b[39m\u001b[36mprovingground.{FiniteDistribution => FD}\n",
       "\u001b[39m\n",
       "\u001b[32mimport \u001b[39m\u001b[36mlearning._\u001b[39m"
      ]
     },
     "execution_count": 2,
     "metadata": {},
     "output_type": "execute_result"
    }
   ],
   "source": [
    "import provingground._ , interface._, HoTT._\n",
    "import provingground.{FiniteDistribution => FD}\n",
    "import learning._"
   ]
  },
  {
   "cell_type": "markdown",
   "metadata": {},
   "source": [
    "We define the inductive structure on the natural numbers."
   ]
  },
  {
   "cell_type": "code",
   "execution_count": 3,
   "metadata": {},
   "outputs": [
    {
     "data": {
      "text/plain": [
       "\u001b[36mNat\u001b[39m: \u001b[32mTyp\u001b[39m[\u001b[32mTerm\u001b[39m] = \u001b[33mSymbTyp\u001b[39m(\u001b[33mName\u001b[39m(\u001b[32m\"Nat\"\u001b[39m), \u001b[32m0\u001b[39m)\n",
       "\u001b[36mzero\u001b[39m: \u001b[32mTerm\u001b[39m = \u001b[33mSymbObj\u001b[39m(\u001b[33mName\u001b[39m(\u001b[32m\"zero\"\u001b[39m), \u001b[33mSymbTyp\u001b[39m(\u001b[33mName\u001b[39m(\u001b[32m\"Nat\"\u001b[39m), \u001b[32m0\u001b[39m))\n",
       "\u001b[36msucc\u001b[39m: \u001b[32mFunc\u001b[39m[\u001b[32mTerm\u001b[39m, \u001b[32mTerm\u001b[39m] = \u001b[33mSymbolicFunc\u001b[39m(\n",
       "  \u001b[33mName\u001b[39m(\u001b[32m\"succ\"\u001b[39m),\n",
       "  \u001b[33mSymbTyp\u001b[39m(\u001b[33mName\u001b[39m(\u001b[32m\"Nat\"\u001b[39m), \u001b[32m0\u001b[39m),\n",
       "  \u001b[33mSymbTyp\u001b[39m(\u001b[33mName\u001b[39m(\u001b[32m\"Nat\"\u001b[39m), \u001b[32m0\u001b[39m)\n",
       ")\n",
       "\u001b[36mnatIntros\u001b[39m: \u001b[32mVector\u001b[39m[\u001b[32mTerm\u001b[39m] = \u001b[33mVector\u001b[39m(\n",
       "  \u001b[33mSymbObj\u001b[39m(\u001b[33mName\u001b[39m(\u001b[32m\"zero\"\u001b[39m), \u001b[33mSymbTyp\u001b[39m(\u001b[33mName\u001b[39m(\u001b[32m\"Nat\"\u001b[39m), \u001b[32m0\u001b[39m)),\n",
       "  \u001b[33mSymbolicFunc\u001b[39m(\u001b[33mName\u001b[39m(\u001b[32m\"succ\"\u001b[39m), \u001b[33mSymbTyp\u001b[39m(\u001b[33mName\u001b[39m(\u001b[32m\"Nat\"\u001b[39m), \u001b[32m0\u001b[39m), \u001b[33mSymbTyp\u001b[39m(\u001b[33mName\u001b[39m(\u001b[32m\"Nat\"\u001b[39m), \u001b[32m0\u001b[39m))\n",
       ")"
      ]
     },
     "execution_count": 3,
     "metadata": {},
     "output_type": "execute_result"
    }
   ],
   "source": [
    "val Nat = Type.sym\n",
    "val zero = Nat.sym\n",
    "val succ = (Nat ->: Nat).sym\n",
    "val natIntros = Vector(zero, succ)"
   ]
  },
  {
   "cell_type": "code",
   "execution_count": 4,
   "metadata": {},
   "outputs": [
    {
     "data": {
      "text/plain": [
       "\u001b[32mimport \u001b[39m\u001b[36minduction._\n",
       "\u001b[39m\n",
       "\u001b[36mnatStr\u001b[39m: \u001b[32mExstInducStrucs\u001b[39m = \u001b[33mConsSeqExst\u001b[39m(\n",
       "  \u001b[33mConstructorSeqTL\u001b[39m(\n",
       "    \u001b[33mCons\u001b[39m(\n",
       "      \u001b[33mName\u001b[39m(\u001b[32m\"zero\"\u001b[39m),\n",
       "      IdShape(),\n",
       "      \u001b[33mCons\u001b[39m(\u001b[33mName\u001b[39m(\u001b[32m\"succ\"\u001b[39m), \u001b[33mFuncConsShape\u001b[39m(IdIterShape(), IdShape()), Empty())\n",
       "    ),\n",
       "    \u001b[33mSymbTyp\u001b[39m(\u001b[33mName\u001b[39m(\u001b[32m\"Nat\"\u001b[39m), \u001b[32m0\u001b[39m)\n",
       "  ),\n",
       "  \u001b[33mVector\u001b[39m(\n",
       "    \u001b[33mSymbObj\u001b[39m(\u001b[33mName\u001b[39m(\u001b[32m\"zero\"\u001b[39m), \u001b[33mSymbTyp\u001b[39m(\u001b[33mName\u001b[39m(\u001b[32m\"Nat\"\u001b[39m), \u001b[32m0\u001b[39m)),\n",
       "    \u001b[33mSymbolicFunc\u001b[39m(\u001b[33mName\u001b[39m(\u001b[32m\"succ\"\u001b[39m), \u001b[33mSymbTyp\u001b[39m(\u001b[33mName\u001b[39m(\u001b[32m\"Nat\"\u001b[39m), \u001b[32m0\u001b[39m), \u001b[33mSymbTyp\u001b[39m(\u001b[33mName\u001b[39m(\u001b[32m\"Nat\"\u001b[39m), \u001b[32m0\u001b[39m))\n",
       "  )\n",
       ")"
      ]
     },
     "execution_count": 4,
     "metadata": {},
     "output_type": "execute_result"
    }
   ],
   "source": [
    "import induction._\n",
    "val natStr = provingground.induction.ExstInducStrucs.get(Nat, natIntros)"
   ]
  },
  {
   "cell_type": "code",
   "execution_count": 5,
   "metadata": {},
   "outputs": [
    {
     "data": {
      "text/plain": [
       "\u001b[36mnatDef\u001b[39m: \u001b[32mExstInducDefn\u001b[39m = \u001b[33mExstInducDefn\u001b[39m(\n",
       "  \u001b[33mSymbTyp\u001b[39m(\u001b[33mName\u001b[39m(\u001b[32m\"Nat\"\u001b[39m), \u001b[32m0\u001b[39m),\n",
       "  \u001b[33mVector\u001b[39m(\n",
       "    \u001b[33mSymbObj\u001b[39m(\u001b[33mName\u001b[39m(\u001b[32m\"zero\"\u001b[39m), \u001b[33mSymbTyp\u001b[39m(\u001b[33mName\u001b[39m(\u001b[32m\"Nat\"\u001b[39m), \u001b[32m0\u001b[39m)),\n",
       "    \u001b[33mSymbolicFunc\u001b[39m(\u001b[33mName\u001b[39m(\u001b[32m\"succ\"\u001b[39m), \u001b[33mSymbTyp\u001b[39m(\u001b[33mName\u001b[39m(\u001b[32m\"Nat\"\u001b[39m), \u001b[32m0\u001b[39m), \u001b[33mSymbTyp\u001b[39m(\u001b[33mName\u001b[39m(\u001b[32m\"Nat\"\u001b[39m), \u001b[32m0\u001b[39m))\n",
       "  ),\n",
       "  \u001b[33mConsSeqExst\u001b[39m(\n",
       "    \u001b[33mConstructorSeqTL\u001b[39m(\n",
       "      \u001b[33mCons\u001b[39m(\n",
       "        \u001b[33mName\u001b[39m(\u001b[32m\"zero\"\u001b[39m),\n",
       "        IdShape(),\n",
       "        \u001b[33mCons\u001b[39m(\u001b[33mName\u001b[39m(\u001b[32m\"succ\"\u001b[39m), \u001b[33mFuncConsShape\u001b[39m(IdIterShape(), IdShape()), Empty())\n",
       "      ),\n",
       "      \u001b[33mSymbTyp\u001b[39m(\u001b[33mName\u001b[39m(\u001b[32m\"Nat\"\u001b[39m), \u001b[32m0\u001b[39m)\n",
       "    ),\n",
       "    \u001b[33mVector\u001b[39m(\n",
       "      \u001b[33mSymbObj\u001b[39m(\u001b[33mName\u001b[39m(\u001b[32m\"zero\"\u001b[39m), \u001b[33mSymbTyp\u001b[39m(\u001b[33mName\u001b[39m(\u001b[32m\"Nat\"\u001b[39m), \u001b[32m0\u001b[39m)),\n",
       "      \u001b[33mSymbolicFunc\u001b[39m(\n",
       "        \u001b[33mName\u001b[39m(\u001b[32m\"succ\"\u001b[39m),\n",
       "        \u001b[33mSymbTyp\u001b[39m(\u001b[33mName\u001b[39m(\u001b[32m\"Nat\"\u001b[39m), \u001b[32m0\u001b[39m),\n",
       "        \u001b[33mSymbTyp\u001b[39m(\u001b[33mName\u001b[39m(\u001b[32m\"Nat\"\u001b[39m), \u001b[32m0\u001b[39m)\n",
       "      )\n",
       "    )\n",
       "  )\n",
       ")"
      ]
     },
     "execution_count": 5,
     "metadata": {},
     "output_type": "execute_result"
    }
   ],
   "source": [
    "val natDef = ExstInducDefn(Nat, natIntros, natStr)"
   ]
  },
  {
   "cell_type": "markdown",
   "metadata": {},
   "source": [
    "Next, we set up for generation"
   ]
  },
  {
   "cell_type": "code",
   "execution_count": 6,
   "metadata": {},
   "outputs": [
    {
     "data": {
      "text/plain": [
       "\u001b[36mts\u001b[39m: \u001b[32mTermState\u001b[39m = \u001b[33mTermState\u001b[39m(\n",
       "  \u001b[33mFiniteDistribution\u001b[39m(\n",
       "    \u001b[33mVector\u001b[39m(\n",
       "      \u001b[33mWeighted\u001b[39m(\u001b[33mSymbTyp\u001b[39m(\u001b[33mName\u001b[39m(\u001b[32m\"Nat\"\u001b[39m), \u001b[32m0\u001b[39m), \u001b[32m0.3333333333333333\u001b[39m),\n",
       "      \u001b[33mWeighted\u001b[39m(\n",
       "        \u001b[33mSymbObj\u001b[39m(\u001b[33mName\u001b[39m(\u001b[32m\"zero\"\u001b[39m), \u001b[33mSymbTyp\u001b[39m(\u001b[33mName\u001b[39m(\u001b[32m\"Nat\"\u001b[39m), \u001b[32m0\u001b[39m)),\n",
       "        \u001b[32m0.3333333333333333\u001b[39m\n",
       "      ),\n",
       "      \u001b[33mWeighted\u001b[39m(\n",
       "        \u001b[33mSymbolicFunc\u001b[39m(\n",
       "          \u001b[33mName\u001b[39m(\u001b[32m\"succ\"\u001b[39m),\n",
       "          \u001b[33mSymbTyp\u001b[39m(\u001b[33mName\u001b[39m(\u001b[32m\"Nat\"\u001b[39m), \u001b[32m0\u001b[39m),\n",
       "          \u001b[33mSymbTyp\u001b[39m(\u001b[33mName\u001b[39m(\u001b[32m\"Nat\"\u001b[39m), \u001b[32m0\u001b[39m)\n",
       "        ),\n",
       "        \u001b[32m0.3333333333333333\u001b[39m\n",
       "      )\n",
       "    )\n",
       "  ),\n",
       "  \u001b[33mFiniteDistribution\u001b[39m(\n",
       "    \u001b[33mVector\u001b[39m(\u001b[33mWeighted\u001b[39m(\u001b[33mSymbTyp\u001b[39m(\u001b[33mName\u001b[39m(\u001b[32m\"Nat\"\u001b[39m), \u001b[32m0\u001b[39m), \u001b[32m0.5\u001b[39m), \u001b[33mWeighted\u001b[39m(\u001b[33mUniverse\u001b[39m(\u001b[32m0\u001b[39m), \u001b[32m0.5\u001b[39m))\n",
       "  ),\n",
       "  \u001b[33mVector\u001b[39m(),\n",
       "  \u001b[33mFiniteDistribution\u001b[39m(\n",
       "    \u001b[33mVector\u001b[39m(\n",
       "      \u001b[33mWeighted\u001b[39m(\n",
       "        \u001b[33mExstInducDefn\u001b[39m(\n",
       "          \u001b[33mSymbTyp\u001b[39m(\u001b[33mName\u001b[39m(\u001b[32m\"Nat\"\u001b[39m), \u001b[32m0\u001b[39m),\n",
       "          \u001b[33mVector\u001b[39m(\n",
       "            \u001b[33mSymbObj\u001b[39m(\u001b[33mName\u001b[39m(\u001b[32m\"zero\"\u001b[39m), \u001b[33mSymbTyp\u001b[39m(\u001b[33mName\u001b[39m(\u001b[32m\"Nat\"\u001b[39m), \u001b[32m0\u001b[39m)),\n",
       "            \u001b[33mSymbolicFunc\u001b[39m(\n",
       "              \u001b[33mName\u001b[39m(\u001b[32m\"succ\"\u001b[39m),\n",
       "              \u001b[33mSymbTyp\u001b[39m(\u001b[33mName\u001b[39m(\u001b[32m\"Nat\"\u001b[39m), \u001b[32m0\u001b[39m),\n",
       "              \u001b[33mSymbTyp\u001b[39m(\u001b[33mName\u001b[39m(\u001b[32m\"Nat\"\u001b[39m), \u001b[32m0\u001b[39m)\n",
       "            )\n",
       "          ),\n",
       "          \u001b[33mConsSeqExst\u001b[39m(\n",
       "            \u001b[33mConstructorSeqTL\u001b[39m(\n",
       "              \u001b[33mCons\u001b[39m(\n",
       "                \u001b[33mName\u001b[39m(\u001b[32m\"zero\"\u001b[39m),\n",
       "...\n",
       "\u001b[36mtg\u001b[39m: \u001b[32mTermGenParams\u001b[39m = \u001b[33mTermGenParams\u001b[39m(\n",
       "  \u001b[32m0.1\u001b[39m,\n",
       "  \u001b[32m0.1\u001b[39m,\n",
       "  \u001b[32m0.1\u001b[39m,\n",
       "  \u001b[32m0.1\u001b[39m,\n",
       "  \u001b[32m0.1\u001b[39m,\n",
       "  \u001b[32m0.05\u001b[39m,\n",
       "  \u001b[32m0.05\u001b[39m,\n",
       "  \u001b[32m0.05\u001b[39m,\n",
       "  \u001b[32m0.3\u001b[39m,\n",
       "  \u001b[32m0.7\u001b[39m,\n",
       "  \u001b[32m0.5\u001b[39m\n",
       ")"
      ]
     },
     "execution_count": 6,
     "metadata": {},
     "output_type": "execute_result"
    }
   ],
   "source": [
    "val ts = TermState(FD.unif(Nat, zero, succ), FD.unif(Nat, Type), inds = FD.unif(natDef))\n",
    "val tg = TermGenParams()"
   ]
  },
  {
   "cell_type": "code",
   "execution_count": 7,
   "metadata": {},
   "outputs": [
    {
     "data": {
      "text/plain": [
       "\u001b[36mmfd\u001b[39m: \u001b[32mMonixFiniteDistribution\u001b[39m[\u001b[32mTermState\u001b[39m, \u001b[32mTerm\u001b[39m] = \u001b[33mMonixFiniteDistribution\u001b[39m(\n",
       "  \u001b[33mCons\u001b[39m(\n",
       "    \u001b[33mBaseCons\u001b[39m(\n",
       "      \u001b[33mBasePi\u001b[39m(\n",
       "        provingground.learning.RandomVarFamily$$Lambda$3792/1544168874@63512837,\n",
       "        FuncsWithDomain\n",
       "      ),\n",
       "      \u001b[32m0.55\u001b[39m,\n",
       "      \u001b[33mBaseCons\u001b[39m(\n",
       "        \u001b[33mBasePi\u001b[39m(\n",
       "          provingground.learning.GeneratorNode$$Lambda$3795/657281012@4d10a987,\n",
       "          FuncsWithDomain\n",
       "        ),\n",
       "        \u001b[32m0.1\u001b[39m,\n",
       "        \u001b[33mBaseCons\u001b[39m(\n",
       "          \u001b[33mBasePi\u001b[39m(\n",
       "            provingground.learning.GeneratorNode$$Lambda$3795/657281012@3cac0434,\n",
       "            FuncsWithDomain\n",
       "          ),\n",
       "          \u001b[32m0.1\u001b[39m,\n",
       "          \u001b[33mBaseCons\u001b[39m(\n",
       "            \u001b[33mBasePi\u001b[39m(\n",
       "              provingground.learning.GeneratorNode$$Lambda$3795/657281012@7ca2c07c,\n",
       "              FuncsWithDomain\n",
       "            ),\n",
       "            \u001b[32m0.1\u001b[39m,\n",
       "            \u001b[33mBaseCons\u001b[39m(\n",
       "              \u001b[33mBasePi\u001b[39m(\n",
       "                provingground.learning.TermGeneratorNodes$$Lambda$3781/464466679@2890dfe5,\n",
       "                FuncsWithDomain\n",
       "              ),\n",
       "              \u001b[32m0.1\u001b[39m,\n",
       "              \u001b[33mTarget\u001b[39m(FuncsWithDomain)\n",
       "            )\n",
       "          )\n",
       "        )\n",
       "..."
      ]
     },
     "execution_count": 7,
     "metadata": {},
     "output_type": "execute_result"
    }
   ],
   "source": [
    "val mfd = tg.monixFD"
   ]
  },
  {
   "cell_type": "markdown",
   "metadata": {},
   "source": [
    "A check that inductive types are picked up from the initial distribution."
   ]
  },
  {
   "cell_type": "code",
   "execution_count": 8,
   "metadata": {},
   "outputs": [
    {
     "data": {
      "text/plain": [
       "\u001b[32mimport \u001b[39m\u001b[36mTermRandomVars._\n",
       "\u001b[39m\n",
       "\u001b[36midT\u001b[39m: \u001b[32mmonix\u001b[39m.\u001b[32meval\u001b[39m.\u001b[32mTask\u001b[39m[\u001b[32mFiniteDistribution\u001b[39m[\u001b[32mExstInducDefn\u001b[39m]] = \u001b[33mFlatMap\u001b[39m(\n",
       "  \u001b[33mAsync\u001b[39m(<function2>, true, true, true),\n",
       "  monix.eval.Task$$Lambda$3843/1159594218@5b483259\n",
       ")"
      ]
     },
     "execution_count": 8,
     "metadata": {},
     "output_type": "execute_result"
    }
   ],
   "source": [
    "import TermRandomVars._\n",
    "val idT = mfd.varDist(ts)(InducDefns, 0.1)"
   ]
  },
  {
   "cell_type": "code",
   "execution_count": 9,
   "metadata": {},
   "outputs": [
    {
     "data": {
      "text/plain": [
       "\u001b[32mimport \u001b[39m\u001b[36mmonix.execution.Scheduler.Implicits.global \n",
       "\u001b[39m\n",
       "\u001b[36minducFD\u001b[39m: \u001b[32mFiniteDistribution\u001b[39m[\u001b[32mExstInducDefn\u001b[39m] = \u001b[33mFiniteDistribution\u001b[39m(\n",
       "  \u001b[33mVector\u001b[39m(\n",
       "    \u001b[33mWeighted\u001b[39m(\n",
       "      \u001b[33mExstInducDefn\u001b[39m(\n",
       "        \u001b[32mNat\u001b[39m,\n",
       "        \u001b[33mVector\u001b[39m(\u001b[32mzero\u001b[39m, \u001b[32msucc\u001b[39m),\n",
       "        \u001b[33mConsSeqExst\u001b[39m(\n",
       "          \u001b[33mConstructorSeqTL\u001b[39m(\n",
       "            \u001b[33mCons\u001b[39m(\u001b[32mzero\u001b[39m, IdShape(), \u001b[33mCons\u001b[39m(\u001b[32msucc\u001b[39m, \u001b[33mFuncConsShape\u001b[39m(IdIterShape(), IdShape()), Empty())),\n",
       "            \u001b[32mNat\u001b[39m\n",
       "          ),\n",
       "          \u001b[33mVector\u001b[39m(\u001b[32mzero\u001b[39m, \u001b[32msucc\u001b[39m)\n",
       "        )\n",
       "      ),\n",
       "      \u001b[32m1.0\u001b[39m\n",
       "    )\n",
       "  )\n",
       ")"
      ]
     },
     "execution_count": 9,
     "metadata": {},
     "output_type": "execute_result"
    }
   ],
   "source": [
    "import monix.execution.Scheduler.Implicits.global \n",
    "repl.pprinter.bind(translation.FansiShow.fansiPrint)\n",
    "\n",
    "val inducFD = idT.runSyncUnsafe()"
   ]
  },
  {
   "cell_type": "markdown",
   "metadata": {},
   "source": [
    "### Domain\n",
    "\n",
    "We generate the domain from the inductive type. Nothing to do in the simple case."
   ]
  },
  {
   "cell_type": "code",
   "execution_count": 10,
   "metadata": {},
   "outputs": [
    {
     "data": {
      "text/plain": [
       "\u001b[36mdomT\u001b[39m: \u001b[32mmonix\u001b[39m.\u001b[32meval\u001b[39m.\u001b[32mTask\u001b[39m[\u001b[32mFiniteDistribution\u001b[39m[\u001b[32mTerm\u001b[39m]] = \u001b[33mFlatMap\u001b[39m(\n",
       "  \u001b[33mAsync\u001b[39m(<function2>, true, true, true),\n",
       "  monix.eval.Task$$Lambda$3843/1159594218@11dfcef1\n",
       ")"
      ]
     },
     "execution_count": 10,
     "metadata": {},
     "output_type": "execute_result"
    }
   ],
   "source": [
    "val domT = mfd.varDist(ts)(domForInduc(natDef), 0.1)"
   ]
  },
  {
   "cell_type": "code",
   "execution_count": 11,
   "metadata": {},
   "outputs": [
    {
     "data": {
      "text/plain": [
       "\u001b[36mdomFD\u001b[39m: \u001b[32mFiniteDistribution\u001b[39m[\u001b[32mTerm\u001b[39m] = \u001b[33mFiniteDistribution\u001b[39m(\u001b[33mVector\u001b[39m(\u001b[33mWeighted\u001b[39m(\u001b[32mNat\u001b[39m, \u001b[32m1.0\u001b[39m)))"
      ]
     },
     "execution_count": 11,
     "metadata": {},
     "output_type": "execute_result"
    }
   ],
   "source": [
    "val domFD = domT.runSyncUnsafe()"
   ]
  },
  {
   "cell_type": "markdown",
   "metadata": {},
   "source": [
    "### Recursive definitions\n",
    "\n",
    "We next define functions recursively"
   ]
  },
  {
   "cell_type": "code",
   "execution_count": 12,
   "metadata": {},
   "outputs": [
    {
     "data": {
      "text/plain": [
       "\u001b[36mndT\u001b[39m: \u001b[32mmonix\u001b[39m.\u001b[32meval\u001b[39m.\u001b[32mTask\u001b[39m[\u001b[32mFiniteDistribution\u001b[39m[\u001b[32mTerm\u001b[39m]] = \u001b[33mFlatMap\u001b[39m(\n",
       "  \u001b[33mMap\u001b[39m(\n",
       "    \u001b[33mFlatMap\u001b[39m(\u001b[33mAsync\u001b[39m(<function2>, true, true, true), monix.eval.Task$$Lambda$3843/1159594218@30448a1d),\n",
       "    provingground.learning.MonixFiniteDistribution$$Lambda$3947/871931955@22e705f3,\n",
       "    \u001b[32m0\u001b[39m\n",
       "  ),\n",
       "  provingground.learning.MonixFiniteDistribution$$Lambda$3948/634189918@1214adc6\n",
       ")"
      ]
     },
     "execution_count": 12,
     "metadata": {},
     "output_type": "execute_result"
    }
   ],
   "source": [
    "val ndT = mfd.nodeDist(ts)(tg.Gen.recFuncFoldedNode, 0.001)"
   ]
  },
  {
   "cell_type": "code",
   "execution_count": 13,
   "metadata": {},
   "outputs": [
    {
     "data": {
      "text/plain": [
       "\u001b[36mnfd\u001b[39m: \u001b[32mFiniteDistribution\u001b[39m[\u001b[32mTerm\u001b[39m] = \u001b[33mFiniteDistribution\u001b[39m(\n",
       "  \u001b[33mVector\u001b[39m(\n",
       "    \u001b[33mWeighted\u001b[39m(\u001b[32mrec_{ Nat ; Nat }(succ(zero))((_ : Nat) ↦ (_ : Nat) ↦ zero)\u001b[39m, \u001b[32m0.007694285640620071\u001b[39m),\n",
       "    \u001b[33mWeighted\u001b[39m(\n",
       "      \u001b[32mrec_{ Nat ; Nat }(succ(succ(zero)))((_ : Nat) ↦ (_ : Nat) ↦ zero)\u001b[39m,\n",
       "      \u001b[32m0.006344070519242263\u001b[39m\n",
       "    ),\n",
       "    \u001b[33mWeighted\u001b[39m(\u001b[32mrec_{ Nat ; Nat }(succ(zero))((_ : Nat) ↦ succ)\u001b[39m, \u001b[32m0.09515789996358705\u001b[39m),\n",
       "    \u001b[33mWeighted\u001b[39m(\u001b[32mrec_{ Nat ; Nat }(succ(succ(zero)))((_ : Nat) ↦ (@b : Nat) ↦ @b)\u001b[39m, \u001b[32m0.011652374423098036\u001b[39m),\n",
       "    \u001b[33mWeighted\u001b[39m(\u001b[32mrec_{ Nat ; Nat }(succ(succ(zero)))((@a : Nat) ↦ (_ : Nat) ↦ @a)\u001b[39m, \u001b[32m0.008156662096168625\u001b[39m),\n",
       "    \u001b[33mWeighted\u001b[39m(\u001b[32mrec_{ Nat ; Nat }(zero)((@a : Nat) ↦ (_ : Nat) ↦ @a)\u001b[39m, \u001b[32m0.008270906578558813\u001b[39m),\n",
       "    \u001b[33mWeighted\u001b[39m(\u001b[32mrec_{ Nat ; Nat }(zero)((_ : Nat) ↦ (@b : Nat) ↦ @b)\u001b[39m, \u001b[32m0.011815580826512592\u001b[39m),\n",
       "    \u001b[33mWeighted\u001b[39m(\n",
       "      \u001b[32mrec_{ Nat ; Nat }(succ(zero))((_ : Nat) ↦ (_ : Nat) ↦ succ(zero))\u001b[39m,\n",
       "      \u001b[32m0.015388571281240142\u001b[39m\n",
       "    ),\n",
       "    \u001b[33mWeighted\u001b[39m(\u001b[32mrec_{ Nat ; Nat }(zero)((_ : Nat) ↦ (@b : Nat) ↦ succ(@b))\u001b[39m, \u001b[32m0.026519414743950483\u001b[39m),\n",
       "    \u001b[33mWeighted\u001b[39m(\u001b[32mrec_{ Nat ; Nat }(succ(zero))((@a : Nat) ↦ (_ : Nat) ↦ @a)\u001b[39m, \u001b[32m0.009892652966511524\u001b[39m),\n",
       "    \u001b[33mWeighted\u001b[39m(\u001b[32mrec_{ Nat ; Nat }(succ(zero))((_ : Nat) ↦ (@b : Nat) ↦ @b)\u001b[39m, \u001b[32m0.014132361380730747\u001b[39m),\n",
       "    \u001b[33mWeighted\u001b[39m(\u001b[32mrec_{ Nat ; Nat }(succ(zero))((@a : Nat) ↦ (_ : Nat) ↦ succ(@a))\u001b[39m, \u001b[32m0.019785305933023047\u001b[39m),\n",
       "    \u001b[33mWeighted\u001b[39m(\u001b[32mrec_{ Nat ; Nat }(succ(zero))((_ : Nat) ↦ (@b : Nat) ↦ succ(@b))\u001b[39m, \u001b[32m0.028264722761461494\u001b[39m),\n",
       "    \u001b[33mWeighted\u001b[39m(\u001b[32mrec_{ Nat ; Nat }(zero)((_ : Nat) ↦ succ)\u001b[39m, \u001b[32m0.053038829487900965\u001b[39m),\n",
       "    \u001b[33mWeighted\u001b[39m(\u001b[32mrec_{ Nat ; 𝒰  }(Nat)((_ : Nat) ↦ (@a : 𝒰 ) ↦ @a)\u001b[39m, \u001b[32m0.27473350526106977\u001b[39m),\n",
       "    \u001b[33mWeighted\u001b[39m(\u001b[32mrec_{ Nat ; Nat }(zero)((_ : Nat) ↦ (_ : Nat) ↦ zero)\u001b[39m, \u001b[32m0.0064329273388790765\u001b[39m),\n",
       "    \u001b[33mWeighted\u001b[39m(\u001b[32mrec_{ Nat ; 𝒰  }(Nat)((_ : Nat) ↦ (_ : 𝒰 ) ↦ Nat)\u001b[39m, \u001b[32m0.14957713064213796\u001b[39m),\n",
       "    \u001b[33mWeighted\u001b[39m(\u001b[32mrec_{ Nat ; Nat }(succ(succ(zero)))((_ : Nat) ↦ succ)\u001b[39m, \u001b[32m0.06395858850011588\u001b[39m),\n",
       "    \u001b[33mWeighted\u001b[39m(\n",
       "      \u001b[32mrec_{ Nat ; Nat }(succ(succ(zero)))((_ : Nat) ↦ (@b : Nat) ↦ succ(@b))\u001b[39m,\n",
       "      \u001b[32m0.037805481461606956\u001b[39m\n",
       "    )\n",
       "  )\n",
       ")"
      ]
     },
     "execution_count": 13,
     "metadata": {},
     "output_type": "execute_result"
    }
   ],
   "source": [
    "val nfd = ndT.runSyncUnsafe()"
   ]
  },
  {
   "cell_type": "code",
   "execution_count": 14,
   "metadata": {},
   "outputs": [
    {
     "data": {
      "text/plain": [
       "\u001b[36mnnT\u001b[39m: \u001b[32mmonix\u001b[39m.\u001b[32meval\u001b[39m.\u001b[32mTask\u001b[39m[\u001b[32mFiniteDistribution\u001b[39m[\u001b[32mTerm\u001b[39m]] = \u001b[33mFlatMap\u001b[39m(\n",
       "  \u001b[33mAsync\u001b[39m(<function2>, true, true, true),\n",
       "  monix.eval.Task$$Lambda$3843/1159594218@6de1ac71\n",
       ")"
      ]
     },
     "execution_count": 14,
     "metadata": {},
     "output_type": "execute_result"
    }
   ],
   "source": [
    "val nnT = mfd.varDist(ts)(termsWithTyp(Nat ->: Nat), 0.1)"
   ]
  },
  {
   "cell_type": "code",
   "execution_count": 15,
   "metadata": {},
   "outputs": [
    {
     "data": {
      "text/plain": [
       "\u001b[36mnnD\u001b[39m: \u001b[32mFiniteDistribution\u001b[39m[\u001b[32mTerm\u001b[39m] = \u001b[33mFiniteDistribution\u001b[39m(\u001b[33mVector\u001b[39m(\u001b[33mWeighted\u001b[39m(\u001b[32msucc\u001b[39m, \u001b[32m1.0\u001b[39m)))"
      ]
     },
     "execution_count": 15,
     "metadata": {},
     "output_type": "execute_result"
    }
   ],
   "source": [
    "val nnD = nnT.runSyncUnsafe()"
   ]
  },
  {
   "cell_type": "code",
   "execution_count": 16,
   "metadata": {},
   "outputs": [
    {
     "data": {
      "text/plain": [
       "\u001b[36mres15\u001b[39m: \u001b[32mFiniteDistribution\u001b[39m[\u001b[32mTyp\u001b[39m[\u001b[32mU\u001b[39m] forSome { type \u001b[32mU\u001b[39m >: \u001b[32mx$1\u001b[39m <: \u001b[32mTerm\u001b[39m with \u001b[32mSubs\u001b[39m[\u001b[32mU\u001b[39m]; val \u001b[32mx$1\u001b[39m: \u001b[32mTerm\u001b[39m }] = \u001b[33mFiniteDistribution\u001b[39m(\n",
       "  \u001b[33mVector\u001b[39m(\u001b[33mWeighted\u001b[39m(\u001b[32m(Nat → 𝒰 )\u001b[39m, \u001b[32m0.4243106359032077\u001b[39m), \u001b[33mWeighted\u001b[39m(\u001b[32m(Nat → Nat)\u001b[39m, \u001b[32m0.42431063590320767\u001b[39m))\n",
       ")"
      ]
     },
     "execution_count": 16,
     "metadata": {},
     "output_type": "execute_result"
    }
   ],
   "source": [
    "nfd.map(_.typ).flatten"
   ]
  },
  {
   "cell_type": "markdown",
   "metadata": {},
   "source": [
    "### Inductive definitions\n",
    "\n",
    "We make our first attempt at inductive definitions. We get some, but of only one type. We verify that this is because of the lack of richness in our initial state."
   ]
  },
  {
   "cell_type": "code",
   "execution_count": 17,
   "metadata": {},
   "outputs": [
    {
     "data": {
      "text/plain": [
       "\u001b[36mnidT\u001b[39m: \u001b[32mmonix\u001b[39m.\u001b[32meval\u001b[39m.\u001b[32mTask\u001b[39m[\u001b[32mFiniteDistribution\u001b[39m[\u001b[32mTerm\u001b[39m]] = \u001b[33mFlatMap\u001b[39m(\n",
       "  \u001b[33mMap\u001b[39m(\n",
       "    \u001b[33mFlatMap\u001b[39m(\u001b[33mAsync\u001b[39m(<function2>, true, true, true), monix.eval.Task$$Lambda$3843/1159594218@4fa408e6),\n",
       "    provingground.learning.MonixFiniteDistribution$$Lambda$3947/871931955@22e705f3,\n",
       "    \u001b[32m0\u001b[39m\n",
       "  ),\n",
       "  provingground.learning.MonixFiniteDistribution$$Lambda$3948/634189918@50744c00\n",
       ")"
      ]
     },
     "execution_count": 17,
     "metadata": {},
     "output_type": "execute_result"
    }
   ],
   "source": [
    "val nidT = mfd.nodeDist(ts)(tg.Gen.inducFuncFoldedNode, 0.00001)"
   ]
  },
  {
   "cell_type": "code",
   "execution_count": 18,
   "metadata": {},
   "outputs": [
    {
     "data": {
      "text/plain": [
       "\u001b[36mnifd\u001b[39m: \u001b[32mFiniteDistribution\u001b[39m[\u001b[32mTerm\u001b[39m] = \u001b[33mFiniteDistribution\u001b[39m(\n",
       "  \u001b[33mVector\u001b[39m(\n",
       "    \u001b[33mWeighted\u001b[39m(\n",
       "      \u001b[32minduc_{ Nat ; (_ : Nat) ↦ Nat }(succ(succ(zero)))((_ : Nat) ↦ (@b : Nat) ↦ succ(succ(succ(@b))))\u001b[39m,\n",
       "      \u001b[32m0.0023818496077421827\u001b[39m\n",
       "    ),\n",
       "    \u001b[33mWeighted\u001b[39m(\n",
       "      \u001b[32minduc_{ Nat ; (_ : Nat) ↦ Nat }(succ(succ(zero)))((@a : Nat) ↦ (_ : Nat) ↦ succ(succ(succ(@a))))\u001b[39m,\n",
       "      \u001b[32m0.0016672947254195282\u001b[39m\n",
       "    ),\n",
       "    \u001b[33mWeighted\u001b[39m(\n",
       "      \u001b[32minduc_{ Nat ; (_ : Nat) ↦ Nat }(succ(succ(succ(succ(zero)))))((_ : Nat) ↦ (_ : Nat) ↦ succ(succ(zero)))\u001b[39m,\n",
       "      \u001b[32m0.0014088768310103873\u001b[39m\n",
       "    ),\n",
       "    \u001b[33mWeighted\u001b[39m(\n",
       "      \u001b[32minduc_{ Nat ; (_ : Nat) ↦ Nat }(succ(succ(zero)))((@a : Nat) ↦ (_ : Nat) ↦ succ(@a))\u001b[39m,\n",
       "      \u001b[32m0.003827612378330869\u001b[39m\n",
       "    ),\n",
       "    \u001b[33mWeighted\u001b[39m(\n",
       "      \u001b[32minduc_{ Nat ; (_ : Nat) ↦ Nat }(succ(succ(zero)))((_ : Nat) ↦ (@b : Nat) ↦ succ(@b))\u001b[39m,\n",
       "      \u001b[32m0.005618820785853711\u001b[39m\n",
       "    ),\n",
       "    \u001b[33mWeighted\u001b[39m(\n",
       "      \u001b[32minduc_{ Nat ; (_ : Nat) ↦ Nat }(succ(zero))((@a : Nat) ↦ (_ : Nat) ↦ succ(@a))\u001b[39m,\n",
       "      \u001b[32m0.0030392922085904412\u001b[39m\n",
       "    ),\n",
       "    \u001b[33mWeighted\u001b[39m(\n",
       "      \u001b[32minduc_{ Nat ; (_ : Nat) ↦ Nat }(succ(zero))((_ : Nat) ↦ (@b : Nat) ↦ succ(@b))\u001b[39m,\n",
       "      \u001b[32m0.004943166447340813\u001b[39m\n",
       "    ),\n",
       "    \u001b[33mWeighted\u001b[39m(\n",
       "      \u001b[32minduc_{ Nat ; (_ : Nat) ↦ Nat }(succ(succ(zero)))((_ : Nat) ↦ (_ : Nat) ↦ succ(succ(zero)))\u001b[39m,\n",
       "      \u001b[32m0.0017671892134790885\u001b[39m\n",
       "    ),\n",
       "    \u001b[33mWeighted\u001b[39m(\n",
       "      \u001b[32minduc_{ Nat ; (_ : Nat) ↦ Nat }(succ(succ(succ(succ(zero)))))((_ : Nat) ↦ (@b : Nat) ↦ succ(succ(@b)))\u001b[39m,\n",
       "      \u001b[32m0.002693083607075716\u001b[39m\n",
       "    ),\n",
       "    \u001b[33mWeighted\u001b[39m(\n",
       "      \u001b[32minduc_{ Nat ; (_ : Nat) ↦ Nat }(succ(succ(succ(succ(zero)))))((@a : Nat) ↦ (_ : Nat) ↦ succ(succ(@a)))\u001b[39m,\n",
       "      \u001b[32m0.0018114130684419266\u001b[39m\n",
       "    ),\n",
       "    \u001b[33mWeighted\u001b[39m(\n",
       "      \u001b[32minduc_{ Nat ; (_ : Nat) ↦ Nat }(succ(zero))((_ : Nat) ↦ (_ : Nat) ↦ succ(zero))\u001b[39m,\n",
       "..."
      ]
     },
     "execution_count": 18,
     "metadata": {},
     "output_type": "execute_result"
    }
   ],
   "source": [
    "val nifd = nidT.runSyncUnsafe()"
   ]
  },
  {
   "cell_type": "code",
   "execution_count": 19,
   "metadata": {},
   "outputs": [
    {
     "data": {
      "text/plain": [
       "\u001b[36mres18\u001b[39m: \u001b[32mFiniteDistribution\u001b[39m[\u001b[32mTyp\u001b[39m[\u001b[32mU\u001b[39m] forSome { type \u001b[32mU\u001b[39m >: \u001b[32mx$1\u001b[39m <: \u001b[32mTerm\u001b[39m with \u001b[32mSubs\u001b[39m[\u001b[32mU\u001b[39m]; val \u001b[32mx$1\u001b[39m: \u001b[32mTerm\u001b[39m }] = \u001b[33mFiniteDistribution\u001b[39m(\n",
       "  \u001b[33mVector\u001b[39m(\u001b[33mWeighted\u001b[39m(\u001b[32m∏(_ : Nat){ Nat }\u001b[39m, \u001b[32m1.0\u001b[39m))\n",
       ")"
      ]
     },
     "execution_count": 19,
     "metadata": {},
     "output_type": "execute_result"
    }
   ],
   "source": [
    "nifd.map(_.typ).flatten"
   ]
  },
  {
   "cell_type": "code",
   "execution_count": 20,
   "metadata": {},
   "outputs": [
    {
     "data": {
      "text/plain": [
       "\u001b[36mres19_0\u001b[39m: \u001b[32mRandomVar\u001b[39m[\u001b[32mTerm\u001b[39m] = \u001b[33mAtCoord\u001b[39m(TermsWithTyp, \u001b[32m(Nat → 𝒰 )\u001b[39m :: HNil)\n",
       "\u001b[36mtfT\u001b[39m: \u001b[32mmonix\u001b[39m.\u001b[32meval\u001b[39m.\u001b[32mTask\u001b[39m[\u001b[32mFiniteDistribution\u001b[39m[\u001b[32mTerm\u001b[39m]] = \u001b[33mFlatMap\u001b[39m(\n",
       "  \u001b[33mAsync\u001b[39m(<function2>, true, true, true),\n",
       "  monix.eval.Task$$Lambda$3843/1159594218@1236ae3b\n",
       ")"
      ]
     },
     "execution_count": 20,
     "metadata": {},
     "output_type": "execute_result"
    }
   ],
   "source": [
    "termsWithTyp(typFamilyTarget(Nat).get)\n",
    "val tfT = mfd.varDist(ts)(termsWithTyp(typFamilyTarget(Nat).get), 0.001)"
   ]
  },
  {
   "cell_type": "code",
   "execution_count": 21,
   "metadata": {},
   "outputs": [
    {
     "data": {
      "text/plain": [
       "\u001b[36mtfD\u001b[39m: \u001b[32mFiniteDistribution\u001b[39m[\u001b[32mTerm\u001b[39m] = \u001b[33mFiniteDistribution\u001b[39m(\u001b[33mVector\u001b[39m(\u001b[33mWeighted\u001b[39m(\u001b[32m(_ : Nat) ↦ Nat\u001b[39m, \u001b[32m1.0\u001b[39m)))"
      ]
     },
     "execution_count": 21,
     "metadata": {},
     "output_type": "execute_result"
    }
   ],
   "source": [
    "val tfD = tfT.runSyncUnsafe()"
   ]
  },
  {
   "cell_type": "markdown",
   "metadata": {},
   "source": [
    "### More inductive definitions\n",
    "\n",
    "We now enhance our generation state and see that we get inductive definitions including a simple _proof_."
   ]
  },
  {
   "cell_type": "code",
   "execution_count": 22,
   "metadata": {},
   "outputs": [
    {
     "data": {
      "text/plain": [
       "\u001b[36mn\u001b[39m: \u001b[32mTerm\u001b[39m = \u001b[32mn\u001b[39m\n",
       "\u001b[36mrel\u001b[39m: \u001b[32mFunc\u001b[39m[\u001b[32mTerm\u001b[39m, \u001b[32mTyp\u001b[39m[\u001b[32mTerm\u001b[39m]] = \u001b[32mrel\u001b[39m\n",
       "\u001b[36mallRel\u001b[39m: \u001b[32mFuncLike\u001b[39m[\u001b[32mTerm\u001b[39m, \u001b[32mTerm\u001b[39m] = \u001b[32mallRel\u001b[39m\n",
       "\u001b[36mts1\u001b[39m: \u001b[32mTermState\u001b[39m = \u001b[33mTermState\u001b[39m(\n",
       "  \u001b[33mFiniteDistribution\u001b[39m(\n",
       "    \u001b[33mVector\u001b[39m(\n",
       "      \u001b[33mWeighted\u001b[39m(\u001b[32mallRel\u001b[39m, \u001b[32m0.2\u001b[39m),\n",
       "      \u001b[33mWeighted\u001b[39m(\u001b[32msucc\u001b[39m, \u001b[32m0.2\u001b[39m),\n",
       "      \u001b[33mWeighted\u001b[39m(\u001b[32mNat\u001b[39m, \u001b[32m0.2\u001b[39m),\n",
       "      \u001b[33mWeighted\u001b[39m(\u001b[32mzero\u001b[39m, \u001b[32m0.2\u001b[39m),\n",
       "      \u001b[33mWeighted\u001b[39m(\u001b[32mrel\u001b[39m, \u001b[32m0.2\u001b[39m)\n",
       "    )\n",
       "  ),\n",
       "  \u001b[33mFiniteDistribution\u001b[39m(\u001b[33mVector\u001b[39m(\u001b[33mWeighted\u001b[39m(\u001b[32mNat\u001b[39m, \u001b[32m0.5\u001b[39m), \u001b[33mWeighted\u001b[39m(\u001b[32m𝒰 \u001b[39m, \u001b[32m0.5\u001b[39m))),\n",
       "  \u001b[33mVector\u001b[39m(),\n",
       "  \u001b[33mFiniteDistribution\u001b[39m(\n",
       "    \u001b[33mVector\u001b[39m(\n",
       "      \u001b[33mWeighted\u001b[39m(\n",
       "        \u001b[33mExstInducDefn\u001b[39m(\n",
       "          \u001b[32mNat\u001b[39m,\n",
       "          \u001b[33mVector\u001b[39m(\u001b[32mzero\u001b[39m, \u001b[32msucc\u001b[39m),\n",
       "          \u001b[33mConsSeqExst\u001b[39m(\n",
       "            \u001b[33mConstructorSeqTL\u001b[39m(\n",
       "              \u001b[33mCons\u001b[39m(\u001b[32mzero\u001b[39m, IdShape(), \u001b[33mCons\u001b[39m(\u001b[32msucc\u001b[39m, \u001b[33mFuncConsShape\u001b[39m(IdIterShape(), IdShape()), Empty())),\n",
       "              \u001b[32mNat\u001b[39m\n",
       "            ),\n",
       "            \u001b[33mVector\u001b[39m(\u001b[32mzero\u001b[39m, \u001b[32msucc\u001b[39m)\n",
       "          )\n",
       "        ),\n",
       "        \u001b[32m1.0\u001b[39m\n",
       "      )\n",
       "    )\n",
       "  ),\n",
       "  \u001b[33mFiniteDistribution\u001b[39m(\u001b[33mVector\u001b[39m()),\n",
       "  Empty\n",
       ")"
      ]
     },
     "execution_count": 22,
     "metadata": {},
     "output_type": "execute_result"
    }
   ],
   "source": [
    "val n = Nat.sym\n",
    "val rel = (Nat ->: Type).sym\n",
    "val allRel = (n ~>: rel(n)).sym\n",
    "val ts1 = TermState(FD.unif(Nat, zero, succ, rel, allRel), FD.unif(Nat, Type), inds = FD.unif(natDef))"
   ]
  },
  {
   "cell_type": "code",
   "execution_count": 23,
   "metadata": {},
   "outputs": [
    {
     "data": {
      "text/plain": [
       "\u001b[36mtfT1\u001b[39m: \u001b[32mmonix\u001b[39m.\u001b[32meval\u001b[39m.\u001b[32mTask\u001b[39m[\u001b[32mFiniteDistribution\u001b[39m[\u001b[32mTerm\u001b[39m]] = \u001b[33mFlatMap\u001b[39m(\n",
       "  \u001b[33mAsync\u001b[39m(<function2>, true, true, true),\n",
       "  monix.eval.Task$$Lambda$3843/1159594218@1bf1ac51\n",
       ")"
      ]
     },
     "execution_count": 23,
     "metadata": {},
     "output_type": "execute_result"
    }
   ],
   "source": [
    "val tfT1 = mfd.varDist(ts1)(termsWithTyp(typFamilyTarget(Nat).get), 0.001)"
   ]
  },
  {
   "cell_type": "code",
   "execution_count": 24,
   "metadata": {},
   "outputs": [
    {
     "data": {
      "text/plain": [
       "\u001b[36mtfD1\u001b[39m: \u001b[32mFiniteDistribution\u001b[39m[\u001b[32mTerm\u001b[39m] = \u001b[33mFiniteDistribution\u001b[39m(\n",
       "  \u001b[33mVector\u001b[39m(\n",
       "    \u001b[33mWeighted\u001b[39m(\u001b[32m(_ : Nat) ↦ rel(succ(zero))\u001b[39m, \u001b[32m0.013313167618019765\u001b[39m),\n",
       "    \u001b[33mWeighted\u001b[39m(\u001b[32m(_ : Nat) ↦ rel(zero)\u001b[39m, \u001b[32m0.08308884161040503\u001b[39m),\n",
       "    \u001b[33mWeighted\u001b[39m(\u001b[32m(@a : Nat) ↦ rel(succ(@a))\u001b[39m, \u001b[32m0.10002632120794946\u001b[39m),\n",
       "    \u001b[33mWeighted\u001b[39m(\u001b[32mrel\u001b[39m, \u001b[32m0.5\u001b[39m),\n",
       "    \u001b[33mWeighted\u001b[39m(\u001b[32m(_ : Nat) ↦ Nat\u001b[39m, \u001b[32m0.12552415182704352\u001b[39m),\n",
       "    \u001b[33mWeighted\u001b[39m(\u001b[32m(@a : Nat) ↦ rel(@a)\u001b[39m, \u001b[32m0.1780475177365822\u001b[39m)\n",
       "  )\n",
       ")"
      ]
     },
     "execution_count": 24,
     "metadata": {},
     "output_type": "execute_result"
    }
   ],
   "source": [
    "val tfD1 = tfT1.runSyncUnsafe()"
   ]
  },
  {
   "cell_type": "code",
   "execution_count": 25,
   "metadata": {},
   "outputs": [
    {
     "data": {
      "text/plain": [
       "\u001b[36mnidT1\u001b[39m: \u001b[32mmonix\u001b[39m.\u001b[32meval\u001b[39m.\u001b[32mTask\u001b[39m[\u001b[32mFiniteDistribution\u001b[39m[\u001b[32mTerm\u001b[39m]] = \u001b[33mFlatMap\u001b[39m(\n",
       "  \u001b[33mMap\u001b[39m(\n",
       "    \u001b[33mFlatMap\u001b[39m(\u001b[33mAsync\u001b[39m(<function2>, true, true, true), monix.eval.Task$$Lambda$3843/1159594218@702f975c),\n",
       "    provingground.learning.MonixFiniteDistribution$$Lambda$3947/871931955@22e705f3,\n",
       "    \u001b[32m0\u001b[39m\n",
       "  ),\n",
       "  provingground.learning.MonixFiniteDistribution$$Lambda$3948/634189918@db6196c\n",
       ")\n",
       "\u001b[36mnifd1\u001b[39m: \u001b[32mFiniteDistribution\u001b[39m[\u001b[32mTerm\u001b[39m] = \u001b[33mFiniteDistribution\u001b[39m(\n",
       "  \u001b[33mVector\u001b[39m(\n",
       "    \u001b[33mWeighted\u001b[39m(\n",
       "      \u001b[32minduc_{ Nat ; (_ : Nat) ↦ Nat }(succ(succ(zero)))((@a : Nat) ↦ (_ : Nat) ↦ succ(@a))\u001b[39m,\n",
       "      \u001b[32m0.00103737820226554\u001b[39m\n",
       "    ),\n",
       "    \u001b[33mWeighted\u001b[39m(\n",
       "      \u001b[32minduc_{ Nat ; (_ : Nat) ↦ Nat }(succ(succ(zero)))((_ : Nat) ↦ (@b : Nat) ↦ succ(@b))\u001b[39m,\n",
       "      \u001b[32m0.0016448077301823537\u001b[39m\n",
       "    ),\n",
       "    \u001b[33mWeighted\u001b[39m(\n",
       "      \u001b[32minduc_{ Nat ; (_ : Nat) ↦ Nat }(succ(zero))((_ : Nat) ↦ (@b : Nat) ↦ succ(@b))\u001b[39m,\n",
       "      \u001b[32m0.0010637623519178623\u001b[39m\n",
       "    ),\n",
       "    \u001b[33mWeighted\u001b[39m(\n",
       "      \u001b[32minduc_{ Nat ; (_ : Nat) ↦ Nat }(succ(zero))((@a : Nat) ↦ (_ : Nat) ↦ succ(@a))\u001b[39m,\n",
       "      \u001b[32m7.446336463425035E-4\u001b[39m\n",
       "    ),\n",
       "    \u001b[33mWeighted\u001b[39m(\n",
       "      \u001b[32minduc_{ Nat ; (_ : Nat) ↦ Nat }(succ(succ(zero)))((_ : Nat) ↦ (_ : Nat) ↦ succ(succ(zero)))\u001b[39m,\n",
       "      \u001b[32m1.2580564431652976E-4\u001b[39m\n",
       "    ),\n",
       "    \u001b[33mWeighted\u001b[39m(\n",
       "      \u001b[32minduc_{ Nat ; (_ : Nat) ↦ rel(zero) }(allRel(zero))((_ : Nat) ↦ (_ : rel(zero)) ↦ allRel(zero))\u001b[39m,\n",
       "      \u001b[32m0.009177109832656355\u001b[39m\n",
       "    ),\n",
       "    \u001b[33mWeighted\u001b[39m(\n",
       "      \u001b[32minduc_{ Nat ; (_ : Nat) ↦ Nat }(succ(zero))((_ : Nat) ↦ (_ : Nat) ↦ succ(zero))\u001b[39m,\n",
       "      \u001b[32m3.309061314077909E-4\u001b[39m\n",
       "    ),\n",
       "    \u001b[33mWeighted\u001b[39m(\n",
       "      \u001b[32minduc_{ Nat ; (_ : Nat) ↦ Nat }(succ(zero))((@a : Nat) ↦ (_ : Nat) ↦ succ(succ(@a)))\u001b[39m,\n",
       "      \u001b[32m4.8514802748513203E-4\u001b[39m\n",
       "    ),\n",
       "    \u001b[33mWeighted\u001b[39m(\n",
       "      \u001b[32minduc_{ Nat ; (_ : Nat) ↦ Nat }(succ(zero))((_ : Nat) ↦ (@b : Nat) ↦ succ(succ(@b)))\u001b[39m,\n",
       "      \u001b[32m6.930686106930457E-4\u001b[39m\n",
       "    ),\n",
       "    \u001b[33mWeighted\u001b[39m(\n",
       "      \u001b[32minduc_{ Nat ; (_ : Nat) ↦ Nat }(succ(zero))((_ : Nat) ↦ (_ : Nat) ↦ zero)\u001b[39m,\n",
       "      \u001b[32m6.031788674726328E-4\u001b[39m\n",
       "    ),\n",
       "    \u001b[33mWeighted\u001b[39m(\n",
       "      \u001b[32minduc_{ Nat ; ($beokh : Nat) ↦ rel($beokh) }(allRel(zero))((@a : Nat) ↦ (_ : rel(@a)) ↦ allRel(succ(@a)))\u001b[39m,\n",
       "      \u001b[32m0.8136105259883466\u001b[39m\n",
       "    ),\n",
       "    \u001b[33mWeighted\u001b[39m(\u001b[32minduc_{ Nat ; (_ : Nat) ↦ Nat }(zero)((_ : Nat) ↦ succ)\u001b[39m, \u001b[32m0.03707852791170968\u001b[39m),\n",
       "..."
      ]
     },
     "execution_count": 25,
     "metadata": {},
     "output_type": "execute_result"
    }
   ],
   "source": [
    "val nidT1 = mfd.nodeDist(ts1)(tg.Gen.inducFuncFoldedNode, 0.000005)\n",
    "val nifd1 = nidT1.runSyncUnsafe()"
   ]
  },
  {
   "cell_type": "code",
   "execution_count": 26,
   "metadata": {},
   "outputs": [
    {
     "data": {
      "text/plain": [
       "\u001b[36mres25\u001b[39m: \u001b[32mFiniteDistribution\u001b[39m[\u001b[32mTyp\u001b[39m[\u001b[32mU\u001b[39m] forSome { type \u001b[32mU\u001b[39m >: \u001b[32mx$1\u001b[39m <: \u001b[32mTerm\u001b[39m with \u001b[32mSubs\u001b[39m[\u001b[32mU\u001b[39m]; val \u001b[32mx$1\u001b[39m: \u001b[32mTerm\u001b[39m }] = \u001b[33mFiniteDistribution\u001b[39m(\n",
       "  \u001b[33mVector\u001b[39m(\n",
       "    \u001b[33mWeighted\u001b[39m(\u001b[32m∏(_ : Nat){ rel(zero) }\u001b[39m, \u001b[32m0.03269327959759812\u001b[39m),\n",
       "    \u001b[33mWeighted\u001b[39m(\u001b[32m∏(_ : Nat){ rel(succ(zero)) }\u001b[39m, \u001b[32m0.009367215216334544\u001b[39m),\n",
       "    \u001b[33mWeighted\u001b[39m(\u001b[32m∏($beokh : Nat){ rel($beokh) }\u001b[39m, \u001b[32m0.8136105259883466\u001b[39m),\n",
       "    \u001b[33mWeighted\u001b[39m(\u001b[32m∏(_ : Nat){ Nat }\u001b[39m, \u001b[32m0.11250087767279501\u001b[39m)\n",
       "  )\n",
       ")"
      ]
     },
     "execution_count": 26,
     "metadata": {},
     "output_type": "execute_result"
    }
   ],
   "source": [
    "nifd1.map(_.typ).flatten"
   ]
  },
  {
   "cell_type": "code",
   "execution_count": 27,
   "metadata": {},
   "outputs": [
    {
     "data": {
      "text/plain": [
       "\u001b[36mindF\u001b[39m: \u001b[32mTerm\u001b[39m = \u001b[32m(InducDataSym(zero) : rel(zero)) ↦ (InducDataSym(succ) : ∏($dpexl : Nat){ (rel($dpexl) → rel(succ($dpexl))) }) ↦ induc_{ Nat ; ($dpewb : Nat) ↦ rel($dpewb) }(InducDataSym(zero))(InducDataSym(succ))\u001b[39m"
      ]
     },
     "execution_count": 27,
     "metadata": {},
     "output_type": "execute_result"
    }
   ],
   "source": [
    "val indF = natStr.inducOpt(Nat, n :-> rel(n)).get"
   ]
  },
  {
   "cell_type": "code",
   "execution_count": 28,
   "metadata": {},
   "outputs": [
    {
     "data": {
      "text/plain": [
       "\u001b[36mres27\u001b[39m: \u001b[32mTyp\u001b[39m[\u001b[32mU\u001b[39m] = \u001b[32m(rel(zero) → (∏($dpexl : Nat){ (rel($dpexl) → rel(succ($dpexl))) } → ∏($dpewb : Nat){ rel($dpewb) }))\u001b[39m"
      ]
     },
     "execution_count": 28,
     "metadata": {},
     "output_type": "execute_result"
    }
   ],
   "source": [
    "indF.typ"
   ]
  },
  {
   "cell_type": "code",
   "execution_count": 29,
   "metadata": {},
   "outputs": [
    {
     "data": {
      "text/plain": [
       "\u001b[36mres28\u001b[39m: \u001b[32mFiniteDistribution\u001b[39m[\u001b[32mTerm\u001b[39m] = \u001b[33mFiniteDistribution\u001b[39m(\n",
       "  \u001b[33mVector\u001b[39m(\n",
       "    \u001b[33mWeighted\u001b[39m(\n",
       "      \u001b[32minduc_{ Nat ; ($beokh : Nat) ↦ rel($beokh) }(allRel(zero))((@a : Nat) ↦ (_ : rel(@a)) ↦ allRel(succ(@a)))\u001b[39m,\n",
       "      \u001b[32m0.8136105259883466\u001b[39m\n",
       "    )\n",
       "  )\n",
       ")"
      ]
     },
     "execution_count": 29,
     "metadata": {},
     "output_type": "execute_result"
    }
   ],
   "source": [
    "nifd1.filter(_.typ == n ~>: rel(n))"
   ]
  },
  {
   "cell_type": "code",
   "execution_count": 30,
   "metadata": {},
   "outputs": [
    {
     "data": {
      "text/plain": [
       "\u001b[36mA\u001b[39m: \u001b[32mTyp\u001b[39m[\u001b[32mTerm\u001b[39m] = \u001b[32mA\u001b[39m\n",
       "\u001b[36mList\u001b[39m: \u001b[32mFunc\u001b[39m[\u001b[32mTyp\u001b[39m[\u001b[32mTerm\u001b[39m], \u001b[32mTyp\u001b[39m[\u001b[32mTerm\u001b[39m]] = \u001b[32mList\u001b[39m\n",
       "\u001b[36mnil\u001b[39m: \u001b[32mFuncLike\u001b[39m[\u001b[32mTyp\u001b[39m[\u001b[32mTerm\u001b[39m], \u001b[32mTerm\u001b[39m] = \u001b[32mnil\u001b[39m\n",
       "\u001b[36mcons\u001b[39m: \u001b[32mFuncLike\u001b[39m[\u001b[32mTyp\u001b[39m[\u001b[32mTerm\u001b[39m], \u001b[32mFunc\u001b[39m[\u001b[32mTerm\u001b[39m, \u001b[32mFunc\u001b[39m[\u001b[32mTerm\u001b[39m, \u001b[32mTerm\u001b[39m]]] = \u001b[32mcons\u001b[39m"
      ]
     },
     "execution_count": 30,
     "metadata": {},
     "output_type": "execute_result"
    }
   ],
   "source": [
    "val A = \"A\" :: Type\n",
    "val List = \"List\" :: Type ->: Type\n",
    "val nil = \"nil\" :: (A ~>: List(A))\n",
    "val cons = \"cons\" :: A ~>: (A ->: List(A) ->: List(A))"
   ]
  },
  {
   "cell_type": "code",
   "execution_count": 31,
   "metadata": {},
   "outputs": [
    {
     "data": {
      "text/plain": [
       "\u001b[36mlistAIntros\u001b[39m: \u001b[32mVector\u001b[39m[\u001b[32mTerm\u001b[39m] = \u001b[33mVector\u001b[39m(\u001b[32mnil(A)\u001b[39m, \u001b[32mcons(A)\u001b[39m)\n",
       "\u001b[36mlistAStr\u001b[39m: \u001b[32mExstInducStrucs\u001b[39m = \u001b[33mConsSeqExst\u001b[39m(\n",
       "  \u001b[33mConstructorSeqTL\u001b[39m(\n",
       "    \u001b[33mCons\u001b[39m(\n",
       "      \u001b[32m(nil) (A)\u001b[39m,\n",
       "      IdShape(),\n",
       "      \u001b[33mCons\u001b[39m(\u001b[32m(cons) (A)\u001b[39m, \u001b[33mCnstFuncConsShape\u001b[39m(\u001b[32mA\u001b[39m, \u001b[33mFuncConsShape\u001b[39m(IdIterShape(), IdShape())), Empty())\n",
       "    ),\n",
       "    \u001b[32mList(A)\u001b[39m\n",
       "  ),\n",
       "  \u001b[33mVector\u001b[39m(\u001b[32mnil(A)\u001b[39m, \u001b[32mcons(A)\u001b[39m)\n",
       ")"
      ]
     },
     "execution_count": 31,
     "metadata": {},
     "output_type": "execute_result"
    }
   ],
   "source": [
    "val listAIntros = Vector(nil(A), cons(A))\n",
    "val listAStr = ExstInducStrucs.get(List(A), listAIntros)"
   ]
  },
  {
   "cell_type": "code",
   "execution_count": 32,
   "metadata": {},
   "outputs": [
    {
     "data": {
      "text/plain": [
       "\u001b[36mlistStr\u001b[39m: \u001b[32mExstInducStrucs\u001b[39m.\u001b[32mLambdaInduc\u001b[39m = \u001b[33mLambdaInduc\u001b[39m(\n",
       "  \u001b[32mA\u001b[39m,\n",
       "  \u001b[33mConsSeqExst\u001b[39m(\n",
       "    \u001b[33mConstructorSeqTL\u001b[39m(\n",
       "      \u001b[33mCons\u001b[39m(\n",
       "        \u001b[32m(nil) (A)\u001b[39m,\n",
       "        IdShape(),\n",
       "        \u001b[33mCons\u001b[39m(\u001b[32m(cons) (A)\u001b[39m, \u001b[33mCnstFuncConsShape\u001b[39m(\u001b[32mA\u001b[39m, \u001b[33mFuncConsShape\u001b[39m(IdIterShape(), IdShape())), Empty())\n",
       "      ),\n",
       "      \u001b[32mList(A)\u001b[39m\n",
       "    ),\n",
       "    \u001b[33mVector\u001b[39m(\u001b[32mnil(A)\u001b[39m, \u001b[32mcons(A)\u001b[39m)\n",
       "  )\n",
       ")"
      ]
     },
     "execution_count": 32,
     "metadata": {},
     "output_type": "execute_result"
    }
   ],
   "source": [
    "val listStr = ExstInducStrucs.LambdaInduc(A, listAStr)"
   ]
  },
  {
   "cell_type": "code",
   "execution_count": 33,
   "metadata": {},
   "outputs": [
    {
     "data": {
      "text/plain": [
       "\u001b[36mlistDef\u001b[39m: \u001b[32mExstInducDefn\u001b[39m = \u001b[33mExstInducDefn\u001b[39m(\n",
       "  \u001b[32mList\u001b[39m,\n",
       "  \u001b[33mVector\u001b[39m(\u001b[32mnil\u001b[39m, \u001b[32mcons\u001b[39m),\n",
       "  \u001b[33mLambdaInduc\u001b[39m(\n",
       "    \u001b[32mA\u001b[39m,\n",
       "    \u001b[33mConsSeqExst\u001b[39m(\n",
       "      \u001b[33mConstructorSeqTL\u001b[39m(\n",
       "        \u001b[33mCons\u001b[39m(\n",
       "          \u001b[32m(nil) (A)\u001b[39m,\n",
       "          IdShape(),\n",
       "          \u001b[33mCons\u001b[39m(\u001b[32m(cons) (A)\u001b[39m, \u001b[33mCnstFuncConsShape\u001b[39m(\u001b[32mA\u001b[39m, \u001b[33mFuncConsShape\u001b[39m(IdIterShape(), IdShape())), Empty())\n",
       "        ),\n",
       "        \u001b[32mList(A)\u001b[39m\n",
       "      ),\n",
       "      \u001b[33mVector\u001b[39m(\u001b[32mnil(A)\u001b[39m, \u001b[32mcons(A)\u001b[39m)\n",
       "    )\n",
       "  )\n",
       ")"
      ]
     },
     "execution_count": 33,
     "metadata": {},
     "output_type": "execute_result"
    }
   ],
   "source": [
    "val listDef = ExstInducDefn(List, Vector(nil, cons) ,listStr)"
   ]
  },
  {
   "cell_type": "code",
   "execution_count": 34,
   "metadata": {},
   "outputs": [
    {
     "data": {
      "text/plain": [
       "\u001b[36mtsL\u001b[39m: \u001b[32mTermState\u001b[39m = \u001b[33mTermState\u001b[39m(\n",
       "  \u001b[33mFiniteDistribution\u001b[39m(\n",
       "    \u001b[33mVector\u001b[39m(\n",
       "      \u001b[33mWeighted\u001b[39m(\u001b[32mnil\u001b[39m, \u001b[32m0.16666666666666666\u001b[39m),\n",
       "      \u001b[33mWeighted\u001b[39m(\u001b[32mzero\u001b[39m, \u001b[32m0.16666666666666666\u001b[39m),\n",
       "      \u001b[33mWeighted\u001b[39m(\u001b[32mcons\u001b[39m, \u001b[32m0.16666666666666666\u001b[39m),\n",
       "      \u001b[33mWeighted\u001b[39m(\u001b[32mNat\u001b[39m, \u001b[32m0.16666666666666666\u001b[39m),\n",
       "      \u001b[33mWeighted\u001b[39m(\u001b[32mList\u001b[39m, \u001b[32m0.16666666666666666\u001b[39m),\n",
       "      \u001b[33mWeighted\u001b[39m(\u001b[32msucc\u001b[39m, \u001b[32m0.16666666666666666\u001b[39m)\n",
       "    )\n",
       "  ),\n",
       "  \u001b[33mFiniteDistribution\u001b[39m(\u001b[33mVector\u001b[39m(\u001b[33mWeighted\u001b[39m(\u001b[32mNat\u001b[39m, \u001b[32m0.5\u001b[39m), \u001b[33mWeighted\u001b[39m(\u001b[32m𝒰 \u001b[39m, \u001b[32m0.5\u001b[39m))),\n",
       "  \u001b[33mVector\u001b[39m(),\n",
       "  \u001b[33mFiniteDistribution\u001b[39m(\n",
       "    \u001b[33mVector\u001b[39m(\n",
       "      \u001b[33mWeighted\u001b[39m(\n",
       "        \u001b[33mExstInducDefn\u001b[39m(\n",
       "          \u001b[32mNat\u001b[39m,\n",
       "          \u001b[33mVector\u001b[39m(\u001b[32mzero\u001b[39m, \u001b[32msucc\u001b[39m),\n",
       "          \u001b[33mConsSeqExst\u001b[39m(\n",
       "            \u001b[33mConstructorSeqTL\u001b[39m(\n",
       "              \u001b[33mCons\u001b[39m(\u001b[32mzero\u001b[39m, IdShape(), \u001b[33mCons\u001b[39m(\u001b[32msucc\u001b[39m, \u001b[33mFuncConsShape\u001b[39m(IdIterShape(), IdShape()), Empty())),\n",
       "              \u001b[32mNat\u001b[39m\n",
       "            ),\n",
       "            \u001b[33mVector\u001b[39m(\u001b[32mzero\u001b[39m, \u001b[32msucc\u001b[39m)\n",
       "          )\n",
       "        ),\n",
       "        \u001b[32m0.5\u001b[39m\n",
       "      ),\n",
       "      \u001b[33mWeighted\u001b[39m(\n",
       "        \u001b[33mExstInducDefn\u001b[39m(\n",
       "          \u001b[32mList\u001b[39m,\n",
       "          \u001b[33mVector\u001b[39m(\u001b[32mnil\u001b[39m, \u001b[32mcons\u001b[39m),\n",
       "          \u001b[33mLambdaInduc\u001b[39m(\n",
       "            \u001b[32mA\u001b[39m,\n",
       "            \u001b[33mConsSeqExst\u001b[39m(\n",
       "              \u001b[33mConstructorSeqTL\u001b[39m(\n",
       "                \u001b[33mCons\u001b[39m(\n",
       "                  \u001b[32m(nil) (A)\u001b[39m,\n",
       "                  IdShape(),\n",
       "                  \u001b[33mCons\u001b[39m(\n",
       "                    \u001b[32m(cons) (A)\u001b[39m,\n",
       "                    \u001b[33mCnstFuncConsShape\u001b[39m(\u001b[32mA\u001b[39m, \u001b[33mFuncConsShape\u001b[39m(IdIterShape(), IdShape())),\n",
       "                    Empty()\n",
       "                  )\n",
       "                ),\n",
       "                \u001b[32mList(A)\u001b[39m\n",
       "              ),\n",
       "              \u001b[33mVector\u001b[39m(\u001b[32mnil(A)\u001b[39m, \u001b[32mcons(A)\u001b[39m)\n",
       "..."
      ]
     },
     "execution_count": 34,
     "metadata": {},
     "output_type": "execute_result"
    }
   ],
   "source": [
    "val tsL = TermState(FD.unif(Nat, zero, succ, List, nil, cons), FD.unif(Nat, Type), inds = FD.unif(natDef, listDef))"
   ]
  },
  {
   "cell_type": "code",
   "execution_count": null,
   "metadata": {},
   "outputs": [],
   "source": []
  },
  {
   "cell_type": "code",
   "execution_count": 35,
   "metadata": {},
   "outputs": [
    {
     "data": {
      "text/plain": [
       "\u001b[36mdomLT\u001b[39m: \u001b[32mmonix\u001b[39m.\u001b[32meval\u001b[39m.\u001b[32mTask\u001b[39m[\u001b[32mFiniteDistribution\u001b[39m[\u001b[32mTerm\u001b[39m]] = \u001b[33mFlatMap\u001b[39m(\n",
       "  \u001b[33mAsync\u001b[39m(<function2>, true, true, true),\n",
       "  monix.eval.Task$$Lambda$3843/1159594218@46dde1e2\n",
       ")"
      ]
     },
     "execution_count": 35,
     "metadata": {},
     "output_type": "execute_result"
    }
   ],
   "source": [
    "val domLT = mfd.varDist(ts)(domForInduc(listDef), 0.00001)"
   ]
  },
  {
   "cell_type": "code",
   "execution_count": 36,
   "metadata": {},
   "outputs": [
    {
     "data": {
      "text/plain": [
       "\u001b[36mdomLD\u001b[39m: \u001b[32mFiniteDistribution\u001b[39m[\u001b[32mTerm\u001b[39m] = \u001b[33mFiniteDistribution\u001b[39m(\n",
       "  \u001b[33mVector\u001b[39m(\u001b[33mWeighted\u001b[39m(\u001b[32mList((Nat → Nat))\u001b[39m, \u001b[32m9.567012510526363E-4\u001b[39m), \u001b[33mWeighted\u001b[39m(\u001b[32mList(Nat)\u001b[39m, \u001b[32m0.9990432987489474\u001b[39m))\n",
       ")"
      ]
     },
     "execution_count": 36,
     "metadata": {},
     "output_type": "execute_result"
    }
   ],
   "source": [
    "val domLD = domLT.runSyncUnsafe()"
   ]
  },
  {
   "cell_type": "code",
   "execution_count": 37,
   "metadata": {},
   "outputs": [
    {
     "data": {
      "text/plain": [
       "\u001b[36mndLT\u001b[39m: \u001b[32mmonix\u001b[39m.\u001b[32meval\u001b[39m.\u001b[32mTask\u001b[39m[\u001b[32mFiniteDistribution\u001b[39m[\u001b[32mTerm\u001b[39m]] = \u001b[33mFlatMap\u001b[39m(\n",
       "  \u001b[33mMap\u001b[39m(\n",
       "    \u001b[33mFlatMap\u001b[39m(\u001b[33mAsync\u001b[39m(<function2>, true, true, true), monix.eval.Task$$Lambda$3843/1159594218@439a4e38),\n",
       "    provingground.learning.MonixFiniteDistribution$$Lambda$3947/871931955@22e705f3,\n",
       "    \u001b[32m0\u001b[39m\n",
       "  ),\n",
       "  provingground.learning.MonixFiniteDistribution$$Lambda$3948/634189918@566701dd\n",
       ")"
      ]
     },
     "execution_count": 37,
     "metadata": {},
     "output_type": "execute_result"
    }
   ],
   "source": [
    "val ndLT = mfd.nodeDist(tsL)(tg.Gen.recFuncFoldedNode, 0.0001)"
   ]
  },
  {
   "cell_type": "code",
   "execution_count": 38,
   "metadata": {},
   "outputs": [
    {
     "data": {
      "text/plain": [
       "\u001b[36mndLD\u001b[39m: \u001b[32mFiniteDistribution\u001b[39m[\u001b[32mTerm\u001b[39m] = \u001b[33mFiniteDistribution\u001b[39m(\n",
       "  \u001b[33mVector\u001b[39m(\n",
       "    \u001b[33mWeighted\u001b[39m(\n",
       "      \u001b[32mrec_{ List(List(List(Nat))) ; 𝒰  }(List(Nat))((_ : List(List(Nat))) ↦ (_ : List(List(List(Nat)))) ↦ (@a : 𝒰 ) ↦ @a)\u001b[39m,\n",
       "      \u001b[32m0.011876025054261429\u001b[39m\n",
       "    ),\n",
       "    \u001b[33mWeighted\u001b[39m(\n",
       "      \u001b[32mrec_{ List(Nat) ; 𝒰  }(List(Nat))((_ : Nat) ↦ (_ : List(Nat)) ↦ List)\u001b[39m,\n",
       "      \u001b[32m0.024838099482446346\u001b[39m\n",
       "    ),\n",
       "    \u001b[33mWeighted\u001b[39m(\n",
       "      \u001b[32mrec_{ List(List(Nat)) ; Nat }(zero)((_ : List(Nat)) ↦ (_ : List(List(Nat))) ↦ (@a : Nat) ↦ @a)\u001b[39m,\n",
       "      \u001b[32m0.005371146116496761\u001b[39m\n",
       "    ),\n",
       "    \u001b[33mWeighted\u001b[39m(\n",
       "      \u001b[32mrec_{ List(List(List(Nat))) ; 𝒰  }(Nat)((_ : List(List(Nat))) ↦ (_ : List(List(List(Nat)))) ↦ List)\u001b[39m,\n",
       "      \u001b[32m0.004713022535422637\u001b[39m\n",
       "    ),\n",
       "    \u001b[33mWeighted\u001b[39m(\n",
       "      \u001b[32mrec_{ List(List(List(Nat))) ; Nat }(zero)((_ : List(List(Nat))) ↦ (_ : List(List(List(Nat)))) ↦ succ)\u001b[39m,\n",
       "      \u001b[32m0.004713022535422637\u001b[39m\n",
       "    ),\n",
       "    \u001b[33mWeighted\u001b[39m(\u001b[32mrec_{ List(Nat) ; 𝒰  }(Nat)((_ : Nat) ↦ (_ : List(Nat)) ↦ List)\u001b[39m, \u001b[32m0.008279366494148782\u001b[39m),\n",
       "    \u001b[33mWeighted\u001b[39m(\n",
       "      \u001b[32mrec_{ List(Nat) ; Nat }(succ(zero))((@a : Nat) ↦ (_ : List(Nat)) ↦ (_ : Nat) ↦ succ(@a))\u001b[39m,\n",
       "      \u001b[32m0.002517136577673004\u001b[39m\n",
       "    ),\n",
       "    \u001b[33mWeighted\u001b[39m(\n",
       "      \u001b[32mrec_{ List(Nat) ; Nat }(succ(zero))((_ : Nat) ↦ (_ : List(Nat)) ↦ (@b : Nat) ↦ succ(@b))\u001b[39m,\n",
       "      \u001b[32m0.013770049872190753\u001b[39m\n",
       "    ),\n",
       "    \u001b[33mWeighted\u001b[39m(\n",
       "      \u001b[32mrec_{ List(List(List(Nat))) ; 𝒰  }(Nat)((_ : List(List(Nat))) ↦ (_ : List(List(List(Nat)))) ↦ (_ : 𝒰 ) ↦ Nat)\u001b[39m,\n",
       "      \u001b[32m7.543475173354943E-4\u001b[39m\n",
       "    ),\n",
       "    \u001b[33mWeighted\u001b[39m(\n",
       "      \u001b[32mrec_{ List(Nat) ; Nat }(succ(zero))((_ : Nat) ↦ (_ : List(Nat)) ↦ succ)\u001b[39m,\n",
       "      \u001b[32m0.02492022289823205\u001b[39m\n",
       "    ),\n",
       "    \u001b[33mWeighted\u001b[39m(\n",
       "      \u001b[32mrec_{ List(List(Nat)) ; Nat }(succ(zero))((_ : List(Nat)) ↦ (_ : List(List(Nat))) ↦ succ)\u001b[39m,\n",
       "      \u001b[32m0.019183943546087597\u001b[39m\n",
       "    ),\n",
       "..."
      ]
     },
     "execution_count": 38,
     "metadata": {},
     "output_type": "execute_result"
    }
   ],
   "source": [
    "val ndLD = ndLT.runSyncUnsafe()"
   ]
  },
  {
   "cell_type": "code",
   "execution_count": 39,
   "metadata": {},
   "outputs": [
    {
     "data": {
      "text/plain": [
       "\u001b[36mres38\u001b[39m: \u001b[32mFiniteDistribution\u001b[39m[\u001b[32mTyp\u001b[39m[\u001b[32mU\u001b[39m] forSome { type \u001b[32mU\u001b[39m >: \u001b[32mx$1\u001b[39m <: \u001b[32mTerm\u001b[39m with \u001b[32mSubs\u001b[39m[\u001b[32mU\u001b[39m]; val \u001b[32mx$1\u001b[39m: \u001b[32mTerm\u001b[39m }] = \u001b[33mFiniteDistribution\u001b[39m(\n",
       "  \u001b[33mVector\u001b[39m(\n",
       "    \u001b[33mWeighted\u001b[39m(\u001b[32m(Nat → (List(Nat) → Nat))\u001b[39m, \u001b[32m0.0038234979779664816\u001b[39m),\n",
       "    \u001b[33mWeighted\u001b[39m(\u001b[32m(Nat → (𝒰  → Nat))\u001b[39m, \u001b[32m0.003355421330769112\u001b[39m),\n",
       "    \u001b[33mWeighted\u001b[39m(\u001b[32m(List(Nat) → List(Nat))\u001b[39m, \u001b[32m0.022873118360534392\u001b[39m),\n",
       "    \u001b[33mWeighted\u001b[39m(\u001b[32m(List(List(Nat)) → List(Nat))\u001b[39m, \u001b[32m0.02209525361376903\u001b[39m),\n",
       "    \u001b[33mWeighted\u001b[39m(\u001b[32m(List(List(List(Nat))) → List(Nat))\u001b[39m, \u001b[32m0.0167018088689114\u001b[39m),\n",
       "    \u001b[33mWeighted\u001b[39m(\u001b[32m(Nat → List(Nat))\u001b[39m, \u001b[32m0.05340219573467698\u001b[39m),\n",
       "    \u001b[33mWeighted\u001b[39m(\u001b[32m(List(List(Nat)) → Nat)\u001b[39m, \u001b[32m0.05115718278956693\u001b[39m),\n",
       "    \u001b[33mWeighted\u001b[39m(\u001b[32m(List(List(List(Nat))) → Nat)\u001b[39m, \u001b[32m0.0377041802833811\u001b[39m),\n",
       "    \u001b[33mWeighted\u001b[39m(\u001b[32m(List(Nat) → Nat)\u001b[39m, \u001b[32m0.0664539277286188\u001b[39m),\n",
       "    \u001b[33mWeighted\u001b[39m(\u001b[32m(Nat → Nat)\u001b[39m, \u001b[32m0.15430368002512065\u001b[39m),\n",
       "    \u001b[33mWeighted\u001b[39m(\u001b[32m(List(List(List(Nat))) → 𝒰 )\u001b[39m, \u001b[32m0.03770418028338109\u001b[39m),\n",
       "    \u001b[33mWeighted\u001b[39m(\u001b[32m(List(Nat) → 𝒰 )\u001b[39m, \u001b[32m0.06623493195319026\u001b[39m),\n",
       "    \u001b[33mWeighted\u001b[39m(\u001b[32m(List(List(Nat)) → 𝒰 )\u001b[39m, \u001b[32m0.050963433793644444\u001b[39m),\n",
       "    \u001b[33mWeighted\u001b[39m(\u001b[32m(Nat → 𝒰 )\u001b[39m, \u001b[32m0.1538045651997658\u001b[39m),\n",
       "    \u001b[33mWeighted\u001b[39m(\u001b[32m(Nat → (List(Nat) → List(Nat)))\u001b[39m, \u001b[32m0.0031862483149720684\u001b[39m),\n",
       "    \u001b[33mWeighted\u001b[39m(\u001b[32m(Nat → (Nat → 𝒰 ))\u001b[39m, \u001b[32m0.004553786091758079\u001b[39m),\n",
       "    \u001b[33mWeighted\u001b[39m(\u001b[32m(Nat → (List(Nat) → 𝒰 ))\u001b[39m, \u001b[32m0.0038234979779664816\u001b[39m),\n",
       "    \u001b[33mWeighted\u001b[39m(\u001b[32m(Nat → ∏(@a : 𝒰 ){ List(@a) })\u001b[39m, \u001b[32m0.0028760754263735255\u001b[39m)\n",
       "  )\n",
       ")"
      ]
     },
     "execution_count": 39,
     "metadata": {},
     "output_type": "execute_result"
    }
   ],
   "source": [
    "ndLD.map(_.typ).flatten"
   ]
  },
  {
   "cell_type": "code",
   "execution_count": 40,
   "metadata": {},
   "outputs": [
    {
     "data": {
      "text/plain": [
       "\u001b[36mres39\u001b[39m: \u001b[32mInt\u001b[39m = \u001b[32m93\u001b[39m"
      ]
     },
     "execution_count": 40,
     "metadata": {},
     "output_type": "execute_result"
    }
   ],
   "source": [
    "ndLD.support.size"
   ]
  },
  {
   "cell_type": "code",
   "execution_count": 41,
   "metadata": {},
   "outputs": [
    {
     "data": {
      "text/plain": [
       "\u001b[36mfns\u001b[39m: \u001b[32mMap\u001b[39m[\u001b[32mTyp\u001b[39m[\u001b[32mU\u001b[39m] forSome { type \u001b[32mU\u001b[39m >: \u001b[32mx$1\u001b[39m <: \u001b[32mTerm\u001b[39m with \u001b[32mSubs\u001b[39m[\u001b[32mU\u001b[39m]; val \u001b[32mx$1\u001b[39m: \u001b[32mTerm\u001b[39m }, \u001b[32mSet\u001b[39m[\u001b[32mTerm\u001b[39m]] = \u001b[33mMap\u001b[39m(\n",
       "  \u001b[32m(Nat → (List(Nat) → Nat))\u001b[39m -> \u001b[33mSet\u001b[39m(\n",
       "    \u001b[32mrec_{ Nat ; (List(Nat) → Nat) }((_ : List(Nat)) ↦ zero)((_ : Nat) ↦ (@a : (List(Nat) → Nat)) ↦ @a)\u001b[39m\n",
       "  ),\n",
       "  \u001b[32m(Nat → (𝒰  → Nat))\u001b[39m -> \u001b[33mSet\u001b[39m(\n",
       "    \u001b[32mrec_{ Nat ; (𝒰  → Nat) }((_ : 𝒰 ) ↦ zero)((_ : Nat) ↦ (@a : (𝒰  → Nat)) ↦ @a)\u001b[39m\n",
       "  ),\n",
       "  \u001b[32m(List(List(List(Nat))) → List(Nat))\u001b[39m -> \u001b[33mSet\u001b[39m(\n",
       "    \u001b[32mrec_{ List(List(List(Nat))) ; List(Nat) }(nil(Nat))((_ : List(List(Nat))) ↦ (_ : List(List(List(Nat)))) ↦ (@a : List(Nat)) ↦ @a)\u001b[39m\n",
       "  ),\n",
       "  \u001b[32m(List(List(Nat)) → List(Nat))\u001b[39m -> \u001b[33mSet\u001b[39m(\n",
       "    \u001b[32mrec_{ List(List(Nat)) ; List(Nat) }(nil(Nat))((@a : List(Nat)) ↦ (_ : List(List(Nat))) ↦ (_ : List(Nat)) ↦ @a)\u001b[39m,\n",
       "    \u001b[32mrec_{ List(List(Nat)) ; List(Nat) }(nil(Nat))((_ : List(Nat)) ↦ (_ : List(List(Nat))) ↦ (@b : List(Nat)) ↦ @b)\u001b[39m\n",
       "  ),\n",
       "  \u001b[32m(Nat → List(Nat))\u001b[39m -> \u001b[33mSet\u001b[39m(\n",
       "    \u001b[32mrec_{ Nat ; List(Nat) }(nil(Nat))((@a : Nat) ↦ cons(Nat)(@a))\u001b[39m,\n",
       "    \u001b[32mrec_{ Nat ; List(Nat) }(nil(Nat))(cons(Nat))\u001b[39m,\n",
       "    \u001b[32mrec_{ Nat ; List(Nat) }(nil(Nat))((_ : Nat) ↦ cons(Nat)(zero))\u001b[39m,\n",
       "    \u001b[32mrec_{ Nat ; List(Nat) }(nil(Nat))((_ : Nat) ↦ (@a : List(Nat)) ↦ @a)\u001b[39m,\n",
       "    \u001b[32mrec_{ Nat ; List(Nat) }(nil(Nat))((_ : Nat) ↦ (_ : List(Nat)) ↦ nil(Nat))\u001b[39m\n",
       "  ),\n",
       "  \u001b[32m(List(Nat) → List(Nat))\u001b[39m -> \u001b[33mSet\u001b[39m(\n",
       "    \u001b[32mrec_{ List(Nat) ; List(Nat) }(nil(Nat))((_ : Nat) ↦ (@a : List(Nat)) ↦ (_ : List(Nat)) ↦ @a)\u001b[39m,\n",
       "    \u001b[32mrec_{ List(Nat) ; List(Nat) }(nil(Nat))((_ : Nat) ↦ (_ : List(Nat)) ↦ (@b : List(Nat)) ↦ @b)\u001b[39m\n",
       "  ),\n",
       "  \u001b[32m(Nat → Nat)\u001b[39m -> \u001b[33mSet\u001b[39m(\n",
       "    \u001b[32mrec_{ Nat ; Nat }(succ(zero))((_ : Nat) ↦ (_ : Nat) ↦ zero)\u001b[39m,\n",
       "    \u001b[32mrec_{ Nat ; Nat }(succ(succ(zero)))((_ : Nat) ↦ (_ : Nat) ↦ zero)\u001b[39m,\n",
       "    \u001b[32mrec_{ Nat ; Nat }(succ(zero))((_ : Nat) ↦ succ)\u001b[39m,\n",
       "    \u001b[32mrec_{ Nat ; Nat }(succ(succ(zero)))((_ : Nat) ↦ (@b : Nat) ↦ @b)\u001b[39m,\n",
       "    \u001b[32mrec_{ Nat ; Nat }(succ(succ(zero)))((@a : Nat) ↦ (_ : Nat) ↦ @a)\u001b[39m,\n",
       "    \u001b[32mrec_{ Nat ; Nat }(zero)((@a : Nat) ↦ (_ : Nat) ↦ @a)\u001b[39m,\n",
       "    \u001b[32mrec_{ Nat ; Nat }(zero)((_ : Nat) ↦ (@b : Nat) ↦ @b)\u001b[39m,\n",
       "    \u001b[32mrec_{ Nat ; Nat }(succ(zero))((_ : Nat) ↦ (_ : Nat) ↦ succ(zero))\u001b[39m,\n",
       "    \u001b[32mrec_{ Nat ; Nat }(zero)((_ : Nat) ↦ (@b : Nat) ↦ succ(@b))\u001b[39m,\n",
       "    \u001b[32mrec_{ Nat ; Nat }(zero)((@a : Nat) ↦ (_ : Nat) ↦ succ(@a))\u001b[39m,\n",
       "    \u001b[32mrec_{ Nat ; Nat }(succ(zero))((@a : Nat) ↦ (_ : Nat) ↦ @a)\u001b[39m,\n",
       "    \u001b[32mrec_{ Nat ; Nat }(succ(zero))((_ : Nat) ↦ (@b : Nat) ↦ @b)\u001b[39m,\n",
       "    \u001b[32mrec_{ Nat ; Nat }(succ(zero))((_ : Nat) ↦ (@b : Nat) ↦ succ(@b))\u001b[39m,\n",
       "    \u001b[32mrec_{ Nat ; Nat }(succ(zero))((@a : Nat) ↦ (_ : Nat) ↦ succ(@a))\u001b[39m,\n",
       "    \u001b[32mrec_{ Nat ; Nat }(zero)((_ : Nat) ↦ succ)\u001b[39m,\n",
       "    \u001b[32mrec_{ Nat ; Nat }(zero)((_ : Nat) ↦ (_ : Nat) ↦ zero)\u001b[39m,\n",
       "    \u001b[32mrec_{ Nat ; Nat }(zero)((_ : Nat) ↦ (_ : Nat) ↦ succ(zero))\u001b[39m,\n",
       "    \u001b[32mrec_{ Nat ; Nat }(succ(succ(zero)))((_ : Nat) ↦ succ)\u001b[39m,\n",
       "    \u001b[32mrec_{ Nat ; Nat }(succ(succ(zero)))((_ : Nat) ↦ (@b : Nat) ↦ succ(@b))\u001b[39m,\n",
       "..."
      ]
     },
     "execution_count": 41,
     "metadata": {},
     "output_type": "execute_result"
    }
   ],
   "source": [
    "val fns = ndLD.support.groupBy(_.typ)"
   ]
  },
  {
   "cell_type": "code",
   "execution_count": 42,
   "metadata": {},
   "outputs": [
    {
     "data": {
      "text/plain": [
       "\u001b[36mlToL\u001b[39m: \u001b[32mSet\u001b[39m[\u001b[32mTerm\u001b[39m] = \u001b[33mSet\u001b[39m(\n",
       "  \u001b[32mrec_{ List(Nat) ; List(Nat) }(nil(Nat))((_ : Nat) ↦ (@a : List(Nat)) ↦ (_ : List(Nat)) ↦ @a)\u001b[39m,\n",
       "  \u001b[32mrec_{ List(Nat) ; List(Nat) }(nil(Nat))((_ : Nat) ↦ (_ : List(Nat)) ↦ (@b : List(Nat)) ↦ @b)\u001b[39m\n",
       ")"
      ]
     },
     "execution_count": 42,
     "metadata": {},
     "output_type": "execute_result"
    }
   ],
   "source": [
    "val lToL = fns(List(Nat) ->: List(Nat))"
   ]
  },
  {
   "cell_type": "code",
   "execution_count": 43,
   "metadata": {},
   "outputs": [
    {
     "data": {
      "text/plain": [
       "\u001b[36mres42_0\u001b[39m: \u001b[32mTyp\u001b[39m[\u001b[32mU\u001b[39m] = \u001b[32mList(Nat)\u001b[39m\n",
       "\u001b[36mres42_1\u001b[39m: \u001b[32mTyp\u001b[39m[\u001b[32mFunc\u001b[39m[\u001b[32mTerm\u001b[39m, \u001b[32mFunc\u001b[39m[\u001b[32mTerm\u001b[39m, \u001b[32mTerm\u001b[39m]]] = \u001b[32m(Nat → (List(Nat) → List(Nat)))\u001b[39m"
      ]
     },
     "execution_count": 43,
     "metadata": {},
     "output_type": "execute_result"
    }
   ],
   "source": [
    "nil(Nat).typ\n",
    "cons(Nat).typ"
   ]
  },
  {
   "cell_type": "code",
   "execution_count": 44,
   "metadata": {},
   "outputs": [
    {
     "data": {
      "text/plain": [
       "\u001b[36ml0\u001b[39m: \u001b[32mTerm\u001b[39m = \u001b[32mcons(Nat)(zero)(nil(Nat))\u001b[39m"
      ]
     },
     "execution_count": 44,
     "metadata": {},
     "output_type": "execute_result"
    }
   ],
   "source": [
    "val l0 = cons(Nat)(zero)(nil(Nat))"
   ]
  },
  {
   "cell_type": "code",
   "execution_count": 45,
   "metadata": {},
   "outputs": [
    {
     "data": {
      "text/plain": [
       "\u001b[36ml1\u001b[39m: \u001b[32mTerm\u001b[39m = \u001b[32mcons(Nat)(succ(zero))(cons(Nat)(zero)(nil(Nat)))\u001b[39m"
      ]
     },
     "execution_count": 45,
     "metadata": {},
     "output_type": "execute_result"
    }
   ],
   "source": [
    "val l1 = cons(Nat)(succ(zero))(l0)"
   ]
  },
  {
   "cell_type": "code",
   "execution_count": 46,
   "metadata": {},
   "outputs": [
    {
     "data": {
      "text/plain": [
       "\u001b[32mimport \u001b[39m\u001b[36mFold._\n",
       "\u001b[39m\n",
       "\u001b[36mres45_1\u001b[39m: \u001b[32mSet\u001b[39m[\u001b[32mTerm\u001b[39m] = \u001b[33mSet\u001b[39m(\u001b[32mnil(Nat)\u001b[39m, \u001b[32mcons(Nat)(zero)(nil(Nat))\u001b[39m)"
      ]
     },
     "execution_count": 46,
     "metadata": {},
     "output_type": "execute_result"
    }
   ],
   "source": [
    "import Fold._\n",
    "lToL.map(fn => fn(l1))"
   ]
  },
  {
   "cell_type": "code",
   "execution_count": 47,
   "metadata": {},
   "outputs": [
    {
     "data": {
      "text/plain": [
       "\u001b[36mVec\u001b[39m: \u001b[32mFunc\u001b[39m[\u001b[32mTyp\u001b[39m[\u001b[32mTerm\u001b[39m], \u001b[32mFunc\u001b[39m[\u001b[32mTerm\u001b[39m, \u001b[32mTyp\u001b[39m[\u001b[32mTerm\u001b[39m]]] = \u001b[32mVec\u001b[39m\n",
       "\u001b[36mvnil\u001b[39m: \u001b[32mFuncLike\u001b[39m[\u001b[32mTyp\u001b[39m[\u001b[32mTerm\u001b[39m], \u001b[32mTerm\u001b[39m] = \u001b[32mvnil\u001b[39m\n",
       "\u001b[36mvcons\u001b[39m: \u001b[32mFuncLike\u001b[39m[\u001b[32mTyp\u001b[39m[\u001b[32mTerm\u001b[39m], \u001b[32mFuncLike\u001b[39m[\u001b[32mTerm\u001b[39m, \u001b[32mFunc\u001b[39m[\u001b[32mTerm\u001b[39m, \u001b[32mFunc\u001b[39m[\u001b[32mTerm\u001b[39m, \u001b[32mTerm\u001b[39m]]]] = \u001b[32mvcons\u001b[39m"
      ]
     },
     "execution_count": 47,
     "metadata": {},
     "output_type": "execute_result"
    }
   ],
   "source": [
    "val Vec = \"Vec\" :: Type ->: Nat ->: Type\n",
    "val vnil = \"vnil\" :: (A ~>: Vec(A)(zero))\n",
    "val vcons = \"vcons\" :: A ~>: (n ~>: (A ->: Vec(A)(n) ->: Vec(A)(succ(n))))"
   ]
  },
  {
   "cell_type": "code",
   "execution_count": 48,
   "metadata": {},
   "outputs": [
    {
     "data": {
      "text/plain": [
       "\u001b[36mvecAIntros\u001b[39m: \u001b[32mVector\u001b[39m[\u001b[32mTerm\u001b[39m] = \u001b[33mVector\u001b[39m(\u001b[32mvnil(A)\u001b[39m, \u001b[32mvcons(A)\u001b[39m)\n",
       "\u001b[36mvecAStr\u001b[39m: \u001b[32mExstInducStrucs\u001b[39m = \u001b[33mIndConsSeqExst\u001b[39m(\n",
       "  \u001b[33mCons\u001b[39m(\n",
       "    \u001b[32m(vnil) (A)\u001b[39m,\n",
       "    \u001b[33mIndexedIdShape\u001b[39m(\u001b[33mFuncTypFamily\u001b[39m(\u001b[32mNat\u001b[39m, IdTypFamily()), \u001b[32mzero\u001b[39m :: HNil),\n",
       "    \u001b[33mCons\u001b[39m(\n",
       "      \u001b[32m(vcons) (A)\u001b[39m,\n",
       "      \u001b[33mIndexedCnstDepFuncConsShape\u001b[39m(\n",
       "        \u001b[32mNat\u001b[39m,\n",
       "        provingground.induction.TypFamilyExst$IndexedConstructorShapeExst$$Lambda$4481/467783333@1ab80398\n",
       "      ),\n",
       "      \u001b[33mEmpty\u001b[39m(\u001b[32mVec(A)\u001b[39m, \u001b[33mFuncTypFamily\u001b[39m(\u001b[32mNat\u001b[39m, IdTypFamily()))\n",
       "    )\n",
       "  ),\n",
       "  \u001b[33mVector\u001b[39m(\u001b[32mvnil(A)\u001b[39m, \u001b[32mvcons(A)\u001b[39m)\n",
       ")"
      ]
     },
     "execution_count": 48,
     "metadata": {},
     "output_type": "execute_result"
    }
   ],
   "source": [
    "val vecAIntros = Vector(vnil(A), vcons(A))\n",
    "val vecAStr = ExstInducStrucs.getIndexed(Vec(A), vecAIntros)"
   ]
  },
  {
   "cell_type": "code",
   "execution_count": 49,
   "metadata": {},
   "outputs": [
    {
     "data": {
      "text/plain": [
       "\u001b[36mvecStr\u001b[39m: \u001b[32mExstInducStrucs\u001b[39m.\u001b[32mLambdaInduc\u001b[39m = \u001b[33mLambdaInduc\u001b[39m(\n",
       "  \u001b[32mA\u001b[39m,\n",
       "  \u001b[33mIndConsSeqExst\u001b[39m(\n",
       "    \u001b[33mCons\u001b[39m(\n",
       "      \u001b[32m(vnil) (A)\u001b[39m,\n",
       "      \u001b[33mIndexedIdShape\u001b[39m(\u001b[33mFuncTypFamily\u001b[39m(\u001b[32mNat\u001b[39m, IdTypFamily()), \u001b[32mzero\u001b[39m :: HNil),\n",
       "      \u001b[33mCons\u001b[39m(\n",
       "        \u001b[32m(vcons) (A)\u001b[39m,\n",
       "        \u001b[33mIndexedCnstDepFuncConsShape\u001b[39m(\n",
       "          \u001b[32mNat\u001b[39m,\n",
       "          provingground.induction.TypFamilyExst$IndexedConstructorShapeExst$$Lambda$4481/467783333@1ab80398\n",
       "        ),\n",
       "        \u001b[33mEmpty\u001b[39m(\u001b[32mVec(A)\u001b[39m, \u001b[33mFuncTypFamily\u001b[39m(\u001b[32mNat\u001b[39m, IdTypFamily()))\n",
       "      )\n",
       "    ),\n",
       "    \u001b[33mVector\u001b[39m(\u001b[32mvnil(A)\u001b[39m, \u001b[32mvcons(A)\u001b[39m)\n",
       "  )\n",
       ")"
      ]
     },
     "execution_count": 49,
     "metadata": {},
     "output_type": "execute_result"
    }
   ],
   "source": [
    "val vecStr = ExstInducStrucs.LambdaInduc(A, vecAStr)"
   ]
  },
  {
   "cell_type": "code",
   "execution_count": 50,
   "metadata": {},
   "outputs": [
    {
     "data": {
      "text/plain": [
       "\u001b[36mvecDef\u001b[39m: \u001b[32mExstInducDefn\u001b[39m = \u001b[33mExstInducDefn\u001b[39m(\n",
       "  \u001b[32mVec\u001b[39m,\n",
       "  \u001b[33mVector\u001b[39m(\u001b[32mvnil\u001b[39m, \u001b[32mvcons\u001b[39m),\n",
       "  \u001b[33mLambdaInduc\u001b[39m(\n",
       "    \u001b[32mA\u001b[39m,\n",
       "    \u001b[33mIndConsSeqExst\u001b[39m(\n",
       "      \u001b[33mCons\u001b[39m(\n",
       "        \u001b[32m(vnil) (A)\u001b[39m,\n",
       "        \u001b[33mIndexedIdShape\u001b[39m(\u001b[33mFuncTypFamily\u001b[39m(\u001b[32mNat\u001b[39m, IdTypFamily()), \u001b[32mzero\u001b[39m :: HNil),\n",
       "        \u001b[33mCons\u001b[39m(\n",
       "          \u001b[32m(vcons) (A)\u001b[39m,\n",
       "          \u001b[33mIndexedCnstDepFuncConsShape\u001b[39m(\n",
       "            \u001b[32mNat\u001b[39m,\n",
       "            provingground.induction.TypFamilyExst$IndexedConstructorShapeExst$$Lambda$4481/467783333@1ab80398\n",
       "          ),\n",
       "          \u001b[33mEmpty\u001b[39m(\u001b[32mVec(A)\u001b[39m, \u001b[33mFuncTypFamily\u001b[39m(\u001b[32mNat\u001b[39m, IdTypFamily()))\n",
       "        )\n",
       "      ),\n",
       "      \u001b[33mVector\u001b[39m(\u001b[32mvnil(A)\u001b[39m, \u001b[32mvcons(A)\u001b[39m)\n",
       "    )\n",
       "  )\n",
       ")\n",
       "\u001b[36mtsV\u001b[39m: \u001b[32mTermState\u001b[39m = \u001b[33mTermState\u001b[39m(\n",
       "  \u001b[33mFiniteDistribution\u001b[39m(\n",
       "    \u001b[33mVector\u001b[39m(\n",
       "      \u001b[33mWeighted\u001b[39m(\u001b[32mzero\u001b[39m, \u001b[32m0.16666666666666666\u001b[39m),\n",
       "      \u001b[33mWeighted\u001b[39m(\u001b[32mNat\u001b[39m, \u001b[32m0.16666666666666666\u001b[39m),\n",
       "      \u001b[33mWeighted\u001b[39m(\u001b[32mVec\u001b[39m, \u001b[32m0.16666666666666666\u001b[39m),\n",
       "      \u001b[33mWeighted\u001b[39m(\u001b[32msucc\u001b[39m, \u001b[32m0.16666666666666666\u001b[39m),\n",
       "      \u001b[33mWeighted\u001b[39m(\u001b[32mvnil\u001b[39m, \u001b[32m0.16666666666666666\u001b[39m),\n",
       "      \u001b[33mWeighted\u001b[39m(\u001b[32mvcons\u001b[39m, \u001b[32m0.16666666666666666\u001b[39m)\n",
       "    )\n",
       "  ),\n",
       "  \u001b[33mFiniteDistribution\u001b[39m(\u001b[33mVector\u001b[39m(\u001b[33mWeighted\u001b[39m(\u001b[32mNat\u001b[39m, \u001b[32m0.5\u001b[39m), \u001b[33mWeighted\u001b[39m(\u001b[32m𝒰 \u001b[39m, \u001b[32m0.5\u001b[39m))),\n",
       "  \u001b[33mVector\u001b[39m(),\n",
       "  \u001b[33mFiniteDistribution\u001b[39m(\n",
       "    \u001b[33mVector\u001b[39m(\n",
       "      \u001b[33mWeighted\u001b[39m(\n",
       "        \u001b[33mExstInducDefn\u001b[39m(\n",
       "          \u001b[32mVec\u001b[39m,\n",
       "          \u001b[33mVector\u001b[39m(\u001b[32mvnil\u001b[39m, \u001b[32mvcons\u001b[39m),\n",
       "          \u001b[33mLambdaInduc\u001b[39m(\n",
       "            \u001b[32mA\u001b[39m,\n",
       "            \u001b[33mIndConsSeqExst\u001b[39m(\n",
       "              \u001b[33mCons\u001b[39m(\n",
       "                \u001b[32m(vnil) (A)\u001b[39m,\n",
       "                \u001b[33mIndexedIdShape\u001b[39m(\u001b[33mFuncTypFamily\u001b[39m(\u001b[32mNat\u001b[39m, IdTypFamily()), \u001b[32mzero\u001b[39m :: HNil),\n",
       "                \u001b[33mCons\u001b[39m(\n",
       "                  \u001b[32m(vcons) (A)\u001b[39m,\n",
       "                  \u001b[33mIndexedCnstDepFuncConsShape\u001b[39m(\n",
       "                    \u001b[32mNat\u001b[39m,\n",
       "                    provingground.induction.TypFamilyExst$IndexedConstructorShapeExst$$Lambda$4481/467783333@1ab80398\n",
       "                  ),\n",
       "                  \u001b[33mEmpty\u001b[39m(\u001b[32mVec(A)\u001b[39m, \u001b[33mFuncTypFamily\u001b[39m(\u001b[32mNat\u001b[39m, IdTypFamily()))\n",
       "                )\n",
       "              ),\n",
       "              \u001b[33mVector\u001b[39m(\u001b[32mvnil(A)\u001b[39m, \u001b[32mvcons(A)\u001b[39m)\n",
       "            )\n",
       "          )\n",
       "        ),\n",
       "        \u001b[32m1.0\u001b[39m\n",
       "      )\n",
       "    )\n",
       "  ),\n",
       "  \u001b[33mFiniteDistribution\u001b[39m(\u001b[33mVector\u001b[39m()),\n",
       "  Empty\n",
       ")"
      ]
     },
     "execution_count": 50,
     "metadata": {},
     "output_type": "execute_result"
    }
   ],
   "source": [
    "val vecDef = ExstInducDefn(Vec, Vector(vnil, vcons) ,vecStr)\n",
    "val tsV = TermState(FD.unif(Nat, zero, succ, Vec, vnil, vcons), FD.unif(Nat, Type), inds = FD.unif(vecDef))"
   ]
  },
  {
   "cell_type": "code",
   "execution_count": 51,
   "metadata": {},
   "outputs": [
    {
     "data": {
      "text/plain": [
       "\u001b[36mdomVT\u001b[39m: \u001b[32mmonix\u001b[39m.\u001b[32meval\u001b[39m.\u001b[32mTask\u001b[39m[\u001b[32mFiniteDistribution\u001b[39m[\u001b[32mTerm\u001b[39m]] = \u001b[33mFlatMap\u001b[39m(\n",
       "  \u001b[33mAsync\u001b[39m(<function2>, true, true, true),\n",
       "  monix.eval.Task$$Lambda$3843/1159594218@672a8bdf\n",
       ")"
      ]
     },
     "execution_count": 51,
     "metadata": {},
     "output_type": "execute_result"
    }
   ],
   "source": [
    "val domVT = mfd.varDist(ts)(domForInduc(vecDef), 0.00001)"
   ]
  },
  {
   "cell_type": "code",
   "execution_count": 52,
   "metadata": {},
   "outputs": [
    {
     "data": {
      "text/plain": [
       "\u001b[36mdomVD\u001b[39m: \u001b[32mFiniteDistribution\u001b[39m[\u001b[32mTerm\u001b[39m] = \u001b[33mFiniteDistribution\u001b[39m(\n",
       "  \u001b[33mVector\u001b[39m(\u001b[33mWeighted\u001b[39m(\u001b[32mVec(Nat)\u001b[39m, \u001b[32m0.9990432987489474\u001b[39m), \u001b[33mWeighted\u001b[39m(\u001b[32mVec((Nat → Nat))\u001b[39m, \u001b[32m9.567012510526363E-4\u001b[39m))\n",
       ")"
      ]
     },
     "execution_count": 52,
     "metadata": {},
     "output_type": "execute_result"
    }
   ],
   "source": [
    "val domVD = domVT.runSyncUnsafe()"
   ]
  },
  {
   "cell_type": "code",
   "execution_count": 53,
   "metadata": {},
   "outputs": [
    {
     "data": {
      "text/plain": [
       "\u001b[36mndVT\u001b[39m: \u001b[32mmonix\u001b[39m.\u001b[32meval\u001b[39m.\u001b[32mTask\u001b[39m[\u001b[32mFiniteDistribution\u001b[39m[\u001b[32mTerm\u001b[39m]] = \u001b[33mFlatMap\u001b[39m(\n",
       "  \u001b[33mMap\u001b[39m(\n",
       "    \u001b[33mFlatMap\u001b[39m(\u001b[33mAsync\u001b[39m(<function2>, true, true, true), monix.eval.Task$$Lambda$3843/1159594218@6ae4d806),\n",
       "    provingground.learning.MonixFiniteDistribution$$Lambda$3947/871931955@22e705f3,\n",
       "    \u001b[32m0\u001b[39m\n",
       "  ),\n",
       "  provingground.learning.MonixFiniteDistribution$$Lambda$3948/634189918@59e9a76f\n",
       ")"
      ]
     },
     "execution_count": 53,
     "metadata": {},
     "output_type": "execute_result"
    }
   ],
   "source": [
    "val ndVT = mfd.nodeDist(tsV)(tg.Gen.recFuncFoldedNode, 0.0001)"
   ]
  },
  {
   "cell_type": "code",
   "execution_count": 54,
   "metadata": {},
   "outputs": [
    {
     "data": {
      "text/plain": [
       "\u001b[36mndVD\u001b[39m: \u001b[32mFiniteDistribution\u001b[39m[\u001b[32mTerm\u001b[39m] = \u001b[33mFiniteDistribution\u001b[39m(\n",
       "  \u001b[33mVector\u001b[39m(\n",
       "    \u001b[33mWeighted\u001b[39m(\n",
       "      \u001b[32m($frsjt : Nat) ↦ rec_{ Vec(Vec(Nat)(zero)) ; 𝒰  }(Nat)((@a : Nat) ↦ (_ : Vec(Nat)(zero)) ↦ (_ : Vec(Vec(Nat)(zero))(@a)) ↦ (@a : 𝒰 ) ↦ @a)\u001b[39m,\n",
       "      \u001b[32m0.05428832685110763\u001b[39m\n",
       "    ),\n",
       "    \u001b[33mWeighted\u001b[39m(\n",
       "      \u001b[32m($gfezi : Nat) ↦ rec_{ Vec(Vec(Nat)(succ(zero))) ; Vec(Nat)(zero) }(vnil(Nat))((@a : Nat) ↦ (_ : Vec(Nat)(succ(zero))) ↦ (_ : Vec(Vec(Nat)(succ(zero)))(@a)) ↦ (@a : Vec(Nat)(zero)) ↦ @a)\u001b[39m,\n",
       "      \u001b[32m0.038431121021796\u001b[39m\n",
       "    ),\n",
       "    \u001b[33mWeighted\u001b[39m(\n",
       "      \u001b[32m($gkhlv : Nat) ↦ rec_{ Vec(Vec(Nat)(succ(zero))) ; Nat }(zero)((@a : Nat) ↦ (_ : Vec(Nat)(succ(zero))) ↦ (_ : Vec(Vec(Nat)(succ(zero)))(@a)) ↦ succ)\u001b[39m,\n",
       "      \u001b[32m0.008099343924690992\u001b[39m\n",
       "    ),\n",
       "    \u001b[33mWeighted\u001b[39m(\n",
       "      \u001b[32m($fovqr : Nat) ↦ rec_{ Vec(Nat) ; 𝒰  }(Vec(Nat)(zero))((@a : Nat) ↦ (_ : Nat) ↦ (_ : Vec(Nat)(@a)) ↦ (_ : 𝒰 ) ↦ Nat)\u001b[39m,\n",
       "      \u001b[32m0.007617194402665406\u001b[39m\n",
       "    ),\n",
       "    \u001b[33mWeighted\u001b[39m(\n",
       "      \u001b[32m($fyucp : Nat) ↦ rec_{ Vec(Nat) ; Nat }(succ(succ(zero)))((@a : Nat) ↦ (_ : Nat) ↦ (_ : Vec(Nat)(@a)) ↦ (_ : Nat) ↦ @a)\u001b[39m,\n",
       "      \u001b[32m0.001350080875687455\u001b[39m\n",
       "    ),\n",
       "    \u001b[33mWeighted\u001b[39m(\n",
       "      \u001b[32m($fyucp : Nat) ↦ rec_{ Vec(Nat) ; Nat }(succ(succ(zero)))((@a : Nat) ↦ (@b : Nat) ↦ (_ : Vec(Nat)(@a)) ↦ (_ : Nat) ↦ @b)\u001b[39m,\n",
       "      \u001b[32m0.001928686965267793\u001b[39m\n",
       "    ),\n",
       "    \u001b[33mWeighted\u001b[39m(\n",
       "      \u001b[32m($fyucp : Nat) ↦ rec_{ Vec(Nat) ; Nat }(succ(succ(zero)))((@a : Nat) ↦ (_ : Nat) ↦ (_ : Vec(Nat)(@a)) ↦ (@c : Nat) ↦ @c)\u001b[39m,\n",
       "      \u001b[32m0.003936095847485292\u001b[39m\n",
       "    ),\n",
       "    \u001b[33mWeighted\u001b[39m(\n",
       "      \u001b[32m($fovqr : Nat) ↦ rec_{ Vec(Nat) ; 𝒰  }(Nat)((@a : Nat) ↦ (_ : Nat) ↦ (_ : Vec(Nat)(@a)) ↦ (_ : 𝒰 ) ↦ Nat)\u001b[39m,\n",
       "      \u001b[32m0.008719560013732548\u001b[39m\n",
       "    ),\n",
       "    \u001b[33mWeighted\u001b[39m(\n",
       "      \u001b[32m($fyucp : Nat) ↦ rec_{ Vec(Nat) ; Nat }(succ(zero))((@a : Nat) ↦ (_ : Nat) ↦ (_ : Vec(Nat)(@a)) ↦ (@c : Nat) ↦ succ(@c))\u001b[39m,\n",
       "      \u001b[32m0.011407511741870428\u001b[39m\n",
       "    ),\n",
       "    \u001b[33mWeighted\u001b[39m(\n",
       "      \u001b[32m($fyucp : Nat) ↦ rec_{ Vec(Nat) ; Nat }(succ(zero))((@a : Nat) ↦ (@b : Nat) ↦ (_ : Vec(Nat)(@a\u001b[39m..."
      ]
     },
     "execution_count": 54,
     "metadata": {},
     "output_type": "execute_result"
    }
   ],
   "source": [
    "val ndVD = ndVT.runSyncUnsafe()"
   ]
  },
  {
   "cell_type": "code",
   "execution_count": 55,
   "metadata": {},
   "outputs": [
    {
     "data": {
      "text/plain": [
       "\u001b[36mres54\u001b[39m: \u001b[32mFiniteDistribution\u001b[39m[\u001b[32mTyp\u001b[39m[\u001b[32mU\u001b[39m] forSome { type \u001b[32mU\u001b[39m >: \u001b[32mx$1\u001b[39m <: \u001b[32mTerm\u001b[39m with \u001b[32mSubs\u001b[39m[\u001b[32mU\u001b[39m]; val \u001b[32mx$1\u001b[39m: \u001b[32mTerm\u001b[39m }] = \u001b[33mFiniteDistribution\u001b[39m(\n",
       "  \u001b[33mVector\u001b[39m(\n",
       "    \u001b[33mWeighted\u001b[39m(\u001b[32m∏($frsjt : Nat){ (Vec(Vec(Nat)(zero))($frsjt) → 𝒰 ) }\u001b[39m, \u001b[32m0.05428832685110763\u001b[39m),\n",
       "    \u001b[33mWeighted\u001b[39m(\n",
       "      \u001b[32m∏($gfezi : Nat){ (Vec(Vec(Nat)(succ(zero)))($gfezi) → Vec(Nat)(zero)) }\u001b[39m,\n",
       "      \u001b[32m0.038431121021796\u001b[39m\n",
       "    ),\n",
       "    \u001b[33mWeighted\u001b[39m(\u001b[32m∏($gkhlv : Nat){ (Vec(Vec(Nat)(succ(zero)))($gkhlv) → Nat) }\u001b[39m, \u001b[32m0.008099343924690992\u001b[39m),\n",
       "    \u001b[33mWeighted\u001b[39m(\u001b[32m∏($fovqr : Nat){ (Vec(Nat)($fovqr) → 𝒰 ) }\u001b[39m, \u001b[32m0.007617194402665406\u001b[39m),\n",
       "    \u001b[33mWeighted\u001b[39m(\u001b[32m∏($fyucp : Nat){ (Vec(Nat)($fyucp) → Nat) }\u001b[39m, \u001b[32m0.001350080875687455\u001b[39m),\n",
       "    \u001b[33mWeighted\u001b[39m(\u001b[32m∏($fyucp : Nat){ (Vec(Nat)($fyucp) → Nat) }\u001b[39m, \u001b[32m0.001928686965267793\u001b[39m),\n",
       "    \u001b[33mWeighted\u001b[39m(\u001b[32m∏($fyucp : Nat){ (Vec(Nat)($fyucp) → Nat) }\u001b[39m, \u001b[32m0.003936095847485292\u001b[39m),\n",
       "    \u001b[33mWeighted\u001b[39m(\u001b[32m∏($fovqr : Nat){ (Vec(Nat)($fovqr) → 𝒰 ) }\u001b[39m, \u001b[32m0.008719560013732548\u001b[39m),\n",
       "    \u001b[33mWeighted\u001b[39m(\u001b[32m∏($fyucp : Nat){ (Vec(Nat)($fyucp) → Nat) }\u001b[39m, \u001b[32m0.011407511741870428\u001b[39m),\n",
       "    \u001b[33mWeighted\u001b[39m(\u001b[32m∏($fyucp : Nat){ (Vec(Nat)($fyucp) → Nat) }\u001b[39m, \u001b[32m0.00558968075351651\u001b[39m),\n",
       "    \u001b[33mWeighted\u001b[39m(\u001b[32m∏($flyaa : Nat){ (Vec(Vec(Nat)(succ(zero)))($flyaa) → 𝒰 ) }\u001b[39m, \u001b[32m0.007191896155590722\u001b[39m),\n",
       "    \u001b[33mWeighted\u001b[39m(\u001b[32m∏($fyucp : Nat){ (Vec(Nat)($fyucp) → Nat) }\u001b[39m, \u001b[32m0.03942879683447049\u001b[39m),\n",
       "    \u001b[33mWeighted\u001b[39m(\u001b[32m∏($gpncs : Nat){ (Vec(Vec(Nat)(zero))($gpncs) → Nat) }\u001b[39m, \u001b[32m0.013566273517513399\u001b[39m),\n",
       "    \u001b[33mWeighted\u001b[39m(\u001b[32m∏($gpncs : Nat){ (Vec(Vec(Nat)(zero))($gpncs) → Nat) }\u001b[39m, \u001b[32m0.004653231816507095\u001b[39m),\n",
       "    \u001b[33mWeighted\u001b[39m(\u001b[32m∏($fxahs : Nat){ (Vec(Nat)($fxahs) → Vec(Nat)(zero)) }\u001b[39m, \u001b[32m0.06157214352649074\u001b[39m),\n",
       "    \u001b[33mWeighted\u001b[39m(\u001b[32m∏($fyucp : Nat){ (Vec(Nat)($fyucp) → Nat) }\u001b[39m, \u001b[32m0.0015216353162350493\u001b[39m),\n",
       "    \u001b[33mWeighted\u001b[39m(\u001b[32m∏($gpncs : Nat){ (Vec(Vec(Nat)(zero))($gpncs) → Nat) }\u001b[39m, \u001b[32m0.021056044202520427\u001b[39m),\n",
       "    \u001b[33mWeighted\u001b[39m(\u001b[32m∏($gpncs : Nat){ (Vec(Vec(Nat)(zero))($gpncs) → Nat) }\u001b[39m, \u001b[32m0.007222223161464506\u001b[39m),\n",
       "    \u001b[33mWeighted\u001b[39m(\u001b[32m∏($gpncs : Nat){ (Vec(Vec(Nat)(zero))($gpncs) → Nat) }\u001b[39m, \u001b[32m0.031086909704554466\u001b[39m),\n",
       "    \u001b[33mWeighted\u001b[39m(\u001b[32m∏($frsjt : Nat){ (Vec(Vec(Nat)(zero))($frsjt) → 𝒰 ) }\u001b[39m, \u001b[32m0.004978503473835429\u001b[39m),\n",
       "    \u001b[33mWeighted\u001b[39m(\u001b[32m∏($fyucp : Nat){ (Vec(Nat)($fyucp) → Nat) }\u001b[39m, \u001b[32m0.02729243486208059\u001b[39m),\n",
       "    \u001b[33mWeighted\u001b[39m(\u001b[32m∏($frsjt : Nat){ (Vec(Vec(Nat)(zero))($frsjt) → 𝒰 ) }\u001b[39m, \u001b[32m0.007241459598306077\u001b[39m),\n",
       "    \u001b[33mWeighted\u001b[39m(\u001b[32m∏($gkgrq : Nat){ (Vec(Vec(Nat)(zero))($gkgrq) → Vec(Nat)(zero)) }\u001b[39m, \u001b[32m0.01571793594795055\u001b[39m),\n",
       "    \u001b[33mWeighted\u001b[39m(\n",
       "      \u001b[32m∏($gkgrq : Nat){ (Vec(Vec(Nat)(zero))($gkgrq) → Vec(Nat)(zero)) }\u001b[39m,\n",
       "      \u001b[32m0.032077420301939906\u001b[39m\n",
       "    ),\n",
       "    \u001b[33mWeighted\u001b[39m(\u001b[32m∏($gpncs : Nat){ (Vec(Vec(Nat)(zero))($gpncs) → Nat) }\u001b[39m, \u001b[32m0.0028086423405695293\u001b[39m),\n",
       "    \u001b[33mWeighted\u001b[39m(\u001b[32m∏($flyaa : Nat){ (Vec(Vec(Nat)(succ(zero)))($flyaa) → 𝒰 ) }\u001b[39m, \u001b[32m0.05391675585199211\u001b[39m),\n",
       "    \u001b[33mWeighted\u001b[39m(\u001b[32m∏($frsjt : Nat){ (Vec(Vec(Nat)(zero))($frsjt) → 𝒰 ) }\u001b[39m, \u001b[32m0.0373232247101365\u001b[39m),\n",
       "    \u001b[33mWeighted\u001b[39m(\u001b[32m∏($fovqr : Nat){ (Vec(Nat)($fovqr) → 𝒰 ) }\u001b[39m, \u001b[32m0.06536946282681629\u001b[39m),\n",
       "    \u001b[33mWeighted\u001b[39m(\u001b[32m∏($gpncs : Nat){ (Vec(Vec(Nat)(zero))($gpncs) → Nat) }\u001b[39m, \u001b[32m0.0018095901508638698\u001b[39m),\n",
       "    \u001b[33mWeighted\u001b[39m(\u001b[32m∏($fyucp : Nat){ (Vec(Nat)($fyucp) → Nat) }\u001b[39m, \u001b[32m0.007739895140096773\u001b[39m),\n",
       "    \u001b[33mWeighted\u001b[39m(\u001b[32m∏($gkhlv : Nat){ (Vec(Vec(Nat)(succ(zero)))($gkhlv) → Nat) }\u001b[39m, \u001b[32m0.002096110640642589\u001b[39m),\n",
       "    \u001b[33mWeighted\u001b[39m(\u001b[32m∏($fyucp : Nat){ (Vec(Nat)($fyucp) → Nat) }\u001b[39m, \u001b[32m0.0018513670321756036\u001b[39m),\n",
       "    \u001b[33mWeighted\u001b[39m(\u001b[32m∏($gpncs : Nat){ (Vec(Vec(Nat)(zero))($gpncs) → Nat) }\u001b[39m, \u001b[32m0.020029095484884366\u001b[39m),\n",
       "    \u001b[33mWeighted\u001b[39m(\u001b[32m∏($fovqr : Nat){ (Vec(Nat)($fovqr) → 𝒰 ) }\u001b[39m, \u001b[32m0.057105164201573244\u001b[39m),\n",
       "    \u001b[33mWeighted\u001b[39m(\u001b[32m∏($gkhlv : Nat){ (Vec(Vec(Nat)(succ(zero)))($gkhlv) → Nat) }\u001b[39m, \u001b[32m0.0054859149819167586\u001b[39m),\n",
       "    \u001b[33mWeighted\u001b[39m(\u001b[32m∏($gkhlv : Nat){ (Vec(Vec(Nat)(succ(zero)))($gkhlv) → Nat) }\u001b[39m, \u001b[32m0.0018816688387974481\u001b[39m),\n",
       "    \u001b[33mWeighted\u001b[39m(\u001b[32m∏($gkhlv : Nat){ (Vec(Vec(Nat)(succ(zero)))($gkhlv) → Nat) }\u001b[39m, \u001b[32m0.023200391618107795\u001b[39m),\n",
       "    \u001b[33mWeighted\u001b[39m(\u001b[32m∏($gkhlv : Nat){ (Vec(Vec(Nat)(succ(zero)))($gkhlv) → Nat) }\u001b[39m, \u001b[32m0.015714282187241406\u001b[39m),\n",
       "    \u001b[33mWeighted\u001b[39m(\u001b[32m∏($gkhlv : Nat){ (Vec(Vec(Nat)(succ(zero)))($gkhlv) → Nat) }\u001b[39m, \u001b[32m0.005389998790223801\u001b[39m),\n",
       "    \u001b[33mWeighted\u001b[39m(\u001b[32m∏($fyucp : Nat){ (Vec(Nat)($fyucp) → Nat) }\u001b[39m, \u001b[32m0.003912776527461557\u001b[39m),\n",
       "..."
      ]
     },
     "execution_count": 55,
     "metadata": {},
     "output_type": "execute_result"
    }
   ],
   "source": [
    "ndVD.map(_.typ)"
   ]
  },
  {
   "cell_type": "code",
   "execution_count": 56,
   "metadata": {},
   "outputs": [
    {
     "data": {
      "text/plain": [
       "\u001b[36mvfn\u001b[39m: \u001b[32mTerm\u001b[39m = \u001b[32m(RecDataSym((vnil) (Nat)) : A) ↦ (RecDataSym((vcons) (Nat)) : ∏($iegjx : Nat){ (Nat → (Vec(Nat)($iegjx) → (A → A))) }) ↦ ($iegjk : Nat) ↦ rec_{ Vec(Nat) ; A }(RecDataSym((vnil) (Nat)))(RecDataSym((vcons) (Nat)))\u001b[39m"
      ]
     },
     "execution_count": 56,
     "metadata": {},
     "output_type": "execute_result"
    }
   ],
   "source": [
    "val vfn = vecStr.recOpt(Vec(Nat), A).get"
   ]
  },
  {
   "cell_type": "code",
   "execution_count": 57,
   "metadata": {},
   "outputs": [
    {
     "data": {
      "text/plain": [
       "\u001b[36mres56\u001b[39m: \u001b[32mTyp\u001b[39m[\u001b[32mU\u001b[39m] = \u001b[32m(A → (∏($iegjx : Nat){ (Nat → (Vec(Nat)($iegjx) → (A → A))) } → ∏($iegjk : Nat){ (Vec(Nat)($iegjk) → A) }))\u001b[39m"
      ]
     },
     "execution_count": 57,
     "metadata": {},
     "output_type": "execute_result"
    }
   ],
   "source": [
    "vfn.typ"
   ]
  },
  {
   "cell_type": "code",
   "execution_count": 58,
   "metadata": {},
   "outputs": [
    {
     "data": {
      "text/plain": [
       "\u001b[36mres57\u001b[39m: \u001b[32mTerm\u001b[39m = \u001b[32m(RecDataSym((vcons) (Nat)) : ∏($iegjx : Nat){ (Nat → (Vec(Nat)($iegjx) → (A → A))) }) ↦ ($iegjk : Nat) ↦ rec_{ Vec(Nat) ; A }(a)(RecDataSym((vcons) (Nat)))\u001b[39m"
      ]
     },
     "execution_count": 58,
     "metadata": {},
     "output_type": "execute_result"
    }
   ],
   "source": [
    "vfn(\"a\" :: A)"
   ]
  },
  {
   "cell_type": "code",
   "execution_count": 59,
   "metadata": {},
   "outputs": [
    {
     "data": {
      "text/plain": [
       "\u001b[36ma\u001b[39m: \u001b[32mTerm\u001b[39m = \u001b[32ma\u001b[39m\n",
       "\u001b[36mres58_1\u001b[39m: \u001b[32mTyp\u001b[39m[\u001b[32mU\u001b[39m] = \u001b[32m(∏($iegjx : Nat){ (Nat → (Vec(Nat)($iegjx) → (A → A))) } → ∏($iegjk : Nat){ (Vec(Nat)($iegjk) → A) })\u001b[39m"
      ]
     },
     "execution_count": 59,
     "metadata": {},
     "output_type": "execute_result"
    }
   ],
   "source": [
    "val a = \"a\" :: A\n",
    "vfn(a).typ"
   ]
  },
  {
   "cell_type": "code",
   "execution_count": 60,
   "metadata": {},
   "outputs": [
    {
     "data": {
      "text/plain": [
       "\u001b[36mB\u001b[39m: \u001b[32mTyp\u001b[39m[\u001b[32mTerm\u001b[39m] = \u001b[32mB\u001b[39m\n",
       "\u001b[36mres59_1\u001b[39m: \u001b[32mOption\u001b[39m[\u001b[32mTerm\u001b[39m] = \u001b[33mSome\u001b[39m(\n",
       "  \u001b[32m(RecDataSym((vnil) (A)) : B) ↦ (RecDataSym((vcons) (A)) : ∏($ieihf : Nat){ (A → (Vec(A)($ieihf) → (B → B))) }) ↦ ($ieigs : Nat) ↦ rec_{ Vec(A) ; B }(RecDataSym((vnil) (A)))(RecDataSym((vcons) (A)))\u001b[39m\n",
       ")"
      ]
     },
     "execution_count": 60,
     "metadata": {},
     "output_type": "execute_result"
    }
   ],
   "source": [
    "val B = \"B\" :: Type\n",
    "vecAStr.recOpt(Vec(A), B)"
   ]
  },
  {
   "cell_type": "code",
   "execution_count": 61,
   "metadata": {},
   "outputs": [
    {
     "data": {
      "text/plain": [
       "\u001b[36mres60\u001b[39m: \u001b[32mOption\u001b[39m[\u001b[32mTerm\u001b[39m] = \u001b[33mSome\u001b[39m(\n",
       "  \u001b[32m(RecDataSym((vnil) (A)) : B) ↦ (RecDataSym((vcons) (A)) : ∏($iejtz : Nat){ (A → (Vec(A)($iejtz) → (B → B))) }) ↦ ($iejtm : Nat) ↦ rec_{ Vec(A) ; B }(RecDataSym((vnil) (A)))(RecDataSym((vcons) (A)))\u001b[39m\n",
       ")"
      ]
     },
     "execution_count": 61,
     "metadata": {},
     "output_type": "execute_result"
    }
   ],
   "source": [
    "vecStr.recOpt(Vec(A), B)"
   ]
  },
  {
   "cell_type": "code",
   "execution_count": 62,
   "metadata": {},
   "outputs": [
    {
     "data": {
      "text/plain": [
       "\u001b[36mres61\u001b[39m: \u001b[32mOption\u001b[39m[\u001b[32mTerm\u001b[39m] = \u001b[33mSome\u001b[39m(\n",
       "  \u001b[32m(RecDataSym((vnil) (B)) : Nat) ↦ (RecDataSym((vcons) (B)) : ∏($ielgu : Nat){ (B → (Vec(B)($ielgu) → (Nat → Nat))) }) ↦ ($ielgh : Nat) ↦ rec_{ Vec(B) ; Nat }(RecDataSym((vnil) (B)))(RecDataSym((vcons) (B)))\u001b[39m\n",
       ")"
      ]
     },
     "execution_count": 62,
     "metadata": {},
     "output_type": "execute_result"
    }
   ],
   "source": [
    "vecStr.recOpt(Vec(B), Nat)"
   ]
  },
  {
   "cell_type": "code",
   "execution_count": 63,
   "metadata": {},
   "outputs": [
    {
     "data": {
      "text/plain": [
       "\u001b[36mok\u001b[39m: \u001b[32mTerm\u001b[39m = \u001b[32m(RecDataSym((vnil) (A)) : Nat) ↦ (RecDataSym((vcons) (A)) : ∏($iemto : Nat){ (A → (Vec(A)($iemto) → (Nat → Nat))) }) ↦ ($iemtb : Nat) ↦ rec_{ Vec(A) ; Nat }(RecDataSym((vnil) (A)))(RecDataSym((vcons) (A)))\u001b[39m"
      ]
     },
     "execution_count": 63,
     "metadata": {},
     "output_type": "execute_result"
    }
   ],
   "source": [
    "val ok = vecStr.recOpt(Vec(A), Nat).get"
   ]
  },
  {
   "cell_type": "code",
   "execution_count": 64,
   "metadata": {},
   "outputs": [
    {
     "data": {
      "text/plain": [
       "\u001b[36mbok\u001b[39m: \u001b[32mTerm\u001b[39m with \u001b[32mSubs\u001b[39m[\u001b[32mTerm\u001b[39m] = \u001b[32m(RecDataSym((vnil) (A)) : Nat) ↦ (RecDataSym((vcons) (A)) : ∏($iemto : Nat){ (B → (Vec(B)($iemto) → (Nat → Nat))) }) ↦ ($iemtb : Nat) ↦ rec_{ Vec(B) ; Nat }(RecDataSym((vnil) (A)))(RecDataSym((vcons) (A)))\u001b[39m"
      ]
     },
     "execution_count": 64,
     "metadata": {},
     "output_type": "execute_result"
    }
   ],
   "source": [
    "val bok = ok.replace(A, B)"
   ]
  },
  {
   "cell_type": "code",
   "execution_count": 65,
   "metadata": {},
   "outputs": [
    {
     "data": {
      "text/plain": [
       "\u001b[36mres64\u001b[39m: \u001b[32mTyp\u001b[39m[\u001b[32mU\u001b[39m] = \u001b[32m(Nat → (∏($iemto : Nat){ (B → (Vec(B)($iemto) → (Nat → Nat))) } → ∏($iemtb : Nat){ (Vec(B)($iemtb) → Nat) }))\u001b[39m"
      ]
     },
     "execution_count": 65,
     "metadata": {},
     "output_type": "execute_result"
    }
   ],
   "source": [
    "bok.typ"
   ]
  },
  {
   "cell_type": "code",
   "execution_count": 66,
   "metadata": {},
   "outputs": [
    {
     "data": {
      "text/plain": [
       "\u001b[36mnok\u001b[39m: \u001b[32mTerm\u001b[39m = \u001b[32m(RecDataSym((vnil) (B)) : Nat) ↦ (RecDataSym((vcons) (B)) : ∏($ieoza : Nat){ (B → (Vec(B)($ieoza) → (Nat → Nat))) }) ↦ ($ieoyn : Nat) ↦ rec_{ Vec(B) ; Nat }(RecDataSym((vnil) (B)))(RecDataSym((vcons) (B)))\u001b[39m"
      ]
     },
     "execution_count": 66,
     "metadata": {},
     "output_type": "execute_result"
    }
   ],
   "source": [
    "val nok = vecStr.recOpt(Vec(B), Nat).get"
   ]
  },
  {
   "cell_type": "code",
   "execution_count": 67,
   "metadata": {},
   "outputs": [
    {
     "data": {
      "text/plain": [
       "\u001b[36mres66\u001b[39m: \u001b[32mOption\u001b[39m[\u001b[32mTerm\u001b[39m] = \u001b[33mSome\u001b[39m(\n",
       "  \u001b[32m(RecDataSym((vnil) (B)) : Nat) ↦ (RecDataSym((vcons) (B)) : ∏($ieqlv : Nat){ (B → (Vec(B)($ieqlv) → (Nat → Nat))) }) ↦ ($ieqli : Nat) ↦ rec_{ Vec(B) ; Nat }(RecDataSym((vnil) (B)))(RecDataSym((vcons) (B)))\u001b[39m\n",
       ")"
      ]
     },
     "execution_count": 67,
     "metadata": {},
     "output_type": "execute_result"
    }
   ],
   "source": [
    "vecAStr.subs(A, B).recOpt(Vec(B), Nat)"
   ]
  },
  {
   "cell_type": "code",
   "execution_count": 68,
   "metadata": {},
   "outputs": [
    {
     "data": {
      "text/plain": [
       "\u001b[36mres67_0\u001b[39m: \u001b[32mExstInducStrucs\u001b[39m = \u001b[33mIndConsSeqExst\u001b[39m(\n",
       "  \u001b[33mCons\u001b[39m(\n",
       "    \u001b[32m(vnil) (A)\u001b[39m,\n",
       "    \u001b[33mIndexedIdShape\u001b[39m(\u001b[33mFuncTypFamily\u001b[39m(\u001b[32mNat\u001b[39m, IdTypFamily()), \u001b[32mzero\u001b[39m :: HNil),\n",
       "    \u001b[33mCons\u001b[39m(\n",
       "      \u001b[32m(vcons) (A)\u001b[39m,\n",
       "      \u001b[33mIndexedCnstDepFuncConsShape\u001b[39m(\n",
       "        \u001b[32mNat\u001b[39m,\n",
       "        provingground.induction.TypFamilyExst$IndexedConstructorShapeExst$$Lambda$4481/467783333@1ab80398\n",
       "      ),\n",
       "      \u001b[33mEmpty\u001b[39m(\u001b[32mVec(A)\u001b[39m, \u001b[33mFuncTypFamily\u001b[39m(\u001b[32mNat\u001b[39m, IdTypFamily()))\n",
       "    )\n",
       "  ),\n",
       "  \u001b[33mVector\u001b[39m(\u001b[32mvnil(A)\u001b[39m, \u001b[32mvcons(A)\u001b[39m)\n",
       ")\n",
       "\u001b[36mres67_1\u001b[39m: \u001b[32mExstInducStrucs\u001b[39m = \u001b[33mIndConsSeqExst\u001b[39m(\n",
       "  \u001b[33mCons\u001b[39m(\n",
       "    \u001b[32m(vnil) (B)\u001b[39m,\n",
       "    \u001b[33mIndexedIdShape\u001b[39m(\u001b[33mFuncTypFamily\u001b[39m(\u001b[32mNat\u001b[39m, IdTypFamily()), \u001b[32mzero\u001b[39m :: HNil),\n",
       "    \u001b[33mCons\u001b[39m(\n",
       "      \u001b[32m(vcons) (B)\u001b[39m,\n",
       "      \u001b[33mIndexedCnstDepFuncConsShape\u001b[39m(\n",
       "        \u001b[32mNat\u001b[39m,\n",
       "        provingground.induction.IndexedConstructorShape$IndexedCnstDepFuncConsShape$$Lambda$4497/1709756592@183aba34\n",
       "      ),\n",
       "      \u001b[33mEmpty\u001b[39m(\u001b[32mVec(B)\u001b[39m, \u001b[33mFuncTypFamily\u001b[39m(\u001b[32mNat\u001b[39m, IdTypFamily()))\n",
       "    )\n",
       "  ),\n",
       "  \u001b[33mVector\u001b[39m(\u001b[32mvnil(B)\u001b[39m, \u001b[32mvcons(B)\u001b[39m)\n",
       ")"
      ]
     },
     "execution_count": 68,
     "metadata": {},
     "output_type": "execute_result"
    }
   ],
   "source": [
    "vecAStr\n",
    "vecAStr.subs(A, B)"
   ]
  },
  {
   "cell_type": "code",
   "execution_count": 69,
   "metadata": {},
   "outputs": [
    {
     "data": {
      "text/plain": [
       "\u001b[36mndViT\u001b[39m: \u001b[32mmonix\u001b[39m.\u001b[32meval\u001b[39m.\u001b[32mTask\u001b[39m[\u001b[32mFiniteDistribution\u001b[39m[\u001b[32mTerm\u001b[39m]] = \u001b[33mFlatMap\u001b[39m(\n",
       "  \u001b[33mMap\u001b[39m(\n",
       "    \u001b[33mFlatMap\u001b[39m(\u001b[33mAsync\u001b[39m(<function2>, true, true, true), monix.eval.Task$$Lambda$3843/1159594218@b419b14),\n",
       "    provingground.learning.MonixFiniteDistribution$$Lambda$3947/871931955@22e705f3,\n",
       "    \u001b[32m0\u001b[39m\n",
       "  ),\n",
       "  provingground.learning.MonixFiniteDistribution$$Lambda$3948/634189918@75f5ea88\n",
       ")"
      ]
     },
     "execution_count": 69,
     "metadata": {},
     "output_type": "execute_result"
    }
   ],
   "source": [
    "val ndViT = mfd.nodeDist(tsV)(tg.Gen.inducFuncFoldedNode, 0.0001)"
   ]
  },
  {
   "cell_type": "code",
   "execution_count": 70,
   "metadata": {},
   "outputs": [
    {
     "data": {
      "text/plain": [
       "\u001b[36mndViD\u001b[39m: \u001b[32mFiniteDistribution\u001b[39m[\u001b[32mTerm\u001b[39m] = \u001b[33mFiniteDistribution\u001b[39m(\n",
       "  \u001b[33mVector\u001b[39m(\n",
       "    \u001b[33mWeighted\u001b[39m(\n",
       "      \u001b[32m($kbvxl : Nat) ↦ induc_{ Vec(Vec(Nat)(zero)) ; (@a : Nat) ↦ (_ : Vec(Vec(Nat)(zero))(@a)) ↦ Nat }(succ(succ(zero)))((@a : Nat) ↦ (_ : Vec(Nat)(zero)) ↦ (_ : Vec(Vec(Nat)(zero))(@a)) ↦ (_ : Nat) ↦ @a)\u001b[39m,\n",
       "      \u001b[32m0.005341200505608742\u001b[39m\n",
       "    ),\n",
       "    \u001b[33mWeighted\u001b[39m(\n",
       "      \u001b[32m($kbvxl : Nat) ↦ induc_{ Vec(Vec(Nat)(zero)) ; (@a : Nat) ↦ (_ : Vec(Vec(Nat)(zero))(@a)) ↦ Nat }(succ(succ(zero)))((@a : Nat) ↦ (_ : Vec(Nat)(zero)) ↦ (_ : Vec(Vec(Nat)(zero))(@a)) ↦ (@b : Nat) ↦ @b)\u001b[39m,\n",
       "      \u001b[32m0.015572013135885547\u001b[39m\n",
       "    ),\n",
       "    \u001b[33mWeighted\u001b[39m(\n",
       "      \u001b[32m($kekth : Nat) ↦ induc_{ Vec(Vec(Nat)(succ(zero))) ; (@a : Nat) ↦ (_ : Vec(Vec(Nat)(succ(zero)))(@a)) ↦ Nat }(succ(succ(zero)))((@a : Nat) ↦ (_ : Vec(Nat)(succ(zero))) ↦ (_ : Vec(Vec(Nat)(succ(zero)))(@a)) ↦ (@b : Nat) ↦ @b)\u001b[39m,\n",
       "      \u001b[32m0.013903223062656435\u001b[39m\n",
       "    ),\n",
       "    \u001b[33mWeighted\u001b[39m(\n",
       "      \u001b[32m($kekth : Nat) ↦ induc_{ Vec(Vec(Nat)(succ(zero))) ; (@a : Nat) ↦ (_ : Vec(Vec(Nat)(succ(zero)))(@a)) ↦ Nat }(succ(succ(zero)))((@a : Nat) ↦ (_ : Vec(Nat)(succ(zero))) ↦ (_ : Vec(Vec(Nat)(succ(zero)))(@a)) ↦ (_ : Nat) ↦ @a)\u001b[39m,\n",
       "      \u001b[32m0.004768805510491157\u001b[39m\n",
       "    ),\n",
       "    \u001b[33mWeighted\u001b[39m(\n",
       "      \u001b[32m($kekth : Nat) ↦ induc_{ Vec(Vec(Nat)(succ(zero))) ; (@a : Nat) ↦ (_ : Vec(Vec(Nat)(succ(zero)))(@a)) ↦ Nat }(zero)((@a : Nat) ↦ (_ : Vec(Nat)(succ(zero))) ↦ (_ : Vec(Vec(Nat)(succ(zero)))(@a)) ↦ (_ : Nat) ↦ zero)\u001b[39m,\n",
       "      \u001b[32m0.002736225125668421\u001b[39m\n",
       "    ),\n",
       "    \u001b[33mWeighted\u001b[39m(\n",
       "      \u001b[32m($kbvxl : Nat) ↦ induc_{ Vec(Vec(Nat)(zero)) ; (@a : Nat) ↦ (_ : Vec(Vec(Nat)(zero))(@a)) ↦ Nat }(succ(zero))((@a : Nat) ↦ (_ : Vec(Nat)(zero)) ↦ (_ : Vec(Vec(Nat)(zero))(@a)) ↦ (_ : Nat) ↦ zero)\u001b[39m,\n",
       "      \u001b[32m0.001994646243547729\u001b[39m\n",
       "    ),\n",
       "    \u001b[33mWeighted\u001b[39m(\n",
       "      \u001b[32m($kbvxl : Nat) ↦ induc_{ Vec(Vec(Nat)(zero)) ; (@a : Nat) ↦ (_ : Vec(Vec(Nat)(zero))(@a)) ↦ Nat }(succ(succ(zero)))((@a : Nat) ↦ (_ : Vec(Nat)(zero)) ↦ (_ : Vec(Vec(Nat)(zero))(@a)) ↦ (_ : Nat) ↦ succ(@a))\u001b[39m,\n",
       "      \u001b[32m0.005341200505608741\u001b[39m\n",
       "    ),\n",
       "    \u001b[33mWeighted\u001b[39m(\n",
       "      \u001b[32m($kbvxl : Nat) ↦ induc_{ Vec(Vec(Nat)(zero)) ; (@a : Nat) ↦ (_ : Vec(Vec(Nat)(zero))(@a)) ↦ Nat }(succ(succ(zero)))((@a : Nat) ↦ (_ : Vec(Nat)(zero)) ↦ (_ : Vec(Vec(Nat)(zero))(@a)) ↦ (@b : Nat) ↦ succ(@b))\u001b[39m,\n",
       "      \u001b[32m0.015572013135885547\u001b[39m\n",
       "..."
      ]
     },
     "execution_count": 70,
     "metadata": {},
     "output_type": "execute_result"
    }
   ],
   "source": [
    "val ndViD = ndViT.runSyncUnsafe()"
   ]
  },
  {
   "cell_type": "code",
   "execution_count": 71,
   "metadata": {},
   "outputs": [
    {
     "data": {
      "text/plain": [
       "\u001b[36mres70\u001b[39m: \u001b[32mFiniteDistribution\u001b[39m[\u001b[32mTyp\u001b[39m[\u001b[32mU\u001b[39m] forSome { type \u001b[32mU\u001b[39m >: \u001b[32mx$1\u001b[39m <: \u001b[32mTerm\u001b[39m with \u001b[32mSubs\u001b[39m[\u001b[32mU\u001b[39m]; val \u001b[32mx$1\u001b[39m: \u001b[32mTerm\u001b[39m }] = \u001b[33mFiniteDistribution\u001b[39m(\n",
       "  \u001b[33mVector\u001b[39m(\n",
       "    \u001b[33mWeighted\u001b[39m(\u001b[32m∏($kqfyf : Nat){ ∏(_ : Vec(Nat)($kqfyf)){ Nat } }\u001b[39m, \u001b[32m0.1993333487394483\u001b[39m),\n",
       "    \u001b[33mWeighted\u001b[39m(\n",
       "      \u001b[32m∏($kekth : Nat){ ∏(_ : Vec(Vec(Nat)(succ(zero)))($kekth)){ Nat } }\u001b[39m,\n",
       "      \u001b[32m0.19370506660290493\u001b[39m\n",
       "    ),\n",
       "    \u001b[33mWeighted\u001b[39m(\u001b[32m∏($kbvxl : Nat){ ∏(_ : Vec(Vec(Nat)(zero))($kbvxl)){ Nat } }\u001b[39m, \u001b[32m0.33079458674518497\u001b[39m),\n",
       "    \u001b[33mWeighted\u001b[39m(\u001b[32m∏($kqplh : Nat){ ∏(_ : Vec(Nat)($kqplh)){ Vec(Nat)(zero) } }\u001b[39m, \u001b[32m0.057974720772424645\u001b[39m)\n",
       "  )\n",
       ")"
      ]
     },
     "execution_count": 71,
     "metadata": {},
     "output_type": "execute_result"
    }
   ],
   "source": [
    "ndViD.map(_.typ).flatten"
   ]
  },
  {
   "cell_type": "code",
   "execution_count": 72,
   "metadata": {},
   "outputs": [
    {
     "data": {
      "text/plain": [
       "\u001b[36mtgVT\u001b[39m: \u001b[32mmonix\u001b[39m.\u001b[32meval\u001b[39m.\u001b[32mTask\u001b[39m[\u001b[32mFiniteDistribution\u001b[39m[\u001b[32mTerm\u001b[39m]] = \u001b[33mMap\u001b[39m(\n",
       "  \u001b[33mFlatMap\u001b[39m(\u001b[33mAsync\u001b[39m(<function2>, true, true, true), monix.eval.Task$$Lambda$3843/1159594218@b91b64b),\n",
       "  provingground.learning.MonixFiniteDistribution$$Lambda$4641/1735864579@5a1aec2a,\n",
       "  \u001b[32m0\u001b[39m\n",
       ")"
      ]
     },
     "execution_count": 72,
     "metadata": {},
     "output_type": "execute_result"
    }
   ],
   "source": [
    "val tgVT = mfd.nodeDist(tsV)(tg.Gen.codomainNode(Vec(Nat)(succ(zero))), 0.0001)"
   ]
  },
  {
   "cell_type": "code",
   "execution_count": 73,
   "metadata": {},
   "outputs": [
    {
     "data": {
      "text/plain": [
       "\u001b[36mtgVD\u001b[39m: \u001b[32mFiniteDistribution\u001b[39m[\u001b[32mTerm\u001b[39m] = \u001b[33mFiniteDistribution\u001b[39m(\n",
       "  \u001b[33mVector\u001b[39m(\n",
       "    \u001b[33mWeighted\u001b[39m(\n",
       "      \u001b[32m($rvqmb : Nat) ↦ ($rvqmc : Vec(Nat)(zero)) ↦ vcons(Nat)(zero)($rvqmb)($rvqmc)\u001b[39m,\n",
       "      \u001b[32m0.154700715184154\u001b[39m\n",
       "    ),\n",
       "    \u001b[33mWeighted\u001b[39m(\n",
       "      \u001b[32m(_ : Nat) ↦ (_ : Nat) ↦ ($rvqrt : Nat) ↦ ($rvqru : Vec(Nat)(zero)) ↦ vcons(Nat)(zero)($rvqrt)($rvqru)\u001b[39m,\n",
       "      \u001b[32m5.384663092456733E-4\u001b[39m\n",
       "    ),\n",
       "    \u001b[33mWeighted\u001b[39m(\n",
       "      \u001b[32m((__1 , __2) : Nat×𝒰 ) ↦ ($rvqxw : Nat) ↦ ($rvqxx : Vec(Nat)(zero)) ↦ vcons(Nat)(zero)($rvqxw)($rvqxx)\u001b[39m,\n",
       "      \u001b[32m5.53851060938407E-4\u001b[39m\n",
       "    ),\n",
       "    \u001b[33mWeighted\u001b[39m(\u001b[32m($rbnts : Nat) ↦ vcons(Nat)(zero)($rbnts)(vnil(Nat))\u001b[39m, \u001b[32m0.006797579553347722\u001b[39m),\n",
       "    \u001b[33mWeighted\u001b[39m(\n",
       "      \u001b[32m((__1 , __2) : Nat×Nat) ↦ ($rvrnz : Nat) ↦ ($rvroa : Vec(Nat)(zero)) ↦ vcons(Nat)(zero)($rvrnz)($rvroa)\u001b[39m,\n",
       "      \u001b[32m5.53851060938407E-4\u001b[39m\n",
       "    ),\n",
       "    \u001b[33mWeighted\u001b[39m(\n",
       "      \u001b[32m(_ : 𝒰 ) ↦ ($rvsbu : Nat) ↦ ($rvsbv : Vec(Nat)(zero)) ↦ vcons(Nat)(zero)($rvsbu)($rvsbv)\u001b[39m,\n",
       "      \u001b[32m0.0024826895435484143\u001b[39m\n",
       "    ),\n",
       "    \u001b[33mWeighted\u001b[39m(\n",
       "      \u001b[32m($rvsht : Nat) ↦ ($rvshu : Vec(Nat)(zero)) ↦ vcons(Nat)(zero)($rvsht)($rvshu)\u001b[39m,\n",
       "      \u001b[32m0.035186122901365476\u001b[39m\n",
       "    ),\n",
       "    \u001b[33mWeighted\u001b[39m(\n",
       "      \u001b[32m(_ : Nat) ↦ ($rvsnu : Nat) ↦ ($rvsnv : Vec(Nat)(zero)) ↦ vcons(Nat)(zero)($rvsnu)($rvsnv)\u001b[39m,\n",
       "      \u001b[32m0.006054855390143681\u001b[39m\n",
       "    ),\n",
       "    \u001b[33mWeighted\u001b[39m(\n",
       "      \u001b[32m(_ : Vec(Nat)(zero)) ↦ ($rvstl : Nat) ↦ ($rvstm : Vec(Nat)(zero)) ↦ vcons(Nat)(zero)($rvstl)($rvstm)\u001b[39m,\n",
       "      \u001b[32m0.004305240247577042\u001b[39m\n",
       "    ),\n",
       "    \u001b[33mWeighted\u001b[39m(\n",
       "      \u001b[32m(_ : Nat) ↦ ($rvszu : Nat) ↦ ($rvszv : Vec(Nat)(zero)) ↦ vcons(Nat)(zero)($rvszu)($rvszv)\u001b[39m,\n",
       "      \u001b[32m7.889616252683857E-4\u001b[39m\n",
       "    ),\n",
       "    \u001b[33mWeighted\u001b[39m(\n",
       "      \u001b[32m(_ : Nat) ↦ ($rvtfn : Nat) ↦ ($rvtfo : Vec(Nat)(zero)) ↦ vcons(Nat)(zero)($rvtfn)($rvtfo)\u001b[39m,\n",
       "      \u001b[32m0.00846161343100344\u001b[39m\n",
       "    ),\n",
       "    \u001b[33mWeighted\u001b[39m(\u001b[32m(@a : ∏(@a : 𝒰 ){ @a }) ↦ @a(Vec(Nat)(succ(zero)))\u001b[39m, \u001b[32m0.0015322303242512776\u001b[39m),\n",
       "    \u001b[33mWeighted\u001b[39m(\u001b[32m($rvtoh : Vec(Nat)(zero)) ↦ vcons(Nat)(zero)(zero)($rvtoh)\u001b[39m, \u001b[32m0.014482464400612847\u001b[39m),\n",
       "..."
      ]
     },
     "execution_count": 73,
     "metadata": {},
     "output_type": "execute_result"
    }
   ],
   "source": [
    "val tgVD = tgVT.runSyncUnsafe()"
   ]
  },
  {
   "cell_type": "code",
   "execution_count": 74,
   "metadata": {},
   "outputs": [
    {
     "data": {
      "text/plain": [
       "\u001b[36mres73\u001b[39m: \u001b[32mFiniteDistribution\u001b[39m[\u001b[32mTyp\u001b[39m[\u001b[32mU\u001b[39m] forSome { type \u001b[32mU\u001b[39m >: \u001b[32mx$1\u001b[39m <: \u001b[32mTerm\u001b[39m with \u001b[32mSubs\u001b[39m[\u001b[32mU\u001b[39m]; val \u001b[32mx$1\u001b[39m: \u001b[32mTerm\u001b[39m }] = \u001b[33mFiniteDistribution\u001b[39m(\n",
       "  \u001b[33mVector\u001b[39m(\n",
       "    \u001b[33mWeighted\u001b[39m(\u001b[32m((Nat → Nat) → (Nat → (Vec(Nat)(zero) → Vec(Nat)(succ(zero)))))\u001b[39m, \u001b[32m9.167189974152944E-4\u001b[39m),\n",
       "    \u001b[33mWeighted\u001b[39m(\u001b[32m((𝒰  → Nat) → (Nat → (Vec(Nat)(zero) → Vec(Nat)(succ(zero)))))\u001b[39m, \u001b[32m6.951785730399314E-4\u001b[39m),\n",
       "    \u001b[33mWeighted\u001b[39m(\n",
       "      \u001b[32m(∏(@a : 𝒰 ){ @a } → (Nat → (Vec(Nat)(zero) → Vec(Nat)(succ(zero)))))\u001b[39m,\n",
       "      \u001b[32m5.958673483199414E-4\u001b[39m\n",
       "    ),\n",
       "    \u001b[33mWeighted\u001b[39m(\u001b[32m(Nat×𝒰  → (Nat → (Vec(Nat)(zero) → Vec(Nat)(succ(zero)))))\u001b[39m, \u001b[32m5.53851060938407E-4\u001b[39m),\n",
       "    \u001b[33mWeighted\u001b[39m(\u001b[32m(Nat×Nat → (Nat → (Vec(Nat)(zero) → Vec(Nat)(succ(zero)))))\u001b[39m, \u001b[32m5.53851060938407E-4\u001b[39m),\n",
       "    \u001b[33mWeighted\u001b[39m(\u001b[32m(𝒰  → (Nat → (Vec(Nat)(zero) → Vec(Nat)(succ(zero)))))\u001b[39m, \u001b[32m0.014261555852124554\u001b[39m),\n",
       "    \u001b[33mWeighted\u001b[39m(\u001b[32m(Nat → (Nat → (Vec(Nat)(zero) → Vec(Nat)(succ(zero)))))\u001b[39m, \u001b[32m0.015305430446415507\u001b[39m),\n",
       "    \u001b[33mWeighted\u001b[39m(\n",
       "      \u001b[32m(Vec(Nat)(zero) → (Nat → (Vec(Nat)(zero) → Vec(Nat)(succ(zero)))))\u001b[39m,\n",
       "      \u001b[32m0.012657264708131517\u001b[39m\n",
       "    ),\n",
       "    \u001b[33mWeighted\u001b[39m(\u001b[32m((Nat → 𝒰 ) → (Nat → (Vec(Nat)(zero) → Vec(Nat)(succ(zero)))))\u001b[39m, \u001b[32m9.167189974152944E-4\u001b[39m),\n",
       "    \u001b[33mWeighted\u001b[39m(\u001b[32m((𝒰  → 𝒰 ) → (Nat → (Vec(Nat)(zero) → Vec(Nat)(succ(zero)))))\u001b[39m, \u001b[32m6.951785730399314E-4\u001b[39m),\n",
       "    \u001b[33mWeighted\u001b[39m(\u001b[32m(Vec(Nat)(succ(zero)) → Vec(Nat)(succ(zero)))\u001b[39m, \u001b[32m0.002352933170596089\u001b[39m),\n",
       "    \u001b[33mWeighted\u001b[39m(\u001b[32m(Nat → Vec(Nat)(succ(zero)))\u001b[39m, \u001b[32m0.006797579553347722\u001b[39m),\n",
       "    \u001b[33mWeighted\u001b[39m(\u001b[32m(∏(@a : 𝒰 ){ @a } → Vec(Nat)(succ(zero)))\u001b[39m, \u001b[32m0.0015322303242512776\u001b[39m),\n",
       "    \u001b[33mWeighted\u001b[39m(\u001b[32m(Vec(Nat)(zero) → Vec(Nat)(succ(zero)))\u001b[39m, \u001b[32m0.032468944751582414\u001b[39m),\n",
       "    \u001b[33mWeighted\u001b[39m(\u001b[32m(Nat → (Vec(Nat)(zero) → Vec(Nat)(succ(zero))))\u001b[39m, \u001b[32m0.908619763963952\u001b[39m),\n",
       "    \u001b[33mWeighted\u001b[39m(\u001b[32m(Nat → (Nat → (Nat → (Vec(Nat)(zero) → Vec(Nat)(succ(zero))))))\u001b[39m, \u001b[32m5.384663092456733E-4\u001b[39m),\n",
       "    \u001b[33mWeighted\u001b[39m(\u001b[32m(Nat → (𝒰  → (Nat → (Vec(Nat)(zero) → Vec(Nat)(succ(zero))))))\u001b[39m, \u001b[32m5.384663092456733E-4\u001b[39m)\n",
       "  )\n",
       ")"
      ]
     },
     "execution_count": 74,
     "metadata": {},
     "output_type": "execute_result"
    }
   ],
   "source": [
    "tgVD.map(_.typ).flatten"
   ]
  },
  {
   "cell_type": "code",
   "execution_count": 75,
   "metadata": {},
   "outputs": [
    {
     "data": {
      "text/plain": [
       "\u001b[36mres74\u001b[39m: \u001b[32mOption\u001b[39m[\u001b[32mTerm\u001b[39m] = \u001b[33mSome\u001b[39m(\n",
       "  \u001b[32m($sbtij : Nat) ↦ ($sbtik : Vec(Nat)(zero)) ↦ vcons(Nat)(zero)($sbtij)($sbtik)\u001b[39m\n",
       ")"
      ]
     },
     "execution_count": 75,
     "metadata": {},
     "output_type": "execute_result"
    }
   ],
   "source": [
    "Unify.targetCodomain(vcons, Vec(Nat)(succ(zero)))"
   ]
  },
  {
   "cell_type": "code",
   "execution_count": 76,
   "metadata": {},
   "outputs": [
    {
     "data": {
      "text/plain": [
       "\u001b[36mres75\u001b[39m: \u001b[32mOption\u001b[39m[\u001b[32mMap\u001b[39m[\u001b[32mTerm\u001b[39m, \u001b[32mTerm\u001b[39m]] = \u001b[32mNone\u001b[39m"
      ]
     },
     "execution_count": 76,
     "metadata": {},
     "output_type": "execute_result"
    }
   ],
   "source": [
    "Unify.unify(vcons.typ, Vec(Nat)(succ(zero)), (t) => false)"
   ]
  },
  {
   "cell_type": "code",
   "execution_count": 77,
   "metadata": {},
   "outputs": [
    {
     "data": {
      "text/plain": [
       "\u001b[36mtgtVT\u001b[39m: \u001b[32mmonix\u001b[39m.\u001b[32meval\u001b[39m.\u001b[32mTask\u001b[39m[\u001b[32mFiniteDistribution\u001b[39m[\u001b[32mTerm\u001b[39m]] = \u001b[33mFlatMap\u001b[39m(\n",
       "  \u001b[33mMap\u001b[39m(\n",
       "    \u001b[33mFlatMap\u001b[39m(\u001b[33mAsync\u001b[39m(<function2>, true, true, true), monix.eval.Task$$Lambda$3843/1159594218@13ecace6),\n",
       "    provingground.learning.MonixFiniteDistribution$$Lambda$3961/1080967416@29133795,\n",
       "    \u001b[32m0\u001b[39m\n",
       "  ),\n",
       "  provingground.learning.MonixFiniteDistribution$$Lambda$3962/1398506810@c43895c\n",
       ")"
      ]
     },
     "execution_count": 77,
     "metadata": {},
     "output_type": "execute_result"
    }
   ],
   "source": [
    "val tgtVT = mfd.nodeDist(tsV)(tg.Gen.foldedTargetFunctionNode(Vec(Nat)(succ(zero))), 0.001)"
   ]
  },
  {
   "cell_type": "code",
   "execution_count": 78,
   "metadata": {},
   "outputs": [
    {
     "data": {
      "text/plain": [
       "\u001b[36mtgtVD\u001b[39m: \u001b[32mFiniteDistribution\u001b[39m[\u001b[32mTerm\u001b[39m] = \u001b[33mFiniteDistribution\u001b[39m(\n",
       "  \u001b[33mVector\u001b[39m(\n",
       "    \u001b[33mWeighted\u001b[39m(\u001b[32mvcons(Nat)(zero)(zero)(vnil(Nat))\u001b[39m, \u001b[32m0.3632480936136992\u001b[39m),\n",
       "    \u001b[33mWeighted\u001b[39m(\u001b[32mvcons(Nat)(zero)(succ(zero))(vnil(Nat))\u001b[39m, \u001b[32m0.5637928430189322\u001b[39m),\n",
       "    \u001b[33mWeighted\u001b[39m(\u001b[32mvcons(Nat)(zero)(zero)(vnil(Nat))\u001b[39m, \u001b[32m0.006977063857306793\u001b[39m)\n",
       "  )\n",
       ")"
      ]
     },
     "execution_count": 78,
     "metadata": {},
     "output_type": "execute_result"
    }
   ],
   "source": [
    "val tgtVD = tgtVT.runSyncUnsafe()"
   ]
  },
  {
   "cell_type": "code",
   "execution_count": 79,
   "metadata": {},
   "outputs": [
    {
     "data": {
      "text/plain": [
       "\u001b[36mtgtNT\u001b[39m: \u001b[32mmonix\u001b[39m.\u001b[32meval\u001b[39m.\u001b[32mTask\u001b[39m[\u001b[32mFiniteDistribution\u001b[39m[\u001b[32mTerm\u001b[39m]] = \u001b[33mFlatMap\u001b[39m(\n",
       "  \u001b[33mMap\u001b[39m(\n",
       "    \u001b[33mFlatMap\u001b[39m(\u001b[33mAsync\u001b[39m(<function2>, true, true, true), monix.eval.Task$$Lambda$3843/1159594218@4b240dd8),\n",
       "    provingground.learning.MonixFiniteDistribution$$Lambda$3961/1080967416@29133795,\n",
       "    \u001b[32m0\u001b[39m\n",
       "  ),\n",
       "  provingground.learning.MonixFiniteDistribution$$Lambda$3962/1398506810@bda5192\n",
       ")"
      ]
     },
     "execution_count": 79,
     "metadata": {},
     "output_type": "execute_result"
    }
   ],
   "source": [
    "val tgtNT = mfd.nodeDist(tsV)(tg.Gen.foldedTargetFunctionNode(Nat ->: Nat), 0.001)"
   ]
  },
  {
   "cell_type": "code",
   "execution_count": 80,
   "metadata": {},
   "outputs": [
    {
     "data": {
      "text/plain": [
       "\u001b[36mtgtND\u001b[39m: \u001b[32mFiniteDistribution\u001b[39m[\u001b[32mTerm\u001b[39m] = \u001b[33mFiniteDistribution\u001b[39m(\n",
       "  \u001b[33mVector\u001b[39m(\n",
       "    \u001b[33mWeighted\u001b[39m(\u001b[32msucc\u001b[39m, \u001b[32m0.033392963625521764\u001b[39m),\n",
       "    \u001b[33mWeighted\u001b[39m(\u001b[32msucc\u001b[39m, \u001b[32m0.8067978533094812\u001b[39m),\n",
       "    \u001b[33mWeighted\u001b[39m(\u001b[32m(@a : Nat) ↦ @a\u001b[39m, \u001b[32m0.08586762075134169\u001b[39m),\n",
       "    \u001b[33mWeighted\u001b[39m(\u001b[32m(_ : Nat) ↦ zero\u001b[39m, \u001b[32m0.033392963625521764\u001b[39m),\n",
       "    \u001b[33mWeighted\u001b[39m(\u001b[32msucc\u001b[39m, \u001b[32m0.0071556350626118094\u001b[39m),\n",
       "    \u001b[33mWeighted\u001b[39m(\u001b[32msucc\u001b[39m, \u001b[32m0.033392963625521764\u001b[39m)\n",
       "  )\n",
       ")"
      ]
     },
     "execution_count": 80,
     "metadata": {},
     "output_type": "execute_result"
    }
   ],
   "source": [
    "val tgtND = tgtNT.runSyncUnsafe()"
   ]
  },
  {
   "cell_type": "code",
   "execution_count": 81,
   "metadata": {},
   "outputs": [
    {
     "data": {
      "text/plain": [
       "\u001b[36mnode\u001b[39m: \u001b[32mGeneratorNode\u001b[39m[\u001b[32mTerm\u001b[39m] = \u001b[33mFlatMapOpt\u001b[39m(\n",
       "  \u001b[33mAtCoord\u001b[39m(TermsWithTyp, \u001b[32mNat\u001b[39m :: HNil),\n",
       "  provingground.learning.TermGeneratorNodes$$Lambda$4685/213507035@38fcdd8f,\n",
       "  Terms\n",
       ")"
      ]
     },
     "execution_count": 81,
     "metadata": {},
     "output_type": "execute_result"
    }
   ],
   "source": [
    "val node = tg.Gen.foldFuncTarget(succ, Nat, Terms).get"
   ]
  },
  {
   "cell_type": "code",
   "execution_count": 82,
   "metadata": {},
   "outputs": [
    {
     "data": {
      "text/plain": [
       "\u001b[36mfd\u001b[39m: \u001b[32mFiniteDistribution\u001b[39m[\u001b[32mTerm\u001b[39m] = \u001b[33mFiniteDistribution\u001b[39m(\n",
       "  \u001b[33mVector\u001b[39m(\n",
       "    \u001b[33mWeighted\u001b[39m(\u001b[32msucc(succ(succ(succ(zero))))\u001b[39m, \u001b[32m7.64905568259782E-4\u001b[39m),\n",
       "    \u001b[33mWeighted\u001b[39m(\u001b[32msucc(zero)\u001b[39m, \u001b[32m0.4665450047022078\u001b[39m),\n",
       "    \u001b[33mWeighted\u001b[39m(\u001b[32msucc(succ(zero))\u001b[39m, \u001b[32m0.3090352816016098\u001b[39m),\n",
       "    \u001b[33mWeighted\u001b[39m(\u001b[32msucc(succ(succ(zero)))\u001b[39m, \u001b[32m0.22365480812792266\u001b[39m)\n",
       "  )\n",
       ")"
      ]
     },
     "execution_count": 82,
     "metadata": {},
     "output_type": "execute_result"
    }
   ],
   "source": [
    "val fd = mfd.nodeDist(tsV)(node, 0.0001).runSyncUnsafe()"
   ]
  },
  {
   "cell_type": "code",
   "execution_count": 83,
   "metadata": {},
   "outputs": [
    {
     "data": {
      "text/plain": [
       "\u001b[36mnfd\u001b[39m: \u001b[32mFiniteDistribution\u001b[39m[\u001b[32mTerm\u001b[39m] = \u001b[33mFiniteDistribution\u001b[39m(\n",
       "  \u001b[33mVector\u001b[39m(\n",
       "    \u001b[33mWeighted\u001b[39m(\u001b[32m(_ : 𝒰 ) ↦ succ\u001b[39m, \u001b[32m0.033392963625521764\u001b[39m),\n",
       "    \u001b[33mWeighted\u001b[39m(\u001b[32msucc\u001b[39m, \u001b[32m0.8067978533094812\u001b[39m),\n",
       "    \u001b[33mWeighted\u001b[39m(\u001b[32m(@a : Nat) ↦ @a\u001b[39m, \u001b[32m0.08586762075134169\u001b[39m),\n",
       "    \u001b[33mWeighted\u001b[39m(\u001b[32m(_ : Nat) ↦ zero\u001b[39m, \u001b[32m0.033392963625521764\u001b[39m),\n",
       "    \u001b[33mWeighted\u001b[39m(\u001b[32m(@a : (Nat → Nat)) ↦ @a\u001b[39m, \u001b[32m0.0071556350626118094\u001b[39m),\n",
       "    \u001b[33mWeighted\u001b[39m(\u001b[32m(_ : Nat) ↦ succ\u001b[39m, \u001b[32m0.033392963625521764\u001b[39m)\n",
       "  )\n",
       ")"
      ]
     },
     "execution_count": 83,
     "metadata": {},
     "output_type": "execute_result"
    }
   ],
   "source": [
    "val nfd = mfd.nodeDist(tsV)(tg.Gen.codomainNode(Nat ->: Nat), 0.001).runSyncUnsafe()"
   ]
  },
  {
   "cell_type": "code",
   "execution_count": 84,
   "metadata": {},
   "outputs": [
    {
     "data": {
      "text/plain": [
       "\u001b[36mffd\u001b[39m: \u001b[32mFiniteDistribution\u001b[39m[\u001b[32mTerm\u001b[39m] = \u001b[33mFiniteDistribution\u001b[39m(\n",
       "  \u001b[33mVector\u001b[39m(\n",
       "    \u001b[33mWeighted\u001b[39m(\u001b[32m(_ : (𝒰  → Nat)) ↦ succ\u001b[39m, \u001b[32m8.637156053595128E-4\u001b[39m),\n",
       "    \u001b[33mWeighted\u001b[39m(\u001b[32m(_ : (Nat → Nat)) ↦ succ\u001b[39m, \u001b[32m0.0011389656334411162\u001b[39m),\n",
       "    \u001b[33mWeighted\u001b[39m(\u001b[32m(_ : Nat) ↦ (_ : 𝒰 ) ↦ succ\u001b[39m, \u001b[32m6.690104849205625E-4\u001b[39m),\n",
       "    \u001b[33mWeighted\u001b[39m(\u001b[32m(_ : Nat) ↦ (_ : Nat) ↦ zero\u001b[39m, \u001b[32m6.690104849205625E-4\u001b[39m),\n",
       "    \u001b[33mWeighted\u001b[39m(\u001b[32m(_ : 𝒰 ) ↦ succ\u001b[39m, \u001b[32m0.011731269079538992\u001b[39m),\n",
       "    \u001b[33mWeighted\u001b[39m(\u001b[32msucc\u001b[39m, \u001b[32m0.8239928126289577\u001b[39m),\n",
       "    \u001b[33mWeighted\u001b[39m(\u001b[32m(@a : Nat) ↦ (_ : Nat) ↦ @a\u001b[39m, \u001b[32m0.0017203126755100185\u001b[39m),\n",
       "    \u001b[33mWeighted\u001b[39m(\u001b[32m(_ : Nat) ↦ (@b : Nat) ↦ @b\u001b[39m, \u001b[32m0.002457589536442883\u001b[39m),\n",
       "    \u001b[33mWeighted\u001b[39m(\u001b[32m(@a : Nat) ↦ @a\u001b[39m, \u001b[32m0.07893885136777896\u001b[39m),\n",
       "    \u001b[33mWeighted\u001b[39m(\u001b[32m(_ : Vec(Nat)(zero)) ↦ (@a : Nat) ↦ @a\u001b[39m, \u001b[32m0.0021378364357880967\u001b[39m),\n",
       "    \u001b[33mWeighted\u001b[39m(\u001b[32m(_ : Nat) ↦ (_ : Nat) ↦ succ\u001b[39m, \u001b[32m6.690104849205625E-4\u001b[39m),\n",
       "    \u001b[33mWeighted\u001b[39m(\u001b[32m(_ : Nat) ↦ zero\u001b[39m, \u001b[32m0.030058554794242222\u001b[39m),\n",
       "    \u001b[33mWeighted\u001b[39m(\u001b[32m(_ : ∏(@a : 𝒰 ){ @a }) ↦ succ\u001b[39m, \u001b[32m7.403276617367255E-4\u001b[39m),\n",
       "    \u001b[33mWeighted\u001b[39m(\u001b[32m(_ : Vec(Nat)(zero)) ↦ succ\u001b[39m, \u001b[32m0.00914518919753797\u001b[39m),\n",
       "    \u001b[33mWeighted\u001b[39m(\u001b[32m(_ : 𝒰 ) ↦ (@a : Nat) ↦ @a\u001b[39m, \u001b[32m0.001919662213015471\u001b[39m),\n",
       "    \u001b[33mWeighted\u001b[39m(\u001b[32m(@a : ∏(@a : 𝒰 ){ @a }) ↦ @a((Nat → Nat))\u001b[39m, \u001b[32m0.0019036997016087225\u001b[39m),\n",
       "    \u001b[33mWeighted\u001b[39m(\u001b[32m(_ : Nat) ↦ succ(zero)\u001b[39m, \u001b[32m0.004038568788091896\u001b[39m),\n",
       "    \u001b[33mWeighted\u001b[39m(\u001b[32m(_ : (𝒰  → 𝒰 )) ↦ succ\u001b[39m, \u001b[32m8.637156053595128E-4\u001b[39m),\n",
       "    \u001b[33mWeighted\u001b[39m(\u001b[32m(_ : (Nat → 𝒰 )) ↦ succ\u001b[39m, \u001b[32m0.0011389656334411162\u001b[39m),\n",
       "    \u001b[33mWeighted\u001b[39m(\u001b[32m(@a : Nat) ↦ succ(@a)\u001b[39m, \u001b[32m0.010384891169379162\u001b[39m),\n",
       "    \u001b[33mWeighted\u001b[39m(\u001b[32m(@a : (Nat → Nat)) ↦ @a\u001b[39m, \u001b[32m0.0029287687717057275\u001b[39m),\n",
       "    \u001b[33mWeighted\u001b[39m(\u001b[32m(_ : Nat) ↦ succ\u001b[39m, \u001b[32m0.01051302190589456\u001b[39m),\n",
       "    \u001b[33mWeighted\u001b[39m(\u001b[32m((__1 , __2) : Nat×𝒰 ) ↦ succ\u001b[39m, \u001b[32m6.881250702040076E-4\u001b[39m),\n",
       "    \u001b[33mWeighted\u001b[39m(\u001b[32m((__1 , __2) : Nat×Nat) ↦ succ\u001b[39m, \u001b[32m6.881250702040076E-4\u001b[39m)\n",
       "  )\n",
       ")"
      ]
     },
     "execution_count": 84,
     "metadata": {},
     "output_type": "execute_result"
    }
   ],
   "source": [
    "val ffd = mfd.varDist(tsV)(funcForCod(Nat ->: Nat), 0.0001).runSyncUnsafe()"
   ]
  },
  {
   "cell_type": "code",
   "execution_count": 92,
   "metadata": {},
   "outputs": [
    {
     "data": {
      "text/plain": [
       "\u001b[36mindTargT\u001b[39m: \u001b[32mmonix\u001b[39m.\u001b[32meval\u001b[39m.\u001b[32mTask\u001b[39m[\u001b[32mFiniteDistribution\u001b[39m[\u001b[32mTerm\u001b[39m]] = \u001b[33mFlatMap\u001b[39m(\n",
       "  \u001b[33mMap\u001b[39m(\n",
       "    \u001b[33mFlatMap\u001b[39m(\u001b[33mAsync\u001b[39m(<function2>, true, true, true), monix.eval.Task$$Lambda$3843/1159594218@2c416bb0),\n",
       "    provingground.learning.MonixFiniteDistribution$$Lambda$3961/1080967416@29133795,\n",
       "    \u001b[32m0\u001b[39m\n",
       "  ),\n",
       "  provingground.learning.MonixFiniteDistribution$$Lambda$3962/1398506810@360b754f\n",
       ")"
      ]
     },
     "execution_count": 92,
     "metadata": {},
     "output_type": "execute_result"
    }
   ],
   "source": [
    "val indTargT = mfd.nodeDist(ts1)(tg.Gen.targetInducNode(Nat ->: Nat), 0.0001)"
   ]
  },
  {
   "cell_type": "code",
   "execution_count": 93,
   "metadata": {},
   "outputs": [
    {
     "data": {
      "text/plain": [
       "\u001b[36mres92\u001b[39m: \u001b[32mFiniteDistribution\u001b[39m[\u001b[32mTerm\u001b[39m] = \u001b[33mFiniteDistribution\u001b[39m(\n",
       "  \u001b[33mVector\u001b[39m(\n",
       "    \u001b[33mWeighted\u001b[39m(\n",
       "      \u001b[32minduc_{ Nat ; (_ : Nat) ↦ Nat }(succ(succ(zero)))((@a : Nat) ↦ (_ : Nat) ↦ succ(@a))\u001b[39m,\n",
       "      \u001b[32m0.016348855278431905\u001b[39m\n",
       "    ),\n",
       "    \u001b[33mWeighted\u001b[39m(\n",
       "      \u001b[32minduc_{ Nat ; (_ : Nat) ↦ Nat }(succ(succ(zero)))((_ : Nat) ↦ (@b : Nat) ↦ succ(@b))\u001b[39m,\n",
       "      \u001b[32m0.02335550754061701\u001b[39m\n",
       "    ),\n",
       "    \u001b[33mWeighted\u001b[39m(\n",
       "      \u001b[32minduc_{ Nat ; (_ : Nat) ↦ Nat }(succ(zero))((_ : Nat) ↦ (@b : Nat) ↦ succ(@b))\u001b[39m,\n",
       "      \u001b[32m0.027912269926652758\u001b[39m\n",
       "    ),\n",
       "    \u001b[33mWeighted\u001b[39m(\n",
       "      \u001b[32minduc_{ Nat ; (_ : Nat) ↦ Nat }(succ(zero))((@a : Nat) ↦ (_ : Nat) ↦ succ(@a))\u001b[39m,\n",
       "      \u001b[32m0.019082732126670676\u001b[39m\n",
       "    ),\n",
       "    \u001b[33mWeighted\u001b[39m(\n",
       "      \u001b[32minduc_{ Nat ; (_ : Nat) ↦ Nat }(succ(zero))((_ : Nat) ↦ (_ : Nat) ↦ succ(zero))\u001b[39m,\n",
       "      \u001b[32m0.008905274992446316\u001b[39m\n",
       "    ),\n",
       "    \u001b[33mWeighted\u001b[39m(\n",
       "      \u001b[32minduc_{ Nat ; (_ : Nat) ↦ Nat }(succ(zero))((@a : Nat) ↦ (_ : Nat) ↦ succ(succ(@a)))\u001b[39m,\n",
       "      \u001b[32m0.006652850436204436\u001b[39m\n",
       "    ),\n",
       "    \u001b[33mWeighted\u001b[39m(\n",
       "      \u001b[32minduc_{ Nat ; (_ : Nat) ↦ Nat }(succ(zero))((_ : Nat) ↦ (@b : Nat) ↦ succ(succ(@b)))\u001b[39m,\n",
       "      \u001b[32m0.022522944234461998\u001b[39m\n",
       "    ),\n",
       "    \u001b[33mWeighted\u001b[39m(\n",
       "      \u001b[32minduc_{ Nat ; (_ : Nat) ↦ Nat }(succ(zero))((_ : Nat) ↦ (_ : Nat) ↦ zero)\u001b[39m,\n",
       "      \u001b[32m0.007583299795560589\u001b[39m\n",
       "    ),\n",
       "    \u001b[33mWeighted\u001b[39m(\u001b[32minduc_{ Nat ; (_ : Nat) ↦ Nat }(zero)((_ : Nat) ↦ succ)\u001b[39m, \u001b[32m0.23445459080365516\u001b[39m),\n",
       "    \u001b[33mWeighted\u001b[39m(\n",
       "      \u001b[32minduc_{ Nat ; (_ : Nat) ↦ Nat }(succ(succ(zero)))((_ : Nat) ↦ (_ : Nat) ↦ succ(zero))\u001b[39m,\n",
       "      \u001b[32m0.007629465796601556\u001b[39m\n",
       "    ),\n",
       "    \u001b[33mWeighted\u001b[39m(\n",
       "      \u001b[32minduc_{ Nat ; (_ : Nat) ↦ Nat }(zero)((_ : Nat) ↦ (_ : Nat) ↦ succ(zero))\u001b[39m,\n",
       "      \u001b[32m0.011870916539622063\u001b[39m\n",
       "    ),\n",
       "    \u001b[33mWeighted\u001b[39m(\n",
       "      \u001b[32minduc_{ Nat ; (_ : Nat) ↦ Nat }(succ(succ(zero)))((_ : Nat) ↦ (_ : Nat) ↦ zero)\u001b[39m,\n",
       "      \u001b[32m0.0030681266609904924\u001b[39m\n",
       "    ),\n",
       "    \u001b[33mWeighted\u001b[39m(\n",
       "      \u001b[32minduc_{ Nat ; (_ : Nat) ↦ Nat }(succ(succ(succ(zero))))((@a : Nat) ↦ (_ : Nat) ↦ succ(@a))\u001b[39m,\n",
       "..."
      ]
     },
     "execution_count": 93,
     "metadata": {},
     "output_type": "execute_result"
    }
   ],
   "source": [
    "indTargT.runSyncUnsafe()"
   ]
  },
  {
   "cell_type": "code",
   "execution_count": null,
   "metadata": {},
   "outputs": [],
   "source": []
  }
 ],
 "metadata": {
  "kernelspec": {
   "display_name": "Scala",
   "language": "scala",
   "name": "scala"
  },
  "language_info": {
   "codemirror_mode": "text/x-scala",
   "file_extension": ".scala",
   "mimetype": "text/x-scala",
   "name": "scala",
   "nbconvert_exporter": "script",
   "version": "2.12.8"
  }
 },
 "nbformat": 4,
 "nbformat_minor": 2
}
