{
 "cells": [
  {
   "cell_type": "markdown",
   "metadata": {},
   "source": [
    "# Provingground - HoTT\n",
    "\n",
    "These notes concern the object _HoTT_, which has the core implementation of homotopy type theory. Implementation details are (rather, will be) in the [scaladocs](http://siddhartha-gadgil.github.io/ProvingGround/).\n",
    "\n",
    "The major components of homotopy type theory implemented in the object HoTT are\n",
    "\n",
    "* Terms, types and Universes.\n",
    "* Function and dependent function types.\n",
    "* λs.\n",
    "* Pairs and Dependent pairs.\n",
    "* Disjoint union types.\n",
    "* Types 0 and 1 and an object in the latter.\n",
    "* Identity types\n",
    "\n",
    "Inductive types, induction and recursion are in different objects as they are rather subtle. The other major way (also not in the _HoTT_ object) of constructing non-composite types is to wrap scala types, possibly including symbolic algebra.\n"
   ]
  },
  {
   "cell_type": "markdown",
   "metadata": {},
   "source": [
    "The _core_ project contains code that is agnostic to how it is run. In particular this also compiles to scala-js."
   ]
  },
  {
   "cell_type": "code",
   "execution_count": 1,
   "metadata": {
    "collapsed": false
   },
   "outputs": [
    {
     "data": {
      "text/plain": []
     },
     "metadata": {},
     "output_type": "display_data"
    }
   ],
   "source": [
    "load.jar(\"/home/gadgil/code/ProvingGround/core/.jvm/target/scala-2.11/ProvingGround-Core-assembly-0.8.jar\")"
   ]
  },
  {
   "cell_type": "markdown",
   "metadata": {},
   "source": [
    "### Universes, Symbolic types\n",
    "\n",
    "We have a family of universes, but mostly use the first one denoted by Type. Given a type, we can construct symbolic objects of that type. We construct such a type _A_."
   ]
  },
  {
   "cell_type": "code",
   "execution_count": 2,
   "metadata": {
    "collapsed": false
   },
   "outputs": [
    {
     "data": {
      "text/plain": [
       "\u001b[32mimport \u001b[36mprovingground._\u001b[0m\n",
       "\u001b[32mimport \u001b[36mHoTT._\u001b[0m\n",
       "\u001b[36mA\u001b[0m: \u001b[32mprovingground\u001b[0m.\u001b[32mHoTT\u001b[0m.\u001b[32mTyp\u001b[0m[\u001b[32mprovingground\u001b[0m.\u001b[32mHoTT\u001b[0m.\u001b[32mTerm\u001b[0m] with \u001b[32mprovingground\u001b[0m.\u001b[32mHoTT\u001b[0m.\u001b[32mSubs\u001b[0m[\u001b[32mprovingground\u001b[0m.\u001b[32mHoTT\u001b[0m.\u001b[32mTyp\u001b[0m[\u001b[32mprovingground\u001b[0m.\u001b[32mHoTT\u001b[0m.\u001b[32mTerm\u001b[0m]] = A : 𝒰 \n",
       "\u001b[36mres1_3\u001b[0m: \u001b[32mBoolean\u001b[0m = true"
      ]
     },
     "metadata": {},
     "output_type": "display_data"
    }
   ],
   "source": [
    "import provingground._\n",
    "import HoTT._\n",
    "val A =\"A\" :: Type\n",
    "A == Type.::(\"A\")"
   ]
  },
  {
   "cell_type": "markdown",
   "metadata": {},
   "source": [
    "We consider a symbolic object of the type _A_"
   ]
  },
  {
   "cell_type": "code",
   "execution_count": 3,
   "metadata": {
    "collapsed": false
   },
   "outputs": [
    {
     "data": {
      "text/plain": [
       "\u001b[36ma\u001b[0m: \u001b[32mTerm\u001b[0m with \u001b[32mSubs\u001b[0m[\u001b[32mTerm\u001b[0m] = a : (A : 𝒰 )"
      ]
     },
     "metadata": {},
     "output_type": "display_data"
    }
   ],
   "source": [
    "val a =\"a\" :: A"
   ]
  },
  {
   "cell_type": "markdown",
   "metadata": {},
   "source": [
    "## Function types, lambdas, Identity\n",
    "\n",
    "Given types A and B, we have the function type A → B. An element of this is a function from A to B. \n",
    "\n",
    "We can construct functions using λ's. Here, for the type _A_, we construct the identity on _A_ using a lambda. We can then view this as a dependent function of _A_, giving the identity function.\n",
    "\n",
    "In this definition, two λ's are used, with the method _lmbda_ telling the TypecompilerType that the result is a (non-dependent) function. "
   ]
  },
  {
   "cell_type": "code",
   "execution_count": 4,
   "metadata": {
    "collapsed": false
   },
   "outputs": [
    {
     "data": {
      "text/plain": [
       "\u001b[36mid\u001b[0m: \u001b[32mFuncLike\u001b[0m[\u001b[32mTyp\u001b[0m[\u001b[32mTerm\u001b[0m] with \u001b[32mSubs\u001b[0m[\u001b[32mTyp\u001b[0m[\u001b[32mTerm\u001b[0m]], \u001b[32mFunc\u001b[0m[\u001b[32mTerm\u001b[0m with \u001b[32mSubs\u001b[0m[\u001b[32mTerm\u001b[0m], \u001b[32mTerm\u001b[0m with \u001b[32mSubs\u001b[0m[\u001b[32mTerm\u001b[0m]]] = (A : 𝒰 ) ↦ ((a : (A : 𝒰 )) ↦ (a : (A : 𝒰 )))"
      ]
     },
     "metadata": {},
     "output_type": "display_data"
    }
   ],
   "source": [
    "val id = lambda(A)(lmbda(a)(a))"
   ]
  },
  {
   "cell_type": "markdown",
   "metadata": {},
   "source": [
    "The type of the identity function is a mixture of Pi-types and function types. Which of these to use is determined by checking dependence of the type of the value on the varaible in a λ-definition."
   ]
  },
  {
   "cell_type": "code",
   "execution_count": 5,
   "metadata": {
    "collapsed": false
   },
   "outputs": [
    {
     "data": {
      "text/plain": [
       "\u001b[36mres4_0\u001b[0m: \u001b[32mTyp\u001b[0m[\u001b[32mTerm\u001b[0m] = ∏((A : 𝒰 ) ↦ ((A : 𝒰 ) → (A : 𝒰 )))\n",
       "\u001b[36mres4_1\u001b[0m: \u001b[32mTyp\u001b[0m[\u001b[32mTerm\u001b[0m] = (A : 𝒰 ) → (A : 𝒰 )\n",
       "\u001b[36mres4_2\u001b[0m: \u001b[32mBoolean\u001b[0m = true"
      ]
     },
     "metadata": {},
     "output_type": "display_data"
    }
   ],
   "source": [
    "id.typ\n",
    "lmbda(a)(a).typ\n",
    "lmbda(a)(a).typ.dependsOn(A)"
   ]
  },
  {
   "cell_type": "markdown",
   "metadata": {},
   "source": [
    "The lambdas have the same effect at runtime. It is checked if the type of the value depends on the variable.\n",
    "The result is either _LambdaFixed_ or _Lambda_ accordingly."
   ]
  },
  {
   "cell_type": "code",
   "execution_count": 6,
   "metadata": {
    "collapsed": false
   },
   "outputs": [
    {
     "data": {
      "text/plain": [
       "\u001b[36mindep\u001b[0m: \u001b[32mFunc\u001b[0m[\u001b[32mTerm\u001b[0m with \u001b[32mSubs\u001b[0m[\u001b[32mTerm\u001b[0m], \u001b[32mTerm\u001b[0m with \u001b[32mSubs\u001b[0m[\u001b[32mTerm\u001b[0m]] = (a : (A : 𝒰 )) ↦ (a : (A : 𝒰 ))\n",
       "\u001b[36mdep\u001b[0m: \u001b[32mFuncLike\u001b[0m[\u001b[32mTerm\u001b[0m with \u001b[32mSubs\u001b[0m[\u001b[32mTerm\u001b[0m], \u001b[32mTerm\u001b[0m with \u001b[32mSubs\u001b[0m[\u001b[32mTerm\u001b[0m]] = (a : (A : 𝒰 )) ↦ (a : (A : 𝒰 ))\n",
       "\u001b[36mres5_2\u001b[0m: \u001b[32mBoolean\u001b[0m = true"
      ]
     },
     "metadata": {},
     "output_type": "display_data"
    }
   ],
   "source": [
    "val indep = lmbda(a)(a)\n",
    "val dep = lambda(a)(a)\n",
    "indep == dep"
   ]
  },
  {
   "cell_type": "markdown",
   "metadata": {},
   "source": [
    "### Hygiene for λs\n",
    "\n",
    "A new variable object, which has the same toString, is created in making lambdas. This is to avoid name clashes."
   ]
  },
  {
   "cell_type": "code",
   "execution_count": 7,
   "metadata": {
    "collapsed": false
   },
   "outputs": [
    {
     "data": {
      "text/plain": [
       "\u001b[36ml\u001b[0m: \u001b[32mLambdaFixed\u001b[0m[\u001b[32mTerm\u001b[0m, \u001b[32mTerm\u001b[0m] = \u001b[33mLambdaFixed\u001b[0m(a : (A : 𝒰 ), a : (A : 𝒰 ))\n",
       "\u001b[36mres6_1\u001b[0m: \u001b[32mTerm\u001b[0m = a : (A : 𝒰 )\n",
       "\u001b[36mres6_2\u001b[0m: \u001b[32mBoolean\u001b[0m = false"
      ]
     },
     "metadata": {},
     "output_type": "display_data"
    }
   ],
   "source": [
    "val l = dep.asInstanceOf[LambdaFixed[Term, Term]]\n",
    "l.variable\n",
    "l.variable == a"
   ]
  },
  {
   "cell_type": "markdown",
   "metadata": {},
   "source": [
    "## Modus Ponens\n",
    "\n",
    "We construct Modus Ponens, as an object in Homotopy Type theory. Note that A ->: B is the function type A → B."
   ]
  },
  {
   "cell_type": "code",
   "execution_count": 8,
   "metadata": {
    "collapsed": false
   },
   "outputs": [
    {
     "data": {
      "text/plain": [
       "\u001b[36mB\u001b[0m: \u001b[32mTyp\u001b[0m[\u001b[32mTerm\u001b[0m] with \u001b[32mSubs\u001b[0m[\u001b[32mTyp\u001b[0m[\u001b[32mTerm\u001b[0m]] = B : 𝒰 \n",
       "\u001b[36mf\u001b[0m: \u001b[32mFunc\u001b[0m[\u001b[32mTerm\u001b[0m, \u001b[32mTerm\u001b[0m] with \u001b[32mSubs\u001b[0m[\u001b[32mFunc\u001b[0m[\u001b[32mTerm\u001b[0m, \u001b[32mTerm\u001b[0m]] = f : ((A : 𝒰 ) → (B : 𝒰 ))\n",
       "\u001b[36mmp\u001b[0m: \u001b[32mFuncLike\u001b[0m[\u001b[32mTyp\u001b[0m[\u001b[32mTerm\u001b[0m] with \u001b[32mSubs\u001b[0m[\u001b[32mTyp\u001b[0m[\u001b[32mTerm\u001b[0m]], \u001b[32mFuncLike\u001b[0m[\u001b[32mTyp\u001b[0m[\u001b[32mTerm\u001b[0m] with \u001b[32mSubs\u001b[0m[\u001b[32mTyp\u001b[0m[\u001b[32mTerm\u001b[0m]], \u001b[32mFunc\u001b[0m[\u001b[32mTerm\u001b[0m with \u001b[32mSubs\u001b[0m[\u001b[32mTerm\u001b[0m], \u001b[32mFunc\u001b[0m[\u001b[32mFunc\u001b[0m[\u001b[32mTerm\u001b[0m, \u001b[32mTerm\u001b[0m] with \u001b[32mSubs\u001b[0m[\u001b[32mFunc\u001b[0m[\u001b[32mTerm\u001b[0m, \u001b[32mTerm\u001b[0m]], \u001b[32mTerm\u001b[0m]]]] = (A : 𝒰 ) ↦ ((B : 𝒰 ) ↦ ((a : (A : 𝒰 )) ↦ ((f : ((A : 𝒰 ) → (B : 𝒰 ))) ↦ ((f : ((A : 𝒰 ) → (B : 𝒰 ))) (a : (A : 𝒰 )) : (B : 𝒰 )))))"
      ]
     },
     "metadata": {},
     "output_type": "display_data"
    }
   ],
   "source": [
    "val B = \"B\" :: Type\n",
    "\n",
    "val f = \"f\" :: (A ->: B)\n",
    "\n",
    "val mp = lambda(A)(lambda(B)(lmbda(a)(lmbda(f)(f(a)))))"
   ]
  },
  {
   "cell_type": "markdown",
   "metadata": {},
   "source": [
    "The type of Modus Ponens is again a mixture of Pi-types and function types."
   ]
  },
  {
   "cell_type": "code",
   "execution_count": 9,
   "metadata": {
    "collapsed": false
   },
   "outputs": [
    {
     "data": {
      "text/plain": [
       "\u001b[36mres8\u001b[0m: \u001b[32mTyp\u001b[0m[\u001b[32mTerm\u001b[0m] = ∏((A : 𝒰 ) ↦ (∏((B : 𝒰 ) ↦ ((A : 𝒰 ) → (((A : 𝒰 ) → (B : 𝒰 )) → (B : 𝒰 ))))))"
      ]
     },
     "metadata": {},
     "output_type": "display_data"
    }
   ],
   "source": [
    "mp.typ"
   ]
  },
  {
   "cell_type": "markdown",
   "metadata": {
    "collapsed": true
   },
   "source": [
    "We can apply modus ponens with the roles of _A_ and _B_ reversed. This still works because variable clashes are avoided."
   ]
  },
  {
   "cell_type": "code",
   "execution_count": 10,
   "metadata": {
    "collapsed": false
   },
   "outputs": [
    {
     "data": {
      "text/plain": [
       "\u001b[36mmpBA\u001b[0m: \u001b[32mFunc\u001b[0m[\u001b[32mTerm\u001b[0m with \u001b[32mSubs\u001b[0m[\u001b[32mTerm\u001b[0m], \u001b[32mFunc\u001b[0m[\u001b[32mFunc\u001b[0m[\u001b[32mTerm\u001b[0m, \u001b[32mTerm\u001b[0m] with \u001b[32mSubs\u001b[0m[\u001b[32mFunc\u001b[0m[\u001b[32mTerm\u001b[0m, \u001b[32mTerm\u001b[0m]], \u001b[32mTerm\u001b[0m]] = (a : (B : 𝒰 )) ↦ ((f : ((B : 𝒰 ) → (A : 𝒰 ))) ↦ ((f : ((B : 𝒰 ) → (A : 𝒰 ))) (a : (B : 𝒰 )) : (A : 𝒰 )))\n",
       "\u001b[36mres9_1\u001b[0m: \u001b[32mBoolean\u001b[0m = true"
      ]
     },
     "metadata": {},
     "output_type": "display_data"
    }
   ],
   "source": [
    "val mpBA = mp(B)(A)\n",
    "mpBA.typ == B ->: (B ->: A) ->: A"
   ]
  },
  {
   "cell_type": "markdown",
   "metadata": {},
   "source": [
    "### Equality of λs\n",
    "\n",
    "Lambdas do not depend on the name of the variable."
   ]
  },
  {
   "cell_type": "code",
   "execution_count": 11,
   "metadata": {
    "collapsed": false
   },
   "outputs": [
    {
     "data": {
      "text/plain": [
       "\u001b[36maa\u001b[0m: \u001b[32mTerm\u001b[0m with \u001b[32mSubs\u001b[0m[\u001b[32mTerm\u001b[0m] = aa : (A : 𝒰 )\n",
       "\u001b[36mres10_1\u001b[0m: \u001b[32mBoolean\u001b[0m = true\n",
       "\u001b[36mres10_2\u001b[0m: \u001b[32mBoolean\u001b[0m = true"
      ]
     },
     "metadata": {},
     "output_type": "display_data"
    }
   ],
   "source": [
    "val aa = \"aa\" :: A\n",
    "lmbda(aa)(aa) == lmbda(a)(a)\n",
    "(lmbda(aa)(aa))(a) == a"
   ]
  },
  {
   "cell_type": "markdown",
   "metadata": {},
   "source": [
    "## Dependent types\n",
    "\n",
    "Given a type family, we can construct the corresponding Pi-types and Sigma-types. We start with a formal type family, which is just a symbolic object of the appropriate type."
   ]
  },
  {
   "cell_type": "code",
   "execution_count": 12,
   "metadata": {
    "collapsed": false
   },
   "outputs": [
    {
     "data": {
      "text/plain": [
       "\u001b[36mBs\u001b[0m: \u001b[32mFunc\u001b[0m[\u001b[32mTerm\u001b[0m, \u001b[32mTyp\u001b[0m[\u001b[32mTerm\u001b[0m]] with \u001b[32mSubs\u001b[0m[\u001b[32mFunc\u001b[0m[\u001b[32mTerm\u001b[0m, \u001b[32mTyp\u001b[0m[\u001b[32mTerm\u001b[0m]]] = B(_ : A) : ((A : 𝒰 ) → (𝒰 _0))"
      ]
     },
     "metadata": {},
     "output_type": "display_data"
    }
   ],
   "source": [
    "val Bs = \"B(_ : A)\" :: (A ->: Type)"
   ]
  },
  {
   "cell_type": "markdown",
   "metadata": {},
   "source": [
    "### Pi-Types\n",
    "\n",
    "In addition to the case class constructor, there is an agda/shapeless-like  convenience method for constructing Pi-types. Namely, given a type expression that depends on a varaible _a : A_, we can construct the Pi-type correspoding to the obtained λ-expression.\n",
    "\n",
    "Note that the !: method just claims and checks a type, and is useful (e.g. here) for documentation."
   ]
  },
  {
   "cell_type": "code",
   "execution_count": 13,
   "metadata": {
    "collapsed": false
   },
   "outputs": [
    {
     "data": {
      "text/plain": [
       "\u001b[36mfmly\u001b[0m: \u001b[32mPiTyp\u001b[0m[\u001b[32mTerm\u001b[0m, \u001b[32mFunc\u001b[0m[\u001b[32mTerm\u001b[0m, \u001b[32mTerm\u001b[0m]] = \u001b[33mPiTyp\u001b[0m((a : (A : 𝒰 )) ↦ (((B(_ : A) : ((A : 𝒰 ) → (𝒰 _0))) (a : (A : 𝒰 )) : 𝒰 ) → (A : 𝒰 )))"
      ]
     },
     "metadata": {},
     "output_type": "display_data"
    }
   ],
   "source": [
    "val fmly = (a !: A) ~>: (Bs(a) ->: A)"
   ]
  },
  {
   "cell_type": "markdown",
   "metadata": {},
   "source": [
    "### Sigma-types\n",
    "\n",
    "There is also a convenience method for defining Sigma types using λs."
   ]
  },
  {
   "cell_type": "code",
   "execution_count": 14,
   "metadata": {
    "collapsed": false
   },
   "outputs": [
    {
     "data": {
      "text/plain": [
       "\u001b[36mres13\u001b[0m: \u001b[32mSigmaTyp\u001b[0m[\u001b[32mTerm\u001b[0m, \u001b[32mTerm\u001b[0m] = \u001b[33mSigmaTyp\u001b[0m((a : (A : 𝒰 )) ↦ ((B(_ : A) : ((A : 𝒰 ) → (𝒰 _0))) (a : (A : 𝒰 )) : 𝒰 ))"
      ]
     },
     "metadata": {},
     "output_type": "display_data"
    }
   ],
   "source": [
    "Sgma(a !: A, Bs(a))"
   ]
  },
  {
   "cell_type": "code",
   "execution_count": 15,
   "metadata": {
    "collapsed": false
   },
   "outputs": [
    {
     "data": {
      "text/plain": [
       "\u001b[36mres14\u001b[0m: \u001b[32mSigmaTyp\u001b[0m[\u001b[32mTerm\u001b[0m, \u001b[32mFunc\u001b[0m[\u001b[32mTerm\u001b[0m, \u001b[32mFunc\u001b[0m[\u001b[32mTerm\u001b[0m, \u001b[32mTerm\u001b[0m]]] = \u001b[33mSigmaTyp\u001b[0m(\n",
       "  (a : (A : 𝒰 )) ↦ (((B(_ : A) : ((A : 𝒰 ) → (𝒰 _0))) (a : (A : 𝒰 )) : 𝒰 ) → (((B(_ : A) : ((A : 𝒰 ) → (𝒰 _0))) (a : (A : 𝒰 )) : 𝒰 ) → (A : 𝒰 )))\n",
       ")"
      ]
     },
     "metadata": {},
     "output_type": "display_data"
    }
   ],
   "source": [
    "Sgma(a !: A, Bs(a) ->: Bs(a) ->: A)"
   ]
  },
  {
   "cell_type": "markdown",
   "metadata": {},
   "source": [
    "## Pair types\n",
    "\n",
    "Like functions and dependent functions, pairs and dependent pairs can be handled together. The _mkPair_ function assignes the right type after checking dependence, choosing between pair types, pairs and dependent pairs."
   ]
  },
  {
   "cell_type": "code",
   "execution_count": 16,
   "metadata": {
    "collapsed": false
   },
   "outputs": [
    {
     "data": {
      "text/plain": [
       "\u001b[36mba\u001b[0m: \u001b[32mTerm\u001b[0m with \u001b[32mSubs\u001b[0m[\u001b[32mTerm\u001b[0m] = b(a) : ((B(_ : A) : ((A : 𝒰 ) → (𝒰 _0))) (a : (A : 𝒰 )) : 𝒰 )\n",
       "\u001b[36mb\u001b[0m: \u001b[32mTerm\u001b[0m with \u001b[32mSubs\u001b[0m[\u001b[32mTerm\u001b[0m] = b : (B : 𝒰 )\n",
       "\u001b[36mres15_2\u001b[0m: \u001b[32mAbsPair\u001b[0m[\u001b[32mTerm\u001b[0m, \u001b[32mTerm\u001b[0m] = ((A : 𝒰 ) , (B : 𝒰 ))\n",
       "\u001b[36mres15_3\u001b[0m: \u001b[32mAbsPair\u001b[0m[\u001b[32mTerm\u001b[0m, \u001b[32mTerm\u001b[0m] = ((a : (A : 𝒰 )) , (b : (B : 𝒰 )))\n",
       "\u001b[36mres15_4\u001b[0m: \u001b[32mTyp\u001b[0m[\u001b[32mTerm\u001b[0m] = ((A : 𝒰 ) , (B : 𝒰 ))\n",
       "\u001b[36mres15_5\u001b[0m: \u001b[32mTyp\u001b[0m[\u001b[32mTerm\u001b[0m] = ∑((a : (A : 𝒰 )) ↦ ((B(_ : A) : ((A : 𝒰 ) → (𝒰 _0))) (a : (A : 𝒰 )) : 𝒰 ))"
      ]
     },
     "metadata": {},
     "output_type": "display_data"
    }
   ],
   "source": [
    "val ba = \"b(a)\" :: Bs(a)\n",
    "val b = \"b\" :: B\n",
    "mkPair(A, B)\n",
    "mkPair(a, b)\n",
    "mkPair(a, b).typ\n",
    "mkPair(a, ba).typ"
   ]
  },
  {
   "cell_type": "code",
   "execution_count": 17,
   "metadata": {
    "collapsed": false
   },
   "outputs": [
    {
     "data": {
      "text/plain": [
       "\u001b[36mres16\u001b[0m: \u001b[32mPairTyp\u001b[0m[\u001b[32mTerm\u001b[0m, \u001b[32mTerm\u001b[0m] = \u001b[33mPairTyp\u001b[0m(A : 𝒰 , B : 𝒰 )"
      ]
     },
     "metadata": {},
     "output_type": "display_data"
    }
   ],
   "source": [
    "mkPair(A, B).asInstanceOf[PairTyp[Term, Term]]"
   ]
  },
  {
   "cell_type": "markdown",
   "metadata": {
    "collapsed": true
   },
   "source": [
    "## Plus types\n",
    "\n",
    "We can also construct the plus type _A plus B_, which comes with two inclusion functions."
   ]
  },
  {
   "cell_type": "code",
   "execution_count": 18,
   "metadata": {
    "collapsed": false
   },
   "outputs": [
    {
     "data": {
      "text/plain": [
       "\u001b[36mAplusB\u001b[0m: \u001b[32mPlusTyp\u001b[0m[\u001b[32mTerm\u001b[0m, \u001b[32mTerm\u001b[0m] = \u001b[33mPlusTyp\u001b[0m(A : 𝒰 , B : 𝒰 )"
      ]
     },
     "metadata": {},
     "output_type": "display_data"
    }
   ],
   "source": [
    "val AplusB = PlusTyp(A, B)"
   ]
  },
  {
   "cell_type": "code",
   "execution_count": 19,
   "metadata": {
    "collapsed": false
   },
   "outputs": [
    {
     "data": {
      "text/plain": [
       "\u001b[36mres18\u001b[0m: \u001b[32mPlusTyp\u001b[0m.\u001b[32mFirstIncl\u001b[0m[\u001b[32mTerm\u001b[0m, \u001b[32mTerm\u001b[0m] = \u001b[33mFirstIncl\u001b[0m(\u001b[33mPlusTyp\u001b[0m(A : 𝒰 , B : 𝒰 ), a : (A : 𝒰 ))"
      ]
     },
     "metadata": {},
     "output_type": "display_data"
    }
   ],
   "source": [
    "AplusB.ifn(a)"
   ]
  },
  {
   "cell_type": "code",
   "execution_count": 20,
   "metadata": {
    "collapsed": false
   },
   "outputs": [
    {
     "data": {
      "text/plain": [
       "\u001b[36mres19\u001b[0m: \u001b[32mFunc\u001b[0m[\u001b[32mTerm\u001b[0m with \u001b[32mSubs\u001b[0m[\u001b[32mTerm\u001b[0m], \u001b[32mPlusTyp\u001b[0m.\u001b[32mScndIncl\u001b[0m[\u001b[32mTerm\u001b[0m, \u001b[32mTerm\u001b[0m]] = ($b : (B : 𝒰 )) ↦ (ScndIncl(PlusTyp(A : 𝒰 ,B : 𝒰 ),$b : (B : 𝒰 )))"
      ]
     },
     "metadata": {},
     "output_type": "display_data"
    }
   ],
   "source": [
    "AplusB.jfn"
   ]
  },
  {
   "cell_type": "markdown",
   "metadata": {},
   "source": [
    "In the above, a λ was used, with a variable automatically generated. These have names starting with $ to avoid collision with user defined ones."
   ]
  },
  {
   "cell_type": "markdown",
   "metadata": {},
   "source": [
    "## Identity type\n",
    "\n",
    "We have an identity type associated to a type _A_, with reflexivity giving terms of this type."
   ]
  },
  {
   "cell_type": "code",
   "execution_count": 21,
   "metadata": {
    "collapsed": false
   },
   "outputs": [
    {
     "data": {
      "text/plain": [
       "\u001b[36meqAa\u001b[0m: \u001b[32mIdentityTyp\u001b[0m[\u001b[32mTerm\u001b[0m with \u001b[32mSubs\u001b[0m[\u001b[32mTerm\u001b[0m]] = \u001b[33mIdentityTyp\u001b[0m(A : 𝒰 , a : (A : 𝒰 ), a : (A : 𝒰 ))\n",
       "\u001b[36mref\u001b[0m: \u001b[32mRefl\u001b[0m[\u001b[32mTerm\u001b[0m with \u001b[32mSubs\u001b[0m[\u001b[32mTerm\u001b[0m]] = \u001b[33mRefl\u001b[0m(A : 𝒰 , a : (A : 𝒰 ))"
      ]
     },
     "metadata": {},
     "output_type": "display_data"
    }
   ],
   "source": [
    "val eqAa = IdentityTyp(A, a, a)\n",
    "val ref = Refl(A, a)"
   ]
  },
  {
   "cell_type": "code",
   "execution_count": 22,
   "metadata": {
    "collapsed": false
   },
   "outputs": [
    {
     "data": {
      "text/plain": [
       "\u001b[36mres21\u001b[0m: \u001b[32mBoolean\u001b[0m = true"
      ]
     },
     "metadata": {},
     "output_type": "display_data"
    }
   ],
   "source": [
    "ref.typ == eqAa"
   ]
  },
  {
   "cell_type": "markdown",
   "metadata": {},
   "source": [
    "## The Unit and the  Nought\n",
    "\n",
    "Finally, we have the types corresponding to _True_ and _False_"
   ]
  },
  {
   "cell_type": "code",
   "execution_count": 23,
   "metadata": {
    "collapsed": false
   },
   "outputs": [
    {
     "data": {
      "text/plain": [
       "\u001b[36mres22_0\u001b[0m: \u001b[32mUnit\u001b[0m.type = Unit\n",
       "\u001b[36mres22_1\u001b[0m: \u001b[32mZero\u001b[0m.type = Zero\n",
       "\u001b[36mres22_2\u001b[0m: \u001b[32mTerm\u001b[0m = Star"
      ]
     },
     "metadata": {},
     "output_type": "display_data"
    }
   ],
   "source": [
    "Unit\n",
    "Zero\n",
    "Star !: Unit"
   ]
  },
  {
   "cell_type": "code",
   "execution_count": null,
   "metadata": {
    "collapsed": true
   },
   "outputs": [],
   "source": []
  }
 ],
 "metadata": {
  "kernelspec": {
   "display_name": "Scala 2.11",
   "language": "scala211",
   "name": "scala211"
  },
  "language_info": {
   "codemirror_mode": "text/x-scala",
   "file_extension": ".scala",
   "mimetype": "text/x-scala",
   "name": "scala211",
   "pygments_lexer": "scala",
   "version": "2.11.6"
  }
 },
 "nbformat": 4,
 "nbformat_minor": 0
}
