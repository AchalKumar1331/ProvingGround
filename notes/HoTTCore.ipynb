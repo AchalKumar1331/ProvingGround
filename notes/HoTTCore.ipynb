{
 "cells": [
  {
   "cell_type": "markdown",
   "metadata": {},
   "source": [
    "# Core implementation of Homotopy type theory"
   ]
  },
  {
   "cell_type": "code",
   "execution_count": 1,
   "metadata": {
    "collapsed": false
   },
   "outputs": [
    {
     "data": {
      "text/plain": []
     },
     "metadata": {},
     "output_type": "display_data"
    }
   ],
   "source": [
    "load.jar(\"/home/gadgil/code/ProvingGround/core/.jvm/target/scala-2.11/ProvingGround-Core-assembly-0.8.jar\")"
   ]
  },
  {
   "cell_type": "markdown",
   "metadata": {},
   "source": [
    "The type A belongs to the first universe"
   ]
  },
  {
   "cell_type": "code",
   "execution_count": 3,
   "metadata": {
    "collapsed": false
   },
   "outputs": [
    {
     "data": {
      "text/plain": [
       "\u001b[32mimport \u001b[36mprovingground._\u001b[0m\n",
       "\u001b[32mimport \u001b[36mHoTT._\u001b[0m\n",
       "\u001b[36mA\u001b[0m: \u001b[32mprovingground\u001b[0m.\u001b[32mHoTT\u001b[0m.\u001b[32mTyp\u001b[0m[\u001b[32mprovingground\u001b[0m.\u001b[32mHoTT\u001b[0m.\u001b[32mTerm\u001b[0m] with \u001b[32mprovingground\u001b[0m.\u001b[32mHoTT\u001b[0m.\u001b[32mSubs\u001b[0m[\u001b[32mprovingground\u001b[0m.\u001b[32mHoTT\u001b[0m.\u001b[32mTyp\u001b[0m[\u001b[32mprovingground\u001b[0m.\u001b[32mHoTT\u001b[0m.\u001b[32mTerm\u001b[0m]] = A : 𝒰 "
      ]
     },
     "metadata": {},
     "output_type": "display_data"
    }
   ],
   "source": [
    "import provingground._\n",
    "import HoTT._\n",
    "val A =\"A\" :: __"
   ]
  },
  {
   "cell_type": "code",
   "execution_count": 4,
   "metadata": {
    "collapsed": false
   },
   "outputs": [
    {
     "data": {
      "text/plain": [
       "\u001b[36ma\u001b[0m: \u001b[32mTerm\u001b[0m with \u001b[32mSubs\u001b[0m[\u001b[32mTerm\u001b[0m] = a : (A : 𝒰 )"
      ]
     },
     "metadata": {},
     "output_type": "display_data"
    }
   ],
   "source": [
    "val a =\"a\" :: A"
   ]
  },
  {
   "cell_type": "markdown",
   "metadata": {},
   "source": [
    "The identity function, as a function of the type A.\n",
    "Two lambdas are used, with the method _lmbda_ telling the __compiler__ that the result is a (non-dependent) function. "
   ]
  },
  {
   "cell_type": "code",
   "execution_count": 6,
   "metadata": {
    "collapsed": false
   },
   "outputs": [
    {
     "data": {
      "text/plain": [
       "\u001b[36mid\u001b[0m: \u001b[32mFuncLike\u001b[0m[\u001b[32mTyp\u001b[0m[\u001b[32mTerm\u001b[0m] with \u001b[32mSubs\u001b[0m[\u001b[32mTyp\u001b[0m[\u001b[32mTerm\u001b[0m]], \u001b[32mFunc\u001b[0m[\u001b[32mTerm\u001b[0m with \u001b[32mSubs\u001b[0m[\u001b[32mTerm\u001b[0m], \u001b[32mTerm\u001b[0m with \u001b[32mSubs\u001b[0m[\u001b[32mTerm\u001b[0m]]] = (A : 𝒰 ) ↦ ((a : (A : 𝒰 )) ↦ (a : (A : 𝒰 )))"
      ]
     },
     "metadata": {},
     "output_type": "display_data"
    }
   ],
   "source": [
    "val id = lambda(A)(lmbda(a)(a))"
   ]
  },
  {
   "cell_type": "markdown",
   "metadata": {},
   "source": [
    "The lambdas have the same effect at runtime. It is checked if the type of the value depends on the variable.\n",
    "The result is either _LambdaFixed_ or _Lambda_ accordingly."
   ]
  },
  {
   "cell_type": "code",
   "execution_count": 7,
   "metadata": {
    "collapsed": false
   },
   "outputs": [
    {
     "data": {
      "text/plain": [
       "\u001b[36mindep\u001b[0m: \u001b[32mFunc\u001b[0m[\u001b[32mTerm\u001b[0m with \u001b[32mSubs\u001b[0m[\u001b[32mTerm\u001b[0m], \u001b[32mTerm\u001b[0m with \u001b[32mSubs\u001b[0m[\u001b[32mTerm\u001b[0m]] = (a : (A : 𝒰 )) ↦ (a : (A : 𝒰 ))\n",
       "\u001b[36mdep\u001b[0m: \u001b[32mFuncLike\u001b[0m[\u001b[32mTerm\u001b[0m with \u001b[32mSubs\u001b[0m[\u001b[32mTerm\u001b[0m], \u001b[32mTerm\u001b[0m with \u001b[32mSubs\u001b[0m[\u001b[32mTerm\u001b[0m]] = (a : (A : 𝒰 )) ↦ (a : (A : 𝒰 ))\n",
       "\u001b[36mres4_2\u001b[0m: \u001b[32mBoolean\u001b[0m = true"
      ]
     },
     "metadata": {},
     "output_type": "display_data"
    }
   ],
   "source": [
    "val indep = lmbda(a)(a)\n",
    "val dep = lambda(a)(a)\n",
    "indep == dep"
   ]
  },
  {
   "cell_type": "markdown",
   "metadata": {},
   "source": [
    "A new variable object, which has the same toString, is created in making lambdas. This is to avoid name clashes."
   ]
  },
  {
   "cell_type": "code",
   "execution_count": 9,
   "metadata": {
    "collapsed": false
   },
   "outputs": [
    {
     "data": {
      "text/plain": [
       "\u001b[36ml\u001b[0m: \u001b[32mLambdaFixed\u001b[0m[\u001b[32mTerm\u001b[0m, \u001b[32mTerm\u001b[0m] = \u001b[33mLambdaFixed\u001b[0m(a : (A : 𝒰 ), a : (A : 𝒰 ))\n",
       "\u001b[36mres5_1\u001b[0m: \u001b[32mTerm\u001b[0m = a : (A : 𝒰 )\n",
       "\u001b[36mres5_2\u001b[0m: \u001b[32mBoolean\u001b[0m = false"
      ]
     },
     "metadata": {},
     "output_type": "display_data"
    }
   ],
   "source": [
    "val l = dep.asInstanceOf[LambdaFixed[Term, Term]]\n",
    "l.variable\n",
    "l.variable == a"
   ]
  },
  {
   "cell_type": "markdown",
   "metadata": {},
   "source": [
    "We can construct Modus Ponens. Note that _A ->: B_ is the function type"
   ]
  },
  {
   "cell_type": "code",
   "execution_count": 10,
   "metadata": {
    "collapsed": false
   },
   "outputs": [
    {
     "data": {
      "text/plain": [
       "\u001b[36mB\u001b[0m: \u001b[32mTyp\u001b[0m[\u001b[32mTerm\u001b[0m] with \u001b[32mSubs\u001b[0m[\u001b[32mTyp\u001b[0m[\u001b[32mTerm\u001b[0m]] = B : 𝒰 \n",
       "\u001b[36mf\u001b[0m: \u001b[32mFunc\u001b[0m[\u001b[32mTerm\u001b[0m, \u001b[32mTerm\u001b[0m] with \u001b[32mSubs\u001b[0m[\u001b[32mFunc\u001b[0m[\u001b[32mTerm\u001b[0m, \u001b[32mTerm\u001b[0m]] = f : ((A : 𝒰 ) → (B : 𝒰 ))\n",
       "\u001b[36mmp\u001b[0m: \u001b[32mFuncLike\u001b[0m[\u001b[32mTyp\u001b[0m[\u001b[32mTerm\u001b[0m] with \u001b[32mSubs\u001b[0m[\u001b[32mTyp\u001b[0m[\u001b[32mTerm\u001b[0m]], \u001b[32mFuncLike\u001b[0m[\u001b[32mTyp\u001b[0m[\u001b[32mTerm\u001b[0m] with \u001b[32mSubs\u001b[0m[\u001b[32mTyp\u001b[0m[\u001b[32mTerm\u001b[0m]], \u001b[32mFunc\u001b[0m[\u001b[32mTerm\u001b[0m with \u001b[32mSubs\u001b[0m[\u001b[32mTerm\u001b[0m], \u001b[32mFunc\u001b[0m[\u001b[32mFunc\u001b[0m[\u001b[32mTerm\u001b[0m, \u001b[32mTerm\u001b[0m] with \u001b[32mSubs\u001b[0m[\u001b[32mFunc\u001b[0m[\u001b[32mTerm\u001b[0m, \u001b[32mTerm\u001b[0m]], \u001b[32mTerm\u001b[0m]]]] = (A : 𝒰 ) ↦ ((B : 𝒰 ) ↦ ((a : (A : 𝒰 )) ↦ ((f : ((A : 𝒰 ) → (B : 𝒰 ))) ↦ ((f : ((A : 𝒰 ) → (B : 𝒰 ))) (a : (A : 𝒰 )) : (B : 𝒰 )))))"
      ]
     },
     "metadata": {},
     "output_type": "display_data"
    }
   ],
   "source": [
    "val B = \"B\" :: __\n",
    "val f = \"f\" :: (A ->: B)\n",
    "val mp = lambda(A)(lambda(B)(lmbda(a)(lmbda(f)(f(a)))))"
   ]
  },
  {
   "cell_type": "code",
   "execution_count": null,
   "metadata": {
    "collapsed": true
   },
   "outputs": [],
   "source": []
  }
 ],
 "metadata": {
  "kernelspec": {
   "display_name": "Scala 2.11",
   "language": "scala211",
   "name": "scala211"
  },
  "language_info": {
   "codemirror_mode": "text/x-scala",
   "file_extension": ".scala",
   "mimetype": "text/x-scala",
   "name": "scala211",
   "pygments_lexer": "scala",
   "version": "2.11.6"
  }
 },
 "nbformat": 4,
 "nbformat_minor": 0
}
