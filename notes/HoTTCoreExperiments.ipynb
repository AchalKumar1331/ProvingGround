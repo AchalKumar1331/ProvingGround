{
 "cells": [
  {
   "cell_type": "code",
   "execution_count": 3,
   "metadata": {
    "collapsed": false
   },
   "outputs": [
    {
     "data": {
      "text/plain": []
     },
     "metadata": {},
     "output_type": "display_data"
    }
   ],
   "source": [
    "load.jar(\"/home/gadgil/code/ProvingGround/core/.jvm/target/scala-2.11/ProvingGround-Core-assembly-0.8.jar\")"
   ]
  },
  {
   "cell_type": "code",
   "execution_count": 4,
   "metadata": {
    "collapsed": false
   },
   "outputs": [
    {
     "data": {
      "text/plain": [
       "\u001b[32mimport \u001b[36mprovingground._\u001b[0m"
      ]
     },
     "metadata": {},
     "output_type": "display_data"
    }
   ],
   "source": [
    "import provingground._"
   ]
  },
  {
   "cell_type": "code",
   "execution_count": 5,
   "metadata": {
    "collapsed": false
   },
   "outputs": [
    {
     "data": {
      "text/plain": [
       "\u001b[32mimport \u001b[36mspire.math._\u001b[0m"
      ]
     },
     "metadata": {},
     "output_type": "display_data"
    }
   ],
   "source": [
    "import spire.math._"
   ]
  },
  {
   "cell_type": "code",
   "execution_count": 6,
   "metadata": {
    "collapsed": false
   },
   "outputs": [
    {
     "data": {
      "text/plain": [
       "\u001b[36mres4\u001b[0m: \u001b[32mSafeLong\u001b[0m = 1"
      ]
     },
     "metadata": {},
     "output_type": "display_data"
    }
   ],
   "source": [
    "1 : SafeLong"
   ]
  },
  {
   "cell_type": "code",
   "execution_count": 7,
   "metadata": {
    "collapsed": false
   },
   "outputs": [
    {
     "data": {
      "text/plain": [
       "\u001b[32mimport \u001b[36mNatRing._\u001b[0m"
      ]
     },
     "metadata": {},
     "output_type": "display_data"
    }
   ],
   "source": [
    "import NatRing._"
   ]
  },
  {
   "cell_type": "code",
   "execution_count": 8,
   "metadata": {
    "collapsed": false
   },
   "outputs": [
    {
     "data": {
      "text/plain": [
       "\u001b[36mres6\u001b[0m: \u001b[32mNat\u001b[0m = ScalaSymbol(1) : (Nat.Typ)"
      ]
     },
     "metadata": {},
     "output_type": "display_data"
    }
   ],
   "source": [
    "1 : Nat"
   ]
  },
  {
   "cell_type": "code",
   "execution_count": 10,
   "metadata": {
    "collapsed": false
   },
   "outputs": [
    {
     "data": {
      "text/plain": [
       "\u001b[32mimport \u001b[36mHoTT._\u001b[0m\n",
       "\u001b[36mA\u001b[0m: \u001b[32mHoTT\u001b[0m.\u001b[32mTyp\u001b[0m[\u001b[32mHoTT\u001b[0m.\u001b[32mTerm\u001b[0m] with \u001b[32mHoTT\u001b[0m.\u001b[32mSubs\u001b[0m[\u001b[32mHoTT\u001b[0m.\u001b[32mTyp\u001b[0m[\u001b[32mHoTT\u001b[0m.\u001b[32mTerm\u001b[0m]] = A : 𝒰 \n",
       "\u001b[36mB\u001b[0m: \u001b[32mHoTT\u001b[0m.\u001b[32mTyp\u001b[0m[\u001b[32mHoTT\u001b[0m.\u001b[32mTerm\u001b[0m] with \u001b[32mHoTT\u001b[0m.\u001b[32mSubs\u001b[0m[\u001b[32mHoTT\u001b[0m.\u001b[32mTyp\u001b[0m[\u001b[32mHoTT\u001b[0m.\u001b[32mTerm\u001b[0m]] = B : 𝒰 "
      ]
     },
     "metadata": {},
     "output_type": "display_data"
    }
   ],
   "source": [
    "import HoTT._\n",
    "val A = \"A\" :: __\n",
    "val B = \"B\" :: __"
   ]
  },
  {
   "cell_type": "code",
   "execution_count": 13,
   "metadata": {
    "collapsed": false
   },
   "outputs": [
    {
     "data": {
      "text/plain": [
       "\u001b[36ma\u001b[0m: \u001b[32mTerm\u001b[0m with \u001b[32mSubs\u001b[0m[\u001b[32mTerm\u001b[0m] = a : (A : 𝒰 )\n",
       "\u001b[36mf\u001b[0m: \u001b[32mFunc\u001b[0m[\u001b[32mTerm\u001b[0m, \u001b[32mTerm\u001b[0m] with \u001b[32mSubs\u001b[0m[\u001b[32mFunc\u001b[0m[\u001b[32mTerm\u001b[0m, \u001b[32mTerm\u001b[0m]] = f : ((A : 𝒰 ) → (B : 𝒰 ))\n",
       "\u001b[36mmp\u001b[0m: \u001b[32mFuncLike\u001b[0m[\u001b[32mTyp\u001b[0m[\u001b[32mTerm\u001b[0m] with \u001b[32mSubs\u001b[0m[\u001b[32mTyp\u001b[0m[\u001b[32mTerm\u001b[0m]], \u001b[32mFuncLike\u001b[0m[\u001b[32mTyp\u001b[0m[\u001b[32mTerm\u001b[0m] with \u001b[32mSubs\u001b[0m[\u001b[32mTyp\u001b[0m[\u001b[32mTerm\u001b[0m]], \u001b[32mFunc\u001b[0m[\u001b[32mTerm\u001b[0m with \u001b[32mSubs\u001b[0m[\u001b[32mTerm\u001b[0m], \u001b[32mFunc\u001b[0m[\u001b[32mFunc\u001b[0m[\u001b[32mTerm\u001b[0m, \u001b[32mTerm\u001b[0m] with \u001b[32mSubs\u001b[0m[\u001b[32mFunc\u001b[0m[\u001b[32mTerm\u001b[0m, \u001b[32mTerm\u001b[0m]], \u001b[32mTerm\u001b[0m]]]] = (A : 𝒰 ) ↦ ((B : 𝒰 ) ↦ ((a : (A : 𝒰 )) ↦ ((f : ((A : 𝒰 ) → (B : 𝒰 ))) ↦ ((f : ((A : 𝒰 ) → (B : 𝒰 ))) (a : (A : 𝒰 )) : (B : 𝒰 )))))"
      ]
     },
     "metadata": {},
     "output_type": "display_data"
    }
   ],
   "source": [
    "val a =\"a\" :: A\n",
    "val f =\"f\" :: A ->: B\n",
    "val mp = lambda(A)(lambda(B)(lmbda(a)(lmbda(f)(f(a)))))"
   ]
  },
  {
   "cell_type": "code",
   "execution_count": 14,
   "metadata": {
    "collapsed": false
   },
   "outputs": [
    {
     "data": {
      "text/plain": [
       "\u001b[36mres11\u001b[0m: \u001b[32mFunc\u001b[0m[\u001b[32mTerm\u001b[0m with \u001b[32mSubs\u001b[0m[\u001b[32mTerm\u001b[0m], \u001b[32mFunc\u001b[0m[\u001b[32mFunc\u001b[0m[\u001b[32mTerm\u001b[0m, \u001b[32mTerm\u001b[0m] with \u001b[32mSubs\u001b[0m[\u001b[32mFunc\u001b[0m[\u001b[32mTerm\u001b[0m, \u001b[32mTerm\u001b[0m]], \u001b[32mTerm\u001b[0m]] = (a : (B : 𝒰 )) ↦ ((f : ((B : 𝒰 ) → (A : 𝒰 ))) ↦ ((f : ((B : 𝒰 ) → (A : 𝒰 ))) (a : (B : 𝒰 )) : (A : 𝒰 )))"
      ]
     },
     "metadata": {},
     "output_type": "display_data"
    }
   ],
   "source": [
    "mp(B)(A)"
   ]
  },
  {
   "cell_type": "code",
   "execution_count": 15,
   "metadata": {
    "collapsed": false
   },
   "outputs": [
    {
     "data": {
      "text/plain": [
       "\u001b[36mres12\u001b[0m: \u001b[32mTyp\u001b[0m[\u001b[32mTerm\u001b[0m] = (B : 𝒰 ) → (((B : 𝒰 ) → (A : 𝒰 )) → (A : 𝒰 ))"
      ]
     },
     "metadata": {},
     "output_type": "display_data"
    }
   ],
   "source": [
    "res11.typ"
   ]
  },
  {
   "cell_type": "code",
   "execution_count": null,
   "metadata": {
    "collapsed": true
   },
   "outputs": [],
   "source": []
  }
 ],
 "metadata": {
  "kernelspec": {
   "display_name": "Scala 2.11",
   "language": "scala211",
   "name": "scala211"
  },
  "language_info": {
   "codemirror_mode": "text/x-scala",
   "file_extension": ".scala",
   "mimetype": "text/x-scala",
   "name": "scala211",
   "pygments_lexer": "scala",
   "version": "2.11.6"
  }
 },
 "nbformat": 4,
 "nbformat_minor": 0
}
