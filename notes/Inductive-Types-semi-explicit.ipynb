{
 "cells": [
  {
   "cell_type": "markdown",
   "metadata": {},
   "source": [
    "# Inductive types: explicit constructors and patterns\n",
    "\n",
    "Inductive types and the associated recursion and induction functions are the subtlest part of HoTT. There are three levels at which we can implement these:\n",
    "\n",
    "* Explicitly define the constructors and recursion/induction functions, such as `Nat`. This allows efficiency and simplification for recursion and induction functions, and should be done exactly when these are needed.\n",
    "* Explicitly define constructors and their associated constructor patterns.\n",
    "* Just specify constructor patterns, with constructors defined in terms of these.\n",
    "\n",
    "This note concerns the middle case, with the subtleties of defining induction and recursion."
   ]
  },
  {
   "cell_type": "code",
   "execution_count": 1,
   "metadata": {
    "collapsed": false
   },
   "outputs": [
    {
     "data": {
      "text/plain": []
     },
     "metadata": {},
     "output_type": "display_data"
    }
   ],
   "source": [
    "load.jar(\"/home/gadgil/code/ProvingGround/core/.jvm/target/scala-2.11/provingground-core_2.11-0.8.jar\")"
   ]
  },
  {
   "cell_type": "markdown",
   "metadata": {},
   "source": [
    "As the implementation is self-contained and in the core, we just load the jar of the core."
   ]
  },
  {
   "cell_type": "code",
   "execution_count": 2,
   "metadata": {
    "collapsed": false
   },
   "outputs": [
    {
     "data": {
      "text/plain": [
       "\u001b[32mimport \u001b[36mprovingground._\u001b[0m"
      ]
     },
     "metadata": {},
     "output_type": "display_data"
    }
   ],
   "source": [
    "import provingground._"
   ]
  },
  {
   "cell_type": "code",
   "execution_count": 3,
   "metadata": {
    "collapsed": false
   },
   "outputs": [
    {
     "data": {
      "text/plain": [
       "\u001b[32mimport \u001b[36mBaseConstructorTypes._\u001b[0m"
      ]
     },
     "metadata": {},
     "output_type": "display_data"
    }
   ],
   "source": [
    "//import RecursiveDefinition._\n",
    "import BaseConstructorTypes._"
   ]
  },
  {
   "cell_type": "markdown",
   "metadata": {},
   "source": [
    "Booleans and natural numbers are defined in BaseConstructorTypes, for illustration and testing. These are called `SmallBool` and `SmallNat` to avoid clashes with the `ScalaRep` based implementations.\n",
    "\n",
    "At present a `Constructor` is a constructor function with an associated pattern, with the `cons` attribute the function itself. Should eventually rename these.\n"
   ]
  },
  {
   "cell_type": "markdown",
   "metadata": {},
   "source": [
    "## Boolean type\n",
    "\n",
    "The Boolean type only uses the constant/identity constructor pattern. \n",
    "This is used to give two Constructors and their associated functions.\n",
    "\n",
    "```scala\n",
    "  val ttC  = W.constructor(SmallBool, \"true\")\n",
    "\n",
    "  val ffC = W.constructor(SmallBool, \"false\")\n",
    "\n",
    "  val tt : Term = ttC.cons\n",
    "\n",
    "  val ff : Term = ffC.cons\n",
    "\n",
    "  val BoolCons = List(ttC, ffC)\n",
    "```"
   ]
  },
  {
   "cell_type": "markdown",
   "metadata": {},
   "source": [
    "The constructors have type booleans"
   ]
  },
  {
   "cell_type": "code",
   "execution_count": 4,
   "metadata": {
    "collapsed": false
   },
   "outputs": [
    {
     "data": {
      "text/plain": [
       "\u001b[36mres3\u001b[0m: \u001b[32mHoTT\u001b[0m.\u001b[32mTyp\u001b[0m[\u001b[32mHoTT\u001b[0m.\u001b[32mTerm\u001b[0m] = SmallBool"
      ]
     },
     "metadata": {},
     "output_type": "display_data"
    }
   ],
   "source": [
    "tt.typ"
   ]
  },
  {
   "cell_type": "code",
   "execution_count": 5,
   "metadata": {
    "collapsed": false
   },
   "outputs": [
    {
     "data": {
      "text/plain": [
       "\u001b[36mres4\u001b[0m: \u001b[32mHoTT\u001b[0m.\u001b[32mTyp\u001b[0m[\u001b[32mHoTT\u001b[0m.\u001b[32mTerm\u001b[0m] = SmallBool"
      ]
     },
     "metadata": {},
     "output_type": "display_data"
    }
   ],
   "source": [
    "ff.typ"
   ]
  },
  {
   "cell_type": "markdown",
   "metadata": {},
   "source": [
    "### Recursion data\n",
    "\n",
    "A recursive definition is specified by data associated to each constructor. This data is of type given by the `recDataTyp` method of the constructor pattern, depending on the target type.\n",
    "\n",
    "In the case of Booleans, this is the target type."
   ]
  },
  {
   "cell_type": "code",
   "execution_count": 6,
   "metadata": {
    "collapsed": false
   },
   "outputs": [
    {
     "data": {
      "text/plain": [
       "\u001b[36mres5\u001b[0m: \u001b[32mHoTT\u001b[0m.\u001b[32mTyp\u001b[0m[\u001b[32mHoTT\u001b[0m.\u001b[32mTerm\u001b[0m] = SmallBool"
      ]
     },
     "metadata": {},
     "output_type": "display_data"
    }
   ],
   "source": [
    "W.recDataTyp(SmallBool, SmallBool)"
   ]
  },
  {
   "cell_type": "code",
   "execution_count": 7,
   "metadata": {
    "collapsed": false
   },
   "outputs": [
    {
     "data": {
      "text/plain": [
       "\u001b[36mres6\u001b[0m: \u001b[32mHoTT\u001b[0m.\u001b[32mTyp\u001b[0m[\u001b[32mHoTT\u001b[0m.\u001b[32mTerm\u001b[0m] = SmallNat"
      ]
     },
     "metadata": {},
     "output_type": "display_data"
    }
   ],
   "source": [
    "W.recDataTyp(SmallBool, SmallNat)"
   ]
  },
  {
   "cell_type": "code",
   "execution_count": 8,
   "metadata": {
    "collapsed": false
   },
   "outputs": [
    {
     "data": {
      "text/plain": [
       "\u001b[36mres7\u001b[0m: \u001b[32mHoTT\u001b[0m.\u001b[32mTyp\u001b[0m[\u001b[32mHoTT\u001b[0m.\u001b[32mTerm\u001b[0m] = 𝒰 _0"
      ]
     },
     "metadata": {},
     "output_type": "display_data"
    }
   ],
   "source": [
    "W.recDataTyp(SmallBool, HoTT.Type)"
   ]
  },
  {
   "cell_type": "code",
   "execution_count": 18,
   "metadata": {
    "collapsed": false
   },
   "outputs": [
    {
     "data": {
      "text/plain": [
       "\u001b[36mres16\u001b[0m: \u001b[32mBoolean\u001b[0m = true"
      ]
     },
     "metadata": {},
     "output_type": "display_data"
    }
   ],
   "source": [
    "res7 == HoTT.Type"
   ]
  },
  {
   "cell_type": "markdown",
   "metadata": {},
   "source": [
    "The action of a recursion functions is defined recursively, in terms of cases. This is implemented as a diagonal construction, with a method, in the trait `RecFunction` definining the recursion function in terms of a function of its own type, and applying this to itself. "
   ]
  },
  {
   "cell_type": "code",
   "execution_count": 10,
   "metadata": {
    "collapsed": false
   },
   "outputs": [
    {
     "data": {
      "text/plain": [
       "\u001b[32mimport \u001b[36mHoTT._\u001b[0m"
      ]
     },
     "metadata": {},
     "output_type": "display_data"
    }
   ],
   "source": [
    "import HoTT._"
   ]
  },
  {
   "cell_type": "markdown",
   "metadata": {},
   "source": [
    "## Induction levels\n",
    "The definitions are based on a double induction, over the structure of the constructor and the number of constructors. The former takes place essentially in constructor patterns, while the latter is implemented in ConstructorSeq."
   ]
  },
  {
   "cell_type": "code",
   "execution_count": 11,
   "metadata": {
    "collapsed": false
   },
   "outputs": [
    {
     "data": {
      "text/plain": [
       "\u001b[32mimport \u001b[36mConstructorSeq.recFn\u001b[0m"
      ]
     },
     "metadata": {},
     "output_type": "display_data"
    }
   ],
   "source": [
    "import ConstructorSeq.recFn"
   ]
  },
  {
   "cell_type": "code",
   "execution_count": 12,
   "metadata": {
    "collapsed": false
   },
   "outputs": [
    {
     "data": {
      "text/plain": [
       "\u001b[36mres10\u001b[0m: \u001b[32m\u001b[32mConstructorSeq\u001b[0m[\u001b[32mTerm\u001b[0m, \u001b[32mTerm\u001b[0m]\u001b[0m#\u001b[32mRecType\u001b[0m = (RecSym(ConstructorDefn(IdW(),true : (SmallBool),SmallBool)) : (SmallBool)) ↦ ((RecSym(ConstructorDefn(IdW(),false : (SmallBool),SmallBool)) : (SmallBool)) ↦ (<function1>))"
      ]
     },
     "metadata": {},
     "output_type": "display_data"
    }
   ],
   "source": [
    "recFn(BoolCons, SmallBool, SmallBool)"
   ]
  },
  {
   "cell_type": "code",
   "execution_count": 13,
   "metadata": {
    "collapsed": false
   },
   "outputs": [
    {
     "data": {
      "text/plain": [
       "\u001b[36mrecBoolBool\u001b[0m: \u001b[32mFunc\u001b[0m[\u001b[32mTerm\u001b[0m, \u001b[32mFunc\u001b[0m[\u001b[32mTerm\u001b[0m, \u001b[32mFunc\u001b[0m[\u001b[32mTerm\u001b[0m, \u001b[32mTerm\u001b[0m]]] = (RecSym(ConstructorDefn(IdW(),true : (SmallBool),SmallBool)) : (SmallBool)) ↦ ((RecSym(ConstructorDefn(IdW(),false : (SmallBool),SmallBool)) : (SmallBool)) ↦ (<function1>))"
      ]
     },
     "metadata": {},
     "output_type": "display_data"
    }
   ],
   "source": [
    "val recBoolBool =\n",
    "    recFn(BoolCons, SmallBool, SmallBool).asInstanceOf[Func[Term, Func[Term, Func[Term, Term]]]]"
   ]
  },
  {
   "cell_type": "code",
   "execution_count": 14,
   "metadata": {
    "collapsed": false
   },
   "outputs": [
    {
     "data": {
      "text/plain": [
       "\u001b[36mneg\u001b[0m: \u001b[32mFunc\u001b[0m[\u001b[32mTerm\u001b[0m, \u001b[32mTerm\u001b[0m] = <function1>"
      ]
     },
     "metadata": {},
     "output_type": "display_data"
    }
   ],
   "source": [
    "val neg = recBoolBool(ff)(tt)"
   ]
  },
  {
   "cell_type": "code",
   "execution_count": 15,
   "metadata": {
    "collapsed": false
   },
   "outputs": [
    {
     "data": {
      "text/plain": [
       "\u001b[36mres13\u001b[0m: \u001b[32mTerm\u001b[0m = false : (SmallBool)"
      ]
     },
     "metadata": {},
     "output_type": "display_data"
    }
   ],
   "source": [
    "neg(tt)"
   ]
  },
  {
   "cell_type": "code",
   "execution_count": 16,
   "metadata": {
    "collapsed": false
   },
   "outputs": [
    {
     "data": {
      "text/plain": [
       "\u001b[36mres14\u001b[0m: \u001b[32mTerm\u001b[0m = false : (SmallBool)"
      ]
     },
     "metadata": {},
     "output_type": "display_data"
    }
   ],
   "source": [
    "ff"
   ]
  },
  {
   "cell_type": "code",
   "execution_count": 17,
   "metadata": {
    "collapsed": false
   },
   "outputs": [
    {
     "data": {
      "text/plain": [
       "\u001b[36mres15\u001b[0m: \u001b[32mTerm\u001b[0m = (<function1>) (x : (SmallBool)) : (SmallBool)"
      ]
     },
     "metadata": {},
     "output_type": "display_data"
    }
   ],
   "source": [
    "neg(\"x\" :: SmallBool)"
   ]
  },
  {
   "cell_type": "code",
   "execution_count": 20,
   "metadata": {
    "collapsed": false
   },
   "outputs": [
    {
     "data": {
      "text/plain": [
       "\u001b[36mx\u001b[0m: \u001b[32mTerm\u001b[0m with \u001b[32mSubs\u001b[0m[\u001b[32mTerm\u001b[0m] = x : (SmallBool)\n",
       "\u001b[36mres18_1\u001b[0m: \u001b[32mTerm\u001b[0m = (<function1>) ((<function1>) (x : (SmallBool)) : (SmallBool)) : (SmallBool)\n",
       "\u001b[36mres18_2\u001b[0m: \u001b[32mBoolean\u001b[0m = false"
      ]
     },
     "metadata": {},
     "output_type": "display_data"
    }
   ],
   "source": [
    "val x = \"x\" :: SmallBool\n",
    "neg(neg(x))\n",
    "neg(neg(x)) == x // not equal by definition, needs a theorem proved by induction"
   ]
  },
  {
   "cell_type": "code",
   "execution_count": null,
   "metadata": {
    "collapsed": true
   },
   "outputs": [],
   "source": []
  }
 ],
 "metadata": {
  "kernelspec": {
   "display_name": "Scala 2.11",
   "language": "scala211",
   "name": "scala211"
  },
  "language_info": {
   "codemirror_mode": "text/x-scala",
   "file_extension": ".scala",
   "mimetype": "text/x-scala",
   "name": "scala211",
   "pygments_lexer": "scala",
   "version": "2.11.6"
  }
 },
 "nbformat": 4,
 "nbformat_minor": 0
}
