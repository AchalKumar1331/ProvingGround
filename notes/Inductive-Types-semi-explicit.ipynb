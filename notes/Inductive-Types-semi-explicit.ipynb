{
 "cells": [
  {
   "cell_type": "markdown",
   "metadata": {},
   "source": [
    "# Inductive types: explicit constructors and patterns\n",
    "\n",
    "Inductive types and the associated recursion and induction functions are the subtlest part of HoTT. There are three levels at which we can implement these:\n",
    "\n",
    "* Explicitly define the constructors and recursion/induction functions, such as `Nat`. This allows efficiency and simplification for recursion and induction functions, and should be done exactly when these are needed.\n",
    "* Explicitly define constructors and their associated constructor patterns.\n",
    "* Just specify constructor patterns, with constructors defined in terms of these.\n",
    "\n",
    "This note concerns the middle case, with the subtleties of defining induction and recursion."
   ]
  },
  {
   "cell_type": "code",
   "execution_count": 1,
   "metadata": {
    "collapsed": false
   },
   "outputs": [
    {
     "data": {
      "text/plain": [
       "\u001b[32mimport \u001b[39m\u001b[36m$ivy.$                                       \u001b[39m"
      ]
     },
     "execution_count": 1,
     "metadata": {},
     "output_type": "execute_result"
    }
   ],
   "source": [
    "import $ivy.`io.github.siddhartha-gadgil::provingground-core-jvm:0.1.0`"
   ]
  },
  {
   "cell_type": "markdown",
   "metadata": {},
   "source": [
    "As the implementation is self-contained and in the core, we just load the jar of the core."
   ]
  },
  {
   "cell_type": "code",
   "execution_count": 2,
   "metadata": {
    "collapsed": false
   },
   "outputs": [
    {
     "data": {
      "text/plain": [
       "\u001b[32mimport \u001b[39m\u001b[36mprovingground._, induction._, coarse._\u001b[39m"
      ]
     },
     "execution_count": 2,
     "metadata": {},
     "output_type": "execute_result"
    }
   ],
   "source": [
    "import provingground._, induction._, coarse._"
   ]
  },
  {
   "cell_type": "code",
   "execution_count": 3,
   "metadata": {
    "collapsed": false
   },
   "outputs": [
    {
     "data": {
      "text/plain": [
       "\u001b[32mimport \u001b[39m\u001b[36mBaseConstructorTypes._\u001b[39m"
      ]
     },
     "execution_count": 3,
     "metadata": {},
     "output_type": "execute_result"
    }
   ],
   "source": [
    "//import RecursiveDefinition._\n",
    "import BaseConstructorTypes._"
   ]
  },
  {
   "cell_type": "markdown",
   "metadata": {},
   "source": [
    "Booleans and natural numbers are defined in BaseConstructorTypes, for illustration and testing. These are called `SmallBool` and `SmallNat` to avoid clashes with the `ScalaRep` based implementations.\n",
    "\n",
    "At present a `Constructor` is a constructor function with an associated pattern, with the `cons` attribute the function itself. Should eventually rename these.\n"
   ]
  },
  {
   "cell_type": "markdown",
   "metadata": {},
   "source": [
    "## Boolean type\n",
    "\n",
    "The Boolean type only uses the constant/identity constructor pattern. \n",
    "This is used to give two Constructors and their associated functions.\n",
    "\n",
    "```scala\n",
    "  val ttC  = W.constructor(SmallBool, \"true\")\n",
    "\n",
    "  val ffC = W.constructor(SmallBool, \"false\")\n",
    "\n",
    "  val tt : Term = ttC.cons\n",
    "\n",
    "  val ff : Term = ffC.cons\n",
    "\n",
    "  val BoolCons = List(ttC, ffC)\n",
    "```"
   ]
  },
  {
   "cell_type": "markdown",
   "metadata": {},
   "source": [
    "The constructors have type booleans"
   ]
  },
  {
   "cell_type": "code",
   "execution_count": 4,
   "metadata": {
    "collapsed": false
   },
   "outputs": [
    {
     "data": {
      "text/plain": [
       "\u001b[36mres3\u001b[39m: \u001b[32mHoTT\u001b[39m.\u001b[32mTyp\u001b[39m[\u001b[32mU\u001b[39m] = SmallBool"
      ]
     },
     "execution_count": 4,
     "metadata": {},
     "output_type": "execute_result"
    }
   ],
   "source": [
    "tt.typ"
   ]
  },
  {
   "cell_type": "code",
   "execution_count": 5,
   "metadata": {
    "collapsed": false
   },
   "outputs": [
    {
     "data": {
      "text/plain": [
       "\u001b[36mres4\u001b[39m: \u001b[32mHoTT\u001b[39m.\u001b[32mTyp\u001b[39m[\u001b[32mU\u001b[39m] = SmallBool"
      ]
     },
     "execution_count": 5,
     "metadata": {},
     "output_type": "execute_result"
    }
   ],
   "source": [
    "ff.typ"
   ]
  },
  {
   "cell_type": "markdown",
   "metadata": {},
   "source": [
    "### Recursion data\n",
    "\n",
    "A recursive definition is specified by data associated to each constructor. This data is of type given by the `recDataTyp` method of the constructor pattern, depending on the target type.\n",
    "\n",
    "In the case of Booleans, this is the target type."
   ]
  },
  {
   "cell_type": "code",
   "execution_count": 6,
   "metadata": {
    "collapsed": false
   },
   "outputs": [
    {
     "data": {
      "text/plain": [
       "\u001b[36mres5\u001b[39m: \u001b[32mHoTT\u001b[39m.\u001b[32mTyp\u001b[39m[\u001b[32mHoTT\u001b[39m.\u001b[32mTerm\u001b[39m] = SmallBool"
      ]
     },
     "execution_count": 6,
     "metadata": {},
     "output_type": "execute_result"
    }
   ],
   "source": [
    "W.recDataTyp(SmallBool, SmallBool)"
   ]
  },
  {
   "cell_type": "code",
   "execution_count": 7,
   "metadata": {
    "collapsed": false
   },
   "outputs": [
    {
     "data": {
      "text/plain": [
       "\u001b[36mres6\u001b[39m: \u001b[32mHoTT\u001b[39m.\u001b[32mTyp\u001b[39m[\u001b[32mHoTT\u001b[39m.\u001b[32mTerm\u001b[39m] = SmallNat"
      ]
     },
     "execution_count": 7,
     "metadata": {},
     "output_type": "execute_result"
    }
   ],
   "source": [
    "W.recDataTyp(SmallBool, SmallNat)"
   ]
  },
  {
   "cell_type": "code",
   "execution_count": 8,
   "metadata": {
    "collapsed": false
   },
   "outputs": [
    {
     "data": {
      "text/plain": [
       "\u001b[36mres7\u001b[39m: \u001b[32mHoTT\u001b[39m.\u001b[32mTyp\u001b[39m[\u001b[32mHoTT\u001b[39m.\u001b[32mTerm\u001b[39m] = \u001b[33mUniverse\u001b[39m(\u001b[32m0\u001b[39m)"
      ]
     },
     "execution_count": 8,
     "metadata": {},
     "output_type": "execute_result"
    }
   ],
   "source": [
    "W.recDataTyp(SmallBool, HoTT.Type)"
   ]
  },
  {
   "cell_type": "code",
   "execution_count": 9,
   "metadata": {
    "collapsed": false
   },
   "outputs": [
    {
     "data": {
      "text/plain": [
       "\u001b[36mres8\u001b[39m: \u001b[32mBoolean\u001b[39m = true"
      ]
     },
     "execution_count": 9,
     "metadata": {},
     "output_type": "execute_result"
    }
   ],
   "source": [
    "res7 == HoTT.Type"
   ]
  },
  {
   "cell_type": "markdown",
   "metadata": {},
   "source": [
    "The action of a recursion functions is defined recursively, in terms of cases. This is implemented as a diagonal construction, with a method, in the trait `RecFunction` definining the recursion function in terms of a function of its own type, and applying this to itself. "
   ]
  },
  {
   "cell_type": "code",
   "execution_count": 10,
   "metadata": {
    "collapsed": false
   },
   "outputs": [
    {
     "data": {
      "text/plain": [
       "\u001b[32mimport \u001b[39m\u001b[36mHoTT._\u001b[39m"
      ]
     },
     "execution_count": 10,
     "metadata": {},
     "output_type": "execute_result"
    }
   ],
   "source": [
    "import HoTT._"
   ]
  },
  {
   "cell_type": "markdown",
   "metadata": {},
   "source": [
    "## Induction levels\n",
    "The definitions are based on a double induction, over the structure of the constructor and the number of constructors. The former takes place essentially in constructor patterns, while the latter is implemented in ConstructorSeq."
   ]
  },
  {
   "cell_type": "code",
   "execution_count": 11,
   "metadata": {
    "collapsed": false
   },
   "outputs": [
    {
     "data": {
      "text/plain": [
       "\u001b[32mimport \u001b[39m\u001b[36mConstructorSeq.recFn\u001b[39m"
      ]
     },
     "execution_count": 11,
     "metadata": {},
     "output_type": "execute_result"
    }
   ],
   "source": [
    "import ConstructorSeq.recFn"
   ]
  },
  {
   "cell_type": "code",
   "execution_count": 12,
   "metadata": {
    "collapsed": false
   },
   "outputs": [
    {
     "data": {
      "text/plain": [
       "\u001b[36mres11\u001b[39m: \u001b[32mConstructorSeq[Term, Term]\u001b[39m#\u001b[32mRecType\u001b[39m = \u001b[33mLambdaFixed\u001b[39m(\n",
       "  \u001b[33mSymbObj\u001b[39m(RecSym(ConstructorDefn(IdW(),true,SmallBool)), SmallBool),\n",
       "  \u001b[33mLambdaFixed\u001b[39m(\n",
       "    \u001b[33mSymbObj\u001b[39m(RecSym(ConstructorDefn(IdW(),false,SmallBool)), SmallBool),\n",
       "    \u001b[33mDataCons\u001b[39m(\n",
       "      \u001b[33mSymbObj\u001b[39m(RecSym(ConstructorDefn(IdW(),true,SmallBool)), SmallBool),\n",
       "      provingground.induction.coarse.ConstructorSeq$Cons$$Lambda$2380/1495306900@fe80bab,\n",
       "      \u001b[33mDataCons\u001b[39m(\n",
       "        \u001b[33mSymbObj\u001b[39m(RecSym(ConstructorDefn(IdW(),false,SmallBool)), SmallBool),\n",
       "        provingground.induction.coarse.ConstructorSeq$Cons$$Lambda$2380/1495306900@147bbc80,\n",
       "        \u001b[33mEmpty\u001b[39m(SmallBool, SmallBool),\n",
       "        provingground.induction.RecursiveDefinition$DataCons$$$Lambda$2383/1441371154@2c8bf3af\n",
       "      ),\n",
       "      provingground.induction.RecursiveDefinition$DataCons$$$Lambda$2383/1441371154@2c8bf3af\n",
       "    )\n",
       "  )\n",
       ")"
      ]
     },
     "execution_count": 12,
     "metadata": {},
     "output_type": "execute_result"
    }
   ],
   "source": [
    "recFn(BoolCons, SmallBool, SmallBool)"
   ]
  },
  {
   "cell_type": "code",
   "execution_count": 13,
   "metadata": {
    "collapsed": false
   },
   "outputs": [
    {
     "data": {
      "text/plain": [
       "\u001b[36mrecBoolBool\u001b[39m: \u001b[32mFunc\u001b[39m[\u001b[32mTerm\u001b[39m, \u001b[32mFunc\u001b[39m[\u001b[32mTerm\u001b[39m, \u001b[32mFunc\u001b[39m[\u001b[32mTerm\u001b[39m, \u001b[32mTerm\u001b[39m]]] = \u001b[33mLambdaFixed\u001b[39m(\n",
       "  \u001b[33mSymbObj\u001b[39m(RecSym(ConstructorDefn(IdW(),true,SmallBool)), SmallBool),\n",
       "  \u001b[33mLambdaFixed\u001b[39m(\n",
       "    \u001b[33mSymbObj\u001b[39m(RecSym(ConstructorDefn(IdW(),false,SmallBool)), SmallBool),\n",
       "    \u001b[33mDataCons\u001b[39m(\n",
       "      \u001b[33mSymbObj\u001b[39m(RecSym(ConstructorDefn(IdW(),true,SmallBool)), SmallBool),\n",
       "      provingground.induction.coarse.ConstructorSeq$Cons$$Lambda$2380/1495306900@261fc8e7,\n",
       "      \u001b[33mDataCons\u001b[39m(\n",
       "        \u001b[33mSymbObj\u001b[39m(RecSym(ConstructorDefn(IdW(),false,SmallBool)), SmallBool),\n",
       "        provingground.induction.coarse.ConstructorSeq$Cons$$Lambda$2380/1495306900@58dddfdb,\n",
       "        \u001b[33mEmpty\u001b[39m(SmallBool, SmallBool),\n",
       "        provingground.induction.RecursiveDefinition$DataCons$$$Lambda$2383/1441371154@2c8bf3af\n",
       "      ),\n",
       "      provingground.induction.RecursiveDefinition$DataCons$$$Lambda$2383/1441371154@2c8bf3af\n",
       "    )\n",
       "  )\n",
       ")"
      ]
     },
     "execution_count": 13,
     "metadata": {},
     "output_type": "execute_result"
    }
   ],
   "source": [
    "val recBoolBool =\n",
    "    recFn(BoolCons, SmallBool, SmallBool).asInstanceOf[Func[Term, Func[Term, Func[Term, Term]]]]"
   ]
  },
  {
   "cell_type": "code",
   "execution_count": 14,
   "metadata": {
    "collapsed": false
   },
   "outputs": [
    {
     "data": {
      "text/plain": [
       "\u001b[36mneg\u001b[39m: \u001b[32mFunc\u001b[39m[\u001b[32mTerm\u001b[39m, \u001b[32mTerm\u001b[39m] = \u001b[33mDataCons\u001b[39m(\n",
       "  \u001b[33mSymbObj\u001b[39m(\u001b[33mName\u001b[39m(\u001b[32m\"false\"\u001b[39m), SmallBool),\n",
       "  provingground.induction.coarse.ConstructorSeq$Cons$$Lambda$2380/1495306900@261fc8e7,\n",
       "  \u001b[33mDataCons\u001b[39m(\n",
       "    \u001b[33mSymbObj\u001b[39m(\u001b[33mName\u001b[39m(\u001b[32m\"true\"\u001b[39m), SmallBool),\n",
       "    provingground.induction.coarse.ConstructorSeq$Cons$$Lambda$2380/1495306900@58dddfdb,\n",
       "    \u001b[33mEmpty\u001b[39m(SmallBool, SmallBool),\n",
       "    provingground.induction.RecursiveDefinition$DataCons$$$Lambda$2383/1441371154@2c8bf3af\n",
       "  ),\n",
       "  provingground.induction.RecursiveDefinition$DataCons$$$Lambda$2383/1441371154@2c8bf3af\n",
       ")"
      ]
     },
     "execution_count": 14,
     "metadata": {},
     "output_type": "execute_result"
    }
   ],
   "source": [
    "val neg = recBoolBool(ff)(tt)"
   ]
  },
  {
   "cell_type": "code",
   "execution_count": 15,
   "metadata": {
    "collapsed": false
   },
   "outputs": [
    {
     "data": {
      "text/plain": [
       "\u001b[36mres14\u001b[39m: \u001b[32mTerm\u001b[39m = \u001b[33mSymbObj\u001b[39m(\u001b[33mName\u001b[39m(\u001b[32m\"false\"\u001b[39m), SmallBool)"
      ]
     },
     "execution_count": 15,
     "metadata": {},
     "output_type": "execute_result"
    }
   ],
   "source": [
    "neg(tt)"
   ]
  },
  {
   "cell_type": "code",
   "execution_count": 16,
   "metadata": {
    "collapsed": false
   },
   "outputs": [
    {
     "data": {
      "text/plain": [
       "\u001b[36mres15\u001b[39m: \u001b[32mTerm\u001b[39m = \u001b[33mSymbObj\u001b[39m(\u001b[33mName\u001b[39m(\u001b[32m\"false\"\u001b[39m), SmallBool)"
      ]
     },
     "execution_count": 16,
     "metadata": {},
     "output_type": "execute_result"
    }
   ],
   "source": [
    "ff"
   ]
  },
  {
   "cell_type": "code",
   "execution_count": 17,
   "metadata": {
    "collapsed": false
   },
   "outputs": [
    {
     "data": {
      "text/plain": [
       "\u001b[36mres16\u001b[39m: \u001b[32mTerm\u001b[39m = \u001b[33mSymbObj\u001b[39m(\n",
       "  \u001b[33mApplnSym\u001b[39m(\n",
       "    \u001b[33mDataCons\u001b[39m(\n",
       "      \u001b[33mSymbObj\u001b[39m(\u001b[33mName\u001b[39m(\u001b[32m\"false\"\u001b[39m), SmallBool),\n",
       "      provingground.induction.coarse.ConstructorSeq$Cons$$Lambda$2380/1495306900@261fc8e7,\n",
       "      \u001b[33mDataCons\u001b[39m(\n",
       "        \u001b[33mSymbObj\u001b[39m(\u001b[33mName\u001b[39m(\u001b[32m\"true\"\u001b[39m), SmallBool),\n",
       "        provingground.induction.coarse.ConstructorSeq$Cons$$Lambda$2380/1495306900@58dddfdb,\n",
       "        \u001b[33mEmpty\u001b[39m(SmallBool, SmallBool),\n",
       "        provingground.induction.RecursiveDefinition$DataCons$$$Lambda$2383/1441371154@2c8bf3af\n",
       "      ),\n",
       "      provingground.induction.RecursiveDefinition$DataCons$$$Lambda$2383/1441371154@2c8bf3af\n",
       "    ),\n",
       "    \u001b[33mSymbObj\u001b[39m(\u001b[33mName\u001b[39m(\u001b[32m\"x\"\u001b[39m), SmallBool)\n",
       "  ),\n",
       "  SmallBool\n",
       ")"
      ]
     },
     "execution_count": 17,
     "metadata": {},
     "output_type": "execute_result"
    }
   ],
   "source": [
    "neg(\"x\" :: SmallBool)"
   ]
  },
  {
   "cell_type": "code",
   "execution_count": 18,
   "metadata": {
    "collapsed": false
   },
   "outputs": [
    {
     "data": {
      "text/plain": [
       "\u001b[36mx\u001b[39m: \u001b[32mTerm\u001b[39m = \u001b[33mSymbObj\u001b[39m(\u001b[33mName\u001b[39m(\u001b[32m\"x\"\u001b[39m), SmallBool)\n",
       "\u001b[36mres17_1\u001b[39m: \u001b[32mTerm\u001b[39m = \u001b[33mSymbObj\u001b[39m(\n",
       "  \u001b[33mApplnSym\u001b[39m(\n",
       "    \u001b[33mDataCons\u001b[39m(\n",
       "      \u001b[33mSymbObj\u001b[39m(\u001b[33mName\u001b[39m(\u001b[32m\"false\"\u001b[39m), SmallBool),\n",
       "      provingground.induction.coarse.ConstructorSeq$Cons$$Lambda$2380/1495306900@261fc8e7,\n",
       "      \u001b[33mDataCons\u001b[39m(\n",
       "        \u001b[33mSymbObj\u001b[39m(\u001b[33mName\u001b[39m(\u001b[32m\"true\"\u001b[39m), SmallBool),\n",
       "        provingground.induction.coarse.ConstructorSeq$Cons$$Lambda$2380/1495306900@58dddfdb,\n",
       "        \u001b[33mEmpty\u001b[39m(SmallBool, SmallBool),\n",
       "        provingground.induction.RecursiveDefinition$DataCons$$$Lambda$2383/1441371154@2c8bf3af\n",
       "      ),\n",
       "      provingground.induction.RecursiveDefinition$DataCons$$$Lambda$2383/1441371154@2c8bf3af\n",
       "    ),\n",
       "    \u001b[33mSymbObj\u001b[39m(\n",
       "      \u001b[33mApplnSym\u001b[39m(\n",
       "        \u001b[33mDataCons\u001b[39m(\n",
       "          \u001b[33mSymbObj\u001b[39m(\u001b[33mName\u001b[39m(\u001b[32m\"false\"\u001b[39m), SmallBool),\n",
       "          provingground.induction.coarse.ConstructorSeq$Cons$$Lambda$2380/1495306900@261fc8e7,\n",
       "          \u001b[33mDataCons\u001b[39m(\n",
       "            \u001b[33mSymbObj\u001b[39m(\u001b[33mName\u001b[39m(\u001b[32m\"true\"\u001b[39m), SmallBool),\n",
       "            provingground.induction.coarse.ConstructorSeq$Cons$$Lambda$2380/1495306900@58dddfdb,\n",
       "            \u001b[33mEmpty\u001b[39m(SmallBool, SmallBool),\n",
       "            provingground.induction.RecursiveDefinition$DataCons$$$Lambda$2383/1441371154@2c8bf3af\n",
       "          ),\n",
       "          provingground.induction.RecursiveDefinition$DataCons$$$Lambda$2383/1441371154@2c8bf3af\n",
       "        ),\n",
       "        \u001b[33mSymbObj\u001b[39m(\u001b[33mName\u001b[39m(\u001b[32m\"x\"\u001b[39m), SmallBool)\n",
       "      ),\n",
       "      SmallBool\n",
       "    )\n",
       "  ),\n",
       "...\n",
       "\u001b[36mres17_2\u001b[39m: \u001b[32mBoolean\u001b[39m = false"
      ]
     },
     "execution_count": 18,
     "metadata": {},
     "output_type": "execute_result"
    }
   ],
   "source": [
    "val x = \"x\" :: SmallBool\n",
    "neg(neg(x))\n",
    "neg(neg(x)) == x // not equal by definition, needs a theorem proved by induction"
   ]
  },
  {
   "cell_type": "code",
   "execution_count": null,
   "metadata": {
    "collapsed": true
   },
   "outputs": [],
   "source": []
  }
 ],
 "metadata": {
  "kernelspec": {
   "display_name": "Scala",
   "language": "scala",
   "name": "scala"
  },
  "language_info": {
   "codemirror_mode": "text/x-scala",
   "file_extension": ".scala",
   "mimetype": "text/x-scala",
   "name": "scala",
   "nbconvert_exporter": "script",
   "version": "2.12.8"
  }
 },
 "nbformat": 4,
 "nbformat_minor": 2
}
