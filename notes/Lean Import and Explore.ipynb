{
 "cells": [
  {
   "cell_type": "markdown",
   "metadata": {},
   "source": [
    "# Lean Import, Explore, DeepWalk\n",
    "\n",
    "The lean export format can be easily parsed to an internal structure. Here we import from an exported file with all dependencies, and and find relations between definitions. This is used to explore relations in the lean HoTT library.\n",
    "\n",
    "In addition to discovering most used terms etc., _deepwalk_ is used to do representation learning for lean."
   ]
  }
 ],
 "metadata": {
  "kernelspec": {
   "display_name": "Scala 2.11",
   "language": "scala211",
   "name": "scala211"
  },
  "language_info": {
   "codemirror_mode": "text/x-scala",
   "file_extension": ".scala",
   "mimetype": "text/x-scala",
   "name": "scala211",
   "pygments_lexer": "scala",
   "version": "2.11.6"
  }
 },
 "nbformat": 4,
 "nbformat_minor": 0
}
