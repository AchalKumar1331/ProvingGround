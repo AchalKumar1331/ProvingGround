{
 "cells": [
  {
   "cell_type": "markdown",
   "metadata": {},
   "source": [
    "## Modus Ponens\n",
    "This correctly scales up cutoff (but perhaps too much, we also scale within `Pi` and `PiOpt`)"
   ]
  },
  {
   "cell_type": "code",
   "execution_count": 1,
   "metadata": {},
   "outputs": [
    {
     "data": {
      "text/plain": [
       "\u001b[32mimport \u001b[39m\u001b[36m$ivy.$                                       \u001b[39m"
      ]
     },
     "execution_count": 1,
     "metadata": {},
     "output_type": "execute_result"
    }
   ],
   "source": [
    "import $ivy.`in.ac.iisc.math::core-jvm:0.1-SNAPSHOT`"
   ]
  },
  {
   "cell_type": "code",
   "execution_count": 2,
   "metadata": {},
   "outputs": [
    {
     "data": {
      "text/plain": [
       "\u001b[32mimport \u001b[39m\u001b[36mprovingground._ , interface._, HoTT._\n",
       "\u001b[39m\n",
       "\u001b[32mimport \u001b[39m\u001b[36mprovingground.{FiniteDistribution => FD}\n",
       "\u001b[39m\n",
       "\u001b[32mimport \u001b[39m\u001b[36mlearning._\u001b[39m"
      ]
     },
     "execution_count": 2,
     "metadata": {},
     "output_type": "execute_result"
    }
   ],
   "source": [
    "import provingground._ , interface._, HoTT._\n",
    "import provingground.{FiniteDistribution => FD}\n",
    "import learning._"
   ]
  },
  {
   "cell_type": "code",
   "execution_count": 3,
   "metadata": {},
   "outputs": [
    {
     "data": {
      "text/plain": [
       "\u001b[36mA\u001b[39m: \u001b[32mTyp\u001b[39m[\u001b[32mTerm\u001b[39m] = \u001b[33mSymbTyp\u001b[39m(\u001b[33mName\u001b[39m(\u001b[32m\"A\"\u001b[39m), \u001b[32m0\u001b[39m)\n",
       "\u001b[36mB\u001b[39m: \u001b[32mTyp\u001b[39m[\u001b[32mTerm\u001b[39m] = \u001b[33mSymbTyp\u001b[39m(\u001b[33mName\u001b[39m(\u001b[32m\"B\"\u001b[39m), \u001b[32m0\u001b[39m)\n",
       "\u001b[36mMP\u001b[39m: \u001b[32mGenFuncTyp\u001b[39m[\u001b[32mTyp\u001b[39m[\u001b[32mTerm\u001b[39m], \u001b[32mFuncLike\u001b[39m[\u001b[32mTyp\u001b[39m[\u001b[32mTerm\u001b[39m], \u001b[32mFunc\u001b[39m[\u001b[32mTerm\u001b[39m, \u001b[32mFunc\u001b[39m[\u001b[32mFunc\u001b[39m[\u001b[32mTerm\u001b[39m, \u001b[32mTerm\u001b[39m], \u001b[32mTerm\u001b[39m]]]] = \u001b[33mPiDefn\u001b[39m(\n",
       "  \u001b[33mSymbTyp\u001b[39m(A, \u001b[32m0\u001b[39m),\n",
       "  \u001b[33mPiDefn\u001b[39m(\n",
       "    \u001b[33mSymbTyp\u001b[39m(B, \u001b[32m0\u001b[39m),\n",
       "    \u001b[33mFuncTyp\u001b[39m(\n",
       "      \u001b[33mSymbTyp\u001b[39m(A, \u001b[32m0\u001b[39m),\n",
       "      \u001b[33mFuncTyp\u001b[39m(\u001b[33mFuncTyp\u001b[39m(\u001b[33mSymbTyp\u001b[39m(A, \u001b[32m0\u001b[39m), \u001b[33mSymbTyp\u001b[39m(B, \u001b[32m0\u001b[39m)), \u001b[33mSymbTyp\u001b[39m(B, \u001b[32m0\u001b[39m))\n",
       "    )\n",
       "  )\n",
       ")\n",
       "\u001b[36mts\u001b[39m: \u001b[32mTermState\u001b[39m = \u001b[33mTermState\u001b[39m(\n",
       "  \u001b[33mFiniteDistribution\u001b[39m(\u001b[33mVector\u001b[39m(\u001b[33mWeighted\u001b[39m(\u001b[33mUniverse\u001b[39m(\u001b[32m0\u001b[39m), \u001b[32m1.0\u001b[39m))),\n",
       "  \u001b[33mFiniteDistribution\u001b[39m(\u001b[33mVector\u001b[39m(\u001b[33mWeighted\u001b[39m(\u001b[33mUniverse\u001b[39m(\u001b[32m0\u001b[39m), \u001b[32m1.0\u001b[39m))),\n",
       "  \u001b[33mVector\u001b[39m(),\n",
       "  \u001b[33mFiniteDistribution\u001b[39m(\u001b[33mVector\u001b[39m()),\n",
       "  \u001b[33mFiniteDistribution\u001b[39m(\n",
       "    \u001b[33mVector\u001b[39m(\n",
       "      \u001b[33mWeighted\u001b[39m(\n",
       "        \u001b[33mPiDefn\u001b[39m(\n",
       "          \u001b[33mSymbTyp\u001b[39m(A, \u001b[32m0\u001b[39m),\n",
       "          \u001b[33mPiDefn\u001b[39m(\n",
       "            \u001b[33mSymbTyp\u001b[39m(B, \u001b[32m0\u001b[39m),\n",
       "            \u001b[33mFuncTyp\u001b[39m(\n",
       "              \u001b[33mSymbTyp\u001b[39m(A, \u001b[32m0\u001b[39m),\n",
       "              \u001b[33mFuncTyp\u001b[39m(\u001b[33mFuncTyp\u001b[39m(\u001b[33mSymbTyp\u001b[39m(A, \u001b[32m0\u001b[39m), \u001b[33mSymbTyp\u001b[39m(B, \u001b[32m0\u001b[39m)), \u001b[33mSymbTyp\u001b[39m(B, \u001b[32m0\u001b[39m))\n",
       "            )\n",
       "          )\n",
       "        ),\n",
       "        \u001b[32m1.0\u001b[39m\n",
       "      )\n",
       "    )\n",
       "  ),\n",
       "  Empty\n",
       ")\n",
       "\u001b[36mtg\u001b[39m: \u001b[32mTermGenParams\u001b[39m = \u001b[33mTermGenParams\u001b[39m(\n",
       "  \u001b[32m0.1\u001b[39m,\n",
       "  \u001b[32m0.1\u001b[39m,\n",
       "  \u001b[32m0.1\u001b[39m,\n",
       "  \u001b[32m0.1\u001b[39m,\n",
       "  \u001b[32m0.1\u001b[39m,\n",
       "  \u001b[32m0.05\u001b[39m,\n",
       "  \u001b[32m0.05\u001b[39m,\n",
       "  \u001b[32m0.05\u001b[39m,\n",
       "  \u001b[32m0.3\u001b[39m,\n",
       "  \u001b[32m0.7\u001b[39m,\n",
       "  \u001b[32m0.5\u001b[39m\n",
       ")\n",
       "\u001b[36mmfeq\u001b[39m: \u001b[32mMonixFiniteDistributionEq\u001b[39m[\u001b[32mTermState\u001b[39m, \u001b[32mTerm\u001b[39m] = \u001b[33mMonixFiniteDistributionEq\u001b[39m(\n",
       "  \u001b[33mCons\u001b[39m(\n",
       "    \u001b[33mBaseCons\u001b[39m(\n",
       "      \u001b[33mBasePi\u001b[39m(\n",
       "        provingground.learning.RandomVarFamily$$Lambda$3408/2037891870@90e25bf,\n",
       "        FuncsWithDomain\n",
       "      ),\n",
       "      \u001b[32m0.55\u001b[39m,\n",
       "      \u001b[33mBaseCons\u001b[39m(\n",
       "        \u001b[33mBasePi\u001b[39m(\n",
       "          provingground.learning.GeneratorNode$$Lambda$3411/421800218@52f920d4,\n",
       "          FuncsWithDomain\n",
       "        ),\n",
       "        \u001b[32m0.1\u001b[39m,\n",
       "        \u001b[33mBaseCons\u001b[39m(\n",
       "          \u001b[33mBasePi\u001b[39m(\n",
       "            provingground.learning.GeneratorNode$$Lambda$3411/421800218@2195712a,\n",
       "            FuncsWithDomain\n",
       "          ),\n",
       "          \u001b[32m0.1\u001b[39m,\n",
       "          \u001b[33mBaseCons\u001b[39m(\n",
       "            \u001b[33mBasePi\u001b[39m(\n",
       "              provingground.learning.GeneratorNode$$Lambda$3411/421800218@4aaf3441,\n",
       "              FuncsWithDomain\n",
       "            ),\n",
       "            \u001b[32m0.1\u001b[39m,\n",
       "            \u001b[33mBaseCons\u001b[39m(\n",
       "              \u001b[33mBasePi\u001b[39m(\n",
       "                provingground.learning.TermGeneratorNodes$$Lambda$3402/1416260192@7b740b07,\n",
       "                FuncsWithDomain\n",
       "              ),\n",
       "              \u001b[32m0.1\u001b[39m,\n",
       "              \u001b[33mTarget\u001b[39m(FuncsWithDomain)\n",
       "            )\n",
       "          )\n",
       "        )\n",
       "..."
      ]
     },
     "execution_count": 3,
     "metadata": {},
     "output_type": "execute_result"
    }
   ],
   "source": [
    "val A = Type.sym\n",
    "val B = Type.sym\n",
    "val MP = A ~>: B ~>: (A ->: (A ->: B) ->: B)\n",
    "val ts = TermState(FD.unif(Type), FD.unif(Type), goals = FD.unif(MP))\n",
    "val tg = TermGenParams()\n",
    "val mfeq = MonixFiniteDistributionEq(tg.nodeCoeffSeq)\n"
   ]
  },
  {
   "cell_type": "code",
   "execution_count": 4,
   "metadata": {},
   "outputs": [
    {
     "data": {
      "text/plain": [
       "\u001b[32mimport \u001b[39m\u001b[36mTermRandomVars._\n",
       "\u001b[39m\n",
       "\u001b[36mgetMPhard\u001b[39m: \u001b[32mmonix\u001b[39m.\u001b[32meval\u001b[39m.\u001b[32mTask\u001b[39m[(\u001b[32mFiniteDistribution\u001b[39m[\u001b[32mTerm\u001b[39m], \u001b[32mSet\u001b[39m[\u001b[32mGeneratorVariables\u001b[39m.\u001b[32mEquationTerm\u001b[39m])] = \u001b[33mFlatMap\u001b[39m(\n",
       "  \u001b[33mAsync\u001b[39m(<function2>, true, true, true),\n",
       "  monix.eval.Task$$Lambda$3560/380573905@17edd6a2\n",
       ")"
      ]
     },
     "execution_count": 4,
     "metadata": {},
     "output_type": "execute_result"
    }
   ],
   "source": [
    "import TermRandomVars._\n",
    "val getMPhard = mfeq.varDist(ts)(Terms, 0.0001)"
   ]
  },
  {
   "cell_type": "code",
   "execution_count": 5,
   "metadata": {},
   "outputs": [
    {
     "data": {
      "text/plain": [
       "\u001b[32mimport \u001b[39m\u001b[36mmonix.execution.Scheduler.Implicits.global \n",
       "\u001b[39m\n",
       "\u001b[36mfd\u001b[39m: \u001b[32mFiniteDistribution\u001b[39m[\u001b[32mTerm\u001b[39m] = \u001b[33mFiniteDistribution\u001b[39m(\n",
       "  \u001b[33mVector\u001b[39m(\n",
       "    \u001b[33mWeighted\u001b[39m(\n",
       "      \u001b[33mLambdaFixed\u001b[39m(\n",
       "        \u001b[33mPiSymbolicFunc\u001b[39m(\u001b[33mName\u001b[39m(\u001b[32m\"_\"\u001b[39m), \u001b[33mSymbTyp\u001b[39m(@a, \u001b[32m0\u001b[39m), \u001b[33mSymbTyp\u001b[39m(@a, \u001b[32m0\u001b[39m)),\n",
       "        \u001b[33mLambdaFixed\u001b[39m(\u001b[33mSymbTyp\u001b[39m(\u001b[33mName\u001b[39m(\u001b[32m\"_\"\u001b[39m), \u001b[32m0\u001b[39m), \u001b[33mUniverse\u001b[39m(\u001b[32m0\u001b[39m))\n",
       "      ),\n",
       "      \u001b[32m2.489207011819105E-4\u001b[39m\n",
       "    ),\n",
       "    \u001b[33mWeighted\u001b[39m(\n",
       "      \u001b[33mLambdaFixed\u001b[39m(\n",
       "        \u001b[33mSymbTyp\u001b[39m(\u001b[33mName\u001b[39m(\u001b[32m\"_\"\u001b[39m), \u001b[32m0\u001b[39m),\n",
       "        \u001b[33mLambdaFixed\u001b[39m(\n",
       "          \u001b[33mPiSymbolicFunc\u001b[39m(\u001b[33mName\u001b[39m(\u001b[32m\"_\"\u001b[39m), \u001b[33mSymbTyp\u001b[39m(@b, \u001b[32m0\u001b[39m), \u001b[33mSymbTyp\u001b[39m(@b, \u001b[32m0\u001b[39m)),\n",
       "          \u001b[33mUniverse\u001b[39m(\u001b[32m0\u001b[39m)\n",
       "        )\n",
       "      ),\n",
       "      \u001b[32m1.4161641559025961E-4\u001b[39m\n",
       "    ),\n",
       "    \u001b[33mWeighted\u001b[39m(\n",
       "      \u001b[33mLambdaFixed\u001b[39m(\n",
       "        \u001b[33mPairTerm\u001b[39m(\n",
       "          \u001b[33mSymbTyp\u001b[39m(\u001b[33mLeftProjSym\u001b[39m(\u001b[33mName\u001b[39m(\u001b[32m\"_\"\u001b[39m)), \u001b[32m0\u001b[39m),\n",
       "          \u001b[33mSymbolicFunc\u001b[39m(\u001b[33mRightProjSym\u001b[39m(\u001b[33mName\u001b[39m(\u001b[32m\"_\"\u001b[39m)), \u001b[33mUniverse\u001b[39m(\u001b[32m0\u001b[39m), \u001b[33mUniverse\u001b[39m(\u001b[32m0\u001b[39m))\n",
       "        ),\n",
       "        \u001b[33mUniverse\u001b[39m(\u001b[32m0\u001b[39m)\n",
       "      ),\n",
       "      \u001b[32m2.3119896721372646E-4\u001b[39m\n",
       "    ),\n",
       "    \u001b[33mWeighted\u001b[39m(\n",
       "      \u001b[33mLambdaFixed\u001b[39m(\n",
       "        \u001b[33mPairTerm\u001b[39m(\n",
       "          \u001b[33mSymbTyp\u001b[39m(\u001b[33mLeftProjSym\u001b[39m(\u001b[33mName\u001b[39m(\u001b[32m\"_\"\u001b[39m)), \u001b[32m0\u001b[39m),\n",
       "          \u001b[33mSymbTyp\u001b[39m(\u001b[33mRightProjSym\u001b[39m(\u001b[33mName\u001b[39m(\u001b[32m\"_\"\u001b[39m)), \u001b[32m0\u001b[39m)\n",
       "        ),\n",
       "        \u001b[33mLambdaFixed\u001b[39m(\u001b[33mSymbTyp\u001b[39m(\u001b[33mName\u001b[39m(\u001b[32m\"_\"\u001b[39m), \u001b[32m0\u001b[39m), \u001b[33mUniverse\u001b[39m(\u001b[32m0\u001b[39m))\n",
       "      ),\n",
       "      \u001b[32m3.1505650767257745E-4\u001b[39m\n",
       "    ),\n",
       "...\n",
       "\u001b[36meqs\u001b[39m: \u001b[32mSet\u001b[39m[\u001b[32mGeneratorVariables\u001b[39m.\u001b[32mEquationTerm\u001b[39m] = \u001b[33mSet\u001b[39m(\n",
       "  \u001b[33mEquationTerm\u001b[39m(\n",
       "    \u001b[33mInitialVal\u001b[39m(\n",
       "      \u001b[33mInIsle\u001b[39m(\n",
       "        \u001b[33mInIsle\u001b[39m(\n",
       "          \u001b[33mElem\u001b[39m(\u001b[33mUniverse\u001b[39m(\u001b[32m0\u001b[39m), Typs),\n",
       "          \u001b[33mSymbTyp\u001b[39m(\u001b[33mName\u001b[39m(\u001b[32m\"@b\"\u001b[39m), \u001b[32m0\u001b[39m),\n",
       "          \u001b[33mIsland\u001b[39m(Typs, \u001b[33mCRV\u001b[39m(Typs), \u001b[33mAddVar\u001b[39m(\u001b[33mUniverse\u001b[39m(\u001b[32m0\u001b[39m), \u001b[32m0.3\u001b[39m), Sigma, InIsle)\n",
       "        ),\n",
       "        \u001b[33mSymbTyp\u001b[39m(\u001b[33mName\u001b[39m(\u001b[32m\"@a\"\u001b[39m), \u001b[32m0\u001b[39m),\n",
       "        \u001b[33mIsland\u001b[39m(Typs, \u001b[33mCRV\u001b[39m(Typs), \u001b[33mAddVar\u001b[39m(\u001b[33mUniverse\u001b[39m(\u001b[32m0\u001b[39m), \u001b[32m0.3\u001b[39m), Pi, InIsle)\n",
       "      )\n",
       "    ),\n",
       "    \u001b[33mProduct\u001b[39m(\n",
       "      \u001b[33mIsleScale\u001b[39m(\u001b[33mSymbTyp\u001b[39m(\u001b[33mName\u001b[39m(\u001b[32m\"@b\"\u001b[39m), \u001b[32m0\u001b[39m), \u001b[33mElem\u001b[39m(\u001b[33mUniverse\u001b[39m(\u001b[32m0\u001b[39m), Typs)),\n",
       "      \u001b[33mInitialVal\u001b[39m(\n",
       "        \u001b[33mInIsle\u001b[39m(\n",
       "          \u001b[33mElem\u001b[39m(\u001b[33mUniverse\u001b[39m(\u001b[32m0\u001b[39m), Typs),\n",
       "          \u001b[33mSymbTyp\u001b[39m(\u001b[33mName\u001b[39m(\u001b[32m\"@a\"\u001b[39m), \u001b[32m0\u001b[39m),\n",
       "          \u001b[33mIsland\u001b[39m(Typs, \u001b[33mCRV\u001b[39m(Typs), \u001b[33mAddVar\u001b[39m(\u001b[33mUniverse\u001b[39m(\u001b[32m0\u001b[39m), \u001b[32m0.3\u001b[39m), Pi, InIsle)\n",
       "        )\n",
       "      )\n",
       "    )\n",
       "  ),\n",
       "  \u001b[33mEquationTerm\u001b[39m(\n",
       "    \u001b[33mFinalVal\u001b[39m(\n",
       "      \u001b[33mInIsle\u001b[39m(\n",
       "        \u001b[33mInIsle\u001b[39m(\n",
       "          \u001b[33mElem\u001b[39m(\u001b[33mSymbTyp\u001b[39m(\u001b[33mName\u001b[39m(\u001b[32m\"@a\"\u001b[39m), \u001b[32m0\u001b[39m), Typs),\n",
       "          \u001b[33mSymbTyp\u001b[39m(\u001b[33mName\u001b[39m(\u001b[32m\"@b\"\u001b[39m), \u001b[32m0\u001b[39m),\n",
       "          \u001b[33mIsland\u001b[39m(Typs, \u001b[33mCRV\u001b[39m(Typs), \u001b[33mAddVar\u001b[39m(\u001b[33mUniverse\u001b[39m(\u001b[32m0\u001b[39m), \u001b[32m0.3\u001b[39m), Pi, InIsle)\n",
       "        ),\n",
       "        \u001b[33mSymbTyp\u001b[39m(\u001b[33mName\u001b[39m(\u001b[32m\"@a\"\u001b[39m), \u001b[32m0\u001b[39m),\n",
       "        \u001b[33mIsland\u001b[39m(Terms, \u001b[33mCRV\u001b[39m(Terms), \u001b[33mAddVar\u001b[39m(\u001b[33mUniverse\u001b[39m(\u001b[32m0\u001b[39m), \u001b[32m0.3\u001b[39m), Lambda, InIsle)\n",
       "      )\n",
       "    ),\n",
       "    \u001b[33mProduct\u001b[39m(\n",
       "      \u001b[33mCoeff\u001b[39m(\u001b[33mInit\u001b[39m(Typs), Typs),\n",
       "      \u001b[33mInitialVal\u001b[39m(\n",
       "..."
      ]
     },
     "execution_count": 5,
     "metadata": {},
     "output_type": "execute_result"
    }
   ],
   "source": [
    "import monix.execution.Scheduler.Implicits.global \n",
    "val (fd, eqs) = getMPhard.runSyncUnsafe()"
   ]
  },
  {
   "cell_type": "code",
   "execution_count": 6,
   "metadata": {},
   "outputs": [
    {
     "data": {
      "text/plain": [
       "\u001b[36mres5_1\u001b[39m: \u001b[32mFiniteDistribution\u001b[39m[\u001b[32mTerm\u001b[39m] = \u001b[33mFiniteDistribution\u001b[39m(\n",
       "  \u001b[33mVector\u001b[39m(\n",
       "    \u001b[33mWeighted\u001b[39m(\u001b[32m(@a : 𝒰 ) ↦ (@b : 𝒰 ) ↦ (@a : @a) ↦ (@a : (@a → @b)) ↦ @a(@a)\u001b[39m, \u001b[32m0.03928111738491071\u001b[39m)\n",
       "  )\n",
       ")"
      ]
     },
     "execution_count": 6,
     "metadata": {},
     "output_type": "execute_result"
    }
   ],
   "source": [
    "repl.pprinter.bind(translation.FansiShow.fansiPrint)\n",
    "fd.filter(_.typ == MP)\n"
   ]
  },
  {
   "cell_type": "code",
   "execution_count": 7,
   "metadata": {},
   "outputs": [
    {
     "data": {
      "text/plain": [
       "\u001b[32mimport \u001b[39m\u001b[36mGeneratorVariables._\n",
       "\u001b[39m\n",
       "\u001b[36mmpEqs\u001b[39m: \u001b[32mSet\u001b[39m[\u001b[32mEquationTerm\u001b[39m] = \u001b[33mSet\u001b[39m(\n",
       "  \u001b[33mEquationTerm\u001b[39m(\n",
       "    \u001b[33mFinalVal\u001b[39m(\u001b[33mElem\u001b[39m(\u001b[32m(@a : 𝒰 ) ↦ (@b : 𝒰 ) ↦ (@a : @a) ↦ (@a : (@a → @b)) ↦ @a(@a)\u001b[39m, Terms)),\n",
       "    \u001b[33mProduct\u001b[39m(\n",
       "      \u001b[33mProduct\u001b[39m(\n",
       "        \u001b[33mCoeff\u001b[39m(\u001b[33mZipFlatMap\u001b[39m(TargetTyps, TermsWithTyp, Proj2, Terms), Terms),\n",
       "        \u001b[33mFinalVal\u001b[39m(\u001b[33mElem\u001b[39m(\u001b[32m∏(A : 𝒰 ){ ∏(B : 𝒰 ){ (A → ((A → B) → B)) } }\u001b[39m, TargetTyps))\n",
       "      ),\n",
       "      \u001b[33mFinalVal\u001b[39m(\n",
       "        \u001b[33mElem\u001b[39m(\n",
       "          \u001b[32m(@a : 𝒰 ) ↦ (@b : 𝒰 ) ↦ (@a : @a) ↦ (@a : (@a → @b)) ↦ @a(@a)\u001b[39m,\n",
       "          \u001b[33mAtCoord\u001b[39m(TermsWithTyp, \u001b[32m∏(A : 𝒰 ){ ∏(B : 𝒰 ){ (A → ((A → B) → B)) } }\u001b[39m :: HNil)\n",
       "        )\n",
       "      )\n",
       "    )\n",
       "  ),\n",
       "  \u001b[33mEquationTerm\u001b[39m(\n",
       "    \u001b[33mFinalVal\u001b[39m(\n",
       "      \u001b[33mElem\u001b[39m(\n",
       "        \u001b[32m(@a : 𝒰 ) ↦ (@b : 𝒰 ) ↦ (@a : @a) ↦ (@a : (@a → @b)) ↦ @a(@a)\u001b[39m,\n",
       "        \u001b[33mAtCoord\u001b[39m(TermsWithTyp, \u001b[32m∏(A : 𝒰 ){ ∏(B : 𝒰 ){ (A → ((A → B) → B)) } }\u001b[39m :: HNil)\n",
       "      )\n",
       "    ),\n",
       "    \u001b[33mProduct\u001b[39m(\n",
       "      \u001b[33mCoeff\u001b[39m(\n",
       "        \u001b[33mIsland\u001b[39m(\n",
       "          \u001b[33mAtCoord\u001b[39m(TermsWithTyp, \u001b[32m∏(A : 𝒰 ){ ∏(B : 𝒰 ){ (A → ((A → B) → B)) } }\u001b[39m :: HNil),\n",
       "          \u001b[33mPiOutput\u001b[39m(\u001b[32m∏(A : 𝒰 ){ ∏(B : 𝒰 ){ (A → ((A → B) → B)) } }\u001b[39m),\n",
       "          \u001b[33mAddVar\u001b[39m(\u001b[32m𝒰 \u001b[39m, \u001b[32m0.3\u001b[39m),\n",
       "          Lambda,\n",
       "          InIsle\n",
       "        ),\n",
       "        \u001b[33mAtCoord\u001b[39m(TermsWithTyp, \u001b[32m∏(A : 𝒰 ){ ∏(B : 𝒰 ){ (A → ((A → B) → B)) } }\u001b[39m :: HNil)\n",
       "      ),\n",
       "      \u001b[33mFinalVal\u001b[39m(\n",
       "        \u001b[33mInIsle\u001b[39m(\n",
       "          \u001b[33mElem\u001b[39m(\n",
       "            \u001b[32m(@b : 𝒰 ) ↦ (@a : @a) ↦ (@a : (@a → @b)) ↦ @a(@a)\u001b[39m,\n",
       "            \u001b[33mAtCoord\u001b[39m(TermsWithTyp, \u001b[32m∏(B : 𝒰 ){ (@a → ((@a → B) → B)) }\u001b[39m :: HNil)\n",
       "          ),\n",
       "          \u001b[32m@a\u001b[39m,\n",
       "          \u001b[33mIsland\u001b[39m(\n",
       "            \u001b[33mAtCoord\u001b[39m(TermsWithTyp, \u001b[32m∏(A : 𝒰 ){ ∏(B : 𝒰 ){ (A → ((A → B) → B)) } }\u001b[39m :: HNil),\n",
       "            \u001b[33mPiOutput\u001b[39m(\u001b[32m∏(A : 𝒰 ){ ∏(B : 𝒰 ){ (A → ((A → B) → B)) } }\u001b[39m),\n",
       "            \u001b[33mAddVar\u001b[39m(\u001b[32m𝒰 \u001b[39m, \u001b[32m0.3\u001b[39m),\n",
       "            Lambda,\n",
       "            InIsle\n",
       "          )\n",
       "        )\n",
       "..."
      ]
     },
     "execution_count": 7,
     "metadata": {},
     "output_type": "execute_result"
    }
   ],
   "source": [
    "import GeneratorVariables._\n",
    "val mpEqs = eqs.collect{case eq @ EquationTerm(FinalVal(Elem(t : Term, _)), _) if t.typ == MP => eq}"
   ]
  },
  {
   "cell_type": "code",
   "execution_count": 8,
   "metadata": {},
   "outputs": [
    {
     "data": {
      "text/plain": [
       "\u001b[36mats\u001b[39m: \u001b[32mSet\u001b[39m[\u001b[32mExpression\u001b[39m] = \u001b[33mSet\u001b[39m(\n",
       "  \u001b[33mCoeff\u001b[39m(\u001b[33mZipFlatMap\u001b[39m(TargetTyps, TermsWithTyp, Proj2, Terms), Terms),\n",
       "  \u001b[33mFinalVal\u001b[39m(\n",
       "    \u001b[33mElem\u001b[39m(\n",
       "      \u001b[32m(@a : 𝒰 ) ↦ (@b : 𝒰 ) ↦ (@a : @a) ↦ (@a : (@a → @b)) ↦ @a(@a)\u001b[39m,\n",
       "      \u001b[33mAtCoord\u001b[39m(TermsWithTyp, \u001b[32m∏(A : 𝒰 ){ ∏(B : 𝒰 ){ (A → ((A → B) → B)) } }\u001b[39m :: HNil)\n",
       "    )\n",
       "  ),\n",
       "  \u001b[33mCoeff\u001b[39m(\n",
       "    \u001b[33mIsland\u001b[39m(\n",
       "      \u001b[33mAtCoord\u001b[39m(TermsWithTyp, \u001b[32m∏(A : 𝒰 ){ ∏(B : 𝒰 ){ (A → ((A → B) → B)) } }\u001b[39m :: HNil),\n",
       "      \u001b[33mPiOutput\u001b[39m(\u001b[32m∏(A : 𝒰 ){ ∏(B : 𝒰 ){ (A → ((A → B) → B)) } }\u001b[39m),\n",
       "      \u001b[33mAddVar\u001b[39m(\u001b[32m𝒰 \u001b[39m, \u001b[32m0.3\u001b[39m),\n",
       "      Lambda,\n",
       "      InIsle\n",
       "    ),\n",
       "    \u001b[33mAtCoord\u001b[39m(TermsWithTyp, \u001b[32m∏(A : 𝒰 ){ ∏(B : 𝒰 ){ (A → ((A → B) → B)) } }\u001b[39m :: HNil)\n",
       "  ),\n",
       "  \u001b[33mFinalVal\u001b[39m(\u001b[33mElem\u001b[39m(\u001b[32m∏(A : 𝒰 ){ ∏(B : 𝒰 ){ (A → ((A → B) → B)) } }\u001b[39m, TargetTyps)),\n",
       "  \u001b[33mFinalVal\u001b[39m(\n",
       "    \u001b[33mInIsle\u001b[39m(\n",
       "      \u001b[33mElem\u001b[39m(\n",
       "        \u001b[32m(@b : 𝒰 ) ↦ (@a : @a) ↦ (@a : (@a → @b)) ↦ @a(@a)\u001b[39m,\n",
       "        \u001b[33mAtCoord\u001b[39m(TermsWithTyp, \u001b[32m∏(B : 𝒰 ){ (@a → ((@a → B) → B)) }\u001b[39m :: HNil)\n",
       "      ),\n",
       "      \u001b[32m@a\u001b[39m,\n",
       "      \u001b[33mIsland\u001b[39m(\n",
       "        \u001b[33mAtCoord\u001b[39m(TermsWithTyp, \u001b[32m∏(A : 𝒰 ){ ∏(B : 𝒰 ){ (A → ((A → B) → B)) } }\u001b[39m :: HNil),\n",
       "        \u001b[33mPiOutput\u001b[39m(\u001b[32m∏(A : 𝒰 ){ ∏(B : 𝒰 ){ (A → ((A → B) → B)) } }\u001b[39m),\n",
       "        \u001b[33mAddVar\u001b[39m(\u001b[32m𝒰 \u001b[39m, \u001b[32m0.3\u001b[39m),\n",
       "        Lambda,\n",
       "        InIsle\n",
       "      )\n",
       "    )\n",
       "  )\n",
       ")"
      ]
     },
     "execution_count": 8,
     "metadata": {},
     "output_type": "execute_result"
    }
   ],
   "source": [
    "val ats = mpEqs.map(_.rhs).flatMap(Expression.atoms)"
   ]
  },
  {
   "cell_type": "code",
   "execution_count": 9,
   "metadata": {},
   "outputs": [
    {
     "data": {
      "text/plain": [
       "\u001b[36mcoeffs\u001b[39m: \u001b[32mVector\u001b[39m[\u001b[32mCoeff\u001b[39m[\u001b[32mAny\u001b[39m]] = \u001b[33mVector\u001b[39m(\n",
       "  \u001b[33mCoeff\u001b[39m(\u001b[33mZipFlatMap\u001b[39m(TargetTyps, TermsWithTyp, Proj2, Terms), Terms),\n",
       "  \u001b[33mCoeff\u001b[39m(\n",
       "    \u001b[33mIsland\u001b[39m(\n",
       "      \u001b[33mAtCoord\u001b[39m(TermsWithTyp, \u001b[32m∏(A : 𝒰 ){ ∏(B : 𝒰 ){ (A → ((A → B) → B)) } }\u001b[39m :: HNil),\n",
       "      \u001b[33mPiOutput\u001b[39m(\u001b[32m∏(A : 𝒰 ){ ∏(B : 𝒰 ){ (A → ((A → B) → B)) } }\u001b[39m),\n",
       "      \u001b[33mAddVar\u001b[39m(\u001b[32m𝒰 \u001b[39m, \u001b[32m0.3\u001b[39m),\n",
       "      Lambda,\n",
       "      InIsle\n",
       "    ),\n",
       "    \u001b[33mAtCoord\u001b[39m(TermsWithTyp, \u001b[32m∏(A : 𝒰 ){ ∏(B : 𝒰 ){ (A → ((A → B) → B)) } }\u001b[39m :: HNil)\n",
       "  )\n",
       ")"
      ]
     },
     "execution_count": 9,
     "metadata": {},
     "output_type": "execute_result"
    }
   ],
   "source": [
    "val coeffs = ats.collect{case cf @ Coeff(_, _) => cf}.toVector"
   ]
  },
  {
   "cell_type": "code",
   "execution_count": 10,
   "metadata": {},
   "outputs": [
    {
     "name": "stdout",
     "output_type": "stream",
     "text": [
      "\u001b[35mprovingground\u001b[39m.\u001b[35mlearning\u001b[39m.\u001b[35mGeneratorVariables\u001b[39m.\u001b[35mCoeff\u001b[39m#\u001b[35mgetFromCoeffs\u001b[39m:\u001b[32m328\u001b[39m \u001b[36mTry(fmly.nodesOpt(arg.asInstanceOf[u]))\u001b[39m: \u001b[33mSuccess\u001b[39m(\n",
      "  \u001b[33mSome\u001b[39m(\n",
      "    \u001b[33mIsland\u001b[39m(\n",
      "      \u001b[33mAtCoord\u001b[39m(\n",
      "        TermsWithTyp,\n",
      "        \u001b[33mPiDefn\u001b[39m(\n",
      "          \u001b[33mSymbTyp\u001b[39m(A, \u001b[32m0\u001b[39m),\n",
      "          \u001b[33mPiDefn\u001b[39m(\n",
      "            \u001b[33mSymbTyp\u001b[39m(B, \u001b[32m0\u001b[39m),\n",
      "            \u001b[33mFuncTyp\u001b[39m(\u001b[33mSymbTyp\u001b[39m(A, \u001b[32m0\u001b[39m), \u001b[33mFuncTyp\u001b[39m(\u001b[33mFuncTyp\u001b[39m(\u001b[33mSymbTyp\u001b[39m(A, \u001b[32m0\u001b[39m), \u001b[33mSymbTyp\u001b[39m(B, \u001b[32m0\u001b[39m)), \u001b[33mSymbTyp\u001b[39m(B, \u001b[32m0\u001b[39m)))\n",
      "          )\n",
      "        ) :: HNil\n",
      "      ),\n",
      "      \u001b[33mPiOutput\u001b[39m(\n",
      "        \u001b[33mPiDefn\u001b[39m(\n",
      "          \u001b[33mSymbTyp\u001b[39m(A, \u001b[32m0\u001b[39m),\n",
      "          \u001b[33mPiDefn\u001b[39m(\n",
      "            \u001b[33mSymbTyp\u001b[39m(B, \u001b[32m0\u001b[39m),\n",
      "            \u001b[33mFuncTyp\u001b[39m(\u001b[33mSymbTyp\u001b[39m(A, \u001b[32m0\u001b[39m), \u001b[33mFuncTyp\u001b[39m(\u001b[33mFuncTyp\u001b[39m(\u001b[33mSymbTyp\u001b[39m(A, \u001b[32m0\u001b[39m), \u001b[33mSymbTyp\u001b[39m(B, \u001b[32m0\u001b[39m)), \u001b[33mSymbTyp\u001b[39m(B, \u001b[32m0\u001b[39m)))\n",
      "          )\n",
      "        )\n",
      "      ),\n",
      "      \u001b[33mAddVar\u001b[39m(\u001b[33mUniverse\u001b[39m(\u001b[32m0\u001b[39m), \u001b[32m0.3\u001b[39m),\n",
      "      Lambda,\n",
      "      InIsle\n",
      "    )\n",
      "  )\n",
      ")\n",
      "\u001b[35mprovingground\u001b[39m.\u001b[35mlearning\u001b[39m.\u001b[35mGeneratorVariables\u001b[39m.\u001b[35mCoeff\u001b[39m#\u001b[35mgetFromCoeffs\u001b[39m:\u001b[32m329\u001b[39m \u001b[36marg\u001b[39m: \u001b[33mPiDefn\u001b[39m(\n",
      "  \u001b[33mSymbTyp\u001b[39m(A, \u001b[32m0\u001b[39m),\n",
      "  \u001b[33mPiDefn\u001b[39m(\n",
      "    \u001b[33mSymbTyp\u001b[39m(B, \u001b[32m0\u001b[39m),\n",
      "    \u001b[33mFuncTyp\u001b[39m(\u001b[33mSymbTyp\u001b[39m(A, \u001b[32m0\u001b[39m), \u001b[33mFuncTyp\u001b[39m(\u001b[33mFuncTyp\u001b[39m(\u001b[33mSymbTyp\u001b[39m(A, \u001b[32m0\u001b[39m), \u001b[33mSymbTyp\u001b[39m(B, \u001b[32m0\u001b[39m)), \u001b[33mSymbTyp\u001b[39m(B, \u001b[32m0\u001b[39m)))\n",
      "  )\n",
      ") :: HNil\n",
      "\u001b[35mprovingground\u001b[39m.\u001b[35mlearning\u001b[39m.\u001b[35mGeneratorVariables\u001b[39m.\u001b[35mCoeff\u001b[39m#\u001b[35mgetFromCoeffs\u001b[39m:\u001b[32m330\u001b[39m \u001b[36mnode\u001b[39m: \u001b[33mIsland\u001b[39m(\n",
      "  \u001b[33mAtCoord\u001b[39m(\n",
      "    TermsWithTyp,\n",
      "    \u001b[33mPiDefn\u001b[39m(\n",
      "      \u001b[33mSymbTyp\u001b[39m(A, \u001b[32m0\u001b[39m),\n",
      "      \u001b[33mPiDefn\u001b[39m(\n",
      "        \u001b[33mSymbTyp\u001b[39m(B, \u001b[32m0\u001b[39m),\n",
      "        \u001b[33mFuncTyp\u001b[39m(\u001b[33mSymbTyp\u001b[39m(A, \u001b[32m0\u001b[39m), \u001b[33mFuncTyp\u001b[39m(\u001b[33mFuncTyp\u001b[39m(\u001b[33mSymbTyp\u001b[39m(A, \u001b[32m0\u001b[39m), \u001b[33mSymbTyp\u001b[39m(B, \u001b[32m0\u001b[39m)), \u001b[33mSymbTyp\u001b[39m(B, \u001b[32m0\u001b[39m)))\n",
      "      )\n",
      "    ) :: HNil\n",
      "  ),\n",
      "  \u001b[33mPiOutput\u001b[39m(\n",
      "    \u001b[33mPiDefn\u001b[39m(\n",
      "      \u001b[33mSymbTyp\u001b[39m(A, \u001b[32m0\u001b[39m),\n",
      "      \u001b[33mPiDefn\u001b[39m(\n",
      "        \u001b[33mSymbTyp\u001b[39m(B, \u001b[32m0\u001b[39m),\n",
      "        \u001b[33mFuncTyp\u001b[39m(\u001b[33mSymbTyp\u001b[39m(A, \u001b[32m0\u001b[39m), \u001b[33mFuncTyp\u001b[39m(\u001b[33mFuncTyp\u001b[39m(\u001b[33mSymbTyp\u001b[39m(A, \u001b[32m0\u001b[39m), \u001b[33mSymbTyp\u001b[39m(B, \u001b[32m0\u001b[39m)), \u001b[33mSymbTyp\u001b[39m(B, \u001b[32m0\u001b[39m)))\n",
      "      )\n",
      "    )\n",
      "  ),\n",
      "  \u001b[33mAddVar\u001b[39m(\u001b[33mUniverse\u001b[39m(\u001b[32m0\u001b[39m), \u001b[32m0.3\u001b[39m),\n",
      "  Lambda,\n",
      "  InIsle\n",
      ")\n",
      "\u001b[35mprovingground\u001b[39m.\u001b[35mlearning\u001b[39m.\u001b[35mGeneratorVariables\u001b[39m.\u001b[35mCoeff\u001b[39m#\u001b[35mgetFromCoeffs\u001b[39m:\u001b[32m331\u001b[39m \u001b[36mfamily\u001b[39m: TermsWithTyp\n"
     ]
    },
    {
     "data": {
      "text/plain": [
       "\u001b[36mres9\u001b[39m: \u001b[32mVector\u001b[39m[\u001b[32mOption\u001b[39m[\u001b[32mDouble\u001b[39m]] = \u001b[33mVector\u001b[39m(\u001b[33mSome\u001b[39m(\u001b[32m0.05\u001b[39m), \u001b[33mSome\u001b[39m(\u001b[32m0.485\u001b[39m))"
      ]
     },
     "execution_count": 10,
     "metadata": {},
     "output_type": "execute_result"
    }
   ],
   "source": [
    "coeffs.map(_.get(tg.nodeCoeffSeq))"
   ]
  },
  {
   "cell_type": "code",
   "execution_count": 11,
   "metadata": {},
   "outputs": [
    {
     "data": {
      "text/plain": [
       "\u001b[36mres10\u001b[39m: \u001b[32mVector\u001b[39m[\u001b[32mRandomVarFamily\u001b[39m[\u001b[32m_\u001b[39m, \u001b[32mAny\u001b[39m] forSome { type \u001b[32m_\u001b[39m <: \u001b[32mshapeless\u001b[39m.\u001b[32mHList\u001b[39m }] = \u001b[33mVector\u001b[39m(\n",
       "  Terms,\n",
       "  TermsWithTyp\n",
       ")"
      ]
     },
     "execution_count": 11,
     "metadata": {},
     "output_type": "execute_result"
    }
   ],
   "source": [
    "coeffs.map(_.expand)"
   ]
  },
  {
   "cell_type": "code",
   "execution_count": 12,
   "metadata": {},
   "outputs": [
    {
     "data": {
      "text/plain": [
       "\u001b[36mres11\u001b[39m: \u001b[32mOption\u001b[39m[\u001b[32mNodeCoeffs\u001b[39m[\u001b[32mTermState\u001b[39m, \u001b[32mTerm\u001b[39m, \u001b[32mDouble\u001b[39m, \u001b[32mshapeless\u001b[39m.\u001b[32m::\u001b[39m[\u001b[32mTyp\u001b[39m[\u001b[32mTerm\u001b[39m], \u001b[32mshapeless\u001b[39m.\u001b[32mHNil\u001b[39m], \u001b[32mTerm\u001b[39m]] = \u001b[33mSome\u001b[39m(\n",
       "  \u001b[33mBaseCons\u001b[39m(\n",
       "    \u001b[33mBasePi\u001b[39m(provingground.learning.RandomVarFamily$$Lambda$3408/2037891870@1613c6a6, TermsWithTyp),\n",
       "    \u001b[32m0.16500000000000004\u001b[39m,\n",
       "    \u001b[33mBaseCons\u001b[39m(\n",
       "      \u001b[33mBasePi\u001b[39m(provingground.learning.GeneratorNode$$Lambda$3411/421800218@1ef36092, TermsWithTyp),\n",
       "      \u001b[32m0.1\u001b[39m,\n",
       "      \u001b[33mBaseCons\u001b[39m(\n",
       "        \u001b[33mBasePi\u001b[39m(provingground.learning.GeneratorNode$$Lambda$3411/421800218@2627e1b5, TermsWithTyp),\n",
       "        \u001b[32m0.1\u001b[39m,\n",
       "        \u001b[33mBaseCons\u001b[39m(\n",
       "          \u001b[33mBasePi\u001b[39m(provingground.learning.GeneratorNode$$Lambda$3411/421800218@37f6da5b, TermsWithTyp),\n",
       "          \u001b[32m0.1\u001b[39m,\n",
       "          \u001b[33mBaseCons\u001b[39m(\n",
       "            \u001b[33mBasePiOpt\u001b[39m(\n",
       "              provingground.learning.TermGeneratorNodes$$Lambda$3401/1433554954@234575a7,\n",
       "              TermsWithTyp\n",
       "            ),\n",
       "            \u001b[32m0.485\u001b[39m,\n",
       "            \u001b[33mTarget\u001b[39m(TermsWithTyp)\n",
       "          )\n",
       "        )\n",
       "      )\n",
       "    )\n",
       "  )\n",
       ")"
      ]
     },
     "execution_count": 12,
     "metadata": {},
     "output_type": "execute_result"
    }
   ],
   "source": [
    "tg.nodeCoeffSeq.find(TermsWithTyp)"
   ]
  },
  {
   "cell_type": "code",
   "execution_count": 13,
   "metadata": {},
   "outputs": [
    {
     "data": {
      "text/plain": [
       "\u001b[36mres12\u001b[39m: \u001b[32mVector\u001b[39m[\u001b[32mRandomVar\u001b[39m[\u001b[32mAny\u001b[39m]] = \u001b[33mVector\u001b[39m(\n",
       "  Terms,\n",
       "  \u001b[33mAtCoord\u001b[39m(TermsWithTyp, \u001b[32m∏(A : 𝒰 ){ ∏(B : 𝒰 ){ (A → ((A → B) → B)) } }\u001b[39m :: HNil)\n",
       ")"
      ]
     },
     "execution_count": 13,
     "metadata": {},
     "output_type": "execute_result"
    }
   ],
   "source": [
    "coeffs.map(_.rv)"
   ]
  },
  {
   "cell_type": "code",
   "execution_count": 14,
   "metadata": {},
   "outputs": [
    {
     "data": {
      "text/plain": [
       "\u001b[36mres13\u001b[39m: \u001b[32mVector\u001b[39m[\u001b[32mGeneratorNode\u001b[39m[\u001b[32mAny\u001b[39m]] = \u001b[33mVector\u001b[39m(\n",
       "  \u001b[33mZipFlatMap\u001b[39m(TargetTyps, TermsWithTyp, Proj2, Terms),\n",
       "  \u001b[33mIsland\u001b[39m(\n",
       "    \u001b[33mAtCoord\u001b[39m(TermsWithTyp, \u001b[32m∏(A : 𝒰 ){ ∏(B : 𝒰 ){ (A → ((A → B) → B)) } }\u001b[39m :: HNil),\n",
       "    \u001b[33mPiOutput\u001b[39m(\u001b[32m∏(A : 𝒰 ){ ∏(B : 𝒰 ){ (A → ((A → B) → B)) } }\u001b[39m),\n",
       "    \u001b[33mAddVar\u001b[39m(\u001b[32m𝒰 \u001b[39m, \u001b[32m0.3\u001b[39m),\n",
       "    Lambda,\n",
       "    InIsle\n",
       "  )\n",
       ")"
      ]
     },
     "execution_count": 14,
     "metadata": {},
     "output_type": "execute_result"
    }
   ],
   "source": [
    "coeffs.map(_.node)"
   ]
  },
  {
   "cell_type": "code",
   "execution_count": null,
   "metadata": {},
   "outputs": [],
   "source": []
  }
 ],
 "metadata": {
  "kernelspec": {
   "display_name": "Scala",
   "language": "scala",
   "name": "scala"
  },
  "language_info": {
   "codemirror_mode": "text/x-scala",
   "file_extension": ".scala",
   "mimetype": "text/x-scala",
   "name": "scala",
   "nbconvert_exporter": "script",
   "version": "2.12.8"
  }
 },
 "nbformat": 4,
 "nbformat_minor": 2
}
