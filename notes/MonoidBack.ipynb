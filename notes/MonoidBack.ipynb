{
 "cells": [
  {
   "cell_type": "markdown",
   "metadata": {},
   "source": [
    "## Backward reasoning\n",
    "\n",
    "We test backward reasoning for the $e_l = e_r$ in a monoid."
   ]
  },
  {
   "cell_type": "code",
   "execution_count": 1,
   "metadata": {},
   "outputs": [
    {
     "data": {
      "text/plain": [
       "\u001b[32mimport \u001b[39m\u001b[36m$ivy.$                                       \u001b[39m"
      ]
     },
     "execution_count": 1,
     "metadata": {},
     "output_type": "execute_result"
    }
   ],
   "source": [
    "import $ivy.`in.ac.iisc.math::core-jvm:0.1-SNAPSHOT`"
   ]
  },
  {
   "cell_type": "code",
   "execution_count": 2,
   "metadata": {},
   "outputs": [
    {
     "data": {
      "text/plain": [
       "\u001b[32mimport \u001b[39m\u001b[36mprovingground._ , interface._, HoTT._\n",
       "\u001b[39m\n",
       "\u001b[32mimport \u001b[39m\u001b[36mlearning._\n",
       "\u001b[39m\n",
       "\u001b[32mimport \u001b[39m\u001b[36mlibrary._, MonoidSimple._\u001b[39m"
      ]
     },
     "execution_count": 2,
     "metadata": {},
     "output_type": "execute_result"
    }
   ],
   "source": [
    "import provingground._ , interface._, HoTT._\n",
    "import learning._\n",
    "import library._, MonoidSimple._"
   ]
  },
  {
   "cell_type": "code",
   "execution_count": 3,
   "metadata": {},
   "outputs": [],
   "source": [
    "repl.pprinter.bind(translation.FansiShow.fansiPrint)"
   ]
  },
  {
   "cell_type": "code",
   "execution_count": 4,
   "metadata": {},
   "outputs": [
    {
     "data": {
      "text/plain": [
       "\u001b[36mtg\u001b[39m: \u001b[32mTermGenParams\u001b[39m = \u001b[33mTermGenParams\u001b[39m(\u001b[32m0.1\u001b[39m, \u001b[32m0.1\u001b[39m, \u001b[32m0.1\u001b[39m, \u001b[32m0.0\u001b[39m, \u001b[32m0.0\u001b[39m, \u001b[32m0.05\u001b[39m, \u001b[32m0.05\u001b[39m, \u001b[32m0.05\u001b[39m, \u001b[32m0.3\u001b[39m, \u001b[32m0.7\u001b[39m, \u001b[32m0.5\u001b[39m)"
      ]
     },
     "execution_count": 4,
     "metadata": {},
     "output_type": "execute_result"
    }
   ],
   "source": [
    "val tg = TermGenParams(lmW=0, piW=0)"
   ]
  },
  {
   "cell_type": "code",
   "execution_count": 5,
   "metadata": {},
   "outputs": [
    {
     "data": {
      "text/plain": [
       "\u001b[36mts\u001b[39m: \u001b[32mTermState\u001b[39m = \u001b[33mTermState\u001b[39m(\n",
       "  \u001b[33mFiniteDistribution\u001b[39m(\n",
       "    \u001b[33mVector\u001b[39m(\n",
       "      \u001b[33mWeighted\u001b[39m(\u001b[32me_l\u001b[39m, \u001b[32m0.047619047619047616\u001b[39m),\n",
       "      \u001b[33mWeighted\u001b[39m(\u001b[32me_r\u001b[39m, \u001b[32m0.047619047619047616\u001b[39m),\n",
       "      \u001b[33mWeighted\u001b[39m(\u001b[32mmul\u001b[39m, \u001b[32m0.047619047619047616\u001b[39m),\n",
       "      \u001b[33mWeighted\u001b[39m(\u001b[32meqM\u001b[39m, \u001b[32m0.047619047619047616\u001b[39m),\n",
       "      \u001b[33mWeighted\u001b[39m(\u001b[32maxiom_{eqM(a)(a)}\u001b[39m, \u001b[32m0.047619047619047616\u001b[39m),\n",
       "      \u001b[33mWeighted\u001b[39m(\u001b[32maxiom_{(eqM(a)(b) \\to eqM(b)(a))}\u001b[39m, \u001b[32m0.047619047619047616\u001b[39m),\n",
       "      \u001b[33mWeighted\u001b[39m(\u001b[32maxiom_{(eqM(a)(b) \\to (eqM(b)(c) \\to eqM(a)(c)))}\u001b[39m, \u001b[32m0.047619047619047616\u001b[39m),\n",
       "      \u001b[33mWeighted\u001b[39m(\u001b[32maxiom_{eqM(mul(e_l)(a))(a)}\u001b[39m, \u001b[32m0.047619047619047616\u001b[39m),\n",
       "      \u001b[33mWeighted\u001b[39m(\u001b[32maxiom_{eqM(mul(a)(e_r))(a)}\u001b[39m, \u001b[32m0.047619047619047616\u001b[39m),\n",
       "      \u001b[33mWeighted\u001b[39m(\u001b[32meqM\u001b[39m, \u001b[32m0.2857142857142857\u001b[39m),\n",
       "      \u001b[33mWeighted\u001b[39m(\u001b[32mmul\u001b[39m, \u001b[32m0.2857142857142857\u001b[39m)\n",
       "    )\n",
       "  ),\n",
       "  \u001b[33mFiniteDistribution\u001b[39m(\n",
       "    \u001b[33mVector\u001b[39m(\n",
       "      \u001b[33mWeighted\u001b[39m(\u001b[32mM\u001b[39m, \u001b[32m0.047619047619047616\u001b[39m),\n",
       "      \u001b[33mWeighted\u001b[39m(\u001b[32mM\u001b[39m, \u001b[32m0.047619047619047616\u001b[39m),\n",
       "      \u001b[33mWeighted\u001b[39m(\u001b[32m(M → (M → M))\u001b[39m, \u001b[32m0.047619047619047616\u001b[39m),\n",
       "      \u001b[33mWeighted\u001b[39m(\u001b[32m(M → (M → 𝒰 ))\u001b[39m, \u001b[32m0.047619047619047616\u001b[39m),\n",
       "      \u001b[33mWeighted\u001b[39m(\u001b[32m∏(a : M){ eqM(a)(a) }\u001b[39m, \u001b[32m0.047619047619047616\u001b[39m),\n",
       "      \u001b[33mWeighted\u001b[39m(\u001b[32m∏(a : M){ ∏(b : M){ (eqM(a)(b) → eqM(b)(a)) } }\u001b[39m, \u001b[32m0.047619047619047616\u001b[39m),\n",
       "      \u001b[33mWeighted\u001b[39m(\n",
       "        \u001b[32m∏(a : M){ ∏(b : M){ ∏(c : M){ (eqM(a)(b) → (eqM(b)(c) → eqM(a)(c))) } } }\u001b[39m,\n",
       "        \u001b[32m0.047619047619047616\u001b[39m\n",
       "      ),\n",
       "      \u001b[33mWeighted\u001b[39m(\u001b[32m∏(a : M){ eqM(mul(e_l)(a))(a) }\u001b[39m, \u001b[32m0.047619047619047616\u001b[39m),\n",
       "      \u001b[33mWeighted\u001b[39m(\u001b[32m∏(a : M){ eqM(mul(a)(e_r))(a) }\u001b[39m, \u001b[32m0.047619047619047616\u001b[39m),\n",
       "      \u001b[33mWeighted\u001b[39m(\u001b[32m(M → (M → 𝒰 ))\u001b[39m, \u001b[32m0.2857142857142857\u001b[39m),\n",
       "      \u001b[33mWeighted\u001b[39m(\u001b[32m(M → (M → M))\u001b[39m, \u001b[32m0.2857142857142857\u001b[39m)\n",
       "    )\n",
       "  ),\n",
       "  \u001b[33mVector\u001b[39m(),\n",
       "  \u001b[33mFiniteDistribution\u001b[39m(\u001b[33mVector\u001b[39m()),\n",
       "  \u001b[33mFiniteDistribution\u001b[39m(\u001b[33mVector\u001b[39m()),\n",
       "  Empty\n",
       ")"
      ]
     },
     "execution_count": 5,
     "metadata": {},
     "output_type": "execute_result"
    }
   ],
   "source": [
    "val ts = TermState(dist1, dist1.map(_.typ))"
   ]
  },
  {
   "cell_type": "code",
   "execution_count": 6,
   "metadata": {},
   "outputs": [
    {
     "data": {
      "text/plain": [
       "\u001b[36mmfd\u001b[39m: \u001b[32mMonixFiniteDistribution\u001b[39m[\u001b[32mTermState\u001b[39m, \u001b[32mTerm\u001b[39m] = \u001b[33mMonixFiniteDistribution\u001b[39m(\n",
       "  \u001b[33mCons\u001b[39m(\n",
       "    \u001b[33mBaseCons\u001b[39m(\n",
       "      \u001b[33mBasePi\u001b[39m(\n",
       "        provingground.learning.RandomVarFamily$$Lambda$3725/1386453770@2f6152ab,\n",
       "        FuncsWithDomain\n",
       "      ),\n",
       "      \u001b[32m0.65\u001b[39m,\n",
       "      \u001b[33mBaseCons\u001b[39m(\n",
       "        \u001b[33mBasePi\u001b[39m(\n",
       "          provingground.learning.GeneratorNode$$Lambda$3728/174731559@7457e33e,\n",
       "          FuncsWithDomain\n",
       "        ),\n",
       "        \u001b[32m0.1\u001b[39m,\n",
       "        \u001b[33mBaseCons\u001b[39m(\n",
       "          \u001b[33mBasePi\u001b[39m(\n",
       "            provingground.learning.GeneratorNode$$Lambda$3728/174731559@325f1144,\n",
       "            FuncsWithDomain\n",
       "          ),\n",
       "          \u001b[32m0.1\u001b[39m,\n",
       "          \u001b[33mBaseCons\u001b[39m(\n",
       "            \u001b[33mBasePi\u001b[39m(\n",
       "              provingground.learning.GeneratorNode$$Lambda$3728/174731559@747a8732,\n",
       "              FuncsWithDomain\n",
       "            ),\n",
       "            \u001b[32m0.1\u001b[39m,\n",
       "            \u001b[33mBaseCons\u001b[39m(\n",
       "              \u001b[33mBasePi\u001b[39m(\n",
       "                provingground.learning.TermGeneratorNodes$$Lambda$3714/1380443839@23b2add,\n",
       "                FuncsWithDomain\n",
       "              ),\n",
       "              \u001b[32m0.0\u001b[39m,\n",
       "              \u001b[33mTarget\u001b[39m(FuncsWithDomain)\n",
       "            )\n",
       "          )\n",
       "        )\n",
       "      )\n",
       "    ),\n",
       "    \u001b[33mCons\u001b[39m(\n",
       "      \u001b[33mBaseCons\u001b[39m(\n",
       "        \u001b[33mMap\u001b[39m(\n",
       "          provingground.learning.TermRandomVars$TargetTyps$$$Lambda$3731/1122408994@55edea41,\n",
       "          Goals,\n",
       "          TargetTyps\n",
       "        ),\n",
       "        \u001b[32m0.7\u001b[39m,\n",
       "        \u001b[33mBaseCons\u001b[39m(\n",
       "          \u001b[33mMap\u001b[39m(\n",
       "            provingground.learning.TermRandomVars$TargetTyps$$$Lambda$3732/498826002@50219eb4,\n",
       "..."
      ]
     },
     "execution_count": 6,
     "metadata": {},
     "output_type": "execute_result"
    }
   ],
   "source": [
    "val mfd = tg.monixFD"
   ]
  },
  {
   "cell_type": "code",
   "execution_count": 7,
   "metadata": {},
   "outputs": [
    {
     "data": {
      "text/plain": [
       "\u001b[36mtgT\u001b[39m: \u001b[32mmonix\u001b[39m.\u001b[32meval\u001b[39m.\u001b[32mTask\u001b[39m[\u001b[32mFiniteDistribution\u001b[39m[\u001b[32mTerm\u001b[39m]] = \u001b[33mMap\u001b[39m(\n",
       "  \u001b[33mFlatMap\u001b[39m(\u001b[33mAsync\u001b[39m(<function2>, true, true, true), monix.eval.Task$$Lambda$3937/995425622@671a2702),\n",
       "  provingground.learning.MonixFiniteDistribution$$Lambda$3938/1345448077@339db29c,\n",
       "  \u001b[32m0\u001b[39m\n",
       ")"
      ]
     },
     "execution_count": 7,
     "metadata": {},
     "output_type": "execute_result"
    }
   ],
   "source": [
    "val tgT = mfd.nodeDist(ts)(tg.Gen.codomainNode(eqM(l)(r)), 0.0001)"
   ]
  },
  {
   "cell_type": "markdown",
   "metadata": {},
   "source": [
    "The above is looking at backward reasoning for $e_l = e_r$. We see that \n",
    "\n",
    "* we get mainly two terms, which is the use of symmetry and transitivity.\n",
    "* symmetry has no additional parameter, i.e., we are looking for exactly a proof of $e_r = e_l$.\n",
    "* transitivity has exactly one parameter, so for $x : M$ we look for $e_l = x$ and $x = e_r$."
   ]
  },
  {
   "cell_type": "code",
   "execution_count": 8,
   "metadata": {},
   "outputs": [
    {
     "data": {
      "text/plain": [
       "\u001b[32mimport \u001b[39m\u001b[36mmonix.execution.Scheduler.Implicits.global\n",
       "\u001b[39m\n",
       "\u001b[36mtgD\u001b[39m: \u001b[32mFiniteDistribution\u001b[39m[\u001b[32mTerm\u001b[39m] = \u001b[33mFiniteDistribution\u001b[39m(\n",
       "  \u001b[33mVector\u001b[39m(\n",
       "    \u001b[33mWeighted\u001b[39m(\n",
       "      \u001b[32m($dqzs : eqM(e_r)(e_l)) ↦ axiom_{(eqM(a)(b) \\to eqM(b)(a))}(e_r)(e_l)($dqzs)\u001b[39m,\n",
       "      \u001b[32m0.28319388018866914\u001b[39m\n",
       "    ),\n",
       "    \u001b[33mWeighted\u001b[39m(\n",
       "      \u001b[32m($drdp : eqM(e_r)(e_l)) ↦ axiom_{(eqM(a)(b) \\to eqM(b)(a))}(e_r)(e_l)($drdp)\u001b[39m,\n",
       "      \u001b[32m0.006165815103151755\u001b[39m\n",
       "    ),\n",
       "    \u001b[33mWeighted\u001b[39m(\n",
       "      \u001b[32m(_ : eqM($drfn)(e_r)) ↦ (_ : eqM(e_l)($drfn)) ↦ ($drfn : M) ↦ axiom_{(eqM(a)(b) \\to (eqM(b)(c) \\to eqM(a)(c)))}(e_l)($drfn)(e_r)($drfp)($drfq)\u001b[39m,\n",
       "      \u001b[32m0.28319388018866914\u001b[39m\n",
       "    ),\n",
       "    \u001b[33mWeighted\u001b[39m(\n",
       "      \u001b[32m($dsaz : eqM(mul(e_r)(e_l))(e_r)) ↦ ($dsay : eqM(e_l)(mul(e_r)(e_l))) ↦ axiom_{(eqM(a)(b) \\to (eqM(b)(c) \\to eqM(a)(c)))}(e_l)(mul(e_r)(e_l))(e_r)($dsay)($dsaz)\u001b[39m,\n",
       "      \u001b[32m0.0018918021974113543\u001b[39m\n",
       "    ),\n",
       "    \u001b[33mWeighted\u001b[39m(\n",
       "      \u001b[32m(_ : eqM($dsqe)(e_r)) ↦ (_ : eqM(e_l)($dsqe)) ↦ ($dsqe : M) ↦ axiom_{(eqM(a)(b) \\to (eqM(b)(c) \\to eqM(a)(c)))}(e_l)($dsqe)(e_r)($dsqg)($dsqh)\u001b[39m,\n",
       "      \u001b[32m0.0406269447731658\u001b[39m\n",
       "    ),\n",
       "    \u001b[33mWeighted\u001b[39m(\n",
       "      \u001b[32m($dtlw : eqM(e_r)(e_r)) ↦ ($dtlv : eqM(e_l)(e_r)) ↦ axiom_{(eqM(a)(b) \\to (eqM(b)(c) \\to eqM(a)(c)))}(e_l)(e_r)(e_r)($dtlv)($dtlw)\u001b[39m,\n",
       "      \u001b[32m0.006165815103151755\u001b[39m\n",
       "    ),\n",
       "    \u001b[33mWeighted\u001b[39m(\u001b[32maxiom_{eqM(a)(a)}(e_r)\u001b[39m, \u001b[32m0.28319388018866914\u001b[39m),\n",
       "    \u001b[33mWeighted\u001b[39m(\n",
       "      \u001b[32m($duaw : eqM(mul(e_l)(e_l))(e_r)) ↦ ($duav : eqM(e_l)(mul(e_l)(e_l))) ↦ axiom_{(eqM(a)(b) \\to (eqM(b)(c) \\to eqM(a)(c)))}(e_l)(mul(e_l)(e_l))(e_r)($duav)($duaw)\u001b[39m,\n",
       "      \u001b[32m0.0018918021974113543\u001b[39m\n",
       "    ),\n",
       "    \u001b[33mWeighted\u001b[39m(\n",
       "      \u001b[32m(_ : eqM(e_l)(e_l)) ↦ axiom_{(eqM(a)(b) \\to eqM(b)(a))}(e_r)(e_r)($duom)\u001b[39m,\n",
       "      \u001b[32m0.0406269447731658\u001b[39m\n",
       "    ),\n",
       "    \u001b[33mWeighted\u001b[39m(\n",
       "      \u001b[32m($durp : eqM(mul(e_l)(e_r))(e_r)) ↦ ($duro : eqM(e_l)(mul(e_l)(e_r))) ↦ axiom_{(eqM(a)(b) \\to (eqM(b)(c) \\to eqM(a)(c)))}(e_l)(mul(e_l)(e_r))(e_r)($duro)($durp)\u001b[39m,\n",
       "      \u001b[32m0.0018918021974113543\u001b[39m\n",
       "    ),\n",
       "    \u001b[33mWeighted\u001b[39m(\n",
       "      \u001b[32m($dvex : eqM(e_l)(e_r)) ↦ ($dvew : eqM(e_l)(e_l)) ↦ axiom_{(eqM(a)(b) \\to (eqM(b)(c) \\to eqM(a)(c)))}(e_l)(e_l)(e_r)($dvew)($dvex)\u001b[39m,\n",
       "      \u001b[32m0.006165815103151755\u001b[39m\n",
       "..."
      ]
     },
     "execution_count": 8,
     "metadata": {},
     "output_type": "execute_result"
    }
   ],
   "source": [
    "import monix.execution.Scheduler.Implicits.global\n",
    "val tgD = tgT.runSyncUnsafe()"
   ]
  },
  {
   "cell_type": "code",
   "execution_count": 9,
   "metadata": {},
   "outputs": [
    {
     "data": {
      "text/plain": [
       "\u001b[36mtgT1\u001b[39m: \u001b[32mmonix\u001b[39m.\u001b[32meval\u001b[39m.\u001b[32mTask\u001b[39m[\u001b[32mFiniteDistribution\u001b[39m[\u001b[32mTerm\u001b[39m]] = \u001b[33mMap\u001b[39m(\n",
       "  \u001b[33mFlatMap\u001b[39m(\u001b[33mAsync\u001b[39m(<function2>, true, true, true), monix.eval.Task$$Lambda$3937/995425622@63b44e35),\n",
       "  provingground.learning.MonixFiniteDistribution$$Lambda$3938/1345448077@3003da18,\n",
       "  \u001b[32m0\u001b[39m\n",
       ")"
      ]
     },
     "execution_count": 9,
     "metadata": {},
     "output_type": "execute_result"
    }
   ],
   "source": [
    "val tgT1 = mfd.nodeDist(ts)(tg.Gen.codomainNode(eqM(op(l)(r))(r)), 0.0001)"
   ]
  },
  {
   "cell_type": "markdown",
   "metadata": {},
   "source": [
    "We are next targeting $e_l * e_r = e_r$. Here the main thing we see is we get a proof with weight $0.3$ straightaway. We also get symmetry and transitivity as before."
   ]
  },
  {
   "cell_type": "code",
   "execution_count": 10,
   "metadata": {},
   "outputs": [
    {
     "data": {
      "text/plain": [
       "\u001b[36mtgD1\u001b[39m: \u001b[32mFiniteDistribution\u001b[39m[\u001b[32mTerm\u001b[39m] = \u001b[33mFiniteDistribution\u001b[39m(\n",
       "  \u001b[33mVector\u001b[39m(\n",
       "    \u001b[33mWeighted\u001b[39m(\n",
       "      \u001b[32m($iwyx : eqM(e_r)(mul(e_l)(e_r))) ↦ axiom_{(eqM(a)(b) \\to eqM(b)(a))}(e_r)(mul(e_l)(e_r))($iwyx)\u001b[39m,\n",
       "      \u001b[32m0.19042831519470402\u001b[39m\n",
       "    ),\n",
       "    \u001b[33mWeighted\u001b[39m(\n",
       "      \u001b[32m(_ : eqM(mul(e_l)(e_r))(mul(e_l)(e_r))) ↦ axiom_{(eqM(a)(b) \\to eqM(b)(a))}(e_r)(e_r)($ixdw)\u001b[39m,\n",
       "      \u001b[32m0.008328583899404744\u001b[39m\n",
       "    ),\n",
       "    \u001b[33mWeighted\u001b[39m(\n",
       "      \u001b[32m(_ : eqM($ixig)(e_r)) ↦ (_ : eqM(mul(e_l)(e_r))($ixig)) ↦ ($ixig : M) ↦ axiom_{(eqM(a)(b) \\to (eqM(b)(c) \\to eqM(a)(c)))}(mul(e_l)(e_r))($ixig)(e_r)($ixii)($ixij)\u001b[39m,\n",
       "      \u001b[32m0.19042831519470402\u001b[39m\n",
       "    ),\n",
       "    \u001b[33mWeighted\u001b[39m(\u001b[32maxiom_{eqM(mul(e_l)(a))(a)}(e_r)\u001b[39m, \u001b[32m0.19042831519470402\u001b[39m),\n",
       "    \u001b[33mWeighted\u001b[39m(\n",
       "      \u001b[32m($iypk : eqM(e_r)(mul(e_l)(e_r))) ↦ axiom_{(eqM(a)(b) \\to eqM(b)(a))}(e_r)(mul(e_l)(e_r))($iypk)\u001b[39m,\n",
       "      \u001b[32m0.001272106250653001\u001b[39m\n",
       "    ),\n",
       "    \u001b[33mWeighted\u001b[39m(\n",
       "      \u001b[32m($iysh : eqM(e_l)(e_r)) ↦ axiom_{(eqM(a)(b) \\to (eqM(b)(c) \\to eqM(a)(c)))}(mul(e_l)(e_r))(e_l)(e_r)(axiom_{eqM(mul(a)(e_r))(a)}(e_l))($iysh)\u001b[39m,\n",
       "      \u001b[32m0.0013051685078530825\u001b[39m\n",
       "    ),\n",
       "    \u001b[33mWeighted\u001b[39m(\u001b[32maxiom_{eqM(mul(a)(e_r))(a)}(e_r)\u001b[39m, \u001b[32m0.19042831519470402\u001b[39m),\n",
       "    \u001b[33mWeighted\u001b[39m(\u001b[32maxiom_{eqM(a)(a)}(e_r)\u001b[39m, \u001b[32m0.19042831519470402\u001b[39m),\n",
       "    \u001b[33mWeighted\u001b[39m(\n",
       "      \u001b[32m($izfi : eqM(e_r)(e_r)) ↦ axiom_{(eqM(a)(b) \\to (eqM(b)(c) \\to eqM(a)(c)))}(mul(e_l)(e_r))(e_r)(e_r)(axiom_{eqM(mul(e_l)(a))(a)}(e_r))($izfi)\u001b[39m,\n",
       "      \u001b[32m0.0013051685078530825\u001b[39m\n",
       "    ),\n",
       "    \u001b[33mWeighted\u001b[39m(\n",
       "      \u001b[32m(_ : eqM($iznu)(e_r)) ↦ (_ : eqM(mul(e_l)(e_r))($iznu)) ↦ ($iznu : M) ↦ axiom_{(eqM(a)(b) \\to (eqM(b)(c) \\to eqM(a)(c)))}(mul(e_l)(e_r))($iznu)(e_r)($iznw)($iznx)\u001b[39m,\n",
       "      \u001b[32m0.008328583899404744\u001b[39m\n",
       "    ),\n",
       "    \u001b[33mWeighted\u001b[39m(\n",
       "      \u001b[32m($jbdr : eqM(e_r)(mul(e_l)(e_r))) ↦ axiom_{(eqM(a)(b) \\to eqM(b)(a))}(e_r)(mul(e_l)(e_r))($jbdr)\u001b[39m,\n",
       "      \u001b[32m0.02731881296131129\u001b[39m\n",
       "    )\n",
       "  )\n",
       ")"
      ]
     },
     "execution_count": 10,
     "metadata": {},
     "output_type": "execute_result"
    }
   ],
   "source": [
    "val tgD1 = tgT1.runSyncUnsafe()"
   ]
  },
  {
   "cell_type": "code",
   "execution_count": 11,
   "metadata": {},
   "outputs": [
    {
     "data": {
      "text/plain": [
       "\u001b[36mres10\u001b[39m: \u001b[32mFiniteDistribution\u001b[39m[\u001b[32mTerm\u001b[39m] = \u001b[33mFiniteDistribution\u001b[39m(\n",
       "  \u001b[33mVector\u001b[39m(\n",
       "    \u001b[33mWeighted\u001b[39m(\u001b[32me_l\u001b[39m, \u001b[32m0.047619047619047616\u001b[39m),\n",
       "    \u001b[33mWeighted\u001b[39m(\u001b[32me_r\u001b[39m, \u001b[32m0.047619047619047616\u001b[39m),\n",
       "    \u001b[33mWeighted\u001b[39m(\u001b[32mmul\u001b[39m, \u001b[32m0.047619047619047616\u001b[39m),\n",
       "    \u001b[33mWeighted\u001b[39m(\u001b[32meqM\u001b[39m, \u001b[32m0.047619047619047616\u001b[39m),\n",
       "    \u001b[33mWeighted\u001b[39m(\u001b[32maxiom_{eqM(a)(a)}\u001b[39m, \u001b[32m0.047619047619047616\u001b[39m),\n",
       "    \u001b[33mWeighted\u001b[39m(\u001b[32maxiom_{(eqM(a)(b) \\to eqM(b)(a))}\u001b[39m, \u001b[32m0.047619047619047616\u001b[39m),\n",
       "    \u001b[33mWeighted\u001b[39m(\u001b[32maxiom_{(eqM(a)(b) \\to (eqM(b)(c) \\to eqM(a)(c)))}\u001b[39m, \u001b[32m0.047619047619047616\u001b[39m),\n",
       "    \u001b[33mWeighted\u001b[39m(\u001b[32maxiom_{eqM(mul(e_l)(a))(a)}\u001b[39m, \u001b[32m0.047619047619047616\u001b[39m),\n",
       "    \u001b[33mWeighted\u001b[39m(\u001b[32maxiom_{eqM(mul(a)(e_r))(a)}\u001b[39m, \u001b[32m0.047619047619047616\u001b[39m),\n",
       "    \u001b[33mWeighted\u001b[39m(\u001b[32meqM\u001b[39m, \u001b[32m0.2857142857142857\u001b[39m),\n",
       "    \u001b[33mWeighted\u001b[39m(\u001b[32mmul\u001b[39m, \u001b[32m0.2857142857142857\u001b[39m)\n",
       "  )\n",
       ")"
      ]
     },
     "execution_count": 11,
     "metadata": {},
     "output_type": "execute_result"
    }
   ],
   "source": [
    "ts.terms"
   ]
  },
  {
   "cell_type": "code",
   "execution_count": 12,
   "metadata": {},
   "outputs": [
    {
     "data": {
      "text/plain": [
       "\u001b[36mres11\u001b[39m: \u001b[32mFiniteDistribution\u001b[39m[\u001b[32mTerm\u001b[39m] = \u001b[33mFiniteDistribution\u001b[39m(\n",
       "  \u001b[33mVector\u001b[39m(\u001b[33mWeighted\u001b[39m(\u001b[32maxiom_{eqM(mul(e_l)(a))(a)}(e_r)\u001b[39m, \u001b[32m0.19042831519470402\u001b[39m))\n",
       ")"
      ]
     },
     "execution_count": 12,
     "metadata": {},
     "output_type": "execute_result"
    }
   ],
   "source": [
    "tgD1.filter(_.typ == eqM(op(l)(r))(r))"
   ]
  },
  {
   "cell_type": "code",
   "execution_count": 13,
   "metadata": {},
   "outputs": [
    {
     "data": {
      "text/plain": [
       "\u001b[36mtgT2\u001b[39m: \u001b[32mmonix\u001b[39m.\u001b[32meval\u001b[39m.\u001b[32mTask\u001b[39m[\u001b[32mFiniteDistribution\u001b[39m[\u001b[32mTerm\u001b[39m]] = \u001b[33mMap\u001b[39m(\n",
       "  \u001b[33mFlatMap\u001b[39m(\u001b[33mAsync\u001b[39m(<function2>, true, true, true), monix.eval.Task$$Lambda$3937/995425622@300152ed),\n",
       "  provingground.learning.MonixFiniteDistribution$$Lambda$3938/1345448077@7410edf5,\n",
       "  \u001b[32m0\u001b[39m\n",
       ")"
      ]
     },
     "execution_count": 13,
     "metadata": {},
     "output_type": "execute_result"
    }
   ],
   "source": [
    "val tgT2 = mfd.nodeDist(ts)(tg.Gen.codomainNode(eqM(r)(op(l)(r))), 0.0001)"
   ]
  },
  {
   "cell_type": "markdown",
   "metadata": {},
   "source": [
    "This is essentially the same as above. Just verifies that we get symmetry. If this is chained with the previous example, we get a proof directly."
   ]
  },
  {
   "cell_type": "code",
   "execution_count": 14,
   "metadata": {},
   "outputs": [
    {
     "data": {
      "text/plain": [
       "\u001b[36mtgD2\u001b[39m: \u001b[32mFiniteDistribution\u001b[39m[\u001b[32mTerm\u001b[39m] = \u001b[33mFiniteDistribution\u001b[39m(\n",
       "  \u001b[33mVector\u001b[39m(\n",
       "    \u001b[33mWeighted\u001b[39m(\n",
       "      \u001b[32m($ocoh : eqM(mul(e_r)(e_r))(mul(e_l)(e_r))) ↦ ($ocog : eqM(e_r)(mul(e_r)(e_r))) ↦ axiom_{(eqM(a)(b) \\to (eqM(b)(c) \\to eqM(a)(c)))}(e_r)(mul(e_r)(e_r))(mul(e_l)(e_r))($ocog)($ocoh)\u001b[39m,\n",
       "      \u001b[32m0.0019102078286236943\u001b[39m\n",
       "    ),\n",
       "    \u001b[33mWeighted\u001b[39m(\n",
       "      \u001b[32m($odej : eqM(mul(e_l)(e_r))(e_r)) ↦ axiom_{(eqM(a)(b) \\to eqM(b)(a))}(mul(e_l)(e_r))(e_r)($odej)\u001b[39m,\n",
       "      \u001b[32m0.28594911650643884\u001b[39m\n",
       "    ),\n",
       "    \u001b[33mWeighted\u001b[39m(\n",
       "      \u001b[32m($odjm : eqM(mul(e_l)(e_r))(e_r)) ↦ axiom_{(eqM(a)(b) \\to eqM(b)(a))}(mul(e_l)(e_r))(e_r)($odjm)\u001b[39m,\n",
       "      \u001b[32m0.012506287236483256\u001b[39m\n",
       "    ),\n",
       "    \u001b[33mWeighted\u001b[39m(\n",
       "      \u001b[32m(_ : eqM($odol)(mul(e_l)(e_r))) ↦ (_ : eqM(e_r)($odol)) ↦ ($odol : M) ↦ axiom_{(eqM(a)(b) \\to (eqM(b)(c) \\to eqM(a)(c)))}(e_r)($odol)(mul(e_l)(e_r))($odon)($odoo)\u001b[39m,\n",
       "      \u001b[32m0.28594911650643884\u001b[39m\n",
       "    ),\n",
       "    \u001b[33mWeighted\u001b[39m(\n",
       "      \u001b[32m($oerz : eqM(e_r)(mul(e_l)(e_r))) ↦ axiom_{(eqM(a)(b) \\to (eqM(b)(c) \\to eqM(a)(c)))}(e_r)(e_r)(mul(e_l)(e_r))(axiom_{eqM(a)(a)}(e_r))($oerz)\u001b[39m,\n",
       "      \u001b[32m0.0024969299534841087\u001b[39m\n",
       "    ),\n",
       "    \u001b[33mWeighted\u001b[39m(\u001b[32maxiom_{eqM(a)(a)}(mul(e_l)(e_r))\u001b[39m, \u001b[32m0.28594911650643884\u001b[39m),\n",
       "    \u001b[33mWeighted\u001b[39m(\n",
       "      \u001b[32m($ofay : eqM(e_r)(mul(e_l)(e_r))) ↦ ($ofax : eqM(e_r)(e_r)) ↦ axiom_{(eqM(a)(b) \\to (eqM(b)(c) \\to eqM(a)(c)))}(e_r)(e_r)(mul(e_l)(e_r))($ofax)($ofay)\u001b[39m,\n",
       "      \u001b[32m0.006225803255754271\u001b[39m\n",
       "    ),\n",
       "    \u001b[33mWeighted\u001b[39m(\n",
       "      \u001b[32m($ofos : eqM(mul(e_l)(e_l))(mul(e_l)(e_r))) ↦ ($ofor : eqM(e_r)(mul(e_l)(e_l))) ↦ axiom_{(eqM(a)(b) \\to (eqM(b)(c) \\to eqM(a)(c)))}(e_r)(mul(e_l)(e_l))(mul(e_l)(e_r))($ofor)($ofos)\u001b[39m,\n",
       "      \u001b[32m0.0019102078286236943\u001b[39m\n",
       "    ),\n",
       "    \u001b[33mWeighted\u001b[39m(\n",
       "      \u001b[32m($ogfm : eqM(mul(e_r)(e_l))(mul(e_l)(e_r))) ↦ ($ogfl : eqM(e_r)(mul(e_r)(e_l))) ↦ axiom_{(eqM(a)(b) \\to (eqM(b)(c) \\to eqM(a)(c)))}(e_r)(mul(e_r)(e_l))(mul(e_l)(e_r))($ogfl)($ogfm)\u001b[39m,\n",
       "      \u001b[32m0.0019102078286236943\u001b[39m\n",
       "    ),\n",
       "    \u001b[33mWeighted\u001b[39m(\n",
       "      \u001b[32m(_ : eqM(mul(e_r)(e_l))(e_r)) ↦ axiom_{(eqM(a)(b) \\to eqM(b)(a))}(mul(e_l)(e_l))(e_l)($ogwq)\u001b[39m,\n",
       "      \u001b[32m0.012506287236483256\u001b[39m\n",
       "    ),\n",
       "    \u001b[33mWeighted\u001b[39m(\n",
       "      \u001b[32m(_ : eqM($oheo)(mul(e_l)(e_r))) ↦ (_ : eqM(e_r)($oheo)) ↦ ($oheo : M) ↦ axiom_{(eqM(a)(b) \\to \u001b[39m..."
      ]
     },
     "execution_count": 14,
     "metadata": {},
     "output_type": "execute_result"
    }
   ],
   "source": [
    "val tgD2 = tgT2.runSyncUnsafe()"
   ]
  },
  {
   "cell_type": "code",
   "execution_count": 15,
   "metadata": {},
   "outputs": [
    {
     "data": {
      "text/plain": [
       "\u001b[36mtgtT2\u001b[39m: \u001b[32mmonix\u001b[39m.\u001b[32meval\u001b[39m.\u001b[32mTask\u001b[39m[\u001b[32mFiniteDistribution\u001b[39m[\u001b[32mTerm\u001b[39m]] = \u001b[33mFlatMap\u001b[39m(\n",
       "  \u001b[33mMap\u001b[39m(\n",
       "    \u001b[33mFlatMap\u001b[39m(\u001b[33mAsync\u001b[39m(<function2>, true, true, true), monix.eval.Task$$Lambda$3937/995425622@2a69acc9),\n",
       "    provingground.learning.MonixFiniteDistribution$$Lambda$4129/377780743@4c6ee575,\n",
       "    \u001b[32m0\u001b[39m\n",
       "  ),\n",
       "  provingground.learning.MonixFiniteDistribution$$Lambda$4130/1312825105@55a0869e\n",
       ")"
      ]
     },
     "execution_count": 15,
     "metadata": {},
     "output_type": "execute_result"
    }
   ],
   "source": [
    "val tgtT2 =  mfd.nodeDist(ts)(tg.Gen.foldedTargetFunctionNode(eqM(r)(op(l)(r))), 0.0001)"
   ]
  },
  {
   "cell_type": "markdown",
   "metadata": {},
   "source": [
    "And indeed, here is a proof of the lemma."
   ]
  },
  {
   "cell_type": "code",
   "execution_count": 16,
   "metadata": {},
   "outputs": [
    {
     "data": {
      "text/plain": [
       "\u001b[36mtgtD2\u001b[39m: \u001b[32mFiniteDistribution\u001b[39m[\u001b[32mTerm\u001b[39m] = \u001b[33mFiniteDistribution\u001b[39m(\n",
       "  \u001b[33mVector\u001b[39m(\n",
       "    \u001b[33mWeighted\u001b[39m(\n",
       "      \u001b[32maxiom_{(eqM(a)(b) \\to eqM(b)(a))}(mul(e_l)(e_r))(e_r)(axiom_{eqM(mul(e_l)(a))(a)}(e_r))\u001b[39m,\n",
       "      \u001b[32m0.2984554037429222\u001b[39m\n",
       "    )\n",
       "  )\n",
       ")"
      ]
     },
     "execution_count": 16,
     "metadata": {},
     "output_type": "execute_result"
    }
   ],
   "source": [
    "val tgtD2 = tgtT2.runSyncUnsafe()"
   ]
  },
  {
   "cell_type": "markdown",
   "metadata": {},
   "source": [
    "## Identity type\n",
    "\n",
    "We test backward reasoning using the standard equality instead of a custom equality type. This now works."
   ]
  },
  {
   "cell_type": "code",
   "execution_count": 17,
   "metadata": {},
   "outputs": [
    {
     "data": {
      "text/plain": [
       "\u001b[32mimport \u001b[39m\u001b[36mIdentityTyp._\n",
       "\u001b[39m\n",
       "\u001b[36mres16_1\u001b[39m: \u001b[32mFuncLike\u001b[39m[\u001b[32mTyp\u001b[39m[\u001b[32mTerm\u001b[39m], \u001b[32mFuncLike\u001b[39m[\u001b[32mTerm\u001b[39m, \u001b[32mFuncLike\u001b[39m[\u001b[32mTerm\u001b[39m, \u001b[32mFunc\u001b[39m[\u001b[32mEquality\u001b[39m[\u001b[32mTerm\u001b[39m], \u001b[32mEquality\u001b[39m[\u001b[32mTerm\u001b[39m]]]]] = \u001b[32m($xczp : 𝒰 ) ↦ ($xczw : $xczp) ↦ ($xczx : $xczp) ↦ ($xczy : $xczw = $xczx) ↦ induc_{ ($xdme : $xczp) ↦ ($xdmf : $xczp) ↦ $xdme = $xdmf ; ($xczq : $xczp) ↦ ($xczr : $xczp) ↦ (_ : $xczq = $xczr) ↦ $xczr = $xczq }(($xczq : $xczp) ↦ Refl($xczp,$xczq))($xczy)\u001b[39m"
      ]
     },
     "execution_count": 17,
     "metadata": {},
     "output_type": "execute_result"
    }
   ],
   "source": [
    "import IdentityTyp._\n",
    "symmTerm"
   ]
  },
  {
   "cell_type": "code",
   "execution_count": 18,
   "metadata": {},
   "outputs": [
    {
     "data": {
      "text/plain": [
       "\u001b[36mres17\u001b[39m: \u001b[32mFuncLike\u001b[39m[\u001b[32mTyp\u001b[39m[\u001b[32mTerm\u001b[39m], \u001b[32mFuncLike\u001b[39m[\u001b[32mTerm\u001b[39m, \u001b[32mFuncLike\u001b[39m[\u001b[32mTerm\u001b[39m, \u001b[32mFuncLike\u001b[39m[\u001b[32mTerm\u001b[39m, \u001b[32mFunc\u001b[39m[\u001b[32mEquality\u001b[39m[\u001b[32mTerm\u001b[39m], \u001b[32mFunc\u001b[39m[\u001b[32mEquality\u001b[39m[\u001b[32mTerm\u001b[39m], \u001b[32mEquality\u001b[39m[\u001b[32mTerm\u001b[39m]]]]]]] = \u001b[32m($xczp : 𝒰 ) ↦ ($xdmh : $xczp) ↦ ($xdmi : $xczp) ↦ ($xdmj : $xczp) ↦ ($xdnq : $xdmh = $xdmi) ↦ induc_{ ($xhjr : $xczp) ↦ ($xhjs : $xczp) ↦ $xhjr = $xhjs ; ($xdmk : $xczp) ↦ ($xdml : $xczp) ↦ (_ : $xdmk = $xdml) ↦ ($xdml = $xdmj → $xdmk = $xdmj) }(($xdmk : $xczp) ↦ ($xeoq : $xdmk = $xdmj) ↦ $xeoq)($xdnq)\u001b[39m"
      ]
     },
     "execution_count": 18,
     "metadata": {},
     "output_type": "execute_result"
    }
   ],
   "source": [
    "transTerm"
   ]
  },
  {
   "cell_type": "code",
   "execution_count": 19,
   "metadata": {},
   "outputs": [
    {
     "data": {
      "text/plain": [
       "\u001b[36mres18\u001b[39m: \u001b[32mFunc\u001b[39m[\u001b[32mEquality\u001b[39m[\u001b[32mTerm\u001b[39m], \u001b[32mEquality\u001b[39m[\u001b[32mTerm\u001b[39m]] = \u001b[32m($xczy : e_l = e_r) ↦ induc_{ ($xhks : M) ↦ ($xhkt : M) ↦ $xhks = $xhkt ; ($xczq : M) ↦ ($xczr : M) ↦ (_ : $xczq = $xczr) ↦ $xczr = $xczq }(($xczq : M) ↦ Refl(M,$xczq))($xczy)\u001b[39m"
      ]
     },
     "execution_count": 19,
     "metadata": {},
     "output_type": "execute_result"
    }
   ],
   "source": [
    "symmTerm (M) (l) (r)"
   ]
  },
  {
   "cell_type": "code",
   "execution_count": 20,
   "metadata": {},
   "outputs": [
    {
     "data": {
      "text/plain": [
       "\u001b[36mres19\u001b[39m: \u001b[32mTyp\u001b[39m[\u001b[32mFunc\u001b[39m[\u001b[32mEquality\u001b[39m[\u001b[32mTerm\u001b[39m], \u001b[32mEquality\u001b[39m[\u001b[32mTerm\u001b[39m]]] = \u001b[32m(e_l = e_r → e_r = e_l)\u001b[39m"
      ]
     },
     "execution_count": 20,
     "metadata": {},
     "output_type": "execute_result"
    }
   ],
   "source": [
    "symmTerm(M)(l)(r).typ"
   ]
  },
  {
   "cell_type": "code",
   "execution_count": 21,
   "metadata": {},
   "outputs": [
    {
     "data": {
      "text/plain": [
       "\u001b[36mres20\u001b[39m: \u001b[32mTyp\u001b[39m[\u001b[32mFuncLike\u001b[39m[\u001b[32mTerm\u001b[39m, \u001b[32mFuncLike\u001b[39m[\u001b[32mTerm\u001b[39m, \u001b[32mFuncLike\u001b[39m[\u001b[32mTerm\u001b[39m, \u001b[32mFunc\u001b[39m[\u001b[32mEquality\u001b[39m[\u001b[32mTerm\u001b[39m], \u001b[32mFunc\u001b[39m[\u001b[32mEquality\u001b[39m[\u001b[32mTerm\u001b[39m], \u001b[32mEquality\u001b[39m[\u001b[32mTerm\u001b[39m]]]]]]] = \u001b[32m∏($xdmh : M){ ∏($xdmi : M){ ∏($xdmj : M){ ($xdmh = $xdmi → ($xdmi = $xdmj → $xdmh = $xdmj)) } } }\u001b[39m"
      ]
     },
     "execution_count": 21,
     "metadata": {},
     "output_type": "execute_result"
    }
   ],
   "source": [
    "transTerm(M).typ"
   ]
  },
  {
   "cell_type": "code",
   "execution_count": 22,
   "metadata": {},
   "outputs": [
    {
     "data": {
      "text/plain": [
       "\u001b[36mts0\u001b[39m: \u001b[32mTermState\u001b[39m = \u001b[33mTermState\u001b[39m(\n",
       "  \u001b[33mFiniteDistribution\u001b[39m(\n",
       "    \u001b[33mVector\u001b[39m(\n",
       "      \u001b[33mWeighted\u001b[39m(\n",
       "        \u001b[32m($xczp : 𝒰 ) ↦ ($xczw : $xczp) ↦ ($xczx : $xczp) ↦ ($xczy : $xczw = $xczx) ↦ induc_{ ($xdme : $xczp) ↦ ($xdmf : $xczp) ↦ $xdme = $xdmf ; ($xczq : $xczp) ↦ ($xczr : $xczp) ↦ (_ : $xczq = $xczr) ↦ $xczr = $xczq }(($xczq : $xczp) ↦ Refl($xczp,$xczq))($xczy)\u001b[39m,\n",
       "        \u001b[32m0.25\u001b[39m\n",
       "      ),\n",
       "      \u001b[33mWeighted\u001b[39m(\n",
       "        \u001b[32m($xczp : 𝒰 ) ↦ ($xdmh : $xczp) ↦ ($xdmi : $xczp) ↦ ($xdmj : $xczp) ↦ ($xdnq : $xdmh = $xdmi) ↦ induc_{ ($xhjr : $xczp) ↦ ($xhjs : $xczp) ↦ $xhjr = $xhjs ; ($xdmk : $xczp) ↦ ($xdml : $xczp) ↦ (_ : $xdmk = $xdml) ↦ ($xdml = $xdmj → $xdmk = $xdmj) }(($xdmk : $xczp) ↦ ($xeoq : $xdmk = $xdmj) ↦ $xeoq)($xdnq)\u001b[39m,\n",
       "        \u001b[32m0.25\u001b[39m\n",
       "      ),\n",
       "      \u001b[33mWeighted\u001b[39m(\u001b[32me_l\u001b[39m, \u001b[32m0.25\u001b[39m),\n",
       "      \u001b[33mWeighted\u001b[39m(\u001b[32me_r\u001b[39m, \u001b[32m0.25\u001b[39m)\n",
       "    )\n",
       "  ),\n",
       "  \u001b[33mFiniteDistribution\u001b[39m(\u001b[33mVector\u001b[39m(\u001b[33mWeighted\u001b[39m(\u001b[32mM\u001b[39m, \u001b[32m1.0\u001b[39m))),\n",
       "  \u001b[33mVector\u001b[39m(),\n",
       "  \u001b[33mFiniteDistribution\u001b[39m(\u001b[33mVector\u001b[39m()),\n",
       "  \u001b[33mFiniteDistribution\u001b[39m(\u001b[33mVector\u001b[39m()),\n",
       "  Empty\n",
       ")"
      ]
     },
     "execution_count": 22,
     "metadata": {},
     "output_type": "execute_result"
    }
   ],
   "source": [
    "val ts0 = TermState(FiniteDistribution.unif(symmTerm, transTerm, l, r), FiniteDistribution.unif(M))"
   ]
  },
  {
   "cell_type": "code",
   "execution_count": 23,
   "metadata": {},
   "outputs": [
    {
     "data": {
      "text/plain": [
       "\u001b[36mtgT0\u001b[39m: \u001b[32mmonix\u001b[39m.\u001b[32meval\u001b[39m.\u001b[32mTask\u001b[39m[\u001b[32mFiniteDistribution\u001b[39m[\u001b[32mTerm\u001b[39m]] = \u001b[33mMap\u001b[39m(\n",
       "  \u001b[33mFlatMap\u001b[39m(\u001b[33mAsync\u001b[39m(<function2>, true, true, true), monix.eval.Task$$Lambda$3937/995425622@62026bf4),\n",
       "  provingground.learning.MonixFiniteDistribution$$Lambda$3938/1345448077@41d1eca4,\n",
       "  \u001b[32m0\u001b[39m\n",
       ")"
      ]
     },
     "execution_count": 23,
     "metadata": {},
     "output_type": "execute_result"
    }
   ],
   "source": [
    "val tgT0 = mfd.nodeDist(ts0)(tg.Gen.codomainNode(l =:= r), 0.001)"
   ]
  },
  {
   "cell_type": "code",
   "execution_count": 24,
   "metadata": {},
   "outputs": [
    {
     "data": {
      "text/plain": [
       "\u001b[36mres23\u001b[39m: \u001b[32mOption\u001b[39m[\u001b[32mTerm\u001b[39m] = \u001b[33mSome\u001b[39m(\n",
       "  \u001b[32m($xczy : e_r = e_l) ↦ induc_{ ($xipo : M) ↦ ($xipp : M) ↦ $xipo = $xipp ; ($xczq : M) ↦ ($xczr : M) ↦ (_ : $xczq = $xczr) ↦ $xczr = $xczq }(($xczq : M) ↦ Refl(M,$xczq))($xczy)\u001b[39m\n",
       ")"
      ]
     },
     "execution_count": 24,
     "metadata": {},
     "output_type": "execute_result"
    }
   ],
   "source": [
    "Unify.targetCodomain(symmTerm, l =:= r)"
   ]
  }
 ],
 "metadata": {
  "kernelspec": {
   "display_name": "Scala",
   "language": "scala",
   "name": "scala"
  },
  "language_info": {
   "codemirror_mode": "text/x-scala",
   "file_extension": ".scala",
   "mimetype": "text/x-scala",
   "name": "scala",
   "nbconvert_exporter": "script",
   "version": "2.12.8"
  }
 },
 "nbformat": 4,
 "nbformat_minor": 2
}
