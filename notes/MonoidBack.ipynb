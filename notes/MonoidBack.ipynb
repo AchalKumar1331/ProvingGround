{
 "cells": [
  {
   "cell_type": "markdown",
   "metadata": {},
   "source": [
    "## Backward reasoning\n",
    "\n",
    "We test backward reasoning for the $e_l = e_r$ in a monoid."
   ]
  },
  {
   "cell_type": "code",
   "execution_count": 1,
   "metadata": {},
   "outputs": [
    {
     "data": {
      "text/plain": [
       "\u001b[32mimport \u001b[39m\u001b[36m$ivy.$                                                                   \u001b[39m"
      ]
     },
     "execution_count": 1,
     "metadata": {},
     "output_type": "execute_result"
    }
   ],
   "source": [
    "import $ivy.`io.github.siddhartha-gadgil::provingground-core-jvm:0.1.1-SNAPSHOT`"
   ]
  },
  {
   "cell_type": "code",
   "execution_count": 2,
   "metadata": {},
   "outputs": [
    {
     "data": {
      "text/plain": [
       "\u001b[32mimport \u001b[39m\u001b[36mprovingground._ , interface._, HoTT._\n",
       "\u001b[39m\n",
       "\u001b[32mimport \u001b[39m\u001b[36mlearning._\n",
       "\u001b[39m\n",
       "\u001b[32mimport \u001b[39m\u001b[36mlibrary._, MonoidSimple._\u001b[39m"
      ]
     },
     "execution_count": 2,
     "metadata": {},
     "output_type": "execute_result"
    }
   ],
   "source": [
    "import provingground._ , interface._, HoTT._\n",
    "import learning._\n",
    "import library._, MonoidSimple._"
   ]
  },
  {
   "cell_type": "code",
   "execution_count": 3,
   "metadata": {},
   "outputs": [],
   "source": [
    "repl.pprinter.bind(translation.FansiShow.fansiPrint)"
   ]
  },
  {
   "cell_type": "code",
   "execution_count": 4,
   "metadata": {},
   "outputs": [
    {
     "data": {
      "text/plain": [
       "\u001b[36mtg\u001b[39m: \u001b[32mTermGenParams\u001b[39m = \u001b[33mTermGenParams\u001b[39m(\n",
       "  \u001b[32m0.1\u001b[39m,\n",
       "  \u001b[32m0.1\u001b[39m,\n",
       "  \u001b[32m0.1\u001b[39m,\n",
       "  \u001b[32m0.0\u001b[39m,\n",
       "  \u001b[32m0.0\u001b[39m,\n",
       "  \u001b[32m0.05\u001b[39m,\n",
       "  \u001b[32m0.05\u001b[39m,\n",
       "  \u001b[32m0.05\u001b[39m,\n",
       "  \u001b[32m0.0\u001b[39m,\n",
       "  \u001b[32m0.0\u001b[39m,\n",
       "  \u001b[32m0.0\u001b[39m,\n",
       "  \u001b[32m0.0\u001b[39m,\n",
       "  \u001b[32m0.3\u001b[39m,\n",
       "  \u001b[32m0.7\u001b[39m,\n",
       "  \u001b[32m0.5\u001b[39m,\n",
       "  \u001b[32m0.0\u001b[39m,\n",
       "  \u001b[32m0.0\u001b[39m\n",
       ")"
      ]
     },
     "execution_count": 4,
     "metadata": {},
     "output_type": "execute_result"
    }
   ],
   "source": [
    "val tg = TermGenParams(lmW=0, piW=0)"
   ]
  },
  {
   "cell_type": "code",
   "execution_count": 5,
   "metadata": {},
   "outputs": [
    {
     "data": {
      "text/plain": [
       "\u001b[36mts\u001b[39m: \u001b[32mTermState\u001b[39m = \u001b[33mTermState\u001b[39m(\n",
       "  \u001b[33mFiniteDistribution\u001b[39m(\n",
       "    \u001b[33mVector\u001b[39m(\n",
       "      \u001b[33mWeighted\u001b[39m(\u001b[32me_l\u001b[39m, \u001b[32m0.047619047619047616\u001b[39m),\n",
       "      \u001b[33mWeighted\u001b[39m(\u001b[32me_r\u001b[39m, \u001b[32m0.047619047619047616\u001b[39m),\n",
       "      \u001b[33mWeighted\u001b[39m(\u001b[32mmul\u001b[39m, \u001b[32m0.047619047619047616\u001b[39m),\n",
       "      \u001b[33mWeighted\u001b[39m(\u001b[32meqM\u001b[39m, \u001b[32m0.047619047619047616\u001b[39m),\n",
       "      \u001b[33mWeighted\u001b[39m(\u001b[32maxiom_{eqM(a)(a)}\u001b[39m, \u001b[32m0.047619047619047616\u001b[39m),\n",
       "      \u001b[33mWeighted\u001b[39m(\u001b[32maxiom_{(eqM(a)(b) \\to eqM(b)(a))}\u001b[39m, \u001b[32m0.047619047619047616\u001b[39m),\n",
       "      \u001b[33mWeighted\u001b[39m(\u001b[32maxiom_{(eqM(a)(b) \\to (eqM(b)(c) \\to eqM(a)(c)))}\u001b[39m, \u001b[32m0.047619047619047616\u001b[39m),\n",
       "      \u001b[33mWeighted\u001b[39m(\u001b[32maxiom_{eqM(mul(e_l)(a))(a)}\u001b[39m, \u001b[32m0.047619047619047616\u001b[39m),\n",
       "      \u001b[33mWeighted\u001b[39m(\u001b[32maxiom_{eqM(mul(a)(e_r))(a)}\u001b[39m, \u001b[32m0.047619047619047616\u001b[39m),\n",
       "      \u001b[33mWeighted\u001b[39m(\u001b[32meqM\u001b[39m, \u001b[32m0.2857142857142857\u001b[39m),\n",
       "      \u001b[33mWeighted\u001b[39m(\u001b[32mmul\u001b[39m, \u001b[32m0.2857142857142857\u001b[39m)\n",
       "    )\n",
       "  ),\n",
       "  \u001b[33mFiniteDistribution\u001b[39m(\n",
       "    \u001b[33mVector\u001b[39m(\n",
       "      \u001b[33mWeighted\u001b[39m(\u001b[32mM\u001b[39m, \u001b[32m0.047619047619047616\u001b[39m),\n",
       "      \u001b[33mWeighted\u001b[39m(\u001b[32mM\u001b[39m, \u001b[32m0.047619047619047616\u001b[39m),\n",
       "      \u001b[33mWeighted\u001b[39m(\u001b[32m(M → (M → M))\u001b[39m, \u001b[32m0.047619047619047616\u001b[39m),\n",
       "      \u001b[33mWeighted\u001b[39m(\u001b[32m(M → (M → 𝒰 ))\u001b[39m, \u001b[32m0.047619047619047616\u001b[39m),\n",
       "      \u001b[33mWeighted\u001b[39m(\u001b[32m∏(a : M){ eqM(a)(a) }\u001b[39m, \u001b[32m0.047619047619047616\u001b[39m),\n",
       "      \u001b[33mWeighted\u001b[39m(\u001b[32m∏(a : M){ ∏(b : M){ (eqM(a)(b) → eqM(b)(a)) } }\u001b[39m, \u001b[32m0.047619047619047616\u001b[39m),\n",
       "      \u001b[33mWeighted\u001b[39m(\n",
       "        \u001b[32m∏(a : M){ ∏(b : M){ ∏(c : M){ (eqM(a)(b) → (eqM(b)(c) → eqM(a)(c))) } } }\u001b[39m,\n",
       "        \u001b[32m0.047619047619047616\u001b[39m\n",
       "      ),\n",
       "      \u001b[33mWeighted\u001b[39m(\u001b[32m∏(a : M){ eqM(mul(e_l)(a))(a) }\u001b[39m, \u001b[32m0.047619047619047616\u001b[39m),\n",
       "      \u001b[33mWeighted\u001b[39m(\u001b[32m∏(a : M){ eqM(mul(a)(e_r))(a) }\u001b[39m, \u001b[32m0.047619047619047616\u001b[39m),\n",
       "      \u001b[33mWeighted\u001b[39m(\u001b[32m(M → (M → 𝒰 ))\u001b[39m, \u001b[32m0.2857142857142857\u001b[39m),\n",
       "      \u001b[33mWeighted\u001b[39m(\u001b[32m(M → (M → M))\u001b[39m, \u001b[32m0.2857142857142857\u001b[39m)\n",
       "    )\n",
       "  ),\n",
       "  \u001b[33mVector\u001b[39m(),\n",
       "  \u001b[33mFiniteDistribution\u001b[39m(\u001b[33mVector\u001b[39m()),\n",
       "  \u001b[33mFiniteDistribution\u001b[39m(\u001b[33mVector\u001b[39m()),\n",
       "  Empty\n",
       ")"
      ]
     },
     "execution_count": 5,
     "metadata": {},
     "output_type": "execute_result"
    }
   ],
   "source": [
    "val ts = TermState(dist1, dist1.map(_.typ))"
   ]
  },
  {
   "cell_type": "code",
   "execution_count": 6,
   "metadata": {},
   "outputs": [
    {
     "data": {
      "text/plain": [
       "\u001b[36mmfd\u001b[39m: \u001b[32mMonixFiniteDistribution\u001b[39m[\u001b[32mTermState\u001b[39m, \u001b[32mTerm\u001b[39m] = \u001b[33mMonixFiniteDistribution\u001b[39m(\n",
       "  \u001b[33mCons\u001b[39m(\n",
       "    \u001b[33mBaseCons\u001b[39m(\n",
       "      \u001b[33mBasePi\u001b[39m(\n",
       "        provingground.learning.RandomVarFamily$$Lambda$3163/1607003799@23268bec,\n",
       "        FuncsWithDomain\n",
       "      ),\n",
       "      \u001b[32m0.65\u001b[39m,\n",
       "      \u001b[33mBaseCons\u001b[39m(\n",
       "        \u001b[33mBasePi\u001b[39m(\n",
       "          provingground.learning.GeneratorNode$$Lambda$3166/2054782757@13eebd15,\n",
       "          FuncsWithDomain\n",
       "        ),\n",
       "        \u001b[32m0.1\u001b[39m,\n",
       "        \u001b[33mBaseCons\u001b[39m(\n",
       "          \u001b[33mBasePi\u001b[39m(\n",
       "            provingground.learning.GeneratorNode$$Lambda$3166/2054782757@2932ab36,\n",
       "            FuncsWithDomain\n",
       "          ),\n",
       "          \u001b[32m0.1\u001b[39m,\n",
       "          \u001b[33mBaseCons\u001b[39m(\n",
       "            \u001b[33mBasePi\u001b[39m(\n",
       "              provingground.learning.GeneratorNode$$Lambda$3166/2054782757@7663841c,\n",
       "              FuncsWithDomain\n",
       "            ),\n",
       "            \u001b[32m0.1\u001b[39m,\n",
       "            \u001b[33mBaseCons\u001b[39m(\n",
       "              \u001b[33mBasePi\u001b[39m(\n",
       "                provingground.learning.TermGeneratorNodes$$Lambda$3150/740688104@601a1c58,\n",
       "                FuncsWithDomain\n",
       "              ),\n",
       "              \u001b[32m0.0\u001b[39m,\n",
       "              \u001b[33mTarget\u001b[39m(FuncsWithDomain)\n",
       "            )\n",
       "          )\n",
       "        )\n",
       "      )\n",
       "    ),\n",
       "    \u001b[33mCons\u001b[39m(\n",
       "      \u001b[33mBaseCons\u001b[39m(\n",
       "        \u001b[33mMap\u001b[39m(\n",
       "          provingground.learning.TermRandomVars$TargetTyps$$$Lambda$3169/1164841344@2b860dcf,\n",
       "          Goals,\n",
       "          TargetTyps\n",
       "        ),\n",
       "        \u001b[32m0.7\u001b[39m,\n",
       "        \u001b[33mBaseCons\u001b[39m(\n",
       "          \u001b[33mMap\u001b[39m(\n",
       "            provingground.learning.TermRandomVars$TargetTyps$$$Lambda$3170/36866988@69e5925a,\n",
       "..."
      ]
     },
     "execution_count": 6,
     "metadata": {},
     "output_type": "execute_result"
    }
   ],
   "source": [
    "val mfd = tg.monixFD"
   ]
  },
  {
   "cell_type": "code",
   "execution_count": 7,
   "metadata": {},
   "outputs": [
    {
     "data": {
      "text/plain": [
       "\u001b[36mtgT\u001b[39m: \u001b[32mmonix\u001b[39m.\u001b[32meval\u001b[39m.\u001b[32mTask\u001b[39m[\u001b[32mFiniteDistribution\u001b[39m[\u001b[32mTerm\u001b[39m]] = \u001b[33mMap\u001b[39m(\n",
       "  \u001b[33mFlatMap\u001b[39m(\u001b[33mAsync\u001b[39m(<function2>, true, true, true), monix.eval.Task$$Lambda$3376/986006797@58d89df7),\n",
       "  provingground.learning.MonixFiniteDistribution$$Lambda$3377/701679835@f0e2552,\n",
       "  \u001b[32m0\u001b[39m\n",
       ")"
      ]
     },
     "execution_count": 7,
     "metadata": {},
     "output_type": "execute_result"
    }
   ],
   "source": [
    "val tgT = mfd.nodeDist(ts)(tg.Gen.codomainNode(eqM(l)(r)), 0.0001)"
   ]
  },
  {
   "cell_type": "markdown",
   "metadata": {},
   "source": [
    "The above is looking at backward reasoning for $e_l = e_r$. We see that \n",
    "\n",
    "* we get mainly two terms, which is the use of symmetry and transitivity.\n",
    "* symmetry has no additional parameter, i.e., we are looking for exactly a proof of $e_r = e_l$.\n",
    "* transitivity has exactly one parameter, so for $x : M$ we look for $e_l = x$ and $x = e_r$."
   ]
  },
  {
   "cell_type": "code",
   "execution_count": 8,
   "metadata": {},
   "outputs": [
    {
     "data": {
      "text/plain": [
       "\u001b[32mimport \u001b[39m\u001b[36mmonix.execution.Scheduler.Implicits.global\n",
       "\u001b[39m\n",
       "\u001b[36mtgD\u001b[39m: \u001b[32mFiniteDistribution\u001b[39m[\u001b[32mTerm\u001b[39m] = \u001b[33mFiniteDistribution\u001b[39m(\n",
       "  \u001b[33mVector\u001b[39m(\n",
       "    \u001b[33mWeighted\u001b[39m(\n",
       "      \u001b[32m($drde : eqM(e_r)(e_l)) ↦ axiom_{(eqM(a)(b) \\to eqM(b)(a))}(e_r)(e_l)($drde)\u001b[39m,\n",
       "      \u001b[32m0.28319388018866914\u001b[39m\n",
       "    ),\n",
       "    \u001b[33mWeighted\u001b[39m(\n",
       "      \u001b[32m($drhb : eqM(e_r)(e_l)) ↦ axiom_{(eqM(a)(b) \\to eqM(b)(a))}(e_r)(e_l)($drhb)\u001b[39m,\n",
       "      \u001b[32m0.006165815103151755\u001b[39m\n",
       "    ),\n",
       "    \u001b[33mWeighted\u001b[39m(\n",
       "      \u001b[32m(_ : eqM($driz)(e_r)) ↦ (_ : eqM(e_l)($driz)) ↦ ($driz : M) ↦ axiom_{(eqM(a)(b) \\to (eqM(b)(c) \\to eqM(a)(c)))}(e_l)($driz)(e_r)($drjb)($drjc)\u001b[39m,\n",
       "      \u001b[32m0.28319388018866914\u001b[39m\n",
       "    ),\n",
       "    \u001b[33mWeighted\u001b[39m(\n",
       "      \u001b[32m($dsel : eqM(mul(e_r)(e_l))(e_r)) ↦ ($dsek : eqM(e_l)(mul(e_r)(e_l))) ↦ axiom_{(eqM(a)(b) \\to (eqM(b)(c) \\to eqM(a)(c)))}(e_l)(mul(e_r)(e_l))(e_r)($dsek)($dsel)\u001b[39m,\n",
       "      \u001b[32m0.0018918021974113543\u001b[39m\n",
       "    ),\n",
       "    \u001b[33mWeighted\u001b[39m(\n",
       "      \u001b[32m(_ : eqM($dstq)(e_r)) ↦ (_ : eqM(e_l)($dstq)) ↦ ($dstq : M) ↦ axiom_{(eqM(a)(b) \\to (eqM(b)(c) \\to eqM(a)(c)))}(e_l)($dstq)(e_r)($dsts)($dstt)\u001b[39m,\n",
       "      \u001b[32m0.0406269447731658\u001b[39m\n",
       "    ),\n",
       "    \u001b[33mWeighted\u001b[39m(\n",
       "      \u001b[32m($dtpi : eqM(e_r)(e_r)) ↦ ($dtph : eqM(e_l)(e_r)) ↦ axiom_{(eqM(a)(b) \\to (eqM(b)(c) \\to eqM(a)(c)))}(e_l)(e_r)(e_r)($dtph)($dtpi)\u001b[39m,\n",
       "      \u001b[32m0.006165815103151755\u001b[39m\n",
       "    ),\n",
       "    \u001b[33mWeighted\u001b[39m(\u001b[32maxiom_{eqM(a)(a)}(e_r)\u001b[39m, \u001b[32m0.28319388018866914\u001b[39m),\n",
       "    \u001b[33mWeighted\u001b[39m(\n",
       "      \u001b[32m($duei : eqM(mul(e_l)(e_l))(e_r)) ↦ ($dueh : eqM(e_l)(mul(e_l)(e_l))) ↦ axiom_{(eqM(a)(b) \\to (eqM(b)(c) \\to eqM(a)(c)))}(e_l)(mul(e_l)(e_l))(e_r)($dueh)($duei)\u001b[39m,\n",
       "      \u001b[32m0.0018918021974113543\u001b[39m\n",
       "    ),\n",
       "    \u001b[33mWeighted\u001b[39m(\n",
       "      \u001b[32m(_ : eqM(e_l)(e_l)) ↦ axiom_{(eqM(a)(b) \\to eqM(b)(a))}(e_r)(e_r)($dury)\u001b[39m,\n",
       "      \u001b[32m0.0406269447731658\u001b[39m\n",
       "    ),\n",
       "    \u001b[33mWeighted\u001b[39m(\n",
       "      \u001b[32m($duvb : eqM(mul(e_l)(e_r))(e_r)) ↦ ($duva : eqM(e_l)(mul(e_l)(e_r))) ↦ axiom_{(eqM(a)(b) \\to (eqM(b)(c) \\to eqM(a)(c)))}(e_l)(mul(e_l)(e_r))(e_r)($duva)($duvb)\u001b[39m,\n",
       "      \u001b[32m0.0018918021974113543\u001b[39m\n",
       "    ),\n",
       "    \u001b[33mWeighted\u001b[39m(\n",
       "      \u001b[32m($dvij : eqM(e_l)(e_r)) ↦ ($dvii : eqM(e_l)(e_l)) ↦ axiom_{(eqM(a)(b) \\to (eqM(b)(c) \\to eqM(a)(c)))}(e_l)(e_l)(e_r)($dvii)($dvij)\u001b[39m,\n",
       "      \u001b[32m0.006165815103151755\u001b[39m\n",
       "..."
      ]
     },
     "execution_count": 8,
     "metadata": {},
     "output_type": "execute_result"
    }
   ],
   "source": [
    "import monix.execution.Scheduler.Implicits.global\n",
    "val tgD = tgT.runSyncUnsafe()"
   ]
  },
  {
   "cell_type": "code",
   "execution_count": 9,
   "metadata": {},
   "outputs": [
    {
     "data": {
      "text/plain": [
       "\u001b[36mtgT1\u001b[39m: \u001b[32mmonix\u001b[39m.\u001b[32meval\u001b[39m.\u001b[32mTask\u001b[39m[\u001b[32mFiniteDistribution\u001b[39m[\u001b[32mTerm\u001b[39m]] = \u001b[33mMap\u001b[39m(\n",
       "  \u001b[33mFlatMap\u001b[39m(\u001b[33mAsync\u001b[39m(<function2>, true, true, true), monix.eval.Task$$Lambda$3376/986006797@4fb89073),\n",
       "  provingground.learning.MonixFiniteDistribution$$Lambda$3377/701679835@1d9a1da8,\n",
       "  \u001b[32m0\u001b[39m\n",
       ")"
      ]
     },
     "execution_count": 9,
     "metadata": {},
     "output_type": "execute_result"
    }
   ],
   "source": [
    "val tgT1 = mfd.nodeDist(ts)(tg.Gen.codomainNode(eqM(op(l)(r))(r)), 0.0001)"
   ]
  },
  {
   "cell_type": "markdown",
   "metadata": {},
   "source": [
    "We are next targeting $e_l * e_r = e_r$. Here the main thing we see is we get a proof with weight $0.3$ straightaway. We also get symmetry and transitivity as before."
   ]
  },
  {
   "cell_type": "code",
   "execution_count": 10,
   "metadata": {},
   "outputs": [
    {
     "data": {
      "text/plain": [
       "\u001b[36mtgD1\u001b[39m: \u001b[32mFiniteDistribution\u001b[39m[\u001b[32mTerm\u001b[39m] = \u001b[33mFiniteDistribution\u001b[39m(\n",
       "  \u001b[33mVector\u001b[39m(\n",
       "    \u001b[33mWeighted\u001b[39m(\n",
       "      \u001b[32m($iwmn : eqM(e_r)(mul(e_l)(e_r))) ↦ axiom_{(eqM(a)(b) \\to eqM(b)(a))}(e_r)(mul(e_l)(e_r))($iwmn)\u001b[39m,\n",
       "      \u001b[32m0.19042831519470402\u001b[39m\n",
       "    ),\n",
       "    \u001b[33mWeighted\u001b[39m(\n",
       "      \u001b[32m(_ : eqM(mul(e_l)(e_r))(mul(e_l)(e_r))) ↦ axiom_{(eqM(a)(b) \\to eqM(b)(a))}(e_r)(e_r)($iwrm)\u001b[39m,\n",
       "      \u001b[32m0.008328583899404744\u001b[39m\n",
       "    ),\n",
       "    \u001b[33mWeighted\u001b[39m(\n",
       "      \u001b[32m(_ : eqM($iwvw)(e_r)) ↦ (_ : eqM(mul(e_l)(e_r))($iwvw)) ↦ ($iwvw : M) ↦ axiom_{(eqM(a)(b) \\to (eqM(b)(c) \\to eqM(a)(c)))}(mul(e_l)(e_r))($iwvw)(e_r)($iwvy)($iwvz)\u001b[39m,\n",
       "      \u001b[32m0.19042831519470402\u001b[39m\n",
       "    ),\n",
       "    \u001b[33mWeighted\u001b[39m(\u001b[32maxiom_{eqM(mul(e_l)(a))(a)}(e_r)\u001b[39m, \u001b[32m0.19042831519470402\u001b[39m),\n",
       "    \u001b[33mWeighted\u001b[39m(\n",
       "      \u001b[32m($iyda : eqM(e_r)(mul(e_l)(e_r))) ↦ axiom_{(eqM(a)(b) \\to eqM(b)(a))}(e_r)(mul(e_l)(e_r))($iyda)\u001b[39m,\n",
       "      \u001b[32m0.001272106250653001\u001b[39m\n",
       "    ),\n",
       "    \u001b[33mWeighted\u001b[39m(\n",
       "      \u001b[32m($iyfx : eqM(e_l)(e_r)) ↦ axiom_{(eqM(a)(b) \\to (eqM(b)(c) \\to eqM(a)(c)))}(mul(e_l)(e_r))(e_l)(e_r)(axiom_{eqM(mul(a)(e_r))(a)}(e_l))($iyfx)\u001b[39m,\n",
       "      \u001b[32m0.0013051685078530825\u001b[39m\n",
       "    ),\n",
       "    \u001b[33mWeighted\u001b[39m(\u001b[32maxiom_{eqM(mul(a)(e_r))(a)}(e_r)\u001b[39m, \u001b[32m0.19042831519470402\u001b[39m),\n",
       "    \u001b[33mWeighted\u001b[39m(\u001b[32maxiom_{eqM(a)(a)}(e_r)\u001b[39m, \u001b[32m0.19042831519470402\u001b[39m),\n",
       "    \u001b[33mWeighted\u001b[39m(\n",
       "      \u001b[32m($iysy : eqM(e_r)(e_r)) ↦ axiom_{(eqM(a)(b) \\to (eqM(b)(c) \\to eqM(a)(c)))}(mul(e_l)(e_r))(e_r)(e_r)(axiom_{eqM(mul(e_l)(a))(a)}(e_r))($iysy)\u001b[39m,\n",
       "      \u001b[32m0.0013051685078530825\u001b[39m\n",
       "    ),\n",
       "    \u001b[33mWeighted\u001b[39m(\n",
       "      \u001b[32m(_ : eqM($izbk)(e_r)) ↦ (_ : eqM(mul(e_l)(e_r))($izbk)) ↦ ($izbk : M) ↦ axiom_{(eqM(a)(b) \\to (eqM(b)(c) \\to eqM(a)(c)))}(mul(e_l)(e_r))($izbk)(e_r)($izbm)($izbn)\u001b[39m,\n",
       "      \u001b[32m0.008328583899404744\u001b[39m\n",
       "    ),\n",
       "    \u001b[33mWeighted\u001b[39m(\n",
       "      \u001b[32m($jarh : eqM(e_r)(mul(e_l)(e_r))) ↦ axiom_{(eqM(a)(b) \\to eqM(b)(a))}(e_r)(mul(e_l)(e_r))($jarh)\u001b[39m,\n",
       "      \u001b[32m0.02731881296131129\u001b[39m\n",
       "    )\n",
       "  )\n",
       ")"
      ]
     },
     "execution_count": 10,
     "metadata": {},
     "output_type": "execute_result"
    }
   ],
   "source": [
    "val tgD1 = tgT1.runSyncUnsafe()"
   ]
  },
  {
   "cell_type": "code",
   "execution_count": 11,
   "metadata": {},
   "outputs": [
    {
     "data": {
      "text/plain": [
       "\u001b[36mres10\u001b[39m: \u001b[32mFiniteDistribution\u001b[39m[\u001b[32mTerm\u001b[39m] = \u001b[33mFiniteDistribution\u001b[39m(\n",
       "  \u001b[33mVector\u001b[39m(\n",
       "    \u001b[33mWeighted\u001b[39m(\u001b[32me_l\u001b[39m, \u001b[32m0.047619047619047616\u001b[39m),\n",
       "    \u001b[33mWeighted\u001b[39m(\u001b[32me_r\u001b[39m, \u001b[32m0.047619047619047616\u001b[39m),\n",
       "    \u001b[33mWeighted\u001b[39m(\u001b[32mmul\u001b[39m, \u001b[32m0.047619047619047616\u001b[39m),\n",
       "    \u001b[33mWeighted\u001b[39m(\u001b[32meqM\u001b[39m, \u001b[32m0.047619047619047616\u001b[39m),\n",
       "    \u001b[33mWeighted\u001b[39m(\u001b[32maxiom_{eqM(a)(a)}\u001b[39m, \u001b[32m0.047619047619047616\u001b[39m),\n",
       "    \u001b[33mWeighted\u001b[39m(\u001b[32maxiom_{(eqM(a)(b) \\to eqM(b)(a))}\u001b[39m, \u001b[32m0.047619047619047616\u001b[39m),\n",
       "    \u001b[33mWeighted\u001b[39m(\u001b[32maxiom_{(eqM(a)(b) \\to (eqM(b)(c) \\to eqM(a)(c)))}\u001b[39m, \u001b[32m0.047619047619047616\u001b[39m),\n",
       "    \u001b[33mWeighted\u001b[39m(\u001b[32maxiom_{eqM(mul(e_l)(a))(a)}\u001b[39m, \u001b[32m0.047619047619047616\u001b[39m),\n",
       "    \u001b[33mWeighted\u001b[39m(\u001b[32maxiom_{eqM(mul(a)(e_r))(a)}\u001b[39m, \u001b[32m0.047619047619047616\u001b[39m),\n",
       "    \u001b[33mWeighted\u001b[39m(\u001b[32meqM\u001b[39m, \u001b[32m0.2857142857142857\u001b[39m),\n",
       "    \u001b[33mWeighted\u001b[39m(\u001b[32mmul\u001b[39m, \u001b[32m0.2857142857142857\u001b[39m)\n",
       "  )\n",
       ")"
      ]
     },
     "execution_count": 11,
     "metadata": {},
     "output_type": "execute_result"
    }
   ],
   "source": [
    "ts.terms"
   ]
  },
  {
   "cell_type": "code",
   "execution_count": 12,
   "metadata": {},
   "outputs": [
    {
     "data": {
      "text/plain": [
       "\u001b[36mres11\u001b[39m: \u001b[32mFiniteDistribution\u001b[39m[\u001b[32mTerm\u001b[39m] = \u001b[33mFiniteDistribution\u001b[39m(\n",
       "  \u001b[33mVector\u001b[39m(\u001b[33mWeighted\u001b[39m(\u001b[32maxiom_{eqM(mul(e_l)(a))(a)}(e_r)\u001b[39m, \u001b[32m0.19042831519470402\u001b[39m))\n",
       ")"
      ]
     },
     "execution_count": 12,
     "metadata": {},
     "output_type": "execute_result"
    }
   ],
   "source": [
    "tgD1.filter(_.typ == eqM(op(l)(r))(r))"
   ]
  },
  {
   "cell_type": "code",
   "execution_count": 13,
   "metadata": {},
   "outputs": [
    {
     "data": {
      "text/plain": [
       "\u001b[36mtgT2\u001b[39m: \u001b[32mmonix\u001b[39m.\u001b[32meval\u001b[39m.\u001b[32mTask\u001b[39m[\u001b[32mFiniteDistribution\u001b[39m[\u001b[32mTerm\u001b[39m]] = \u001b[33mMap\u001b[39m(\n",
       "  \u001b[33mFlatMap\u001b[39m(\u001b[33mAsync\u001b[39m(<function2>, true, true, true), monix.eval.Task$$Lambda$3376/986006797@6d00a5da),\n",
       "  provingground.learning.MonixFiniteDistribution$$Lambda$3377/701679835@708042c7,\n",
       "  \u001b[32m0\u001b[39m\n",
       ")"
      ]
     },
     "execution_count": 13,
     "metadata": {},
     "output_type": "execute_result"
    }
   ],
   "source": [
    "val tgT2 = mfd.nodeDist(ts)(tg.Gen.codomainNode(eqM(r)(op(l)(r))), 0.0001)"
   ]
  },
  {
   "cell_type": "markdown",
   "metadata": {},
   "source": [
    "This is essentially the same as above. Just verifies that we get symmetry. If this is chained with the previous example, we get a proof directly."
   ]
  },
  {
   "cell_type": "code",
   "execution_count": 14,
   "metadata": {},
   "outputs": [
    {
     "data": {
      "text/plain": [
       "\u001b[36mtgD2\u001b[39m: \u001b[32mFiniteDistribution\u001b[39m[\u001b[32mTerm\u001b[39m] = \u001b[33mFiniteDistribution\u001b[39m(\n",
       "  \u001b[33mVector\u001b[39m(\n",
       "    \u001b[33mWeighted\u001b[39m(\n",
       "      \u001b[32m($obmg : eqM(mul(e_r)(e_r))(mul(e_l)(e_r))) ↦ ($obmf : eqM(e_r)(mul(e_r)(e_r))) ↦ axiom_{(eqM(a)(b) \\to (eqM(b)(c) \\to eqM(a)(c)))}(e_r)(mul(e_r)(e_r))(mul(e_l)(e_r))($obmf)($obmg)\u001b[39m,\n",
       "      \u001b[32m0.0019102078286236943\u001b[39m\n",
       "    ),\n",
       "    \u001b[33mWeighted\u001b[39m(\n",
       "      \u001b[32m($occi : eqM(mul(e_l)(e_r))(e_r)) ↦ axiom_{(eqM(a)(b) \\to eqM(b)(a))}(mul(e_l)(e_r))(e_r)($occi)\u001b[39m,\n",
       "      \u001b[32m0.28594911650643884\u001b[39m\n",
       "    ),\n",
       "    \u001b[33mWeighted\u001b[39m(\n",
       "      \u001b[32m($ochl : eqM(mul(e_l)(e_r))(e_r)) ↦ axiom_{(eqM(a)(b) \\to eqM(b)(a))}(mul(e_l)(e_r))(e_r)($ochl)\u001b[39m,\n",
       "      \u001b[32m0.012506287236483256\u001b[39m\n",
       "    ),\n",
       "    \u001b[33mWeighted\u001b[39m(\n",
       "      \u001b[32m(_ : eqM($ocmk)(mul(e_l)(e_r))) ↦ (_ : eqM(e_r)($ocmk)) ↦ ($ocmk : M) ↦ axiom_{(eqM(a)(b) \\to (eqM(b)(c) \\to eqM(a)(c)))}(e_r)($ocmk)(mul(e_l)(e_r))($ocmm)($ocmn)\u001b[39m,\n",
       "      \u001b[32m0.28594911650643884\u001b[39m\n",
       "    ),\n",
       "    \u001b[33mWeighted\u001b[39m(\n",
       "      \u001b[32m($odpy : eqM(e_r)(mul(e_l)(e_r))) ↦ axiom_{(eqM(a)(b) \\to (eqM(b)(c) \\to eqM(a)(c)))}(e_r)(e_r)(mul(e_l)(e_r))(axiom_{eqM(a)(a)}(e_r))($odpy)\u001b[39m,\n",
       "      \u001b[32m0.0024969299534841087\u001b[39m\n",
       "    ),\n",
       "    \u001b[33mWeighted\u001b[39m(\u001b[32maxiom_{eqM(a)(a)}(mul(e_l)(e_r))\u001b[39m, \u001b[32m0.28594911650643884\u001b[39m),\n",
       "    \u001b[33mWeighted\u001b[39m(\n",
       "      \u001b[32m($odyx : eqM(e_r)(mul(e_l)(e_r))) ↦ ($odyw : eqM(e_r)(e_r)) ↦ axiom_{(eqM(a)(b) \\to (eqM(b)(c) \\to eqM(a)(c)))}(e_r)(e_r)(mul(e_l)(e_r))($odyw)($odyx)\u001b[39m,\n",
       "      \u001b[32m0.006225803255754271\u001b[39m\n",
       "    ),\n",
       "    \u001b[33mWeighted\u001b[39m(\n",
       "      \u001b[32m($oemr : eqM(mul(e_l)(e_l))(mul(e_l)(e_r))) ↦ ($oemq : eqM(e_r)(mul(e_l)(e_l))) ↦ axiom_{(eqM(a)(b) \\to (eqM(b)(c) \\to eqM(a)(c)))}(e_r)(mul(e_l)(e_l))(mul(e_l)(e_r))($oemq)($oemr)\u001b[39m,\n",
       "      \u001b[32m0.0019102078286236943\u001b[39m\n",
       "    ),\n",
       "    \u001b[33mWeighted\u001b[39m(\n",
       "      \u001b[32m($ofdl : eqM(mul(e_r)(e_l))(mul(e_l)(e_r))) ↦ ($ofdk : eqM(e_r)(mul(e_r)(e_l))) ↦ axiom_{(eqM(a)(b) \\to (eqM(b)(c) \\to eqM(a)(c)))}(e_r)(mul(e_r)(e_l))(mul(e_l)(e_r))($ofdk)($ofdl)\u001b[39m,\n",
       "      \u001b[32m0.0019102078286236943\u001b[39m\n",
       "    ),\n",
       "    \u001b[33mWeighted\u001b[39m(\n",
       "      \u001b[32m(_ : eqM(mul(e_r)(e_l))(e_r)) ↦ axiom_{(eqM(a)(b) \\to eqM(b)(a))}(mul(e_l)(e_l))(e_l)($ofup)\u001b[39m,\n",
       "      \u001b[32m0.012506287236483256\u001b[39m\n",
       "    ),\n",
       "    \u001b[33mWeighted\u001b[39m(\n",
       "      \u001b[32m(_ : eqM($ogcn)(mul(e_l)(e_r))) ↦ (_ : eqM(e_r)($ogcn)) ↦ ($ogcn : M) ↦ axiom_{(eqM(a)(b) \\to \u001b[39m..."
      ]
     },
     "execution_count": 14,
     "metadata": {},
     "output_type": "execute_result"
    }
   ],
   "source": [
    "val tgD2 = tgT2.runSyncUnsafe()"
   ]
  },
  {
   "cell_type": "code",
   "execution_count": 15,
   "metadata": {},
   "outputs": [
    {
     "data": {
      "text/plain": [
       "\u001b[36mtgtT2\u001b[39m: \u001b[32mmonix\u001b[39m.\u001b[32meval\u001b[39m.\u001b[32mTask\u001b[39m[\u001b[32mFiniteDistribution\u001b[39m[\u001b[32mTerm\u001b[39m]] = \u001b[33mFlatMap\u001b[39m(\n",
       "  \u001b[33mMap\u001b[39m(\n",
       "    \u001b[33mFlatMap\u001b[39m(\u001b[33mAsync\u001b[39m(<function2>, true, true, true), monix.eval.Task$$Lambda$3376/986006797@310fc890),\n",
       "    provingground.learning.MonixFiniteDistribution$$Lambda$3568/1377180820@54d8cd99,\n",
       "    \u001b[32m0\u001b[39m\n",
       "  ),\n",
       "  provingground.learning.MonixFiniteDistribution$$Lambda$3569/393696762@36008355\n",
       ")"
      ]
     },
     "execution_count": 15,
     "metadata": {},
     "output_type": "execute_result"
    }
   ],
   "source": [
    "val tgtT2 =  mfd.nodeDist(ts)(tg.Gen.foldedTargetFunctionNode(eqM(r)(op(l)(r))), 0.0001)"
   ]
  },
  {
   "cell_type": "markdown",
   "metadata": {},
   "source": [
    "And indeed, here is a proof of the lemma."
   ]
  },
  {
   "cell_type": "code",
   "execution_count": 16,
   "metadata": {},
   "outputs": [
    {
     "data": {
      "text/plain": [
       "\u001b[36mtgtD2\u001b[39m: \u001b[32mFiniteDistribution\u001b[39m[\u001b[32mTerm\u001b[39m] = \u001b[33mFiniteDistribution\u001b[39m(\n",
       "  \u001b[33mVector\u001b[39m(\n",
       "    \u001b[33mWeighted\u001b[39m(\n",
       "      \u001b[32maxiom_{(eqM(a)(b) \\to eqM(b)(a))}(mul(e_l)(e_r))(e_r)(axiom_{eqM(mul(e_l)(a))(a)}(e_r))\u001b[39m,\n",
       "      \u001b[32m0.2984554037429222\u001b[39m\n",
       "    )\n",
       "  )\n",
       ")"
      ]
     },
     "execution_count": 16,
     "metadata": {},
     "output_type": "execute_result"
    }
   ],
   "source": [
    "val tgtD2 = tgtT2.runSyncUnsafe()"
   ]
  },
  {
   "cell_type": "markdown",
   "metadata": {},
   "source": [
    "## Identity type\n",
    "\n",
    "We test backward reasoning using the standard equality instead of a custom equality type. This now works."
   ]
  },
  {
   "cell_type": "code",
   "execution_count": 17,
   "metadata": {},
   "outputs": [
    {
     "data": {
      "text/plain": [
       "\u001b[32mimport \u001b[39m\u001b[36mIdentityTyp._\n",
       "\u001b[39m\n",
       "\u001b[36mres16_1\u001b[39m: \u001b[32mFuncLike\u001b[39m[\u001b[32mTyp\u001b[39m[\u001b[32mTerm\u001b[39m], \u001b[32mFuncLike\u001b[39m[\u001b[32mTerm\u001b[39m, \u001b[32mFuncLike\u001b[39m[\u001b[32mTerm\u001b[39m, \u001b[32mFunc\u001b[39m[\u001b[32mEquality\u001b[39m[\u001b[32mTerm\u001b[39m], \u001b[32mEquality\u001b[39m[\u001b[32mTerm\u001b[39m]]]]] = \u001b[32m($xbbx : 𝒰 ) ↦ ($xbce : $xbbx) ↦ ($xbcf : $xbbx) ↦ ($xbcg : $xbce = $xbcf) ↦ induc_{ ($xbom : $xbbx) ↦ ($xbon : $xbbx) ↦ $xbom = $xbon ; ($xbby : $xbbx) ↦ ($xbbz : $xbbx) ↦ (_ : $xbby = $xbbz) ↦ $xbbz = $xbby }(($xbby : $xbbx) ↦ Refl($xbbx,$xbby))($xbcg)\u001b[39m"
      ]
     },
     "execution_count": 17,
     "metadata": {},
     "output_type": "execute_result"
    }
   ],
   "source": [
    "import IdentityTyp._\n",
    "symmTerm"
   ]
  },
  {
   "cell_type": "code",
   "execution_count": 18,
   "metadata": {},
   "outputs": [
    {
     "data": {
      "text/plain": [
       "\u001b[36mres17\u001b[39m: \u001b[32mFuncLike\u001b[39m[\u001b[32mTyp\u001b[39m[\u001b[32mTerm\u001b[39m], \u001b[32mFuncLike\u001b[39m[\u001b[32mTerm\u001b[39m, \u001b[32mFuncLike\u001b[39m[\u001b[32mTerm\u001b[39m, \u001b[32mFuncLike\u001b[39m[\u001b[32mTerm\u001b[39m, \u001b[32mFunc\u001b[39m[\u001b[32mEquality\u001b[39m[\u001b[32mTerm\u001b[39m], \u001b[32mFunc\u001b[39m[\u001b[32mEquality\u001b[39m[\u001b[32mTerm\u001b[39m], \u001b[32mEquality\u001b[39m[\u001b[32mTerm\u001b[39m]]]]]]] = \u001b[32m($xbbx : 𝒰 ) ↦ ($xbop : $xbbx) ↦ ($xboq : $xbbx) ↦ ($xbor : $xbbx) ↦ ($xbpy : $xbop = $xboq) ↦ induc_{ ($xfly : $xbbx) ↦ ($xflz : $xbbx) ↦ $xfly = $xflz ; ($xbos : $xbbx) ↦ ($xbot : $xbbx) ↦ (_ : $xbos = $xbot) ↦ ($xbot = $xbor → $xbos = $xbor) }(($xbos : $xbbx) ↦ ($xcqx : $xbos = $xbor) ↦ $xcqx)($xbpy)\u001b[39m"
      ]
     },
     "execution_count": 18,
     "metadata": {},
     "output_type": "execute_result"
    }
   ],
   "source": [
    "transTerm"
   ]
  },
  {
   "cell_type": "code",
   "execution_count": 19,
   "metadata": {},
   "outputs": [
    {
     "data": {
      "text/plain": [
       "\u001b[36mres18\u001b[39m: \u001b[32mFunc\u001b[39m[\u001b[32mEquality\u001b[39m[\u001b[32mTerm\u001b[39m], \u001b[32mEquality\u001b[39m[\u001b[32mTerm\u001b[39m]] = \u001b[32m($xbcg : e_l = e_r) ↦ induc_{ ($xfmz : M) ↦ ($xfna : M) ↦ $xfmz = $xfna ; ($xbby : M) ↦ ($xbbz : M) ↦ (_ : $xbby = $xbbz) ↦ $xbbz = $xbby }(($xbby : M) ↦ Refl(M,$xbby))($xbcg)\u001b[39m"
      ]
     },
     "execution_count": 19,
     "metadata": {},
     "output_type": "execute_result"
    }
   ],
   "source": [
    "symmTerm (M) (l) (r)"
   ]
  },
  {
   "cell_type": "code",
   "execution_count": 20,
   "metadata": {},
   "outputs": [
    {
     "data": {
      "text/plain": [
       "\u001b[36mres19\u001b[39m: \u001b[32mTyp\u001b[39m[\u001b[32mFunc\u001b[39m[\u001b[32mEquality\u001b[39m[\u001b[32mTerm\u001b[39m], \u001b[32mEquality\u001b[39m[\u001b[32mTerm\u001b[39m]]] = \u001b[32m(e_l = e_r → e_r = e_l)\u001b[39m"
      ]
     },
     "execution_count": 20,
     "metadata": {},
     "output_type": "execute_result"
    }
   ],
   "source": [
    "symmTerm(M)(l)(r).typ"
   ]
  },
  {
   "cell_type": "code",
   "execution_count": 21,
   "metadata": {},
   "outputs": [
    {
     "data": {
      "text/plain": [
       "\u001b[36mres20\u001b[39m: \u001b[32mTyp\u001b[39m[\u001b[32mFuncLike\u001b[39m[\u001b[32mTerm\u001b[39m, \u001b[32mFuncLike\u001b[39m[\u001b[32mTerm\u001b[39m, \u001b[32mFuncLike\u001b[39m[\u001b[32mTerm\u001b[39m, \u001b[32mFunc\u001b[39m[\u001b[32mEquality\u001b[39m[\u001b[32mTerm\u001b[39m], \u001b[32mFunc\u001b[39m[\u001b[32mEquality\u001b[39m[\u001b[32mTerm\u001b[39m], \u001b[32mEquality\u001b[39m[\u001b[32mTerm\u001b[39m]]]]]]] = \u001b[32m∏($xbop : M){ ∏($xboq : M){ ∏($xbor : M){ ($xbop = $xboq → ($xboq = $xbor → $xbop = $xbor)) } } }\u001b[39m"
      ]
     },
     "execution_count": 21,
     "metadata": {},
     "output_type": "execute_result"
    }
   ],
   "source": [
    "transTerm(M).typ"
   ]
  },
  {
   "cell_type": "code",
   "execution_count": 22,
   "metadata": {},
   "outputs": [
    {
     "data": {
      "text/plain": [
       "\u001b[36mts0\u001b[39m: \u001b[32mTermState\u001b[39m = \u001b[33mTermState\u001b[39m(\n",
       "  \u001b[33mFiniteDistribution\u001b[39m(\n",
       "    \u001b[33mVector\u001b[39m(\n",
       "      \u001b[33mWeighted\u001b[39m(\n",
       "        \u001b[32m($xbbx : 𝒰 ) ↦ ($xbce : $xbbx) ↦ ($xbcf : $xbbx) ↦ ($xbcg : $xbce = $xbcf) ↦ induc_{ ($xbom : $xbbx) ↦ ($xbon : $xbbx) ↦ $xbom = $xbon ; ($xbby : $xbbx) ↦ ($xbbz : $xbbx) ↦ (_ : $xbby = $xbbz) ↦ $xbbz = $xbby }(($xbby : $xbbx) ↦ Refl($xbbx,$xbby))($xbcg)\u001b[39m,\n",
       "        \u001b[32m0.25\u001b[39m\n",
       "      ),\n",
       "      \u001b[33mWeighted\u001b[39m(\n",
       "        \u001b[32m($xbbx : 𝒰 ) ↦ ($xbop : $xbbx) ↦ ($xboq : $xbbx) ↦ ($xbor : $xbbx) ↦ ($xbpy : $xbop = $xboq) ↦ induc_{ ($xfly : $xbbx) ↦ ($xflz : $xbbx) ↦ $xfly = $xflz ; ($xbos : $xbbx) ↦ ($xbot : $xbbx) ↦ (_ : $xbos = $xbot) ↦ ($xbot = $xbor → $xbos = $xbor) }(($xbos : $xbbx) ↦ ($xcqx : $xbos = $xbor) ↦ $xcqx)($xbpy)\u001b[39m,\n",
       "        \u001b[32m0.25\u001b[39m\n",
       "      ),\n",
       "      \u001b[33mWeighted\u001b[39m(\u001b[32me_l\u001b[39m, \u001b[32m0.25\u001b[39m),\n",
       "      \u001b[33mWeighted\u001b[39m(\u001b[32me_r\u001b[39m, \u001b[32m0.25\u001b[39m)\n",
       "    )\n",
       "  ),\n",
       "  \u001b[33mFiniteDistribution\u001b[39m(\u001b[33mVector\u001b[39m(\u001b[33mWeighted\u001b[39m(\u001b[32mM\u001b[39m, \u001b[32m1.0\u001b[39m))),\n",
       "  \u001b[33mVector\u001b[39m(),\n",
       "  \u001b[33mFiniteDistribution\u001b[39m(\u001b[33mVector\u001b[39m()),\n",
       "  \u001b[33mFiniteDistribution\u001b[39m(\u001b[33mVector\u001b[39m()),\n",
       "  Empty\n",
       ")"
      ]
     },
     "execution_count": 22,
     "metadata": {},
     "output_type": "execute_result"
    }
   ],
   "source": [
    "val ts0 = TermState(FiniteDistribution.unif(symmTerm, transTerm, l, r), FiniteDistribution.unif(M))"
   ]
  },
  {
   "cell_type": "code",
   "execution_count": 23,
   "metadata": {},
   "outputs": [
    {
     "data": {
      "text/plain": [
       "\u001b[36mtgT0\u001b[39m: \u001b[32mmonix\u001b[39m.\u001b[32meval\u001b[39m.\u001b[32mTask\u001b[39m[\u001b[32mFiniteDistribution\u001b[39m[\u001b[32mTerm\u001b[39m]] = \u001b[33mMap\u001b[39m(\n",
       "  \u001b[33mFlatMap\u001b[39m(\u001b[33mAsync\u001b[39m(<function2>, true, true, true), monix.eval.Task$$Lambda$3376/986006797@1c350c7f),\n",
       "  provingground.learning.MonixFiniteDistribution$$Lambda$3377/701679835@76b2ae92,\n",
       "  \u001b[32m0\u001b[39m\n",
       ")"
      ]
     },
     "execution_count": 23,
     "metadata": {},
     "output_type": "execute_result"
    }
   ],
   "source": [
    "val tgT0 = mfd.nodeDist(ts0)(tg.Gen.codomainNode(l =:= r), 0.001)"
   ]
  },
  {
   "cell_type": "code",
   "execution_count": 24,
   "metadata": {},
   "outputs": [
    {
     "data": {
      "text/plain": [
       "\u001b[36mres23\u001b[39m: \u001b[32mOption\u001b[39m[\u001b[32mTerm\u001b[39m] = \u001b[33mSome\u001b[39m(\n",
       "  \u001b[32m($xbcg : e_r = e_l) ↦ induc_{ ($xgrv : M) ↦ ($xgrw : M) ↦ $xgrv = $xgrw ; ($xbby : M) ↦ ($xbbz : M) ↦ (_ : $xbby = $xbbz) ↦ $xbbz = $xbby }(($xbby : M) ↦ Refl(M,$xbby))($xbcg)\u001b[39m\n",
       ")"
      ]
     },
     "execution_count": 24,
     "metadata": {},
     "output_type": "execute_result"
    }
   ],
   "source": [
    "Unify.targetCodomain(symmTerm, l =:= r)"
   ]
  }
 ],
 "metadata": {
  "kernelspec": {
   "display_name": "Scala",
   "language": "scala",
   "name": "scala"
  },
  "language_info": {
   "codemirror_mode": "text/x-scala",
   "file_extension": ".scala",
   "mimetype": "text/x-scala",
   "name": "scala",
   "nbconvert_exporter": "script",
   "version": "2.12.8"
  }
 },
 "nbformat": 4,
 "nbformat_minor": 2
}
