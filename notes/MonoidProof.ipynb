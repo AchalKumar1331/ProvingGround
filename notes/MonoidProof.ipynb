{
 "cells": [
  {
   "cell_type": "markdown",
   "metadata": {},
   "source": [
    "# A sample proof identifying Lemmas and generating by Derivatives\n"
   ]
  },
  {
   "cell_type": "code",
   "execution_count": null,
   "metadata": {},
   "outputs": [],
   "source": []
  },
  {
   "cell_type": "code",
   "execution_count": null,
   "metadata": {},
   "outputs": [],
   "source": []
  },
  {
   "cell_type": "code",
   "execution_count": 17,
   "metadata": {},
   "outputs": [
    {
     "data": {
      "text/plain": [
       "\u001b[32mimport \u001b[39m\u001b[36m$cp.$       \u001b[39m"
      ]
     },
     "execution_count": 17,
     "metadata": {},
     "output_type": "execute_result"
    }
   ],
   "source": [
    "import $cp.bin.core"
   ]
  },
  {
   "cell_type": "code",
   "execution_count": 18,
   "metadata": {},
   "outputs": [
    {
     "data": {
      "text/plain": [
       "\u001b[32mimport \u001b[39m\u001b[36mprovingground._ , interface._, HoTT._\n",
       "\u001b[39m\n",
       "\u001b[32mimport \u001b[39m\u001b[36mlearning._\n",
       "\u001b[39m\n",
       "\u001b[32mimport \u001b[39m\u001b[36mlibrary._, MonoidSimple._\u001b[39m"
      ]
     },
     "execution_count": 18,
     "metadata": {},
     "output_type": "execute_result"
    }
   ],
   "source": [
    "import provingground._ , interface._, HoTT._\n",
    "import learning._\n",
    "import library._, MonoidSimple._"
   ]
  },
  {
   "cell_type": "code",
   "execution_count": 19,
   "metadata": {},
   "outputs": [],
   "source": [
    " repl.pprinter.bind(translation.FansiShow.fansiPrint)"
   ]
  },
  {
   "cell_type": "code",
   "execution_count": 20,
   "metadata": {},
   "outputs": [
    {
     "data": {
      "text/plain": [
       "\u001b[36mtg\u001b[39m: \u001b[32mTermGenParams\u001b[39m = \u001b[33mTermGenParams\u001b[39m(\u001b[32m0.1\u001b[39m, \u001b[32m0.1\u001b[39m, \u001b[32m0.1\u001b[39m, \u001b[32m0.0\u001b[39m, \u001b[32m0.0\u001b[39m, \u001b[32m0.05\u001b[39m, \u001b[32m0.05\u001b[39m, \u001b[32m0.05\u001b[39m, \u001b[32m0.3\u001b[39m, \u001b[32m0.5\u001b[39m, \u001b[32m0.5\u001b[39m)"
      ]
     },
     "execution_count": 20,
     "metadata": {},
     "output_type": "execute_result"
    }
   ],
   "source": [
    "val tg = TermGenParams(lmW=0, piW=0)"
   ]
  },
  {
   "cell_type": "code",
   "execution_count": 21,
   "metadata": {},
   "outputs": [
    {
     "data": {
      "text/plain": [
       "\u001b[36mts\u001b[39m: \u001b[32mTermState\u001b[39m = \u001b[33mTermState\u001b[39m(\n",
       "  \u001b[33mFiniteDistribution\u001b[39m(\n",
       "    \u001b[33mVector\u001b[39m(\n",
       "      \u001b[33mWeighted\u001b[39m(\u001b[32me_l\u001b[39m, \u001b[32m0.047619047619047616\u001b[39m),\n",
       "      \u001b[33mWeighted\u001b[39m(\u001b[32me_r\u001b[39m, \u001b[32m0.047619047619047616\u001b[39m),\n",
       "      \u001b[33mWeighted\u001b[39m(\u001b[32mmul\u001b[39m, \u001b[32m0.047619047619047616\u001b[39m),\n",
       "      \u001b[33mWeighted\u001b[39m(\u001b[32meqM\u001b[39m, \u001b[32m0.047619047619047616\u001b[39m),\n",
       "      \u001b[33mWeighted\u001b[39m(\u001b[32maxiom_{eqM(a)(a)}\u001b[39m, \u001b[32m0.047619047619047616\u001b[39m),\n",
       "      \u001b[33mWeighted\u001b[39m(\u001b[32maxiom_{(eqM(a)(b) \\to eqM(b)(a))}\u001b[39m, \u001b[32m0.047619047619047616\u001b[39m),\n",
       "      \u001b[33mWeighted\u001b[39m(\u001b[32maxiom_{(eqM(a)(b) \\to (eqM(b)(c) \\to eqM(a)(c)))}\u001b[39m, \u001b[32m0.047619047619047616\u001b[39m),\n",
       "      \u001b[33mWeighted\u001b[39m(\u001b[32maxiom_{eqM(mul(e_l)(a))(a)}\u001b[39m, \u001b[32m0.047619047619047616\u001b[39m),\n",
       "      \u001b[33mWeighted\u001b[39m(\u001b[32maxiom_{eqM(mul(a)(e_r))(a)}\u001b[39m, \u001b[32m0.047619047619047616\u001b[39m),\n",
       "      \u001b[33mWeighted\u001b[39m(\u001b[32meqM\u001b[39m, \u001b[32m0.2857142857142857\u001b[39m),\n",
       "      \u001b[33mWeighted\u001b[39m(\u001b[32mmul\u001b[39m, \u001b[32m0.2857142857142857\u001b[39m)\n",
       "    )\n",
       "  ),\n",
       "  \u001b[33mFiniteDistribution\u001b[39m(\n",
       "    \u001b[33mVector\u001b[39m(\n",
       "      \u001b[33mWeighted\u001b[39m(\u001b[32mM\u001b[39m, \u001b[32m0.047619047619047616\u001b[39m),\n",
       "      \u001b[33mWeighted\u001b[39m(\u001b[32mM\u001b[39m, \u001b[32m0.047619047619047616\u001b[39m),\n",
       "      \u001b[33mWeighted\u001b[39m(\u001b[32m(M → (M → M))\u001b[39m, \u001b[32m0.047619047619047616\u001b[39m),\n",
       "      \u001b[33mWeighted\u001b[39m(\u001b[32m(M → (M → 𝒰 ))\u001b[39m, \u001b[32m0.047619047619047616\u001b[39m),\n",
       "      \u001b[33mWeighted\u001b[39m(\u001b[32m∏(a : M){ eqM(a)(a) }\u001b[39m, \u001b[32m0.047619047619047616\u001b[39m),\n",
       "      \u001b[33mWeighted\u001b[39m(\u001b[32m∏(a : M){ ∏(b : M){ (eqM(a)(b) → eqM(b)(a)) } }\u001b[39m, \u001b[32m0.047619047619047616\u001b[39m),\n",
       "      \u001b[33mWeighted\u001b[39m(\n",
       "        \u001b[32m∏(a : M){ ∏(b : M){ ∏(c : M){ (eqM(a)(b) → (eqM(b)(c) → eqM(a)(c))) } } }\u001b[39m,\n",
       "        \u001b[32m0.047619047619047616\u001b[39m\n",
       "      ),\n",
       "      \u001b[33mWeighted\u001b[39m(\u001b[32m∏(a : M){ eqM(mul(e_l)(a))(a) }\u001b[39m, \u001b[32m0.047619047619047616\u001b[39m),\n",
       "      \u001b[33mWeighted\u001b[39m(\u001b[32m∏(a : M){ eqM(mul(a)(e_r))(a) }\u001b[39m, \u001b[32m0.047619047619047616\u001b[39m),\n",
       "      \u001b[33mWeighted\u001b[39m(\u001b[32m(M → (M → 𝒰 ))\u001b[39m, \u001b[32m0.2857142857142857\u001b[39m),\n",
       "      \u001b[33mWeighted\u001b[39m(\u001b[32m(M → (M → M))\u001b[39m, \u001b[32m0.2857142857142857\u001b[39m)\n",
       "    )\n",
       "  ),\n",
       "  \u001b[33mVector\u001b[39m(),\n",
       "  \u001b[33mFiniteDistribution\u001b[39m(\u001b[33mVector\u001b[39m()),\n",
       "  \u001b[33mFiniteDistribution\u001b[39m(\u001b[33mVector\u001b[39m()),\n",
       "  Empty\n",
       ")"
      ]
     },
     "execution_count": 21,
     "metadata": {},
     "output_type": "execute_result"
    }
   ],
   "source": [
    "val ts = TermState(dist1, dist1.map(_.typ))"
   ]
  },
  {
   "cell_type": "code",
   "execution_count": 22,
   "metadata": {},
   "outputs": [
    {
     "data": {
      "text/plain": [
       "\u001b[32mimport \u001b[39m\u001b[36mmonix.execution.Scheduler.Implicits.global \u001b[39m"
      ]
     },
     "execution_count": 22,
     "metadata": {},
     "output_type": "execute_result"
    }
   ],
   "source": [
    "import monix.execution.Scheduler.Implicits.global "
   ]
  },
  {
   "cell_type": "code",
   "execution_count": 23,
   "metadata": {},
   "outputs": [
    {
     "data": {
      "text/plain": [
       "\u001b[36mevT\u001b[39m: \u001b[32mmonix\u001b[39m.\u001b[32meval\u001b[39m.\u001b[32mTask\u001b[39m[\u001b[32mEvolvedState\u001b[39m] = \u001b[33mMap\u001b[39m(\n",
       "  \u001b[33mFlatMap\u001b[39m(\n",
       "    \u001b[33mFlatMap\u001b[39m(\u001b[33mAsync\u001b[39m(<function2>, true, true, true), monix.eval.Task$$Lambda$2628/1963870683@3fbba96),\n",
       "    provingground.learning.TermGenParams$$Lambda$2629/177471452@1787cc50\n",
       "  ),\n",
       "  provingground.learning.TermGenParams$$Lambda$2630/1501009111@5988d411,\n",
       "  \u001b[32m0\u001b[39m\n",
       ")"
      ]
     },
     "execution_count": 23,
     "metadata": {},
     "output_type": "execute_result"
    }
   ],
   "source": [
    "val evT = tg.evolvedStateTask(ts, 0.0001)"
   ]
  },
  {
   "cell_type": "code",
   "execution_count": 24,
   "metadata": {},
   "outputs": [
    {
     "data": {
      "text/plain": [
       "\u001b[36mev\u001b[39m: \u001b[32mEvolvedState\u001b[39m = \u001b[33mEvolvedState\u001b[39m(\n",
       "  \u001b[33mTermState\u001b[39m(\n",
       "    \u001b[33mFiniteDistribution\u001b[39m(\n",
       "      \u001b[33mVector\u001b[39m(\n",
       "        \u001b[33mWeighted\u001b[39m(\u001b[32me_l\u001b[39m, \u001b[32m0.047619047619047616\u001b[39m),\n",
       "        \u001b[33mWeighted\u001b[39m(\u001b[32me_r\u001b[39m, \u001b[32m0.047619047619047616\u001b[39m),\n",
       "        \u001b[33mWeighted\u001b[39m(\u001b[32mmul\u001b[39m, \u001b[32m0.047619047619047616\u001b[39m),\n",
       "        \u001b[33mWeighted\u001b[39m(\u001b[32meqM\u001b[39m, \u001b[32m0.047619047619047616\u001b[39m),\n",
       "        \u001b[33mWeighted\u001b[39m(\u001b[32maxiom_{eqM(a)(a)}\u001b[39m, \u001b[32m0.047619047619047616\u001b[39m),\n",
       "        \u001b[33mWeighted\u001b[39m(\u001b[32maxiom_{(eqM(a)(b) \\to eqM(b)(a))}\u001b[39m, \u001b[32m0.047619047619047616\u001b[39m),\n",
       "        \u001b[33mWeighted\u001b[39m(\u001b[32maxiom_{(eqM(a)(b) \\to (eqM(b)(c) \\to eqM(a)(c)))}\u001b[39m, \u001b[32m0.047619047619047616\u001b[39m),\n",
       "        \u001b[33mWeighted\u001b[39m(\u001b[32maxiom_{eqM(mul(e_l)(a))(a)}\u001b[39m, \u001b[32m0.047619047619047616\u001b[39m),\n",
       "        \u001b[33mWeighted\u001b[39m(\u001b[32maxiom_{eqM(mul(a)(e_r))(a)}\u001b[39m, \u001b[32m0.047619047619047616\u001b[39m),\n",
       "        \u001b[33mWeighted\u001b[39m(\u001b[32meqM\u001b[39m, \u001b[32m0.2857142857142857\u001b[39m),\n",
       "        \u001b[33mWeighted\u001b[39m(\u001b[32mmul\u001b[39m, \u001b[32m0.2857142857142857\u001b[39m)\n",
       "      )\n",
       "    ),\n",
       "    \u001b[33mFiniteDistribution\u001b[39m(\n",
       "      \u001b[33mVector\u001b[39m(\n",
       "        \u001b[33mWeighted\u001b[39m(\u001b[32mM\u001b[39m, \u001b[32m0.047619047619047616\u001b[39m),\n",
       "        \u001b[33mWeighted\u001b[39m(\u001b[32mM\u001b[39m, \u001b[32m0.047619047619047616\u001b[39m),\n",
       "        \u001b[33mWeighted\u001b[39m(\u001b[32m(M → (M → M))\u001b[39m, \u001b[32m0.047619047619047616\u001b[39m),\n",
       "        \u001b[33mWeighted\u001b[39m(\u001b[32m(M → (M → 𝒰 ))\u001b[39m, \u001b[32m0.047619047619047616\u001b[39m),\n",
       "        \u001b[33mWeighted\u001b[39m(\u001b[32m∏(a : M){ eqM(a)(a) }\u001b[39m, \u001b[32m0.047619047619047616\u001b[39m),\n",
       "        \u001b[33mWeighted\u001b[39m(\u001b[32m∏(a : M){ ∏(b : M){ (eqM(a)(b) → eqM(b)(a)) } }\u001b[39m, \u001b[32m0.047619047619047616\u001b[39m),\n",
       "        \u001b[33mWeighted\u001b[39m(\n",
       "          \u001b[32m∏(a : M){ ∏(b : M){ ∏(c : M){ (eqM(a)(b) → (eqM(b)(c) → eqM(a)(c))) } } }\u001b[39m,\n",
       "          \u001b[32m0.047619047619047616\u001b[39m\n",
       "        ),\n",
       "        \u001b[33mWeighted\u001b[39m(\u001b[32m∏(a : M){ eqM(mul(e_l)(a))(a) }\u001b[39m, \u001b[32m0.047619047619047616\u001b[39m),\n",
       "        \u001b[33mWeighted\u001b[39m(\u001b[32m∏(a : M){ eqM(mul(a)(e_r))(a) }\u001b[39m, \u001b[32m0.047619047619047616\u001b[39m),\n",
       "        \u001b[33mWeighted\u001b[39m(\u001b[32m(M → (M → 𝒰 ))\u001b[39m, \u001b[32m0.2857142857142857\u001b[39m),\n",
       "        \u001b[33mWeighted\u001b[39m(\u001b[32m(M → (M → M))\u001b[39m, \u001b[32m0.2857142857142857\u001b[39m)\n",
       "      )\n",
       "    ),\n",
       "    \u001b[33mVector\u001b[39m(),\n",
       "    \u001b[33mFiniteDistribution\u001b[39m(\u001b[33mVector\u001b[39m()),\n",
       "    \u001b[33mFiniteDistribution\u001b[39m(\u001b[33mVector\u001b[39m()),\n",
       "    Empty\n",
       "  ),\n",
       "  \u001b[33mTermState\u001b[39m(\n",
       "    \u001b[33mFiniteDistribution\u001b[39m(\n",
       "      \u001b[33mVector\u001b[39m(\n",
       "        \u001b[33mWeighted\u001b[39m(\n",
       "          \u001b[32maxiom_{(eqM(a)(b) \\to eqM(b)(a))}(mul(e_l)(e_r))(e_l)(axiom_{eqM(mul(a)(e_r))(a)}(e_l))\u001b[39m,\n",
       "          \u001b[32m1.7403087380814608E-4\u001b[39m\n",
       "        ),\n",
       "        \u001b[33mWeighted\u001b[39m(\n",
       "          \u001b[32maxiom_{(eqM(a)(b) \\to (eqM(b)(c) \\to eqM(a)(c)))}(e_r)(mul(e_r)(e_r))\u001b[39m,\n",
       "..."
      ]
     },
     "execution_count": 24,
     "metadata": {},
     "output_type": "execute_result"
    }
   ],
   "source": [
    "val ev = evT.runSyncUnsafe() "
   ]
  },
  {
   "cell_type": "code",
   "execution_count": 25,
   "metadata": {},
   "outputs": [
    {
     "data": {
      "text/plain": [
       "\u001b[32mimport \u001b[39m\u001b[36mEntropyAtomWeight._ \n",
       "\u001b[39m\n",
       "\u001b[36mits\u001b[39m: \u001b[32mVector\u001b[39m[(\u001b[32mTyp\u001b[39m[\u001b[32mTerm\u001b[39m], \u001b[32mIterator\u001b[39m[\u001b[32mDouble\u001b[39m])] = \u001b[33mVector\u001b[39m(\n",
       "  (\u001b[32meqM(e_r)(e_r)\u001b[39m, <iterator>),\n",
       "  (\u001b[32meqM(mul(e_l)(e_r))(e_l)\u001b[39m, <iterator>),\n",
       "  (\u001b[32meqM(e_l)(e_l)\u001b[39m, <iterator>),\n",
       "  (\u001b[32meqM(mul(e_l)(e_l))(e_l)\u001b[39m, <iterator>),\n",
       "  (\u001b[32meqM(e_l)(mul(e_l)(e_r))\u001b[39m, <iterator>),\n",
       "  (\u001b[32meqM(e_l)(mul(e_l)(e_l))\u001b[39m, <iterator>),\n",
       "  (\u001b[32meqM(mul(e_l)(e_r))(e_r)\u001b[39m, <iterator>),\n",
       "  (\u001b[32meqM(mul(e_r)(e_r))(e_r)\u001b[39m, <iterator>),\n",
       "  (\u001b[32meqM(e_r)(mul(e_l)(e_r))\u001b[39m, <iterator>),\n",
       "  (\u001b[32meqM(e_r)(mul(e_r)(e_r))\u001b[39m, <iterator>)\n",
       ")"
      ]
     },
     "execution_count": 25,
     "metadata": {},
     "output_type": "execute_result"
    }
   ],
   "source": [
    "import EntropyAtomWeight._ \n",
    "val its = evolvedLemmaIters(ev)"
   ]
  },
  {
   "cell_type": "code",
   "execution_count": 26,
   "metadata": {},
   "outputs": [
    {
     "data": {
      "text/plain": [
       "\u001b[36mstreams\u001b[39m: \u001b[32mVector\u001b[39m[(\u001b[32mTyp\u001b[39m[\u001b[32mTerm\u001b[39m], \u001b[32mStream\u001b[39m[\u001b[32mDouble\u001b[39m])] = \u001b[33mVector\u001b[39m(\n",
       "  (\n",
       "    \u001b[32meqM(e_r)(e_r)\u001b[39m,\n",
       "    \u001b[33mStream\u001b[39m(\n",
       "      \u001b[32m0.006722192160544933\u001b[39m,\n",
       "      \u001b[32m0.006638579019869816\u001b[39m,\n",
       "      \u001b[32m0.006556965648882864\u001b[39m,\n",
       "      \u001b[32m0.006477280618977798\u001b[39m,\n",
       "      \u001b[32m0.006399455860163608\u001b[39m,\n",
       "      \u001b[32m0.006323426467130178\u001b[39m,\n",
       "      \u001b[32m0.00624913051849513\u001b[39m,\n",
       "      \u001b[32m0.0061765089082067995\u001b[39m,\n",
       "      \u001b[32m0.006105505188167608\u001b[39m,\n",
       "      \u001b[32m0.006036065421222929\u001b[39m,\n",
       "      \u001b[32m0.005968138043733603\u001b[39m,\n",
       "      \u001b[32m0.005901673737016389\u001b[39m,\n",
       "      \u001b[32m0.005836625306996713\u001b[39m,\n",
       "      \u001b[32m0.00577294757147239\u001b[39m,\n",
       "      \u001b[32m0.005710597254436561\u001b[39m,\n",
       "      \u001b[32m0.005649532886952888\u001b[39m,\n",
       "      \u001b[32m0.005589714714117068\u001b[39m,\n",
       "      \u001b[32m0.0055311046076758795\u001b[39m,\n",
       "      \u001b[32m0.005473665983908948\u001b[39m,\n",
       "      \u001b[32m0.005417363726409428\u001b[39m,\n",
       "      \u001b[32m0.005362164113428051\u001b[39m,\n",
       "      \u001b[32m0.005308034749470796\u001b[39m,\n",
       "      \u001b[32m0.005254944500864192\u001b[39m,\n",
       "      \u001b[32m0.005202863435023806\u001b[39m,\n",
       "      \u001b[32m0.0051517627631813305\u001b[39m,\n",
       "      \u001b[32m0.005101614786343904\u001b[39m,\n",
       "      \u001b[32m0.005052392844275939\u001b[39m,\n",
       "      \u001b[32m0.005004071267309053\u001b[39m,\n",
       "      \u001b[32m0.004956625330799809\u001b[39m,\n",
       "      \u001b[32m0.004910031212067913\u001b[39m,\n",
       "      \u001b[32m0.0048642659496594\u001b[39m,\n",
       "      \u001b[32m0.004819307404790365\u001b[39m,\n",
       "      \u001b[32m0.004775134224836896\u001b[39m,\n",
       "      \u001b[32m0.004731725808746164\u001b[39m,\n",
       "      \u001b[32m0.004689062274252289\u001b[39m,\n",
       "      \u001b[32m0.004647124426788525\u001b[39m,\n",
       "      \u001b[32m0.004605893729994663\u001b[39m,\n",
       "      \u001b[32m0.0045653522777253305\u001b[39m,\n",
       "      \u001b[32m0.0045254827674711985\u001b[39m,\n",
       "      \u001b[32m0.004486268475110892\u001b[39m,\n",
       "      \u001b[32m0.004447693230916797\u001b[39m,\n",
       "      \u001b[32m0.004409741396742982\u001b[39m,\n",
       "      \u001b[32m0.004372397844328093\u001b[39m,\n",
       "      \u001b[32m0.004335647934650351\u001b[39m,\n",
       "      \u001b[32m0.004299477498275819\u001b[39m,\n",
       "..."
      ]
     },
     "execution_count": 26,
     "metadata": {},
     "output_type": "execute_result"
    }
   ],
   "source": [
    "val streams = its.map{case (tp, it) => (tp, it.toStream)} "
   ]
  },
  {
   "cell_type": "code",
   "execution_count": 27,
   "metadata": {},
   "outputs": [
    {
     "data": {
      "text/plain": [
       "\u001b[36mres26\u001b[39m: \u001b[32mVector\u001b[39m[(\u001b[32mTyp\u001b[39m[\u001b[32mTerm\u001b[39m], \u001b[32mDouble\u001b[39m, \u001b[32mDouble\u001b[39m, \u001b[32mDouble\u001b[39m)] = \u001b[33mVector\u001b[39m(\n",
       "  (\u001b[32meqM(e_r)(e_r)\u001b[39m, \u001b[32m0.006722192160544933\u001b[39m, \u001b[32m3.426395753639293E-4\u001b[39m, \u001b[32m1.9692207219442676E-5\u001b[39m),\n",
       "  (\u001b[32meqM(mul(e_l)(e_r))(e_l)\u001b[39m, \u001b[32m0.002453937779914061\u001b[39m, \u001b[32m1.4530469681356127E-4\u001b[39m, \u001b[32m1.1368973439945227E-5\u001b[39m),\n",
       "  (\u001b[32meqM(e_l)(e_l)\u001b[39m, \u001b[32m0.006722192160544933\u001b[39m, \u001b[32m3.426395753639293E-4\u001b[39m, \u001b[32m1.9692207219442676E-5\u001b[39m),\n",
       "  (\u001b[32meqM(mul(e_l)(e_l))(e_l)\u001b[39m, \u001b[32m0.002453937779914061\u001b[39m, \u001b[32m1.4530469681356127E-4\u001b[39m, \u001b[32m1.1368973439945227E-5\u001b[39m),\n",
       "  (\u001b[32meqM(e_l)(mul(e_l)(e_r))\u001b[39m, \u001b[32m2.1469429421471642E-4\u001b[39m, \u001b[32m0.0017663914917681596\u001b[39m, \u001b[32m0.0018047053112397848\u001b[39m),\n",
       "  (\u001b[32meqM(e_l)(mul(e_l)(e_l))\u001b[39m, \u001b[32m2.1469429421471642E-4\u001b[39m, \u001b[32m0.0017663914917681596\u001b[39m, \u001b[32m0.0018047053112397848\u001b[39m),\n",
       "  (\u001b[32meqM(mul(e_l)(e_r))(e_r)\u001b[39m, \u001b[32m0.002453937779914061\u001b[39m, \u001b[32m1.4530469681356127E-4\u001b[39m, \u001b[32m1.1368973439945227E-5\u001b[39m),\n",
       "  (\u001b[32meqM(mul(e_r)(e_r))(e_r)\u001b[39m, \u001b[32m0.002453937779914061\u001b[39m, \u001b[32m1.4530469681356127E-4\u001b[39m, \u001b[32m1.1368973439945227E-5\u001b[39m),\n",
       "  (\u001b[32meqM(e_r)(mul(e_l)(e_r))\u001b[39m, \u001b[32m2.1469429421471642E-4\u001b[39m, \u001b[32m0.0017663914917681596\u001b[39m, \u001b[32m0.0018047053112397848\u001b[39m),\n",
       "  (\u001b[32meqM(e_r)(mul(e_r)(e_r))\u001b[39m, \u001b[32m2.1469429421471642E-4\u001b[39m, \u001b[32m0.0017663914917681596\u001b[39m, \u001b[32m0.0018047053112397848\u001b[39m)\n",
       ")"
      ]
     },
     "execution_count": 27,
     "metadata": {},
     "output_type": "execute_result"
    }
   ],
   "source": [
    "streams.map{case (tp, s) => (tp, s(0), s(1000), s(10000))}"
   ]
  },
  {
   "cell_type": "code",
   "execution_count": 28,
   "metadata": {},
   "outputs": [
    {
     "data": {
      "text/plain": [
       "\u001b[36mpf\u001b[39m: \u001b[32mU\u001b[39m = \u001b[32mlemma\u001b[39m\n",
       "\u001b[36mres27_1\u001b[39m: \u001b[32mTyp\u001b[39m[\u001b[32mU\u001b[39m] = \u001b[32meqM(e_l)(mul(e_l)(e_r))\u001b[39m"
      ]
     },
     "execution_count": 28,
     "metadata": {},
     "output_type": "execute_result"
    }
   ],
   "source": [
    "val pf = \"lemma\" :: toTyp(streams(4)._1)\n",
    "pf.typ"
   ]
  },
  {
   "cell_type": "code",
   "execution_count": 29,
   "metadata": {},
   "outputs": [
    {
     "data": {
      "text/plain": [
       "\u001b[36mtt\u001b[39m: \u001b[32mmonix\u001b[39m.\u001b[32meval\u001b[39m.\u001b[32mTask\u001b[39m[\u001b[32mTermState\u001b[39m] = \u001b[33mFlatMap\u001b[39m(\n",
       "  \u001b[33mFlatMap\u001b[39m(\u001b[33mAsync\u001b[39m(<function2>, true, true, true), monix.eval.Task$$Lambda$2628/1963870683@5b8baada),\n",
       "  provingground.learning.TermGenParams$$Lambda$2998/1454115797@53128d6b\n",
       ")"
      ]
     },
     "execution_count": 29,
     "metadata": {},
     "output_type": "execute_result"
    }
   ],
   "source": [
    "val tt = tg.nextTangStateTask(ev.result, TermState(FiniteDistribution.unif(pf), FiniteDistribution.empty), math.pow(10.0, -4)) "
   ]
  },
  {
   "cell_type": "code",
   "execution_count": 30,
   "metadata": {},
   "outputs": [
    {
     "data": {
      "text/plain": [
       "\u001b[36mtts\u001b[39m: \u001b[32mTermState\u001b[39m = \u001b[33mTermState\u001b[39m(\n",
       "  \u001b[33mFiniteDistribution\u001b[39m(\n",
       "    \u001b[33mVector\u001b[39m(\n",
       "      \u001b[33mWeighted\u001b[39m(\u001b[32meqM(mul(e_l)(e_r))(mul(e_r)(mul(e_r)(e_r)))\u001b[39m, \u001b[32m3.962163928556959E-6\u001b[39m),\n",
       "      \u001b[33mWeighted\u001b[39m(\u001b[32mmul(mul(e_r)(mul(e_l)(e_l)))(mul(e_l)(mul(e_r)(e_l)))\u001b[39m, \u001b[32m4.275649439611634E-7\u001b[39m),\n",
       "      \u001b[33mWeighted\u001b[39m(\n",
       "        \u001b[32maxiom_{(eqM(a)(b) \\to (eqM(b)(c) \\to eqM(a)(c)))}(mul(e_l)(mul(e_l)(e_l)))(mul(e_r)(mul(e_l)(e_l)))\u001b[39m,\n",
       "        \u001b[32m5.206961720491489E-8\u001b[39m\n",
       "      ),\n",
       "      \u001b[33mWeighted\u001b[39m(\n",
       "        \u001b[32maxiom_{(eqM(a)(b) \\to (eqM(b)(c) \\to eqM(a)(c)))}(mul(e_r)(mul(e_l)(e_r)))(mul(e_l)(mul(e_l)(e_r)))\u001b[39m,\n",
       "        \u001b[32m5.206961720491489E-8\u001b[39m\n",
       "      ),\n",
       "      \u001b[33mWeighted\u001b[39m(\n",
       "        \u001b[32maxiom_{(eqM(a)(b) \\to eqM(b)(a))}(mul(e_r)(mul(e_l)(e_r)))(mul(e_r)(e_r))\u001b[39m,\n",
       "        \u001b[32m1.5897514180770234E-7\u001b[39m\n",
       "      ),\n",
       "      \u001b[33mWeighted\u001b[39m(\n",
       "        \u001b[32maxiom_{(eqM(a)(b) \\to (eqM(b)(c) \\to eqM(a)(c)))}(e_l)(e_l)(e_r)\u001b[39m,\n",
       "        \u001b[32m8.400760706952122E-6\u001b[39m\n",
       "      ),\n",
       "      \u001b[33mWeighted\u001b[39m(\n",
       "        \u001b[32maxiom_{(eqM(a)(b) \\to (eqM(b)(c) \\to eqM(a)(c)))}(mul(e_l)(e_l))(e_l)(mul(e_l)(mul(e_r)(e_r)))(axiom_{eqM(mul(e_l)(a))(a)}(e_l))\u001b[39m,\n",
       "        \u001b[32m1.1638204827134566E-7\u001b[39m\n",
       "      ),\n",
       "      \u001b[33mWeighted\u001b[39m(\n",
       "        \u001b[32maxiom_{(eqM(a)(b) \\to (eqM(b)(c) \\to eqM(a)(c)))}(e_l)(e_r)(mul(e_r)(mul(e_r)(e_r)))\u001b[39m,\n",
       "        \u001b[32m2.372554561977124E-7\u001b[39m\n",
       "      ),\n",
       "      \u001b[33mWeighted\u001b[39m(\n",
       "        \u001b[32maxiom_{(eqM(a)(b) \\to (eqM(b)(c) \\to eqM(a)(c)))}(mul(e_l)(e_r))(e_l)(mul(e_r)(mul(e_l)(mul(e_r)(e_r))))(axiom_{(eqM(a)(b) \\to eqM(b)(a))}(e_l)(mul(e_l)(e_r))(lemma))\u001b[39m,\n",
       "        \u001b[32m1.5411762537668637E-6\u001b[39m\n",
       "      ),\n",
       "      \u001b[33mWeighted\u001b[39m(\n",
       "        \u001b[32maxiom_{(eqM(a)(b) \\to (eqM(b)(c) \\to eqM(a)(c)))}(e_r)(mul(e_r)(e_r))\u001b[39m,\n",
       "        \u001b[32m4.061382346072717E-6\u001b[39m\n",
       "      ),\n",
       "      \u001b[33mWeighted\u001b[39m(\u001b[32meqM(mul(e_r)(e_l))(mul(e_r)(mul(e_l)(e_l)))\u001b[39m, \u001b[32m3.962163928556959E-6\u001b[39m),\n",
       "      \u001b[33mWeighted\u001b[39m(\n",
       "        \u001b[32maxiom_{(eqM(a)(b) \\to eqM(b)(a))}(mul(e_l)(e_r))(mul(e_l)(mul(e_l)(e_l)))\u001b[39m,\n",
       "        \u001b[32m4.831894088560347E-7\u001b[39m\n",
       "      ),\n",
       "      \u001b[33mWeighted\u001b[39m(\n",
       "        \u001b[32maxiom_{(eqM(a)(b) \\to eqM(b)(a))}(mul(e_l)(mul(e_l)(e_l)))(mul(e_l)(mul(e_l)(e_l)))\u001b[39m,\n",
       "        \u001b[32m5.206961720491489E-8\u001b[39m\n",
       "..."
      ]
     },
     "execution_count": 30,
     "metadata": {},
     "output_type": "execute_result"
    }
   ],
   "source": [
    "val tts = tt.runSyncUnsafe()"
   ]
  },
  {
   "cell_type": "code",
   "execution_count": 31,
   "metadata": {},
   "outputs": [
    {
     "data": {
      "text/plain": [
       "\u001b[36mres30\u001b[39m: \u001b[32mFiniteDistribution\u001b[39m[\u001b[32mTerm\u001b[39m] = \u001b[33mFiniteDistribution\u001b[39m(\n",
       "  \u001b[33mVector\u001b[39m(\n",
       "    \u001b[33mWeighted\u001b[39m(\n",
       "      \u001b[32maxiom_{(eqM(a)(b) \\to (eqM(b)(c) \\to eqM(a)(c)))}(e_l)(mul(e_l)(e_r))(e_r)(lemma)(axiom_{eqM(mul(e_l)(a))(a)}(e_r))\u001b[39m,\n",
       "      \u001b[32m0.012182672536523097\u001b[39m\n",
       "    )\n",
       "  )\n",
       ")"
      ]
     },
     "execution_count": 31,
     "metadata": {},
     "output_type": "execute_result"
    }
   ],
   "source": [
    "tts.terms.filter(_.typ == eqM(l)(r)) "
   ]
  },
  {
   "cell_type": "code",
   "execution_count": null,
   "metadata": {},
   "outputs": [],
   "source": []
  }
 ],
 "metadata": {
  "kernelspec": {
   "display_name": "Scala",
   "language": "scala",
   "name": "scala"
  },
  "language_info": {
   "codemirror_mode": "text/x-scala",
   "file_extension": ".scala",
   "mimetype": "text/x-scala",
   "name": "scala",
   "nbconvert_exporter": "script",
   "version": "2.12.8"
  }
 },
 "nbformat": 4,
 "nbformat_minor": 2
}
