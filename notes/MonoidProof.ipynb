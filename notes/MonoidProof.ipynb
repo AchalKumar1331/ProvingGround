{
 "cells": [
  {
   "cell_type": "markdown",
   "metadata": {},
   "source": [
    "## A sample proof identifying Lemmas and generating by Derivatives\n"
   ]
  },
  {
   "cell_type": "markdown",
   "metadata": {},
   "source": [
    "We illustrate some key features of proving by _learning_ with generative models based on Dependent Type Theory in the [ProvingGround](https://github.com/siddhartha-gadgil/ProvingGround) project. Some details of the project are available on its [website](http://siddhartha-gadgil.github.io/ProvingGround/).\n",
    "\n",
    "We have a set $M$ with a binary operation $*$, and given elements $e_l$ and $e_m$. We also have terms correspoding to the assumptions\n",
    "\n",
    "* $e_l * a = e_l$ for all $a\\in M$ (left identity axiom),\n",
    "* $a * e_r = e_r$ for all $a\\in M$ (right identity axiom), \n",
    "* equality is symmetric and transitive.\n",
    "\n",
    "From these, we conclude that basic algebraic result that $e_l = e_r$. Note that the proof in its fully expanded form is fairly long, involving the correct instantiations of each of the identity axioms, a use of symmetry of equality and a use of transitivity of equality. In particular it has very low weight in a direct generative model.\n",
    "\n",
    "However, our system finds the proof quite readily (much less than a minute even running synchronously in the notebook), due to a few key principles.\n",
    "\n",
    "* We use function application with _unification_, thus we can apply symmetry of equality directly to a term of type $a = b$ even though the type of symmetry is $\\Pi_{x : M}\\Pi_{y: M} x = y \\to y= x$ as $x=a$ and $y=b$ are inferred.\n",
    "* Most importantly, we learn that a lemma such as $e_l = e_l * e_r$, which is obtained by instantiation __and__ symmetry, is non-trivial (while only instantiation is not) based on a cost combining entropy of the initial distribution with the Kullback-Liebler divergence of _theorems_ (inhabited types) from _their proofs_.\n",
    "* We also gain efficiency by using the _derivatives_ of the generative models to find consequences of lemmas.\n"
   ]
  },
  {
   "cell_type": "markdown",
   "metadata": {},
   "source": [
    "We import the locally published  core of ProvingGround."
   ]
  },
  {
   "cell_type": "code",
   "execution_count": 1,
   "metadata": {},
   "outputs": [
    {
     "data": {
      "text/plain": [
       "\u001b[32mimport \u001b[39m\u001b[36m$ivy.$                                                                   \u001b[39m"
      ]
     },
     "execution_count": 1,
     "metadata": {},
     "output_type": "execute_result"
    }
   ],
   "source": [
    "import $ivy.`io.github.siddhartha-gadgil::provingground-core-jvm:0.1.1-SNAPSHOT`"
   ]
  },
  {
   "cell_type": "markdown",
   "metadata": {},
   "source": [
    "We import the relevant packages, including the one with our example."
   ]
  },
  {
   "cell_type": "code",
   "execution_count": 2,
   "metadata": {},
   "outputs": [
    {
     "data": {
      "text/plain": [
       "\u001b[32mimport \u001b[39m\u001b[36mprovingground._ , interface._, HoTT._\n",
       "\u001b[39m\n",
       "\u001b[32mimport \u001b[39m\u001b[36mlearning._\n",
       "\u001b[39m\n",
       "\u001b[32mimport \u001b[39m\u001b[36mlibrary._, MonoidSimple._\u001b[39m"
      ]
     },
     "execution_count": 2,
     "metadata": {},
     "output_type": "execute_result"
    }
   ],
   "source": [
    "import provingground._ , interface._, HoTT._\n",
    "import learning._\n",
    "import library._, MonoidSimple._"
   ]
  },
  {
   "cell_type": "code",
   "execution_count": 3,
   "metadata": {},
   "outputs": [],
   "source": [
    " repl.pprinter.bind(translation.FansiShow.fansiPrint)"
   ]
  },
  {
   "cell_type": "markdown",
   "metadata": {},
   "source": [
    "To set up a _generator_. For simplicity in this demo, we are not generating $\\lambda$'s and $\\Pi$-types"
   ]
  },
  {
   "cell_type": "code",
   "execution_count": 4,
   "metadata": {},
   "outputs": [
    {
     "data": {
      "text/plain": [
       "\u001b[36mtg\u001b[39m: \u001b[32mTermGenParams\u001b[39m = \u001b[33mTermGenParams\u001b[39m(\n",
       "  \u001b[32m0.1\u001b[39m,\n",
       "  \u001b[32m0.1\u001b[39m,\n",
       "  \u001b[32m0.1\u001b[39m,\n",
       "  \u001b[32m0.0\u001b[39m,\n",
       "  \u001b[32m0.0\u001b[39m,\n",
       "  \u001b[32m0.05\u001b[39m,\n",
       "  \u001b[32m0.05\u001b[39m,\n",
       "  \u001b[32m0.05\u001b[39m,\n",
       "  \u001b[32m0.0\u001b[39m,\n",
       "  \u001b[32m0.0\u001b[39m,\n",
       "  \u001b[32m0.0\u001b[39m,\n",
       "  \u001b[32m0.0\u001b[39m,\n",
       "  \u001b[32m0.3\u001b[39m,\n",
       "  \u001b[32m0.7\u001b[39m,\n",
       "  \u001b[32m0.5\u001b[39m\n",
       ")"
      ]
     },
     "execution_count": 4,
     "metadata": {},
     "output_type": "execute_result"
    }
   ],
   "source": [
    "val tg = TermGenParams(lmW=0, piW=0)"
   ]
  },
  {
   "cell_type": "markdown",
   "metadata": {},
   "source": [
    "We set up the initial state for learning."
   ]
  },
  {
   "cell_type": "code",
   "execution_count": 5,
   "metadata": {},
   "outputs": [
    {
     "data": {
      "text/plain": [
       "\u001b[36mts\u001b[39m: \u001b[32mTermState\u001b[39m = \u001b[33mTermState\u001b[39m(\n",
       "  \u001b[33mFiniteDistribution\u001b[39m(\n",
       "    \u001b[33mVector\u001b[39m(\n",
       "      \u001b[33mWeighted\u001b[39m(\u001b[32me_l\u001b[39m, \u001b[32m0.047619047619047616\u001b[39m),\n",
       "      \u001b[33mWeighted\u001b[39m(\u001b[32me_r\u001b[39m, \u001b[32m0.047619047619047616\u001b[39m),\n",
       "      \u001b[33mWeighted\u001b[39m(\u001b[32mmul\u001b[39m, \u001b[32m0.047619047619047616\u001b[39m),\n",
       "      \u001b[33mWeighted\u001b[39m(\u001b[32meqM\u001b[39m, \u001b[32m0.047619047619047616\u001b[39m),\n",
       "      \u001b[33mWeighted\u001b[39m(\u001b[32maxiom_{eqM(a)(a)}\u001b[39m, \u001b[32m0.047619047619047616\u001b[39m),\n",
       "      \u001b[33mWeighted\u001b[39m(\u001b[32maxiom_{(eqM(a)(b) \\to eqM(b)(a))}\u001b[39m, \u001b[32m0.047619047619047616\u001b[39m),\n",
       "      \u001b[33mWeighted\u001b[39m(\u001b[32maxiom_{(eqM(a)(b) \\to (eqM(b)(c) \\to eqM(a)(c)))}\u001b[39m, \u001b[32m0.047619047619047616\u001b[39m),\n",
       "      \u001b[33mWeighted\u001b[39m(\u001b[32maxiom_{eqM(mul(e_l)(a))(a)}\u001b[39m, \u001b[32m0.047619047619047616\u001b[39m),\n",
       "      \u001b[33mWeighted\u001b[39m(\u001b[32maxiom_{eqM(mul(a)(e_r))(a)}\u001b[39m, \u001b[32m0.047619047619047616\u001b[39m),\n",
       "      \u001b[33mWeighted\u001b[39m(\u001b[32meqM\u001b[39m, \u001b[32m0.2857142857142857\u001b[39m),\n",
       "      \u001b[33mWeighted\u001b[39m(\u001b[32mmul\u001b[39m, \u001b[32m0.2857142857142857\u001b[39m)\n",
       "    )\n",
       "  ),\n",
       "  \u001b[33mFiniteDistribution\u001b[39m(\n",
       "    \u001b[33mVector\u001b[39m(\n",
       "      \u001b[33mWeighted\u001b[39m(\u001b[32mM\u001b[39m, \u001b[32m0.047619047619047616\u001b[39m),\n",
       "      \u001b[33mWeighted\u001b[39m(\u001b[32mM\u001b[39m, \u001b[32m0.047619047619047616\u001b[39m),\n",
       "      \u001b[33mWeighted\u001b[39m(\u001b[32m(M → (M → M))\u001b[39m, \u001b[32m0.047619047619047616\u001b[39m),\n",
       "      \u001b[33mWeighted\u001b[39m(\u001b[32m(M → (M → 𝒰 ))\u001b[39m, \u001b[32m0.047619047619047616\u001b[39m),\n",
       "      \u001b[33mWeighted\u001b[39m(\u001b[32m∏(a : M){ eqM(a)(a) }\u001b[39m, \u001b[32m0.047619047619047616\u001b[39m),\n",
       "      \u001b[33mWeighted\u001b[39m(\u001b[32m∏(a : M){ ∏(b : M){ (eqM(a)(b) → eqM(b)(a)) } }\u001b[39m, \u001b[32m0.047619047619047616\u001b[39m),\n",
       "      \u001b[33mWeighted\u001b[39m(\n",
       "        \u001b[32m∏(a : M){ ∏(b : M){ ∏(c : M){ (eqM(a)(b) → (eqM(b)(c) → eqM(a)(c))) } } }\u001b[39m,\n",
       "        \u001b[32m0.047619047619047616\u001b[39m\n",
       "      ),\n",
       "      \u001b[33mWeighted\u001b[39m(\u001b[32m∏(a : M){ eqM(mul(e_l)(a))(a) }\u001b[39m, \u001b[32m0.047619047619047616\u001b[39m),\n",
       "      \u001b[33mWeighted\u001b[39m(\u001b[32m∏(a : M){ eqM(mul(a)(e_r))(a) }\u001b[39m, \u001b[32m0.047619047619047616\u001b[39m),\n",
       "      \u001b[33mWeighted\u001b[39m(\u001b[32m(M → (M → 𝒰 ))\u001b[39m, \u001b[32m0.2857142857142857\u001b[39m),\n",
       "      \u001b[33mWeighted\u001b[39m(\u001b[32m(M → (M → M))\u001b[39m, \u001b[32m0.2857142857142857\u001b[39m)\n",
       "    )\n",
       "  ),\n",
       "  \u001b[33mVector\u001b[39m(),\n",
       "  \u001b[33mFiniteDistribution\u001b[39m(\u001b[33mVector\u001b[39m()),\n",
       "  \u001b[33mFiniteDistribution\u001b[39m(\u001b[33mVector\u001b[39m()),\n",
       "  Empty\n",
       ")"
      ]
     },
     "execution_count": 5,
     "metadata": {},
     "output_type": "execute_result"
    }
   ],
   "source": [
    "val ts = TermState(dist1, dist1.map(_.typ))"
   ]
  },
  {
   "cell_type": "markdown",
   "metadata": {},
   "source": [
    "We use the _monix_ library for concurrency, though in this notebook we run code synchronously."
   ]
  },
  {
   "cell_type": "code",
   "execution_count": 6,
   "metadata": {},
   "outputs": [
    {
     "data": {
      "text/plain": [
       "\u001b[32mimport \u001b[39m\u001b[36mmonix.execution.Scheduler.Implicits.global \u001b[39m"
      ]
     },
     "execution_count": 6,
     "metadata": {},
     "output_type": "execute_result"
    }
   ],
   "source": [
    "import monix.execution.Scheduler.Implicits.global "
   ]
  },
  {
   "cell_type": "markdown",
   "metadata": {},
   "source": [
    "We synchronously evolve to the next state with our generative model."
   ]
  },
  {
   "cell_type": "code",
   "execution_count": 7,
   "metadata": {},
   "outputs": [
    {
     "data": {
      "text/plain": [
       "\u001b[36mevT\u001b[39m: \u001b[32mmonix\u001b[39m.\u001b[32meval\u001b[39m.\u001b[32mTask\u001b[39m[\u001b[32mEvolvedState\u001b[39m] = \u001b[33mMap\u001b[39m(\n",
       "  \u001b[33mFlatMap\u001b[39m(\n",
       "    \u001b[33mFlatMap\u001b[39m(\u001b[33mAsync\u001b[39m(<function2>, true, true, true), monix.eval.Task$$Lambda$2511/513186579@47287c59),\n",
       "    provingground.learning.TermGenParams$$Lambda$2512/577936535@f08dfd8\n",
       "  ),\n",
       "  provingground.learning.TermGenParams$$Lambda$2513/2011333481@75d63383,\n",
       "  \u001b[32m0\u001b[39m\n",
       ")"
      ]
     },
     "execution_count": 7,
     "metadata": {},
     "output_type": "execute_result"
    }
   ],
   "source": [
    "val evT = tg.evolvedStateTask(ts, 0.0001)"
   ]
  },
  {
   "cell_type": "code",
   "execution_count": 8,
   "metadata": {},
   "outputs": [
    {
     "data": {
      "text/plain": [
       "\u001b[36mev\u001b[39m: \u001b[32mEvolvedState\u001b[39m = \u001b[33mEvolvedState\u001b[39m(\n",
       "  \u001b[33mTermState\u001b[39m(\n",
       "    \u001b[33mFiniteDistribution\u001b[39m(\n",
       "      \u001b[33mVector\u001b[39m(\n",
       "        \u001b[33mWeighted\u001b[39m(\u001b[32me_l\u001b[39m, \u001b[32m0.047619047619047616\u001b[39m),\n",
       "        \u001b[33mWeighted\u001b[39m(\u001b[32me_r\u001b[39m, \u001b[32m0.047619047619047616\u001b[39m),\n",
       "        \u001b[33mWeighted\u001b[39m(\u001b[32mmul\u001b[39m, \u001b[32m0.047619047619047616\u001b[39m),\n",
       "        \u001b[33mWeighted\u001b[39m(\u001b[32meqM\u001b[39m, \u001b[32m0.047619047619047616\u001b[39m),\n",
       "        \u001b[33mWeighted\u001b[39m(\u001b[32maxiom_{eqM(a)(a)}\u001b[39m, \u001b[32m0.047619047619047616\u001b[39m),\n",
       "        \u001b[33mWeighted\u001b[39m(\u001b[32maxiom_{(eqM(a)(b) \\to eqM(b)(a))}\u001b[39m, \u001b[32m0.047619047619047616\u001b[39m),\n",
       "        \u001b[33mWeighted\u001b[39m(\u001b[32maxiom_{(eqM(a)(b) \\to (eqM(b)(c) \\to eqM(a)(c)))}\u001b[39m, \u001b[32m0.047619047619047616\u001b[39m),\n",
       "        \u001b[33mWeighted\u001b[39m(\u001b[32maxiom_{eqM(mul(e_l)(a))(a)}\u001b[39m, \u001b[32m0.047619047619047616\u001b[39m),\n",
       "        \u001b[33mWeighted\u001b[39m(\u001b[32maxiom_{eqM(mul(a)(e_r))(a)}\u001b[39m, \u001b[32m0.047619047619047616\u001b[39m),\n",
       "        \u001b[33mWeighted\u001b[39m(\u001b[32meqM\u001b[39m, \u001b[32m0.2857142857142857\u001b[39m),\n",
       "        \u001b[33mWeighted\u001b[39m(\u001b[32mmul\u001b[39m, \u001b[32m0.2857142857142857\u001b[39m)\n",
       "      )\n",
       "    ),\n",
       "    \u001b[33mFiniteDistribution\u001b[39m(\n",
       "      \u001b[33mVector\u001b[39m(\n",
       "        \u001b[33mWeighted\u001b[39m(\u001b[32mM\u001b[39m, \u001b[32m0.047619047619047616\u001b[39m),\n",
       "        \u001b[33mWeighted\u001b[39m(\u001b[32mM\u001b[39m, \u001b[32m0.047619047619047616\u001b[39m),\n",
       "        \u001b[33mWeighted\u001b[39m(\u001b[32m(M → (M → M))\u001b[39m, \u001b[32m0.047619047619047616\u001b[39m),\n",
       "        \u001b[33mWeighted\u001b[39m(\u001b[32m(M → (M → 𝒰 ))\u001b[39m, \u001b[32m0.047619047619047616\u001b[39m),\n",
       "        \u001b[33mWeighted\u001b[39m(\u001b[32m∏(a : M){ eqM(a)(a) }\u001b[39m, \u001b[32m0.047619047619047616\u001b[39m),\n",
       "        \u001b[33mWeighted\u001b[39m(\u001b[32m∏(a : M){ ∏(b : M){ (eqM(a)(b) → eqM(b)(a)) } }\u001b[39m, \u001b[32m0.047619047619047616\u001b[39m),\n",
       "        \u001b[33mWeighted\u001b[39m(\n",
       "          \u001b[32m∏(a : M){ ∏(b : M){ ∏(c : M){ (eqM(a)(b) → (eqM(b)(c) → eqM(a)(c))) } } }\u001b[39m,\n",
       "          \u001b[32m0.047619047619047616\u001b[39m\n",
       "        ),\n",
       "        \u001b[33mWeighted\u001b[39m(\u001b[32m∏(a : M){ eqM(mul(e_l)(a))(a) }\u001b[39m, \u001b[32m0.047619047619047616\u001b[39m),\n",
       "        \u001b[33mWeighted\u001b[39m(\u001b[32m∏(a : M){ eqM(mul(a)(e_r))(a) }\u001b[39m, \u001b[32m0.047619047619047616\u001b[39m),\n",
       "        \u001b[33mWeighted\u001b[39m(\u001b[32m(M → (M → 𝒰 ))\u001b[39m, \u001b[32m0.2857142857142857\u001b[39m),\n",
       "        \u001b[33mWeighted\u001b[39m(\u001b[32m(M → (M → M))\u001b[39m, \u001b[32m0.2857142857142857\u001b[39m)\n",
       "      )\n",
       "    ),\n",
       "    \u001b[33mVector\u001b[39m(),\n",
       "    \u001b[33mFiniteDistribution\u001b[39m(\u001b[33mVector\u001b[39m()),\n",
       "    \u001b[33mFiniteDistribution\u001b[39m(\u001b[33mVector\u001b[39m()),\n",
       "    Empty\n",
       "  ),\n",
       "  \u001b[33mTermState\u001b[39m(\n",
       "    \u001b[33mFiniteDistribution\u001b[39m(\n",
       "      \u001b[33mVector\u001b[39m(\n",
       "        \u001b[33mWeighted\u001b[39m(\n",
       "          \u001b[32maxiom_{(eqM(a)(b) \\to eqM(b)(a))}(mul(e_l)(e_r))(e_l)(axiom_{eqM(mul(a)(e_r))(a)}(e_l))\u001b[39m,\n",
       "          \u001b[32m1.7240822753365834E-4\u001b[39m\n",
       "        ),\n",
       "        \u001b[33mWeighted\u001b[39m(\n",
       "          \u001b[32maxiom_{(eqM(a)(b) \\to (eqM(b)(c) \\to eqM(a)(c)))}(e_r)(mul(e_r)(e_r))\u001b[39m,\n",
       "..."
      ]
     },
     "execution_count": 8,
     "metadata": {},
     "output_type": "execute_result"
    }
   ],
   "source": [
    "val ev = evT.runSyncUnsafe() "
   ]
  },
  {
   "cell_type": "markdown",
   "metadata": {},
   "source": [
    "### Identifying Lemmas\n",
    "\n",
    "We identify lemmas as types that we know to be inhabited but are not inhabited by terms in the generating set. We have kept things simple, so there are fewer lemmas to start with. But the main step is _learning_ the weights of the lemmas.\n",
    "\n",
    "The evolution of weights is generated as an _iterator_. As this is a structure that is generated just once, we store it as a _stream_, which is a lazy, infinite list."
   ]
  },
  {
   "cell_type": "code",
   "execution_count": 9,
   "metadata": {},
   "outputs": [
    {
     "data": {
      "text/plain": [
       "\u001b[32mimport \u001b[39m\u001b[36mEntropyAtomWeight._ \n",
       "\u001b[39m\n",
       "\u001b[36mits\u001b[39m: \u001b[32mVector\u001b[39m[(\u001b[32mTyp\u001b[39m[\u001b[32mTerm\u001b[39m], \u001b[32mIterator\u001b[39m[\u001b[32mDouble\u001b[39m])] = \u001b[33mVector\u001b[39m(\n",
       "  (\u001b[32meqM(e_r)(e_r)\u001b[39m, <iterator>),\n",
       "  (\u001b[32meqM(e_l)(e_l)\u001b[39m, <iterator>),\n",
       "  (\u001b[32meqM(e_l)(mul(e_l)(e_r))\u001b[39m, <iterator>),\n",
       "  (\u001b[32meqM(e_l)(mul(e_l)(e_l))\u001b[39m, <iterator>),\n",
       "  (\u001b[32meqM(e_r)(mul(e_l)(e_r))\u001b[39m, <iterator>),\n",
       "  (\u001b[32meqM(e_r)(mul(e_r)(e_r))\u001b[39m, <iterator>)\n",
       ")"
      ]
     },
     "execution_count": 9,
     "metadata": {},
     "output_type": "execute_result"
    }
   ],
   "source": [
    "import EntropyAtomWeight._ \n",
    "val its = evolvedLemmaIters(ev)"
   ]
  },
  {
   "cell_type": "code",
   "execution_count": 10,
   "metadata": {},
   "outputs": [
    {
     "data": {
      "text/plain": [
       "\u001b[36mstreams\u001b[39m: \u001b[32mVector\u001b[39m[(\u001b[32mTyp\u001b[39m[\u001b[32mTerm\u001b[39m], \u001b[32mStream\u001b[39m[\u001b[32mDouble\u001b[39m])] = \u001b[33mVector\u001b[39m(\n",
       "  (\n",
       "    \u001b[32meqM(e_r)(e_r)\u001b[39m,\n",
       "    \u001b[33mStream\u001b[39m(\n",
       "      \u001b[32m0.002857590838241586\u001b[39m,\n",
       "      \u001b[32m0.002870284580011658\u001b[39m,\n",
       "      \u001b[32m0.0028830326027385837\u001b[39m,\n",
       "      \u001b[32m0.0028958347689527876\u001b[39m,\n",
       "      \u001b[32m0.0029086909332057907\u001b[39m,\n",
       "      \u001b[32m0.002921600941988215\u001b[39m,\n",
       "      \u001b[32m0.0029345646336491845\u001b[39m,\n",
       "      \u001b[32m0.0029475818383171673\u001b[39m,\n",
       "      \u001b[32m0.0029606523778223323\u001b[39m,\n",
       "      \u001b[32m0.0029737760656204973\u001b[39m,\n",
       "      \u001b[32m0.002986952706718721\u001b[39m,\n",
       "      \u001b[32m0.003000182097602629\u001b[39m,\n",
       "      \u001b[32m0.0030134640261655116\u001b[39m,\n",
       "      \u001b[32m0.003026798271639304\u001b[39m,\n",
       "      \u001b[32m0.003040184604527482\u001b[39m,\n",
       "      \u001b[32m0.0030536227865399566\u001b[39m,\n",
       "      \u001b[32m0.0030671125705300506\u001b[39m,\n",
       "      \u001b[32m0.003080653700433604\u001b[39m,\n",
       "      \u001b[32m0.00309424591121029\u001b[39m,\n",
       "      \u001b[32m0.0031078889287872117\u001b[39m,\n",
       "      \u001b[32m0.0031215824700048514\u001b[39m,\n",
       "      \u001b[32m0.003135326242565432\u001b[39m,\n",
       "      \u001b[32m0.0031491199449837654\u001b[39m,\n",
       "      \u001b[32m0.0031629632665406593\u001b[39m,\n",
       "      \u001b[32m0.003176855887238952\u001b[39m,\n",
       "      \u001b[32m0.0031907974777622265\u001b[39m,\n",
       "      \u001b[32m0.0032047876994362955\u001b[39m,\n",
       "      \u001b[32m0.003218826204193503\u001b[39m,\n",
       "      \u001b[32m0.003232912634539929\u001b[39m,\n",
       "      \u001b[32m0.003247046623525527\u001b[39m,\n",
       "      \u001b[32m0.003261227794717313\u001b[39m,\n",
       "      \u001b[32m0.0032754557621756017\u001b[39m,\n",
       "      \u001b[32m0.0032897301304334165\u001b[39m,\n",
       "      \u001b[32m0.0033040504944790924\u001b[39m,\n",
       "      \u001b[32m0.0033184164397421397\u001b[39m,\n",
       "      \u001b[32m0.003332827542082445\u001b[39m,\n",
       "      \u001b[32m0.0033472833677828415\u001b[39m,\n",
       "      \u001b[32m0.0033617834735451086\u001b[39m,\n",
       "      \u001b[32m0.003376327406489491\u001b[39m,\n",
       "      \u001b[32m0.0033909147041577214\u001b[39m,\n",
       "      \u001b[32m0.003405544894519665\u001b[39m,\n",
       "      \u001b[32m0.0034202174959835985\u001b[39m,\n",
       "      \u001b[32m0.0034349320174101696\u001b[39m,\n",
       "      \u001b[32m0.0034496879581301055\u001b[39m,\n",
       "      \u001b[32m0.0034644848079656873\u001b[39m,\n",
       "..."
      ]
     },
     "execution_count": 10,
     "metadata": {},
     "output_type": "execute_result"
    }
   ],
   "source": [
    "val streams = its.map{case (tp, it) => (tp, it.toStream)} "
   ]
  },
  {
   "cell_type": "markdown",
   "metadata": {},
   "source": [
    "We see three snapshots of the evolution of weights, at times $0$, $1000$ and $10000$. We also plot the evolution below."
   ]
  },
  {
   "cell_type": "code",
   "execution_count": 11,
   "metadata": {},
   "outputs": [
    {
     "data": {
      "text/plain": [
       "\u001b[36mres10\u001b[39m: \u001b[32mVector\u001b[39m[(\u001b[32mTyp\u001b[39m[\u001b[32mTerm\u001b[39m], \u001b[32mDouble\u001b[39m, \u001b[32mDouble\u001b[39m, \u001b[32mDouble\u001b[39m)] = \u001b[33mVector\u001b[39m(\n",
       "  (\u001b[32meqM(e_r)(e_r)\u001b[39m, \u001b[32m0.002857590838241586\u001b[39m, \u001b[32m0.007232640857342379\u001b[39m, \u001b[32m0.007232881599863632\u001b[39m),\n",
       "  (\u001b[32meqM(e_l)(e_l)\u001b[39m, \u001b[32m0.002857590838241586\u001b[39m, \u001b[32m0.007232640857342379\u001b[39m, \u001b[32m0.007232881599863632\u001b[39m),\n",
       "  (\u001b[32meqM(e_l)(mul(e_l)(e_r))\u001b[39m, \u001b[32m2.1343143385081897E-4\u001b[39m, \u001b[32m0.0022517955038286208\u001b[39m, \u001b[32m0.002264523582244723\u001b[39m),\n",
       "  (\u001b[32meqM(e_l)(mul(e_l)(e_l))\u001b[39m, \u001b[32m2.1343143385081897E-4\u001b[39m, \u001b[32m0.0022517955038286208\u001b[39m, \u001b[32m0.002264523582244723\u001b[39m),\n",
       "  (\u001b[32meqM(e_r)(mul(e_l)(e_r))\u001b[39m, \u001b[32m2.1343143385081897E-4\u001b[39m, \u001b[32m0.0022517955038286208\u001b[39m, \u001b[32m0.002264523582244723\u001b[39m),\n",
       "  (\u001b[32meqM(e_r)(mul(e_r)(e_r))\u001b[39m, \u001b[32m2.1343143385081897E-4\u001b[39m, \u001b[32m0.0022517955038286208\u001b[39m, \u001b[32m0.002264523582244723\u001b[39m)\n",
       ")"
      ]
     },
     "execution_count": 11,
     "metadata": {},
     "output_type": "execute_result"
    }
   ],
   "source": [
    "streams.map{case (tp, s) => (tp, s(0), s(1000), s(10000))}"
   ]
  },
  {
   "cell_type": "code",
   "execution_count": 12,
   "metadata": {},
   "outputs": [
    {
     "data": {
      "text/plain": [
       "\u001b[32mimport \u001b[39m\u001b[36m$ivy.$                                      \n",
       "\n",
       "\u001b[39m\n",
       "\u001b[32mimport \u001b[39m\u001b[36mplotly._\n",
       "\u001b[39m\n",
       "\u001b[32mimport \u001b[39m\u001b[36mplotly.element._\n",
       "\u001b[39m\n",
       "\u001b[32mimport \u001b[39m\u001b[36mplotly.layout._\n",
       "\u001b[39m\n",
       "\u001b[32mimport \u001b[39m\u001b[36mplotly.Almond._\u001b[39m"
      ]
     },
     "execution_count": 12,
     "metadata": {},
     "output_type": "execute_result"
    }
   ],
   "source": [
    "import $ivy.`org.plotly-scala::plotly-almond:0.5.2`\n",
    "\n",
    "import plotly._\n",
    "import plotly.element._\n",
    "import plotly.layout._\n",
    "import plotly.Almond._"
   ]
  },
  {
   "cell_type": "code",
   "execution_count": 13,
   "metadata": {},
   "outputs": [
    {
     "data": {
      "text/plain": [
       "\u001b[36mscatters\u001b[39m: \u001b[32mVector\u001b[39m[\u001b[32mScatter\u001b[39m] = \u001b[33mVector\u001b[39m(\n",
       "  \u001b[33mScatter\u001b[39m(\n",
       "    \u001b[33mSome\u001b[39m(\n",
       "      \u001b[33mDoubles\u001b[39m(\n",
       "        \u001b[33mVector\u001b[39m(\n",
       "          \u001b[32m50.0\u001b[39m,\n",
       "          \u001b[32m100.0\u001b[39m,\n",
       "          \u001b[32m150.0\u001b[39m,\n",
       "          \u001b[32m200.0\u001b[39m,\n",
       "          \u001b[32m250.0\u001b[39m,\n",
       "          \u001b[32m300.0\u001b[39m,\n",
       "          \u001b[32m350.0\u001b[39m,\n",
       "          \u001b[32m400.0\u001b[39m,\n",
       "          \u001b[32m450.0\u001b[39m,\n",
       "          \u001b[32m500.0\u001b[39m,\n",
       "          \u001b[32m550.0\u001b[39m,\n",
       "          \u001b[32m600.0\u001b[39m,\n",
       "          \u001b[32m650.0\u001b[39m,\n",
       "          \u001b[32m700.0\u001b[39m,\n",
       "          \u001b[32m750.0\u001b[39m,\n",
       "          \u001b[32m800.0\u001b[39m,\n",
       "          \u001b[32m850.0\u001b[39m,\n",
       "          \u001b[32m900.0\u001b[39m,\n",
       "          \u001b[32m950.0\u001b[39m,\n",
       "          \u001b[32m1000.0\u001b[39m,\n",
       "          \u001b[32m1050.0\u001b[39m,\n",
       "          \u001b[32m1100.0\u001b[39m,\n",
       "          \u001b[32m1150.0\u001b[39m,\n",
       "          \u001b[32m1200.0\u001b[39m,\n",
       "          \u001b[32m1250.0\u001b[39m,\n",
       "          \u001b[32m1300.0\u001b[39m,\n",
       "          \u001b[32m1350.0\u001b[39m,\n",
       "          \u001b[32m1400.0\u001b[39m,\n",
       "          \u001b[32m1450.0\u001b[39m,\n",
       "          \u001b[32m1500.0\u001b[39m,\n",
       "          \u001b[32m1550.0\u001b[39m,\n",
       "          \u001b[32m1600.0\u001b[39m,\n",
       "          \u001b[32m1650.0\u001b[39m,\n",
       "          \u001b[32m1700.0\u001b[39m,\n",
       "          \u001b[32m1750.0\u001b[39m,\n",
       "          \u001b[32m1800.0\u001b[39m,\n",
       "          \u001b[32m1850.0\u001b[39m,\n",
       "          \u001b[32m1900.0\u001b[39m,\n",
       "          \u001b[32m1950.0\u001b[39m,\n",
       "          \u001b[32m2000.0\u001b[39m,\n",
       "          \u001b[32m2050.0\u001b[39m,\n",
       "          \u001b[32m2100.0\u001b[39m,\n",
       "          \u001b[32m2150.0\u001b[39m,\n",
       "          \u001b[32m2200.0\u001b[39m,\n",
       "...\n",
       "\u001b[36mtsdata\u001b[39m: \u001b[32mSeq\u001b[39m[\u001b[32mScatter\u001b[39m] = \u001b[33mList\u001b[39m(\n",
       "  \u001b[33mScatter\u001b[39m(\n",
       "    \u001b[33mSome\u001b[39m(\n",
       "      \u001b[33mDoubles\u001b[39m(\n",
       "        \u001b[33mVector\u001b[39m(\n",
       "          \u001b[32m50.0\u001b[39m,\n",
       "          \u001b[32m100.0\u001b[39m,\n",
       "          \u001b[32m150.0\u001b[39m,\n",
       "          \u001b[32m200.0\u001b[39m,\n",
       "          \u001b[32m250.0\u001b[39m,\n",
       "          \u001b[32m300.0\u001b[39m,\n",
       "          \u001b[32m350.0\u001b[39m,\n",
       "          \u001b[32m400.0\u001b[39m,\n",
       "          \u001b[32m450.0\u001b[39m,\n",
       "          \u001b[32m500.0\u001b[39m,\n",
       "          \u001b[32m550.0\u001b[39m,\n",
       "          \u001b[32m600.0\u001b[39m,\n",
       "          \u001b[32m650.0\u001b[39m,\n",
       "          \u001b[32m700.0\u001b[39m,\n",
       "          \u001b[32m750.0\u001b[39m,\n",
       "          \u001b[32m800.0\u001b[39m,\n",
       "          \u001b[32m850.0\u001b[39m,\n",
       "          \u001b[32m900.0\u001b[39m,\n",
       "          \u001b[32m950.0\u001b[39m,\n",
       "          \u001b[32m1000.0\u001b[39m,\n",
       "          \u001b[32m1050.0\u001b[39m,\n",
       "          \u001b[32m1100.0\u001b[39m,\n",
       "          \u001b[32m1150.0\u001b[39m,\n",
       "          \u001b[32m1200.0\u001b[39m,\n",
       "          \u001b[32m1250.0\u001b[39m,\n",
       "          \u001b[32m1300.0\u001b[39m,\n",
       "          \u001b[32m1350.0\u001b[39m,\n",
       "          \u001b[32m1400.0\u001b[39m,\n",
       "          \u001b[32m1450.0\u001b[39m,\n",
       "          \u001b[32m1500.0\u001b[39m,\n",
       "          \u001b[32m1550.0\u001b[39m,\n",
       "          \u001b[32m1600.0\u001b[39m,\n",
       "          \u001b[32m1650.0\u001b[39m,\n",
       "          \u001b[32m1700.0\u001b[39m,\n",
       "          \u001b[32m1750.0\u001b[39m,\n",
       "          \u001b[32m1800.0\u001b[39m,\n",
       "          \u001b[32m1850.0\u001b[39m,\n",
       "          \u001b[32m1900.0\u001b[39m,\n",
       "          \u001b[32m1950.0\u001b[39m,\n",
       "          \u001b[32m2000.0\u001b[39m,\n",
       "          \u001b[32m2050.0\u001b[39m,\n",
       "          \u001b[32m2100.0\u001b[39m,\n",
       "          \u001b[32m2150.0\u001b[39m,\n",
       "          \u001b[32m2200.0\u001b[39m,\n",
       "..."
      ]
     },
     "execution_count": 13,
     "metadata": {},
     "output_type": "execute_result"
    }
   ],
   "source": [
    "val scatters = streams.map{case (typ, s) => Scatter((1 to 50).map(i => (i * 50)), (1 to 50).map(i => s(i * 50)), name=typ.toString )}\n",
    "val tsdata = Seq(scatters: _*)"
   ]
  },
  {
   "cell_type": "markdown",
   "metadata": {},
   "source": [
    "### Plot of the evolution"
   ]
  },
  {
   "cell_type": "code",
   "execution_count": 14,
   "metadata": {},
   "outputs": [
    {
     "data": {
      "text/html": [
       "\n",
       "      <script type=\"text/javascript\">\n",
       "        require.config({\n",
       "  paths: {\n",
       "    d3: 'https://cdnjs.cloudflare.com/ajax/libs/d3/3.5.17/d3.min',\n",
       "    plotly: 'https://cdn.plot.ly/plotly-1.12.0.min',\n",
       "    jquery: 'https://code.jquery.com/jquery-3.3.1.min'\n",
       "  },\n",
       "\n",
       "  shim: {\n",
       "    plotly: {\n",
       "      deps: ['d3', 'jquery'],\n",
       "      exports: 'plotly'\n",
       "    }\n",
       "  }\n",
       "});\n",
       "        \n",
       "\n",
       "        require(['plotly'], function(Plotly) {\n",
       "          window.Plotly = Plotly;\n",
       "        });\n",
       "      </script>\n",
       "    "
      ]
     },
     "metadata": {},
     "output_type": "display_data"
    },
    {
     "data": {
      "application/vnd.plotly.v1+json": {
       "data": [
        {
         "name": "((eqM) (e_r)) (e_r)",
         "type": "scatter",
         "x": [
          50,
          100,
          150,
          200,
          250,
          300,
          350,
          400,
          450,
          500,
          550,
          600,
          650,
          700,
          750,
          800,
          850,
          900,
          950,
          1000,
          1050,
          1100,
          1150,
          1200,
          1250,
          1300,
          1350,
          1400,
          1450,
          1500,
          1550,
          1600,
          1650,
          1700,
          1750,
          1800,
          1850,
          1900,
          1950,
          2000,
          2050,
          2100,
          2150,
          2200,
          2250,
          2300,
          2350,
          2400,
          2450,
          2500
         ],
         "y": [
          0.0035540952375810605,
          0.004338668551215819,
          0.005119277457014095,
          0.005795943830363573,
          0.006312211399059196,
          0.006668036311523032,
          0.006896232616654873,
          0.007035851764113724,
          0.007118824260075008,
          0.007167281102772016,
          0.0071952927067972594,
          0.007211389862857942,
          0.007220608791194378,
          0.007225878219601236,
          0.007228886799348616,
          0.007230603452423498,
          0.007231582593931564,
          0.007232140958964773,
          0.007232459334391342,
          0.007232640857342379,
          0.007232744349353807,
          0.00723280335214817,
          0.007232836990359766,
          0.007232856167777009,
          0.007232867100933673,
          0.007232873333975159,
          0.007232876887455274,
          0.007232878913305971,
          0.007232880068249619,
          0.007232880726686343,
          0.007232881102062963,
          0.007232881316066226,
          0.007232881438070068,
          0.007232881507624805,
          0.007232881547278151,
          0.007232881569884637,
          0.007232881582772643,
          0.007232881590120145,
          0.007232881594308963,
          0.007232881596697032,
          0.007232881598058471,
          0.007232881598834627,
          0.007232881599277138,
          0.007232881599529392,
          0.007232881599673222,
          0.007232881599755193,
          0.007232881599801928,
          0.00723288159982858,
          0.007232881599843771,
          0.0072328815998524325
         ]
        },
        {
         "name": "((eqM) (e_l)) (e_l)",
         "type": "scatter",
         "x": [
          50,
          100,
          150,
          200,
          250,
          300,
          350,
          400,
          450,
          500,
          550,
          600,
          650,
          700,
          750,
          800,
          850,
          900,
          950,
          1000,
          1050,
          1100,
          1150,
          1200,
          1250,
          1300,
          1350,
          1400,
          1450,
          1500,
          1550,
          1600,
          1650,
          1700,
          1750,
          1800,
          1850,
          1900,
          1950,
          2000,
          2050,
          2100,
          2150,
          2200,
          2250,
          2300,
          2350,
          2400,
          2450,
          2500
         ],
         "y": [
          0.0035540952375810605,
          0.004338668551215819,
          0.005119277457014095,
          0.005795943830363573,
          0.006312211399059196,
          0.006668036311523032,
          0.006896232616654873,
          0.007035851764113724,
          0.007118824260075008,
          0.007167281102772016,
          0.0071952927067972594,
          0.007211389862857942,
          0.007220608791194378,
          0.007225878219601236,
          0.007228886799348616,
          0.007230603452423498,
          0.007231582593931564,
          0.007232140958964773,
          0.007232459334391342,
          0.007232640857342379,
          0.007232744349353807,
          0.00723280335214817,
          0.007232836990359766,
          0.007232856167777009,
          0.007232867100933673,
          0.007232873333975159,
          0.007232876887455274,
          0.007232878913305971,
          0.007232880068249619,
          0.007232880726686343,
          0.007232881102062963,
          0.007232881316066226,
          0.007232881438070068,
          0.007232881507624805,
          0.007232881547278151,
          0.007232881569884637,
          0.007232881582772643,
          0.007232881590120145,
          0.007232881594308963,
          0.007232881596697032,
          0.007232881598058471,
          0.007232881598834627,
          0.007232881599277138,
          0.007232881599529392,
          0.007232881599673222,
          0.007232881599755193,
          0.007232881599801928,
          0.00723288159982858,
          0.007232881599843771,
          0.0072328815998524325
         ]
        },
        {
         "name": "((eqM) (e_l)) (((mul) (e_l)) (e_r))",
         "type": "scatter",
         "x": [
          50,
          100,
          150,
          200,
          250,
          300,
          350,
          400,
          450,
          500,
          550,
          600,
          650,
          700,
          750,
          800,
          850,
          900,
          950,
          1000,
          1050,
          1100,
          1150,
          1200,
          1250,
          1300,
          1350,
          1400,
          1450,
          1500,
          1550,
          1600,
          1650,
          1700,
          1750,
          1800,
          1850,
          1900,
          1950,
          2000,
          2050,
          2100,
          2150,
          2200,
          2250,
          2300,
          2350,
          2400,
          2450,
          2500
         ],
         "y": [
          0.00026036035178090585,
          0.00032326700301231486,
          0.0004077541666808075,
          0.0005200428490672476,
          0.0006652528801958778,
          0.0008443890484178232,
          0.0010511745537468938,
          0.0012713046752021204,
          0.0014859970707886093,
          0.0016782823710118934,
          0.0018379333885619922,
          0.0019624638012463998,
          0.0020550061865693466,
          0.0021213546286053295,
          0.0021677186909909193,
          0.0021995430954012828,
          0.002221121020551703,
          0.002235630367248059,
          0.002245332311472099,
          0.0022517955038286208,
          0.0022560904194246036,
          0.002258939758161695,
          0.002260827998022656,
          0.0022620784141547837,
          0.0022629060569507448,
          0.002263453694166589,
          0.0022638159800581334,
          0.002264055614549624,
          0.0022642141064875315,
          0.00226431892512966,
          0.002264388244141186,
          0.002264434085196332,
          0.002264464399610989,
          0.002264484446117558,
          0.002264497702495081,
          0.002264506468643321,
          0.002264512265483033,
          0.0022645160987829955,
          0.0022645186336412385,
          0.0022645203098732285,
          0.0022645214183185953,
          0.0022645221513022183,
          0.002264522636003466,
          0.00226452295652256,
          0.0022645231684726634,
          0.0022645233086291826,
          0.002264523401310675,
          0.002264523462598283,
          0.0022645235031260127,
          0.0022645235299258424
         ]
        },
        {
         "name": "((eqM) (e_l)) (((mul) (e_l)) (e_l))",
         "type": "scatter",
         "x": [
          50,
          100,
          150,
          200,
          250,
          300,
          350,
          400,
          450,
          500,
          550,
          600,
          650,
          700,
          750,
          800,
          850,
          900,
          950,
          1000,
          1050,
          1100,
          1150,
          1200,
          1250,
          1300,
          1350,
          1400,
          1450,
          1500,
          1550,
          1600,
          1650,
          1700,
          1750,
          1800,
          1850,
          1900,
          1950,
          2000,
          2050,
          2100,
          2150,
          2200,
          2250,
          2300,
          2350,
          2400,
          2450,
          2500
         ],
         "y": [
          0.00026036035178090585,
          0.00032326700301231486,
          0.0004077541666808075,
          0.0005200428490672476,
          0.0006652528801958778,
          0.0008443890484178232,
          0.0010511745537468938,
          0.0012713046752021204,
          0.0014859970707886093,
          0.0016782823710118934,
          0.0018379333885619922,
          0.0019624638012463998,
          0.0020550061865693466,
          0.0021213546286053295,
          0.0021677186909909193,
          0.0021995430954012828,
          0.002221121020551703,
          0.002235630367248059,
          0.002245332311472099,
          0.0022517955038286208,
          0.0022560904194246036,
          0.002258939758161695,
          0.002260827998022656,
          0.0022620784141547837,
          0.0022629060569507448,
          0.002263453694166589,
          0.0022638159800581334,
          0.002264055614549624,
          0.0022642141064875315,
          0.00226431892512966,
          0.002264388244141186,
          0.002264434085196332,
          0.002264464399610989,
          0.002264484446117558,
          0.002264497702495081,
          0.002264506468643321,
          0.002264512265483033,
          0.0022645160987829955,
          0.0022645186336412385,
          0.0022645203098732285,
          0.0022645214183185953,
          0.0022645221513022183,
          0.002264522636003466,
          0.00226452295652256,
          0.0022645231684726634,
          0.0022645233086291826,
          0.002264523401310675,
          0.002264523462598283,
          0.0022645235031260127,
          0.0022645235299258424
         ]
        },
        {
         "name": "((eqM) (e_r)) (((mul) (e_l)) (e_r))",
         "type": "scatter",
         "x": [
          50,
          100,
          150,
          200,
          250,
          300,
          350,
          400,
          450,
          500,
          550,
          600,
          650,
          700,
          750,
          800,
          850,
          900,
          950,
          1000,
          1050,
          1100,
          1150,
          1200,
          1250,
          1300,
          1350,
          1400,
          1450,
          1500,
          1550,
          1600,
          1650,
          1700,
          1750,
          1800,
          1850,
          1900,
          1950,
          2000,
          2050,
          2100,
          2150,
          2200,
          2250,
          2300,
          2350,
          2400,
          2450,
          2500
         ],
         "y": [
          0.00026036035178090585,
          0.00032326700301231486,
          0.0004077541666808075,
          0.0005200428490672476,
          0.0006652528801958778,
          0.0008443890484178232,
          0.0010511745537468938,
          0.0012713046752021204,
          0.0014859970707886093,
          0.0016782823710118934,
          0.0018379333885619922,
          0.0019624638012463998,
          0.0020550061865693466,
          0.0021213546286053295,
          0.0021677186909909193,
          0.0021995430954012828,
          0.002221121020551703,
          0.002235630367248059,
          0.002245332311472099,
          0.0022517955038286208,
          0.0022560904194246036,
          0.002258939758161695,
          0.002260827998022656,
          0.0022620784141547837,
          0.0022629060569507448,
          0.002263453694166589,
          0.0022638159800581334,
          0.002264055614549624,
          0.0022642141064875315,
          0.00226431892512966,
          0.002264388244141186,
          0.002264434085196332,
          0.002264464399610989,
          0.002264484446117558,
          0.002264497702495081,
          0.002264506468643321,
          0.002264512265483033,
          0.0022645160987829955,
          0.0022645186336412385,
          0.0022645203098732285,
          0.0022645214183185953,
          0.0022645221513022183,
          0.002264522636003466,
          0.00226452295652256,
          0.0022645231684726634,
          0.0022645233086291826,
          0.002264523401310675,
          0.002264523462598283,
          0.0022645235031260127,
          0.0022645235299258424
         ]
        },
        {
         "name": "((eqM) (e_r)) (((mul) (e_r)) (e_r))",
         "type": "scatter",
         "x": [
          50,
          100,
          150,
          200,
          250,
          300,
          350,
          400,
          450,
          500,
          550,
          600,
          650,
          700,
          750,
          800,
          850,
          900,
          950,
          1000,
          1050,
          1100,
          1150,
          1200,
          1250,
          1300,
          1350,
          1400,
          1450,
          1500,
          1550,
          1600,
          1650,
          1700,
          1750,
          1800,
          1850,
          1900,
          1950,
          2000,
          2050,
          2100,
          2150,
          2200,
          2250,
          2300,
          2350,
          2400,
          2450,
          2500
         ],
         "y": [
          0.00026036035178090585,
          0.00032326700301231486,
          0.0004077541666808075,
          0.0005200428490672476,
          0.0006652528801958778,
          0.0008443890484178232,
          0.0010511745537468938,
          0.0012713046752021204,
          0.0014859970707886093,
          0.0016782823710118934,
          0.0018379333885619922,
          0.0019624638012463998,
          0.0020550061865693466,
          0.0021213546286053295,
          0.0021677186909909193,
          0.0021995430954012828,
          0.002221121020551703,
          0.002235630367248059,
          0.002245332311472099,
          0.0022517955038286208,
          0.0022560904194246036,
          0.002258939758161695,
          0.002260827998022656,
          0.0022620784141547837,
          0.0022629060569507448,
          0.002263453694166589,
          0.0022638159800581334,
          0.002264055614549624,
          0.0022642141064875315,
          0.00226431892512966,
          0.002264388244141186,
          0.002264434085196332,
          0.002264464399610989,
          0.002264484446117558,
          0.002264497702495081,
          0.002264506468643321,
          0.002264512265483033,
          0.0022645160987829955,
          0.0022645186336412385,
          0.0022645203098732285,
          0.0022645214183185953,
          0.0022645221513022183,
          0.002264522636003466,
          0.00226452295652256,
          0.0022645231684726634,
          0.0022645233086291826,
          0.002264523401310675,
          0.002264523462598283,
          0.0022645235031260127,
          0.0022645235299258424
         ]
        }
       ],
       "layout": {
        "autosize": true,
        "title": {
         "text": "Evolution of the lemma coefficients"
        },
        "xaxis": {
         "autorange": true,
         "range": [
          50,
          2500
         ],
         "type": "linear"
        },
        "yaxis": {
         "autorange": true,
         "range": [
          -0.00012700193977862342,
          0.007620243891411962
         ],
         "type": "linear"
        }
       }
      },
      "image/png": "[encoded data removed]",
      "text/html": [
       "<div class=\"chart\" id=\"plot-1025472177\"></div>\n",
       "<script>require(['plotly'], function(Plotly) {\n",
       "  (function () {\n",
       "  var data0 = {\"x\":[50.0,100.0,150.0,200.0,250.0,300.0,350.0,400.0,450.0,500.0,550.0,600.0,650.0,700.0,750.0,800.0,850.0,900.0,950.0,1000.0,1050.0,1100.0,1150.0,1200.0,1250.0,1300.0,1350.0,1400.0,1450.0,1500.0,1550.0,1600.0,1650.0,1700.0,1750.0,1800.0,1850.0,1900.0,1950.0,2000.0,2050.0,2100.0,2150.0,2200.0,2250.0,2300.0,2350.0,2400.0,2450.0,2500.0],\"name\":\"((eqM) (e_r)) (e_r)\",\"y\":[0.0035540952375810605,0.004338668551215819,0.005119277457014095,0.005795943830363573,0.006312211399059196,0.006668036311523032,0.006896232616654873,0.007035851764113724,0.007118824260075008,0.007167281102772016,0.0071952927067972594,0.007211389862857942,0.007220608791194378,0.007225878219601236,0.007228886799348616,0.007230603452423498,0.007231582593931564,0.007232140958964773,0.007232459334391342,0.007232640857342379,0.007232744349353807,0.00723280335214817,0.007232836990359766,0.007232856167777009,0.007232867100933673,0.007232873333975159,0.007232876887455274,0.007232878913305971,0.007232880068249619,0.007232880726686343,0.007232881102062963,0.007232881316066226,0.007232881438070068,0.007232881507624805,0.007232881547278151,0.007232881569884637,0.007232881582772643,0.007232881590120145,0.007232881594308963,0.007232881596697032,0.007232881598058471,0.007232881598834627,0.007232881599277138,0.007232881599529392,0.007232881599673222,0.007232881599755193,0.007232881599801928,0.00723288159982858,0.007232881599843771,0.0072328815998524325],\"type\":\"scatter\"};\n",
       "  var data1 = {\"x\":[50.0,100.0,150.0,200.0,250.0,300.0,350.0,400.0,450.0,500.0,550.0,600.0,650.0,700.0,750.0,800.0,850.0,900.0,950.0,1000.0,1050.0,1100.0,1150.0,1200.0,1250.0,1300.0,1350.0,1400.0,1450.0,1500.0,1550.0,1600.0,1650.0,1700.0,1750.0,1800.0,1850.0,1900.0,1950.0,2000.0,2050.0,2100.0,2150.0,2200.0,2250.0,2300.0,2350.0,2400.0,2450.0,2500.0],\"name\":\"((eqM) (e_l)) (e_l)\",\"y\":[0.0035540952375810605,0.004338668551215819,0.005119277457014095,0.005795943830363573,0.006312211399059196,0.006668036311523032,0.006896232616654873,0.007035851764113724,0.007118824260075008,0.007167281102772016,0.0071952927067972594,0.007211389862857942,0.007220608791194378,0.007225878219601236,0.007228886799348616,0.007230603452423498,0.007231582593931564,0.007232140958964773,0.007232459334391342,0.007232640857342379,0.007232744349353807,0.00723280335214817,0.007232836990359766,0.007232856167777009,0.007232867100933673,0.007232873333975159,0.007232876887455274,0.007232878913305971,0.007232880068249619,0.007232880726686343,0.007232881102062963,0.007232881316066226,0.007232881438070068,0.007232881507624805,0.007232881547278151,0.007232881569884637,0.007232881582772643,0.007232881590120145,0.007232881594308963,0.007232881596697032,0.007232881598058471,0.007232881598834627,0.007232881599277138,0.007232881599529392,0.007232881599673222,0.007232881599755193,0.007232881599801928,0.00723288159982858,0.007232881599843771,0.0072328815998524325],\"type\":\"scatter\"};\n",
       "  var data2 = {\"x\":[50.0,100.0,150.0,200.0,250.0,300.0,350.0,400.0,450.0,500.0,550.0,600.0,650.0,700.0,750.0,800.0,850.0,900.0,950.0,1000.0,1050.0,1100.0,1150.0,1200.0,1250.0,1300.0,1350.0,1400.0,1450.0,1500.0,1550.0,1600.0,1650.0,1700.0,1750.0,1800.0,1850.0,1900.0,1950.0,2000.0,2050.0,2100.0,2150.0,2200.0,2250.0,2300.0,2350.0,2400.0,2450.0,2500.0],\"name\":\"((eqM) (e_l)) (((mul) (e_l)) (e_r))\",\"y\":[2.6036035178090585E-4,3.2326700301231486E-4,4.077541666808075E-4,5.200428490672476E-4,6.652528801958778E-4,8.443890484178232E-4,0.0010511745537468938,0.0012713046752021204,0.0014859970707886093,0.0016782823710118934,0.0018379333885619922,0.0019624638012463998,0.0020550061865693466,0.0021213546286053295,0.0021677186909909193,0.0021995430954012828,0.002221121020551703,0.002235630367248059,0.002245332311472099,0.0022517955038286208,0.0022560904194246036,0.002258939758161695,0.002260827998022656,0.0022620784141547837,0.0022629060569507448,0.002263453694166589,0.0022638159800581334,0.002264055614549624,0.0022642141064875315,0.00226431892512966,0.002264388244141186,0.002264434085196332,0.002264464399610989,0.002264484446117558,0.002264497702495081,0.002264506468643321,0.002264512265483033,0.0022645160987829955,0.0022645186336412385,0.0022645203098732285,0.0022645214183185953,0.0022645221513022183,0.002264522636003466,0.00226452295652256,0.0022645231684726634,0.0022645233086291826,0.002264523401310675,0.002264523462598283,0.0022645235031260127,0.0022645235299258424],\"type\":\"scatter\"};\n",
       "  var data3 = {\"x\":[50.0,100.0,150.0,200.0,250.0,300.0,350.0,400.0,450.0,500.0,550.0,600.0,650.0,700.0,750.0,800.0,850.0,900.0,950.0,1000.0,1050.0,1100.0,1150.0,1200.0,1250.0,1300.0,1350.0,1400.0,1450.0,1500.0,1550.0,1600.0,1650.0,1700.0,1750.0,1800.0,1850.0,1900.0,1950.0,2000.0,2050.0,2100.0,2150.0,2200.0,2250.0,2300.0,2350.0,2400.0,2450.0,2500.0],\"name\":\"((eqM) (e_l)) (((mul) (e_l)) (e_l))\",\"y\":[2.6036035178090585E-4,3.2326700301231486E-4,4.077541666808075E-4,5.200428490672476E-4,6.652528801958778E-4,8.443890484178232E-4,0.0010511745537468938,0.0012713046752021204,0.0014859970707886093,0.0016782823710118934,0.0018379333885619922,0.0019624638012463998,0.0020550061865693466,0.0021213546286053295,0.0021677186909909193,0.0021995430954012828,0.002221121020551703,0.002235630367248059,0.002245332311472099,0.0022517955038286208,0.0022560904194246036,0.002258939758161695,0.002260827998022656,0.0022620784141547837,0.0022629060569507448,0.002263453694166589,0.0022638159800581334,0.002264055614549624,0.0022642141064875315,0.00226431892512966,0.002264388244141186,0.002264434085196332,0.002264464399610989,0.002264484446117558,0.002264497702495081,0.002264506468643321,0.002264512265483033,0.0022645160987829955,0.0022645186336412385,0.0022645203098732285,0.0022645214183185953,0.0022645221513022183,0.002264522636003466,0.00226452295652256,0.0022645231684726634,0.0022645233086291826,0.002264523401310675,0.002264523462598283,0.0022645235031260127,0.0022645235299258424],\"type\":\"scatter\"};\n",
       "  var data4 = {\"x\":[50.0,100.0,150.0,200.0,250.0,300.0,350.0,400.0,450.0,500.0,550.0,600.0,650.0,700.0,750.0,800.0,850.0,900.0,950.0,1000.0,1050.0,1100.0,1150.0,1200.0,1250.0,1300.0,1350.0,1400.0,1450.0,1500.0,1550.0,1600.0,1650.0,1700.0,1750.0,1800.0,1850.0,1900.0,1950.0,2000.0,2050.0,2100.0,2150.0,2200.0,2250.0,2300.0,2350.0,2400.0,2450.0,2500.0],\"name\":\"((eqM) (e_r)) (((mul) (e_l)) (e_r))\",\"y\":[2.6036035178090585E-4,3.2326700301231486E-4,4.077541666808075E-4,5.200428490672476E-4,6.652528801958778E-4,8.443890484178232E-4,0.0010511745537468938,0.0012713046752021204,0.0014859970707886093,0.0016782823710118934,0.0018379333885619922,0.0019624638012463998,0.0020550061865693466,0.0021213546286053295,0.0021677186909909193,0.0021995430954012828,0.002221121020551703,0.002235630367248059,0.002245332311472099,0.0022517955038286208,0.0022560904194246036,0.002258939758161695,0.002260827998022656,0.0022620784141547837,0.0022629060569507448,0.002263453694166589,0.0022638159800581334,0.002264055614549624,0.0022642141064875315,0.00226431892512966,0.002264388244141186,0.002264434085196332,0.002264464399610989,0.002264484446117558,0.002264497702495081,0.002264506468643321,0.002264512265483033,0.0022645160987829955,0.0022645186336412385,0.0022645203098732285,0.0022645214183185953,0.0022645221513022183,0.002264522636003466,0.00226452295652256,0.0022645231684726634,0.0022645233086291826,0.002264523401310675,0.002264523462598283,0.0022645235031260127,0.0022645235299258424],\"type\":\"scatter\"};\n",
       "  var data5 = {\"x\":[50.0,100.0,150.0,200.0,250.0,300.0,350.0,400.0,450.0,500.0,550.0,600.0,650.0,700.0,750.0,800.0,850.0,900.0,950.0,1000.0,1050.0,1100.0,1150.0,1200.0,1250.0,1300.0,1350.0,1400.0,1450.0,1500.0,1550.0,1600.0,1650.0,1700.0,1750.0,1800.0,1850.0,1900.0,1950.0,2000.0,2050.0,2100.0,2150.0,2200.0,2250.0,2300.0,2350.0,2400.0,2450.0,2500.0],\"name\":\"((eqM) (e_r)) (((mul) (e_r)) (e_r))\",\"y\":[2.6036035178090585E-4,3.2326700301231486E-4,4.077541666808075E-4,5.200428490672476E-4,6.652528801958778E-4,8.443890484178232E-4,0.0010511745537468938,0.0012713046752021204,0.0014859970707886093,0.0016782823710118934,0.0018379333885619922,0.0019624638012463998,0.0020550061865693466,0.0021213546286053295,0.0021677186909909193,0.0021995430954012828,0.002221121020551703,0.002235630367248059,0.002245332311472099,0.0022517955038286208,0.0022560904194246036,0.002258939758161695,0.002260827998022656,0.0022620784141547837,0.0022629060569507448,0.002263453694166589,0.0022638159800581334,0.002264055614549624,0.0022642141064875315,0.00226431892512966,0.002264388244141186,0.002264434085196332,0.002264464399610989,0.002264484446117558,0.002264497702495081,0.002264506468643321,0.002264512265483033,0.0022645160987829955,0.0022645186336412385,0.0022645203098732285,0.0022645214183185953,0.0022645221513022183,0.002264522636003466,0.00226452295652256,0.0022645231684726634,0.0022645233086291826,0.002264523401310675,0.002264523462598283,0.0022645235031260127,0.0022645235299258424],\"type\":\"scatter\"};\n",
       "\n",
       "  var data = [data0, data1, data2, data3, data4, data5];\n",
       "  var layout = {\"title\":\"Evolution of the lemma coefficients\"};\n",
       "\n",
       "  Plotly.plot('plot-1025472177', data, layout);\n",
       "})();\n",
       "});\n",
       "      </script>\n",
       "           "
      ]
     },
     "metadata": {},
     "output_type": "display_data"
    },
    {
     "data": {
      "text/plain": [
       "\u001b[36mres13\u001b[39m: \u001b[32mString\u001b[39m = \u001b[32m\"plot-1025472177\"\u001b[39m"
      ]
     },
     "execution_count": 14,
     "metadata": {},
     "output_type": "execute_result"
    }
   ],
   "source": [
    "tsdata.plot(title=\"Evolution of the lemma coefficients\")"
   ]
  },
  {
   "cell_type": "markdown",
   "metadata": {},
   "source": [
    "We pick the lemma that will give us the result. Note that there are four lemmas that have high weight after the evolution, two of which will work, so one could evolve along all of them (which we do in the interactive code)."
   ]
  },
  {
   "cell_type": "code",
   "execution_count": 15,
   "metadata": {},
   "outputs": [
    {
     "data": {
      "text/plain": [
       "\u001b[36mpf\u001b[39m: \u001b[32mU\u001b[39m = \u001b[32mlemma\u001b[39m\n",
       "\u001b[36mres14_1\u001b[39m: \u001b[32mTyp\u001b[39m[\u001b[32mU\u001b[39m] = \u001b[32meqM(e_r)(mul(e_l)(e_r))\u001b[39m"
      ]
     },
     "execution_count": 15,
     "metadata": {},
     "output_type": "execute_result"
    }
   ],
   "source": [
    "val pf = \"lemma\" :: toTyp(streams(4)._1)\n",
    "pf.typ"
   ]
  },
  {
   "cell_type": "markdown",
   "metadata": {},
   "source": [
    "### Using the lemma\n",
    "\n",
    "For quick further exploration, we use the _derivatives_ of the recursive generating rules in the direction of the new lemma."
   ]
  },
  {
   "cell_type": "code",
   "execution_count": 16,
   "metadata": {},
   "outputs": [
    {
     "data": {
      "text/plain": [
       "\u001b[36mtt\u001b[39m: \u001b[32mmonix\u001b[39m.\u001b[32meval\u001b[39m.\u001b[32mTask\u001b[39m[\u001b[32mTermState\u001b[39m] = \u001b[33mFlatMap\u001b[39m(\n",
       "  \u001b[33mFlatMap\u001b[39m(\u001b[33mAsync\u001b[39m(<function2>, true, true, true), monix.eval.Task$$Lambda$2511/513186579@4bf5f76b),\n",
       "  provingground.learning.TermGenParams$$Lambda$3206/1120831440@9e0753f\n",
       ")"
      ]
     },
     "execution_count": 16,
     "metadata": {},
     "output_type": "execute_result"
    }
   ],
   "source": [
    "val tt = tg.nextTangStateTask(ev.result, TermState(FiniteDistribution.unif(pf), FiniteDistribution.empty), math.pow(10.0, -4)) "
   ]
  },
  {
   "cell_type": "code",
   "execution_count": 17,
   "metadata": {},
   "outputs": [
    {
     "data": {
      "text/plain": [
       "\u001b[36mtts\u001b[39m: \u001b[32mTermState\u001b[39m = \u001b[33mTermState\u001b[39m(\n",
       "  \u001b[33mFiniteDistribution\u001b[39m(\n",
       "    \u001b[33mVector\u001b[39m(\n",
       "      \u001b[33mWeighted\u001b[39m(\n",
       "        \u001b[32m(_ : eqM(mul(e_r)(e_l))($xuar)) ↦ axiom_{(eqM(a)(b) \\to (eqM(b)(c) \\to eqM(a)(c)))}(mul(e_r)(e_l))(e_r)(mul(e_l)(e_r))($xubb)(lemma)\u001b[39m,\n",
       "        \u001b[32m4.2905968897362E-4\u001b[39m\n",
       "      ),\n",
       "      \u001b[33mWeighted\u001b[39m(\u001b[32m(_ : M) ↦ (@b : M) ↦ @b\u001b[39m, \u001b[32m0.003605207867424719\u001b[39m),\n",
       "      \u001b[33mWeighted\u001b[39m(\u001b[32m(@a : M) ↦ (_ : M) ↦ @a\u001b[39m, \u001b[32m0.002523645507197304\u001b[39m),\n",
       "      \u001b[33mWeighted\u001b[39m(\u001b[32m(@a : M) ↦ mul(@a)\u001b[39m, \u001b[32m0.01827497815647582\u001b[39m),\n",
       "      \u001b[33mWeighted\u001b[39m(\n",
       "        \u001b[32maxiom_{(eqM(a)(b) \\to eqM(b)(a))}(e_r)(mul(e_l)(e_r))(axiom_{(eqM(a)(b) \\to eqM(b)(a))}(mul(e_l)(e_r))(e_r)(axiom_{(eqM(a)(b) \\to eqM(b)(a))}(e_r)(mul(e_l)(e_r))(lemma)))\u001b[39m,\n",
       "        \u001b[32m6.994803101713373E-4\u001b[39m\n",
       "      ),\n",
       "      \u001b[33mWeighted\u001b[39m(\n",
       "        \u001b[32m(_ : eqM(mul(e_r)(e_l))($xvcr)) ↦ axiom_{(eqM(a)(b) \\to (eqM(b)(c) \\to eqM(a)(c)))}(mul(e_r)(e_l))(mul(e_l)(e_r))(e_r)($xvdp)(axiom_{(eqM(a)(b) \\to eqM(b)(a))}(e_r)(mul(e_l)(e_r))(lemma))\u001b[39m,\n",
       "        \u001b[32m7.88260512180325E-5\u001b[39m\n",
       "      ),\n",
       "      \u001b[33mWeighted\u001b[39m(\u001b[32mlemma\u001b[39m, \u001b[32m0.6511923369378043\u001b[39m),\n",
       "      \u001b[33mWeighted\u001b[39m(\n",
       "        \u001b[32maxiom_{(eqM(a)(b) \\to (eqM(b)(c) \\to eqM(a)(c)))}(mul(e_l)(e_r))(e_r)(mul(e_l)(e_r))(axiom_{(eqM(a)(b) \\to eqM(b)(a))}(e_r)(mul(e_l)(e_r))(lemma))\u001b[39m,\n",
       "        \u001b[32m5.123692618686132E-4\u001b[39m\n",
       "      ),\n",
       "      \u001b[33mWeighted\u001b[39m(\n",
       "        \u001b[32maxiom_{(eqM(a)(b) \\to (eqM(b)(c) \\to eqM(a)(c)))}(e_r)(e_r)(mul(e_l)(e_r))(axiom_{eqM(a)(a)}(e_r))(lemma)\u001b[39m,\n",
       "        \u001b[32m1.0894858245006103E-4\u001b[39m\n",
       "      ),\n",
       "      \u001b[33mWeighted\u001b[39m(\n",
       "        \u001b[32m(_ : eqM(mul(e_l)(e_l))($xbtx)) ↦ axiom_{(eqM(a)(b) \\to (eqM(b)(c) \\to eqM(a)(c)))}(mul(e_l)(e_l))(mul(e_l)(e_r))(e_r)($xbut)(axiom_{(eqM(a)(b) \\to eqM(b)(a))}(e_r)(mul(e_l)(e_r))(lemma))\u001b[39m,\n",
       "        \u001b[32m7.88260512180325E-5\u001b[39m\n",
       "      ),\n",
       "      \u001b[33mWeighted\u001b[39m(\n",
       "        \u001b[32maxiom_{(eqM(a)(b) \\to (eqM(b)(c) \\to eqM(a)(c)))}(mul(e_l)(e_r))(e_r)(mul(e_l)(mul(e_l)(e_l)))(axiom_{(eqM(a)(b) \\to eqM(b)(a))}(e_r)(mul(e_l)(e_r))(lemma))\u001b[39m,\n",
       "        \u001b[32m1.9714486414342837E-4\u001b[39m\n",
       "      ),\n",
       "      \u001b[33mWeighted\u001b[39m(\u001b[32m(@a : M) ↦ eqM(@a)\u001b[39m, \u001b[32m0.02440383153109784\u001b[39m),\n",
       "      \u001b[33mWeighted\u001b[39m(\n",
       "        \u001b[32maxiom_{(eqM(a)(b) \\to (eqM(b)(c) \\to eqM(a)(c)))}(e_r)(mul(e_l)(e_r))(mul(e_l)(mul(e_r)(e_r)))(lemma)\u001b[39m,\n",
       "        \u001b[32m0.0011052489743779057\u001b[39m\n",
       "      ),\n",
       "      \u001b[33mWeighted\u001b[39m(\n",
       "..."
      ]
     },
     "execution_count": 17,
     "metadata": {},
     "output_type": "execute_result"
    }
   ],
   "source": [
    "val tts = tt.runSyncUnsafe()"
   ]
  },
  {
   "cell_type": "markdown",
   "metadata": {},
   "source": [
    "## The Proof\n",
    "\n",
    "The next step indeed gives a proof of the desired result $e_l = e_r$. Note that this has a high weight of 1.2%"
   ]
  },
  {
   "cell_type": "code",
   "execution_count": 18,
   "metadata": {},
   "outputs": [
    {
     "data": {
      "text/plain": [
       "\u001b[36mres17\u001b[39m: \u001b[32mFiniteDistribution\u001b[39m[\u001b[32mTerm\u001b[39m] = \u001b[33mFiniteDistribution\u001b[39m(\n",
       "  \u001b[33mVector\u001b[39m(\n",
       "    \u001b[33mWeighted\u001b[39m(\n",
       "      \u001b[32maxiom_{(eqM(a)(b) \\to eqM(b)(a))}(e_r)(e_l)(axiom_{(eqM(a)(b) \\to (eqM(b)(c) \\to eqM(a)(c)))}(e_r)(mul(e_l)(e_r))(e_l)(lemma)(axiom_{eqM(mul(a)(e_r))(a)}(e_l)))\u001b[39m,\n",
       "      \u001b[32m1.2963246194129427E-4\u001b[39m\n",
       "    )\n",
       "  )\n",
       ")"
      ]
     },
     "execution_count": 18,
     "metadata": {},
     "output_type": "execute_result"
    }
   ],
   "source": [
    "tts.terms.filter(_.typ == eqM(l)(r)) "
   ]
  }
 ],
 "metadata": {
  "kernelspec": {
   "display_name": "Scala",
   "language": "scala",
   "name": "scala"
  },
  "language_info": {
   "codemirror_mode": "text/x-scala",
   "file_extension": ".scala",
   "mimetype": "text/x-scala",
   "name": "scala",
   "nbconvert_exporter": "script",
   "version": "2.12.8"
  }
 },
 "nbformat": 4,
 "nbformat_minor": 2
}
