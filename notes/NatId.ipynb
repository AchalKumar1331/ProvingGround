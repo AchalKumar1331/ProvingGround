{
 "cells": [
  {
   "cell_type": "markdown",
   "metadata": {},
   "source": [
    "We attempt to decide identity for natural numbers."
   ]
  },
  {
   "cell_type": "code",
   "execution_count": 1,
   "metadata": {},
   "outputs": [
    {
     "data": {
      "text/plain": [
       "\u001b[32mimport \u001b[39m\u001b[36m$ivy.$                                                                   \u001b[39m"
      ]
     },
     "execution_count": 1,
     "metadata": {},
     "output_type": "execute_result"
    }
   ],
   "source": [
    "import $ivy.`io.github.siddhartha-gadgil::provingground-core-jvm:0.1.1-SNAPSHOT`"
   ]
  },
  {
   "cell_type": "code",
   "execution_count": 2,
   "metadata": {},
   "outputs": [
    {
     "data": {
      "text/plain": [
       "\u001b[32mimport \u001b[39m\u001b[36mprovingground._, induction._, scalahott._\n",
       "\u001b[39m\n",
       "\u001b[32mimport \u001b[39m\u001b[36mNatRing._\u001b[39m"
      ]
     },
     "execution_count": 2,
     "metadata": {},
     "output_type": "execute_result"
    }
   ],
   "source": [
    "import provingground._, induction._, scalahott._\n",
    "import NatRing._"
   ]
  },
  {
   "cell_type": "code",
   "execution_count": 3,
   "metadata": {},
   "outputs": [
    {
     "data": {
      "text/plain": [
       "\u001b[36mn\u001b[39m: \u001b[32mRepTerm\u001b[39m[\u001b[32mspire\u001b[39m.\u001b[32mmath\u001b[39m.\u001b[32mSafeLong\u001b[39m] = \u001b[33mRepSymbObj\u001b[39m(\u001b[33mName\u001b[39m(\u001b[32m\"n\"\u001b[39m), Nat.Typ)\n",
       "\u001b[36mm\u001b[39m: \u001b[32mRepTerm\u001b[39m[\u001b[32mspire\u001b[39m.\u001b[32mmath\u001b[39m.\u001b[32mSafeLong\u001b[39m] = \u001b[33mRepSymbObj\u001b[39m(\u001b[33mName\u001b[39m(\u001b[32m\"m\"\u001b[39m), Nat.Typ)\n",
       "\u001b[36mk\u001b[39m: \u001b[32mRepTerm\u001b[39m[\u001b[32mspire\u001b[39m.\u001b[32mmath\u001b[39m.\u001b[32mSafeLong\u001b[39m] = \u001b[33mRepSymbObj\u001b[39m(\u001b[33mName\u001b[39m(\u001b[32m\"k\"\u001b[39m), Nat.Typ)"
      ]
     },
     "execution_count": 3,
     "metadata": {},
     "output_type": "execute_result"
    }
   ],
   "source": [
    "val n = \"n\" :: NatTyp\n",
    "val m = \"m\" :: NatTyp\n",
    "val k = \"k\" :: NatTyp"
   ]
  },
  {
   "cell_type": "code",
   "execution_count": 4,
   "metadata": {},
   "outputs": [
    {
     "data": {
      "text/plain": [
       "\u001b[32mimport \u001b[39m\u001b[36mspire.implicits._\u001b[39m"
      ]
     },
     "execution_count": 4,
     "metadata": {},
     "output_type": "execute_result"
    }
   ],
   "source": [
    "import spire.implicits._"
   ]
  },
  {
   "cell_type": "code",
   "execution_count": 5,
   "metadata": {},
   "outputs": [
    {
     "data": {
      "text/plain": [
       "\u001b[32mimport \u001b[39m\u001b[36mHoTT._\n",
       "\u001b[39m\n",
       "\u001b[36mrecNatType\u001b[39m: \u001b[32mFunc\u001b[39m[\u001b[32mTyp\u001b[39m[\u001b[32mTerm\u001b[39m], \u001b[32mFunc\u001b[39m[\u001b[32mFunc\u001b[39m[\u001b[32mNat\u001b[39m, \u001b[32mFunc\u001b[39m[\u001b[32mTyp\u001b[39m[\u001b[32mTerm\u001b[39m], \u001b[32mTyp\u001b[39m[\u001b[32mTerm\u001b[39m]]], \u001b[32mFunc\u001b[39m[\u001b[32mNat\u001b[39m, \u001b[32mTyp\u001b[39m[\u001b[32mTerm\u001b[39m]]]] = \u001b[33mLambdaFixed\u001b[39m(\n",
       "  \u001b[33mSymbTyp\u001b[39m($i, \u001b[32m0\u001b[39m),\n",
       "  \u001b[33mLambdaFixed\u001b[39m(\n",
       "    \u001b[33mSymbolicFunc\u001b[39m($j, Nat.Typ, \u001b[33mFuncTyp\u001b[39m(\u001b[33mUniverse\u001b[39m(\u001b[32m0\u001b[39m), \u001b[33mUniverse\u001b[39m(\u001b[32m0\u001b[39m))),\n",
       "    \u001b[33mRec\u001b[39m(\n",
       "      \u001b[33mSymbTyp\u001b[39m($i, \u001b[32m0\u001b[39m),\n",
       "      \u001b[33mSymbolicFunc\u001b[39m($j, Nat.Typ, \u001b[33mFuncTyp\u001b[39m(\u001b[33mUniverse\u001b[39m(\u001b[32m0\u001b[39m), \u001b[33mUniverse\u001b[39m(\u001b[32m0\u001b[39m)))\n",
       "    )\n",
       "  )\n",
       ")"
      ]
     },
     "execution_count": 5,
     "metadata": {},
     "output_type": "execute_result"
    }
   ],
   "source": [
    "import HoTT._\n",
    "val recNatType = rec(Type)"
   ]
  },
  {
   "cell_type": "code",
   "execution_count": 6,
   "metadata": {},
   "outputs": [],
   "source": [
    "repl.pprinter.bind(translation.FansiShow.fansiPrint)"
   ]
  },
  {
   "cell_type": "code",
   "execution_count": 7,
   "metadata": {},
   "outputs": [
    {
     "data": {
      "text/plain": [
       "\u001b[36mres6\u001b[39m: \u001b[32mTyp\u001b[39m[\u001b[32mFunc\u001b[39m[\u001b[32mTyp\u001b[39m[\u001b[32mTerm\u001b[39m], \u001b[32mFunc\u001b[39m[\u001b[32mFunc\u001b[39m[\u001b[32mNat\u001b[39m, \u001b[32mFunc\u001b[39m[\u001b[32mTyp\u001b[39m[\u001b[32mTerm\u001b[39m], \u001b[32mTyp\u001b[39m[\u001b[32mTerm\u001b[39m]]], \u001b[32mFunc\u001b[39m[\u001b[32mNat\u001b[39m, \u001b[32mTyp\u001b[39m[\u001b[32mTerm\u001b[39m]]]]] = \u001b[32m(𝒰  → ((Nat.Typ → (𝒰  → 𝒰 )) → (Nat.Typ → 𝒰 )))\u001b[39m"
      ]
     },
     "execution_count": 7,
     "metadata": {},
     "output_type": "execute_result"
    }
   ],
   "source": [
    "recNatType.typ"
   ]
  },
  {
   "cell_type": "code",
   "execution_count": 8,
   "metadata": {},
   "outputs": [
    {
     "data": {
      "text/plain": [
       "\u001b[36mrecNatNatType\u001b[39m: \u001b[32mFunc\u001b[39m[\u001b[32mFunc\u001b[39m[\u001b[32mRepTerm\u001b[39m[\u001b[32mspire\u001b[39m.\u001b[32mmath\u001b[39m.\u001b[32mSafeLong\u001b[39m], \u001b[32mTyp\u001b[39m[\u001b[32mTerm\u001b[39m]], \u001b[32mFunc\u001b[39m[\u001b[32mFunc\u001b[39m[\u001b[32mNat\u001b[39m, \u001b[32mFunc\u001b[39m[\u001b[32mFunc\u001b[39m[\u001b[32mRepTerm\u001b[39m[\u001b[32mspire\u001b[39m.\u001b[32mmath\u001b[39m.\u001b[32mSafeLong\u001b[39m], \u001b[32mTyp\u001b[39m[\u001b[32mTerm\u001b[39m]], \u001b[32mFunc\u001b[39m[\u001b[32mRepTerm\u001b[39m[\u001b[32mspire\u001b[39m.\u001b[32mmath\u001b[39m.\u001b[32mSafeLong\u001b[39m], \u001b[32mTyp\u001b[39m[\u001b[32mTerm\u001b[39m]]]], \u001b[32mFunc\u001b[39m[\u001b[32mNat\u001b[39m, \u001b[32mFunc\u001b[39m[\u001b[32mRepTerm\u001b[39m[\u001b[32mspire\u001b[39m.\u001b[32mmath\u001b[39m.\u001b[32mSafeLong\u001b[39m], \u001b[32mTyp\u001b[39m[\u001b[32mTerm\u001b[39m]]]]] = \u001b[32m($ag : (Nat.Typ → 𝒰 )) ↦ ($ah : (Nat.Typ → ((Nat.Typ → 𝒰 ) → (Nat.Typ → 𝒰 )))) ↦ rec_{ Nat.Typ ; (Nat.Typ → 𝒰 ) }($ag)($ah)\u001b[39m"
      ]
     },
     "execution_count": 8,
     "metadata": {},
     "output_type": "execute_result"
    }
   ],
   "source": [
    "val recNatNatType = rec(NatTyp ->: Type)"
   ]
  },
  {
   "cell_type": "code",
   "execution_count": 9,
   "metadata": {},
   "outputs": [
    {
     "data": {
      "text/plain": [
       "\u001b[36mres8\u001b[39m: \u001b[32mTyp\u001b[39m[\u001b[32mFunc\u001b[39m[\u001b[32mFunc\u001b[39m[\u001b[32mRepTerm\u001b[39m[\u001b[32mspire\u001b[39m.\u001b[32mmath\u001b[39m.\u001b[32mSafeLong\u001b[39m], \u001b[32mTyp\u001b[39m[\u001b[32mTerm\u001b[39m]], \u001b[32mFunc\u001b[39m[\u001b[32mFunc\u001b[39m[\u001b[32mNat\u001b[39m, \u001b[32mFunc\u001b[39m[\u001b[32mFunc\u001b[39m[\u001b[32mRepTerm\u001b[39m[\u001b[32mspire\u001b[39m.\u001b[32mmath\u001b[39m.\u001b[32mSafeLong\u001b[39m], \u001b[32mTyp\u001b[39m[\u001b[32mTerm\u001b[39m]], \u001b[32mFunc\u001b[39m[\u001b[32mRepTerm\u001b[39m[\u001b[32mspire\u001b[39m.\u001b[32mmath\u001b[39m.\u001b[32mSafeLong\u001b[39m], \u001b[32mTyp\u001b[39m[\u001b[32mTerm\u001b[39m]]]], \u001b[32mFunc\u001b[39m[\u001b[32mNat\u001b[39m, \u001b[32mFunc\u001b[39m[\u001b[32mRepTerm\u001b[39m[\u001b[32mspire\u001b[39m.\u001b[32mmath\u001b[39m.\u001b[32mSafeLong\u001b[39m], \u001b[32mTyp\u001b[39m[\u001b[32mTerm\u001b[39m]]]]]] = \u001b[32m((Nat.Typ → 𝒰 ) → ((Nat.Typ → ((Nat.Typ → 𝒰 ) → (Nat.Typ → 𝒰 ))) → (Nat.Typ → (Nat.Typ → 𝒰 ))))\u001b[39m"
      ]
     },
     "execution_count": 9,
     "metadata": {},
     "output_type": "execute_result"
    }
   ],
   "source": [
    "recNatNatType.typ"
   ]
  },
  {
   "cell_type": "code",
   "execution_count": 10,
   "metadata": {},
   "outputs": [
    {
     "data": {
      "text/plain": [
       "\u001b[36mA\u001b[39m: \u001b[32mTyp\u001b[39m[\u001b[32mTerm\u001b[39m] = \u001b[32mA\u001b[39m\n",
       "\u001b[36mres9_1\u001b[39m: \u001b[32mTyp\u001b[39m[\u001b[32mFunc\u001b[39m[\u001b[32mFunc\u001b[39m[\u001b[32mNat\u001b[39m, \u001b[32mFunc\u001b[39m[\u001b[32mTyp\u001b[39m[\u001b[32mTerm\u001b[39m], \u001b[32mTyp\u001b[39m[\u001b[32mTerm\u001b[39m]]], \u001b[32mFunc\u001b[39m[\u001b[32mNat\u001b[39m, \u001b[32mTyp\u001b[39m[\u001b[32mTerm\u001b[39m]]]] = \u001b[32m((Nat.Typ → (𝒰  → 𝒰 )) → (Nat.Typ → 𝒰 ))\u001b[39m"
      ]
     },
     "execution_count": 10,
     "metadata": {},
     "output_type": "execute_result"
    }
   ],
   "source": [
    "val A = Type.sym\n",
    "recNatType(One).typ"
   ]
  },
  {
   "cell_type": "code",
   "execution_count": 11,
   "metadata": {},
   "outputs": [
    {
     "data": {
      "text/plain": [
       "\u001b[36mstep01\u001b[39m: \u001b[32mFunc\u001b[39m[\u001b[32mRepTerm\u001b[39m[\u001b[32mspire\u001b[39m.\u001b[32mmath\u001b[39m.\u001b[32mSafeLong\u001b[39m], \u001b[32mFunc\u001b[39m[\u001b[32mTyp\u001b[39m[\u001b[32mTerm\u001b[39m], \u001b[32mTyp\u001b[39m[\u001b[32mTerm\u001b[39m]]] = \u001b[32m(_ : Nat.Typ) ↦ (_ : 𝒰 ) ↦ Zero\u001b[39m"
      ]
     },
     "execution_count": 11,
     "metadata": {},
     "output_type": "execute_result"
    }
   ],
   "source": [
    "val step01 = n :-> (A :-> (Zero: Typ[Term]))"
   ]
  },
  {
   "cell_type": "code",
   "execution_count": 12,
   "metadata": {},
   "outputs": [
    {
     "data": {
      "text/plain": [
       "\u001b[36mres11\u001b[39m: \u001b[32mTyp\u001b[39m[\u001b[32mFunc\u001b[39m[\u001b[32mRepTerm\u001b[39m[\u001b[32mspire\u001b[39m.\u001b[32mmath\u001b[39m.\u001b[32mSafeLong\u001b[39m], \u001b[32mFunc\u001b[39m[\u001b[32mTyp\u001b[39m[\u001b[32mTerm\u001b[39m], \u001b[32mTyp\u001b[39m[\u001b[32mTerm\u001b[39m]]]] = \u001b[32m(Nat.Typ → (𝒰  → 𝒰 ))\u001b[39m"
      ]
     },
     "execution_count": 12,
     "metadata": {},
     "output_type": "execute_result"
    }
   ],
   "source": [
    "step01.typ"
   ]
  },
  {
   "cell_type": "code",
   "execution_count": 13,
   "metadata": {},
   "outputs": [
    {
     "data": {
      "text/plain": [
       "\u001b[36mbase0\u001b[39m: \u001b[32mFunc\u001b[39m[\u001b[32mNat\u001b[39m, \u001b[32mTyp\u001b[39m[\u001b[32mTerm\u001b[39m]] = \u001b[32mrec_{ Nat.Typ ; 𝒰  }(Unit)((_ : Nat.Typ) ↦ (_ : 𝒰 ) ↦ Zero)\u001b[39m"
      ]
     },
     "execution_count": 13,
     "metadata": {},
     "output_type": "execute_result"
    }
   ],
   "source": [
    "val base0 = recNatType(One)(step01)"
   ]
  },
  {
   "cell_type": "code",
   "execution_count": 14,
   "metadata": {},
   "outputs": [
    {
     "data": {
      "text/plain": [
       "\u001b[36mres13\u001b[39m: \u001b[32mTyp\u001b[39m[\u001b[32mFunc\u001b[39m[\u001b[32mFunc\u001b[39m[\u001b[32mNat\u001b[39m, \u001b[32mFunc\u001b[39m[\u001b[32mFunc\u001b[39m[\u001b[32mRepTerm\u001b[39m[\u001b[32mspire\u001b[39m.\u001b[32mmath\u001b[39m.\u001b[32mSafeLong\u001b[39m], \u001b[32mTyp\u001b[39m[\u001b[32mTerm\u001b[39m]], \u001b[32mFunc\u001b[39m[\u001b[32mRepTerm\u001b[39m[\u001b[32mspire\u001b[39m.\u001b[32mmath\u001b[39m.\u001b[32mSafeLong\u001b[39m], \u001b[32mTyp\u001b[39m[\u001b[32mTerm\u001b[39m]]]], \u001b[32mFunc\u001b[39m[\u001b[32mNat\u001b[39m, \u001b[32mFunc\u001b[39m[\u001b[32mRepTerm\u001b[39m[\u001b[32mspire\u001b[39m.\u001b[32mmath\u001b[39m.\u001b[32mSafeLong\u001b[39m], \u001b[32mTyp\u001b[39m[\u001b[32mTerm\u001b[39m]]]]] = \u001b[32m((Nat.Typ → ((Nat.Typ → 𝒰 ) → (Nat.Typ → 𝒰 ))) → (Nat.Typ → (Nat.Typ → 𝒰 )))\u001b[39m"
      ]
     },
     "execution_count": 14,
     "metadata": {},
     "output_type": "execute_result"
    }
   ],
   "source": [
    "recNatNatType(base0).typ"
   ]
  },
  {
   "cell_type": "code",
   "execution_count": 15,
   "metadata": {},
   "outputs": [
    {
     "data": {
      "text/plain": [
       "\u001b[36mres14\u001b[39m: \u001b[32mTyp\u001b[39m[\u001b[32mTerm\u001b[39m] = \u001b[32mUnit\u001b[39m"
      ]
     },
     "execution_count": 15,
     "metadata": {},
     "output_type": "execute_result"
    }
   ],
   "source": [
    "base0(0: Nat)"
   ]
  },
  {
   "cell_type": "code",
   "execution_count": 16,
   "metadata": {},
   "outputs": [
    {
     "data": {
      "text/plain": [
       "\u001b[36mres15\u001b[39m: \u001b[32mTyp\u001b[39m[\u001b[32mTerm\u001b[39m] = \u001b[32mZero\u001b[39m"
      ]
     },
     "execution_count": 16,
     "metadata": {},
     "output_type": "execute_result"
    }
   ],
   "source": [
    "base0(1: Nat)"
   ]
  },
  {
   "cell_type": "code",
   "execution_count": 17,
   "metadata": {},
   "outputs": [
    {
     "data": {
      "text/plain": [
       "\u001b[36mres16\u001b[39m: \u001b[32mTyp\u001b[39m[\u001b[32mTerm\u001b[39m] = \u001b[32mZero\u001b[39m"
      ]
     },
     "execution_count": 17,
     "metadata": {},
     "output_type": "execute_result"
    }
   ],
   "source": [
    "base0(n + 1)"
   ]
  },
  {
   "cell_type": "code",
   "execution_count": 18,
   "metadata": {},
   "outputs": [
    {
     "data": {
      "text/plain": [
       "\u001b[36mQ\u001b[39m: \u001b[32mFunc\u001b[39m[\u001b[32mRepTerm\u001b[39m[\u001b[32mspire\u001b[39m.\u001b[32mmath\u001b[39m.\u001b[32mSafeLong\u001b[39m], \u001b[32mTyp\u001b[39m[\u001b[32mTerm\u001b[39m]] = \u001b[32mQ\u001b[39m"
      ]
     },
     "execution_count": 18,
     "metadata": {},
     "output_type": "execute_result"
    }
   ],
   "source": [
    "val Q = (NatTyp ->: Type).sym"
   ]
  },
  {
   "cell_type": "code",
   "execution_count": 19,
   "metadata": {},
   "outputs": [
    {
     "data": {
      "text/plain": [
       "\u001b[36mres18\u001b[39m: \u001b[32mTyp\u001b[39m[\u001b[32mFunc\u001b[39m[\u001b[32mFunc\u001b[39m[\u001b[32mNat\u001b[39m, \u001b[32mFunc\u001b[39m[\u001b[32mTyp\u001b[39m[\u001b[32mTerm\u001b[39m], \u001b[32mTyp\u001b[39m[\u001b[32mTerm\u001b[39m]]], \u001b[32mFunc\u001b[39m[\u001b[32mNat\u001b[39m, \u001b[32mTyp\u001b[39m[\u001b[32mTerm\u001b[39m]]]] = \u001b[32m((Nat.Typ → (𝒰  → 𝒰 )) → (Nat.Typ → 𝒰 ))\u001b[39m"
      ]
     },
     "execution_count": 19,
     "metadata": {},
     "output_type": "execute_result"
    }
   ],
   "source": [
    "recNatType(Zero).typ"
   ]
  },
  {
   "cell_type": "code",
   "execution_count": 20,
   "metadata": {},
   "outputs": [
    {
     "data": {
      "text/plain": [
       "\u001b[36mres19\u001b[39m: \u001b[32mTyp\u001b[39m[\u001b[32mFunc\u001b[39m[\u001b[32mFunc\u001b[39m[\u001b[32mRepTerm\u001b[39m[\u001b[32mspire\u001b[39m.\u001b[32mmath\u001b[39m.\u001b[32mSafeLong\u001b[39m], \u001b[32mTyp\u001b[39m[\u001b[32mTerm\u001b[39m]], \u001b[32mTyp\u001b[39m[\u001b[32mTerm\u001b[39m]]] = \u001b[32m((Nat.Typ → 𝒰 ) → 𝒰 )\u001b[39m"
      ]
     },
     "execution_count": 20,
     "metadata": {},
     "output_type": "execute_result"
    }
   ],
   "source": [
    "(n :-> A :-> Q(n)).typ"
   ]
  },
  {
   "cell_type": "code",
   "execution_count": 21,
   "metadata": {},
   "outputs": [
    {
     "data": {
      "text/plain": [
       "\u001b[36mstep1arg\u001b[39m: \u001b[32mFunc\u001b[39m[\u001b[32mNat\u001b[39m, \u001b[32mTyp\u001b[39m[\u001b[32mTerm\u001b[39m]] = \u001b[32mrec_{ Nat.Typ ; 𝒰  }(Zero)((k : Nat.Typ) ↦ (_ : 𝒰 ) ↦ Q(k))\u001b[39m"
      ]
     },
     "execution_count": 21,
     "metadata": {},
     "output_type": "execute_result"
    }
   ],
   "source": [
    "val step1arg = recNatType(Zero)(k :-> (A :-> Q(k)))"
   ]
  },
  {
   "cell_type": "code",
   "execution_count": 22,
   "metadata": {},
   "outputs": [
    {
     "data": {
      "text/plain": [
       "\u001b[36mres21\u001b[39m: \u001b[32mTyp\u001b[39m[\u001b[32mFunc\u001b[39m[\u001b[32mNat\u001b[39m, \u001b[32mTyp\u001b[39m[\u001b[32mTerm\u001b[39m]]] = \u001b[32m(Nat.Typ → 𝒰 )\u001b[39m"
      ]
     },
     "execution_count": 22,
     "metadata": {},
     "output_type": "execute_result"
    }
   ],
   "source": [
    "step1arg.typ"
   ]
  },
  {
   "cell_type": "code",
   "execution_count": 23,
   "metadata": {},
   "outputs": [
    {
     "data": {
      "text/plain": [
       "\u001b[36mstep0\u001b[39m: \u001b[32mFunc\u001b[39m[\u001b[32mRepTerm\u001b[39m[\u001b[32mspire\u001b[39m.\u001b[32mmath\u001b[39m.\u001b[32mSafeLong\u001b[39m], \u001b[32mFunc\u001b[39m[\u001b[32mFunc\u001b[39m[\u001b[32mRepTerm\u001b[39m[\u001b[32mspire\u001b[39m.\u001b[32mmath\u001b[39m.\u001b[32mSafeLong\u001b[39m], \u001b[32mTyp\u001b[39m[\u001b[32mTerm\u001b[39m]], \u001b[32mFunc\u001b[39m[\u001b[32mNat\u001b[39m, \u001b[32mTyp\u001b[39m[\u001b[32mTerm\u001b[39m]]]] = \u001b[32m(_ : Nat.Typ) ↦ (Q : (Nat.Typ → 𝒰 )) ↦ rec_{ Nat.Typ ; 𝒰  }(Zero)((k : Nat.Typ) ↦ (_ : 𝒰 ) ↦ Q(k))\u001b[39m"
      ]
     },
     "execution_count": 23,
     "metadata": {},
     "output_type": "execute_result"
    }
   ],
   "source": [
    "val step0 = n :-> (Q :-> step1arg)"
   ]
  },
  {
   "cell_type": "code",
   "execution_count": 24,
   "metadata": {},
   "outputs": [
    {
     "data": {
      "text/plain": [
       "\u001b[36mres23\u001b[39m: \u001b[32mTyp\u001b[39m[\u001b[32mFunc\u001b[39m[\u001b[32mRepTerm\u001b[39m[\u001b[32mspire\u001b[39m.\u001b[32mmath\u001b[39m.\u001b[32mSafeLong\u001b[39m], \u001b[32mFunc\u001b[39m[\u001b[32mFunc\u001b[39m[\u001b[32mRepTerm\u001b[39m[\u001b[32mspire\u001b[39m.\u001b[32mmath\u001b[39m.\u001b[32mSafeLong\u001b[39m], \u001b[32mTyp\u001b[39m[\u001b[32mTerm\u001b[39m]], \u001b[32mFunc\u001b[39m[\u001b[32mNat\u001b[39m, \u001b[32mTyp\u001b[39m[\u001b[32mTerm\u001b[39m]]]]] = \u001b[32m(Nat.Typ → ((Nat.Typ → 𝒰 ) → (Nat.Typ → 𝒰 )))\u001b[39m"
      ]
     },
     "execution_count": 24,
     "metadata": {},
     "output_type": "execute_result"
    }
   ],
   "source": [
    "step0.typ"
   ]
  },
  {
   "cell_type": "code",
   "execution_count": 25,
   "metadata": {},
   "outputs": [
    {
     "data": {
      "text/plain": [
       "\u001b[36mAreEqual\u001b[39m: \u001b[32mFunc\u001b[39m[\u001b[32mNat\u001b[39m, \u001b[32mFunc\u001b[39m[\u001b[32mRepTerm\u001b[39m[\u001b[32mspire\u001b[39m.\u001b[32mmath\u001b[39m.\u001b[32mSafeLong\u001b[39m], \u001b[32mTyp\u001b[39m[\u001b[32mTerm\u001b[39m]]] = \u001b[32mrec_{ Nat.Typ ; (Nat.Typ → 𝒰 ) }(rec_{ Nat.Typ ; 𝒰  }(Unit)((_ : Nat.Typ) ↦ (_ : 𝒰 ) ↦ Zero))((_ : Nat.Typ) ↦ (Q : (Nat.Typ → 𝒰 )) ↦ rec_{ Nat.Typ ; 𝒰  }(Zero)((k : Nat.Typ) ↦ (_ : 𝒰 ) ↦ Q(k)))\u001b[39m"
      ]
     },
     "execution_count": 25,
     "metadata": {},
     "output_type": "execute_result"
    }
   ],
   "source": [
    "val AreEqual = recNatNatType(base0)(step0)"
   ]
  },
  {
   "cell_type": "code",
   "execution_count": 26,
   "metadata": {},
   "outputs": [
    {
     "data": {
      "text/plain": [
       "\u001b[36mres25\u001b[39m: \u001b[32mTyp\u001b[39m[\u001b[32mFunc\u001b[39m[\u001b[32mNat\u001b[39m, \u001b[32mFunc\u001b[39m[\u001b[32mRepTerm\u001b[39m[\u001b[32mspire\u001b[39m.\u001b[32mmath\u001b[39m.\u001b[32mSafeLong\u001b[39m], \u001b[32mTyp\u001b[39m[\u001b[32mTerm\u001b[39m]]]] = \u001b[32m(Nat.Typ → (Nat.Typ → 𝒰 ))\u001b[39m"
      ]
     },
     "execution_count": 26,
     "metadata": {},
     "output_type": "execute_result"
    }
   ],
   "source": [
    "AreEqual.typ"
   ]
  },
  {
   "cell_type": "code",
   "execution_count": 27,
   "metadata": {},
   "outputs": [
    {
     "data": {
      "text/plain": [
       "\u001b[36mres26\u001b[39m: \u001b[32mTyp\u001b[39m[\u001b[32mTerm\u001b[39m] = \u001b[32mUnit\u001b[39m"
      ]
     },
     "execution_count": 27,
     "metadata": {},
     "output_type": "execute_result"
    }
   ],
   "source": [
    "AreEqual(0: Nat)(0: Nat)"
   ]
  },
  {
   "cell_type": "code",
   "execution_count": 28,
   "metadata": {},
   "outputs": [
    {
     "data": {
      "text/plain": [
       "\u001b[36mres27\u001b[39m: \u001b[32mTyp\u001b[39m[\u001b[32mTerm\u001b[39m] = \u001b[32mZero\u001b[39m"
      ]
     },
     "execution_count": 28,
     "metadata": {},
     "output_type": "execute_result"
    }
   ],
   "source": [
    "AreEqual(0: Nat)(1: Nat)"
   ]
  },
  {
   "cell_type": "code",
   "execution_count": 29,
   "metadata": {},
   "outputs": [
    {
     "data": {
      "text/plain": [
       "\u001b[36mres28\u001b[39m: \u001b[32mTyp\u001b[39m[\u001b[32mTerm\u001b[39m] = \u001b[32mrec_{ Nat.Typ ; 𝒰  }(Unit)((_ : Nat.Typ) ↦ (_ : 𝒰 ) ↦ Zero)(n)\u001b[39m"
      ]
     },
     "execution_count": 29,
     "metadata": {},
     "output_type": "execute_result"
    }
   ],
   "source": [
    "AreEqual(0)(n)"
   ]
  },
  {
   "cell_type": "code",
   "execution_count": 30,
   "metadata": {},
   "outputs": [
    {
     "data": {
      "text/plain": [
       "\u001b[36mres29\u001b[39m: \u001b[32mTyp\u001b[39m[\u001b[32mTerm\u001b[39m] = \u001b[32mZero\u001b[39m"
      ]
     },
     "execution_count": 30,
     "metadata": {},
     "output_type": "execute_result"
    }
   ],
   "source": [
    "AreEqual(n + 1)(0)"
   ]
  },
  {
   "cell_type": "code",
   "execution_count": 31,
   "metadata": {},
   "outputs": [
    {
     "data": {
      "text/plain": [
       "\u001b[36mres30\u001b[39m: \u001b[32mTyp\u001b[39m[\u001b[32mTerm\u001b[39m] = \u001b[32mrec_{ Nat.Typ ; (Nat.Typ → 𝒰 ) }(rec_{ Nat.Typ ; 𝒰  }(Unit)((_ : Nat.Typ) ↦ (_ : 𝒰 ) ↦ Zero))((_ : Nat.Typ) ↦ (Q : (Nat.Typ → 𝒰 )) ↦ rec_{ Nat.Typ ; 𝒰  }(Zero)((k : Nat.Typ) ↦ (_ : 𝒰 ) ↦ Q(k)))(n)(n)\u001b[39m"
      ]
     },
     "execution_count": 31,
     "metadata": {},
     "output_type": "execute_result"
    }
   ],
   "source": [
    "AreEqual(n + 1)(n + 1)"
   ]
  },
  {
   "cell_type": "code",
   "execution_count": 32,
   "metadata": {},
   "outputs": [
    {
     "data": {
      "text/plain": [
       "\u001b[36mres31\u001b[39m: \u001b[32mBoolean\u001b[39m = true"
      ]
     },
     "execution_count": 32,
     "metadata": {},
     "output_type": "execute_result"
    }
   ],
   "source": [
    "AreEqual(m + 1)(m + 1) == AreEqual(m)(m)"
   ]
  },
  {
   "cell_type": "code",
   "execution_count": 33,
   "metadata": {},
   "outputs": [
    {
     "data": {
      "text/plain": [
       "\u001b[36mdiagInd\u001b[39m: \u001b[32mFunc\u001b[39m[\u001b[32mTerm\u001b[39m, \u001b[32mFunc\u001b[39m[\u001b[32mFuncLike\u001b[39m[\u001b[32mNat\u001b[39m, \u001b[32mFunc\u001b[39m[\u001b[32mTerm\u001b[39m, \u001b[32mTerm\u001b[39m]], \u001b[32mFuncLike\u001b[39m[\u001b[32mNat\u001b[39m, \u001b[32mTerm\u001b[39m]]] = \u001b[32m($nnx : Unit) ↦ ($xqn : ∏($nny : Nat.Typ){ (rec_{ Nat.Typ ; (Nat.Typ → 𝒰 ) }(rec_{ Nat.Typ ; 𝒰  }(Unit)((_ : Nat.Typ) ↦ (_ : 𝒰 ) ↦ Zero))((_ : Nat.Typ) ↦ (Q : (Nat.Typ → 𝒰 )) ↦ rec_{ Nat.Typ ; 𝒰  }(Zero)((k : Nat.Typ) ↦ (_ : 𝒰 ) ↦ Q(k)))($nny)($nny) → rec_{ Nat.Typ ; (Nat.Typ → 𝒰 ) }(rec_{ Nat.Typ ; 𝒰  }(Unit)((_ : Nat.Typ) ↦ (_ : 𝒰 ) ↦ Zero))((_ : Nat.Typ) ↦ (Q : (Nat.Typ → 𝒰 )) ↦ rec_{ Nat.Typ ; 𝒰  }(Zero)((k : Nat.Typ) ↦ (_ : 𝒰 ) ↦ Q(k)))($nny)($nny)) }) ↦ induc_{ Nat.Typ ; (m : Nat.Typ) ↦ rec_{ Nat.Typ ; (Nat.Typ → 𝒰 ) }(rec_{ Nat.Typ ; 𝒰  }(Unit)((_ : Nat.Typ) ↦ (_ : 𝒰 ) ↦ Zero))((_ : Nat.Typ) ↦ (Q : (Nat.Typ → 𝒰 )) ↦ rec_{ Nat.Typ ; 𝒰  }(Zero)((k : Nat.Typ) ↦ (_ : 𝒰 ) ↦ Q(k)))(m)(m) }($nnx)($xqn)\u001b[39m"
      ]
     },
     "execution_count": 33,
     "metadata": {},
     "output_type": "execute_result"
    }
   ],
   "source": [
    "val diagInd = induc(m :-> AreEqual(m)(m))"
   ]
  },
  {
   "cell_type": "code",
   "execution_count": 34,
   "metadata": {},
   "outputs": [
    {
     "data": {
      "text/plain": [
       "\u001b[36mres33\u001b[39m: \u001b[32mTyp\u001b[39m[\u001b[32mFunc\u001b[39m[\u001b[32mTerm\u001b[39m, \u001b[32mFunc\u001b[39m[\u001b[32mFuncLike\u001b[39m[\u001b[32mNat\u001b[39m, \u001b[32mFunc\u001b[39m[\u001b[32mTerm\u001b[39m, \u001b[32mTerm\u001b[39m]], \u001b[32mFuncLike\u001b[39m[\u001b[32mNat\u001b[39m, \u001b[32mTerm\u001b[39m]]]] = \u001b[32m(Unit → (∏($nny : Nat.Typ){ (rec_{ Nat.Typ ; (Nat.Typ → 𝒰 ) }(rec_{ Nat.Typ ; 𝒰  }(Unit)((_ : Nat.Typ) ↦ (_ : 𝒰 ) ↦ Zero))((_ : Nat.Typ) ↦ (Q : (Nat.Typ → 𝒰 )) ↦ rec_{ Nat.Typ ; 𝒰  }(Zero)((k : Nat.Typ) ↦ (_ : 𝒰 ) ↦ Q(k)))($nny)($nny) → rec_{ Nat.Typ ; (Nat.Typ → 𝒰 ) }(rec_{ Nat.Typ ; 𝒰  }(Unit)((_ : Nat.Typ) ↦ (_ : 𝒰 ) ↦ Zero))((_ : Nat.Typ) ↦ (Q : (Nat.Typ → 𝒰 )) ↦ rec_{ Nat.Typ ; 𝒰  }(Zero)((k : Nat.Typ) ↦ (_ : 𝒰 ) ↦ Q(k)))($nny)($nny)) } → ∏(m : Nat.Typ){ rec_{ Nat.Typ ; (Nat.Typ → 𝒰 ) }(rec_{ Nat.Typ ; 𝒰  }(Unit)((_ : Nat.Typ) ↦ (_ : 𝒰 ) ↦ Zero))((_ : Nat.Typ) ↦ (Q : (Nat.Typ → 𝒰 )) ↦ rec_{ Nat.Typ ; 𝒰  }(Zero)((k : Nat.Typ) ↦ (_ : 𝒰 ) ↦ Q(k)))(m)(m) }))\u001b[39m"
      ]
     },
     "execution_count": 34,
     "metadata": {},
     "output_type": "execute_result"
    }
   ],
   "source": [
    "diagInd.typ"
   ]
  },
  {
   "cell_type": "code",
   "execution_count": 36,
   "metadata": {},
   "outputs": [
    {
     "data": {
      "text/plain": [
       "\u001b[36mres35\u001b[39m: \u001b[32mTyp\u001b[39m[\u001b[32mTerm\u001b[39m] = \u001b[32mZero\u001b[39m"
      ]
     },
     "execution_count": 36,
     "metadata": {},
     "output_type": "execute_result"
    }
   ],
   "source": [
    "AreEqual(2)(3)"
   ]
  },
  {
   "cell_type": "code",
   "execution_count": 37,
   "metadata": {},
   "outputs": [
    {
     "data": {
      "text/plain": [
       "\u001b[36mres36\u001b[39m: \u001b[32mTyp\u001b[39m[\u001b[32mFuncLike\u001b[39m[\u001b[32mNat\u001b[39m, \u001b[32mFunc\u001b[39m[\u001b[32mTerm\u001b[39m, \u001b[32mTerm\u001b[39m]]] = \u001b[32m∏($nny : Nat.Typ){ (rec_{ Nat.Typ ; (Nat.Typ → 𝒰 ) }(rec_{ Nat.Typ ; 𝒰  }(Unit)((_ : Nat.Typ) ↦ (_ : 𝒰 ) ↦ Zero))((_ : Nat.Typ) ↦ (Q : (Nat.Typ → 𝒰 )) ↦ rec_{ Nat.Typ ; 𝒰  }(Zero)((k : Nat.Typ) ↦ (_ : 𝒰 ) ↦ Q(k)))($nny)($nny) → rec_{ Nat.Typ ; (Nat.Typ → 𝒰 ) }(rec_{ Nat.Typ ; 𝒰  }(Unit)((_ : Nat.Typ) ↦ (_ : 𝒰 ) ↦ Zero))((_ : Nat.Typ) ↦ (Q : (Nat.Typ → 𝒰 )) ↦ rec_{ Nat.Typ ; 𝒰  }(Zero)((k : Nat.Typ) ↦ (_ : 𝒰 ) ↦ Q(k)))($nny)($nny)) }\u001b[39m"
      ]
     },
     "execution_count": 37,
     "metadata": {},
     "output_type": "execute_result"
    }
   ],
   "source": [
    "diagInd(Star).dom"
   ]
  },
  {
   "cell_type": "code",
   "execution_count": 38,
   "metadata": {},
   "outputs": [
    {
     "data": {
      "text/plain": [
       "\u001b[36mres37\u001b[39m: \u001b[32mBoolean\u001b[39m = true"
      ]
     },
     "execution_count": 38,
     "metadata": {},
     "output_type": "execute_result"
    }
   ],
   "source": [
    "diagInd(Star).dom == m ~>: (AreEqual(m)(m) ->: AreEqual(m)(m))"
   ]
  },
  {
   "cell_type": "code",
   "execution_count": 39,
   "metadata": {},
   "outputs": [
    {
     "data": {
      "text/plain": [
       "\u001b[36mp\u001b[39m: \u001b[32mTerm\u001b[39m = \u001b[32mp\u001b[39m"
      ]
     },
     "execution_count": 39,
     "metadata": {},
     "output_type": "execute_result"
    }
   ],
   "source": [
    "val p = AreEqual(m)(m).sym"
   ]
  },
  {
   "cell_type": "code",
   "execution_count": 41,
   "metadata": {},
   "outputs": [
    {
     "data": {
      "text/plain": [
       "\u001b[36mdiag\u001b[39m: \u001b[32mFuncLike\u001b[39m[\u001b[32mNat\u001b[39m, \u001b[32mTerm\u001b[39m] = \u001b[32minduc_{ Nat.Typ ; (m : Nat.Typ) ↦ rec_{ Nat.Typ ; (Nat.Typ → 𝒰 ) }(rec_{ Nat.Typ ; 𝒰  }(Unit)((_ : Nat.Typ) ↦ (_ : 𝒰 ) ↦ Zero))((_ : Nat.Typ) ↦ (Q : (Nat.Typ → 𝒰 )) ↦ rec_{ Nat.Typ ; 𝒰  }(Zero)((k : Nat.Typ) ↦ (_ : 𝒰 ) ↦ Q(k)))(m)(m) }(Star)((m : Nat.Typ) ↦ (p : rec_{ Nat.Typ ; (Nat.Typ → 𝒰 ) }(rec_{ Nat.Typ ; 𝒰  }(Unit)((_ : Nat.Typ) ↦ (_ : 𝒰 ) ↦ Zero))((_ : Nat.Typ) ↦ (Q : (Nat.Typ → 𝒰 )) ↦ rec_{ Nat.Typ ; 𝒰  }(Zero)((k : Nat.Typ) ↦ (_ : 𝒰 ) ↦ Q(k)))(m)(m)) ↦ p)\u001b[39m"
      ]
     },
     "execution_count": 41,
     "metadata": {},
     "output_type": "execute_result"
    }
   ],
   "source": [
    "val diag = diagInd(Star)(m :~> (p :-> p))"
   ]
  },
  {
   "cell_type": "code",
   "execution_count": 42,
   "metadata": {},
   "outputs": [
    {
     "data": {
      "text/plain": [
       "\u001b[36mres41\u001b[39m: \u001b[32mBoolean\u001b[39m = true"
      ]
     },
     "execution_count": 42,
     "metadata": {},
     "output_type": "execute_result"
    }
   ],
   "source": [
    "diag.typ == n ~>: (AreEqual(n)(n))"
   ]
  },
  {
   "cell_type": "code",
   "execution_count": 69,
   "metadata": {},
   "outputs": [
    {
     "data": {
      "text/plain": [
       "\u001b[36mtarget\u001b[39m: \u001b[32mFuncLike\u001b[39m[\u001b[32mRepTerm\u001b[39m[\u001b[32mspire\u001b[39m.\u001b[32mmath\u001b[39m.\u001b[32mSafeLong\u001b[39m], \u001b[32mFuncLike\u001b[39m[\u001b[32mRepTerm\u001b[39m[\u001b[32mspire\u001b[39m.\u001b[32mmath\u001b[39m.\u001b[32mSafeLong\u001b[39m], \u001b[32mFunc\u001b[39m[\u001b[32mEquality\u001b[39m[\u001b[32mRepTerm\u001b[39m[\u001b[32mspire\u001b[39m.\u001b[32mmath\u001b[39m.\u001b[32mSafeLong\u001b[39m]], \u001b[32mTyp\u001b[39m[\u001b[32mTerm\u001b[39m]]]] = \u001b[32m(n : Nat.Typ) ↦ (m : Nat.Typ) ↦ (_ : n = m) ↦ rec_{ Nat.Typ ; (Nat.Typ → 𝒰 ) }(rec_{ Nat.Typ ; 𝒰  }(Unit)((_ : Nat.Typ) ↦ (_ : 𝒰 ) ↦ Zero))((_ : Nat.Typ) ↦ (Q : (Nat.Typ → 𝒰 )) ↦ rec_{ Nat.Typ ; 𝒰  }(Zero)((k : Nat.Typ) ↦ (_ : 𝒰 ) ↦ Q(k)))(n)(m)\u001b[39m"
      ]
     },
     "execution_count": 69,
     "metadata": {},
     "output_type": "execute_result"
    }
   ],
   "source": [
    "val target = n :~> (m :~> ((\"_\" :: (n =:= m)) :-> AreEqual(n)(m)))"
   ]
  },
  {
   "cell_type": "code",
   "execution_count": 70,
   "metadata": {},
   "outputs": [
    {
     "data": {
      "text/plain": [
       "\u001b[36mindEq\u001b[39m: \u001b[32mFunc\u001b[39m[\u001b[32mFuncLike\u001b[39m[\u001b[32mRepTerm\u001b[39m[\u001b[32mspire\u001b[39m.\u001b[32mmath\u001b[39m.\u001b[32mSafeLong\u001b[39m], \u001b[32mTerm\u001b[39m], \u001b[32mFuncLike\u001b[39m[\u001b[32mRepTerm\u001b[39m[\u001b[32mspire\u001b[39m.\u001b[32mmath\u001b[39m.\u001b[32mSafeLong\u001b[39m], \u001b[32mFuncLike\u001b[39m[\u001b[32mRepTerm\u001b[39m[\u001b[32mspire\u001b[39m.\u001b[32mmath\u001b[39m.\u001b[32mSafeLong\u001b[39m], \u001b[32mFunc\u001b[39m[\u001b[32mEquality\u001b[39m[\u001b[32mRepTerm\u001b[39m[\u001b[32mspire\u001b[39m.\u001b[32mmath\u001b[39m.\u001b[32mSafeLong\u001b[39m]], \u001b[32mTerm\u001b[39m]]]] = \u001b[32m($yrlo : ∏($ypvu : Nat.Typ){ rec_{ Nat.Typ ; (Nat.Typ → 𝒰 ) }(rec_{ Nat.Typ ; 𝒰  }(Unit)((_ : Nat.Typ) ↦ (_ : 𝒰 ) ↦ Zero))((_ : Nat.Typ) ↦ (Q : (Nat.Typ → 𝒰 )) ↦ rec_{ Nat.Typ ; 𝒰  }(Zero)((k : Nat.Typ) ↦ (_ : 𝒰 ) ↦ Q(k)))($ypvu)($ypvu) }) ↦ ($yrlp : Nat.Typ) ↦ ($yrlq : Nat.Typ) ↦ ($yrlr : $yrlp = $yrlq) ↦ induc_{ ($zzyq : Nat.Typ) ↦ ($zzyr : Nat.Typ) ↦ $zzyq = $zzyr ; (n : Nat.Typ) ↦ (m : Nat.Typ) ↦ (_ : n = m) ↦ rec_{ Nat.Typ ; (Nat.Typ → 𝒰 ) }(rec_{ Nat.Typ ; 𝒰  }(Unit)((_ : Nat.Typ) ↦ (_ : 𝒰 ) ↦ Zero))((_ : Nat.Typ) ↦ (Q : (Nat.Typ → 𝒰 )) ↦ rec_{ Nat.Typ ; 𝒰  }(Zero)((k : Nat.Typ) ↦ (_ : 𝒰 ) ↦ Q(k)))(n)(m) }($yrlo)($yrlr)\u001b[39m"
      ]
     },
     "execution_count": 70,
     "metadata": {},
     "output_type": "execute_result"
    }
   ],
   "source": [
    "val indEq = IdentityTyp.induc(NatTyp, target)"
   ]
  },
  {
   "cell_type": "code",
   "execution_count": 71,
   "metadata": {},
   "outputs": [
    {
     "data": {
      "text/plain": [
       "\u001b[36mres70\u001b[39m: \u001b[32mTyp\u001b[39m[\u001b[32mFunc\u001b[39m[\u001b[32mFuncLike\u001b[39m[\u001b[32mRepTerm\u001b[39m[\u001b[32mspire\u001b[39m.\u001b[32mmath\u001b[39m.\u001b[32mSafeLong\u001b[39m], \u001b[32mTerm\u001b[39m], \u001b[32mFuncLike\u001b[39m[\u001b[32mRepTerm\u001b[39m[\u001b[32mspire\u001b[39m.\u001b[32mmath\u001b[39m.\u001b[32mSafeLong\u001b[39m], \u001b[32mFuncLike\u001b[39m[\u001b[32mRepTerm\u001b[39m[\u001b[32mspire\u001b[39m.\u001b[32mmath\u001b[39m.\u001b[32mSafeLong\u001b[39m], \u001b[32mFunc\u001b[39m[\u001b[32mEquality\u001b[39m[\u001b[32mRepTerm\u001b[39m[\u001b[32mspire\u001b[39m.\u001b[32mmath\u001b[39m.\u001b[32mSafeLong\u001b[39m]], \u001b[32mTerm\u001b[39m]]]]] = \u001b[32m(∏($ypvu : Nat.Typ){ rec_{ Nat.Typ ; (Nat.Typ → 𝒰 ) }(rec_{ Nat.Typ ; 𝒰  }(Unit)((_ : Nat.Typ) ↦ (_ : 𝒰 ) ↦ Zero))((_ : Nat.Typ) ↦ (Q : (Nat.Typ → 𝒰 )) ↦ rec_{ Nat.Typ ; 𝒰  }(Zero)((k : Nat.Typ) ↦ (_ : 𝒰 ) ↦ Q(k)))($ypvu)($ypvu) } → ∏($yrlp : Nat.Typ){ ∏($yrlq : Nat.Typ){ ($yrlp = $yrlq → rec_{ Nat.Typ ; (Nat.Typ → 𝒰 ) }(rec_{ Nat.Typ ; 𝒰  }(Unit)((_ : Nat.Typ) ↦ (_ : 𝒰 ) ↦ Zero))((_ : Nat.Typ) ↦ (Q : (Nat.Typ → 𝒰 )) ↦ rec_{ Nat.Typ ; 𝒰  }(Zero)((k : Nat.Typ) ↦ (_ : 𝒰 ) ↦ Q(k)))($yrlp)($yrlq)) } })\u001b[39m"
      ]
     },
     "execution_count": 71,
     "metadata": {},
     "output_type": "execute_result"
    }
   ],
   "source": [
    "indEq.typ"
   ]
  },
  {
   "cell_type": "code",
   "execution_count": 72,
   "metadata": {},
   "outputs": [
    {
     "data": {
      "text/plain": [
       "\u001b[36mres71\u001b[39m: \u001b[32mBoolean\u001b[39m = true"
      ]
     },
     "execution_count": 72,
     "metadata": {},
     "output_type": "execute_result"
    }
   ],
   "source": [
    "indEq.dom == m ~>: AreEqual(m)(m)"
   ]
  },
  {
   "cell_type": "code",
   "execution_count": 73,
   "metadata": {},
   "outputs": [
    {
     "data": {
      "text/plain": [
       "\u001b[36mres72\u001b[39m: \u001b[32mBoolean\u001b[39m = true"
      ]
     },
     "execution_count": 73,
     "metadata": {},
     "output_type": "execute_result"
    }
   ],
   "source": [
    "indEq.dom == diag.typ"
   ]
  },
  {
   "cell_type": "code",
   "execution_count": 74,
   "metadata": {},
   "outputs": [
    {
     "data": {
      "text/plain": [
       "\u001b[36mres73\u001b[39m: \u001b[32mTyp\u001b[39m[\u001b[32mFuncLike\u001b[39m[\u001b[32mRepTerm\u001b[39m[\u001b[32mspire\u001b[39m.\u001b[32mmath\u001b[39m.\u001b[32mSafeLong\u001b[39m], \u001b[32mFuncLike\u001b[39m[\u001b[32mRepTerm\u001b[39m[\u001b[32mspire\u001b[39m.\u001b[32mmath\u001b[39m.\u001b[32mSafeLong\u001b[39m], \u001b[32mFunc\u001b[39m[\u001b[32mEquality\u001b[39m[\u001b[32mRepTerm\u001b[39m[\u001b[32mspire\u001b[39m.\u001b[32mmath\u001b[39m.\u001b[32mSafeLong\u001b[39m]], \u001b[32mTerm\u001b[39m]]]] = \u001b[32m∏($yrlp : Nat.Typ){ ∏($yrlq : Nat.Typ){ ($yrlp = $yrlq → rec_{ Nat.Typ ; (Nat.Typ → 𝒰 ) }(rec_{ Nat.Typ ; 𝒰  }(Unit)((_ : Nat.Typ) ↦ (_ : 𝒰 ) ↦ Zero))((_ : Nat.Typ) ↦ (Q : (Nat.Typ → 𝒰 )) ↦ rec_{ Nat.Typ ; 𝒰  }(Zero)((k : Nat.Typ) ↦ (_ : 𝒰 ) ↦ Q(k)))($yrlp)($yrlq)) } }\u001b[39m"
      ]
     },
     "execution_count": 74,
     "metadata": {},
     "output_type": "execute_result"
    }
   ],
   "source": [
    "indEq(diag).typ"
   ]
  },
  {
   "cell_type": "code",
   "execution_count": 75,
   "metadata": {},
   "outputs": [
    {
     "data": {
      "text/plain": [
       "\u001b[36mres74\u001b[39m: \u001b[32mFunc\u001b[39m[\u001b[32mEquality\u001b[39m[\u001b[32mRepTerm\u001b[39m[\u001b[32mspire\u001b[39m.\u001b[32mmath\u001b[39m.\u001b[32mSafeLong\u001b[39m]], \u001b[32mTerm\u001b[39m] = \u001b[32m($yrlr : m = n) ↦ induc_{ ($afaku : Nat.Typ) ↦ ($afakv : Nat.Typ) ↦ $afaku = $afakv ; (n : Nat.Typ) ↦ (m : Nat.Typ) ↦ (_ : n = m) ↦ rec_{ Nat.Typ ; (Nat.Typ → 𝒰 ) }(rec_{ Nat.Typ ; 𝒰  }(Unit)((_ : Nat.Typ) ↦ (_ : 𝒰 ) ↦ Zero))((_ : Nat.Typ) ↦ (Q : (Nat.Typ → 𝒰 )) ↦ rec_{ Nat.Typ ; 𝒰  }(Zero)((k : Nat.Typ) ↦ (_ : 𝒰 ) ↦ Q(k)))(n)(m) }(induc_{ Nat.Typ ; (m : Nat.Typ) ↦ rec_{ Nat.Typ ; (Nat.Typ → 𝒰 ) }(rec_{ Nat.Typ ; 𝒰  }(Unit)((_ : Nat.Typ) ↦ (_ : 𝒰 ) ↦ Zero))((_ : Nat.Typ) ↦ (Q : (Nat.Typ → 𝒰 )) ↦ rec_{ Nat.Typ ; 𝒰  }(Zero)((k : Nat.Typ) ↦ (_ : 𝒰 ) ↦ Q(k)))(m)(m) }(Star)((m : Nat.Typ) ↦ (p : rec_{ Nat.Typ ; (Nat.Typ → 𝒰 ) }(rec_{ Nat.Typ ; 𝒰  }(Unit)((_ : Nat.Typ) ↦ (_ : 𝒰 ) ↦ Zero))((_ : Nat.Typ) ↦ (Q : (Nat.Typ → 𝒰 )) ↦ rec_{ Nat.Typ ; 𝒰  }(Zero)((k : Nat.Typ) ↦ (_ : 𝒰 ) ↦ Q(k)))(m)(m)) ↦ p))($yrlr)\u001b[39m"
      ]
     },
     "execution_count": 75,
     "metadata": {},
     "output_type": "execute_result"
    }
   ],
   "source": [
    "indEq(diag)(m)(n)"
   ]
  },
  {
   "cell_type": "code",
   "execution_count": 76,
   "metadata": {},
   "outputs": [
    {
     "data": {
      "text/plain": [
       "\u001b[36mres75\u001b[39m: \u001b[32mBoolean\u001b[39m = true"
      ]
     },
     "execution_count": 76,
     "metadata": {},
     "output_type": "execute_result"
    }
   ],
   "source": [
    "indEq(diag)(m)(n).typ == (m =:= n) ->: AreEqual(m)(n)"
   ]
  },
  {
   "cell_type": "code",
   "execution_count": 77,
   "metadata": {},
   "outputs": [
    {
     "data": {
      "text/plain": [
       "\u001b[36mres76\u001b[39m: \u001b[32mBoolean\u001b[39m = true"
      ]
     },
     "execution_count": 77,
     "metadata": {},
     "output_type": "execute_result"
    }
   ],
   "source": [
    "indEq(diag).typ == m ~>: (n ~>: ((m =:= n) ->: AreEqual(m)(n)))"
   ]
  },
  {
   "cell_type": "code",
   "execution_count": 79,
   "metadata": {},
   "outputs": [
    {
     "data": {
      "text/plain": [
       "\u001b[36mres78\u001b[39m: \u001b[32mTyp\u001b[39m[\u001b[32mFunc\u001b[39m[\u001b[32mEquality\u001b[39m[\u001b[32mRepTerm\u001b[39m[\u001b[32mspire\u001b[39m.\u001b[32mmath\u001b[39m.\u001b[32mSafeLong\u001b[39m]], \u001b[32mTerm\u001b[39m]] = \u001b[32m(0 = 1 → Zero)\u001b[39m"
      ]
     },
     "execution_count": 79,
     "metadata": {},
     "output_type": "execute_result"
    }
   ],
   "source": [
    "indEq(diag)(0: Nat)(1: Nat).typ"
   ]
  },
  {
   "cell_type": "code",
   "execution_count": null,
   "metadata": {},
   "outputs": [],
   "source": []
  }
 ],
 "metadata": {
  "kernelspec": {
   "display_name": "Scala",
   "language": "scala",
   "name": "scala"
  },
  "language_info": {
   "codemirror_mode": "text/x-scala",
   "file_extension": ".scala",
   "mimetype": "text/x-scala",
   "name": "scala",
   "nbconvert_exporter": "script",
   "version": "2.12.8"
  }
 },
 "nbformat": 4,
 "nbformat_minor": 2
}
