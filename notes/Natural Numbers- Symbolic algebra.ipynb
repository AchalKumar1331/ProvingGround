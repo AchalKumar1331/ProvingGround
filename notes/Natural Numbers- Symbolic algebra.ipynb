{
 "cells": [
  {
   "cell_type": "code",
   "execution_count": 1,
   "metadata": {
    "collapsed": false
   },
   "outputs": [
    {
     "data": {
      "text/plain": []
     },
     "metadata": {},
     "output_type": "display_data"
    }
   ],
   "source": [
    "load.jar(\"/home/gadgil/code/ProvingGround/core/.jvm/target/scala-2.11/ProvingGround-Core-assembly-0.8.jar\")"
   ]
  },
  {
   "cell_type": "code",
   "execution_count": 2,
   "metadata": {
    "collapsed": false
   },
   "outputs": [
    {
     "data": {
      "text/plain": [
       "\u001b[32mimport \u001b[36mprovingground._\u001b[0m\n",
       "\u001b[32mimport \u001b[36mNatRing._\u001b[0m"
      ]
     },
     "metadata": {},
     "output_type": "display_data"
    }
   ],
   "source": [
    "import provingground._\n",
    "import NatRing._"
   ]
  },
  {
   "cell_type": "code",
   "execution_count": 3,
   "metadata": {
    "collapsed": false
   },
   "outputs": [
    {
     "data": {
      "text/plain": [
       "\u001b[36mn\u001b[0m: \u001b[32mRepTerm\u001b[0m[\u001b[32mspire\u001b[0m.\u001b[32mmath\u001b[0m.\u001b[32mSafeLong\u001b[0m] with \u001b[32mHoTT\u001b[0m.\u001b[32mSubs\u001b[0m[\u001b[32mRepTerm\u001b[0m[\u001b[32mspire\u001b[0m.\u001b[32mmath\u001b[0m.\u001b[32mSafeLong\u001b[0m]] = n : (Nat.Typ)\n",
       "\u001b[36mm\u001b[0m: \u001b[32mRepTerm\u001b[0m[\u001b[32mspire\u001b[0m.\u001b[32mmath\u001b[0m.\u001b[32mSafeLong\u001b[0m] with \u001b[32mHoTT\u001b[0m.\u001b[32mSubs\u001b[0m[\u001b[32mRepTerm\u001b[0m[\u001b[32mspire\u001b[0m.\u001b[32mmath\u001b[0m.\u001b[32mSafeLong\u001b[0m]] = m : (Nat.Typ)\n",
       "\u001b[36mk\u001b[0m: \u001b[32mRepTerm\u001b[0m[\u001b[32mspire\u001b[0m.\u001b[32mmath\u001b[0m.\u001b[32mSafeLong\u001b[0m] with \u001b[32mHoTT\u001b[0m.\u001b[32mSubs\u001b[0m[\u001b[32mRepTerm\u001b[0m[\u001b[32mspire\u001b[0m.\u001b[32mmath\u001b[0m.\u001b[32mSafeLong\u001b[0m]] = k : (Nat.Typ)"
      ]
     },
     "metadata": {},
     "output_type": "display_data"
    }
   ],
   "source": [
    "val n = \"n\" :: NatTyp\n",
    "val m = \"m\" :: NatTyp\n",
    "val k = \"k\" :: NatTyp"
   ]
  },
  {
   "cell_type": "code",
   "execution_count": 4,
   "metadata": {
    "collapsed": false
   },
   "outputs": [
    {
     "data": {
      "text/plain": [
       "\u001b[32mimport \u001b[36mspire.math._\u001b[0m\n",
       "\u001b[32mimport \u001b[36mspire.algebra._\u001b[0m\n",
       "\u001b[32mimport \u001b[36mspire.implicits._\u001b[0m"
      ]
     },
     "metadata": {},
     "output_type": "display_data"
    }
   ],
   "source": [
    "import spire.math._\n",
    "import spire.algebra._\n",
    "import spire.implicits._"
   ]
  },
  {
   "cell_type": "code",
   "execution_count": 5,
   "metadata": {
    "collapsed": false
   },
   "outputs": [
    {
     "data": {
      "text/plain": [
       "\u001b[36mres4\u001b[0m: \u001b[32mLocalTerm\u001b[0m = SigmaTerm(Set(n : (Nat.Typ), m : (Nat.Typ)))"
      ]
     },
     "metadata": {},
     "output_type": "display_data"
    }
   ],
   "source": [
    "n + m"
   ]
  },
  {
   "cell_type": "code",
   "execution_count": 6,
   "metadata": {
    "collapsed": false
   },
   "outputs": [
    {
     "data": {
      "text/plain": [
       "\u001b[36mres5_0\u001b[0m: \u001b[32mBoolean\u001b[0m = true\n",
       "\u001b[36mres5_1\u001b[0m: \u001b[32mBoolean\u001b[0m = true"
      ]
     },
     "metadata": {},
     "output_type": "display_data"
    }
   ],
   "source": [
    "n + m == m + n\n",
    "(n + m) + k == n + (m + k)"
   ]
  },
  {
   "cell_type": "code",
   "execution_count": 7,
   "metadata": {
    "collapsed": false
   },
   "outputs": [
    {
     "data": {
      "text/plain": [
       "\u001b[36mres6\u001b[0m: \u001b[32mBoolean\u001b[0m = true"
      ]
     },
     "metadata": {},
     "output_type": "display_data"
    }
   ],
   "source": [
    "n * m == m * n"
   ]
  },
  {
   "cell_type": "code",
   "execution_count": 8,
   "metadata": {
    "collapsed": false
   },
   "outputs": [
    {
     "data": {
      "text/plain": [
       "\u001b[36mres7\u001b[0m: \u001b[32mLocalTerm\u001b[0m = PiTerm(Map(m : (Nat.Typ) -> 1, k : (Nat.Typ) -> 1, n : (Nat.Typ) -> 1))"
      ]
     },
     "metadata": {},
     "output_type": "display_data"
    }
   ],
   "source": [
    "n * (m * k)"
   ]
  },
  {
   "cell_type": "code",
   "execution_count": 9,
   "metadata": {
    "collapsed": false
   },
   "outputs": [
    {
     "data": {
      "text/plain": [
       "\u001b[36mres8\u001b[0m: \u001b[32mLocalTerm\u001b[0m = PiTerm(Map(n : (Nat.Typ) -> 1, m : (Nat.Typ) -> 1, k : (Nat.Typ) -> 1))"
      ]
     },
     "metadata": {},
     "output_type": "display_data"
    }
   ],
   "source": [
    "(n * m) * k"
   ]
  },
  {
   "cell_type": "code",
   "execution_count": 10,
   "metadata": {
    "collapsed": false
   },
   "outputs": [
    {
     "data": {
      "text/plain": [
       "\u001b[36mres9\u001b[0m: \u001b[32mBoolean\u001b[0m = true"
      ]
     },
     "metadata": {},
     "output_type": "display_data"
    }
   ],
   "source": [
    "res7 == res8"
   ]
  },
  {
   "cell_type": "code",
   "execution_count": 11,
   "metadata": {
    "collapsed": false
   },
   "outputs": [
    {
     "data": {
      "text/plain": [
       "\u001b[36mres10\u001b[0m: \u001b[32mLocalTerm\u001b[0m = SigmaTerm(Set(PiTerm(Map(n : (Nat.Typ) -> 1, m : (Nat.Typ) -> 1)), PiTerm(Map(n : (Nat.Typ) -> 1, k : (Nat.Typ) -> 1))))"
      ]
     },
     "metadata": {},
     "output_type": "display_data"
    }
   ],
   "source": [
    "n * (m + k)"
   ]
  },
  {
   "cell_type": "code",
   "execution_count": 12,
   "metadata": {
    "collapsed": false
   },
   "outputs": [
    {
     "data": {
      "text/plain": [
       "\u001b[36mres11\u001b[0m: \u001b[32mBoolean\u001b[0m = true"
      ]
     },
     "metadata": {},
     "output_type": "display_data"
    }
   ],
   "source": [
    "n *(m + k) == (n * m) + (n * k)"
   ]
  },
  {
   "cell_type": "code",
   "execution_count": 13,
   "metadata": {
    "collapsed": false
   },
   "outputs": [
    {
     "data": {
      "text/plain": [
       "\u001b[36mres12\u001b[0m: \u001b[32mLocalTerm\u001b[0m = ((sum) (ScalaSymbol(1) : (Nat.Typ)) : ((Nat.Typ) → (Nat.Typ))) (n : (Nat.Typ)) : (Nat.Typ)"
      ]
     },
     "metadata": {},
     "output_type": "display_data"
    }
   ],
   "source": [
    "n + 1"
   ]
  },
  {
   "cell_type": "code",
   "execution_count": 14,
   "metadata": {
    "collapsed": false
   },
   "outputs": [
    {
     "data": {
      "text/plain": [
       "\u001b[36mres13\u001b[0m: \u001b[32mRepTerm\u001b[0m[\u001b[32mSafeLong\u001b[0m] with \u001b[32mHoTT\u001b[0m.\u001b[32mSubs\u001b[0m[\u001b[32mRepTerm\u001b[0m[\u001b[32mSafeLong\u001b[0m]] = ((sum) (ScalaSymbol(1) : (Nat.Typ)) : ((Nat.Typ) → (Nat.Typ))) (n : (Nat.Typ)) : (Nat.Typ)"
      ]
     },
     "metadata": {},
     "output_type": "display_data"
    }
   ],
   "source": [
    "1 + n"
   ]
  },
  {
   "cell_type": "code",
   "execution_count": 15,
   "metadata": {
    "collapsed": false
   },
   "outputs": [
    {
     "data": {
      "text/plain": [
       "\u001b[36mres14\u001b[0m: \u001b[32mLocalTerm\u001b[0m = ((sum) (ScalaSymbol(3) : (Nat.Typ)) : ((Nat.Typ) → (Nat.Typ))) (n : (Nat.Typ)) : (Nat.Typ)"
      ]
     },
     "metadata": {},
     "output_type": "display_data"
    }
   ],
   "source": [
    "(1 + n) + 2"
   ]
  },
  {
   "cell_type": "code",
   "execution_count": 27,
   "metadata": {
    "collapsed": false
   },
   "outputs": [
    {
     "data": {
      "text/plain": [
       "\u001b[36mres26\u001b[0m: \u001b[32mLocalTerm\u001b[0m = PiTerm(Map(n : (Nat.Typ) -> 2))"
      ]
     },
     "metadata": {},
     "output_type": "display_data"
    }
   ],
   "source": [
    "n * n"
   ]
  },
  {
   "cell_type": "code",
   "execution_count": 28,
   "metadata": {
    "collapsed": false
   },
   "outputs": [
    {
     "data": {
      "text/plain": [
       "\u001b[32mimport \u001b[36mHoTT._\u001b[0m\n",
       "\u001b[36mfn\u001b[0m: \u001b[32mHoTT\u001b[0m.\u001b[32mFunc\u001b[0m[\u001b[32mRepTerm\u001b[0m[\u001b[32mSafeLong\u001b[0m] with \u001b[32mHoTT\u001b[0m.\u001b[32mSubs\u001b[0m[\u001b[32mRepTerm\u001b[0m[\u001b[32mSafeLong\u001b[0m]], \u001b[32mLocalTerm\u001b[0m] = (n : (Nat.Typ)) ↦ (PiTerm(Map(n : (Nat.Typ) -> 2)))"
      ]
     },
     "metadata": {},
     "output_type": "display_data"
    }
   ],
   "source": [
    "import HoTT._\n",
    "val fn = lmbda(n)(n * n)"
   ]
  },
  {
   "cell_type": "code",
   "execution_count": 29,
   "metadata": {
    "collapsed": false
   },
   "outputs": [
    {
     "data": {
      "text/plain": [
       "\u001b[36mres28\u001b[0m: \u001b[32mLocalTerm\u001b[0m = ScalaSymbol(9) : (Nat.Typ)"
      ]
     },
     "metadata": {},
     "output_type": "display_data"
    }
   ],
   "source": [
    "fn(3)"
   ]
  },
  {
   "cell_type": "code",
   "execution_count": 30,
   "metadata": {
    "collapsed": false
   },
   "outputs": [
    {
     "data": {
      "text/plain": [
       "\u001b[36mres29\u001b[0m: \u001b[32mLocalTerm\u001b[0m = PiTerm(Map(k : (Nat.Typ) -> 2))"
      ]
     },
     "metadata": {},
     "output_type": "display_data"
    }
   ],
   "source": [
    "fn(k)"
   ]
  },
  {
   "cell_type": "code",
   "execution_count": 24,
   "metadata": {
    "collapsed": false
   },
   "outputs": [
    {
     "data": {
      "text/plain": [
       "\u001b[36mres23\u001b[0m: \u001b[32mLocalTerm\u001b[0m = ScalaSymbol(9) : (Nat.Typ)"
      ]
     },
     "metadata": {},
     "output_type": "display_data"
    }
   ],
   "source": [
    "power(3, 2)"
   ]
  },
  {
   "cell_type": "code",
   "execution_count": 25,
   "metadata": {
    "collapsed": false
   },
   "outputs": [
    {
     "data": {
      "text/plain": [
       "\u001b[36mres24\u001b[0m: \u001b[32mLocalTerm\u001b[0m = ScalaSymbol(27) : (Nat.Typ)"
      ]
     },
     "metadata": {},
     "output_type": "display_data"
    }
   ],
   "source": [
    "power(3, 3)"
   ]
  },
  {
   "cell_type": "code",
   "execution_count": 26,
   "metadata": {
    "collapsed": false
   },
   "outputs": [
    {
     "data": {
      "text/plain": [
       "\u001b[36mres25\u001b[0m: \u001b[32mLocalTerm\u001b[0m = ScalaSymbol(3) : (Nat.Typ)"
      ]
     },
     "metadata": {},
     "output_type": "display_data"
    }
   ],
   "source": [
    "prod(1)(3)"
   ]
  },
  {
   "cell_type": "code",
   "execution_count": null,
   "metadata": {
    "collapsed": true
   },
   "outputs": [],
   "source": []
  }
 ],
 "metadata": {
  "kernelspec": {
   "display_name": "Scala 2.11",
   "language": "scala211",
   "name": "scala211"
  },
  "language_info": {
   "codemirror_mode": "text/x-scala",
   "file_extension": ".scala",
   "mimetype": "text/x-scala",
   "name": "scala211",
   "pygments_lexer": "scala",
   "version": "2.11.6"
  }
 },
 "nbformat": 4,
 "nbformat_minor": 0
}
