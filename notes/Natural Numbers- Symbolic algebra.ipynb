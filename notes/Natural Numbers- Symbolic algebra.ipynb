{
 "cells": [
  {
   "cell_type": "code",
   "execution_count": 1,
   "metadata": {
    "collapsed": false
   },
   "outputs": [
    {
     "data": {
      "text/plain": []
     },
     "metadata": {},
     "output_type": "display_data"
    }
   ],
   "source": [
    "load.jar(\"/home/gadgil/code/ProvingGround/core/.jvm/target/scala-2.11/ProvingGround-Core-assembly-0.8.jar\")"
   ]
  },
  {
   "cell_type": "code",
   "execution_count": 2,
   "metadata": {
    "collapsed": false
   },
   "outputs": [
    {
     "data": {
      "text/plain": [
       "\u001b[32mimport \u001b[36mprovingground._\u001b[0m\n",
       "\u001b[32mimport \u001b[36mNatRing._\u001b[0m"
      ]
     },
     "metadata": {},
     "output_type": "display_data"
    }
   ],
   "source": [
    "import provingground._\n",
    "import NatRing._"
   ]
  },
  {
   "cell_type": "code",
   "execution_count": 3,
   "metadata": {
    "collapsed": false
   },
   "outputs": [
    {
     "data": {
      "text/plain": [
       "\u001b[36mn\u001b[0m: \u001b[32mRepTerm\u001b[0m[\u001b[32mspire\u001b[0m.\u001b[32mmath\u001b[0m.\u001b[32mSafeLong\u001b[0m] with \u001b[32mHoTT\u001b[0m.\u001b[32mSubs\u001b[0m[\u001b[32mRepTerm\u001b[0m[\u001b[32mspire\u001b[0m.\u001b[32mmath\u001b[0m.\u001b[32mSafeLong\u001b[0m]] = n : (Nat.Typ)\n",
       "\u001b[36mm\u001b[0m: \u001b[32mRepTerm\u001b[0m[\u001b[32mspire\u001b[0m.\u001b[32mmath\u001b[0m.\u001b[32mSafeLong\u001b[0m] with \u001b[32mHoTT\u001b[0m.\u001b[32mSubs\u001b[0m[\u001b[32mRepTerm\u001b[0m[\u001b[32mspire\u001b[0m.\u001b[32mmath\u001b[0m.\u001b[32mSafeLong\u001b[0m]] = m : (Nat.Typ)\n",
       "\u001b[36mk\u001b[0m: \u001b[32mRepTerm\u001b[0m[\u001b[32mspire\u001b[0m.\u001b[32mmath\u001b[0m.\u001b[32mSafeLong\u001b[0m] with \u001b[32mHoTT\u001b[0m.\u001b[32mSubs\u001b[0m[\u001b[32mRepTerm\u001b[0m[\u001b[32mspire\u001b[0m.\u001b[32mmath\u001b[0m.\u001b[32mSafeLong\u001b[0m]] = k : (Nat.Typ)"
      ]
     },
     "metadata": {},
     "output_type": "display_data"
    }
   ],
   "source": [
    "val n = \"n\" :: NatTyp\n",
    "val m = \"m\" :: NatTyp\n",
    "val k = \"k\" :: NatTyp"
   ]
  },
  {
   "cell_type": "code",
   "execution_count": 4,
   "metadata": {
    "collapsed": false
   },
   "outputs": [
    {
     "data": {
      "text/plain": [
       "\u001b[32mimport \u001b[36mspire.math._\u001b[0m\n",
       "\u001b[32mimport \u001b[36mspire.algebra._\u001b[0m\n",
       "\u001b[32mimport \u001b[36mspire.implicits._\u001b[0m"
      ]
     },
     "metadata": {},
     "output_type": "display_data"
    }
   ],
   "source": [
    "import spire.math._\n",
    "import spire.algebra._\n",
    "import spire.implicits._"
   ]
  },
  {
   "cell_type": "code",
   "execution_count": 5,
   "metadata": {
    "collapsed": false
   },
   "outputs": [
    {
     "data": {
      "text/plain": [
       "\u001b[36mres4\u001b[0m: \u001b[32mLocalTerm\u001b[0m = SigmaTerm(Set(n : (Nat.Typ), m : (Nat.Typ)))"
      ]
     },
     "metadata": {},
     "output_type": "display_data"
    }
   ],
   "source": [
    "n + m"
   ]
  },
  {
   "cell_type": "code",
   "execution_count": 6,
   "metadata": {
    "collapsed": false
   },
   "outputs": [
    {
     "data": {
      "text/plain": [
       "\u001b[36mres5_0\u001b[0m: \u001b[32mBoolean\u001b[0m = true\n",
       "\u001b[36mres5_1\u001b[0m: \u001b[32mBoolean\u001b[0m = true"
      ]
     },
     "metadata": {},
     "output_type": "display_data"
    }
   ],
   "source": [
    "n + m == m + n\n",
    "(n + m) + k == n + (m + k)"
   ]
  },
  {
   "cell_type": "code",
   "execution_count": 7,
   "metadata": {
    "collapsed": false
   },
   "outputs": [
    {
     "data": {
      "text/plain": [
       "\u001b[36mres6\u001b[0m: \u001b[32mBoolean\u001b[0m = true"
      ]
     },
     "metadata": {},
     "output_type": "display_data"
    }
   ],
   "source": [
    "n * m == m * n"
   ]
  },
  {
   "cell_type": "code",
   "execution_count": 8,
   "metadata": {
    "collapsed": false
   },
   "outputs": [
    {
     "data": {
      "text/plain": [
       "\u001b[36mres7\u001b[0m: \u001b[32mLocalTerm\u001b[0m = PiTerm(Map(m : (Nat.Typ) -> 1, k : (Nat.Typ) -> 1, n : (Nat.Typ) -> 1))"
      ]
     },
     "metadata": {},
     "output_type": "display_data"
    }
   ],
   "source": [
    "n * (m * k)"
   ]
  },
  {
   "cell_type": "code",
   "execution_count": 9,
   "metadata": {
    "collapsed": false
   },
   "outputs": [
    {
     "data": {
      "text/plain": [
       "\u001b[36mres8\u001b[0m: \u001b[32mLocalTerm\u001b[0m = PiTerm(Map(n : (Nat.Typ) -> 1, m : (Nat.Typ) -> 1, k : (Nat.Typ) -> 1))"
      ]
     },
     "metadata": {},
     "output_type": "display_data"
    }
   ],
   "source": [
    "(n * m) * k"
   ]
  },
  {
   "cell_type": "code",
   "execution_count": 10,
   "metadata": {
    "collapsed": false
   },
   "outputs": [
    {
     "data": {
      "text/plain": [
       "\u001b[36mres9\u001b[0m: \u001b[32mLocalTerm\u001b[0m = SigmaTerm(Set(PiTerm(Map(n : (Nat.Typ) -> 1, m : (Nat.Typ) -> 1)), PiTerm(Map(n : (Nat.Typ) -> 1, k : (Nat.Typ) -> 1))))"
      ]
     },
     "metadata": {},
     "output_type": "display_data"
    }
   ],
   "source": [
    "n * (m + k)"
   ]
  },
  {
   "cell_type": "code",
   "execution_count": 11,
   "metadata": {
    "collapsed": false
   },
   "outputs": [
    {
     "data": {
      "text/plain": [
       "\u001b[36mres10\u001b[0m: \u001b[32mBoolean\u001b[0m = true"
      ]
     },
     "metadata": {},
     "output_type": "display_data"
    }
   ],
   "source": [
    "n *(m + k) == (n * m) + (n * k)"
   ]
  },
  {
   "cell_type": "code",
   "execution_count": 12,
   "metadata": {
    "collapsed": false
   },
   "outputs": [
    {
     "data": {
      "text/plain": [
       "\u001b[36mres11\u001b[0m: \u001b[32mLocalTerm\u001b[0m = ((sum) (ScalaSymbol(1) : (Nat.Typ)) : ((Nat.Typ) → (Nat.Typ))) (n : (Nat.Typ)) : (Nat.Typ)"
      ]
     },
     "metadata": {},
     "output_type": "display_data"
    }
   ],
   "source": [
    "n + 1"
   ]
  },
  {
   "cell_type": "code",
   "execution_count": 13,
   "metadata": {
    "collapsed": false
   },
   "outputs": [
    {
     "data": {
      "text/plain": [
       "\u001b[36mres12\u001b[0m: \u001b[32mRepTerm\u001b[0m[\u001b[32mSafeLong\u001b[0m] with \u001b[32mHoTT\u001b[0m.\u001b[32mSubs\u001b[0m[\u001b[32mRepTerm\u001b[0m[\u001b[32mSafeLong\u001b[0m]] = ((sum) (ScalaSymbol(1) : (Nat.Typ)) : ((Nat.Typ) → (Nat.Typ))) (n : (Nat.Typ)) : (Nat.Typ)"
      ]
     },
     "metadata": {},
     "output_type": "display_data"
    }
   ],
   "source": [
    "1 + n"
   ]
  },
  {
   "cell_type": "code",
   "execution_count": 14,
   "metadata": {
    "collapsed": false
   },
   "outputs": [
    {
     "data": {
      "text/plain": [
       "\u001b[36mres13\u001b[0m: \u001b[32mLocalTerm\u001b[0m = ((sum) (ScalaSymbol(3) : (Nat.Typ)) : ((Nat.Typ) → (Nat.Typ))) (n : (Nat.Typ)) : (Nat.Typ)"
      ]
     },
     "metadata": {},
     "output_type": "display_data"
    }
   ],
   "source": [
    "(1 + n) + 2"
   ]
  },
  {
   "cell_type": "code",
   "execution_count": 15,
   "metadata": {
    "collapsed": false
   },
   "outputs": [
    {
     "data": {
      "text/plain": [
       "\u001b[36mres14\u001b[0m: \u001b[32mLocalTerm\u001b[0m = PiTerm(Map(n : (Nat.Typ) -> 2))"
      ]
     },
     "metadata": {},
     "output_type": "display_data"
    }
   ],
   "source": [
    "n * n"
   ]
  },
  {
   "cell_type": "code",
   "execution_count": 16,
   "metadata": {
    "collapsed": false
   },
   "outputs": [
    {
     "data": {
      "text/plain": [
       "\u001b[32mimport \u001b[36mHoTT._\u001b[0m\n",
       "\u001b[36mfn\u001b[0m: \u001b[32mHoTT\u001b[0m.\u001b[32mFunc\u001b[0m[\u001b[32mRepTerm\u001b[0m[\u001b[32mSafeLong\u001b[0m] with \u001b[32mHoTT\u001b[0m.\u001b[32mSubs\u001b[0m[\u001b[32mRepTerm\u001b[0m[\u001b[32mSafeLong\u001b[0m]], \u001b[32mLocalTerm\u001b[0m] = (n : (Nat.Typ)) ↦ (PiTerm(Map(n : (Nat.Typ) -> 2)))"
      ]
     },
     "metadata": {},
     "output_type": "display_data"
    }
   ],
   "source": [
    "import HoTT._\n",
    "val fn = lmbda(n)(n * n)"
   ]
  },
  {
   "cell_type": "code",
   "execution_count": 17,
   "metadata": {
    "collapsed": false
   },
   "outputs": [
    {
     "data": {
      "text/plain": [
       "\u001b[36mres16\u001b[0m: \u001b[32mLocalTerm\u001b[0m = ScalaSymbol(9) : (Nat.Typ)"
      ]
     },
     "metadata": {},
     "output_type": "display_data"
    }
   ],
   "source": [
    "fn(3)"
   ]
  },
  {
   "cell_type": "code",
   "execution_count": 18,
   "metadata": {
    "collapsed": false
   },
   "outputs": [
    {
     "data": {
      "text/plain": [
       "\u001b[36mres17\u001b[0m: \u001b[32mLocalTerm\u001b[0m = PiTerm(Map(k : (Nat.Typ) -> 2))"
      ]
     },
     "metadata": {},
     "output_type": "display_data"
    }
   ],
   "source": [
    "fn(k)"
   ]
  },
  {
   "cell_type": "code",
   "execution_count": 19,
   "metadata": {
    "collapsed": false
   },
   "outputs": [
    {
     "data": {
      "text/plain": [
       "\u001b[36mres18\u001b[0m: \u001b[32mLocalTerm\u001b[0m = ScalaSymbol(9) : (Nat.Typ)"
      ]
     },
     "metadata": {},
     "output_type": "display_data"
    }
   ],
   "source": [
    "power(3, 2)"
   ]
  },
  {
   "cell_type": "code",
   "execution_count": 20,
   "metadata": {
    "collapsed": false
   },
   "outputs": [
    {
     "data": {
      "text/plain": [
       "\u001b[36mres19\u001b[0m: \u001b[32mLocalTerm\u001b[0m = ScalaSymbol(27) : (Nat.Typ)"
      ]
     },
     "metadata": {},
     "output_type": "display_data"
    }
   ],
   "source": [
    "power(3, 3)"
   ]
  },
  {
   "cell_type": "code",
   "execution_count": 21,
   "metadata": {
    "collapsed": false
   },
   "outputs": [
    {
     "data": {
      "text/plain": [
       "\u001b[36mres20\u001b[0m: \u001b[32mLocalTerm\u001b[0m = ScalaSymbol(3) : (Nat.Typ)"
      ]
     },
     "metadata": {},
     "output_type": "display_data"
    }
   ],
   "source": [
    "prod(1)(3)"
   ]
  },
  {
   "cell_type": "code",
   "execution_count": 22,
   "metadata": {
    "collapsed": false
   },
   "outputs": [
    {
     "data": {
      "text/plain": [
       "\u001b[36mfactorial\u001b[0m: \u001b[32mRec\u001b[0m[\u001b[32mLocalTerm\u001b[0m] = \u001b[33mRec\u001b[0m(ScalaSymbol(1) : (Nat.Typ), prod)"
      ]
     },
     "metadata": {},
     "output_type": "display_data"
    }
   ],
   "source": [
    "val factorial = Rec(1: Nat, prod)"
   ]
  },
  {
   "cell_type": "code",
   "execution_count": 23,
   "metadata": {
    "collapsed": false
   },
   "outputs": [
    {
     "data": {
      "text/plain": [
       "\u001b[36mres22\u001b[0m: \u001b[32mLocalTerm\u001b[0m = ScalaSymbol(6) : (Nat.Typ)"
      ]
     },
     "metadata": {},
     "output_type": "display_data"
    }
   ],
   "source": [
    "factorial(3)"
   ]
  },
  {
   "cell_type": "code",
   "execution_count": 24,
   "metadata": {
    "collapsed": false
   },
   "outputs": [
    {
     "data": {
      "text/plain": [
       "\u001b[36mres23\u001b[0m: \u001b[32mLocalTerm\u001b[0m = ScalaSymbol(120) : (Nat.Typ)"
      ]
     },
     "metadata": {},
     "output_type": "display_data"
    }
   ],
   "source": [
    "factorial(5)"
   ]
  },
  {
   "cell_type": "code",
   "execution_count": 25,
   "metadata": {
    "collapsed": false
   },
   "outputs": [
    {
     "data": {
      "text/plain": [
       "\u001b[36mres24\u001b[0m: \u001b[32mLocalTerm\u001b[0m = (<function1>) (n : (Nat.Typ)) : (Nat.Typ)"
      ]
     },
     "metadata": {},
     "output_type": "display_data"
    }
   ],
   "source": [
    "factorial(n)"
   ]
  },
  {
   "cell_type": "code",
   "execution_count": 26,
   "metadata": {
    "collapsed": false
   },
   "outputs": [
    {
     "data": {
      "text/plain": [
       "\u001b[36mg\u001b[0m: \u001b[32mFunc\u001b[0m[\u001b[32mRepTerm\u001b[0m[\u001b[32mSafeLong\u001b[0m] with \u001b[32mSubs\u001b[0m[\u001b[32mRepTerm\u001b[0m[\u001b[32mSafeLong\u001b[0m]], \u001b[32mLocalTerm\u001b[0m] = (k : (Nat.Typ)) ↦ ((<function1>) (PiTerm(Map(k : (Nat.Typ) -> 2))) : (Nat.Typ))"
      ]
     },
     "metadata": {},
     "output_type": "display_data"
    }
   ],
   "source": [
    "val g = lmbda(k)(factorial(k * k))"
   ]
  },
  {
   "cell_type": "code",
   "execution_count": 27,
   "metadata": {
    "collapsed": false
   },
   "outputs": [
    {
     "data": {
      "text/plain": [
       "\u001b[36mres26\u001b[0m: \u001b[32mLocalTerm\u001b[0m = ScalaSymbol(362880) : (Nat.Typ)"
      ]
     },
     "metadata": {},
     "output_type": "display_data"
    }
   ],
   "source": [
    "g(3)"
   ]
  },
  {
   "cell_type": "code",
   "execution_count": 28,
   "metadata": {
    "collapsed": false
   },
   "outputs": [
    {
     "data": {
      "text/plain": [
       "\u001b[36mres27\u001b[0m: \u001b[32mLocalTerm\u001b[0m = ScalaSymbol(362880) : (Nat.Typ)"
      ]
     },
     "metadata": {},
     "output_type": "display_data"
    }
   ],
   "source": [
    "factorial(9)"
   ]
  },
  {
   "cell_type": "code",
   "execution_count": 29,
   "metadata": {
    "collapsed": false
   },
   "outputs": [
    {
     "data": {
      "text/plain": [
       "\u001b[36mg\u001b[0m: \u001b[32mSafeLong\u001b[0m => \u001b[32mFunc\u001b[0m[\u001b[32mLocalTerm\u001b[0m, \u001b[32mLocalTerm\u001b[0m] = <function1>"
      ]
     },
     "metadata": {},
     "output_type": "display_data"
    }
   ],
   "source": [
    "val g = (a: SafeLong) => prod(sum(Literal(a))(n))"
   ]
  },
  {
   "cell_type": "code",
   "execution_count": 30,
   "metadata": {
    "collapsed": false
   },
   "outputs": [
    {
     "data": {
      "text/plain": [
       "\u001b[36mres29\u001b[0m: \u001b[32mFunc\u001b[0m[\u001b[32mLocalTerm\u001b[0m, \u001b[32mLocalTerm\u001b[0m] = <function1>"
      ]
     },
     "metadata": {},
     "output_type": "display_data"
    }
   ],
   "source": [
    "g(0)"
   ]
  },
  {
   "cell_type": "code",
   "execution_count": 31,
   "metadata": {
    "collapsed": false
   },
   "outputs": [
    {
     "data": {
      "text/plain": [
       "\u001b[36mres30\u001b[0m: \u001b[32mLocalTerm\u001b[0m = n : (Nat.Typ)"
      ]
     },
     "metadata": {},
     "output_type": "display_data"
    }
   ],
   "source": [
    "g(0)(1)"
   ]
  },
  {
   "cell_type": "code",
   "execution_count": 32,
   "metadata": {
    "collapsed": false
   },
   "outputs": [
    {
     "data": {
      "text/plain": [
       "\u001b[36mres31\u001b[0m: \u001b[32mLocalTerm\u001b[0m = ((sum) (ScalaSymbol(4) : (Nat.Typ)) : ((Nat.Typ) → (Nat.Typ))) (((prod) (ScalaSymbol(2) : (Nat.Typ)) : ((Nat.Typ) → (Nat.Typ))) (n : (Nat.Typ)) : (Nat.Typ)) : (Nat.Typ)"
      ]
     },
     "metadata": {},
     "output_type": "display_data"
    }
   ],
   "source": [
    "g(2)(2)"
   ]
  },
  {
   "cell_type": "code",
   "execution_count": 33,
   "metadata": {
    "collapsed": false
   },
   "outputs": [
    {
     "data": {
      "text/plain": [
       "\u001b[36mres32\u001b[0m: \u001b[32mLocalTerm\u001b[0m = ((sum) (ScalaSymbol(2) : (Nat.Typ)) : ((Nat.Typ) → (Nat.Typ))) (n : (Nat.Typ)) : (Nat.Typ)"
      ]
     },
     "metadata": {},
     "output_type": "display_data"
    }
   ],
   "source": [
    "n + 2"
   ]
  },
  {
   "cell_type": "code",
   "execution_count": 34,
   "metadata": {
    "collapsed": false
   },
   "outputs": [
    {
     "data": {
      "text/plain": [
       "\u001b[36mres33\u001b[0m: \u001b[32mLocalTerm\u001b[0m = SigmaTerm(Set((<function1>) (n : (Nat.Typ)) : (Nat.Typ), PiTerm(Map(n : (Nat.Typ) -> 1, (<function1>) (n : (Nat.Typ)) : (Nat.Typ) -> 1))))"
      ]
     },
     "metadata": {},
     "output_type": "display_data"
    }
   ],
   "source": [
    "factorial(n + 1)"
   ]
  },
  {
   "cell_type": "code",
   "execution_count": 35,
   "metadata": {
    "collapsed": false
   },
   "outputs": [
    {
     "data": {
      "text/plain": [
       "\u001b[36mfn\u001b[0m: \u001b[32mFunc\u001b[0m[\u001b[32mRepTerm\u001b[0m[\u001b[32mSafeLong\u001b[0m] with \u001b[32mSubs\u001b[0m[\u001b[32mRepTerm\u001b[0m[\u001b[32mSafeLong\u001b[0m]], \u001b[32mLocalTerm\u001b[0m] = (n : (Nat.Typ)) ↦ (SigmaTerm(Set((<function1>) (n : (Nat.Typ)) : (Nat.Typ), PiTerm(Map(n : (Nat.Typ) -> 1, (<function1>) (n : (Nat.Typ)) : (Nat.Typ) -> 1)))))"
      ]
     },
     "metadata": {},
     "output_type": "display_data"
    }
   ],
   "source": [
    "val fn = lmbda(n)(factorial(n + 1))"
   ]
  },
  {
   "cell_type": "code",
   "execution_count": 36,
   "metadata": {
    "collapsed": false
   },
   "outputs": [
    {
     "data": {
      "text/plain": [
       "\u001b[36mres35\u001b[0m: \u001b[32mLocalTerm\u001b[0m = ScalaSymbol(2) : (Nat.Typ)"
      ]
     },
     "metadata": {},
     "output_type": "display_data"
    }
   ],
   "source": [
    "fn(1)"
   ]
  },
  {
   "cell_type": "code",
   "execution_count": 37,
   "metadata": {
    "collapsed": false
   },
   "outputs": [
    {
     "data": {
      "text/plain": [
       "\u001b[36mres36\u001b[0m: \u001b[32mLocalTerm\u001b[0m = ScalaSymbol(120) : (Nat.Typ)"
      ]
     },
     "metadata": {},
     "output_type": "display_data"
    }
   ],
   "source": [
    "fn(4)"
   ]
  },
  {
   "cell_type": "code",
   "execution_count": 38,
   "metadata": {
    "collapsed": false
   },
   "outputs": [
    {
     "data": {
      "text/plain": [
       "\u001b[36mres37\u001b[0m: \u001b[32mLocalTerm\u001b[0m = ((sum) (ScalaSymbol(2) : (Nat.Typ)) : ((Nat.Typ) → (Nat.Typ))) (SigmaTerm(Set(PiTerm(Map(n : (Nat.Typ) -> 2)), ((prod) (ScalaSymbol(3) : (Nat.Typ)) : ((Nat.Typ) → (Nat.Typ))) (n : (Nat.Typ)) : (Nat.Typ)))) : (Nat.Typ)"
      ]
     },
     "metadata": {},
     "output_type": "display_data"
    }
   ],
   "source": [
    "(n + 2) * (n + 1)"
   ]
  },
  {
   "cell_type": "code",
   "execution_count": 39,
   "metadata": {
    "collapsed": false
   },
   "outputs": [
    {
     "data": {
      "text/plain": [
       "\u001b[36mres38\u001b[0m: \u001b[32mLocalTerm\u001b[0m = ((prod) (ScalaSymbol(3) : (Nat.Typ)) : ((Nat.Typ) → (Nat.Typ))) (PiTerm(Map(n : (Nat.Typ) -> 2))) : (Nat.Typ)"
      ]
     },
     "metadata": {},
     "output_type": "display_data"
    }
   ],
   "source": [
    "(3 * n) * n"
   ]
  },
  {
   "cell_type": "code",
   "execution_count": 40,
   "metadata": {
    "collapsed": false
   },
   "outputs": [
    {
     "data": {
      "text/plain": [
       "\u001b[36mres39\u001b[0m: \u001b[32mLocalTerm\u001b[0m = PiTerm(Map(n : (Nat.Typ) -> 2))"
      ]
     },
     "metadata": {},
     "output_type": "display_data"
    }
   ],
   "source": [
    "n * n"
   ]
  },
  {
   "cell_type": "code",
   "execution_count": 41,
   "metadata": {
    "collapsed": false
   },
   "outputs": [
    {
     "data": {
      "text/plain": [
       "\u001b[36mres40\u001b[0m: \u001b[32mLocalTerm\u001b[0m = n : (Nat.Typ)"
      ]
     },
     "metadata": {},
     "output_type": "display_data"
    }
   ],
   "source": [
    "(n * n).asInstanceOf[PiTerm].head"
   ]
  },
  {
   "cell_type": "markdown",
   "metadata": {},
   "source": [
    "**Error:** The term is composite but has head itself, leading to an infinite loop. It may also be dangerous to break it."
   ]
  },
  {
   "cell_type": "code",
   "execution_count": 42,
   "metadata": {
    "collapsed": false
   },
   "outputs": [
    {
     "data": {
      "text/plain": [
       "\u001b[36mres41\u001b[0m: \u001b[32mLocalTerm\u001b[0m = PiTerm(Map(n : (Nat.Typ) -> 3))"
      ]
     },
     "metadata": {},
     "output_type": "display_data"
    }
   ],
   "source": [
    "n * (n * n)"
   ]
  },
  {
   "cell_type": "code",
   "execution_count": 43,
   "metadata": {
    "collapsed": false
   },
   "outputs": [
    {
     "data": {
      "text/plain": [
       "\u001b[36mres42_0\u001b[0m: \u001b[32mLocalTerm\u001b[0m = n : (Nat.Typ)\n",
       "\u001b[36mres42_1\u001b[0m: \u001b[32mLocalTerm\u001b[0m with \u001b[32mSubs\u001b[0m[\u001b[32mLocalTerm\u001b[0m] = n : (Nat.Typ)"
      ]
     },
     "metadata": {},
     "output_type": "display_data"
    }
   ],
   "source": [
    "// res50.head\n",
    "//(n * n) * n\n",
    "(n * n).asInstanceOf[PiTerm].head\n",
    "(n * n).asInstanceOf[PiTerm].tail"
   ]
  },
  {
   "cell_type": "code",
   "execution_count": 44,
   "metadata": {
    "collapsed": false
   },
   "outputs": [
    {
     "data": {
      "text/plain": [
       "\u001b[36mres43\u001b[0m: \u001b[32mRepTerm\u001b[0m[\u001b[32mSafeLong\u001b[0m] with \u001b[32mSubs\u001b[0m[\u001b[32mRepTerm\u001b[0m[\u001b[32mSafeLong\u001b[0m]] = PiTerm(Map(k : (Nat.Typ) -> 2))"
      ]
     },
     "metadata": {},
     "output_type": "display_data"
    }
   ],
   "source": [
    "(n * n).replace(n, k)"
   ]
  },
  {
   "cell_type": "code",
   "execution_count": 45,
   "metadata": {
    "collapsed": false
   },
   "outputs": [
    {
     "data": {
      "text/plain": [
       "\u001b[36mres44\u001b[0m: \u001b[32mRepTerm\u001b[0m[\u001b[32mSafeLong\u001b[0m] with \u001b[32mSubs\u001b[0m[\u001b[32mRepTerm\u001b[0m[\u001b[32mSafeLong\u001b[0m]] = PiTerm(Map(k : (Nat.Typ) -> 3))"
      ]
     },
     "metadata": {},
     "output_type": "display_data"
    }
   ],
   "source": [
    "(n * (n * n)).replace(n, k) //used to crash"
   ]
  },
  {
   "cell_type": "code",
   "execution_count": 52,
   "metadata": {
    "collapsed": false
   },
   "outputs": [
    {
     "data": {
      "text/plain": [
       "\u001b[32mimport \u001b[36mCRig._\u001b[0m\n",
       "\u001b[36mres51_1\u001b[0m: \u001b[32mLocalTerm\u001b[0m = PiTerm(Map(n : (Nat.Typ) -> 2))\n",
       "\u001b[36mres51_2\u001b[0m: \u001b[32mLocalTerm\u001b[0m = PiTerm(Map(n : (Nat.Typ) -> 3))\n",
       "\u001b[36mres51_3\u001b[0m: \u001b[32mLocalTerm\u001b[0m = PiTerm(Map(k : (Nat.Typ) -> 4))"
      ]
     },
     "metadata": {},
     "output_type": "display_data"
    }
   ],
   "source": [
    "import CRig._\n",
    "power(n, 2)\n",
    "power(n, 3)\n",
    "power(k, 4)"
   ]
  },
  {
   "cell_type": "code",
   "execution_count": 55,
   "metadata": {
    "collapsed": false
   },
   "outputs": [
    {
     "data": {
      "text/plain": [
       "\u001b[36mres53\u001b[0m: \u001b[32mLocalTerm\u001b[0m = PiTerm(Map(n : (Nat.Typ) -> 1, k : (Nat.Typ) -> 1, m : (Nat.Typ) -> 1))"
      ]
     },
     "metadata": {},
     "output_type": "display_data"
    }
   ],
   "source": [
    "//power(n, 2) * k // crashes\n",
    "(n * k) * m"
   ]
  },
  {
   "cell_type": "code",
   "execution_count": 56,
   "metadata": {
    "collapsed": false
   },
   "outputs": [
    {
     "data": {
      "text/plain": [
       "\u001b[36mres54\u001b[0m: \u001b[32mLocalTerm\u001b[0m = PiTerm(Map(n : (Nat.Typ) -> 1, k : (Nat.Typ) -> 2))"
      ]
     },
     "metadata": {},
     "output_type": "display_data"
    }
   ],
   "source": [
    "(n * k) * k"
   ]
  },
  {
   "cell_type": "code",
   "execution_count": 57,
   "metadata": {
    "collapsed": false
   },
   "outputs": [
    {
     "data": {
      "text/plain": [
       "\u001b[36mres55\u001b[0m: \u001b[32mLocalTerm\u001b[0m = PiTerm(Map(n : (Nat.Typ) -> 1, k : (Nat.Typ) -> 2))"
      ]
     },
     "metadata": {},
     "output_type": "display_data"
    }
   ],
   "source": [
    "k * (n * k)"
   ]
  },
  {
   "cell_type": "code",
   "execution_count": null,
   "metadata": {
    "collapsed": true
   },
   "outputs": [],
   "source": []
  }
 ],
 "metadata": {
  "kernelspec": {
   "display_name": "Scala 2.11",
   "language": "scala211",
   "name": "scala211"
  },
  "language_info": {
   "codemirror_mode": "text/x-scala",
   "file_extension": ".scala",
   "mimetype": "text/x-scala",
   "name": "scala211",
   "pygments_lexer": "scala",
   "version": "2.11.6"
  }
 },
 "nbformat": 4,
 "nbformat_minor": 0
}
