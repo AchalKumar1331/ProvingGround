{
 "cells": [
  {
   "cell_type": "code",
   "execution_count": 1,
   "metadata": {
    "collapsed": false
   },
   "outputs": [
    {
     "data": {
      "text/plain": [
       "\u001b[32mimport \u001b[39m\u001b[36m$ivy.$                                       \u001b[39m"
      ]
     },
     "execution_count": 1,
     "metadata": {},
     "output_type": "execute_result"
    }
   ],
   "source": [
    "import $ivy.`io.github.siddhartha-gadgil::core-jvm:0.1.0`"
   ]
  },
  {
   "cell_type": "markdown",
   "metadata": {},
   "source": [
    "## Symbolic Algebra for natural numbers\n",
    "\n",
    "To efficiently manipulate expressions in natural numbers, or more generally rings (and fields), proving-ground has special HoTT types wrapping scala types that are Rings, Rigs, Fields etc in the _spire_ library. As a consequence:\n",
    "\n",
    "* Symbolic expressions that are equal become _definitionally_ equal, i.e., equal as scala objects.\n",
    "* We define recursion which expands for (sums with) literals\n",
    "* Expressions involving literals and variables are simplified as much as possible.\n"
   ]
  },
  {
   "cell_type": "markdown",
   "metadata": {},
   "source": [
    "The ring of natural numbers is an object NatRing. This has\n",
    "\n",
    "* a HoTT type _NatTyp_, \n",
    "* a scala type _Nat_\n",
    "* a scala representation\n",
    "* a (spire) ring structure on the underlying terms."
   ]
  },
  {
   "cell_type": "code",
   "execution_count": 2,
   "metadata": {
    "collapsed": false
   },
   "outputs": [
    {
     "data": {
      "text/plain": [
       "\u001b[32mimport \u001b[39m\u001b[36mprovingground._, induction._, scalahott._\n",
       "\u001b[39m\n",
       "\u001b[32mimport \u001b[39m\u001b[36mNatRing._\u001b[39m"
      ]
     },
     "execution_count": 2,
     "metadata": {},
     "output_type": "execute_result"
    }
   ],
   "source": [
    "import provingground._, induction._, scalahott._\n",
    "import NatRing._"
   ]
  },
  {
   "cell_type": "code",
   "execution_count": 3,
   "metadata": {
    "collapsed": false
   },
   "outputs": [
    {
     "data": {
      "text/plain": [
       "\u001b[36mn\u001b[39m: \u001b[32mRepTerm\u001b[39m[\u001b[32mspire\u001b[39m.\u001b[32mmath\u001b[39m.\u001b[32mSafeLong\u001b[39m] = \u001b[33mRepSymbObj\u001b[39m(\u001b[33mName\u001b[39m(\u001b[32m\"n\"\u001b[39m), Nat.Typ)\n",
       "\u001b[36mm\u001b[39m: \u001b[32mRepTerm\u001b[39m[\u001b[32mspire\u001b[39m.\u001b[32mmath\u001b[39m.\u001b[32mSafeLong\u001b[39m] = \u001b[33mRepSymbObj\u001b[39m(\u001b[33mName\u001b[39m(\u001b[32m\"m\"\u001b[39m), Nat.Typ)\n",
       "\u001b[36mk\u001b[39m: \u001b[32mRepTerm\u001b[39m[\u001b[32mspire\u001b[39m.\u001b[32mmath\u001b[39m.\u001b[32mSafeLong\u001b[39m] = \u001b[33mRepSymbObj\u001b[39m(\u001b[33mName\u001b[39m(\u001b[32m\"k\"\u001b[39m), Nat.Typ)"
      ]
     },
     "execution_count": 3,
     "metadata": {},
     "output_type": "execute_result"
    }
   ],
   "source": [
    "val n = \"n\" :: NatTyp\n",
    "val m = \"m\" :: NatTyp\n",
    "val k = \"k\" :: NatTyp"
   ]
  },
  {
   "cell_type": "markdown",
   "metadata": {},
   "source": [
    "Spire implicits let us use the addition and multiplication operations."
   ]
  },
  {
   "cell_type": "code",
   "execution_count": 4,
   "metadata": {
    "collapsed": false
   },
   "outputs": [
    {
     "data": {
      "text/plain": [
       "\u001b[32mimport \u001b[39m\u001b[36mspire.math._\n",
       "\u001b[39m\n",
       "\u001b[32mimport \u001b[39m\u001b[36mspire.algebra._\n",
       "\u001b[39m\n",
       "\u001b[32mimport \u001b[39m\u001b[36mspire.implicits._\u001b[39m"
      ]
     },
     "execution_count": 4,
     "metadata": {},
     "output_type": "execute_result"
    }
   ],
   "source": [
    "import spire.math._\n",
    "import spire.algebra._\n",
    "import spire.implicits._"
   ]
  },
  {
   "cell_type": "markdown",
   "metadata": {},
   "source": [
    "### Addition and multiplication\n",
    "\n",
    "A sum gives a SigmaTerm, which only stores  a set of terms being added."
   ]
  },
  {
   "cell_type": "code",
   "execution_count": 5,
   "metadata": {
    "collapsed": false
   },
   "outputs": [
    {
     "data": {
      "text/plain": [
       "\u001b[36mres4\u001b[39m: \u001b[32mLocalTerm\u001b[39m = \u001b[33mSigmaTerm\u001b[39m(\n",
       "  \u001b[33mSet\u001b[39m(\u001b[33mRepSymbObj\u001b[39m(\u001b[33mName\u001b[39m(\u001b[32m\"n\"\u001b[39m), Nat.Typ), \u001b[33mRepSymbObj\u001b[39m(\u001b[33mName\u001b[39m(\u001b[32m\"m\"\u001b[39m), Nat.Typ))\n",
       ")"
      ]
     },
     "execution_count": 5,
     "metadata": {},
     "output_type": "execute_result"
    }
   ],
   "source": [
    "n + m"
   ]
  },
  {
   "cell_type": "code",
   "execution_count": 6,
   "metadata": {
    "collapsed": false
   },
   "outputs": [
    {
     "data": {
      "text/plain": [
       "\u001b[36mres5\u001b[39m: \u001b[32mLocalTerm\u001b[39m = \u001b[33mSigmaTerm\u001b[39m(\n",
       "  \u001b[33mSet\u001b[39m(\n",
       "    \u001b[33mRepSymbObj\u001b[39m(\u001b[33mName\u001b[39m(\u001b[32m\"m\"\u001b[39m), Nat.Typ),\n",
       "    \u001b[33mRepSymbObj\u001b[39m(\n",
       "      \u001b[33mApplnSym\u001b[39m(\u001b[33mmultLiteral\u001b[39m(\u001b[33mSafeLongLong\u001b[39m(\u001b[32m2L\u001b[39m)), \u001b[33mRepSymbObj\u001b[39m(\u001b[33mName\u001b[39m(\u001b[32m\"n\"\u001b[39m), Nat.Typ)),\n",
       "      Nat.Typ\n",
       "    )\n",
       "  )\n",
       ")"
      ]
     },
     "execution_count": 6,
     "metadata": {},
     "output_type": "execute_result"
    }
   ],
   "source": [
    "(n + m) + n"
   ]
  },
  {
   "cell_type": "markdown",
   "metadata": {},
   "source": [
    "Addition is commutative and associative, even when it involves repeated terms."
   ]
  },
  {
   "cell_type": "code",
   "execution_count": 7,
   "metadata": {
    "collapsed": false
   },
   "outputs": [
    {
     "data": {
      "text/plain": [
       "\u001b[36mres6_0\u001b[39m: \u001b[32mBoolean\u001b[39m = true\n",
       "\u001b[36mres6_1\u001b[39m: \u001b[32mBoolean\u001b[39m = true"
      ]
     },
     "execution_count": 7,
     "metadata": {},
     "output_type": "execute_result"
    }
   ],
   "source": [
    "n + m == m + n\n",
    "(n + m) + k == n + (m + k)"
   ]
  },
  {
   "cell_type": "code",
   "execution_count": 8,
   "metadata": {
    "collapsed": false
   },
   "outputs": [
    {
     "data": {
      "text/plain": [
       "\u001b[36mres7\u001b[39m: \u001b[32mBoolean\u001b[39m = true"
      ]
     },
     "execution_count": 8,
     "metadata": {},
     "output_type": "execute_result"
    }
   ],
   "source": [
    "(n + n) + m == (n + m) + n"
   ]
  },
  {
   "cell_type": "markdown",
   "metadata": {},
   "source": [
    "Similarly, multiplication is commutative and associative, and  distributes over addition. Multiplication gives Pi-terms with parameter a map to exponents."
   ]
  },
  {
   "cell_type": "code",
   "execution_count": 9,
   "metadata": {
    "collapsed": false
   },
   "outputs": [
    {
     "data": {
      "text/plain": [
       "\u001b[36mres8\u001b[39m: \u001b[32mBoolean\u001b[39m = true"
      ]
     },
     "execution_count": 9,
     "metadata": {},
     "output_type": "execute_result"
    }
   ],
   "source": [
    "n * m == m * n"
   ]
  },
  {
   "cell_type": "code",
   "execution_count": 10,
   "metadata": {
    "collapsed": false
   },
   "outputs": [
    {
     "data": {
      "text/plain": [
       "\u001b[36mres9\u001b[39m: \u001b[32mLocalTerm\u001b[39m = \u001b[33mPiTerm\u001b[39m(\n",
       "  \u001b[33mMap\u001b[39m(\n",
       "    \u001b[33mRepSymbObj\u001b[39m(\u001b[33mName\u001b[39m(\u001b[32m\"n\"\u001b[39m), Nat.Typ) -> \u001b[32m1\u001b[39m,\n",
       "    \u001b[33mRepSymbObj\u001b[39m(\u001b[33mName\u001b[39m(\u001b[32m\"k\"\u001b[39m), Nat.Typ) -> \u001b[32m1\u001b[39m,\n",
       "    \u001b[33mRepSymbObj\u001b[39m(\u001b[33mName\u001b[39m(\u001b[32m\"m\"\u001b[39m), Nat.Typ) -> \u001b[32m1\u001b[39m\n",
       "  )\n",
       ")"
      ]
     },
     "execution_count": 10,
     "metadata": {},
     "output_type": "execute_result"
    }
   ],
   "source": [
    "n * (m * k)"
   ]
  },
  {
   "cell_type": "code",
   "execution_count": 11,
   "metadata": {
    "collapsed": false
   },
   "outputs": [
    {
     "data": {
      "text/plain": [
       "\u001b[36mres10\u001b[39m: \u001b[32mLocalTerm\u001b[39m = \u001b[33mPiTerm\u001b[39m(\n",
       "  \u001b[33mMap\u001b[39m(\n",
       "    \u001b[33mRepSymbObj\u001b[39m(\u001b[33mName\u001b[39m(\u001b[32m\"n\"\u001b[39m), Nat.Typ) -> \u001b[32m1\u001b[39m,\n",
       "    \u001b[33mRepSymbObj\u001b[39m(\u001b[33mName\u001b[39m(\u001b[32m\"k\"\u001b[39m), Nat.Typ) -> \u001b[32m1\u001b[39m,\n",
       "    \u001b[33mRepSymbObj\u001b[39m(\u001b[33mName\u001b[39m(\u001b[32m\"m\"\u001b[39m), Nat.Typ) -> \u001b[32m1\u001b[39m\n",
       "  )\n",
       ")"
      ]
     },
     "execution_count": 11,
     "metadata": {},
     "output_type": "execute_result"
    }
   ],
   "source": [
    "(n * m) * k"
   ]
  },
  {
   "cell_type": "code",
   "execution_count": 12,
   "metadata": {
    "collapsed": false
   },
   "outputs": [
    {
     "data": {
      "text/plain": [
       "\u001b[36mres11\u001b[39m: \u001b[32mLocalTerm\u001b[39m = \u001b[33mSigmaTerm\u001b[39m(\n",
       "  \u001b[33mSet\u001b[39m(\n",
       "    \u001b[33mPiTerm\u001b[39m(\n",
       "      \u001b[33mMap\u001b[39m(\n",
       "        \u001b[33mRepSymbObj\u001b[39m(\u001b[33mName\u001b[39m(\u001b[32m\"n\"\u001b[39m), Nat.Typ) -> \u001b[32m1\u001b[39m,\n",
       "        \u001b[33mRepSymbObj\u001b[39m(\u001b[33mName\u001b[39m(\u001b[32m\"m\"\u001b[39m), Nat.Typ) -> \u001b[32m1\u001b[39m\n",
       "      )\n",
       "    ),\n",
       "    \u001b[33mPiTerm\u001b[39m(\n",
       "      \u001b[33mMap\u001b[39m(\n",
       "        \u001b[33mRepSymbObj\u001b[39m(\u001b[33mName\u001b[39m(\u001b[32m\"n\"\u001b[39m), Nat.Typ) -> \u001b[32m1\u001b[39m,\n",
       "        \u001b[33mRepSymbObj\u001b[39m(\u001b[33mName\u001b[39m(\u001b[32m\"k\"\u001b[39m), Nat.Typ) -> \u001b[32m1\u001b[39m\n",
       "      )\n",
       "    )\n",
       "  )\n",
       ")"
      ]
     },
     "execution_count": 12,
     "metadata": {},
     "output_type": "execute_result"
    }
   ],
   "source": [
    "n * (m + k)"
   ]
  },
  {
   "cell_type": "code",
   "execution_count": 13,
   "metadata": {
    "collapsed": false
   },
   "outputs": [
    {
     "data": {
      "text/plain": [
       "\u001b[36mres12\u001b[39m: \u001b[32mBoolean\u001b[39m = true"
      ]
     },
     "execution_count": 13,
     "metadata": {},
     "output_type": "execute_result"
    }
   ],
   "source": [
    "n *(m + k) == (n * m) + (n * k)"
   ]
  },
  {
   "cell_type": "code",
   "execution_count": 14,
   "metadata": {
    "collapsed": false
   },
   "outputs": [
    {
     "data": {
      "text/plain": [
       "\u001b[36mres13\u001b[39m: \u001b[32mLocalTerm\u001b[39m = \u001b[33mRepSymbObj\u001b[39m(\n",
       "  \u001b[33mApplnSym\u001b[39m(\u001b[33mAddLiteral\u001b[39m(\u001b[33mSafeLongLong\u001b[39m(\u001b[32m1L\u001b[39m)), \u001b[33mRepSymbObj\u001b[39m(\u001b[33mName\u001b[39m(\u001b[32m\"n\"\u001b[39m), Nat.Typ)),\n",
       "  Nat.Typ\n",
       ")"
      ]
     },
     "execution_count": 14,
     "metadata": {},
     "output_type": "execute_result"
    }
   ],
   "source": [
    "n + 1"
   ]
  },
  {
   "cell_type": "code",
   "execution_count": 15,
   "metadata": {
    "collapsed": false
   },
   "outputs": [
    {
     "data": {
      "text/plain": [
       "\u001b[36mres14\u001b[39m: \u001b[32mRepTerm\u001b[39m[\u001b[32mSafeLong\u001b[39m] = \u001b[33mRepSymbObj\u001b[39m(\n",
       "  \u001b[33mApplnSym\u001b[39m(\u001b[33mAddLiteral\u001b[39m(\u001b[33mSafeLongLong\u001b[39m(\u001b[32m1L\u001b[39m)), \u001b[33mRepSymbObj\u001b[39m(\u001b[33mName\u001b[39m(\u001b[32m\"n\"\u001b[39m), Nat.Typ)),\n",
       "  Nat.Typ\n",
       ")"
      ]
     },
     "execution_count": 15,
     "metadata": {},
     "output_type": "execute_result"
    }
   ],
   "source": [
    "1 + n"
   ]
  },
  {
   "cell_type": "code",
   "execution_count": 16,
   "metadata": {
    "collapsed": false
   },
   "outputs": [
    {
     "data": {
      "text/plain": [
       "\u001b[36mres15\u001b[39m: \u001b[32mLocalTerm\u001b[39m = \u001b[33mRepSymbObj\u001b[39m(\n",
       "  \u001b[33mApplnSym\u001b[39m(\u001b[33mAddLiteral\u001b[39m(\u001b[33mSafeLongLong\u001b[39m(\u001b[32m3L\u001b[39m)), \u001b[33mRepSymbObj\u001b[39m(\u001b[33mName\u001b[39m(\u001b[32m\"n\"\u001b[39m), Nat.Typ)),\n",
       "  Nat.Typ\n",
       ")"
      ]
     },
     "execution_count": 16,
     "metadata": {},
     "output_type": "execute_result"
    }
   ],
   "source": [
    "(1 + n) + 2"
   ]
  },
  {
   "cell_type": "code",
   "execution_count": 17,
   "metadata": {
    "collapsed": false
   },
   "outputs": [
    {
     "data": {
      "text/plain": [
       "\u001b[36mres16\u001b[39m: \u001b[32mLocalTerm\u001b[39m = \u001b[33mPiTerm\u001b[39m(\u001b[33mMap\u001b[39m(\u001b[33mRepSymbObj\u001b[39m(\u001b[33mName\u001b[39m(\u001b[32m\"n\"\u001b[39m), Nat.Typ) -> \u001b[32m2\u001b[39m))"
      ]
     },
     "execution_count": 17,
     "metadata": {},
     "output_type": "execute_result"
    }
   ],
   "source": [
    "n * n"
   ]
  },
  {
   "cell_type": "markdown",
   "metadata": {},
   "source": [
    "### Symbolic definitions\n",
    "\n",
    "We can use the expressions from these functions in lambdas. For this we need correct substitution."
   ]
  },
  {
   "cell_type": "code",
   "execution_count": 18,
   "metadata": {
    "collapsed": false
   },
   "outputs": [
    {
     "data": {
      "text/plain": [
       "\u001b[32mimport \u001b[39m\u001b[36mHoTT._\n",
       "\u001b[39m\n",
       "\u001b[36mfn\u001b[39m: \u001b[32mFunc\u001b[39m[\u001b[32mRepTerm\u001b[39m[\u001b[32mSafeLong\u001b[39m], \u001b[32mLocalTerm\u001b[39m] = \u001b[33mLambdaFixed\u001b[39m(\n",
       "  \u001b[33mRepSymbObj\u001b[39m(n, Nat.Typ),\n",
       "  \u001b[33mPiTerm\u001b[39m(\u001b[33mMap\u001b[39m(\u001b[33mRepSymbObj\u001b[39m(n, Nat.Typ) -> \u001b[32m2\u001b[39m))\n",
       ")"
      ]
     },
     "execution_count": 18,
     "metadata": {},
     "output_type": "execute_result"
    }
   ],
   "source": [
    "import HoTT._\n",
    "val fn = lmbda(n)(n * n)"
   ]
  },
  {
   "cell_type": "code",
   "execution_count": 19,
   "metadata": {
    "collapsed": false
   },
   "outputs": [
    {
     "data": {
      "text/plain": [
       "\u001b[36mres18\u001b[39m: \u001b[32mLocalTerm\u001b[39m = \u001b[33mRepSymbObj\u001b[39m(\u001b[33mScalaSymbol\u001b[39m(\u001b[33mSafeLongLong\u001b[39m(\u001b[32m9L\u001b[39m)), Nat.Typ)"
      ]
     },
     "execution_count": 19,
     "metadata": {},
     "output_type": "execute_result"
    }
   ],
   "source": [
    "fn(3)"
   ]
  },
  {
   "cell_type": "code",
   "execution_count": 20,
   "metadata": {
    "collapsed": false
   },
   "outputs": [
    {
     "data": {
      "text/plain": [
       "\u001b[36mres19\u001b[39m: \u001b[32mLocalTerm\u001b[39m = \u001b[33mPiTerm\u001b[39m(\u001b[33mMap\u001b[39m(\u001b[33mRepSymbObj\u001b[39m(\u001b[33mName\u001b[39m(\u001b[32m\"k\"\u001b[39m), Nat.Typ) -> \u001b[32m2\u001b[39m))"
      ]
     },
     "execution_count": 20,
     "metadata": {},
     "output_type": "execute_result"
    }
   ],
   "source": [
    "fn(k)"
   ]
  },
  {
   "cell_type": "markdown",
   "metadata": {},
   "source": [
    "### Recursive definitions\n",
    "\n",
    "We can define a function f recursively on natural numbers, given the value f(0) and given f(n+1) as a (curryed) function of (n+1) and f(n). This expands  for literals."
   ]
  },
  {
   "cell_type": "code",
   "execution_count": 21,
   "metadata": {
    "collapsed": false
   },
   "outputs": [
    {
     "data": {
      "text/plain": [
       "\u001b[36mm\u001b[39m: \u001b[32mFunc\u001b[39m[\u001b[32mRepTerm\u001b[39m[\u001b[32mSafeLong\u001b[39m], \u001b[32mFunc\u001b[39m[\u001b[32mLocalTerm\u001b[39m, \u001b[32mLocalTerm\u001b[39m]] = \u001b[33mLambdaFixed\u001b[39m(\n",
       "  \u001b[33mRepSymbObj\u001b[39m(n, Nat.Typ),\n",
       "  \u001b[33mLambdaFixed\u001b[39m(\n",
       "    \u001b[33mRepSymbObj\u001b[39m($f, Nat.Typ),\n",
       "    \u001b[33mSigmaTerm\u001b[39m(\n",
       "      \u001b[33mSet\u001b[39m(\n",
       "        \u001b[33mRepSymbObj\u001b[39m($f, Nat.Typ),\n",
       "        \u001b[33mPiTerm\u001b[39m(\u001b[33mMap\u001b[39m(\u001b[33mRepSymbObj\u001b[39m($f, Nat.Typ) -> \u001b[32m1\u001b[39m, \u001b[33mRepSymbObj\u001b[39m(n, Nat.Typ) -> \u001b[32m1\u001b[39m))\n",
       "      )\n",
       "    )\n",
       "  )\n",
       ")\n",
       "\u001b[36mfactorial\u001b[39m: \u001b[32mRec\u001b[39m[\u001b[32mLocalTerm\u001b[39m] = \u001b[33mRec\u001b[39m(\n",
       "  \u001b[33mRepSymbObj\u001b[39m(\u001b[33mScalaSymbol\u001b[39m(\u001b[33mSafeLongLong\u001b[39m(\u001b[32m1L\u001b[39m)), Nat.Typ),\n",
       "  \u001b[33mLambdaFixed\u001b[39m(\n",
       "    \u001b[33mRepSymbObj\u001b[39m(n, Nat.Typ),\n",
       "    \u001b[33mLambdaFixed\u001b[39m(\n",
       "      \u001b[33mRepSymbObj\u001b[39m($f, Nat.Typ),\n",
       "      \u001b[33mSigmaTerm\u001b[39m(\n",
       "        \u001b[33mSet\u001b[39m(\n",
       "          \u001b[33mRepSymbObj\u001b[39m($f, Nat.Typ),\n",
       "          \u001b[33mPiTerm\u001b[39m(\u001b[33mMap\u001b[39m(\u001b[33mRepSymbObj\u001b[39m($f, Nat.Typ) -> \u001b[32m1\u001b[39m, \u001b[33mRepSymbObj\u001b[39m(n, Nat.Typ) -> \u001b[32m1\u001b[39m))\n",
       "        )\n",
       "      )\n",
       "    )\n",
       "  )\n",
       ")"
      ]
     },
     "execution_count": 21,
     "metadata": {},
     "output_type": "execute_result"
    }
   ],
   "source": [
    "val m = lmbda(n)(prod(n + 1))\n",
    "val factorial = Rec(1: Nat, m)"
   ]
  },
  {
   "cell_type": "code",
   "execution_count": 22,
   "metadata": {
    "collapsed": false
   },
   "outputs": [
    {
     "data": {
      "text/plain": [
       "\u001b[36mres21\u001b[39m: \u001b[32mLocalTerm\u001b[39m = \u001b[33mRepSymbObj\u001b[39m(\u001b[33mScalaSymbol\u001b[39m(\u001b[33mSafeLongLong\u001b[39m(\u001b[32m6L\u001b[39m)), Nat.Typ)"
      ]
     },
     "execution_count": 22,
     "metadata": {},
     "output_type": "execute_result"
    }
   ],
   "source": [
    "factorial(3)"
   ]
  },
  {
   "cell_type": "code",
   "execution_count": 23,
   "metadata": {
    "collapsed": false
   },
   "outputs": [
    {
     "data": {
      "text/plain": [
       "\u001b[36mres22\u001b[39m: \u001b[32mLocalTerm\u001b[39m = \u001b[33mRepSymbObj\u001b[39m(\u001b[33mScalaSymbol\u001b[39m(\u001b[33mSafeLongLong\u001b[39m(\u001b[32m120L\u001b[39m)), Nat.Typ)"
      ]
     },
     "execution_count": 23,
     "metadata": {},
     "output_type": "execute_result"
    }
   ],
   "source": [
    "factorial(5)"
   ]
  },
  {
   "cell_type": "code",
   "execution_count": 24,
   "metadata": {
    "collapsed": false
   },
   "outputs": [
    {
     "data": {
      "text/plain": [
       "\u001b[36mres23\u001b[39m: \u001b[32mLocalTerm\u001b[39m = \u001b[33mRepSymbObj\u001b[39m(\n",
       "  \u001b[33mApplnSym\u001b[39m(\n",
       "    \u001b[33mRec\u001b[39m(\n",
       "      \u001b[33mRepSymbObj\u001b[39m(\u001b[33mScalaSymbol\u001b[39m(\u001b[33mSafeLongLong\u001b[39m(\u001b[32m1L\u001b[39m)), Nat.Typ),\n",
       "      \u001b[33mLambdaFixed\u001b[39m(\n",
       "        \u001b[33mRepSymbObj\u001b[39m(n, Nat.Typ),\n",
       "        \u001b[33mLambdaFixed\u001b[39m(\n",
       "          \u001b[33mRepSymbObj\u001b[39m($f, Nat.Typ),\n",
       "          \u001b[33mSigmaTerm\u001b[39m(\n",
       "            \u001b[33mSet\u001b[39m(\n",
       "              \u001b[33mRepSymbObj\u001b[39m($f, Nat.Typ),\n",
       "              \u001b[33mPiTerm\u001b[39m(\n",
       "                \u001b[33mMap\u001b[39m(\u001b[33mRepSymbObj\u001b[39m($f, Nat.Typ) -> \u001b[32m1\u001b[39m, \u001b[33mRepSymbObj\u001b[39m(n, Nat.Typ) -> \u001b[32m1\u001b[39m)\n",
       "              )\n",
       "            )\n",
       "          )\n",
       "        )\n",
       "      )\n",
       "    ),\n",
       "    \u001b[33mRepSymbObj\u001b[39m(\u001b[33mName\u001b[39m(\u001b[32m\"n\"\u001b[39m), Nat.Typ)\n",
       "  ),\n",
       "  Nat.Typ\n",
       ")"
      ]
     },
     "execution_count": 24,
     "metadata": {},
     "output_type": "execute_result"
    }
   ],
   "source": [
    "factorial(n)"
   ]
  },
  {
   "cell_type": "code",
   "execution_count": 25,
   "metadata": {
    "collapsed": false
   },
   "outputs": [
    {
     "data": {
      "text/plain": [
       "\u001b[36mg\u001b[39m: \u001b[32mFunc\u001b[39m[\u001b[32mRepTerm\u001b[39m[\u001b[32mSafeLong\u001b[39m], \u001b[32mLocalTerm\u001b[39m] = \u001b[33mLambdaFixed\u001b[39m(\n",
       "  \u001b[33mRepSymbObj\u001b[39m(k, Nat.Typ),\n",
       "  \u001b[33mRepSymbObj\u001b[39m(\n",
       "    \u001b[33mApplnSym\u001b[39m(\n",
       "      \u001b[33mRec\u001b[39m(\n",
       "        \u001b[33mRepSymbObj\u001b[39m(\u001b[33mScalaSymbol\u001b[39m(\u001b[33mSafeLongLong\u001b[39m(\u001b[32m1L\u001b[39m)), Nat.Typ),\n",
       "        \u001b[33mLambdaFixed\u001b[39m(\n",
       "          \u001b[33mRepSymbObj\u001b[39m(n, Nat.Typ),\n",
       "          \u001b[33mLambdaFixed\u001b[39m(\n",
       "            \u001b[33mRepSymbObj\u001b[39m($f, Nat.Typ),\n",
       "            \u001b[33mSigmaTerm\u001b[39m(\n",
       "              \u001b[33mSet\u001b[39m(\n",
       "                \u001b[33mRepSymbObj\u001b[39m($f, Nat.Typ),\n",
       "                \u001b[33mPiTerm\u001b[39m(\n",
       "                  \u001b[33mMap\u001b[39m(\u001b[33mRepSymbObj\u001b[39m($f, Nat.Typ) -> \u001b[32m1\u001b[39m, \u001b[33mRepSymbObj\u001b[39m(n, Nat.Typ) -> \u001b[32m1\u001b[39m)\n",
       "                )\n",
       "              )\n",
       "            )\n",
       "          )\n",
       "        )\n",
       "      ),\n",
       "      \u001b[33mPiTerm\u001b[39m(\u001b[33mMap\u001b[39m(\u001b[33mRepSymbObj\u001b[39m(k, Nat.Typ) -> \u001b[32m2\u001b[39m))\n",
       "    ),\n",
       "    Nat.Typ\n",
       "  )\n",
       ")"
      ]
     },
     "execution_count": 25,
     "metadata": {},
     "output_type": "execute_result"
    }
   ],
   "source": [
    "val g = lmbda(k)(factorial(k * k))"
   ]
  },
  {
   "cell_type": "code",
   "execution_count": 26,
   "metadata": {
    "collapsed": false
   },
   "outputs": [
    {
     "data": {
      "text/plain": [
       "\u001b[36mres25\u001b[39m: \u001b[32mLocalTerm\u001b[39m = \u001b[33mRepSymbObj\u001b[39m(\u001b[33mScalaSymbol\u001b[39m(\u001b[33mSafeLongLong\u001b[39m(\u001b[32m362880L\u001b[39m)), Nat.Typ)"
      ]
     },
     "execution_count": 26,
     "metadata": {},
     "output_type": "execute_result"
    }
   ],
   "source": [
    "g(3)"
   ]
  },
  {
   "cell_type": "code",
   "execution_count": 27,
   "metadata": {
    "collapsed": false
   },
   "outputs": [
    {
     "data": {
      "text/plain": [
       "\u001b[36mres26\u001b[39m: \u001b[32mLocalTerm\u001b[39m = \u001b[33mRepSymbObj\u001b[39m(\u001b[33mScalaSymbol\u001b[39m(\u001b[33mSafeLongLong\u001b[39m(\u001b[32m362880L\u001b[39m)), Nat.Typ)"
      ]
     },
     "execution_count": 27,
     "metadata": {},
     "output_type": "execute_result"
    }
   ],
   "source": [
    "factorial(9)"
   ]
  },
  {
   "cell_type": "markdown",
   "metadata": {},
   "source": [
    "### Simplifying recursive functions\n",
    "\n",
    "If we apply a recursive function to a sum n+k with k a literal (say k = 2), then the result simplifies as much as possible by expanding tail recursively in the literal."
   ]
  },
  {
   "cell_type": "code",
   "execution_count": 28,
   "metadata": {
    "collapsed": false
   },
   "outputs": [
    {
     "data": {
      "text/plain": [
       "\u001b[36mres27\u001b[39m: \u001b[32mLocalTerm\u001b[39m = \u001b[33mSigmaTerm\u001b[39m(\n",
       "  \u001b[33mSet\u001b[39m(\n",
       "    \u001b[33mRepSymbObj\u001b[39m(\n",
       "      \u001b[33mApplnSym\u001b[39m(\n",
       "        \u001b[33mRec\u001b[39m(\n",
       "          \u001b[33mRepSymbObj\u001b[39m(\u001b[33mScalaSymbol\u001b[39m(\u001b[33mSafeLongLong\u001b[39m(\u001b[32m1L\u001b[39m)), Nat.Typ),\n",
       "          \u001b[33mLambdaFixed\u001b[39m(\n",
       "            \u001b[33mRepSymbObj\u001b[39m(n, Nat.Typ),\n",
       "            \u001b[33mLambdaFixed\u001b[39m(\n",
       "              \u001b[33mRepSymbObj\u001b[39m($f, Nat.Typ),\n",
       "              \u001b[33mSigmaTerm\u001b[39m(\n",
       "                \u001b[33mSet\u001b[39m(\n",
       "                  \u001b[33mRepSymbObj\u001b[39m($f, Nat.Typ),\n",
       "                  \u001b[33mPiTerm\u001b[39m(\n",
       "                    \u001b[33mMap\u001b[39m(\n",
       "                      \u001b[33mRepSymbObj\u001b[39m($f, Nat.Typ) -> \u001b[32m1\u001b[39m,\n",
       "                      \u001b[33mRepSymbObj\u001b[39m(n, Nat.Typ) -> \u001b[32m1\u001b[39m\n",
       "                    )\n",
       "                  )\n",
       "                )\n",
       "              )\n",
       "            )\n",
       "          )\n",
       "        ),\n",
       "        \u001b[33mRepSymbObj\u001b[39m(\u001b[33mName\u001b[39m(\u001b[32m\"n\"\u001b[39m), Nat.Typ)\n",
       "      ),\n",
       "      Nat.Typ\n",
       "    ),\n",
       "    \u001b[33mPiTerm\u001b[39m(\n",
       "      \u001b[33mMap\u001b[39m(\n",
       "        \u001b[33mRepSymbObj\u001b[39m(\u001b[33mName\u001b[39m(\u001b[32m\"n\"\u001b[39m), Nat.Typ) -> \u001b[32m1\u001b[39m,\n",
       "        \u001b[33mRepSymbObj\u001b[39m(\n",
       "          \u001b[33mApplnSym\u001b[39m(\n",
       "            \u001b[33mRec\u001b[39m(\n",
       "              \u001b[33mRepSymbObj\u001b[39m(\u001b[33mScalaSymbol\u001b[39m(\u001b[33mSafeLongLong\u001b[39m(\u001b[32m1L\u001b[39m)), Nat.Typ),\n",
       "              \u001b[33mLambdaFixed\u001b[39m(\n",
       "                \u001b[33mRepSymbObj\u001b[39m(n, Nat.Typ),\n",
       "                \u001b[33mLambdaFixed\u001b[39m(\n",
       "                  \u001b[33mRepSymbObj\u001b[39m($f, Nat.Typ),\n",
       "..."
      ]
     },
     "execution_count": 28,
     "metadata": {},
     "output_type": "execute_result"
    }
   ],
   "source": [
    "factorial(n + 1)"
   ]
  },
  {
   "cell_type": "code",
   "execution_count": 29,
   "metadata": {
    "collapsed": false
   },
   "outputs": [
    {
     "data": {
      "text/plain": [
       "\u001b[36mfn\u001b[39m: \u001b[32mFunc\u001b[39m[\u001b[32mRepTerm\u001b[39m[\u001b[32mSafeLong\u001b[39m], \u001b[32mLocalTerm\u001b[39m] = \u001b[33mLambdaFixed\u001b[39m(\n",
       "  \u001b[33mRepSymbObj\u001b[39m(n, Nat.Typ),\n",
       "  \u001b[33mSigmaTerm\u001b[39m(\n",
       "    \u001b[33mSet\u001b[39m(\n",
       "      \u001b[33mRepSymbObj\u001b[39m(\n",
       "        \u001b[33mApplnSym\u001b[39m(\n",
       "          \u001b[33mRec\u001b[39m(\n",
       "            \u001b[33mRepSymbObj\u001b[39m(\u001b[33mScalaSymbol\u001b[39m(\u001b[33mSafeLongLong\u001b[39m(\u001b[32m1L\u001b[39m)), Nat.Typ),\n",
       "            \u001b[33mLambdaFixed\u001b[39m(\n",
       "              \u001b[33mRepSymbObj\u001b[39m(n, Nat.Typ),\n",
       "              \u001b[33mLambdaFixed\u001b[39m(\n",
       "                \u001b[33mRepSymbObj\u001b[39m($f, Nat.Typ),\n",
       "                \u001b[33mSigmaTerm\u001b[39m(\n",
       "                  \u001b[33mSet\u001b[39m(\n",
       "                    \u001b[33mRepSymbObj\u001b[39m($f, Nat.Typ),\n",
       "                    \u001b[33mPiTerm\u001b[39m(\n",
       "                      \u001b[33mMap\u001b[39m(\n",
       "                        \u001b[33mRepSymbObj\u001b[39m($f, Nat.Typ) -> \u001b[32m1\u001b[39m,\n",
       "                        \u001b[33mRepSymbObj\u001b[39m(n, Nat.Typ) -> \u001b[32m1\u001b[39m\n",
       "                      )\n",
       "                    )\n",
       "                  )\n",
       "                )\n",
       "              )\n",
       "            )\n",
       "          ),\n",
       "          \u001b[33mRepSymbObj\u001b[39m(n, Nat.Typ)\n",
       "        ),\n",
       "        Nat.Typ\n",
       "      ),\n",
       "      \u001b[33mPiTerm\u001b[39m(\n",
       "        \u001b[33mMap\u001b[39m(\n",
       "          \u001b[33mRepSymbObj\u001b[39m(n, Nat.Typ) -> \u001b[32m1\u001b[39m,\n",
       "          \u001b[33mRepSymbObj\u001b[39m(\n",
       "            \u001b[33mApplnSym\u001b[39m(\n",
       "              \u001b[33mRec\u001b[39m(\n",
       "                \u001b[33mRepSymbObj\u001b[39m(\u001b[33mScalaSymbol\u001b[39m(\u001b[33mSafeLongLong\u001b[39m(\u001b[32m1L\u001b[39m)), Nat.Typ),\n",
       "                \u001b[33mLambdaFixed\u001b[39m(\n",
       "                  \u001b[33mRepSymbObj\u001b[39m(n, Nat.Typ),\n",
       "..."
      ]
     },
     "execution_count": 29,
     "metadata": {},
     "output_type": "execute_result"
    }
   ],
   "source": [
    "val fn = lmbda(n)(factorial(n + 1))"
   ]
  },
  {
   "cell_type": "code",
   "execution_count": 30,
   "metadata": {
    "collapsed": false
   },
   "outputs": [
    {
     "data": {
      "text/plain": [
       "\u001b[36mres29\u001b[39m: \u001b[32mLocalTerm\u001b[39m = \u001b[33mRepSymbObj\u001b[39m(\u001b[33mScalaSymbol\u001b[39m(\u001b[33mSafeLongLong\u001b[39m(\u001b[32m2L\u001b[39m)), Nat.Typ)"
      ]
     },
     "execution_count": 30,
     "metadata": {},
     "output_type": "execute_result"
    }
   ],
   "source": [
    "fn(1)"
   ]
  },
  {
   "cell_type": "code",
   "execution_count": 31,
   "metadata": {
    "collapsed": false
   },
   "outputs": [
    {
     "data": {
      "text/plain": [
       "\u001b[36mres30\u001b[39m: \u001b[32mLocalTerm\u001b[39m = \u001b[33mRepSymbObj\u001b[39m(\u001b[33mScalaSymbol\u001b[39m(\u001b[33mSafeLongLong\u001b[39m(\u001b[32m120L\u001b[39m)), Nat.Typ)"
      ]
     },
     "execution_count": 31,
     "metadata": {},
     "output_type": "execute_result"
    }
   ],
   "source": [
    "fn(4)"
   ]
  },
  {
   "cell_type": "code",
   "execution_count": 32,
   "metadata": {
    "collapsed": false
   },
   "outputs": [
    {
     "data": {
      "text/plain": [
       "\u001b[36mres31\u001b[39m: \u001b[32mLocalTerm\u001b[39m = \u001b[33mRepSymbObj\u001b[39m(\n",
       "  \u001b[33mApplnSym\u001b[39m(\n",
       "    \u001b[33mAddLiteral\u001b[39m(\u001b[33mSafeLongLong\u001b[39m(\u001b[32m2L\u001b[39m)),\n",
       "    \u001b[33mSigmaTerm\u001b[39m(\n",
       "      \u001b[33mSet\u001b[39m(\n",
       "        \u001b[33mPiTerm\u001b[39m(\u001b[33mMap\u001b[39m(\u001b[33mRepSymbObj\u001b[39m(\u001b[33mName\u001b[39m(\u001b[32m\"n\"\u001b[39m), Nat.Typ) -> \u001b[32m2\u001b[39m)),\n",
       "        \u001b[33mRepSymbObj\u001b[39m(\n",
       "          \u001b[33mApplnSym\u001b[39m(\n",
       "            \u001b[33mmultLiteral\u001b[39m(\u001b[33mSafeLongLong\u001b[39m(\u001b[32m3L\u001b[39m)),\n",
       "            \u001b[33mRepSymbObj\u001b[39m(\u001b[33mName\u001b[39m(\u001b[32m\"n\"\u001b[39m), Nat.Typ)\n",
       "          ),\n",
       "          Nat.Typ\n",
       "        )\n",
       "      )\n",
       "    )\n",
       "  ),\n",
       "  Nat.Typ\n",
       ")"
      ]
     },
     "execution_count": 32,
     "metadata": {},
     "output_type": "execute_result"
    }
   ],
   "source": [
    "(n + 2) * (n + 1)"
   ]
  },
  {
   "cell_type": "code",
   "execution_count": 33,
   "metadata": {
    "collapsed": false
   },
   "outputs": [
    {
     "data": {
      "text/plain": [
       "\u001b[36mres32\u001b[39m: \u001b[32mLocalTerm\u001b[39m = \u001b[33mRepSymbObj\u001b[39m(\n",
       "  \u001b[33mApplnSym\u001b[39m(\n",
       "    \u001b[33mmultLiteral\u001b[39m(\u001b[33mSafeLongLong\u001b[39m(\u001b[32m3L\u001b[39m)),\n",
       "    \u001b[33mPiTerm\u001b[39m(\u001b[33mMap\u001b[39m(\u001b[33mRepSymbObj\u001b[39m(\u001b[33mName\u001b[39m(\u001b[32m\"n\"\u001b[39m), Nat.Typ) -> \u001b[32m2\u001b[39m))\n",
       "  ),\n",
       "  Nat.Typ\n",
       ")"
      ]
     },
     "execution_count": 33,
     "metadata": {},
     "output_type": "execute_result"
    }
   ],
   "source": [
    "(3 * n) * n"
   ]
  },
  {
   "cell_type": "code",
   "execution_count": 34,
   "metadata": {
    "collapsed": false
   },
   "outputs": [
    {
     "data": {
      "text/plain": [
       "\u001b[36mres33\u001b[39m: \u001b[32mLocalTerm\u001b[39m = \u001b[33mPiTerm\u001b[39m(\u001b[33mMap\u001b[39m(\u001b[33mRepSymbObj\u001b[39m(\u001b[33mName\u001b[39m(\u001b[32m\"n\"\u001b[39m), Nat.Typ) -> \u001b[32m3\u001b[39m))"
      ]
     },
     "execution_count": 34,
     "metadata": {},
     "output_type": "execute_result"
    }
   ],
   "source": [
    "n * (n * n)"
   ]
  },
  {
   "cell_type": "code",
   "execution_count": 35,
   "metadata": {
    "collapsed": false
   },
   "outputs": [
    {
     "data": {
      "text/plain": [
       "\u001b[36mres34\u001b[39m: \u001b[32mLocalTerm\u001b[39m = \u001b[33mPiTerm\u001b[39m(\n",
       "  \u001b[33mMap\u001b[39m(\u001b[33mRepSymbObj\u001b[39m(\u001b[33mName\u001b[39m(\u001b[32m\"n\"\u001b[39m), Nat.Typ) -> \u001b[32m1\u001b[39m, \u001b[33mRepSymbObj\u001b[39m(\u001b[33mName\u001b[39m(\u001b[32m\"k\"\u001b[39m), Nat.Typ) -> \u001b[32m2\u001b[39m)\n",
       ")"
      ]
     },
     "execution_count": 35,
     "metadata": {},
     "output_type": "execute_result"
    }
   ],
   "source": [
    "(n * k) * k"
   ]
  },
  {
   "cell_type": "code",
   "execution_count": 36,
   "metadata": {
    "collapsed": false
   },
   "outputs": [
    {
     "data": {
      "text/plain": [
       "\u001b[36mres35\u001b[39m: \u001b[32mLocalTerm\u001b[39m = \u001b[33mPiTerm\u001b[39m(\n",
       "  \u001b[33mMap\u001b[39m(\u001b[33mRepSymbObj\u001b[39m(\u001b[33mName\u001b[39m(\u001b[32m\"n\"\u001b[39m), Nat.Typ) -> \u001b[32m1\u001b[39m, \u001b[33mRepSymbObj\u001b[39m(\u001b[33mName\u001b[39m(\u001b[32m\"k\"\u001b[39m), Nat.Typ) -> \u001b[32m2\u001b[39m)\n",
       ")"
      ]
     },
     "execution_count": 36,
     "metadata": {},
     "output_type": "execute_result"
    }
   ],
   "source": [
    "k * (n * k)"
   ]
  },
  {
   "cell_type": "code",
   "execution_count": 37,
   "metadata": {
    "collapsed": false
   },
   "outputs": [
    {
     "data": {
      "text/plain": [
       "\u001b[36mres36\u001b[39m: \u001b[32mLocalTerm\u001b[39m = \u001b[33mPiTerm\u001b[39m(\u001b[33mMap\u001b[39m(\u001b[33mRepSymbObj\u001b[39m(\u001b[33mName\u001b[39m(\u001b[32m\"n\"\u001b[39m), Nat.Typ) -> \u001b[32m3\u001b[39m))"
      ]
     },
     "execution_count": 37,
     "metadata": {},
     "output_type": "execute_result"
    }
   ],
   "source": [
    "(n * n) * n"
   ]
  },
  {
   "cell_type": "code",
   "execution_count": 38,
   "metadata": {
    "collapsed": false
   },
   "outputs": [
    {
     "data": {
      "text/plain": [
       "\u001b[36mres37\u001b[39m: \u001b[32mLocalTerm\u001b[39m = \u001b[33mSigmaTerm\u001b[39m(\n",
       "  \u001b[33mSet\u001b[39m(\n",
       "    \u001b[33mRepSymbObj\u001b[39m(\n",
       "      \u001b[33mApplnSym\u001b[39m(\n",
       "        \u001b[33mmultLiteral\u001b[39m(\u001b[33mSafeLongLong\u001b[39m(\u001b[32m2L\u001b[39m)),\n",
       "        \u001b[33mRepSymbObj\u001b[39m(\n",
       "          \u001b[33mApplnSym\u001b[39m(\n",
       "            \u001b[33mRec\u001b[39m(\n",
       "              \u001b[33mRepSymbObj\u001b[39m(\u001b[33mScalaSymbol\u001b[39m(\u001b[33mSafeLongLong\u001b[39m(\u001b[32m1L\u001b[39m)), Nat.Typ),\n",
       "              \u001b[33mLambdaFixed\u001b[39m(\n",
       "                \u001b[33mRepSymbObj\u001b[39m(n, Nat.Typ),\n",
       "                \u001b[33mLambdaFixed\u001b[39m(\n",
       "                  \u001b[33mRepSymbObj\u001b[39m($f, Nat.Typ),\n",
       "                  \u001b[33mSigmaTerm\u001b[39m(\n",
       "                    \u001b[33mSet\u001b[39m(\n",
       "                      \u001b[33mRepSymbObj\u001b[39m($f, Nat.Typ),\n",
       "                      \u001b[33mPiTerm\u001b[39m(\n",
       "                        \u001b[33mMap\u001b[39m(\n",
       "                          \u001b[33mRepSymbObj\u001b[39m($f, Nat.Typ) -> \u001b[32m1\u001b[39m,\n",
       "                          \u001b[33mRepSymbObj\u001b[39m(n, Nat.Typ) -> \u001b[32m1\u001b[39m\n",
       "                        )\n",
       "                      )\n",
       "                    )\n",
       "                  )\n",
       "                )\n",
       "              )\n",
       "            ),\n",
       "            \u001b[33mRepSymbObj\u001b[39m(\u001b[33mName\u001b[39m(\u001b[32m\"n\"\u001b[39m), Nat.Typ)\n",
       "          ),\n",
       "          Nat.Typ\n",
       "        )\n",
       "      ),\n",
       "      Nat.Typ\n",
       "    ),\n",
       "    \u001b[33mPiTerm\u001b[39m(\n",
       "      \u001b[33mMap\u001b[39m(\n",
       "        \u001b[33mRepSymbObj\u001b[39m(\u001b[33mName\u001b[39m(\u001b[32m\"n\"\u001b[39m), Nat.Typ) -> \u001b[32m2\u001b[39m,\n",
       "        \u001b[33mRepSymbObj\u001b[39m(\n",
       "          \u001b[33mApplnSym\u001b[39m(\n",
       "..."
      ]
     },
     "execution_count": 38,
     "metadata": {},
     "output_type": "execute_result"
    }
   ],
   "source": [
    "factorial(n + 2)"
   ]
  },
  {
   "cell_type": "markdown",
   "metadata": {},
   "source": [
    "**Recursive expansion:** We see an example of expansion as much as possible."
   ]
  },
  {
   "cell_type": "code",
   "execution_count": 39,
   "metadata": {
    "collapsed": false
   },
   "outputs": [
    {
     "data": {
      "text/plain": [
       "\u001b[36mfunc\u001b[39m: \u001b[32mFunc\u001b[39m[\u001b[32mRepTerm\u001b[39m[\u001b[32mSafeLong\u001b[39m], \u001b[32mLocalTerm\u001b[39m] = \u001b[33mLambdaFixed\u001b[39m(\n",
       "  \u001b[33mRepSymbObj\u001b[39m(n, Nat.Typ),\n",
       "  \u001b[33mSigmaTerm\u001b[39m(\n",
       "    \u001b[33mSet\u001b[39m(\n",
       "      \u001b[33mPiTerm\u001b[39m(\n",
       "        \u001b[33mMap\u001b[39m(\n",
       "          \u001b[33mRepSymbObj\u001b[39m(n, Nat.Typ) -> \u001b[32m2\u001b[39m,\n",
       "          \u001b[33mRepSymbObj\u001b[39m(\n",
       "            \u001b[33mApplnSym\u001b[39m(\n",
       "              \u001b[33mRec\u001b[39m(\n",
       "                \u001b[33mRepSymbObj\u001b[39m(\u001b[33mScalaSymbol\u001b[39m(\u001b[33mSafeLongLong\u001b[39m(\u001b[32m1L\u001b[39m)), Nat.Typ),\n",
       "                \u001b[33mLambdaFixed\u001b[39m(\n",
       "                  \u001b[33mRepSymbObj\u001b[39m(n, Nat.Typ),\n",
       "                  \u001b[33mLambdaFixed\u001b[39m(\n",
       "                    \u001b[33mRepSymbObj\u001b[39m($f, Nat.Typ),\n",
       "                    \u001b[33mSigmaTerm\u001b[39m(\n",
       "                      \u001b[33mSet\u001b[39m(\n",
       "                        \u001b[33mRepSymbObj\u001b[39m($f, Nat.Typ),\n",
       "                        \u001b[33mPiTerm\u001b[39m(\n",
       "                          \u001b[33mMap\u001b[39m(\n",
       "                            \u001b[33mRepSymbObj\u001b[39m($f, Nat.Typ) -> \u001b[32m1\u001b[39m,\n",
       "                            \u001b[33mRepSymbObj\u001b[39m(n, Nat.Typ) -> \u001b[32m1\u001b[39m\n",
       "                          )\n",
       "                        )\n",
       "                      )\n",
       "                    )\n",
       "                  )\n",
       "                )\n",
       "              ),\n",
       "              \u001b[33mRepSymbObj\u001b[39m(n, Nat.Typ)\n",
       "            ),\n",
       "            Nat.Typ\n",
       "          ) -> \u001b[32m1\u001b[39m\n",
       "        )\n",
       "      ),\n",
       "      \u001b[33mRepSymbObj\u001b[39m(\n",
       "        \u001b[33mApplnSym\u001b[39m(\n",
       "          \u001b[33mmultLiteral\u001b[39m(\u001b[33mSafeLongLong\u001b[39m(\u001b[32m3L\u001b[39m)),\n",
       "          \u001b[33mPiTerm\u001b[39m(\n",
       "...\n",
       "\u001b[36mres38_1\u001b[39m: \u001b[32mLocalTerm\u001b[39m = \u001b[33mRepSymbObj\u001b[39m(\u001b[33mScalaSymbol\u001b[39m(\u001b[33mSafeLongLong\u001b[39m(\u001b[32m120L\u001b[39m)), Nat.Typ)"
      ]
     },
     "execution_count": 39,
     "metadata": {},
     "output_type": "execute_result"
    }
   ],
   "source": [
    "val func = lmbda(n)(factorial(n+ 2))\n",
    "func(3)"
   ]
  },
  {
   "cell_type": "code",
   "execution_count": 40,
   "metadata": {
    "collapsed": false
   },
   "outputs": [
    {
     "data": {
      "text/plain": [
       "\u001b[36mres39\u001b[39m: \u001b[32mBoolean\u001b[39m = true"
      ]
     },
     "execution_count": 40,
     "metadata": {},
     "output_type": "execute_result"
    }
   ],
   "source": [
    "func(k) == factorial(k) * (k + 2) * (k + 1)"
   ]
  },
  {
   "cell_type": "code",
   "execution_count": 41,
   "metadata": {
    "collapsed": false
   },
   "outputs": [
    {
     "data": {
      "text/plain": [
       "\u001b[36mres40\u001b[39m: \u001b[32mInt\u001b[39m = \u001b[32m3\u001b[39m"
      ]
     },
     "execution_count": 41,
     "metadata": {},
     "output_type": "execute_result"
    }
   ],
   "source": [
    "1 + 2"
   ]
  },
  {
   "cell_type": "code",
   "execution_count": null,
   "metadata": {
    "collapsed": true
   },
   "outputs": [],
   "source": []
  }
 ],
 "metadata": {
  "kernelspec": {
   "display_name": "Scala",
   "language": "scala",
   "name": "scala"
  },
  "language_info": {
   "codemirror_mode": "text/x-scala",
   "file_extension": ".scala",
   "mimetype": "text/x-scala",
   "name": "scala",
   "nbconvert_exporter": "script",
   "version": "2.12.8"
  }
 },
 "nbformat": 4,
 "nbformat_minor": 2
}
