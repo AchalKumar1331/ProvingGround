{
 "cells": [
  {
   "cell_type": "code",
   "execution_count": 1,
   "metadata": {
    "collapsed": false
   },
   "outputs": [
    {
     "data": {
      "text/plain": [
       "\u001b[32mimport \u001b[39m\u001b[36m$ivy.$                                                                   \u001b[39m"
      ]
     },
     "execution_count": 1,
     "metadata": {},
     "output_type": "execute_result"
    }
   ],
   "source": [
    "import $ivy.`io.github.siddhartha-gadgil::provingground-core-jvm:0.1.1-SNAPSHOT`"
   ]
  },
  {
   "cell_type": "markdown",
   "metadata": {},
   "source": [
    "## Symbolic Algebra for natural numbers\n",
    "\n",
    "To efficiently manipulate expressions in natural numbers, or more generally rings (and fields), proving-ground has special HoTT types wrapping scala types that are Rings, Rigs, Fields etc in the _spire_ library. As a consequence:\n",
    "\n",
    "* Symbolic expressions that are equal become _definitionally_ equal, i.e., equal as scala objects.\n",
    "* We define recursion which expands for (sums with) literals\n",
    "* Expressions involving literals and variables are simplified as much as possible.\n"
   ]
  },
  {
   "cell_type": "markdown",
   "metadata": {},
   "source": [
    "The ring of natural numbers is an object NatRing. This has\n",
    "\n",
    "* a HoTT type _NatTyp_, \n",
    "* a scala type _Nat_\n",
    "* a scala representation\n",
    "* a (spire) ring structure on the underlying terms."
   ]
  },
  {
   "cell_type": "code",
   "execution_count": 2,
   "metadata": {
    "collapsed": false
   },
   "outputs": [
    {
     "data": {
      "text/plain": [
       "\u001b[32mimport \u001b[39m\u001b[36mprovingground._, induction._, scalahott._\n",
       "\u001b[39m\n",
       "\u001b[32mimport \u001b[39m\u001b[36mNatRing._\u001b[39m"
      ]
     },
     "execution_count": 2,
     "metadata": {},
     "output_type": "execute_result"
    }
   ],
   "source": [
    "import provingground._, induction._, scalahott._\n",
    "import NatRing._"
   ]
  },
  {
   "cell_type": "code",
   "execution_count": 3,
   "metadata": {
    "collapsed": false
   },
   "outputs": [
    {
     "data": {
      "text/plain": [
       "\u001b[36mn\u001b[39m: \u001b[32mRepTerm\u001b[39m[\u001b[32mspire\u001b[39m.\u001b[32mmath\u001b[39m.\u001b[32mSafeLong\u001b[39m] = \u001b[33mRepSymbObj\u001b[39m(\u001b[33mName\u001b[39m(\u001b[32m\"n\"\u001b[39m), Nat.Typ)\n",
       "\u001b[36mm\u001b[39m: \u001b[32mRepTerm\u001b[39m[\u001b[32mspire\u001b[39m.\u001b[32mmath\u001b[39m.\u001b[32mSafeLong\u001b[39m] = \u001b[33mRepSymbObj\u001b[39m(\u001b[33mName\u001b[39m(\u001b[32m\"m\"\u001b[39m), Nat.Typ)\n",
       "\u001b[36mk\u001b[39m: \u001b[32mRepTerm\u001b[39m[\u001b[32mspire\u001b[39m.\u001b[32mmath\u001b[39m.\u001b[32mSafeLong\u001b[39m] = \u001b[33mRepSymbObj\u001b[39m(\u001b[33mName\u001b[39m(\u001b[32m\"k\"\u001b[39m), Nat.Typ)"
      ]
     },
     "execution_count": 3,
     "metadata": {},
     "output_type": "execute_result"
    }
   ],
   "source": [
    "val n = \"n\" :: NatTyp\n",
    "val m = \"m\" :: NatTyp\n",
    "val k = \"k\" :: NatTyp"
   ]
  },
  {
   "cell_type": "markdown",
   "metadata": {},
   "source": [
    "Spire implicits let us use the addition and multiplication operations."
   ]
  },
  {
   "cell_type": "code",
   "execution_count": 4,
   "metadata": {
    "collapsed": false
   },
   "outputs": [
    {
     "data": {
      "text/plain": [
       "\u001b[32mimport \u001b[39m\u001b[36mspire.math._\n",
       "\u001b[39m\n",
       "\u001b[32mimport \u001b[39m\u001b[36mspire.algebra._\n",
       "\u001b[39m\n",
       "\u001b[32mimport \u001b[39m\u001b[36mspire.implicits._\u001b[39m"
      ]
     },
     "execution_count": 4,
     "metadata": {},
     "output_type": "execute_result"
    }
   ],
   "source": [
    "import spire.math._\n",
    "import spire.algebra._\n",
    "import spire.implicits._"
   ]
  },
  {
   "cell_type": "markdown",
   "metadata": {},
   "source": [
    "### Addition and multiplication\n",
    "\n",
    "A sum gives a SigmaTerm, which only stores  a set of terms being added."
   ]
  },
  {
   "cell_type": "code",
   "execution_count": 5,
   "metadata": {
    "collapsed": false
   },
   "outputs": [
    {
     "data": {
      "text/plain": [
       "\u001b[36mres4\u001b[39m: \u001b[32mLocalTerm\u001b[39m = \u001b[33mSigmaTerm\u001b[39m(\n",
       "  \u001b[33mSet\u001b[39m(\u001b[33mRepSymbObj\u001b[39m(\u001b[33mName\u001b[39m(\u001b[32m\"n\"\u001b[39m), Nat.Typ), \u001b[33mRepSymbObj\u001b[39m(\u001b[33mName\u001b[39m(\u001b[32m\"m\"\u001b[39m), Nat.Typ))\n",
       ")"
      ]
     },
     "execution_count": 5,
     "metadata": {},
     "output_type": "execute_result"
    }
   ],
   "source": [
    "n + m"
   ]
  },
  {
   "cell_type": "code",
   "execution_count": 6,
   "metadata": {
    "collapsed": false
   },
   "outputs": [
    {
     "data": {
      "text/plain": [
       "\u001b[36mres5\u001b[39m: \u001b[32mLocalTerm\u001b[39m = \u001b[33mSigmaTerm\u001b[39m(\n",
       "  \u001b[33mSet\u001b[39m(\n",
       "    \u001b[33mRepSymbObj\u001b[39m(\u001b[33mName\u001b[39m(\u001b[32m\"m\"\u001b[39m), Nat.Typ),\n",
       "    \u001b[33mRepSymbObj\u001b[39m(\n",
       "      \u001b[33mApplnSym\u001b[39m(\u001b[33mmultLiteral\u001b[39m(\u001b[33mSafeLongLong\u001b[39m(\u001b[32m2L\u001b[39m)), \u001b[33mRepSymbObj\u001b[39m(\u001b[33mName\u001b[39m(\u001b[32m\"n\"\u001b[39m), Nat.Typ)),\n",
       "      Nat.Typ\n",
       "    )\n",
       "  )\n",
       ")"
      ]
     },
     "execution_count": 6,
     "metadata": {},
     "output_type": "execute_result"
    }
   ],
   "source": [
    "(n + m) + n"
   ]
  },
  {
   "cell_type": "markdown",
   "metadata": {},
   "source": [
    "Addition is commutative and associative, even when it involves repeated terms."
   ]
  },
  {
   "cell_type": "code",
   "execution_count": 7,
   "metadata": {
    "collapsed": false
   },
   "outputs": [
    {
     "data": {
      "text/plain": [
       "\u001b[36mres6_0\u001b[39m: \u001b[32mBoolean\u001b[39m = true\n",
       "\u001b[36mres6_1\u001b[39m: \u001b[32mBoolean\u001b[39m = true"
      ]
     },
     "execution_count": 7,
     "metadata": {},
     "output_type": "execute_result"
    }
   ],
   "source": [
    "n + m == m + n\n",
    "(n + m) + k == n + (m + k)"
   ]
  },
  {
   "cell_type": "code",
   "execution_count": 8,
   "metadata": {
    "collapsed": false
   },
   "outputs": [
    {
     "data": {
      "text/plain": [
       "\u001b[36mres7\u001b[39m: \u001b[32mBoolean\u001b[39m = true"
      ]
     },
     "execution_count": 8,
     "metadata": {},
     "output_type": "execute_result"
    }
   ],
   "source": [
    "(n + n) + m == (n + m) + n"
   ]
  },
  {
   "cell_type": "markdown",
   "metadata": {},
   "source": [
    "Similarly, multiplication is commutative and associative, and  distributes over addition. Multiplication gives Pi-terms with parameter a map to exponents."
   ]
  },
  {
   "cell_type": "code",
   "execution_count": 9,
   "metadata": {
    "collapsed": false
   },
   "outputs": [
    {
     "data": {
      "text/plain": [
       "\u001b[36mres8\u001b[39m: \u001b[32mBoolean\u001b[39m = true"
      ]
     },
     "execution_count": 9,
     "metadata": {},
     "output_type": "execute_result"
    }
   ],
   "source": [
    "n * m == m * n"
   ]
  },
  {
   "cell_type": "code",
   "execution_count": 10,
   "metadata": {
    "collapsed": false
   },
   "outputs": [
    {
     "data": {
      "text/plain": [
       "\u001b[36mres9\u001b[39m: \u001b[32mLocalTerm\u001b[39m = \u001b[33mPiTerm\u001b[39m(\n",
       "  \u001b[33mMap\u001b[39m(\n",
       "    \u001b[33mRepSymbObj\u001b[39m(\u001b[33mName\u001b[39m(\u001b[32m\"k\"\u001b[39m), Nat.Typ) -> \u001b[32m1\u001b[39m,\n",
       "    \u001b[33mRepSymbObj\u001b[39m(\u001b[33mName\u001b[39m(\u001b[32m\"n\"\u001b[39m), Nat.Typ) -> \u001b[32m1\u001b[39m,\n",
       "    \u001b[33mRepSymbObj\u001b[39m(\u001b[33mName\u001b[39m(\u001b[32m\"m\"\u001b[39m), Nat.Typ) -> \u001b[32m1\u001b[39m\n",
       "  )\n",
       ")"
      ]
     },
     "execution_count": 10,
     "metadata": {},
     "output_type": "execute_result"
    }
   ],
   "source": [
    "n * (m * k)"
   ]
  },
  {
   "cell_type": "code",
   "execution_count": 11,
   "metadata": {
    "collapsed": false
   },
   "outputs": [
    {
     "data": {
      "text/plain": [
       "\u001b[36mres10\u001b[39m: \u001b[32mLocalTerm\u001b[39m = \u001b[33mPiTerm\u001b[39m(\n",
       "  \u001b[33mMap\u001b[39m(\n",
       "    \u001b[33mRepSymbObj\u001b[39m(\u001b[33mName\u001b[39m(\u001b[32m\"k\"\u001b[39m), Nat.Typ) -> \u001b[32m1\u001b[39m,\n",
       "    \u001b[33mRepSymbObj\u001b[39m(\u001b[33mName\u001b[39m(\u001b[32m\"n\"\u001b[39m), Nat.Typ) -> \u001b[32m1\u001b[39m,\n",
       "    \u001b[33mRepSymbObj\u001b[39m(\u001b[33mName\u001b[39m(\u001b[32m\"m\"\u001b[39m), Nat.Typ) -> \u001b[32m1\u001b[39m\n",
       "  )\n",
       ")"
      ]
     },
     "execution_count": 11,
     "metadata": {},
     "output_type": "execute_result"
    }
   ],
   "source": [
    "(n * m) * k"
   ]
  },
  {
   "cell_type": "code",
   "execution_count": 12,
   "metadata": {
    "collapsed": false
   },
   "outputs": [
    {
     "data": {
      "text/plain": [
       "\u001b[36mres11\u001b[39m: \u001b[32mLocalTerm\u001b[39m = \u001b[33mSigmaTerm\u001b[39m(\n",
       "  \u001b[33mSet\u001b[39m(\n",
       "    \u001b[33mPiTerm\u001b[39m(\n",
       "      \u001b[33mMap\u001b[39m(\n",
       "        \u001b[33mRepSymbObj\u001b[39m(\u001b[33mName\u001b[39m(\u001b[32m\"n\"\u001b[39m), Nat.Typ) -> \u001b[32m1\u001b[39m,\n",
       "        \u001b[33mRepSymbObj\u001b[39m(\u001b[33mName\u001b[39m(\u001b[32m\"m\"\u001b[39m), Nat.Typ) -> \u001b[32m1\u001b[39m\n",
       "      )\n",
       "    ),\n",
       "    \u001b[33mPiTerm\u001b[39m(\n",
       "      \u001b[33mMap\u001b[39m(\n",
       "        \u001b[33mRepSymbObj\u001b[39m(\u001b[33mName\u001b[39m(\u001b[32m\"k\"\u001b[39m), Nat.Typ) -> \u001b[32m1\u001b[39m,\n",
       "        \u001b[33mRepSymbObj\u001b[39m(\u001b[33mName\u001b[39m(\u001b[32m\"n\"\u001b[39m), Nat.Typ) -> \u001b[32m1\u001b[39m\n",
       "      )\n",
       "    )\n",
       "  )\n",
       ")"
      ]
     },
     "execution_count": 12,
     "metadata": {},
     "output_type": "execute_result"
    }
   ],
   "source": [
    "n * (m + k)"
   ]
  },
  {
   "cell_type": "code",
   "execution_count": 13,
   "metadata": {
    "collapsed": false
   },
   "outputs": [
    {
     "data": {
      "text/plain": [
       "\u001b[36mres12\u001b[39m: \u001b[32mBoolean\u001b[39m = true"
      ]
     },
     "execution_count": 13,
     "metadata": {},
     "output_type": "execute_result"
    }
   ],
   "source": [
    "n *(m + k) == (n * m) + (n * k)"
   ]
  },
  {
   "cell_type": "code",
   "execution_count": 14,
   "metadata": {
    "collapsed": false
   },
   "outputs": [
    {
     "data": {
      "text/plain": [
       "\u001b[36mres13\u001b[39m: \u001b[32mLocalTerm\u001b[39m = \u001b[33mRepSymbObj\u001b[39m(\n",
       "  \u001b[33mApplnSym\u001b[39m(\u001b[33mAddLiteral\u001b[39m(\u001b[33mSafeLongLong\u001b[39m(\u001b[32m1L\u001b[39m)), \u001b[33mRepSymbObj\u001b[39m(\u001b[33mName\u001b[39m(\u001b[32m\"n\"\u001b[39m), Nat.Typ)),\n",
       "  Nat.Typ\n",
       ")"
      ]
     },
     "execution_count": 14,
     "metadata": {},
     "output_type": "execute_result"
    }
   ],
   "source": [
    "n + 1"
   ]
  },
  {
   "cell_type": "code",
   "execution_count": 15,
   "metadata": {
    "collapsed": false
   },
   "outputs": [
    {
     "data": {
      "text/plain": [
       "\u001b[36mres14\u001b[39m: \u001b[32mRepTerm\u001b[39m[\u001b[32mSafeLong\u001b[39m] = \u001b[33mRepSymbObj\u001b[39m(\n",
       "  \u001b[33mApplnSym\u001b[39m(\u001b[33mAddLiteral\u001b[39m(\u001b[33mSafeLongLong\u001b[39m(\u001b[32m1L\u001b[39m)), \u001b[33mRepSymbObj\u001b[39m(\u001b[33mName\u001b[39m(\u001b[32m\"n\"\u001b[39m), Nat.Typ)),\n",
       "  Nat.Typ\n",
       ")"
      ]
     },
     "execution_count": 15,
     "metadata": {},
     "output_type": "execute_result"
    }
   ],
   "source": [
    "1 + n"
   ]
  },
  {
   "cell_type": "code",
   "execution_count": 16,
   "metadata": {
    "collapsed": false
   },
   "outputs": [
    {
     "data": {
      "text/plain": [
       "\u001b[36mres15\u001b[39m: \u001b[32mLocalTerm\u001b[39m = \u001b[33mRepSymbObj\u001b[39m(\n",
       "  \u001b[33mApplnSym\u001b[39m(\u001b[33mAddLiteral\u001b[39m(\u001b[33mSafeLongLong\u001b[39m(\u001b[32m3L\u001b[39m)), \u001b[33mRepSymbObj\u001b[39m(\u001b[33mName\u001b[39m(\u001b[32m\"n\"\u001b[39m), Nat.Typ)),\n",
       "  Nat.Typ\n",
       ")"
      ]
     },
     "execution_count": 16,
     "metadata": {},
     "output_type": "execute_result"
    }
   ],
   "source": [
    "(1 + n) + 2"
   ]
  },
  {
   "cell_type": "code",
   "execution_count": 17,
   "metadata": {
    "collapsed": false
   },
   "outputs": [
    {
     "data": {
      "text/plain": [
       "\u001b[36mres16\u001b[39m: \u001b[32mLocalTerm\u001b[39m = \u001b[33mPiTerm\u001b[39m(\u001b[33mMap\u001b[39m(\u001b[33mRepSymbObj\u001b[39m(\u001b[33mName\u001b[39m(\u001b[32m\"n\"\u001b[39m), Nat.Typ) -> \u001b[32m2\u001b[39m))"
      ]
     },
     "execution_count": 17,
     "metadata": {},
     "output_type": "execute_result"
    }
   ],
   "source": [
    "n * n"
   ]
  },
  {
   "cell_type": "markdown",
   "metadata": {},
   "source": [
    "### Symbolic definitions\n",
    "\n",
    "We can use the expressions from these functions in lambdas. For this we need correct substitution."
   ]
  },
  {
   "cell_type": "code",
   "execution_count": 18,
   "metadata": {
    "collapsed": false
   },
   "outputs": [
    {
     "data": {
      "text/plain": [
       "\u001b[32mimport \u001b[39m\u001b[36mHoTT._\n",
       "\u001b[39m\n",
       "\u001b[36mfn\u001b[39m: \u001b[32mFunc\u001b[39m[\u001b[32mRepTerm\u001b[39m[\u001b[32mSafeLong\u001b[39m], \u001b[32mLocalTerm\u001b[39m] = \u001b[33mLambdaFixed\u001b[39m(\n",
       "  \u001b[33mRepSymbObj\u001b[39m(n, Nat.Typ),\n",
       "  \u001b[33mPiTerm\u001b[39m(\u001b[33mMap\u001b[39m(\u001b[33mRepSymbObj\u001b[39m(n, Nat.Typ) -> \u001b[32m2\u001b[39m))\n",
       ")"
      ]
     },
     "execution_count": 18,
     "metadata": {},
     "output_type": "execute_result"
    }
   ],
   "source": [
    "import HoTT._\n",
    "val fn = lmbda(n)(n * n)"
   ]
  },
  {
   "cell_type": "code",
   "execution_count": 19,
   "metadata": {
    "collapsed": false
   },
   "outputs": [
    {
     "data": {
      "text/plain": [
       "\u001b[36mres18\u001b[39m: \u001b[32mLocalTerm\u001b[39m = \u001b[33mRepSymbObj\u001b[39m(\u001b[33mScalaSymbol\u001b[39m(\u001b[33mSafeLongLong\u001b[39m(\u001b[32m9L\u001b[39m)), Nat.Typ)"
      ]
     },
     "execution_count": 19,
     "metadata": {},
     "output_type": "execute_result"
    }
   ],
   "source": [
    "fn(3)"
   ]
  },
  {
   "cell_type": "code",
   "execution_count": 20,
   "metadata": {
    "collapsed": false
   },
   "outputs": [
    {
     "data": {
      "text/plain": [
       "\u001b[36mres19\u001b[39m: \u001b[32mLocalTerm\u001b[39m = \u001b[33mPiTerm\u001b[39m(\u001b[33mMap\u001b[39m(\u001b[33mRepSymbObj\u001b[39m(\u001b[33mName\u001b[39m(\u001b[32m\"k\"\u001b[39m), Nat.Typ) -> \u001b[32m2\u001b[39m))"
      ]
     },
     "execution_count": 20,
     "metadata": {},
     "output_type": "execute_result"
    }
   ],
   "source": [
    "fn(k)"
   ]
  },
  {
   "cell_type": "markdown",
   "metadata": {},
   "source": [
    "### Recursive definitions\n",
    "\n",
    "We can define a function f recursively on natural numbers, given the value f(0) and given f(n+1) as a (curryed) function of (n+1) and f(n). This expands  for literals."
   ]
  },
  {
   "cell_type": "code",
   "execution_count": 21,
   "metadata": {
    "collapsed": false
   },
   "outputs": [
    {
     "data": {
      "text/plain": [
       "\u001b[36mm\u001b[39m: \u001b[32mFunc\u001b[39m[\u001b[32mRepTerm\u001b[39m[\u001b[32mSafeLong\u001b[39m], \u001b[32mFunc\u001b[39m[\u001b[32mLocalTerm\u001b[39m, \u001b[32mLocalTerm\u001b[39m]] = \u001b[33mLambdaFixed\u001b[39m(\n",
       "  \u001b[33mRepSymbObj\u001b[39m(n, Nat.Typ),\n",
       "  \u001b[33mLambdaFixed\u001b[39m(\n",
       "    \u001b[33mRepSymbObj\u001b[39m($n, Nat.Typ),\n",
       "    \u001b[33mSigmaTerm\u001b[39m(\n",
       "      \u001b[33mSet\u001b[39m(\n",
       "        \u001b[33mRepSymbObj\u001b[39m($n, Nat.Typ),\n",
       "        \u001b[33mPiTerm\u001b[39m(\u001b[33mMap\u001b[39m(\u001b[33mRepSymbObj\u001b[39m($n, Nat.Typ) -> \u001b[32m1\u001b[39m, \u001b[33mRepSymbObj\u001b[39m(n, Nat.Typ) -> \u001b[32m1\u001b[39m))\n",
       "      )\n",
       "    )\n",
       "  )\n",
       ")\n",
       "\u001b[36mfactorial\u001b[39m: \u001b[32mRec\u001b[39m[\u001b[32mLocalTerm\u001b[39m] = \u001b[33mRec\u001b[39m(\n",
       "  \u001b[33mRepSymbObj\u001b[39m(\u001b[33mScalaSymbol\u001b[39m(\u001b[33mSafeLongLong\u001b[39m(\u001b[32m1L\u001b[39m)), Nat.Typ),\n",
       "  \u001b[33mLambdaFixed\u001b[39m(\n",
       "    \u001b[33mRepSymbObj\u001b[39m(n, Nat.Typ),\n",
       "    \u001b[33mLambdaFixed\u001b[39m(\n",
       "      \u001b[33mRepSymbObj\u001b[39m($n, Nat.Typ),\n",
       "      \u001b[33mSigmaTerm\u001b[39m(\n",
       "        \u001b[33mSet\u001b[39m(\n",
       "          \u001b[33mRepSymbObj\u001b[39m($n, Nat.Typ),\n",
       "          \u001b[33mPiTerm\u001b[39m(\u001b[33mMap\u001b[39m(\u001b[33mRepSymbObj\u001b[39m($n, Nat.Typ) -> \u001b[32m1\u001b[39m, \u001b[33mRepSymbObj\u001b[39m(n, Nat.Typ) -> \u001b[32m1\u001b[39m))\n",
       "        )\n",
       "      )\n",
       "    )\n",
       "  )\n",
       ")"
      ]
     },
     "execution_count": 21,
     "metadata": {},
     "output_type": "execute_result"
    }
   ],
   "source": [
    "val m = lmbda(n)(prod(n + 1))\n",
    "val factorial = Rec(1: Nat, m)"
   ]
  },
  {
   "cell_type": "code",
   "execution_count": 22,
   "metadata": {
    "collapsed": false
   },
   "outputs": [
    {
     "data": {
      "text/plain": [
       "\u001b[36mres21\u001b[39m: \u001b[32mLocalTerm\u001b[39m = \u001b[33mRepSymbObj\u001b[39m(\u001b[33mScalaSymbol\u001b[39m(\u001b[33mSafeLongLong\u001b[39m(\u001b[32m6L\u001b[39m)), Nat.Typ)"
      ]
     },
     "execution_count": 22,
     "metadata": {},
     "output_type": "execute_result"
    }
   ],
   "source": [
    "factorial(3)"
   ]
  },
  {
   "cell_type": "code",
   "execution_count": 23,
   "metadata": {
    "collapsed": false
   },
   "outputs": [
    {
     "data": {
      "text/plain": [
       "\u001b[36mres22\u001b[39m: \u001b[32mLocalTerm\u001b[39m = \u001b[33mRepSymbObj\u001b[39m(\u001b[33mScalaSymbol\u001b[39m(\u001b[33mSafeLongLong\u001b[39m(\u001b[32m120L\u001b[39m)), Nat.Typ)"
      ]
     },
     "execution_count": 23,
     "metadata": {},
     "output_type": "execute_result"
    }
   ],
   "source": [
    "factorial(5)"
   ]
  },
  {
   "cell_type": "code",
   "execution_count": 24,
   "metadata": {
    "collapsed": false
   },
   "outputs": [
    {
     "data": {
      "text/plain": [
       "\u001b[36mres23\u001b[39m: \u001b[32mLocalTerm\u001b[39m = \u001b[33mRepSymbObj\u001b[39m(\n",
       "  \u001b[33mApplnSym\u001b[39m(\n",
       "    \u001b[33mRec\u001b[39m(\n",
       "      \u001b[33mRepSymbObj\u001b[39m(\u001b[33mScalaSymbol\u001b[39m(\u001b[33mSafeLongLong\u001b[39m(\u001b[32m1L\u001b[39m)), Nat.Typ),\n",
       "      \u001b[33mLambdaFixed\u001b[39m(\n",
       "        \u001b[33mRepSymbObj\u001b[39m(n, Nat.Typ),\n",
       "        \u001b[33mLambdaFixed\u001b[39m(\n",
       "          \u001b[33mRepSymbObj\u001b[39m($n, Nat.Typ),\n",
       "          \u001b[33mSigmaTerm\u001b[39m(\n",
       "            \u001b[33mSet\u001b[39m(\n",
       "              \u001b[33mRepSymbObj\u001b[39m($n, Nat.Typ),\n",
       "              \u001b[33mPiTerm\u001b[39m(\n",
       "                \u001b[33mMap\u001b[39m(\u001b[33mRepSymbObj\u001b[39m($n, Nat.Typ) -> \u001b[32m1\u001b[39m, \u001b[33mRepSymbObj\u001b[39m(n, Nat.Typ) -> \u001b[32m1\u001b[39m)\n",
       "              )\n",
       "            )\n",
       "          )\n",
       "        )\n",
       "      )\n",
       "    ),\n",
       "    \u001b[33mRepSymbObj\u001b[39m(\u001b[33mName\u001b[39m(\u001b[32m\"n\"\u001b[39m), Nat.Typ)\n",
       "  ),\n",
       "  Nat.Typ\n",
       ")"
      ]
     },
     "execution_count": 24,
     "metadata": {},
     "output_type": "execute_result"
    }
   ],
   "source": [
    "factorial(n)"
   ]
  },
  {
   "cell_type": "code",
   "execution_count": 25,
   "metadata": {
    "collapsed": false
   },
   "outputs": [
    {
     "data": {
      "text/plain": [
       "\u001b[36mg\u001b[39m: \u001b[32mFunc\u001b[39m[\u001b[32mRepTerm\u001b[39m[\u001b[32mSafeLong\u001b[39m], \u001b[32mLocalTerm\u001b[39m] = \u001b[33mLambdaFixed\u001b[39m(\n",
       "  \u001b[33mRepSymbObj\u001b[39m(k, Nat.Typ),\n",
       "  \u001b[33mRepSymbObj\u001b[39m(\n",
       "    \u001b[33mApplnSym\u001b[39m(\n",
       "      \u001b[33mRec\u001b[39m(\n",
       "        \u001b[33mRepSymbObj\u001b[39m(\u001b[33mScalaSymbol\u001b[39m(\u001b[33mSafeLongLong\u001b[39m(\u001b[32m1L\u001b[39m)), Nat.Typ),\n",
       "        \u001b[33mLambdaFixed\u001b[39m(\n",
       "          \u001b[33mRepSymbObj\u001b[39m(n, Nat.Typ),\n",
       "          \u001b[33mLambdaFixed\u001b[39m(\n",
       "            \u001b[33mRepSymbObj\u001b[39m($n, Nat.Typ),\n",
       "            \u001b[33mSigmaTerm\u001b[39m(\n",
       "              \u001b[33mSet\u001b[39m(\n",
       "                \u001b[33mRepSymbObj\u001b[39m($n, Nat.Typ),\n",
       "                \u001b[33mPiTerm\u001b[39m(\n",
       "                  \u001b[33mMap\u001b[39m(\u001b[33mRepSymbObj\u001b[39m($n, Nat.Typ) -> \u001b[32m1\u001b[39m, \u001b[33mRepSymbObj\u001b[39m(n, Nat.Typ) -> \u001b[32m1\u001b[39m)\n",
       "                )\n",
       "              )\n",
       "            )\n",
       "          )\n",
       "        )\n",
       "      ),\n",
       "      \u001b[33mPiTerm\u001b[39m(\u001b[33mMap\u001b[39m(\u001b[33mRepSymbObj\u001b[39m(k, Nat.Typ) -> \u001b[32m2\u001b[39m))\n",
       "    ),\n",
       "    Nat.Typ\n",
       "  )\n",
       ")"
      ]
     },
     "execution_count": 25,
     "metadata": {},
     "output_type": "execute_result"
    }
   ],
   "source": [
    "val g = lmbda(k)(factorial(k * k))"
   ]
  },
  {
   "cell_type": "code",
   "execution_count": 26,
   "metadata": {
    "collapsed": false
   },
   "outputs": [
    {
     "data": {
      "text/plain": [
       "\u001b[36mres25\u001b[39m: \u001b[32mLocalTerm\u001b[39m = \u001b[33mRepSymbObj\u001b[39m(\u001b[33mScalaSymbol\u001b[39m(\u001b[33mSafeLongLong\u001b[39m(\u001b[32m362880L\u001b[39m)), Nat.Typ)"
      ]
     },
     "execution_count": 26,
     "metadata": {},
     "output_type": "execute_result"
    }
   ],
   "source": [
    "g(3)"
   ]
  },
  {
   "cell_type": "code",
   "execution_count": 27,
   "metadata": {
    "collapsed": false
   },
   "outputs": [
    {
     "data": {
      "text/plain": [
       "\u001b[36mres26\u001b[39m: \u001b[32mLocalTerm\u001b[39m = \u001b[33mRepSymbObj\u001b[39m(\u001b[33mScalaSymbol\u001b[39m(\u001b[33mSafeLongLong\u001b[39m(\u001b[32m362880L\u001b[39m)), Nat.Typ)"
      ]
     },
     "execution_count": 27,
     "metadata": {},
     "output_type": "execute_result"
    }
   ],
   "source": [
    "factorial(9)"
   ]
  },
  {
   "cell_type": "markdown",
   "metadata": {},
   "source": [
    "### Simplifying recursive functions\n",
    "\n",
    "If we apply a recursive function to a sum n+k with k a literal (say k = 2), then the result simplifies as much as possible by expanding tail recursively in the literal."
   ]
  },
  {
   "cell_type": "code",
   "execution_count": 28,
   "metadata": {
    "collapsed": false
   },
   "outputs": [
    {
     "data": {
      "text/plain": [
       "\u001b[36mres27\u001b[39m: \u001b[32mLocalTerm\u001b[39m = \u001b[33mSigmaTerm\u001b[39m(\n",
       "  \u001b[33mSet\u001b[39m(\n",
       "    \u001b[33mRepSymbObj\u001b[39m(\n",
       "      \u001b[33mApplnSym\u001b[39m(\n",
       "        \u001b[33mRec\u001b[39m(\n",
       "          \u001b[33mRepSymbObj\u001b[39m(\u001b[33mScalaSymbol\u001b[39m(\u001b[33mSafeLongLong\u001b[39m(\u001b[32m1L\u001b[39m)), Nat.Typ),\n",
       "          \u001b[33mLambdaFixed\u001b[39m(\n",
       "            \u001b[33mRepSymbObj\u001b[39m(n, Nat.Typ),\n",
       "            \u001b[33mLambdaFixed\u001b[39m(\n",
       "              \u001b[33mRepSymbObj\u001b[39m($n, Nat.Typ),\n",
       "              \u001b[33mSigmaTerm\u001b[39m(\n",
       "                \u001b[33mSet\u001b[39m(\n",
       "                  \u001b[33mRepSymbObj\u001b[39m($n, Nat.Typ),\n",
       "                  \u001b[33mPiTerm\u001b[39m(\n",
       "                    \u001b[33mMap\u001b[39m(\n",
       "                      \u001b[33mRepSymbObj\u001b[39m($n, Nat.Typ) -> \u001b[32m1\u001b[39m,\n",
       "                      \u001b[33mRepSymbObj\u001b[39m(n, Nat.Typ) -> \u001b[32m1\u001b[39m\n",
       "                    )\n",
       "                  )\n",
       "                )\n",
       "              )\n",
       "            )\n",
       "          )\n",
       "        ),\n",
       "        \u001b[33mRepSymbObj\u001b[39m(\u001b[33mName\u001b[39m(\u001b[32m\"n\"\u001b[39m), Nat.Typ)\n",
       "      ),\n",
       "      Nat.Typ\n",
       "    ),\n",
       "    \u001b[33mPiTerm\u001b[39m(\n",
       "      \u001b[33mMap\u001b[39m(\n",
       "        \u001b[33mRepSymbObj\u001b[39m(\u001b[33mName\u001b[39m(\u001b[32m\"n\"\u001b[39m), Nat.Typ) -> \u001b[32m1\u001b[39m,\n",
       "        \u001b[33mRepSymbObj\u001b[39m(\n",
       "          \u001b[33mApplnSym\u001b[39m(\n",
       "            \u001b[33mRec\u001b[39m(\n",
       "              \u001b[33mRepSymbObj\u001b[39m(\u001b[33mScalaSymbol\u001b[39m(\u001b[33mSafeLongLong\u001b[39m(\u001b[32m1L\u001b[39m)), Nat.Typ),\n",
       "              \u001b[33mLambdaFixed\u001b[39m(\n",
       "                \u001b[33mRepSymbObj\u001b[39m(n, Nat.Typ),\n",
       "                \u001b[33mLambdaFixed\u001b[39m(\n",
       "                  \u001b[33mRepSymbObj\u001b[39m($n, Nat.Typ),\n",
       "..."
      ]
     },
     "execution_count": 28,
     "metadata": {},
     "output_type": "execute_result"
    }
   ],
   "source": [
    "factorial(n + 1)"
   ]
  },
  {
   "cell_type": "code",
   "execution_count": 29,
   "metadata": {
    "collapsed": false
   },
   "outputs": [
    {
     "data": {
      "text/plain": [
       "\u001b[36mfn\u001b[39m: \u001b[32mFunc\u001b[39m[\u001b[32mRepTerm\u001b[39m[\u001b[32mSafeLong\u001b[39m], \u001b[32mLocalTerm\u001b[39m] = \u001b[33mLambdaFixed\u001b[39m(\n",
       "  \u001b[33mRepSymbObj\u001b[39m(n, Nat.Typ),\n",
       "  \u001b[33mSigmaTerm\u001b[39m(\n",
       "    \u001b[33mSet\u001b[39m(\n",
       "      \u001b[33mRepSymbObj\u001b[39m(\n",
       "        \u001b[33mApplnSym\u001b[39m(\n",
       "          \u001b[33mRec\u001b[39m(\n",
       "            \u001b[33mRepSymbObj\u001b[39m(\u001b[33mScalaSymbol\u001b[39m(\u001b[33mSafeLongLong\u001b[39m(\u001b[32m1L\u001b[39m)), Nat.Typ),\n",
       "            \u001b[33mLambdaFixed\u001b[39m(\n",
       "              \u001b[33mRepSymbObj\u001b[39m(n, Nat.Typ),\n",
       "              \u001b[33mLambdaFixed\u001b[39m(\n",
       "                \u001b[33mRepSymbObj\u001b[39m($n, Nat.Typ),\n",
       "                \u001b[33mSigmaTerm\u001b[39m(\n",
       "                  \u001b[33mSet\u001b[39m(\n",
       "                    \u001b[33mRepSymbObj\u001b[39m($n, Nat.Typ),\n",
       "                    \u001b[33mPiTerm\u001b[39m(\n",
       "                      \u001b[33mMap\u001b[39m(\n",
       "                        \u001b[33mRepSymbObj\u001b[39m($n, Nat.Typ) -> \u001b[32m1\u001b[39m,\n",
       "                        \u001b[33mRepSymbObj\u001b[39m(n, Nat.Typ) -> \u001b[32m1\u001b[39m\n",
       "                      )\n",
       "                    )\n",
       "                  )\n",
       "                )\n",
       "              )\n",
       "            )\n",
       "          ),\n",
       "          \u001b[33mRepSymbObj\u001b[39m(n, Nat.Typ)\n",
       "        ),\n",
       "        Nat.Typ\n",
       "      ),\n",
       "      \u001b[33mPiTerm\u001b[39m(\n",
       "        \u001b[33mMap\u001b[39m(\n",
       "          \u001b[33mRepSymbObj\u001b[39m(n, Nat.Typ) -> \u001b[32m1\u001b[39m,\n",
       "          \u001b[33mRepSymbObj\u001b[39m(\n",
       "            \u001b[33mApplnSym\u001b[39m(\n",
       "              \u001b[33mRec\u001b[39m(\n",
       "                \u001b[33mRepSymbObj\u001b[39m(\u001b[33mScalaSymbol\u001b[39m(\u001b[33mSafeLongLong\u001b[39m(\u001b[32m1L\u001b[39m)), Nat.Typ),\n",
       "                \u001b[33mLambdaFixed\u001b[39m(\n",
       "                  \u001b[33mRepSymbObj\u001b[39m(n, Nat.Typ),\n",
       "..."
      ]
     },
     "execution_count": 29,
     "metadata": {},
     "output_type": "execute_result"
    }
   ],
   "source": [
    "val fn = lmbda(n)(factorial(n + 1))"
   ]
  },
  {
   "cell_type": "code",
   "execution_count": 30,
   "metadata": {
    "collapsed": false
   },
   "outputs": [
    {
     "data": {
      "text/plain": [
       "\u001b[36mres29\u001b[39m: \u001b[32mLocalTerm\u001b[39m = \u001b[33mRepSymbObj\u001b[39m(\u001b[33mScalaSymbol\u001b[39m(\u001b[33mSafeLongLong\u001b[39m(\u001b[32m2L\u001b[39m)), Nat.Typ)"
      ]
     },
     "execution_count": 30,
     "metadata": {},
     "output_type": "execute_result"
    }
   ],
   "source": [
    "fn(1)"
   ]
  },
  {
   "cell_type": "code",
   "execution_count": 31,
   "metadata": {
    "collapsed": false
   },
   "outputs": [
    {
     "data": {
      "text/plain": [
       "\u001b[36mres30\u001b[39m: \u001b[32mLocalTerm\u001b[39m = \u001b[33mRepSymbObj\u001b[39m(\u001b[33mScalaSymbol\u001b[39m(\u001b[33mSafeLongLong\u001b[39m(\u001b[32m120L\u001b[39m)), Nat.Typ)"
      ]
     },
     "execution_count": 31,
     "metadata": {},
     "output_type": "execute_result"
    }
   ],
   "source": [
    "fn(4)"
   ]
  },
  {
   "cell_type": "code",
   "execution_count": 32,
   "metadata": {
    "collapsed": false
   },
   "outputs": [
    {
     "data": {
      "text/plain": [
       "\u001b[36mres31\u001b[39m: \u001b[32mLocalTerm\u001b[39m = \u001b[33mRepSymbObj\u001b[39m(\n",
       "  \u001b[33mApplnSym\u001b[39m(\n",
       "    \u001b[33mAddLiteral\u001b[39m(\u001b[33mSafeLongLong\u001b[39m(\u001b[32m2L\u001b[39m)),\n",
       "    \u001b[33mSigmaTerm\u001b[39m(\n",
       "      \u001b[33mSet\u001b[39m(\n",
       "        \u001b[33mPiTerm\u001b[39m(\u001b[33mMap\u001b[39m(\u001b[33mRepSymbObj\u001b[39m(\u001b[33mName\u001b[39m(\u001b[32m\"n\"\u001b[39m), Nat.Typ) -> \u001b[32m2\u001b[39m)),\n",
       "        \u001b[33mRepSymbObj\u001b[39m(\n",
       "          \u001b[33mApplnSym\u001b[39m(\n",
       "            \u001b[33mmultLiteral\u001b[39m(\u001b[33mSafeLongLong\u001b[39m(\u001b[32m3L\u001b[39m)),\n",
       "            \u001b[33mRepSymbObj\u001b[39m(\u001b[33mName\u001b[39m(\u001b[32m\"n\"\u001b[39m), Nat.Typ)\n",
       "          ),\n",
       "          Nat.Typ\n",
       "        )\n",
       "      )\n",
       "    )\n",
       "  ),\n",
       "  Nat.Typ\n",
       ")"
      ]
     },
     "execution_count": 32,
     "metadata": {},
     "output_type": "execute_result"
    }
   ],
   "source": [
    "(n + 2) * (n + 1)"
   ]
  },
  {
   "cell_type": "code",
   "execution_count": 33,
   "metadata": {
    "collapsed": false
   },
   "outputs": [
    {
     "data": {
      "text/plain": [
       "\u001b[36mres32\u001b[39m: \u001b[32mLocalTerm\u001b[39m = \u001b[33mRepSymbObj\u001b[39m(\n",
       "  \u001b[33mApplnSym\u001b[39m(\n",
       "    \u001b[33mmultLiteral\u001b[39m(\u001b[33mSafeLongLong\u001b[39m(\u001b[32m3L\u001b[39m)),\n",
       "    \u001b[33mPiTerm\u001b[39m(\u001b[33mMap\u001b[39m(\u001b[33mRepSymbObj\u001b[39m(\u001b[33mName\u001b[39m(\u001b[32m\"n\"\u001b[39m), Nat.Typ) -> \u001b[32m2\u001b[39m))\n",
       "  ),\n",
       "  Nat.Typ\n",
       ")"
      ]
     },
     "execution_count": 33,
     "metadata": {},
     "output_type": "execute_result"
    }
   ],
   "source": [
    "(3 * n) * n"
   ]
  },
  {
   "cell_type": "code",
   "execution_count": 34,
   "metadata": {
    "collapsed": false
   },
   "outputs": [
    {
     "data": {
      "text/plain": [
       "\u001b[36mres33\u001b[39m: \u001b[32mLocalTerm\u001b[39m = \u001b[33mPiTerm\u001b[39m(\u001b[33mMap\u001b[39m(\u001b[33mRepSymbObj\u001b[39m(\u001b[33mName\u001b[39m(\u001b[32m\"n\"\u001b[39m), Nat.Typ) -> \u001b[32m3\u001b[39m))"
      ]
     },
     "execution_count": 34,
     "metadata": {},
     "output_type": "execute_result"
    }
   ],
   "source": [
    "n * (n * n)"
   ]
  },
  {
   "cell_type": "code",
   "execution_count": 35,
   "metadata": {
    "collapsed": false
   },
   "outputs": [
    {
     "data": {
      "text/plain": [
       "\u001b[36mres34\u001b[39m: \u001b[32mLocalTerm\u001b[39m = \u001b[33mPiTerm\u001b[39m(\n",
       "  \u001b[33mMap\u001b[39m(\u001b[33mRepSymbObj\u001b[39m(\u001b[33mName\u001b[39m(\u001b[32m\"k\"\u001b[39m), Nat.Typ) -> \u001b[32m2\u001b[39m, \u001b[33mRepSymbObj\u001b[39m(\u001b[33mName\u001b[39m(\u001b[32m\"n\"\u001b[39m), Nat.Typ) -> \u001b[32m1\u001b[39m)\n",
       ")"
      ]
     },
     "execution_count": 35,
     "metadata": {},
     "output_type": "execute_result"
    }
   ],
   "source": [
    "(n * k) * k"
   ]
  },
  {
   "cell_type": "code",
   "execution_count": 36,
   "metadata": {
    "collapsed": false
   },
   "outputs": [
    {
     "data": {
      "text/plain": [
       "\u001b[36mres35\u001b[39m: \u001b[32mLocalTerm\u001b[39m = \u001b[33mPiTerm\u001b[39m(\n",
       "  \u001b[33mMap\u001b[39m(\u001b[33mRepSymbObj\u001b[39m(\u001b[33mName\u001b[39m(\u001b[32m\"k\"\u001b[39m), Nat.Typ) -> \u001b[32m2\u001b[39m, \u001b[33mRepSymbObj\u001b[39m(\u001b[33mName\u001b[39m(\u001b[32m\"n\"\u001b[39m), Nat.Typ) -> \u001b[32m1\u001b[39m)\n",
       ")"
      ]
     },
     "execution_count": 36,
     "metadata": {},
     "output_type": "execute_result"
    }
   ],
   "source": [
    "k * (n * k)"
   ]
  },
  {
   "cell_type": "code",
   "execution_count": 37,
   "metadata": {
    "collapsed": false
   },
   "outputs": [
    {
     "data": {
      "text/plain": [
       "\u001b[36mres36\u001b[39m: \u001b[32mLocalTerm\u001b[39m = \u001b[33mPiTerm\u001b[39m(\u001b[33mMap\u001b[39m(\u001b[33mRepSymbObj\u001b[39m(\u001b[33mName\u001b[39m(\u001b[32m\"n\"\u001b[39m), Nat.Typ) -> \u001b[32m3\u001b[39m))"
      ]
     },
     "execution_count": 37,
     "metadata": {},
     "output_type": "execute_result"
    }
   ],
   "source": [
    "(n * n) * n"
   ]
  },
  {
   "cell_type": "code",
   "execution_count": 38,
   "metadata": {
    "collapsed": false
   },
   "outputs": [
    {
     "data": {
      "text/plain": [
       "\u001b[36mres37\u001b[39m: \u001b[32mLocalTerm\u001b[39m = \u001b[33mSigmaTerm\u001b[39m(\n",
       "  \u001b[33mSet\u001b[39m(\n",
       "    \u001b[33mRepSymbObj\u001b[39m(\n",
       "      \u001b[33mApplnSym\u001b[39m(\n",
       "        \u001b[33mmultLiteral\u001b[39m(\u001b[33mSafeLongLong\u001b[39m(\u001b[32m2L\u001b[39m)),\n",
       "        \u001b[33mRepSymbObj\u001b[39m(\n",
       "          \u001b[33mApplnSym\u001b[39m(\n",
       "            \u001b[33mRec\u001b[39m(\n",
       "              \u001b[33mRepSymbObj\u001b[39m(\u001b[33mScalaSymbol\u001b[39m(\u001b[33mSafeLongLong\u001b[39m(\u001b[32m1L\u001b[39m)), Nat.Typ),\n",
       "              \u001b[33mLambdaFixed\u001b[39m(\n",
       "                \u001b[33mRepSymbObj\u001b[39m(n, Nat.Typ),\n",
       "                \u001b[33mLambdaFixed\u001b[39m(\n",
       "                  \u001b[33mRepSymbObj\u001b[39m($n, Nat.Typ),\n",
       "                  \u001b[33mSigmaTerm\u001b[39m(\n",
       "                    \u001b[33mSet\u001b[39m(\n",
       "                      \u001b[33mRepSymbObj\u001b[39m($n, Nat.Typ),\n",
       "                      \u001b[33mPiTerm\u001b[39m(\n",
       "                        \u001b[33mMap\u001b[39m(\n",
       "                          \u001b[33mRepSymbObj\u001b[39m($n, Nat.Typ) -> \u001b[32m1\u001b[39m,\n",
       "                          \u001b[33mRepSymbObj\u001b[39m(n, Nat.Typ) -> \u001b[32m1\u001b[39m\n",
       "                        )\n",
       "                      )\n",
       "                    )\n",
       "                  )\n",
       "                )\n",
       "              )\n",
       "            ),\n",
       "            \u001b[33mRepSymbObj\u001b[39m(\u001b[33mName\u001b[39m(\u001b[32m\"n\"\u001b[39m), Nat.Typ)\n",
       "          ),\n",
       "          Nat.Typ\n",
       "        )\n",
       "      ),\n",
       "      Nat.Typ\n",
       "    ),\n",
       "    \u001b[33mPiTerm\u001b[39m(\n",
       "      \u001b[33mMap\u001b[39m(\n",
       "        \u001b[33mRepSymbObj\u001b[39m(\u001b[33mName\u001b[39m(\u001b[32m\"n\"\u001b[39m), Nat.Typ) -> \u001b[32m2\u001b[39m,\n",
       "        \u001b[33mRepSymbObj\u001b[39m(\n",
       "          \u001b[33mApplnSym\u001b[39m(\n",
       "..."
      ]
     },
     "execution_count": 38,
     "metadata": {},
     "output_type": "execute_result"
    }
   ],
   "source": [
    "factorial(n + 2)"
   ]
  },
  {
   "cell_type": "markdown",
   "metadata": {},
   "source": [
    "**Recursive expansion:** We see an example of expansion as much as possible."
   ]
  },
  {
   "cell_type": "code",
   "execution_count": 39,
   "metadata": {
    "collapsed": false
   },
   "outputs": [
    {
     "data": {
      "text/plain": [
       "\u001b[36mfunc\u001b[39m: \u001b[32mFunc\u001b[39m[\u001b[32mRepTerm\u001b[39m[\u001b[32mSafeLong\u001b[39m], \u001b[32mLocalTerm\u001b[39m] = \u001b[33mLambdaFixed\u001b[39m(\n",
       "  \u001b[33mRepSymbObj\u001b[39m(n, Nat.Typ),\n",
       "  \u001b[33mSigmaTerm\u001b[39m(\n",
       "    \u001b[33mSet\u001b[39m(\n",
       "      \u001b[33mPiTerm\u001b[39m(\n",
       "        \u001b[33mMap\u001b[39m(\n",
       "          \u001b[33mRepSymbObj\u001b[39m(\n",
       "            \u001b[33mApplnSym\u001b[39m(\n",
       "              \u001b[33mRec\u001b[39m(\n",
       "                \u001b[33mRepSymbObj\u001b[39m(\u001b[33mScalaSymbol\u001b[39m(\u001b[33mSafeLongLong\u001b[39m(\u001b[32m1L\u001b[39m)), Nat.Typ),\n",
       "                \u001b[33mLambdaFixed\u001b[39m(\n",
       "                  \u001b[33mRepSymbObj\u001b[39m(n, Nat.Typ),\n",
       "                  \u001b[33mLambdaFixed\u001b[39m(\n",
       "                    \u001b[33mRepSymbObj\u001b[39m($n, Nat.Typ),\n",
       "                    \u001b[33mSigmaTerm\u001b[39m(\n",
       "                      \u001b[33mSet\u001b[39m(\n",
       "                        \u001b[33mRepSymbObj\u001b[39m($n, Nat.Typ),\n",
       "                        \u001b[33mPiTerm\u001b[39m(\n",
       "                          \u001b[33mMap\u001b[39m(\n",
       "                            \u001b[33mRepSymbObj\u001b[39m($n, Nat.Typ) -> \u001b[32m1\u001b[39m,\n",
       "                            \u001b[33mRepSymbObj\u001b[39m(n, Nat.Typ) -> \u001b[32m1\u001b[39m\n",
       "                          )\n",
       "                        )\n",
       "                      )\n",
       "                    )\n",
       "                  )\n",
       "                )\n",
       "              ),\n",
       "              \u001b[33mRepSymbObj\u001b[39m(n, Nat.Typ)\n",
       "            ),\n",
       "            Nat.Typ\n",
       "          ) -> \u001b[32m1\u001b[39m,\n",
       "          \u001b[33mRepSymbObj\u001b[39m(n, Nat.Typ) -> \u001b[32m2\u001b[39m\n",
       "        )\n",
       "      ),\n",
       "      \u001b[33mRepSymbObj\u001b[39m(\n",
       "        \u001b[33mApplnSym\u001b[39m(\n",
       "          \u001b[33mmultLiteral\u001b[39m(\u001b[33mSafeLongLong\u001b[39m(\u001b[32m3L\u001b[39m)),\n",
       "          \u001b[33mPiTerm\u001b[39m(\n",
       "...\n",
       "\u001b[36mres38_1\u001b[39m: \u001b[32mLocalTerm\u001b[39m = \u001b[33mRepSymbObj\u001b[39m(\u001b[33mScalaSymbol\u001b[39m(\u001b[33mSafeLongLong\u001b[39m(\u001b[32m120L\u001b[39m)), Nat.Typ)"
      ]
     },
     "execution_count": 39,
     "metadata": {},
     "output_type": "execute_result"
    }
   ],
   "source": [
    "val func = lmbda(n)(factorial(n+ 2))\n",
    "func(3)"
   ]
  },
  {
   "cell_type": "code",
   "execution_count": 40,
   "metadata": {
    "collapsed": false
   },
   "outputs": [
    {
     "data": {
      "text/plain": [
       "\u001b[36mres39\u001b[39m: \u001b[32mBoolean\u001b[39m = true"
      ]
     },
     "execution_count": 40,
     "metadata": {},
     "output_type": "execute_result"
    }
   ],
   "source": [
    "func(k) == factorial(k) * (k + 2) * (k + 1)"
   ]
  },
  {
   "cell_type": "code",
   "execution_count": 41,
   "metadata": {
    "collapsed": false
   },
   "outputs": [
    {
     "data": {
      "text/plain": [
       "\u001b[36mres40\u001b[39m: \u001b[32mInt\u001b[39m = \u001b[32m3\u001b[39m"
      ]
     },
     "execution_count": 41,
     "metadata": {},
     "output_type": "execute_result"
    }
   ],
   "source": [
    "1 + 2"
   ]
  },
  {
   "cell_type": "code",
   "execution_count": 42,
   "metadata": {
    "collapsed": true
   },
   "outputs": [
    {
     "data": {
      "text/plain": [
       "\u001b[36mres41\u001b[39m: \u001b[32mOption\u001b[39m[\u001b[32mNat\u001b[39m] = \u001b[33mSome\u001b[39m(\u001b[33mRepSymbObj\u001b[39m(\u001b[33mScalaSymbol\u001b[39m(\u001b[33mSafeLongLong\u001b[39m(\u001b[32m2L\u001b[39m)), Nat.Typ))"
      ]
     },
     "execution_count": 42,
     "metadata": {},
     "output_type": "execute_result"
    }
   ],
   "source": [
    "findFactor(Literal(2), Literal(4))"
   ]
  },
  {
   "cell_type": "code",
   "execution_count": 43,
   "metadata": {},
   "outputs": [
    {
     "data": {
      "text/plain": [
       "\u001b[36mres42\u001b[39m: \u001b[32mOption\u001b[39m[\u001b[32mAbsPair\u001b[39m[\u001b[32mNat\u001b[39m, \u001b[32mEquality\u001b[39m[\u001b[32mNat\u001b[39m]]] = \u001b[33mSome\u001b[39m(\n",
       "  \u001b[33mDepPair\u001b[39m(\n",
       "    \u001b[33mRepSymbObj\u001b[39m(\u001b[33mScalaSymbol\u001b[39m(\u001b[33mSafeLongLong\u001b[39m(\u001b[32m2L\u001b[39m)), Nat.Typ),\n",
       "    \u001b[33mRefl\u001b[39m(Nat.Typ, \u001b[33mRepSymbObj\u001b[39m(\u001b[33mScalaSymbol\u001b[39m(\u001b[33mSafeLongLong\u001b[39m(\u001b[32m4L\u001b[39m)), Nat.Typ)),\n",
       "    \u001b[33mLambdaFixed\u001b[39m(\n",
       "      \u001b[33mRepSymbObj\u001b[39m($c, Nat.Typ),\n",
       "      \u001b[33mIdentityTyp\u001b[39m(\n",
       "        Nat.Typ,\n",
       "        \u001b[33mRepSymbObj\u001b[39m(\n",
       "          \u001b[33mApplnSym\u001b[39m(\u001b[33mmultLiteral\u001b[39m(\u001b[33mSafeLongLong\u001b[39m(\u001b[32m2L\u001b[39m)), \u001b[33mRepSymbObj\u001b[39m($c, Nat.Typ)),\n",
       "          Nat.Typ\n",
       "        ),\n",
       "        \u001b[33mRepSymbObj\u001b[39m(\u001b[33mScalaSymbol\u001b[39m(\u001b[33mSafeLongLong\u001b[39m(\u001b[32m4L\u001b[39m)), Nat.Typ)\n",
       "      )\n",
       "    )\n",
       "  )\n",
       ")"
      ]
     },
     "execution_count": 43,
     "metadata": {},
     "output_type": "execute_result"
    }
   ],
   "source": [
    "findDivisibilty(Literal(2), Literal(4))"
   ]
  },
  {
   "cell_type": "code",
   "execution_count": 44,
   "metadata": {},
   "outputs": [
    {
     "data": {
      "text/plain": [
       "\u001b[36mres43\u001b[39m: \u001b[32mOption\u001b[39m[\u001b[32mTyp\u001b[39m[\u001b[32mU\u001b[39m] forSome { type \u001b[32mU\u001b[39m >: \u001b[32mx$1\u001b[39m <: \u001b[32mTerm\u001b[39m with \u001b[32mSubs\u001b[39m[\u001b[32mU\u001b[39m]; val \u001b[32mx$1\u001b[39m: \u001b[32mAbsPair\u001b[39m[\u001b[32mNat\u001b[39m, \u001b[32mEquality\u001b[39m[\u001b[32mNat\u001b[39m]] }] = \u001b[33mSome\u001b[39m(\n",
       "  \u001b[33mSigmaTyp\u001b[39m(\n",
       "    \u001b[33mLambdaFixed\u001b[39m(\n",
       "      \u001b[33mRepSymbObj\u001b[39m($c, Nat.Typ),\n",
       "      \u001b[33mIdentityTyp\u001b[39m(\n",
       "        Nat.Typ,\n",
       "        \u001b[33mRepSymbObj\u001b[39m(\n",
       "          \u001b[33mApplnSym\u001b[39m(\u001b[33mmultLiteral\u001b[39m(\u001b[33mSafeLongLong\u001b[39m(\u001b[32m2L\u001b[39m)), \u001b[33mRepSymbObj\u001b[39m($c, Nat.Typ)),\n",
       "          Nat.Typ\n",
       "        ),\n",
       "        \u001b[33mRepSymbObj\u001b[39m(\u001b[33mScalaSymbol\u001b[39m(\u001b[33mSafeLongLong\u001b[39m(\u001b[32m4L\u001b[39m)), Nat.Typ)\n",
       "      )\n",
       "    )\n",
       "  )\n",
       ")"
      ]
     },
     "execution_count": 44,
     "metadata": {},
     "output_type": "execute_result"
    }
   ],
   "source": [
    "findDivisibilty(Literal(2), Literal(4)).map(_.typ)"
   ]
  },
  {
   "cell_type": "code",
   "execution_count": 45,
   "metadata": {},
   "outputs": [
    {
     "data": {
      "text/plain": [
       "\u001b[36mres44\u001b[39m: \u001b[32mOption\u001b[39m[\u001b[32mNat\u001b[39m] = \u001b[33mSome\u001b[39m(\u001b[33mRepSymbObj\u001b[39m(\u001b[33mScalaSymbol\u001b[39m(\u001b[33mSafeLongLong\u001b[39m(\u001b[32m2L\u001b[39m)), Nat.Typ))"
      ]
     },
     "execution_count": 45,
     "metadata": {},
     "output_type": "execute_result"
    }
   ],
   "source": [
    "findFactor(n *2, n* 4)"
   ]
  },
  {
   "cell_type": "code",
   "execution_count": 46,
   "metadata": {},
   "outputs": [
    {
     "data": {
      "text/plain": [
       "\u001b[36mres45\u001b[39m: \u001b[32mOption\u001b[39m[\u001b[32mNat\u001b[39m] = \u001b[33mSome\u001b[39m(\u001b[33mRepSymbObj\u001b[39m(\u001b[33mName\u001b[39m(\u001b[32m\"k\"\u001b[39m), Nat.Typ))"
      ]
     },
     "execution_count": 46,
     "metadata": {},
     "output_type": "execute_result"
    }
   ],
   "source": [
    "findFactor(n * 2, n * 2 * k)"
   ]
  },
  {
   "cell_type": "code",
   "execution_count": 47,
   "metadata": {},
   "outputs": [
    {
     "data": {
      "text/plain": [
       "\u001b[36mres46\u001b[39m: \u001b[32mOption\u001b[39m[\u001b[32mNat\u001b[39m] = \u001b[33mSome\u001b[39m(\u001b[33mRepSymbObj\u001b[39m(\u001b[33mName\u001b[39m(\u001b[32m\"n\"\u001b[39m), Nat.Typ))"
      ]
     },
     "execution_count": 47,
     "metadata": {},
     "output_type": "execute_result"
    }
   ],
   "source": [
    "findFactor(n * k, n * n * k)"
   ]
  },
  {
   "cell_type": "code",
   "execution_count": 48,
   "metadata": {},
   "outputs": [
    {
     "data": {
      "text/plain": [
       "\u001b[36mres47\u001b[39m: \u001b[32mOption\u001b[39m[\u001b[32mNat\u001b[39m] = \u001b[33mSome\u001b[39m(\n",
       "  \u001b[33mRepSymbObj\u001b[39m(\n",
       "    \u001b[33mApplnSym\u001b[39m(\u001b[33mmultLiteral\u001b[39m(\u001b[33mSafeLongLong\u001b[39m(\u001b[32m2L\u001b[39m)), \u001b[33mRepSymbObj\u001b[39m(\u001b[33mName\u001b[39m(\u001b[32m\"k\"\u001b[39m), Nat.Typ)),\n",
       "    Nat.Typ\n",
       "  )\n",
       ")"
      ]
     },
     "execution_count": 48,
     "metadata": {},
     "output_type": "execute_result"
    }
   ],
   "source": [
    "findFactor(n * 2, n * 4 * k)"
   ]
  },
  {
   "cell_type": "code",
   "execution_count": 49,
   "metadata": {},
   "outputs": [
    {
     "data": {
      "text/plain": [
       "\u001b[36mres48\u001b[39m: \u001b[32mOption\u001b[39m[\u001b[32mNat\u001b[39m] = \u001b[32mNone\u001b[39m"
      ]
     },
     "execution_count": 49,
     "metadata": {},
     "output_type": "execute_result"
    }
   ],
   "source": [
    "findFactor(n * 2, n * 7 * k)"
   ]
  },
  {
   "cell_type": "code",
   "execution_count": 50,
   "metadata": {},
   "outputs": [
    {
     "data": {
      "text/plain": [
       "\u001b[36mres49\u001b[39m: \u001b[32mBoolean\u001b[39m = true"
      ]
     },
     "execution_count": 50,
     "metadata": {},
     "output_type": "execute_result"
    }
   ],
   "source": [
    "findFactor(n * 2, n * 4 * k) == Some(k * 2)"
   ]
  },
  {
   "cell_type": "code",
   "execution_count": 51,
   "metadata": {},
   "outputs": [
    {
     "data": {
      "text/plain": [
       "\u001b[36mres50\u001b[39m: \u001b[32mOption\u001b[39m[\u001b[32mAbsPair\u001b[39m[\u001b[32mNat\u001b[39m, \u001b[32mEquality\u001b[39m[\u001b[32mNat\u001b[39m]]] = \u001b[33mSome\u001b[39m(\n",
       "  \u001b[33mDepPair\u001b[39m(\n",
       "    \u001b[33mRepSymbObj\u001b[39m(\n",
       "      \u001b[33mApplnSym\u001b[39m(\u001b[33mmultLiteral\u001b[39m(\u001b[33mSafeLongLong\u001b[39m(\u001b[32m2L\u001b[39m)), \u001b[33mRepSymbObj\u001b[39m(\u001b[33mName\u001b[39m(\u001b[32m\"k\"\u001b[39m), Nat.Typ)),\n",
       "      Nat.Typ\n",
       "    ),\n",
       "    \u001b[33mRefl\u001b[39m(\n",
       "      Nat.Typ,\n",
       "      \u001b[33mRepSymbObj\u001b[39m(\n",
       "        \u001b[33mApplnSym\u001b[39m(\n",
       "          \u001b[33mmultLiteral\u001b[39m(\u001b[33mSafeLongLong\u001b[39m(\u001b[32m4L\u001b[39m)),\n",
       "          \u001b[33mPiTerm\u001b[39m(\n",
       "            \u001b[33mMap\u001b[39m(\n",
       "              \u001b[33mRepSymbObj\u001b[39m(\u001b[33mName\u001b[39m(\u001b[32m\"k\"\u001b[39m), Nat.Typ) -> \u001b[32m1\u001b[39m,\n",
       "              \u001b[33mRepSymbObj\u001b[39m(\u001b[33mName\u001b[39m(\u001b[32m\"n\"\u001b[39m), Nat.Typ) -> \u001b[32m1\u001b[39m\n",
       "            )\n",
       "          )\n",
       "        ),\n",
       "        Nat.Typ\n",
       "      )\n",
       "    ),\n",
       "    \u001b[33mLambdaFixed\u001b[39m(\n",
       "      \u001b[33mRepSymbObj\u001b[39m($c, Nat.Typ),\n",
       "      \u001b[33mIdentityTyp\u001b[39m(\n",
       "        Nat.Typ,\n",
       "        \u001b[33mRepSymbObj\u001b[39m(\n",
       "          \u001b[33mApplnSym\u001b[39m(\n",
       "            \u001b[33mmultLiteral\u001b[39m(\u001b[33mSafeLongLong\u001b[39m(\u001b[32m2L\u001b[39m)),\n",
       "            \u001b[33mPiTerm\u001b[39m(\n",
       "              \u001b[33mMap\u001b[39m(\n",
       "                \u001b[33mRepSymbObj\u001b[39m(\u001b[33mName\u001b[39m(\u001b[32m\"n\"\u001b[39m), Nat.Typ) -> \u001b[32m1\u001b[39m,\n",
       "                \u001b[33mRepSymbObj\u001b[39m($c, Nat.Typ) -> \u001b[32m1\u001b[39m\n",
       "              )\n",
       "            )\n",
       "          ),\n",
       "          Nat.Typ\n",
       "        ),\n",
       "        \u001b[33mRepSymbObj\u001b[39m(\n",
       "          \u001b[33mApplnSym\u001b[39m(\n",
       "..."
      ]
     },
     "execution_count": 51,
     "metadata": {},
     "output_type": "execute_result"
    }
   ],
   "source": [
    "findDivisibilty(n * 2, n * 4 * k)"
   ]
  },
  {
   "cell_type": "code",
   "execution_count": 52,
   "metadata": {},
   "outputs": [
    {
     "data": {
      "text/plain": [
       "\u001b[36mres51\u001b[39m: \u001b[32mSigmaTyp\u001b[39m[\u001b[32mLocalTerm\u001b[39m, \u001b[32mEquality\u001b[39m[\u001b[32mLocalTerm\u001b[39m]] = \u001b[33mSigmaTyp\u001b[39m(\n",
       "  \u001b[33mLambdaFixed\u001b[39m(\n",
       "    \u001b[33mRepSymbObj\u001b[39m($c, Nat.Typ),\n",
       "    \u001b[33mIdentityTyp\u001b[39m(\n",
       "      Nat.Typ,\n",
       "      \u001b[33mRepSymbObj\u001b[39m(\n",
       "        \u001b[33mApplnSym\u001b[39m(\u001b[33mmultLiteral\u001b[39m(\u001b[33mSafeLongLong\u001b[39m(\u001b[32m2L\u001b[39m)), \u001b[33mRepSymbObj\u001b[39m($c, Nat.Typ)),\n",
       "        Nat.Typ\n",
       "      ),\n",
       "      \u001b[33mRepSymbObj\u001b[39m(\u001b[33mScalaSymbol\u001b[39m(\u001b[33mSafeLongLong\u001b[39m(\u001b[32m3L\u001b[39m)), Nat.Typ)\n",
       "    )\n",
       "  )\n",
       ")"
      ]
     },
     "execution_count": 52,
     "metadata": {},
     "output_type": "execute_result"
    }
   ],
   "source": [
    "divides(Literal(2))(Literal(3))"
   ]
  },
  {
   "cell_type": "code",
   "execution_count": 53,
   "metadata": {},
   "outputs": [
    {
     "data": {
      "text/plain": [
       "\u001b[36mres52\u001b[39m: \u001b[32mOption\u001b[39m[\u001b[32mAbsPair\u001b[39m[\u001b[32mNat\u001b[39m, \u001b[32mEquality\u001b[39m[\u001b[32mNat\u001b[39m]]] = \u001b[33mSome\u001b[39m(\n",
       "  \u001b[33mDepPair\u001b[39m(\n",
       "    \u001b[33mRepSymbObj\u001b[39m(\u001b[33mScalaSymbol\u001b[39m(\u001b[33mSafeLongLong\u001b[39m(\u001b[32m2L\u001b[39m)), Nat.Typ),\n",
       "    \u001b[33mRefl\u001b[39m(Nat.Typ, \u001b[33mRepSymbObj\u001b[39m(\u001b[33mScalaSymbol\u001b[39m(\u001b[33mSafeLongLong\u001b[39m(\u001b[32m4L\u001b[39m)), Nat.Typ)),\n",
       "    \u001b[33mLambdaFixed\u001b[39m(\n",
       "      \u001b[33mRepSymbObj\u001b[39m($c, Nat.Typ),\n",
       "      \u001b[33mIdentityTyp\u001b[39m(\n",
       "        Nat.Typ,\n",
       "        \u001b[33mRepSymbObj\u001b[39m(\n",
       "          \u001b[33mApplnSym\u001b[39m(\u001b[33mmultLiteral\u001b[39m(\u001b[33mSafeLongLong\u001b[39m(\u001b[32m2L\u001b[39m)), \u001b[33mRepSymbObj\u001b[39m($c, Nat.Typ)),\n",
       "          Nat.Typ\n",
       "        ),\n",
       "        \u001b[33mRepSymbObj\u001b[39m(\u001b[33mScalaSymbol\u001b[39m(\u001b[33mSafeLongLong\u001b[39m(\u001b[32m4L\u001b[39m)), Nat.Typ)\n",
       "      )\n",
       "    )\n",
       "  )\n",
       ")"
      ]
     },
     "execution_count": 53,
     "metadata": {},
     "output_type": "execute_result"
    }
   ],
   "source": [
    "findDivisibilty(2, 4)"
   ]
  },
  {
   "cell_type": "code",
   "execution_count": 54,
   "metadata": {},
   "outputs": [
    {
     "data": {
      "text/plain": [
       "\u001b[36mres53\u001b[39m: \u001b[32mOption\u001b[39m[\u001b[32mNat\u001b[39m] = \u001b[33mSome\u001b[39m(\u001b[33mRepSymbObj\u001b[39m(\u001b[33mScalaSymbol\u001b[39m(\u001b[33mSafeLongLong\u001b[39m(\u001b[32m2L\u001b[39m)), Nat.Typ))"
      ]
     },
     "execution_count": 54,
     "metadata": {},
     "output_type": "execute_result"
    }
   ],
   "source": [
    "findDifference(n+ 4, n + 2)"
   ]
  },
  {
   "cell_type": "code",
   "execution_count": 55,
   "metadata": {},
   "outputs": [
    {
     "data": {
      "text/plain": [
       "\u001b[36mres54\u001b[39m: \u001b[32mOption\u001b[39m[\u001b[32mNat\u001b[39m] = \u001b[33mSome\u001b[39m(\u001b[33mRepSymbObj\u001b[39m(\u001b[33mScalaSymbol\u001b[39m(\u001b[33mSafeLongLong\u001b[39m(\u001b[32m2L\u001b[39m)), Nat.Typ))"
      ]
     },
     "execution_count": 55,
     "metadata": {},
     "output_type": "execute_result"
    }
   ],
   "source": [
    "findDifference(4, 2)"
   ]
  },
  {
   "cell_type": "code",
   "execution_count": 56,
   "metadata": {},
   "outputs": [
    {
     "data": {
      "text/plain": [
       "\u001b[36mres55\u001b[39m: \u001b[32mOption\u001b[39m[\u001b[32mNat\u001b[39m] = \u001b[32mNone\u001b[39m"
      ]
     },
     "execution_count": 56,
     "metadata": {},
     "output_type": "execute_result"
    }
   ],
   "source": [
    "findDifferenceFlip(4, 2)"
   ]
  },
  {
   "cell_type": "code",
   "execution_count": 57,
   "metadata": {},
   "outputs": [
    {
     "data": {
      "text/plain": [
       "\u001b[36mres56\u001b[39m: \u001b[32mOption\u001b[39m[\u001b[32mDepPair\u001b[39m[\u001b[32mNat\u001b[39m, \u001b[32mEquality\u001b[39m[\u001b[32mNat\u001b[39m]]] = \u001b[33mSome\u001b[39m(\n",
       "  \u001b[33mDepPair\u001b[39m(\n",
       "    \u001b[33mRepSymbObj\u001b[39m(\u001b[33mScalaSymbol\u001b[39m(\u001b[33mSafeLongLong\u001b[39m(\u001b[32m2L\u001b[39m)), Nat.Typ),\n",
       "    \u001b[33mRefl\u001b[39m(Nat.Typ, \u001b[33mRepSymbObj\u001b[39m(\u001b[33mScalaSymbol\u001b[39m(\u001b[33mSafeLongLong\u001b[39m(\u001b[32m4L\u001b[39m)), Nat.Typ)),\n",
       "    \u001b[33mLambdaFixed\u001b[39m(\n",
       "      \u001b[33mRepSymbObj\u001b[39m($g, Nat.Typ),\n",
       "      \u001b[33mIdentityTyp\u001b[39m(\n",
       "        Nat.Typ,\n",
       "        \u001b[33mRepSymbObj\u001b[39m(\n",
       "          \u001b[33mApplnSym\u001b[39m(\u001b[33mAddLiteral\u001b[39m(\u001b[33mSafeLongLong\u001b[39m(\u001b[32m2L\u001b[39m)), \u001b[33mRepSymbObj\u001b[39m($g, Nat.Typ)),\n",
       "          Nat.Typ\n",
       "        ),\n",
       "        \u001b[33mRepSymbObj\u001b[39m(\u001b[33mScalaSymbol\u001b[39m(\u001b[33mSafeLongLong\u001b[39m(\u001b[32m4L\u001b[39m)), Nat.Typ)\n",
       "      )\n",
       "    )\n",
       "  )\n",
       ")"
      ]
     },
     "execution_count": 57,
     "metadata": {},
     "output_type": "execute_result"
    }
   ],
   "source": [
    "findLEQ(2, 4)"
   ]
  },
  {
   "cell_type": "code",
   "execution_count": 58,
   "metadata": {},
   "outputs": [
    {
     "data": {
      "text/plain": [
       "\u001b[36mres57\u001b[39m: \u001b[32mOption\u001b[39m[(\u001b[32mNat\u001b[39m, \u001b[32mNat\u001b[39m)] = \u001b[33mSome\u001b[39m(\n",
       "  (\u001b[33mRepSymbObj\u001b[39m(\u001b[33mName\u001b[39m(\u001b[32m\"n\"\u001b[39m), Nat.Typ), \u001b[33mRepSymbObj\u001b[39m(\u001b[33mName\u001b[39m(\u001b[32m\"k\"\u001b[39m), Nat.Typ))\n",
       ")"
      ]
     },
     "execution_count": 58,
     "metadata": {},
     "output_type": "execute_result"
    }
   ],
   "source": [
    "LEQ.unapply(leq(n)(k))"
   ]
  },
  {
   "cell_type": "code",
   "execution_count": 59,
   "metadata": {},
   "outputs": [
    {
     "data": {
      "text/plain": [
       "\u001b[36mres58\u001b[39m: \u001b[32mOption\u001b[39m[(\u001b[32mNat\u001b[39m, \u001b[32mNat\u001b[39m)] = \u001b[33mSome\u001b[39m(\n",
       "  (\n",
       "    \u001b[33mRepSymbObj\u001b[39m(\u001b[33mScalaSymbol\u001b[39m(\u001b[33mSafeLongLong\u001b[39m(\u001b[32m2L\u001b[39m)), Nat.Typ),\n",
       "    \u001b[33mRepSymbObj\u001b[39m(\u001b[33mScalaSymbol\u001b[39m(\u001b[33mSafeLongLong\u001b[39m(\u001b[32m4L\u001b[39m)), Nat.Typ)\n",
       "  )\n",
       ")"
      ]
     },
     "execution_count": 59,
     "metadata": {},
     "output_type": "execute_result"
    }
   ],
   "source": [
    "LEQ.unapply(leq(Literal(2))(Literal(4))) "
   ]
  },
  {
   "cell_type": "code",
   "execution_count": 60,
   "metadata": {},
   "outputs": [
    {
     "data": {
      "text/plain": [
       "\u001b[36msg\u001b[39m: \u001b[32mSigmaTyp\u001b[39m[\u001b[32mNat\u001b[39m, \u001b[32mEquality\u001b[39m[\u001b[32mNat\u001b[39m]] = \u001b[33mSigmaTyp\u001b[39m(\n",
       "  \u001b[33mLambdaFixed\u001b[39m(\n",
       "    \u001b[33mRepSymbObj\u001b[39m($g, Nat.Typ),\n",
       "    \u001b[33mIdentityTyp\u001b[39m(\n",
       "      Nat.Typ,\n",
       "      \u001b[33mRepSymbObj\u001b[39m(\n",
       "        \u001b[33mApplnSym\u001b[39m(\u001b[33mAddLiteral\u001b[39m(\u001b[33mSafeLongLong\u001b[39m(\u001b[32m2L\u001b[39m)), \u001b[33mRepSymbObj\u001b[39m($g, Nat.Typ)),\n",
       "        Nat.Typ\n",
       "      ),\n",
       "      \u001b[33mRepSymbObj\u001b[39m(\u001b[33mScalaSymbol\u001b[39m(\u001b[33mSafeLongLong\u001b[39m(\u001b[32m4L\u001b[39m)), Nat.Typ)\n",
       "    )\n",
       "  )\n",
       ")"
      ]
     },
     "execution_count": 60,
     "metadata": {},
     "output_type": "execute_result"
    }
   ],
   "source": [
    "val sg = leq(Literal(2))(Literal(4))"
   ]
  },
  {
   "cell_type": "code",
   "execution_count": 61,
   "metadata": {},
   "outputs": [
    {
     "data": {
      "text/plain": [
       "\u001b[36mres60\u001b[39m: \u001b[32mOption\u001b[39m[\u001b[32mNat\u001b[39m] = \u001b[33mSome\u001b[39m(\u001b[33mRepSymbObj\u001b[39m(\u001b[33mName\u001b[39m(\u001b[32m\"n\"\u001b[39m), Nat.Typ))"
      ]
     },
     "execution_count": 61,
     "metadata": {},
     "output_type": "execute_result"
    }
   ],
   "source": [
    "findDifference(n + 2, 2)"
   ]
  },
  {
   "cell_type": "code",
   "execution_count": 62,
   "metadata": {},
   "outputs": [
    {
     "data": {
      "text/plain": [
       "\u001b[36mx\u001b[39m: \u001b[32mRepTerm\u001b[39m[\u001b[32mSafeLong\u001b[39m] = \u001b[33mRepSymbObj\u001b[39m(\u001b[33mName\u001b[39m(\u001b[32m\"$zr\"\u001b[39m), Nat.Typ)"
      ]
     },
     "execution_count": 62,
     "metadata": {},
     "output_type": "execute_result"
    }
   ],
   "source": [
    "val x = NatTyp.Var"
   ]
  },
  {
   "cell_type": "code",
   "execution_count": 63,
   "metadata": {},
   "outputs": [
    {
     "data": {
      "text/plain": [
       "\u001b[36meqn\u001b[39m: \u001b[32mIdentityTyp\u001b[39m[\u001b[32mNat\u001b[39m] = \u001b[33mIdentityTyp\u001b[39m(\n",
       "  Nat.Typ,\n",
       "  \u001b[33mRepSymbObj\u001b[39m(\n",
       "    \u001b[33mApplnSym\u001b[39m(\u001b[33mAddLiteral\u001b[39m(\u001b[33mSafeLongLong\u001b[39m(\u001b[32m2L\u001b[39m)), \u001b[33mRepSymbObj\u001b[39m(\u001b[33mName\u001b[39m(\u001b[32m\"$zr\"\u001b[39m), Nat.Typ)),\n",
       "    Nat.Typ\n",
       "  ),\n",
       "  \u001b[33mRepSymbObj\u001b[39m(\u001b[33mScalaSymbol\u001b[39m(\u001b[33mSafeLongLong\u001b[39m(\u001b[32m4L\u001b[39m)), Nat.Typ)\n",
       ")"
      ]
     },
     "execution_count": 63,
     "metadata": {},
     "output_type": "execute_result"
    }
   ],
   "source": [
    "val eqn = sg.fibers(x).asInstanceOf[IdentityTyp[Nat]]"
   ]
  },
  {
   "cell_type": "code",
   "execution_count": 64,
   "metadata": {},
   "outputs": [
    {
     "data": {
      "text/plain": [
       "\u001b[36mres63\u001b[39m: \u001b[32mBoolean\u001b[39m = true"
      ]
     },
     "execution_count": 64,
     "metadata": {},
     "output_type": "execute_result"
    }
   ],
   "source": [
    "eqn.dom == NatTyp"
   ]
  },
  {
   "cell_type": "code",
   "execution_count": 65,
   "metadata": {},
   "outputs": [
    {
     "data": {
      "text/plain": [
       "\u001b[36mres64\u001b[39m: \u001b[32mNat\u001b[39m = \u001b[33mRepSymbObj\u001b[39m(\n",
       "  \u001b[33mApplnSym\u001b[39m(\u001b[33mAddLiteral\u001b[39m(\u001b[33mSafeLongLong\u001b[39m(\u001b[32m2L\u001b[39m)), \u001b[33mRepSymbObj\u001b[39m(\u001b[33mName\u001b[39m(\u001b[32m\"$zr\"\u001b[39m), Nat.Typ)),\n",
       "  Nat.Typ\n",
       ")"
      ]
     },
     "execution_count": 65,
     "metadata": {},
     "output_type": "execute_result"
    }
   ],
   "source": [
    "eqn.lhs"
   ]
  },
  {
   "cell_type": "code",
   "execution_count": 66,
   "metadata": {},
   "outputs": [
    {
     "data": {
      "text/plain": [
       "\u001b[36mres65\u001b[39m: \u001b[32mOption\u001b[39m[\u001b[32mNat\u001b[39m] = \u001b[33mSome\u001b[39m(\u001b[33mRepSymbObj\u001b[39m(\u001b[33mScalaSymbol\u001b[39m(\u001b[33mSafeLongLong\u001b[39m(\u001b[32m2L\u001b[39m)), Nat.Typ))"
      ]
     },
     "execution_count": 66,
     "metadata": {},
     "output_type": "execute_result"
    }
   ],
   "source": [
    "findDifference(eqn.lhs, x)"
   ]
  },
  {
   "cell_type": "code",
   "execution_count": 67,
   "metadata": {},
   "outputs": [
    {
     "data": {
      "text/plain": [
       "\u001b[36mres66\u001b[39m: \u001b[32mLocalTerm\u001b[39m = \u001b[33mRepSymbObj\u001b[39m(\n",
       "  \u001b[33mApplnSym\u001b[39m(\u001b[33mAddLiteral\u001b[39m(\u001b[33mSafeLongLong\u001b[39m(\u001b[32m2L\u001b[39m)), \u001b[33mRepSymbObj\u001b[39m(\u001b[33mName\u001b[39m(\u001b[32m\"$zr\"\u001b[39m), Nat.Typ)),\n",
       "  Nat.Typ\n",
       ")"
      ]
     },
     "execution_count": 67,
     "metadata": {},
     "output_type": "execute_result"
    }
   ],
   "source": [
    "x + 2"
   ]
  },
  {
   "cell_type": "code",
   "execution_count": 68,
   "metadata": {},
   "outputs": [
    {
     "data": {
      "text/plain": [
       "\u001b[36mres67\u001b[39m: \u001b[32mOption\u001b[39m[\u001b[32mNat\u001b[39m] = \u001b[33mSome\u001b[39m(\u001b[33mRepSymbObj\u001b[39m(\u001b[33mName\u001b[39m(\u001b[32m\"$zr\"\u001b[39m), Nat.Typ))"
      ]
     },
     "execution_count": 68,
     "metadata": {},
     "output_type": "execute_result"
    }
   ],
   "source": [
    "findDifference(x + 2, 2)"
   ]
  },
  {
   "cell_type": "code",
   "execution_count": 69,
   "metadata": {},
   "outputs": [
    {
     "data": {
      "text/plain": [
       "\u001b[36mres68\u001b[39m: \u001b[32mBoolean\u001b[39m = true"
      ]
     },
     "execution_count": 69,
     "metadata": {},
     "output_type": "execute_result"
    }
   ],
   "source": [
    "eqn.lhs == x + 2"
   ]
  },
  {
   "cell_type": "code",
   "execution_count": 70,
   "metadata": {},
   "outputs": [
    {
     "data": {
      "text/plain": [
       "\u001b[36mres69\u001b[39m: \u001b[32mOption\u001b[39m[\u001b[32mNat\u001b[39m] = \u001b[33mSome\u001b[39m(\u001b[33mRepSymbObj\u001b[39m(\u001b[33mScalaSymbol\u001b[39m(\u001b[33mSafeLongLong\u001b[39m(\u001b[32m2L\u001b[39m)), Nat.Typ))"
      ]
     },
     "execution_count": 70,
     "metadata": {},
     "output_type": "execute_result"
    }
   ],
   "source": [
    "findDifference(x + 2, x)"
   ]
  },
  {
   "cell_type": "code",
   "execution_count": 71,
   "metadata": {},
   "outputs": [
    {
     "data": {
      "text/plain": [
       "\u001b[36mres70\u001b[39m: \u001b[32mOption\u001b[39m[(\u001b[32mNat\u001b[39m, \u001b[32mNat\u001b[39m)] = \u001b[33mSome\u001b[39m(\n",
       "  (\u001b[33mRepSymbObj\u001b[39m(\u001b[33mName\u001b[39m(\u001b[32m\"n\"\u001b[39m), Nat.Typ), \u001b[33mRepSymbObj\u001b[39m(\u001b[33mName\u001b[39m(\u001b[32m\"k\"\u001b[39m), Nat.Typ))\n",
       ")"
      ]
     },
     "execution_count": 71,
     "metadata": {},
     "output_type": "execute_result"
    }
   ],
   "source": [
    "DIV.unapply(divides(n)(k))"
   ]
  },
  {
   "cell_type": "code",
   "execution_count": 72,
   "metadata": {},
   "outputs": [
    {
     "data": {
      "text/plain": [
       "\u001b[36mres71\u001b[39m: \u001b[32mSigmaTyp\u001b[39m[\u001b[32mLocalTerm\u001b[39m, \u001b[32mEquality\u001b[39m[\u001b[32mLocalTerm\u001b[39m]] = \u001b[33mSigmaTyp\u001b[39m(\n",
       "  \u001b[33mLambdaFixed\u001b[39m(\n",
       "    \u001b[33mRepSymbObj\u001b[39m($c, Nat.Typ),\n",
       "    \u001b[33mIdentityTyp\u001b[39m(\n",
       "      Nat.Typ,\n",
       "      \u001b[33mPiTerm\u001b[39m(\n",
       "        \u001b[33mMap\u001b[39m(\u001b[33mRepSymbObj\u001b[39m(\u001b[33mName\u001b[39m(\u001b[32m\"n\"\u001b[39m), Nat.Typ) -> \u001b[32m1\u001b[39m, \u001b[33mRepSymbObj\u001b[39m($c, Nat.Typ) -> \u001b[32m1\u001b[39m)\n",
       "      ),\n",
       "      \u001b[33mRepSymbObj\u001b[39m(\u001b[33mName\u001b[39m(\u001b[32m\"k\"\u001b[39m), Nat.Typ)\n",
       "    )\n",
       "  )\n",
       ")"
      ]
     },
     "execution_count": 72,
     "metadata": {},
     "output_type": "execute_result"
    }
   ],
   "source": [
    "divides(n)(k)"
   ]
  },
  {
   "cell_type": "code",
   "execution_count": 73,
   "metadata": {},
   "outputs": [
    {
     "data": {
      "text/plain": [
       "\u001b[36mres72\u001b[39m: \u001b[32mOption\u001b[39m[\u001b[32mNat\u001b[39m] = \u001b[32mNone\u001b[39m"
      ]
     },
     "execution_count": 73,
     "metadata": {},
     "output_type": "execute_result"
    }
   ],
   "source": [
    "findFactor(n * k, n)"
   ]
  },
  {
   "cell_type": "code",
   "execution_count": 74,
   "metadata": {},
   "outputs": [
    {
     "data": {
      "text/plain": [
       "\u001b[36mres73\u001b[39m: \u001b[32mOption\u001b[39m[\u001b[32mNat\u001b[39m] = \u001b[33mSome\u001b[39m(\u001b[33mRepSymbObj\u001b[39m(\u001b[33mName\u001b[39m(\u001b[32m\"n\"\u001b[39m), Nat.Typ))"
      ]
     },
     "execution_count": 74,
     "metadata": {},
     "output_type": "execute_result"
    }
   ],
   "source": [
    "findFactor(k, n * k)"
   ]
  },
  {
   "cell_type": "code",
   "execution_count": 75,
   "metadata": {},
   "outputs": [
    {
     "data": {
      "text/plain": [
       "\u001b[36mres74\u001b[39m: \u001b[32mOption\u001b[39m[(\u001b[32mNat\u001b[39m, \u001b[32mNat\u001b[39m)] = \u001b[33mSome\u001b[39m(\n",
       "  (\n",
       "    \u001b[33mRepSymbObj\u001b[39m(\u001b[33mName\u001b[39m(\u001b[32m\"n\"\u001b[39m), Nat.Typ),\n",
       "    \u001b[33mRepSymbObj\u001b[39m(\u001b[33mScalaSymbol\u001b[39m(\u001b[33mSafeLongLong\u001b[39m(\u001b[32m7L\u001b[39m)), Nat.Typ)\n",
       "  )\n",
       ")"
      ]
     },
     "execution_count": 75,
     "metadata": {},
     "output_type": "execute_result"
    }
   ],
   "source": [
    "DIV.unapply(divides(n)(Literal(7)))"
   ]
  },
  {
   "cell_type": "code",
   "execution_count": null,
   "metadata": {},
   "outputs": [],
   "source": []
  }
 ],
 "metadata": {
  "kernelspec": {
   "display_name": "Scala",
   "language": "scala",
   "name": "scala"
  },
  "language_info": {
   "codemirror_mode": "text/x-scala",
   "file_extension": ".scala",
   "mimetype": "text/x-scala",
   "name": "scala",
   "nbconvert_exporter": "script",
   "version": "2.12.8"
  }
 },
 "nbformat": 4,
 "nbformat_minor": 2
}
