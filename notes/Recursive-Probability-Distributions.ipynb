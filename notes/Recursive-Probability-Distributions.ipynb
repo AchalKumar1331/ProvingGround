{
 "cells": [
  {
   "cell_type": "markdown",
   "metadata": {},
   "source": [
    "# Recursively defined probability distributions\n",
    "\n",
    "We consider the probability distributions generated from some set using some functions and operations with weights, with identity being one of the operations. This is used in dynamics (including learning) and also for \n",
    "\n",
    "A simple example is the geometic distribution, with a random variable X being:\n",
    "\n",
    "* X = 0 with probability p.\n",
    "* X = (new X) + 1 with probability (1 - p)\n",
    "\n",
    "Such distributions are infinite. There are two traits that are used to handle these.\n",
    "\n",
    "* Probability Distributions: allow one to pick a random value.\n",
    "* Truncated Distributions: roughly give finite distributions of values with probability above a cutoff. However, in the case of sums each term is truncated at the cutoff, so sums crossing the cutoff with small components are ignored.\n"
   ]
  },
  {
   "cell_type": "code",
   "execution_count": 2,
   "metadata": {
    "collapsed": false
   },
   "outputs": [
    {
     "data": {
      "text/plain": []
     },
     "metadata": {},
     "output_type": "display_data"
    }
   ],
   "source": [
    "load.jar(\"/home/gadgil/code/ProvingGround/core/.jvm/target/scala-2.11/ProvingGround-Core-assembly-0.8.jar\")"
   ]
  },
  {
   "cell_type": "code",
   "execution_count": 3,
   "metadata": {
    "collapsed": false
   },
   "outputs": [
    {
     "data": {
      "text/plain": [
       "\u001b[32mimport \u001b[36mprovingground.{ProbabilityDistribution => PD, FiniteDistribution => FD, TruncatedDistribution => TD, _}\u001b[0m"
      ]
     },
     "metadata": {},
     "output_type": "display_data"
    }
   ],
   "source": [
    "import provingground.{ProbabilityDistribution => PD, FiniteDistribution => FD, TruncatedDistribution => TD, _}"
   ]
  },
  {
   "cell_type": "markdown",
   "metadata": {},
   "source": [
    "## Probability distribution for Geometric:\n",
    "\n",
    "We recursively define the probability distribution by mixing in cases, defaulting to the first one."
   ]
  },
  {
   "cell_type": "code",
   "execution_count": 4,
   "metadata": {
    "collapsed": false
   },
   "outputs": [
    {
     "data": {
      "text/plain": [
       "\u001b[36mgeom\u001b[0m: \u001b[32mProbabilityDistribution\u001b[0m[\u001b[32mInt\u001b[0m] = provingground.ProbabilityDistribution$Mixin@5cbd7f5c"
      ]
     },
     "metadata": {},
     "output_type": "display_data"
    }
   ],
   "source": [
    "val geom : PD[Int] = FD.unif(0) <+> ((geom map ((x) => x + 1)), 0.7)"
   ]
  },
  {
   "cell_type": "markdown",
   "metadata": {},
   "source": [
    "We can sample from probability distributions recursively."
   ]
  },
  {
   "cell_type": "code",
   "execution_count": 5,
   "metadata": {
    "collapsed": false
   },
   "outputs": [
    {
     "data": {
      "text/plain": [
       "\u001b[36msamp\u001b[0m: \u001b[32mFiniteDistribution\u001b[0m[\u001b[32mInt\u001b[0m] = \u001b[33mFiniteDistribution\u001b[0m(\n",
       "  \u001b[33mVector\u001b[0m(\n",
       "    \u001b[33mWeighted\u001b[0m(\u001b[32m0\u001b[0m, \u001b[32m0.23000000000000007\u001b[0m),\n",
       "    \u001b[33mWeighted\u001b[0m(\u001b[32m5\u001b[0m, \u001b[32m0.03\u001b[0m),\n",
       "    \u001b[33mWeighted\u001b[0m(\u001b[32m1\u001b[0m, \u001b[32m0.2800000000000001\u001b[0m),\n",
       "    \u001b[33mWeighted\u001b[0m(\u001b[32m6\u001b[0m, \u001b[32m0.03\u001b[0m),\n",
       "    \u001b[33mWeighted\u001b[0m(\u001b[32m9\u001b[0m, \u001b[32m0.02\u001b[0m),\n",
       "    \u001b[33mWeighted\u001b[0m(\u001b[32m2\u001b[0m, \u001b[32m0.16\u001b[0m),\n",
       "    \u001b[33mWeighted\u001b[0m(\u001b[32m7\u001b[0m, \u001b[32m0.04\u001b[0m),\n",
       "    \u001b[33mWeighted\u001b[0m(\u001b[32m3\u001b[0m, \u001b[32m0.07\u001b[0m),\n",
       "    \u001b[33mWeighted\u001b[0m(\u001b[32m11\u001b[0m, \u001b[32m0.01\u001b[0m),\n",
       "    \u001b[33mWeighted\u001b[0m(\u001b[32m8\u001b[0m, \u001b[32m0.04\u001b[0m),\n",
       "    \u001b[33mWeighted\u001b[0m(\u001b[32m4\u001b[0m, \u001b[32m0.09\u001b[0m)\n",
       "  )\n",
       ")"
      ]
     },
     "metadata": {},
     "output_type": "display_data"
    }
   ],
   "source": [
    "val samp = geom.sample(100)"
   ]
  },
  {
   "cell_type": "code",
   "execution_count": 6,
   "metadata": {
    "collapsed": false
   },
   "outputs": [
    {
     "data": {
      "text/plain": [
       "\u001b[36mres5\u001b[0m: \u001b[32mList\u001b[0m[\u001b[32mWeighted\u001b[0m[\u001b[32mString\u001b[0m]] = \u001b[33mList\u001b[0m(\n",
       "  \u001b[33mWeighted\u001b[0m(\u001b[32m\"1\"\u001b[0m, \u001b[32m1.8365012677171202\u001b[0m),\n",
       "  \u001b[33mWeighted\u001b[0m(\u001b[32m\"0\"\u001b[0m, \u001b[32m2.1202942337177118\u001b[0m),\n",
       "  \u001b[33mWeighted\u001b[0m(\u001b[32m\"2\"\u001b[0m, \u001b[32m2.643856189774725\u001b[0m),\n",
       "  \u001b[33mWeighted\u001b[0m(\u001b[32m\"4\"\u001b[0m, \u001b[32m3.4739311883324127\u001b[0m),\n",
       "  \u001b[33mWeighted\u001b[0m(\u001b[32m\"3\"\u001b[0m, \u001b[32m3.8365012677171206\u001b[0m),\n",
       "  \u001b[33mWeighted\u001b[0m(\u001b[32m\"7\"\u001b[0m, \u001b[32m4.643856189774724\u001b[0m),\n",
       "  \u001b[33mWeighted\u001b[0m(\u001b[32m\"8\"\u001b[0m, \u001b[32m4.643856189774724\u001b[0m),\n",
       "  \u001b[33mWeighted\u001b[0m(\u001b[32m\"5\"\u001b[0m, \u001b[32m5.058893689053569\u001b[0m),\n",
       "  \u001b[33mWeighted\u001b[0m(\u001b[32m\"6\"\u001b[0m, \u001b[32m5.058893689053569\u001b[0m),\n",
       "  \u001b[33mWeighted\u001b[0m(\u001b[32m\"9\"\u001b[0m, \u001b[32m5.643856189774724\u001b[0m),\n",
       "  \u001b[33mWeighted\u001b[0m(\u001b[32m\"11\"\u001b[0m, \u001b[32m6.643856189774724\u001b[0m)\n",
       ")"
      ]
     },
     "metadata": {},
     "output_type": "display_data"
    }
   ],
   "source": [
    "samp.entropyView"
   ]
  },
  {
   "cell_type": "code",
   "execution_count": 7,
   "metadata": {
    "collapsed": false
   },
   "outputs": [
    {
     "data": {
      "text/plain": [
       "\u001b[36ms\u001b[0m: \u001b[32mFiniteDistribution\u001b[0m[\u001b[32mInt\u001b[0m] = \u001b[33mFiniteDistribution\u001b[0m(\n",
       "  \u001b[33mVector\u001b[0m(\n",
       "    \u001b[33mWeighted\u001b[0m(\u001b[32m0\u001b[0m, \u001b[32m0.2770000000000002\u001b[0m),\n",
       "    \u001b[33mWeighted\u001b[0m(\u001b[32m5\u001b[0m, \u001b[32m0.059000000000000045\u001b[0m),\n",
       "    \u001b[33mWeighted\u001b[0m(\u001b[32m10\u001b[0m, \u001b[32m0.005\u001b[0m),\n",
       "    \u001b[33mWeighted\u001b[0m(\u001b[32m14\u001b[0m, \u001b[32m0.002\u001b[0m),\n",
       "    \u001b[33mWeighted\u001b[0m(\u001b[32m1\u001b[0m, \u001b[32m0.23100000000000018\u001b[0m),\n",
       "    \u001b[33mWeighted\u001b[0m(\u001b[32m6\u001b[0m, \u001b[32m0.03200000000000002\u001b[0m),\n",
       "    \u001b[33mWeighted\u001b[0m(\u001b[32m9\u001b[0m, \u001b[32m0.007\u001b[0m),\n",
       "    \u001b[33mWeighted\u001b[0m(\u001b[32m13\u001b[0m, \u001b[32m0.005\u001b[0m),\n",
       "    \u001b[33mWeighted\u001b[0m(\u001b[32m2\u001b[0m, \u001b[32m0.16900000000000012\u001b[0m),\n",
       "    \u001b[33mWeighted\u001b[0m(\u001b[32m17\u001b[0m, \u001b[32m0.001\u001b[0m),\n",
       "    \u001b[33mWeighted\u001b[0m(\u001b[32m12\u001b[0m, \u001b[32m0.002\u001b[0m),\n",
       "    \u001b[33mWeighted\u001b[0m(\u001b[32m7\u001b[0m, \u001b[32m0.03200000000000002\u001b[0m),\n",
       "    \u001b[33mWeighted\u001b[0m(\u001b[32m3\u001b[0m, \u001b[32m0.09000000000000007\u001b[0m),\n",
       "\u001b[33m...\u001b[0m"
      ]
     },
     "metadata": {},
     "output_type": "display_data"
    }
   ],
   "source": [
    "val s = geom.sample(1000)"
   ]
  },
  {
   "cell_type": "code",
   "execution_count": 8,
   "metadata": {
    "collapsed": false
   },
   "outputs": [
    {
     "data": {
      "text/plain": [
       "\u001b[36mres7\u001b[0m: \u001b[32mList\u001b[0m[\u001b[32mWeighted\u001b[0m[\u001b[32mString\u001b[0m]] = \u001b[33mList\u001b[0m(\n",
       "  \u001b[33mWeighted\u001b[0m(\u001b[32m\"0\"\u001b[0m, \u001b[32m1.8520421186128977\u001b[0m),\n",
       "  \u001b[33mWeighted\u001b[0m(\u001b[32m\"1\"\u001b[0m, \u001b[32m2.1140352432460285\u001b[0m),\n",
       "  \u001b[33mWeighted\u001b[0m(\u001b[32m\"2\"\u001b[0m, \u001b[32m2.5649048483799017\u001b[0m),\n",
       "  \u001b[33mWeighted\u001b[0m(\u001b[32m\"3\"\u001b[0m, \u001b[32m3.4739311883324113\u001b[0m),\n",
       "  \u001b[33mWeighted\u001b[0m(\u001b[32m\"4\"\u001b[0m, \u001b[32m3.9213901653036327\u001b[0m),\n",
       "  \u001b[33mWeighted\u001b[0m(\u001b[32m\"5\"\u001b[0m, \u001b[32m4.0831412353002445\u001b[0m),\n",
       "  \u001b[33mWeighted\u001b[0m(\u001b[32m\"6\"\u001b[0m, \u001b[32m4.965784284662086\u001b[0m),\n",
       "  \u001b[33mWeighted\u001b[0m(\u001b[32m\"7\"\u001b[0m, \u001b[32m4.965784284662086\u001b[0m),\n",
       "  \u001b[33mWeighted\u001b[0m(\u001b[32m\"8\"\u001b[0m, \u001b[32m5.878321443411747\u001b[0m),\n",
       "  \u001b[33mWeighted\u001b[0m(\u001b[32m\"9\"\u001b[0m, \u001b[32m7.158429362604482\u001b[0m),\n",
       "  \u001b[33mWeighted\u001b[0m(\u001b[32m\"10\"\u001b[0m, \u001b[32m7.643856189774724\u001b[0m),\n",
       "  \u001b[33mWeighted\u001b[0m(\u001b[32m\"13\"\u001b[0m, \u001b[32m7.643856189774724\u001b[0m),\n",
       "  \u001b[33mWeighted\u001b[0m(\u001b[32m\"11\"\u001b[0m, \u001b[32m8.380821783940931\u001b[0m),\n",
       "  \u001b[33mWeighted\u001b[0m(\u001b[32m\"14\"\u001b[0m, \u001b[32m8.965784284662087\u001b[0m),\n",
       "\u001b[33m...\u001b[0m"
      ]
     },
     "metadata": {},
     "output_type": "display_data"
    }
   ],
   "source": [
    "s.entropyView"
   ]
  },
  {
   "cell_type": "markdown",
   "metadata": {},
   "source": [
    "## Optional recursion\n",
    "\n",
    "We can also mix in an optional probability distribution, i.e., one that takes optional values. Any `None` generated is ignored and one defaults to the previous distribution. We do this for the geometric distribution."
   ]
  },
  {
   "cell_type": "code",
   "execution_count": 9,
   "metadata": {
    "collapsed": false
   },
   "outputs": [
    {
     "data": {
      "text/plain": [
       "\u001b[36mrand\u001b[0m: \u001b[32mutil\u001b[0m.\u001b[32mRandom\u001b[0m.type = scala.util.Random$@3573063d\n",
       "defined \u001b[32mfunction \u001b[36mnextOpt\u001b[0m"
      ]
     },
     "metadata": {},
     "output_type": "display_data"
    }
   ],
   "source": [
    "val rand = scala.util.Random\n",
    "def nextOpt(x: Int) = if (rand.nextDouble < 7.0/8) Some(x + 1) else None"
   ]
  },
  {
   "cell_type": "code",
   "execution_count": 10,
   "metadata": {
    "collapsed": false
   },
   "outputs": [
    {
     "data": {
      "text/plain": [
       "\u001b[36mgeomOpt\u001b[0m: \u001b[32mProbabilityDistribution\u001b[0m[\u001b[32mInt\u001b[0m] = provingground.ProbabilityDistribution$MixinOpt@7b506629"
      ]
     },
     "metadata": {},
     "output_type": "display_data"
    }
   ],
   "source": [
    "val geomOpt: PD[Int] = FD.unif(0) <+?> (geomOpt map (nextOpt), 0.8)"
   ]
  },
  {
   "cell_type": "code",
   "execution_count": 11,
   "metadata": {
    "collapsed": false
   },
   "outputs": [
    {
     "data": {
      "text/plain": [
       "\u001b[36mres10\u001b[0m: \u001b[32mFiniteDistribution\u001b[0m[\u001b[32mInt\u001b[0m] = \u001b[33mFiniteDistribution\u001b[0m(\n",
       "  \u001b[33mVector\u001b[0m(\n",
       "    \u001b[33mWeighted\u001b[0m(\u001b[32m7\u001b[0m, \u001b[32m0.1\u001b[0m),\n",
       "    \u001b[33mWeighted\u001b[0m(\u001b[32m1\u001b[0m, \u001b[32m0.2\u001b[0m),\n",
       "    \u001b[33mWeighted\u001b[0m(\u001b[32m3\u001b[0m, \u001b[32m0.1\u001b[0m),\n",
       "    \u001b[33mWeighted\u001b[0m(\u001b[32m0\u001b[0m, \u001b[32m0.6\u001b[0m)\n",
       "  )\n",
       ")"
      ]
     },
     "metadata": {},
     "output_type": "display_data"
    }
   ],
   "source": [
    "geomOpt.sample(10)"
   ]
  },
  {
   "cell_type": "code",
   "execution_count": 12,
   "metadata": {
    "collapsed": false
   },
   "outputs": [
    {
     "data": {
      "text/plain": [
       "\u001b[36msamp\u001b[0m: \u001b[32mFiniteDistribution\u001b[0m[\u001b[32mInt\u001b[0m] = \u001b[33mFiniteDistribution\u001b[0m(\n",
       "  \u001b[33mVector\u001b[0m(\n",
       "    \u001b[33mWeighted\u001b[0m(\u001b[32m0\u001b[0m, \u001b[32m0.3080000000000002\u001b[0m),\n",
       "    \u001b[33mWeighted\u001b[0m(\u001b[32m5\u001b[0m, \u001b[32m0.05300000000000004\u001b[0m),\n",
       "    \u001b[33mWeighted\u001b[0m(\u001b[32m10\u001b[0m, \u001b[32m0.008\u001b[0m),\n",
       "    \u001b[33mWeighted\u001b[0m(\u001b[32m14\u001b[0m, \u001b[32m0.002\u001b[0m),\n",
       "    \u001b[33mWeighted\u001b[0m(\u001b[32m1\u001b[0m, \u001b[32m0.20600000000000016\u001b[0m),\n",
       "    \u001b[33mWeighted\u001b[0m(\u001b[32m6\u001b[0m, \u001b[32m0.03900000000000003\u001b[0m),\n",
       "    \u001b[33mWeighted\u001b[0m(\u001b[32m9\u001b[0m, \u001b[32m0.015000000000000006\u001b[0m),\n",
       "    \u001b[33mWeighted\u001b[0m(\u001b[32m13\u001b[0m, \u001b[32m0.006\u001b[0m),\n",
       "    \u001b[33mWeighted\u001b[0m(\u001b[32m2\u001b[0m, \u001b[32m0.1360000000000001\u001b[0m),\n",
       "    \u001b[33mWeighted\u001b[0m(\u001b[32m17\u001b[0m, \u001b[32m0.001\u001b[0m),\n",
       "    \u001b[33mWeighted\u001b[0m(\u001b[32m12\u001b[0m, \u001b[32m0.005\u001b[0m),\n",
       "    \u001b[33mWeighted\u001b[0m(\u001b[32m7\u001b[0m, \u001b[32m0.022000000000000013\u001b[0m),\n",
       "    \u001b[33mWeighted\u001b[0m(\u001b[32m3\u001b[0m, \u001b[32m0.09200000000000007\u001b[0m),\n",
       "\u001b[33m...\u001b[0m"
      ]
     },
     "metadata": {},
     "output_type": "display_data"
    }
   ],
   "source": [
    "val samp = geomOpt.sample(1000)"
   ]
  },
  {
   "cell_type": "code",
   "execution_count": 13,
   "metadata": {
    "collapsed": false
   },
   "outputs": [
    {
     "data": {
      "text/plain": [
       "\u001b[36mres12\u001b[0m: \u001b[32mList\u001b[0m[\u001b[32mWeighted\u001b[0m[\u001b[32mString\u001b[0m]] = \u001b[33mList\u001b[0m(\n",
       "  \u001b[33mWeighted\u001b[0m(\u001b[32m\"0\"\u001b[0m, \u001b[32m1.6989977439671848\u001b[0m),\n",
       "  \u001b[33mWeighted\u001b[0m(\u001b[32m\"1\"\u001b[0m, \u001b[32m2.2792837574788676\u001b[0m),\n",
       "  \u001b[33mWeighted\u001b[0m(\u001b[32m\"2\"\u001b[0m, \u001b[32m2.878321443411747\u001b[0m),\n",
       "  \u001b[33mWeighted\u001b[0m(\u001b[32m\"3\"\u001b[0m, \u001b[32m3.442222328605073\u001b[0m),\n",
       "  \u001b[33mWeighted\u001b[0m(\u001b[32m\"4\"\u001b[0m, \u001b[32m3.7563309190331364\u001b[0m),\n",
       "  \u001b[33mWeighted\u001b[0m(\u001b[32m\"5\"\u001b[0m, \u001b[32m4.2378638300988865\u001b[0m),\n",
       "  \u001b[33mWeighted\u001b[0m(\u001b[32m\"6\"\u001b[0m, \u001b[32m4.680382065799838\u001b[0m),\n",
       "  \u001b[33mWeighted\u001b[0m(\u001b[32m\"7\"\u001b[0m, \u001b[32m5.50635266602479\u001b[0m),\n",
       "  \u001b[33mWeighted\u001b[0m(\u001b[32m\"8\"\u001b[0m, \u001b[32m5.878321443411747\u001b[0m),\n",
       "  \u001b[33mWeighted\u001b[0m(\u001b[32m\"9\"\u001b[0m, \u001b[32m6.058893689053567\u001b[0m),\n",
       "  \u001b[33mWeighted\u001b[0m(\u001b[32m\"11\"\u001b[0m, \u001b[32m6.058893689053567\u001b[0m),\n",
       "  \u001b[33mWeighted\u001b[0m(\u001b[32m\"10\"\u001b[0m, \u001b[32m6.965784284662088\u001b[0m),\n",
       "  \u001b[33mWeighted\u001b[0m(\u001b[32m\"13\"\u001b[0m, \u001b[32m7.380821783940932\u001b[0m),\n",
       "  \u001b[33mWeighted\u001b[0m(\u001b[32m\"12\"\u001b[0m, \u001b[32m7.643856189774724\u001b[0m),\n",
       "\u001b[33m...\u001b[0m"
      ]
     },
     "metadata": {},
     "output_type": "display_data"
    }
   ],
   "source": [
    "samp.entropyView"
   ]
  },
  {
   "cell_type": "markdown",
   "metadata": {},
   "source": [
    "## Truncated distrbitions : Geometric\n",
    "\n",
    "These are cut-off at some point, but combinations effectively are cut off at lower values. We define the geometric distribution this way."
   ]
  },
  {
   "cell_type": "code",
   "execution_count": 14,
   "metadata": {
    "collapsed": false
   },
   "outputs": [
    {
     "data": {
      "text/plain": [
       "\u001b[36mgt\u001b[0m: \u001b[32mTruncatedDistribution\u001b[0m[\u001b[32mInt\u001b[0m] = provingground.TruncatedDistribution$Sum@525dbe59"
      ]
     },
     "metadata": {},
     "output_type": "display_data"
    }
   ],
   "source": [
    "val gt: TD[Int] = (TD.OptAtom(Some(0)) <*> 0.3)<+> ((gt map ((x: Int) => x + 1)) <*> 0.7)"
   ]
  },
  {
   "cell_type": "code",
   "execution_count": 15,
   "metadata": {
    "collapsed": false
   },
   "outputs": [
    {
     "data": {
      "text/plain": [
       "\u001b[36mres14\u001b[0m: \u001b[32mOption\u001b[0m[\u001b[32mFiniteDistribution\u001b[0m[\u001b[32mInt\u001b[0m]] = Some([0 : 0.3, 1 : 0.21, 2 : 0.147, 3 : 0.10289999999999999])"
      ]
     },
     "metadata": {},
     "output_type": "display_data"
    }
   ],
   "source": [
    "gt.getFD(1.0/10)"
   ]
  },
  {
   "cell_type": "code",
   "execution_count": 16,
   "metadata": {
    "collapsed": false
   },
   "outputs": [
    {
     "data": {
      "text/plain": [
       "\u001b[36mfd\u001b[0m: \u001b[32mFiniteDistribution\u001b[0m[\u001b[32mInt\u001b[0m] = \u001b[33mFiniteDistribution\u001b[0m(\n",
       "  \u001b[33mVector\u001b[0m(\n",
       "    \u001b[33mWeighted\u001b[0m(\u001b[32m0\u001b[0m, \u001b[32m0.3\u001b[0m),\n",
       "    \u001b[33mWeighted\u001b[0m(\u001b[32m5\u001b[0m, \u001b[32m0.05042099999999999\u001b[0m),\n",
       "    \u001b[33mWeighted\u001b[0m(\u001b[32m10\u001b[0m, \u001b[32m0.008474257469999996\u001b[0m),\n",
       "    \u001b[33mWeighted\u001b[0m(\u001b[32m14\u001b[0m, \u001b[32m0.0020346692185469984\u001b[0m),\n",
       "    \u001b[33mWeighted\u001b[0m(\u001b[32m1\u001b[0m, \u001b[32m0.21\u001b[0m),\n",
       "    \u001b[33mWeighted\u001b[0m(\u001b[32m6\u001b[0m, \u001b[32m0.03529469999999999\u001b[0m),\n",
       "    \u001b[33mWeighted\u001b[0m(\u001b[32m9\u001b[0m, \u001b[32m0.012106082099999995\u001b[0m),\n",
       "    \u001b[33mWeighted\u001b[0m(\u001b[32m13\u001b[0m, \u001b[32m0.002906670312209998\u001b[0m),\n",
       "    \u001b[33mWeighted\u001b[0m(\u001b[32m2\u001b[0m, \u001b[32m0.147\u001b[0m),\n",
       "    \u001b[33mWeighted\u001b[0m(\u001b[32m12\u001b[0m, \u001b[32m0.004152386160299997\u001b[0m),\n",
       "    \u001b[33mWeighted\u001b[0m(\u001b[32m7\u001b[0m, \u001b[32m0.024706289999999992\u001b[0m),\n",
       "    \u001b[33mWeighted\u001b[0m(\u001b[32m3\u001b[0m, \u001b[32m0.10289999999999999\u001b[0m),\n",
       "    \u001b[33mWeighted\u001b[0m(\u001b[32m11\u001b[0m, \u001b[32m0.005931980228999997\u001b[0m),\n",
       "\u001b[33m...\u001b[0m"
      ]
     },
     "metadata": {},
     "output_type": "display_data"
    }
   ],
   "source": [
    "val fd = gt.getFD(1.0/1000).get"
   ]
  },
  {
   "cell_type": "code",
   "execution_count": 17,
   "metadata": {
    "collapsed": false
   },
   "outputs": [
    {
     "data": {
      "text/plain": [
       "\u001b[36mres16\u001b[0m: \u001b[32mList\u001b[0m[\u001b[32mWeighted\u001b[0m[\u001b[32mString\u001b[0m]] = \u001b[33mList\u001b[0m(\n",
       "  \u001b[33mWeighted\u001b[0m(\u001b[32m\"0\"\u001b[0m, \u001b[32m1.7369655941662063\u001b[0m),\n",
       "  \u001b[33mWeighted\u001b[0m(\u001b[32m\"1\"\u001b[0m, \u001b[32m2.2515387669959646\u001b[0m),\n",
       "  \u001b[33mWeighted\u001b[0m(\u001b[32m\"2\"\u001b[0m, \u001b[32m2.766111939825723\u001b[0m),\n",
       "  \u001b[33mWeighted\u001b[0m(\u001b[32m\"3\"\u001b[0m, \u001b[32m3.280685112655481\u001b[0m),\n",
       "  \u001b[33mWeighted\u001b[0m(\u001b[32m\"4\"\u001b[0m, \u001b[32m3.7952582854852395\u001b[0m),\n",
       "  \u001b[33mWeighted\u001b[0m(\u001b[32m\"5\"\u001b[0m, \u001b[32m4.3098314583149975\u001b[0m),\n",
       "  \u001b[33mWeighted\u001b[0m(\u001b[32m\"6\"\u001b[0m, \u001b[32m4.824404631144756\u001b[0m),\n",
       "  \u001b[33mWeighted\u001b[0m(\u001b[32m\"7\"\u001b[0m, \u001b[32m5.338977803974514\u001b[0m),\n",
       "  \u001b[33mWeighted\u001b[0m(\u001b[32m\"8\"\u001b[0m, \u001b[32m5.853550976804273\u001b[0m),\n",
       "  \u001b[33mWeighted\u001b[0m(\u001b[32m\"9\"\u001b[0m, \u001b[32m6.368124149634031\u001b[0m),\n",
       "  \u001b[33mWeighted\u001b[0m(\u001b[32m\"10\"\u001b[0m, \u001b[32m6.882697322463789\u001b[0m),\n",
       "  \u001b[33mWeighted\u001b[0m(\u001b[32m\"11\"\u001b[0m, \u001b[32m7.397270495293548\u001b[0m),\n",
       "  \u001b[33mWeighted\u001b[0m(\u001b[32m\"12\"\u001b[0m, \u001b[32m7.911843668123306\u001b[0m),\n",
       "  \u001b[33mWeighted\u001b[0m(\u001b[32m\"13\"\u001b[0m, \u001b[32m8.426416840953065\u001b[0m),\n",
       "\u001b[33m...\u001b[0m"
      ]
     },
     "metadata": {},
     "output_type": "display_data"
    }
   ],
   "source": [
    "fd.entropyView"
   ]
  },
  {
   "cell_type": "code",
   "execution_count": 18,
   "metadata": {
    "collapsed": false
   },
   "outputs": [
    {
     "data": {
      "text/plain": [
       "\u001b[36mres17\u001b[0m: \u001b[32mInt\u001b[0m = \u001b[32m16\u001b[0m"
      ]
     },
     "metadata": {},
     "output_type": "display_data"
    }
   ],
   "source": [
    "fd.supp.size"
   ]
  },
  {
   "cell_type": "code",
   "execution_count": null,
   "metadata": {
    "collapsed": true
   },
   "outputs": [],
   "source": []
  }
 ],
 "metadata": {
  "kernelspec": {
   "display_name": "Scala 2.11",
   "language": "scala211",
   "name": "scala211"
  },
  "language_info": {
   "codemirror_mode": "text/x-scala",
   "file_extension": ".scala",
   "mimetype": "text/x-scala",
   "name": "scala211",
   "pygments_lexer": "scala",
   "version": "2.11.6"
  }
 },
 "nbformat": 4,
 "nbformat_minor": 0
}
