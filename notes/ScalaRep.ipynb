{
 "cells": [
  {
   "cell_type": "markdown",
   "metadata": {},
   "source": [
    "## Scala Representations\n",
    "\n",
    "Scala objects are integrated with HoTT by using wrappers, combinators and implicit based convenience methods. In this note we look at the basic representations. The main power of this is to provide automatically (through implicits) types and scala bindings for functions from the basic ones.\n",
    "\n",
    "A more advanced form of Scala representations also makes symbolic algebra simplifications. The basic form should be used, for example, for group presentations, where simplifications are not expected.\n"
   ]
  },
  {
   "cell_type": "code",
   "execution_count": 1,
   "metadata": {
    "collapsed": false
   },
   "outputs": [
    {
     "data": {
      "text/plain": [
       "\u001b[32mimport \u001b[39m\u001b[36m$ivy.$                                       \n",
       "\u001b[39m\n",
       "\u001b[32mimport \u001b[39m\u001b[36mprovingground._ , interface._, HoTT._\u001b[39m"
      ]
     },
     "execution_count": 1,
     "metadata": {},
     "output_type": "execute_result"
    }
   ],
   "source": [
    "import $ivy.`in.ac.iisc.math::core-jvm:0.1-SNAPSHOT`\n",
    "import provingground._ , interface._, HoTT._"
   ]
  },
  {
   "cell_type": "code",
   "execution_count": 2,
   "metadata": {
    "collapsed": false
   },
   "outputs": [
    {
     "data": {
      "text/plain": [
       "\u001b[32mimport \u001b[39m\u001b[36mprovingground._\n",
       "\u001b[39m\n",
       "\u001b[32mimport \u001b[39m\u001b[36mHoTT._, scalahott._\n",
       "\u001b[39m\n",
       "\u001b[32mimport \u001b[39m\u001b[36mScalaRep._\u001b[39m"
      ]
     },
     "execution_count": 2,
     "metadata": {},
     "output_type": "execute_result"
    }
   ],
   "source": [
    "import provingground._\n",
    "import HoTT._, scalahott._\n",
    "import ScalaRep._"
   ]
  },
  {
   "cell_type": "markdown",
   "metadata": {},
   "source": [
    "We consider the type of Natural numbers formed from Integers. This is defined in ScalaRep as:\n",
    "\n",
    "```scala\n",
    "case object NatInt extends ScalaTyp[Int]\n",
    "```\n",
    "\n",
    "**Warning:** This is an unsafe type, as Integers can overflow, and there is no checking for positivity."
   ]
  },
  {
   "cell_type": "code",
   "execution_count": 3,
   "metadata": {
    "collapsed": false
   },
   "outputs": [
    {
     "data": {
      "text/plain": [
       "\u001b[36mres2\u001b[39m: \u001b[32mNatInt\u001b[39m.type = NatInt"
      ]
     },
     "execution_count": 3,
     "metadata": {},
     "output_type": "execute_result"
    }
   ],
   "source": [
    "NatInt"
   ]
  },
  {
   "cell_type": "markdown",
   "metadata": {},
   "source": [
    "### Conversion using the term method\n",
    "\n",
    "The term method converts a scala object, with scala type T say, into a Term, provided there is an implicit representation with scala type T."
   ]
  },
  {
   "cell_type": "code",
   "execution_count": 4,
   "metadata": {
    "collapsed": false
   },
   "outputs": [
    {
     "data": {
      "text/plain": [
       "\u001b[32mimport \u001b[39m\u001b[36mNatInt.rep\n",
       "\u001b[39m\n",
       "\u001b[36mres3_1\u001b[39m: \u001b[32mRepTerm\u001b[39m[\u001b[32mInt\u001b[39m] = \u001b[33mRepSymbObj\u001b[39m(\u001b[33mScalaSymbol\u001b[39m(\u001b[32m1\u001b[39m), NatInt)"
      ]
     },
     "execution_count": 4,
     "metadata": {},
     "output_type": "execute_result"
    }
   ],
   "source": [
    "import NatInt.rep\n",
    "1.term"
   ]
  },
  {
   "cell_type": "markdown",
   "metadata": {},
   "source": [
    "### Functions to FuncTerms\n",
    "\n",
    "Given the representation of Int, there are combinators that give representations of, for instance Int => Int => Int. Note also that the type of the resulting term is a type parameter of the scala representations, so we get a refined compile time type"
   ]
  },
  {
   "cell_type": "code",
   "execution_count": 5,
   "metadata": {
    "collapsed": false
   },
   "outputs": [
    {
     "data": {
      "text/plain": [
       "\u001b[36msum\u001b[39m: \u001b[32mFunc\u001b[39m[\u001b[32mRepTerm\u001b[39m[\u001b[32mInt\u001b[39m], \u001b[32mFunc\u001b[39m[\u001b[32mRepTerm\u001b[39m[\u001b[32mInt\u001b[39m], \u001b[32mRepTerm\u001b[39m[\u001b[32mInt\u001b[39m]]] = \u001b[33mExtendedFunction\u001b[39m(\n",
       "  ammonite.$sess.cmd4$Helper$$Lambda$2363/1189219296@57a4cd68,\n",
       "  \u001b[33mSimpleRep\u001b[39m(NatInt),\n",
       "  \u001b[33mFuncRep\u001b[39m(\u001b[33mSimpleRep\u001b[39m(NatInt), \u001b[33mSimpleRep\u001b[39m(NatInt))\n",
       ")"
      ]
     },
     "execution_count": 5,
     "metadata": {},
     "output_type": "execute_result"
    }
   ],
   "source": [
    "val sum = ((n: Int) => (m: Int) => n + m).term"
   ]
  },
  {
   "cell_type": "code",
   "execution_count": 6,
   "metadata": {
    "collapsed": false
   },
   "outputs": [
    {
     "data": {
      "text/plain": [
       "\u001b[36mres5\u001b[39m: \u001b[32mRepTerm\u001b[39m[\u001b[32mInt\u001b[39m] = \u001b[33mRepSymbObj\u001b[39m(\u001b[33mScalaSymbol\u001b[39m(\u001b[32m3\u001b[39m), NatInt)"
      ]
     },
     "execution_count": 6,
     "metadata": {},
     "output_type": "execute_result"
    }
   ],
   "source": [
    "sum(1.term)(2.term)"
   ]
  },
  {
   "cell_type": "code",
   "execution_count": 7,
   "metadata": {
    "collapsed": false
   },
   "outputs": [
    {
     "data": {
      "text/plain": [
       "\u001b[36mn\u001b[39m: \u001b[32mRepTerm\u001b[39m[\u001b[32mInt\u001b[39m] = \u001b[33mRepSymbObj\u001b[39m(\u001b[33mName\u001b[39m(\u001b[32m\"n\"\u001b[39m), NatInt)\n",
       "\u001b[36mres6_1\u001b[39m: \u001b[32mRepTerm\u001b[39m[\u001b[32mInt\u001b[39m] = \u001b[33mRepSymbObj\u001b[39m(\n",
       "  \u001b[33mApplnSym\u001b[39m(\n",
       "    \u001b[33mSymbolicFunc\u001b[39m(\n",
       "      \u001b[33mApplnSym\u001b[39m(\n",
       "        \u001b[33mExtendedFunction\u001b[39m(\n",
       "          ammonite.$sess.cmd4$Helper$$Lambda$2363/1189219296@57a4cd68,\n",
       "          \u001b[33mSimpleRep\u001b[39m(NatInt),\n",
       "          \u001b[33mFuncRep\u001b[39m(\u001b[33mSimpleRep\u001b[39m(NatInt), \u001b[33mSimpleRep\u001b[39m(NatInt))\n",
       "        ),\n",
       "        \u001b[33mRepSymbObj\u001b[39m(\u001b[33mName\u001b[39m(\u001b[32m\"n\"\u001b[39m), NatInt)\n",
       "      ),\n",
       "      NatInt,\n",
       "      NatInt\n",
       "    ),\n",
       "    \u001b[33mRepSymbObj\u001b[39m(\u001b[33mScalaSymbol\u001b[39m(\u001b[32m2\u001b[39m), NatInt)\n",
       "  ),\n",
       "  NatInt\n",
       ")"
      ]
     },
     "execution_count": 7,
     "metadata": {},
     "output_type": "execute_result"
    }
   ],
   "source": [
    "val n = \"n\" :: NatInt\n",
    "sum(n)(2.term)"
   ]
  },
  {
   "cell_type": "code",
   "execution_count": 8,
   "metadata": {
    "collapsed": false
   },
   "outputs": [
    {
     "data": {
      "text/plain": [
       "\u001b[36ms\u001b[39m: \u001b[32mFunc\u001b[39m[\u001b[32mRepTerm\u001b[39m[\u001b[32mInt\u001b[39m], \u001b[32mRepTerm\u001b[39m[\u001b[32mInt\u001b[39m]] = \u001b[33mLambdaFixed\u001b[39m(\n",
       "  \u001b[33mRepSymbObj\u001b[39m(n, NatInt),\n",
       "  \u001b[33mRepSymbObj\u001b[39m(\n",
       "    \u001b[33mApplnSym\u001b[39m(\n",
       "      \u001b[33mSymbolicFunc\u001b[39m(\n",
       "        \u001b[33mApplnSym\u001b[39m(\n",
       "          \u001b[33mExtendedFunction\u001b[39m(\n",
       "            ammonite.$sess.cmd4$Helper$$Lambda$2363/1189219296@57a4cd68,\n",
       "            \u001b[33mSimpleRep\u001b[39m(NatInt),\n",
       "            \u001b[33mFuncRep\u001b[39m(\u001b[33mSimpleRep\u001b[39m(NatInt), \u001b[33mSimpleRep\u001b[39m(NatInt))\n",
       "          ),\n",
       "          \u001b[33mRepSymbObj\u001b[39m(n, NatInt)\n",
       "        ),\n",
       "        NatInt,\n",
       "        NatInt\n",
       "      ),\n",
       "      \u001b[33mRepSymbObj\u001b[39m(\u001b[33mScalaSymbol\u001b[39m(\u001b[32m2\u001b[39m), NatInt)\n",
       "    ),\n",
       "    NatInt\n",
       "  )\n",
       ")"
      ]
     },
     "execution_count": 8,
     "metadata": {},
     "output_type": "execute_result"
    }
   ],
   "source": [
    "val s = lmbda(n)(sum(n)(2.term))"
   ]
  },
  {
   "cell_type": "code",
   "execution_count": 9,
   "metadata": {
    "collapsed": false
   },
   "outputs": [
    {
     "data": {
      "text/plain": [
       "\u001b[36mres8\u001b[39m: \u001b[32mRepTerm\u001b[39m[\u001b[32mInt\u001b[39m] = \u001b[33mRepSymbObj\u001b[39m(\u001b[33mScalaSymbol\u001b[39m(\u001b[32m5\u001b[39m), NatInt)"
      ]
     },
     "execution_count": 9,
     "metadata": {},
     "output_type": "execute_result"
    }
   ],
   "source": [
    "s(3.term)"
   ]
  },
  {
   "cell_type": "markdown",
   "metadata": {},
   "source": [
    "We will also define the product"
   ]
  },
  {
   "cell_type": "code",
   "execution_count": 10,
   "metadata": {
    "collapsed": false
   },
   "outputs": [
    {
     "data": {
      "text/plain": [
       "\u001b[36mprod\u001b[39m: \u001b[32mFunc\u001b[39m[\u001b[32mRepTerm\u001b[39m[\u001b[32mInt\u001b[39m], \u001b[32mFunc\u001b[39m[\u001b[32mRepTerm\u001b[39m[\u001b[32mInt\u001b[39m], \u001b[32mRepTerm\u001b[39m[\u001b[32mInt\u001b[39m]]] = \u001b[33mExtendedFunction\u001b[39m(\n",
       "  ammonite.$sess.cmd9$Helper$$Lambda$2430/434006696@6c9e4bf0,\n",
       "  \u001b[33mSimpleRep\u001b[39m(NatInt),\n",
       "  \u001b[33mFuncRep\u001b[39m(\u001b[33mSimpleRep\u001b[39m(NatInt), \u001b[33mSimpleRep\u001b[39m(NatInt))\n",
       ")"
      ]
     },
     "execution_count": 10,
     "metadata": {},
     "output_type": "execute_result"
    }
   ],
   "source": [
    "val prod = ((n : Int) => (m: Int) => n * m).term"
   ]
  },
  {
   "cell_type": "code",
   "execution_count": 11,
   "metadata": {
    "collapsed": false
   },
   "outputs": [
    {
     "data": {
      "text/plain": [
       "\u001b[36mres10\u001b[39m: \u001b[32mRepTerm\u001b[39m[\u001b[32mInt\u001b[39m] = \u001b[33mRepSymbObj\u001b[39m(\u001b[33mScalaSymbol\u001b[39m(\u001b[32m8\u001b[39m), NatInt)"
      ]
     },
     "execution_count": 11,
     "metadata": {},
     "output_type": "execute_result"
    }
   ],
   "source": [
    "prod(2.term)(4.term)"
   ]
  },
  {
   "cell_type": "code",
   "execution_count": null,
   "metadata": {
    "collapsed": true
   },
   "outputs": [],
   "source": []
  }
 ],
 "metadata": {
  "kernelspec": {
   "display_name": "Scala",
   "language": "scala",
   "name": "scala"
  },
  "language_info": {
   "codemirror_mode": "text/x-scala",
   "file_extension": ".scala",
   "mimetype": "text/x-scala",
   "name": "scala",
   "nbconvert_exporter": "script",
   "version": "2.12.8"
  }
 },
 "nbformat": 4,
 "nbformat_minor": 2
}
