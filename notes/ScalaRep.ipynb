{
 "cells": [
  {
   "cell_type": "markdown",
   "metadata": {},
   "source": [
    "## Scala Representations\n",
    "\n",
    "Scala objects are integrated with HoTT by using wrappers, combinators and implicit based convenience methods. In this note we look at the basic representations. The main power of this is to provide automatically (through implicits) types and scala bindings for functions from the basic ones.\n",
    "\n",
    "A more advanced form of Scala representations also makes symbolic algebra simplifications. The basic form should be used, for example, for group presentations, where simplifications are not expected.\n"
   ]
  },
  {
   "cell_type": "code",
   "execution_count": 1,
   "metadata": {
    "collapsed": false
   },
   "outputs": [
    {
     "data": {
      "text/plain": []
     },
     "metadata": {},
     "output_type": "display_data"
    }
   ],
   "source": [
    "load.jar(\"/home/gadgil/code/ProvingGround/core/.jvm/target/scala-2.11/ProvingGround-Core-assembly-0.8.jar\")"
   ]
  },
  {
   "cell_type": "code",
   "execution_count": 2,
   "metadata": {
    "collapsed": false
   },
   "outputs": [
    {
     "data": {
      "text/plain": [
       "\u001b[32mimport \u001b[36mprovingground._\u001b[0m\n",
       "\u001b[32mimport \u001b[36mHoTT._\u001b[0m\n",
       "\u001b[32mimport \u001b[36mScalaRep._\u001b[0m"
      ]
     },
     "metadata": {},
     "output_type": "display_data"
    }
   ],
   "source": [
    "import provingground._\n",
    "import HoTT._\n",
    "import ScalaRep._"
   ]
  },
  {
   "cell_type": "markdown",
   "metadata": {},
   "source": [
    "We consider the type of Natural numbers formed from Integers. This is defined in ScalaRep as:\n",
    "\n",
    "```scala\n",
    "case object NatInt extends ScalaTyp[Int]\n",
    "```\n",
    "\n",
    "**Warning:** This is an unsafe type, as Integers can overflow, and there is no checking for positivity."
   ]
  },
  {
   "cell_type": "code",
   "execution_count": 3,
   "metadata": {
    "collapsed": false
   },
   "outputs": [
    {
     "data": {
      "text/plain": [
       "\u001b[36mres2\u001b[0m: \u001b[32mNatInt\u001b[0m.type = NatInt"
      ]
     },
     "metadata": {},
     "output_type": "display_data"
    }
   ],
   "source": [
    "NatInt"
   ]
  },
  {
   "cell_type": "markdown",
   "metadata": {},
   "source": [
    "### Conversion using the term method\n",
    "\n",
    "The term method converts a scala object, with scala type T say, into a Term, provided there is an implicit representation with scala type T."
   ]
  },
  {
   "cell_type": "code",
   "execution_count": 4,
   "metadata": {
    "collapsed": false
   },
   "outputs": [
    {
     "data": {
      "text/plain": [
       "\u001b[32mimport \u001b[36mNatInt.rep\u001b[0m\n",
       "\u001b[36mres3_1\u001b[0m: \u001b[32mRepTerm\u001b[0m[\u001b[32mInt\u001b[0m] = ScalaSymbol(1) : (NatInt)"
      ]
     },
     "metadata": {},
     "output_type": "display_data"
    }
   ],
   "source": [
    "import NatInt.rep\n",
    "1.term"
   ]
  },
  {
   "cell_type": "markdown",
   "metadata": {},
   "source": [
    "### Functions to FuncTerms\n",
    "\n",
    "Given the representation of Int, there are combinators that give representations of, for instance Int => Int => Int. Note also that the type of the resulting term is a type parameter of the scala representations, so we get a refined compile time type"
   ]
  },
  {
   "cell_type": "code",
   "execution_count": 5,
   "metadata": {
    "collapsed": false
   },
   "outputs": [
    {
     "data": {
      "text/plain": [
       "\u001b[36msum\u001b[0m: \u001b[32mFunc\u001b[0m[\u001b[32mRepTerm\u001b[0m[\u001b[32mInt\u001b[0m], \u001b[32mFunc\u001b[0m[\u001b[32mRepTerm\u001b[0m[\u001b[32mInt\u001b[0m], \u001b[32mRepTerm\u001b[0m[\u001b[32mInt\u001b[0m]]] = <function1>"
      ]
     },
     "metadata": {},
     "output_type": "display_data"
    }
   ],
   "source": [
    "val sum = ((n: Int) => (m: Int) => n + m).term"
   ]
  },
  {
   "cell_type": "code",
   "execution_count": 6,
   "metadata": {
    "collapsed": false
   },
   "outputs": [
    {
     "data": {
      "text/plain": [
       "\u001b[36mres5\u001b[0m: \u001b[32mRepTerm\u001b[0m[\u001b[32mInt\u001b[0m] = ScalaSymbol(3) : (NatInt)"
      ]
     },
     "metadata": {},
     "output_type": "display_data"
    }
   ],
   "source": [
    "sum(1.term)(2.term)"
   ]
  },
  {
   "cell_type": "code",
   "execution_count": 7,
   "metadata": {
    "collapsed": false
   },
   "outputs": [
    {
     "data": {
      "text/plain": [
       "\u001b[36mn\u001b[0m: \u001b[32mRepTerm\u001b[0m[\u001b[32mInt\u001b[0m] with \u001b[32mSubs\u001b[0m[\u001b[32mRepTerm\u001b[0m[\u001b[32mInt\u001b[0m]] = n : (NatInt)\n",
       "\u001b[36mres6_1\u001b[0m: \u001b[32mRepTerm\u001b[0m[\u001b[32mInt\u001b[0m] = ((<function1>) (n : (NatInt)) : ((NatInt) → (NatInt))) (ScalaSymbol(2) : (NatInt)) : (NatInt)"
      ]
     },
     "metadata": {},
     "output_type": "display_data"
    }
   ],
   "source": [
    "val n = \"n\" :: NatInt\n",
    "sum(n)(2.term)"
   ]
  },
  {
   "cell_type": "code",
   "execution_count": 8,
   "metadata": {
    "collapsed": false
   },
   "outputs": [
    {
     "data": {
      "text/plain": [
       "\u001b[36ms\u001b[0m: \u001b[32mFunc\u001b[0m[\u001b[32mRepTerm\u001b[0m[\u001b[32mInt\u001b[0m] with \u001b[32mSubs\u001b[0m[\u001b[32mRepTerm\u001b[0m[\u001b[32mInt\u001b[0m]], \u001b[32mRepTerm\u001b[0m[\u001b[32mInt\u001b[0m]] = (n : (NatInt)) ↦ (((<function1>) (n : (NatInt)) : ((NatInt) → (NatInt))) (ScalaSymbol(2) : (NatInt)) : (NatInt))"
      ]
     },
     "metadata": {},
     "output_type": "display_data"
    }
   ],
   "source": [
    "val s = lmbda(n)(sum(n)(2.term))"
   ]
  },
  {
   "cell_type": "code",
   "execution_count": 9,
   "metadata": {
    "collapsed": false
   },
   "outputs": [
    {
     "data": {
      "text/plain": [
       "\u001b[36mres8\u001b[0m: \u001b[32mRepTerm\u001b[0m[\u001b[32mInt\u001b[0m] = ScalaSymbol(5) : (NatInt)"
      ]
     },
     "metadata": {},
     "output_type": "display_data"
    }
   ],
   "source": [
    "s(3.term)"
   ]
  },
  {
   "cell_type": "markdown",
   "metadata": {},
   "source": [
    "We will also define the product"
   ]
  },
  {
   "cell_type": "code",
   "execution_count": 10,
   "metadata": {
    "collapsed": false
   },
   "outputs": [
    {
     "data": {
      "text/plain": [
       "\u001b[36mprod\u001b[0m: \u001b[32mFunc\u001b[0m[\u001b[32mRepTerm\u001b[0m[\u001b[32mInt\u001b[0m], \u001b[32mFunc\u001b[0m[\u001b[32mRepTerm\u001b[0m[\u001b[32mInt\u001b[0m], \u001b[32mRepTerm\u001b[0m[\u001b[32mInt\u001b[0m]]] = <function1>"
      ]
     },
     "metadata": {},
     "output_type": "display_data"
    }
   ],
   "source": [
    "val prod = ((n : Int) => (m: Int) => n * m).term"
   ]
  },
  {
   "cell_type": "code",
   "execution_count": 11,
   "metadata": {
    "collapsed": false
   },
   "outputs": [
    {
     "data": {
      "text/plain": [
       "\u001b[36mres10\u001b[0m: \u001b[32mRepTerm\u001b[0m[\u001b[32mInt\u001b[0m] = ScalaSymbol(8) : (NatInt)"
      ]
     },
     "metadata": {},
     "output_type": "display_data"
    }
   ],
   "source": [
    "prod(2.term)(4.term)"
   ]
  },
  {
   "cell_type": "code",
   "execution_count": 13,
   "metadata": {
    "collapsed": false
   },
   "outputs": [
    {
     "ename": "",
     "evalue": "",
     "output_type": "error",
     "traceback": [
      "Compilation Failed",
      "\u001b[31mMain.scala:312: value term is not a member of provingground.RepTerm[Int]",
      "res10.term",
      "      ^\u001b[0m"
     ]
    }
   ],
   "source": [
    "res10.term"
   ]
  },
  {
   "cell_type": "code",
   "execution_count": null,
   "metadata": {
    "collapsed": true
   },
   "outputs": [],
   "source": []
  }
 ],
 "metadata": {
  "kernelspec": {
   "display_name": "Scala 2.11",
   "language": "scala211",
   "name": "scala211"
  },
  "language_info": {
   "codemirror_mode": "text/x-scala",
   "file_extension": ".scala",
   "mimetype": "text/x-scala",
   "name": "scala211",
   "pygments_lexer": "scala",
   "version": "2.11.6"
  }
 },
 "nbformat": 4,
 "nbformat_minor": 0
}
