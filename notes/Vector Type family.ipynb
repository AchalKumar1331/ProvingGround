{
 "cells": [
  {
   "cell_type": "code",
   "execution_count": 1,
   "metadata": {
    "collapsed": false
   },
   "outputs": [
    {
     "data": {
      "text/plain": []
     },
     "metadata": {},
     "output_type": "display_data"
    }
   ],
   "source": [
    "load.jar(\"/home/gadgil/code/ProvingGround/core/.jvm/target/scala-2.11/ProvingGround-Core-assembly-0.8.jar\")"
   ]
  },
  {
   "cell_type": "code",
   "execution_count": 2,
   "metadata": {
    "collapsed": false
   },
   "outputs": [
    {
     "data": {
      "text/plain": [
       "\u001b[32mimport \u001b[36mprovingground._\u001b[0m\n",
       "\u001b[32mimport \u001b[36mNatRing._\u001b[0m\n",
       "\u001b[32mimport \u001b[36mNatVecTyps._\u001b[0m"
      ]
     },
     "metadata": {},
     "output_type": "display_data"
    }
   ],
   "source": [
    "import provingground._\n",
    "import NatRing._\n",
    "import NatVecTyps._"
   ]
  },
  {
   "cell_type": "code",
   "execution_count": 3,
   "metadata": {
    "collapsed": false
   },
   "outputs": [
    {
     "data": {
      "text/plain": [
       "\u001b[36mres2\u001b[0m: \u001b[32mHoTT\u001b[0m.\u001b[32mFunc\u001b[0m[\u001b[32mRepTerm\u001b[0m[\u001b[32mspire\u001b[0m.\u001b[32mmath\u001b[0m.\u001b[32mSafeLong\u001b[0m], \u001b[32mHoTT\u001b[0m.\u001b[32mTyp\u001b[0m[\u001b[32mRepTerm\u001b[0m[\u001b[32mVector\u001b[0m[\u001b[32mspire\u001b[0m.\u001b[32mmath\u001b[0m.\u001b[32mSafeLong\u001b[0m]]]] = <function1>"
      ]
     },
     "metadata": {},
     "output_type": "display_data"
    }
   ],
   "source": [
    "Vec"
   ]
  },
  {
   "cell_type": "code",
   "execution_count": 4,
   "metadata": {
    "collapsed": false
   },
   "outputs": [
    {
     "data": {
      "text/plain": [
       "\u001b[36mres3\u001b[0m: \u001b[32mHoTT\u001b[0m.\u001b[32mTyp\u001b[0m[\u001b[32mRepTerm\u001b[0m[\u001b[32mVector\u001b[0m[\u001b[32mspire\u001b[0m.\u001b[32mmath\u001b[0m.\u001b[32mSafeLong\u001b[0m]]] = IndexedVecTyp(Nat.Typ,1)"
      ]
     },
     "metadata": {},
     "output_type": "display_data"
    }
   ],
   "source": [
    "Vec(1)"
   ]
  },
  {
   "cell_type": "code",
   "execution_count": 5,
   "metadata": {
    "collapsed": false
   },
   "outputs": [
    {
     "data": {
      "text/plain": [
       "\u001b[36mres4\u001b[0m: \u001b[32mRepTerm\u001b[0m[\u001b[32mVector\u001b[0m[\u001b[32mspire\u001b[0m.\u001b[32mmath\u001b[0m.\u001b[32mSafeLong\u001b[0m]] = ScalaSymbol(Vector()) : (IndexedVecTyp(Nat.Typ,0))"
      ]
     },
     "metadata": {},
     "output_type": "display_data"
    }
   ],
   "source": [
    "NilVec"
   ]
  },
  {
   "cell_type": "code",
   "execution_count": 25,
   "metadata": {
    "collapsed": false
   },
   "outputs": [
    {
     "data": {
      "text/plain": [
       "\u001b[36mres24_0\u001b[0m: \u001b[32mFuncLike\u001b[0m[\u001b[32mNat\u001b[0m, \u001b[32mFunc\u001b[0m[\u001b[32mNat\u001b[0m, \u001b[32mFunc\u001b[0m[\u001b[32mRepTerm\u001b[0m[\u001b[32mVector\u001b[0m[\u001b[32mspire\u001b[0m.\u001b[32mmath\u001b[0m.\u001b[32mSafeLong\u001b[0m]], \u001b[32mRepTerm\u001b[0m[\u001b[32mVector\u001b[0m[\u001b[32mspire\u001b[0m.\u001b[32mmath\u001b[0m.\u001b[32mSafeLong\u001b[0m]]]]] = <function1>\n",
       "\u001b[36mres24_1\u001b[0m: \u001b[32mFunc\u001b[0m[\u001b[32mNat\u001b[0m, \u001b[32mFunc\u001b[0m[\u001b[32mRepTerm\u001b[0m[\u001b[32mVector\u001b[0m[\u001b[32mspire\u001b[0m.\u001b[32mmath\u001b[0m.\u001b[32mSafeLong\u001b[0m]], \u001b[32mRepTerm\u001b[0m[\u001b[32mVector\u001b[0m[\u001b[32mspire\u001b[0m.\u001b[32mmath\u001b[0m.\u001b[32mSafeLong\u001b[0m]]]] = <function1>\n",
       "\u001b[36mres24_2\u001b[0m: \u001b[32mTyp\u001b[0m[\u001b[32mTerm\u001b[0m] = (Nat.Typ) → (((<function1>) (ScalaSymbol(0) : (Nat.Typ))) → ((<function1>) (ScalaSymbol(1) : (Nat.Typ))))\n",
       "\u001b[36mres24_3\u001b[0m: \u001b[32mspire\u001b[0m.\u001b[32mmath\u001b[0m.\u001b[32mSafeLong\u001b[0m => \u001b[32mVector\u001b[0m[\u001b[32mspire\u001b[0m.\u001b[32mmath\u001b[0m.\u001b[32mSafeLong\u001b[0m] => \u001b[32mVector\u001b[0m[\u001b[32mspire\u001b[0m.\u001b[32mmath\u001b[0m.\u001b[32mSafeLong\u001b[0m] = <function1>"
      ]
     },
     "metadata": {},
     "output_type": "display_data"
    }
   ],
   "source": [
    "cons\n",
    "cons(0)\n",
    "cons(0).typ\n",
    "consFn(0)"
   ]
  },
  {
   "cell_type": "code",
   "execution_count": 23,
   "metadata": {
    "collapsed": false
   },
   "outputs": [
    {
     "ename": "",
     "evalue": "",
     "output_type": "error",
     "traceback": [
      "java.lang.IllegalArgumentException: requirement failed: function <function1> with domain (<function1>) (ScalaSymbol(0) : (Nat.Typ)) cannot act on term ScalaSymbol(Vector()) : (IndexedVecTyp(Nat.Typ,0)) with type IndexedVecTyp(Nat.Typ,0)",
      "\tscala.Predef$.require(Predef.scala:219)",
      "\tprovingground.HoTT$FuncLike$class.apply(HoTT.scala:651)",
      "\tprovingground.ScalaPolyRep$ExtendedFunction.apply(ScalaPolyRep.scala:156)",
      "\tcmd22$$user$$anonfun$3.apply(Main.scala:413)",
      "\tcmd22$$user$$anonfun$3.apply(Main.scala:412)"
     ]
    }
   ],
   "source": [
    "cons(0)(2)(NilVec)"
   ]
  },
  {
   "cell_type": "code",
   "execution_count": 8,
   "metadata": {
    "collapsed": false
   },
   "outputs": [
    {
     "ename": "",
     "evalue": "",
     "output_type": "error",
     "traceback": [
      "java.lang.IllegalArgumentException: requirement failed: function <function1> with domain (<function1>) (ScalaSymbol(0) : (Nat.Typ)) cannot act on term ScalaSymbol(Vector()) : (IndexedVecTyp(Nat.Typ,0)) with type IndexedVecTyp(Nat.Typ,0)",
      "\tscala.Predef$.require(Predef.scala:219)",
      "\tprovingground.HoTT$FuncLike$class.apply(HoTT.scala:651)",
      "\tprovingground.ScalaPolyRep$ExtendedFunction.apply(ScalaPolyRep.scala:156)",
      "\tcmd7$$user$$anonfun$1.apply(Main.scala:278)",
      "\tcmd7$$user$$anonfun$1.apply(Main.scala:277)"
     ]
    }
   ],
   "source": [
    "cons(1)(3)(cons(0)(2)(NilVec)) !: Vec(2)"
   ]
  },
  {
   "cell_type": "code",
   "execution_count": 9,
   "metadata": {
    "collapsed": false
   },
   "outputs": [
    {
     "data": {
      "text/plain": [
       "\u001b[36mres8\u001b[0m: \u001b[32mRepTerm\u001b[0m[\u001b[32mspire\u001b[0m.\u001b[32mmath\u001b[0m.\u001b[32mSafeLong\u001b[0m] with \u001b[32mHoTT\u001b[0m.\u001b[32mSubs\u001b[0m[\u001b[32mRepTerm\u001b[0m[\u001b[32mspire\u001b[0m.\u001b[32mmath\u001b[0m.\u001b[32mSafeLong\u001b[0m]] = n : (Nat.Typ)"
      ]
     },
     "metadata": {},
     "output_type": "display_data"
    }
   ],
   "source": [
    "n"
   ]
  },
  {
   "cell_type": "code",
   "execution_count": 10,
   "metadata": {
    "collapsed": false
   },
   "outputs": [
    {
     "data": {
      "text/plain": [
       "\u001b[36mk\u001b[0m: \u001b[32mRepTerm\u001b[0m[\u001b[32mspire\u001b[0m.\u001b[32mmath\u001b[0m.\u001b[32mSafeLong\u001b[0m] with \u001b[32mHoTT\u001b[0m.\u001b[32mSubs\u001b[0m[\u001b[32mRepTerm\u001b[0m[\u001b[32mspire\u001b[0m.\u001b[32mmath\u001b[0m.\u001b[32mSafeLong\u001b[0m]] = k : (Nat.Typ)"
      ]
     },
     "metadata": {},
     "output_type": "display_data"
    }
   ],
   "source": [
    "val k =\"k\" :: NatTyp"
   ]
  },
  {
   "cell_type": "code",
   "execution_count": 11,
   "metadata": {
    "collapsed": false
   },
   "outputs": [
    {
     "data": {
      "text/plain": [
       "\u001b[32mimport \u001b[36mHoTT._\u001b[0m\n",
       "\u001b[36mg\u001b[0m: \u001b[32mHoTT\u001b[0m.\u001b[32mFuncLike\u001b[0m[\u001b[32mRepTerm\u001b[0m[\u001b[32mspire\u001b[0m.\u001b[32mmath\u001b[0m.\u001b[32mSafeLong\u001b[0m] with \u001b[32mHoTT\u001b[0m.\u001b[32mSubs\u001b[0m[\u001b[32mRepTerm\u001b[0m[\u001b[32mspire\u001b[0m.\u001b[32mmath\u001b[0m.\u001b[32mSafeLong\u001b[0m]], \u001b[32mHoTT\u001b[0m.\u001b[32mFunc\u001b[0m[\u001b[32mRepTerm\u001b[0m[\u001b[32mVector\u001b[0m[\u001b[32mspire\u001b[0m.\u001b[32mmath\u001b[0m.\u001b[32mSafeLong\u001b[0m]], \u001b[32mRepTerm\u001b[0m[\u001b[32mVector\u001b[0m[\u001b[32mspire\u001b[0m.\u001b[32mmath\u001b[0m.\u001b[32mSafeLong\u001b[0m]]]] = (n : (Nat.Typ)) ↦ (((<function1>) (n : (Nat.Typ)) : ((Nat.Typ) → (((<function1>) (n : (Nat.Typ))) → ((<function1>) (((sum) (ScalaSymbol(1) : (Nat.Typ)) : ((Nat.Typ) → (Nat.Typ))) (n : (Nat.Typ)) : (Nat.Typ)))))) (((sum) (ScalaSymbol(1) : (Nat.Typ)) : ((Nat.Typ) → (Nat.Typ))) (n : (Nat.Typ)) : (Nat.Typ)) : (((<function1>) (n : (Nat.Typ))) → ((<function1>) (((sum) (ScalaSymbol(1) : (Nat.Typ)) : ((Nat.Typ) → (Nat.Typ))) (n : (Nat.Typ)) : (Nat.Typ)))))"
      ]
     },
     "metadata": {},
     "output_type": "display_data"
    }
   ],
   "source": [
    "import HoTT._\n",
    "val g = lambda(n)(cons(n)(succ(n)))"
   ]
  },
  {
   "cell_type": "code",
   "execution_count": 12,
   "metadata": {
    "collapsed": false
   },
   "outputs": [
    {
     "data": {
      "text/plain": [
       "\u001b[36mres11\u001b[0m: \u001b[32mTyp\u001b[0m[\u001b[32mTerm\u001b[0m] = ((<function1>) (ScalaSymbol(1) : (Nat.Typ))) → ((<function1>) (ScalaSymbol(2) : (Nat.Typ)))"
      ]
     },
     "metadata": {},
     "output_type": "display_data"
    }
   ],
   "source": [
    "g(1).typ"
   ]
  },
  {
   "cell_type": "code",
   "execution_count": 13,
   "metadata": {
    "collapsed": false
   },
   "outputs": [
    {
     "data": {
      "text/plain": [
       "\u001b[36mres12\u001b[0m: \u001b[32mFunc\u001b[0m[\u001b[32mRepTerm\u001b[0m[\u001b[32mspire\u001b[0m.\u001b[32mmath\u001b[0m.\u001b[32mSafeLong\u001b[0m] with \u001b[32mSubs\u001b[0m[\u001b[32mRepTerm\u001b[0m[\u001b[32mspire\u001b[0m.\u001b[32mmath\u001b[0m.\u001b[32mSafeLong\u001b[0m]], \u001b[32mLocalTerm\u001b[0m] = (x : (Nat.Typ)) ↦ (((sum) (ScalaSymbol(1) : (Nat.Typ)) : ((Nat.Typ) → (Nat.Typ))) (x : (Nat.Typ)) : (Nat.Typ))"
      ]
     },
     "metadata": {},
     "output_type": "display_data"
    }
   ],
   "source": [
    "succ"
   ]
  },
  {
   "cell_type": "code",
   "execution_count": 14,
   "metadata": {
    "collapsed": false
   },
   "outputs": [
    {
     "data": {
      "text/plain": [
       "\u001b[36mtypFamily\u001b[0m: \u001b[32mFunc\u001b[0m[\u001b[32mRepTerm\u001b[0m[\u001b[32mspire\u001b[0m.\u001b[32mmath\u001b[0m.\u001b[32mSafeLong\u001b[0m] with \u001b[32mSubs\u001b[0m[\u001b[32mRepTerm\u001b[0m[\u001b[32mspire\u001b[0m.\u001b[32mmath\u001b[0m.\u001b[32mSafeLong\u001b[0m]], \u001b[32mTyp\u001b[0m[\u001b[32mRepTerm\u001b[0m[\u001b[32mVector\u001b[0m[\u001b[32mspire\u001b[0m.\u001b[32mmath\u001b[0m.\u001b[32mSafeLong\u001b[0m]]]] = (n : (Nat.Typ)) ↦ ((<function1>) (((sum) (ScalaSymbol(1) : (Nat.Typ)) : ((Nat.Typ) → (Nat.Typ))) (n : (Nat.Typ)) : (Nat.Typ)))"
      ]
     },
     "metadata": {},
     "output_type": "display_data"
    }
   ],
   "source": [
    "val typFamily = lmbda(n)(Vec(succ(n)))"
   ]
  },
  {
   "cell_type": "code",
   "execution_count": 15,
   "metadata": {
    "collapsed": false
   },
   "outputs": [
    {
     "data": {
      "text/plain": [
       "\u001b[36minit\u001b[0m: \u001b[32mRepTerm\u001b[0m[\u001b[32mVector\u001b[0m[\u001b[32mspire\u001b[0m.\u001b[32mmath\u001b[0m.\u001b[32mSafeLong\u001b[0m]] = ScalaSymbol(Vector()) : (IndexedVecTyp(Nat.Typ,0))"
      ]
     },
     "metadata": {},
     "output_type": "display_data"
    }
   ],
   "source": [
    "val init = NilVec"
   ]
  },
  {
   "cell_type": "code",
   "execution_count": 16,
   "metadata": {
    "collapsed": false
   },
   "outputs": [
    {
     "data": {
      "text/plain": [
       "\u001b[36mcountdown\u001b[0m: \u001b[32mInduc\u001b[0m[\u001b[32mRepTerm\u001b[0m[\u001b[32mVector\u001b[0m[\u001b[32mspire\u001b[0m.\u001b[32mmath\u001b[0m.\u001b[32mSafeLong\u001b[0m]]] = \u001b[33mInduc\u001b[0m(\n",
       "  (n : (Nat.Typ)) ↦ ((<function1>) (((sum) (ScalaSymbol(1) : (Nat.Typ)) : ((Nat.Typ) → (Nat.Typ))) (n : (Nat.Typ)) : (Nat.Typ))),\n",
       "  ScalaSymbol(Vector()) : (IndexedVecTyp(Nat.Typ,0)),\n",
       "  (n : (Nat.Typ)) ↦ (((<function1>) (n : (Nat.Typ)) : ((Nat.Typ) → (((<function1>) (n : (Nat.Typ))) → ((<function1>) (((sum) (ScalaSymbol(1) : (Nat.Typ)) : ((Nat.Typ) → (Nat.Typ))) (n : (Nat.Typ)) : (Nat.Typ)))))) (((sum) (ScalaSymbol(1) : (Nat.Typ)) : ((Nat.Typ) → (Nat.Typ))) (n : (Nat.Typ)) : (Nat.Typ)) : (((<function1>) (n : (Nat.Typ))) → ((<function1>) (((sum) (ScalaSymbol(1) : (Nat.Typ)) : ((Nat.Typ) → (Nat.Typ))) (n : (Nat.Typ)) : (Nat.Typ)))))\n",
       ")"
      ]
     },
     "metadata": {},
     "output_type": "display_data"
    }
   ],
   "source": [
    "val countdown = Induc(typFamily, init, g)"
   ]
  },
  {
   "cell_type": "code",
   "execution_count": 17,
   "metadata": {
    "collapsed": false
   },
   "outputs": [
    {
     "data": {
      "text/plain": [
       "\u001b[36mres16\u001b[0m: \u001b[32mRepTerm\u001b[0m[\u001b[32mVector\u001b[0m[\u001b[32mspire\u001b[0m.\u001b[32mmath\u001b[0m.\u001b[32mSafeLong\u001b[0m]] = ScalaSymbol(Vector()) : (IndexedVecTyp(Nat.Typ,0))"
      ]
     },
     "metadata": {},
     "output_type": "display_data"
    }
   ],
   "source": [
    "countdown(0)"
   ]
  },
  {
   "cell_type": "code",
   "execution_count": 18,
   "metadata": {
    "collapsed": false
   },
   "outputs": [
    {
     "ename": "",
     "evalue": "",
     "output_type": "error",
     "traceback": [
      "java.lang.IllegalArgumentException: requirement failed: function <function1> with domain (<function1>) (ScalaSymbol(0) : (Nat.Typ)) cannot act on term ScalaSymbol(Vector()) : (IndexedVecTyp(Nat.Typ,0)) with type IndexedVecTyp(Nat.Typ,0)",
      "\tscala.Predef$.require(Predef.scala:219)",
      "\tprovingground.HoTT$FuncLike$class.apply(HoTT.scala:651)",
      "\tprovingground.ScalaPolyRep$ExtendedFunction.apply(ScalaPolyRep.scala:156)",
      "\tprovingground.ScalaPolyRep$ExtendedFunction.apply(ScalaPolyRep.scala:156)",
      "\tprovingground.NatRing$.recDefn(NatRing.scala:27)",
      "\tprovingground.NatRing$Induc.act(NatRing.scala:64)",
      "\tprovingground.NatRing$Induc.act(NatRing.scala:49)",
      "\tprovingground.HoTT$FuncLike$class.apply(HoTT.scala:656)",
      "\tprovingground.NatRing$Induc.apply(NatRing.scala:49)",
      "\tcmd17$$user$$anonfun$1.apply(Main.scala:399)",
      "\tcmd17$$user$$anonfun$1.apply(Main.scala:398)"
     ]
    }
   ],
   "source": [
    "countdown(1)"
   ]
  },
  {
   "cell_type": "code",
   "execution_count": 19,
   "metadata": {
    "collapsed": false
   },
   "outputs": [
    {
     "data": {
      "text/plain": [
       "\u001b[36mres18_0\u001b[0m: \u001b[32mTyp\u001b[0m[\u001b[32mTerm\u001b[0m] = ((<function1>) (ScalaSymbol(1) : (Nat.Typ))) → ((<function1>) (ScalaSymbol(2) : (Nat.Typ)))\n",
       "\u001b[36mres18_1\u001b[0m: \u001b[32mTyp\u001b[0m[\u001b[32mTerm\u001b[0m] = ((<function1>) (ScalaSymbol(2) : (Nat.Typ))) → ((<function1>) (ScalaSymbol(3) : (Nat.Typ)))"
      ]
     },
     "metadata": {},
     "output_type": "display_data"
    }
   ],
   "source": [
    "g(1).typ\n",
    "g(2).typ"
   ]
  },
  {
   "cell_type": "code",
   "execution_count": 20,
   "metadata": {
    "collapsed": false
   },
   "outputs": [
    {
     "ename": "",
     "evalue": "",
     "output_type": "error",
     "traceback": [
      "java.lang.IllegalArgumentException: requirement failed: function <function1> with domain (<function1>) (ScalaSymbol(0) : (Nat.Typ)) cannot act on term ScalaSymbol(Vector()) : (IndexedVecTyp(Nat.Typ,0)) with type IndexedVecTyp(Nat.Typ,0)",
      "\tscala.Predef$.require(Predef.scala:219)",
      "\tprovingground.HoTT$FuncLike$class.apply(HoTT.scala:651)",
      "\tprovingground.ScalaPolyRep$ExtendedFunction.apply(ScalaPolyRep.scala:156)",
      "\tprovingground.ScalaPolyRep$ExtendedFunction.apply(ScalaPolyRep.scala:156)",
      "\tprovingground.NatRing$.recDefn(NatRing.scala:27)",
      "\tprovingground.NatRing$.recDefn(NatRing.scala:27)",
      "\tprovingground.NatRing$Induc.act(NatRing.scala:64)",
      "\tprovingground.NatRing$Induc.act(NatRing.scala:49)",
      "\tprovingground.HoTT$FuncLike$class.apply(HoTT.scala:656)",
      "\tprovingground.NatRing$Induc.apply(NatRing.scala:49)",
      "\tcmd19$$user$$anonfun$1.apply(Main.scala:404)",
      "\tcmd19$$user$$anonfun$1.apply(Main.scala:403)"
     ]
    }
   ],
   "source": [
    "countdown(2)"
   ]
  },
  {
   "cell_type": "code",
   "execution_count": 21,
   "metadata": {
    "collapsed": false
   },
   "outputs": [
    {
     "ename": "",
     "evalue": "",
     "output_type": "error",
     "traceback": [
      "java.lang.IllegalArgumentException: requirement failed: function <function1> with domain (<function1>) (ScalaSymbol(0) : (Nat.Typ)) cannot act on term ScalaSymbol(Vector()) : (IndexedVecTyp(Nat.Typ,0)) with type IndexedVecTyp(Nat.Typ,0)",
      "\tscala.Predef$.require(Predef.scala:219)",
      "\tprovingground.HoTT$FuncLike$class.apply(HoTT.scala:651)",
      "\tprovingground.ScalaPolyRep$ExtendedFunction.apply(ScalaPolyRep.scala:156)",
      "\tprovingground.ScalaPolyRep$ExtendedFunction.apply(ScalaPolyRep.scala:156)",
      "\tprovingground.NatRing$.recDefn(NatRing.scala:27)",
      "\tprovingground.NatRing$.recDefn(NatRing.scala:27)",
      "\tprovingground.NatRing$.recDefn(NatRing.scala:27)",
      "\tprovingground.NatRing$.recDefn(NatRing.scala:27)",
      "\tprovingground.NatRing$.recDefn(NatRing.scala:27)",
      "\tprovingground.NatRing$.recDefn(NatRing.scala:27)",
      "\tprovingground.NatRing$.recDefn(NatRing.scala:27)",
      "\tprovingground.NatRing$.recDefn(NatRing.scala:27)",
      "\tprovingground.NatRing$.recDefn(NatRing.scala:27)",
      "\tprovingground.NatRing$.recDefn(NatRing.scala:27)",
      "\tprovingground.NatRing$Induc.act(NatRing.scala:64)",
      "\tprovingground.NatRing$Induc.act(NatRing.scala:49)",
      "\tprovingground.HoTT$FuncLike$class.apply(HoTT.scala:656)",
      "\tprovingground.NatRing$Induc.apply(NatRing.scala:49)",
      "\tcmd20$$user$$anonfun$1.apply(Main.scala:404)",
      "\tcmd20$$user$$anonfun$1.apply(Main.scala:403)"
     ]
    }
   ],
   "source": [
    "countdown(10)"
   ]
  }
 ],
 "metadata": {
  "kernelspec": {
   "display_name": "Scala 2.11",
   "language": "scala211",
   "name": "scala211"
  },
  "language_info": {
   "codemirror_mode": "text/x-scala",
   "file_extension": ".scala",
   "mimetype": "text/x-scala",
   "name": "scala211",
   "pygments_lexer": "scala",
   "version": "2.11.6"
  }
 },
 "nbformat": 4,
 "nbformat_minor": 0
}
