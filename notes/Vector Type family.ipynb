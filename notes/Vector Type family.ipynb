{
 "cells": [
  {
   "cell_type": "code",
   "execution_count": 22,
   "metadata": {
    "collapsed": false
   },
   "outputs": [
    {
     "data": {
      "text/plain": []
     },
     "metadata": {},
     "output_type": "display_data"
    }
   ],
   "source": [
    "load.jar(\"/home/gadgil/code/ProvingGround/core/.jvm/target/scala-2.11/ProvingGround-Core-assembly-0.8.jar\")"
   ]
  },
  {
   "cell_type": "code",
   "execution_count": 23,
   "metadata": {
    "collapsed": false
   },
   "outputs": [
    {
     "data": {
      "text/plain": [
       "\u001b[32mimport \u001b[36mprovingground._\u001b[0m\n",
       "\u001b[32mimport \u001b[36mNatRing._\u001b[0m\n",
       "\u001b[32mimport \u001b[36mNatVecTyps._\u001b[0m"
      ]
     },
     "metadata": {},
     "output_type": "display_data"
    }
   ],
   "source": [
    "import provingground._\n",
    "import NatRing._\n",
    "import NatVecTyps._"
   ]
  },
  {
   "cell_type": "code",
   "execution_count": 24,
   "metadata": {
    "collapsed": false
   },
   "outputs": [
    {
     "data": {
      "text/plain": [
       "\u001b[36mres23\u001b[0m: \u001b[32mFunc\u001b[0m[\u001b[32mRepTerm\u001b[0m[\u001b[32mspire\u001b[0m.\u001b[32mmath\u001b[0m.\u001b[32mSafeLong\u001b[0m], \u001b[32mTyp\u001b[0m[\u001b[32mRepTerm\u001b[0m[\u001b[32mVector\u001b[0m[\u001b[32mspire\u001b[0m.\u001b[32mmath\u001b[0m.\u001b[32mSafeLong\u001b[0m]]]] = <function1>"
      ]
     },
     "metadata": {},
     "output_type": "display_data"
    }
   ],
   "source": [
    "Vec"
   ]
  },
  {
   "cell_type": "code",
   "execution_count": 25,
   "metadata": {
    "collapsed": false
   },
   "outputs": [
    {
     "data": {
      "text/plain": [
       "\u001b[36mres24\u001b[0m: \u001b[32mTyp\u001b[0m[\u001b[32mRepTerm\u001b[0m[\u001b[32mVector\u001b[0m[\u001b[32mspire\u001b[0m.\u001b[32mmath\u001b[0m.\u001b[32mSafeLong\u001b[0m]]] = IndexedVecTyp(Nat.Typ,1)"
      ]
     },
     "metadata": {},
     "output_type": "display_data"
    }
   ],
   "source": [
    "Vec(1)"
   ]
  },
  {
   "cell_type": "code",
   "execution_count": 26,
   "metadata": {
    "collapsed": false
   },
   "outputs": [
    {
     "data": {
      "text/plain": [
       "\u001b[36mres25\u001b[0m: \u001b[32mRepTerm\u001b[0m[\u001b[32mVector\u001b[0m[\u001b[32mspire\u001b[0m.\u001b[32mmath\u001b[0m.\u001b[32mSafeLong\u001b[0m]] = ScalaSymbol(Vector()) : (IndexedVecTyp(Nat.Typ,0))"
      ]
     },
     "metadata": {},
     "output_type": "display_data"
    }
   ],
   "source": [
    "NilVec"
   ]
  },
  {
   "cell_type": "code",
   "execution_count": 27,
   "metadata": {
    "collapsed": false
   },
   "outputs": [
    {
     "data": {
      "text/plain": [
       "\u001b[36mres26\u001b[0m: \u001b[32mFuncLike\u001b[0m[\u001b[32mNat\u001b[0m, \u001b[32mFunc\u001b[0m[\u001b[32mNat\u001b[0m, \u001b[32mFunc\u001b[0m[\u001b[32mRepTerm\u001b[0m[\u001b[32mVector\u001b[0m[\u001b[32mspire\u001b[0m.\u001b[32mmath\u001b[0m.\u001b[32mSafeLong\u001b[0m]], \u001b[32mRepTerm\u001b[0m[\u001b[32mVector\u001b[0m[\u001b[32mspire\u001b[0m.\u001b[32mmath\u001b[0m.\u001b[32mSafeLong\u001b[0m]]]]] = <function1>"
      ]
     },
     "metadata": {},
     "output_type": "display_data"
    }
   ],
   "source": [
    "cons"
   ]
  },
  {
   "cell_type": "code",
   "execution_count": 28,
   "metadata": {
    "collapsed": false
   },
   "outputs": [
    {
     "data": {
      "text/plain": [
       "\u001b[36mres27\u001b[0m: \u001b[32mRepTerm\u001b[0m[\u001b[32mVector\u001b[0m[\u001b[32mspire\u001b[0m.\u001b[32mmath\u001b[0m.\u001b[32mSafeLong\u001b[0m]] = ScalaSymbol(Vector(2)) : (IndexedVecTyp(Nat.Typ,1))"
      ]
     },
     "metadata": {},
     "output_type": "display_data"
    }
   ],
   "source": [
    "cons(0)(2)(NilVec)"
   ]
  },
  {
   "cell_type": "code",
   "execution_count": 29,
   "metadata": {
    "collapsed": false
   },
   "outputs": [
    {
     "data": {
      "text/plain": [
       "\u001b[36mres28\u001b[0m: \u001b[32mRepTerm\u001b[0m[\u001b[32mVector\u001b[0m[\u001b[32mspire\u001b[0m.\u001b[32mmath\u001b[0m.\u001b[32mSafeLong\u001b[0m]] = ScalaSymbol(Vector(3, 2)) : (IndexedVecTyp(Nat.Typ,2))"
      ]
     },
     "metadata": {},
     "output_type": "display_data"
    }
   ],
   "source": [
    "cons(1)(3)(cons(0)(2)(NilVec)) !: Vec(2)"
   ]
  },
  {
   "cell_type": "code",
   "execution_count": 30,
   "metadata": {
    "collapsed": false
   },
   "outputs": [
    {
     "data": {
      "text/plain": [
       "\u001b[36mres29\u001b[0m: \u001b[32mRepTerm\u001b[0m[\u001b[32mspire\u001b[0m.\u001b[32mmath\u001b[0m.\u001b[32mSafeLong\u001b[0m] with \u001b[32mSubs\u001b[0m[\u001b[32mRepTerm\u001b[0m[\u001b[32mspire\u001b[0m.\u001b[32mmath\u001b[0m.\u001b[32mSafeLong\u001b[0m]] = n : (Nat.Typ)"
      ]
     },
     "metadata": {},
     "output_type": "display_data"
    }
   ],
   "source": [
    "n"
   ]
  },
  {
   "cell_type": "code",
   "execution_count": 31,
   "metadata": {
    "collapsed": false
   },
   "outputs": [
    {
     "data": {
      "text/plain": [
       "\u001b[36mk\u001b[0m: \u001b[32mRepTerm\u001b[0m[\u001b[32mspire\u001b[0m.\u001b[32mmath\u001b[0m.\u001b[32mSafeLong\u001b[0m] with \u001b[32mSubs\u001b[0m[\u001b[32mRepTerm\u001b[0m[\u001b[32mspire\u001b[0m.\u001b[32mmath\u001b[0m.\u001b[32mSafeLong\u001b[0m]] = k : (Nat.Typ)"
      ]
     },
     "metadata": {},
     "output_type": "display_data"
    }
   ],
   "source": [
    "val k =\"k\" :: NatTyp"
   ]
  },
  {
   "cell_type": "code",
   "execution_count": 32,
   "metadata": {
    "collapsed": false
   },
   "outputs": [
    {
     "data": {
      "text/plain": [
       "\u001b[32mimport \u001b[36mHoTT._\u001b[0m\n",
       "\u001b[36mg\u001b[0m: \u001b[32mFuncLike\u001b[0m[\u001b[32mRepTerm\u001b[0m[\u001b[32mspire\u001b[0m.\u001b[32mmath\u001b[0m.\u001b[32mSafeLong\u001b[0m] with \u001b[32mSubs\u001b[0m[\u001b[32mRepTerm\u001b[0m[\u001b[32mspire\u001b[0m.\u001b[32mmath\u001b[0m.\u001b[32mSafeLong\u001b[0m]], \u001b[32mFunc\u001b[0m[\u001b[32mRepTerm\u001b[0m[\u001b[32mVector\u001b[0m[\u001b[32mspire\u001b[0m.\u001b[32mmath\u001b[0m.\u001b[32mSafeLong\u001b[0m]], \u001b[32mRepTerm\u001b[0m[\u001b[32mVector\u001b[0m[\u001b[32mspire\u001b[0m.\u001b[32mmath\u001b[0m.\u001b[32mSafeLong\u001b[0m]]]] = (n : (Nat.Typ)) ↦ (((<function1>) (n : (Nat.Typ)) : ((Nat.Typ) → (((<function1>) (n : (Nat.Typ))) → ((<function1>) (((sum) (ScalaSymbol(1) : (Nat.Typ)) : ((Nat.Typ) → (Nat.Typ))) (n : (Nat.Typ)) : (Nat.Typ)))))) (((sum) (ScalaSymbol(1) : (Nat.Typ)) : ((Nat.Typ) → (Nat.Typ))) (n : (Nat.Typ)) : (Nat.Typ)) : (((<function1>) (n : (Nat.Typ))) → ((<function1>) (((sum) (ScalaSymbol(1) : (Nat.Typ)) : ((Nat.Typ) → (Nat.Typ))) (n : (Nat.Typ)) : (Nat.Typ)))))"
      ]
     },
     "metadata": {},
     "output_type": "display_data"
    }
   ],
   "source": [
    "import HoTT._\n",
    "val g = lambda(n)(cons(n)(succ(n)))"
   ]
  },
  {
   "cell_type": "code",
   "execution_count": 33,
   "metadata": {
    "collapsed": false
   },
   "outputs": [
    {
     "data": {
      "text/plain": [
       "\u001b[36mres32\u001b[0m: \u001b[32mTyp\u001b[0m[\u001b[32mTerm\u001b[0m] = (IndexedVecTyp(Nat.Typ,1)) → (IndexedVecTyp(Nat.Typ,2))"
      ]
     },
     "metadata": {},
     "output_type": "display_data"
    }
   ],
   "source": [
    "g(1).typ"
   ]
  },
  {
   "cell_type": "code",
   "execution_count": 34,
   "metadata": {
    "collapsed": false
   },
   "outputs": [
    {
     "data": {
      "text/plain": [
       "\u001b[36mres33\u001b[0m: \u001b[32mFunc\u001b[0m[\u001b[32mRepTerm\u001b[0m[\u001b[32mspire\u001b[0m.\u001b[32mmath\u001b[0m.\u001b[32mSafeLong\u001b[0m] with \u001b[32mSubs\u001b[0m[\u001b[32mRepTerm\u001b[0m[\u001b[32mspire\u001b[0m.\u001b[32mmath\u001b[0m.\u001b[32mSafeLong\u001b[0m]], \u001b[32mLocalTerm\u001b[0m] = (x : (Nat.Typ)) ↦ (((sum) (ScalaSymbol(1) : (Nat.Typ)) : ((Nat.Typ) → (Nat.Typ))) (x : (Nat.Typ)) : (Nat.Typ))"
      ]
     },
     "metadata": {},
     "output_type": "display_data"
    }
   ],
   "source": [
    "succ"
   ]
  },
  {
   "cell_type": "code",
   "execution_count": 35,
   "metadata": {
    "collapsed": false
   },
   "outputs": [
    {
     "data": {
      "text/plain": [
       "\u001b[36mtypFamily\u001b[0m: \u001b[32mFunc\u001b[0m[\u001b[32mRepTerm\u001b[0m[\u001b[32mspire\u001b[0m.\u001b[32mmath\u001b[0m.\u001b[32mSafeLong\u001b[0m] with \u001b[32mSubs\u001b[0m[\u001b[32mRepTerm\u001b[0m[\u001b[32mspire\u001b[0m.\u001b[32mmath\u001b[0m.\u001b[32mSafeLong\u001b[0m]], \u001b[32mTyp\u001b[0m[\u001b[32mRepTerm\u001b[0m[\u001b[32mVector\u001b[0m[\u001b[32mspire\u001b[0m.\u001b[32mmath\u001b[0m.\u001b[32mSafeLong\u001b[0m]]]] = (n : (Nat.Typ)) ↦ ((<function1>) (((sum) (ScalaSymbol(1) : (Nat.Typ)) : ((Nat.Typ) → (Nat.Typ))) (n : (Nat.Typ)) : (Nat.Typ)))"
      ]
     },
     "metadata": {},
     "output_type": "display_data"
    }
   ],
   "source": [
    "val typFamily = lmbda(n)(Vec(succ(n)))"
   ]
  },
  {
   "cell_type": "code",
   "execution_count": 36,
   "metadata": {
    "collapsed": false
   },
   "outputs": [
    {
     "data": {
      "text/plain": [
       "\u001b[36minit\u001b[0m: \u001b[32mRepTerm\u001b[0m[\u001b[32mVector\u001b[0m[\u001b[32mspire\u001b[0m.\u001b[32mmath\u001b[0m.\u001b[32mSafeLong\u001b[0m]] = ScalaSymbol(Vector()) : (IndexedVecTyp(Nat.Typ,0))"
      ]
     },
     "metadata": {},
     "output_type": "display_data"
    }
   ],
   "source": [
    "val init = NilVec"
   ]
  },
  {
   "cell_type": "code",
   "execution_count": 37,
   "metadata": {
    "collapsed": false
   },
   "outputs": [
    {
     "data": {
      "text/plain": [
       "\u001b[36mcountdown\u001b[0m: \u001b[32mInduc\u001b[0m[\u001b[32mRepTerm\u001b[0m[\u001b[32mVector\u001b[0m[\u001b[32mspire\u001b[0m.\u001b[32mmath\u001b[0m.\u001b[32mSafeLong\u001b[0m]]] = \u001b[33mInduc\u001b[0m(\n",
       "  (n : (Nat.Typ)) ↦ ((<function1>) (((sum) (ScalaSymbol(1) : (Nat.Typ)) : ((Nat.Typ) → (Nat.Typ))) (n : (Nat.Typ)) : (Nat.Typ))),\n",
       "  ScalaSymbol(Vector()) : (IndexedVecTyp(Nat.Typ,0)),\n",
       "  (n : (Nat.Typ)) ↦ (((<function1>) (n : (Nat.Typ)) : ((Nat.Typ) → (((<function1>) (n : (Nat.Typ))) → ((<function1>) (((sum) (ScalaSymbol(1) : (Nat.Typ)) : ((Nat.Typ) → (Nat.Typ))) (n : (Nat.Typ)) : (Nat.Typ)))))) (((sum) (ScalaSymbol(1) : (Nat.Typ)) : ((Nat.Typ) → (Nat.Typ))) (n : (Nat.Typ)) : (Nat.Typ)) : (((<function1>) (n : (Nat.Typ))) → ((<function1>) (((sum) (ScalaSymbol(1) : (Nat.Typ)) : ((Nat.Typ) → (Nat.Typ))) (n : (Nat.Typ)) : (Nat.Typ)))))\n",
       ")"
      ]
     },
     "metadata": {},
     "output_type": "display_data"
    }
   ],
   "source": [
    "val countdown = Induc(typFamily, init, g)"
   ]
  },
  {
   "cell_type": "code",
   "execution_count": 38,
   "metadata": {
    "collapsed": false
   },
   "outputs": [
    {
     "data": {
      "text/plain": [
       "\u001b[36mres37\u001b[0m: \u001b[32mRepTerm\u001b[0m[\u001b[32mVector\u001b[0m[\u001b[32mspire\u001b[0m.\u001b[32mmath\u001b[0m.\u001b[32mSafeLong\u001b[0m]] = ScalaSymbol(Vector()) : (IndexedVecTyp(Nat.Typ,0))"
      ]
     },
     "metadata": {},
     "output_type": "display_data"
    }
   ],
   "source": [
    "countdown(0)"
   ]
  },
  {
   "cell_type": "code",
   "execution_count": 39,
   "metadata": {
    "collapsed": false
   },
   "outputs": [
    {
     "data": {
      "text/plain": [
       "\u001b[36mres38\u001b[0m: \u001b[32mRepTerm\u001b[0m[\u001b[32mVector\u001b[0m[\u001b[32mspire\u001b[0m.\u001b[32mmath\u001b[0m.\u001b[32mSafeLong\u001b[0m]] = ScalaSymbol(Vector(1)) : (IndexedVecTyp(Nat.Typ,1))"
      ]
     },
     "metadata": {},
     "output_type": "display_data"
    }
   ],
   "source": [
    "countdown(1)"
   ]
  },
  {
   "cell_type": "code",
   "execution_count": 40,
   "metadata": {
    "collapsed": false
   },
   "outputs": [
    {
     "data": {
      "text/plain": [
       "\u001b[36mres39_0\u001b[0m: \u001b[32mTyp\u001b[0m[\u001b[32mTerm\u001b[0m] = (IndexedVecTyp(Nat.Typ,1)) → (IndexedVecTyp(Nat.Typ,2))\n",
       "\u001b[36mres39_1\u001b[0m: \u001b[32mTyp\u001b[0m[\u001b[32mTerm\u001b[0m] = (IndexedVecTyp(Nat.Typ,2)) → (IndexedVecTyp(Nat.Typ,3))"
      ]
     },
     "metadata": {},
     "output_type": "display_data"
    }
   ],
   "source": [
    "g(1).typ\n",
    "g(2).typ"
   ]
  },
  {
   "cell_type": "code",
   "execution_count": 41,
   "metadata": {
    "collapsed": false
   },
   "outputs": [
    {
     "data": {
      "text/plain": [
       "\u001b[36mres40\u001b[0m: \u001b[32mRepTerm\u001b[0m[\u001b[32mVector\u001b[0m[\u001b[32mspire\u001b[0m.\u001b[32mmath\u001b[0m.\u001b[32mSafeLong\u001b[0m]] = ScalaSymbol(Vector(2, 1)) : (IndexedVecTyp(Nat.Typ,2))"
      ]
     },
     "metadata": {},
     "output_type": "display_data"
    }
   ],
   "source": [
    "countdown(2)"
   ]
  },
  {
   "cell_type": "code",
   "execution_count": 42,
   "metadata": {
    "collapsed": false
   },
   "outputs": [
    {
     "data": {
      "text/plain": [
       "\u001b[36mres41\u001b[0m: \u001b[32mRepTerm\u001b[0m[\u001b[32mVector\u001b[0m[\u001b[32mspire\u001b[0m.\u001b[32mmath\u001b[0m.\u001b[32mSafeLong\u001b[0m]] = ScalaSymbol(Vector(10, 9, 8, 7, 6, 5, 4, 3, 2, 1)) : (IndexedVecTyp(Nat.Typ,10))"
      ]
     },
     "metadata": {},
     "output_type": "display_data"
    }
   ],
   "source": [
    "countdown(10)"
   ]
  }
 ],
 "metadata": {
  "kernelspec": {
   "display_name": "Scala 2.11",
   "language": "scala211",
   "name": "scala211"
  },
  "language_info": {
   "codemirror_mode": "text/x-scala",
   "file_extension": ".scala",
   "mimetype": "text/x-scala",
   "name": "scala211",
   "pygments_lexer": "scala",
   "version": "2.11.6"
  }
 },
 "nbformat": 4,
 "nbformat_minor": 0
}
