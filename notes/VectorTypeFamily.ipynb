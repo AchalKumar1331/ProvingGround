{
 "cells": [
  {
   "cell_type": "code",
   "execution_count": 3,
   "metadata": {
    "collapsed": false
   },
   "outputs": [
    {
     "data": {
      "text/plain": [
       "\u001b[32mimport \u001b[39m\u001b[36m$ivy.$                                       \u001b[39m"
      ]
     },
     "execution_count": 3,
     "metadata": {},
     "output_type": "execute_result"
    }
   ],
   "source": [
    "import $ivy.`in.ac.iisc.math::core-jvm:0.1-SNAPSHOT`"
   ]
  },
  {
   "cell_type": "code",
   "execution_count": 4,
   "metadata": {
    "collapsed": false
   },
   "outputs": [
    {
     "data": {
      "text/plain": [
       "\u001b[32mimport \u001b[39m\u001b[36mprovingground._, scalahott._, HoTT._\n",
       "\u001b[39m\n",
       "\u001b[32mimport \u001b[39m\u001b[36mNatRing._\n",
       "\u001b[39m\n",
       "\u001b[32mimport \u001b[39m\u001b[36mNatVecTyps._\u001b[39m"
      ]
     },
     "execution_count": 4,
     "metadata": {},
     "output_type": "execute_result"
    }
   ],
   "source": [
    "import provingground._, scalahott._, HoTT._\n",
    "import NatRing._\n",
    "import NatVecTyps._"
   ]
  },
  {
   "cell_type": "code",
   "execution_count": 5,
   "metadata": {
    "collapsed": false
   },
   "outputs": [
    {
     "data": {
      "text/plain": [
       "\u001b[36mres4\u001b[39m: \u001b[32mFunc\u001b[39m[\u001b[32mRepTerm\u001b[39m[\u001b[32mspire\u001b[39m.\u001b[32mmath\u001b[39m.\u001b[32mSafeLong\u001b[39m], \u001b[32mTyp\u001b[39m[\u001b[32mRepTerm\u001b[39m[\u001b[32mVector\u001b[39m[\u001b[32mspire\u001b[39m.\u001b[32mmath\u001b[39m.\u001b[32mSafeLong\u001b[39m]]]] = \u001b[33mExtendedFunction\u001b[39m(\n",
       "  provingground.scalahott.VecTyps$$Lambda$2272/582082758@6c76fc47,\n",
       "  \u001b[33mSimpleRep\u001b[39m(Nat.Typ),\n",
       "  \u001b[33mIdRep\u001b[39m(ScalaTypUniv())\n",
       ")"
      ]
     },
     "execution_count": 5,
     "metadata": {},
     "output_type": "execute_result"
    }
   ],
   "source": [
    "Vec"
   ]
  },
  {
   "cell_type": "code",
   "execution_count": 6,
   "metadata": {
    "collapsed": false
   },
   "outputs": [
    {
     "data": {
      "text/plain": [
       "\u001b[36mres5\u001b[39m: \u001b[32mTyp\u001b[39m[\u001b[32mRepTerm\u001b[39m[\u001b[32mVector\u001b[39m[\u001b[32mspire\u001b[39m.\u001b[32mmath\u001b[39m.\u001b[32mSafeLong\u001b[39m]]] = \u001b[33mIndexedVecTyp\u001b[39m(\n",
       "  Nat.Typ,\n",
       "  \u001b[33mSafeLongLong\u001b[39m(\u001b[32m1L\u001b[39m)\n",
       ")"
      ]
     },
     "execution_count": 6,
     "metadata": {},
     "output_type": "execute_result"
    }
   ],
   "source": [
    "Vec(1)"
   ]
  },
  {
   "cell_type": "code",
   "execution_count": 7,
   "metadata": {
    "collapsed": false
   },
   "outputs": [
    {
     "data": {
      "text/plain": [
       "\u001b[36mres6\u001b[39m: \u001b[32mRepTerm\u001b[39m[\u001b[32mVector\u001b[39m[\u001b[32mspire\u001b[39m.\u001b[32mmath\u001b[39m.\u001b[32mSafeLong\u001b[39m]] = \u001b[33mRepSymbObj\u001b[39m(\n",
       "  \u001b[33mScalaSymbol\u001b[39m(\u001b[33mVector\u001b[39m()),\n",
       "  \u001b[33mIndexedVecTyp\u001b[39m(Nat.Typ, \u001b[33mSafeLongLong\u001b[39m(\u001b[32m0L\u001b[39m))\n",
       ")"
      ]
     },
     "execution_count": 7,
     "metadata": {},
     "output_type": "execute_result"
    }
   ],
   "source": [
    "NilVec"
   ]
  },
  {
   "cell_type": "code",
   "execution_count": 8,
   "metadata": {
    "collapsed": false
   },
   "outputs": [
    {
     "data": {
      "text/plain": [
       "\u001b[36mres7_0\u001b[39m: \u001b[32mFuncLike\u001b[39m[\u001b[32mNat\u001b[39m, \u001b[32mFunc\u001b[39m[\u001b[32mNat\u001b[39m, \u001b[32mFunc\u001b[39m[\u001b[32mRepTerm\u001b[39m[\u001b[32mVector\u001b[39m[\u001b[32mspire\u001b[39m.\u001b[32mmath\u001b[39m.\u001b[32mSafeLong\u001b[39m]], \u001b[32mRepTerm\u001b[39m[\u001b[32mVector\u001b[39m[\u001b[32mspire\u001b[39m.\u001b[32mmath\u001b[39m.\u001b[32mSafeLong\u001b[39m]]]]] = \u001b[33mExtendedDepFunction\u001b[39m(\n",
       "  provingground.scalahott.VecTyps$$Lambda$2277/394286158@688ada97,\n",
       "  \u001b[33mScalaRepWrap\u001b[39m(\u001b[33mSimpleRep\u001b[39m(Nat.Typ)),\n",
       "  \u001b[33mDepFuncPolyRep\u001b[39m(\n",
       "    \u001b[33mScalaRepWrap\u001b[39m(\u001b[33mSimpleRep\u001b[39m(Nat.Typ)),\n",
       "    \u001b[33mDepFuncPolyRep\u001b[39m(VecPolyRep(), VecPolyRep())\n",
       "  ),\n",
       "  \u001b[33mLambdaFixed\u001b[39m(\n",
       "    \u001b[33mRepSymbObj\u001b[39m(n, Nat.Typ),\n",
       "    \u001b[33mFuncTyp\u001b[39m(\n",
       "      Nat.Typ,\n",
       "      \u001b[33mFuncTyp\u001b[39m(\n",
       "        \u001b[33mSymbScalaTyp\u001b[39m(\n",
       "          \u001b[33mApplnSym\u001b[39m(\n",
       "            \u001b[33mExtendedFunction\u001b[39m(\n",
       "              provingground.scalahott.VecTyps$$Lambda$2272/582082758@6c76fc47,\n",
       "              \u001b[33mSimpleRep\u001b[39m(Nat.Typ),\n",
       "              \u001b[33mIdRep\u001b[39m(ScalaTypUniv())\n",
       "            ),\n",
       "            \u001b[33mRepSymbObj\u001b[39m(n, Nat.Typ)\n",
       "          )\n",
       "        ),\n",
       "        \u001b[33mSymbScalaTyp\u001b[39m(\n",
       "          \u001b[33mApplnSym\u001b[39m(\n",
       "            \u001b[33mExtendedFunction\u001b[39m(\n",
       "              provingground.scalahott.VecTyps$$Lambda$2272/582082758@6c76fc47,\n",
       "              \u001b[33mSimpleRep\u001b[39m(Nat.Typ),\n",
       "              \u001b[33mIdRep\u001b[39m(ScalaTypUniv())\n",
       "            ),\n",
       "            \u001b[33mRepSymbObj\u001b[39m(\n",
       "              \u001b[33mApplnSym\u001b[39m(\u001b[33mAddLiteral\u001b[39m(\u001b[33mSafeLongLong\u001b[39m(\u001b[32m1L\u001b[39m)), \u001b[33mRepSymbObj\u001b[39m(n, Nat.Typ)),\n",
       "              Nat.Typ\n",
       "            )\n",
       "          )\n",
       "        )\n",
       "      )\n",
       "    )\n",
       "  )\n",
       ")\n",
       "\u001b[36mres7_1\u001b[39m: \u001b[32mFunc\u001b[39m[\u001b[32mNat\u001b[39m, \u001b[32mFunc\u001b[39m[\u001b[32mRepTerm\u001b[39m[\u001b[32mVector\u001b[39m[\u001b[32mspire\u001b[39m.\u001b[32mmath\u001b[39m.\u001b[32mSafeLong\u001b[39m]], \u001b[32mRepTerm\u001b[39m[\u001b[32mVector\u001b[39m[\u001b[32mspire\u001b[39m.\u001b[32mmath\u001b[39m.\u001b[32mSafeLong\u001b[39m]]]] = \u001b[33mExtendedFunction\u001b[39m(\n",
       "  provingground.scalahott.VecTyps$$Lambda$2390/41662712@61808682,\n",
       "  \u001b[33mScalaRepWrap\u001b[39m(\u001b[33mSimpleRep\u001b[39m(Nat.Typ)),\n",
       "  \u001b[33mDepFuncPolyRep\u001b[39m(VecPolyRep(), VecPolyRep()),\n",
       "  \u001b[33mFuncTyp\u001b[39m(\n",
       "    Nat.Typ,\n",
       "    \u001b[33mFuncTyp\u001b[39m(\n",
       "      \u001b[33mIndexedVecTyp\u001b[39m(Nat.Typ, \u001b[33mSafeLongLong\u001b[39m(\u001b[32m0L\u001b[39m)),\n",
       "      \u001b[33mIndexedVecTyp\u001b[39m(Nat.Typ, \u001b[33mSafeLongLong\u001b[39m(\u001b[32m1L\u001b[39m))\n",
       "    )\n",
       "  )\n",
       ")\n",
       "\u001b[36mres7_2\u001b[39m: \u001b[32mTyp\u001b[39m[\u001b[32mFunc\u001b[39m[\u001b[32mNat\u001b[39m, \u001b[32mFunc\u001b[39m[\u001b[32mRepTerm\u001b[39m[\u001b[32mVector\u001b[39m[\u001b[32mspire\u001b[39m.\u001b[32mmath\u001b[39m.\u001b[32mSafeLong\u001b[39m]], \u001b[32mRepTerm\u001b[39m[\u001b[32mVector\u001b[39m[\u001b[32mspire\u001b[39m.\u001b[32mmath\u001b[39m.\u001b[32mSafeLong\u001b[39m]]]]] = \u001b[33mFuncTyp\u001b[39m(\n",
       "  Nat.Typ,\n",
       "  \u001b[33mFuncTyp\u001b[39m(\n",
       "    \u001b[33mIndexedVecTyp\u001b[39m(Nat.Typ, \u001b[33mSafeLongLong\u001b[39m(\u001b[32m0L\u001b[39m)),\n",
       "    \u001b[33mIndexedVecTyp\u001b[39m(Nat.Typ, \u001b[33mSafeLongLong\u001b[39m(\u001b[32m1L\u001b[39m))\n",
       "  )\n",
       ")\n",
       "\u001b[36mres7_3\u001b[39m: \u001b[32mspire\u001b[39m.\u001b[32mmath\u001b[39m.\u001b[32mSafeLong\u001b[39m => \u001b[32mVector\u001b[39m[\u001b[32mspire\u001b[39m.\u001b[32mmath\u001b[39m.\u001b[32mSafeLong\u001b[39m] => \u001b[32mVector\u001b[39m[\u001b[32mspire\u001b[39m.\u001b[32mmath\u001b[39m.\u001b[32mSafeLong\u001b[39m] = provingground.scalahott.VecTyps$$Lambda$2390/41662712@61808682"
      ]
     },
     "execution_count": 8,
     "metadata": {},
     "output_type": "execute_result"
    }
   ],
   "source": [
    "cons\n",
    "cons(0)\n",
    "cons(0).typ\n",
    "consFn(0)"
   ]
  },
  {
   "cell_type": "code",
   "execution_count": 9,
   "metadata": {
    "collapsed": false
   },
   "outputs": [
    {
     "data": {
      "text/plain": [
       "\u001b[36mres8\u001b[39m: \u001b[32mRepTerm\u001b[39m[\u001b[32mVector\u001b[39m[\u001b[32mspire\u001b[39m.\u001b[32mmath\u001b[39m.\u001b[32mSafeLong\u001b[39m]] = \u001b[33mRepSymbObj\u001b[39m(\n",
       "  \u001b[33mScalaSymbol\u001b[39m(\u001b[33mVector\u001b[39m(\u001b[33mSafeLongLong\u001b[39m(\u001b[32m2L\u001b[39m))),\n",
       "  \u001b[33mIndexedVecTyp\u001b[39m(Nat.Typ, \u001b[33mSafeLongLong\u001b[39m(\u001b[32m1L\u001b[39m))\n",
       ")"
      ]
     },
     "execution_count": 9,
     "metadata": {},
     "output_type": "execute_result"
    }
   ],
   "source": [
    "cons(0)(2)(NilVec)"
   ]
  },
  {
   "cell_type": "code",
   "execution_count": 10,
   "metadata": {
    "collapsed": false
   },
   "outputs": [
    {
     "data": {
      "text/plain": [
       "\u001b[36mres9\u001b[39m: \u001b[32mRepTerm\u001b[39m[\u001b[32mVector\u001b[39m[\u001b[32mspire\u001b[39m.\u001b[32mmath\u001b[39m.\u001b[32mSafeLong\u001b[39m]] = \u001b[33mRepSymbObj\u001b[39m(\n",
       "  \u001b[33mScalaSymbol\u001b[39m(\u001b[33mVector\u001b[39m(\u001b[33mSafeLongLong\u001b[39m(\u001b[32m3L\u001b[39m), \u001b[33mSafeLongLong\u001b[39m(\u001b[32m2L\u001b[39m))),\n",
       "  \u001b[33mIndexedVecTyp\u001b[39m(Nat.Typ, \u001b[33mSafeLongLong\u001b[39m(\u001b[32m2L\u001b[39m))\n",
       ")"
      ]
     },
     "execution_count": 10,
     "metadata": {},
     "output_type": "execute_result"
    }
   ],
   "source": [
    "cons(1)(3)(cons(0)(2)(NilVec)) !: Vec(2)"
   ]
  },
  {
   "cell_type": "code",
   "execution_count": 11,
   "metadata": {
    "collapsed": false
   },
   "outputs": [
    {
     "data": {
      "text/plain": [
       "\u001b[36mres10\u001b[39m: \u001b[32mRepTerm\u001b[39m[\u001b[32mspire\u001b[39m.\u001b[32mmath\u001b[39m.\u001b[32mSafeLong\u001b[39m] = \u001b[33mRepSymbObj\u001b[39m(\u001b[33mName\u001b[39m(\u001b[32m\"n\"\u001b[39m), Nat.Typ)"
      ]
     },
     "execution_count": 11,
     "metadata": {},
     "output_type": "execute_result"
    }
   ],
   "source": [
    "n"
   ]
  },
  {
   "cell_type": "code",
   "execution_count": 12,
   "metadata": {
    "collapsed": false
   },
   "outputs": [
    {
     "data": {
      "text/plain": [
       "\u001b[36mk\u001b[39m: \u001b[32mRepTerm\u001b[39m[\u001b[32mspire\u001b[39m.\u001b[32mmath\u001b[39m.\u001b[32mSafeLong\u001b[39m] = \u001b[33mRepSymbObj\u001b[39m(\u001b[33mName\u001b[39m(\u001b[32m\"k\"\u001b[39m), Nat.Typ)"
      ]
     },
     "execution_count": 12,
     "metadata": {},
     "output_type": "execute_result"
    }
   ],
   "source": [
    "val k =\"k\" :: NatTyp"
   ]
  },
  {
   "cell_type": "code",
   "execution_count": 13,
   "metadata": {
    "collapsed": false
   },
   "outputs": [
    {
     "data": {
      "text/plain": [
       "\u001b[32mimport \u001b[39m\u001b[36mHoTT._\n",
       "\u001b[39m\n",
       "\u001b[36mg\u001b[39m: \u001b[32mFuncLike\u001b[39m[\u001b[32mRepTerm\u001b[39m[\u001b[32mspire\u001b[39m.\u001b[32mmath\u001b[39m.\u001b[32mSafeLong\u001b[39m], \u001b[32mFunc\u001b[39m[\u001b[32mRepTerm\u001b[39m[\u001b[32mVector\u001b[39m[\u001b[32mspire\u001b[39m.\u001b[32mmath\u001b[39m.\u001b[32mSafeLong\u001b[39m]], \u001b[32mRepTerm\u001b[39m[\u001b[32mVector\u001b[39m[\u001b[32mspire\u001b[39m.\u001b[32mmath\u001b[39m.\u001b[32mSafeLong\u001b[39m]]]] = \u001b[33mLambdaTerm\u001b[39m(\n",
       "  \u001b[33mRepSymbObj\u001b[39m(n, Nat.Typ),\n",
       "  \u001b[33mSymbolicFunc\u001b[39m(\n",
       "    \u001b[33mApplnSym\u001b[39m(\n",
       "      \u001b[33mSymbolicFunc\u001b[39m(\n",
       "        \u001b[33mApplnSym\u001b[39m(\n",
       "          \u001b[33mExtendedDepFunction\u001b[39m(\n",
       "            provingground.scalahott.VecTyps$$Lambda$2277/394286158@688ada97,\n",
       "            \u001b[33mScalaRepWrap\u001b[39m(\u001b[33mSimpleRep\u001b[39m(Nat.Typ)),\n",
       "            \u001b[33mDepFuncPolyRep\u001b[39m(\n",
       "              \u001b[33mScalaRepWrap\u001b[39m(\u001b[33mSimpleRep\u001b[39m(Nat.Typ)),\n",
       "              \u001b[33mDepFuncPolyRep\u001b[39m(VecPolyRep(), VecPolyRep())\n",
       "            ),\n",
       "            \u001b[33mLambdaFixed\u001b[39m(\n",
       "              \u001b[33mRepSymbObj\u001b[39m(n, Nat.Typ),\n",
       "              \u001b[33mFuncTyp\u001b[39m(\n",
       "                Nat.Typ,\n",
       "                \u001b[33mFuncTyp\u001b[39m(\n",
       "                  \u001b[33mSymbScalaTyp\u001b[39m(\n",
       "                    \u001b[33mApplnSym\u001b[39m(\n",
       "                      \u001b[33mExtendedFunction\u001b[39m(\n",
       "                        provingground.scalahott.VecTyps$$Lambda$2272/582082758@6c76fc47,\n",
       "                        \u001b[33mSimpleRep\u001b[39m(Nat.Typ),\n",
       "                        \u001b[33mIdRep\u001b[39m(ScalaTypUniv())\n",
       "                      ),\n",
       "                      \u001b[33mRepSymbObj\u001b[39m(n, Nat.Typ)\n",
       "                    )\n",
       "                  ),\n",
       "                  \u001b[33mSymbScalaTyp\u001b[39m(\n",
       "                    \u001b[33mApplnSym\u001b[39m(\n",
       "                      \u001b[33mExtendedFunction\u001b[39m(\n",
       "                        provingground.scalahott.VecTyps$$Lambda$2272/582082758@6c76fc47,\n",
       "                        \u001b[33mSimpleRep\u001b[39m(Nat.Typ),\n",
       "                        \u001b[33mIdRep\u001b[39m(ScalaTypUniv())\n",
       "                      ),\n",
       "                      \u001b[33mRepSymbObj\u001b[39m(\n",
       "..."
      ]
     },
     "execution_count": 13,
     "metadata": {},
     "output_type": "execute_result"
    }
   ],
   "source": [
    "import HoTT._\n",
    "val g = lambda(n)(cons(n)(succ(n)))"
   ]
  },
  {
   "cell_type": "code",
   "execution_count": 14,
   "metadata": {
    "collapsed": false
   },
   "outputs": [
    {
     "data": {
      "text/plain": [
       "\u001b[36mres13\u001b[39m: \u001b[32mTyp\u001b[39m[\u001b[32mFunc\u001b[39m[\u001b[32mRepTerm\u001b[39m[\u001b[32mVector\u001b[39m[\u001b[32mspire\u001b[39m.\u001b[32mmath\u001b[39m.\u001b[32mSafeLong\u001b[39m]], \u001b[32mRepTerm\u001b[39m[\u001b[32mVector\u001b[39m[\u001b[32mspire\u001b[39m.\u001b[32mmath\u001b[39m.\u001b[32mSafeLong\u001b[39m]]]] = \u001b[33mFuncTyp\u001b[39m(\n",
       "  \u001b[33mIndexedVecTyp\u001b[39m(Nat.Typ, \u001b[33mSafeLongLong\u001b[39m(\u001b[32m1L\u001b[39m)),\n",
       "  \u001b[33mIndexedVecTyp\u001b[39m(Nat.Typ, \u001b[33mSafeLongLong\u001b[39m(\u001b[32m2L\u001b[39m))\n",
       ")"
      ]
     },
     "execution_count": 14,
     "metadata": {},
     "output_type": "execute_result"
    }
   ],
   "source": [
    "g(1).typ"
   ]
  },
  {
   "cell_type": "code",
   "execution_count": 15,
   "metadata": {
    "collapsed": false
   },
   "outputs": [
    {
     "data": {
      "text/plain": [
       "\u001b[36mres14\u001b[39m: \u001b[32mFunc\u001b[39m[\u001b[32mLocalTerm\u001b[39m, \u001b[32mLocalTerm\u001b[39m] = \u001b[33mLambdaFixed\u001b[39m(\n",
       "  \u001b[33mRepSymbObj\u001b[39m(x, Nat.Typ),\n",
       "  \u001b[33mRepSymbObj\u001b[39m(\n",
       "    \u001b[33mApplnSym\u001b[39m(\u001b[33mAddLiteral\u001b[39m(\u001b[33mSafeLongLong\u001b[39m(\u001b[32m1L\u001b[39m)), \u001b[33mRepSymbObj\u001b[39m(x, Nat.Typ)),\n",
       "    Nat.Typ\n",
       "  )\n",
       ")"
      ]
     },
     "execution_count": 15,
     "metadata": {},
     "output_type": "execute_result"
    }
   ],
   "source": [
    "succ"
   ]
  },
  {
   "cell_type": "code",
   "execution_count": 16,
   "metadata": {
    "collapsed": false
   },
   "outputs": [
    {
     "data": {
      "text/plain": [
       "\u001b[36mtypFamily\u001b[39m: \u001b[32mFunc\u001b[39m[\u001b[32mRepTerm\u001b[39m[\u001b[32mspire\u001b[39m.\u001b[32mmath\u001b[39m.\u001b[32mSafeLong\u001b[39m], \u001b[32mTyp\u001b[39m[\u001b[32mRepTerm\u001b[39m[\u001b[32mVector\u001b[39m[\u001b[32mspire\u001b[39m.\u001b[32mmath\u001b[39m.\u001b[32mSafeLong\u001b[39m]]]] = \u001b[33mLambdaFixed\u001b[39m(\n",
       "  \u001b[33mRepSymbObj\u001b[39m(n, Nat.Typ),\n",
       "  \u001b[33mSymbScalaTyp\u001b[39m(\n",
       "    \u001b[33mApplnSym\u001b[39m(\n",
       "      \u001b[33mExtendedFunction\u001b[39m(\n",
       "        provingground.scalahott.VecTyps$$Lambda$2272/582082758@6c76fc47,\n",
       "        \u001b[33mSimpleRep\u001b[39m(Nat.Typ),\n",
       "        \u001b[33mIdRep\u001b[39m(ScalaTypUniv())\n",
       "      ),\n",
       "      \u001b[33mRepSymbObj\u001b[39m(\n",
       "        \u001b[33mApplnSym\u001b[39m(\u001b[33mAddLiteral\u001b[39m(\u001b[33mSafeLongLong\u001b[39m(\u001b[32m1L\u001b[39m)), \u001b[33mRepSymbObj\u001b[39m(n, Nat.Typ)),\n",
       "        Nat.Typ\n",
       "      )\n",
       "    )\n",
       "  )\n",
       ")"
      ]
     },
     "execution_count": 16,
     "metadata": {},
     "output_type": "execute_result"
    }
   ],
   "source": [
    "val typFamily = lmbda(n)(Vec(succ(n)))"
   ]
  },
  {
   "cell_type": "code",
   "execution_count": 17,
   "metadata": {
    "collapsed": false
   },
   "outputs": [
    {
     "data": {
      "text/plain": [
       "\u001b[36minit\u001b[39m: \u001b[32mRepTerm\u001b[39m[\u001b[32mVector\u001b[39m[\u001b[32mspire\u001b[39m.\u001b[32mmath\u001b[39m.\u001b[32mSafeLong\u001b[39m]] = \u001b[33mRepSymbObj\u001b[39m(\n",
       "  \u001b[33mScalaSymbol\u001b[39m(\u001b[33mVector\u001b[39m()),\n",
       "  \u001b[33mIndexedVecTyp\u001b[39m(Nat.Typ, \u001b[33mSafeLongLong\u001b[39m(\u001b[32m0L\u001b[39m))\n",
       ")"
      ]
     },
     "execution_count": 17,
     "metadata": {},
     "output_type": "execute_result"
    }
   ],
   "source": [
    "val init = NilVec"
   ]
  },
  {
   "cell_type": "code",
   "execution_count": 18,
   "metadata": {
    "collapsed": false
   },
   "outputs": [
    {
     "data": {
      "text/plain": [
       "\u001b[36mcountdown\u001b[39m: \u001b[32mInduc\u001b[39m[\u001b[32mRepTerm\u001b[39m[\u001b[32mVector\u001b[39m[\u001b[32mspire\u001b[39m.\u001b[32mmath\u001b[39m.\u001b[32mSafeLong\u001b[39m]]] = \u001b[33mInduc\u001b[39m(\n",
       "  \u001b[33mLambdaFixed\u001b[39m(\n",
       "    \u001b[33mRepSymbObj\u001b[39m(n, Nat.Typ),\n",
       "    \u001b[33mSymbScalaTyp\u001b[39m(\n",
       "      \u001b[33mApplnSym\u001b[39m(\n",
       "        \u001b[33mExtendedFunction\u001b[39m(\n",
       "          provingground.scalahott.VecTyps$$Lambda$2272/582082758@6c76fc47,\n",
       "          \u001b[33mSimpleRep\u001b[39m(Nat.Typ),\n",
       "          \u001b[33mIdRep\u001b[39m(ScalaTypUniv())\n",
       "        ),\n",
       "        \u001b[33mRepSymbObj\u001b[39m(\n",
       "          \u001b[33mApplnSym\u001b[39m(\u001b[33mAddLiteral\u001b[39m(\u001b[33mSafeLongLong\u001b[39m(\u001b[32m1L\u001b[39m)), \u001b[33mRepSymbObj\u001b[39m(n, Nat.Typ)),\n",
       "          Nat.Typ\n",
       "        )\n",
       "      )\n",
       "    )\n",
       "  ),\n",
       "  \u001b[33mRepSymbObj\u001b[39m(\u001b[33mScalaSymbol\u001b[39m(\u001b[33mVector\u001b[39m()), \u001b[33mIndexedVecTyp\u001b[39m(Nat.Typ, \u001b[33mSafeLongLong\u001b[39m(\u001b[32m0L\u001b[39m))),\n",
       "  \u001b[33mLambdaTerm\u001b[39m(\n",
       "    \u001b[33mRepSymbObj\u001b[39m(n, Nat.Typ),\n",
       "    \u001b[33mSymbolicFunc\u001b[39m(\n",
       "      \u001b[33mApplnSym\u001b[39m(\n",
       "        \u001b[33mSymbolicFunc\u001b[39m(\n",
       "          \u001b[33mApplnSym\u001b[39m(\n",
       "            \u001b[33mExtendedDepFunction\u001b[39m(\n",
       "              provingground.scalahott.VecTyps$$Lambda$2277/394286158@688ada97,\n",
       "              \u001b[33mScalaRepWrap\u001b[39m(\u001b[33mSimpleRep\u001b[39m(Nat.Typ)),\n",
       "              \u001b[33mDepFuncPolyRep\u001b[39m(\n",
       "                \u001b[33mScalaRepWrap\u001b[39m(\u001b[33mSimpleRep\u001b[39m(Nat.Typ)),\n",
       "                \u001b[33mDepFuncPolyRep\u001b[39m(VecPolyRep(), VecPolyRep())\n",
       "              ),\n",
       "              \u001b[33mLambdaFixed\u001b[39m(\n",
       "                \u001b[33mRepSymbObj\u001b[39m(n, Nat.Typ),\n",
       "                \u001b[33mFuncTyp\u001b[39m(\n",
       "                  Nat.Typ,\n",
       "                  \u001b[33mFuncTyp\u001b[39m(\n",
       "                    \u001b[33mSymbScalaTyp\u001b[39m(\n",
       "                      \u001b[33mApplnSym\u001b[39m(\n",
       "                        \u001b[33mExtendedFunction\u001b[39m(\n",
       "..."
      ]
     },
     "execution_count": 18,
     "metadata": {},
     "output_type": "execute_result"
    }
   ],
   "source": [
    "val countdown = Induc(typFamily, init, g)"
   ]
  },
  {
   "cell_type": "code",
   "execution_count": 19,
   "metadata": {
    "collapsed": false
   },
   "outputs": [
    {
     "data": {
      "text/plain": [
       "\u001b[36mres18\u001b[39m: \u001b[32mRepTerm\u001b[39m[\u001b[32mVector\u001b[39m[\u001b[32mspire\u001b[39m.\u001b[32mmath\u001b[39m.\u001b[32mSafeLong\u001b[39m]] = \u001b[33mRepSymbObj\u001b[39m(\n",
       "  \u001b[33mScalaSymbol\u001b[39m(\u001b[33mVector\u001b[39m()),\n",
       "  \u001b[33mIndexedVecTyp\u001b[39m(Nat.Typ, \u001b[33mSafeLongLong\u001b[39m(\u001b[32m0L\u001b[39m))\n",
       ")"
      ]
     },
     "execution_count": 19,
     "metadata": {},
     "output_type": "execute_result"
    }
   ],
   "source": [
    "countdown(0)"
   ]
  },
  {
   "cell_type": "code",
   "execution_count": 20,
   "metadata": {
    "collapsed": false
   },
   "outputs": [
    {
     "data": {
      "text/plain": [
       "\u001b[36mres19\u001b[39m: \u001b[32mRepTerm\u001b[39m[\u001b[32mVector\u001b[39m[\u001b[32mspire\u001b[39m.\u001b[32mmath\u001b[39m.\u001b[32mSafeLong\u001b[39m]] = \u001b[33mRepSymbObj\u001b[39m(\n",
       "  \u001b[33mScalaSymbol\u001b[39m(\u001b[33mVector\u001b[39m(\u001b[33mSafeLongLong\u001b[39m(\u001b[32m1L\u001b[39m))),\n",
       "  \u001b[33mIndexedVecTyp\u001b[39m(Nat.Typ, \u001b[33mSafeLongLong\u001b[39m(\u001b[32m1L\u001b[39m))\n",
       ")"
      ]
     },
     "execution_count": 20,
     "metadata": {},
     "output_type": "execute_result"
    }
   ],
   "source": [
    "countdown(1)"
   ]
  },
  {
   "cell_type": "code",
   "execution_count": 21,
   "metadata": {
    "collapsed": false
   },
   "outputs": [
    {
     "data": {
      "text/plain": [
       "\u001b[36mres20_0\u001b[39m: \u001b[32mTyp\u001b[39m[\u001b[32mFunc\u001b[39m[\u001b[32mRepTerm\u001b[39m[\u001b[32mVector\u001b[39m[\u001b[32mspire\u001b[39m.\u001b[32mmath\u001b[39m.\u001b[32mSafeLong\u001b[39m]], \u001b[32mRepTerm\u001b[39m[\u001b[32mVector\u001b[39m[\u001b[32mspire\u001b[39m.\u001b[32mmath\u001b[39m.\u001b[32mSafeLong\u001b[39m]]]] = \u001b[33mFuncTyp\u001b[39m(\n",
       "  \u001b[33mIndexedVecTyp\u001b[39m(Nat.Typ, \u001b[33mSafeLongLong\u001b[39m(\u001b[32m1L\u001b[39m)),\n",
       "  \u001b[33mIndexedVecTyp\u001b[39m(Nat.Typ, \u001b[33mSafeLongLong\u001b[39m(\u001b[32m2L\u001b[39m))\n",
       ")\n",
       "\u001b[36mres20_1\u001b[39m: \u001b[32mTyp\u001b[39m[\u001b[32mFunc\u001b[39m[\u001b[32mRepTerm\u001b[39m[\u001b[32mVector\u001b[39m[\u001b[32mspire\u001b[39m.\u001b[32mmath\u001b[39m.\u001b[32mSafeLong\u001b[39m]], \u001b[32mRepTerm\u001b[39m[\u001b[32mVector\u001b[39m[\u001b[32mspire\u001b[39m.\u001b[32mmath\u001b[39m.\u001b[32mSafeLong\u001b[39m]]]] = \u001b[33mFuncTyp\u001b[39m(\n",
       "  \u001b[33mIndexedVecTyp\u001b[39m(Nat.Typ, \u001b[33mSafeLongLong\u001b[39m(\u001b[32m2L\u001b[39m)),\n",
       "  \u001b[33mIndexedVecTyp\u001b[39m(Nat.Typ, \u001b[33mSafeLongLong\u001b[39m(\u001b[32m3L\u001b[39m))\n",
       ")"
      ]
     },
     "execution_count": 21,
     "metadata": {},
     "output_type": "execute_result"
    }
   ],
   "source": [
    "g(1).typ\n",
    "g(2).typ"
   ]
  },
  {
   "cell_type": "code",
   "execution_count": 22,
   "metadata": {
    "collapsed": false
   },
   "outputs": [
    {
     "data": {
      "text/plain": [
       "\u001b[36mres21\u001b[39m: \u001b[32mRepTerm\u001b[39m[\u001b[32mVector\u001b[39m[\u001b[32mspire\u001b[39m.\u001b[32mmath\u001b[39m.\u001b[32mSafeLong\u001b[39m]] = \u001b[33mRepSymbObj\u001b[39m(\n",
       "  \u001b[33mScalaSymbol\u001b[39m(\u001b[33mVector\u001b[39m(\u001b[33mSafeLongLong\u001b[39m(\u001b[32m2L\u001b[39m), \u001b[33mSafeLongLong\u001b[39m(\u001b[32m1L\u001b[39m))),\n",
       "  \u001b[33mIndexedVecTyp\u001b[39m(Nat.Typ, \u001b[33mSafeLongLong\u001b[39m(\u001b[32m2L\u001b[39m))\n",
       ")"
      ]
     },
     "execution_count": 22,
     "metadata": {},
     "output_type": "execute_result"
    }
   ],
   "source": [
    "countdown(2)"
   ]
  },
  {
   "cell_type": "code",
   "execution_count": 23,
   "metadata": {
    "collapsed": false
   },
   "outputs": [
    {
     "data": {
      "text/plain": [
       "\u001b[36mres22\u001b[39m: \u001b[32mRepTerm\u001b[39m[\u001b[32mVector\u001b[39m[\u001b[32mspire\u001b[39m.\u001b[32mmath\u001b[39m.\u001b[32mSafeLong\u001b[39m]] = \u001b[33mRepSymbObj\u001b[39m(\n",
       "  \u001b[33mScalaSymbol\u001b[39m(\n",
       "    \u001b[33mVector\u001b[39m(\n",
       "      \u001b[33mSafeLongLong\u001b[39m(\u001b[32m10L\u001b[39m),\n",
       "      \u001b[33mSafeLongLong\u001b[39m(\u001b[32m9L\u001b[39m),\n",
       "      \u001b[33mSafeLongLong\u001b[39m(\u001b[32m8L\u001b[39m),\n",
       "      \u001b[33mSafeLongLong\u001b[39m(\u001b[32m7L\u001b[39m),\n",
       "      \u001b[33mSafeLongLong\u001b[39m(\u001b[32m6L\u001b[39m),\n",
       "      \u001b[33mSafeLongLong\u001b[39m(\u001b[32m5L\u001b[39m),\n",
       "      \u001b[33mSafeLongLong\u001b[39m(\u001b[32m4L\u001b[39m),\n",
       "      \u001b[33mSafeLongLong\u001b[39m(\u001b[32m3L\u001b[39m),\n",
       "      \u001b[33mSafeLongLong\u001b[39m(\u001b[32m2L\u001b[39m),\n",
       "      \u001b[33mSafeLongLong\u001b[39m(\u001b[32m1L\u001b[39m)\n",
       "    )\n",
       "  ),\n",
       "  \u001b[33mIndexedVecTyp\u001b[39m(Nat.Typ, \u001b[33mSafeLongLong\u001b[39m(\u001b[32m10L\u001b[39m))\n",
       ")"
      ]
     },
     "execution_count": 23,
     "metadata": {},
     "output_type": "execute_result"
    }
   ],
   "source": [
    "countdown(10)"
   ]
  }
 ],
 "metadata": {
  "kernelspec": {
   "display_name": "Scala",
   "language": "scala",
   "name": "scala"
  },
  "language_info": {
   "codemirror_mode": "text/x-scala",
   "file_extension": ".scala",
   "mimetype": "text/x-scala",
   "name": "scala",
   "nbconvert_exporter": "script",
   "version": "2.12.8"
  }
 },
 "nbformat": 4,
 "nbformat_minor": 2
}
