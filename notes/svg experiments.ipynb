{
 "cells": [
  {
   "cell_type": "code",
   "execution_count": 26,
   "metadata": {
    "collapsed": false
   },
   "outputs": [
    {
     "data": {
      "text/html": [
       "<div> Hello World </div>"
      ]
     },
     "metadata": {},
     "output_type": "display_data"
    },
    {
     "data": {
      "text/plain": []
     },
     "metadata": {},
     "output_type": "display_data"
    }
   ],
   "source": [
    "display.html(<div> Hello World </div>)"
   ]
  },
  {
   "cell_type": "code",
   "execution_count": 27,
   "metadata": {
    "collapsed": false
   },
   "outputs": [
    {
     "data": {
      "text/html": [
       "<div><i> In Quotes </i> </div>"
      ]
     },
     "metadata": {},
     "output_type": "display_data"
    },
    {
     "data": {
      "text/plain": []
     },
     "metadata": {},
     "output_type": "display_data"
    }
   ],
   "source": [
    "display.html(\"<div><i> In Quotes </i> </div>\")"
   ]
  },
  {
   "cell_type": "code",
   "execution_count": 28,
   "metadata": {
    "collapsed": false
   },
   "outputs": [
    {
     "data": {
      "text/plain": [
       "\u001b[36msvg\u001b[0m: \u001b[32mString\u001b[0m = \u001b[32m\"\"\"\n",
       "<svg version=\"1.1\"\n",
       "     baseProfile=\"full\"\n",
       "     width=\"300\" height=\"200\"\n",
       "     xmlns=\"http://www.w3.org/2000/svg\">\n",
       "\n",
       "  <rect width=\"100%\" height=\"100%\" fill=\"red\" />\n",
       "\n",
       "  <circle cx=\"150\" cy=\"100\" r=\"80\" fill=\"green\" />\n",
       "\n",
       "  <text x=\"150\" y=\"125\" font-size=\"60\" text-anchor=\"middle\" fill=\"white\">SVG</text>\n",
       "\n",
       "</svg>\n",
       "\"\"\"\u001b[0m"
      ]
     },
     "metadata": {},
     "output_type": "display_data"
    }
   ],
   "source": [
    "val svg = \"\"\"<svg version=\"1.1\"\n",
    "     baseProfile=\"full\"\n",
    "     width=\"300\" height=\"200\"\n",
    "     xmlns=\"http://www.w3.org/2000/svg\">\n",
    "\n",
    "  <rect width=\"100%\" height=\"100%\" fill=\"red\" />\n",
    "\n",
    "  <circle cx=\"150\" cy=\"100\" r=\"80\" fill=\"green\" />\n",
    "\n",
    "  <text x=\"150\" y=\"125\" font-size=\"60\" text-anchor=\"middle\" fill=\"white\">SVG</text>\n",
    "\n",
    "</svg>\"\"\""
   ]
  },
  {
   "cell_type": "code",
   "execution_count": 29,
   "metadata": {
    "collapsed": false
   },
   "outputs": [
    {
     "data": {
      "text/html": [
       "<svg version=\"1.1\"\n",
       "     baseProfile=\"full\"\n",
       "     width=\"300\" height=\"200\"\n",
       "     xmlns=\"http://www.w3.org/2000/svg\">\n",
       "\n",
       "  <rect width=\"100%\" height=\"100%\" fill=\"red\" />\n",
       "\n",
       "  <circle cx=\"150\" cy=\"100\" r=\"80\" fill=\"green\" />\n",
       "\n",
       "  <text x=\"150\" y=\"125\" font-size=\"60\" text-anchor=\"middle\" fill=\"white\">SVG</text>\n",
       "\n",
       "</svg>"
      ]
     },
     "metadata": {},
     "output_type": "display_data"
    },
    {
     "data": {
      "text/plain": []
     },
     "metadata": {},
     "output_type": "display_data"
    }
   ],
   "source": [
    "display.html(svg)"
   ]
  },
  {
   "cell_type": "code",
   "execution_count": 30,
   "metadata": {
    "collapsed": false
   },
   "outputs": [
    {
     "data": {
      "image/svg+xml": [
       "<svg version=\"1.1\"\n",
       "     baseProfile=\"full\"\n",
       "     width=\"300\" height=\"200\"\n",
       "     xmlns=\"http://www.w3.org/2000/svg\">\n",
       "\n",
       "  <rect width=\"100%\" height=\"100%\" fill=\"red\" />\n",
       "\n",
       "  <circle cx=\"150\" cy=\"100\" r=\"80\" fill=\"green\" />\n",
       "\n",
       "  <text x=\"150\" y=\"125\" font-size=\"60\" text-anchor=\"middle\" fill=\"white\">SVG</text>\n",
       "\n",
       "</svg>"
      ]
     },
     "metadata": {},
     "output_type": "display_data"
    },
    {
     "data": {
      "text/plain": []
     },
     "metadata": {},
     "output_type": "display_data"
    }
   ],
   "source": [
    "display.svg(svg)"
   ]
  },
  {
   "cell_type": "code",
   "execution_count": 31,
   "metadata": {
    "collapsed": false
   },
   "outputs": [
    {
     "data": {
      "text/latex": [
       "x^2 + y^2 = 1"
      ]
     },
     "metadata": {},
     "output_type": "display_data"
    },
    {
     "data": {
      "text/plain": []
     },
     "metadata": {},
     "output_type": "display_data"
    }
   ],
   "source": [
    "display.latex(\"x^2 + y^2 = 1\")"
   ]
  },
  {
   "cell_type": "code",
   "execution_count": 32,
   "metadata": {
    "collapsed": false
   },
   "outputs": [
    {
     "data": {
      "text/plain": []
     },
     "metadata": {},
     "output_type": "display_data"
    }
   ],
   "source": [
    "load.jar(\"/home/gadgil/code/ProvingGround/core/.jvm/target/scala-2.11/ProvingGround-Core-assembly-0.8.jar\")"
   ]
  },
  {
   "cell_type": "code",
   "execution_count": 33,
   "metadata": {
    "collapsed": false
   },
   "outputs": [
    {
     "data": {
      "text/plain": [
       "\u001b[32mimport \u001b[36mprovingground._\u001b[0m"
      ]
     },
     "metadata": {},
     "output_type": "display_data"
    }
   ],
   "source": [
    "import provingground._"
   ]
  },
  {
   "cell_type": "code",
   "execution_count": 34,
   "metadata": {
    "collapsed": false
   },
   "outputs": [
    {
     "data": {
      "text/plain": [
       "\u001b[36mcvs\u001b[0m: \u001b[32mSvgPlot\u001b[0m = provingground.SvgPlot@5659f91e\n",
       "\u001b[36mplot\u001b[0m: \u001b[32mSvgPlot\u001b[0m = provingground.SvgPlot@5659f91e"
      ]
     },
     "metadata": {},
     "output_type": "display_data"
    }
   ],
   "source": [
    "val cvs = new SvgPlot(400, 200)\n",
    "val plot = cvs"
   ]
  },
  {
   "cell_type": "code",
   "execution_count": 35,
   "metadata": {
    "collapsed": false
   },
   "outputs": [
    {
     "data": {
      "text/plain": [
       "\u001b[36max\u001b[0m: \u001b[32mxml\u001b[0m.\u001b[32mElem\u001b[0m = \u001b[33mElem\u001b[0m(\n",
       "  <svg width=\"400\" height=\"200\"><line x1=\"0\" y1=\"100\" x2=\"400\" y2=\"100\" stroke=\"blue\" stroke-width=\"2\"/><line x1=\"200\" y1=\"200\" x2=\"200\" y2=\"0\" stroke=\"blue\" stroke-width=\"2\"/></svg>\n",
       ")"
      ]
     },
     "metadata": {},
     "output_type": "display_data"
    }
   ],
   "source": [
    "val ax = cvs.plot(cvs.axes)"
   ]
  },
  {
   "cell_type": "code",
   "execution_count": 36,
   "metadata": {
    "collapsed": false
   },
   "outputs": [
    {
     "data": {
      "text/html": [
       "<svg width=\"400\" height=\"200\"><line x1=\"0\" y1=\"100\" x2=\"400\" y2=\"100\" stroke=\"blue\" stroke-width=\"2\"/><line x1=\"200\" y1=\"200\" x2=\"200\" y2=\"0\" stroke=\"blue\" stroke-width=\"2\"/></svg>"
      ]
     },
     "metadata": {},
     "output_type": "display_data"
    },
    {
     "data": {
      "text/plain": []
     },
     "metadata": {},
     "output_type": "display_data"
    }
   ],
   "source": [
    "display.html(ax)"
   ]
  },
  {
   "cell_type": "code",
   "execution_count": 37,
   "metadata": {
    "collapsed": false
   },
   "outputs": [
    {
     "data": {
      "image/svg+xml": [
       "<svg width=\"400\" height=\"200\"><line x1=\"0\" y1=\"100\" x2=\"400\" y2=\"100\" stroke=\"blue\" stroke-width=\"2\"/><line x1=\"200\" y1=\"200\" x2=\"200\" y2=\"0\" stroke=\"blue\" stroke-width=\"2\"/></svg>"
      ]
     },
     "metadata": {},
     "output_type": "display_data"
    },
    {
     "data": {
      "text/plain": []
     },
     "metadata": {},
     "output_type": "display_data"
    }
   ],
   "source": [
    "display.svg(ax.toString)"
   ]
  },
  {
   "cell_type": "code",
   "execution_count": 38,
   "metadata": {
    "collapsed": false
   },
   "outputs": [
    {
     "data": {
      "text/plain": [
       "\u001b[36mres20\u001b[0m: \u001b[32mInt\u001b[0m = \u001b[32m100\u001b[0m"
      ]
     },
     "metadata": {},
     "output_type": "display_data"
    }
   ],
   "source": [
    "plot.yval(0)"
   ]
  },
  {
   "cell_type": "code",
   "execution_count": 39,
   "metadata": {
    "collapsed": false
   },
   "outputs": [
    {
     "data": {
      "text/plain": [
       "\u001b[36mres21\u001b[0m: \u001b[32mList\u001b[0m[\u001b[32mxml\u001b[0m.\u001b[32mElem\u001b[0m] = \u001b[33mList\u001b[0m(\n",
       "  \u001b[33mElem\u001b[0m(<line x1=\"0\" y1=\"100\" x2=\"400\" y2=\"100\" stroke=\"blue\" stroke-width=\"2\"/>),\n",
       "  \u001b[33mElem\u001b[0m(<line x1=\"200\" y1=\"200\" x2=\"200\" y2=\"0\" stroke=\"blue\" stroke-width=\"2\"/>)\n",
       ")"
      ]
     },
     "metadata": {},
     "output_type": "display_data"
    }
   ],
   "source": [
    "plot.axes"
   ]
  },
  {
   "cell_type": "code",
   "execution_count": 40,
   "metadata": {
    "collapsed": false
   },
   "outputs": [
    {
     "data": {
      "text/plain": [
       "\u001b[32mimport \u001b[36mcvs._\u001b[0m"
      ]
     },
     "metadata": {},
     "output_type": "display_data"
    }
   ],
   "source": [
    "import cvs._"
   ]
  },
  {
   "cell_type": "code",
   "execution_count": 41,
   "metadata": {
    "collapsed": false
   },
   "outputs": [
    {
     "data": {
      "text/plain": [
       "\u001b[36mres23\u001b[0m: \u001b[32mList\u001b[0m[\u001b[32mxml\u001b[0m.\u001b[32mElem\u001b[0m] = \u001b[33mList\u001b[0m(\n",
       "  \u001b[33mElem\u001b[0m(<line x1=\"0\" y1=\"100\" x2=\"400\" y2=\"100\" stroke=\"blue\" stroke-width=\"2\"/>),\n",
       "  \u001b[33mElem\u001b[0m(<line x1=\"200\" y1=\"200\" x2=\"200\" y2=\"0\" stroke=\"blue\" stroke-width=\"2\"/>)\n",
       ")"
      ]
     },
     "metadata": {},
     "output_type": "display_data"
    }
   ],
   "source": [
    "axes"
   ]
  },
  {
   "cell_type": "code",
   "execution_count": null,
   "metadata": {
    "collapsed": false
   },
   "outputs": [],
   "source": []
  },
  {
   "cell_type": "code",
   "execution_count": 42,
   "metadata": {
    "collapsed": false
   },
   "outputs": [
    {
     "data": {
      "text/plain": [
       "\u001b[36mpl\u001b[0m: \u001b[32mxml\u001b[0m.\u001b[32mElem\u001b[0m = \u001b[33mElem\u001b[0m(<polyline points=\"200,100 300,0 400,0\"/>)"
      ]
     },
     "metadata": {},
     "output_type": "display_data"
    }
   ],
   "source": [
    "val pl = polyline((0, 0), (100, 100), (200, 100))"
   ]
  },
  {
   "cell_type": "code",
   "execution_count": 43,
   "metadata": {
    "collapsed": false
   },
   "outputs": [
    {
     "data": {
      "text/html": [
       "<svg width=\"400\" height=\"200\"><polyline points=\"200,100 300,0 400,0\"/></svg>"
      ]
     },
     "metadata": {},
     "output_type": "display_data"
    },
    {
     "data": {
      "text/plain": []
     },
     "metadata": {},
     "output_type": "display_data"
    }
   ],
   "source": [
    "display.html(plot(pl))"
   ]
  },
  {
   "cell_type": "code",
   "execution_count": 44,
   "metadata": {
    "collapsed": false
   },
   "outputs": [
    {
     "data": {
      "text/plain": [
       "\u001b[36mpoint\u001b[0m: \u001b[32mcollection\u001b[0m.\u001b[32mimmutable\u001b[0m.\u001b[32mIndexedSeq\u001b[0m[(\u001b[32mDouble\u001b[0m, \u001b[32mDouble\u001b[0m)] = \u001b[33mVector\u001b[0m(\n",
       "  \u001b[33m\u001b[0m(\u001b[32m1.0\u001b[0m, \u001b[32m50.0\u001b[0m),\n",
       "  \u001b[33m\u001b[0m(\u001b[32m2.0\u001b[0m, \u001b[32m50.0\u001b[0m),\n",
       "  \u001b[33m\u001b[0m(\u001b[32m3.0\u001b[0m, \u001b[32m50.0\u001b[0m),\n",
       "  \u001b[33m\u001b[0m(\u001b[32m4.0\u001b[0m, \u001b[32m50.0\u001b[0m),\n",
       "  \u001b[33m\u001b[0m(\u001b[32m5.0\u001b[0m, \u001b[32m50.0\u001b[0m),\n",
       "  \u001b[33m\u001b[0m(\u001b[32m6.0\u001b[0m, \u001b[32m50.0\u001b[0m),\n",
       "  \u001b[33m\u001b[0m(\u001b[32m7.0\u001b[0m, \u001b[32m50.0\u001b[0m),\n",
       "  \u001b[33m\u001b[0m(\u001b[32m8.0\u001b[0m, \u001b[32m50.0\u001b[0m),\n",
       "  \u001b[33m\u001b[0m(\u001b[32m9.0\u001b[0m, \u001b[32m50.0\u001b[0m),\n",
       "  \u001b[33m\u001b[0m(\u001b[32m10.0\u001b[0m, \u001b[32m50.0\u001b[0m),\n",
       "  \u001b[33m\u001b[0m(\u001b[32m11.0\u001b[0m, \u001b[32m50.0\u001b[0m),\n",
       "  \u001b[33m\u001b[0m(\u001b[32m12.0\u001b[0m, \u001b[32m50.0\u001b[0m),\n",
       "  \u001b[33m\u001b[0m(\u001b[32m13.0\u001b[0m, \u001b[32m50.0\u001b[0m),\n",
       "  \u001b[33m\u001b[0m(\u001b[32m14.0\u001b[0m, \u001b[32m50.0\u001b[0m),\n",
       "\u001b[33m...\u001b[0m"
      ]
     },
     "metadata": {},
     "output_type": "display_data"
    }
   ],
   "source": [
    "val point = (1 to 100) map ((x) => (x : Double, math.max(x, 50): Double))"
   ]
  },
  {
   "cell_type": "code",
   "execution_count": 45,
   "metadata": {
    "collapsed": false
   },
   "outputs": [
    {
     "data": {
      "text/plain": [
       "\u001b[36mg\u001b[0m: \u001b[32mSeq\u001b[0m[\u001b[32mxml\u001b[0m.\u001b[32mElem\u001b[0m] = \u001b[33mVector\u001b[0m(\n",
       "  \u001b[33mElem\u001b[0m(<line x1=\"201\" y1=\"50\" x2=\"202\" y2=\"50\" stroke=\"blue\" stroke-width=\"2\"/>),\n",
       "  \u001b[33mElem\u001b[0m(<line x1=\"202\" y1=\"50\" x2=\"203\" y2=\"50\" stroke=\"blue\" stroke-width=\"2\"/>),\n",
       "  \u001b[33mElem\u001b[0m(<line x1=\"203\" y1=\"50\" x2=\"204\" y2=\"50\" stroke=\"blue\" stroke-width=\"2\"/>),\n",
       "  \u001b[33mElem\u001b[0m(<line x1=\"204\" y1=\"50\" x2=\"205\" y2=\"50\" stroke=\"blue\" stroke-width=\"2\"/>),\n",
       "  \u001b[33mElem\u001b[0m(<line x1=\"205\" y1=\"50\" x2=\"206\" y2=\"50\" stroke=\"blue\" stroke-width=\"2\"/>),\n",
       "  \u001b[33mElem\u001b[0m(<line x1=\"206\" y1=\"50\" x2=\"207\" y2=\"50\" stroke=\"blue\" stroke-width=\"2\"/>),\n",
       "  \u001b[33mElem\u001b[0m(<line x1=\"207\" y1=\"50\" x2=\"208\" y2=\"50\" stroke=\"blue\" stroke-width=\"2\"/>),\n",
       "  \u001b[33mElem\u001b[0m(<line x1=\"208\" y1=\"50\" x2=\"209\" y2=\"50\" stroke=\"blue\" stroke-width=\"2\"/>),\n",
       "  \u001b[33mElem\u001b[0m(<line x1=\"209\" y1=\"50\" x2=\"210\" y2=\"50\" stroke=\"blue\" stroke-width=\"2\"/>),\n",
       "  \u001b[33mElem\u001b[0m(<line x1=\"210\" y1=\"50\" x2=\"211\" y2=\"50\" stroke=\"blue\" stroke-width=\"2\"/>),\n",
       "  \u001b[33mElem\u001b[0m(<line x1=\"211\" y1=\"50\" x2=\"212\" y2=\"50\" stroke=\"blue\" stroke-width=\"2\"/>),\n",
       "  \u001b[33mElem\u001b[0m(<line x1=\"212\" y1=\"50\" x2=\"213\" y2=\"50\" stroke=\"blue\" stroke-width=\"2\"/>),\n",
       "  \u001b[33mElem\u001b[0m(<line x1=\"213\" y1=\"50\" x2=\"214\" y2=\"50\" stroke=\"blue\" stroke-width=\"2\"/>),\n",
       "  \u001b[33mElem\u001b[0m(<line x1=\"214\" y1=\"50\" x2=\"215\" y2=\"50\" stroke=\"blue\" stroke-width=\"2\"/>),\n",
       "\u001b[33m...\u001b[0m"
      ]
     },
     "metadata": {},
     "output_type": "display_data"
    }
   ],
   "source": [
    "val g = graph(point)"
   ]
  },
  {
   "cell_type": "code",
   "execution_count": 46,
   "metadata": {
    "collapsed": false
   },
   "outputs": [
    {
     "data": {
      "text/plain": [
       "\u001b[36mpg\u001b[0m: \u001b[32mxml\u001b[0m.\u001b[32mElem\u001b[0m = \u001b[33mElem\u001b[0m(\n",
       "  <svg width=\"400\" height=\"200\"><line x1=\"201\" y1=\"50\" x2=\"202\" y2=\"50\" stroke=\"blue\" stroke-width=\"2\"/><line x1=\"202\" y1=\"50\" x2=\"203\" y2=\"50\" stroke=\"blue\" stroke-width=\"2\"/><line x1=\"203\" y1=\"50\" x2=\"204\" y2=\"50\" stroke=\"blue\" stroke-width=\"2\"/><line x1=\"204\" y1=\"50\" x2=\"205\" y2=\"50\" stroke=\"blue\" stroke-width=\"2\"/><line x1=\"205\" y1=\"50\" x2=\"206\" y2=\"50\" stroke=\"blue\" stroke-width=\"2\"/><line x1=\"206\" y1=\"50\" x2=\"207\" y2=\"50\" stroke=\"blue\" stroke-width=\"2\"/><line x1=\"207\" y1=\"50\" x2=\"208\" y2=\"50\" stroke=\"blue\" stroke-width=\"2\"/><line x1=\"208\" y1=\"50\" x2=\"209\" y2=\"50\" stroke=\"blue\" stroke-width=\"2\"/><line x1=\"209\" y1=\"50\" x2=\"210\" y2=\"50\" stroke=\"blue\" stroke-width=\"2\"/><line x1=\"210\" y1=\"50\" x2=\"211\" y2=\"50\" stroke=\"blue\" stroke-width=\"2\"/><line x1=\"211\" y1=\"50\" x2=\"212\" y2=\"50\" stroke=\"blue\" stroke-width=\"2\"/><line x1=\"212\" y1=\"50\" x2=\"213\" y2=\"50\" stroke=\"blue\" stroke-width=\"2\"/><line x1=\"213\" y1=\"50\" x2=\"214\" y2=\"50\" stroke=\"blue\" stroke-width=\"2\"/><line x1=\"214\" y1=\"50\" x2=\"215\" y2=\"50\" stroke=\"blue\" stroke-width=\"2\"/><line x1=\"215\" y1=\"50\" x2=\"216\" y2=\"50\" stroke=\"blue\" stroke-width=\"2\"/><line x1=\"216\" y1=\"50\" x2=\"217\" y2=\"50\" stroke=\"blue\" stroke-width=\"2\"/><line x1=\"217\" y1=\"50\" x2=\"218\" y2=\"50\" stroke=\"blue\" stroke-width=\"2\"/><line x1=\"218\" y1=\"50\" x2=\"219\" y2=\"50\" stroke=\"blue\" stroke-width=\"2\"/><line x1=\"219\" y1=\"50\" x2=\"220\" y2=\"50\" stroke=\"blue\" stroke-width=\"2\"/>\u001b[33m...\u001b[0m"
      ]
     },
     "metadata": {},
     "output_type": "display_data"
    }
   ],
   "source": [
    "val pg = plot(g)"
   ]
  },
  {
   "cell_type": "code",
   "execution_count": 47,
   "metadata": {
    "collapsed": false
   },
   "outputs": [
    {
     "data": {
      "image/svg+xml": [
       "<svg width=\"400\" height=\"200\"><line x1=\"201\" y1=\"50\" x2=\"202\" y2=\"50\" stroke=\"blue\" stroke-width=\"2\"/><line x1=\"202\" y1=\"50\" x2=\"203\" y2=\"50\" stroke=\"blue\" stroke-width=\"2\"/><line x1=\"203\" y1=\"50\" x2=\"204\" y2=\"50\" stroke=\"blue\" stroke-width=\"2\"/><line x1=\"204\" y1=\"50\" x2=\"205\" y2=\"50\" stroke=\"blue\" stroke-width=\"2\"/><line x1=\"205\" y1=\"50\" x2=\"206\" y2=\"50\" stroke=\"blue\" stroke-width=\"2\"/><line x1=\"206\" y1=\"50\" x2=\"207\" y2=\"50\" stroke=\"blue\" stroke-width=\"2\"/><line x1=\"207\" y1=\"50\" x2=\"208\" y2=\"50\" stroke=\"blue\" stroke-width=\"2\"/><line x1=\"208\" y1=\"50\" x2=\"209\" y2=\"50\" stroke=\"blue\" stroke-width=\"2\"/><line x1=\"209\" y1=\"50\" x2=\"210\" y2=\"50\" stroke=\"blue\" stroke-width=\"2\"/><line x1=\"210\" y1=\"50\" x2=\"211\" y2=\"50\" stroke=\"blue\" stroke-width=\"2\"/><line x1=\"211\" y1=\"50\" x2=\"212\" y2=\"50\" stroke=\"blue\" stroke-width=\"2\"/><line x1=\"212\" y1=\"50\" x2=\"213\" y2=\"50\" stroke=\"blue\" stroke-width=\"2\"/><line x1=\"213\" y1=\"50\" x2=\"214\" y2=\"50\" stroke=\"blue\" stroke-width=\"2\"/><line x1=\"214\" y1=\"50\" x2=\"215\" y2=\"50\" stroke=\"blue\" stroke-width=\"2\"/><line x1=\"215\" y1=\"50\" x2=\"216\" y2=\"50\" stroke=\"blue\" stroke-width=\"2\"/><line x1=\"216\" y1=\"50\" x2=\"217\" y2=\"50\" stroke=\"blue\" stroke-width=\"2\"/><line x1=\"217\" y1=\"50\" x2=\"218\" y2=\"50\" stroke=\"blue\" stroke-width=\"2\"/><line x1=\"218\" y1=\"50\" x2=\"219\" y2=\"50\" stroke=\"blue\" stroke-width=\"2\"/><line x1=\"219\" y1=\"50\" x2=\"220\" y2=\"50\" stroke=\"blue\" stroke-width=\"2\"/><line x1=\"220\" y1=\"50\" x2=\"221\" y2=\"50\" stroke=\"blue\" stroke-width=\"2\"/><line x1=\"221\" y1=\"50\" x2=\"222\" y2=\"50\" stroke=\"blue\" stroke-width=\"2\"/><line x1=\"222\" y1=\"50\" x2=\"223\" y2=\"50\" stroke=\"blue\" stroke-width=\"2\"/><line x1=\"223\" y1=\"50\" x2=\"224\" y2=\"50\" stroke=\"blue\" stroke-width=\"2\"/><line x1=\"224\" y1=\"50\" x2=\"225\" y2=\"50\" stroke=\"blue\" stroke-width=\"2\"/><line x1=\"225\" y1=\"50\" x2=\"226\" y2=\"50\" stroke=\"blue\" stroke-width=\"2\"/><line x1=\"226\" y1=\"50\" x2=\"227\" y2=\"50\" stroke=\"blue\" stroke-width=\"2\"/><line x1=\"227\" y1=\"50\" x2=\"228\" y2=\"50\" stroke=\"blue\" stroke-width=\"2\"/><line x1=\"228\" y1=\"50\" x2=\"229\" y2=\"50\" stroke=\"blue\" stroke-width=\"2\"/><line x1=\"229\" y1=\"50\" x2=\"230\" y2=\"50\" stroke=\"blue\" stroke-width=\"2\"/><line x1=\"230\" y1=\"50\" x2=\"231\" y2=\"50\" stroke=\"blue\" stroke-width=\"2\"/><line x1=\"231\" y1=\"50\" x2=\"232\" y2=\"50\" stroke=\"blue\" stroke-width=\"2\"/><line x1=\"232\" y1=\"50\" x2=\"233\" y2=\"50\" stroke=\"blue\" stroke-width=\"2\"/><line x1=\"233\" y1=\"50\" x2=\"234\" y2=\"50\" stroke=\"blue\" stroke-width=\"2\"/><line x1=\"234\" y1=\"50\" x2=\"235\" y2=\"50\" stroke=\"blue\" stroke-width=\"2\"/><line x1=\"235\" y1=\"50\" x2=\"236\" y2=\"50\" stroke=\"blue\" stroke-width=\"2\"/><line x1=\"236\" y1=\"50\" x2=\"237\" y2=\"50\" stroke=\"blue\" stroke-width=\"2\"/><line x1=\"237\" y1=\"50\" x2=\"238\" y2=\"50\" stroke=\"blue\" stroke-width=\"2\"/><line x1=\"238\" y1=\"50\" x2=\"239\" y2=\"50\" stroke=\"blue\" stroke-width=\"2\"/><line x1=\"239\" y1=\"50\" x2=\"240\" y2=\"50\" stroke=\"blue\" stroke-width=\"2\"/><line x1=\"240\" y1=\"50\" x2=\"241\" y2=\"50\" stroke=\"blue\" stroke-width=\"2\"/><line x1=\"241\" y1=\"50\" x2=\"242\" y2=\"50\" stroke=\"blue\" stroke-width=\"2\"/><line x1=\"242\" y1=\"50\" x2=\"243\" y2=\"50\" stroke=\"blue\" stroke-width=\"2\"/><line x1=\"243\" y1=\"50\" x2=\"244\" y2=\"50\" stroke=\"blue\" stroke-width=\"2\"/><line x1=\"244\" y1=\"50\" x2=\"245\" y2=\"50\" stroke=\"blue\" stroke-width=\"2\"/><line x1=\"245\" y1=\"50\" x2=\"246\" y2=\"50\" stroke=\"blue\" stroke-width=\"2\"/><line x1=\"246\" y1=\"50\" x2=\"247\" y2=\"50\" stroke=\"blue\" stroke-width=\"2\"/><line x1=\"247\" y1=\"50\" x2=\"248\" y2=\"50\" stroke=\"blue\" stroke-width=\"2\"/><line x1=\"248\" y1=\"50\" x2=\"249\" y2=\"50\" stroke=\"blue\" stroke-width=\"2\"/><line x1=\"249\" y1=\"50\" x2=\"250\" y2=\"50\" stroke=\"blue\" stroke-width=\"2\"/><line x1=\"250\" y1=\"50\" x2=\"251\" y2=\"49\" stroke=\"blue\" stroke-width=\"2\"/><line x1=\"251\" y1=\"49\" x2=\"252\" y2=\"48\" stroke=\"blue\" stroke-width=\"2\"/><line x1=\"252\" y1=\"48\" x2=\"253\" y2=\"47\" stroke=\"blue\" stroke-width=\"2\"/><line x1=\"253\" y1=\"47\" x2=\"254\" y2=\"46\" stroke=\"blue\" stroke-width=\"2\"/><line x1=\"254\" y1=\"46\" x2=\"255\" y2=\"45\" stroke=\"blue\" stroke-width=\"2\"/><line x1=\"255\" y1=\"45\" x2=\"256\" y2=\"44\" stroke=\"blue\" stroke-width=\"2\"/><line x1=\"256\" y1=\"44\" x2=\"257\" y2=\"43\" stroke=\"blue\" stroke-width=\"2\"/><line x1=\"257\" y1=\"43\" x2=\"258\" y2=\"42\" stroke=\"blue\" stroke-width=\"2\"/><line x1=\"258\" y1=\"42\" x2=\"259\" y2=\"41\" stroke=\"blue\" stroke-width=\"2\"/><line x1=\"259\" y1=\"41\" x2=\"260\" y2=\"40\" stroke=\"blue\" stroke-width=\"2\"/><line x1=\"260\" y1=\"40\" x2=\"261\" y2=\"39\" stroke=\"blue\" stroke-width=\"2\"/><line x1=\"261\" y1=\"39\" x2=\"262\" y2=\"38\" stroke=\"blue\" stroke-width=\"2\"/><line x1=\"262\" y1=\"38\" x2=\"263\" y2=\"37\" stroke=\"blue\" stroke-width=\"2\"/><line x1=\"263\" y1=\"37\" x2=\"264\" y2=\"36\" stroke=\"blue\" stroke-width=\"2\"/><line x1=\"264\" y1=\"36\" x2=\"265\" y2=\"35\" stroke=\"blue\" stroke-width=\"2\"/><line x1=\"265\" y1=\"35\" x2=\"266\" y2=\"34\" stroke=\"blue\" stroke-width=\"2\"/><line x1=\"266\" y1=\"34\" x2=\"267\" y2=\"33\" stroke=\"blue\" stroke-width=\"2\"/><line x1=\"267\" y1=\"33\" x2=\"268\" y2=\"32\" stroke=\"blue\" stroke-width=\"2\"/><line x1=\"268\" y1=\"32\" x2=\"269\" y2=\"31\" stroke=\"blue\" stroke-width=\"2\"/><line x1=\"269\" y1=\"31\" x2=\"270\" y2=\"30\" stroke=\"blue\" stroke-width=\"2\"/><line x1=\"270\" y1=\"30\" x2=\"271\" y2=\"29\" stroke=\"blue\" stroke-width=\"2\"/><line x1=\"271\" y1=\"29\" x2=\"272\" y2=\"28\" stroke=\"blue\" stroke-width=\"2\"/><line x1=\"272\" y1=\"28\" x2=\"273\" y2=\"27\" stroke=\"blue\" stroke-width=\"2\"/><line x1=\"273\" y1=\"27\" x2=\"274\" y2=\"26\" stroke=\"blue\" stroke-width=\"2\"/><line x1=\"274\" y1=\"26\" x2=\"275\" y2=\"25\" stroke=\"blue\" stroke-width=\"2\"/><line x1=\"275\" y1=\"25\" x2=\"276\" y2=\"24\" stroke=\"blue\" stroke-width=\"2\"/><line x1=\"276\" y1=\"24\" x2=\"277\" y2=\"23\" stroke=\"blue\" stroke-width=\"2\"/><line x1=\"277\" y1=\"23\" x2=\"278\" y2=\"22\" stroke=\"blue\" stroke-width=\"2\"/><line x1=\"278\" y1=\"22\" x2=\"279\" y2=\"21\" stroke=\"blue\" stroke-width=\"2\"/><line x1=\"279\" y1=\"21\" x2=\"280\" y2=\"20\" stroke=\"blue\" stroke-width=\"2\"/><line x1=\"280\" y1=\"20\" x2=\"281\" y2=\"19\" stroke=\"blue\" stroke-width=\"2\"/><line x1=\"281\" y1=\"19\" x2=\"282\" y2=\"18\" stroke=\"blue\" stroke-width=\"2\"/><line x1=\"282\" y1=\"18\" x2=\"283\" y2=\"17\" stroke=\"blue\" stroke-width=\"2\"/><line x1=\"283\" y1=\"17\" x2=\"284\" y2=\"16\" stroke=\"blue\" stroke-width=\"2\"/><line x1=\"284\" y1=\"16\" x2=\"285\" y2=\"15\" stroke=\"blue\" stroke-width=\"2\"/><line x1=\"285\" y1=\"15\" x2=\"286\" y2=\"14\" stroke=\"blue\" stroke-width=\"2\"/><line x1=\"286\" y1=\"14\" x2=\"287\" y2=\"13\" stroke=\"blue\" stroke-width=\"2\"/><line x1=\"287\" y1=\"13\" x2=\"288\" y2=\"12\" stroke=\"blue\" stroke-width=\"2\"/><line x1=\"288\" y1=\"12\" x2=\"289\" y2=\"11\" stroke=\"blue\" stroke-width=\"2\"/><line x1=\"289\" y1=\"11\" x2=\"290\" y2=\"10\" stroke=\"blue\" stroke-width=\"2\"/><line x1=\"290\" y1=\"10\" x2=\"291\" y2=\"9\" stroke=\"blue\" stroke-width=\"2\"/><line x1=\"291\" y1=\"9\" x2=\"292\" y2=\"8\" stroke=\"blue\" stroke-width=\"2\"/><line x1=\"292\" y1=\"8\" x2=\"293\" y2=\"7\" stroke=\"blue\" stroke-width=\"2\"/><line x1=\"293\" y1=\"7\" x2=\"294\" y2=\"6\" stroke=\"blue\" stroke-width=\"2\"/><line x1=\"294\" y1=\"6\" x2=\"295\" y2=\"5\" stroke=\"blue\" stroke-width=\"2\"/><line x1=\"295\" y1=\"5\" x2=\"296\" y2=\"4\" stroke=\"blue\" stroke-width=\"2\"/><line x1=\"296\" y1=\"4\" x2=\"297\" y2=\"3\" stroke=\"blue\" stroke-width=\"2\"/><line x1=\"297\" y1=\"3\" x2=\"298\" y2=\"2\" stroke=\"blue\" stroke-width=\"2\"/><line x1=\"298\" y1=\"2\" x2=\"299\" y2=\"1\" stroke=\"blue\" stroke-width=\"2\"/><line x1=\"299\" y1=\"1\" x2=\"300\" y2=\"0\" stroke=\"blue\" stroke-width=\"2\"/></svg>"
      ]
     },
     "metadata": {},
     "output_type": "display_data"
    },
    {
     "data": {
      "text/plain": []
     },
     "metadata": {},
     "output_type": "display_data"
    }
   ],
   "source": [
    "display.svg(pg)"
   ]
  },
  {
   "cell_type": "code",
   "execution_count": 48,
   "metadata": {
    "collapsed": false
   },
   "outputs": [
    {
     "data": {
      "text/plain": [
       "\u001b[36mcirc\u001b[0m: \u001b[32mxml\u001b[0m.\u001b[32mElem\u001b[0m = \u001b[33mElem\u001b[0m(<circle cx=\"200\" cy=\"100\" r=\"20.0\" stroke=\"red\" stroke-width=\"2\"/>)"
      ]
     },
     "metadata": {},
     "output_type": "display_data"
    }
   ],
   "source": [
    "val circ = circle(0, 0, 20, \"red\")"
   ]
  },
  {
   "cell_type": "code",
   "execution_count": 49,
   "metadata": {
    "collapsed": false
   },
   "outputs": [
    {
     "data": {
      "text/plain": [
       "\u001b[36mpic\u001b[0m: \u001b[32mxml\u001b[0m.\u001b[32mElem\u001b[0m = \u001b[33mElem\u001b[0m(\n",
       "  <svg width=\"400\" height=\"200\"><circle cx=\"200\" cy=\"100\" r=\"20.0\" stroke=\"red\" stroke-width=\"2\"/><line x1=\"0\" y1=\"100\" x2=\"400\" y2=\"100\" stroke=\"blue\" stroke-width=\"2\"/><line x1=\"200\" y1=\"200\" x2=\"200\" y2=\"0\" stroke=\"blue\" stroke-width=\"2\"/></svg>\n",
       ")"
      ]
     },
     "metadata": {},
     "output_type": "display_data"
    }
   ],
   "source": [
    "val pic = plot(circ :: axes)"
   ]
  },
  {
   "cell_type": "code",
   "execution_count": 50,
   "metadata": {
    "collapsed": false
   },
   "outputs": [
    {
     "data": {
      "text/html": [
       "<svg width=\"400\" height=\"200\"><circle cx=\"200\" cy=\"100\" r=\"20.0\" stroke=\"red\" stroke-width=\"2\"/><line x1=\"0\" y1=\"100\" x2=\"400\" y2=\"100\" stroke=\"blue\" stroke-width=\"2\"/><line x1=\"200\" y1=\"200\" x2=\"200\" y2=\"0\" stroke=\"blue\" stroke-width=\"2\"/></svg>"
      ]
     },
     "metadata": {},
     "output_type": "display_data"
    },
    {
     "data": {
      "text/plain": []
     },
     "metadata": {},
     "output_type": "display_data"
    }
   ],
   "source": [
    "display.html(pic)"
   ]
  }
 ],
 "metadata": {
  "kernelspec": {
   "display_name": "Scala 2.11",
   "language": "scala211",
   "name": "scala211"
  },
  "language_info": {
   "codemirror_mode": "text/x-scala",
   "file_extension": ".scala",
   "mimetype": "text/x-scala",
   "name": "scala211",
   "pygments_lexer": "scala",
   "version": "2.11.6"
  }
 },
 "nbformat": 4,
 "nbformat_minor": 0
}
