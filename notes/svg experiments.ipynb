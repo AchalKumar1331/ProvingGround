{
 "cells": [
  {
   "cell_type": "code",
   "execution_count": 1,
   "metadata": {
    "collapsed": false
   },
   "outputs": [
    {
     "data": {
      "text/html": [
       "<div> Hello World </div>"
      ]
     },
     "metadata": {},
     "output_type": "display_data"
    },
    {
     "data": {
      "text/plain": []
     },
     "metadata": {},
     "output_type": "display_data"
    }
   ],
   "source": [
    "display.html(<div> Hello World </div>)"
   ]
  },
  {
   "cell_type": "code",
   "execution_count": 2,
   "metadata": {
    "collapsed": false
   },
   "outputs": [
    {
     "data": {
      "text/html": [
       "<div><i> In Quotes </i> </div>"
      ]
     },
     "metadata": {},
     "output_type": "display_data"
    },
    {
     "data": {
      "text/plain": []
     },
     "metadata": {},
     "output_type": "display_data"
    }
   ],
   "source": [
    "display.html(\"<div><i> In Quotes </i> </div>\")"
   ]
  },
  {
   "cell_type": "code",
   "execution_count": 3,
   "metadata": {
    "collapsed": false
   },
   "outputs": [
    {
     "data": {
      "text/plain": [
       "\u001b[36msvg\u001b[0m: \u001b[32mString\u001b[0m = \u001b[32m\"\"\"\n",
       "<svg version=\"1.1\"\n",
       "     baseProfile=\"full\"\n",
       "     width=\"300\" height=\"200\"\n",
       "     xmlns=\"http://www.w3.org/2000/svg\">\n",
       "\n",
       "  <rect width=\"100%\" height=\"100%\" fill=\"red\" />\n",
       "\n",
       "  <circle cx=\"150\" cy=\"100\" r=\"80\" fill=\"green\" />\n",
       "\n",
       "  <text x=\"150\" y=\"125\" font-size=\"60\" text-anchor=\"middle\" fill=\"white\">SVG</text>\n",
       "\n",
       "</svg>\n",
       "\"\"\"\u001b[0m"
      ]
     },
     "metadata": {},
     "output_type": "display_data"
    }
   ],
   "source": [
    "val svg = \"\"\"<svg version=\"1.1\"\n",
    "     baseProfile=\"full\"\n",
    "     width=\"300\" height=\"200\"\n",
    "     xmlns=\"http://www.w3.org/2000/svg\">\n",
    "\n",
    "  <rect width=\"100%\" height=\"100%\" fill=\"red\" />\n",
    "\n",
    "  <circle cx=\"150\" cy=\"100\" r=\"80\" fill=\"green\" />\n",
    "\n",
    "  <text x=\"150\" y=\"125\" font-size=\"60\" text-anchor=\"middle\" fill=\"white\">SVG</text>\n",
    "\n",
    "</svg>\"\"\""
   ]
  },
  {
   "cell_type": "code",
   "execution_count": 4,
   "metadata": {
    "collapsed": false
   },
   "outputs": [
    {
     "data": {
      "text/html": [
       "<svg version=\"1.1\"\n",
       "     baseProfile=\"full\"\n",
       "     width=\"300\" height=\"200\"\n",
       "     xmlns=\"http://www.w3.org/2000/svg\">\n",
       "\n",
       "  <rect width=\"100%\" height=\"100%\" fill=\"red\" />\n",
       "\n",
       "  <circle cx=\"150\" cy=\"100\" r=\"80\" fill=\"green\" />\n",
       "\n",
       "  <text x=\"150\" y=\"125\" font-size=\"60\" text-anchor=\"middle\" fill=\"white\">SVG</text>\n",
       "\n",
       "</svg>"
      ]
     },
     "metadata": {},
     "output_type": "display_data"
    },
    {
     "data": {
      "text/plain": []
     },
     "metadata": {},
     "output_type": "display_data"
    }
   ],
   "source": [
    "display.html(svg)"
   ]
  },
  {
   "cell_type": "code",
   "execution_count": 5,
   "metadata": {
    "collapsed": false
   },
   "outputs": [
    {
     "data": {
      "image/svg+xml": [
       "<svg version=\"1.1\"\n",
       "     baseProfile=\"full\"\n",
       "     width=\"300\" height=\"200\"\n",
       "     xmlns=\"http://www.w3.org/2000/svg\">\n",
       "\n",
       "  <rect width=\"100%\" height=\"100%\" fill=\"red\" />\n",
       "\n",
       "  <circle cx=\"150\" cy=\"100\" r=\"80\" fill=\"green\" />\n",
       "\n",
       "  <text x=\"150\" y=\"125\" font-size=\"60\" text-anchor=\"middle\" fill=\"white\">SVG</text>\n",
       "\n",
       "</svg>"
      ]
     },
     "metadata": {},
     "output_type": "display_data"
    },
    {
     "data": {
      "text/plain": []
     },
     "metadata": {},
     "output_type": "display_data"
    }
   ],
   "source": [
    "display.svg(svg)"
   ]
  },
  {
   "cell_type": "code",
   "execution_count": 6,
   "metadata": {
    "collapsed": false
   },
   "outputs": [
    {
     "data": {
      "text/latex": [
       "x^2 + y^2 = 1"
      ]
     },
     "metadata": {},
     "output_type": "display_data"
    },
    {
     "data": {
      "text/plain": []
     },
     "metadata": {},
     "output_type": "display_data"
    }
   ],
   "source": [
    "display.latex(\"x^2 + y^2 = 1\")"
   ]
  },
  {
   "cell_type": "code",
   "execution_count": 7,
   "metadata": {
    "collapsed": false
   },
   "outputs": [
    {
     "ename": "",
     "evalue": "",
     "output_type": "error",
     "traceback": [
      "java.io.FileNotFoundException: /home/gadgil/code/ProvingGround/core/.jvm/target/scala-2.11/ProvingGround-Core-assembly-0.8.jar",
      "\tammonite.interpreter.Load.fileFor(Load.scala:101)",
      "\tammonite.interpreter.Load$$anonfun$4.apply(Load.scala:107)",
      "\tammonite.interpreter.Load$$anonfun$4.apply(Load.scala:107)",
      "\tscala.collection.TraversableLike$$anonfun$map$1.apply(TraversableLike.scala:245)",
      "\tscala.collection.TraversableLike$$anonfun$map$1.apply(TraversableLike.scala:245)",
      "\tscala.collection.mutable.ResizableArray$class.foreach(ResizableArray.scala:59)",
      "\tscala.collection.mutable.ArrayBuffer.foreach(ArrayBuffer.scala:48)",
      "\tscala.collection.TraversableLike$class.map(TraversableLike.scala:245)",
      "\tscala.collection.AbstractTraversable.map(Traversable.scala:104)",
      "\tammonite.interpreter.Load.jar(Load.scala:107)",
      "\tcmd6$$user$$anonfun$1.apply$mcV$sp(Main.scala:60)"
     ]
    }
   ],
   "source": [
    "load.jar(\"/home/gadgil/code/ProvingGround/core/.jvm/target/scala-2.11/ProvingGround-Core-assembly-0.8.jar\")"
   ]
  },
  {
   "cell_type": "code",
   "execution_count": 8,
   "metadata": {
    "collapsed": false
   },
   "outputs": [
    {
     "ename": "",
     "evalue": "",
     "output_type": "error",
     "traceback": [
      "Compilation Failed",
      "\u001b[31mMain.scala:59: not found: value provingground",
      "                import provingground._",
      "                       ^\u001b[0m"
     ]
    }
   ],
   "source": [
    "import provingground._"
   ]
  },
  {
   "cell_type": "code",
   "execution_count": 9,
   "metadata": {
    "collapsed": false
   },
   "outputs": [
    {
     "ename": "",
     "evalue": "",
     "output_type": "error",
     "traceback": [
      "Compilation Failed",
      "\u001b[31mMain.scala:60: not found: type SvgPlot",
      "new SvgPlot(400, 200) ",
      "    ^\u001b[0m"
     ]
    }
   ],
   "source": [
    "val cvs = new SvgPlot(400, 200)\n",
    "val plot = cvs"
   ]
  },
  {
   "cell_type": "code",
   "execution_count": 10,
   "metadata": {
    "collapsed": false
   },
   "outputs": [
    {
     "ename": "",
     "evalue": "",
     "output_type": "error",
     "traceback": [
      "Compilation Failed",
      "\u001b[31mMain.scala:60: not found: value cvs",
      "cvs.plot(cvs.axes) ",
      "^\u001b[0m",
      "\u001b[31mMain.scala:60: not found: value cvs",
      "cvs.plot(cvs.axes) ",
      "         ^\u001b[0m"
     ]
    }
   ],
   "source": [
    "val ax = cvs.plot(cvs.axes)"
   ]
  },
  {
   "cell_type": "code",
   "execution_count": 11,
   "metadata": {
    "collapsed": false
   },
   "outputs": [
    {
     "ename": "",
     "evalue": "",
     "output_type": "error",
     "traceback": [
      "Compilation Failed",
      "\u001b[31mMain.scala:61: not found: value ax",
      "display.html(ax)",
      "             ^\u001b[0m"
     ]
    }
   ],
   "source": [
    "display.html(ax)"
   ]
  },
  {
   "cell_type": "code",
   "execution_count": 12,
   "metadata": {
    "collapsed": false
   },
   "outputs": [
    {
     "ename": "",
     "evalue": "",
     "output_type": "error",
     "traceback": [
      "Compilation Failed",
      "\u001b[31mMain.scala:61: not found: value ax",
      "display.svg(ax.toString)",
      "            ^\u001b[0m"
     ]
    }
   ],
   "source": [
    "display.svg(ax.toString)"
   ]
  },
  {
   "cell_type": "code",
   "execution_count": 13,
   "metadata": {
    "collapsed": false
   },
   "outputs": [
    {
     "ename": "",
     "evalue": "",
     "output_type": "error",
     "traceback": [
      "Compilation Failed",
      "\u001b[31mMain.scala:60: not found: value plot",
      "plot.yval(0)",
      "^\u001b[0m"
     ]
    }
   ],
   "source": [
    "plot.yval(0)"
   ]
  },
  {
   "cell_type": "code",
   "execution_count": 14,
   "metadata": {
    "collapsed": false
   },
   "outputs": [
    {
     "ename": "",
     "evalue": "",
     "output_type": "error",
     "traceback": [
      "Compilation Failed",
      "\u001b[31mMain.scala:60: not found: value plot",
      "plot.axes",
      "^\u001b[0m"
     ]
    }
   ],
   "source": [
    "plot.axes"
   ]
  },
  {
   "cell_type": "code",
   "execution_count": 15,
   "metadata": {
    "collapsed": false
   },
   "outputs": [
    {
     "ename": "",
     "evalue": "",
     "output_type": "error",
     "traceback": [
      "Compilation Failed",
      "\u001b[31mMain.scala:59: not found: value cvs",
      "                import cvs._",
      "                       ^\u001b[0m"
     ]
    }
   ],
   "source": [
    "import cvs._"
   ]
  },
  {
   "cell_type": "code",
   "execution_count": 16,
   "metadata": {
    "collapsed": false
   },
   "outputs": [
    {
     "ename": "",
     "evalue": "",
     "output_type": "error",
     "traceback": [
      "Compilation Failed",
      "\u001b[31mMain.scala:60: not found: value axes",
      "axes",
      "^\u001b[0m"
     ]
    }
   ],
   "source": [
    "axes"
   ]
  },
  {
   "cell_type": "code",
   "execution_count": null,
   "metadata": {
    "collapsed": false
   },
   "outputs": [],
   "source": []
  },
  {
   "cell_type": "code",
   "execution_count": 17,
   "metadata": {
    "collapsed": false
   },
   "outputs": [
    {
     "ename": "",
     "evalue": "",
     "output_type": "error",
     "traceback": [
      "Compilation Failed",
      "\u001b[31mMain.scala:60: not found: value polyline",
      "polyline((0, 0), (100, 100), (200, 100)) ",
      "^\u001b[0m"
     ]
    }
   ],
   "source": [
    "val pl = polyline((0, 0), (100, 100), (200, 100))"
   ]
  },
  {
   "cell_type": "code",
   "execution_count": 18,
   "metadata": {
    "collapsed": false
   },
   "outputs": [
    {
     "ename": "",
     "evalue": "",
     "output_type": "error",
     "traceback": [
      "Compilation Failed",
      "\u001b[31mMain.scala:61: not found: value plot",
      "display.html(plot(pl))",
      "             ^\u001b[0m",
      "\u001b[31mMain.scala:61: not found: value pl",
      "display.html(plot(pl))",
      "                  ^\u001b[0m"
     ]
    }
   ],
   "source": [
    "display.html(plot(pl))"
   ]
  },
  {
   "cell_type": "code",
   "execution_count": 19,
   "metadata": {
    "collapsed": false
   },
   "outputs": [
    {
     "data": {
      "text/plain": [
       "\u001b[36mpoint\u001b[0m: \u001b[32mcollection\u001b[0m.\u001b[32mimmutable\u001b[0m.\u001b[32mIndexedSeq\u001b[0m[(\u001b[32mDouble\u001b[0m, \u001b[32mDouble\u001b[0m)] = \u001b[33mVector\u001b[0m(\n",
       "  \u001b[33m\u001b[0m(\u001b[32m1.0\u001b[0m, \u001b[32m50.0\u001b[0m),\n",
       "  \u001b[33m\u001b[0m(\u001b[32m2.0\u001b[0m, \u001b[32m50.0\u001b[0m),\n",
       "  \u001b[33m\u001b[0m(\u001b[32m3.0\u001b[0m, \u001b[32m50.0\u001b[0m),\n",
       "  \u001b[33m\u001b[0m(\u001b[32m4.0\u001b[0m, \u001b[32m50.0\u001b[0m),\n",
       "  \u001b[33m\u001b[0m(\u001b[32m5.0\u001b[0m, \u001b[32m50.0\u001b[0m),\n",
       "  \u001b[33m\u001b[0m(\u001b[32m6.0\u001b[0m, \u001b[32m50.0\u001b[0m),\n",
       "  \u001b[33m\u001b[0m(\u001b[32m7.0\u001b[0m, \u001b[32m50.0\u001b[0m),\n",
       "  \u001b[33m\u001b[0m(\u001b[32m8.0\u001b[0m, \u001b[32m50.0\u001b[0m),\n",
       "  \u001b[33m\u001b[0m(\u001b[32m9.0\u001b[0m, \u001b[32m50.0\u001b[0m),\n",
       "  \u001b[33m\u001b[0m(\u001b[32m10.0\u001b[0m, \u001b[32m50.0\u001b[0m),\n",
       "  \u001b[33m\u001b[0m(\u001b[32m11.0\u001b[0m, \u001b[32m50.0\u001b[0m),\n",
       "  \u001b[33m\u001b[0m(\u001b[32m12.0\u001b[0m, \u001b[32m50.0\u001b[0m),\n",
       "  \u001b[33m\u001b[0m(\u001b[32m13.0\u001b[0m, \u001b[32m50.0\u001b[0m),\n",
       "  \u001b[33m\u001b[0m(\u001b[32m14.0\u001b[0m, \u001b[32m50.0\u001b[0m),\n",
       "\u001b[33m...\u001b[0m"
      ]
     },
     "metadata": {},
     "output_type": "display_data"
    }
   ],
   "source": [
    "val point = (1 to 100) map ((x) => (x : Double, math.max(x, 50): Double))"
   ]
  },
  {
   "cell_type": "code",
   "execution_count": 20,
   "metadata": {
    "collapsed": false
   },
   "outputs": [
    {
     "ename": "",
     "evalue": "",
     "output_type": "error",
     "traceback": [
      "Compilation Failed",
      "\u001b[31mMain.scala:63: not found: value graph",
      "graph(point) ",
      "^\u001b[0m"
     ]
    }
   ],
   "source": [
    "val g = graph(point)"
   ]
  },
  {
   "cell_type": "code",
   "execution_count": 21,
   "metadata": {
    "collapsed": false
   },
   "outputs": [
    {
     "ename": "",
     "evalue": "",
     "output_type": "error",
     "traceback": [
      "Compilation Failed",
      "\u001b[31mMain.scala:62: not found: value plot",
      "plot(g) ",
      "^\u001b[0m",
      "\u001b[31mMain.scala:62: not found: value g",
      "plot(g) ",
      "     ^\u001b[0m"
     ]
    }
   ],
   "source": [
    "val pg = plot(g)"
   ]
  },
  {
   "cell_type": "code",
   "execution_count": 22,
   "metadata": {
    "collapsed": false
   },
   "outputs": [
    {
     "ename": "",
     "evalue": "",
     "output_type": "error",
     "traceback": [
      "Compilation Failed",
      "\u001b[31mMain.scala:63: not found: value pg",
      "display.svg(pg)",
      "            ^\u001b[0m"
     ]
    }
   ],
   "source": [
    "display.svg(pg)"
   ]
  },
  {
   "cell_type": "code",
   "execution_count": 23,
   "metadata": {
    "collapsed": false
   },
   "outputs": [
    {
     "ename": "",
     "evalue": "",
     "output_type": "error",
     "traceback": [
      "Compilation Failed",
      "\u001b[31mMain.scala:62: not found: value circle",
      "circle(0, 0, 20, \"red\") ",
      "^\u001b[0m"
     ]
    }
   ],
   "source": [
    "val circ = circle(0, 0, 20, \"red\")"
   ]
  },
  {
   "cell_type": "code",
   "execution_count": 24,
   "metadata": {
    "collapsed": false
   },
   "outputs": [
    {
     "ename": "",
     "evalue": "",
     "output_type": "error",
     "traceback": [
      "Compilation Failed",
      "\u001b[31mMain.scala:62: not found: value plot",
      "plot(circ :: axes) ",
      "^\u001b[0m",
      "\u001b[31mMain.scala:62: not found: value circ",
      "plot(circ :: axes) ",
      "     ^\u001b[0m",
      "\u001b[31mMain.scala:62: not found: value axes",
      "plot(circ :: axes) ",
      "             ^\u001b[0m"
     ]
    }
   ],
   "source": [
    "val pic = plot(circ :: axes)"
   ]
  },
  {
   "cell_type": "code",
   "execution_count": 25,
   "metadata": {
    "collapsed": false
   },
   "outputs": [
    {
     "ename": "",
     "evalue": "",
     "output_type": "error",
     "traceback": [
      "Compilation Failed",
      "\u001b[31mMain.scala:63: not found: value pic",
      "display.html(pic)",
      "             ^\u001b[0m"
     ]
    }
   ],
   "source": [
    "display.html(pic)"
   ]
  }
 ],
 "metadata": {
  "kernelspec": {
   "display_name": "Scala 2.11",
   "language": "scala211",
   "name": "scala211"
  },
  "language_info": {
   "codemirror_mode": "text/x-scala",
   "file_extension": ".scala",
   "mimetype": "text/x-scala",
   "name": "scala211",
   "pygments_lexer": "scala",
   "version": "2.11.6"
  }
 },
 "nbformat": 4,
 "nbformat_minor": 0
}
